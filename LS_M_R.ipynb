{
 "cells": [
  {
   "cell_type": "code",
   "execution_count": null,
   "metadata": {},
   "outputs": [],
   "source": [
    "import pandas as pd, numpy as np, ast, re, pickle, ast\n",
    "np.random.seed(42)"
   ]
  },
  {
   "cell_type": "code",
   "execution_count": null,
   "metadata": {},
   "outputs": [],
   "source": [
    "def parse_np_array(array_string, as_nparray=True):\n",
    "    pattern = r'''# Match (mandatory) whitespace between...\n",
    "              (?<=\\]) # ] and\n",
    "              \\s+\n",
    "              (?= \\[) # [, or\n",
    "              |\n",
    "              (?<=[^\\[\\]\\s]) \n",
    "              \\s+\n",
    "              (?= [^\\[\\]\\s]) # two non-bracket non-whitespace characters\n",
    "           '''\n",
    "    fixed_string = re.sub(pattern, ',', array_string, flags=re.VERBOSE)\n",
    "    if as_nparray:\n",
    "        return np.array(ast.literal_eval(fixed_string))\n",
    "    return ast.literal_eval(fixed_string)"
   ]
  },
  {
   "cell_type": "code",
   "execution_count": null,
   "metadata": {},
   "outputs": [],
   "source": [
    "df = pd.read_csv(\"datasets/LMS_r_merged_reviews_per_movie_language_score.csv\")\n",
    "df[\"merged_reviews_vector\"] = df[\"merged_reviews_vector\"].apply(lambda x: parse_np_array(x) if type(x) == str and \"[\" in x else None)\n",
    "df.head(5)"
   ]
  },
  {
   "cell_type": "code",
   "execution_count": null,
   "metadata": {},
   "outputs": [],
   "source": [
    "df.groupby([\"Language\",\"Score\"]).count()"
   ]
  },
  {
   "cell_type": "markdown",
   "metadata": {},
   "source": [
    "## Merging all movies with the same score for each language"
   ]
  },
  {
   "cell_type": "code",
   "execution_count": null,
   "metadata": {},
   "outputs": [],
   "source": [
    "def merging_function(frame):\n",
    "    return np.mean(frame[\"merged_reviews_vector\"])"
   ]
  },
  {
   "cell_type": "code",
   "execution_count": null,
   "metadata": {},
   "outputs": [],
   "source": [
    "merged_by_lang_and_movies = df.groupby([\"Language\",\"Score\"], as_index=False).apply(merging_function).to_frame()\n",
    "merged_by_lang_and_movies"
   ]
  },
  {
   "cell_type": "code",
   "execution_count": null,
   "metadata": {},
   "outputs": [],
   "source": [
    "merged_by_lang_and_movies.reset_index(inplace=True)"
   ]
  },
  {
   "cell_type": "code",
   "execution_count": null,
   "metadata": {},
   "outputs": [],
   "source": [
    "\"There are {} movies\".format(len(df.groupby(\"Movie_ID\")))"
   ]
  },
  {
   "cell_type": "markdown",
   "metadata": {},
   "source": [
    "# Minimizing the distance between Score vectors in different languages"
   ]
  },
  {
   "cell_type": "code",
   "execution_count": null,
   "metadata": {},
   "outputs": [],
   "source": [
    "def mikolov(X, Y, W):\n",
    "    # min_W  for each i    ||W.x(i) - y(i)||^2\n",
    "    result = 0\n",
    "    for score in range(len(X)):\n",
    "        result += np.linalg.norm(W.dot(X[score]) - Y[score])**2\n",
    "    return result"
   ]
  },
  {
   "cell_type": "code",
   "execution_count": null,
   "metadata": {},
   "outputs": [],
   "source": [
    "en_revs = dict()\n",
    "tr_revs = dict()\n",
    "for movie in df.set_index(\"Movie_ID\").iterrows():\n",
    "    vec = movie[1][\"merged_reviews_vector\"]\n",
    "    lang = movie[1][\"Language\"]\n",
    "    score = movie[1][\"Score\"]\n",
    "    if lang == \"en\":\n",
    "        en_revs[score] = vec\n",
    "    else:\n",
    "        tr_revs[score] = vec"
   ]
  },
  {
   "cell_type": "code",
   "execution_count": null,
   "metadata": {},
   "outputs": [],
   "source": [
    "def learn_translation_matrix(X,Y, iterations=5000, alpha=0.0001, alpha_change_rate=0.8):\n",
    "    W = np.random.random((300, 300))\n",
    "    for i in range(iterations+1):\n",
    "        gradient = np.zeros(300)\n",
    "        for score in range(len(X)):\n",
    "            error = X[score].dot(W) - Y[score]\n",
    "            gradient += alpha * np.gradient(error)\n",
    "        W += gradient\n",
    "        if i == 2000:\n",
    "            alpha /= 100\n",
    "\n",
    "        if i%1000 == 0:\n",
    "            alpha *= alpha_change_rate\n",
    "            print(\"Mikolov distance: {}\".format(mikolov(X, Y, W)))\n",
    "    return W"
   ]
  },
  {
   "cell_type": "code",
   "execution_count": null,
   "metadata": {},
   "outputs": [],
   "source": [
    "scores = sorted([i for i in tr_revs.keys() if i in en_revs.keys()])"
   ]
  },
  {
   "cell_type": "code",
   "execution_count": null,
   "metadata": {},
   "outputs": [],
   "source": [
    "En_score_vecs = np.array([en_revs[sv] for sv in scores])  # English score vectors\n",
    "Tr_score_vecs = np.array([tr_revs[sv] for sv in scores])  # Turkish score vectors"
   ]
  },
  {
   "cell_type": "code",
   "execution_count": null,
   "metadata": {},
   "outputs": [],
   "source": [
    "W = learn_translation_matrix(En_score_vecs, Tr_score_vecs)"
   ]
  },
  {
   "cell_type": "markdown",
   "metadata": {},
   "source": [
    "# Merging score vectors across languages"
   ]
  },
  {
   "cell_type": "code",
   "execution_count": null,
   "metadata": {},
   "outputs": [],
   "source": [
    "def merge_cross_lingual_score_vectors(En_score_vecs, Tr_score_vecs, scores):\n",
    "    labeled_vecs = dict()\n",
    "    for score in range(len(scores)):\n",
    "        labeled_vecs[scores[score]] = np.mean(\\\n",
    "            np.array(\\\n",
    "                [En_score_vecs[score].dot(W), Tr_score_vecs[score]]\\\n",
    "                    ), axis=0)\n",
    "    return labeled_vecs"
   ]
  },
  {
   "cell_type": "code",
   "execution_count": null,
   "metadata": {},
   "outputs": [],
   "source": [
    "labeled_vecs = merge_cross_lingual_score_vectors(En_score_vecs, Tr_score_vecs, scores)"
   ]
  },
  {
   "cell_type": "code",
   "execution_count": null,
   "metadata": {},
   "outputs": [],
   "source": [
    "pickle.dump(labeled_vecs, open(\"score_vectors_dict\", \"wb\"))"
   ]
  },
  {
   "cell_type": "code",
   "execution_count": null,
   "metadata": {},
   "outputs": [],
   "source": []
  }
 ],
 "metadata": {
  "kernelspec": {
   "display_name": "Python 3",
   "language": "python",
   "name": "python3"
  },
  "language_info": {
   "codemirror_mode": {
    "name": "ipython",
    "version": 3
   },
   "file_extension": ".py",
   "mimetype": "text/x-python",
   "name": "python",
   "nbconvert_exporter": "python",
   "pygments_lexer": "ipython3",
   "version": "3.5.2"
  }
 },
 "nbformat": 4,
 "nbformat_minor": 2
}
