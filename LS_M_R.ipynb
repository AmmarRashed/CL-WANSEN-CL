{
 "cells": [
  {
   "cell_type": "code",
   "execution_count": 1,
   "metadata": {},
   "outputs": [],
   "source": [
    "import pandas as pd, numpy as np, ast, re, pickle, ast\n",
    "np.random.seed(42)"
   ]
  },
  {
   "cell_type": "code",
   "execution_count": 2,
   "metadata": {},
   "outputs": [],
   "source": [
    "def parse_np_array(array_string, as_nparray=True):\n",
    "    pattern = r'''# Match (mandatory) whitespace between...\n",
    "              (?<=\\]) # ] and\n",
    "              \\s+\n",
    "              (?= \\[) # [, or\n",
    "              |\n",
    "              (?<=[^\\[\\]\\s]) \n",
    "              \\s+\n",
    "              (?= [^\\[\\]\\s]) # two non-bracket non-whitespace characters\n",
    "           '''\n",
    "    fixed_string = re.sub(pattern, ',', array_string, flags=re.VERBOSE)\n",
    "    if as_nparray:\n",
    "        return np.array(ast.literal_eval(fixed_string))\n",
    "    return ast.literal_eval(fixed_string)"
   ]
  },
  {
   "cell_type": "code",
   "execution_count": 3,
   "metadata": {},
   "outputs": [
    {
     "data": {
      "text/html": [
       "<div>\n",
       "<style scoped>\n",
       "    .dataframe tbody tr th:only-of-type {\n",
       "        vertical-align: middle;\n",
       "    }\n",
       "\n",
       "    .dataframe tbody tr th {\n",
       "        vertical-align: top;\n",
       "    }\n",
       "\n",
       "    .dataframe thead th {\n",
       "        text-align: right;\n",
       "    }\n",
       "</style>\n",
       "<table border=\"1\" class=\"dataframe\">\n",
       "  <thead>\n",
       "    <tr style=\"text-align: right;\">\n",
       "      <th></th>\n",
       "      <th>Movie_ID</th>\n",
       "      <th>Language</th>\n",
       "      <th>Score</th>\n",
       "      <th>merged_reviews_vector</th>\n",
       "    </tr>\n",
       "  </thead>\n",
       "  <tbody>\n",
       "    <tr>\n",
       "      <th>0</th>\n",
       "      <td>-2144779484</td>\n",
       "      <td>en</td>\n",
       "      <td>4</td>\n",
       "      <td>[0.0766620412, 0.0301413387, 0.022697458, 0.08...</td>\n",
       "    </tr>\n",
       "    <tr>\n",
       "      <th>1</th>\n",
       "      <td>-2144779484</td>\n",
       "      <td>en</td>\n",
       "      <td>9</td>\n",
       "      <td>[0.05562439, 0.0306321, -0.00087419, 0.0592047...</td>\n",
       "    </tr>\n",
       "    <tr>\n",
       "      <th>2</th>\n",
       "      <td>-2144779484</td>\n",
       "      <td>tr</td>\n",
       "      <td>7</td>\n",
       "      <td>[-0.108544111, 0.235523254, 0.111588225, -0.09...</td>\n",
       "    </tr>\n",
       "    <tr>\n",
       "      <th>3</th>\n",
       "      <td>-2144779484</td>\n",
       "      <td>tr</td>\n",
       "      <td>9</td>\n",
       "      <td>[0.0311885718, 0.141891941, 0.0640149638, 0.15...</td>\n",
       "    </tr>\n",
       "    <tr>\n",
       "      <th>4</th>\n",
       "      <td>-2104441082</td>\n",
       "      <td>en</td>\n",
       "      <td>10</td>\n",
       "      <td>[0.02883458, 0.03170469, 0.00097861, 0.0681932...</td>\n",
       "    </tr>\n",
       "  </tbody>\n",
       "</table>\n",
       "</div>"
      ],
      "text/plain": [
       "     Movie_ID Language  Score  \\\n",
       "0 -2144779484       en      4   \n",
       "1 -2144779484       en      9   \n",
       "2 -2144779484       tr      7   \n",
       "3 -2144779484       tr      9   \n",
       "4 -2104441082       en     10   \n",
       "\n",
       "                               merged_reviews_vector  \n",
       "0  [0.0766620412, 0.0301413387, 0.022697458, 0.08...  \n",
       "1  [0.05562439, 0.0306321, -0.00087419, 0.0592047...  \n",
       "2  [-0.108544111, 0.235523254, 0.111588225, -0.09...  \n",
       "3  [0.0311885718, 0.141891941, 0.0640149638, 0.15...  \n",
       "4  [0.02883458, 0.03170469, 0.00097861, 0.0681932...  "
      ]
     },
     "execution_count": 3,
     "metadata": {},
     "output_type": "execute_result"
    }
   ],
   "source": [
    "df = pd.read_csv(\"datasets/LMS_r_merged_reviews_per_movie_language_score.csv\")\n",
    "df[\"merged_reviews_vector\"] = df[\"merged_reviews_vector\"].apply(lambda x: parse_np_array(x) if type(x) == str and \"[\" in x else None)\n",
    "df.head(5)"
   ]
  },
  {
   "cell_type": "code",
   "execution_count": 4,
   "metadata": {},
   "outputs": [
    {
     "data": {
      "text/html": [
       "<div>\n",
       "<style scoped>\n",
       "    .dataframe tbody tr th:only-of-type {\n",
       "        vertical-align: middle;\n",
       "    }\n",
       "\n",
       "    .dataframe tbody tr th {\n",
       "        vertical-align: top;\n",
       "    }\n",
       "\n",
       "    .dataframe thead th {\n",
       "        text-align: right;\n",
       "    }\n",
       "</style>\n",
       "<table border=\"1\" class=\"dataframe\">\n",
       "  <thead>\n",
       "    <tr style=\"text-align: right;\">\n",
       "      <th></th>\n",
       "      <th></th>\n",
       "      <th>Movie_ID</th>\n",
       "      <th>merged_reviews_vector</th>\n",
       "    </tr>\n",
       "    <tr>\n",
       "      <th>Language</th>\n",
       "      <th>Score</th>\n",
       "      <th></th>\n",
       "      <th></th>\n",
       "    </tr>\n",
       "  </thead>\n",
       "  <tbody>\n",
       "    <tr>\n",
       "      <th rowspan=\"10\" valign=\"top\">en</th>\n",
       "      <th>1</th>\n",
       "      <td>17</td>\n",
       "      <td>17</td>\n",
       "    </tr>\n",
       "    <tr>\n",
       "      <th>2</th>\n",
       "      <td>8</td>\n",
       "      <td>8</td>\n",
       "    </tr>\n",
       "    <tr>\n",
       "      <th>3</th>\n",
       "      <td>14</td>\n",
       "      <td>14</td>\n",
       "    </tr>\n",
       "    <tr>\n",
       "      <th>4</th>\n",
       "      <td>18</td>\n",
       "      <td>18</td>\n",
       "    </tr>\n",
       "    <tr>\n",
       "      <th>5</th>\n",
       "      <td>25</td>\n",
       "      <td>25</td>\n",
       "    </tr>\n",
       "    <tr>\n",
       "      <th>6</th>\n",
       "      <td>26</td>\n",
       "      <td>26</td>\n",
       "    </tr>\n",
       "    <tr>\n",
       "      <th>7</th>\n",
       "      <td>43</td>\n",
       "      <td>43</td>\n",
       "    </tr>\n",
       "    <tr>\n",
       "      <th>8</th>\n",
       "      <td>52</td>\n",
       "      <td>52</td>\n",
       "    </tr>\n",
       "    <tr>\n",
       "      <th>9</th>\n",
       "      <td>75</td>\n",
       "      <td>75</td>\n",
       "    </tr>\n",
       "    <tr>\n",
       "      <th>10</th>\n",
       "      <td>111</td>\n",
       "      <td>111</td>\n",
       "    </tr>\n",
       "    <tr>\n",
       "      <th rowspan=\"9\" valign=\"top\">tr</th>\n",
       "      <th>1</th>\n",
       "      <td>9</td>\n",
       "      <td>9</td>\n",
       "    </tr>\n",
       "    <tr>\n",
       "      <th>2</th>\n",
       "      <td>13</td>\n",
       "      <td>13</td>\n",
       "    </tr>\n",
       "    <tr>\n",
       "      <th>4</th>\n",
       "      <td>5</td>\n",
       "      <td>5</td>\n",
       "    </tr>\n",
       "    <tr>\n",
       "      <th>5</th>\n",
       "      <td>41</td>\n",
       "      <td>41</td>\n",
       "    </tr>\n",
       "    <tr>\n",
       "      <th>6</th>\n",
       "      <td>14</td>\n",
       "      <td>14</td>\n",
       "    </tr>\n",
       "    <tr>\n",
       "      <th>7</th>\n",
       "      <td>22</td>\n",
       "      <td>22</td>\n",
       "    </tr>\n",
       "    <tr>\n",
       "      <th>8</th>\n",
       "      <td>89</td>\n",
       "      <td>89</td>\n",
       "    </tr>\n",
       "    <tr>\n",
       "      <th>9</th>\n",
       "      <td>56</td>\n",
       "      <td>56</td>\n",
       "    </tr>\n",
       "    <tr>\n",
       "      <th>10</th>\n",
       "      <td>83</td>\n",
       "      <td>83</td>\n",
       "    </tr>\n",
       "  </tbody>\n",
       "</table>\n",
       "</div>"
      ],
      "text/plain": [
       "                Movie_ID  merged_reviews_vector\n",
       "Language Score                                 \n",
       "en       1            17                     17\n",
       "         2             8                      8\n",
       "         3            14                     14\n",
       "         4            18                     18\n",
       "         5            25                     25\n",
       "         6            26                     26\n",
       "         7            43                     43\n",
       "         8            52                     52\n",
       "         9            75                     75\n",
       "         10          111                    111\n",
       "tr       1             9                      9\n",
       "         2            13                     13\n",
       "         4             5                      5\n",
       "         5            41                     41\n",
       "         6            14                     14\n",
       "         7            22                     22\n",
       "         8            89                     89\n",
       "         9            56                     56\n",
       "         10           83                     83"
      ]
     },
     "execution_count": 4,
     "metadata": {},
     "output_type": "execute_result"
    }
   ],
   "source": [
    "df.groupby([\"Language\",\"Score\"]).count()"
   ]
  },
  {
   "cell_type": "markdown",
   "metadata": {},
   "source": [
    "## Merging all movies with the same score for each language"
   ]
  },
  {
   "cell_type": "code",
   "execution_count": 5,
   "metadata": {},
   "outputs": [],
   "source": [
    "def merging_function(frame):\n",
    "    return np.mean(frame[\"merged_reviews_vector\"])"
   ]
  },
  {
   "cell_type": "code",
   "execution_count": 6,
   "metadata": {},
   "outputs": [
    {
     "data": {
      "text/html": [
       "<div>\n",
       "<style scoped>\n",
       "    .dataframe tbody tr th:only-of-type {\n",
       "        vertical-align: middle;\n",
       "    }\n",
       "\n",
       "    .dataframe tbody tr th {\n",
       "        vertical-align: top;\n",
       "    }\n",
       "\n",
       "    .dataframe thead th {\n",
       "        text-align: right;\n",
       "    }\n",
       "</style>\n",
       "<table border=\"1\" class=\"dataframe\">\n",
       "  <thead>\n",
       "    <tr style=\"text-align: right;\">\n",
       "      <th></th>\n",
       "      <th></th>\n",
       "      <th>0</th>\n",
       "    </tr>\n",
       "    <tr>\n",
       "      <th>Language</th>\n",
       "      <th>Score</th>\n",
       "      <th></th>\n",
       "    </tr>\n",
       "  </thead>\n",
       "  <tbody>\n",
       "    <tr>\n",
       "      <th rowspan=\"10\" valign=\"top\">en</th>\n",
       "      <th>1</th>\n",
       "      <td>[0.0564090564882, 0.0310473006471, 0.001661979...</td>\n",
       "    </tr>\n",
       "    <tr>\n",
       "      <th>2</th>\n",
       "      <td>[0.056524475, 0.03135834625, 0.00357995875, 0....</td>\n",
       "    </tr>\n",
       "    <tr>\n",
       "      <th>3</th>\n",
       "      <td>[0.0568037516143, 0.0378051802429, 0.002676630...</td>\n",
       "    </tr>\n",
       "    <tr>\n",
       "      <th>4</th>\n",
       "      <td>[0.0593783255667, 0.0355334800222, 0.003506247...</td>\n",
       "    </tr>\n",
       "    <tr>\n",
       "      <th>5</th>\n",
       "      <td>[0.0576580418, 0.034522828712, 0.0008603620527...</td>\n",
       "    </tr>\n",
       "    <tr>\n",
       "      <th>6</th>\n",
       "      <td>[0.0546367849654, 0.0346027090462, 0.002850217...</td>\n",
       "    </tr>\n",
       "    <tr>\n",
       "      <th>7</th>\n",
       "      <td>[0.0532821751884, 0.0347177720233, -2.28056106...</td>\n",
       "    </tr>\n",
       "    <tr>\n",
       "      <th>8</th>\n",
       "      <td>[0.0559765238558, 0.0362633347712, 0.000232104...</td>\n",
       "    </tr>\n",
       "    <tr>\n",
       "      <th>9</th>\n",
       "      <td>[0.0541100169933, 0.0346257522563, 0.001568747...</td>\n",
       "    </tr>\n",
       "    <tr>\n",
       "      <th>10</th>\n",
       "      <td>[0.0540575701784, 0.0336265408847, 0.002325572...</td>\n",
       "    </tr>\n",
       "    <tr>\n",
       "      <th rowspan=\"9\" valign=\"top\">tr</th>\n",
       "      <th>1</th>\n",
       "      <td>[-0.0974549929222, 0.0292145974778, 0.02518437...</td>\n",
       "    </tr>\n",
       "    <tr>\n",
       "      <th>2</th>\n",
       "      <td>[-0.0183910160692, 0.113053443077, -0.01183268...</td>\n",
       "    </tr>\n",
       "    <tr>\n",
       "      <th>4</th>\n",
       "      <td>[0.03687599044, 0.0948500324, 0.05602867874, -...</td>\n",
       "    </tr>\n",
       "    <tr>\n",
       "      <th>5</th>\n",
       "      <td>[-0.0353331761244, 0.0831094014549, 0.01561731...</td>\n",
       "    </tr>\n",
       "    <tr>\n",
       "      <th>6</th>\n",
       "      <td>[-0.0353082346286, 0.133818843529, 0.024321188...</td>\n",
       "    </tr>\n",
       "    <tr>\n",
       "      <th>7</th>\n",
       "      <td>[-0.0429342284318, 0.117977989832, 0.046200180...</td>\n",
       "    </tr>\n",
       "    <tr>\n",
       "      <th>8</th>\n",
       "      <td>[-0.0157200519731, 0.0823282961895, 0.02405045...</td>\n",
       "    </tr>\n",
       "    <tr>\n",
       "      <th>9</th>\n",
       "      <td>[-0.016627594358, 0.07000235045, 0.02798186834...</td>\n",
       "    </tr>\n",
       "    <tr>\n",
       "      <th>10</th>\n",
       "      <td>[-0.0209688566195, 0.0762524502783, 0.03474595...</td>\n",
       "    </tr>\n",
       "  </tbody>\n",
       "</table>\n",
       "</div>"
      ],
      "text/plain": [
       "                                                                0\n",
       "Language Score                                                   \n",
       "en       1      [0.0564090564882, 0.0310473006471, 0.001661979...\n",
       "         2      [0.056524475, 0.03135834625, 0.00357995875, 0....\n",
       "         3      [0.0568037516143, 0.0378051802429, 0.002676630...\n",
       "         4      [0.0593783255667, 0.0355334800222, 0.003506247...\n",
       "         5      [0.0576580418, 0.034522828712, 0.0008603620527...\n",
       "         6      [0.0546367849654, 0.0346027090462, 0.002850217...\n",
       "         7      [0.0532821751884, 0.0347177720233, -2.28056106...\n",
       "         8      [0.0559765238558, 0.0362633347712, 0.000232104...\n",
       "         9      [0.0541100169933, 0.0346257522563, 0.001568747...\n",
       "         10     [0.0540575701784, 0.0336265408847, 0.002325572...\n",
       "tr       1      [-0.0974549929222, 0.0292145974778, 0.02518437...\n",
       "         2      [-0.0183910160692, 0.113053443077, -0.01183268...\n",
       "         4      [0.03687599044, 0.0948500324, 0.05602867874, -...\n",
       "         5      [-0.0353331761244, 0.0831094014549, 0.01561731...\n",
       "         6      [-0.0353082346286, 0.133818843529, 0.024321188...\n",
       "         7      [-0.0429342284318, 0.117977989832, 0.046200180...\n",
       "         8      [-0.0157200519731, 0.0823282961895, 0.02405045...\n",
       "         9      [-0.016627594358, 0.07000235045, 0.02798186834...\n",
       "         10     [-0.0209688566195, 0.0762524502783, 0.03474595..."
      ]
     },
     "execution_count": 6,
     "metadata": {},
     "output_type": "execute_result"
    }
   ],
   "source": [
    "merged_by_lang_and_movies = df.groupby([\"Language\",\"Score\"], as_index=False).apply(merging_function).to_frame()\n",
    "merged_by_lang_and_movies"
   ]
  },
  {
   "cell_type": "code",
   "execution_count": 7,
   "metadata": {},
   "outputs": [],
   "source": [
    "merged_by_lang_and_movies.reset_index(inplace=True)"
   ]
  },
  {
   "cell_type": "code",
   "execution_count": 8,
   "metadata": {},
   "outputs": [
    {
     "data": {
      "text/plain": [
       "'There are 224 movies'"
      ]
     },
     "execution_count": 8,
     "metadata": {},
     "output_type": "execute_result"
    }
   ],
   "source": [
    "\"There are {} movies\".format(len(df.groupby(\"Movie_ID\")))"
   ]
  },
  {
   "cell_type": "markdown",
   "metadata": {},
   "source": [
    "# Minimizing the distance between Score vectors in different languages"
   ]
  },
  {
   "cell_type": "code",
   "execution_count": 9,
   "metadata": {},
   "outputs": [],
   "source": [
    "def mikolov(X, Y, W):\n",
    "    # min_W  for each i    ||W.x(i) - y(i)||^2\n",
    "    result = 0\n",
    "    for score in range(len(X)):\n",
    "        result += np.linalg.norm(W.dot(X[score]) - Y[score])**2\n",
    "    return result"
   ]
  },
  {
   "cell_type": "code",
   "execution_count": 10,
   "metadata": {},
   "outputs": [],
   "source": [
    "en_revs = dict()\n",
    "tr_revs = dict()\n",
    "for movie in df.set_index(\"Movie_ID\").iterrows():\n",
    "    vec = movie[1][\"merged_reviews_vector\"]\n",
    "    lang = movie[1][\"Language\"]\n",
    "    score = movie[1][\"Score\"]\n",
    "    if lang == \"en\":\n",
    "        en_revs[score] = vec\n",
    "    else:\n",
    "        tr_revs[score] = vec"
   ]
  },
  {
   "cell_type": "code",
   "execution_count": 11,
   "metadata": {},
   "outputs": [],
   "source": [
    "def learn_translation_matrix(X,Y, iterations=5000, alpha=0.0001, alpha_change_rate=0.8):\n",
    "    W = np.random.random((300, 300))\n",
    "    for i in range(iterations+1):\n",
    "        gradient = np.zeros(300)\n",
    "        for score in range(len(X)):\n",
    "            error = X[score].dot(W) - Y[score]\n",
    "            gradient += alpha * np.gradient(error)\n",
    "        W += gradient\n",
    "        if i == 2000:\n",
    "            alpha /= 100\n",
    "\n",
    "        if i%1000 == 0:\n",
    "            alpha *= alpha_change_rate\n",
    "            print(\"Mikolov distance: {}\".format(mikolov(X, Y, W)))\n",
    "    return W"
   ]
  },
  {
   "cell_type": "code",
   "execution_count": 12,
   "metadata": {},
   "outputs": [],
   "source": [
    "scores = sorted([i for i in tr_revs.keys() if i in en_revs.keys()])"
   ]
  },
  {
   "cell_type": "code",
   "execution_count": 13,
   "metadata": {},
   "outputs": [],
   "source": [
    "En_score_vecs = np.array([en_revs[sv] for sv in scores])  # English score vectors\n",
    "Tr_score_vecs = np.array([tr_revs[sv] for sv in scores])  # Turkish score vectors"
   ]
  },
  {
   "cell_type": "code",
   "execution_count": 15,
   "metadata": {},
   "outputs": [],
   "source": [
    "from sklearn.neural_network import MLPRegressor"
   ]
  },
  {
   "cell_type": "code",
   "execution_count": 16,
   "metadata": {},
   "outputs": [
    {
     "data": {
      "text/plain": [
       "MLPRegressor(activation='relu', alpha=0.0001, batch_size='auto', beta_1=0.9,\n",
       "       beta_2=0.999, early_stopping=False, epsilon=1e-08,\n",
       "       hidden_layer_sizes=(100,), learning_rate='constant',\n",
       "       learning_rate_init=0.001, max_iter=200, momentum=0.9,\n",
       "       nesterovs_momentum=True, power_t=0.5, random_state=None,\n",
       "       shuffle=True, solver='adam', tol=0.0001, validation_fraction=0.1,\n",
       "       verbose=False, warm_start=False)"
      ]
     },
     "execution_count": 16,
     "metadata": {},
     "output_type": "execute_result"
    }
   ],
   "source": [
    "W = MLPRegressor()\n",
    "W.fit(En_score_vecs, Tr_score_vecs)"
   ]
  },
  {
   "cell_type": "markdown",
   "metadata": {},
   "source": [
    "# Merging score vectors across languages"
   ]
  },
  {
   "cell_type": "code",
   "execution_count": 20,
   "metadata": {},
   "outputs": [],
   "source": [
    "# def merge_cross_lingual_score_vectors(En_score_vecs, Tr_score_vecs, scores, W):\n",
    "#     labeled_vecs = dict()\n",
    "#     for score in range(len(scores)):\n",
    "#         labeled_vecs[scores[score]] = np.mean(\\\n",
    "#             np.array(\\\n",
    "#                 [En_score_vecs[score].dot(W), Tr_score_vecs[score]]\\\n",
    "#                     ), axis=0)\n",
    "#     return labeled_vecs\n",
    "def merge_cross_lingual_score_vectors(En_score_vecs, Tr_score_vecs, scores, W):\n",
    "    labeled_vecs = dict()\n",
    "    for score in range(len(scores)):\n",
    "        labeled_vecs[scores[score]] = np.mean(\\\n",
    "            W.predict(np.atleast_2d(En_score_vecs[score])\\\n",
    "                    ), axis=0)\n",
    "    return labeled_vecs"
   ]
  },
  {
   "cell_type": "code",
   "execution_count": 21,
   "metadata": {},
   "outputs": [],
   "source": [
    "labeled_vecs = merge_cross_lingual_score_vectors(En_score_vecs, Tr_score_vecs, scores, W)"
   ]
  },
  {
   "cell_type": "code",
   "execution_count": null,
   "metadata": {},
   "outputs": [],
   "source": [
    "pickle.dump(labeled_vecs, open(\"score_vectors_dict\", \"wb\"))"
   ]
  },
  {
   "cell_type": "code",
   "execution_count": null,
   "metadata": {},
   "outputs": [],
   "source": []
  }
 ],
 "metadata": {
  "kernelspec": {
   "display_name": "Python 3",
   "language": "python",
   "name": "python3"
  },
  "language_info": {
   "codemirror_mode": {
    "name": "ipython",
    "version": 3
   },
   "file_extension": ".py",
   "mimetype": "text/x-python",
   "name": "python",
   "nbconvert_exporter": "python",
   "pygments_lexer": "ipython3",
   "version": "3.5.2"
  }
 },
 "nbformat": 4,
 "nbformat_minor": 2
}
