{
 "cells": [
  {
   "cell_type": "code",
   "execution_count": 4,
   "metadata": {},
   "outputs": [],
   "source": [
    "import warnings, numpy as np, re, json, gnumpy as gpu, pandas as pd\n",
    "from TurkishStemmer import TurkishStemmer\n",
    "warnings.filterwarnings(action='ignore', category=UserWarning, module='gensim')\n",
    "import gensim, unidecode, math\n",
    "from googletrans import Translator\n",
    "from gensim.models import doc2vec\n",
    "import  nltk\n",
    "from sklearn.feature_extraction.text import CountVectorizer\n",
    "from sklearn.ensemble import RandomForestClassifier\n",
    "from KaggleWord2VecUtility import KaggleWord2VecUtility"
   ]
  },
  {
   "cell_type": "markdown",
   "metadata": {},
   "source": [
    "## Loading Reviews and Labels"
   ]
  },
  {
   "cell_type": "code",
   "execution_count": 3,
   "metadata": {},
   "outputs": [
    {
     "ename": "IOError",
     "evalue": "[Errno 2] No such file or directory: 'crawler/movies_data/en_reviews.json'",
     "output_type": "error",
     "traceback": [
      "\u001b[0;31m---------------------------------------------------------------------------\u001b[0m",
      "\u001b[0;31mIOError\u001b[0m                                   Traceback (most recent call last)",
      "\u001b[0;32m<ipython-input-3-01d5e96d1a56>\u001b[0m in \u001b[0;36m<module>\u001b[0;34m()\u001b[0m\n\u001b[1;32m      1\u001b[0m \u001b[0;31m## TODO REMOVE SAMPLING AND WORK ON ALL DATA\u001b[0m\u001b[0;34m\u001b[0m\u001b[0;34m\u001b[0m\u001b[0m\n\u001b[1;32m      2\u001b[0m \u001b[0;32mimport\u001b[0m \u001b[0mio\u001b[0m\u001b[0;34m,\u001b[0m \u001b[0mrandom\u001b[0m\u001b[0;34m\u001b[0m\u001b[0m\n\u001b[0;32m----> 3\u001b[0;31m \u001b[0;32mwith\u001b[0m \u001b[0mopen\u001b[0m\u001b[0;34m(\u001b[0m\u001b[0;34m'crawler/movies_data/en_reviews.json'\u001b[0m\u001b[0;34m,\u001b[0m\u001b[0;34m'r'\u001b[0m\u001b[0;34m)\u001b[0m \u001b[0;32mas\u001b[0m \u001b[0men\u001b[0m\u001b[0;34m:\u001b[0m\u001b[0;34m\u001b[0m\u001b[0m\n\u001b[0m\u001b[1;32m      4\u001b[0m     \u001b[0men_revs\u001b[0m \u001b[0;34m=\u001b[0m \u001b[0mrandom\u001b[0m\u001b[0;34m.\u001b[0m\u001b[0msample\u001b[0m\u001b[0;34m(\u001b[0m\u001b[0mjson\u001b[0m\u001b[0;34m.\u001b[0m\u001b[0mload\u001b[0m\u001b[0;34m(\u001b[0m\u001b[0men\u001b[0m\u001b[0;34m)\u001b[0m\u001b[0;34m,\u001b[0m \u001b[0;36m500\u001b[0m\u001b[0;34m)\u001b[0m \u001b[0;31m# [movie id, [review, score]]\u001b[0m\u001b[0;34m\u001b[0m\u001b[0m\n\u001b[1;32m      5\u001b[0m \u001b[0;32mwith\u001b[0m \u001b[0mio\u001b[0m\u001b[0;34m.\u001b[0m\u001b[0mopen\u001b[0m\u001b[0;34m(\u001b[0m\u001b[0;34m'crawler/movies_data/tr_reviews.json'\u001b[0m\u001b[0;34m,\u001b[0m\u001b[0;34m'r'\u001b[0m\u001b[0;34m,\u001b[0m \u001b[0mencoding\u001b[0m\u001b[0;34m=\u001b[0m\u001b[0;34m'utf-8'\u001b[0m\u001b[0;34m)\u001b[0m \u001b[0;32mas\u001b[0m \u001b[0mtr\u001b[0m\u001b[0;34m:\u001b[0m\u001b[0;34m\u001b[0m\u001b[0m\n",
      "\u001b[0;31mIOError\u001b[0m: [Errno 2] No such file or directory: 'crawler/movies_data/en_reviews.json'"
     ]
    }
   ],
   "source": [
    "## TODO REMOVE SAMPLING AND WORK ON ALL DATA\n",
    "import io, random\n",
    "with open('crawler/movies_data/en_reviews.json','r') as en:\n",
    "    en_revs = random.sample(json.load(en), 500) # [movie id, [review, score]]\n",
    "with io.open('crawler/movies_data/tr_reviews.json','r', encoding='utf-8') as tr:\n",
    "    tr_revs = random.sample(json.load(tr), 500)"
   ]
  },
  {
   "cell_type": "markdown",
   "metadata": {},
   "source": [
    "## Getting pretrained English Word Vectors"
   ]
  },
  {
   "cell_type": "code",
   "execution_count": 8,
   "metadata": {
    "collapsed": true
   },
   "outputs": [],
   "source": [
    "en_vects = gensim.models.KeyedVectors.load_word2vec_format(r\"GoogleNews-vectors-negative300.bin\", binary=True)"
   ]
  },
  {
   "cell_type": "code",
   "execution_count": 9,
   "metadata": {
    "collapsed": true
   },
   "outputs": [],
   "source": [
    "WORDS_DIMENSION = 300\n",
    "stemmer = TurkishStemmer()\n",
    "translator = Translator()\n",
    "\n",
    "def document_vector(document):\n",
    "    return doc2vec.Doc2Vec(document, size = 300, window = 300, min_count = 10, workers=4)\n",
    "    \n",
    "def paragraph_vector(document, vectDicts='en_vects', useGPU=False):\n",
    "    x = np.zeros(WORDS_DIMENSION)\n",
    "    for word in document:\n",
    "        if word in globals()[vectDicts]:\n",
    "            x += globals()[vectDicts][word]\n",
    "#     x += document_vector(document)\n",
    "#     paragraph_vec = x / (len(document)+1)\n",
    "    paragraph_vec = x / (len(document))\n",
    "    if useGPU:\n",
    "        return gpu.garray(paragraph_vec)\n",
    "    return np.array(paragraph_vec)"
   ]
  },
  {
   "cell_type": "code",
   "execution_count": 10,
   "metadata": {
    "collapsed": true
   },
   "outputs": [],
   "source": [
    "# nltk.download()"
   ]
  },
  {
   "cell_type": "markdown",
   "metadata": {},
   "source": [
    "## Preparing Turkish Word Vectors"
   ]
  },
  {
   "cell_type": "code",
   "execution_count": 11,
   "metadata": {
    "collapsed": true
   },
   "outputs": [],
   "source": [
    "turkish_corpus = []\n",
    "for rev in tr_revs:\n",
    "    turkish_corpus.append(rev[1][0])\n",
    "tok_corpus = [nltk.word_tokenize(sent.decode('utf-8'), language='turkish') for sent in turkish_corpus]\n",
    "tr_vects = gensim.models.Word2Vec(tok_corpus, min_count=1, size=300)\n",
    "tr_vects.save(\"tr_vects.gnsm\")"
   ]
  },
  {
   "cell_type": "code",
   "execution_count": 12,
   "metadata": {
    "collapsed": true
   },
   "outputs": [],
   "source": [
    "tr_vects = gensim.models.Word2Vec.load(\"tr_vects.gnsm\")"
   ]
  },
  {
   "cell_type": "code",
   "execution_count": 13,
   "metadata": {
    "collapsed": true
   },
   "outputs": [],
   "source": [
    "def clean(text, vects='en_vects'):\n",
    "    if vects == 'tr_vects':\n",
    "        l = list()\n",
    "        for word in text.split(\" \"):\n",
    "            w = stemmer.stem(word.lower().encode(\"utf-8\"))\n",
    "            if w in globals()[vects]:\n",
    "                l.append(w)\n",
    "        return l\n",
    "    return [word.lower() for word in text.split(\" \") if word in globals()[vects]]"
   ]
  },
  {
   "cell_type": "code",
   "execution_count": 14,
   "metadata": {},
   "outputs": [
    {
     "data": {
      "text/plain": [
       "500"
      ]
     },
     "execution_count": 14,
     "metadata": {},
     "output_type": "execute_result"
    }
   ],
   "source": [
    "len(en_revs)"
   ]
  },
  {
   "cell_type": "code",
   "execution_count": 15,
   "metadata": {
    "collapsed": true
   },
   "outputs": [],
   "source": [
    "def sigm(x, deriv=False, useGPU=False):\n",
    "    if deriv:\n",
    "        return x(1-x)\n",
    "    if useGPU:\n",
    "        return gpu.logistic(x)\n",
    "    return 1/(1+np.exp(-x))"
   ]
  },
  {
   "cell_type": "code",
   "execution_count": 16,
   "metadata": {
    "collapsed": true
   },
   "outputs": [],
   "source": [
    "def parse_revs(loaded_data):\n",
    "    e = dict()\n",
    "    for r in loaded_data:\n",
    "        mov_id, rev, score = r[0], r[1][0], r[1][1]\n",
    "        e.setdefault(mov_id, {})\n",
    "        e[mov_id].setdefault(score, [])\n",
    "        e[mov_id][score].append(rev)\n",
    "    return e"
   ]
  },
  {
   "cell_type": "code",
   "execution_count": 17,
   "metadata": {
    "collapsed": true
   },
   "outputs": [],
   "source": [
    "revs_dict_src = parse_revs(en_revs)  # {id: {score: [revs]}} >> For English\n",
    "revs_dict_tgt = parse_revs(tr_revs)  # {id: {score: [revs]}} >> For Turkish"
   ]
  },
  {
   "cell_type": "code",
   "execution_count": 18,
   "metadata": {
    "collapsed": true
   },
   "outputs": [],
   "source": [
    "with open('revs_dict_src.json', 'w') as f:\n",
    "    json.dump(revs_dict_src, f)\n",
    "with open('revs_dict_tgt.json', 'w') as f:\n",
    "    json.dump(revs_dict_tgt, f)"
   ]
  },
  {
   "cell_type": "markdown",
   "metadata": {},
   "source": [
    "## Dataframing the dicts"
   ]
  },
  {
   "cell_type": "code",
   "execution_count": 26,
   "metadata": {
    "collapsed": true
   },
   "outputs": [],
   "source": [
    "def fill_dfraw(lang, datadict):\n",
    "    df_raw = list()\n",
    "    for movie in datadict:\n",
    "        for score in datadict[movie]:\n",
    "            for rev in datadict[movie][score]:\n",
    "                df_raw.append((lang, movie,rev, score))\n",
    "    return df_raw\n",
    "df_raw = fill_dfraw(\"EN\", revs_dict_src)\n",
    "df_raw += fill_dfraw(\"TR\", revs_dict_tgt)"
   ]
  },
  {
   "cell_type": "code",
   "execution_count": 28,
   "metadata": {},
   "outputs": [
    {
     "data": {
      "text/html": [
       "<div>\n",
       "<style>\n",
       "    .dataframe thead tr:only-child th {\n",
       "        text-align: right;\n",
       "    }\n",
       "\n",
       "    .dataframe thead th {\n",
       "        text-align: left;\n",
       "    }\n",
       "\n",
       "    .dataframe tbody tr th {\n",
       "        vertical-align: top;\n",
       "    }\n",
       "</style>\n",
       "<table border=\"1\" class=\"dataframe\">\n",
       "  <thead>\n",
       "    <tr style=\"text-align: right;\">\n",
       "      <th></th>\n",
       "      <th>Language</th>\n",
       "      <th>Movie_ID</th>\n",
       "      <th>Review</th>\n",
       "      <th>Score</th>\n",
       "    </tr>\n",
       "  </thead>\n",
       "  <tbody>\n",
       "    <tr>\n",
       "      <th>0</th>\n",
       "      <td>EN</td>\n",
       "      <td>-1018312192</td>\n",
       "      <td>good interpretation of the actors # good speci...</td>\n",
       "      <td>9</td>\n",
       "    </tr>\n",
       "    <tr>\n",
       "      <th>1</th>\n",
       "      <td>EN</td>\n",
       "      <td>-1112579067</td>\n",
       "      <td>before watching the pursuit of happiness i did...</td>\n",
       "      <td>8</td>\n",
       "    </tr>\n",
       "    <tr>\n",
       "      <th>2</th>\n",
       "      <td>EN</td>\n",
       "      <td>-1084746746</td>\n",
       "      <td>while this movie may at most times be highly f...</td>\n",
       "      <td>9</td>\n",
       "    </tr>\n",
       "    <tr>\n",
       "      <th>3</th>\n",
       "      <td>EN</td>\n",
       "      <td>-836740088</td>\n",
       "      <td>gattaca refers to a fictional aerospace compan...</td>\n",
       "      <td>10</td>\n",
       "    </tr>\n",
       "    <tr>\n",
       "      <th>4</th>\n",
       "      <td>EN</td>\n",
       "      <td>148997333</td>\n",
       "      <td>admittedly i read one or two comments from the...</td>\n",
       "      <td>3</td>\n",
       "    </tr>\n",
       "  </tbody>\n",
       "</table>\n",
       "</div>"
      ],
      "text/plain": [
       "  Language    Movie_ID                                             Review  \\\n",
       "0       EN -1018312192  good interpretation of the actors # good speci...   \n",
       "1       EN -1112579067  before watching the pursuit of happiness i did...   \n",
       "2       EN -1084746746  while this movie may at most times be highly f...   \n",
       "3       EN  -836740088  gattaca refers to a fictional aerospace compan...   \n",
       "4       EN   148997333  admittedly i read one or two comments from the...   \n",
       "\n",
       "   Score  \n",
       "0      9  \n",
       "1      8  \n",
       "2      9  \n",
       "3     10  \n",
       "4      3  "
      ]
     },
     "execution_count": 28,
     "metadata": {},
     "output_type": "execute_result"
    }
   ],
   "source": [
    "df = pd.DataFrame(df_raw, columns=[\"Language\",\"Movie_ID\",\"Review\",\"Score\"])\n",
    "df.\n",
    "df.to_csv(\"movie_data.csv\")\n",
    "df.head(5)"
   ]
  },
  {
   "cell_type": "code",
   "execution_count": 14,
   "metadata": {
    "collapsed": true
   },
   "outputs": [],
   "source": [
    "def get_long_translation(text, src='en', dest='tr'):\n",
    "    start = 0\n",
    "    step = int(len(text) / math.ceil(len(text)/5000.0))\n",
    "    l = list()\n",
    "    for x in xrange(start, len(text), step):\n",
    "        l.append(re.sub(r'[^a-z0-9\\s+]+', '', unidecode.unidecode(translator.translate(text[x:x+step], src=src, dest=dest).text).lower()))\n",
    "    c = ' '.join(l)\n",
    "    return c"
   ]
  },
  {
   "cell_type": "code",
   "execution_count": 27,
   "metadata": {
    "collapsed": true
   },
   "outputs": [],
   "source": [
    "def pick_sample(n=2000, movie_indx=0, rev_indx=0, useGPU=False):\n",
    "    global revs_dict_src, revs_dict_tgt\n",
    "    T = list()\n",
    "    Tt = list()\n",
    "    St = list()\n",
    "    S = list()\n",
    "    labels = list()\n",
    "    while movie_indx < len(revs_dict_tgt):\n",
    "        mov_id = revs_dict_tgt.keys()[movie_indx]\n",
    "        if mov_id not in revs_dict_src:\n",
    "            movie_indx += 1\n",
    "            continue\n",
    "        for score in revs_dict_tgt[mov_id]:\n",
    "            if score not in revs_dict_src[mov_id]:\n",
    "                continue\n",
    "            tgt_revs = revs_dict_tgt[mov_id][score]\n",
    "            src_revs = revs_dict_src[mov_id][score]\n",
    "            for r in xrange(rev_indx, min(len(tgt_revs), len(src_revs))):\n",
    "                print len(T)\n",
    "                T.append(paragraph_vector(clean(tgt_revs[r], 'tr_vects')))\n",
    "                Tt.append(paragraph_vector(clean(get_long_translation(tgt_revs[r], src='tr', dest='en'))))\n",
    "                St.append(paragraph_vector(clean(get_long_translation(src_revs[r], src='en', dest='tr'), 'tr_vects')))\n",
    "                S.append(paragraph_vector(clean(src_revs[r])))\n",
    "                labels.append(score)\n",
    "                if len(T) == n:\n",
    "                    rev_indx = r + 1\n",
    "                    if useGPU:\n",
    "                        return gpu.garray(T), gpu.garray(Tt), gpu.garray(St), gpu.garray(S), movie_indx, rev_indx, gpu.garray(labels)\n",
    "                    else:\n",
    "                        return np.array(T), np.array(Tt), np.array(St), np.array(S), movie_indx, rev_indx, np.array(labels)\n",
    "        movie_indx += 1\n",
    "        rev_indx = 0\n",
    "    if useGPU:\n",
    "        return gpu.garray(T), gpu.garray(Tt), gpu.garray(St), gpu.garray(S), movie_indx, rev_indx, gpu.garray(labels)\n",
    "    else:\n",
    "        return np.array(T), np.array(Tt), np.array(St), np.array(S), movie_indx, rev_indx, np.array(labels)"
   ]
  },
  {
   "cell_type": "code",
   "execution_count": 5,
   "metadata": {
    "scrolled": true
   },
   "outputs": [
    {
     "ename": "NameError",
     "evalue": "name 'pick_sample' is not defined",
     "output_type": "error",
     "traceback": [
      "\u001b[0;31m---------------------------------------------------------------------------\u001b[0m",
      "\u001b[0;31mNameError\u001b[0m                                 Traceback (most recent call last)",
      "\u001b[0;32m<ipython-input-5-81041a6eebfc>\u001b[0m in \u001b[0;36m<module>\u001b[0;34m()\u001b[0m\n\u001b[0;32m----> 1\u001b[0;31m \u001b[0mT\u001b[0m\u001b[0;34m,\u001b[0m \u001b[0mTt\u001b[0m\u001b[0;34m,\u001b[0m \u001b[0mSt\u001b[0m\u001b[0;34m,\u001b[0m \u001b[0mS\u001b[0m\u001b[0;34m,\u001b[0m \u001b[0mmovie_indx\u001b[0m\u001b[0;34m,\u001b[0m \u001b[0mrev_indx\u001b[0m\u001b[0;34m,\u001b[0m \u001b[0mlabels\u001b[0m \u001b[0;34m=\u001b[0m \u001b[0mpick_sample\u001b[0m\u001b[0;34m(\u001b[0m\u001b[0;36m500\u001b[0m\u001b[0;34m)\u001b[0m\u001b[0;34m\u001b[0m\u001b[0m\n\u001b[0m",
      "\u001b[0;31mNameError\u001b[0m: name 'pick_sample' is not defined"
     ]
    }
   ],
   "source": [
    "T, Tt, St, S, movie_indx, rev_indx, labels = pick_sample(500)"
   ]
  },
  {
   "cell_type": "code",
   "execution_count": 26,
   "metadata": {},
   "outputs": [
    {
     "data": {
      "text/plain": [
       "(134, 134, 134, 134)"
      ]
     },
     "execution_count": 26,
     "metadata": {},
     "output_type": "execute_result"
    }
   ],
   "source": [
    "len(T), len(S), len(Tt), len(St)"
   ]
  },
  {
   "cell_type": "code",
   "execution_count": null,
   "metadata": {
    "collapsed": true
   },
   "outputs": [],
   "source": [
    "from sklearn import cross_validation, svm\n",
    "from sklearn.linear_model import LinearRegression"
   ]
  },
  {
   "cell_type": "code",
   "execution_count": null,
   "metadata": {
    "collapsed": true
   },
   "outputs": [],
   "source": [
    "x_train, x_test, y_train, y_test = cross_validation.train_test_split(S, labels, test_size=0.1)"
   ]
  },
  {
   "cell_type": "code",
   "execution_count": null,
   "metadata": {
    "collapsed": true
   },
   "outputs": [],
   "source": [
    "clf = LinearRegression()\n",
    "clf.fit(x_train, y_train)"
   ]
  },
  {
   "cell_type": "code",
   "execution_count": null,
   "metadata": {
    "collapsed": true
   },
   "outputs": [],
   "source": [
    "translator.translate('hello', dest='tr').text"
   ]
  },
  {
   "cell_type": "code",
   "execution_count": null,
   "metadata": {
    "collapsed": true
   },
   "outputs": [],
   "source": [
    "clf.score(x_test, y_test)"
   ]
  },
  {
   "cell_type": "code",
   "execution_count": null,
   "metadata": {
    "collapsed": true
   },
   "outputs": [],
   "source": []
  }
 ],
 "metadata": {
  "kernelspec": {
   "display_name": "Python 3",
   "language": "python",
   "name": "python3"
  },
  "language_info": {
   "codemirror_mode": {
    "name": "ipython",
    "version": 3
   },
   "file_extension": ".py",
   "mimetype": "text/x-python",
   "name": "python",
   "nbconvert_exporter": "python",
   "pygments_lexer": "ipython3",
   "version": "3.6.3"
  }
 },
 "nbformat": 4,
 "nbformat_minor": 2
}
