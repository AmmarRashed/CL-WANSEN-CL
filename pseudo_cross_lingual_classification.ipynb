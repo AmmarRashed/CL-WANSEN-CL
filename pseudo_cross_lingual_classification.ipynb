{
 "cells": [
  {
   "cell_type": "code",
   "execution_count": 1,
   "metadata": {},
   "outputs": [],
   "source": [
    "import pandas as pd, numpy as np, ast, re\n",
    "from sklearn.model_selection import train_test_split\n",
    "from sklearn.naive_bayes import BernoulliNB\n",
    "from sklearn.metrics import confusion_matrix, precision_score, recall_score\n",
    "from sklearn.ensemble import RandomForestClassifier\n",
    "from sklearn.neural_network import MLPClassifier\n",
    "from sklearn.linear_model import LogisticRegression, SGDClassifier\n",
    "from sklearn.svm import LinearSVC\n",
    "from sklearn.preprocessing import StandardScaler"
   ]
  },
  {
   "cell_type": "code",
   "execution_count": 2,
   "metadata": {},
   "outputs": [],
   "source": [
    "def parse_np_array(array_string):\n",
    "    pattern = r'''# Match (mandatory) whitespace between...\n",
    "              (?<=\\]) # ] and\n",
    "              \\s+\n",
    "              (?= \\[) # [, or\n",
    "              |\n",
    "              (?<=[^\\[\\]\\s]) \n",
    "              \\s+\n",
    "              (?= [^\\[\\]\\s]) # two non-bracket non-whitespace characters\n",
    "           '''\n",
    "    fixed_string = re.sub(pattern, ',', array_string, flags=re.VERBOSE)\n",
    "    return np.array(ast.literal_eval(fixed_string))"
   ]
  },
  {
   "cell_type": "code",
   "execution_count": 3,
   "metadata": {},
   "outputs": [
    {
     "data": {
      "text/html": [
       "<div>\n",
       "<style scoped>\n",
       "    .dataframe tbody tr th:only-of-type {\n",
       "        vertical-align: middle;\n",
       "    }\n",
       "\n",
       "    .dataframe tbody tr th {\n",
       "        vertical-align: top;\n",
       "    }\n",
       "\n",
       "    .dataframe thead th {\n",
       "        text-align: right;\n",
       "    }\n",
       "</style>\n",
       "<table border=\"1\" class=\"dataframe\">\n",
       "  <thead>\n",
       "    <tr style=\"text-align: right;\">\n",
       "      <th></th>\n",
       "      <th>Score</th>\n",
       "      <th>bow_word2vec</th>\n",
       "      <th>bow_clust2vec</th>\n",
       "      <th>language</th>\n",
       "    </tr>\n",
       "    <tr>\n",
       "      <th>ID</th>\n",
       "      <th></th>\n",
       "      <th></th>\n",
       "      <th></th>\n",
       "      <th></th>\n",
       "    </tr>\n",
       "  </thead>\n",
       "  <tbody>\n",
       "    <tr>\n",
       "      <th>0</th>\n",
       "      <td>9</td>\n",
       "      <td>[0.0227469543, 0.0409026681, 0.0287264666, 0.0...</td>\n",
       "      <td>[0.04031772, 0.0288417, 0.00614185, 0.06809973...</td>\n",
       "      <td>en</td>\n",
       "    </tr>\n",
       "    <tr>\n",
       "      <th>1</th>\n",
       "      <td>10</td>\n",
       "      <td>[0.0410866831, 0.0234945428, 0.0323280634, 0.0...</td>\n",
       "      <td>[0.03501698, 0.02333498, 0.01251062, 0.0569246...</td>\n",
       "      <td>en</td>\n",
       "    </tr>\n",
       "    <tr>\n",
       "      <th>2</th>\n",
       "      <td>8</td>\n",
       "      <td>[0.05490769, 0.03248798, 0.0296512, 0.07768815...</td>\n",
       "      <td>[0.04587762, 0.0282501, 0.00382094, 0.06212483...</td>\n",
       "      <td>en</td>\n",
       "    </tr>\n",
       "    <tr>\n",
       "      <th>3</th>\n",
       "      <td>4</td>\n",
       "      <td>[0.0286348588, 0.0208428292, 0.0139906317, 0.1...</td>\n",
       "      <td>[0.04349127, 0.02652042, -0.00698592, 0.065983...</td>\n",
       "      <td>en</td>\n",
       "    </tr>\n",
       "    <tr>\n",
       "      <th>4</th>\n",
       "      <td>7</td>\n",
       "      <td>[0.015773149, 0.0392650257, 0.0291523327, 0.09...</td>\n",
       "      <td>[0.0409446889, 0.0242504175, 0.012562747, 0.07...</td>\n",
       "      <td>en</td>\n",
       "    </tr>\n",
       "  </tbody>\n",
       "</table>\n",
       "</div>"
      ],
      "text/plain": [
       "    Score                                       bow_word2vec  \\\n",
       "ID                                                             \n",
       "0       9  [0.0227469543, 0.0409026681, 0.0287264666, 0.0...   \n",
       "1      10  [0.0410866831, 0.0234945428, 0.0323280634, 0.0...   \n",
       "2       8  [0.05490769, 0.03248798, 0.0296512, 0.07768815...   \n",
       "3       4  [0.0286348588, 0.0208428292, 0.0139906317, 0.1...   \n",
       "4       7  [0.015773149, 0.0392650257, 0.0291523327, 0.09...   \n",
       "\n",
       "                                        bow_clust2vec language  \n",
       "ID                                                              \n",
       "0   [0.04031772, 0.0288417, 0.00614185, 0.06809973...       en  \n",
       "1   [0.03501698, 0.02333498, 0.01251062, 0.0569246...       en  \n",
       "2   [0.04587762, 0.0282501, 0.00382094, 0.06212483...       en  \n",
       "3   [0.04349127, 0.02652042, -0.00698592, 0.065983...       en  \n",
       "4   [0.0409446889, 0.0242504175, 0.012562747, 0.07...       en  "
      ]
     },
     "execution_count": 3,
     "metadata": {},
     "output_type": "execute_result"
    }
   ],
   "source": [
    "df = pd.read_csv(\"labeled_bow.csv\", index_col=\"ID\")\n",
    "df[\"bow_word2vec\"] = df[\"bow_word2vec\"].apply(lambda x: parse_np_array(x) if type(x) == str and \"[\" in x else None)\n",
    "df[\"bow_clust2vec\"] = df[\"bow_clust2vec\"].apply(lambda x: parse_np_array(x) if type(x) == str and \"[\" in x else None)\n",
    "df.head(5)"
   ]
  },
  {
   "cell_type": "code",
   "execution_count": 4,
   "metadata": {},
   "outputs": [],
   "source": [
    "y = np.array(df[\"Score\"])\n",
    "X_w2v = np.array(list(df[\"bow_word2vec\"]))\n",
    "X_c2v = np.array(list(df[\"bow_clust2vec\"]))"
   ]
  },
  {
   "cell_type": "code",
   "execution_count": 5,
   "metadata": {},
   "outputs": [],
   "source": [
    "ss = StandardScaler()\n",
    "X_w2v = ss.fit_transform(X_w2v)\n",
    "X_c2v = ss.fit_transform(X_c2v)"
   ]
  },
  {
   "cell_type": "code",
   "execution_count": 6,
   "metadata": {},
   "outputs": [
    {
     "data": {
      "text/plain": [
       "((700, 300), (300, 300))"
      ]
     },
     "execution_count": 6,
     "metadata": {},
     "output_type": "execute_result"
    }
   ],
   "source": [
    "wX_train, wX_test, y_train, y_test = train_test_split(X_w2v, y, test_size=0.30, random_state=42)\n",
    "cX_train, cX_test, y_train, y_test = train_test_split(X_c2v, y, test_size=0.30, random_state=42)\n",
    "wX_train.shape, wX_test.shape"
   ]
  },
  {
   "cell_type": "code",
   "execution_count": 7,
   "metadata": {},
   "outputs": [],
   "source": [
    "def eval_model(model, X_train, X_test, y_train, y_test, fit=True):\n",
    "    if fit:\n",
    "        model.fit(X_train, y_train)\n",
    "    predicted_y = model.predict(X_test)\n",
    "    return 1 - np.sum(np.abs(y_test - predicted_y))/(len(y_test)*10)"
   ]
  },
  {
   "cell_type": "code",
   "execution_count": 8,
   "metadata": {},
   "outputs": [],
   "source": [
    "sgd_clf = SGDClassifier(random_state=42, max_iter=200, alpha=0.01, )\n",
    "rf_clf = RandomForestClassifier(random_state=42, n_estimators=5)\n",
    "svc_clf = LinearSVC(random_state=42, multi_class=\"crammer_singer\")\n",
    "# lr_clf = LogisticRegression(random_state=42, C=0.5, max_iter=200, multi_class=\"multinomial\")\n",
    "mlp_clf = MLPClassifier(random_state=42, max_iter=500)"
   ]
  },
  {
   "cell_type": "code",
   "execution_count": 9,
   "metadata": {},
   "outputs": [
    {
     "name": "stdout",
     "output_type": "stream",
     "text": [
      "sgd_clf\n",
      "BOW_word2vec:  0.821333333333\n",
      "BOW_clust2vec:  0.804333333333\n",
      "rf_clf\n",
      "BOW_word2vec:  0.772\n",
      "BOW_clust2vec:  0.770666666667\n",
      "svc_clf\n",
      "BOW_word2vec:  0.780666666667\n",
      "BOW_clust2vec:  0.762333333333\n",
      "mlp_clf\n",
      "BOW_word2vec:  0.811666666667\n",
      "BOW_clust2vec:  0.810333333333\n"
     ]
    }
   ],
   "source": [
    "for model in [\"sgd_clf\", \"rf_clf\", \"svc_clf\", \"mlp_clf\"]:\n",
    "    print(model)\n",
    "    print(\"BOW_word2vec: \",eval_model(globals()[model], wX_train, wX_test, y_train, y_test))\n",
    "    print(\"BOW_clust2vec: \",eval_model(globals()[model], cX_train, cX_test, y_train, y_test))"
   ]
  },
  {
   "cell_type": "markdown",
   "metadata": {},
   "source": [
    "# Let's refactor the code into a single class"
   ]
  },
  {
   "cell_type": "code",
   "execution_count": 10,
   "metadata": {},
   "outputs": [],
   "source": [
    "class CLassification:\n",
    "    def __init__(self, df_path, only_tr=False):\n",
    "        self.df = self.load_df(df_path, only_tr)\n",
    "        \n",
    "        self.X_w2v, self.X_c2v, self.y = self.load_Xy()\n",
    "        \n",
    "        self.wX_train, self.wX_test, self.y_train, self.y_test = train_test_split(\\\n",
    "            X_w2v, y, test_size=0.30, random_state=42)\n",
    "        \n",
    "        self.cX_train, self.cX_test, self.y_train, self.y_test = train_test_split(\\\n",
    "            X_c2v, y, test_size=0.30, random_state=42)\n",
    "        \n",
    "        \n",
    "    def load_df(self, df_path, only_tr):\n",
    "        df = pd.read_csv(df_path, index_col=\"ID\")\n",
    "        if only_tr:\n",
    "            df = df[df[\"language\"] == \"tr\"]\n",
    "        df[\"bow_word2vec\"] = df[\"bow_word2vec\"].apply(lambda x: parse_np_array(x) if type(x) == str and \"[\" in x else None)\n",
    "        df[\"bow_clust2vec\"] = df[\"bow_clust2vec\"].apply(lambda x: parse_np_array(x) if type(x) == str and \"[\" in x else None)\n",
    "        return df\n",
    "\n",
    "    def load_Xy(self):\n",
    "        y = np.array(self.df[\"Score\"])\n",
    "        X_w2v = self.scale_X(np.array(list(self.df[\"bow_word2vec\"])))\n",
    "        X_c2v = self.scale_X(np.array(list(self.df[\"bow_clust2vec\"])))\n",
    "        return X_w2v, X_c2v, y\n",
    "    \n",
    "    def scale_X(self, X):\n",
    "        ss = StandardScaler()\n",
    "        X = ss.fit_transform(X)\n",
    "        \n",
    "    def eval_model(self, model, X_train, X_test, y_train, y_test, fit=True):\n",
    "        if fit:\n",
    "            model.fit(X_train, y_train)\n",
    "        predicted_y = model.predict(X_test)\n",
    "        return 1 - np.sum(np.abs(y_test - predicted_y))/(len(y_test)*10) \n",
    "    \n",
    "    def eval_data(self):\n",
    "        sgd_clf = SGDClassifier(random_state=42, max_iter=200, alpha=0.01, )\n",
    "        rf_clf = RandomForestClassifier(random_state=42, n_estimators=5)\n",
    "        svc_clf = LinearSVC(random_state=42, multi_class=\"crammer_singer\")\n",
    "        # lr_clf = LogisticRegression(random_state=42, C=0.5, max_iter=200, multi_class=\"multinomial\")\n",
    "        mlp_clf = MLPClassifier(random_state=42, max_iter=500)\n",
    "        for model in [\"sgd_clf\", \"rf_clf\", \"svc_clf\", \"mlp_clf\"]:\n",
    "            print(model)\n",
    "            print(\"BOW_word2vec: \",eval_model(locals()[model], self.wX_train, self.wX_test, self.y_train, self.y_test))\n",
    "            print(\"BOW_clust2vec: \",eval_model(locals()[model], self.cX_train, self.cX_test, self.y_train, self.y_test))"
   ]
  },
  {
   "cell_type": "markdown",
   "metadata": {},
   "source": [
    "# Now let's try Pseudo-Cross-Lingual"
   ]
  },
  {
   "cell_type": "code",
   "execution_count": 11,
   "metadata": {},
   "outputs": [
    {
     "name": "stdout",
     "output_type": "stream",
     "text": [
      "sgd_clf\n",
      "BOW_word2vec:  0.821333333333\n",
      "BOW_clust2vec:  0.804333333333\n",
      "rf_clf\n",
      "BOW_word2vec:  0.772\n",
      "BOW_clust2vec:  0.770666666667\n",
      "svc_clf\n",
      "BOW_word2vec:  0.780666666667\n",
      "BOW_clust2vec:  0.762333333333\n",
      "mlp_clf\n",
      "BOW_word2vec:  0.811666666667\n",
      "BOW_clust2vec:  0.810333333333\n"
     ]
    }
   ],
   "source": [
    "cl = CLassification(\"labeled_bow_pcl.csv\")  ## pcl: pseudo-cross-lingual\n",
    "cl.eval_data()"
   ]
  },
  {
   "cell_type": "markdown",
   "metadata": {},
   "source": [
    "# Training and testing only on Turkish reviews"
   ]
  },
  {
   "cell_type": "code",
   "execution_count": 12,
   "metadata": {},
   "outputs": [
    {
     "name": "stdout",
     "output_type": "stream",
     "text": [
      "sgd_clf\n",
      "BOW_word2vec:  0.821333333333\n",
      "BOW_clust2vec:  0.804333333333\n",
      "rf_clf\n",
      "BOW_word2vec:  0.772\n",
      "BOW_clust2vec:  0.770666666667\n",
      "svc_clf\n",
      "BOW_word2vec:  0.780666666667\n",
      "BOW_clust2vec:  0.762333333333\n",
      "mlp_clf\n",
      "BOW_word2vec:  0.811666666667\n",
      "BOW_clust2vec:  0.810333333333\n"
     ]
    }
   ],
   "source": [
    "cl = CLassification(\"labeled_bow_pcl.csv\", only_tr=True)  ## pcl: pseudo-cross-lingual\n",
    "cl.eval_data()"
   ]
  },
  {
   "cell_type": "code",
   "execution_count": 13,
   "metadata": {},
   "outputs": [
    {
     "name": "stdout",
     "output_type": "stream",
     "text": [
      "sgd_clf\n",
      "BOW_word2vec:  0.821333333333\n",
      "BOW_clust2vec:  0.804333333333\n",
      "rf_clf\n",
      "BOW_word2vec:  0.772\n",
      "BOW_clust2vec:  0.770666666667\n",
      "svc_clf\n",
      "BOW_word2vec:  0.780666666667\n",
      "BOW_clust2vec:  0.762333333333\n",
      "mlp_clf\n",
      "BOW_word2vec:  0.811666666667\n",
      "BOW_clust2vec:  0.810333333333\n"
     ]
    }
   ],
   "source": [
    "cl = CLassification(\"labeled_bow.csv\", only_tr=True)  ## pcl: pseudo-cross-lingual\n",
    "cl.eval_data()"
   ]
  },
  {
   "cell_type": "code",
   "execution_count": null,
   "metadata": {},
   "outputs": [],
   "source": []
  }
 ],
 "metadata": {
  "kernelspec": {
   "display_name": "Python 3",
   "language": "python",
   "name": "python3"
  },
  "language_info": {
   "codemirror_mode": {
    "name": "ipython",
    "version": 3
   },
   "file_extension": ".py",
   "mimetype": "text/x-python",
   "name": "python",
   "nbconvert_exporter": "python",
   "pygments_lexer": "ipython3",
   "version": "3.5.2"
  }
 },
 "nbformat": 4,
 "nbformat_minor": 2
}
