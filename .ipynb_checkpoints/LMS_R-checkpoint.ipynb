{
 "cells": [
  {
   "cell_type": "markdown",
   "metadata": {},
   "source": [
    "## Merging reviews of the same movies, scores and language"
   ]
  },
  {
   "cell_type": "code",
   "execution_count": 1,
   "metadata": {},
   "outputs": [],
   "source": [
    "import pandas as pd, numpy as np, ast, re"
   ]
  },
  {
   "cell_type": "code",
   "execution_count": 2,
   "metadata": {},
   "outputs": [],
   "source": [
    "def parse_np_array(array_string):\n",
    "    pattern = r'''# Match (mandatory) whitespace between...\n",
    "              (?<=\\]) # ] and\n",
    "              \\s+\n",
    "              (?= \\[) # [, or\n",
    "              |\n",
    "              (?<=[^\\[\\]\\s]) \n",
    "              \\s+\n",
    "              (?= [^\\[\\]\\s]) # two non-bracket non-whitespace characters\n",
    "           '''\n",
    "    fixed_string = re.sub(pattern, ',', array_string, flags=re.VERBOSE)\n",
    "    return np.array(ast.literal_eval(fixed_string))"
   ]
  },
  {
   "cell_type": "code",
   "execution_count": 4,
   "metadata": {},
   "outputs": [
    {
     "data": {
      "text/html": [
       "<div>\n",
       "<style scoped>\n",
       "    .dataframe tbody tr th:only-of-type {\n",
       "        vertical-align: middle;\n",
       "    }\n",
       "\n",
       "    .dataframe tbody tr th {\n",
       "        vertical-align: top;\n",
       "    }\n",
       "\n",
       "    .dataframe thead th {\n",
       "        text-align: right;\n",
       "    }\n",
       "</style>\n",
       "<table border=\"1\" class=\"dataframe\">\n",
       "  <thead>\n",
       "    <tr style=\"text-align: right;\">\n",
       "      <th></th>\n",
       "      <th>Language</th>\n",
       "      <th>Movie_ID</th>\n",
       "      <th>Score</th>\n",
       "      <th>rev_vec</th>\n",
       "    </tr>\n",
       "  </thead>\n",
       "  <tbody>\n",
       "    <tr>\n",
       "      <th>0</th>\n",
       "      <td>en</td>\n",
       "      <td>-800777728</td>\n",
       "      <td>9</td>\n",
       "      <td>[0.0476252735, 0.0501914099, 0.00908411294, 0....</td>\n",
       "    </tr>\n",
       "    <tr>\n",
       "      <th>1</th>\n",
       "      <td>en</td>\n",
       "      <td>-800777728</td>\n",
       "      <td>10</td>\n",
       "      <td>[0.06245849, 0.03659325, 0.00594799, 0.0885859...</td>\n",
       "    </tr>\n",
       "    <tr>\n",
       "      <th>2</th>\n",
       "      <td>en</td>\n",
       "      <td>-1018312192</td>\n",
       "      <td>8</td>\n",
       "      <td>[0.06340759, 0.03700611, 0.00736885, 0.0935821...</td>\n",
       "    </tr>\n",
       "    <tr>\n",
       "      <th>3</th>\n",
       "      <td>en</td>\n",
       "      <td>-1018312192</td>\n",
       "      <td>4</td>\n",
       "      <td>[0.05355327, 0.03974125, -0.01364674, 0.095303...</td>\n",
       "    </tr>\n",
       "    <tr>\n",
       "      <th>4</th>\n",
       "      <td>en</td>\n",
       "      <td>-1018312192</td>\n",
       "      <td>7</td>\n",
       "      <td>[0.0395327732, 0.0405981392, 0.00484229811, 0....</td>\n",
       "    </tr>\n",
       "  </tbody>\n",
       "</table>\n",
       "</div>"
      ],
      "text/plain": [
       "  Language    Movie_ID  Score  \\\n",
       "0       en  -800777728      9   \n",
       "1       en  -800777728     10   \n",
       "2       en -1018312192      8   \n",
       "3       en -1018312192      4   \n",
       "4       en -1018312192      7   \n",
       "\n",
       "                                             rev_vec  \n",
       "0  [0.0476252735, 0.0501914099, 0.00908411294, 0....  \n",
       "1  [0.06245849, 0.03659325, 0.00594799, 0.0885859...  \n",
       "2  [0.06340759, 0.03700611, 0.00736885, 0.0935821...  \n",
       "3  [0.05355327, 0.03974125, -0.01364674, 0.095303...  \n",
       "4  [0.0395327732, 0.0405981392, 0.00484229811, 0....  "
      ]
     },
     "execution_count": 4,
     "metadata": {},
     "output_type": "execute_result"
    }
   ],
   "source": [
    "LMSR_df = pd.read_csv(\"datasets/LMSR_rev2vec.csv\")\n",
    "LMSR_df[\"rev_vec\"] = LMSR_df[\"rev_vec\"].apply(lambda x: parse_np_array(x) if type(x) == str and \"[\" in x else None)\n",
    "LMSR_df.head(5)"
   ]
  },
  {
   "cell_type": "code",
   "execution_count": 5,
   "metadata": {},
   "outputs": [],
   "source": [
    "def merging_function(frame):\n",
    "    return np.mean(frame[\"rev_vec\"])"
   ]
  },
  {
   "cell_type": "code",
   "execution_count": 6,
   "metadata": {},
   "outputs": [
    {
     "data": {
      "text/html": [
       "<div>\n",
       "<style scoped>\n",
       "    .dataframe tbody tr th:only-of-type {\n",
       "        vertical-align: middle;\n",
       "    }\n",
       "\n",
       "    .dataframe tbody tr th {\n",
       "        vertical-align: top;\n",
       "    }\n",
       "\n",
       "    .dataframe thead th {\n",
       "        text-align: right;\n",
       "    }\n",
       "</style>\n",
       "<table border=\"1\" class=\"dataframe\">\n",
       "  <thead>\n",
       "    <tr style=\"text-align: right;\">\n",
       "      <th></th>\n",
       "      <th></th>\n",
       "      <th></th>\n",
       "      <th>0</th>\n",
       "    </tr>\n",
       "    <tr>\n",
       "      <th>Movie_ID</th>\n",
       "      <th>Language</th>\n",
       "      <th>Score</th>\n",
       "      <th></th>\n",
       "    </tr>\n",
       "  </thead>\n",
       "  <tbody>\n",
       "    <tr>\n",
       "      <th rowspan=\"4\" valign=\"top\">-2144779484</th>\n",
       "      <th rowspan=\"2\" valign=\"top\">en</th>\n",
       "      <th>4</th>\n",
       "      <td>[0.0766620412, 0.0301413387, 0.022697458, 0.08...</td>\n",
       "    </tr>\n",
       "    <tr>\n",
       "      <th>9</th>\n",
       "      <td>[0.0556243919, 0.0306321047, -0.00087418582, 0...</td>\n",
       "    </tr>\n",
       "    <tr>\n",
       "      <th rowspan=\"2\" valign=\"top\">tr</th>\n",
       "      <th>7</th>\n",
       "      <td>[-0.108544111, 0.235523254, 0.111588225, -0.09...</td>\n",
       "    </tr>\n",
       "    <tr>\n",
       "      <th>9</th>\n",
       "      <td>[0.0311885718, 0.141891941, 0.0640149638, 0.15...</td>\n",
       "    </tr>\n",
       "    <tr>\n",
       "      <th>-2104441082</th>\n",
       "      <th>en</th>\n",
       "      <th>10</th>\n",
       "      <td>[0.02883458, 0.03170469, 0.00097861, 0.0681932...</td>\n",
       "    </tr>\n",
       "  </tbody>\n",
       "</table>\n",
       "</div>"
      ],
      "text/plain": [
       "                                                                            0\n",
       "Movie_ID    Language Score                                                   \n",
       "-2144779484 en       4      [0.0766620412, 0.0301413387, 0.022697458, 0.08...\n",
       "                     9      [0.0556243919, 0.0306321047, -0.00087418582, 0...\n",
       "            tr       7      [-0.108544111, 0.235523254, 0.111588225, -0.09...\n",
       "                     9      [0.0311885718, 0.141891941, 0.0640149638, 0.15...\n",
       "-2104441082 en       10     [0.02883458, 0.03170469, 0.00097861, 0.0681932..."
      ]
     },
     "execution_count": 6,
     "metadata": {},
     "output_type": "execute_result"
    }
   ],
   "source": [
    "LMS_r = LMSR_df.copy()\n",
    "# LMS_r = LMS_r.groupby([\"Movie_ID\",\"Language\",\"Score\"])\n",
    "LMS_r = LMS_r.groupby([\"Movie_ID\",\"Language\",\"Score\"], as_index=False).apply(merging_function)\n",
    "LMS_r.to_frame().head(5)"
   ]
  },
  {
   "cell_type": "code",
   "execution_count": 7,
   "metadata": {},
   "outputs": [
    {
     "data": {
      "text/html": [
       "<div>\n",
       "<style scoped>\n",
       "    .dataframe tbody tr th:only-of-type {\n",
       "        vertical-align: middle;\n",
       "    }\n",
       "\n",
       "    .dataframe tbody tr th {\n",
       "        vertical-align: top;\n",
       "    }\n",
       "\n",
       "    .dataframe thead th {\n",
       "        text-align: right;\n",
       "    }\n",
       "</style>\n",
       "<table border=\"1\" class=\"dataframe\">\n",
       "  <thead>\n",
       "    <tr style=\"text-align: right;\">\n",
       "      <th></th>\n",
       "      <th>Movie_ID</th>\n",
       "      <th>Language</th>\n",
       "      <th>Score</th>\n",
       "      <th>merged_reviews_vector</th>\n",
       "    </tr>\n",
       "  </thead>\n",
       "  <tbody>\n",
       "    <tr>\n",
       "      <th>0</th>\n",
       "      <td>-2144779484</td>\n",
       "      <td>en</td>\n",
       "      <td>4</td>\n",
       "      <td>[0.0766620412, 0.0301413387, 0.022697458, 0.08...</td>\n",
       "    </tr>\n",
       "    <tr>\n",
       "      <th>1</th>\n",
       "      <td>-2144779484</td>\n",
       "      <td>en</td>\n",
       "      <td>9</td>\n",
       "      <td>[0.0556243919, 0.0306321047, -0.00087418582, 0...</td>\n",
       "    </tr>\n",
       "    <tr>\n",
       "      <th>2</th>\n",
       "      <td>-2144779484</td>\n",
       "      <td>tr</td>\n",
       "      <td>7</td>\n",
       "      <td>[-0.108544111, 0.235523254, 0.111588225, -0.09...</td>\n",
       "    </tr>\n",
       "    <tr>\n",
       "      <th>3</th>\n",
       "      <td>-2144779484</td>\n",
       "      <td>tr</td>\n",
       "      <td>9</td>\n",
       "      <td>[0.0311885718, 0.141891941, 0.0640149638, 0.15...</td>\n",
       "    </tr>\n",
       "    <tr>\n",
       "      <th>4</th>\n",
       "      <td>-2104441082</td>\n",
       "      <td>en</td>\n",
       "      <td>10</td>\n",
       "      <td>[0.02883458, 0.03170469, 0.00097861, 0.0681932...</td>\n",
       "    </tr>\n",
       "  </tbody>\n",
       "</table>\n",
       "</div>"
      ],
      "text/plain": [
       "     Movie_ID Language  Score  \\\n",
       "0 -2144779484       en      4   \n",
       "1 -2144779484       en      9   \n",
       "2 -2144779484       tr      7   \n",
       "3 -2144779484       tr      9   \n",
       "4 -2104441082       en     10   \n",
       "\n",
       "                               merged_reviews_vector  \n",
       "0  [0.0766620412, 0.0301413387, 0.022697458, 0.08...  \n",
       "1  [0.0556243919, 0.0306321047, -0.00087418582, 0...  \n",
       "2  [-0.108544111, 0.235523254, 0.111588225, -0.09...  \n",
       "3  [0.0311885718, 0.141891941, 0.0640149638, 0.15...  \n",
       "4  [0.02883458, 0.03170469, 0.00097861, 0.0681932...  "
      ]
     },
     "execution_count": 7,
     "metadata": {},
     "output_type": "execute_result"
    }
   ],
   "source": [
    "LMS_r_df = LMS_r.reset_index().rename({0:\"merged_reviews_vector\"}, axis=1)\n",
    "LMS_r_df.head(5)"
   ]
  },
  {
   "cell_type": "code",
   "execution_count": null,
   "metadata": {},
   "outputs": [],
   "source": [
    "LMS_r_df.to_csv(\"datasets/LMS_r_merged_reviews_per_movie_language_score.csv\", index=False)"
   ]
  },
  {
   "cell_type": "code",
   "execution_count": null,
   "metadata": {},
   "outputs": [],
   "source": []
  }
 ],
 "metadata": {
  "kernelspec": {
   "display_name": "Python 3",
   "language": "python",
   "name": "python3"
  },
  "language_info": {
   "codemirror_mode": {
    "name": "ipython",
    "version": 3
   },
   "file_extension": ".py",
   "mimetype": "text/x-python",
   "name": "python",
   "nbconvert_exporter": "python",
   "pygments_lexer": "ipython3",
   "version": "3.5.2"
  }
 },
 "nbformat": 4,
 "nbformat_minor": 2
}
