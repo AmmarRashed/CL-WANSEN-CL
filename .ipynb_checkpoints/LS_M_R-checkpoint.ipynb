{
 "cells": [
  {
   "cell_type": "code",
   "execution_count": 1,
   "metadata": {},
   "outputs": [],
   "source": [
    "import pandas as pd, numpy as np, ast, re"
   ]
  },
  {
   "cell_type": "code",
   "execution_count": 2,
   "metadata": {},
   "outputs": [
    {
     "data": {
      "text/html": [
       "<div>\n",
       "<style scoped>\n",
       "    .dataframe tbody tr th:only-of-type {\n",
       "        vertical-align: middle;\n",
       "    }\n",
       "\n",
       "    .dataframe tbody tr th {\n",
       "        vertical-align: top;\n",
       "    }\n",
       "\n",
       "    .dataframe thead th {\n",
       "        text-align: right;\n",
       "    }\n",
       "</style>\n",
       "<table border=\"1\" class=\"dataframe\">\n",
       "  <thead>\n",
       "    <tr style=\"text-align: right;\">\n",
       "      <th></th>\n",
       "      <th>Movie_ID</th>\n",
       "      <th>Language</th>\n",
       "      <th>Score</th>\n",
       "      <th>merged_reviews_vector</th>\n",
       "    </tr>\n",
       "  </thead>\n",
       "  <tbody>\n",
       "    <tr>\n",
       "      <th>0</th>\n",
       "      <td>-2144779484</td>\n",
       "      <td>en</td>\n",
       "      <td>4</td>\n",
       "      <td>[ 0.07401991  0.04054779  0.03553367  0.070901...</td>\n",
       "    </tr>\n",
       "    <tr>\n",
       "      <th>1</th>\n",
       "      <td>-2144779484</td>\n",
       "      <td>en</td>\n",
       "      <td>9</td>\n",
       "      <td>[  6.25433506e-02   3.19293781e-02   3.0851420...</td>\n",
       "    </tr>\n",
       "    <tr>\n",
       "      <th>2</th>\n",
       "      <td>-2144779484</td>\n",
       "      <td>tr</td>\n",
       "      <td>7</td>\n",
       "      <td>[-0.04627872 -0.12108444  0.12996513  0.056607...</td>\n",
       "    </tr>\n",
       "    <tr>\n",
       "      <th>3</th>\n",
       "      <td>-2144779484</td>\n",
       "      <td>tr</td>\n",
       "      <td>9</td>\n",
       "      <td>[-0.02786085 -0.07367174  0.07948475  0.034825...</td>\n",
       "    </tr>\n",
       "    <tr>\n",
       "      <th>4</th>\n",
       "      <td>-2104441082</td>\n",
       "      <td>en</td>\n",
       "      <td>10</td>\n",
       "      <td>[  2.95819733e-02   3.01975626e-02   1.0135583...</td>\n",
       "    </tr>\n",
       "  </tbody>\n",
       "</table>\n",
       "</div>"
      ],
      "text/plain": [
       "     Movie_ID Language  Score  \\\n",
       "0 -2144779484       en      4   \n",
       "1 -2144779484       en      9   \n",
       "2 -2144779484       tr      7   \n",
       "3 -2144779484       tr      9   \n",
       "4 -2104441082       en     10   \n",
       "\n",
       "                               merged_reviews_vector  \n",
       "0  [ 0.07401991  0.04054779  0.03553367  0.070901...  \n",
       "1  [  6.25433506e-02   3.19293781e-02   3.0851420...  \n",
       "2  [-0.04627872 -0.12108444  0.12996513  0.056607...  \n",
       "3  [-0.02786085 -0.07367174  0.07948475  0.034825...  \n",
       "4  [  2.95819733e-02   3.01975626e-02   1.0135583...  "
      ]
     },
     "execution_count": 2,
     "metadata": {},
     "output_type": "execute_result"
    }
   ],
   "source": [
    "df = pd.read_csv(\"datasets/LMS_r_merged_reviews_per_movie_language_score.csv\")\n",
    "df.head(5)"
   ]
  },
  {
   "cell_type": "code",
   "execution_count": 3,
   "metadata": {},
   "outputs": [
    {
     "data": {
      "text/html": [
       "<div>\n",
       "<style scoped>\n",
       "    .dataframe tbody tr th:only-of-type {\n",
       "        vertical-align: middle;\n",
       "    }\n",
       "\n",
       "    .dataframe tbody tr th {\n",
       "        vertical-align: top;\n",
       "    }\n",
       "\n",
       "    .dataframe thead th {\n",
       "        text-align: right;\n",
       "    }\n",
       "</style>\n",
       "<table border=\"1\" class=\"dataframe\">\n",
       "  <thead>\n",
       "    <tr style=\"text-align: right;\">\n",
       "      <th></th>\n",
       "      <th></th>\n",
       "      <th>Movie_ID</th>\n",
       "      <th>merged_reviews_vector</th>\n",
       "    </tr>\n",
       "    <tr>\n",
       "      <th>Language</th>\n",
       "      <th>Score</th>\n",
       "      <th></th>\n",
       "      <th></th>\n",
       "    </tr>\n",
       "  </thead>\n",
       "  <tbody>\n",
       "    <tr>\n",
       "      <th rowspan=\"10\" valign=\"top\">en</th>\n",
       "      <th>1</th>\n",
       "      <td>17</td>\n",
       "      <td>17</td>\n",
       "    </tr>\n",
       "    <tr>\n",
       "      <th>2</th>\n",
       "      <td>8</td>\n",
       "      <td>8</td>\n",
       "    </tr>\n",
       "    <tr>\n",
       "      <th>3</th>\n",
       "      <td>14</td>\n",
       "      <td>14</td>\n",
       "    </tr>\n",
       "    <tr>\n",
       "      <th>4</th>\n",
       "      <td>18</td>\n",
       "      <td>18</td>\n",
       "    </tr>\n",
       "    <tr>\n",
       "      <th>5</th>\n",
       "      <td>25</td>\n",
       "      <td>25</td>\n",
       "    </tr>\n",
       "    <tr>\n",
       "      <th>6</th>\n",
       "      <td>26</td>\n",
       "      <td>26</td>\n",
       "    </tr>\n",
       "    <tr>\n",
       "      <th>7</th>\n",
       "      <td>43</td>\n",
       "      <td>43</td>\n",
       "    </tr>\n",
       "    <tr>\n",
       "      <th>8</th>\n",
       "      <td>52</td>\n",
       "      <td>52</td>\n",
       "    </tr>\n",
       "    <tr>\n",
       "      <th>9</th>\n",
       "      <td>75</td>\n",
       "      <td>75</td>\n",
       "    </tr>\n",
       "    <tr>\n",
       "      <th>10</th>\n",
       "      <td>111</td>\n",
       "      <td>111</td>\n",
       "    </tr>\n",
       "    <tr>\n",
       "      <th rowspan=\"9\" valign=\"top\">tr</th>\n",
       "      <th>1</th>\n",
       "      <td>9</td>\n",
       "      <td>9</td>\n",
       "    </tr>\n",
       "    <tr>\n",
       "      <th>2</th>\n",
       "      <td>13</td>\n",
       "      <td>13</td>\n",
       "    </tr>\n",
       "    <tr>\n",
       "      <th>4</th>\n",
       "      <td>5</td>\n",
       "      <td>5</td>\n",
       "    </tr>\n",
       "    <tr>\n",
       "      <th>5</th>\n",
       "      <td>41</td>\n",
       "      <td>41</td>\n",
       "    </tr>\n",
       "    <tr>\n",
       "      <th>6</th>\n",
       "      <td>14</td>\n",
       "      <td>14</td>\n",
       "    </tr>\n",
       "    <tr>\n",
       "      <th>7</th>\n",
       "      <td>22</td>\n",
       "      <td>22</td>\n",
       "    </tr>\n",
       "    <tr>\n",
       "      <th>8</th>\n",
       "      <td>89</td>\n",
       "      <td>89</td>\n",
       "    </tr>\n",
       "    <tr>\n",
       "      <th>9</th>\n",
       "      <td>56</td>\n",
       "      <td>56</td>\n",
       "    </tr>\n",
       "    <tr>\n",
       "      <th>10</th>\n",
       "      <td>83</td>\n",
       "      <td>83</td>\n",
       "    </tr>\n",
       "  </tbody>\n",
       "</table>\n",
       "</div>"
      ],
      "text/plain": [
       "                Movie_ID  merged_reviews_vector\n",
       "Language Score                                 \n",
       "en       1            17                     17\n",
       "         2             8                      8\n",
       "         3            14                     14\n",
       "         4            18                     18\n",
       "         5            25                     25\n",
       "         6            26                     26\n",
       "         7            43                     43\n",
       "         8            52                     52\n",
       "         9            75                     75\n",
       "         10          111                    111\n",
       "tr       1             9                      9\n",
       "         2            13                     13\n",
       "         4             5                      5\n",
       "         5            41                     41\n",
       "         6            14                     14\n",
       "         7            22                     22\n",
       "         8            89                     89\n",
       "         9            56                     56\n",
       "         10           83                     83"
      ]
     },
     "execution_count": 3,
     "metadata": {},
     "output_type": "execute_result"
    }
   ],
   "source": [
    "merged_by_lang_and_movies = df.groupby([\"Language\",\"Score\"]).count()\n",
    "merged_by_lang_and_movies"
   ]
  },
  {
   "cell_type": "code",
   "execution_count": 4,
   "metadata": {},
   "outputs": [
    {
     "data": {
      "text/plain": [
       "'There are 224 movies'"
      ]
     },
     "execution_count": 4,
     "metadata": {},
     "output_type": "execute_result"
    }
   ],
   "source": [
    "\"There are {} movies\".format(len(df.groupby(\"Movie_ID\")))"
   ]
  },
  {
   "cell_type": "markdown",
   "metadata": {},
   "source": [
    "## Merging all movies with the same score for each language"
   ]
  },
  {
   "cell_type": "code",
   "execution_count": 5,
   "metadata": {},
   "outputs": [],
   "source": [
    "# len(df.groupby([\"Language\", \"Score\"])[\"merged_reviews_vector\"])"
   ]
  },
  {
   "cell_type": "code",
   "execution_count": null,
   "metadata": {},
   "outputs": [],
   "source": []
  },
  {
   "cell_type": "code",
   "execution_count": null,
   "metadata": {},
   "outputs": [],
   "source": []
  },
  {
   "cell_type": "code",
   "execution_count": null,
   "metadata": {},
   "outputs": [],
   "source": []
  },
  {
   "cell_type": "code",
   "execution_count": null,
   "metadata": {},
   "outputs": [],
   "source": []
  },
  {
   "cell_type": "code",
   "execution_count": null,
   "metadata": {},
   "outputs": [],
   "source": []
  },
  {
   "cell_type": "code",
   "execution_count": null,
   "metadata": {},
   "outputs": [],
   "source": []
  },
  {
   "cell_type": "code",
   "execution_count": null,
   "metadata": {},
   "outputs": [],
   "source": []
  },
  {
   "cell_type": "code",
   "execution_count": 6,
   "metadata": {},
   "outputs": [],
   "source": [
    "def mikolov(X, Y, W):\n",
    "    # min_W  for each i    ||W.x(i) - y(i)||^2\n",
    "    result = 0\n",
    "    for score in range(len(X)):\n",
    "        result += np.linalg.norm(W.dot(X[score]) - Y[score])**2\n",
    "    return result"
   ]
  },
  {
   "cell_type": "code",
   "execution_count": 7,
   "metadata": {},
   "outputs": [],
   "source": [
    "en_revs = dict()\n",
    "tr_revs = dict()\n",
    "for movie in df.set_index(\"Movie_ID\").iterrows():\n",
    "    vec = movie[1][\"merged_reviews_vector\"]\n",
    "    lang = movie[1][\"Language\"]\n",
    "    score = movie[1][\"Score\"]\n",
    "    if lang == \"en\":\n",
    "        en_revs[score] = vec\n",
    "    else:\n",
    "        tr_revs[score] = vec"
   ]
  },
  {
   "cell_type": "code",
   "execution_count": 8,
   "metadata": {},
   "outputs": [],
   "source": [
    "import ast\n",
    "def parse_np_array(array_string, as_nparray=True):\n",
    "    pattern = r'''# Match (mandatory) whitespace between...\n",
    "              (?<=\\]) # ] and\n",
    "              \\s+\n",
    "              (?= \\[) # [, or\n",
    "              |\n",
    "              (?<=[^\\[\\]\\s]) \n",
    "              \\s+\n",
    "              (?= [^\\[\\]\\s]) # two non-bracket non-whitespace characters\n",
    "           '''\n",
    "    fixed_string = re.sub(pattern, ',', array_string, flags=re.VERBOSE)\n",
    "    if as_nparray:\n",
    "        return np.array(ast.literal_eval(fixed_string))\n",
    "    return ast.literal_eval(fixed_string)"
   ]
  },
  {
   "cell_type": "code",
   "execution_count": 9,
   "metadata": {},
   "outputs": [],
   "source": [
    "def learn_translation_matrix(X,Y, iterations=20000, alpha=0.0001, alpha_change_rate=0.8):\n",
    "    np.random.seed(42)\n",
    "    W = np.random.random((300, 300))\n",
    "    for i in range(iterations):\n",
    "        gradient = np.zeros(300)\n",
    "        for score in range(len(X)):\n",
    "            error = X[score].dot(W) - Y[score]\n",
    "            gradient += alpha * np.gradient(error)\n",
    "        W += gradient\n",
    "        if i == 2000:\n",
    "            alpha /= 100\n",
    "\n",
    "        if i%1000 == 0:\n",
    "            alpha *= alpha_change_rate\n",
    "            print(\"Mikolov distance: {}\".format(mikolov(X, Y, W)))\n",
    "    return W"
   ]
  },
  {
   "cell_type": "code",
   "execution_count": 10,
   "metadata": {},
   "outputs": [],
   "source": [
    "X = np.array([parse_np_array(en_revs[sv]) for sv in sorted(tr_revs.keys())])\n",
    "Y = np.array([parse_np_array(tr_revs[sv]) for sv in sorted(tr_revs.keys())])"
   ]
  },
  {
   "cell_type": "code",
   "execution_count": 11,
   "metadata": {},
   "outputs": [
    {
     "name": "stdout",
     "output_type": "stream",
     "text": [
      "Mikolov distance: 449.9491346976322\n",
      "Mikolov distance: 311.4378905734043\n",
      "Mikolov distance: 279.6540619318195\n",
      "Mikolov distance: 279.74430060538106\n",
      "Mikolov distance: 279.8207080471185\n",
      "Mikolov distance: 279.8845357392851\n",
      "Mikolov distance: 279.9373286290398\n",
      "Mikolov distance: 279.9806714415886\n",
      "Mikolov distance: 280.01605555633625\n",
      "Mikolov distance: 280.0448173785205\n",
      "Mikolov distance: 280.06811784670964\n",
      "Mikolov distance: 280.08694452473344\n",
      "Mikolov distance: 280.10212513043473\n",
      "Mikolov distance: 280.1143459583688\n",
      "Mikolov distance: 280.1241714880865\n",
      "Mikolov distance: 280.1320631908741\n",
      "Mikolov distance: 280.13839657366697\n",
      "Mikolov distance: 280.1434760940823\n",
      "Mikolov distance: 280.1475479120136\n",
      "Mikolov distance: 280.150810615649\n"
     ]
    }
   ],
   "source": [
    "W = learn_translation_matrix(X, Y)"
   ]
  },
  {
   "cell_type": "code",
   "execution_count": null,
   "metadata": {},
   "outputs": [],
   "source": []
  }
 ],
 "metadata": {
  "kernelspec": {
   "display_name": "Python 3",
   "language": "python",
   "name": "python3"
  },
  "language_info": {
   "codemirror_mode": {
    "name": "ipython",
    "version": 3
   },
   "file_extension": ".py",
   "mimetype": "text/x-python",
   "name": "python",
   "nbconvert_exporter": "python",
   "pygments_lexer": "ipython3",
   "version": "3.5.2"
  }
 },
 "nbformat": 4,
 "nbformat_minor": 2
}
