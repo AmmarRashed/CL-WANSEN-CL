{
 "cells": [
  {
   "cell_type": "code",
   "execution_count": 1,
   "metadata": {},
   "outputs": [
    {
     "name": "stderr",
     "output_type": "stream",
     "text": [
      "/usr/local/lib/python3.5/dist-packages/h5py/__init__.py:36: FutureWarning: Conversion of the second argument of issubdtype from `float` to `np.floating` is deprecated. In future, it will be treated as `np.float64 == np.dtype(float).type`.\n",
      "  from ._conv import register_converters as _register_converters\n"
     ]
    }
   ],
   "source": [
    "import tensorflow as tf\n",
    "import pickle, pandas as pd, re, numpy as np, ast, warnings\n",
    "\n",
    "from joblib import Parallel, delayed\n",
    "\n",
    "import time\n",
    "from copy import deepcopy\n",
    "from collections import defaultdict, OrderedDict\n",
    "from itertools import chain, starmap\n",
    "from itertools import product\n",
    "import unicodedata\n",
    "from sklearn.linear_model import LinearRegression, LogisticRegression\n",
    "from sklearn.neural_network import MLPRegressor, MLPClassifier\n",
    "from sklearn.svm import SVR\n",
    "from sklearn.ensemble import RandomForestRegressor, RandomForestClassifier\n",
    "from sklearn.neighbors import KNeighborsClassifier\n",
    "from sklearn.metrics import f1_score, precision_score, accuracy_score, log_loss\n",
    "from sklearn.preprocessing import StandardScaler\n",
    "from sklearn.decomposition import PCA\n",
    "from sklearn.model_selection import StratifiedKFold\n",
    "from sklearn.pipeline import Pipeline\n",
    "\n",
    "from TurkishStemmer import TurkishStemmer\n",
    "warnings.filterwarnings(action='ignore', category=UserWarning, module='gensim')\n",
    "import gensim\n",
    "from textblob import TextBlob"
   ]
  },
  {
   "cell_type": "code",
   "execution_count": 2,
   "metadata": {},
   "outputs": [],
   "source": [
    "def reset_graph(seed=42):\n",
    "    tf.reset_default_graph()\n",
    "    tf.set_random_seed(seed)\n",
    "    np.random.seed(seed)\n",
    "    \n",
    "reset_graph()"
   ]
  },
  {
   "cell_type": "code",
   "execution_count": 3,
   "metadata": {},
   "outputs": [
    {
     "data": {
      "text/html": [
       "<div>\n",
       "<style scoped>\n",
       "    .dataframe tbody tr th:only-of-type {\n",
       "        vertical-align: middle;\n",
       "    }\n",
       "\n",
       "    .dataframe tbody tr th {\n",
       "        vertical-align: top;\n",
       "    }\n",
       "\n",
       "    .dataframe thead th {\n",
       "        text-align: right;\n",
       "    }\n",
       "</style>\n",
       "<table border=\"1\" class=\"dataframe\">\n",
       "  <thead>\n",
       "    <tr style=\"text-align: right;\">\n",
       "      <th></th>\n",
       "      <th>Language</th>\n",
       "      <th>Movie_ID</th>\n",
       "      <th>Review</th>\n",
       "      <th>Score</th>\n",
       "    </tr>\n",
       "  </thead>\n",
       "  <tbody>\n",
       "    <tr>\n",
       "      <th>0</th>\n",
       "      <td>en</td>\n",
       "      <td>-800777728</td>\n",
       "      <td>i love science fiction and i hate superheroes ...</td>\n",
       "      <td>9</td>\n",
       "    </tr>\n",
       "    <tr>\n",
       "      <th>1</th>\n",
       "      <td>en</td>\n",
       "      <td>-800777728</td>\n",
       "      <td>the movie is absolutely incredible all the per...</td>\n",
       "      <td>10</td>\n",
       "    </tr>\n",
       "    <tr>\n",
       "      <th>2</th>\n",
       "      <td>en</td>\n",
       "      <td>-1018312192</td>\n",
       "      <td>in a cinematic era dominated by reboots and mi...</td>\n",
       "      <td>8</td>\n",
       "    </tr>\n",
       "    <tr>\n",
       "      <th>3</th>\n",
       "      <td>en</td>\n",
       "      <td>-1018312192</td>\n",
       "      <td>movie review on rise of the planet of the apes...</td>\n",
       "      <td>4</td>\n",
       "    </tr>\n",
       "    <tr>\n",
       "      <th>4</th>\n",
       "      <td>en</td>\n",
       "      <td>-1018312192</td>\n",
       "      <td>during experiments to find a cure for alzheime...</td>\n",
       "      <td>7</td>\n",
       "    </tr>\n",
       "  </tbody>\n",
       "</table>\n",
       "</div>"
      ],
      "text/plain": [
       "  Language    Movie_ID                                             Review  \\\n",
       "0       en  -800777728  i love science fiction and i hate superheroes ...   \n",
       "1       en  -800777728  the movie is absolutely incredible all the per...   \n",
       "2       en -1018312192  in a cinematic era dominated by reboots and mi...   \n",
       "3       en -1018312192  movie review on rise of the planet of the apes...   \n",
       "4       en -1018312192  during experiments to find a cure for alzheime...   \n",
       "\n",
       "   Score  \n",
       "0      9  \n",
       "1     10  \n",
       "2      8  \n",
       "3      4  \n",
       "4      7  "
      ]
     },
     "execution_count": 3,
     "metadata": {},
     "output_type": "execute_result"
    }
   ],
   "source": [
    "df_full = pd.read_csv(\"../datasets/movie_data.csv\")\n",
    "df_full.head()"
   ]
  },
  {
   "cell_type": "code",
   "execution_count": 4,
   "metadata": {},
   "outputs": [
    {
     "data": {
      "text/html": [
       "<div>\n",
       "<style scoped>\n",
       "    .dataframe tbody tr th:only-of-type {\n",
       "        vertical-align: middle;\n",
       "    }\n",
       "\n",
       "    .dataframe tbody tr th {\n",
       "        vertical-align: top;\n",
       "    }\n",
       "\n",
       "    .dataframe thead th {\n",
       "        text-align: right;\n",
       "    }\n",
       "</style>\n",
       "<table border=\"1\" class=\"dataframe\">\n",
       "  <thead>\n",
       "    <tr style=\"text-align: right;\">\n",
       "      <th></th>\n",
       "      <th>Language</th>\n",
       "      <th>Movie_ID</th>\n",
       "      <th>Review</th>\n",
       "    </tr>\n",
       "    <tr>\n",
       "      <th>Score</th>\n",
       "      <th></th>\n",
       "      <th></th>\n",
       "      <th></th>\n",
       "    </tr>\n",
       "  </thead>\n",
       "  <tbody>\n",
       "    <tr>\n",
       "      <th>1</th>\n",
       "      <td>29</td>\n",
       "      <td>29</td>\n",
       "      <td>29</td>\n",
       "    </tr>\n",
       "    <tr>\n",
       "      <th>2</th>\n",
       "      <td>21</td>\n",
       "      <td>21</td>\n",
       "      <td>21</td>\n",
       "    </tr>\n",
       "    <tr>\n",
       "      <th>3</th>\n",
       "      <td>14</td>\n",
       "      <td>14</td>\n",
       "      <td>14</td>\n",
       "    </tr>\n",
       "    <tr>\n",
       "      <th>4</th>\n",
       "      <td>23</td>\n",
       "      <td>23</td>\n",
       "      <td>23</td>\n",
       "    </tr>\n",
       "    <tr>\n",
       "      <th>5</th>\n",
       "      <td>83</td>\n",
       "      <td>83</td>\n",
       "      <td>83</td>\n",
       "    </tr>\n",
       "    <tr>\n",
       "      <th>6</th>\n",
       "      <td>43</td>\n",
       "      <td>43</td>\n",
       "      <td>43</td>\n",
       "    </tr>\n",
       "    <tr>\n",
       "      <th>7</th>\n",
       "      <td>71</td>\n",
       "      <td>71</td>\n",
       "      <td>71</td>\n",
       "    </tr>\n",
       "    <tr>\n",
       "      <th>8</th>\n",
       "      <td>207</td>\n",
       "      <td>207</td>\n",
       "      <td>207</td>\n",
       "    </tr>\n",
       "    <tr>\n",
       "      <th>9</th>\n",
       "      <td>175</td>\n",
       "      <td>175</td>\n",
       "      <td>175</td>\n",
       "    </tr>\n",
       "    <tr>\n",
       "      <th>10</th>\n",
       "      <td>334</td>\n",
       "      <td>334</td>\n",
       "      <td>334</td>\n",
       "    </tr>\n",
       "  </tbody>\n",
       "</table>\n",
       "</div>"
      ],
      "text/plain": [
       "       Language  Movie_ID  Review\n",
       "Score                            \n",
       "1            29        29      29\n",
       "2            21        21      21\n",
       "3            14        14      14\n",
       "4            23        23      23\n",
       "5            83        83      83\n",
       "6            43        43      43\n",
       "7            71        71      71\n",
       "8           207       207     207\n",
       "9           175       175     175\n",
       "10          334       334     334"
      ]
     },
     "execution_count": 4,
     "metadata": {},
     "output_type": "execute_result"
    }
   ],
   "source": [
    "df_full.groupby(\"Score\").count()"
   ]
  },
  {
   "cell_type": "code",
   "execution_count": 5,
   "metadata": {},
   "outputs": [],
   "source": [
    "# en_vects = gensim.models.KeyedVectors.load_word2vec_format(r\"../../NLP_data/GoogleNews-vectors-negative300.bin\", binary=True)\n",
    "en_vects = gensim.models.KeyedVectors.load_word2vec_format(r\"../../NLP_data/wiki.en/wiki.en.vec\", binary=False)"
   ]
  },
  {
   "cell_type": "code",
   "execution_count": 6,
   "metadata": {},
   "outputs": [],
   "source": [
    "tr_vects = gensim.models.KeyedVectors.load_word2vec_format(r\"../../NLP_data/wiki.tr/wiki.tr.vec\", binary=False)"
   ]
  },
  {
   "cell_type": "code",
   "execution_count": 7,
   "metadata": {},
   "outputs": [],
   "source": [
    "turkish_stemmer = TurkishStemmer()\n",
    "def clean(text, language=\"en\", stem=True):\n",
    "    global turkish_stemmer\n",
    "    text = unicodedata.normalize('NFKD', text).encode('ascii', 'ignore').lower().decode(\"ascii\")\n",
    "    \n",
    "    if language == \"tr\":\n",
    "        if stem:\n",
    "            text= ' '.join([turkish_stemmer.stem(w) for w in text.split()])\n",
    "    text = re.sub(r\"[^A-Za-z0-9^,!.\\/'+-=]\", \" \", text)\n",
    "    text = re.sub(r'[0-9]', '#', text)\n",
    "    text = re.sub(r\",\", \" \", text)\n",
    "    text = re.sub(r\"\\.\", \" \", text)\n",
    "    text = re.sub(r\"!\", \" \", text)\n",
    "    text = re.sub(r\"\\/\", \" \", text)\n",
    "    text = re.sub(r\"\\^\", \" \", text)\n",
    "    text = re.sub(r\"\\+\", \" \", text)\n",
    "    text = re.sub(r\"\\-\", \" \", text)\n",
    "    text = re.sub(r\"\\=\", \" \", text)\n",
    "    text = re.sub(r\"'\", \" \", text)\n",
    "    text = re.sub(r\":\", \" \", text)\n",
    "    text = re.sub(r\"e(\\s)?-(\\s)?mail\", \"email\", text)\n",
    "\n",
    "    text = re.sub(r\"what's\", \"what is \", text)\n",
    "    text = re.sub(r\"\\'s\", \" \", text)\n",
    "    text = re.sub(r\"\\'ve\", \" have \", text)\n",
    "    text = re.sub(r\"can't\", \"cannot \", text)\n",
    "    text = re.sub(r\"n't\", \" not \", text)\n",
    "    text = re.sub(r\"i'm\", \"i am \", text)\n",
    "    text = re.sub(r\"\\'re\", \" are \", text)\n",
    "    text = re.sub(r\"\\'d\", \" would \", text)\n",
    "    text = re.sub(r\"\\'ll\", \" will \", text)\n",
    "    text = re.sub(r\" e g \", \" eg \", text)\n",
    "    text = re.sub(r\" b g \", \" bg \", text)\n",
    "    text = re.sub(r\" u s \", \" american \", text)\n",
    "    return TextBlob(text)\n"
   ]
  },
  {
   "cell_type": "code",
   "execution_count": 8,
   "metadata": {},
   "outputs": [],
   "source": [
    "VECTOR_SIZE = 300\n",
    "def vectorize(text, language):\n",
    "    global VECTOR_SIZE            \n",
    "    blob = clean(text, language)\n",
    "    vector = np.zeros(VECTOR_SIZE)\n",
    "    if len(blob.words) < 1:\n",
    "        return None\n",
    "\n",
    "    for word in blob.words:\n",
    "        try:\n",
    "            if language == \"en\":\n",
    "                vector += globals()[\"en_vects\"][word]\n",
    "            else:\n",
    "                vector += globals()[\"tr_vects\"][word]\n",
    "        except KeyError as e:\n",
    "#             warnings.warn(str(e))\n",
    "            continue\n",
    "    vector /= max(len(blob.words),1)\n",
    "    return vector"
   ]
  },
  {
   "cell_type": "code",
   "execution_count": 9,
   "metadata": {},
   "outputs": [],
   "source": [
    "def getvec(x):\n",
    "    lang, rev = x.split(\":::::\")\n",
    "    return vectorize(rev, lang)"
   ]
  },
  {
   "cell_type": "code",
   "execution_count": 10,
   "metadata": {},
   "outputs": [],
   "source": [
    "# LMSR\n",
    "def preprocess_data(df, language_column=\"Language\", review_column=\"Review\"):\n",
    "    LMSR_df = df.copy()\n",
    "    LMSR_df[\"lang_rev\"] = LMSR_df[[language_column, review_column]].apply(lambda x: x[0]+\":::::\"+x[1], axis=1)\n",
    "    LMSR_df[\"rev_vec\"] = LMSR_df[\"lang_rev\"].apply(lambda x:getvec(x))\n",
    "    LMSR_df.drop([\"lang_rev\", \"Review\"], axis=1, inplace=True)\n",
    "    return LMSR_df"
   ]
  },
  {
   "cell_type": "code",
   "execution_count": 11,
   "metadata": {},
   "outputs": [],
   "source": [
    "def distance_accuracy(y_true, y_predict):\n",
    "    res = 0\n",
    "    for i in range(len(y_true)):\n",
    "        res += abs(y_true[i]-y_predict[i])\n",
    "    return 1-res/(len(y_true)*len(set(y_true)))"
   ]
  },
  {
   "cell_type": "code",
   "execution_count": 12,
   "metadata": {},
   "outputs": [],
   "source": [
    "def get_XYy(LMSR):\n",
    "    X = np.zeros((len(LMSR), VECTOR_SIZE))\n",
    "    Y = np.zeros((len(LMSR), VECTOR_SIZE))\n",
    "    y = np.zeros((len(LMSR)))\n",
    "    i = 0\n",
    "    for rev in LMSR.iterrows():\n",
    "        score = rev[1][2]\n",
    "        rev_vec = rev[1][3]\n",
    "        score_vec = rev[1][4]\n",
    "\n",
    "        X[i] = rev_vec\n",
    "        Y[i] = score_vec\n",
    "        y[i] = score\n",
    "\n",
    "        i += 1\n",
    "    return X, Y, y"
   ]
  },
  {
   "cell_type": "code",
   "execution_count": 13,
   "metadata": {},
   "outputs": [],
   "source": [
    "def softmax(x):\n",
    "    \"\"\"Compute softmax values for each sets of scores in x.\"\"\"\n",
    "    e_x = np.exp(x - np.max(x))\n",
    "    return e_x / e_x.sum()"
   ]
  },
  {
   "cell_type": "code",
   "execution_count": 14,
   "metadata": {},
   "outputs": [],
   "source": [
    "def sigmoid(x, derive=False):\n",
    "    if derive:\n",
    "        return x*(1-x)\n",
    "    return 1/(1+np.exp(-x))"
   ]
  },
  {
   "cell_type": "code",
   "execution_count": 15,
   "metadata": {},
   "outputs": [],
   "source": [
    "def get_data_dict(df, get_L2and3=False):\n",
    "    data_dict = dict() #{language:{score: {movie_id: [rev1, rev2, ..., revn]}}}\n",
    "    L1 = dict()  # {(languge, score, movie_id): list of reviews with the same score with the same language}\n",
    "    L2 = dict()  # {(language, score): None}\n",
    "    L3 = dict()  # {score: None}\n",
    "    for _, row in df.iterrows():\n",
    "        lang = row[\"Language\"]\n",
    "        movie_id = row[\"Movie_ID\"]\n",
    "        score = row[\"Score\"]\n",
    "        review = row[\"rev_vec\"]\n",
    "\n",
    "        data_dict.setdefault(lang, {})\n",
    "        data_dict[lang].setdefault(score, {})\n",
    "        data_dict[lang][score].setdefault(movie_id, [])\n",
    "        data_dict[lang][score][movie_id].append(review)\n",
    "        \n",
    "        L1.setdefault((lang, score, movie_id), list())\n",
    "        L1[(lang, score, movie_id)].append(review)\n",
    "        if get_L2and3:    \n",
    "            L2[(lang, score)] = None\n",
    "            L3[score] = None\n",
    "    if get_L2and3:\n",
    "        return data_dict, L1, L2, L3\n",
    "    return data_dict, L1"
   ]
  },
  {
   "cell_type": "code",
   "execution_count": 16,
   "metadata": {},
   "outputs": [],
   "source": [
    "def get_L2(LSM_R, data_dict):\n",
    "    L2 = dict()  # {(language, score): list of movies vectors}\n",
    "    for language in data_dict:\n",
    "        for score in data_dict[language]:\n",
    "            for movie_id in data_dict[language][score]:\n",
    "                L2.setdefault((language, score), list())\n",
    "                L2[(language, score)].append(LSM_R[(language, score, movie_id)])\n",
    "    return L2"
   ]
  },
  {
   "cell_type": "code",
   "execution_count": 17,
   "metadata": {},
   "outputs": [],
   "source": [
    "def get_L3(LS_MR, data_dict):\n",
    "    L3 = dict()  # {score: vector of merged languages for that score}\n",
    "    for language in data_dict:\n",
    "        for score in data_dict[language]:\n",
    "            L3.setdefault(score, list())\n",
    "            L3[score].append(LS_MR[(language, score)])\n",
    "    return L3"
   ]
  },
  {
   "cell_type": "code",
   "execution_count": 18,
   "metadata": {},
   "outputs": [],
   "source": [
    "def merge(L, W):\n",
    "    merged = dict()  # {item: vector of merged subitems}\n",
    "    for i, item in enumerate(sorted(L)):\n",
    "        for subitem in L[item]:\n",
    "            merged.setdefault(item, [np.zeros(VECTOR_SIZE),0])\n",
    "            merged[item][0] += sigmoid(subitem.dot(W[i]))\n",
    "            merged[item][1] += 1\n",
    "    for item in merged:\n",
    "        merged[item] = merged[item][0]/ merged[item][1]\n",
    "    return merged"
   ]
  },
  {
   "cell_type": "code",
   "execution_count": 19,
   "metadata": {},
   "outputs": [],
   "source": [
    "def update_weights(L, delta, W, alpha=0.1):\n",
    "    for i, k in enumerate(sorted(L)):\n",
    "        for l in L[k]:\n",
    "            W[i] += l.T.dot(delta[i]) *alpha\n",
    "    return W"
   ]
  },
  {
   "cell_type": "code",
   "execution_count": 20,
   "metadata": {},
   "outputs": [],
   "source": [
    "def get_layer_error(delta, W):\n",
    "    error = 0\n",
    "    for i in range(len(delta)):\n",
    "        error += delta[i].dot(W[i].T)\n",
    "    return error/len(delta)"
   ]
  },
  {
   "cell_type": "code",
   "execution_count": 21,
   "metadata": {},
   "outputs": [],
   "source": [
    "def get_layer_delta(error, layer, size):\n",
    "    delta = np.zeros((size, VECTOR_SIZE))\n",
    "    j = 0\n",
    "    for i,k in enumerate(sorted(layer)):\n",
    "        for l in layer[k]:\n",
    "            delta[j] = error[i]*sigmoid(l, True)\n",
    "            j += 1\n",
    "    return delta"
   ]
  },
  {
   "cell_type": "markdown",
   "metadata": {},
   "source": [
    "## Training"
   ]
  },
  {
   "cell_type": "markdown",
   "metadata": {},
   "source": [
    "## Full-batch"
   ]
  },
  {
   "cell_type": "code",
   "execution_count": 22,
   "metadata": {},
   "outputs": [],
   "source": [
    "def get_score_vects(df, iterations=100, alpha=0.1, random_state=42, W1=None, W2=None, W3=None, W4=None):\n",
    "    LSMR = preprocess_data(df)\n",
    "    data_dict, L1 = get_data_dict(LSMR)\n",
    "    y = softmax(list(LSMR.Score))\n",
    "#     np.random.seed(random_state)\n",
    "    learning_curve = dict()\n",
    "    for i in range(iterations+1):\n",
    "        # forward propagation\n",
    "        if W1 is None:\n",
    "            W1 = 2*np.random.random((len(L1), 300, 300))-1\n",
    "\n",
    "        LSM_R = merge(L1, W1)\n",
    "        L2 = get_L2(LSM_R, data_dict)\n",
    "        if W2 is None:\n",
    "            W2 = 2*np.random.random((len(L2), 300, 300))-1\n",
    "\n",
    "        LS_MR = merge(L2, W2)\n",
    "        L3 = get_L3(LS_MR, data_dict)\n",
    "        if W3 is None:\n",
    "            W3 = 2*np.random.random((len(L3), 300, 300))-1\n",
    "\n",
    "        score_vectors_dict = merge(L3, W3)\n",
    "        l4 = sigmoid(np.array([v for k, v in sorted(score_vectors_dict.items())]))\n",
    "        if W4 is None:\n",
    "            W4 = 2*np.random.random((300, len(LSMR)))-1\n",
    "        \n",
    "        l5 = softmax(l4.dot(W4))  # predicted scores\n",
    "        \n",
    "        # Calculate the error\n",
    "        l5_error = np.mean(np.dot(np.log(l5), y))\n",
    "        \n",
    "        # Back propagation\n",
    "        l5_delta = l5_error * sigmoid(l5, True)\n",
    "        W4 += l4.T.dot(l5_delta)*alpha\n",
    "        \n",
    "        l4_error = l5_delta.dot(W4.T)\n",
    "        l4_delta = l4_error * sigmoid(l4, True)\n",
    "        \n",
    "        W3 = update_weights(L3, l4_delta, W3, alpha)\n",
    "        \n",
    "        l3_error = get_layer_error(l4_delta, W3)\n",
    "        l3_delta = get_layer_delta(l3_error, L3, len(L2))\n",
    "        \n",
    "        W2 = update_weights(L2, l3_delta, W2, alpha)\n",
    "        \n",
    "        l2_error = get_layer_error(l3_delta, W2)\n",
    "        l2_delta = get_layer_delta(l2_error, L2, len(LSMR))\n",
    "        \n",
    "        W1 = update_weights(L1, l2_delta, W1, alpha)\n",
    "        learning_curve[i] = l5_error\n",
    "        if i%10 == 0:\n",
    "            print(\"epoch {}:\\t{}\".format(i, np.abs(l5_error)))\n",
    "        if i%100 == 0:\n",
    "            alpha *= 0.9\n",
    "    return LSMR, score_vectors_dict, learning_curve"
   ]
  },
  {
   "cell_type": "code",
   "execution_count": 23,
   "metadata": {},
   "outputs": [],
   "source": [
    "def fit(LSMR, score_vect_dicts,random_state=42, regressor=MLPRegressor(), classifier=MLPClassifier()):\n",
    "    LSMR[\"score_vec\"] = LSMR[\"Score\"].apply(lambda x: score_vect_dicts[x] if x in score_vect_dicts else np.NaN)\n",
    "    LSMR.dropna(inplace=True)\n",
    "    \n",
    "    X, Y, y = get_XYy(LSMR)\n",
    "    \n",
    "    regressor.random_state = random_state\n",
    "    classifier.random_state = random_state\n",
    "        \n",
    "    regressor.fit(X, Y)\n",
    "    classifier.fit(Y, y)\n",
    "    return regressor, classifier"
   ]
  },
  {
   "cell_type": "code",
   "execution_count": 24,
   "metadata": {},
   "outputs": [],
   "source": [
    "def predict(LSMR, score_vect_dicts, regressor, classifier):\n",
    "    LSMR[\"score_vec\"] = LSMR[\"Score\"].apply(lambda x: score_vect_dicts[x] if x in score_vect_dicts else np.NaN)\n",
    "    LSMR.dropna(inplace=True)\n",
    "    \n",
    "    X, Y, y = get_XYy(LSMR)\n",
    "    \n",
    "    preds_score_vecs = regressor.predict(X)\n",
    "    pred_scores = classifier.predict(preds_score_vecs)\n",
    "    \n",
    "    return pred_scores, y"
   ]
  },
  {
   "cell_type": "code",
   "execution_count": 25,
   "metadata": {},
   "outputs": [],
   "source": [
    "def get_separate_test_indices(df,size=100):\n",
    "    tr_reviews = df[df.Language==\"tr\"]\n",
    "    classes = list(set(tr_reviews[\"Score\"]))\n",
    "    indices = []\n",
    "    for s in classes:\n",
    "        indices += list(np.random.choice(tr_reviews[tr_reviews.Score==s].index, int(size/len(classes))))\n",
    "    return indices"
   ]
  },
  {
   "cell_type": "code",
   "execution_count": 26,
   "metadata": {},
   "outputs": [
    {
     "data": {
      "text/plain": [
       "Language    0\n",
       "Movie_ID    0\n",
       "Score       0\n",
       "rev_vec     0\n",
       "dtype: int64"
      ]
     },
     "execution_count": 26,
     "metadata": {},
     "output_type": "execute_result"
    }
   ],
   "source": [
    "tr_test_indices = get_separate_test_indices(df_full)\n",
    "\n",
    "tronly_test_raw = df_full.loc[tr_test_indices]\n",
    "tronly_test = preprocess_data(tronly_test_raw)\n",
    "tronly_test[tronly_test.Language==\"en\"].count()"
   ]
  },
  {
   "cell_type": "code",
   "execution_count": 27,
   "metadata": {},
   "outputs": [
    {
     "data": {
      "text/html": [
       "<div>\n",
       "<style scoped>\n",
       "    .dataframe tbody tr th:only-of-type {\n",
       "        vertical-align: middle;\n",
       "    }\n",
       "\n",
       "    .dataframe tbody tr th {\n",
       "        vertical-align: top;\n",
       "    }\n",
       "\n",
       "    .dataframe thead th {\n",
       "        text-align: right;\n",
       "    }\n",
       "</style>\n",
       "<table border=\"1\" class=\"dataframe\">\n",
       "  <thead>\n",
       "    <tr style=\"text-align: right;\">\n",
       "      <th></th>\n",
       "      <th>Language</th>\n",
       "      <th>Movie_ID</th>\n",
       "      <th>Review</th>\n",
       "    </tr>\n",
       "    <tr>\n",
       "      <th>Score</th>\n",
       "      <th></th>\n",
       "      <th></th>\n",
       "      <th></th>\n",
       "    </tr>\n",
       "  </thead>\n",
       "  <tbody>\n",
       "    <tr>\n",
       "      <th>1</th>\n",
       "      <td>11</td>\n",
       "      <td>11</td>\n",
       "      <td>11</td>\n",
       "    </tr>\n",
       "    <tr>\n",
       "      <th>2</th>\n",
       "      <td>11</td>\n",
       "      <td>11</td>\n",
       "      <td>11</td>\n",
       "    </tr>\n",
       "    <tr>\n",
       "      <th>4</th>\n",
       "      <td>11</td>\n",
       "      <td>11</td>\n",
       "      <td>11</td>\n",
       "    </tr>\n",
       "    <tr>\n",
       "      <th>5</th>\n",
       "      <td>11</td>\n",
       "      <td>11</td>\n",
       "      <td>11</td>\n",
       "    </tr>\n",
       "    <tr>\n",
       "      <th>6</th>\n",
       "      <td>11</td>\n",
       "      <td>11</td>\n",
       "      <td>11</td>\n",
       "    </tr>\n",
       "    <tr>\n",
       "      <th>7</th>\n",
       "      <td>11</td>\n",
       "      <td>11</td>\n",
       "      <td>11</td>\n",
       "    </tr>\n",
       "    <tr>\n",
       "      <th>8</th>\n",
       "      <td>11</td>\n",
       "      <td>11</td>\n",
       "      <td>11</td>\n",
       "    </tr>\n",
       "    <tr>\n",
       "      <th>9</th>\n",
       "      <td>11</td>\n",
       "      <td>11</td>\n",
       "      <td>11</td>\n",
       "    </tr>\n",
       "    <tr>\n",
       "      <th>10</th>\n",
       "      <td>11</td>\n",
       "      <td>11</td>\n",
       "      <td>11</td>\n",
       "    </tr>\n",
       "  </tbody>\n",
       "</table>\n",
       "</div>"
      ],
      "text/plain": [
       "       Language  Movie_ID  Review\n",
       "Score                            \n",
       "1            11        11      11\n",
       "2            11        11      11\n",
       "4            11        11      11\n",
       "5            11        11      11\n",
       "6            11        11      11\n",
       "7            11        11      11\n",
       "8            11        11      11\n",
       "9            11        11      11\n",
       "10           11        11      11"
      ]
     },
     "execution_count": 27,
     "metadata": {},
     "output_type": "execute_result"
    }
   ],
   "source": [
    "tronly_test_raw.groupby(\"Score\").count()"
   ]
  },
  {
   "cell_type": "code",
   "execution_count": 28,
   "metadata": {},
   "outputs": [
    {
     "data": {
      "text/html": [
       "<div>\n",
       "<style scoped>\n",
       "    .dataframe tbody tr th:only-of-type {\n",
       "        vertical-align: middle;\n",
       "    }\n",
       "\n",
       "    .dataframe tbody tr th {\n",
       "        vertical-align: top;\n",
       "    }\n",
       "\n",
       "    .dataframe thead th {\n",
       "        text-align: right;\n",
       "    }\n",
       "</style>\n",
       "<table border=\"1\" class=\"dataframe\">\n",
       "  <thead>\n",
       "    <tr style=\"text-align: right;\">\n",
       "      <th></th>\n",
       "      <th>Language</th>\n",
       "      <th>Movie_ID</th>\n",
       "      <th>Review</th>\n",
       "    </tr>\n",
       "    <tr>\n",
       "      <th>Score</th>\n",
       "      <th></th>\n",
       "      <th></th>\n",
       "      <th></th>\n",
       "    </tr>\n",
       "  </thead>\n",
       "  <tbody>\n",
       "    <tr>\n",
       "      <th>1</th>\n",
       "      <td>24</td>\n",
       "      <td>24</td>\n",
       "      <td>24</td>\n",
       "    </tr>\n",
       "    <tr>\n",
       "      <th>2</th>\n",
       "      <td>15</td>\n",
       "      <td>15</td>\n",
       "      <td>15</td>\n",
       "    </tr>\n",
       "    <tr>\n",
       "      <th>3</th>\n",
       "      <td>14</td>\n",
       "      <td>14</td>\n",
       "      <td>14</td>\n",
       "    </tr>\n",
       "    <tr>\n",
       "      <th>4</th>\n",
       "      <td>18</td>\n",
       "      <td>18</td>\n",
       "      <td>18</td>\n",
       "    </tr>\n",
       "    <tr>\n",
       "      <th>5</th>\n",
       "      <td>73</td>\n",
       "      <td>73</td>\n",
       "      <td>73</td>\n",
       "    </tr>\n",
       "    <tr>\n",
       "      <th>6</th>\n",
       "      <td>35</td>\n",
       "      <td>35</td>\n",
       "      <td>35</td>\n",
       "    </tr>\n",
       "    <tr>\n",
       "      <th>7</th>\n",
       "      <td>61</td>\n",
       "      <td>61</td>\n",
       "      <td>61</td>\n",
       "    </tr>\n",
       "    <tr>\n",
       "      <th>8</th>\n",
       "      <td>197</td>\n",
       "      <td>197</td>\n",
       "      <td>197</td>\n",
       "    </tr>\n",
       "    <tr>\n",
       "      <th>9</th>\n",
       "      <td>165</td>\n",
       "      <td>165</td>\n",
       "      <td>165</td>\n",
       "    </tr>\n",
       "    <tr>\n",
       "      <th>10</th>\n",
       "      <td>323</td>\n",
       "      <td>323</td>\n",
       "      <td>323</td>\n",
       "    </tr>\n",
       "  </tbody>\n",
       "</table>\n",
       "</div>"
      ],
      "text/plain": [
       "       Language  Movie_ID  Review\n",
       "Score                            \n",
       "1            24        24      24\n",
       "2            15        15      15\n",
       "3            14        14      14\n",
       "4            18        18      18\n",
       "5            73        73      73\n",
       "6            35        35      35\n",
       "7            61        61      61\n",
       "8           197       197     197\n",
       "9           165       165     165\n",
       "10          323       323     323"
      ]
     },
     "execution_count": 28,
     "metadata": {},
     "output_type": "execute_result"
    }
   ],
   "source": [
    "df = df_full.drop(tr_test_indices)\n",
    "df.groupby(\"Score\").count()"
   ]
  },
  {
   "cell_type": "code",
   "execution_count": 29,
   "metadata": {},
   "outputs": [],
   "source": [
    "def eval_models(model, train, test, tronly, ytrain, ytest, ytronly, LL=False, predtrain=False):\n",
    "    \n",
    "    _ = time.time()\n",
    "    model.fit(train, ytrain)\n",
    "    trat = time.time()-_\n",
    "    \n",
    "    _ = time.time()\n",
    "    predtest= model.predict(test)\n",
    "    tet = time.time()-_\n",
    "    s_test = distance_accuracy(ytest, predtest)\n",
    "    f1_test = f1_score(ytest, predtest, average='weighted')\n",
    "    \n",
    "    _ = time.time()\n",
    "    predtronly = model.predict(tronly)\n",
    "    trt = time.time()-_\n",
    "    s_tr = distance_accuracy(ytronly, predtronly)\n",
    "    f1_tronly = f1_score(ytronly, predtronly, average='weighted')\n",
    "    \n",
    "    evals = OrderedDict()\n",
    "\n",
    "    evals[\"Test\"] = s_test\n",
    "    evals[\"Tr. Only\"] = s_tr\n",
    "    evals[\"Training Time\"] = trat\n",
    "    evals[\"Testing Time\"] = tet\n",
    "    evals[\"Tr.Test Time\"] = trt\n",
    "    evals[\"F1 Test\"] = f1_test\n",
    "    evals[\"F1 Tr. only\"] = f1_tronly\n",
    "    if LL:\n",
    "        evals[\"Test_LL\"] = np.NAN\n",
    "        evals[\"Tr. Only_LL\"] = np.NAN\n",
    "    if predtrain:\n",
    "        if LL:\n",
    "            evals[\"Train_LL\"] = np.NAN\n",
    "        _ = time.time()\n",
    "        predicted_train = model.predict(train)\n",
    "        predtra = time.time()-_\n",
    "        s_train = distance_accuracy(ytrain, predicted_train)\n",
    "        f1_train = f1_score(ytrain, predicted_train, average='weighted')\n",
    "        evals[\"F1 Train\"] = f1_train\n",
    "        evals[\"Train\"] = s_train\n",
    "        evals[\"Pred.Tra. Time\"] = predtra\n",
    "    return evals"
   ]
  },
  {
   "cell_type": "code",
   "execution_count": 30,
   "metadata": {},
   "outputs": [],
   "source": [
    "def get_total_average(scores_tables):\n",
    "#     scores_tables: {i_th trial:\n",
    "#                     {k_th fold:\n",
    "#                         {'Model': {'Test': 0.8090301003344482,\n",
    "#                                    'Train': 0.783361064891847,\n",
    "#                                    'Turkish only': 0.7414285714285714}}}\n",
    "    avgs = dict()\n",
    "    for trial in scores_tables:\n",
    "        for table in scores_tables[trial]:\n",
    "            for model in scores_tables[trial][table]:\n",
    "                avgs.setdefault(model, dict())\n",
    "                for metric, score in scores_tables[trial][table][model].items():\n",
    "                    avgs[model].setdefault(metric, list())\n",
    "                    avgs[model][metric].append(score)\n",
    "    for model in avgs:\n",
    "        for metric in avgs[model]:\n",
    "            avgs[model][metric] = np.mean(avgs[model][metric])\n",
    "    return pd.DataFrame(avgs)"
   ]
  },
  {
   "cell_type": "code",
   "execution_count": 31,
   "metadata": {},
   "outputs": [],
   "source": [
    "def get_trial_score(trial_scores_tables):\n",
    "#  trial_scores_tables: {k_th fold:\n",
    "#                             {'Model': {'Test': 0.8090301003344482,\n",
    "#                                        'Train': 0.783361064891847,\n",
    "#                                        'Turkish only': 0.7414285714285714}}}\n",
    "    avgs = dict()\n",
    "    for table in trial_scores_tables:\n",
    "        for model in trial_scores_tables[table]:\n",
    "            avgs.setdefault(model, dict())\n",
    "            for metric, score in trial_scores_tables[table][model].items():\n",
    "                avgs[model].setdefault(metric, list())\n",
    "                avgs[model][metric].append(score)\n",
    "    for model in avgs:\n",
    "        for metric in avgs[model]:\n",
    "            avgs[model][metric] = np.mean(avgs[model][metric])\n",
    "    return pd.DataFrame(avgs)"
   ]
  },
  {
   "cell_type": "code",
   "execution_count": 32,
   "metadata": {},
   "outputs": [],
   "source": [
    "def eval_selectivewaves_regclass(df_, tronly_test_raw, NUM_TRIALS=1, splits=10):  \n",
    "    df = df_.reset_index(drop=True)\n",
    "    learning_curves = dict()\n",
    "    scores_tables = OrderedDict()\n",
    "    tronly_test = preprocess_data(tronly_test_raw)\n",
    "    for i in range(NUM_TRIALS):\n",
    "        print(\"Trial:\\t{}\".format(i+1))\n",
    "        scores_tables[i] = OrderedDict()\n",
    "        learning_curves[i] = OrderedDict()\n",
    "        k = 0\n",
    "        skf = StratifiedKFold(n_splits=splits, random_state=i)\n",
    "        \n",
    "        for train_index, test_index in skf.split(df[\"Review\"], df[\"Language\"]):\n",
    "            print(\"K:\\t{}\".format(k+1))\n",
    "            scores_tables[i][k] = OrderedDict()\n",
    "            start = time.time()\n",
    "            LSMR, score_vect_dicts, training_curve = get_score_vects(\n",
    "                df.loc[train_index], random_state=i, alpha=1e-5, iterations=50)\n",
    "            regressor, classifier = fit(LSMR, score_vect_dicts, random_state=i)\n",
    "            trat = time.time()- start\n",
    "\n",
    "            test_data = preprocess_data(df.loc[test_index])\n",
    "            _ = time.time()\n",
    "            preds, true = predict(test_data, score_vect_dicts, regressor, classifier)\n",
    "            tet = time.time()-_\n",
    "\n",
    "            _ = time.time()\n",
    "            preds_train, true_train = predict(preprocess_data(df.loc[train_index]),\n",
    "                                              score_vect_dicts,\n",
    "                                              regressor, classifier)\n",
    "            predtra = time.time()-_\n",
    "\n",
    "            _ = time.time()\n",
    "            preds_tr, true_tr = predict(tronly_test, score_vect_dicts, regressor, classifier)\n",
    "            trt = time.time()-_\n",
    "\n",
    "            elapsed = time.time()-start\n",
    "\n",
    "            s = distance_accuracy(true, preds)\n",
    "            f1_test = f1_score(true, preds, average='weighted')\n",
    "\n",
    "            s_train = distance_accuracy(true_train, preds_train)\n",
    "            f1_train = f1_score(true_train, preds_train, average='weighted')\n",
    "\n",
    "            s_tr = distance_accuracy(true_tr, preds_tr)\n",
    "            f1_tronly = f1_test = f1_score(true_tr, preds_tr, average='weighted')        \n",
    "\n",
    "\n",
    "            lr = LogisticRegression(random_state=i)\n",
    "            mlp = MLPClassifier(random_state=i)\n",
    "            rf = RandomForestClassifier(random_state=i,n_jobs=-1)\n",
    "            train_mat = np.array(list(LSMR[\"rev_vec\"]))\n",
    "            test_mat = np.array(list(test_data[\"rev_vec\"]))\n",
    "            tronly_mat = np.array(list(tronly_test[\"rev_vec\"]))\n",
    "\n",
    "            evals = OrderedDict()\n",
    "            evals[\"Train\"] = s_train\n",
    "            evals[\"Test\"] = s\n",
    "            evals[\"Tr. Only\"] = s_tr\n",
    "            evals[\"Training Time\"] = trat\n",
    "            evals[\"Pred.Tra. Time\"] = predtra\n",
    "            evals[\"Testing Time\"] = tet\n",
    "            evals[\"Tr.Test Time\"] = trt\n",
    "            evals[\"F1 Test\"] = f1_test\n",
    "            evals[\"F1 Train\"] = f1_train\n",
    "            evals[\"F1 Tr. only\"] = f1_tronly\n",
    "            scores_tables[i][k][\"DeepSelect\"] = evals\n",
    "            scores_tables[i][k][\"MLP\"] = eval_models(\n",
    "                mlp, train_mat, test_mat, tronly_mat, true_train, true, true_tr)\n",
    "            scores_tables[i][k][\"Logistic Regression\"] = eval_models(\n",
    "                lr, train_mat, test_mat, tronly_mat, true_train, true, true_tr)\n",
    "            scores_tables[i][k][\"RandomForest\"] = eval_models(\n",
    "                rf, train_mat, test_mat, tronly_mat, true_train, true, true_tr)\n",
    "\n",
    "            print()\n",
    "            print(\"K:\\t{}\".format(k+1))\n",
    "            print(pd.DataFrame(scores_tables[i][k]))\n",
    "            print(\"\\nThis fold took:\", elapsed, \"seconds\\n\")\n",
    "            learning_curves[i][k] = training_curve\n",
    "            k += 1\n",
    "            print(\"*\"*10+\"\\n\")\n",
    "        print(\"Average scores for trial {}\".format(i))\n",
    "        print(get_trial_score(scores_tables[i]))\n",
    "        print(\"-\"*30)\n",
    "    print(\"%%\"*20)\n",
    "    print(\"Average of {} trials\".format(NUM_TRIALS))\n",
    "    print(get_total_average(scores_tables))\n",
    "    return scores_tables"
   ]
  },
  {
   "cell_type": "code",
   "execution_count": 33,
   "metadata": {
    "scrolled": true
   },
   "outputs": [
    {
     "name": "stdout",
     "output_type": "stream",
     "text": [
      "Trial:\t1\n",
      "K:\t1\n",
      "epoch 0:\t25.956314860342978\n",
      "epoch 10:\t25.409497985807565\n",
      "epoch 20:\t24.920203411155963\n",
      "epoch 30:\t24.631771262147012\n",
      "epoch 40:\t24.42629753865604\n",
      "epoch 50:\t24.266966276096248\n"
     ]
    },
    {
     "name": "stderr",
     "output_type": "stream",
     "text": [
      "/usr/local/lib/python3.5/dist-packages/sklearn/metrics/classification.py:1135: UndefinedMetricWarning: F-score is ill-defined and being set to 0.0 in labels with no predicted samples.\n",
      "  'precision', 'predicted', average, warn_for)\n",
      "/usr/local/lib/python3.5/dist-packages/sklearn/neural_network/multilayer_perceptron.py:564: ConvergenceWarning: Stochastic Optimizer: Maximum iterations (200) reached and the optimization hasn't converged yet.\n",
      "  % self.max_iter, ConvergenceWarning)\n",
      "/usr/local/lib/python3.5/dist-packages/sklearn/metrics/classification.py:1135: UndefinedMetricWarning: F-score is ill-defined and being set to 0.0 in labels with no predicted samples.\n",
      "  'precision', 'predicted', average, warn_for)\n",
      "/usr/local/lib/python3.5/dist-packages/sklearn/metrics/classification.py:1137: UndefinedMetricWarning: F-score is ill-defined and being set to 0.0 in labels with no true samples.\n",
      "  'recall', 'true', average, warn_for)\n"
     ]
    },
    {
     "name": "stdout",
     "output_type": "stream",
     "text": [
      "\n",
      "K:\t1\n",
      "                DeepSelect       MLP  Logistic Regression  RandomForest\n",
      "F1 Test           0.045606  0.208007             0.177592      0.266073\n",
      "F1 Tr. only       0.045606  0.063319             0.037101      0.045464\n",
      "F1 Train          0.273575       NaN                  NaN           NaN\n",
      "Pred.Tra. Time    1.741244       NaN                  NaN           NaN\n",
      "Test              0.796894  0.807646             0.802867      0.805257\n",
      "Testing Time      0.008798  0.000340             0.000133      0.103470\n",
      "Tr. Only          0.569024  0.625140             0.622896      0.638608\n",
      "Tr.Test Time      0.013528  0.000320             0.000103      0.105989\n",
      "Train             0.820072       NaN                  NaN           NaN\n",
      "Training Time    13.674850  1.327672             0.163316      0.109336\n",
      "\n",
      "This fold took: 15.64175534248352 seconds\n",
      "\n",
      "**********\n",
      "\n",
      "K:\t2\n",
      "epoch 0:\t23.029025491117427\n",
      "epoch 10:\t22.89758806705831\n",
      "epoch 20:\t22.515520809918996\n",
      "epoch 30:\t22.27455667965394\n",
      "epoch 40:\t22.0873479451234\n",
      "epoch 50:\t21.901529994032114\n"
     ]
    },
    {
     "name": "stderr",
     "output_type": "stream",
     "text": [
      "/usr/local/lib/python3.5/dist-packages/sklearn/metrics/classification.py:1135: UndefinedMetricWarning: F-score is ill-defined and being set to 0.0 in labels with no predicted samples.\n",
      "  'precision', 'predicted', average, warn_for)\n"
     ]
    },
    {
     "name": "stdout",
     "output_type": "stream",
     "text": [
      "\n",
      "K:\t2\n",
      "                DeepSelect       MLP  Logistic Regression  RandomForest\n",
      "F1 Test           0.022426  0.224415             0.194236      0.281373\n",
      "F1 Tr. only       0.022426  0.056124             0.021970      0.055350\n",
      "F1 Train          0.184528       NaN                  NaN           NaN\n",
      "Pred.Tra. Time    1.692556       NaN                  NaN           NaN\n",
      "Test              0.772043  0.803226             0.789247      0.789247\n",
      "Testing Time      0.008930  0.000314             0.000153      0.103081\n",
      "Tr. Only          0.531987  0.617284             0.602694      0.607183\n",
      "Tr.Test Time      0.013223  0.009504             0.000100      0.106475\n",
      "Train             0.810457       NaN                  NaN           NaN\n",
      "Training Time    14.958243  1.117959             0.175946      0.108122\n",
      "\n",
      "This fold took: 16.898865938186646 seconds\n",
      "\n",
      "**********\n",
      "\n",
      "K:\t3\n",
      "epoch 0:\t26.620948276040583\n",
      "epoch 10:\t26.28512284118945\n",
      "epoch 20:\t25.911411611659492\n",
      "epoch 30:\t25.65802572650343\n",
      "epoch 40:\t25.412288957464554\n",
      "epoch 50:\t25.18672151418607\n"
     ]
    },
    {
     "name": "stderr",
     "output_type": "stream",
     "text": [
      "/usr/local/lib/python3.5/dist-packages/sklearn/neural_network/multilayer_perceptron.py:564: ConvergenceWarning: Stochastic Optimizer: Maximum iterations (200) reached and the optimization hasn't converged yet.\n",
      "  % self.max_iter, ConvergenceWarning)\n",
      "/usr/local/lib/python3.5/dist-packages/sklearn/metrics/classification.py:1135: UndefinedMetricWarning: F-score is ill-defined and being set to 0.0 in labels with no predicted samples.\n",
      "  'precision', 'predicted', average, warn_for)\n",
      "/usr/local/lib/python3.5/dist-packages/sklearn/metrics/classification.py:1137: UndefinedMetricWarning: F-score is ill-defined and being set to 0.0 in labels with no true samples.\n",
      "  'recall', 'true', average, warn_for)\n"
     ]
    },
    {
     "name": "stdout",
     "output_type": "stream",
     "text": [
      "\n",
      "K:\t3\n",
      "                DeepSelect       MLP  Logistic Regression  RandomForest\n",
      "F1 Test           0.040572  0.246577             0.236406      0.222007\n",
      "F1 Tr. only       0.040572  0.057505             0.031061      0.049164\n",
      "F1 Train          0.258484       NaN                  NaN           NaN\n",
      "Pred.Tra. Time    1.827396       NaN                  NaN           NaN\n",
      "Test              0.798088  0.800478             0.800478      0.741935\n",
      "Testing Time      0.018569  0.000329             0.000146      0.105343\n",
      "Tr. Only          0.598204  0.616162             0.618406      0.629630\n",
      "Tr.Test Time      0.013140  0.000321             0.000102      0.105567\n",
      "Train             0.818750       NaN                  NaN           NaN\n",
      "Training Time    14.342377  1.193438             0.159586      0.108420\n",
      "\n",
      "This fold took: 16.471763610839844 seconds\n",
      "\n",
      "**********\n",
      "\n",
      "K:\t4\n",
      "epoch 0:\t20.625962185169776\n",
      "epoch 10:\t20.443266597864874\n",
      "epoch 20:\t20.36129058813218\n",
      "epoch 30:\t20.321396546345678\n",
      "epoch 40:\t20.253112539489546\n",
      "epoch 50:\t20.187402678868857\n"
     ]
    },
    {
     "name": "stderr",
     "output_type": "stream",
     "text": [
      "/usr/local/lib/python3.5/dist-packages/sklearn/neural_network/multilayer_perceptron.py:564: ConvergenceWarning: Stochastic Optimizer: Maximum iterations (200) reached and the optimization hasn't converged yet.\n",
      "  % self.max_iter, ConvergenceWarning)\n",
      "/usr/local/lib/python3.5/dist-packages/sklearn/metrics/classification.py:1135: UndefinedMetricWarning: F-score is ill-defined and being set to 0.0 in labels with no predicted samples.\n",
      "  'precision', 'predicted', average, warn_for)\n"
     ]
    },
    {
     "name": "stdout",
     "output_type": "stream",
     "text": [
      "\n",
      "K:\t4\n",
      "                DeepSelect       MLP  Logistic Regression  RandomForest\n",
      "F1 Test           0.040926  0.283208             0.292410      0.243260\n",
      "F1 Tr. only       0.040926  0.065353             0.029266      0.062518\n",
      "F1 Train          0.233257       NaN                  NaN           NaN\n",
      "Pred.Tra. Time    1.652399       NaN                  NaN           NaN\n",
      "Test              0.802151  0.804301             0.810753      0.811828\n",
      "Testing Time      0.008678  0.000343             0.000124      0.104985\n",
      "Tr. Only          0.555556  0.611672             0.606061      0.643098\n",
      "Tr.Test Time      0.013172  0.000320             0.000098      0.105904\n",
      "Train             0.816226       NaN                  NaN           NaN\n",
      "Training Time    13.275112  1.178346             0.159226      0.107936\n",
      "\n",
      "This fold took: 15.158293724060059 seconds\n",
      "\n",
      "**********\n",
      "\n",
      "K:\t5\n",
      "epoch 0:\t20.92118804556581\n",
      "epoch 10:\t20.739479004318902\n",
      "epoch 20:\t20.584490408358697\n",
      "epoch 30:\t20.485018055258596\n",
      "epoch 40:\t20.38662595913693\n",
      "epoch 50:\t20.29165680689175\n"
     ]
    },
    {
     "name": "stderr",
     "output_type": "stream",
     "text": [
      "/usr/local/lib/python3.5/dist-packages/sklearn/metrics/classification.py:1135: UndefinedMetricWarning: F-score is ill-defined and being set to 0.0 in labels with no predicted samples.\n",
      "  'precision', 'predicted', average, warn_for)\n",
      "/usr/local/lib/python3.5/dist-packages/sklearn/metrics/classification.py:1137: UndefinedMetricWarning: F-score is ill-defined and being set to 0.0 in labels with no true samples.\n",
      "  'recall', 'true', average, warn_for)\n"
     ]
    },
    {
     "name": "stdout",
     "output_type": "stream",
     "text": [
      "\n",
      "K:\t5\n",
      "                DeepSelect       MLP  Logistic Regression  RandomForest\n",
      "F1 Test           0.022447  0.310776             0.263813      0.238028\n",
      "F1 Tr. only       0.022447  0.058714             0.029818      0.092225\n",
      "F1 Train          0.228839       NaN                  NaN           NaN\n",
      "Pred.Tra. Time    1.671612       NaN                  NaN           NaN\n",
      "Test              0.798088  0.817204             0.813620      0.805257\n",
      "Testing Time      0.008570  0.000306             0.000126      0.105450\n",
      "Tr. Only          0.551066  0.627385             0.598204      0.618406\n",
      "Tr.Test Time      0.013097  0.000322             0.000100      0.105623\n",
      "Train             0.813221       NaN                  NaN           NaN\n",
      "Training Time    12.714927  0.741149             0.154887      0.107851\n",
      "\n",
      "This fold took: 14.614374160766602 seconds\n",
      "\n",
      "**********\n",
      "\n",
      "K:\t6\n",
      "epoch 0:\t23.290563674213953\n",
      "epoch 10:\t22.947889075934242\n",
      "epoch 20:\t22.73217105030908\n",
      "epoch 30:\t22.561536572877536\n",
      "epoch 40:\t22.348601395734345\n",
      "epoch 50:\t22.176436270498222\n"
     ]
    },
    {
     "name": "stderr",
     "output_type": "stream",
     "text": [
      "/usr/local/lib/python3.5/dist-packages/sklearn/neural_network/multilayer_perceptron.py:564: ConvergenceWarning: Stochastic Optimizer: Maximum iterations (200) reached and the optimization hasn't converged yet.\n",
      "  % self.max_iter, ConvergenceWarning)\n",
      "/usr/local/lib/python3.5/dist-packages/sklearn/metrics/classification.py:1135: UndefinedMetricWarning: F-score is ill-defined and being set to 0.0 in labels with no predicted samples.\n",
      "  'precision', 'predicted', average, warn_for)\n"
     ]
    },
    {
     "name": "stdout",
     "output_type": "stream",
     "text": [
      "\n",
      "K:\t6\n",
      "                DeepSelect       MLP  Logistic Regression  RandomForest\n",
      "F1 Test           0.031817  0.253430             0.219739      0.228253\n",
      "F1 Tr. only       0.031817  0.047004             0.017328      0.060058\n",
      "F1 Train          0.236285       NaN                  NaN           NaN\n",
      "Pred.Tra. Time    2.290791       NaN                  NaN           NaN\n",
      "Test              0.779348  0.790217             0.786957      0.773913\n",
      "Testing Time      0.008512  0.000335             0.000125      0.105495\n",
      "Tr. Only          0.566779  0.585859             0.610550      0.602694\n",
      "Tr.Test Time      0.013113  0.000321             0.000113      0.105725\n",
      "Train             0.816807       NaN                  NaN           NaN\n",
      "Training Time    12.976850  1.165518             0.154576      0.108040\n",
      "\n",
      "This fold took: 15.485724210739136 seconds\n",
      "\n",
      "**********\n",
      "\n",
      "K:\t7\n",
      "epoch 0:\t20.827942075541376\n",
      "epoch 10:\t20.59959943959522\n",
      "epoch 20:\t20.509169435135412\n",
      "epoch 30:\t20.403114465724915\n",
      "epoch 40:\t20.2668246012149\n",
      "epoch 50:\t20.144343371548665\n"
     ]
    },
    {
     "name": "stderr",
     "output_type": "stream",
     "text": [
      "/usr/local/lib/python3.5/dist-packages/sklearn/neural_network/multilayer_perceptron.py:564: ConvergenceWarning: Stochastic Optimizer: Maximum iterations (200) reached and the optimization hasn't converged yet.\n",
      "  % self.max_iter, ConvergenceWarning)\n",
      "/usr/local/lib/python3.5/dist-packages/sklearn/metrics/classification.py:1135: UndefinedMetricWarning: F-score is ill-defined and being set to 0.0 in labels with no predicted samples.\n",
      "  'precision', 'predicted', average, warn_for)\n",
      "/usr/local/lib/python3.5/dist-packages/sklearn/metrics/classification.py:1137: UndefinedMetricWarning: F-score is ill-defined and being set to 0.0 in labels with no true samples.\n",
      "  'recall', 'true', average, warn_for)\n"
     ]
    },
    {
     "name": "stdout",
     "output_type": "stream",
     "text": [
      "\n",
      "K:\t7\n",
      "                DeepSelect       MLP  Logistic Regression  RandomForest\n",
      "F1 Test           0.037738  0.258181             0.270479      0.265542\n",
      "F1 Tr. only       0.037738  0.047863             0.036995      0.085182\n",
      "F1 Train          0.232172       NaN                  NaN           NaN\n",
      "Pred.Tra. Time    1.681035       NaN                  NaN           NaN\n",
      "Test              0.803140  0.794686             0.816425      0.820048\n",
      "Testing Time      0.008773  0.000341             0.000123      0.102947\n",
      "Tr. Only          0.557800  0.591470             0.618406      0.654321\n",
      "Tr.Test Time      0.013190  0.000321             0.000100      0.105407\n",
      "Train             0.812005       NaN                  NaN           NaN\n",
      "Training Time    12.889619  1.182699             0.157635      0.108052\n",
      "\n",
      "This fold took: 14.783915996551514 seconds\n",
      "\n",
      "**********\n",
      "\n",
      "K:\t8\n",
      "epoch 0:\t22.897636425680286\n",
      "epoch 10:\t22.522172417266066\n",
      "epoch 20:\t22.472036404239027\n",
      "epoch 30:\t22.369239716941895\n",
      "epoch 40:\t22.261580151883646\n",
      "epoch 50:\t22.15524601657503\n"
     ]
    },
    {
     "name": "stderr",
     "output_type": "stream",
     "text": [
      "/usr/local/lib/python3.5/dist-packages/sklearn/neural_network/multilayer_perceptron.py:564: ConvergenceWarning: Stochastic Optimizer: Maximum iterations (200) reached and the optimization hasn't converged yet.\n",
      "  % self.max_iter, ConvergenceWarning)\n",
      "/usr/local/lib/python3.5/dist-packages/sklearn/metrics/classification.py:1135: UndefinedMetricWarning: F-score is ill-defined and being set to 0.0 in labels with no predicted samples.\n",
      "  'precision', 'predicted', average, warn_for)\n",
      "/usr/local/lib/python3.5/dist-packages/sklearn/metrics/classification.py:1137: UndefinedMetricWarning: F-score is ill-defined and being set to 0.0 in labels with no true samples.\n",
      "  'recall', 'true', average, warn_for)\n"
     ]
    },
    {
     "name": "stdout",
     "output_type": "stream",
     "text": [
      "\n",
      "K:\t8\n",
      "                DeepSelect       MLP  Logistic Regression  RandomForest\n",
      "F1 Test           0.022426  0.336217             0.299609      0.282909\n",
      "F1 Tr. only       0.022426  0.066138             0.038131      0.060414\n",
      "F1 Train          0.245408       NaN                  NaN           NaN\n",
      "Pred.Tra. Time    1.670716       NaN                  NaN           NaN\n",
      "Test              0.827446  0.836957             0.828804      0.815217\n",
      "Testing Time      0.008546  0.000333             0.000117      0.103177\n",
      "Tr. Only          0.676768  0.621773             0.618406      0.625140\n",
      "Tr.Test Time      0.014371  0.000324             0.000099      0.105569\n",
      "Train             0.818968       NaN                  NaN           NaN\n",
      "Training Time    13.084951  1.179182             0.157903      0.107798\n",
      "\n",
      "This fold took: 15.011292219161987 seconds\n",
      "\n",
      "**********\n",
      "\n",
      "K:\t9\n",
      "epoch 0:\t21.638610365346725\n",
      "epoch 10:\t21.543146670628808\n",
      "epoch 20:\t21.489015116446048\n",
      "epoch 30:\t21.421234592529665\n",
      "epoch 40:\t21.343800065099245\n",
      "epoch 50:\t21.279105897764822\n"
     ]
    },
    {
     "name": "stderr",
     "output_type": "stream",
     "text": [
      "/usr/local/lib/python3.5/dist-packages/sklearn/neural_network/multilayer_perceptron.py:564: ConvergenceWarning: Stochastic Optimizer: Maximum iterations (200) reached and the optimization hasn't converged yet.\n",
      "  % self.max_iter, ConvergenceWarning)\n",
      "/usr/local/lib/python3.5/dist-packages/sklearn/metrics/classification.py:1135: UndefinedMetricWarning: F-score is ill-defined and being set to 0.0 in labels with no predicted samples.\n",
      "  'precision', 'predicted', average, warn_for)\n"
     ]
    },
    {
     "name": "stdout",
     "output_type": "stream",
     "text": [
      "\n",
      "K:\t9\n",
      "                DeepSelect       MLP  Logistic Regression  RandomForest\n",
      "F1 Test           0.039434  0.235938             0.225843      0.221508\n",
      "F1 Tr. only       0.039434  0.051964             0.033898      0.040853\n",
      "F1 Train          0.244638       NaN                  NaN           NaN\n",
      "Pred.Tra. Time    1.678347       NaN                  NaN           NaN\n",
      "Test              0.771739  0.803261             0.783696      0.781522\n",
      "Testing Time      0.008607  0.000328             0.000149      0.104778\n",
      "Tr. Only          0.569024  0.625140             0.610550      0.626263\n",
      "Tr.Test Time      0.013131  0.000320             0.000106      0.105692\n",
      "Train             0.817407       NaN                  NaN           NaN\n",
      "Training Time    12.887814  1.312643             0.159272      0.107982\n",
      "\n",
      "This fold took: 14.780915260314941 seconds\n",
      "\n",
      "**********\n",
      "\n",
      "K:\t10\n",
      "epoch 0:\t25.817523598270167\n",
      "epoch 10:\t25.43769398884396\n",
      "epoch 20:\t25.059168437425832\n",
      "epoch 30:\t24.774787537323018\n",
      "epoch 40:\t24.514287058821974\n",
      "epoch 50:\t24.264410721917653\n"
     ]
    },
    {
     "name": "stderr",
     "output_type": "stream",
     "text": [
      "/usr/local/lib/python3.5/dist-packages/sklearn/neural_network/multilayer_perceptron.py:564: ConvergenceWarning: Stochastic Optimizer: Maximum iterations (200) reached and the optimization hasn't converged yet.\n",
      "  % self.max_iter, ConvergenceWarning)\n"
     ]
    },
    {
     "name": "stdout",
     "output_type": "stream",
     "text": [
      "\n",
      "K:\t10\n",
      "                DeepSelect       MLP  Logistic Regression  RandomForest\n",
      "F1 Test           0.048959  0.314952             0.335960      0.318354\n",
      "F1 Tr. only       0.048959  0.047873             0.051589      0.082336\n",
      "F1 Train          0.311672       NaN                  NaN           NaN\n",
      "Pred.Tra. Time    1.659523       NaN                  NaN           NaN\n",
      "Test              0.830918  0.830918             0.829710      0.812802\n",
      "Testing Time      0.008744  0.000327             0.000121      0.103295\n",
      "Tr. Only          0.643098  0.615039             0.617284      0.645342\n",
      "Tr.Test Time      0.013318  0.000323             0.000099      0.105645\n",
      "Train             0.834574       NaN                  NaN           NaN\n",
      "Training Time    13.212426  1.183108             0.154140      0.107457\n",
      "\n",
      "This fold took: 15.101628303527832 seconds\n",
      "\n",
      "**********\n",
      "\n",
      "Average scores for trial 0\n",
      "                DeepSelect  Logistic Regression       MLP  RandomForest\n",
      "F1 Test           0.035235             0.251609  0.267170      0.256731\n",
      "F1 Tr. only       0.035235             0.032716  0.056186      0.063356\n",
      "F1 Train          0.244886                  NaN       NaN           NaN\n",
      "Pred.Tra. Time    1.756562                  NaN       NaN           NaN\n",
      "Test              0.797985             0.806256  0.808889      0.795703\n",
      "Testing Time      0.009673             0.000132  0.000330      0.104202\n",
      "Tr. Only          0.581930             0.612346  0.613692      0.629068\n",
      "Tr.Test Time      0.013328             0.000102  0.001240      0.105760\n",
      "Train             0.817849                  NaN       NaN           NaN\n",
      "Training Time    13.401717             0.159649  1.158172      0.108099\n",
      "------------------------------\n",
      "%%%%%%%%%%%%%%%%%%%%%%%%%%%%%%%%%%%%%%%%\n",
      "Average of 1 trials\n",
      "                DeepSelect  Logistic Regression       MLP  RandomForest\n",
      "F1 Test           0.035235             0.251609  0.267170      0.256731\n",
      "F1 Tr. only       0.035235             0.032716  0.056186      0.063356\n",
      "F1 Train          0.244886                  NaN       NaN           NaN\n",
      "Pred.Tra. Time    1.756562                  NaN       NaN           NaN\n",
      "Test              0.797985             0.806256  0.808889      0.795703\n",
      "Testing Time      0.009673             0.000132  0.000330      0.104202\n",
      "Tr. Only          0.581930             0.612346  0.613692      0.629068\n",
      "Tr.Test Time      0.013328             0.000102  0.001240      0.105760\n",
      "Train             0.817849                  NaN       NaN           NaN\n",
      "Training Time    13.401717             0.159649  1.158172      0.108099\n"
     ]
    },
    {
     "name": "stderr",
     "output_type": "stream",
     "text": [
      "/usr/local/lib/python3.5/dist-packages/sklearn/metrics/classification.py:1135: UndefinedMetricWarning: F-score is ill-defined and being set to 0.0 in labels with no predicted samples.\n",
      "  'precision', 'predicted', average, warn_for)\n"
     ]
    }
   ],
   "source": [
    "scores_tables = eval_selectivewaves_regclass(df, tronly_test_raw)\n",
    "pickle.dump(scores_tables, open(\"../results/batch_no_tf_tables.results\", \"wb\"))"
   ]
  },
  {
   "cell_type": "markdown",
   "metadata": {},
   "source": [
    "## Using the full network for prediction\n",
    "### P.S. this variation supports online (incremental) training"
   ]
  },
  {
   "cell_type": "code",
   "execution_count": 34,
   "metadata": {},
   "outputs": [],
   "source": [
    "def reset_graph(seed=42):\n",
    "    tf.reset_default_graph()\n",
    "    tf.set_random_seed(seed)\n",
    "    np.random.seed(seed)"
   ]
  },
  {
   "cell_type": "code",
   "execution_count": 35,
   "metadata": {},
   "outputs": [],
   "source": [
    "def get_test(LSMR):\n",
    "    X = dict()\n",
    "    y = dict()\n",
    "    for _, row in LSMR.iterrows():\n",
    "        score = row[\"Score\"]\n",
    "        y_ = np.zeros(10)\n",
    "        y_[score-1] = 1\n",
    "        y[len(y)] = y_\n",
    "        X[len(X)] = row[\"rev_vec\"]\n",
    "    return np.array(list(X.values())), np.array(list(y.values()))"
   ]
  },
  {
   "cell_type": "code",
   "execution_count": 36,
   "metadata": {},
   "outputs": [],
   "source": [
    "def train_selective(df_train,epochs=10, learning_rate = 0.1, random_state=42, p_every=10):\n",
    "    classes = sorted(set(df_train[\"Score\"]))\n",
    "    n_classes = len(classes)\n",
    "    \n",
    "    LSMR_train = preprocess_data(df_train)\n",
    "    np.random.seed(random_state)\n",
    "    data_dict, L1, L2, L3 = get_data_dict(LSMR_train, get_L2and3=True)\n",
    "    init_weights = lambda layer, i, o: {k:2*np.random.random((i, o))-1 for k in layer}\n",
    "    W1 = init_weights(L1, 300, 300)  # (languge, score, movie_id)\n",
    "    W2 = init_weights(L2, 300, 300)  # (languge, score):\n",
    "    W3 = init_weights(L3, 300, n_classes)  # score:\n",
    "    \n",
    "    reset_graph()\n",
    "    x = tf.placeholder(tf.float32, [None, 300])\n",
    "    y = tf.placeholder(tf.float32, [None, n_classes]) # 1-10 => 10 classes\n",
    "\n",
    "    w1 = tf.placeholder(tf.float32, [300, 300])\n",
    "    w2 = tf.placeholder(tf.float32, [300, 300])\n",
    "    w3 = tf.placeholder(tf.float32, [300, n_classes])\n",
    "\n",
    "    b1 = tf.Variable(tf.zeros([300]))\n",
    "    b2 = tf.Variable(tf.zeros([300]))\n",
    "    b3 = tf.Variable(tf.zeros([n_classes]))\n",
    "\n",
    "    l2 = tf.nn.sigmoid(tf.matmul(x, w1) + b1)\n",
    "    l3 = tf.nn.sigmoid(tf.matmul(l2, w2) + b2)\n",
    "    logits = tf.matmul(l3, w3) + b3\n",
    "    pred = tf.nn.softmax(logits)\n",
    "\n",
    "#     cost = tf.reduce_mean(tf.nn.softmax_cross_entropy_with_logits(labels=classes, logits=logits))\n",
    "#     optimizer = tf.train.GradientDescentOptimizer(learning_rate).minimize(cost)\n",
    "    \n",
    "    \n",
    "    cost = tf.reduce_mean(-tf.reduce_sum(y*tf.log(pred), reduction_indices=1))\n",
    "    optimizer = tf.train.GradientDescentOptimizer(learning_rate).minimize(cost)\n",
    "    training_curve = dict()\n",
    "    with tf.device('/job:localhost/replica:0/task:0/device:GPU:0'):\n",
    "        with tf.Session(config=tf.ConfigProto(log_device_placement=True)) as sess:\n",
    "            sess.run(tf.global_variables_initializer())\n",
    "            for e in range(epochs+1):\n",
    "                avg_cost = 0.\n",
    "                for _, row in LSMR_train.iterrows():\n",
    "                    lang = row[\"Language\"]\n",
    "                    movie_id = row[\"Movie_ID\"]\n",
    "                    score = row[\"Score\"]\n",
    "                    y_ = {i:0 for i in classes}\n",
    "                    y_[score] = 1\n",
    "                    y_ = np.atleast_2d([y_[i] for i in classes])\n",
    "                    x_ = np.atleast_2d(row[\"rev_vec\"])\n",
    "                    w1_,w2_,w3_,_, c = sess.run([w1, w2, w3, optimizer, cost],\n",
    "                                             feed_dict={x: x_,\n",
    "                                                        y: y_,\n",
    "                                                        w1:W1[(lang, score, movie_id)],\n",
    "                                                        w2:W2[(lang, score)],\n",
    "                                                        w3:W3[score]})\n",
    "                    W1[(lang, score, movie_id)] = w1_\n",
    "                    W2[(lang, score)] = w2_\n",
    "                    W3[score] = w3_\n",
    "\n",
    "                    avg_cost += c\n",
    "                training_curve[e] = avg_cost\n",
    "                if e%10==0:\n",
    "                    learning_rate /= 10\n",
    "                if e%p_every==0:\n",
    "                    print(\"Epoch {}: {}\".format(e, avg_cost/len(LSMR_train)))\n",
    "    print(\"W1 size\",len(W1))\n",
    "    print(\"W2 size\",len(W2))\n",
    "    print(\"W3 size\",len(W3))\n",
    "    return W1, W2, W3, training_curve, classes"
   ]
  },
  {
   "cell_type": "code",
   "execution_count": 37,
   "metadata": {},
   "outputs": [],
   "source": [
    "def get_max_index(predicted_scores, classes):\n",
    "    probs = {c:0 for c in classes}\n",
    "    array = softmax(predicted_scores)\n",
    "    indx = None\n",
    "    max_ = float(\"-inf\")\n",
    "    for i, e in enumerate(array):\n",
    "        probs[predicted_scores[i]] = e\n",
    "        if e > max_:\n",
    "            max_ = e\n",
    "            indx = i\n",
    "    return predicted_scores[indx], [probs[k] for k in sorted(classes)]"
   ]
  },
  {
   "cell_type": "code",
   "execution_count": 38,
   "metadata": {},
   "outputs": [],
   "source": [
    "def predict_selective(df, W1, W2, W3, classes=list(range(1,11))):\n",
    "    LSMR = preprocess_data(df)\n",
    "    reset_graph()\n",
    "    n_classes = len(classes)\n",
    "    x = tf.placeholder(tf.float32, [None, 300])\n",
    "\n",
    "    w1 = tf.placeholder(tf.float32, [300, 300])\n",
    "    w2 = tf.placeholder(tf.float32, [300, 300])\n",
    "    w3 = tf.placeholder(tf.float32, [300, n_classes])\n",
    "\n",
    "    b1 = tf.Variable(tf.zeros([300]))\n",
    "    b2 = tf.Variable(tf.zeros([300]))\n",
    "    b3 = tf.Variable(tf.zeros([n_classes]))\n",
    "\n",
    "    l2 = tf.nn.sigmoid(tf.matmul(x, w1) + b1)\n",
    "    l3 = tf.nn.sigmoid(tf.matmul(l2, w2) + b2)\n",
    "    pred = tf.nn.softmax(tf.matmul(l3, w3) + b3)\n",
    "\n",
    "    \n",
    "    \n",
    "    \n",
    "    prediction = tf.argmax(pred, 1)\n",
    "    preds = np.zeros(len(LSMR))\n",
    "    probs = [None] * len(LSMR)\n",
    "    with tf.device('/job:localhost/replica:0/task:0/device:GPU:0'):\n",
    "        with tf.Session(config=tf.ConfigProto(log_device_placement=True)) as sess:\n",
    "            sess.run(tf.global_variables_initializer())\n",
    "            j = 0\n",
    "            for _, row in LSMR.iterrows():\n",
    "                v = row[\"rev_vec\"]\n",
    "                predicted_scores = np.zeros(len(W1))\n",
    "                for i, info in enumerate(W1):\n",
    "                    language, score, movie_id = info\n",
    "                    w_1 = W1[(language, score, movie_id)]\n",
    "                    w_2 = W2[(language, score)]\n",
    "                    w_3 = W3[score]\n",
    "\n",
    "                    predicted_scores[i] = prediction.eval({x: np.atleast_2d(v),\n",
    "                                                           w1:w_1,w2:w_2,w3:w_3})\n",
    "                predicted_score, probabilities = get_max_index(predicted_scores, classes)\n",
    "                preds[j] = predicted_score\n",
    "                probs[j] = probabilities\n",
    "                j+=1\n",
    "\n",
    "\n",
    "    return preds, np.array(list(LSMR.Score)), probs"
   ]
  },
  {
   "cell_type": "code",
   "execution_count": 39,
   "metadata": {},
   "outputs": [],
   "source": [
    "def eval_selectivewaves_nn(df_, tronly_test_raw, NUM_TRIALS=1, splits=10, iterations=150, alpha=0.1, p_every=25):  \n",
    "    df = df_.reset_index(drop=True)\n",
    "    learning_curves = OrderedDict()\n",
    "    scores_tables_nn = OrderedDict()\n",
    "    tronly_test = preprocess_data(tronly_test_raw)\n",
    "    for i in range(NUM_TRIALS):\n",
    "        print(\"Trial:\\t{}\".format(i+1))\n",
    "        learning_curves[i] = OrderedDict()\n",
    "        k = 0\n",
    "        skf = StratifiedKFold(n_splits=splits, random_state=i)\n",
    "        scores_tables_nn[i] = dict()\n",
    "        for train_index, test_index in skf.split(df[\"Review\"], df[\"Language\"]):\n",
    "            print(\"K: \\t{}\".format(k+1))\n",
    "            scores_tables_nn[i][k] = OrderedDict()\n",
    "            start = time.time()\n",
    "            # approx 3 epochs per second\n",
    "            LSMR = preprocess_data(df.loc[train_index])\n",
    "            W1, W2, W3, training_curve, classes = train_selective(\n",
    "                df.loc[train_index], epochs=iterations, p_every=p_every, learning_rate=alpha)\n",
    "            _ = time.time()\n",
    "            trat = _-start\n",
    "            print(\"Took: {} for training\".format(trat))\n",
    "#             true_train = np.array(list(LSMR.Score))\n",
    "            _ = time.time()\n",
    "            preds_train, true_train, probs = predict_selective(df.loc[train_index], W1, W2, W3, classes=classes)\n",
    "            ll_train = log_loss(true_train,probs, labels=classes)\n",
    "            predtra = time.time()-_\n",
    "            print(\"Took: {} for predicting {} training instances\".format(predtra, len(train_index)))\n",
    "\n",
    "            test_data = preprocess_data(df.loc[test_index])\n",
    "            _ = time.time()\n",
    "            preds, true, probs = predict_selective(df.loc[test_index], W1, W2, W3, classes=classes)\n",
    "            ll_test = log_loss(true,probs, labels=classes)\n",
    "            tet = time.time()-_\n",
    "            print(\"Took: {} for predicting {} test instances\".format(tet, len(test_index)))\n",
    "\n",
    "            _ = time.time()\n",
    "            preds_tr, true_tr, probs = predict_selective(tronly_test_raw, W1, W2, W3, classes=classes)\n",
    "            ll_tr = log_loss(true_tr,probs, labels=classes)\n",
    "            trt = time.time()-_\n",
    "            print(\"Took: {} for predicting {} Turkish test instances\".format(trt, len(tronly_test)))\n",
    "\n",
    "            elapsed = time.time()-start\n",
    "\n",
    "            s = distance_accuracy(true, preds)\n",
    "            s_train = distance_accuracy(true_train, preds_train)\n",
    "            s_tr = distance_accuracy(true_tr, preds_tr)\n",
    "\n",
    "            f1_test = f1_score(true, preds, average='weighted')\n",
    "            f1_train = f1_score(true_train, preds_train, average='weighted')\n",
    "            f1_tronly = f1_score(true_tr, preds_tr, average='weighted')\n",
    "\n",
    "            mlp = MLPClassifier(random_state=i)\n",
    "            lr = LogisticRegression(random_state=i)\n",
    "            rf = RandomForestClassifier(random_state=i,n_jobs=-1)\n",
    "            train_mat = np.array(list(LSMR[\"rev_vec\"]))\n",
    "            test_mat = np.array(list(test_data[\"rev_vec\"]))\n",
    "            tronly_mat = np.array(list(tronly_test[\"rev_vec\"]))\n",
    "\n",
    "            evals = OrderedDict()\n",
    "            evals[\"Train\"] = s_train\n",
    "            evals[\"Test\"] = s\n",
    "            evals[\"Tr. Only\"] = s_tr\n",
    "            evals[\"Training Time\"] = trat\n",
    "            evals[\"Pred.Tra. Time\"] = predtra\n",
    "            evals[\"Testing Time\"] = tet\n",
    "            evals[\"Tr.Test Time\"] = trt\n",
    "            evals[\"F1 Test\"] = f1_test\n",
    "            evals[\"F1 Train\"] = f1_train\n",
    "            evals[\"F1 Tr. only\"] = f1_tronly\n",
    "            evals[\"Train_LL\"] = ll_train\n",
    "            evals[\"Test_LL\"] = ll_test\n",
    "            evals[\"Tr. Only_LL\"] = ll_tr\n",
    "            scores_tables_nn[i][k][\"DeepSelect\"] = evals\n",
    "\n",
    "            scores_tables_nn[i][k][\"LogisticRegression\"] = eval_models(\n",
    "                lr, train_mat, test_mat, tronly_mat, ytrain=true_train, ytest=true, ytronly=true_tr, LL=True, predtrain=True)\n",
    "            scores_tables_nn[i][k][\"MLP\"] = eval_models(\n",
    "                mlp, train_mat, test_mat, tronly_mat, ytrain=true_train, ytest=true, ytronly=true_tr, LL=True, predtrain=True)\n",
    "            scores_tables_nn[i][k][\"RandomForest\"] = eval_models(\n",
    "                rf, train_mat, test_mat, tronly_mat, ytrain=true_train, ytest=true, ytronly=true_tr, LL=True, predtrain=True)\n",
    "\n",
    "            print()\n",
    "            print(pd.DataFrame(scores_tables_nn[i][k]))\n",
    "            print(\"took:\", elapsed, \"seconds\\n\")\n",
    "            learning_curves[i][k] = training_curve\n",
    "            k += 1\n",
    "            print(\"*\"*10+\"\\n\")\n",
    "        print(\"Average scores for trial {}\".format(i))\n",
    "        print(get_trial_score(scores_tables_nn[i]))\n",
    "        print(\"-\"*30)\n",
    "    print(\"%%\"*20)\n",
    "    print(\"Average of {} trials\".format(NUM_TRIALS))\n",
    "    print(get_total_average(scores_tables_nn))\n",
    "    return scores_tables_nn"
   ]
  },
  {
   "cell_type": "code",
   "execution_count": 40,
   "metadata": {
    "scrolled": true
   },
   "outputs": [
    {
     "name": "stdout",
     "output_type": "stream",
     "text": [
      "Trial:\t1\n",
      "K: \t1\n",
      "Epoch 0: 2.690288742985357\n",
      "Epoch 25: 0.007326026052529855\n",
      "Epoch 50: 0.002482170480378798\n",
      "Epoch 75: 0.0015829067094770448\n",
      "Epoch 100: 0.0011804284714557957\n",
      "Epoch 125: 0.0009484545561848634\n",
      "Epoch 150: 0.0007963821620897021\n",
      "W1 size 597\n",
      "W2 size 18\n",
      "W3 size 10\n",
      "Took: 154.26812624931335 for training\n",
      "Took: 573.7708678245544 for predicting 832 training instances\n",
      "Took: 64.65517807006836 for predicting 93 test instances\n",
      "Took: 65.00136494636536 for predicting 99 Turkish test instances\n"
     ]
    },
    {
     "name": "stderr",
     "output_type": "stream",
     "text": [
      "/usr/local/lib/python3.5/dist-packages/sklearn/metrics/classification.py:1135: UndefinedMetricWarning: F-score is ill-defined and being set to 0.0 in labels with no predicted samples.\n",
      "  'precision', 'predicted', average, warn_for)\n",
      "/usr/local/lib/python3.5/dist-packages/sklearn/neural_network/multilayer_perceptron.py:564: ConvergenceWarning: Stochastic Optimizer: Maximum iterations (200) reached and the optimization hasn't converged yet.\n",
      "  % self.max_iter, ConvergenceWarning)\n",
      "/usr/local/lib/python3.5/dist-packages/sklearn/metrics/classification.py:1135: UndefinedMetricWarning: F-score is ill-defined and being set to 0.0 in labels with no predicted samples.\n",
      "  'precision', 'predicted', average, warn_for)\n",
      "/usr/local/lib/python3.5/dist-packages/sklearn/metrics/classification.py:1137: UndefinedMetricWarning: F-score is ill-defined and being set to 0.0 in labels with no true samples.\n",
      "  'recall', 'true', average, warn_for)\n"
     ]
    },
    {
     "name": "stdout",
     "output_type": "stream",
     "text": [
      "\n",
      "                DeepSelect  LogisticRegression       MLP  RandomForest\n",
      "F1 Test           0.152959            0.177592  0.208007      0.266073\n",
      "F1 Tr. only       0.016037            0.037101  0.063319      0.045464\n",
      "F1 Train          0.105947            0.336000  0.523230      0.992788\n",
      "Pred.Tra. Time  573.770868            0.000599  0.001750      0.104814\n",
      "Test              0.835125            0.802867  0.807646      0.805257\n",
      "Test_LL          15.863970                 NaN       NaN           NaN\n",
      "Testing Time     64.655178            0.000149  0.000356      0.101969\n",
      "Tr. Only          0.671156            0.622896  0.625140      0.638608\n",
      "Tr. Only_LL      10.375418                 NaN       NaN           NaN\n",
      "Tr.Test Time     65.001365            0.000099  0.000323      0.104256\n",
      "Train             0.832933            0.834976  0.868630      0.998317\n",
      "Train_LL         16.151098                 NaN       NaN           NaN\n",
      "Training Time   154.268126            0.149654  1.412048      0.111719\n",
      "took: 857.8719899654388 seconds\n",
      "\n",
      "**********\n",
      "\n",
      "K: \t2\n",
      "Epoch 0: 1.64687905611477\n",
      "Epoch 25: 0.003336920693474901\n",
      "Epoch 50: 0.0015571126055167878\n",
      "Epoch 75: 0.0010442722046030738\n",
      "Epoch 100: 0.0007948608479395944\n",
      "Epoch 125: 0.0006459022954288582\n",
      "Epoch 150: 0.0005462770183887616\n",
      "W1 size 610\n",
      "W2 size 18\n",
      "W3 size 10\n",
      "Took: 154.89884686470032 for training\n",
      "Took: 584.2396376132965 for predicting 832 training instances\n",
      "Took: 64.50867557525635 for predicting 93 test instances\n",
      "Took: 66.29087781906128 for predicting 99 Turkish test instances\n"
     ]
    },
    {
     "name": "stderr",
     "output_type": "stream",
     "text": [
      "/usr/local/lib/python3.5/dist-packages/sklearn/metrics/classification.py:1135: UndefinedMetricWarning: F-score is ill-defined and being set to 0.0 in labels with no predicted samples.\n",
      "  'precision', 'predicted', average, warn_for)\n"
     ]
    },
    {
     "name": "stdout",
     "output_type": "stream",
     "text": [
      "\n",
      "                DeepSelect  LogisticRegression       MLP  RandomForest\n",
      "F1 Test           0.044803            0.194236  0.224415      0.281373\n",
      "F1 Tr. only       0.022222            0.021970  0.056124      0.055350\n",
      "F1 Train          0.055078            0.328084  0.537084      0.991578\n",
      "Pred.Tra. Time  584.239638            0.000595  0.001612      0.106108\n",
      "Test              0.809677            0.789247  0.803226      0.789247\n",
      "Test_LL          16.256406                 NaN       NaN           NaN\n",
      "Testing Time     64.508676            0.000136  0.000335      0.102211\n",
      "Tr. Only          0.617284            0.602694  0.617284      0.607183\n",
      "Tr. Only_LL       9.440916                 NaN       NaN           NaN\n",
      "Tr.Test Time     66.290878            0.000102  0.000337      0.105623\n",
      "Train             0.839784            0.837019  0.872115      0.997957\n",
      "Train_LL         17.539208                 NaN       NaN           NaN\n",
      "Training Time   154.898847            0.145544  1.373051      0.111227\n",
      "took: 870.174840927124 seconds\n",
      "\n",
      "**********\n",
      "\n",
      "K: \t3\n",
      "Epoch 0: 1.9132781349374446\n",
      "Epoch 25: 0.003144250279302054\n",
      "Epoch 50: 0.0015636888265056791\n",
      "Epoch 75: 0.0010618975961939143\n",
      "Epoch 100: 0.000811541344107658\n",
      "Epoch 125: 0.0006603207394503861\n",
      "Epoch 150: 0.0005585901743535485\n",
      "W1 size 617\n",
      "W2 size 18\n",
      "W3 size 10\n",
      "Took: 155.12500381469727 for training\n",
      "Took: 584.5381984710693 for predicting 832 training instances\n",
      "Took: 63.854838371276855 for predicting 93 test instances\n",
      "Took: 71.14355039596558 for predicting 99 Turkish test instances\n"
     ]
    },
    {
     "name": "stderr",
     "output_type": "stream",
     "text": [
      "/usr/local/lib/python3.5/dist-packages/sklearn/neural_network/multilayer_perceptron.py:564: ConvergenceWarning: Stochastic Optimizer: Maximum iterations (200) reached and the optimization hasn't converged yet.\n",
      "  % self.max_iter, ConvergenceWarning)\n",
      "/usr/local/lib/python3.5/dist-packages/sklearn/metrics/classification.py:1135: UndefinedMetricWarning: F-score is ill-defined and being set to 0.0 in labels with no predicted samples.\n",
      "  'precision', 'predicted', average, warn_for)\n",
      "/usr/local/lib/python3.5/dist-packages/sklearn/metrics/classification.py:1137: UndefinedMetricWarning: F-score is ill-defined and being set to 0.0 in labels with no true samples.\n",
      "  'recall', 'true', average, warn_for)\n"
     ]
    },
    {
     "name": "stdout",
     "output_type": "stream",
     "text": [
      "\n",
      "                DeepSelect  LogisticRegression       MLP  RandomForest\n",
      "F1 Test           0.124282            0.236406  0.246577      0.222007\n",
      "F1 Tr. only       0.034138            0.031061  0.057505      0.049164\n",
      "F1 Train          0.099520            0.335434  0.549116      0.991558\n",
      "Pred.Tra. Time  584.538198            0.000610  0.001606      0.105640\n",
      "Test              0.824373            0.800478  0.800478      0.741935\n",
      "Test_LL          14.300099                 NaN       NaN           NaN\n",
      "Testing Time     63.854838            0.000133  0.000355      0.102314\n",
      "Tr. Only          0.636364            0.618406  0.616162      0.629630\n",
      "Tr. Only_LL       8.700009                 NaN       NaN           NaN\n",
      "Tr.Test Time     71.143550            0.000100  0.000326      0.105806\n",
      "Train             0.832812            0.835337  0.879327      0.999038\n",
      "Train_LL         13.813010                 NaN       NaN           NaN\n",
      "Training Time   155.125004            0.154640  1.462832      0.113418\n",
      "took: 874.8434286117554 seconds\n",
      "\n",
      "**********\n",
      "\n",
      "K: \t4\n",
      "Epoch 0: 2.0359015455582883\n",
      "Epoch 25: 0.0043186250616145455\n",
      "Epoch 50: 0.002067015332351071\n",
      "Epoch 75: 0.0013839931431088774\n",
      "Epoch 100: 0.001049992824822586\n",
      "Epoch 125: 0.0008506488018958327\n",
      "Epoch 150: 0.0007176262009858957\n",
      "W1 size 613\n",
      "W2 size 18\n",
      "W3 size 10\n",
      "Took: 166.64147877693176 for training\n",
      "Took: 590.5495102405548 for predicting 832 training instances\n",
      "Took: 61.681246519088745 for predicting 93 test instances\n",
      "Took: 68.832106590271 for predicting 99 Turkish test instances\n"
     ]
    },
    {
     "name": "stderr",
     "output_type": "stream",
     "text": [
      "/usr/local/lib/python3.5/dist-packages/sklearn/neural_network/multilayer_perceptron.py:564: ConvergenceWarning: Stochastic Optimizer: Maximum iterations (200) reached and the optimization hasn't converged yet.\n",
      "  % self.max_iter, ConvergenceWarning)\n",
      "/usr/local/lib/python3.5/dist-packages/sklearn/metrics/classification.py:1135: UndefinedMetricWarning: F-score is ill-defined and being set to 0.0 in labels with no predicted samples.\n",
      "  'precision', 'predicted', average, warn_for)\n"
     ]
    },
    {
     "name": "stdout",
     "output_type": "stream",
     "text": [
      "\n",
      "                DeepSelect  LogisticRegression       MLP  RandomForest\n",
      "F1 Test           0.044803            0.292410  0.283208      0.243260\n",
      "F1 Tr. only       0.022222            0.029266  0.065353      0.062518\n",
      "F1 Train          0.055078            0.313622  0.552096      0.995199\n",
      "Pred.Tra. Time  590.549510            0.000570  0.001614      0.105884\n",
      "Test              0.822581            0.810753  0.804301      0.811828\n",
      "Test_LL          13.221182                 NaN       NaN           NaN\n",
      "Testing Time     61.681247            0.000130  0.000359      0.102463\n",
      "Tr. Only          0.617284            0.606061  0.611672      0.643098\n",
      "Tr. Only_LL       7.820086                 NaN       NaN           NaN\n",
      "Tr.Test Time     68.832107            0.000099  0.000326      0.105927\n",
      "Train             0.838341            0.833173  0.884014      0.998437\n",
      "Train_LL         12.483475                 NaN       NaN           NaN\n",
      "Training Time   166.641479            0.150961  1.443120      0.110809\n",
      "took: 887.8891310691833 seconds\n",
      "\n",
      "**********\n",
      "\n",
      "K: \t5\n",
      "Epoch 0: 2.1489432679876925\n",
      "Epoch 25: 0.003967358953612409\n",
      "Epoch 50: 0.001980931264331896\n",
      "Epoch 75: 0.001348672985034972\n",
      "Epoch 100: 0.0010323284761151528\n",
      "Epoch 125: 0.0008408255563243308\n",
      "Epoch 150: 0.0007117809047139101\n",
      "W1 size 604\n",
      "W2 size 18\n",
      "W3 size 10\n",
      "Took: 166.58436250686646 for training\n",
      "Took: 581.4918522834778 for predicting 832 training instances\n",
      "Took: 62.115315198898315 for predicting 93 test instances\n",
      "Took: 66.04269242286682 for predicting 99 Turkish test instances\n"
     ]
    },
    {
     "name": "stderr",
     "output_type": "stream",
     "text": [
      "/usr/local/lib/python3.5/dist-packages/sklearn/metrics/classification.py:1135: UndefinedMetricWarning: F-score is ill-defined and being set to 0.0 in labels with no predicted samples.\n",
      "  'precision', 'predicted', average, warn_for)\n",
      "/usr/local/lib/python3.5/dist-packages/sklearn/metrics/classification.py:1137: UndefinedMetricWarning: F-score is ill-defined and being set to 0.0 in labels with no true samples.\n",
      "  'recall', 'true', average, warn_for)\n"
     ]
    },
    {
     "name": "stdout",
     "output_type": "stream",
     "text": [
      "\n",
      "                DeepSelect  LogisticRegression       MLP  RandomForest\n",
      "F1 Test           0.020879            0.263813  0.310776      0.238028\n",
      "F1 Tr. only       0.022222            0.029818  0.058714      0.092225\n",
      "F1 Train          0.058513            0.323638  0.428931      0.986785\n",
      "Pred.Tra. Time  581.491852            0.000597  0.001594      0.105975\n",
      "Test              0.827957            0.813620  0.817204      0.805257\n",
      "Test_LL          13.124866                 NaN       NaN           NaN\n",
      "Testing Time     62.115315            0.000134  0.000347      0.102506\n",
      "Tr. Only          0.617284            0.598204  0.627385      0.618406\n",
      "Tr. Only_LL       7.100985                 NaN       NaN           NaN\n",
      "Tr.Test Time     66.042692            0.000102  0.000335      0.104939\n",
      "Train             0.835817            0.831611  0.847957      0.997837\n",
      "Train_LL         12.014298                 NaN       NaN           NaN\n",
      "Training Time   166.584363            0.142329  0.924485      0.110915\n",
      "took: 876.4249503612518 seconds\n",
      "\n",
      "**********\n",
      "\n",
      "K: \t6\n",
      "Epoch 0: 2.4977985984884774\n",
      "Epoch 25: 0.0035927600570392175\n",
      "Epoch 50: 0.0017899141051493715\n",
      "Epoch 75: 0.0012163088311789708\n",
      "Epoch 100: 0.0009294261350343746\n",
      "Epoch 125: 0.0007559225458133169\n",
      "Epoch 150: 0.0006391400865175901\n",
      "W1 size 602\n",
      "W2 size 18\n",
      "W3 size 10\n",
      "Took: 159.72345423698425 for training\n",
      "Took: 571.9253659248352 for predicting 833 training instances\n",
      "Took: 64.4284143447876 for predicting 92 test instances\n",
      "Took: 67.77523255348206 for predicting 99 Turkish test instances\n"
     ]
    },
    {
     "name": "stderr",
     "output_type": "stream",
     "text": [
      "/usr/local/lib/python3.5/dist-packages/sklearn/neural_network/multilayer_perceptron.py:564: ConvergenceWarning: Stochastic Optimizer: Maximum iterations (200) reached and the optimization hasn't converged yet.\n",
      "  % self.max_iter, ConvergenceWarning)\n",
      "/usr/local/lib/python3.5/dist-packages/sklearn/metrics/classification.py:1135: UndefinedMetricWarning: F-score is ill-defined and being set to 0.0 in labels with no predicted samples.\n",
      "  'precision', 'predicted', average, warn_for)\n"
     ]
    },
    {
     "name": "stdout",
     "output_type": "stream",
     "text": [
      "\n",
      "                DeepSelect  LogisticRegression       MLP  RandomForest\n",
      "F1 Test           0.045713            0.219739  0.253430      0.228253\n",
      "F1 Tr. only       0.022222            0.017328  0.047004      0.060058\n",
      "F1 Train          0.054956            0.327369  0.571990      0.995190\n",
      "Pred.Tra. Time  571.925366            0.000597  0.001616      0.105859\n",
      "Test              0.803261            0.786957  0.790217      0.773913\n",
      "Test_LL          11.873279                 NaN       NaN           NaN\n",
      "Testing Time     64.428414            0.000131  0.000354      0.102777\n",
      "Tr. Only          0.617284            0.610550  0.585859      0.602694\n",
      "Tr. Only_LL       7.018017                 NaN       NaN           NaN\n",
      "Tr.Test Time     67.775233            0.000102  0.000328      0.105806\n",
      "Train             0.840456            0.837815  0.884994      0.998800\n",
      "Train_LL         11.883646                 NaN       NaN           NaN\n",
      "Training Time   159.723454            0.146878  1.466408      0.110949\n",
      "took: 864.0141875743866 seconds\n",
      "\n",
      "**********\n",
      "\n",
      "K: \t7\n",
      "Epoch 0: 1.8192200288755458\n",
      "Epoch 25: 0.0030536181804656365\n",
      "Epoch 50: 0.0015256209105641322\n",
      "Epoch 75: 0.001035514821960332\n",
      "Epoch 100: 0.0007900167697255079\n",
      "Epoch 125: 0.0006415036830276052\n",
      "Epoch 150: 0.000541571281233758\n",
      "W1 size 617\n",
      "W2 size 18\n",
      "W3 size 10\n",
      "Took: 156.57585549354553 for training\n",
      "Took: 575.7972455024719 for predicting 833 training instances\n",
      "Took: 62.471617221832275 for predicting 92 test instances\n",
      "Took: 67.66972208023071 for predicting 99 Turkish test instances\n"
     ]
    },
    {
     "name": "stderr",
     "output_type": "stream",
     "text": [
      "/usr/local/lib/python3.5/dist-packages/sklearn/neural_network/multilayer_perceptron.py:564: ConvergenceWarning: Stochastic Optimizer: Maximum iterations (200) reached and the optimization hasn't converged yet.\n",
      "  % self.max_iter, ConvergenceWarning)\n",
      "/usr/local/lib/python3.5/dist-packages/sklearn/metrics/classification.py:1135: UndefinedMetricWarning: F-score is ill-defined and being set to 0.0 in labels with no predicted samples.\n",
      "  'precision', 'predicted', average, warn_for)\n",
      "/usr/local/lib/python3.5/dist-packages/sklearn/metrics/classification.py:1137: UndefinedMetricWarning: F-score is ill-defined and being set to 0.0 in labels with no true samples.\n",
      "  'recall', 'true', average, warn_for)\n"
     ]
    },
    {
     "name": "stdout",
     "output_type": "stream",
     "text": [
      "\n",
      "                DeepSelect  LogisticRegression       MLP  RandomForest\n",
      "F1 Test           0.070170            0.270479  0.258181      0.265542\n",
      "F1 Tr. only       0.052418            0.036995  0.047863      0.085182\n",
      "F1 Train          0.080606            0.326039  0.564169      0.996396\n",
      "Pred.Tra. Time  575.797246            0.000611  0.001638      0.105919\n",
      "Test              0.822464            0.816425  0.794686      0.820048\n",
      "Test_LL          15.708232                 NaN       NaN           NaN\n",
      "Testing Time     62.471617            0.000132  0.000350      0.105264\n",
      "Tr. Only          0.628507            0.618406  0.591470      0.654321\n",
      "Tr. Only_LL       7.887296                 NaN       NaN           NaN\n",
      "Tr.Test Time     67.669722            0.000105  0.000328      0.106127\n",
      "Train             0.828691            0.831573  0.880312      0.999400\n",
      "Train_LL         15.425723                 NaN       NaN           NaN\n",
      "Training Time   156.575855            0.153726  1.460648      0.111465\n",
      "took: 862.6789591312408 seconds\n",
      "\n",
      "**********\n",
      "\n",
      "K: \t8\n",
      "Epoch 0: 1.8495189048119975\n",
      "Epoch 25: 0.0033481328295375226\n",
      "Epoch 50: 0.001653230312562934\n",
      "Epoch 75: 0.001116498665758112\n",
      "Epoch 100: 0.0008498661148158177\n",
      "Epoch 125: 0.0006894721545299816\n",
      "Epoch 150: 0.0005819573990426621\n",
      "W1 size 608\n",
      "W2 size 18\n",
      "W3 size 10\n",
      "Took: 154.99028778076172 for training\n",
      "Took: 568.9038279056549 for predicting 833 training instances\n",
      "Took: 60.56649684906006 for predicting 92 test instances\n",
      "Took: 66.890207529068 for predicting 99 Turkish test instances\n"
     ]
    },
    {
     "name": "stderr",
     "output_type": "stream",
     "text": [
      "/usr/local/lib/python3.5/dist-packages/sklearn/neural_network/multilayer_perceptron.py:564: ConvergenceWarning: Stochastic Optimizer: Maximum iterations (200) reached and the optimization hasn't converged yet.\n",
      "  % self.max_iter, ConvergenceWarning)\n",
      "/usr/local/lib/python3.5/dist-packages/sklearn/metrics/classification.py:1135: UndefinedMetricWarning: F-score is ill-defined and being set to 0.0 in labels with no predicted samples.\n",
      "  'precision', 'predicted', average, warn_for)\n",
      "/usr/local/lib/python3.5/dist-packages/sklearn/metrics/classification.py:1137: UndefinedMetricWarning: F-score is ill-defined and being set to 0.0 in labels with no true samples.\n",
      "  'recall', 'true', average, warn_for)\n"
     ]
    },
    {
     "name": "stdout",
     "output_type": "stream",
     "text": [
      "\n",
      "                DeepSelect  LogisticRegression       MLP  RandomForest\n",
      "F1 Test           0.070701            0.299609  0.336217      0.282909\n",
      "F1 Tr. only       0.022426            0.038131  0.066138      0.060414\n",
      "F1 Train          0.052277            0.327120  0.560464      0.993998\n",
      "Pred.Tra. Time  568.903828            0.000632  0.001598      0.105837\n",
      "Test              0.846467            0.828804  0.836957      0.815217\n",
      "Test_LL          12.265711                 NaN       NaN           NaN\n",
      "Testing Time     60.566497            0.000130  0.000362      0.102539\n",
      "Tr. Only          0.618406            0.618406  0.621773      0.625140\n",
      "Tr. Only_LL       7.165211                 NaN       NaN           NaN\n",
      "Tr.Test Time     66.890208            0.000109  0.000320      0.105309\n",
      "Train             0.832293            0.830252  0.878752      0.999280\n",
      "Train_LL         12.402299                 NaN       NaN           NaN\n",
      "Training Time   154.990288            0.150764  1.450676      0.110868\n",
      "took: 851.5537469387054 seconds\n",
      "\n",
      "**********\n",
      "\n",
      "K: \t9\n",
      "Epoch 0: 1.671052761113346\n",
      "Epoch 25: 0.003901947272889178\n",
      "Epoch 50: 0.0018740956411305843\n",
      "Epoch 75: 0.0012569826723243327\n",
      "Epoch 100: 0.000954271257371659\n",
      "Epoch 125: 0.0007732195294463326\n",
      "Epoch 150: 0.0006522396300211284\n",
      "W1 size 608\n",
      "W2 size 18\n",
      "W3 size 10\n",
      "Took: 149.71115446090698 for training\n",
      "Took: 583.7248740196228 for predicting 833 training instances\n",
      "Took: 65.21570634841919 for predicting 92 test instances\n",
      "Took: 71.94164443016052 for predicting 99 Turkish test instances\n"
     ]
    },
    {
     "name": "stderr",
     "output_type": "stream",
     "text": [
      "/usr/local/lib/python3.5/dist-packages/sklearn/neural_network/multilayer_perceptron.py:564: ConvergenceWarning: Stochastic Optimizer: Maximum iterations (200) reached and the optimization hasn't converged yet.\n",
      "  % self.max_iter, ConvergenceWarning)\n",
      "/usr/local/lib/python3.5/dist-packages/sklearn/metrics/classification.py:1135: UndefinedMetricWarning: F-score is ill-defined and being set to 0.0 in labels with no predicted samples.\n",
      "  'precision', 'predicted', average, warn_for)\n"
     ]
    },
    {
     "name": "stdout",
     "output_type": "stream",
     "text": [
      "\n",
      "                DeepSelect  LogisticRegression       MLP  RandomForest\n",
      "F1 Test           0.045713            0.225843  0.235938      0.221508\n",
      "F1 Tr. only       0.022426            0.033898  0.051964      0.040853\n",
      "F1 Train          0.054956            0.325707  0.569586      0.995196\n",
      "Pred.Tra. Time  583.724874            0.000609  0.001634      0.105671\n",
      "Test              0.815217            0.783696  0.803261      0.781522\n",
      "Test_LL          10.935963                 NaN       NaN           NaN\n",
      "Testing Time     65.215706            0.000130  0.000352      0.105168\n",
      "Tr. Only          0.618406            0.610550  0.625140      0.626263\n",
      "Tr. Only_LL       7.157492                 NaN       NaN           NaN\n",
      "Tr.Test Time     71.941644            0.000101  0.000324      0.105802\n",
      "Train             0.839136            0.835654  0.882953      0.999160\n",
      "Train_LL         12.511720                 NaN       NaN           NaN\n",
      "Training Time   149.711154            0.139672  1.472392      0.111354\n",
      "took: 870.7828073501587 seconds\n",
      "\n",
      "**********\n",
      "\n",
      "K: \t10\n",
      "Epoch 0: 1.7386367068489454\n",
      "Epoch 25: 0.003489414747923356\n",
      "Epoch 50: 0.0017075862969389765\n",
      "Epoch 75: 0.0011565206413861454\n",
      "Epoch 100: 0.000883286280884381\n",
      "Epoch 125: 0.0007185948647509068\n",
      "Epoch 150: 0.0006078914018794345\n",
      "W1 size 608\n",
      "W2 size 18\n",
      "W3 size 10\n",
      "Took: 158.33102011680603 for training\n",
      "Took: 544.4931600093842 for predicting 833 training instances\n",
      "Took: 60.20120573043823 for predicting 92 test instances\n",
      "Took: 62.90503478050232 for predicting 99 Turkish test instances\n"
     ]
    },
    {
     "name": "stderr",
     "output_type": "stream",
     "text": [
      "/usr/local/lib/python3.5/dist-packages/sklearn/neural_network/multilayer_perceptron.py:564: ConvergenceWarning: Stochastic Optimizer: Maximum iterations (200) reached and the optimization hasn't converged yet.\n",
      "  % self.max_iter, ConvergenceWarning)\n",
      "/usr/local/lib/python3.5/dist-packages/sklearn/metrics/classification.py:1135: UndefinedMetricWarning: F-score is ill-defined and being set to 0.0 in labels with no predicted samples.\n",
      "  'precision', 'predicted', average, warn_for)\n"
     ]
    },
    {
     "name": "stdout",
     "output_type": "stream",
     "text": [
      "\n",
      "                DeepSelect  LogisticRegression       MLP  RandomForest\n",
      "F1 Test           0.034990            0.335960  0.314952      0.318354\n",
      "F1 Tr. only       0.022426            0.051589  0.047873      0.082336\n",
      "F1 Train          0.056317            0.325932  0.560700      0.992763\n",
      "Pred.Tra. Time  544.493160            0.000587  0.001603      0.105923\n",
      "Test              0.830918            0.829710  0.830918      0.812802\n",
      "Test_LL          14.815081                 NaN       NaN           NaN\n",
      "Testing Time     60.201206            0.000131  0.000351      0.102420\n",
      "Tr. Only          0.618406            0.617284  0.615039      0.645342\n",
      "Tr. Only_LL       7.166903                 NaN       NaN           NaN\n",
      "Tr.Test Time     62.905035            0.000102  0.000324      0.105090\n",
      "Train             0.835534            0.833133  0.880672      0.997839\n",
      "Train_LL         12.129567                 NaN       NaN           NaN\n",
      "Training Time   158.331020            0.147578  1.471889      0.110738\n",
      "took: 826.1084492206573 seconds\n",
      "\n",
      "**********\n",
      "\n",
      "Average scores for trial 0\n",
      "                DeepSelect  LogisticRegression       MLP  RandomForest\n",
      "F1 Test           0.065501            0.251609  0.267170      0.256731\n",
      "F1 Tr. only       0.025876            0.032716  0.056186      0.063356\n",
      "F1 Train          0.067325            0.326895  0.541737      0.993145\n",
      "Pred.Tra. Time  575.943454            0.000601  0.001627      0.105763\n",
      "Test              0.823804            0.806256  0.808889      0.795703\n",
      "Test_LL          13.836479                 NaN       NaN           NaN\n",
      "Testing Time     62.969869            0.000134  0.000352      0.102963\n",
      "Tr. Only          0.626038            0.612346  0.613692      0.629068\n",
      "Tr. Only_LL       7.983233                 NaN       NaN           NaN\n",
      "Tr.Test Time     67.449243            0.000102  0.000327      0.105469\n",
      "Train             0.835580            0.834054  0.875973      0.998606\n",
      "Train_LL         13.635404                 NaN       NaN           NaN\n",
      "Training Time   157.684959            0.148174  1.393755      0.111346\n",
      "------------------------------\n",
      "%%%%%%%%%%%%%%%%%%%%%%%%%%%%%%%%%%%%%%%%\n",
      "Average of 1 trials\n",
      "                DeepSelect  LogisticRegression       MLP  RandomForest\n",
      "F1 Test           0.065501            0.251609  0.267170      0.256731\n",
      "F1 Tr. only       0.025876            0.032716  0.056186      0.063356\n",
      "F1 Train          0.067325            0.326895  0.541737      0.993145\n",
      "Pred.Tra. Time  575.943454            0.000601  0.001627      0.105763\n",
      "Test              0.823804            0.806256  0.808889      0.795703\n",
      "Test_LL          13.836479                 NaN       NaN           NaN\n",
      "Testing Time     62.969869            0.000134  0.000352      0.102963\n",
      "Tr. Only          0.626038            0.612346  0.613692      0.629068\n",
      "Tr. Only_LL       7.983233                 NaN       NaN           NaN\n",
      "Tr.Test Time     67.449243            0.000102  0.000327      0.105469\n",
      "Train             0.835580            0.834054  0.875973      0.998606\n",
      "Train_LL         13.635404                 NaN       NaN           NaN\n",
      "Training Time   157.684959            0.148174  1.393755      0.111346\n"
     ]
    }
   ],
   "source": [
    "scores_tables_nn = eval_selectivewaves_nn(df, tronly_test_raw)\n",
    "pickle.dump(scores_tables_nn, open(\"../results/incremental_tf_tables.results\", \"wb\"))"
   ]
  },
  {
   "cell_type": "markdown",
   "metadata": {},
   "source": [
    "# Robustness test"
   ]
  },
  {
   "cell_type": "code",
   "execution_count": 41,
   "metadata": {},
   "outputs": [],
   "source": [
    "def f1_score_weighted(true, preds):\n",
    "    return f1_score(true, preds, average='weighted')"
   ]
  },
  {
   "cell_type": "code",
   "execution_count": 42,
   "metadata": {},
   "outputs": [],
   "source": [
    "DEFAULT_METRICES = {\"MAE-accuracy\":distance_accuracy, \"f1_score w.avg\":f1_score_weighted}\n",
    "\n",
    "def robustness_test(df_full, test, metrics=DEFAULT_METRICES, iterations_nn=150, iterations_regclass=50):\n",
    "    en_revs = df_full[df_full.Language==\"en\"]\n",
    "    tr_revs = df_full[df_full.Language==\"tr\"]\n",
    "    robustness = dict()  # {(num of en reviews, num of tr reviews): scores_dict}\n",
    "    for en_size in range(1,11):\n",
    "        for tr_size in range(1,11):\n",
    "            en_train = en_revs.sample(frac=en_size/10.0)\n",
    "            tr_train = tr_revs.sample(frac=tr_size/10.0)\n",
    "            start = time.time()\n",
    "            print(\"En: {}\\tTr: {}\".format(len(en_train),len(tr_train)))\n",
    "            train = pd.concat([en_train, tr_train]).reset_index(drop=True)\n",
    "            robustness_tables = dict()\n",
    "            print(\"Using first variation (Regressor and Classifier with score vectors)\")\n",
    "            LSMR, score_vect_dicts, training_curve = get_score_vects(\n",
    "                                            train, alpha=1e-5, iterations=iterations_regclass)\n",
    "            regressor, classifier = fit(LSMR, score_vect_dicts)\n",
    "            test_vecs = preprocess_data(test)\n",
    "            preds, true = predict(test_vecs, score_vect_dicts, regressor, classifier)\n",
    "            robustness_tables[\"DeepSelect (regclass)\"] = dict()\n",
    "            robustness_tables[\"DeepSelect\"] = dict()\n",
    "\n",
    "            print(\"Using second variation (average of outputs produced by each set of weight matrices)\")\n",
    "            W1, W2, W3, training_curve, classes = train_selective(train, epochs=iterations_nn, p_every=25)\n",
    "            preds_nn, true_nn, probs = predict_selective(test, W1, W2, W3, classes=classes)\n",
    "            ll = log_loss(true_nn,probs, labels=classes)\n",
    "            \n",
    "    #         f1_test_nn = f1_score(true_nn, preds_nn, average='weighted')\n",
    "        \n",
    "            for name, metric in metrics.items():\n",
    "                \n",
    "                s_regclass = metric(true, preds)\n",
    "                s_nn = metric(true_nn, preds_nn)\n",
    "    #         f1_test_regclass = f1_score(true, preds, average='weighted')\n",
    "                robustness_tables[\"DeepSelect (regclass)\"][name] = s_regclass\n",
    "                robustness_tables[\"DeepSelect\"][name] = s_nn\n",
    "            robustness_tables[\"DeepSelect (regclass)\"][\"log loss\"] = np.NAN\n",
    "            robustness_tables[\"DeepSelect\"][\"log loss\"] = ll\n",
    "\n",
    "            print(\"Using well-known algorithms: Logistic Regression, RandomForest and MLP\")\n",
    "            lr = LogisticRegression()\n",
    "            rf = RandomForestClassifier(n_jobs=-1)\n",
    "            mlp = MLPClassifier()\n",
    "\n",
    "            train_mat = np.array(list(LSMR[\"rev_vec\"]))\n",
    "            train_y = np.array(list(LSMR[\"Score\"]))\n",
    "            test_mat = np.array(list(test_vecs[\"rev_vec\"]))\n",
    "\n",
    "            for model_name, model in [(\"Logistic Regression\",lr),\n",
    "                                (\"RandomForest\", rf),\n",
    "                                (\"MLP\", mlp)]:\n",
    "                model.fit(train_mat, train_y)\n",
    "                robustness_tables.setdefault(model_name, dict())\n",
    "                robustness_tables[model_name][\"log loss\"] = np.NAN\n",
    "                for metric_name, metric in metrics.items():\n",
    "                    robustness_tables[model_name][metric_name] = metric(true, model.predict(test_mat))\n",
    "            robustness[(len(en_train),len(tr_train))] = robustness_tables\n",
    "            print(\"Took: {}\".format(time.time()-start))\n",
    "            print(\"-\"*50)\n",
    "    return robustness"
   ]
  },
  {
   "cell_type": "code",
   "execution_count": 43,
   "metadata": {
    "scrolled": true
   },
   "outputs": [
    {
     "name": "stdout",
     "output_type": "stream",
     "text": [
      "En: 50\tTr: 42\n",
      "Using first variation (Regressor and Classifier with score vectors)\n",
      "epoch 0:\t16.267722696640316\n",
      "epoch 10:\t16.166657687382198\n",
      "epoch 20:\t15.91901594557589\n",
      "epoch 30:\t15.757097117247282\n",
      "epoch 40:\t15.600673612089444\n",
      "epoch 50:\t15.469640209091201\n",
      "Using second variation (average of outputs produced by each set of weight matrices)\n",
      "Epoch 0: 4.985744052984797\n",
      "Epoch 25: 0.023468635569795126\n",
      "Epoch 50: 0.010023549591386922\n",
      "Epoch 75: 0.00660197866040745\n",
      "Epoch 100: 0.004982926288501789\n",
      "Epoch 125: 0.004028559759567468\n",
      "Epoch 150: 0.0033954617488673043\n",
      "W1 size 88\n",
      "W2 size 15\n",
      "W3 size 9\n"
     ]
    },
    {
     "name": "stderr",
     "output_type": "stream",
     "text": [
      "/usr/local/lib/python3.5/dist-packages/sklearn/metrics/classification.py:1135: UndefinedMetricWarning: F-score is ill-defined and being set to 0.0 in labels with no predicted samples.\n",
      "  'precision', 'predicted', average, warn_for)\n"
     ]
    },
    {
     "name": "stdout",
     "output_type": "stream",
     "text": [
      "Using well-known algorithms: Logistic Regression, RandomForest and MLP\n"
     ]
    },
    {
     "name": "stderr",
     "output_type": "stream",
     "text": [
      "/usr/local/lib/python3.5/dist-packages/sklearn/metrics/classification.py:1135: UndefinedMetricWarning: F-score is ill-defined and being set to 0.0 in labels with no predicted samples.\n",
      "  'precision', 'predicted', average, warn_for)\n",
      "/usr/local/lib/python3.5/dist-packages/sklearn/neural_network/multilayer_perceptron.py:564: ConvergenceWarning: Stochastic Optimizer: Maximum iterations (200) reached and the optimization hasn't converged yet.\n",
      "  % self.max_iter, ConvergenceWarning)\n"
     ]
    },
    {
     "name": "stdout",
     "output_type": "stream",
     "text": [
      "Took: 31.7564697265625\n",
      "--------------------------------------------------\n",
      "En: 50\tTr: 85\n",
      "Using first variation (Regressor and Classifier with score vectors)\n",
      "epoch 0:\t15.823679171482095\n",
      "epoch 10:\t15.764763163617554\n",
      "epoch 20:\t15.707874642460592\n",
      "epoch 30:\t15.65256044064624\n",
      "epoch 40:\t15.593302343038062\n",
      "epoch 50:\t15.537421301279347\n",
      "Using second variation (average of outputs produced by each set of weight matrices)\n",
      "Epoch 0: 7.084023774737768\n",
      "Epoch 25: 0.03917049839483634\n",
      "Epoch 50: 0.012840683277398865\n",
      "Epoch 75: 0.007969211340773823\n",
      "Epoch 100: 0.005846729402185668\n",
      "Epoch 125: 0.004646000576404832\n",
      "Epoch 150: 0.003869292773503764\n",
      "W1 size 127\n",
      "W2 size 18\n",
      "W3 size 10\n",
      "Using well-known algorithms: Logistic Regression, RandomForest and MLP\n"
     ]
    },
    {
     "name": "stderr",
     "output_type": "stream",
     "text": [
      "/usr/local/lib/python3.5/dist-packages/sklearn/metrics/classification.py:1135: UndefinedMetricWarning: F-score is ill-defined and being set to 0.0 in labels with no predicted samples.\n",
      "  'precision', 'predicted', average, warn_for)\n",
      "/usr/local/lib/python3.5/dist-packages/sklearn/neural_network/multilayer_perceptron.py:564: ConvergenceWarning: Stochastic Optimizer: Maximum iterations (200) reached and the optimization hasn't converged yet.\n",
      "  % self.max_iter, ConvergenceWarning)\n"
     ]
    },
    {
     "name": "stdout",
     "output_type": "stream",
     "text": [
      "Took: 39.65585255622864\n",
      "--------------------------------------------------\n",
      "En: 50\tTr: 128\n",
      "Using first variation (Regressor and Classifier with score vectors)\n",
      "epoch 0:\t20.267807615766912\n",
      "epoch 10:\t20.099285501880225\n",
      "epoch 20:\t19.96162323356397\n",
      "epoch 30:\t19.838776911918764\n",
      "epoch 40:\t19.717525998621117\n",
      "epoch 50:\t19.600921259812093\n",
      "Using second variation (average of outputs produced by each set of weight matrices)\n",
      "Epoch 0: 6.093106965782916\n",
      "Epoch 25: 0.0713135676998815\n",
      "Epoch 50: 0.01587723960746102\n",
      "Epoch 75: 0.009078987691765086\n",
      "Epoch 100: 0.006432566643921194\n",
      "Epoch 125: 0.005012484697541812\n",
      "Epoch 150: 0.004122584941639202\n",
      "W1 size 157\n",
      "W2 size 18\n",
      "W3 size 10\n",
      "Using well-known algorithms: Logistic Regression, RandomForest and MLP\n"
     ]
    },
    {
     "name": "stderr",
     "output_type": "stream",
     "text": [
      "/usr/local/lib/python3.5/dist-packages/sklearn/metrics/classification.py:1135: UndefinedMetricWarning: F-score is ill-defined and being set to 0.0 in labels with no predicted samples.\n",
      "  'precision', 'predicted', average, warn_for)\n",
      "/usr/local/lib/python3.5/dist-packages/sklearn/neural_network/multilayer_perceptron.py:564: ConvergenceWarning: Stochastic Optimizer: Maximum iterations (200) reached and the optimization hasn't converged yet.\n",
      "  % self.max_iter, ConvergenceWarning)\n"
     ]
    },
    {
     "name": "stdout",
     "output_type": "stream",
     "text": [
      "Took: 52.571425437927246\n",
      "--------------------------------------------------\n",
      "En: 50\tTr: 170\n",
      "Using first variation (Regressor and Classifier with score vectors)\n",
      "epoch 0:\t20.99078914554018\n",
      "epoch 10:\t20.89034180274942\n",
      "epoch 20:\t20.79318319236893\n",
      "epoch 30:\t20.681064876422877\n",
      "epoch 40:\t20.56389947548474\n",
      "epoch 50:\t20.445808541107308\n",
      "Using second variation (average of outputs produced by each set of weight matrices)\n",
      "Epoch 0: 7.578379260492594\n",
      "Epoch 25: 0.03167917709668638\n",
      "Epoch 50: 0.008479133692621458\n",
      "Epoch 75: 0.0052697561838323794\n",
      "Epoch 100: 0.0038896533831100236\n",
      "Epoch 125: 0.003108096535900338\n",
      "Epoch 150: 0.0026006706715406835\n",
      "W1 size 188\n",
      "W2 size 16\n",
      "W3 size 9\n",
      "Using well-known algorithms: Logistic Regression, RandomForest and MLP\n"
     ]
    },
    {
     "name": "stderr",
     "output_type": "stream",
     "text": [
      "/usr/local/lib/python3.5/dist-packages/sklearn/metrics/classification.py:1135: UndefinedMetricWarning: F-score is ill-defined and being set to 0.0 in labels with no predicted samples.\n",
      "  'precision', 'predicted', average, warn_for)\n"
     ]
    },
    {
     "name": "stdout",
     "output_type": "stream",
     "text": [
      "Took: 66.54803204536438\n",
      "--------------------------------------------------\n",
      "En: 50\tTr: 212\n",
      "Using first variation (Regressor and Classifier with score vectors)\n",
      "epoch 0:\t24.647943406496026\n",
      "epoch 10:\t24.231072655762322\n",
      "epoch 20:\t23.880487526016168\n",
      "epoch 30:\t23.56933028106775\n",
      "epoch 40:\t23.258618464346732\n",
      "epoch 50:\t22.96837228388418\n",
      "Using second variation (average of outputs produced by each set of weight matrices)\n",
      "Epoch 0: 4.061120982289584\n",
      "Epoch 25: 0.015510387168782096\n",
      "Epoch 50: 0.006362762274493573\n",
      "Epoch 75: 0.004101747549184056\n",
      "Epoch 100: 0.0030604390310773706\n",
      "Epoch 125: 0.0024564575589590644\n",
      "Epoch 150: 0.0020600386312482357\n",
      "W1 size 221\n",
      "W2 size 17\n",
      "W3 size 10\n",
      "Using well-known algorithms: Logistic Regression, RandomForest and MLP\n"
     ]
    },
    {
     "name": "stderr",
     "output_type": "stream",
     "text": [
      "/usr/local/lib/python3.5/dist-packages/sklearn/metrics/classification.py:1135: UndefinedMetricWarning: F-score is ill-defined and being set to 0.0 in labels with no predicted samples.\n",
      "  'precision', 'predicted', average, warn_for)\n",
      "/usr/local/lib/python3.5/dist-packages/sklearn/neural_network/multilayer_perceptron.py:564: ConvergenceWarning: Stochastic Optimizer: Maximum iterations (200) reached and the optimization hasn't converged yet.\n",
      "  % self.max_iter, ConvergenceWarning)\n"
     ]
    },
    {
     "name": "stdout",
     "output_type": "stream",
     "text": [
      "Took: 78.38246870040894\n",
      "--------------------------------------------------\n",
      "En: 50\tTr: 255\n",
      "Using first variation (Regressor and Classifier with score vectors)\n",
      "epoch 0:\t18.680518295646422\n",
      "epoch 10:\t18.573324351798824\n",
      "epoch 20:\t18.491810017574398\n",
      "epoch 30:\t18.430179382710783\n",
      "epoch 40:\t18.36336981986512\n",
      "epoch 50:\t18.293298827057473\n",
      "Using second variation (average of outputs produced by each set of weight matrices)\n",
      "Epoch 0: 6.173154012125069\n",
      "Epoch 25: 0.0461133202798785\n",
      "Epoch 50: 0.010523815840130483\n",
      "Epoch 75: 0.006006744337334611\n",
      "Epoch 100: 0.0042776188653623065\n",
      "Epoch 125: 0.0033478185141843897\n",
      "Epoch 150: 0.002762640889265834\n",
      "W1 size 236\n",
      "W2 size 16\n",
      "W3 size 10\n",
      "Using well-known algorithms: Logistic Regression, RandomForest and MLP\n"
     ]
    },
    {
     "name": "stderr",
     "output_type": "stream",
     "text": [
      "/usr/local/lib/python3.5/dist-packages/sklearn/metrics/classification.py:1135: UndefinedMetricWarning: F-score is ill-defined and being set to 0.0 in labels with no predicted samples.\n",
      "  'precision', 'predicted', average, warn_for)\n",
      "/usr/local/lib/python3.5/dist-packages/sklearn/neural_network/multilayer_perceptron.py:564: ConvergenceWarning: Stochastic Optimizer: Maximum iterations (200) reached and the optimization hasn't converged yet.\n",
      "  % self.max_iter, ConvergenceWarning)\n"
     ]
    },
    {
     "name": "stdout",
     "output_type": "stream",
     "text": [
      "Took: 88.21051692962646\n",
      "--------------------------------------------------\n",
      "En: 50\tTr: 298\n",
      "Using first variation (Regressor and Classifier with score vectors)\n",
      "epoch 0:\t20.30306408355255\n",
      "epoch 10:\t20.088879469704338\n",
      "epoch 20:\t19.987910839987414\n",
      "epoch 30:\t19.889046308911656\n",
      "epoch 40:\t19.801087986137734\n",
      "epoch 50:\t19.715010137368132\n",
      "Using second variation (average of outputs produced by each set of weight matrices)\n",
      "Epoch 0: 2.8129671757556522\n",
      "Epoch 25: 0.014445444575865794\n",
      "Epoch 50: 0.004511960719059579\n",
      "Epoch 75: 0.002750501639860136\n",
      "Epoch 100: 0.0019993229175667166\n",
      "Epoch 125: 0.0015799073838635173\n",
      "Epoch 150: 0.0013110130412288766\n",
      "W1 size 268\n",
      "W2 size 16\n",
      "W3 size 9\n",
      "Using well-known algorithms: Logistic Regression, RandomForest and MLP\n"
     ]
    },
    {
     "name": "stderr",
     "output_type": "stream",
     "text": [
      "/usr/local/lib/python3.5/dist-packages/sklearn/metrics/classification.py:1135: UndefinedMetricWarning: F-score is ill-defined and being set to 0.0 in labels with no predicted samples.\n",
      "  'precision', 'predicted', average, warn_for)\n",
      "/usr/local/lib/python3.5/dist-packages/sklearn/neural_network/multilayer_perceptron.py:564: ConvergenceWarning: Stochastic Optimizer: Maximum iterations (200) reached and the optimization hasn't converged yet.\n",
      "  % self.max_iter, ConvergenceWarning)\n"
     ]
    },
    {
     "name": "stdout",
     "output_type": "stream",
     "text": [
      "Took: 96.6668267250061\n",
      "--------------------------------------------------\n",
      "En: 50\tTr: 340\n",
      "Using first variation (Regressor and Classifier with score vectors)\n",
      "epoch 0:\t23.144601603593085\n",
      "epoch 10:\t22.77493411758237\n",
      "epoch 20:\t22.525656578844785\n",
      "epoch 30:\t22.287158673735913\n",
      "epoch 40:\t22.119723825576724\n",
      "epoch 50:\t22.00572589055913\n",
      "Using second variation (average of outputs produced by each set of weight matrices)\n",
      "Epoch 0: 3.2093092118316817\n",
      "Epoch 25: 0.011661268630763142\n",
      "Epoch 50: 0.004314737363562506\n",
      "Epoch 75: 0.002744345700484147\n",
      "Epoch 100: 0.0020316073079559606\n",
      "Epoch 125: 0.0016211212230278086\n",
      "Epoch 150: 0.001353081831995531\n",
      "W1 size 296\n",
      "W2 size 17\n",
      "W3 size 10\n",
      "Using well-known algorithms: Logistic Regression, RandomForest and MLP\n"
     ]
    },
    {
     "name": "stderr",
     "output_type": "stream",
     "text": [
      "/usr/local/lib/python3.5/dist-packages/sklearn/metrics/classification.py:1135: UndefinedMetricWarning: F-score is ill-defined and being set to 0.0 in labels with no predicted samples.\n",
      "  'precision', 'predicted', average, warn_for)\n",
      "/usr/local/lib/python3.5/dist-packages/sklearn/neural_network/multilayer_perceptron.py:564: ConvergenceWarning: Stochastic Optimizer: Maximum iterations (200) reached and the optimization hasn't converged yet.\n",
      "  % self.max_iter, ConvergenceWarning)\n"
     ]
    },
    {
     "name": "stdout",
     "output_type": "stream",
     "text": [
      "Took: 118.03435516357422\n",
      "--------------------------------------------------\n",
      "En: 50\tTr: 382\n",
      "Using first variation (Regressor and Classifier with score vectors)\n",
      "epoch 0:\t22.619094470052154\n",
      "epoch 10:\t22.37415125898251\n",
      "epoch 20:\t21.995360345752452\n",
      "epoch 30:\t21.666660645089102\n",
      "epoch 40:\t21.34518832236925\n",
      "epoch 50:\t21.041416515629876\n",
      "Using second variation (average of outputs produced by each set of weight matrices)\n",
      "Epoch 0: 3.898371978580582\n",
      "Epoch 25: 0.00907578372755535\n",
      "Epoch 50: 0.0040162755591266145\n",
      "Epoch 75: 0.002633532724330065\n",
      "Epoch 100: 0.0019754162454967065\n",
      "Epoch 125: 0.00158772978323264\n",
      "Epoch 150: 0.0013311239944987054\n",
      "W1 size 311\n",
      "W2 size 17\n",
      "W3 size 9\n",
      "Using well-known algorithms: Logistic Regression, RandomForest and MLP\n"
     ]
    },
    {
     "name": "stderr",
     "output_type": "stream",
     "text": [
      "/usr/local/lib/python3.5/dist-packages/sklearn/metrics/classification.py:1135: UndefinedMetricWarning: F-score is ill-defined and being set to 0.0 in labels with no predicted samples.\n",
      "  'precision', 'predicted', average, warn_for)\n",
      "/usr/local/lib/python3.5/dist-packages/sklearn/neural_network/multilayer_perceptron.py:564: ConvergenceWarning: Stochastic Optimizer: Maximum iterations (200) reached and the optimization hasn't converged yet.\n",
      "  % self.max_iter, ConvergenceWarning)\n"
     ]
    },
    {
     "name": "stdout",
     "output_type": "stream",
     "text": [
      "Took: 110.80623078346252\n",
      "--------------------------------------------------\n",
      "En: 50\tTr: 425\n",
      "Using first variation (Regressor and Classifier with score vectors)\n",
      "epoch 0:\t22.82884962214801\n",
      "epoch 10:\t22.588518253924413\n",
      "epoch 20:\t22.328836575489543\n",
      "epoch 30:\t22.086141608166862\n",
      "epoch 40:\t21.863256366679813\n",
      "epoch 50:\t21.652802875976537\n",
      "Using second variation (average of outputs produced by each set of weight matrices)\n",
      "Epoch 0: 3.165200918184953\n",
      "Epoch 25: 0.01491766557471369\n",
      "Epoch 50: 0.00447958201128478\n",
      "Epoch 75: 0.002811424948787721\n",
      "Epoch 100: 0.002084566903638401\n",
      "Epoch 125: 0.0016710461773355913\n",
      "Epoch 150: 0.001401899617733127\n",
      "W1 size 335\n",
      "W2 size 18\n",
      "W3 size 10\n",
      "Using well-known algorithms: Logistic Regression, RandomForest and MLP\n"
     ]
    },
    {
     "name": "stderr",
     "output_type": "stream",
     "text": [
      "/usr/local/lib/python3.5/dist-packages/sklearn/metrics/classification.py:1135: UndefinedMetricWarning: F-score is ill-defined and being set to 0.0 in labels with no predicted samples.\n",
      "  'precision', 'predicted', average, warn_for)\n",
      "/usr/local/lib/python3.5/dist-packages/sklearn/neural_network/multilayer_perceptron.py:564: ConvergenceWarning: Stochastic Optimizer: Maximum iterations (200) reached and the optimization hasn't converged yet.\n",
      "  % self.max_iter, ConvergenceWarning)\n"
     ]
    },
    {
     "name": "stdout",
     "output_type": "stream",
     "text": [
      "Took: 134.46656823158264\n",
      "--------------------------------------------------\n",
      "En: 100\tTr: 42\n",
      "Using first variation (Regressor and Classifier with score vectors)\n",
      "epoch 0:\t24.09880116692551\n",
      "epoch 10:\t23.797222653520656\n",
      "epoch 20:\t23.528849140985066\n",
      "epoch 30:\t23.284826449929866\n",
      "epoch 40:\t23.074279942540297\n",
      "epoch 50:\t22.854799206046245\n",
      "Using second variation (average of outputs produced by each set of weight matrices)\n",
      "Epoch 0: 8.119142231875768\n",
      "Epoch 25: 0.030683190668869556\n",
      "Epoch 50: 0.012100155040455538\n",
      "Epoch 75: 0.0077011466744063995\n",
      "Epoch 100: 0.00569964074696747\n",
      "Epoch 125: 0.004546664042081061\n",
      "Epoch 150: 0.0037936669927353573\n",
      "W1 size 135\n",
      "W2 size 18\n",
      "W3 size 10\n",
      "Using well-known algorithms: Logistic Regression, RandomForest and MLP\n"
     ]
    },
    {
     "name": "stderr",
     "output_type": "stream",
     "text": [
      "/usr/local/lib/python3.5/dist-packages/sklearn/metrics/classification.py:1135: UndefinedMetricWarning: F-score is ill-defined and being set to 0.0 in labels with no predicted samples.\n",
      "  'precision', 'predicted', average, warn_for)\n",
      "/usr/local/lib/python3.5/dist-packages/sklearn/neural_network/multilayer_perceptron.py:564: ConvergenceWarning: Stochastic Optimizer: Maximum iterations (200) reached and the optimization hasn't converged yet.\n",
      "  % self.max_iter, ConvergenceWarning)\n"
     ]
    },
    {
     "name": "stdout",
     "output_type": "stream",
     "text": [
      "Took: 44.41284441947937\n",
      "--------------------------------------------------\n",
      "En: 100\tTr: 85\n",
      "Using first variation (Regressor and Classifier with score vectors)\n",
      "epoch 0:\t19.954103533803345\n",
      "epoch 10:\t19.656172857066753\n",
      "epoch 20:\t19.45263008108193\n",
      "epoch 30:\t19.21017629304236\n",
      "epoch 40:\t18.998014858633084\n",
      "epoch 50:\t18.804600773459438\n",
      "Using second variation (average of outputs produced by each set of weight matrices)\n",
      "Epoch 0: 2.622469002817682\n",
      "Epoch 25: 0.023299276919617015\n",
      "Epoch 50: 0.006829421642573465\n",
      "Epoch 75: 0.004210302887652171\n",
      "Epoch 100: 0.003091620843655914\n",
      "Epoch 125: 0.002461898986707884\n",
      "Epoch 150: 0.0020549076491521634\n",
      "W1 size 173\n",
      "W2 size 16\n",
      "W3 size 9\n",
      "Using well-known algorithms: Logistic Regression, RandomForest and MLP\n"
     ]
    },
    {
     "name": "stderr",
     "output_type": "stream",
     "text": [
      "/usr/local/lib/python3.5/dist-packages/sklearn/metrics/classification.py:1135: UndefinedMetricWarning: F-score is ill-defined and being set to 0.0 in labels with no predicted samples.\n",
      "  'precision', 'predicted', average, warn_for)\n",
      "/usr/local/lib/python3.5/dist-packages/sklearn/neural_network/multilayer_perceptron.py:564: ConvergenceWarning: Stochastic Optimizer: Maximum iterations (200) reached and the optimization hasn't converged yet.\n",
      "  % self.max_iter, ConvergenceWarning)\n"
     ]
    },
    {
     "name": "stdout",
     "output_type": "stream",
     "text": [
      "Took: 57.00933051109314\n",
      "--------------------------------------------------\n",
      "En: 100\tTr: 128\n",
      "Using first variation (Regressor and Classifier with score vectors)\n",
      "epoch 0:\t23.205660951165484\n",
      "epoch 10:\t22.952957304046492\n",
      "epoch 20:\t22.716028910253534\n",
      "epoch 30:\t22.45551091375742\n",
      "epoch 40:\t22.209017838657402\n",
      "epoch 50:\t21.99227457169646\n",
      "Using second variation (average of outputs produced by each set of weight matrices)\n",
      "Epoch 0: 5.878388256659818\n",
      "Epoch 25: 0.056491721636572685\n",
      "Epoch 50: 0.01292057886172515\n",
      "Epoch 75: 0.0068933695263736355\n",
      "Epoch 100: 0.004827914652004121\n",
      "Epoch 125: 0.0037487083883658407\n",
      "Epoch 150: 0.0030787492041619608\n",
      "W1 size 200\n",
      "W2 size 18\n",
      "W3 size 10\n",
      "Using well-known algorithms: Logistic Regression, RandomForest and MLP\n"
     ]
    },
    {
     "name": "stderr",
     "output_type": "stream",
     "text": [
      "/usr/local/lib/python3.5/dist-packages/sklearn/metrics/classification.py:1135: UndefinedMetricWarning: F-score is ill-defined and being set to 0.0 in labels with no predicted samples.\n",
      "  'precision', 'predicted', average, warn_for)\n"
     ]
    },
    {
     "name": "stdout",
     "output_type": "stream",
     "text": [
      "Took: 71.80749297142029\n",
      "--------------------------------------------------\n",
      "En: 100\tTr: 170\n",
      "Using first variation (Regressor and Classifier with score vectors)\n",
      "epoch 0:\t19.25391957336185\n",
      "epoch 10:\t19.141700929862193\n",
      "epoch 20:\t19.040548980642107\n",
      "epoch 30:\t18.940429197048992\n",
      "epoch 40:\t18.855666266988802\n",
      "epoch 50:\t18.77465063194378\n",
      "Using second variation (average of outputs produced by each set of weight matrices)\n",
      "Epoch 0: 3.585510093861834\n",
      "Epoch 25: 0.011646054333614217\n",
      "Epoch 50: 0.005137390768788287\n",
      "Epoch 75: 0.0033804686358402487\n",
      "Epoch 100: 0.0025431397194310007\n",
      "Epoch 125: 0.0020486736265817635\n",
      "Epoch 150: 0.00172060550136145\n",
      "W1 size 234\n",
      "W2 size 17\n",
      "W3 size 10\n",
      "Using well-known algorithms: Logistic Regression, RandomForest and MLP\n"
     ]
    },
    {
     "name": "stderr",
     "output_type": "stream",
     "text": [
      "/usr/local/lib/python3.5/dist-packages/sklearn/metrics/classification.py:1135: UndefinedMetricWarning: F-score is ill-defined and being set to 0.0 in labels with no predicted samples.\n",
      "  'precision', 'predicted', average, warn_for)\n",
      "/usr/local/lib/python3.5/dist-packages/sklearn/neural_network/multilayer_perceptron.py:564: ConvergenceWarning: Stochastic Optimizer: Maximum iterations (200) reached and the optimization hasn't converged yet.\n",
      "  % self.max_iter, ConvergenceWarning)\n"
     ]
    },
    {
     "name": "stdout",
     "output_type": "stream",
     "text": [
      "Took: 75.17015886306763\n",
      "--------------------------------------------------\n",
      "En: 100\tTr: 212\n",
      "Using first variation (Regressor and Classifier with score vectors)\n",
      "epoch 0:\t20.710405380170716\n",
      "epoch 10:\t20.621900542328248\n",
      "epoch 20:\t20.463842780171472\n",
      "epoch 30:\t20.250931637246122\n",
      "epoch 40:\t20.04523828774923\n",
      "epoch 50:\t19.848599446308846\n",
      "Using second variation (average of outputs produced by each set of weight matrices)\n",
      "Epoch 0: 3.5991186041378334\n",
      "Epoch 25: 0.02748616615433537\n",
      "Epoch 50: 0.008175154505916628\n",
      "Epoch 75: 0.005008354177903129\n",
      "Epoch 100: 0.0036615602687782656\n",
      "Epoch 125: 0.00290558616823256\n",
      "Epoch 150: 0.0024181633022043714\n",
      "W1 size 263\n",
      "W2 size 18\n",
      "W3 size 10\n",
      "Using well-known algorithms: Logistic Regression, RandomForest and MLP\n"
     ]
    },
    {
     "name": "stderr",
     "output_type": "stream",
     "text": [
      "/usr/local/lib/python3.5/dist-packages/sklearn/metrics/classification.py:1135: UndefinedMetricWarning: F-score is ill-defined and being set to 0.0 in labels with no predicted samples.\n",
      "  'precision', 'predicted', average, warn_for)\n",
      "/usr/local/lib/python3.5/dist-packages/sklearn/neural_network/multilayer_perceptron.py:564: ConvergenceWarning: Stochastic Optimizer: Maximum iterations (200) reached and the optimization hasn't converged yet.\n",
      "  % self.max_iter, ConvergenceWarning)\n"
     ]
    },
    {
     "name": "stdout",
     "output_type": "stream",
     "text": [
      "Took: 90.97841882705688\n",
      "--------------------------------------------------\n",
      "En: 100\tTr: 255\n",
      "Using first variation (Regressor and Classifier with score vectors)\n",
      "epoch 0:\t20.53329531038418\n",
      "epoch 10:\t20.38065484850563\n",
      "epoch 20:\t20.22953288413299\n",
      "epoch 30:\t20.12402205082956\n",
      "epoch 40:\t20.038993611431025\n",
      "epoch 50:\t19.962946462828565\n",
      "Using second variation (average of outputs produced by each set of weight matrices)\n",
      "Epoch 0: 3.8066494212448956\n",
      "Epoch 25: 0.0122328950253651\n",
      "Epoch 50: 0.00471182860483216\n",
      "Epoch 75: 0.0030349176165791057\n",
      "Epoch 100: 0.002266569417500724\n",
      "Epoch 125: 0.0018203664827900622\n",
      "Epoch 150: 0.0015269529055281438\n",
      "W1 size 288\n",
      "W2 size 17\n",
      "W3 size 10\n",
      "Using well-known algorithms: Logistic Regression, RandomForest and MLP\n"
     ]
    },
    {
     "name": "stderr",
     "output_type": "stream",
     "text": [
      "/usr/local/lib/python3.5/dist-packages/sklearn/metrics/classification.py:1135: UndefinedMetricWarning: F-score is ill-defined and being set to 0.0 in labels with no predicted samples.\n",
      "  'precision', 'predicted', average, warn_for)\n",
      "/usr/local/lib/python3.5/dist-packages/sklearn/neural_network/multilayer_perceptron.py:564: ConvergenceWarning: Stochastic Optimizer: Maximum iterations (200) reached and the optimization hasn't converged yet.\n",
      "  % self.max_iter, ConvergenceWarning)\n"
     ]
    },
    {
     "name": "stdout",
     "output_type": "stream",
     "text": [
      "Took: 100.184396982193\n",
      "--------------------------------------------------\n",
      "En: 100\tTr: 298\n",
      "Using first variation (Regressor and Classifier with score vectors)\n",
      "epoch 0:\t22.40307981473673\n",
      "epoch 10:\t22.073163639584045\n",
      "epoch 20:\t21.707063212871006\n",
      "epoch 30:\t21.454889256026952\n",
      "epoch 40:\t21.207291124336237\n",
      "epoch 50:\t20.963480774021217\n",
      "Using second variation (average of outputs produced by each set of weight matrices)\n",
      "Epoch 0: 4.127791371790313\n",
      "Epoch 25: 0.008423940787499428\n",
      "Epoch 50: 0.003916304578324623\n",
      "Epoch 75: 0.002600052771834716\n",
      "Epoch 100: 0.0019624790545357236\n",
      "Epoch 125: 0.0015835952293043137\n",
      "Epoch 150: 0.0013314494429074806\n",
      "W1 size 311\n",
      "W2 size 17\n",
      "W3 size 10\n",
      "Using well-known algorithms: Logistic Regression, RandomForest and MLP\n"
     ]
    },
    {
     "name": "stderr",
     "output_type": "stream",
     "text": [
      "/usr/local/lib/python3.5/dist-packages/sklearn/metrics/classification.py:1135: UndefinedMetricWarning: F-score is ill-defined and being set to 0.0 in labels with no predicted samples.\n",
      "  'precision', 'predicted', average, warn_for)\n",
      "/usr/local/lib/python3.5/dist-packages/sklearn/neural_network/multilayer_perceptron.py:564: ConvergenceWarning: Stochastic Optimizer: Maximum iterations (200) reached and the optimization hasn't converged yet.\n",
      "  % self.max_iter, ConvergenceWarning)\n"
     ]
    },
    {
     "name": "stdout",
     "output_type": "stream",
     "text": [
      "Took: 117.22518038749695\n",
      "--------------------------------------------------\n",
      "En: 100\tTr: 340\n",
      "Using first variation (Regressor and Classifier with score vectors)\n",
      "epoch 0:\t24.07903340815802\n",
      "epoch 10:\t23.64074196466678\n",
      "epoch 20:\t23.325834053399312\n",
      "epoch 30:\t23.045151899184752\n",
      "epoch 40:\t22.786190170268828\n",
      "epoch 50:\t22.53908728206555\n",
      "Using second variation (average of outputs produced by each set of weight matrices)\n",
      "Epoch 0: 2.9630719550807707\n",
      "Epoch 25: 0.008553650809699966\n",
      "Epoch 50: 0.0035248827820164503\n",
      "Epoch 75: 0.0022701859520452027\n",
      "Epoch 100: 0.0016892059931033416\n",
      "Epoch 125: 0.001351650099464343\n",
      "Epoch 150: 0.0011300832235830297\n",
      "W1 size 340\n",
      "W2 size 18\n",
      "W3 size 10\n",
      "Using well-known algorithms: Logistic Regression, RandomForest and MLP\n"
     ]
    },
    {
     "name": "stderr",
     "output_type": "stream",
     "text": [
      "/usr/local/lib/python3.5/dist-packages/sklearn/metrics/classification.py:1135: UndefinedMetricWarning: F-score is ill-defined and being set to 0.0 in labels with no predicted samples.\n",
      "  'precision', 'predicted', average, warn_for)\n",
      "/usr/local/lib/python3.5/dist-packages/sklearn/neural_network/multilayer_perceptron.py:564: ConvergenceWarning: Stochastic Optimizer: Maximum iterations (200) reached and the optimization hasn't converged yet.\n",
      "  % self.max_iter, ConvergenceWarning)\n"
     ]
    },
    {
     "name": "stdout",
     "output_type": "stream",
     "text": [
      "Took: 124.81898522377014\n",
      "--------------------------------------------------\n",
      "En: 100\tTr: 382\n",
      "Using first variation (Regressor and Classifier with score vectors)\n",
      "epoch 0:\t20.866622326364734\n",
      "epoch 10:\t20.610736340309412\n",
      "epoch 20:\t20.38200761903456\n",
      "epoch 30:\t20.170417201145472\n",
      "epoch 40:\t19.98224654679707\n",
      "epoch 50:\t19.832303327998666\n",
      "Using second variation (average of outputs produced by each set of weight matrices)\n",
      "Epoch 0: 3.434237987522122\n",
      "Epoch 25: 0.008262906388455515\n",
      "Epoch 50: 0.0038024633391912904\n",
      "Epoch 75: 0.0025437708665588896\n",
      "Epoch 100: 0.0019351297811622703\n",
      "Epoch 125: 0.0015722953703886703\n",
      "Epoch 150: 0.0013297973441553403\n",
      "W1 size 357\n",
      "W2 size 18\n",
      "W3 size 10\n",
      "Using well-known algorithms: Logistic Regression, RandomForest and MLP\n"
     ]
    },
    {
     "name": "stderr",
     "output_type": "stream",
     "text": [
      "/usr/local/lib/python3.5/dist-packages/sklearn/metrics/classification.py:1135: UndefinedMetricWarning: F-score is ill-defined and being set to 0.0 in labels with no predicted samples.\n",
      "  'precision', 'predicted', average, warn_for)\n",
      "/usr/local/lib/python3.5/dist-packages/sklearn/neural_network/multilayer_perceptron.py:564: ConvergenceWarning: Stochastic Optimizer: Maximum iterations (200) reached and the optimization hasn't converged yet.\n",
      "  % self.max_iter, ConvergenceWarning)\n"
     ]
    },
    {
     "name": "stdout",
     "output_type": "stream",
     "text": [
      "Took: 142.88700222969055\n",
      "--------------------------------------------------\n",
      "En: 100\tTr: 425\n",
      "Using first variation (Regressor and Classifier with score vectors)\n",
      "epoch 0:\t20.626169663467962\n",
      "epoch 10:\t20.512026335509425\n",
      "epoch 20:\t20.4254868614776\n",
      "epoch 30:\t20.351876190626164\n",
      "epoch 40:\t20.283345289139042\n",
      "epoch 50:\t20.217522914955403\n",
      "Using second variation (average of outputs produced by each set of weight matrices)\n",
      "Epoch 0: 2.647436887797819\n",
      "Epoch 25: 0.005578014892100674\n",
      "Epoch 50: 0.0026501809136595424\n",
      "Epoch 75: 0.0017789928041083516\n",
      "Epoch 100: 0.0013533354148104796\n",
      "Epoch 125: 0.0010988416874837576\n",
      "Epoch 150: 0.0009286730170983522\n",
      "W1 size 384\n",
      "W2 size 17\n",
      "W3 size 10\n",
      "Using well-known algorithms: Logistic Regression, RandomForest and MLP\n"
     ]
    },
    {
     "name": "stderr",
     "output_type": "stream",
     "text": [
      "/usr/local/lib/python3.5/dist-packages/sklearn/metrics/classification.py:1135: UndefinedMetricWarning: F-score is ill-defined and being set to 0.0 in labels with no predicted samples.\n",
      "  'precision', 'predicted', average, warn_for)\n",
      "/usr/local/lib/python3.5/dist-packages/sklearn/neural_network/multilayer_perceptron.py:564: ConvergenceWarning: Stochastic Optimizer: Maximum iterations (200) reached and the optimization hasn't converged yet.\n",
      "  % self.max_iter, ConvergenceWarning)\n"
     ]
    },
    {
     "name": "stdout",
     "output_type": "stream",
     "text": [
      "Took: 154.21563720703125\n",
      "--------------------------------------------------\n",
      "En: 150\tTr: 42\n",
      "Using first variation (Regressor and Classifier with score vectors)\n",
      "epoch 0:\t19.649883716886237\n",
      "epoch 10:\t19.503238810572093\n",
      "epoch 20:\t19.39711644721985\n",
      "epoch 30:\t19.249497584618688\n",
      "epoch 40:\t19.082277221793525\n",
      "epoch 50:\t18.913982595834575\n",
      "Using second variation (average of outputs produced by each set of weight matrices)\n",
      "Epoch 0: 6.005330321267138\n",
      "Epoch 25: 0.020869556863146954\n",
      "Epoch 50: 0.008378783629732803\n",
      "Epoch 75: 0.005434262285651433\n",
      "Epoch 100: 0.004074254025998887\n",
      "Epoch 125: 0.0032813270471384235\n",
      "Epoch 150: 0.002758375972968944\n",
      "W1 size 177\n",
      "W2 size 16\n",
      "W3 size 10\n",
      "Using well-known algorithms: Logistic Regression, RandomForest and MLP\n"
     ]
    },
    {
     "name": "stderr",
     "output_type": "stream",
     "text": [
      "/usr/local/lib/python3.5/dist-packages/sklearn/metrics/classification.py:1135: UndefinedMetricWarning: F-score is ill-defined and being set to 0.0 in labels with no predicted samples.\n",
      "  'precision', 'predicted', average, warn_for)\n",
      "/usr/local/lib/python3.5/dist-packages/sklearn/neural_network/multilayer_perceptron.py:564: ConvergenceWarning: Stochastic Optimizer: Maximum iterations (200) reached and the optimization hasn't converged yet.\n",
      "  % self.max_iter, ConvergenceWarning)\n"
     ]
    },
    {
     "name": "stdout",
     "output_type": "stream",
     "text": [
      "Took: 60.98703742027283\n",
      "--------------------------------------------------\n",
      "En: 150\tTr: 85\n",
      "Using first variation (Regressor and Classifier with score vectors)\n",
      "epoch 0:\t18.865394388766028\n",
      "epoch 10:\t18.808935569053027\n",
      "epoch 20:\t18.772905002220035\n",
      "epoch 30:\t18.71285420667737\n",
      "epoch 40:\t18.646700089700836\n",
      "epoch 50:\t18.583617951933455\n",
      "Using second variation (average of outputs produced by each set of weight matrices)\n",
      "Epoch 0: 3.4477567327080325\n",
      "Epoch 25: 0.01004830375416331\n",
      "Epoch 50: 0.004675547536610314\n",
      "Epoch 75: 0.00310537430289114\n",
      "Epoch 100: 0.0023453231540891445\n",
      "Epoch 125: 0.001893971415797944\n",
      "Epoch 150: 0.0015937714073170064\n",
      "W1 size 212\n",
      "W2 size 18\n",
      "W3 size 10\n",
      "Using well-known algorithms: Logistic Regression, RandomForest and MLP\n"
     ]
    },
    {
     "name": "stderr",
     "output_type": "stream",
     "text": [
      "/usr/local/lib/python3.5/dist-packages/sklearn/metrics/classification.py:1135: UndefinedMetricWarning: F-score is ill-defined and being set to 0.0 in labels with no predicted samples.\n",
      "  'precision', 'predicted', average, warn_for)\n",
      "/usr/local/lib/python3.5/dist-packages/sklearn/neural_network/multilayer_perceptron.py:564: ConvergenceWarning: Stochastic Optimizer: Maximum iterations (200) reached and the optimization hasn't converged yet.\n",
      "  % self.max_iter, ConvergenceWarning)\n"
     ]
    },
    {
     "name": "stdout",
     "output_type": "stream",
     "text": [
      "Took: 69.80442976951599\n",
      "--------------------------------------------------\n",
      "En: 150\tTr: 128\n",
      "Using first variation (Regressor and Classifier with score vectors)\n",
      "epoch 0:\t20.883416962932003\n",
      "epoch 10:\t20.71696473634108\n",
      "epoch 20:\t20.580363871186947\n",
      "epoch 30:\t20.412132956349687\n",
      "epoch 40:\t20.27246585063824\n",
      "epoch 50:\t20.14742840236362\n",
      "Using second variation (average of outputs produced by each set of weight matrices)\n",
      "Epoch 0: 3.782632092414787\n",
      "Epoch 25: 0.011642283588241119\n",
      "Epoch 50: 0.004775619664054958\n",
      "Epoch 75: 0.0031535504646147804\n",
      "Epoch 100: 0.0023884376513356683\n",
      "Epoch 125: 0.0019361814124357723\n",
      "Epoch 150: 0.0016351849080313522\n",
      "W1 size 235\n",
      "W2 size 18\n",
      "W3 size 10\n",
      "Using well-known algorithms: Logistic Regression, RandomForest and MLP\n"
     ]
    },
    {
     "name": "stderr",
     "output_type": "stream",
     "text": [
      "/usr/local/lib/python3.5/dist-packages/sklearn/metrics/classification.py:1135: UndefinedMetricWarning: F-score is ill-defined and being set to 0.0 in labels with no predicted samples.\n",
      "  'precision', 'predicted', average, warn_for)\n",
      "/usr/local/lib/python3.5/dist-packages/sklearn/neural_network/multilayer_perceptron.py:564: ConvergenceWarning: Stochastic Optimizer: Maximum iterations (200) reached and the optimization hasn't converged yet.\n",
      "  % self.max_iter, ConvergenceWarning)\n"
     ]
    },
    {
     "name": "stdout",
     "output_type": "stream",
     "text": [
      "Took: 81.34507846832275\n",
      "--------------------------------------------------\n",
      "En: 150\tTr: 170\n",
      "Using first variation (Regressor and Classifier with score vectors)\n",
      "epoch 0:\t23.327857039150796\n",
      "epoch 10:\t23.039391187098026\n",
      "epoch 20:\t22.797319260888592\n",
      "epoch 30:\t22.556379222745953\n",
      "epoch 40:\t22.352569826159197\n",
      "epoch 50:\t22.111767380845983\n",
      "Using second variation (average of outputs produced by each set of weight matrices)\n",
      "Epoch 0: 4.1292879393016735\n",
      "Epoch 25: 0.03237795784515356\n",
      "Epoch 50: 0.007149250620236103\n",
      "Epoch 75: 0.0040032159808951915\n",
      "Epoch 100: 0.002884856430489435\n",
      "Epoch 125: 0.002282008640264621\n",
      "Epoch 150: 0.0018994004681744058\n",
      "W1 size 282\n",
      "W2 size 18\n",
      "W3 size 10\n",
      "Using well-known algorithms: Logistic Regression, RandomForest and MLP\n"
     ]
    },
    {
     "name": "stderr",
     "output_type": "stream",
     "text": [
      "/usr/local/lib/python3.5/dist-packages/sklearn/metrics/classification.py:1135: UndefinedMetricWarning: F-score is ill-defined and being set to 0.0 in labels with no predicted samples.\n",
      "  'precision', 'predicted', average, warn_for)\n",
      "/usr/local/lib/python3.5/dist-packages/sklearn/neural_network/multilayer_perceptron.py:564: ConvergenceWarning: Stochastic Optimizer: Maximum iterations (200) reached and the optimization hasn't converged yet.\n",
      "  % self.max_iter, ConvergenceWarning)\n"
     ]
    },
    {
     "name": "stdout",
     "output_type": "stream",
     "text": [
      "Took: 89.83279013633728\n",
      "--------------------------------------------------\n",
      "En: 150\tTr: 212\n",
      "Using first variation (Regressor and Classifier with score vectors)\n",
      "epoch 0:\t19.69406424494737\n",
      "epoch 10:\t19.600345306317333\n",
      "epoch 20:\t19.52533806104433\n",
      "epoch 30:\t19.439981890316123\n",
      "epoch 40:\t19.354190600798095\n",
      "epoch 50:\t19.279805967281455\n",
      "Using second variation (average of outputs produced by each set of weight matrices)\n",
      "Epoch 0: 4.008561255108914\n",
      "Epoch 25: 0.027832489382825887\n",
      "Epoch 50: 0.008484068763430913\n",
      "Epoch 75: 0.005274765337175097\n",
      "Epoch 100: 0.003914432302827822\n",
      "Epoch 125: 0.003143176647196041\n",
      "Epoch 150: 0.002640925605641589\n",
      "W1 size 303\n",
      "W2 size 18\n",
      "W3 size 10\n",
      "Using well-known algorithms: Logistic Regression, RandomForest and MLP\n"
     ]
    },
    {
     "name": "stderr",
     "output_type": "stream",
     "text": [
      "/usr/local/lib/python3.5/dist-packages/sklearn/metrics/classification.py:1135: UndefinedMetricWarning: F-score is ill-defined and being set to 0.0 in labels with no predicted samples.\n",
      "  'precision', 'predicted', average, warn_for)\n",
      "/usr/local/lib/python3.5/dist-packages/sklearn/neural_network/multilayer_perceptron.py:564: ConvergenceWarning: Stochastic Optimizer: Maximum iterations (200) reached and the optimization hasn't converged yet.\n",
      "  % self.max_iter, ConvergenceWarning)\n"
     ]
    },
    {
     "name": "stdout",
     "output_type": "stream",
     "text": [
      "Took: 99.34575462341309\n",
      "--------------------------------------------------\n",
      "En: 150\tTr: 255\n",
      "Using first variation (Regressor and Classifier with score vectors)\n",
      "epoch 0:\t23.98804956617248\n",
      "epoch 10:\t23.681848657546826\n",
      "epoch 20:\t23.382652460823458\n",
      "epoch 30:\t23.129546787761676\n",
      "epoch 40:\t22.858577243676834\n",
      "epoch 50:\t22.59003801920406\n",
      "Using second variation (average of outputs produced by each set of weight matrices)\n",
      "Epoch 0: 2.3384286257463605\n",
      "Epoch 25: 0.007987844358408606\n",
      "Epoch 50: 0.0034269213119701527\n",
      "Epoch 75: 0.0022246326297164034\n",
      "Epoch 100: 0.001660983342156686\n",
      "Epoch 125: 0.0013317801818954179\n",
      "Epoch 150: 0.0011150767929049756\n",
      "W1 size 333\n",
      "W2 size 18\n",
      "W3 size 10\n",
      "Using well-known algorithms: Logistic Regression, RandomForest and MLP\n"
     ]
    },
    {
     "name": "stderr",
     "output_type": "stream",
     "text": [
      "/usr/local/lib/python3.5/dist-packages/sklearn/metrics/classification.py:1135: UndefinedMetricWarning: F-score is ill-defined and being set to 0.0 in labels with no predicted samples.\n",
      "  'precision', 'predicted', average, warn_for)\n"
     ]
    },
    {
     "name": "stdout",
     "output_type": "stream",
     "text": [
      "Took: 115.12767601013184\n",
      "--------------------------------------------------\n",
      "En: 150\tTr: 298\n",
      "Using first variation (Regressor and Classifier with score vectors)\n",
      "epoch 0:\t22.185509903379703\n",
      "epoch 10:\t21.977018358482304\n",
      "epoch 20:\t21.706812786200935\n",
      "epoch 30:\t21.468986448718226\n",
      "epoch 40:\t21.214994007591287\n",
      "epoch 50:\t20.961506493928603\n"
     ]
    },
    {
     "name": "stderr",
     "output_type": "stream",
     "text": [
      "/usr/local/lib/python3.5/dist-packages/sklearn/neural_network/multilayer_perceptron.py:564: ConvergenceWarning: Stochastic Optimizer: Maximum iterations (200) reached and the optimization hasn't converged yet.\n",
      "  % self.max_iter, ConvergenceWarning)\n"
     ]
    },
    {
     "name": "stdout",
     "output_type": "stream",
     "text": [
      "Using second variation (average of outputs produced by each set of weight matrices)\n",
      "Epoch 0: 4.2489873529679505\n",
      "Epoch 25: 0.024705857229158874\n",
      "Epoch 50: 0.006780014920862649\n",
      "Epoch 75: 0.004067354740880903\n",
      "Epoch 100: 0.002956459388175046\n",
      "Epoch 125: 0.0023392368418504767\n",
      "Epoch 150: 0.0019432248774476437\n",
      "W1 size 349\n",
      "W2 size 18\n",
      "W3 size 10\n",
      "Using well-known algorithms: Logistic Regression, RandomForest and MLP\n"
     ]
    },
    {
     "name": "stderr",
     "output_type": "stream",
     "text": [
      "/usr/local/lib/python3.5/dist-packages/sklearn/metrics/classification.py:1135: UndefinedMetricWarning: F-score is ill-defined and being set to 0.0 in labels with no predicted samples.\n",
      "  'precision', 'predicted', average, warn_for)\n",
      "/usr/local/lib/python3.5/dist-packages/sklearn/neural_network/multilayer_perceptron.py:564: ConvergenceWarning: Stochastic Optimizer: Maximum iterations (200) reached and the optimization hasn't converged yet.\n",
      "  % self.max_iter, ConvergenceWarning)\n"
     ]
    },
    {
     "name": "stdout",
     "output_type": "stream",
     "text": [
      "Took: 127.3035671710968\n",
      "--------------------------------------------------\n",
      "En: 150\tTr: 340\n",
      "Using first variation (Regressor and Classifier with score vectors)\n",
      "epoch 0:\t23.37705934021999\n",
      "epoch 10:\t23.040742992161416\n",
      "epoch 20:\t22.74508499442208\n",
      "epoch 30:\t22.437204606535616\n",
      "epoch 40:\t22.146904371011527\n",
      "epoch 50:\t21.872608043510265\n",
      "Using second variation (average of outputs produced by each set of weight matrices)\n",
      "Epoch 0: 3.3968653580842347\n",
      "Epoch 25: 0.010482302435446176\n",
      "Epoch 50: 0.0041492793412498015\n",
      "Epoch 75: 0.0026529226652969\n",
      "Epoch 100: 0.0019688020884250455\n",
      "Epoch 125: 0.0015733940318921446\n",
      "Epoch 150: 0.00131460037762281\n",
      "W1 size 381\n",
      "W2 size 18\n",
      "W3 size 10\n",
      "Using well-known algorithms: Logistic Regression, RandomForest and MLP\n"
     ]
    },
    {
     "name": "stderr",
     "output_type": "stream",
     "text": [
      "/usr/local/lib/python3.5/dist-packages/sklearn/metrics/classification.py:1135: UndefinedMetricWarning: F-score is ill-defined and being set to 0.0 in labels with no predicted samples.\n",
      "  'precision', 'predicted', average, warn_for)\n",
      "/usr/local/lib/python3.5/dist-packages/sklearn/neural_network/multilayer_perceptron.py:564: ConvergenceWarning: Stochastic Optimizer: Maximum iterations (200) reached and the optimization hasn't converged yet.\n",
      "  % self.max_iter, ConvergenceWarning)\n"
     ]
    },
    {
     "name": "stdout",
     "output_type": "stream",
     "text": [
      "Took: 144.66939568519592\n",
      "--------------------------------------------------\n",
      "En: 150\tTr: 382\n",
      "Using first variation (Regressor and Classifier with score vectors)\n",
      "epoch 0:\t20.998231372955694\n",
      "epoch 10:\t20.875259973946857\n",
      "epoch 20:\t20.757702476057222\n",
      "epoch 30:\t20.641912624300918\n",
      "epoch 40:\t20.5269922620324\n",
      "epoch 50:\t20.41170525143047\n",
      "Using second variation (average of outputs produced by each set of weight matrices)\n",
      "Epoch 0: 1.7118906925508464\n",
      "Epoch 25: 0.004180391940264569\n",
      "Epoch 50: 0.001998176774670011\n",
      "Epoch 75: 0.0013320008452426468\n",
      "Epoch 100: 0.0010059339794835918\n",
      "Epoch 125: 0.0008115318268308083\n",
      "Epoch 150: 0.0006820452035753453\n",
      "W1 size 396\n",
      "W2 size 18\n",
      "W3 size 10\n",
      "Using well-known algorithms: Logistic Regression, RandomForest and MLP\n"
     ]
    },
    {
     "name": "stderr",
     "output_type": "stream",
     "text": [
      "/usr/local/lib/python3.5/dist-packages/sklearn/metrics/classification.py:1135: UndefinedMetricWarning: F-score is ill-defined and being set to 0.0 in labels with no predicted samples.\n",
      "  'precision', 'predicted', average, warn_for)\n",
      "/usr/local/lib/python3.5/dist-packages/sklearn/neural_network/multilayer_perceptron.py:564: ConvergenceWarning: Stochastic Optimizer: Maximum iterations (200) reached and the optimization hasn't converged yet.\n",
      "  % self.max_iter, ConvergenceWarning)\n"
     ]
    },
    {
     "name": "stdout",
     "output_type": "stream",
     "text": [
      "Took: 151.4055106639862\n",
      "--------------------------------------------------\n",
      "En: 150\tTr: 425\n",
      "Using first variation (Regressor and Classifier with score vectors)\n",
      "epoch 0:\t19.802096505101247\n",
      "epoch 10:\t19.747683846752928\n",
      "epoch 20:\t19.658532512947215\n",
      "epoch 30:\t19.571433711388575\n",
      "epoch 40:\t19.489780955031925\n",
      "epoch 50:\t19.413056561938888\n",
      "Using second variation (average of outputs produced by each set of weight matrices)\n",
      "Epoch 0: 3.072049654908948\n",
      "Epoch 25: 0.0077842380215929555\n",
      "Epoch 50: 0.003578355752254874\n",
      "Epoch 75: 0.002385850240324712\n",
      "Epoch 100: 0.0018084289169201424\n",
      "Epoch 125: 0.0014640790930285595\n",
      "Epoch 150: 0.001234027208825301\n",
      "W1 size 421\n",
      "W2 size 18\n",
      "W3 size 10\n",
      "Using well-known algorithms: Logistic Regression, RandomForest and MLP\n"
     ]
    },
    {
     "name": "stderr",
     "output_type": "stream",
     "text": [
      "/usr/local/lib/python3.5/dist-packages/sklearn/metrics/classification.py:1135: UndefinedMetricWarning: F-score is ill-defined and being set to 0.0 in labels with no predicted samples.\n",
      "  'precision', 'predicted', average, warn_for)\n",
      "/usr/local/lib/python3.5/dist-packages/sklearn/neural_network/multilayer_perceptron.py:564: ConvergenceWarning: Stochastic Optimizer: Maximum iterations (200) reached and the optimization hasn't converged yet.\n",
      "  % self.max_iter, ConvergenceWarning)\n"
     ]
    },
    {
     "name": "stdout",
     "output_type": "stream",
     "text": [
      "Took: 160.651296377182\n",
      "--------------------------------------------------\n",
      "En: 200\tTr: 42\n",
      "Using first variation (Regressor and Classifier with score vectors)\n",
      "epoch 0:\t18.850159841510052\n",
      "epoch 10:\t18.732799932114137\n",
      "epoch 20:\t18.603118776449293\n",
      "epoch 30:\t18.43547953793983\n",
      "epoch 40:\t18.29918262328559\n",
      "epoch 50:\t18.179631708527435\n",
      "Using second variation (average of outputs produced by each set of weight matrices)\n",
      "Epoch 0: 5.49617702703084\n",
      "Epoch 25: 0.01740864625890308\n",
      "Epoch 50: 0.006440783780036338\n",
      "Epoch 75: 0.004116968800434835\n",
      "Epoch 100: 0.003062088116814533\n",
      "Epoch 125: 0.002452128210662261\n",
      "Epoch 150: 0.002052190793797299\n",
      "W1 size 219\n",
      "W2 size 18\n",
      "W3 size 10\n",
      "Using well-known algorithms: Logistic Regression, RandomForest and MLP\n"
     ]
    },
    {
     "name": "stderr",
     "output_type": "stream",
     "text": [
      "/usr/local/lib/python3.5/dist-packages/sklearn/metrics/classification.py:1135: UndefinedMetricWarning: F-score is ill-defined and being set to 0.0 in labels with no predicted samples.\n",
      "  'precision', 'predicted', average, warn_for)\n"
     ]
    },
    {
     "name": "stdout",
     "output_type": "stream",
     "text": [
      "Took: 70.06378483772278\n",
      "--------------------------------------------------\n",
      "En: 200\tTr: 85\n",
      "Using first variation (Regressor and Classifier with score vectors)\n",
      "epoch 0:\t20.23466450005729\n",
      "epoch 10:\t20.07539994925902\n",
      "epoch 20:\t19.928764831763196\n",
      "epoch 30:\t19.820015159828973\n",
      "epoch 40:\t19.734181316809735\n",
      "epoch 50:\t19.654843350334186\n",
      "Using second variation (average of outputs produced by each set of weight matrices)\n",
      "Epoch 0: 4.925955135430099\n",
      "Epoch 25: 0.016955202670484587\n",
      "Epoch 50: 0.006918000196374283\n",
      "Epoch 75: 0.004458648221096857\n",
      "Epoch 100: 0.0033221051064142477\n",
      "Epoch 125: 0.0026610951608091182\n",
      "Epoch 150: 0.002226560462600789\n",
      "W1 size 252\n",
      "W2 size 18\n",
      "W3 size 10\n",
      "Using well-known algorithms: Logistic Regression, RandomForest and MLP\n"
     ]
    },
    {
     "name": "stderr",
     "output_type": "stream",
     "text": [
      "/usr/local/lib/python3.5/dist-packages/sklearn/metrics/classification.py:1135: UndefinedMetricWarning: F-score is ill-defined and being set to 0.0 in labels with no predicted samples.\n",
      "  'precision', 'predicted', average, warn_for)\n",
      "/usr/local/lib/python3.5/dist-packages/sklearn/neural_network/multilayer_perceptron.py:564: ConvergenceWarning: Stochastic Optimizer: Maximum iterations (200) reached and the optimization hasn't converged yet.\n",
      "  % self.max_iter, ConvergenceWarning)\n"
     ]
    },
    {
     "name": "stdout",
     "output_type": "stream",
     "text": [
      "Took: 82.58386039733887\n",
      "--------------------------------------------------\n",
      "En: 200\tTr: 128\n",
      "Using first variation (Regressor and Classifier with score vectors)\n",
      "epoch 0:\t20.965253025979695\n",
      "epoch 10:\t20.78114769315372\n",
      "epoch 20:\t20.45266212117182\n",
      "epoch 30:\t20.213369711745237\n",
      "epoch 40:\t20.005465536958532\n",
      "epoch 50:\t19.78405647803015\n",
      "Using second variation (average of outputs produced by each set of weight matrices)\n",
      "Epoch 0: 3.7945872174278277\n",
      "Epoch 25: 0.009065632466155332\n",
      "Epoch 50: 0.004275461433172584\n",
      "Epoch 75: 0.0028376618998745416\n",
      "Epoch 100: 0.0021372180016651495\n",
      "Epoch 125: 0.0017202126965941726\n",
      "Epoch 150: 0.0014425807707993954\n",
      "W1 size 293\n",
      "W2 size 16\n",
      "W3 size 10\n",
      "Using well-known algorithms: Logistic Regression, RandomForest and MLP\n"
     ]
    },
    {
     "name": "stderr",
     "output_type": "stream",
     "text": [
      "/usr/local/lib/python3.5/dist-packages/sklearn/metrics/classification.py:1135: UndefinedMetricWarning: F-score is ill-defined and being set to 0.0 in labels with no predicted samples.\n",
      "  'precision', 'predicted', average, warn_for)\n",
      "/usr/local/lib/python3.5/dist-packages/sklearn/neural_network/multilayer_perceptron.py:564: ConvergenceWarning: Stochastic Optimizer: Maximum iterations (200) reached and the optimization hasn't converged yet.\n",
      "  % self.max_iter, ConvergenceWarning)\n"
     ]
    },
    {
     "name": "stdout",
     "output_type": "stream",
     "text": [
      "Took: 98.82597422599792\n",
      "--------------------------------------------------\n",
      "En: 200\tTr: 170\n",
      "Using first variation (Regressor and Classifier with score vectors)\n",
      "epoch 0:\t23.13776879815656\n",
      "epoch 10:\t22.907679319340325\n",
      "epoch 20:\t22.534828963697883\n",
      "epoch 30:\t22.288570991892684\n",
      "epoch 40:\t22.037676240560536\n",
      "epoch 50:\t21.795560682155536\n",
      "Using second variation (average of outputs produced by each set of weight matrices)\n",
      "Epoch 0: 4.20372783505512\n",
      "Epoch 25: 0.010389447693051881\n",
      "Epoch 50: 0.0043819996844438325\n",
      "Epoch 75: 0.0028629653553885826\n",
      "Epoch 100: 0.002150915826640001\n",
      "Epoch 125: 0.0017335799935445672\n",
      "Epoch 150: 0.0014577498218374318\n",
      "W1 size 315\n",
      "W2 size 18\n",
      "W3 size 10\n",
      "Using well-known algorithms: Logistic Regression, RandomForest and MLP\n"
     ]
    },
    {
     "name": "stderr",
     "output_type": "stream",
     "text": [
      "/usr/local/lib/python3.5/dist-packages/sklearn/metrics/classification.py:1135: UndefinedMetricWarning: F-score is ill-defined and being set to 0.0 in labels with no predicted samples.\n",
      "  'precision', 'predicted', average, warn_for)\n",
      "/usr/local/lib/python3.5/dist-packages/sklearn/neural_network/multilayer_perceptron.py:564: ConvergenceWarning: Stochastic Optimizer: Maximum iterations (200) reached and the optimization hasn't converged yet.\n",
      "  % self.max_iter, ConvergenceWarning)\n"
     ]
    },
    {
     "name": "stdout",
     "output_type": "stream",
     "text": [
      "Took: 110.7064688205719\n",
      "--------------------------------------------------\n",
      "En: 200\tTr: 212\n",
      "Using first variation (Regressor and Classifier with score vectors)\n",
      "epoch 0:\t22.37593665225891\n",
      "epoch 10:\t22.144519875981654\n",
      "epoch 20:\t22.006807156241116\n",
      "epoch 30:\t21.918083699188387\n",
      "epoch 40:\t21.823804410405224\n",
      "epoch 50:\t21.71195464333182\n",
      "Using second variation (average of outputs produced by each set of weight matrices)\n",
      "Epoch 0: 4.652636155246804\n",
      "Epoch 25: 0.010360637980645147\n",
      "Epoch 50: 0.004286526904774663\n",
      "Epoch 75: 0.002772760232351525\n",
      "Epoch 100: 0.0020688527760604745\n",
      "Epoch 125: 0.0016581212250387385\n",
      "Epoch 150: 0.001387546924144738\n",
      "W1 size 352\n",
      "W2 size 18\n",
      "W3 size 10\n",
      "Using well-known algorithms: Logistic Regression, RandomForest and MLP\n"
     ]
    },
    {
     "name": "stderr",
     "output_type": "stream",
     "text": [
      "/usr/local/lib/python3.5/dist-packages/sklearn/metrics/classification.py:1135: UndefinedMetricWarning: F-score is ill-defined and being set to 0.0 in labels with no predicted samples.\n",
      "  'precision', 'predicted', average, warn_for)\n"
     ]
    },
    {
     "name": "stdout",
     "output_type": "stream",
     "text": [
      "Took: 119.707204580307\n",
      "--------------------------------------------------\n",
      "En: 200\tTr: 255\n",
      "Using first variation (Regressor and Classifier with score vectors)\n",
      "epoch 0:\t22.16440593686394\n",
      "epoch 10:\t21.902527171430428\n",
      "epoch 20:\t21.745106504575133\n",
      "epoch 30:\t21.583151941483127\n",
      "epoch 40:\t21.41075218173704\n",
      "epoch 50:\t21.25653797890331\n",
      "Using second variation (average of outputs produced by each set of weight matrices)\n",
      "Epoch 0: 3.881913296078654\n",
      "Epoch 25: 0.009294634724258954\n",
      "Epoch 50: 0.004242288991118475\n",
      "Epoch 75: 0.0028064270193214054\n",
      "Epoch 100: 0.0021163121321231323\n",
      "Epoch 125: 0.0017075430830466977\n",
      "Epoch 150: 0.001435949598140014\n",
      "W1 size 364\n",
      "W2 size 18\n",
      "W3 size 10\n",
      "Using well-known algorithms: Logistic Regression, RandomForest and MLP\n"
     ]
    },
    {
     "name": "stderr",
     "output_type": "stream",
     "text": [
      "/usr/local/lib/python3.5/dist-packages/sklearn/metrics/classification.py:1135: UndefinedMetricWarning: F-score is ill-defined and being set to 0.0 in labels with no predicted samples.\n",
      "  'precision', 'predicted', average, warn_for)\n"
     ]
    },
    {
     "name": "stdout",
     "output_type": "stream",
     "text": [
      "Took: 135.27139401435852\n",
      "--------------------------------------------------\n",
      "En: 200\tTr: 298\n",
      "Using first variation (Regressor and Classifier with score vectors)\n",
      "epoch 0:\t29.215992593000827\n",
      "epoch 10:\t28.85923166811919\n",
      "epoch 20:\t28.633567438423682\n",
      "epoch 30:\t28.312054925597828\n",
      "epoch 40:\t28.014256786515592\n",
      "epoch 50:\t27.75316526485671\n",
      "Using second variation (average of outputs produced by each set of weight matrices)\n",
      "Epoch 0: 2.3311596925343725\n",
      "Epoch 25: 0.005929192488202657\n",
      "Epoch 50: 0.002654046329650746\n",
      "Epoch 75: 0.0017404803266363063\n",
      "Epoch 100: 0.0013047157760970969\n",
      "Epoch 125: 0.0010479862422222738\n",
      "Epoch 150: 0.0008781344074041172\n",
      "W1 size 390\n",
      "W2 size 18\n",
      "W3 size 10\n",
      "Using well-known algorithms: Logistic Regression, RandomForest and MLP\n"
     ]
    },
    {
     "name": "stderr",
     "output_type": "stream",
     "text": [
      "/usr/local/lib/python3.5/dist-packages/sklearn/metrics/classification.py:1135: UndefinedMetricWarning: F-score is ill-defined and being set to 0.0 in labels with no predicted samples.\n",
      "  'precision', 'predicted', average, warn_for)\n",
      "/usr/local/lib/python3.5/dist-packages/sklearn/neural_network/multilayer_perceptron.py:564: ConvergenceWarning: Stochastic Optimizer: Maximum iterations (200) reached and the optimization hasn't converged yet.\n",
      "  % self.max_iter, ConvergenceWarning)\n"
     ]
    },
    {
     "name": "stdout",
     "output_type": "stream",
     "text": [
      "Took: 151.47569131851196\n",
      "--------------------------------------------------\n",
      "En: 200\tTr: 340\n",
      "Using first variation (Regressor and Classifier with score vectors)\n",
      "epoch 0:\t20.691337590891457\n",
      "epoch 10:\t20.493781692700697\n",
      "epoch 20:\t20.385215799337754\n",
      "epoch 30:\t20.229530243701618\n",
      "epoch 40:\t20.08910452962175\n",
      "epoch 50:\t19.97294726883486\n",
      "Using second variation (average of outputs produced by each set of weight matrices)\n",
      "Epoch 0: 2.604401996055562\n",
      "Epoch 25: 0.006920125933740766\n",
      "Epoch 50: 0.0031510338991709986\n",
      "Epoch 75: 0.0020834545658207962\n",
      "Epoch 100: 0.0015687718656068825\n",
      "Epoch 125: 0.001263482456305151\n",
      "Epoch 150: 0.0010605174186332955\n",
      "W1 size 423\n",
      "W2 size 18\n",
      "W3 size 10\n",
      "Using well-known algorithms: Logistic Regression, RandomForest and MLP\n"
     ]
    },
    {
     "name": "stderr",
     "output_type": "stream",
     "text": [
      "/usr/local/lib/python3.5/dist-packages/sklearn/metrics/classification.py:1135: UndefinedMetricWarning: F-score is ill-defined and being set to 0.0 in labels with no predicted samples.\n",
      "  'precision', 'predicted', average, warn_for)\n",
      "/usr/local/lib/python3.5/dist-packages/sklearn/neural_network/multilayer_perceptron.py:564: ConvergenceWarning: Stochastic Optimizer: Maximum iterations (200) reached and the optimization hasn't converged yet.\n",
      "  % self.max_iter, ConvergenceWarning)\n"
     ]
    },
    {
     "name": "stdout",
     "output_type": "stream",
     "text": [
      "Took: 163.50263953208923\n",
      "--------------------------------------------------\n",
      "En: 200\tTr: 382\n",
      "Using first variation (Regressor and Classifier with score vectors)\n",
      "epoch 0:\t20.930532793787332\n",
      "epoch 10:\t20.697140243195904\n",
      "epoch 20:\t20.565888345968585\n",
      "epoch 30:\t20.46999065262397\n",
      "epoch 40:\t20.390274067907345\n",
      "epoch 50:\t20.31986669958528\n",
      "Using second variation (average of outputs produced by each set of weight matrices)\n",
      "Epoch 0: 2.33686215915479\n",
      "Epoch 25: 0.007420687309089756\n",
      "Epoch 50: 0.002959571916911998\n",
      "Epoch 75: 0.00192579401780026\n",
      "Epoch 100: 0.0014454815035020042\n",
      "Epoch 125: 0.0011645304277869382\n",
      "Epoch 150: 0.0009789702909934086\n",
      "W1 size 436\n",
      "W2 size 18\n",
      "W3 size 10\n",
      "Using well-known algorithms: Logistic Regression, RandomForest and MLP\n"
     ]
    },
    {
     "name": "stderr",
     "output_type": "stream",
     "text": [
      "/usr/local/lib/python3.5/dist-packages/sklearn/metrics/classification.py:1135: UndefinedMetricWarning: F-score is ill-defined and being set to 0.0 in labels with no predicted samples.\n",
      "  'precision', 'predicted', average, warn_for)\n",
      "/usr/local/lib/python3.5/dist-packages/sklearn/neural_network/multilayer_perceptron.py:564: ConvergenceWarning: Stochastic Optimizer: Maximum iterations (200) reached and the optimization hasn't converged yet.\n",
      "  % self.max_iter, ConvergenceWarning)\n"
     ]
    },
    {
     "name": "stdout",
     "output_type": "stream",
     "text": [
      "Took: 175.08050346374512\n",
      "--------------------------------------------------\n",
      "En: 200\tTr: 425\n",
      "Using first variation (Regressor and Classifier with score vectors)\n",
      "epoch 0:\t24.099674495856995\n",
      "epoch 10:\t23.589831243249353\n",
      "epoch 20:\t23.231873207224204\n",
      "epoch 30:\t22.917399319834765\n",
      "epoch 40:\t22.624228858822246\n",
      "epoch 50:\t22.32740670005202\n",
      "Using second variation (average of outputs produced by each set of weight matrices)\n",
      "Epoch 0: 1.8615913060009992\n",
      "Epoch 25: 0.006817727735225299\n",
      "Epoch 50: 0.0028380744155054346\n",
      "Epoch 75: 0.0018401652736510642\n",
      "Epoch 100: 0.001377199510638502\n",
      "Epoch 125: 0.0011076146491220242\n",
      "Epoch 150: 0.0009302501319496287\n",
      "W1 size 464\n",
      "W2 size 18\n",
      "W3 size 10\n",
      "Using well-known algorithms: Logistic Regression, RandomForest and MLP\n"
     ]
    },
    {
     "name": "stderr",
     "output_type": "stream",
     "text": [
      "/usr/local/lib/python3.5/dist-packages/sklearn/metrics/classification.py:1135: UndefinedMetricWarning: F-score is ill-defined and being set to 0.0 in labels with no predicted samples.\n",
      "  'precision', 'predicted', average, warn_for)\n",
      "/usr/local/lib/python3.5/dist-packages/sklearn/neural_network/multilayer_perceptron.py:564: ConvergenceWarning: Stochastic Optimizer: Maximum iterations (200) reached and the optimization hasn't converged yet.\n",
      "  % self.max_iter, ConvergenceWarning)\n"
     ]
    },
    {
     "name": "stdout",
     "output_type": "stream",
     "text": [
      "Took: 187.86652660369873\n",
      "--------------------------------------------------\n",
      "En: 250\tTr: 42\n",
      "Using first variation (Regressor and Classifier with score vectors)\n",
      "epoch 0:\t24.896634859646223\n",
      "epoch 10:\t24.697943803498152\n",
      "epoch 20:\t24.47413305883041\n",
      "epoch 30:\t24.22388240706295\n",
      "epoch 40:\t24.008013533894918\n",
      "epoch 50:\t23.808846005196642\n",
      "Using second variation (average of outputs produced by each set of weight matrices)\n",
      "Epoch 0: 4.532806222261221\n",
      "Epoch 25: 0.011718164105350795\n",
      "Epoch 50: 0.005163075205952319\n",
      "Epoch 75: 0.0033850313171057355\n",
      "Epoch 100: 0.0025406973984904778\n",
      "Epoch 125: 0.0020439550298910775\n",
      "Epoch 150: 0.0017154741305892517\n",
      "W1 size 253\n",
      "W2 size 15\n",
      "W3 size 10\n",
      "Using well-known algorithms: Logistic Regression, RandomForest and MLP\n"
     ]
    },
    {
     "name": "stderr",
     "output_type": "stream",
     "text": [
      "/usr/local/lib/python3.5/dist-packages/sklearn/metrics/classification.py:1135: UndefinedMetricWarning: F-score is ill-defined and being set to 0.0 in labels with no predicted samples.\n",
      "  'precision', 'predicted', average, warn_for)\n",
      "/usr/local/lib/python3.5/dist-packages/sklearn/neural_network/multilayer_perceptron.py:564: ConvergenceWarning: Stochastic Optimizer: Maximum iterations (200) reached and the optimization hasn't converged yet.\n",
      "  % self.max_iter, ConvergenceWarning)\n"
     ]
    },
    {
     "name": "stdout",
     "output_type": "stream",
     "text": [
      "Took: 89.87330603599548\n",
      "--------------------------------------------------\n",
      "En: 250\tTr: 85\n",
      "Using first variation (Regressor and Classifier with score vectors)\n",
      "epoch 0:\t24.611297611585286\n",
      "epoch 10:\t24.269390147518216\n",
      "epoch 20:\t23.994555062789935\n",
      "epoch 30:\t23.6742889833337\n",
      "epoch 40:\t23.348925153019177\n",
      "epoch 50:\t23.053489731812668\n",
      "Using second variation (average of outputs produced by each set of weight matrices)\n",
      "Epoch 0: 5.4756082496185545\n",
      "Epoch 25: 0.01676214780586362\n",
      "Epoch 50: 0.0064031734763585835\n",
      "Epoch 75: 0.0041371953830036156\n",
      "Epoch 100: 0.003107971168490065\n",
      "Epoch 125: 0.0025113391181531683\n",
      "Epoch 150: 0.0021187370404961133\n",
      "W1 size 296\n",
      "W2 size 18\n",
      "W3 size 10\n",
      "Using well-known algorithms: Logistic Regression, RandomForest and MLP\n"
     ]
    },
    {
     "name": "stderr",
     "output_type": "stream",
     "text": [
      "/usr/local/lib/python3.5/dist-packages/sklearn/metrics/classification.py:1135: UndefinedMetricWarning: F-score is ill-defined and being set to 0.0 in labels with no predicted samples.\n",
      "  'precision', 'predicted', average, warn_for)\n",
      "/usr/local/lib/python3.5/dist-packages/sklearn/neural_network/multilayer_perceptron.py:564: ConvergenceWarning: Stochastic Optimizer: Maximum iterations (200) reached and the optimization hasn't converged yet.\n",
      "  % self.max_iter, ConvergenceWarning)\n"
     ]
    },
    {
     "name": "stdout",
     "output_type": "stream",
     "text": [
      "Took: 105.29214525222778\n",
      "--------------------------------------------------\n",
      "En: 250\tTr: 128\n",
      "Using first variation (Regressor and Classifier with score vectors)\n",
      "epoch 0:\t20.044591283410167\n",
      "epoch 10:\t19.93542239443463\n",
      "epoch 20:\t19.820783883491846\n",
      "epoch 30:\t19.730909071351668\n",
      "epoch 40:\t19.62067708488992\n",
      "epoch 50:\t19.496529274478352\n",
      "Using second variation (average of outputs produced by each set of weight matrices)\n",
      "Epoch 0: 2.9783559439175797\n",
      "Epoch 25: 0.009279517280231386\n",
      "Epoch 50: 0.0039285194031711615\n",
      "Epoch 75: 0.0025672245007140894\n",
      "Epoch 100: 0.001926773346930024\n",
      "Epoch 125: 0.0015509497273817625\n",
      "Epoch 150: 0.0013025704832956074\n",
      "W1 size 331\n",
      "W2 size 18\n",
      "W3 size 10\n",
      "Using well-known algorithms: Logistic Regression, RandomForest and MLP\n"
     ]
    },
    {
     "name": "stderr",
     "output_type": "stream",
     "text": [
      "/usr/local/lib/python3.5/dist-packages/sklearn/metrics/classification.py:1135: UndefinedMetricWarning: F-score is ill-defined and being set to 0.0 in labels with no predicted samples.\n",
      "  'precision', 'predicted', average, warn_for)\n",
      "/usr/local/lib/python3.5/dist-packages/sklearn/neural_network/multilayer_perceptron.py:564: ConvergenceWarning: Stochastic Optimizer: Maximum iterations (200) reached and the optimization hasn't converged yet.\n",
      "  % self.max_iter, ConvergenceWarning)\n"
     ]
    },
    {
     "name": "stdout",
     "output_type": "stream",
     "text": [
      "Took: 119.42299580574036\n",
      "--------------------------------------------------\n",
      "En: 250\tTr: 170\n",
      "Using first variation (Regressor and Classifier with score vectors)\n",
      "epoch 0:\t22.066203722455878\n",
      "epoch 10:\t21.94834976339382\n",
      "epoch 20:\t21.823217551436052\n",
      "epoch 30:\t21.717726558303113\n",
      "epoch 40:\t21.610751605684996\n",
      "epoch 50:\t21.501211272959363\n",
      "Using second variation (average of outputs produced by each set of weight matrices)\n",
      "Epoch 0: 3.094094725945901\n",
      "Epoch 25: 0.006332072775511864\n",
      "Epoch 50: 0.003055963005450818\n",
      "Epoch 75: 0.0020685624071530486\n",
      "Epoch 100: 0.0015821460242565403\n",
      "Epoch 125: 0.0012896289585855906\n",
      "Epoch 150: 0.0010931596671670243\n",
      "W1 size 360\n",
      "W2 size 17\n",
      "W3 size 10\n",
      "Using well-known algorithms: Logistic Regression, RandomForest and MLP\n"
     ]
    },
    {
     "name": "stderr",
     "output_type": "stream",
     "text": [
      "/usr/local/lib/python3.5/dist-packages/sklearn/metrics/classification.py:1135: UndefinedMetricWarning: F-score is ill-defined and being set to 0.0 in labels with no predicted samples.\n",
      "  'precision', 'predicted', average, warn_for)\n"
     ]
    },
    {
     "name": "stdout",
     "output_type": "stream",
     "text": [
      "Took: 131.47785711288452\n",
      "--------------------------------------------------\n",
      "En: 250\tTr: 212\n",
      "Using first variation (Regressor and Classifier with score vectors)\n",
      "epoch 0:\t20.446165487403768\n",
      "epoch 10:\t20.27653601570737\n",
      "epoch 20:\t20.135512588269485\n",
      "epoch 30:\t19.985843886192335\n",
      "epoch 40:\t19.848009962395004\n",
      "epoch 50:\t19.758533368948484\n",
      "Using second variation (average of outputs produced by each set of weight matrices)\n",
      "Epoch 0: 3.0764054891533386\n",
      "Epoch 25: 0.008977357281774758\n",
      "Epoch 50: 0.003763535573999451\n",
      "Epoch 75: 0.002485064172798655\n",
      "Epoch 100: 0.0018821033539608797\n",
      "Epoch 125: 0.0015263043189523138\n",
      "Epoch 150: 0.0012898025346455193\n",
      "W1 size 380\n",
      "W2 size 18\n",
      "W3 size 10\n",
      "Using well-known algorithms: Logistic Regression, RandomForest and MLP\n"
     ]
    },
    {
     "name": "stderr",
     "output_type": "stream",
     "text": [
      "/usr/local/lib/python3.5/dist-packages/sklearn/metrics/classification.py:1135: UndefinedMetricWarning: F-score is ill-defined and being set to 0.0 in labels with no predicted samples.\n",
      "  'precision', 'predicted', average, warn_for)\n",
      "/usr/local/lib/python3.5/dist-packages/sklearn/neural_network/multilayer_perceptron.py:564: ConvergenceWarning: Stochastic Optimizer: Maximum iterations (200) reached and the optimization hasn't converged yet.\n",
      "  % self.max_iter, ConvergenceWarning)\n"
     ]
    },
    {
     "name": "stdout",
     "output_type": "stream",
     "text": [
      "Took: 142.9429099559784\n",
      "--------------------------------------------------\n",
      "En: 250\tTr: 255\n",
      "Using first variation (Regressor and Classifier with score vectors)\n",
      "epoch 0:\t23.926246260942655\n",
      "epoch 10:\t23.53880305378977\n",
      "epoch 20:\t23.318215264630332\n",
      "epoch 30:\t23.067973966412563\n",
      "epoch 40:\t22.806543419773256\n",
      "epoch 50:\t22.572340121751903\n",
      "Using second variation (average of outputs produced by each set of weight matrices)\n",
      "Epoch 0: 2.4457311115512015\n",
      "Epoch 25: 0.009450877544945302\n",
      "Epoch 50: 0.00410327134988737\n",
      "Epoch 75: 0.0026690692850180123\n",
      "Epoch 100: 0.0019933238025603237\n",
      "Epoch 125: 0.001597400684051135\n",
      "Epoch 150: 0.001336244491758497\n",
      "W1 size 400\n",
      "W2 size 18\n",
      "W3 size 10\n",
      "Using well-known algorithms: Logistic Regression, RandomForest and MLP\n"
     ]
    },
    {
     "name": "stderr",
     "output_type": "stream",
     "text": [
      "/usr/local/lib/python3.5/dist-packages/sklearn/metrics/classification.py:1135: UndefinedMetricWarning: F-score is ill-defined and being set to 0.0 in labels with no predicted samples.\n",
      "  'precision', 'predicted', average, warn_for)\n",
      "/usr/local/lib/python3.5/dist-packages/sklearn/neural_network/multilayer_perceptron.py:564: ConvergenceWarning: Stochastic Optimizer: Maximum iterations (200) reached and the optimization hasn't converged yet.\n",
      "  % self.max_iter, ConvergenceWarning)\n"
     ]
    },
    {
     "name": "stdout",
     "output_type": "stream",
     "text": [
      "Took: 153.19122791290283\n",
      "--------------------------------------------------\n",
      "En: 250\tTr: 298\n",
      "Using first variation (Regressor and Classifier with score vectors)\n",
      "epoch 0:\t20.54870817355253\n",
      "epoch 10:\t20.365633067078427\n",
      "epoch 20:\t20.213907114552303\n",
      "epoch 30:\t20.08823128186712\n",
      "epoch 40:\t19.98333077936608\n",
      "epoch 50:\t19.89132842461257\n",
      "Using second variation (average of outputs produced by each set of weight matrices)\n",
      "Epoch 0: 2.9764232618426036\n",
      "Epoch 25: 0.006603092250013494\n",
      "Epoch 50: 0.003175272219137766\n",
      "Epoch 75: 0.0021249557566058648\n",
      "Epoch 100: 0.0016084181959327563\n",
      "Epoch 125: 0.0012992951436569537\n",
      "Epoch 150: 0.0010927996144207048\n",
      "W1 size 439\n",
      "W2 size 18\n",
      "W3 size 10\n",
      "Using well-known algorithms: Logistic Regression, RandomForest and MLP\n"
     ]
    },
    {
     "name": "stderr",
     "output_type": "stream",
     "text": [
      "/usr/local/lib/python3.5/dist-packages/sklearn/metrics/classification.py:1135: UndefinedMetricWarning: F-score is ill-defined and being set to 0.0 in labels with no predicted samples.\n",
      "  'precision', 'predicted', average, warn_for)\n",
      "/usr/local/lib/python3.5/dist-packages/sklearn/neural_network/multilayer_perceptron.py:564: ConvergenceWarning: Stochastic Optimizer: Maximum iterations (200) reached and the optimization hasn't converged yet.\n",
      "  % self.max_iter, ConvergenceWarning)\n"
     ]
    },
    {
     "name": "stdout",
     "output_type": "stream",
     "text": [
      "Took: 168.78157830238342\n",
      "--------------------------------------------------\n",
      "En: 250\tTr: 340\n",
      "Using first variation (Regressor and Classifier with score vectors)\n",
      "epoch 0:\t21.215906302336336\n",
      "epoch 10:\t21.039189843597175\n",
      "epoch 20:\t20.902514114163868\n",
      "epoch 30:\t20.769349777998013\n",
      "epoch 40:\t20.660264766330574\n",
      "epoch 50:\t20.555276973645157\n",
      "Using second variation (average of outputs produced by each set of weight matrices)\n",
      "Epoch 0: 2.30437585917679\n",
      "Epoch 25: 0.008363040382871667\n",
      "Epoch 50: 0.0028149425751859466\n",
      "Epoch 75: 0.0017520459993200298\n",
      "Epoch 100: 0.0012901802378799594\n",
      "Epoch 125: 0.0010293712475600827\n",
      "Epoch 150: 0.0008608208350224318\n",
      "W1 size 452\n",
      "W2 size 18\n",
      "W3 size 10\n",
      "Using well-known algorithms: Logistic Regression, RandomForest and MLP\n"
     ]
    },
    {
     "name": "stderr",
     "output_type": "stream",
     "text": [
      "/usr/local/lib/python3.5/dist-packages/sklearn/metrics/classification.py:1135: UndefinedMetricWarning: F-score is ill-defined and being set to 0.0 in labels with no predicted samples.\n",
      "  'precision', 'predicted', average, warn_for)\n",
      "/usr/local/lib/python3.5/dist-packages/sklearn/neural_network/multilayer_perceptron.py:564: ConvergenceWarning: Stochastic Optimizer: Maximum iterations (200) reached and the optimization hasn't converged yet.\n",
      "  % self.max_iter, ConvergenceWarning)\n"
     ]
    },
    {
     "name": "stdout",
     "output_type": "stream",
     "text": [
      "Took: 172.91916513442993\n",
      "--------------------------------------------------\n",
      "En: 250\tTr: 382\n",
      "Using first variation (Regressor and Classifier with score vectors)\n",
      "epoch 0:\t21.00499285006329\n",
      "epoch 10:\t20.936657290882952\n",
      "epoch 20:\t20.83045274607042\n",
      "epoch 30:\t20.745071611294712\n",
      "epoch 40:\t20.67685452866975\n",
      "epoch 50:\t20.612608364052054\n",
      "Using second variation (average of outputs produced by each set of weight matrices)\n",
      "Epoch 0: 3.548898443049421\n",
      "Epoch 25: 0.008130727637634824\n",
      "Epoch 50: 0.003627202671276492\n",
      "Epoch 75: 0.0023915231658795362\n",
      "Epoch 100: 0.0018000161647184737\n",
      "Epoch 125: 0.0014503442218168384\n",
      "Epoch 150: 0.0012184285833503118\n",
      "W1 size 485\n",
      "W2 size 18\n",
      "W3 size 10\n",
      "Using well-known algorithms: Logistic Regression, RandomForest and MLP\n"
     ]
    },
    {
     "name": "stderr",
     "output_type": "stream",
     "text": [
      "/usr/local/lib/python3.5/dist-packages/sklearn/metrics/classification.py:1135: UndefinedMetricWarning: F-score is ill-defined and being set to 0.0 in labels with no predicted samples.\n",
      "  'precision', 'predicted', average, warn_for)\n",
      "/usr/local/lib/python3.5/dist-packages/sklearn/neural_network/multilayer_perceptron.py:564: ConvergenceWarning: Stochastic Optimizer: Maximum iterations (200) reached and the optimization hasn't converged yet.\n",
      "  % self.max_iter, ConvergenceWarning)\n"
     ]
    },
    {
     "name": "stdout",
     "output_type": "stream",
     "text": [
      "Took: 179.01163172721863\n",
      "--------------------------------------------------\n",
      "En: 250\tTr: 425\n",
      "Using first variation (Regressor and Classifier with score vectors)\n",
      "epoch 0:\t21.501628287601953\n",
      "epoch 10:\t21.36478599635182\n",
      "epoch 20:\t21.226878677563498\n",
      "epoch 30:\t21.12406991336747\n",
      "epoch 40:\t21.004961788054914\n",
      "epoch 50:\t20.867514933690018\n",
      "Using second variation (average of outputs produced by each set of weight matrices)\n",
      "Epoch 0: 2.2301228015414214\n",
      "Epoch 25: 0.00602134672713865\n",
      "Epoch 50: 0.0029424181497415282\n",
      "Epoch 75: 0.001976920580230512\n",
      "Epoch 100: 0.0014982035168475882\n",
      "Epoch 125: 0.0012105542088834522\n",
      "Epoch 150: 0.0010180132905657677\n",
      "W1 size 496\n",
      "W2 size 18\n",
      "W3 size 10\n",
      "Using well-known algorithms: Logistic Regression, RandomForest and MLP\n"
     ]
    },
    {
     "name": "stderr",
     "output_type": "stream",
     "text": [
      "/usr/local/lib/python3.5/dist-packages/sklearn/metrics/classification.py:1135: UndefinedMetricWarning: F-score is ill-defined and being set to 0.0 in labels with no predicted samples.\n",
      "  'precision', 'predicted', average, warn_for)\n",
      "/usr/local/lib/python3.5/dist-packages/sklearn/neural_network/multilayer_perceptron.py:564: ConvergenceWarning: Stochastic Optimizer: Maximum iterations (200) reached and the optimization hasn't converged yet.\n",
      "  % self.max_iter, ConvergenceWarning)\n"
     ]
    },
    {
     "name": "stdout",
     "output_type": "stream",
     "text": [
      "Took: 195.13845944404602\n",
      "--------------------------------------------------\n",
      "En: 300\tTr: 42\n",
      "Using first variation (Regressor and Classifier with score vectors)\n",
      "epoch 0:\t20.52717971699951\n",
      "epoch 10:\t20.352660404156545\n",
      "epoch 20:\t20.100645831179357\n",
      "epoch 30:\t19.972750218014795\n",
      "epoch 40:\t19.89613302212404\n",
      "epoch 50:\t19.817194874064466\n",
      "Using second variation (average of outputs produced by each set of weight matrices)\n",
      "Epoch 0: 4.959764119330164\n",
      "Epoch 25: 0.013770188524046467\n",
      "Epoch 50: 0.006203351270138143\n",
      "Epoch 75: 0.0040978056703011795\n",
      "Epoch 100: 0.00309174170367883\n",
      "Epoch 125: 0.0024971044627148473\n",
      "Epoch 150: 0.0021022598785583537\n",
      "W1 size 298\n",
      "W2 size 16\n",
      "W3 size 10\n",
      "Using well-known algorithms: Logistic Regression, RandomForest and MLP\n"
     ]
    },
    {
     "name": "stderr",
     "output_type": "stream",
     "text": [
      "/usr/local/lib/python3.5/dist-packages/sklearn/metrics/classification.py:1135: UndefinedMetricWarning: F-score is ill-defined and being set to 0.0 in labels with no predicted samples.\n",
      "  'precision', 'predicted', average, warn_for)\n",
      "/usr/local/lib/python3.5/dist-packages/sklearn/neural_network/multilayer_perceptron.py:564: ConvergenceWarning: Stochastic Optimizer: Maximum iterations (200) reached and the optimization hasn't converged yet.\n",
      "  % self.max_iter, ConvergenceWarning)\n"
     ]
    },
    {
     "name": "stdout",
     "output_type": "stream",
     "text": [
      "Took: 99.3753125667572\n",
      "--------------------------------------------------\n",
      "En: 300\tTr: 85\n",
      "Using first variation (Regressor and Classifier with score vectors)\n",
      "epoch 0:\t19.546851113449552\n",
      "epoch 10:\t19.429103857591894\n",
      "epoch 20:\t19.313272566591895\n",
      "epoch 30:\t19.21439018835827\n",
      "epoch 40:\t19.12920096187445\n",
      "epoch 50:\t19.05532235386665\n",
      "Using second variation (average of outputs produced by each set of weight matrices)\n",
      "Epoch 0: 3.1260877843030297\n",
      "Epoch 25: 0.006359438803058045\n",
      "Epoch 50: 0.003137117647783235\n",
      "Epoch 75: 0.0021249789120204626\n",
      "Epoch 100: 0.0016218863435072946\n",
      "Epoch 125: 0.0013186177168860284\n",
      "Epoch 150: 0.001114865200165607\n",
      "W1 size 326\n",
      "W2 size 16\n",
      "W3 size 10\n",
      "Using well-known algorithms: Logistic Regression, RandomForest and MLP\n"
     ]
    },
    {
     "name": "stderr",
     "output_type": "stream",
     "text": [
      "/usr/local/lib/python3.5/dist-packages/sklearn/metrics/classification.py:1135: UndefinedMetricWarning: F-score is ill-defined and being set to 0.0 in labels with no predicted samples.\n",
      "  'precision', 'predicted', average, warn_for)\n",
      "/usr/local/lib/python3.5/dist-packages/sklearn/neural_network/multilayer_perceptron.py:564: ConvergenceWarning: Stochastic Optimizer: Maximum iterations (200) reached and the optimization hasn't converged yet.\n",
      "  % self.max_iter, ConvergenceWarning)\n"
     ]
    },
    {
     "name": "stdout",
     "output_type": "stream",
     "text": [
      "Took: 113.37610268592834\n",
      "--------------------------------------------------\n",
      "En: 300\tTr: 128\n",
      "Using first variation (Regressor and Classifier with score vectors)\n",
      "epoch 0:\t24.23519269493623\n",
      "epoch 10:\t23.505782637522586\n",
      "epoch 20:\t23.213389934668026\n",
      "epoch 30:\t22.93782935451947\n",
      "epoch 40:\t22.715386929005042\n",
      "epoch 50:\t22.491447128128804\n",
      "Using second variation (average of outputs produced by each set of weight matrices)\n",
      "Epoch 0: 3.467198554858263\n",
      "Epoch 25: 0.008971365197517732\n",
      "Epoch 50: 0.00377526704320932\n",
      "Epoch 75: 0.002470011409364692\n",
      "Epoch 100: 0.0018558815697908558\n",
      "Epoch 125: 0.0014950829274684532\n",
      "Epoch 150: 0.0012563461849031993\n",
      "W1 size 351\n",
      "W2 size 17\n",
      "W3 size 10\n",
      "Using well-known algorithms: Logistic Regression, RandomForest and MLP\n"
     ]
    },
    {
     "name": "stderr",
     "output_type": "stream",
     "text": [
      "/usr/local/lib/python3.5/dist-packages/sklearn/metrics/classification.py:1135: UndefinedMetricWarning: F-score is ill-defined and being set to 0.0 in labels with no predicted samples.\n",
      "  'precision', 'predicted', average, warn_for)\n",
      "/usr/local/lib/python3.5/dist-packages/sklearn/neural_network/multilayer_perceptron.py:564: ConvergenceWarning: Stochastic Optimizer: Maximum iterations (200) reached and the optimization hasn't converged yet.\n",
      "  % self.max_iter, ConvergenceWarning)\n"
     ]
    },
    {
     "name": "stdout",
     "output_type": "stream",
     "text": [
      "Took: 124.54277801513672\n",
      "--------------------------------------------------\n",
      "En: 300\tTr: 170\n",
      "Using first variation (Regressor and Classifier with score vectors)\n",
      "epoch 0:\t19.623894370515778\n",
      "epoch 10:\t19.61687608026802\n",
      "epoch 20:\t19.548639977840764\n",
      "epoch 30:\t19.467126000733376\n",
      "epoch 40:\t19.383107578965614\n",
      "epoch 50:\t19.28683399062507\n",
      "Using second variation (average of outputs produced by each set of weight matrices)\n",
      "Epoch 0: 6.32715777061871\n",
      "Epoch 25: 0.00921580723260125\n",
      "Epoch 50: 0.0040280713596825505\n",
      "Epoch 75: 0.0026317413144075798\n",
      "Epoch 100: 0.0019715650154151195\n",
      "Epoch 125: 0.00158404738819501\n",
      "Epoch 150: 0.001328075782648521\n",
      "W1 size 389\n",
      "W2 size 18\n",
      "W3 size 10\n",
      "Using well-known algorithms: Logistic Regression, RandomForest and MLP\n"
     ]
    },
    {
     "name": "stderr",
     "output_type": "stream",
     "text": [
      "/usr/local/lib/python3.5/dist-packages/sklearn/metrics/classification.py:1135: UndefinedMetricWarning: F-score is ill-defined and being set to 0.0 in labels with no predicted samples.\n",
      "  'precision', 'predicted', average, warn_for)\n",
      "/usr/local/lib/python3.5/dist-packages/sklearn/neural_network/multilayer_perceptron.py:564: ConvergenceWarning: Stochastic Optimizer: Maximum iterations (200) reached and the optimization hasn't converged yet.\n",
      "  % self.max_iter, ConvergenceWarning)\n"
     ]
    },
    {
     "name": "stdout",
     "output_type": "stream",
     "text": [
      "Took: 142.76607871055603\n",
      "--------------------------------------------------\n",
      "En: 300\tTr: 212\n",
      "Using first variation (Regressor and Classifier with score vectors)\n",
      "epoch 0:\t22.352081822748648\n",
      "epoch 10:\t22.072016601221566\n",
      "epoch 20:\t21.841587119550233\n",
      "epoch 30:\t21.625398426136165\n",
      "epoch 40:\t21.42325759646913\n",
      "epoch 50:\t21.211282995371082\n",
      "Using second variation (average of outputs produced by each set of weight matrices)\n",
      "Epoch 0: 3.6573405173447986\n",
      "Epoch 25: 0.0053454920731002\n",
      "Epoch 50: 0.0026413938286902194\n",
      "Epoch 75: 0.0017994031959689405\n",
      "Epoch 100: 0.0013796171803340807\n",
      "Epoch 125: 0.0011256057448622014\n",
      "Epoch 150: 0.0009543697995276768\n",
      "W1 size 414\n",
      "W2 size 18\n",
      "W3 size 10\n",
      "Using well-known algorithms: Logistic Regression, RandomForest and MLP\n"
     ]
    },
    {
     "name": "stderr",
     "output_type": "stream",
     "text": [
      "/usr/local/lib/python3.5/dist-packages/sklearn/metrics/classification.py:1135: UndefinedMetricWarning: F-score is ill-defined and being set to 0.0 in labels with no predicted samples.\n",
      "  'precision', 'predicted', average, warn_for)\n",
      "/usr/local/lib/python3.5/dist-packages/sklearn/neural_network/multilayer_perceptron.py:564: ConvergenceWarning: Stochastic Optimizer: Maximum iterations (200) reached and the optimization hasn't converged yet.\n",
      "  % self.max_iter, ConvergenceWarning)\n"
     ]
    },
    {
     "name": "stdout",
     "output_type": "stream",
     "text": [
      "Took: 147.83243608474731\n",
      "--------------------------------------------------\n",
      "En: 300\tTr: 255\n",
      "Using first variation (Regressor and Classifier with score vectors)\n",
      "epoch 0:\t22.876615989284385\n",
      "epoch 10:\t22.602557702307525\n",
      "epoch 20:\t22.303880196650667\n",
      "epoch 30:\t22.121538144382544\n",
      "epoch 40:\t21.95561609183587\n",
      "epoch 50:\t21.71002949175995\n",
      "Using second variation (average of outputs produced by each set of weight matrices)\n",
      "Epoch 0: 2.4189293341513647\n",
      "Epoch 25: 0.006157150989559613\n",
      "Epoch 50: 0.002875151886682006\n",
      "Epoch 75: 0.0019181514264297172\n",
      "Epoch 100: 0.001453592449609911\n",
      "Epoch 125: 0.0011770070824775353\n",
      "Epoch 150: 0.0009926357825993865\n",
      "W1 size 451\n",
      "W2 size 18\n",
      "W3 size 10\n",
      "Using well-known algorithms: Logistic Regression, RandomForest and MLP\n"
     ]
    },
    {
     "name": "stderr",
     "output_type": "stream",
     "text": [
      "/usr/local/lib/python3.5/dist-packages/sklearn/metrics/classification.py:1135: UndefinedMetricWarning: F-score is ill-defined and being set to 0.0 in labels with no predicted samples.\n",
      "  'precision', 'predicted', average, warn_for)\n",
      "/usr/local/lib/python3.5/dist-packages/sklearn/neural_network/multilayer_perceptron.py:564: ConvergenceWarning: Stochastic Optimizer: Maximum iterations (200) reached and the optimization hasn't converged yet.\n",
      "  % self.max_iter, ConvergenceWarning)\n"
     ]
    },
    {
     "name": "stdout",
     "output_type": "stream",
     "text": [
      "Took: 162.39283800125122\n",
      "--------------------------------------------------\n",
      "En: 300\tTr: 298\n",
      "Using first variation (Regressor and Classifier with score vectors)\n",
      "epoch 0:\t22.331614106697536\n",
      "epoch 10:\t22.150553674921465\n",
      "epoch 20:\t21.98177527379163\n",
      "epoch 30:\t21.787949309087445\n",
      "epoch 40:\t21.613191199647297\n",
      "epoch 50:\t21.46267307384132\n",
      "Using second variation (average of outputs produced by each set of weight matrices)\n",
      "Epoch 0: 4.423726037254761\n",
      "Epoch 25: 0.013890913179296645\n",
      "Epoch 50: 0.00515387360669638\n",
      "Epoch 75: 0.0032181364349989994\n",
      "Epoch 100: 0.0023599732376036334\n",
      "Epoch 125: 0.0018736080270347402\n",
      "Epoch 150: 0.0015595538336304095\n",
      "W1 size 475\n",
      "W2 size 18\n",
      "W3 size 10\n",
      "Using well-known algorithms: Logistic Regression, RandomForest and MLP\n"
     ]
    },
    {
     "name": "stderr",
     "output_type": "stream",
     "text": [
      "/usr/local/lib/python3.5/dist-packages/sklearn/metrics/classification.py:1135: UndefinedMetricWarning: F-score is ill-defined and being set to 0.0 in labels with no predicted samples.\n",
      "  'precision', 'predicted', average, warn_for)\n",
      "/usr/local/lib/python3.5/dist-packages/sklearn/neural_network/multilayer_perceptron.py:564: ConvergenceWarning: Stochastic Optimizer: Maximum iterations (200) reached and the optimization hasn't converged yet.\n",
      "  % self.max_iter, ConvergenceWarning)\n"
     ]
    },
    {
     "name": "stdout",
     "output_type": "stream",
     "text": [
      "Took: 180.04307508468628\n",
      "--------------------------------------------------\n",
      "En: 300\tTr: 340\n",
      "Using first variation (Regressor and Classifier with score vectors)\n",
      "epoch 0:\t25.876189154805076\n",
      "epoch 10:\t25.40422243436135\n",
      "epoch 20:\t25.105924856127416\n",
      "epoch 30:\t24.78249630623752\n",
      "epoch 40:\t24.43106640986732\n",
      "epoch 50:\t24.128344126868615\n",
      "Using second variation (average of outputs produced by each set of weight matrices)\n",
      "Epoch 0: 4.143735321799989\n",
      "Epoch 25: 0.013262275409239521\n",
      "Epoch 50: 0.004675429537894615\n",
      "Epoch 75: 0.0029636448896518176\n",
      "Epoch 100: 0.0021938165042918456\n",
      "Epoch 125: 0.0017513582498679624\n",
      "Epoch 150: 0.0014625960782339575\n",
      "W1 size 494\n",
      "W2 size 18\n",
      "W3 size 10\n",
      "Using well-known algorithms: Logistic Regression, RandomForest and MLP\n"
     ]
    },
    {
     "name": "stderr",
     "output_type": "stream",
     "text": [
      "/usr/local/lib/python3.5/dist-packages/sklearn/metrics/classification.py:1135: UndefinedMetricWarning: F-score is ill-defined and being set to 0.0 in labels with no predicted samples.\n",
      "  'precision', 'predicted', average, warn_for)\n",
      "/usr/local/lib/python3.5/dist-packages/sklearn/neural_network/multilayer_perceptron.py:564: ConvergenceWarning: Stochastic Optimizer: Maximum iterations (200) reached and the optimization hasn't converged yet.\n",
      "  % self.max_iter, ConvergenceWarning)\n"
     ]
    },
    {
     "name": "stdout",
     "output_type": "stream",
     "text": [
      "Took: 180.7146599292755\n",
      "--------------------------------------------------\n",
      "En: 300\tTr: 382\n",
      "Using first variation (Regressor and Classifier with score vectors)\n",
      "epoch 0:\t21.52145287588946\n",
      "epoch 10:\t21.354842867843214\n",
      "epoch 20:\t21.2202518342796\n",
      "epoch 30:\t21.064977625714604\n",
      "epoch 40:\t20.915865220028014\n",
      "epoch 50:\t20.792588073764357\n",
      "Using second variation (average of outputs produced by each set of weight matrices)\n",
      "Epoch 0: 3.3074689175715117\n",
      "Epoch 25: 0.00872977187115585\n",
      "Epoch 50: 0.00373382475592404\n",
      "Epoch 75: 0.002422293821983088\n",
      "Epoch 100: 0.0018058879506197374\n",
      "Epoch 125: 0.0014450228094821291\n",
      "Epoch 150: 0.001207122179219737\n",
      "W1 size 525\n",
      "W2 size 18\n",
      "W3 size 10\n",
      "Using well-known algorithms: Logistic Regression, RandomForest and MLP\n"
     ]
    },
    {
     "name": "stderr",
     "output_type": "stream",
     "text": [
      "/usr/local/lib/python3.5/dist-packages/sklearn/metrics/classification.py:1135: UndefinedMetricWarning: F-score is ill-defined and being set to 0.0 in labels with no predicted samples.\n",
      "  'precision', 'predicted', average, warn_for)\n",
      "/usr/local/lib/python3.5/dist-packages/sklearn/neural_network/multilayer_perceptron.py:564: ConvergenceWarning: Stochastic Optimizer: Maximum iterations (200) reached and the optimization hasn't converged yet.\n",
      "  % self.max_iter, ConvergenceWarning)\n"
     ]
    },
    {
     "name": "stdout",
     "output_type": "stream",
     "text": [
      "Took: 206.81248331069946\n",
      "--------------------------------------------------\n",
      "En: 300\tTr: 425\n",
      "Using first variation (Regressor and Classifier with score vectors)\n",
      "epoch 0:\t22.761638741765402\n",
      "epoch 10:\t22.624413795514933\n",
      "epoch 20:\t22.460785144823554\n",
      "epoch 30:\t22.297881034548958\n",
      "epoch 40:\t22.1574676444325\n",
      "epoch 50:\t22.017653128585998\n",
      "Using second variation (average of outputs produced by each set of weight matrices)\n",
      "Epoch 0: 2.9789280268693745\n",
      "Epoch 25: 0.005396392882670751\n",
      "Epoch 50: 0.0025435018185035476\n",
      "Epoch 75: 0.001706610039476063\n",
      "Epoch 100: 0.001298055480344554\n",
      "Epoch 125: 0.0010536839987203008\n",
      "Epoch 150: 0.0008901972524157522\n",
      "W1 size 547\n",
      "W2 size 18\n",
      "W3 size 10\n",
      "Using well-known algorithms: Logistic Regression, RandomForest and MLP\n"
     ]
    },
    {
     "name": "stderr",
     "output_type": "stream",
     "text": [
      "/usr/local/lib/python3.5/dist-packages/sklearn/metrics/classification.py:1135: UndefinedMetricWarning: F-score is ill-defined and being set to 0.0 in labels with no predicted samples.\n",
      "  'precision', 'predicted', average, warn_for)\n",
      "/usr/local/lib/python3.5/dist-packages/sklearn/neural_network/multilayer_perceptron.py:564: ConvergenceWarning: Stochastic Optimizer: Maximum iterations (200) reached and the optimization hasn't converged yet.\n",
      "  % self.max_iter, ConvergenceWarning)\n"
     ]
    },
    {
     "name": "stdout",
     "output_type": "stream",
     "text": [
      "Took: 210.03420042991638\n",
      "--------------------------------------------------\n",
      "En: 350\tTr: 42\n",
      "Using first variation (Regressor and Classifier with score vectors)\n",
      "epoch 0:\t24.780917974703407\n",
      "epoch 10:\t24.516348800539838\n",
      "epoch 20:\t24.31788243275317\n",
      "epoch 30:\t24.0916664762927\n",
      "epoch 40:\t23.878489880896396\n",
      "epoch 50:\t23.690692669558143\n",
      "Using second variation (average of outputs produced by each set of weight matrices)\n",
      "Epoch 0: 3.2854463176990234\n",
      "Epoch 25: 0.029555727753404426\n",
      "Epoch 50: 0.0062659333646001404\n",
      "Epoch 75: 0.0031758106337801974\n",
      "Epoch 100: 0.0022219761876515675\n",
      "Epoch 125: 0.0017302894755027748\n",
      "Epoch 150: 0.001425590422277414\n",
      "W1 size 325\n",
      "W2 size 17\n",
      "W3 size 10\n",
      "Using well-known algorithms: Logistic Regression, RandomForest and MLP\n"
     ]
    },
    {
     "name": "stderr",
     "output_type": "stream",
     "text": [
      "/usr/local/lib/python3.5/dist-packages/sklearn/metrics/classification.py:1135: UndefinedMetricWarning: F-score is ill-defined and being set to 0.0 in labels with no predicted samples.\n",
      "  'precision', 'predicted', average, warn_for)\n",
      "/usr/local/lib/python3.5/dist-packages/sklearn/neural_network/multilayer_perceptron.py:564: ConvergenceWarning: Stochastic Optimizer: Maximum iterations (200) reached and the optimization hasn't converged yet.\n",
      "  % self.max_iter, ConvergenceWarning)\n"
     ]
    },
    {
     "name": "stdout",
     "output_type": "stream",
     "text": [
      "Took: 111.6962513923645\n",
      "--------------------------------------------------\n",
      "En: 350\tTr: 85\n",
      "Using first variation (Regressor and Classifier with score vectors)\n",
      "epoch 0:\t23.678555702301413\n",
      "epoch 10:\t23.374522027135406\n",
      "epoch 20:\t23.133498252679885\n",
      "epoch 30:\t22.728898708057887\n",
      "epoch 40:\t22.45431014026989\n",
      "epoch 50:\t22.230950844988044\n",
      "Using second variation (average of outputs produced by each set of weight matrices)\n",
      "Epoch 0: 1.6640025066228796\n",
      "Epoch 25: 0.0044555921233691625\n",
      "Epoch 50: 0.001981337655693802\n",
      "Epoch 75: 0.0013087451987854658\n",
      "Epoch 100: 0.0009870723883963542\n",
      "Epoch 125: 0.0007967391156492747\n",
      "Epoch 150: 0.0006703122317942652\n",
      "W1 size 367\n",
      "W2 size 17\n",
      "W3 size 10\n",
      "Using well-known algorithms: Logistic Regression, RandomForest and MLP\n"
     ]
    },
    {
     "name": "stderr",
     "output_type": "stream",
     "text": [
      "/usr/local/lib/python3.5/dist-packages/sklearn/metrics/classification.py:1135: UndefinedMetricWarning: F-score is ill-defined and being set to 0.0 in labels with no predicted samples.\n",
      "  'precision', 'predicted', average, warn_for)\n",
      "/usr/local/lib/python3.5/dist-packages/sklearn/neural_network/multilayer_perceptron.py:564: ConvergenceWarning: Stochastic Optimizer: Maximum iterations (200) reached and the optimization hasn't converged yet.\n",
      "  % self.max_iter, ConvergenceWarning)\n"
     ]
    },
    {
     "name": "stdout",
     "output_type": "stream",
     "text": [
      "Took: 121.40261149406433\n",
      "--------------------------------------------------\n",
      "En: 350\tTr: 128\n",
      "Using first variation (Regressor and Classifier with score vectors)\n",
      "epoch 0:\t28.05606786795756\n",
      "epoch 10:\t27.650591284501445\n",
      "epoch 20:\t27.343583564019177\n",
      "epoch 30:\t26.95188253001761\n",
      "epoch 40:\t26.67640054692827\n",
      "epoch 50:\t26.44582954949624\n",
      "Using second variation (average of outputs produced by each set of weight matrices)\n",
      "Epoch 0: 4.758861158695059\n",
      "Epoch 25: 0.01633147332033948\n",
      "Epoch 50: 0.005747455278602143\n",
      "Epoch 75: 0.0036314512636468773\n",
      "Epoch 100: 0.002687435037531937\n",
      "Epoch 125: 0.002145993646484853\n",
      "Epoch 150: 0.001792833866556785\n",
      "W1 size 401\n",
      "W2 size 18\n",
      "W3 size 10\n",
      "Using well-known algorithms: Logistic Regression, RandomForest and MLP\n"
     ]
    },
    {
     "name": "stderr",
     "output_type": "stream",
     "text": [
      "/usr/local/lib/python3.5/dist-packages/sklearn/metrics/classification.py:1135: UndefinedMetricWarning: F-score is ill-defined and being set to 0.0 in labels with no predicted samples.\n",
      "  'precision', 'predicted', average, warn_for)\n",
      "/usr/local/lib/python3.5/dist-packages/sklearn/neural_network/multilayer_perceptron.py:564: ConvergenceWarning: Stochastic Optimizer: Maximum iterations (200) reached and the optimization hasn't converged yet.\n",
      "  % self.max_iter, ConvergenceWarning)\n"
     ]
    },
    {
     "name": "stdout",
     "output_type": "stream",
     "text": [
      "Took: 133.39694237709045\n",
      "--------------------------------------------------\n",
      "En: 350\tTr: 170\n",
      "Using first variation (Regressor and Classifier with score vectors)\n",
      "epoch 0:\t20.669315677371547\n",
      "epoch 10:\t20.563981412750156\n",
      "epoch 20:\t20.45483727046152\n",
      "epoch 30:\t20.349587208721527\n",
      "epoch 40:\t20.232048973513976\n",
      "epoch 50:\t20.125828614788418\n",
      "Using second variation (average of outputs produced by each set of weight matrices)\n",
      "Epoch 0: 4.254364423220717\n",
      "Epoch 25: 0.008537107929237045\n",
      "Epoch 50: 0.003783937630598216\n",
      "Epoch 75: 0.002490920969548573\n",
      "Epoch 100: 0.0018749559622995148\n",
      "Epoch 125: 0.001511333047730682\n",
      "Epoch 150: 0.0012700983631759209\n",
      "W1 size 446\n",
      "W2 size 18\n",
      "W3 size 10\n",
      "Using well-known algorithms: Logistic Regression, RandomForest and MLP\n"
     ]
    },
    {
     "name": "stderr",
     "output_type": "stream",
     "text": [
      "/usr/local/lib/python3.5/dist-packages/sklearn/metrics/classification.py:1135: UndefinedMetricWarning: F-score is ill-defined and being set to 0.0 in labels with no predicted samples.\n",
      "  'precision', 'predicted', average, warn_for)\n",
      "/usr/local/lib/python3.5/dist-packages/sklearn/neural_network/multilayer_perceptron.py:564: ConvergenceWarning: Stochastic Optimizer: Maximum iterations (200) reached and the optimization hasn't converged yet.\n",
      "  % self.max_iter, ConvergenceWarning)\n"
     ]
    },
    {
     "name": "stdout",
     "output_type": "stream",
     "text": [
      "Took: 157.9268820285797\n",
      "--------------------------------------------------\n",
      "En: 350\tTr: 212\n",
      "Using first variation (Regressor and Classifier with score vectors)\n",
      "epoch 0:\t23.010627098328932\n",
      "epoch 10:\t22.74136180997784\n",
      "epoch 20:\t22.454714130145554\n",
      "epoch 30:\t22.159927704779733\n",
      "epoch 40:\t21.898357004242193\n",
      "epoch 50:\t21.634853518114838\n",
      "Using second variation (average of outputs produced by each set of weight matrices)\n",
      "Epoch 0: 2.0429725131230625\n",
      "Epoch 25: 0.005429840706410825\n",
      "Epoch 50: 0.0027394152053971713\n",
      "Epoch 75: 0.001867705724500291\n",
      "Epoch 100: 0.00142914789783884\n",
      "Epoch 125: 0.0011631350851322487\n",
      "Epoch 150: 0.0009838056356085655\n",
      "W1 size 448\n",
      "W2 size 18\n",
      "W3 size 10\n",
      "Using well-known algorithms: Logistic Regression, RandomForest and MLP\n"
     ]
    },
    {
     "name": "stderr",
     "output_type": "stream",
     "text": [
      "/usr/local/lib/python3.5/dist-packages/sklearn/metrics/classification.py:1135: UndefinedMetricWarning: F-score is ill-defined and being set to 0.0 in labels with no predicted samples.\n",
      "  'precision', 'predicted', average, warn_for)\n",
      "/usr/local/lib/python3.5/dist-packages/sklearn/neural_network/multilayer_perceptron.py:564: ConvergenceWarning: Stochastic Optimizer: Maximum iterations (200) reached and the optimization hasn't converged yet.\n",
      "  % self.max_iter, ConvergenceWarning)\n"
     ]
    },
    {
     "name": "stdout",
     "output_type": "stream",
     "text": [
      "Took: 160.6961452960968\n",
      "--------------------------------------------------\n",
      "En: 350\tTr: 255\n",
      "Using first variation (Regressor and Classifier with score vectors)\n",
      "epoch 0:\t22.702526937292333\n",
      "epoch 10:\t22.476978914043233\n",
      "epoch 20:\t22.292251307376283\n",
      "epoch 30:\t22.16037179820696\n",
      "epoch 40:\t22.010717985658438\n",
      "epoch 50:\t21.864338745912956\n",
      "Using second variation (average of outputs produced by each set of weight matrices)\n",
      "Epoch 0: 3.098345050875903\n",
      "Epoch 25: 0.008074866225192748\n",
      "Epoch 50: 0.0034499526145222157\n",
      "Epoch 75: 0.0022625342994504628\n",
      "Epoch 100: 0.00170456301372286\n",
      "Epoch 125: 0.0013767942621085195\n",
      "Epoch 150: 0.001159742124060952\n",
      "W1 size 473\n",
      "W2 size 18\n",
      "W3 size 10\n",
      "Using well-known algorithms: Logistic Regression, RandomForest and MLP\n"
     ]
    },
    {
     "name": "stderr",
     "output_type": "stream",
     "text": [
      "/usr/local/lib/python3.5/dist-packages/sklearn/metrics/classification.py:1135: UndefinedMetricWarning: F-score is ill-defined and being set to 0.0 in labels with no predicted samples.\n",
      "  'precision', 'predicted', average, warn_for)\n"
     ]
    },
    {
     "name": "stdout",
     "output_type": "stream",
     "text": [
      "Took: 174.86090564727783\n",
      "--------------------------------------------------\n",
      "En: 350\tTr: 298\n",
      "Using first variation (Regressor and Classifier with score vectors)\n",
      "epoch 0:\t23.161031744038095\n",
      "epoch 10:\t23.016196156226602\n",
      "epoch 20:\t22.903883655614827\n",
      "epoch 30:\t22.77446847071593\n",
      "epoch 40:\t22.64083107728411\n",
      "epoch 50:\t22.51721672531132\n",
      "Using second variation (average of outputs produced by each set of weight matrices)\n",
      "Epoch 0: 2.0459719641193805\n",
      "Epoch 25: 0.004853888292117332\n",
      "Epoch 50: 0.002360623156756309\n",
      "Epoch 75: 0.0015926439594282885\n",
      "Epoch 100: 0.0012123107696325344\n",
      "Epoch 125: 0.0009833793437532682\n",
      "Epoch 150: 0.0008297553758830469\n",
      "W1 size 515\n",
      "W2 size 18\n",
      "W3 size 10\n",
      "Using well-known algorithms: Logistic Regression, RandomForest and MLP\n"
     ]
    },
    {
     "name": "stderr",
     "output_type": "stream",
     "text": [
      "/usr/local/lib/python3.5/dist-packages/sklearn/metrics/classification.py:1135: UndefinedMetricWarning: F-score is ill-defined and being set to 0.0 in labels with no predicted samples.\n",
      "  'precision', 'predicted', average, warn_for)\n",
      "/usr/local/lib/python3.5/dist-packages/sklearn/neural_network/multilayer_perceptron.py:564: ConvergenceWarning: Stochastic Optimizer: Maximum iterations (200) reached and the optimization hasn't converged yet.\n",
      "  % self.max_iter, ConvergenceWarning)\n"
     ]
    },
    {
     "name": "stdout",
     "output_type": "stream",
     "text": [
      "Took: 196.10312223434448\n",
      "--------------------------------------------------\n",
      "En: 350\tTr: 340\n",
      "Using first variation (Regressor and Classifier with score vectors)\n",
      "epoch 0:\t23.19733354111363\n",
      "epoch 10:\t23.100053564390823\n",
      "epoch 20:\t22.963509356917776\n",
      "epoch 30:\t22.82843499737716\n",
      "epoch 40:\t22.7382991540714\n",
      "epoch 50:\t22.644476859404545\n",
      "Using second variation (average of outputs produced by each set of weight matrices)\n",
      "Epoch 0: 2.8757656228000346\n",
      "Epoch 25: 0.012151737882578182\n",
      "Epoch 50: 0.004021250303532557\n",
      "Epoch 75: 0.002500313919974786\n",
      "Epoch 100: 0.0018409664319052473\n",
      "Epoch 125: 0.0014679119539225197\n",
      "Epoch 150: 0.001226210179192979\n",
      "W1 size 527\n",
      "W2 size 18\n",
      "W3 size 10\n",
      "Using well-known algorithms: Logistic Regression, RandomForest and MLP\n"
     ]
    },
    {
     "name": "stderr",
     "output_type": "stream",
     "text": [
      "/usr/local/lib/python3.5/dist-packages/sklearn/metrics/classification.py:1135: UndefinedMetricWarning: F-score is ill-defined and being set to 0.0 in labels with no predicted samples.\n",
      "  'precision', 'predicted', average, warn_for)\n",
      "/usr/local/lib/python3.5/dist-packages/sklearn/neural_network/multilayer_perceptron.py:564: ConvergenceWarning: Stochastic Optimizer: Maximum iterations (200) reached and the optimization hasn't converged yet.\n",
      "  % self.max_iter, ConvergenceWarning)\n"
     ]
    },
    {
     "name": "stdout",
     "output_type": "stream",
     "text": [
      "Took: 199.58466982841492\n",
      "--------------------------------------------------\n",
      "En: 350\tTr: 382\n",
      "Using first variation (Regressor and Classifier with score vectors)\n",
      "epoch 0:\t20.457031582855823\n",
      "epoch 10:\t20.27423532723229\n",
      "epoch 20:\t20.15106602843793\n",
      "epoch 30:\t20.01635850068548\n",
      "epoch 40:\t19.87547023508128\n",
      "epoch 50:\t19.739478069498407\n",
      "Using second variation (average of outputs produced by each set of weight matrices)\n",
      "Epoch 0: 3.104957480191864\n",
      "Epoch 25: 0.004322167091188074\n",
      "Epoch 50: 0.0020519566699299724\n",
      "Epoch 75: 0.0013672283734958437\n",
      "Epoch 100: 0.00103327727836121\n",
      "Epoch 125: 0.0008345089001298714\n",
      "Epoch 150: 0.0007022293716744771\n",
      "W1 size 564\n",
      "W2 size 18\n",
      "W3 size 10\n",
      "Using well-known algorithms: Logistic Regression, RandomForest and MLP\n"
     ]
    },
    {
     "name": "stderr",
     "output_type": "stream",
     "text": [
      "/usr/local/lib/python3.5/dist-packages/sklearn/metrics/classification.py:1135: UndefinedMetricWarning: F-score is ill-defined and being set to 0.0 in labels with no predicted samples.\n",
      "  'precision', 'predicted', average, warn_for)\n",
      "/usr/local/lib/python3.5/dist-packages/sklearn/neural_network/multilayer_perceptron.py:564: ConvergenceWarning: Stochastic Optimizer: Maximum iterations (200) reached and the optimization hasn't converged yet.\n",
      "  % self.max_iter, ConvergenceWarning)\n"
     ]
    },
    {
     "name": "stdout",
     "output_type": "stream",
     "text": [
      "Took: 211.4999659061432\n",
      "--------------------------------------------------\n",
      "En: 350\tTr: 425\n",
      "Using first variation (Regressor and Classifier with score vectors)\n",
      "epoch 0:\t21.956471374294335\n",
      "epoch 10:\t21.91914914780603\n",
      "epoch 20:\t21.838871177084883\n",
      "epoch 30:\t21.693424583689037\n",
      "epoch 40:\t21.558963116531594\n",
      "epoch 50:\t21.435036691702166\n",
      "Using second variation (average of outputs produced by each set of weight matrices)\n",
      "Epoch 0: 2.158627025776221\n",
      "Epoch 25: 0.003921163263872135\n",
      "Epoch 50: 0.001972994491448173\n",
      "Epoch 75: 0.001340468042482712\n",
      "Epoch 100: 0.001022924829655674\n",
      "Epoch 125: 0.0008307271582416323\n",
      "Epoch 150: 0.0007013900459494123\n",
      "W1 size 573\n",
      "W2 size 18\n",
      "W3 size 10\n",
      "Using well-known algorithms: Logistic Regression, RandomForest and MLP\n"
     ]
    },
    {
     "name": "stderr",
     "output_type": "stream",
     "text": [
      "/usr/local/lib/python3.5/dist-packages/sklearn/metrics/classification.py:1135: UndefinedMetricWarning: F-score is ill-defined and being set to 0.0 in labels with no predicted samples.\n",
      "  'precision', 'predicted', average, warn_for)\n",
      "/usr/local/lib/python3.5/dist-packages/sklearn/neural_network/multilayer_perceptron.py:564: ConvergenceWarning: Stochastic Optimizer: Maximum iterations (200) reached and the optimization hasn't converged yet.\n",
      "  % self.max_iter, ConvergenceWarning)\n"
     ]
    },
    {
     "name": "stdout",
     "output_type": "stream",
     "text": [
      "Took: 217.26800680160522\n",
      "--------------------------------------------------\n",
      "En: 400\tTr: 42\n",
      "Using first variation (Regressor and Classifier with score vectors)\n",
      "epoch 0:\t21.584745337387055\n",
      "epoch 10:\t21.442073520185218\n",
      "epoch 20:\t21.327176961137543\n",
      "epoch 30:\t21.23306182813039\n",
      "epoch 40:\t21.13668172121586\n",
      "epoch 50:\t21.046925480119256\n",
      "Using second variation (average of outputs produced by each set of weight matrices)\n",
      "Epoch 0: 4.529221207934603\n",
      "Epoch 25: 0.01577518720085505\n",
      "Epoch 50: 0.004238168151074017\n",
      "Epoch 75: 0.002565915442119149\n",
      "Epoch 100: 0.0018702813097895995\n",
      "Epoch 125: 0.0014835585285250523\n",
      "Epoch 150: 0.0012355205617989656\n",
      "W1 size 367\n",
      "W2 size 18\n",
      "W3 size 10\n",
      "Using well-known algorithms: Logistic Regression, RandomForest and MLP\n"
     ]
    },
    {
     "name": "stderr",
     "output_type": "stream",
     "text": [
      "/usr/local/lib/python3.5/dist-packages/sklearn/metrics/classification.py:1135: UndefinedMetricWarning: F-score is ill-defined and being set to 0.0 in labels with no predicted samples.\n",
      "  'precision', 'predicted', average, warn_for)\n",
      "/usr/local/lib/python3.5/dist-packages/sklearn/neural_network/multilayer_perceptron.py:564: ConvergenceWarning: Stochastic Optimizer: Maximum iterations (200) reached and the optimization hasn't converged yet.\n",
      "  % self.max_iter, ConvergenceWarning)\n"
     ]
    },
    {
     "name": "stdout",
     "output_type": "stream",
     "text": [
      "Took: 124.55022048950195\n",
      "--------------------------------------------------\n",
      "En: 400\tTr: 85\n",
      "Using first variation (Regressor and Classifier with score vectors)\n",
      "epoch 0:\t23.233330513084574\n",
      "epoch 10:\t22.949931535025758\n",
      "epoch 20:\t22.795580130860607\n",
      "epoch 30:\t22.51362853293362\n",
      "epoch 40:\t22.28197418709305\n",
      "epoch 50:\t22.09882717232178\n",
      "Using second variation (average of outputs produced by each set of weight matrices)\n",
      "Epoch 0: 2.1602671407782577\n",
      "Epoch 25: 0.004498908973399647\n",
      "Epoch 50: 0.0022409861368157106\n",
      "Epoch 75: 0.0015253414154182813\n",
      "Epoch 100: 0.0011667912520407784\n",
      "Epoch 125: 0.0009495924765286411\n",
      "Epoch 150: 0.0008032314167885148\n",
      "W1 size 411\n",
      "W2 size 17\n",
      "W3 size 10\n",
      "Using well-known algorithms: Logistic Regression, RandomForest and MLP\n"
     ]
    },
    {
     "name": "stderr",
     "output_type": "stream",
     "text": [
      "/usr/local/lib/python3.5/dist-packages/sklearn/metrics/classification.py:1135: UndefinedMetricWarning: F-score is ill-defined and being set to 0.0 in labels with no predicted samples.\n",
      "  'precision', 'predicted', average, warn_for)\n",
      "/usr/local/lib/python3.5/dist-packages/sklearn/neural_network/multilayer_perceptron.py:564: ConvergenceWarning: Stochastic Optimizer: Maximum iterations (200) reached and the optimization hasn't converged yet.\n",
      "  % self.max_iter, ConvergenceWarning)\n"
     ]
    },
    {
     "name": "stdout",
     "output_type": "stream",
     "text": [
      "Took: 141.20875477790833\n",
      "--------------------------------------------------\n",
      "En: 400\tTr: 128\n",
      "Using first variation (Regressor and Classifier with score vectors)\n",
      "epoch 0:\t20.617934475029507\n",
      "epoch 10:\t20.511901353041676\n",
      "epoch 20:\t20.39955679644586\n",
      "epoch 30:\t20.292120391621303\n",
      "epoch 40:\t20.19292523076684\n",
      "epoch 50:\t20.094281453324683\n",
      "Using second variation (average of outputs produced by each set of weight matrices)\n",
      "Epoch 0: 1.9036984166051214\n",
      "Epoch 25: 0.0049813078421641335\n",
      "Epoch 50: 0.002497951388256067\n",
      "Epoch 75: 0.0016946089737559914\n",
      "Epoch 100: 0.0012919946698130116\n",
      "Epoch 125: 0.001048537359281131\n",
      "Epoch 150: 0.0008847919563387566\n",
      "W1 size 431\n",
      "W2 size 17\n",
      "W3 size 10\n",
      "Using well-known algorithms: Logistic Regression, RandomForest and MLP\n"
     ]
    },
    {
     "name": "stderr",
     "output_type": "stream",
     "text": [
      "/usr/local/lib/python3.5/dist-packages/sklearn/metrics/classification.py:1135: UndefinedMetricWarning: F-score is ill-defined and being set to 0.0 in labels with no predicted samples.\n",
      "  'precision', 'predicted', average, warn_for)\n",
      "/usr/local/lib/python3.5/dist-packages/sklearn/neural_network/multilayer_perceptron.py:564: ConvergenceWarning: Stochastic Optimizer: Maximum iterations (200) reached and the optimization hasn't converged yet.\n",
      "  % self.max_iter, ConvergenceWarning)\n"
     ]
    },
    {
     "name": "stdout",
     "output_type": "stream",
     "text": [
      "Took: 154.14217042922974\n",
      "--------------------------------------------------\n",
      "En: 400\tTr: 170\n",
      "Using first variation (Regressor and Classifier with score vectors)\n",
      "epoch 0:\t22.38972300832716\n",
      "epoch 10:\t22.215563848738384\n",
      "epoch 20:\t22.08054047866068\n",
      "epoch 30:\t21.939352799239906\n",
      "epoch 40:\t21.796749257353287\n",
      "epoch 50:\t21.65992810613145\n",
      "Using second variation (average of outputs produced by each set of weight matrices)\n",
      "Epoch 0: 3.403901453118306\n",
      "Epoch 25: 0.007622585327356702\n",
      "Epoch 50: 0.003408333353132277\n",
      "Epoch 75: 0.002240421772745848\n",
      "Epoch 100: 0.0016840118771543338\n",
      "Epoch 125: 0.001356348299063121\n",
      "Epoch 150: 0.00113955377091062\n",
      "W1 size 473\n",
      "W2 size 18\n",
      "W3 size 10\n",
      "Using well-known algorithms: Logistic Regression, RandomForest and MLP\n"
     ]
    },
    {
     "name": "stderr",
     "output_type": "stream",
     "text": [
      "/usr/local/lib/python3.5/dist-packages/sklearn/metrics/classification.py:1135: UndefinedMetricWarning: F-score is ill-defined and being set to 0.0 in labels with no predicted samples.\n",
      "  'precision', 'predicted', average, warn_for)\n",
      "/usr/local/lib/python3.5/dist-packages/sklearn/neural_network/multilayer_perceptron.py:564: ConvergenceWarning: Stochastic Optimizer: Maximum iterations (200) reached and the optimization hasn't converged yet.\n",
      "  % self.max_iter, ConvergenceWarning)\n"
     ]
    },
    {
     "name": "stdout",
     "output_type": "stream",
     "text": [
      "Took: 174.0503499507904\n",
      "--------------------------------------------------\n",
      "En: 400\tTr: 212\n",
      "Using first variation (Regressor and Classifier with score vectors)\n",
      "epoch 0:\t23.385516465233547\n",
      "epoch 10:\t23.24231965276444\n",
      "epoch 20:\t23.081739238733153\n",
      "epoch 30:\t22.938832064680234\n",
      "epoch 40:\t22.74885633463601\n",
      "epoch 50:\t22.51976344076176\n",
      "Using second variation (average of outputs produced by each set of weight matrices)\n",
      "Epoch 0: 2.9379705982464714\n",
      "Epoch 25: 0.004364027273839452\n",
      "Epoch 50: 0.0021532454558173333\n",
      "Epoch 75: 0.0014597572383037451\n",
      "Epoch 100: 0.0011145799969187306\n",
      "Epoch 125: 0.0009062992304217808\n",
      "Epoch 150: 0.0007662872411658718\n",
      "W1 size 490\n",
      "W2 size 18\n",
      "W3 size 10\n",
      "Using well-known algorithms: Logistic Regression, RandomForest and MLP\n"
     ]
    },
    {
     "name": "stderr",
     "output_type": "stream",
     "text": [
      "/usr/local/lib/python3.5/dist-packages/sklearn/metrics/classification.py:1135: UndefinedMetricWarning: F-score is ill-defined and being set to 0.0 in labels with no predicted samples.\n",
      "  'precision', 'predicted', average, warn_for)\n"
     ]
    },
    {
     "name": "stdout",
     "output_type": "stream",
     "text": [
      "Took: 191.67197918891907\n",
      "--------------------------------------------------\n",
      "En: 400\tTr: 255\n",
      "Using first variation (Regressor and Classifier with score vectors)\n",
      "epoch 0:\t23.13963822678701\n",
      "epoch 10:\t22.813714797220264\n",
      "epoch 20:\t22.486923403095645\n",
      "epoch 30:\t22.113486922811894\n",
      "epoch 40:\t21.838097770053547\n",
      "epoch 50:\t21.602260164651362\n",
      "Using second variation (average of outputs produced by each set of weight matrices)\n",
      "Epoch 0: 2.619312871025155\n",
      "Epoch 25: 0.008226477231725406\n",
      "Epoch 50: 0.0035869157641435887\n",
      "Epoch 75: 0.002352732842510819\n",
      "Epoch 100: 0.0017678347834955452\n",
      "Epoch 125: 0.0014235881196460896\n",
      "Epoch 150: 0.001195730205863592\n",
      "W1 size 521\n",
      "W2 size 18\n",
      "W3 size 10\n",
      "Using well-known algorithms: Logistic Regression, RandomForest and MLP\n"
     ]
    },
    {
     "name": "stderr",
     "output_type": "stream",
     "text": [
      "/usr/local/lib/python3.5/dist-packages/sklearn/metrics/classification.py:1135: UndefinedMetricWarning: F-score is ill-defined and being set to 0.0 in labels with no predicted samples.\n",
      "  'precision', 'predicted', average, warn_for)\n",
      "/usr/local/lib/python3.5/dist-packages/sklearn/neural_network/multilayer_perceptron.py:564: ConvergenceWarning: Stochastic Optimizer: Maximum iterations (200) reached and the optimization hasn't converged yet.\n",
      "  % self.max_iter, ConvergenceWarning)\n"
     ]
    },
    {
     "name": "stdout",
     "output_type": "stream",
     "text": [
      "Took: 197.00548005104065\n",
      "--------------------------------------------------\n",
      "En: 400\tTr: 298\n",
      "Using first variation (Regressor and Classifier with score vectors)\n",
      "epoch 0:\t23.978648826290446\n",
      "epoch 10:\t23.37955012634433\n",
      "epoch 20:\t23.122880924705733\n",
      "epoch 30:\t22.94446314935697\n",
      "epoch 40:\t22.740476535743387\n",
      "epoch 50:\t22.554975258981322\n",
      "Using second variation (average of outputs produced by each set of weight matrices)\n",
      "Epoch 0: 1.6489967909682752\n",
      "Epoch 25: 0.0038929652791211264\n",
      "Epoch 50: 0.0020082684426344934\n",
      "Epoch 75: 0.0013818205844480585\n",
      "Epoch 100: 0.0010622674635882641\n",
      "Epoch 125: 0.0008667797187645325\n",
      "Epoch 150: 0.0007342217553150248\n",
      "W1 size 554\n",
      "W2 size 18\n",
      "W3 size 10\n",
      "Using well-known algorithms: Logistic Regression, RandomForest and MLP\n"
     ]
    },
    {
     "name": "stderr",
     "output_type": "stream",
     "text": [
      "/usr/local/lib/python3.5/dist-packages/sklearn/metrics/classification.py:1135: UndefinedMetricWarning: F-score is ill-defined and being set to 0.0 in labels with no predicted samples.\n",
      "  'precision', 'predicted', average, warn_for)\n",
      "/usr/local/lib/python3.5/dist-packages/sklearn/neural_network/multilayer_perceptron.py:564: ConvergenceWarning: Stochastic Optimizer: Maximum iterations (200) reached and the optimization hasn't converged yet.\n",
      "  % self.max_iter, ConvergenceWarning)\n"
     ]
    },
    {
     "name": "stdout",
     "output_type": "stream",
     "text": [
      "Took: 193.09608793258667\n",
      "--------------------------------------------------\n",
      "En: 400\tTr: 340\n",
      "Using first variation (Regressor and Classifier with score vectors)\n",
      "epoch 0:\t21.858544815635106\n",
      "epoch 10:\t21.69711670356533\n",
      "epoch 20:\t21.499931496760542\n",
      "epoch 30:\t21.32687521576639\n",
      "epoch 40:\t21.17554015633229\n",
      "epoch 50:\t21.03934261476593\n",
      "Using second variation (average of outputs produced by each set of weight matrices)\n",
      "Epoch 0: 2.731464275102059\n",
      "Epoch 25: 0.0046894168333746645\n",
      "Epoch 50: 0.002350983579292829\n",
      "Epoch 75: 0.0016017754826261378\n",
      "Epoch 100: 0.001226527299320193\n",
      "Epoch 125: 0.0009994058589549504\n",
      "Epoch 150: 0.0008464290553655012\n",
      "W1 size 568\n",
      "W2 size 18\n",
      "W3 size 10\n",
      "Using well-known algorithms: Logistic Regression, RandomForest and MLP\n"
     ]
    },
    {
     "name": "stderr",
     "output_type": "stream",
     "text": [
      "/usr/local/lib/python3.5/dist-packages/sklearn/metrics/classification.py:1135: UndefinedMetricWarning: F-score is ill-defined and being set to 0.0 in labels with no predicted samples.\n",
      "  'precision', 'predicted', average, warn_for)\n",
      "/usr/local/lib/python3.5/dist-packages/sklearn/neural_network/multilayer_perceptron.py:564: ConvergenceWarning: Stochastic Optimizer: Maximum iterations (200) reached and the optimization hasn't converged yet.\n",
      "  % self.max_iter, ConvergenceWarning)\n"
     ]
    },
    {
     "name": "stdout",
     "output_type": "stream",
     "text": [
      "Took: 208.57370352745056\n",
      "--------------------------------------------------\n",
      "En: 400\tTr: 382\n",
      "Using first variation (Regressor and Classifier with score vectors)\n",
      "epoch 0:\t23.756584356319216\n",
      "epoch 10:\t23.40042942470173\n",
      "epoch 20:\t23.258513812979686\n",
      "epoch 30:\t23.041424028334998\n",
      "epoch 40:\t22.84742007176336\n",
      "epoch 50:\t22.659059263785828\n",
      "Using second variation (average of outputs produced by each set of weight matrices)\n",
      "Epoch 0: 1.9553165923897806\n",
      "Epoch 25: 0.003466560956292447\n",
      "Epoch 50: 0.001704090448803843\n",
      "Epoch 75: 0.001157035170769008\n",
      "Epoch 100: 0.0008854708779158023\n",
      "Epoch 125: 0.0007216801013927259\n",
      "Epoch 150: 0.0006115269461412378\n",
      "W1 size 586\n",
      "W2 size 18\n",
      "W3 size 10\n",
      "Using well-known algorithms: Logistic Regression, RandomForest and MLP\n"
     ]
    },
    {
     "name": "stderr",
     "output_type": "stream",
     "text": [
      "/usr/local/lib/python3.5/dist-packages/sklearn/metrics/classification.py:1135: UndefinedMetricWarning: F-score is ill-defined and being set to 0.0 in labels with no predicted samples.\n",
      "  'precision', 'predicted', average, warn_for)\n",
      "/usr/local/lib/python3.5/dist-packages/sklearn/neural_network/multilayer_perceptron.py:564: ConvergenceWarning: Stochastic Optimizer: Maximum iterations (200) reached and the optimization hasn't converged yet.\n",
      "  % self.max_iter, ConvergenceWarning)\n"
     ]
    },
    {
     "name": "stdout",
     "output_type": "stream",
     "text": [
      "Took: 232.91597485542297\n",
      "--------------------------------------------------\n",
      "En: 400\tTr: 425\n",
      "Using first variation (Regressor and Classifier with score vectors)\n",
      "epoch 0:\t22.201042066894935\n",
      "epoch 10:\t22.063362088720236\n",
      "epoch 20:\t21.85117775390341\n",
      "epoch 30:\t21.637747009179183\n",
      "epoch 40:\t21.44583559331172\n",
      "epoch 50:\t21.292505998047528\n",
      "Using second variation (average of outputs produced by each set of weight matrices)\n",
      "Epoch 0: 2.950225150687201\n",
      "Epoch 25: 0.004702486502943209\n",
      "Epoch 50: 0.002290272997459562\n",
      "Epoch 75: 0.0015449461443616504\n",
      "Epoch 100: 0.0011761885540111949\n",
      "Epoch 125: 0.0009544513043552301\n",
      "Epoch 150: 0.0008057289717051693\n",
      "W1 size 611\n",
      "W2 size 18\n",
      "W3 size 10\n",
      "Using well-known algorithms: Logistic Regression, RandomForest and MLP\n"
     ]
    },
    {
     "name": "stderr",
     "output_type": "stream",
     "text": [
      "/usr/local/lib/python3.5/dist-packages/sklearn/metrics/classification.py:1135: UndefinedMetricWarning: F-score is ill-defined and being set to 0.0 in labels with no predicted samples.\n",
      "  'precision', 'predicted', average, warn_for)\n",
      "/usr/local/lib/python3.5/dist-packages/sklearn/neural_network/multilayer_perceptron.py:564: ConvergenceWarning: Stochastic Optimizer: Maximum iterations (200) reached and the optimization hasn't converged yet.\n",
      "  % self.max_iter, ConvergenceWarning)\n"
     ]
    },
    {
     "name": "stdout",
     "output_type": "stream",
     "text": [
      "Took: 247.93724870681763\n",
      "--------------------------------------------------\n",
      "En: 450\tTr: 42\n",
      "Using first variation (Regressor and Classifier with score vectors)\n",
      "epoch 0:\t19.547449120494697\n",
      "epoch 10:\t19.414287651838833\n",
      "epoch 20:\t19.30803981710653\n",
      "epoch 30:\t19.236778406268748\n",
      "epoch 40:\t19.180379715436736\n",
      "epoch 50:\t19.123370713071626\n",
      "Using second variation (average of outputs produced by each set of weight matrices)\n",
      "Epoch 0: 1.7466351416902968\n",
      "Epoch 25: 0.0036871374852744977\n",
      "Epoch 50: 0.001781271959554571\n",
      "Epoch 75: 0.0012068976511270437\n",
      "Epoch 100: 0.0009232838298121464\n",
      "Epoch 125: 0.0007525730678290904\n",
      "Epoch 150: 0.0006378985967109529\n",
      "W1 size 397\n",
      "W2 size 17\n",
      "W3 size 10\n",
      "Using well-known algorithms: Logistic Regression, RandomForest and MLP\n"
     ]
    },
    {
     "name": "stderr",
     "output_type": "stream",
     "text": [
      "/usr/local/lib/python3.5/dist-packages/sklearn/metrics/classification.py:1135: UndefinedMetricWarning: F-score is ill-defined and being set to 0.0 in labels with no predicted samples.\n",
      "  'precision', 'predicted', average, warn_for)\n",
      "/usr/local/lib/python3.5/dist-packages/sklearn/metrics/classification.py:1137: UndefinedMetricWarning: F-score is ill-defined and being set to 0.0 in labels with no true samples.\n",
      "  'recall', 'true', average, warn_for)\n",
      "/usr/local/lib/python3.5/dist-packages/sklearn/neural_network/multilayer_perceptron.py:564: ConvergenceWarning: Stochastic Optimizer: Maximum iterations (200) reached and the optimization hasn't converged yet.\n",
      "  % self.max_iter, ConvergenceWarning)\n"
     ]
    },
    {
     "name": "stdout",
     "output_type": "stream",
     "text": [
      "Took: 147.4646966457367\n",
      "--------------------------------------------------\n",
      "En: 450\tTr: 85\n",
      "Using first variation (Regressor and Classifier with score vectors)\n",
      "epoch 0:\t21.52710157274071\n",
      "epoch 10:\t21.34013596719462\n",
      "epoch 20:\t21.187753479585247\n",
      "epoch 30:\t21.059607806628698\n",
      "epoch 40:\t20.964017366176638\n",
      "epoch 50:\t20.87531417581274\n",
      "Using second variation (average of outputs produced by each set of weight matrices)\n",
      "Epoch 0: 4.087571028210838\n",
      "Epoch 25: 0.021402676095654286\n",
      "Epoch 50: 0.00524091120836746\n",
      "Epoch 75: 0.003111357358399044\n",
      "Epoch 100: 0.0022423494199085036\n",
      "Epoch 125: 0.0017644838841591158\n",
      "Epoch 150: 0.0014605421266993442\n",
      "W1 size 428\n",
      "W2 size 17\n",
      "W3 size 10\n",
      "Using well-known algorithms: Logistic Regression, RandomForest and MLP\n"
     ]
    },
    {
     "name": "stderr",
     "output_type": "stream",
     "text": [
      "/usr/local/lib/python3.5/dist-packages/sklearn/metrics/classification.py:1135: UndefinedMetricWarning: F-score is ill-defined and being set to 0.0 in labels with no predicted samples.\n",
      "  'precision', 'predicted', average, warn_for)\n",
      "/usr/local/lib/python3.5/dist-packages/sklearn/neural_network/multilayer_perceptron.py:564: ConvergenceWarning: Stochastic Optimizer: Maximum iterations (200) reached and the optimization hasn't converged yet.\n",
      "  % self.max_iter, ConvergenceWarning)\n"
     ]
    },
    {
     "name": "stdout",
     "output_type": "stream",
     "text": [
      "Took: 163.43531155586243\n",
      "--------------------------------------------------\n",
      "En: 450\tTr: 128\n",
      "Using first variation (Regressor and Classifier with score vectors)\n",
      "epoch 0:\t24.223224027988145\n",
      "epoch 10:\t23.90618506679008\n",
      "epoch 20:\t23.636546820085123\n",
      "epoch 30:\t23.42640538968854\n",
      "epoch 40:\t23.213204644896358\n",
      "epoch 50:\t23.01026033403268\n",
      "Using second variation (average of outputs produced by each set of weight matrices)\n",
      "Epoch 0: 1.8405189009579568\n",
      "Epoch 25: 0.004033696360903251\n",
      "Epoch 50: 0.0016499572610892388\n",
      "Epoch 75: 0.0010934235661571594\n",
      "Epoch 100: 0.0008320753670044197\n",
      "Epoch 125: 0.0006774453281307516\n",
      "Epoch 150: 0.0005742598646956013\n",
      "W1 size 469\n",
      "W2 size 18\n",
      "W3 size 10\n",
      "Using well-known algorithms: Logistic Regression, RandomForest and MLP\n"
     ]
    },
    {
     "name": "stderr",
     "output_type": "stream",
     "text": [
      "/usr/local/lib/python3.5/dist-packages/sklearn/metrics/classification.py:1135: UndefinedMetricWarning: F-score is ill-defined and being set to 0.0 in labels with no predicted samples.\n",
      "  'precision', 'predicted', average, warn_for)\n",
      "/usr/local/lib/python3.5/dist-packages/sklearn/neural_network/multilayer_perceptron.py:564: ConvergenceWarning: Stochastic Optimizer: Maximum iterations (200) reached and the optimization hasn't converged yet.\n",
      "  % self.max_iter, ConvergenceWarning)\n"
     ]
    },
    {
     "name": "stdout",
     "output_type": "stream",
     "text": [
      "Took: 170.29318404197693\n",
      "--------------------------------------------------\n",
      "En: 450\tTr: 170\n",
      "Using first variation (Regressor and Classifier with score vectors)\n",
      "epoch 0:\t20.20982429717598\n",
      "epoch 10:\t20.125705828913407\n",
      "epoch 20:\t20.061667149849278\n",
      "epoch 30:\t19.992580630150485\n",
      "epoch 40:\t19.925016796813374\n",
      "epoch 50:\t19.865440568072135\n",
      "Using second variation (average of outputs produced by each set of weight matrices)\n",
      "Epoch 0: 3.259176982062734\n",
      "Epoch 25: 0.0077308458820082694\n",
      "Epoch 50: 0.0035451366394084055\n",
      "Epoch 75: 0.0023603982499041318\n",
      "Epoch 100: 0.0017866505143150709\n",
      "Epoch 125: 0.0014450449125556662\n",
      "Epoch 150: 0.0012173252771337077\n",
      "W1 size 493\n",
      "W2 size 18\n",
      "W3 size 10\n",
      "Using well-known algorithms: Logistic Regression, RandomForest and MLP\n"
     ]
    },
    {
     "name": "stderr",
     "output_type": "stream",
     "text": [
      "/usr/local/lib/python3.5/dist-packages/sklearn/metrics/classification.py:1135: UndefinedMetricWarning: F-score is ill-defined and being set to 0.0 in labels with no predicted samples.\n",
      "  'precision', 'predicted', average, warn_for)\n"
     ]
    },
    {
     "name": "stdout",
     "output_type": "stream",
     "text": [
      "Took: 190.4299864768982\n",
      "--------------------------------------------------\n",
      "En: 450\tTr: 212\n",
      "Using first variation (Regressor and Classifier with score vectors)\n",
      "epoch 0:\t21.36060460582116\n",
      "epoch 10:\t21.109457816794517\n",
      "epoch 20:\t20.909068762361642\n",
      "epoch 30:\t20.773086583196886\n",
      "epoch 40:\t20.68950814598407\n",
      "epoch 50:\t20.602661850696666\n",
      "Using second variation (average of outputs produced by each set of weight matrices)\n",
      "Epoch 0: 3.7297664627626173\n",
      "Epoch 25: 0.004919751886337491\n",
      "Epoch 50: 0.002411178993920032\n",
      "Epoch 75: 0.001630241149732312\n",
      "Epoch 100: 0.0012430048656079707\n",
      "Epoch 125: 0.0010097336648594033\n",
      "Epoch 150: 0.000853018738054693\n",
      "W1 size 519\n",
      "W2 size 18\n",
      "W3 size 10\n",
      "Using well-known algorithms: Logistic Regression, RandomForest and MLP\n"
     ]
    },
    {
     "name": "stderr",
     "output_type": "stream",
     "text": [
      "/usr/local/lib/python3.5/dist-packages/sklearn/metrics/classification.py:1135: UndefinedMetricWarning: F-score is ill-defined and being set to 0.0 in labels with no predicted samples.\n",
      "  'precision', 'predicted', average, warn_for)\n",
      "/usr/local/lib/python3.5/dist-packages/sklearn/neural_network/multilayer_perceptron.py:564: ConvergenceWarning: Stochastic Optimizer: Maximum iterations (200) reached and the optimization hasn't converged yet.\n",
      "  % self.max_iter, ConvergenceWarning)\n"
     ]
    },
    {
     "name": "stdout",
     "output_type": "stream",
     "text": [
      "Took: 200.44284796714783\n",
      "--------------------------------------------------\n",
      "En: 450\tTr: 255\n",
      "Using first variation (Regressor and Classifier with score vectors)\n",
      "epoch 0:\t22.377641003016283\n",
      "epoch 10:\t22.216530034017175\n",
      "epoch 20:\t22.07089765977835\n",
      "epoch 30:\t21.928816972069367\n",
      "epoch 40:\t21.770850905204448\n",
      "epoch 50:\t21.622852852701094\n",
      "Using second variation (average of outputs produced by each set of weight matrices)\n",
      "Epoch 0: 3.9497375392277414\n",
      "Epoch 25: 0.007571910394050864\n",
      "Epoch 50: 0.002409073032360719\n",
      "Epoch 75: 0.0015512229726092229\n",
      "Epoch 100: 0.0011638609154522087\n",
      "Epoch 125: 0.0009386231823455156\n",
      "Epoch 150: 0.0007900365155197144\n",
      "W1 size 559\n",
      "W2 size 18\n",
      "W3 size 10\n",
      "Using well-known algorithms: Logistic Regression, RandomForest and MLP\n"
     ]
    },
    {
     "name": "stderr",
     "output_type": "stream",
     "text": [
      "/usr/local/lib/python3.5/dist-packages/sklearn/metrics/classification.py:1135: UndefinedMetricWarning: F-score is ill-defined and being set to 0.0 in labels with no predicted samples.\n",
      "  'precision', 'predicted', average, warn_for)\n",
      "/usr/local/lib/python3.5/dist-packages/sklearn/neural_network/multilayer_perceptron.py:564: ConvergenceWarning: Stochastic Optimizer: Maximum iterations (200) reached and the optimization hasn't converged yet.\n",
      "  % self.max_iter, ConvergenceWarning)\n"
     ]
    },
    {
     "name": "stdout",
     "output_type": "stream",
     "text": [
      "Took: 205.84503316879272\n",
      "--------------------------------------------------\n",
      "En: 450\tTr: 298\n",
      "Using first variation (Regressor and Classifier with score vectors)\n",
      "epoch 0:\t23.10919187064614\n",
      "epoch 10:\t22.779774039647542\n",
      "epoch 20:\t22.429577598764592\n",
      "epoch 30:\t22.227973564125087\n",
      "epoch 40:\t22.080154413573684\n",
      "epoch 50:\t21.921730631511842\n",
      "Using second variation (average of outputs produced by each set of weight matrices)\n",
      "Epoch 0: 1.8285878897958863\n",
      "Epoch 25: 0.003570603917253131\n",
      "Epoch 50: 0.0017373571253020874\n",
      "Epoch 75: 0.0011729391297236778\n",
      "Epoch 100: 0.000893579181872997\n",
      "Epoch 125: 0.0007254685916745407\n",
      "Epoch 150: 0.0006126211017481848\n",
      "W1 size 572\n",
      "W2 size 18\n",
      "W3 size 10\n",
      "Using well-known algorithms: Logistic Regression, RandomForest and MLP\n"
     ]
    },
    {
     "name": "stderr",
     "output_type": "stream",
     "text": [
      "/usr/local/lib/python3.5/dist-packages/sklearn/metrics/classification.py:1135: UndefinedMetricWarning: F-score is ill-defined and being set to 0.0 in labels with no predicted samples.\n",
      "  'precision', 'predicted', average, warn_for)\n",
      "/usr/local/lib/python3.5/dist-packages/sklearn/neural_network/multilayer_perceptron.py:564: ConvergenceWarning: Stochastic Optimizer: Maximum iterations (200) reached and the optimization hasn't converged yet.\n",
      "  % self.max_iter, ConvergenceWarning)\n"
     ]
    },
    {
     "name": "stdout",
     "output_type": "stream",
     "text": [
      "Took: 222.17445158958435\n",
      "--------------------------------------------------\n",
      "En: 450\tTr: 340\n",
      "Using first variation (Regressor and Classifier with score vectors)\n",
      "epoch 0:\t22.656117952876947\n",
      "epoch 10:\t22.48172387266056\n",
      "epoch 20:\t22.355008080624792\n",
      "epoch 30:\t22.19209852934335\n",
      "epoch 40:\t22.037459956454786\n",
      "epoch 50:\t21.90974524585821\n",
      "Using second variation (average of outputs produced by each set of weight matrices)\n",
      "Epoch 0: 2.2373589919709715\n",
      "Epoch 25: 0.00386504739797474\n",
      "Epoch 50: 0.0019194232475750125\n",
      "Epoch 75: 0.0012948828821167182\n",
      "Epoch 100: 0.0009836684316178901\n",
      "Epoch 125: 0.0007963675508417862\n",
      "Epoch 150: 0.000670895862768991\n",
      "W1 size 604\n",
      "W2 size 18\n",
      "W3 size 10\n",
      "Using well-known algorithms: Logistic Regression, RandomForest and MLP\n"
     ]
    },
    {
     "name": "stderr",
     "output_type": "stream",
     "text": [
      "/usr/local/lib/python3.5/dist-packages/sklearn/metrics/classification.py:1135: UndefinedMetricWarning: F-score is ill-defined and being set to 0.0 in labels with no predicted samples.\n",
      "  'precision', 'predicted', average, warn_for)\n",
      "/usr/local/lib/python3.5/dist-packages/sklearn/neural_network/multilayer_perceptron.py:564: ConvergenceWarning: Stochastic Optimizer: Maximum iterations (200) reached and the optimization hasn't converged yet.\n",
      "  % self.max_iter, ConvergenceWarning)\n"
     ]
    },
    {
     "name": "stdout",
     "output_type": "stream",
     "text": [
      "Took: 250.46323013305664\n",
      "--------------------------------------------------\n",
      "En: 450\tTr: 382\n",
      "Using first variation (Regressor and Classifier with score vectors)\n",
      "epoch 0:\t27.11462339118342\n",
      "epoch 10:\t26.74059846341292\n",
      "epoch 20:\t26.24451592038208\n",
      "epoch 30:\t25.818532640453792\n",
      "epoch 40:\t25.412827853614665\n",
      "epoch 50:\t25.06208184870101\n",
      "Using second variation (average of outputs produced by each set of weight matrices)\n",
      "Epoch 0: 3.0308555876712218\n",
      "Epoch 25: 0.005042952933096116\n",
      "Epoch 50: 0.0023907708649184398\n",
      "Epoch 75: 0.001614492449651813\n",
      "Epoch 100: 0.0012348317473780401\n",
      "Epoch 125: 0.0010071681404657529\n",
      "Epoch 150: 0.000854474176302219\n",
      "W1 size 631\n",
      "W2 size 18\n",
      "W3 size 10\n",
      "Using well-known algorithms: Logistic Regression, RandomForest and MLP\n"
     ]
    },
    {
     "name": "stderr",
     "output_type": "stream",
     "text": [
      "/usr/local/lib/python3.5/dist-packages/sklearn/metrics/classification.py:1135: UndefinedMetricWarning: F-score is ill-defined and being set to 0.0 in labels with no predicted samples.\n",
      "  'precision', 'predicted', average, warn_for)\n",
      "/usr/local/lib/python3.5/dist-packages/sklearn/neural_network/multilayer_perceptron.py:564: ConvergenceWarning: Stochastic Optimizer: Maximum iterations (200) reached and the optimization hasn't converged yet.\n",
      "  % self.max_iter, ConvergenceWarning)\n"
     ]
    },
    {
     "name": "stdout",
     "output_type": "stream",
     "text": [
      "Took: 241.7436363697052\n",
      "--------------------------------------------------\n",
      "En: 450\tTr: 425\n",
      "Using first variation (Regressor and Classifier with score vectors)\n",
      "epoch 0:\t29.96123084370932\n",
      "epoch 10:\t29.177883078887184\n",
      "epoch 20:\t28.648633934655503\n",
      "epoch 30:\t28.252158273151075\n",
      "epoch 40:\t27.84420470549037\n",
      "epoch 50:\t27.42278891641743\n",
      "Using second variation (average of outputs produced by each set of weight matrices)\n",
      "Epoch 0: 2.4027364698546547\n",
      "Epoch 25: 0.004415096327110291\n",
      "Epoch 50: 0.00206613686734363\n",
      "Epoch 75: 0.0013845561427982766\n",
      "Epoch 100: 0.0010527148309740174\n",
      "Epoch 125: 0.000854534322166111\n",
      "Epoch 150: 0.0007220682998398616\n",
      "W1 size 646\n",
      "W2 size 18\n",
      "W3 size 10\n",
      "Using well-known algorithms: Logistic Regression, RandomForest and MLP\n"
     ]
    },
    {
     "name": "stderr",
     "output_type": "stream",
     "text": [
      "/usr/local/lib/python3.5/dist-packages/sklearn/metrics/classification.py:1135: UndefinedMetricWarning: F-score is ill-defined and being set to 0.0 in labels with no predicted samples.\n",
      "  'precision', 'predicted', average, warn_for)\n",
      "/usr/local/lib/python3.5/dist-packages/sklearn/neural_network/multilayer_perceptron.py:564: ConvergenceWarning: Stochastic Optimizer: Maximum iterations (200) reached and the optimization hasn't converged yet.\n",
      "  % self.max_iter, ConvergenceWarning)\n"
     ]
    },
    {
     "name": "stdout",
     "output_type": "stream",
     "text": [
      "Took: 249.93228912353516\n",
      "--------------------------------------------------\n",
      "En: 500\tTr: 42\n",
      "Using first variation (Regressor and Classifier with score vectors)\n",
      "epoch 0:\t24.691179963396205\n",
      "epoch 10:\t24.504373280132192\n",
      "epoch 20:\t24.246808927424983\n",
      "epoch 30:\t23.8718489901505\n",
      "epoch 40:\t23.560548687234327\n",
      "epoch 50:\t23.302458171448997\n",
      "Using second variation (average of outputs produced by each set of weight matrices)\n",
      "Epoch 0: 2.3327661495120933\n",
      "Epoch 25: 0.005595348200389934\n",
      "Epoch 50: 0.0026473862096896873\n",
      "Epoch 75: 0.0017662414905599113\n",
      "Epoch 100: 0.0013364580492236393\n",
      "Epoch 125: 0.0010803155248513365\n",
      "Epoch 150: 0.000909618343700588\n",
      "W1 size 427\n",
      "W2 size 15\n",
      "W3 size 10\n",
      "Using well-known algorithms: Logistic Regression, RandomForest and MLP\n"
     ]
    },
    {
     "name": "stderr",
     "output_type": "stream",
     "text": [
      "/usr/local/lib/python3.5/dist-packages/sklearn/metrics/classification.py:1135: UndefinedMetricWarning: F-score is ill-defined and being set to 0.0 in labels with no predicted samples.\n",
      "  'precision', 'predicted', average, warn_for)\n",
      "/usr/local/lib/python3.5/dist-packages/sklearn/neural_network/multilayer_perceptron.py:564: ConvergenceWarning: Stochastic Optimizer: Maximum iterations (200) reached and the optimization hasn't converged yet.\n",
      "  % self.max_iter, ConvergenceWarning)\n"
     ]
    },
    {
     "name": "stdout",
     "output_type": "stream",
     "text": [
      "Took: 159.67580032348633\n",
      "--------------------------------------------------\n",
      "En: 500\tTr: 85\n",
      "Using first variation (Regressor and Classifier with score vectors)\n",
      "epoch 0:\t22.086197224863533\n",
      "epoch 10:\t21.840741364621064\n",
      "epoch 20:\t21.615066510672307\n",
      "epoch 30:\t21.47508697522766\n",
      "epoch 40:\t21.342038296510154\n",
      "epoch 50:\t21.214619602298505\n",
      "Using second variation (average of outputs produced by each set of weight matrices)\n",
      "Epoch 0: 4.274338222420591\n",
      "Epoch 25: 0.02841767219237242\n",
      "Epoch 50: 0.0053054759073207745\n",
      "Epoch 75: 0.003053431333839212\n",
      "Epoch 100: 0.0021981027051160163\n",
      "Epoch 125: 0.0017361542645043938\n",
      "Epoch 150: 0.0014436655824524639\n",
      "W1 size 465\n",
      "W2 size 18\n",
      "W3 size 10\n",
      "Using well-known algorithms: Logistic Regression, RandomForest and MLP\n"
     ]
    },
    {
     "name": "stderr",
     "output_type": "stream",
     "text": [
      "/usr/local/lib/python3.5/dist-packages/sklearn/metrics/classification.py:1135: UndefinedMetricWarning: F-score is ill-defined and being set to 0.0 in labels with no predicted samples.\n",
      "  'precision', 'predicted', average, warn_for)\n",
      "/usr/local/lib/python3.5/dist-packages/sklearn/neural_network/multilayer_perceptron.py:564: ConvergenceWarning: Stochastic Optimizer: Maximum iterations (200) reached and the optimization hasn't converged yet.\n",
      "  % self.max_iter, ConvergenceWarning)\n"
     ]
    },
    {
     "name": "stdout",
     "output_type": "stream",
     "text": [
      "Took: 181.96044182777405\n",
      "--------------------------------------------------\n",
      "En: 500\tTr: 128\n",
      "Using first variation (Regressor and Classifier with score vectors)\n",
      "epoch 0:\t20.736651837018904\n",
      "epoch 10:\t20.683669537273296\n",
      "epoch 20:\t20.250298041539946\n",
      "epoch 30:\t20.04550779779266\n",
      "epoch 40:\t19.924415564425395\n",
      "epoch 50:\t19.829191180801455\n",
      "Using second variation (average of outputs produced by each set of weight matrices)\n",
      "Epoch 0: 2.6095493896330852\n",
      "Epoch 25: 0.009916492591509769\n",
      "Epoch 50: 0.00281302800709408\n",
      "Epoch 75: 0.0017473973136971862\n",
      "Epoch 100: 0.0012884505904311293\n",
      "Epoch 125: 0.0010284507755874551\n",
      "Epoch 150: 0.0008596700531908582\n",
      "W1 size 499\n",
      "W2 size 18\n",
      "W3 size 10\n"
     ]
    },
    {
     "name": "stderr",
     "output_type": "stream",
     "text": [
      "/usr/local/lib/python3.5/dist-packages/sklearn/metrics/classification.py:1137: UndefinedMetricWarning: F-score is ill-defined and being set to 0.0 in labels with no true samples.\n",
      "  'recall', 'true', average, warn_for)\n"
     ]
    },
    {
     "name": "stdout",
     "output_type": "stream",
     "text": [
      "Using well-known algorithms: Logistic Regression, RandomForest and MLP\n"
     ]
    },
    {
     "name": "stderr",
     "output_type": "stream",
     "text": [
      "/usr/local/lib/python3.5/dist-packages/sklearn/metrics/classification.py:1135: UndefinedMetricWarning: F-score is ill-defined and being set to 0.0 in labels with no predicted samples.\n",
      "  'precision', 'predicted', average, warn_for)\n",
      "/usr/local/lib/python3.5/dist-packages/sklearn/neural_network/multilayer_perceptron.py:564: ConvergenceWarning: Stochastic Optimizer: Maximum iterations (200) reached and the optimization hasn't converged yet.\n",
      "  % self.max_iter, ConvergenceWarning)\n"
     ]
    },
    {
     "name": "stdout",
     "output_type": "stream",
     "text": [
      "Took: 194.04696917533875\n",
      "--------------------------------------------------\n",
      "En: 500\tTr: 170\n",
      "Using first variation (Regressor and Classifier with score vectors)\n",
      "epoch 0:\t23.498336132104544\n",
      "epoch 10:\t23.233466166866446\n",
      "epoch 20:\t23.12041133914946\n",
      "epoch 30:\t22.98058360571842\n",
      "epoch 40:\t22.857996611904703\n",
      "epoch 50:\t22.701730586753747\n",
      "Using second variation (average of outputs produced by each set of weight matrices)\n",
      "Epoch 0: 4.074866592431762\n",
      "Epoch 25: 0.013303865971974757\n",
      "Epoch 50: 0.003633374801212024\n",
      "Epoch 75: 0.0021427149001912067\n",
      "Epoch 100: 0.0015549962532482727\n",
      "Epoch 125: 0.0012328627292177642\n",
      "Epoch 150: 0.001027412426360519\n",
      "W1 size 530\n",
      "W2 size 18\n",
      "W3 size 10\n",
      "Using well-known algorithms: Logistic Regression, RandomForest and MLP\n"
     ]
    },
    {
     "name": "stderr",
     "output_type": "stream",
     "text": [
      "/usr/local/lib/python3.5/dist-packages/sklearn/metrics/classification.py:1135: UndefinedMetricWarning: F-score is ill-defined and being set to 0.0 in labels with no predicted samples.\n",
      "  'precision', 'predicted', average, warn_for)\n",
      "/usr/local/lib/python3.5/dist-packages/sklearn/neural_network/multilayer_perceptron.py:564: ConvergenceWarning: Stochastic Optimizer: Maximum iterations (200) reached and the optimization hasn't converged yet.\n",
      "  % self.max_iter, ConvergenceWarning)\n"
     ]
    },
    {
     "name": "stdout",
     "output_type": "stream",
     "text": [
      "Took: 190.48053216934204\n",
      "--------------------------------------------------\n",
      "En: 500\tTr: 212\n",
      "Using first variation (Regressor and Classifier with score vectors)\n",
      "epoch 0:\t21.478004849523966\n",
      "epoch 10:\t21.301686516500936\n",
      "epoch 20:\t21.13786563518885\n",
      "epoch 30:\t21.016012785766087\n",
      "epoch 40:\t20.898669529008572\n",
      "epoch 50:\t20.81566316400738\n",
      "Using second variation (average of outputs produced by each set of weight matrices)\n",
      "Epoch 0: 2.2289463284090054\n",
      "Epoch 25: 0.004668137972772525\n",
      "Epoch 50: 0.002298448752267414\n",
      "Epoch 75: 0.0015581014668969077\n",
      "Epoch 100: 0.0011897882981354887\n",
      "Epoch 125: 0.0009674909828384583\n",
      "Epoch 150: 0.0008179824855379424\n",
      "W1 size 561\n",
      "W2 size 18\n",
      "W3 size 10\n",
      "Using well-known algorithms: Logistic Regression, RandomForest and MLP\n"
     ]
    },
    {
     "name": "stderr",
     "output_type": "stream",
     "text": [
      "/usr/local/lib/python3.5/dist-packages/sklearn/metrics/classification.py:1135: UndefinedMetricWarning: F-score is ill-defined and being set to 0.0 in labels with no predicted samples.\n",
      "  'precision', 'predicted', average, warn_for)\n",
      "/usr/local/lib/python3.5/dist-packages/sklearn/neural_network/multilayer_perceptron.py:564: ConvergenceWarning: Stochastic Optimizer: Maximum iterations (200) reached and the optimization hasn't converged yet.\n",
      "  % self.max_iter, ConvergenceWarning)\n"
     ]
    },
    {
     "name": "stdout",
     "output_type": "stream",
     "text": [
      "Took: 224.09056210517883\n",
      "--------------------------------------------------\n",
      "En: 500\tTr: 255\n",
      "Using first variation (Regressor and Classifier with score vectors)\n",
      "epoch 0:\t28.84394600785192\n",
      "epoch 10:\t28.399681790633633\n",
      "epoch 20:\t27.737490566183915\n",
      "epoch 30:\t27.10507437302485\n",
      "epoch 40:\t26.52072981124025\n",
      "epoch 50:\t25.98157804509744\n",
      "Using second variation (average of outputs produced by each set of weight matrices)\n",
      "Epoch 0: 1.9798834579583673\n",
      "Epoch 25: 0.004088954296828087\n",
      "Epoch 50: 0.0019138628993328858\n",
      "Epoch 75: 0.0012744673887577214\n",
      "Epoch 100: 0.0009633412020543078\n",
      "Epoch 125: 0.000778055747365676\n",
      "Epoch 150: 0.0006546279148040334\n",
      "W1 size 586\n",
      "W2 size 18\n",
      "W3 size 10\n",
      "Using well-known algorithms: Logistic Regression, RandomForest and MLP\n"
     ]
    },
    {
     "name": "stderr",
     "output_type": "stream",
     "text": [
      "/usr/local/lib/python3.5/dist-packages/sklearn/metrics/classification.py:1135: UndefinedMetricWarning: F-score is ill-defined and being set to 0.0 in labels with no predicted samples.\n",
      "  'precision', 'predicted', average, warn_for)\n",
      "/usr/local/lib/python3.5/dist-packages/sklearn/neural_network/multilayer_perceptron.py:564: ConvergenceWarning: Stochastic Optimizer: Maximum iterations (200) reached and the optimization hasn't converged yet.\n",
      "  % self.max_iter, ConvergenceWarning)\n"
     ]
    },
    {
     "name": "stdout",
     "output_type": "stream",
     "text": [
      "Took: 230.02452993392944\n",
      "--------------------------------------------------\n",
      "En: 500\tTr: 298\n",
      "Using first variation (Regressor and Classifier with score vectors)\n",
      "epoch 0:\t23.431195739352127\n",
      "epoch 10:\t22.899024166614158\n",
      "epoch 20:\t22.55955152577332\n",
      "epoch 30:\t22.22907706695158\n",
      "epoch 40:\t21.98786451015361\n",
      "epoch 50:\t21.807321073733466\n",
      "Using second variation (average of outputs produced by each set of weight matrices)\n",
      "Epoch 0: 1.8170734668756428\n",
      "Epoch 25: 0.004043914323731156\n",
      "Epoch 50: 0.002007730943150824\n",
      "Epoch 75: 0.0013646301857151751\n",
      "Epoch 100: 0.001044120683288374\n",
      "Epoch 125: 0.000850583626379817\n",
      "Epoch 150: 0.0007204123145688731\n",
      "W1 size 616\n",
      "W2 size 18\n",
      "W3 size 10\n",
      "Using well-known algorithms: Logistic Regression, RandomForest and MLP\n"
     ]
    },
    {
     "name": "stderr",
     "output_type": "stream",
     "text": [
      "/usr/local/lib/python3.5/dist-packages/sklearn/metrics/classification.py:1135: UndefinedMetricWarning: F-score is ill-defined and being set to 0.0 in labels with no predicted samples.\n",
      "  'precision', 'predicted', average, warn_for)\n",
      "/usr/local/lib/python3.5/dist-packages/sklearn/neural_network/multilayer_perceptron.py:564: ConvergenceWarning: Stochastic Optimizer: Maximum iterations (200) reached and the optimization hasn't converged yet.\n",
      "  % self.max_iter, ConvergenceWarning)\n"
     ]
    },
    {
     "name": "stdout",
     "output_type": "stream",
     "text": [
      "Took: 232.98834609985352\n",
      "--------------------------------------------------\n",
      "En: 500\tTr: 340\n",
      "Using first variation (Regressor and Classifier with score vectors)\n",
      "epoch 0:\t21.76984627213189\n",
      "epoch 10:\t21.69890283680141\n",
      "epoch 20:\t21.595166386946175\n",
      "epoch 30:\t21.467118852844514\n",
      "epoch 40:\t21.350110314522293\n",
      "epoch 50:\t21.238933812204234\n",
      "Using second variation (average of outputs produced by each set of weight matrices)\n",
      "Epoch 0: 2.507636273993525\n",
      "Epoch 25: 0.004438680281936667\n",
      "Epoch 50: 0.0021920964462454422\n",
      "Epoch 75: 0.0014975030559903975\n",
      "Epoch 100: 0.0011508384328448378\n",
      "Epoch 125: 0.0009406804399366497\n",
      "Epoch 150: 0.0007987729978308116\n",
      "W1 size 641\n",
      "W2 size 18\n",
      "W3 size 10\n",
      "Using well-known algorithms: Logistic Regression, RandomForest and MLP\n"
     ]
    },
    {
     "name": "stderr",
     "output_type": "stream",
     "text": [
      "/usr/local/lib/python3.5/dist-packages/sklearn/metrics/classification.py:1135: UndefinedMetricWarning: F-score is ill-defined and being set to 0.0 in labels with no predicted samples.\n",
      "  'precision', 'predicted', average, warn_for)\n",
      "/usr/local/lib/python3.5/dist-packages/sklearn/neural_network/multilayer_perceptron.py:564: ConvergenceWarning: Stochastic Optimizer: Maximum iterations (200) reached and the optimization hasn't converged yet.\n",
      "  % self.max_iter, ConvergenceWarning)\n"
     ]
    },
    {
     "name": "stdout",
     "output_type": "stream",
     "text": [
      "Took: 228.5740261077881\n",
      "--------------------------------------------------\n",
      "En: 500\tTr: 382\n",
      "Using first variation (Regressor and Classifier with score vectors)\n",
      "epoch 0:\t21.253572671476206\n",
      "epoch 10:\t21.195479743429267\n",
      "epoch 20:\t21.088661378096884\n",
      "epoch 30:\t20.994089357160455\n",
      "epoch 40:\t20.933708169147856\n",
      "epoch 50:\t20.87601202950813\n",
      "Using second variation (average of outputs produced by each set of weight matrices)\n",
      "Epoch 0: 2.1389825170375754\n",
      "Epoch 25: 0.003813615958058831\n",
      "Epoch 50: 0.0018621763778172123\n",
      "Epoch 75: 0.0012514511629331572\n",
      "Epoch 100: 0.0009486909528071488\n",
      "Epoch 125: 0.0007668263424423952\n",
      "Epoch 150: 0.0006451128522362338\n",
      "W1 size 652\n",
      "W2 size 18\n",
      "W3 size 10\n",
      "Using well-known algorithms: Logistic Regression, RandomForest and MLP\n"
     ]
    },
    {
     "name": "stderr",
     "output_type": "stream",
     "text": [
      "/usr/local/lib/python3.5/dist-packages/sklearn/metrics/classification.py:1135: UndefinedMetricWarning: F-score is ill-defined and being set to 0.0 in labels with no predicted samples.\n",
      "  'precision', 'predicted', average, warn_for)\n",
      "/usr/local/lib/python3.5/dist-packages/sklearn/neural_network/multilayer_perceptron.py:564: ConvergenceWarning: Stochastic Optimizer: Maximum iterations (200) reached and the optimization hasn't converged yet.\n",
      "  % self.max_iter, ConvergenceWarning)\n"
     ]
    },
    {
     "name": "stdout",
     "output_type": "stream",
     "text": [
      "Took: 247.22057175636292\n",
      "--------------------------------------------------\n",
      "En: 500\tTr: 425\n",
      "Using first variation (Regressor and Classifier with score vectors)\n",
      "epoch 0:\t24.232132378668226\n",
      "epoch 10:\t23.85527773362982\n",
      "epoch 20:\t23.330518937618347\n",
      "epoch 30:\t22.997198813177363\n",
      "epoch 40:\t22.694737047970026\n",
      "epoch 50:\t22.43616833897214\n",
      "Using second variation (average of outputs produced by each set of weight matrices)\n",
      "Epoch 0: 1.7484809679874602\n",
      "Epoch 25: 0.004470524954066777\n",
      "Epoch 50: 0.0020445942309528175\n",
      "Epoch 75: 0.0013601829879409607\n",
      "Epoch 100: 0.0010305221883511976\n",
      "Epoch 125: 0.0008347183881057783\n",
      "Epoch 150: 0.0007042807350330805\n",
      "W1 size 675\n",
      "W2 size 18\n",
      "W3 size 10\n",
      "Using well-known algorithms: Logistic Regression, RandomForest and MLP\n"
     ]
    },
    {
     "name": "stderr",
     "output_type": "stream",
     "text": [
      "/usr/local/lib/python3.5/dist-packages/sklearn/metrics/classification.py:1135: UndefinedMetricWarning: F-score is ill-defined and being set to 0.0 in labels with no predicted samples.\n",
      "  'precision', 'predicted', average, warn_for)\n"
     ]
    },
    {
     "name": "stdout",
     "output_type": "stream",
     "text": [
      "Took: 272.48110246658325\n",
      "--------------------------------------------------\n"
     ]
    },
    {
     "name": "stderr",
     "output_type": "stream",
     "text": [
      "/usr/local/lib/python3.5/dist-packages/sklearn/neural_network/multilayer_perceptron.py:564: ConvergenceWarning: Stochastic Optimizer: Maximum iterations (200) reached and the optimization hasn't converged yet.\n",
      "  % self.max_iter, ConvergenceWarning)\n"
     ]
    }
   ],
   "source": [
    "robustness = robustness_test(df, tronly_test_raw)\n",
    "pickle.dump(robustness, open(\"../results/robustness.results\", \"wb\"))"
   ]
  },
  {
   "cell_type": "markdown",
   "metadata": {},
   "source": [
    "# grouping labels\n",
    "### label = 3   if review_score > 7\n",
    "### label = 2   if 7 >= review_score >= 4\n",
    "### label = 1  if review_score < 4"
   ]
  },
  {
   "cell_type": "code",
   "execution_count": 51,
   "metadata": {},
   "outputs": [],
   "source": [
    "def group_labels(x):\n",
    "    if x>7:\n",
    "        return 3\n",
    "    elif x>=4:\n",
    "        return 2\n",
    "    return 1"
   ]
  },
  {
   "cell_type": "code",
   "execution_count": 52,
   "metadata": {},
   "outputs": [
    {
     "data": {
      "text/html": [
       "<div>\n",
       "<style scoped>\n",
       "    .dataframe tbody tr th:only-of-type {\n",
       "        vertical-align: middle;\n",
       "    }\n",
       "\n",
       "    .dataframe tbody tr th {\n",
       "        vertical-align: top;\n",
       "    }\n",
       "\n",
       "    .dataframe thead th {\n",
       "        text-align: right;\n",
       "    }\n",
       "</style>\n",
       "<table border=\"1\" class=\"dataframe\">\n",
       "  <thead>\n",
       "    <tr style=\"text-align: right;\">\n",
       "      <th></th>\n",
       "      <th>Language</th>\n",
       "      <th>Movie_ID</th>\n",
       "      <th>Review</th>\n",
       "    </tr>\n",
       "    <tr>\n",
       "      <th>Score</th>\n",
       "      <th></th>\n",
       "      <th></th>\n",
       "      <th></th>\n",
       "    </tr>\n",
       "  </thead>\n",
       "  <tbody>\n",
       "    <tr>\n",
       "      <th>1</th>\n",
       "      <td>64</td>\n",
       "      <td>64</td>\n",
       "      <td>64</td>\n",
       "    </tr>\n",
       "    <tr>\n",
       "      <th>2</th>\n",
       "      <td>220</td>\n",
       "      <td>220</td>\n",
       "      <td>220</td>\n",
       "    </tr>\n",
       "    <tr>\n",
       "      <th>3</th>\n",
       "      <td>716</td>\n",
       "      <td>716</td>\n",
       "      <td>716</td>\n",
       "    </tr>\n",
       "  </tbody>\n",
       "</table>\n",
       "</div>"
      ],
      "text/plain": [
       "       Language  Movie_ID  Review\n",
       "Score                            \n",
       "1            64        64      64\n",
       "2           220       220     220\n",
       "3           716       716     716"
      ]
     },
     "execution_count": 52,
     "metadata": {},
     "output_type": "execute_result"
    }
   ],
   "source": [
    "df_full_tri = deepcopy(df_full)\n",
    "df_full_tri[\"Score\"] = df_full_tri.Score.apply(group_labels)\n",
    "df_full_tri.groupby(\"Score\").count()"
   ]
  },
  {
   "cell_type": "code",
   "execution_count": 53,
   "metadata": {},
   "outputs": [
    {
     "data": {
      "text/plain": [
       "Language    0\n",
       "Movie_ID    0\n",
       "Score       0\n",
       "rev_vec     0\n",
       "dtype: int64"
      ]
     },
     "execution_count": 53,
     "metadata": {},
     "output_type": "execute_result"
    }
   ],
   "source": [
    "tr_tri_test_indices = get_separate_test_indices(df_full_tri)\n",
    "\n",
    "tronly_test_raw_tri = df_full_tri.loc[tr_tri_test_indices]\n",
    "tronly_test_tri = preprocess_data(tronly_test_raw_tri)\n",
    "tronly_test_tri[tronly_test_tri.Language==\"en\"].count()"
   ]
  },
  {
   "cell_type": "code",
   "execution_count": 54,
   "metadata": {},
   "outputs": [
    {
     "data": {
      "text/html": [
       "<div>\n",
       "<style scoped>\n",
       "    .dataframe tbody tr th:only-of-type {\n",
       "        vertical-align: middle;\n",
       "    }\n",
       "\n",
       "    .dataframe tbody tr th {\n",
       "        vertical-align: top;\n",
       "    }\n",
       "\n",
       "    .dataframe thead th {\n",
       "        text-align: right;\n",
       "    }\n",
       "</style>\n",
       "<table border=\"1\" class=\"dataframe\">\n",
       "  <thead>\n",
       "    <tr style=\"text-align: right;\">\n",
       "      <th></th>\n",
       "      <th>Language</th>\n",
       "      <th>Movie_ID</th>\n",
       "      <th>Review</th>\n",
       "    </tr>\n",
       "    <tr>\n",
       "      <th>Score</th>\n",
       "      <th></th>\n",
       "      <th></th>\n",
       "      <th></th>\n",
       "    </tr>\n",
       "  </thead>\n",
       "  <tbody>\n",
       "    <tr>\n",
       "      <th>1</th>\n",
       "      <td>46</td>\n",
       "      <td>46</td>\n",
       "      <td>46</td>\n",
       "    </tr>\n",
       "    <tr>\n",
       "      <th>2</th>\n",
       "      <td>193</td>\n",
       "      <td>193</td>\n",
       "      <td>193</td>\n",
       "    </tr>\n",
       "    <tr>\n",
       "      <th>3</th>\n",
       "      <td>686</td>\n",
       "      <td>686</td>\n",
       "      <td>686</td>\n",
       "    </tr>\n",
       "  </tbody>\n",
       "</table>\n",
       "</div>"
      ],
      "text/plain": [
       "       Language  Movie_ID  Review\n",
       "Score                            \n",
       "1            46        46      46\n",
       "2           193       193     193\n",
       "3           686       686     686"
      ]
     },
     "execution_count": 54,
     "metadata": {},
     "output_type": "execute_result"
    }
   ],
   "source": [
    "df_tri = df_full_tri.drop(tr_tri_test_indices)\n",
    "df_tri.groupby(\"Score\").count()"
   ]
  },
  {
   "cell_type": "code",
   "execution_count": 55,
   "metadata": {
    "scrolled": true
   },
   "outputs": [
    {
     "name": "stdout",
     "output_type": "stream",
     "text": [
      "Trial:\t1\n",
      "K:\t1\n",
      "epoch 0:\t20.718364773349318\n",
      "epoch 10:\t20.38550746253965\n",
      "epoch 20:\t20.338702648861954\n",
      "epoch 30:\t20.215794532591975\n",
      "epoch 40:\t20.085571056721765\n",
      "epoch 50:\t19.951271865752815\n"
     ]
    },
    {
     "name": "stderr",
     "output_type": "stream",
     "text": [
      "/usr/local/lib/python3.5/dist-packages/sklearn/metrics/classification.py:1135: UndefinedMetricWarning: F-score is ill-defined and being set to 0.0 in labels with no predicted samples.\n",
      "  'precision', 'predicted', average, warn_for)\n",
      "/usr/local/lib/python3.5/dist-packages/sklearn/metrics/classification.py:1135: UndefinedMetricWarning: F-score is ill-defined and being set to 0.0 in labels with no predicted samples.\n",
      "  'precision', 'predicted', average, warn_for)\n"
     ]
    },
    {
     "name": "stdout",
     "output_type": "stream",
     "text": [
      "\n",
      "K:\t1\n",
      "                DeepSelect       MLP  Logistic Regression  RandomForest\n",
      "F1 Test           0.166667  0.650281             0.632019      0.648394\n",
      "F1 Tr. only       0.166667  0.208791             0.166667      0.210446\n",
      "F1 Train          0.631551       NaN                  NaN           NaN\n",
      "Pred.Tra. Time    1.746940       NaN                  NaN           NaN\n",
      "Test              0.903226  0.903226             0.903226      0.874552\n",
      "Testing Time      0.009262  0.000287             0.000151      0.103292\n",
      "Tr. Only          0.666667  0.686869             0.666667      0.680135\n",
      "Tr.Test Time      0.015023  0.000285             0.000130      0.105254\n",
      "Train             0.896635       NaN                  NaN           NaN\n",
      "Training Time    13.393996  0.496128             0.057576      0.111610\n",
      "\n",
      "This fold took: 15.36376142501831 seconds\n",
      "\n",
      "**********\n",
      "\n",
      "K:\t2\n",
      "epoch 0:\t20.372812676665088\n",
      "epoch 10:\t19.76452811105361\n",
      "epoch 20:\t19.555187235853193\n",
      "epoch 30:\t19.26816104670939\n",
      "epoch 40:\t19.00539586203371\n",
      "epoch 50:\t18.762136238469953\n"
     ]
    },
    {
     "name": "stderr",
     "output_type": "stream",
     "text": [
      "/usr/local/lib/python3.5/dist-packages/sklearn/metrics/classification.py:1135: UndefinedMetricWarning: F-score is ill-defined and being set to 0.0 in labels with no predicted samples.\n",
      "  'precision', 'predicted', average, warn_for)\n"
     ]
    },
    {
     "name": "stdout",
     "output_type": "stream",
     "text": [
      "\n",
      "K:\t2\n",
      "                DeepSelect       MLP  Logistic Regression  RandomForest\n",
      "F1 Test           0.166667  0.582091             0.533333      0.603629\n",
      "F1 Tr. only       0.166667  0.187547             0.166667      0.198209\n",
      "F1 Train          0.642857       NaN                  NaN           NaN\n",
      "Pred.Tra. Time    1.664287       NaN                  NaN           NaN\n",
      "Test              0.863799  0.874552             0.863799      0.867384\n",
      "Testing Time      0.008765  0.000339             0.000148      0.103173\n",
      "Tr. Only          0.666667  0.670034             0.666667      0.673401\n",
      "Tr.Test Time      0.013004  0.000291             0.000123      0.108889\n",
      "Train             0.901042       NaN                  NaN           NaN\n",
      "Training Time    10.888238  0.704684             0.055434      0.110970\n",
      "\n",
      "This fold took: 12.797622442245483 seconds\n",
      "\n",
      "**********\n",
      "\n",
      "K:\t3\n",
      "epoch 0:\t21.100234276326542\n",
      "epoch 10:\t20.912934057089487\n",
      "epoch 20:\t20.57607062887099\n",
      "epoch 30:\t20.252583327905246\n",
      "epoch 40:\t19.964501782795764\n",
      "epoch 50:\t19.68908164812994\n"
     ]
    },
    {
     "name": "stderr",
     "output_type": "stream",
     "text": [
      "/usr/local/lib/python3.5/dist-packages/sklearn/metrics/classification.py:1135: UndefinedMetricWarning: F-score is ill-defined and being set to 0.0 in labels with no predicted samples.\n",
      "  'precision', 'predicted', average, warn_for)\n"
     ]
    },
    {
     "name": "stdout",
     "output_type": "stream",
     "text": [
      "\n",
      "K:\t3\n",
      "                DeepSelect       MLP  Logistic Regression  RandomForest\n",
      "F1 Test           0.166667  0.613528             0.589166      0.662065\n",
      "F1 Tr. only       0.166667  0.207326             0.166667      0.203067\n",
      "F1 Train          0.636390       NaN                  NaN           NaN\n",
      "Pred.Tra. Time    1.675176       NaN                  NaN           NaN\n",
      "Test              0.885305  0.874552             0.885305      0.892473\n",
      "Testing Time      0.008813  0.000312             0.000162      0.105098\n",
      "Tr. Only          0.666667  0.673401             0.666667      0.676768\n",
      "Tr.Test Time      0.013170  0.000297             0.000131      0.105031\n",
      "Train             0.898638       NaN                  NaN           NaN\n",
      "Training Time    11.143949  0.672318             0.052711      0.111346\n",
      "\n",
      "This fold took: 13.05315637588501 seconds\n",
      "\n",
      "**********\n",
      "\n",
      "K:\t4\n",
      "epoch 0:\t25.20526671663644\n",
      "epoch 10:\t24.802346365698014\n",
      "epoch 20:\t24.168307575465324\n",
      "epoch 30:\t23.697143166793484\n",
      "epoch 40:\t23.337777431635335\n",
      "epoch 50:\t23.044276261780215\n"
     ]
    },
    {
     "name": "stderr",
     "output_type": "stream",
     "text": [
      "/usr/local/lib/python3.5/dist-packages/sklearn/metrics/classification.py:1135: UndefinedMetricWarning: F-score is ill-defined and being set to 0.0 in labels with no predicted samples.\n",
      "  'precision', 'predicted', average, warn_for)\n"
     ]
    },
    {
     "name": "stdout",
     "output_type": "stream",
     "text": [
      "\n",
      "K:\t4\n",
      "                DeepSelect       MLP  Logistic Regression  RandomForest\n",
      "F1 Test           0.166667  0.605438             0.617645      0.649891\n",
      "F1 Tr. only       0.166667  0.166667             0.166667      0.184117\n",
      "F1 Train          0.633163       NaN                  NaN           NaN\n",
      "Pred.Tra. Time    1.735273       NaN                  NaN           NaN\n",
      "Test              0.888889  0.881720             0.888889      0.885305\n",
      "Testing Time      0.008725  0.000294             0.000165      0.105236\n",
      "Tr. Only          0.666667  0.666667             0.666667      0.663300\n",
      "Tr.Test Time      0.014581  0.000293             0.000122      0.109805\n",
      "Train             0.898237       NaN                  NaN           NaN\n",
      "Training Time    11.477234  1.282843             0.052920      0.111192\n",
      "\n",
      "This fold took: 13.445816278457642 seconds\n",
      "\n",
      "**********\n",
      "\n",
      "K:\t5\n",
      "epoch 0:\t20.753501642498463\n",
      "epoch 10:\t20.40112284917092\n",
      "epoch 20:\t20.148265915942847\n",
      "epoch 30:\t19.92984157293701\n",
      "epoch 40:\t19.747601473296104\n",
      "epoch 50:\t19.562296729820293\n"
     ]
    },
    {
     "name": "stderr",
     "output_type": "stream",
     "text": [
      "/usr/local/lib/python3.5/dist-packages/sklearn/metrics/classification.py:1135: UndefinedMetricWarning: F-score is ill-defined and being set to 0.0 in labels with no predicted samples.\n",
      "  'precision', 'predicted', average, warn_for)\n"
     ]
    },
    {
     "name": "stdout",
     "output_type": "stream",
     "text": [
      "\n",
      "K:\t5\n",
      "                DeepSelect       MLP  Logistic Regression  RandomForest\n",
      "F1 Test           0.166667  0.700978             0.675660      0.652465\n",
      "F1 Tr. only       0.166667  0.207326             0.166667      0.217148\n",
      "F1 Train          0.626722       NaN                  NaN           NaN\n",
      "Pred.Tra. Time    1.701311       NaN                  NaN           NaN\n",
      "Test              0.910394  0.906810             0.910394      0.896057\n",
      "Testing Time      0.008791  0.000299             0.000168      0.103095\n",
      "Tr. Only          0.666667  0.673401             0.666667      0.696970\n",
      "Tr.Test Time      0.043018  0.000288             0.000127      0.105301\n",
      "Train             0.895833       NaN                  NaN           NaN\n",
      "Training Time    11.673537  1.033404             0.058912      0.110742\n",
      "\n",
      "This fold took: 13.625702381134033 seconds\n",
      "\n",
      "**********\n",
      "\n",
      "K:\t6\n",
      "epoch 0:\t22.335996699007737\n",
      "epoch 10:\t22.143420005985252\n",
      "epoch 20:\t21.943038335203838\n",
      "epoch 30:\t21.754337401599503\n",
      "epoch 40:\t21.586820968528702\n",
      "epoch 50:\t21.448065532027258\n"
     ]
    },
    {
     "name": "stderr",
     "output_type": "stream",
     "text": [
      "/usr/local/lib/python3.5/dist-packages/sklearn/metrics/classification.py:1135: UndefinedMetricWarning: F-score is ill-defined and being set to 0.0 in labels with no predicted samples.\n",
      "  'precision', 'predicted', average, warn_for)\n"
     ]
    },
    {
     "name": "stdout",
     "output_type": "stream",
     "text": [
      "\n",
      "K:\t6\n",
      "                DeepSelect       MLP  Logistic Regression  RandomForest\n",
      "F1 Test           0.166667  0.645295             0.609562      0.663354\n",
      "F1 Tr. only       0.166667  0.207326             0.166667      0.188303\n",
      "F1 Train          0.636801       NaN                  NaN           NaN\n",
      "Pred.Tra. Time    1.792153       NaN                  NaN           NaN\n",
      "Test              0.884058  0.884058             0.887681      0.884058\n",
      "Testing Time      0.013348  0.000337             0.000199      0.103182\n",
      "Tr. Only          0.666667  0.673401             0.666667      0.686869\n",
      "Tr.Test Time      0.020345  0.000335             0.000130      0.104935\n",
      "Train             0.898760       NaN                  NaN           NaN\n",
      "Training Time    13.793758  1.020784             0.060614      0.111139\n",
      "\n",
      "This fold took: 15.85998821258545 seconds\n",
      "\n",
      "**********\n",
      "\n",
      "K:\t7\n",
      "epoch 0:\t22.25324345998575\n",
      "epoch 10:\t21.992842894150304\n",
      "epoch 20:\t21.8323268225698\n",
      "epoch 30:\t21.672284122154736\n",
      "epoch 40:\t21.512279873831535\n",
      "epoch 50:\t21.352107862233115\n"
     ]
    },
    {
     "name": "stderr",
     "output_type": "stream",
     "text": [
      "/usr/local/lib/python3.5/dist-packages/sklearn/metrics/classification.py:1135: UndefinedMetricWarning: F-score is ill-defined and being set to 0.0 in labels with no predicted samples.\n",
      "  'precision', 'predicted', average, warn_for)\n"
     ]
    },
    {
     "name": "stdout",
     "output_type": "stream",
     "text": [
      "\n",
      "K:\t7\n",
      "                DeepSelect       MLP  Logistic Regression  RandomForest\n",
      "F1 Test           0.166667  0.669921             0.657542      0.733283\n",
      "F1 Tr. only       0.166667  0.186406             0.166667      0.181115\n",
      "F1 Train          0.628750       NaN                  NaN           NaN\n",
      "Pred.Tra. Time    2.041655       NaN                  NaN           NaN\n",
      "Test              0.909420  0.898551             0.909420      0.909420\n",
      "Testing Time      0.011811  0.000333             0.000231      0.105557\n",
      "Tr. Only          0.666667  0.680135             0.666667      0.673401\n",
      "Tr.Test Time      0.013267  0.000308             0.000128      0.105155\n",
      "Train             0.895958       NaN                  NaN           NaN\n",
      "Training Time    11.621789  0.827857             0.060311      0.111532\n",
      "\n",
      "This fold took: 14.015637159347534 seconds\n",
      "\n",
      "**********\n",
      "\n",
      "K:\t8\n",
      "epoch 0:\t22.986787304226315\n",
      "epoch 10:\t22.96783029427146\n",
      "epoch 20:\t22.62275445548249\n",
      "epoch 30:\t22.31779700712497\n",
      "epoch 40:\t22.098822404892413\n",
      "epoch 50:\t21.935147113204536\n"
     ]
    },
    {
     "name": "stderr",
     "output_type": "stream",
     "text": [
      "/usr/local/lib/python3.5/dist-packages/sklearn/metrics/classification.py:1135: UndefinedMetricWarning: F-score is ill-defined and being set to 0.0 in labels with no predicted samples.\n",
      "  'precision', 'predicted', average, warn_for)\n"
     ]
    },
    {
     "name": "stdout",
     "output_type": "stream",
     "text": [
      "\n",
      "K:\t8\n",
      "                DeepSelect       MLP  Logistic Regression  RandomForest\n",
      "F1 Test           0.166667  0.703118             0.717129      0.703806\n",
      "F1 Tr. only       0.166667  0.166667             0.166667      0.182927\n",
      "F1 Train          0.622329       NaN                  NaN           NaN\n",
      "Pred.Tra. Time    2.146744       NaN                  NaN           NaN\n",
      "Test              0.927536  0.909420             0.927536      0.905797\n",
      "Testing Time      0.008819  0.000427             0.000271      0.101978\n",
      "Tr. Only          0.666667  0.666667             0.666667      0.680135\n",
      "Tr.Test Time      0.019070  0.000433             0.000104      0.102628\n",
      "Train             0.893958       NaN                  NaN           NaN\n",
      "Training Time    11.942627  1.641979             0.095596      0.109195\n",
      "\n",
      "This fold took: 14.357232809066772 seconds\n",
      "\n",
      "**********\n",
      "\n",
      "K:\t9\n",
      "epoch 0:\t20.62122102142833\n",
      "epoch 10:\t20.65986344006847\n",
      "epoch 20:\t20.496337207415863\n",
      "epoch 30:\t20.351596573728255\n",
      "epoch 40:\t20.21391590200612\n",
      "epoch 50:\t20.074812220014852\n"
     ]
    },
    {
     "name": "stderr",
     "output_type": "stream",
     "text": [
      "/usr/local/lib/python3.5/dist-packages/sklearn/metrics/classification.py:1135: UndefinedMetricWarning: F-score is ill-defined and being set to 0.0 in labels with no predicted samples.\n",
      "  'precision', 'predicted', average, warn_for)\n"
     ]
    },
    {
     "name": "stdout",
     "output_type": "stream",
     "text": [
      "\n",
      "K:\t9\n",
      "                DeepSelect       MLP  Logistic Regression  RandomForest\n",
      "F1 Test           0.166667  0.662960             0.608420      0.592142\n",
      "F1 Tr. only       0.166667  0.208791             0.166667      0.212045\n",
      "F1 Train          0.633577       NaN                  NaN           NaN\n",
      "Pred.Tra. Time    1.789888       NaN                  NaN           NaN\n",
      "Test              0.880435  0.884058             0.876812      0.847826\n",
      "Testing Time      0.008938  0.000332             0.000217      0.103046\n",
      "Tr. Only          0.666667  0.686869             0.666667      0.693603\n",
      "Tr.Test Time      0.013258  0.000300             0.000124      0.105238\n",
      "Train             0.899160       NaN                  NaN           NaN\n",
      "Training Time    12.055574  0.793447             0.055322      0.111056\n",
      "\n",
      "This fold took: 14.057385444641113 seconds\n",
      "\n",
      "**********\n",
      "\n",
      "K:\t10\n",
      "epoch 0:\t20.512011650724705\n",
      "epoch 10:\t20.071439447274173\n",
      "epoch 20:\t19.87600472599945\n",
      "epoch 30:\t19.71451899041192\n",
      "epoch 40:\t19.585129490451976\n",
      "epoch 50:\t19.48076728180141\n",
      "\n",
      "K:\t10\n",
      "                DeepSelect       MLP  Logistic Regression  RandomForest\n",
      "F1 Test           0.166667  0.753901             0.702108      0.744423\n",
      "F1 Tr. only       0.166667  0.171875             0.166667      0.203857\n",
      "F1 Train          0.623933       NaN                  NaN           NaN\n",
      "Pred.Tra. Time    1.813389       NaN                  NaN           NaN\n",
      "Test              0.920290  0.923913             0.920290      0.909420\n",
      "Testing Time      0.008801  0.000334             0.000205      0.103195\n",
      "Tr. Only          0.666667  0.680135             0.666667      0.656566\n",
      "Tr.Test Time      0.013312  0.000306             0.000130      0.105500\n",
      "Train             0.894758       NaN                  NaN           NaN\n",
      "Training Time    12.390928  0.959802             0.058819      0.111213\n",
      "\n",
      "This fold took: 14.42986011505127 seconds\n",
      "\n",
      "**********\n",
      "\n",
      "Average scores for trial 0\n",
      "                DeepSelect  Logistic Regression       MLP  RandomForest\n",
      "F1 Test           0.166667             0.634259  0.658751      0.665345\n",
      "F1 Tr. only       0.166667             0.166667  0.191872      0.198123\n",
      "F1 Train          0.631607                  NaN       NaN           NaN\n",
      "Pred.Tra. Time    1.810682                  NaN       NaN           NaN\n",
      "Test              0.897335             0.897335  0.894086      0.887229\n",
      "Testing Time      0.009607             0.000192  0.000329      0.103685\n",
      "Tr. Only          0.666667             0.666667  0.675758      0.678114\n",
      "Tr.Test Time      0.017805             0.000125  0.000314      0.105774\n",
      "Train             0.897298                  NaN       NaN           NaN\n",
      "Training Time    12.038163             0.060822  0.943325      0.111000\n",
      "------------------------------\n",
      "%%%%%%%%%%%%%%%%%%%%%%%%%%%%%%%%%%%%%%%%\n",
      "Average of 1 trials\n",
      "                DeepSelect  Logistic Regression       MLP  RandomForest\n",
      "F1 Test           0.166667             0.634259  0.658751      0.665345\n",
      "F1 Tr. only       0.166667             0.166667  0.191872      0.198123\n",
      "F1 Train          0.631607                  NaN       NaN           NaN\n",
      "Pred.Tra. Time    1.810682                  NaN       NaN           NaN\n",
      "Test              0.897335             0.897335  0.894086      0.887229\n",
      "Testing Time      0.009607             0.000192  0.000329      0.103685\n",
      "Tr. Only          0.666667             0.666667  0.675758      0.678114\n",
      "Tr.Test Time      0.017805             0.000125  0.000314      0.105774\n",
      "Train             0.897298                  NaN       NaN           NaN\n",
      "Training Time    12.038163             0.060822  0.943325      0.111000\n"
     ]
    },
    {
     "name": "stderr",
     "output_type": "stream",
     "text": [
      "/usr/local/lib/python3.5/dist-packages/sklearn/metrics/classification.py:1135: UndefinedMetricWarning: F-score is ill-defined and being set to 0.0 in labels with no predicted samples.\n",
      "  'precision', 'predicted', average, warn_for)\n"
     ]
    }
   ],
   "source": [
    "scores_tables_tri = eval_selectivewaves_regclass(df_tri, tronly_test_raw_tri)\n",
    "pickle.dump(scores_tables_tri, open(\"../results/batch_no_tf_tables_tri.results\", \"wb\"))"
   ]
  },
  {
   "cell_type": "code",
   "execution_count": 56,
   "metadata": {
    "scrolled": true
   },
   "outputs": [
    {
     "name": "stdout",
     "output_type": "stream",
     "text": [
      "Trial:\t1\n",
      "K: \t1\n",
      "Epoch 0: 0.0991042266822565\n",
      "Epoch 25: 0.00033590976964267187\n",
      "Epoch 50: 0.00017458095181892392\n",
      "Epoch 75: 0.00011954870702922927\n",
      "Epoch 100: 9.1475841480094e-05\n",
      "Epoch 125: 7.43621997850804e-05\n",
      "Epoch 150: 6.280544335637636e-05\n",
      "W1 size 426\n",
      "W2 size 6\n",
      "W3 size 3\n",
      "Took: 151.9141550064087 for training\n",
      "Took: 363.7457580566406 for predicting 832 training instances\n",
      "Took: 42.369715452194214 for predicting 93 test instances\n",
      "Took: 46.19421982765198 for predicting 99 Turkish test instances\n"
     ]
    },
    {
     "name": "stderr",
     "output_type": "stream",
     "text": [
      "/usr/local/lib/python3.5/dist-packages/sklearn/metrics/classification.py:1135: UndefinedMetricWarning: F-score is ill-defined and being set to 0.0 in labels with no predicted samples.\n",
      "  'precision', 'predicted', average, warn_for)\n",
      "/usr/local/lib/python3.5/dist-packages/sklearn/metrics/classification.py:1135: UndefinedMetricWarning: F-score is ill-defined and being set to 0.0 in labels with no predicted samples.\n",
      "  'precision', 'predicted', average, warn_for)\n"
     ]
    },
    {
     "name": "stdout",
     "output_type": "stream",
     "text": [
      "\n",
      "                DeepSelect  LogisticRegression       MLP  RandomForest\n",
      "F1 Test           0.083192            0.632019  0.650281      0.648394\n",
      "F1 Tr. only       0.166667            0.166667  0.208791      0.210446\n",
      "F1 Train          0.070490            0.637177  0.697684      0.995172\n",
      "Pred.Tra. Time  363.745758            0.000569  0.001353      0.106071\n",
      "Test              0.741935            0.903226  0.903226      0.874552\n",
      "Test_LL          22.181999                 NaN       NaN           NaN\n",
      "Testing Time     42.369715            0.000170  0.000335      0.104240\n",
      "Tr. Only          0.777778            0.666667  0.686869      0.680135\n",
      "Tr. Only_LL      10.455074                 NaN       NaN           NaN\n",
      "Tr.Test Time     46.194220            0.000094  0.000306      0.105189\n",
      "Train             0.735176            0.897436  0.906250      0.998397\n",
      "Train_LL         22.225025                 NaN       NaN           NaN\n",
      "Training Time   151.914155            0.054760  0.472875      0.111123\n",
      "took: 604.4283473491669 seconds\n",
      "\n",
      "**********\n",
      "\n",
      "K: \t2\n",
      "Epoch 0: 0.3365126515711751\n",
      "Epoch 25: 0.0005523267945352841\n",
      "Epoch 50: 0.00027152581395741324\n",
      "Epoch 75: 0.00018452228930964355\n",
      "Epoch 100: 0.00014077481365955163\n",
      "Epoch 125: 0.00011419439165849532\n",
      "Epoch 150: 9.625624181041327e-05\n",
      "W1 size 439\n",
      "W2 size 6\n",
      "W3 size 3\n",
      "Took: 144.48987317085266 for training\n",
      "Took: 398.5273563861847 for predicting 832 training instances\n",
      "Took: 47.710488080978394 for predicting 93 test instances\n",
      "Took: 42.41230821609497 for predicting 99 Turkish test instances\n"
     ]
    },
    {
     "name": "stderr",
     "output_type": "stream",
     "text": [
      "/usr/local/lib/python3.5/dist-packages/sklearn/metrics/classification.py:1135: UndefinedMetricWarning: F-score is ill-defined and being set to 0.0 in labels with no predicted samples.\n",
      "  'precision', 'predicted', average, warn_for)\n"
     ]
    },
    {
     "name": "stdout",
     "output_type": "stream",
     "text": [
      "\n",
      "                DeepSelect  LogisticRegression       MLP  RandomForest\n",
      "F1 Test           0.105873            0.533333  0.582091      0.603629\n",
      "F1 Tr. only       0.166667            0.166667  0.187547      0.198209\n",
      "F1 Train          0.068588            0.648493  0.718635      0.996384\n",
      "Pred.Tra. Time  398.527356            0.000547  0.001337      0.105774\n",
      "Test              0.752688            0.863799  0.874552      0.867384\n",
      "Test_LL          20.010921                 NaN       NaN           NaN\n",
      "Testing Time     47.710488            0.000132  0.000334      0.102402\n",
      "Tr. Only          0.777778            0.666667  0.670034      0.673401\n",
      "Tr. Only_LL      10.453219                 NaN       NaN           NaN\n",
      "Tr.Test Time     42.412308            0.000094  0.000303      0.105440\n",
      "Train             0.734375            0.901843  0.913061      0.998397\n",
      "Train_LL         22.435100                 NaN       NaN           NaN\n",
      "Training Time   144.489873            0.051529  0.573318      0.111192\n",
      "took: 633.3714046478271 seconds\n",
      "\n",
      "**********\n",
      "\n",
      "K: \t3\n",
      "Epoch 0: 0.3480577314366717\n",
      "Epoch 25: 0.0005660516614225056\n",
      "Epoch 50: 0.00028889578066623945\n",
      "Epoch 75: 0.00019586516506068326\n",
      "Epoch 100: 0.00014884412080740949\n",
      "Epoch 125: 0.00012035926003510607\n",
      "Epoch 150: 0.00010120991995419783\n",
      "W1 size 448\n",
      "W2 size 6\n",
      "W3 size 3\n",
      "Took: 140.2225217819214 for training\n",
      "Took: 413.24288034439087 for predicting 832 training instances\n",
      "Took: 45.969223976135254 for predicting 93 test instances\n",
      "Took: 47.25826382637024 for predicting 99 Turkish test instances\n"
     ]
    },
    {
     "name": "stderr",
     "output_type": "stream",
     "text": [
      "/usr/local/lib/python3.5/dist-packages/sklearn/metrics/classification.py:1135: UndefinedMetricWarning: F-score is ill-defined and being set to 0.0 in labels with no predicted samples.\n",
      "  'precision', 'predicted', average, warn_for)\n"
     ]
    },
    {
     "name": "stdout",
     "output_type": "stream",
     "text": [
      "\n",
      "                DeepSelect  LogisticRegression       MLP  RandomForest\n",
      "F1 Test           0.090510            0.589166  0.613528      0.662065\n",
      "F1 Tr. only       0.166667            0.166667  0.207326      0.203067\n",
      "F1 Train          0.070081            0.639219  0.760200      0.992741\n",
      "Pred.Tra. Time  413.242880            0.000524  0.001380      0.106024\n",
      "Test              0.745520            0.885305  0.874552      0.892473\n",
      "Test_LL          21.010574                 NaN       NaN           NaN\n",
      "Testing Time     45.969224            0.000124  0.000331      0.103766\n",
      "Tr. Only          0.777778            0.666667  0.673401      0.676768\n",
      "Tr. Only_LL      10.335119                 NaN       NaN           NaN\n",
      "Tr.Test Time     47.258264            0.000093  0.000310      0.105155\n",
      "Train             0.735176            0.899038  0.921875      0.997596\n",
      "Train_LL         22.038574                 NaN       NaN           NaN\n",
      "Training Time   140.222522            0.048021  0.592756      0.111290\n",
      "took: 646.9081561565399 seconds\n",
      "\n",
      "**********\n",
      "\n",
      "K: \t4\n",
      "Epoch 0: 0.21844426859919375\n",
      "Epoch 25: 0.0005028328496611876\n",
      "Epoch 50: 0.0002497698670579448\n",
      "Epoch 75: 0.00016858258687074262\n",
      "Epoch 100: 0.00012793304447717297\n",
      "Epoch 125: 0.00010339287533783343\n",
      "Epoch 150: 8.69174571136444e-05\n",
      "W1 size 438\n",
      "W2 size 6\n",
      "W3 size 3\n",
      "Took: 151.2664873600006 for training\n",
      "Took: 402.2135109901428 for predicting 832 training instances\n",
      "Took: 39.4599871635437 for predicting 93 test instances\n",
      "Took: 46.68153381347656 for predicting 99 Turkish test instances\n"
     ]
    },
    {
     "name": "stderr",
     "output_type": "stream",
     "text": [
      "/usr/local/lib/python3.5/dist-packages/sklearn/metrics/classification.py:1135: UndefinedMetricWarning: F-score is ill-defined and being set to 0.0 in labels with no predicted samples.\n",
      "  'precision', 'predicted', average, warn_for)\n"
     ]
    },
    {
     "name": "stdout",
     "output_type": "stream",
     "text": [
      "\n",
      "                DeepSelect  LogisticRegression       MLP  RandomForest\n",
      "F1 Test           0.069316            0.617645  0.605438      0.649891\n",
      "F1 Tr. only       0.166667            0.166667  0.166667      0.184117\n",
      "F1 Train          0.072345            0.638791  0.726386      0.991578\n",
      "Pred.Tra. Time  402.213511            0.000539  0.001322      0.105736\n",
      "Test              0.734767            0.888889  0.881720      0.885305\n",
      "Test_LL          21.631646                 NaN       NaN           NaN\n",
      "Testing Time     39.459987            0.000198  0.000376      0.102065\n",
      "Tr. Only          0.777778            0.666667  0.666667      0.663300\n",
      "Tr. Only_LL      10.325946                 NaN       NaN           NaN\n",
      "Tr.Test Time     46.681534            0.000098  0.000305      0.103088\n",
      "Train             0.736378            0.899038  0.913462      0.997196\n",
      "Train_LL         21.950865                 NaN       NaN           NaN\n",
      "Training Time   151.266487            0.046856  0.553176      0.111083\n",
      "took: 639.8412482738495 seconds\n",
      "\n",
      "**********\n",
      "\n",
      "K: \t5\n",
      "Epoch 0: 0.41491980664981365\n",
      "Epoch 25: 0.0005509634021549231\n",
      "Epoch 50: 0.00027884767398010337\n",
      "Epoch 75: 0.0001889041238940002\n",
      "Epoch 100: 0.00014369525752058529\n",
      "Epoch 125: 0.0001163686117270955\n",
      "Epoch 150: 9.801689474582435e-05\n",
      "W1 size 430\n",
      "W2 size 6\n",
      "W3 size 3\n",
      "Took: 154.84924697875977 for training\n",
      "Took: 389.55594992637634 for predicting 832 training instances\n",
      "Took: 39.786482095718384 for predicting 93 test instances\n",
      "Took: 42.68900942802429 for predicting 99 Turkish test instances\n"
     ]
    },
    {
     "name": "stderr",
     "output_type": "stream",
     "text": [
      "/usr/local/lib/python3.5/dist-packages/sklearn/metrics/classification.py:1135: UndefinedMetricWarning: F-score is ill-defined and being set to 0.0 in labels with no predicted samples.\n",
      "  'precision', 'predicted', average, warn_for)\n"
     ]
    },
    {
     "name": "stdout",
     "output_type": "stream",
     "text": [
      "\n",
      "                DeepSelect  LogisticRegression       MLP  RandomForest\n",
      "F1 Test           0.056500            0.675660  0.700978      0.652465\n",
      "F1 Tr. only       0.166667            0.166667  0.207326      0.217148\n",
      "F1 Train          0.073871            0.632344  0.718063      0.991538\n",
      "Pred.Tra. Time  389.555950            0.000549  0.001352      0.105794\n",
      "Test              0.727599            0.910394  0.906810      0.896057\n",
      "Test_LL          22.793361                 NaN       NaN           NaN\n",
      "Testing Time     39.786482            0.000270  0.000371      0.102265\n",
      "Tr. Only          0.777778            0.666667  0.673401      0.696970\n",
      "Tr. Only_LL      10.312873                 NaN       NaN           NaN\n",
      "Tr.Test Time     42.689009            0.000092  0.000309      0.105384\n",
      "Train             0.737179            0.896635  0.911058      0.996394\n",
      "Train_LL         21.752203                 NaN       NaN           NaN\n",
      "Training Time   154.849247            0.051767  0.555212      0.111084\n",
      "took: 627.0611352920532 seconds\n",
      "\n",
      "**********\n",
      "\n",
      "K: \t6\n",
      "Epoch 0: 0.2619529021636876\n",
      "Epoch 25: 0.0005327224153019136\n",
      "Epoch 50: 0.0002745669668172161\n",
      "Epoch 75: 0.000187810648934008\n",
      "Epoch 100: 0.00014369772276140173\n",
      "Epoch 125: 0.00011681841901026685\n",
      "Epoch 150: 9.865730547005501e-05\n",
      "W1 size 433\n",
      "W2 size 6\n",
      "W3 size 3\n",
      "Took: 134.76310443878174 for training\n",
      "Took: 394.56816959381104 for predicting 833 training instances\n",
      "Took: 41.761505126953125 for predicting 92 test instances\n",
      "Took: 41.63615155220032 for predicting 99 Turkish test instances\n"
     ]
    },
    {
     "name": "stderr",
     "output_type": "stream",
     "text": [
      "/usr/local/lib/python3.5/dist-packages/sklearn/metrics/classification.py:1135: UndefinedMetricWarning: F-score is ill-defined and being set to 0.0 in labels with no predicted samples.\n",
      "  'precision', 'predicted', average, warn_for)\n"
     ]
    },
    {
     "name": "stdout",
     "output_type": "stream",
     "text": [
      "\n",
      "                DeepSelect  LogisticRegression       MLP  RandomForest\n",
      "F1 Test           0.092296            0.609562  0.645295      0.663354\n",
      "F1 Tr. only       0.166667            0.166667  0.207326      0.188303\n",
      "F1 Train          0.069927            0.639626  0.807169      0.992782\n",
      "Pred.Tra. Time  394.568170            0.000529  0.001336      0.105955\n",
      "Test              0.746377            0.887681  0.884058      0.884058\n",
      "Test_LL          20.798893                 NaN       NaN           NaN\n",
      "Testing Time     41.761505            0.000144  0.000353      0.102427\n",
      "Tr. Only          0.777778            0.666667  0.673401      0.686869\n",
      "Tr. Only_LL      10.290262                 NaN       NaN           NaN\n",
      "Tr.Test Time     41.636152            0.000095  0.000310      0.104965\n",
      "Train             0.735094            0.899160  0.935174      0.997599\n",
      "Train_LL         21.921030                 NaN       NaN           NaN\n",
      "Training Time   134.763104            0.053699  0.856009      0.110908\n",
      "took: 612.9292738437653 seconds\n",
      "\n",
      "**********\n",
      "\n",
      "K: \t7\n",
      "Epoch 0: 0.30438381295248035\n",
      "Epoch 25: 0.0006055528430835353\n",
      "Epoch 50: 0.0003116995644173572\n",
      "Epoch 75: 0.0002130121395667738\n",
      "Epoch 100: 0.00016282489426886038\n",
      "Epoch 125: 0.00013225152614186402\n",
      "Epoch 150: 0.00011160172450410309\n",
      "W1 size 444\n",
      "W2 size 6\n",
      "W3 size 3\n",
      "Took: 142.8156599998474 for training\n",
      "Took: 417.62571358680725 for predicting 833 training instances\n",
      "Took: 49.67758321762085 for predicting 92 test instances\n",
      "Took: 43.36423897743225 for predicting 99 Turkish test instances\n"
     ]
    },
    {
     "name": "stderr",
     "output_type": "stream",
     "text": [
      "/usr/local/lib/python3.5/dist-packages/sklearn/metrics/classification.py:1135: UndefinedMetricWarning: F-score is ill-defined and being set to 0.0 in labels with no predicted samples.\n",
      "  'precision', 'predicted', average, warn_for)\n"
     ]
    },
    {
     "name": "stdout",
     "output_type": "stream",
     "text": [
      "\n",
      "                DeepSelect  LogisticRegression       MLP  RandomForest\n",
      "F1 Test           0.067589            0.657542  0.669921      0.733283\n",
      "F1 Tr. only       0.166667            0.166667  0.186406      0.181115\n",
      "F1 Train          0.072186            0.634366  0.761875      0.990356\n",
      "Pred.Tra. Time  417.625714            0.000614  0.001367      0.105759\n",
      "Test              0.731884            0.909420  0.898551      0.909420\n",
      "Test_LL          23.382680                 NaN       NaN           NaN\n",
      "Testing Time     49.677583            0.000133  0.000336      0.105298\n",
      "Tr. Only          0.777778            0.666667  0.680135      0.673401\n",
      "Tr. Only_LL      10.600591                 NaN       NaN           NaN\n",
      "Tr.Test Time     43.364239            0.000095  0.000306      0.105150\n",
      "Train             0.736295            0.896759  0.921168      0.995998\n",
      "Train_LL         22.454958                 NaN       NaN           NaN\n",
      "Training Time   142.815660            0.057075  0.827631      0.111102\n",
      "took: 653.7212018966675 seconds\n",
      "\n",
      "**********\n",
      "\n",
      "K: \t8\n",
      "Epoch 0: 0.10172883891558732\n",
      "Epoch 25: 0.000310792235722101\n",
      "Epoch 50: 0.0001725226357328594\n",
      "Epoch 75: 0.00012082582960068308\n",
      "Epoch 100: 9.339477824495276e-05\n",
      "Epoch 125: 7.629810958271983e-05\n",
      "Epoch 150: 6.458823067771076e-05\n",
      "W1 size 437\n",
      "W2 size 6\n",
      "W3 size 3\n",
      "Took: 141.08137035369873 for training\n",
      "Took: 390.3369355201721 for predicting 833 training instances\n",
      "Took: 45.368505239486694 for predicting 92 test instances\n",
      "Took: 40.060471057891846 for predicting 99 Turkish test instances\n"
     ]
    },
    {
     "name": "stderr",
     "output_type": "stream",
     "text": [
      "/usr/local/lib/python3.5/dist-packages/sklearn/metrics/classification.py:1135: UndefinedMetricWarning: F-score is ill-defined and being set to 0.0 in labels with no predicted samples.\n",
      "  'precision', 'predicted', average, warn_for)\n"
     ]
    },
    {
     "name": "stdout",
     "output_type": "stream",
     "text": [
      "\n",
      "                DeepSelect  LogisticRegression       MLP  RandomForest\n",
      "F1 Test           0.051530            0.717129  0.703118      0.703806\n",
      "F1 Tr. only       0.166667            0.166667  0.166667      0.182927\n",
      "F1 Train          0.074475            0.627940  0.773475      0.995178\n",
      "Pred.Tra. Time  390.336936            0.000520  0.001329      0.105955\n",
      "Test              0.724638            0.927536  0.909420      0.905797\n",
      "Test_LL          23.592207                 NaN       NaN           NaN\n",
      "Testing Time     45.368505            0.000161  0.000328      0.102179\n",
      "Tr. Only          0.777778            0.666667  0.666667      0.680135\n",
      "Tr. Only_LL      10.289200                 NaN       NaN           NaN\n",
      "Tr.Test Time     40.060471            0.000094  0.000301      0.103654\n",
      "Train             0.737495            0.894758  0.923169      0.998399\n",
      "Train_LL         21.610089                 NaN       NaN           NaN\n",
      "Training Time   141.081370            0.056207  0.730671      0.111103\n",
      "took: 617.0468499660492 seconds\n",
      "\n",
      "**********\n",
      "\n",
      "K: \t9\n",
      "Epoch 0: 0.22119207970129923\n",
      "Epoch 25: 0.00042993647913452753\n",
      "Epoch 50: 0.00022771355343804582\n",
      "Epoch 75: 0.00015668302088110616\n",
      "Epoch 100: 0.00012005437650226723\n",
      "Epoch 125: 9.759869892913012e-05\n",
      "Epoch 150: 8.238161995218068e-05\n",
      "W1 size 438\n",
      "W2 size 6\n",
      "W3 size 3\n",
      "Took: 140.48870015144348 for training\n",
      "Took: 382.2518367767334 for predicting 833 training instances\n",
      "Took: 40.532546520233154 for predicting 92 test instances\n",
      "Took: 51.33240222930908 for predicting 99 Turkish test instances\n"
     ]
    },
    {
     "name": "stderr",
     "output_type": "stream",
     "text": [
      "/usr/local/lib/python3.5/dist-packages/sklearn/metrics/classification.py:1135: UndefinedMetricWarning: F-score is ill-defined and being set to 0.0 in labels with no predicted samples.\n",
      "  'precision', 'predicted', average, warn_for)\n"
     ]
    },
    {
     "name": "stdout",
     "output_type": "stream",
     "text": [
      "\n",
      "                DeepSelect  LogisticRegression       MLP  RandomForest\n",
      "F1 Test           0.057639            0.608420  0.662960      0.592142\n",
      "F1 Tr. only       0.166667            0.166667  0.208791      0.212045\n",
      "F1 Train          0.073709            0.639199  0.778288      0.996387\n",
      "Pred.Tra. Time  382.251837            0.000550  0.001324      0.105908\n",
      "Test              0.728261            0.876812  0.884058      0.847826\n",
      "Test_LL          21.554698                 NaN       NaN           NaN\n",
      "Testing Time     40.532547            0.000146  0.000285      0.102673\n",
      "Tr. Only          0.777778            0.666667  0.686869      0.693603\n",
      "Tr. Only_LL      10.322407                 NaN       NaN           NaN\n",
      "Tr.Test Time     51.332402            0.000096  0.000308      0.104917\n",
      "Train             0.737095            0.899960  0.927171      0.998800\n",
      "Train_LL         21.948745                 NaN       NaN           NaN\n",
      "Training Time   140.488700            0.050765  0.729338      0.111878\n",
      "took: 614.7751221656799 seconds\n",
      "\n",
      "**********\n",
      "\n",
      "K: \t10\n",
      "Epoch 0: 0.2075440090319425\n",
      "Epoch 25: 0.00047838458984519064\n",
      "Epoch 50: 0.00023758158289368208\n",
      "Epoch 75: 0.0001594680819856919\n",
      "Epoch 100: 0.00012057016537067072\n",
      "Epoch 125: 9.72015714079707e-05\n",
      "Epoch 150: 8.157945605635964e-05\n",
      "W1 size 441\n",
      "W2 size 6\n",
      "W3 size 3\n",
      "Took: 141.79736471176147 for training\n",
      "Took: 394.40475487709045 for predicting 833 training instances\n",
      "Took: 43.68862533569336 for predicting 92 test instances\n",
      "Took: 49.369884729385376 for predicting 99 Turkish test instances\n"
     ]
    },
    {
     "name": "stderr",
     "output_type": "stream",
     "text": [
      "/usr/local/lib/python3.5/dist-packages/sklearn/metrics/classification.py:1135: UndefinedMetricWarning: F-score is ill-defined and being set to 0.0 in labels with no predicted samples.\n",
      "  'precision', 'predicted', average, warn_for)\n"
     ]
    },
    {
     "name": "stdout",
     "output_type": "stream",
     "text": [
      "\n",
      "                DeepSelect  LogisticRegression       MLP  RandomForest\n",
      "F1 Test           0.051530            0.702108  0.753901      0.744423\n",
      "F1 Tr. only       0.166667            0.166667  0.171875      0.203857\n",
      "F1 Train          0.074475            0.629545  0.769983      0.990358\n",
      "Pred.Tra. Time  394.404755            0.000534  0.001345      0.105475\n",
      "Test              0.724638            0.920290  0.923913      0.909420\n",
      "Test_LL          23.642418                 NaN       NaN           NaN\n",
      "Testing Time     43.688625            0.000136  0.000282      0.101942\n",
      "Tr. Only          0.777778            0.666667  0.680135      0.656566\n",
      "Tr. Only_LL      10.439230                 NaN       NaN           NaN\n",
      "Tr.Test Time     49.369885            0.000095  0.000287      0.104699\n",
      "Train             0.737495            0.895558  0.923169      0.996399\n",
      "Train_LL         21.972381                 NaN       NaN           NaN\n",
      "Training Time   141.797365            0.055685  0.747958      0.111627\n",
      "took: 629.4224810600281 seconds\n",
      "\n",
      "**********\n",
      "\n",
      "Average scores for trial 0\n",
      "                DeepSelect  LogisticRegression       MLP  RandomForest\n",
      "F1 Test           0.072597            0.634259  0.658751      0.665345\n",
      "F1 Tr. only       0.166667            0.166667  0.191872      0.198123\n",
      "F1 Train          0.072015            0.636670  0.751176      0.993247\n",
      "Pred.Tra. Time  394.647287            0.000548  0.001344      0.105845\n",
      "Test              0.735831            0.897335  0.894086      0.887229\n",
      "Test_LL          22.059940                 NaN       NaN           NaN\n",
      "Testing Time     43.632466            0.000161  0.000333      0.102926\n",
      "Tr. Only          0.777778            0.666667  0.675758      0.678114\n",
      "Tr. Only_LL      10.382392                 NaN       NaN           NaN\n",
      "Tr.Test Time     45.099848            0.000095  0.000305      0.104764\n",
      "Train             0.736176            0.898018  0.919556      0.997518\n",
      "Train_LL         22.030897                 NaN       NaN           NaN\n",
      "Training Time   144.368848            0.052636  0.663894      0.111239\n",
      "------------------------------\n",
      "%%%%%%%%%%%%%%%%%%%%%%%%%%%%%%%%%%%%%%%%\n",
      "Average of 1 trials\n",
      "                DeepSelect  LogisticRegression       MLP  RandomForest\n",
      "F1 Test           0.072597            0.634259  0.658751      0.665345\n",
      "F1 Tr. only       0.166667            0.166667  0.191872      0.198123\n",
      "F1 Train          0.072015            0.636670  0.751176      0.993247\n",
      "Pred.Tra. Time  394.647287            0.000548  0.001344      0.105845\n",
      "Test              0.735831            0.897335  0.894086      0.887229\n",
      "Test_LL          22.059940                 NaN       NaN           NaN\n",
      "Testing Time     43.632466            0.000161  0.000333      0.102926\n",
      "Tr. Only          0.777778            0.666667  0.675758      0.678114\n",
      "Tr. Only_LL      10.382392                 NaN       NaN           NaN\n",
      "Tr.Test Time     45.099848            0.000095  0.000305      0.104764\n",
      "Train             0.736176            0.898018  0.919556      0.997518\n",
      "Train_LL         22.030897                 NaN       NaN           NaN\n",
      "Training Time   144.368848            0.052636  0.663894      0.111239\n"
     ]
    }
   ],
   "source": [
    "scores_tables_nn_tri = eval_selectivewaves_nn(df_tri, tronly_test_raw_tri)\n",
    "pickle.dump(scores_tables_nn_tri, open(\"../results/incremental_tf_tables_tri.results\", \"wb\"))"
   ]
  },
  {
   "cell_type": "code",
   "execution_count": 57,
   "metadata": {},
   "outputs": [
    {
     "name": "stdout",
     "output_type": "stream",
     "text": [
      "En: 50\tTr: 42\n",
      "Using first variation (Regressor and Classifier with score vectors)\n",
      "epoch 0:\t14.964425073833835\n",
      "epoch 10:\t14.863251305838217\n",
      "epoch 20:\t14.671541291477538\n",
      "epoch 30:\t14.614800065274787\n",
      "epoch 40:\t14.452866451696048\n",
      "epoch 50:\t14.293558946326295\n",
      "Using second variation (average of outputs produced by each set of weight matrices)\n",
      "Epoch 0: 0.7156531736173027\n",
      "Epoch 25: 0.003076515007679943\n",
      "Epoch 50: 0.0015267655560438945\n",
      "Epoch 75: 0.0010261519677678289\n",
      "Epoch 100: 0.0007762732542945093\n",
      "Epoch 125: 0.0006258429243671864\n",
      "Epoch 150: 0.0005251219510887371\n",
      "W1 size 82\n",
      "W2 size 6\n",
      "W3 size 3\n"
     ]
    },
    {
     "name": "stderr",
     "output_type": "stream",
     "text": [
      "/usr/local/lib/python3.5/dist-packages/sklearn/metrics/classification.py:1135: UndefinedMetricWarning: F-score is ill-defined and being set to 0.0 in labels with no predicted samples.\n",
      "  'precision', 'predicted', average, warn_for)\n"
     ]
    },
    {
     "name": "stdout",
     "output_type": "stream",
     "text": [
      "Using well-known algorithms: Logistic Regression, RandomForest and MLP\n"
     ]
    },
    {
     "name": "stderr",
     "output_type": "stream",
     "text": [
      "/usr/local/lib/python3.5/dist-packages/sklearn/metrics/classification.py:1135: UndefinedMetricWarning: F-score is ill-defined and being set to 0.0 in labels with no predicted samples.\n",
      "  'precision', 'predicted', average, warn_for)\n",
      "/usr/local/lib/python3.5/dist-packages/sklearn/neural_network/multilayer_perceptron.py:564: ConvergenceWarning: Stochastic Optimizer: Maximum iterations (200) reached and the optimization hasn't converged yet.\n",
      "  % self.max_iter, ConvergenceWarning)\n"
     ]
    },
    {
     "name": "stdout",
     "output_type": "stream",
     "text": [
      "Took: 29.403439044952393\n",
      "--------------------------------------------------\n",
      "En: 50\tTr: 85\n",
      "Using first variation (Regressor and Classifier with score vectors)\n",
      "epoch 0:\t16.076561720338827\n",
      "epoch 10:\t15.983979964190306\n",
      "epoch 20:\t15.858078810358194\n",
      "epoch 30:\t15.721506107987842\n",
      "epoch 40:\t15.600251133478585\n",
      "epoch 50:\t15.480006247684997\n",
      "Using second variation (average of outputs produced by each set of weight matrices)\n",
      "Epoch 0: 2.503276165758251\n",
      "Epoch 25: 0.003296139311705217\n",
      "Epoch 50: 0.0015734759895093685\n",
      "Epoch 75: 0.0010588947022489071\n",
      "Epoch 100: 0.0008049237510275757\n",
      "Epoch 125: 0.0006521573283707641\n",
      "Epoch 150: 0.0005496701311603535\n",
      "W1 size 113\n",
      "W2 size 6\n",
      "W3 size 3\n",
      "Using well-known algorithms: Logistic Regression, RandomForest and MLP\n"
     ]
    },
    {
     "name": "stderr",
     "output_type": "stream",
     "text": [
      "/usr/local/lib/python3.5/dist-packages/sklearn/metrics/classification.py:1135: UndefinedMetricWarning: F-score is ill-defined and being set to 0.0 in labels with no predicted samples.\n",
      "  'precision', 'predicted', average, warn_for)\n",
      "/usr/local/lib/python3.5/dist-packages/sklearn/neural_network/multilayer_perceptron.py:564: ConvergenceWarning: Stochastic Optimizer: Maximum iterations (200) reached and the optimization hasn't converged yet.\n",
      "  % self.max_iter, ConvergenceWarning)\n"
     ]
    },
    {
     "name": "stdout",
     "output_type": "stream",
     "text": [
      "Took: 38.72274088859558\n",
      "--------------------------------------------------\n",
      "En: 50\tTr: 128\n",
      "Using first variation (Regressor and Classifier with score vectors)\n",
      "epoch 0:\t17.986851779816696\n",
      "epoch 10:\t17.582835021515265\n",
      "epoch 20:\t17.52564954090117\n",
      "epoch 30:\t17.1650222451271\n",
      "epoch 40:\t16.910660357732834\n",
      "epoch 50:\t16.76360445228437\n",
      "Using second variation (average of outputs produced by each set of weight matrices)\n",
      "Epoch 0: 1.6334158047824572\n",
      "Epoch 25: 0.0023003903858615535\n",
      "Epoch 50: 0.0011699987925513926\n",
      "Epoch 75: 0.0007935550360778237\n",
      "Epoch 100: 0.000603285984784966\n",
      "Epoch 125: 0.00048788312916139175\n",
      "Epoch 150: 0.00041020686380309745\n",
      "W1 size 141\n",
      "W2 size 6\n",
      "W3 size 3\n",
      "Using well-known algorithms: Logistic Regression, RandomForest and MLP\n"
     ]
    },
    {
     "name": "stderr",
     "output_type": "stream",
     "text": [
      "/usr/local/lib/python3.5/dist-packages/sklearn/metrics/classification.py:1135: UndefinedMetricWarning: F-score is ill-defined and being set to 0.0 in labels with no predicted samples.\n",
      "  'precision', 'predicted', average, warn_for)\n",
      "/usr/local/lib/python3.5/dist-packages/sklearn/neural_network/multilayer_perceptron.py:564: ConvergenceWarning: Stochastic Optimizer: Maximum iterations (200) reached and the optimization hasn't converged yet.\n",
      "  % self.max_iter, ConvergenceWarning)\n"
     ]
    },
    {
     "name": "stdout",
     "output_type": "stream",
     "text": [
      "Took: 50.58141899108887\n",
      "--------------------------------------------------\n",
      "En: 50\tTr: 170\n",
      "Using first variation (Regressor and Classifier with score vectors)\n",
      "epoch 0:\t16.771458762822107\n",
      "epoch 10:\t16.71209431719364\n",
      "epoch 20:\t16.580524157382403\n",
      "epoch 30:\t16.391683693759614\n",
      "epoch 40:\t16.224946137468\n",
      "epoch 50:\t16.088831950512223\n",
      "Using second variation (average of outputs produced by each set of weight matrices)\n",
      "Epoch 0: 0.910136042441438\n",
      "Epoch 25: 0.0016813340856085869\n",
      "Epoch 50: 0.0008325943005934406\n",
      "Epoch 75: 0.0005618267797635987\n",
      "Epoch 100: 0.0004271056958486952\n",
      "Epoch 125: 0.0003460219218932924\n",
      "Epoch 150: 0.0002916755434942398\n",
      "W1 size 152\n",
      "W2 size 6\n",
      "W3 size 3\n",
      "Using well-known algorithms: Logistic Regression, RandomForest and MLP\n"
     ]
    },
    {
     "name": "stderr",
     "output_type": "stream",
     "text": [
      "/usr/local/lib/python3.5/dist-packages/sklearn/metrics/classification.py:1135: UndefinedMetricWarning: F-score is ill-defined and being set to 0.0 in labels with no predicted samples.\n",
      "  'precision', 'predicted', average, warn_for)\n"
     ]
    },
    {
     "name": "stdout",
     "output_type": "stream",
     "text": [
      "Took: 58.883225202560425\n",
      "--------------------------------------------------\n",
      "En: 50\tTr: 212\n",
      "Using first variation (Regressor and Classifier with score vectors)\n",
      "epoch 0:\t17.841579554454682\n",
      "epoch 10:\t17.601112668890604\n",
      "epoch 20:\t17.3852107510532\n",
      "epoch 30:\t17.235816608425647\n",
      "epoch 40:\t17.115257675118613\n",
      "epoch 50:\t17.011513201980467\n",
      "Using second variation (average of outputs produced by each set of weight matrices)\n",
      "Epoch 0: 1.8469885024043957\n",
      "Epoch 25: 0.0021809768163394178\n",
      "Epoch 50: 0.0010353390145040474\n",
      "Epoch 75: 0.0006879481539320149\n",
      "Epoch 100: 0.0005181837357739896\n",
      "Epoch 125: 0.00041701726481629064\n",
      "Epoch 150: 0.0003496425836398628\n",
      "W1 size 172\n",
      "W2 size 6\n",
      "W3 size 3\n",
      "Using well-known algorithms: Logistic Regression, RandomForest and MLP\n"
     ]
    },
    {
     "name": "stderr",
     "output_type": "stream",
     "text": [
      "/usr/local/lib/python3.5/dist-packages/sklearn/metrics/classification.py:1135: UndefinedMetricWarning: F-score is ill-defined and being set to 0.0 in labels with no predicted samples.\n",
      "  'precision', 'predicted', average, warn_for)\n",
      "/usr/local/lib/python3.5/dist-packages/sklearn/neural_network/multilayer_perceptron.py:564: ConvergenceWarning: Stochastic Optimizer: Maximum iterations (200) reached and the optimization hasn't converged yet.\n",
      "  % self.max_iter, ConvergenceWarning)\n"
     ]
    },
    {
     "name": "stdout",
     "output_type": "stream",
     "text": [
      "Took: 64.9079122543335\n",
      "--------------------------------------------------\n",
      "En: 50\tTr: 255\n",
      "Using first variation (Regressor and Classifier with score vectors)\n",
      "epoch 0:\t18.70210735081054\n",
      "epoch 10:\t18.444161015794435\n",
      "epoch 20:\t18.30646609016215\n",
      "epoch 30:\t18.19449549447954\n",
      "epoch 40:\t18.184180686390988\n",
      "epoch 50:\t18.148057772557575\n",
      "Using second variation (average of outputs produced by each set of weight matrices)\n",
      "Epoch 0: 0.854120620511802\n",
      "Epoch 25: 0.0014388062469317324\n",
      "Epoch 50: 0.0006985151599218956\n",
      "Epoch 75: 0.0004708438559154755\n",
      "Epoch 100: 0.00035807721923271265\n",
      "Epoch 125: 0.0002901806202733955\n",
      "Epoch 150: 0.0002446061085325788\n",
      "W1 size 192\n",
      "W2 size 6\n",
      "W3 size 3\n",
      "Using well-known algorithms: Logistic Regression, RandomForest and MLP\n"
     ]
    },
    {
     "name": "stderr",
     "output_type": "stream",
     "text": [
      "/usr/local/lib/python3.5/dist-packages/sklearn/metrics/classification.py:1135: UndefinedMetricWarning: F-score is ill-defined and being set to 0.0 in labels with no predicted samples.\n",
      "  'precision', 'predicted', average, warn_for)\n",
      "/usr/local/lib/python3.5/dist-packages/sklearn/neural_network/multilayer_perceptron.py:564: ConvergenceWarning: Stochastic Optimizer: Maximum iterations (200) reached and the optimization hasn't converged yet.\n",
      "  % self.max_iter, ConvergenceWarning)\n"
     ]
    },
    {
     "name": "stdout",
     "output_type": "stream",
     "text": [
      "Took: 81.34635043144226\n",
      "--------------------------------------------------\n",
      "En: 50\tTr: 298\n",
      "Using first variation (Regressor and Classifier with score vectors)\n",
      "epoch 0:\t18.366294719735958\n",
      "epoch 10:\t18.097155000087774\n",
      "epoch 20:\t17.97666789420202\n",
      "epoch 30:\t17.745641506769857\n",
      "epoch 40:\t17.543349705074093\n",
      "epoch 50:\t17.38607869127917\n",
      "Using second variation (average of outputs produced by each set of weight matrices)\n",
      "Epoch 0: 0.36138100743065565\n",
      "Epoch 25: 0.001215251062736786\n",
      "Epoch 50: 0.0005911375400861382\n",
      "Epoch 75: 0.000398654959192386\n",
      "Epoch 100: 0.000303504673300724\n",
      "Epoch 125: 0.0002462907773551562\n",
      "Epoch 150: 0.0002079095315708471\n",
      "W1 size 204\n",
      "W2 size 6\n",
      "W3 size 3\n",
      "Using well-known algorithms: Logistic Regression, RandomForest and MLP\n"
     ]
    },
    {
     "name": "stderr",
     "output_type": "stream",
     "text": [
      "/usr/local/lib/python3.5/dist-packages/sklearn/metrics/classification.py:1135: UndefinedMetricWarning: F-score is ill-defined and being set to 0.0 in labels with no predicted samples.\n",
      "  'precision', 'predicted', average, warn_for)\n",
      "/usr/local/lib/python3.5/dist-packages/sklearn/neural_network/multilayer_perceptron.py:564: ConvergenceWarning: Stochastic Optimizer: Maximum iterations (200) reached and the optimization hasn't converged yet.\n",
      "  % self.max_iter, ConvergenceWarning)\n"
     ]
    },
    {
     "name": "stdout",
     "output_type": "stream",
     "text": [
      "Took: 92.07807350158691\n",
      "--------------------------------------------------\n",
      "En: 50\tTr: 340\n",
      "Using first variation (Regressor and Classifier with score vectors)\n",
      "epoch 0:\t18.811994038325015\n",
      "epoch 10:\t18.556965666146258\n",
      "epoch 20:\t18.45802078569059\n",
      "epoch 30:\t18.33055546196255\n",
      "epoch 40:\t18.228751691321108\n",
      "epoch 50:\t18.126289098982934\n",
      "Using second variation (average of outputs produced by each set of weight matrices)\n",
      "Epoch 0: 0.24096385246420773\n",
      "Epoch 25: 0.0007801767811753571\n",
      "Epoch 50: 0.0004073472022568945\n",
      "Epoch 75: 0.0002795629678400447\n",
      "Epoch 100: 0.00021416566468216976\n",
      "Epoch 125: 0.00017420522175604138\n",
      "Epoch 150: 0.00014716551620050467\n",
      "W1 size 217\n",
      "W2 size 6\n",
      "W3 size 3\n",
      "Using well-known algorithms: Logistic Regression, RandomForest and MLP\n"
     ]
    },
    {
     "name": "stderr",
     "output_type": "stream",
     "text": [
      "/usr/local/lib/python3.5/dist-packages/sklearn/metrics/classification.py:1135: UndefinedMetricWarning: F-score is ill-defined and being set to 0.0 in labels with no predicted samples.\n",
      "  'precision', 'predicted', average, warn_for)\n",
      "/usr/local/lib/python3.5/dist-packages/sklearn/neural_network/multilayer_perceptron.py:564: ConvergenceWarning: Stochastic Optimizer: Maximum iterations (200) reached and the optimization hasn't converged yet.\n",
      "  % self.max_iter, ConvergenceWarning)\n"
     ]
    },
    {
     "name": "stdout",
     "output_type": "stream",
     "text": [
      "Took: 90.54664826393127\n",
      "--------------------------------------------------\n",
      "En: 50\tTr: 382\n",
      "Using first variation (Regressor and Classifier with score vectors)\n",
      "epoch 0:\t22.127371306808737\n",
      "epoch 10:\t21.648285803009355\n",
      "epoch 20:\t21.277288206138874\n",
      "epoch 30:\t20.946004975955038\n",
      "epoch 40:\t20.612988006101702\n",
      "epoch 50:\t20.334357431719006\n",
      "Using second variation (average of outputs produced by each set of weight matrices)\n",
      "Epoch 0: 0.5832009468073679\n",
      "Epoch 25: 0.001057227230197205\n",
      "Epoch 50: 0.0005043358206825896\n",
      "Epoch 75: 0.00033593958715742673\n",
      "Epoch 100: 0.00025337554062289635\n",
      "Epoch 125: 0.0002040806446329905\n",
      "Epoch 150: 0.00017121052149947924\n",
      "W1 size 229\n",
      "W2 size 6\n",
      "W3 size 3\n",
      "Using well-known algorithms: Logistic Regression, RandomForest and MLP\n"
     ]
    },
    {
     "name": "stderr",
     "output_type": "stream",
     "text": [
      "/usr/local/lib/python3.5/dist-packages/sklearn/metrics/classification.py:1135: UndefinedMetricWarning: F-score is ill-defined and being set to 0.0 in labels with no predicted samples.\n",
      "  'precision', 'predicted', average, warn_for)\n"
     ]
    },
    {
     "name": "stdout",
     "output_type": "stream",
     "text": [
      "Took: 95.86925387382507\n",
      "--------------------------------------------------\n",
      "En: 50\tTr: 425\n",
      "Using first variation (Regressor and Classifier with score vectors)\n",
      "epoch 0:\t18.537473486044465\n",
      "epoch 10:\t18.29455900584368\n",
      "epoch 20:\t18.254381724611804\n",
      "epoch 30:\t18.233765486617823\n",
      "epoch 40:\t18.202351348681542\n",
      "epoch 50:\t18.166187547682593\n",
      "Using second variation (average of outputs produced by each set of weight matrices)\n",
      "Epoch 0: 0.30941314447958757\n",
      "Epoch 25: 0.000659558049525859\n",
      "Epoch 50: 0.00033380205856710626\n",
      "Epoch 75: 0.00022596119162732233\n",
      "Epoch 100: 0.00017175125838847586\n",
      "Epoch 125: 0.00013899693891600786\n",
      "Epoch 150: 0.00011701454909939458\n",
      "W1 size 244\n",
      "W2 size 6\n",
      "W3 size 3\n",
      "Using well-known algorithms: Logistic Regression, RandomForest and MLP\n"
     ]
    },
    {
     "name": "stderr",
     "output_type": "stream",
     "text": [
      "/usr/local/lib/python3.5/dist-packages/sklearn/metrics/classification.py:1135: UndefinedMetricWarning: F-score is ill-defined and being set to 0.0 in labels with no predicted samples.\n",
      "  'precision', 'predicted', average, warn_for)\n"
     ]
    },
    {
     "name": "stdout",
     "output_type": "stream",
     "text": [
      "Took: 114.97372317314148\n",
      "--------------------------------------------------\n",
      "En: 100\tTr: 42\n",
      "Using first variation (Regressor and Classifier with score vectors)\n",
      "epoch 0:\t15.82617340606989\n",
      "epoch 10:\t15.765909507923851\n",
      "epoch 20:\t15.722616584597667\n",
      "epoch 30:\t15.699321132854108\n",
      "epoch 40:\t15.636076228751227\n",
      "epoch 50:\t15.565555577849226\n",
      "Using second variation (average of outputs produced by each set of weight matrices)\n",
      "Epoch 0: 0.8451065132092315\n",
      "Epoch 25: 0.001916341346306123\n",
      "Epoch 50: 0.0009879923745398694\n",
      "Epoch 75: 0.000673845364824013\n",
      "Epoch 100: 0.0005142036291741833\n",
      "Epoch 125: 0.0004170664738727966\n",
      "Epoch 150: 0.0003515416690506082\n",
      "W1 size 116\n",
      "W2 size 5\n",
      "W3 size 3\n",
      "Using well-known algorithms: Logistic Regression, RandomForest and MLP\n"
     ]
    },
    {
     "name": "stderr",
     "output_type": "stream",
     "text": [
      "/usr/local/lib/python3.5/dist-packages/sklearn/metrics/classification.py:1135: UndefinedMetricWarning: F-score is ill-defined and being set to 0.0 in labels with no predicted samples.\n",
      "  'precision', 'predicted', average, warn_for)\n",
      "/usr/local/lib/python3.5/dist-packages/sklearn/neural_network/multilayer_perceptron.py:564: ConvergenceWarning: Stochastic Optimizer: Maximum iterations (200) reached and the optimization hasn't converged yet.\n",
      "  % self.max_iter, ConvergenceWarning)\n"
     ]
    },
    {
     "name": "stdout",
     "output_type": "stream",
     "text": [
      "Took: 39.80036187171936\n",
      "--------------------------------------------------\n",
      "En: 100\tTr: 85\n",
      "Using first variation (Regressor and Classifier with score vectors)\n",
      "epoch 0:\t18.94173685902512\n",
      "epoch 10:\t18.81632288999819\n",
      "epoch 20:\t18.546059096590124\n",
      "epoch 30:\t18.28120655642651\n",
      "epoch 40:\t18.010166687384224\n",
      "epoch 50:\t17.747486250879437\n",
      "Using second variation (average of outputs produced by each set of weight matrices)\n",
      "Epoch 0: 1.2029723392432357\n",
      "Epoch 25: 0.002133508811485208\n",
      "Epoch 50: 0.0010206055350361234\n",
      "Epoch 75: 0.000682728998088956\n",
      "Epoch 100: 0.0005167566664918904\n",
      "Epoch 125: 0.0004174116359340249\n",
      "Epoch 150: 0.0003510182366602214\n",
      "W1 size 146\n",
      "W2 size 6\n",
      "W3 size 3\n",
      "Using well-known algorithms: Logistic Regression, RandomForest and MLP\n"
     ]
    },
    {
     "name": "stderr",
     "output_type": "stream",
     "text": [
      "/usr/local/lib/python3.5/dist-packages/sklearn/metrics/classification.py:1135: UndefinedMetricWarning: F-score is ill-defined and being set to 0.0 in labels with no predicted samples.\n",
      "  'precision', 'predicted', average, warn_for)\n",
      "/usr/local/lib/python3.5/dist-packages/sklearn/neural_network/multilayer_perceptron.py:564: ConvergenceWarning: Stochastic Optimizer: Maximum iterations (200) reached and the optimization hasn't converged yet.\n",
      "  % self.max_iter, ConvergenceWarning)\n"
     ]
    },
    {
     "name": "stdout",
     "output_type": "stream",
     "text": [
      "Took: 50.4753692150116\n",
      "--------------------------------------------------\n",
      "En: 100\tTr: 128\n",
      "Using first variation (Regressor and Classifier with score vectors)\n",
      "epoch 0:\t18.161568647328753\n",
      "epoch 10:\t18.167633299126678\n",
      "epoch 20:\t17.76722241533045\n",
      "epoch 30:\t17.4410356229686\n",
      "epoch 40:\t17.127842850680626\n",
      "epoch 50:\t16.820311870224824\n",
      "Using second variation (average of outputs produced by each set of weight matrices)\n",
      "Epoch 0: 2.03318278765747\n",
      "Epoch 25: 0.0021401659441412776\n",
      "Epoch 50: 0.0010285984987318934\n",
      "Epoch 75: 0.0006831602523058628\n",
      "Epoch 100: 0.0005134468947543537\n",
      "Epoch 125: 0.0004121895326478814\n",
      "Epoch 150: 0.00034478564269559896\n",
      "W1 size 179\n",
      "W2 size 5\n",
      "W3 size 3\n",
      "Using well-known algorithms: Logistic Regression, RandomForest and MLP\n"
     ]
    },
    {
     "name": "stderr",
     "output_type": "stream",
     "text": [
      "/usr/local/lib/python3.5/dist-packages/sklearn/metrics/classification.py:1135: UndefinedMetricWarning: F-score is ill-defined and being set to 0.0 in labels with no predicted samples.\n",
      "  'precision', 'predicted', average, warn_for)\n"
     ]
    },
    {
     "name": "stdout",
     "output_type": "stream",
     "text": [
      "Took: 62.63244152069092\n",
      "--------------------------------------------------\n",
      "En: 100\tTr: 170\n",
      "Using first variation (Regressor and Classifier with score vectors)\n",
      "epoch 0:\t22.149723328697664\n",
      "epoch 10:\t21.335758235366427\n",
      "epoch 20:\t21.198589041192708\n",
      "epoch 30:\t21.13794289997126\n",
      "epoch 40:\t21.056980182333138\n",
      "epoch 50:\t20.943678222976473\n",
      "Using second variation (average of outputs produced by each set of weight matrices)\n",
      "Epoch 0: 0.6497362388975171\n",
      "Epoch 25: 0.0012240216577938385\n",
      "Epoch 50: 0.0005885237423549833\n",
      "Epoch 75: 0.00039161379058080467\n",
      "Epoch 100: 0.00029495632687075857\n",
      "Epoch 125: 0.00023729693824592416\n",
      "Epoch 150: 0.00019890743702770006\n",
      "W1 size 193\n",
      "W2 size 6\n",
      "W3 size 3\n",
      "Using well-known algorithms: Logistic Regression, RandomForest and MLP\n"
     ]
    },
    {
     "name": "stderr",
     "output_type": "stream",
     "text": [
      "/usr/local/lib/python3.5/dist-packages/sklearn/metrics/classification.py:1135: UndefinedMetricWarning: F-score is ill-defined and being set to 0.0 in labels with no predicted samples.\n",
      "  'precision', 'predicted', average, warn_for)\n",
      "/usr/local/lib/python3.5/dist-packages/sklearn/neural_network/multilayer_perceptron.py:564: ConvergenceWarning: Stochastic Optimizer: Maximum iterations (200) reached and the optimization hasn't converged yet.\n",
      "  % self.max_iter, ConvergenceWarning)\n"
     ]
    },
    {
     "name": "stdout",
     "output_type": "stream",
     "text": [
      "Took: 72.62728953361511\n",
      "--------------------------------------------------\n",
      "En: 100\tTr: 212\n",
      "Using first variation (Regressor and Classifier with score vectors)\n",
      "epoch 0:\t19.095850782989455\n",
      "epoch 10:\t18.95276029109606\n",
      "epoch 20:\t18.9535538500628\n",
      "epoch 30:\t18.88389057478724\n",
      "epoch 40:\t18.718689409223575\n",
      "epoch 50:\t18.534836271092374\n",
      "Using second variation (average of outputs produced by each set of weight matrices)\n",
      "Epoch 0: 0.16617337477280286\n",
      "Epoch 25: 0.0011642259314942366\n",
      "Epoch 50: 0.0005689814140626828\n",
      "Epoch 75: 0.0003824394947479813\n",
      "Epoch 100: 0.00029006015436499737\n",
      "Epoch 125: 0.00023457429408019347\n",
      "Epoch 150: 0.00019741884851726265\n",
      "W1 size 219\n",
      "W2 size 6\n",
      "W3 size 3\n",
      "Using well-known algorithms: Logistic Regression, RandomForest and MLP\n"
     ]
    },
    {
     "name": "stderr",
     "output_type": "stream",
     "text": [
      "/usr/local/lib/python3.5/dist-packages/sklearn/metrics/classification.py:1135: UndefinedMetricWarning: F-score is ill-defined and being set to 0.0 in labels with no predicted samples.\n",
      "  'precision', 'predicted', average, warn_for)\n",
      "/usr/local/lib/python3.5/dist-packages/sklearn/neural_network/multilayer_perceptron.py:564: ConvergenceWarning: Stochastic Optimizer: Maximum iterations (200) reached and the optimization hasn't converged yet.\n",
      "  % self.max_iter, ConvergenceWarning)\n"
     ]
    },
    {
     "name": "stdout",
     "output_type": "stream",
     "text": [
      "Took: 83.07019567489624\n",
      "--------------------------------------------------\n",
      "En: 100\tTr: 255\n",
      "Using first variation (Regressor and Classifier with score vectors)\n",
      "epoch 0:\t20.148762443872368\n",
      "epoch 10:\t19.51299403145405\n",
      "epoch 20:\t19.038018125836054\n",
      "epoch 30:\t18.4802044030338\n",
      "epoch 40:\t17.970424750520305\n",
      "epoch 50:\t17.54540464010043\n",
      "Using second variation (average of outputs produced by each set of weight matrices)\n",
      "Epoch 0: 0.9075181474905432\n",
      "Epoch 25: 0.0011656478238266323\n",
      "Epoch 50: 0.0005744559066983702\n",
      "Epoch 75: 0.0003865507811589953\n",
      "Epoch 100: 0.00029294715134203927\n",
      "Epoch 125: 0.0002365828846631251\n",
      "Epoch 150: 0.00019879201520065098\n",
      "W1 size 229\n",
      "W2 size 6\n",
      "W3 size 3\n",
      "Using well-known algorithms: Logistic Regression, RandomForest and MLP\n"
     ]
    },
    {
     "name": "stderr",
     "output_type": "stream",
     "text": [
      "/usr/local/lib/python3.5/dist-packages/sklearn/metrics/classification.py:1135: UndefinedMetricWarning: F-score is ill-defined and being set to 0.0 in labels with no predicted samples.\n",
      "  'precision', 'predicted', average, warn_for)\n",
      "/usr/local/lib/python3.5/dist-packages/sklearn/neural_network/multilayer_perceptron.py:564: ConvergenceWarning: Stochastic Optimizer: Maximum iterations (200) reached and the optimization hasn't converged yet.\n",
      "  % self.max_iter, ConvergenceWarning)\n"
     ]
    },
    {
     "name": "stdout",
     "output_type": "stream",
     "text": [
      "Took: 90.04226231575012\n",
      "--------------------------------------------------\n",
      "En: 100\tTr: 298\n",
      "Using first variation (Regressor and Classifier with score vectors)\n",
      "epoch 0:\t20.39013356843582\n",
      "epoch 10:\t20.168040873686977\n",
      "epoch 20:\t20.0739673317476\n",
      "epoch 30:\t19.858143527842696\n",
      "epoch 40:\t19.660330918390073\n",
      "epoch 50:\t19.50643830934317\n",
      "Using second variation (average of outputs produced by each set of weight matrices)\n",
      "Epoch 0: 0.43658407676206534\n",
      "Epoch 25: 0.0010167104444158681\n",
      "Epoch 50: 0.0005202780575598839\n",
      "Epoch 75: 0.0003530521698315243\n",
      "Epoch 100: 0.00026838172179591296\n",
      "Epoch 125: 0.00021704213094175025\n",
      "Epoch 150: 0.0001825068878527583\n",
      "W1 size 252\n",
      "W2 size 6\n",
      "W3 size 3\n",
      "Using well-known algorithms: Logistic Regression, RandomForest and MLP\n"
     ]
    },
    {
     "name": "stderr",
     "output_type": "stream",
     "text": [
      "/usr/local/lib/python3.5/dist-packages/sklearn/metrics/classification.py:1135: UndefinedMetricWarning: F-score is ill-defined and being set to 0.0 in labels with no predicted samples.\n",
      "  'precision', 'predicted', average, warn_for)\n",
      "/usr/local/lib/python3.5/dist-packages/sklearn/neural_network/multilayer_perceptron.py:564: ConvergenceWarning: Stochastic Optimizer: Maximum iterations (200) reached and the optimization hasn't converged yet.\n",
      "  % self.max_iter, ConvergenceWarning)\n"
     ]
    },
    {
     "name": "stdout",
     "output_type": "stream",
     "text": [
      "Took: 106.10910630226135\n",
      "--------------------------------------------------\n",
      "En: 100\tTr: 340\n",
      "Using first variation (Regressor and Classifier with score vectors)\n",
      "epoch 0:\t21.33721505356282\n",
      "epoch 10:\t21.160372646293137\n",
      "epoch 20:\t20.969879852849886\n",
      "epoch 30:\t20.68894477020967\n",
      "epoch 40:\t20.38552624295675\n",
      "epoch 50:\t20.129405821623042\n",
      "Using second variation (average of outputs produced by each set of weight matrices)\n",
      "Epoch 0: 0.12270187704544355\n",
      "Epoch 25: 0.0007855905180898243\n",
      "Epoch 50: 0.00039188885287173164\n",
      "Epoch 75: 0.0002635602340591509\n",
      "Epoch 100: 0.00019943943152421056\n",
      "Epoch 125: 0.00016083292245444884\n",
      "Epoch 150: 0.00013498774857761863\n",
      "W1 size 250\n",
      "W2 size 6\n",
      "W3 size 3\n",
      "Using well-known algorithms: Logistic Regression, RandomForest and MLP\n"
     ]
    },
    {
     "name": "stderr",
     "output_type": "stream",
     "text": [
      "/usr/local/lib/python3.5/dist-packages/sklearn/metrics/classification.py:1135: UndefinedMetricWarning: F-score is ill-defined and being set to 0.0 in labels with no predicted samples.\n",
      "  'precision', 'predicted', average, warn_for)\n",
      "/usr/local/lib/python3.5/dist-packages/sklearn/neural_network/multilayer_perceptron.py:564: ConvergenceWarning: Stochastic Optimizer: Maximum iterations (200) reached and the optimization hasn't converged yet.\n",
      "  % self.max_iter, ConvergenceWarning)\n"
     ]
    },
    {
     "name": "stdout",
     "output_type": "stream",
     "text": [
      "Took: 115.10657334327698\n",
      "--------------------------------------------------\n",
      "En: 100\tTr: 382\n",
      "Using first variation (Regressor and Classifier with score vectors)\n",
      "epoch 0:\t19.510498729216085\n",
      "epoch 10:\t19.073186165310513\n",
      "epoch 20:\t18.92983329325298\n",
      "epoch 30:\t18.74425225588681\n",
      "epoch 40:\t18.60098771228849\n",
      "epoch 50:\t18.480961051653807\n",
      "Using second variation (average of outputs produced by each set of weight matrices)\n",
      "Epoch 0: 0.6464027771628866\n",
      "Epoch 25: 0.00130632189279899\n",
      "Epoch 50: 0.0006048250063588795\n",
      "Epoch 75: 0.0003986070908546411\n",
      "Epoch 100: 0.00029876402727204885\n",
      "Epoch 125: 0.00023957537327992973\n",
      "Epoch 150: 0.00020031244318271583\n",
      "W1 size 272\n",
      "W2 size 6\n",
      "W3 size 3\n",
      "Using well-known algorithms: Logistic Regression, RandomForest and MLP\n"
     ]
    },
    {
     "name": "stderr",
     "output_type": "stream",
     "text": [
      "/usr/local/lib/python3.5/dist-packages/sklearn/metrics/classification.py:1135: UndefinedMetricWarning: F-score is ill-defined and being set to 0.0 in labels with no predicted samples.\n",
      "  'precision', 'predicted', average, warn_for)\n",
      "/usr/local/lib/python3.5/dist-packages/sklearn/neural_network/multilayer_perceptron.py:564: ConvergenceWarning: Stochastic Optimizer: Maximum iterations (200) reached and the optimization hasn't converged yet.\n",
      "  % self.max_iter, ConvergenceWarning)\n"
     ]
    },
    {
     "name": "stdout",
     "output_type": "stream",
     "text": [
      "Took: 128.92644476890564\n",
      "--------------------------------------------------\n",
      "En: 100\tTr: 425\n",
      "Using first variation (Regressor and Classifier with score vectors)\n",
      "epoch 0:\t18.66639637014408\n",
      "epoch 10:\t18.34161929861889\n",
      "epoch 20:\t18.08054301052305\n",
      "epoch 30:\t17.870043058544052\n",
      "epoch 40:\t17.707035298904362\n",
      "epoch 50:\t17.57980610355906\n",
      "Using second variation (average of outputs produced by each set of weight matrices)\n",
      "Epoch 0: 0.38671314361425274\n",
      "Epoch 25: 0.000795735608439015\n",
      "Epoch 50: 0.0004079590596634424\n",
      "Epoch 75: 0.00027735408837727284\n",
      "Epoch 100: 0.0002111823891121254\n",
      "Epoch 125: 0.00017103433787161478\n",
      "Epoch 150: 0.0001440051227605398\n",
      "W1 size 286\n",
      "W2 size 6\n",
      "W3 size 3\n",
      "Using well-known algorithms: Logistic Regression, RandomForest and MLP\n"
     ]
    },
    {
     "name": "stderr",
     "output_type": "stream",
     "text": [
      "/usr/local/lib/python3.5/dist-packages/sklearn/metrics/classification.py:1135: UndefinedMetricWarning: F-score is ill-defined and being set to 0.0 in labels with no predicted samples.\n",
      "  'precision', 'predicted', average, warn_for)\n",
      "/usr/local/lib/python3.5/dist-packages/sklearn/neural_network/multilayer_perceptron.py:564: ConvergenceWarning: Stochastic Optimizer: Maximum iterations (200) reached and the optimization hasn't converged yet.\n",
      "  % self.max_iter, ConvergenceWarning)\n"
     ]
    },
    {
     "name": "stdout",
     "output_type": "stream",
     "text": [
      "Took: 129.00261092185974\n",
      "--------------------------------------------------\n",
      "En: 150\tTr: 42\n",
      "Using first variation (Regressor and Classifier with score vectors)\n",
      "epoch 0:\t16.947108057518594\n",
      "epoch 10:\t16.60222400928264\n",
      "epoch 20:\t16.286842043449088\n",
      "epoch 30:\t16.158774427091846\n",
      "epoch 40:\t16.065705953012607\n",
      "epoch 50:\t15.9543217025689\n",
      "Using second variation (average of outputs produced by each set of weight matrices)\n",
      "Epoch 0: 1.6923277989538128\n",
      "Epoch 25: 0.0018232516676593609\n",
      "Epoch 50: 0.0009226051578375601\n",
      "Epoch 75: 0.0006246476140804683\n",
      "Epoch 100: 0.000474684828525825\n",
      "Epoch 125: 0.0003839651489883078\n",
      "Epoch 150: 0.00032301574255562865\n",
      "W1 size 166\n",
      "W2 size 5\n",
      "W3 size 3\n",
      "Using well-known algorithms: Logistic Regression, RandomForest and MLP\n"
     ]
    },
    {
     "name": "stderr",
     "output_type": "stream",
     "text": [
      "/usr/local/lib/python3.5/dist-packages/sklearn/metrics/classification.py:1135: UndefinedMetricWarning: F-score is ill-defined and being set to 0.0 in labels with no predicted samples.\n",
      "  'precision', 'predicted', average, warn_for)\n",
      "/usr/local/lib/python3.5/dist-packages/sklearn/neural_network/multilayer_perceptron.py:564: ConvergenceWarning: Stochastic Optimizer: Maximum iterations (200) reached and the optimization hasn't converged yet.\n",
      "  % self.max_iter, ConvergenceWarning)\n"
     ]
    },
    {
     "name": "stdout",
     "output_type": "stream",
     "text": [
      "Took: 49.44884467124939\n",
      "--------------------------------------------------\n",
      "En: 150\tTr: 85\n",
      "Using first variation (Regressor and Classifier with score vectors)\n",
      "epoch 0:\t18.29932962463199\n",
      "epoch 10:\t17.989992799886636\n",
      "epoch 20:\t17.773701956719087\n",
      "epoch 30:\t17.49053275891052\n",
      "epoch 40:\t17.236439455825575\n",
      "epoch 50:\t17.057373201848478\n",
      "Using second variation (average of outputs produced by each set of weight matrices)\n",
      "Epoch 0: 0.31013665068901386\n",
      "Epoch 25: 0.0007503713893610065\n",
      "Epoch 50: 0.0003939853277323833\n",
      "Epoch 75: 0.0002712585785070224\n",
      "Epoch 100: 0.00020826447037935162\n",
      "Epoch 125: 0.0001696757867722333\n",
      "Epoch 150: 0.00014351916907324924\n",
      "W1 size 187\n",
      "W2 size 5\n",
      "W3 size 3\n",
      "Using well-known algorithms: Logistic Regression, RandomForest and MLP\n"
     ]
    },
    {
     "name": "stderr",
     "output_type": "stream",
     "text": [
      "/usr/local/lib/python3.5/dist-packages/sklearn/metrics/classification.py:1135: UndefinedMetricWarning: F-score is ill-defined and being set to 0.0 in labels with no predicted samples.\n",
      "  'precision', 'predicted', average, warn_for)\n"
     ]
    },
    {
     "name": "stdout",
     "output_type": "stream",
     "text": [
      "Took: 67.6987624168396\n",
      "--------------------------------------------------\n",
      "En: 150\tTr: 128\n",
      "Using first variation (Regressor and Classifier with score vectors)\n",
      "epoch 0:\t19.85112840565051\n",
      "epoch 10:\t19.708136572090023\n",
      "epoch 20:\t19.374070872582863\n",
      "epoch 30:\t19.021117069763367\n",
      "epoch 40:\t18.679896341106197\n",
      "epoch 50:\t18.30878761582851\n",
      "Using second variation (average of outputs produced by each set of weight matrices)\n",
      "Epoch 0: 0.8541390841292177\n",
      "Epoch 25: 0.0010646659420279123\n",
      "Epoch 50: 0.0005471120492488738\n",
      "Epoch 75: 0.0003726313368980895\n",
      "Epoch 100: 0.0002841358112376361\n",
      "Epoch 125: 0.00023035885273024138\n",
      "Epoch 150: 0.00019412566292502685\n",
      "W1 size 222\n",
      "W2 size 5\n",
      "W3 size 3\n",
      "Using well-known algorithms: Logistic Regression, RandomForest and MLP\n"
     ]
    },
    {
     "name": "stderr",
     "output_type": "stream",
     "text": [
      "/usr/local/lib/python3.5/dist-packages/sklearn/metrics/classification.py:1135: UndefinedMetricWarning: F-score is ill-defined and being set to 0.0 in labels with no predicted samples.\n",
      "  'precision', 'predicted', average, warn_for)\n",
      "/usr/local/lib/python3.5/dist-packages/sklearn/neural_network/multilayer_perceptron.py:564: ConvergenceWarning: Stochastic Optimizer: Maximum iterations (200) reached and the optimization hasn't converged yet.\n",
      "  % self.max_iter, ConvergenceWarning)\n"
     ]
    },
    {
     "name": "stdout",
     "output_type": "stream",
     "text": [
      "Took: 73.78414821624756\n",
      "--------------------------------------------------\n",
      "En: 150\tTr: 170\n",
      "Using first variation (Regressor and Classifier with score vectors)\n",
      "epoch 0:\t18.069604596202986\n",
      "epoch 10:\t17.880091694340972\n",
      "epoch 20:\t17.64567765992328\n",
      "epoch 30:\t17.453797820445168\n",
      "epoch 40:\t17.27172664910163\n",
      "epoch 50:\t17.225739569048287\n",
      "Using second variation (average of outputs produced by each set of weight matrices)\n",
      "Epoch 0: 1.4132334485933427\n",
      "Epoch 25: 0.0012533936425400238\n",
      "Epoch 50: 0.0006562799567524369\n",
      "Epoch 75: 0.0004503065563663533\n",
      "Epoch 100: 0.000344597298657634\n",
      "Epoch 125: 0.00027993172291385093\n",
      "Epoch 150: 0.0002361586243408098\n",
      "W1 size 241\n",
      "W2 size 6\n",
      "W3 size 3\n",
      "Using well-known algorithms: Logistic Regression, RandomForest and MLP\n"
     ]
    },
    {
     "name": "stderr",
     "output_type": "stream",
     "text": [
      "/usr/local/lib/python3.5/dist-packages/sklearn/metrics/classification.py:1135: UndefinedMetricWarning: F-score is ill-defined and being set to 0.0 in labels with no predicted samples.\n",
      "  'precision', 'predicted', average, warn_for)\n",
      "/usr/local/lib/python3.5/dist-packages/sklearn/neural_network/multilayer_perceptron.py:564: ConvergenceWarning: Stochastic Optimizer: Maximum iterations (200) reached and the optimization hasn't converged yet.\n",
      "  % self.max_iter, ConvergenceWarning)\n"
     ]
    },
    {
     "name": "stdout",
     "output_type": "stream",
     "text": [
      "Took: 90.40392446517944\n",
      "--------------------------------------------------\n",
      "En: 150\tTr: 212\n",
      "Using first variation (Regressor and Classifier with score vectors)\n",
      "epoch 0:\t21.658189100977967\n",
      "epoch 10:\t20.89010174266467\n",
      "epoch 20:\t20.607540521182596\n",
      "epoch 30:\t20.396845044030112\n",
      "epoch 40:\t20.210938685038077\n",
      "epoch 50:\t20.0203728687367\n",
      "Using second variation (average of outputs produced by each set of weight matrices)\n",
      "Epoch 0: 0.1399835501209036\n",
      "Epoch 25: 0.0007774866171594044\n",
      "Epoch 50: 0.0004055933995230288\n",
      "Epoch 75: 0.0002773954757193124\n",
      "Epoch 100: 0.00021175345983257004\n",
      "Epoch 125: 0.00017167836378501454\n",
      "Epoch 150: 0.00014460136030134112\n",
      "W1 size 250\n",
      "W2 size 6\n",
      "W3 size 3\n",
      "Using well-known algorithms: Logistic Regression, RandomForest and MLP\n"
     ]
    },
    {
     "name": "stderr",
     "output_type": "stream",
     "text": [
      "/usr/local/lib/python3.5/dist-packages/sklearn/metrics/classification.py:1135: UndefinedMetricWarning: F-score is ill-defined and being set to 0.0 in labels with no predicted samples.\n",
      "  'precision', 'predicted', average, warn_for)\n",
      "/usr/local/lib/python3.5/dist-packages/sklearn/neural_network/multilayer_perceptron.py:564: ConvergenceWarning: Stochastic Optimizer: Maximum iterations (200) reached and the optimization hasn't converged yet.\n",
      "  % self.max_iter, ConvergenceWarning)\n"
     ]
    },
    {
     "name": "stdout",
     "output_type": "stream",
     "text": [
      "Took: 99.01391625404358\n",
      "--------------------------------------------------\n",
      "En: 150\tTr: 255\n",
      "Using first variation (Regressor and Classifier with score vectors)\n",
      "epoch 0:\t18.4373033183363\n",
      "epoch 10:\t17.917755442074938\n",
      "epoch 20:\t17.845733696756042\n",
      "epoch 30:\t17.77329954195545\n",
      "epoch 40:\t17.713122872362025\n",
      "epoch 50:\t17.67126324918542\n",
      "Using second variation (average of outputs produced by each set of weight matrices)\n",
      "Epoch 0: 0.5413218710077954\n",
      "Epoch 25: 0.0010403811717796395\n",
      "Epoch 50: 0.0005489722099202641\n",
      "Epoch 75: 0.00037725098741676156\n",
      "Epoch 100: 0.00028874149903468426\n",
      "Epoch 125: 0.00023447727449247733\n",
      "Epoch 150: 0.00019769856696318948\n",
      "W1 size 275\n",
      "W2 size 6\n",
      "W3 size 3\n",
      "Using well-known algorithms: Logistic Regression, RandomForest and MLP\n"
     ]
    },
    {
     "name": "stderr",
     "output_type": "stream",
     "text": [
      "/usr/local/lib/python3.5/dist-packages/sklearn/metrics/classification.py:1135: UndefinedMetricWarning: F-score is ill-defined and being set to 0.0 in labels with no predicted samples.\n",
      "  'precision', 'predicted', average, warn_for)\n"
     ]
    },
    {
     "name": "stdout",
     "output_type": "stream",
     "text": [
      "Took: 111.57959628105164\n",
      "--------------------------------------------------\n",
      "En: 150\tTr: 298\n",
      "Using first variation (Regressor and Classifier with score vectors)\n",
      "epoch 0:\t19.82318822547477\n",
      "epoch 10:\t19.644198599004696\n",
      "epoch 20:\t19.400039765618793\n",
      "epoch 30:\t19.117452091121546\n",
      "epoch 40:\t18.843130525751047\n",
      "epoch 50:\t18.61717309995896\n",
      "Using second variation (average of outputs produced by each set of weight matrices)\n",
      "Epoch 0: 1.2821053253829253\n",
      "Epoch 25: 0.0019966056854995146\n",
      "Epoch 50: 0.000808606978074928\n",
      "Epoch 75: 0.0005216774472875306\n",
      "Epoch 100: 0.0003885975836940122\n",
      "Epoch 125: 0.00031107268208287387\n",
      "Epoch 150: 0.00026007979064382854\n",
      "W1 size 276\n",
      "W2 size 6\n",
      "W3 size 3\n",
      "Using well-known algorithms: Logistic Regression, RandomForest and MLP\n"
     ]
    },
    {
     "name": "stderr",
     "output_type": "stream",
     "text": [
      "/usr/local/lib/python3.5/dist-packages/sklearn/metrics/classification.py:1135: UndefinedMetricWarning: F-score is ill-defined and being set to 0.0 in labels with no predicted samples.\n",
      "  'precision', 'predicted', average, warn_for)\n"
     ]
    },
    {
     "name": "stdout",
     "output_type": "stream",
     "text": [
      "Took: 113.52677774429321\n",
      "--------------------------------------------------\n",
      "En: 150\tTr: 340\n",
      "Using first variation (Regressor and Classifier with score vectors)\n",
      "epoch 0:\t19.304758624892635\n",
      "epoch 10:\t18.986194640060447\n",
      "epoch 20:\t18.80453399471509\n",
      "epoch 30:\t18.685617901911485\n",
      "epoch 40:\t18.585146172332827\n",
      "epoch 50:\t18.497700130833195\n",
      "Using second variation (average of outputs produced by each set of weight matrices)\n",
      "Epoch 0: 0.36863314590156554\n",
      "Epoch 25: 0.000632666391799589\n",
      "Epoch 50: 0.0003440464193698977\n",
      "Epoch 75: 0.00023948011497942177\n",
      "Epoch 100: 0.0001847453576085534\n",
      "Epoch 125: 0.0001508760593844901\n",
      "Epoch 150: 0.00012777298644689892\n",
      "W1 size 292\n",
      "W2 size 6\n",
      "W3 size 3\n",
      "Using well-known algorithms: Logistic Regression, RandomForest and MLP\n"
     ]
    },
    {
     "name": "stderr",
     "output_type": "stream",
     "text": [
      "/usr/local/lib/python3.5/dist-packages/sklearn/metrics/classification.py:1135: UndefinedMetricWarning: F-score is ill-defined and being set to 0.0 in labels with no predicted samples.\n",
      "  'precision', 'predicted', average, warn_for)\n",
      "/usr/local/lib/python3.5/dist-packages/sklearn/neural_network/multilayer_perceptron.py:564: ConvergenceWarning: Stochastic Optimizer: Maximum iterations (200) reached and the optimization hasn't converged yet.\n",
      "  % self.max_iter, ConvergenceWarning)\n"
     ]
    },
    {
     "name": "stdout",
     "output_type": "stream",
     "text": [
      "Took: 130.3985755443573\n",
      "--------------------------------------------------\n",
      "En: 150\tTr: 382\n",
      "Using first variation (Regressor and Classifier with score vectors)\n",
      "epoch 0:\t20.508102470724406\n",
      "epoch 10:\t20.551677867309632\n",
      "epoch 20:\t20.44900422012722\n",
      "epoch 30:\t20.3480284521527\n",
      "epoch 40:\t20.24785371900216\n",
      "epoch 50:\t20.150845299237684\n",
      "Using second variation (average of outputs produced by each set of weight matrices)\n",
      "Epoch 0: 1.4712923049265925\n",
      "Epoch 25: 0.0014099477352457293\n",
      "Epoch 50: 0.0006139613632868137\n",
      "Epoch 75: 0.000401457123529541\n",
      "Epoch 100: 0.0003003802762581307\n",
      "Epoch 125: 0.00024082713099123735\n",
      "Epoch 150: 0.00020141021736530708\n",
      "W1 size 319\n",
      "W2 size 6\n",
      "W3 size 3\n",
      "Using well-known algorithms: Logistic Regression, RandomForest and MLP\n"
     ]
    },
    {
     "name": "stderr",
     "output_type": "stream",
     "text": [
      "/usr/local/lib/python3.5/dist-packages/sklearn/metrics/classification.py:1135: UndefinedMetricWarning: F-score is ill-defined and being set to 0.0 in labels with no predicted samples.\n",
      "  'precision', 'predicted', average, warn_for)\n",
      "/usr/local/lib/python3.5/dist-packages/sklearn/neural_network/multilayer_perceptron.py:564: ConvergenceWarning: Stochastic Optimizer: Maximum iterations (200) reached and the optimization hasn't converged yet.\n",
      "  % self.max_iter, ConvergenceWarning)\n"
     ]
    },
    {
     "name": "stdout",
     "output_type": "stream",
     "text": [
      "Took: 137.9970052242279\n",
      "--------------------------------------------------\n",
      "En: 150\tTr: 425\n",
      "Using first variation (Regressor and Classifier with score vectors)\n",
      "epoch 0:\t28.605008847283433\n",
      "epoch 10:\t27.20099808897453\n",
      "epoch 20:\t26.981614460090398\n",
      "epoch 30:\t26.833606603327883\n",
      "epoch 40:\t26.71568012503066\n",
      "epoch 50:\t26.60940690392235\n",
      "Using second variation (average of outputs produced by each set of weight matrices)\n",
      "Epoch 0: 0.49259905430130885\n",
      "Epoch 25: 0.0008097349928091361\n",
      "Epoch 50: 0.0004146937860806425\n",
      "Epoch 75: 0.0002820869183062027\n",
      "Epoch 100: 0.00021492353388905287\n",
      "Epoch 125: 0.00017414516065395732\n",
      "Epoch 150: 0.00014668134740420752\n",
      "W1 size 320\n",
      "W2 size 6\n",
      "W3 size 3\n",
      "Using well-known algorithms: Logistic Regression, RandomForest and MLP\n"
     ]
    },
    {
     "name": "stderr",
     "output_type": "stream",
     "text": [
      "/usr/local/lib/python3.5/dist-packages/sklearn/metrics/classification.py:1135: UndefinedMetricWarning: F-score is ill-defined and being set to 0.0 in labels with no predicted samples.\n",
      "  'precision', 'predicted', average, warn_for)\n",
      "/usr/local/lib/python3.5/dist-packages/sklearn/neural_network/multilayer_perceptron.py:564: ConvergenceWarning: Stochastic Optimizer: Maximum iterations (200) reached and the optimization hasn't converged yet.\n",
      "  % self.max_iter, ConvergenceWarning)\n"
     ]
    },
    {
     "name": "stdout",
     "output_type": "stream",
     "text": [
      "Took: 145.7211470603943\n",
      "--------------------------------------------------\n",
      "En: 200\tTr: 42\n",
      "Using first variation (Regressor and Classifier with score vectors)\n",
      "epoch 0:\t17.970803242413265\n",
      "epoch 10:\t17.642480178616765\n",
      "epoch 20:\t17.601976691885074\n",
      "epoch 30:\t17.500765201291234\n",
      "epoch 40:\t17.401694550156737\n",
      "epoch 50:\t17.298988962954567\n",
      "Using second variation (average of outputs produced by each set of weight matrices)\n",
      "Epoch 0: 0.3445719664483962\n",
      "Epoch 25: 0.0007903964723185538\n",
      "Epoch 50: 0.0004100400625850468\n",
      "Epoch 75: 0.0002799751100265891\n",
      "Epoch 100: 0.0002137276447140036\n",
      "Epoch 125: 0.0001733961183260878\n",
      "Epoch 150: 0.00014619322012579975\n",
      "W1 size 183\n",
      "W2 size 5\n",
      "W3 size 3\n",
      "Using well-known algorithms: Logistic Regression, RandomForest and MLP\n"
     ]
    },
    {
     "name": "stderr",
     "output_type": "stream",
     "text": [
      "/usr/local/lib/python3.5/dist-packages/sklearn/metrics/classification.py:1135: UndefinedMetricWarning: F-score is ill-defined and being set to 0.0 in labels with no predicted samples.\n",
      "  'precision', 'predicted', average, warn_for)\n"
     ]
    },
    {
     "name": "stdout",
     "output_type": "stream",
     "text": [
      "Took: 65.41935658454895\n",
      "--------------------------------------------------\n",
      "En: 200\tTr: 85\n",
      "Using first variation (Regressor and Classifier with score vectors)\n",
      "epoch 0:\t20.390169012787034\n",
      "epoch 10:\t20.044374881329627\n",
      "epoch 20:\t19.761119582293826\n",
      "epoch 30:\t19.506112306443427\n",
      "epoch 40:\t19.31610042344968\n",
      "epoch 50:\t19.15976995583868\n",
      "Using second variation (average of outputs produced by each set of weight matrices)\n",
      "Epoch 0: 0.8803981070332204\n",
      "Epoch 25: 0.001434646765445049\n",
      "Epoch 50: 0.0006370766614538613\n",
      "Epoch 75: 0.0004203178580770814\n",
      "Epoch 100: 0.0003164888660131937\n",
      "Epoch 125: 0.0002549596171144929\n",
      "Epoch 150: 0.000214050820032422\n",
      "W1 size 230\n",
      "W2 size 6\n",
      "W3 size 3\n",
      "Using well-known algorithms: Logistic Regression, RandomForest and MLP\n"
     ]
    },
    {
     "name": "stderr",
     "output_type": "stream",
     "text": [
      "/usr/local/lib/python3.5/dist-packages/sklearn/metrics/classification.py:1135: UndefinedMetricWarning: F-score is ill-defined and being set to 0.0 in labels with no predicted samples.\n",
      "  'precision', 'predicted', average, warn_for)\n",
      "/usr/local/lib/python3.5/dist-packages/sklearn/neural_network/multilayer_perceptron.py:564: ConvergenceWarning: Stochastic Optimizer: Maximum iterations (200) reached and the optimization hasn't converged yet.\n",
      "  % self.max_iter, ConvergenceWarning)\n"
     ]
    },
    {
     "name": "stdout",
     "output_type": "stream",
     "text": [
      "Took: 80.9484212398529\n",
      "--------------------------------------------------\n",
      "En: 200\tTr: 128\n",
      "Using first variation (Regressor and Classifier with score vectors)\n",
      "epoch 0:\t20.248866845399352\n",
      "epoch 10:\t20.110558126137352\n",
      "epoch 20:\t19.788384660185645\n",
      "epoch 30:\t19.56153066464236\n",
      "epoch 40:\t19.36442845663483\n",
      "epoch 50:\t19.187545451507912\n",
      "Using second variation (average of outputs produced by each set of weight matrices)\n",
      "Epoch 0: 0.636312016165953\n",
      "Epoch 25: 0.001442479129999337\n",
      "Epoch 50: 0.0007098042284557065\n",
      "Epoch 75: 0.00047636720787532324\n",
      "Epoch 100: 0.000360244958871374\n",
      "Epoch 125: 0.0002904436677279698\n",
      "Epoch 150: 0.00024373125761920417\n",
      "W1 size 242\n",
      "W2 size 6\n",
      "W3 size 3\n",
      "Using well-known algorithms: Logistic Regression, RandomForest and MLP\n"
     ]
    },
    {
     "name": "stderr",
     "output_type": "stream",
     "text": [
      "/usr/local/lib/python3.5/dist-packages/sklearn/metrics/classification.py:1135: UndefinedMetricWarning: F-score is ill-defined and being set to 0.0 in labels with no predicted samples.\n",
      "  'precision', 'predicted', average, warn_for)\n",
      "/usr/local/lib/python3.5/dist-packages/sklearn/neural_network/multilayer_perceptron.py:564: ConvergenceWarning: Stochastic Optimizer: Maximum iterations (200) reached and the optimization hasn't converged yet.\n",
      "  % self.max_iter, ConvergenceWarning)\n"
     ]
    },
    {
     "name": "stdout",
     "output_type": "stream",
     "text": [
      "Took: 93.03066992759705\n",
      "--------------------------------------------------\n",
      "En: 200\tTr: 170\n",
      "Using first variation (Regressor and Classifier with score vectors)\n",
      "epoch 0:\t21.033485923020365\n",
      "epoch 10:\t21.162361247478035\n",
      "epoch 20:\t20.8160087768878\n",
      "epoch 30:\t20.542577564435348\n",
      "epoch 40:\t20.32637760124005\n",
      "epoch 50:\t20.13252695694007\n",
      "Using second variation (average of outputs produced by each set of weight matrices)\n",
      "Epoch 0: 0.9284298487826336\n",
      "Epoch 25: 0.0011921374734048475\n",
      "Epoch 50: 0.0006266421016545647\n",
      "Epoch 75: 0.0004313934300730073\n",
      "Epoch 100: 0.00033112038036274435\n",
      "Epoch 125: 0.00026970766100276164\n",
      "Epoch 150: 0.0002280815202338984\n",
      "W1 size 260\n",
      "W2 size 6\n",
      "W3 size 3\n",
      "Using well-known algorithms: Logistic Regression, RandomForest and MLP\n"
     ]
    },
    {
     "name": "stderr",
     "output_type": "stream",
     "text": [
      "/usr/local/lib/python3.5/dist-packages/sklearn/metrics/classification.py:1135: UndefinedMetricWarning: F-score is ill-defined and being set to 0.0 in labels with no predicted samples.\n",
      "  'precision', 'predicted', average, warn_for)\n",
      "/usr/local/lib/python3.5/dist-packages/sklearn/neural_network/multilayer_perceptron.py:564: ConvergenceWarning: Stochastic Optimizer: Maximum iterations (200) reached and the optimization hasn't converged yet.\n",
      "  % self.max_iter, ConvergenceWarning)\n"
     ]
    },
    {
     "name": "stdout",
     "output_type": "stream",
     "text": [
      "Took: 97.77238368988037\n",
      "--------------------------------------------------\n",
      "En: 200\tTr: 212\n",
      "Using first variation (Regressor and Classifier with score vectors)\n",
      "epoch 0:\t18.557705470634392\n",
      "epoch 10:\t18.281671364496166\n",
      "epoch 20:\t18.24865184989156\n",
      "epoch 30:\t18.175242396892727\n",
      "epoch 40:\t18.094125612307767\n",
      "epoch 50:\t18.01550943240393\n",
      "Using second variation (average of outputs produced by each set of weight matrices)\n",
      "Epoch 0: 0.6983529981633643\n",
      "Epoch 25: 0.002639234530272488\n",
      "Epoch 50: 0.0009568883458974902\n",
      "Epoch 75: 0.000607815810715606\n",
      "Epoch 100: 0.0004503872834345119\n",
      "Epoch 125: 0.000359455003599676\n",
      "Epoch 150: 0.00029985489052916084\n",
      "W1 size 282\n",
      "W2 size 6\n",
      "W3 size 3\n",
      "Using well-known algorithms: Logistic Regression, RandomForest and MLP\n"
     ]
    },
    {
     "name": "stderr",
     "output_type": "stream",
     "text": [
      "/usr/local/lib/python3.5/dist-packages/sklearn/metrics/classification.py:1135: UndefinedMetricWarning: F-score is ill-defined and being set to 0.0 in labels with no predicted samples.\n",
      "  'precision', 'predicted', average, warn_for)\n"
     ]
    },
    {
     "name": "stdout",
     "output_type": "stream",
     "text": [
      "Took: 101.66141986846924\n",
      "--------------------------------------------------\n",
      "En: 200\tTr: 255\n",
      "Using first variation (Regressor and Classifier with score vectors)\n",
      "epoch 0:\t17.759004836250288\n",
      "epoch 10:\t17.63766171544758\n",
      "epoch 20:\t17.493695960898638\n",
      "epoch 30:\t17.428512503785882\n",
      "epoch 40:\t17.339553924336656\n",
      "epoch 50:\t17.26871023763186\n",
      "Using second variation (average of outputs produced by each set of weight matrices)\n",
      "Epoch 0: 0.5158612236462944\n",
      "Epoch 25: 0.0007215871244699326\n",
      "Epoch 50: 0.00036748145890469036\n",
      "Epoch 75: 0.0002486590924004591\n",
      "Epoch 100: 0.00018869383141171576\n",
      "Epoch 125: 0.00015242095239325582\n",
      "Epoch 150: 0.00012806063806309156\n",
      "W1 size 285\n",
      "W2 size 6\n",
      "W3 size 3\n",
      "Using well-known algorithms: Logistic Regression, RandomForest and MLP\n"
     ]
    },
    {
     "name": "stderr",
     "output_type": "stream",
     "text": [
      "/usr/local/lib/python3.5/dist-packages/sklearn/metrics/classification.py:1135: UndefinedMetricWarning: F-score is ill-defined and being set to 0.0 in labels with no predicted samples.\n",
      "  'precision', 'predicted', average, warn_for)\n",
      "/usr/local/lib/python3.5/dist-packages/sklearn/neural_network/multilayer_perceptron.py:564: ConvergenceWarning: Stochastic Optimizer: Maximum iterations (200) reached and the optimization hasn't converged yet.\n",
      "  % self.max_iter, ConvergenceWarning)\n"
     ]
    },
    {
     "name": "stdout",
     "output_type": "stream",
     "text": [
      "Took: 121.48117232322693\n",
      "--------------------------------------------------\n",
      "En: 200\tTr: 298\n",
      "Using first variation (Regressor and Classifier with score vectors)\n",
      "epoch 0:\t24.22836363345762\n",
      "epoch 10:\t23.704707131707504\n",
      "epoch 20:\t23.457020579505947\n",
      "epoch 30:\t23.307474892930596\n",
      "epoch 40:\t23.047764640635446\n",
      "epoch 50:\t22.833952397094635\n",
      "Using second variation (average of outputs produced by each set of weight matrices)\n",
      "Epoch 0: 0.25682014201997244\n",
      "Epoch 25: 0.000505577467558174\n",
      "Epoch 50: 0.0002603718608278688\n",
      "Epoch 75: 0.00017650228333030462\n",
      "Epoch 100: 0.00013392576164560172\n",
      "Epoch 125: 0.00010810037409083337\n",
      "Epoch 150: 9.074519372958375e-05\n",
      "W1 size 312\n",
      "W2 size 6\n",
      "W3 size 3\n",
      "Using well-known algorithms: Logistic Regression, RandomForest and MLP\n"
     ]
    },
    {
     "name": "stderr",
     "output_type": "stream",
     "text": [
      "/usr/local/lib/python3.5/dist-packages/sklearn/metrics/classification.py:1135: UndefinedMetricWarning: F-score is ill-defined and being set to 0.0 in labels with no predicted samples.\n",
      "  'precision', 'predicted', average, warn_for)\n",
      "/usr/local/lib/python3.5/dist-packages/sklearn/neural_network/multilayer_perceptron.py:564: ConvergenceWarning: Stochastic Optimizer: Maximum iterations (200) reached and the optimization hasn't converged yet.\n",
      "  % self.max_iter, ConvergenceWarning)\n"
     ]
    },
    {
     "name": "stdout",
     "output_type": "stream",
     "text": [
      "Took: 136.80647945404053\n",
      "--------------------------------------------------\n",
      "En: 200\tTr: 340\n",
      "Using first variation (Regressor and Classifier with score vectors)\n",
      "epoch 0:\t19.226927963769302\n",
      "epoch 10:\t19.295039680562578\n",
      "epoch 20:\t19.183645653082365\n",
      "epoch 30:\t19.110619903515115\n",
      "epoch 40:\t19.054866523711585\n",
      "epoch 50:\t19.001081285228565\n",
      "Using second variation (average of outputs produced by each set of weight matrices)\n",
      "Epoch 0: 0.2992241467843471\n",
      "Epoch 25: 0.0008869968686716247\n",
      "Epoch 50: 0.00039649163595617174\n",
      "Epoch 75: 0.00025859245393554625\n",
      "Epoch 100: 0.00019272504336706114\n",
      "Epoch 125: 0.00015396687652050723\n",
      "Epoch 150: 0.0001283958964567628\n",
      "W1 size 328\n",
      "W2 size 6\n",
      "W3 size 3\n",
      "Using well-known algorithms: Logistic Regression, RandomForest and MLP\n"
     ]
    },
    {
     "name": "stderr",
     "output_type": "stream",
     "text": [
      "/usr/local/lib/python3.5/dist-packages/sklearn/metrics/classification.py:1135: UndefinedMetricWarning: F-score is ill-defined and being set to 0.0 in labels with no predicted samples.\n",
      "  'precision', 'predicted', average, warn_for)\n",
      "/usr/local/lib/python3.5/dist-packages/sklearn/neural_network/multilayer_perceptron.py:564: ConvergenceWarning: Stochastic Optimizer: Maximum iterations (200) reached and the optimization hasn't converged yet.\n",
      "  % self.max_iter, ConvergenceWarning)\n"
     ]
    },
    {
     "name": "stdout",
     "output_type": "stream",
     "text": [
      "Took: 128.62613916397095\n",
      "--------------------------------------------------\n",
      "En: 200\tTr: 382\n",
      "Using first variation (Regressor and Classifier with score vectors)\n",
      "epoch 0:\t20.77403435170883\n",
      "epoch 10:\t20.686140407037286\n",
      "epoch 20:\t20.3141239913431\n",
      "epoch 30:\t20.15695523626241\n",
      "epoch 40:\t20.06088219612091\n",
      "epoch 50:\t19.98379141009507\n",
      "Using second variation (average of outputs produced by each set of weight matrices)\n",
      "Epoch 0: 0.6847878234419725\n",
      "Epoch 25: 0.0008806058006301103\n",
      "Epoch 50: 0.00044957370546026425\n",
      "Epoch 75: 0.0003051640051115759\n",
      "Epoch 100: 0.0002320966427110641\n",
      "Epoch 125: 0.0001877734594869152\n",
      "Epoch 150: 0.00015794330326977473\n",
      "W1 size 333\n",
      "W2 size 6\n",
      "W3 size 3\n",
      "Using well-known algorithms: Logistic Regression, RandomForest and MLP\n"
     ]
    },
    {
     "name": "stderr",
     "output_type": "stream",
     "text": [
      "/usr/local/lib/python3.5/dist-packages/sklearn/metrics/classification.py:1135: UndefinedMetricWarning: F-score is ill-defined and being set to 0.0 in labels with no predicted samples.\n",
      "  'precision', 'predicted', average, warn_for)\n",
      "/usr/local/lib/python3.5/dist-packages/sklearn/neural_network/multilayer_perceptron.py:564: ConvergenceWarning: Stochastic Optimizer: Maximum iterations (200) reached and the optimization hasn't converged yet.\n",
      "  % self.max_iter, ConvergenceWarning)\n"
     ]
    },
    {
     "name": "stdout",
     "output_type": "stream",
     "text": [
      "Took: 149.49961233139038\n",
      "--------------------------------------------------\n",
      "En: 200\tTr: 425\n",
      "Using first variation (Regressor and Classifier with score vectors)\n",
      "epoch 0:\t20.2210747175983\n",
      "epoch 10:\t20.20409832062851\n",
      "epoch 20:\t20.016499635071863\n",
      "epoch 30:\t19.913335710327516\n",
      "epoch 40:\t19.81556826462989\n",
      "epoch 50:\t19.72264369319839\n",
      "Using second variation (average of outputs produced by each set of weight matrices)\n",
      "Epoch 0: 0.15574765403418472\n",
      "Epoch 25: 0.0005129629906712353\n",
      "Epoch 50: 0.00025938998180670295\n",
      "Epoch 75: 0.0001754404581341305\n",
      "Epoch 100: 0.0001333065088904732\n",
      "Epoch 125: 0.00010787447192485616\n",
      "Epoch 150: 9.081910136844726e-05\n",
      "W1 size 353\n",
      "W2 size 6\n",
      "W3 size 3\n",
      "Using well-known algorithms: Logistic Regression, RandomForest and MLP\n"
     ]
    },
    {
     "name": "stderr",
     "output_type": "stream",
     "text": [
      "/usr/local/lib/python3.5/dist-packages/sklearn/metrics/classification.py:1135: UndefinedMetricWarning: F-score is ill-defined and being set to 0.0 in labels with no predicted samples.\n",
      "  'precision', 'predicted', average, warn_for)\n"
     ]
    },
    {
     "name": "stdout",
     "output_type": "stream",
     "text": [
      "Took: 169.7226104736328\n",
      "--------------------------------------------------\n",
      "En: 250\tTr: 42\n",
      "Using first variation (Regressor and Classifier with score vectors)\n",
      "epoch 0:\t20.79621124314549\n",
      "epoch 10:\t19.953296311472275\n",
      "epoch 20:\t19.624396981748305\n",
      "epoch 30:\t19.458418674943484\n",
      "epoch 40:\t19.385304973840498\n",
      "epoch 50:\t19.29823252542385\n",
      "Using second variation (average of outputs produced by each set of weight matrices)\n",
      "Epoch 0: 0.43904387578609244\n",
      "Epoch 25: 0.0009130544451160558\n",
      "Epoch 50: 0.00046748403285816725\n",
      "Epoch 75: 0.0003178769656624245\n",
      "Epoch 100: 0.00024212016401577524\n",
      "Epoch 125: 0.00019613683138133944\n",
      "Epoch 150: 0.00016516668789649138\n",
      "W1 size 227\n",
      "W2 size 5\n",
      "W3 size 3\n",
      "Using well-known algorithms: Logistic Regression, RandomForest and MLP\n"
     ]
    },
    {
     "name": "stderr",
     "output_type": "stream",
     "text": [
      "/usr/local/lib/python3.5/dist-packages/sklearn/metrics/classification.py:1135: UndefinedMetricWarning: F-score is ill-defined and being set to 0.0 in labels with no predicted samples.\n",
      "  'precision', 'predicted', average, warn_for)\n",
      "/usr/local/lib/python3.5/dist-packages/sklearn/neural_network/multilayer_perceptron.py:564: ConvergenceWarning: Stochastic Optimizer: Maximum iterations (200) reached and the optimization hasn't converged yet.\n",
      "  % self.max_iter, ConvergenceWarning)\n"
     ]
    },
    {
     "name": "stdout",
     "output_type": "stream",
     "text": [
      "Took: 81.49054002761841\n",
      "--------------------------------------------------\n",
      "En: 250\tTr: 85\n",
      "Using first variation (Regressor and Classifier with score vectors)\n",
      "epoch 0:\t19.290458405265767\n",
      "epoch 10:\t18.993262855794182\n",
      "epoch 20:\t18.95713682265593\n",
      "epoch 30:\t18.97970471198458\n",
      "epoch 40:\t18.996210606220334\n",
      "epoch 50:\t19.018906393499257\n",
      "Using second variation (average of outputs produced by each set of weight matrices)\n",
      "Epoch 0: 0.40798172215804646\n",
      "Epoch 25: 0.0007490936992502215\n",
      "Epoch 50: 0.00039021852600833526\n",
      "Epoch 75: 0.0002672021401964593\n",
      "Epoch 100: 0.00020443078041859647\n",
      "Epoch 125: 0.00016616009778354157\n",
      "Epoch 150: 0.00014030979999599415\n",
      "W1 size 245\n",
      "W2 size 5\n",
      "W3 size 3\n",
      "Using well-known algorithms: Logistic Regression, RandomForest and MLP\n"
     ]
    },
    {
     "name": "stderr",
     "output_type": "stream",
     "text": [
      "/usr/local/lib/python3.5/dist-packages/sklearn/metrics/classification.py:1135: UndefinedMetricWarning: F-score is ill-defined and being set to 0.0 in labels with no predicted samples.\n",
      "  'precision', 'predicted', average, warn_for)\n",
      "/usr/local/lib/python3.5/dist-packages/sklearn/neural_network/multilayer_perceptron.py:564: ConvergenceWarning: Stochastic Optimizer: Maximum iterations (200) reached and the optimization hasn't converged yet.\n",
      "  % self.max_iter, ConvergenceWarning)\n"
     ]
    },
    {
     "name": "stdout",
     "output_type": "stream",
     "text": [
      "Took: 89.05796551704407\n",
      "--------------------------------------------------\n",
      "En: 250\tTr: 128\n",
      "Using first variation (Regressor and Classifier with score vectors)\n",
      "epoch 0:\t20.108431760503304\n",
      "epoch 10:\t19.4692729073046\n",
      "epoch 20:\t19.462457715800827\n",
      "epoch 30:\t19.31683438599732\n",
      "epoch 40:\t19.167083877512272\n",
      "epoch 50:\t19.024437384351117\n",
      "Using second variation (average of outputs produced by each set of weight matrices)\n",
      "Epoch 0: 0.550528576944007\n",
      "Epoch 25: 0.0009442640476243269\n",
      "Epoch 50: 0.0004909058410989985\n",
      "Epoch 75: 0.00033399030537019803\n",
      "Epoch 100: 0.00025395293336109853\n",
      "Epoch 125: 0.0002052857373853695\n",
      "Epoch 150: 0.0001725130550205771\n",
      "W1 size 275\n",
      "W2 size 6\n",
      "W3 size 3\n",
      "Using well-known algorithms: Logistic Regression, RandomForest and MLP\n"
     ]
    },
    {
     "name": "stderr",
     "output_type": "stream",
     "text": [
      "/usr/local/lib/python3.5/dist-packages/sklearn/metrics/classification.py:1135: UndefinedMetricWarning: F-score is ill-defined and being set to 0.0 in labels with no predicted samples.\n",
      "  'precision', 'predicted', average, warn_for)\n",
      "/usr/local/lib/python3.5/dist-packages/sklearn/neural_network/multilayer_perceptron.py:564: ConvergenceWarning: Stochastic Optimizer: Maximum iterations (200) reached and the optimization hasn't converged yet.\n",
      "  % self.max_iter, ConvergenceWarning)\n"
     ]
    },
    {
     "name": "stdout",
     "output_type": "stream",
     "text": [
      "Took: 107.10461902618408\n",
      "--------------------------------------------------\n",
      "En: 250\tTr: 170\n",
      "Using first variation (Regressor and Classifier with score vectors)\n",
      "epoch 0:\t18.3638422036328\n",
      "epoch 10:\t18.286022771391913\n",
      "epoch 20:\t18.105986430096547\n",
      "epoch 30:\t17.947609343881\n",
      "epoch 40:\t17.81695018536271\n",
      "epoch 50:\t17.677335523746645\n",
      "Using second variation (average of outputs produced by each set of weight matrices)\n",
      "Epoch 0: 1.64660602646708\n",
      "Epoch 25: 0.0012753413024272828\n",
      "Epoch 50: 0.0006471313059939748\n",
      "Epoch 75: 0.0004393518159769796\n",
      "Epoch 100: 0.00033450017312299267\n",
      "Epoch 125: 0.00027094075088733745\n",
      "Epoch 150: 0.00022816402185771355\n",
      "W1 size 280\n",
      "W2 size 6\n",
      "W3 size 3\n",
      "Using well-known algorithms: Logistic Regression, RandomForest and MLP\n"
     ]
    },
    {
     "name": "stderr",
     "output_type": "stream",
     "text": [
      "/usr/local/lib/python3.5/dist-packages/sklearn/metrics/classification.py:1135: UndefinedMetricWarning: F-score is ill-defined and being set to 0.0 in labels with no predicted samples.\n",
      "  'precision', 'predicted', average, warn_for)\n"
     ]
    },
    {
     "name": "stdout",
     "output_type": "stream",
     "text": [
      "Took: 126.65262651443481\n",
      "--------------------------------------------------\n",
      "En: 250\tTr: 212\n",
      "Using first variation (Regressor and Classifier with score vectors)\n",
      "epoch 0:\t19.199302099921344\n",
      "epoch 10:\t18.97441411996051\n",
      "epoch 20:\t18.882594741612763\n",
      "epoch 30:\t18.76495108920645\n",
      "epoch 40:\t18.62304506759688\n",
      "epoch 50:\t18.48659723461284\n",
      "Using second variation (average of outputs produced by each set of weight matrices)\n",
      "Epoch 0: 0.5320709100456066\n",
      "Epoch 25: 0.0006241418128153466\n",
      "Epoch 50: 0.0003229370691744404\n",
      "Epoch 75: 0.00022028049290732254\n",
      "Epoch 100: 0.0001680194394441379\n",
      "Epoch 125: 0.00013621054592668314\n",
      "Epoch 150: 0.00011475681885822017\n",
      "W1 size 314\n",
      "W2 size 6\n",
      "W3 size 3\n",
      "Using well-known algorithms: Logistic Regression, RandomForest and MLP\n"
     ]
    },
    {
     "name": "stderr",
     "output_type": "stream",
     "text": [
      "/usr/local/lib/python3.5/dist-packages/sklearn/metrics/classification.py:1135: UndefinedMetricWarning: F-score is ill-defined and being set to 0.0 in labels with no predicted samples.\n",
      "  'precision', 'predicted', average, warn_for)\n",
      "/usr/local/lib/python3.5/dist-packages/sklearn/neural_network/multilayer_perceptron.py:564: ConvergenceWarning: Stochastic Optimizer: Maximum iterations (200) reached and the optimization hasn't converged yet.\n",
      "  % self.max_iter, ConvergenceWarning)\n"
     ]
    },
    {
     "name": "stdout",
     "output_type": "stream",
     "text": [
      "Took: 132.27835893630981\n",
      "--------------------------------------------------\n",
      "En: 250\tTr: 255\n",
      "Using first variation (Regressor and Classifier with score vectors)\n",
      "epoch 0:\t20.76157713149772\n",
      "epoch 10:\t20.315743944443955\n",
      "epoch 20:\t19.97102996139922\n",
      "epoch 30:\t19.618435324441105\n",
      "epoch 40:\t19.317809536001896\n",
      "epoch 50:\t19.061216245455864\n",
      "Using second variation (average of outputs produced by each set of weight matrices)\n",
      "Epoch 0: 0.7792894065813641\n",
      "Epoch 25: 0.001003769763899538\n",
      "Epoch 50: 0.0005076955618991383\n",
      "Epoch 75: 0.0003438002226353587\n",
      "Epoch 100: 0.0002611889343134043\n",
      "Epoch 125: 0.00021117638123573917\n",
      "Epoch 150: 0.0001775601397239393\n",
      "W1 size 333\n",
      "W2 size 6\n",
      "W3 size 3\n",
      "Using well-known algorithms: Logistic Regression, RandomForest and MLP\n"
     ]
    },
    {
     "name": "stderr",
     "output_type": "stream",
     "text": [
      "/usr/local/lib/python3.5/dist-packages/sklearn/metrics/classification.py:1135: UndefinedMetricWarning: F-score is ill-defined and being set to 0.0 in labels with no predicted samples.\n",
      "  'precision', 'predicted', average, warn_for)\n",
      "/usr/local/lib/python3.5/dist-packages/sklearn/neural_network/multilayer_perceptron.py:564: ConvergenceWarning: Stochastic Optimizer: Maximum iterations (200) reached and the optimization hasn't converged yet.\n",
      "  % self.max_iter, ConvergenceWarning)\n"
     ]
    },
    {
     "name": "stdout",
     "output_type": "stream",
     "text": [
      "Took: 132.04031014442444\n",
      "--------------------------------------------------\n",
      "En: 250\tTr: 298\n",
      "Using first variation (Regressor and Classifier with score vectors)\n",
      "epoch 0:\t20.757022106510057\n",
      "epoch 10:\t20.67066284970389\n",
      "epoch 20:\t20.477447425982735\n",
      "epoch 30:\t20.187260375252425\n",
      "epoch 40:\t19.94319107227764\n",
      "epoch 50:\t19.69864726370574\n",
      "Using second variation (average of outputs produced by each set of weight matrices)\n",
      "Epoch 0: 0.6802785029705668\n",
      "Epoch 25: 0.0006879208560723427\n",
      "Epoch 50: 0.0003543284962103496\n",
      "Epoch 75: 0.0002436453867520549\n",
      "Epoch 100: 0.00018730823245365202\n",
      "Epoch 125: 0.00015285089627851208\n",
      "Epoch 150: 0.000129474568967898\n",
      "W1 size 338\n",
      "W2 size 6\n",
      "W3 size 3\n",
      "Using well-known algorithms: Logistic Regression, RandomForest and MLP\n"
     ]
    },
    {
     "name": "stderr",
     "output_type": "stream",
     "text": [
      "/usr/local/lib/python3.5/dist-packages/sklearn/metrics/classification.py:1135: UndefinedMetricWarning: F-score is ill-defined and being set to 0.0 in labels with no predicted samples.\n",
      "  'precision', 'predicted', average, warn_for)\n",
      "/usr/local/lib/python3.5/dist-packages/sklearn/neural_network/multilayer_perceptron.py:564: ConvergenceWarning: Stochastic Optimizer: Maximum iterations (200) reached and the optimization hasn't converged yet.\n",
      "  % self.max_iter, ConvergenceWarning)\n"
     ]
    },
    {
     "name": "stdout",
     "output_type": "stream",
     "text": [
      "Took: 141.29517936706543\n",
      "--------------------------------------------------\n",
      "En: 250\tTr: 340\n",
      "Using first variation (Regressor and Classifier with score vectors)\n",
      "epoch 0:\t19.88063426412944\n",
      "epoch 10:\t19.58202135183596\n",
      "epoch 20:\t19.362427964098814\n",
      "epoch 30:\t19.063777316242835\n",
      "epoch 40:\t18.78940505634719\n",
      "epoch 50:\t18.59473662378925\n",
      "Using second variation (average of outputs produced by each set of weight matrices)\n",
      "Epoch 0: 0.5188657797302658\n",
      "Epoch 25: 0.0006198881999233085\n",
      "Epoch 50: 0.00032225670792933065\n",
      "Epoch 75: 0.00022070623645090582\n",
      "Epoch 100: 0.0001688220958832299\n",
      "Epoch 125: 0.00013713528148426668\n",
      "Epoch 150: 0.00011570235800517486\n",
      "W1 size 356\n",
      "W2 size 6\n",
      "W3 size 3\n",
      "Using well-known algorithms: Logistic Regression, RandomForest and MLP\n"
     ]
    },
    {
     "name": "stderr",
     "output_type": "stream",
     "text": [
      "/usr/local/lib/python3.5/dist-packages/sklearn/metrics/classification.py:1135: UndefinedMetricWarning: F-score is ill-defined and being set to 0.0 in labels with no predicted samples.\n",
      "  'precision', 'predicted', average, warn_for)\n",
      "/usr/local/lib/python3.5/dist-packages/sklearn/neural_network/multilayer_perceptron.py:564: ConvergenceWarning: Stochastic Optimizer: Maximum iterations (200) reached and the optimization hasn't converged yet.\n",
      "  % self.max_iter, ConvergenceWarning)\n"
     ]
    },
    {
     "name": "stdout",
     "output_type": "stream",
     "text": [
      "Took: 154.67611289024353\n",
      "--------------------------------------------------\n",
      "En: 250\tTr: 382\n",
      "Using first variation (Regressor and Classifier with score vectors)\n",
      "epoch 0:\t22.223156216787956\n",
      "epoch 10:\t22.050152343932897\n",
      "epoch 20:\t21.956089552080655\n",
      "epoch 30:\t21.847760002163994\n",
      "epoch 40:\t21.714845612044485\n",
      "epoch 50:\t21.588584423395176\n",
      "Using second variation (average of outputs produced by each set of weight matrices)\n",
      "Epoch 0: 0.6079746775949934\n",
      "Epoch 25: 0.0007362348457658604\n",
      "Epoch 50: 0.0003483738645391311\n",
      "Epoch 75: 0.00023135030561208424\n",
      "Epoch 100: 0.00017399809635902284\n",
      "Epoch 125: 0.000139778077123644\n",
      "Epoch 150: 0.0001169886761773736\n",
      "W1 size 364\n",
      "W2 size 6\n",
      "W3 size 3\n",
      "Using well-known algorithms: Logistic Regression, RandomForest and MLP\n"
     ]
    },
    {
     "name": "stderr",
     "output_type": "stream",
     "text": [
      "/usr/local/lib/python3.5/dist-packages/sklearn/metrics/classification.py:1135: UndefinedMetricWarning: F-score is ill-defined and being set to 0.0 in labels with no predicted samples.\n",
      "  'precision', 'predicted', average, warn_for)\n"
     ]
    },
    {
     "name": "stdout",
     "output_type": "stream",
     "text": [
      "Took: 154.59696245193481\n",
      "--------------------------------------------------\n",
      "En: 250\tTr: 425\n",
      "Using first variation (Regressor and Classifier with score vectors)\n",
      "epoch 0:\t18.903915220883956\n",
      "epoch 10:\t18.432906153655292\n",
      "epoch 20:\t17.981167938357846\n",
      "epoch 30:\t17.669585194383142\n",
      "epoch 40:\t17.360052461377993\n",
      "epoch 50:\t17.04244417827265\n",
      "Using second variation (average of outputs produced by each set of weight matrices)\n",
      "Epoch 0: 0.2869587594976802\n",
      "Epoch 25: 0.0005187919241022546\n",
      "Epoch 50: 0.00026787551970911677\n",
      "Epoch 75: 0.00018270352241230554\n",
      "Epoch 100: 0.00013937395206186113\n",
      "Epoch 125: 0.00011300757996219056\n",
      "Epoch 150: 9.522011904906507e-05\n",
      "W1 size 382\n",
      "W2 size 6\n",
      "W3 size 3\n",
      "Using well-known algorithms: Logistic Regression, RandomForest and MLP\n"
     ]
    },
    {
     "name": "stderr",
     "output_type": "stream",
     "text": [
      "/usr/local/lib/python3.5/dist-packages/sklearn/metrics/classification.py:1135: UndefinedMetricWarning: F-score is ill-defined and being set to 0.0 in labels with no predicted samples.\n",
      "  'precision', 'predicted', average, warn_for)\n"
     ]
    },
    {
     "name": "stdout",
     "output_type": "stream",
     "text": [
      "Took: 166.91527605056763\n",
      "--------------------------------------------------\n",
      "En: 300\tTr: 42\n",
      "Using first variation (Regressor and Classifier with score vectors)\n",
      "epoch 0:\t21.053772786896896\n",
      "epoch 10:\t21.194466921528484\n",
      "epoch 20:\t21.233930327704503\n",
      "epoch 30:\t21.008520046647238\n",
      "epoch 40:\t20.80721927865348\n",
      "epoch 50:\t20.63264400005944\n",
      "Using second variation (average of outputs produced by each set of weight matrices)\n",
      "Epoch 0: 1.475856586519331\n",
      "Epoch 25: 0.0034279515245671465\n",
      "Epoch 50: 0.0008724561349594624\n",
      "Epoch 75: 0.0005270337944396794\n",
      "Epoch 100: 0.0003825233984547972\n",
      "Epoch 125: 0.00030179056711453174\n",
      "Epoch 150: 0.0002498838360757442\n",
      "W1 size 246\n",
      "W2 size 6\n",
      "W3 size 3\n",
      "Using well-known algorithms: Logistic Regression, RandomForest and MLP\n"
     ]
    },
    {
     "name": "stderr",
     "output_type": "stream",
     "text": [
      "/usr/local/lib/python3.5/dist-packages/sklearn/neural_network/multilayer_perceptron.py:564: ConvergenceWarning: Stochastic Optimizer: Maximum iterations (200) reached and the optimization hasn't converged yet.\n",
      "  % self.max_iter, ConvergenceWarning)\n",
      "/usr/local/lib/python3.5/dist-packages/sklearn/metrics/classification.py:1135: UndefinedMetricWarning: F-score is ill-defined and being set to 0.0 in labels with no predicted samples.\n",
      "  'precision', 'predicted', average, warn_for)\n"
     ]
    },
    {
     "name": "stdout",
     "output_type": "stream",
     "text": [
      "Took: 91.3113021850586\n",
      "--------------------------------------------------\n",
      "En: 300\tTr: 85\n",
      "Using first variation (Regressor and Classifier with score vectors)\n",
      "epoch 0:\t19.889146029628886\n",
      "epoch 10:\t19.68501155977914\n",
      "epoch 20:\t19.39940293257345\n",
      "epoch 30:\t19.179053280445945\n",
      "epoch 40:\t18.991833065715763\n",
      "epoch 50:\t18.762913089841994\n",
      "Using second variation (average of outputs produced by each set of weight matrices)\n",
      "Epoch 0: 1.0942658939228314\n",
      "Epoch 25: 0.0013319092010734663\n",
      "Epoch 50: 0.0005979306389210248\n",
      "Epoch 75: 0.0003921827006284101\n",
      "Epoch 100: 0.0002935391032674606\n",
      "Epoch 125: 0.00023526264153865106\n",
      "Epoch 150: 0.00019665313097755335\n",
      "W1 size 279\n",
      "W2 size 6\n",
      "W3 size 3\n",
      "Using well-known algorithms: Logistic Regression, RandomForest and MLP\n"
     ]
    },
    {
     "name": "stderr",
     "output_type": "stream",
     "text": [
      "/usr/local/lib/python3.5/dist-packages/sklearn/metrics/classification.py:1135: UndefinedMetricWarning: F-score is ill-defined and being set to 0.0 in labels with no predicted samples.\n",
      "  'precision', 'predicted', average, warn_for)\n",
      "/usr/local/lib/python3.5/dist-packages/sklearn/neural_network/multilayer_perceptron.py:564: ConvergenceWarning: Stochastic Optimizer: Maximum iterations (200) reached and the optimization hasn't converged yet.\n",
      "  % self.max_iter, ConvergenceWarning)\n"
     ]
    },
    {
     "name": "stdout",
     "output_type": "stream",
     "text": [
      "Took: 104.496342420578\n",
      "--------------------------------------------------\n",
      "En: 300\tTr: 128\n",
      "Using first variation (Regressor and Classifier with score vectors)\n",
      "epoch 0:\t20.209204428115196\n",
      "epoch 10:\t19.707430647855603\n",
      "epoch 20:\t19.59158729858349\n",
      "epoch 30:\t19.399096410545567\n",
      "epoch 40:\t19.207883780202426\n",
      "epoch 50:\t19.11527241648567\n",
      "Using second variation (average of outputs produced by each set of weight matrices)\n",
      "Epoch 0: 1.7735558475246975\n",
      "Epoch 25: 0.0016930520146168449\n",
      "Epoch 50: 0.0007870630487803978\n",
      "Epoch 75: 0.0005269149915748558\n",
      "Epoch 100: 0.00039998406784079595\n",
      "Epoch 125: 0.00032398906170687025\n",
      "Epoch 150: 0.00027311828824504414\n",
      "W1 size 294\n",
      "W2 size 6\n",
      "W3 size 3\n",
      "Using well-known algorithms: Logistic Regression, RandomForest and MLP\n"
     ]
    },
    {
     "name": "stderr",
     "output_type": "stream",
     "text": [
      "/usr/local/lib/python3.5/dist-packages/sklearn/metrics/classification.py:1135: UndefinedMetricWarning: F-score is ill-defined and being set to 0.0 in labels with no predicted samples.\n",
      "  'precision', 'predicted', average, warn_for)\n"
     ]
    },
    {
     "name": "stdout",
     "output_type": "stream",
     "text": [
      "Took: 120.41389775276184\n",
      "--------------------------------------------------\n",
      "En: 300\tTr: 170\n",
      "Using first variation (Regressor and Classifier with score vectors)\n",
      "epoch 0:\t23.853143425894412\n",
      "epoch 10:\t23.079950645416925\n",
      "epoch 20:\t22.752031872539135\n",
      "epoch 30:\t22.42506033892028\n",
      "epoch 40:\t22.15182884088377\n",
      "epoch 50:\t21.858332793373336\n",
      "Using second variation (average of outputs produced by each set of weight matrices)\n",
      "Epoch 0: 0.6384893344345933\n",
      "Epoch 25: 0.0009457978839121706\n",
      "Epoch 50: 0.00041796034352672144\n",
      "Epoch 75: 0.0002733168619302655\n",
      "Epoch 100: 0.00020454430063438772\n",
      "Epoch 125: 0.00016407462454457407\n",
      "Epoch 150: 0.00013731747738939036\n",
      "W1 size 326\n",
      "W2 size 6\n",
      "W3 size 3\n",
      "Using well-known algorithms: Logistic Regression, RandomForest and MLP\n"
     ]
    },
    {
     "name": "stderr",
     "output_type": "stream",
     "text": [
      "/usr/local/lib/python3.5/dist-packages/sklearn/metrics/classification.py:1135: UndefinedMetricWarning: F-score is ill-defined and being set to 0.0 in labels with no predicted samples.\n",
      "  'precision', 'predicted', average, warn_for)\n"
     ]
    },
    {
     "name": "stdout",
     "output_type": "stream",
     "text": [
      "Took: 134.32211661338806\n",
      "--------------------------------------------------\n",
      "En: 300\tTr: 212\n",
      "Using first variation (Regressor and Classifier with score vectors)\n",
      "epoch 0:\t18.995719752399676\n",
      "epoch 10:\t18.799866029532975\n",
      "epoch 20:\t18.636803477539576\n",
      "epoch 30:\t18.391540507404446\n",
      "epoch 40:\t18.14216136682308\n",
      "epoch 50:\t17.942404342939366\n",
      "Using second variation (average of outputs produced by each set of weight matrices)\n",
      "Epoch 0: 0.554852759016611\n",
      "Epoch 25: 0.0008161017309440688\n",
      "Epoch 50: 0.0003782775556294693\n",
      "Epoch 75: 0.0002523603384937678\n",
      "Epoch 100: 0.0001910257541810345\n",
      "Epoch 125: 0.00015440456354315346\n",
      "Epoch 150: 0.00012994981436167952\n",
      "W1 size 329\n",
      "W2 size 6\n",
      "W3 size 3\n",
      "Using well-known algorithms: Logistic Regression, RandomForest and MLP\n"
     ]
    },
    {
     "name": "stderr",
     "output_type": "stream",
     "text": [
      "/usr/local/lib/python3.5/dist-packages/sklearn/metrics/classification.py:1135: UndefinedMetricWarning: F-score is ill-defined and being set to 0.0 in labels with no predicted samples.\n",
      "  'precision', 'predicted', average, warn_for)\n",
      "/usr/local/lib/python3.5/dist-packages/sklearn/neural_network/multilayer_perceptron.py:564: ConvergenceWarning: Stochastic Optimizer: Maximum iterations (200) reached and the optimization hasn't converged yet.\n",
      "  % self.max_iter, ConvergenceWarning)\n"
     ]
    },
    {
     "name": "stdout",
     "output_type": "stream",
     "text": [
      "Took: 141.54538559913635\n",
      "--------------------------------------------------\n",
      "En: 300\tTr: 255\n",
      "Using first variation (Regressor and Classifier with score vectors)\n",
      "epoch 0:\t18.80576670525193\n",
      "epoch 10:\t18.422465241788874\n",
      "epoch 20:\t18.22159854947333\n",
      "epoch 30:\t18.040711318892512\n",
      "epoch 40:\t17.879533532570445\n",
      "epoch 50:\t17.73852702521042\n",
      "Using second variation (average of outputs produced by each set of weight matrices)\n",
      "Epoch 0: 1.1177615882876453\n",
      "Epoch 25: 0.0012949974333521408\n",
      "Epoch 50: 0.0006437897140576885\n",
      "Epoch 75: 0.00043345605310468876\n",
      "Epoch 100: 0.0003283563104790975\n",
      "Epoch 125: 0.0002650223785016001\n",
      "Epoch 150: 0.0002225711789036864\n",
      "W1 size 362\n",
      "W2 size 6\n",
      "W3 size 3\n",
      "Using well-known algorithms: Logistic Regression, RandomForest and MLP\n"
     ]
    },
    {
     "name": "stderr",
     "output_type": "stream",
     "text": [
      "/usr/local/lib/python3.5/dist-packages/sklearn/metrics/classification.py:1135: UndefinedMetricWarning: F-score is ill-defined and being set to 0.0 in labels with no predicted samples.\n",
      "  'precision', 'predicted', average, warn_for)\n",
      "/usr/local/lib/python3.5/dist-packages/sklearn/neural_network/multilayer_perceptron.py:564: ConvergenceWarning: Stochastic Optimizer: Maximum iterations (200) reached and the optimization hasn't converged yet.\n",
      "  % self.max_iter, ConvergenceWarning)\n"
     ]
    },
    {
     "name": "stdout",
     "output_type": "stream",
     "text": [
      "Took: 154.0618782043457\n",
      "--------------------------------------------------\n",
      "En: 300\tTr: 298\n",
      "Using first variation (Regressor and Classifier with score vectors)\n",
      "epoch 0:\t20.161670755650928\n",
      "epoch 10:\t19.864366373043527\n",
      "epoch 20:\t19.67759450761502\n",
      "epoch 30:\t19.53074587571876\n",
      "epoch 40:\t19.39862013236372\n",
      "epoch 50:\t19.273521966145374\n",
      "Using second variation (average of outputs produced by each set of weight matrices)\n",
      "Epoch 0: 0.4401354386022846\n",
      "Epoch 25: 0.0008686273057304409\n",
      "Epoch 50: 0.000441633778689755\n",
      "Epoch 75: 0.0003016330098620786\n",
      "Epoch 100: 0.00023078425477295882\n",
      "Epoch 125: 0.00018767535807167222\n",
      "Epoch 150: 0.00015855958509271802\n",
      "W1 size 361\n",
      "W2 size 6\n",
      "W3 size 3\n",
      "Using well-known algorithms: Logistic Regression, RandomForest and MLP\n"
     ]
    },
    {
     "name": "stderr",
     "output_type": "stream",
     "text": [
      "/usr/local/lib/python3.5/dist-packages/sklearn/metrics/classification.py:1135: UndefinedMetricWarning: F-score is ill-defined and being set to 0.0 in labels with no predicted samples.\n",
      "  'precision', 'predicted', average, warn_for)\n",
      "/usr/local/lib/python3.5/dist-packages/sklearn/neural_network/multilayer_perceptron.py:564: ConvergenceWarning: Stochastic Optimizer: Maximum iterations (200) reached and the optimization hasn't converged yet.\n",
      "  % self.max_iter, ConvergenceWarning)\n"
     ]
    },
    {
     "name": "stdout",
     "output_type": "stream",
     "text": [
      "Took: 155.14699125289917\n",
      "--------------------------------------------------\n",
      "En: 300\tTr: 340\n",
      "Using first variation (Regressor and Classifier with score vectors)\n",
      "epoch 0:\t18.979427556146685\n",
      "epoch 10:\t19.041730360060985\n",
      "epoch 20:\t18.927881362271876\n",
      "epoch 30:\t18.82536166347944\n",
      "epoch 40:\t18.698715590267756\n",
      "epoch 50:\t18.577355141161743\n",
      "Using second variation (average of outputs produced by each set of weight matrices)\n",
      "Epoch 0: 0.9733086439746789\n",
      "Epoch 25: 0.0005135375940139797\n",
      "Epoch 50: 0.0002587960164108116\n",
      "Epoch 75: 0.00017533073395910038\n",
      "Epoch 100: 0.00013342245905318962\n",
      "Epoch 125: 0.00010810024233252059\n",
      "Epoch 150: 9.10963560658562e-05\n",
      "W1 size 378\n",
      "W2 size 6\n",
      "W3 size 3\n",
      "Using well-known algorithms: Logistic Regression, RandomForest and MLP\n"
     ]
    },
    {
     "name": "stderr",
     "output_type": "stream",
     "text": [
      "/usr/local/lib/python3.5/dist-packages/sklearn/metrics/classification.py:1135: UndefinedMetricWarning: F-score is ill-defined and being set to 0.0 in labels with no predicted samples.\n",
      "  'precision', 'predicted', average, warn_for)\n"
     ]
    },
    {
     "name": "stdout",
     "output_type": "stream",
     "text": [
      "Took: 166.34770393371582\n",
      "--------------------------------------------------\n",
      "En: 300\tTr: 382\n",
      "Using first variation (Regressor and Classifier with score vectors)\n",
      "epoch 0:\t26.613773749751246\n",
      "epoch 10:\t26.216754374707023\n",
      "epoch 20:\t25.804309318848343\n",
      "epoch 30:\t25.479195522403018\n",
      "epoch 40:\t25.144400235488245\n",
      "epoch 50:\t24.835411927562248\n",
      "Using second variation (average of outputs produced by each set of weight matrices)\n",
      "Epoch 0: 0.41153957146453485\n",
      "Epoch 25: 0.0005947777594896229\n",
      "Epoch 50: 0.0002945845537349746\n",
      "Epoch 75: 0.00019895940355254868\n",
      "Epoch 100: 0.0001511479297297924\n",
      "Epoch 125: 0.00012227260028831353\n",
      "Epoch 150: 0.00010287563129004841\n",
      "W1 size 394\n",
      "W2 size 6\n",
      "W3 size 3\n",
      "Using well-known algorithms: Logistic Regression, RandomForest and MLP\n"
     ]
    },
    {
     "name": "stderr",
     "output_type": "stream",
     "text": [
      "/usr/local/lib/python3.5/dist-packages/sklearn/metrics/classification.py:1135: UndefinedMetricWarning: F-score is ill-defined and being set to 0.0 in labels with no predicted samples.\n",
      "  'precision', 'predicted', average, warn_for)\n"
     ]
    },
    {
     "name": "stdout",
     "output_type": "stream",
     "text": [
      "Took: 178.1310052871704\n",
      "--------------------------------------------------\n",
      "En: 300\tTr: 425\n",
      "Using first variation (Regressor and Classifier with score vectors)\n",
      "epoch 0:\t21.785818683192435\n",
      "epoch 10:\t21.2481541460107\n",
      "epoch 20:\t21.077762143923184\n",
      "epoch 30:\t20.942001293659928\n",
      "epoch 40:\t20.778909018441322\n",
      "epoch 50:\t20.62404913885852\n",
      "Using second variation (average of outputs produced by each set of weight matrices)\n",
      "Epoch 0: 0.5490821151227182\n",
      "Epoch 25: 0.00039854194937490695\n",
      "Epoch 50: 0.00021023178092793293\n",
      "Epoch 75: 0.0001447306153128944\n",
      "Epoch 100: 0.00011109858627595918\n",
      "Epoch 125: 9.051980056514806e-05\n",
      "Epoch 150: 7.65807330902268e-05\n",
      "W1 size 399\n",
      "W2 size 6\n",
      "W3 size 3\n",
      "Using well-known algorithms: Logistic Regression, RandomForest and MLP\n"
     ]
    },
    {
     "name": "stderr",
     "output_type": "stream",
     "text": [
      "/usr/local/lib/python3.5/dist-packages/sklearn/metrics/classification.py:1135: UndefinedMetricWarning: F-score is ill-defined and being set to 0.0 in labels with no predicted samples.\n",
      "  'precision', 'predicted', average, warn_for)\n",
      "/usr/local/lib/python3.5/dist-packages/sklearn/neural_network/multilayer_perceptron.py:564: ConvergenceWarning: Stochastic Optimizer: Maximum iterations (200) reached and the optimization hasn't converged yet.\n",
      "  % self.max_iter, ConvergenceWarning)\n"
     ]
    },
    {
     "name": "stdout",
     "output_type": "stream",
     "text": [
      "Took: 170.91041612625122\n",
      "--------------------------------------------------\n",
      "En: 350\tTr: 42\n",
      "Using first variation (Regressor and Classifier with score vectors)\n",
      "epoch 0:\t18.15190910043405\n",
      "epoch 10:\t17.906955830218028\n",
      "epoch 20:\t17.661121185286788\n",
      "epoch 30:\t17.46446665287337\n",
      "epoch 40:\t17.298604014539666\n",
      "epoch 50:\t17.14875339945804\n",
      "Using second variation (average of outputs produced by each set of weight matrices)\n",
      "Epoch 0: 0.17508847934973248\n",
      "Epoch 25: 0.0004976949206166439\n",
      "Epoch 50: 0.00026349773965896023\n",
      "Epoch 75: 0.0001830393143003538\n",
      "Epoch 100: 0.00014140879051436985\n",
      "Epoch 125: 0.0001156976525787152\n",
      "Epoch 150: 9.814131416645873e-05\n",
      "W1 size 268\n",
      "W2 size 5\n",
      "W3 size 3\n",
      "Using well-known algorithms: Logistic Regression, RandomForest and MLP\n"
     ]
    },
    {
     "name": "stderr",
     "output_type": "stream",
     "text": [
      "/usr/local/lib/python3.5/dist-packages/sklearn/metrics/classification.py:1135: UndefinedMetricWarning: F-score is ill-defined and being set to 0.0 in labels with no predicted samples.\n",
      "  'precision', 'predicted', average, warn_for)\n",
      "/usr/local/lib/python3.5/dist-packages/sklearn/neural_network/multilayer_perceptron.py:564: ConvergenceWarning: Stochastic Optimizer: Maximum iterations (200) reached and the optimization hasn't converged yet.\n",
      "  % self.max_iter, ConvergenceWarning)\n"
     ]
    },
    {
     "name": "stdout",
     "output_type": "stream",
     "text": [
      "Took: 104.03134942054749\n",
      "--------------------------------------------------\n",
      "En: 350\tTr: 85\n",
      "Using first variation (Regressor and Classifier with score vectors)\n",
      "epoch 0:\t19.16981492808941\n",
      "epoch 10:\t18.92141547202196\n",
      "epoch 20:\t18.753898206510613\n",
      "epoch 30:\t18.58626189434743\n",
      "epoch 40:\t18.418930789508945\n",
      "epoch 50:\t18.27637564472533\n",
      "Using second variation (average of outputs produced by each set of weight matrices)\n",
      "Epoch 0: 0.05932405057362787\n",
      "Epoch 25: 0.0006111170205366992\n",
      "Epoch 50: 0.00031395385729433134\n",
      "Epoch 75: 0.0002122616702010468\n",
      "Epoch 100: 0.00016072703448190786\n",
      "Epoch 125: 0.00012952162427689147\n",
      "Epoch 150: 0.0001085804717955194\n",
      "W1 size 306\n",
      "W2 size 6\n",
      "W3 size 3\n",
      "Using well-known algorithms: Logistic Regression, RandomForest and MLP\n"
     ]
    },
    {
     "name": "stderr",
     "output_type": "stream",
     "text": [
      "/usr/local/lib/python3.5/dist-packages/sklearn/metrics/classification.py:1135: UndefinedMetricWarning: F-score is ill-defined and being set to 0.0 in labels with no predicted samples.\n",
      "  'precision', 'predicted', average, warn_for)\n"
     ]
    },
    {
     "name": "stdout",
     "output_type": "stream",
     "text": [
      "Took: 117.45368957519531\n",
      "--------------------------------------------------\n",
      "En: 350\tTr: 128\n",
      "Using first variation (Regressor and Classifier with score vectors)\n",
      "epoch 0:\t20.24526240142263\n",
      "epoch 10:\t20.028571398170424\n",
      "epoch 20:\t19.80000541837011\n",
      "epoch 30:\t19.593261018626084\n",
      "epoch 40:\t19.395608657534815\n",
      "epoch 50:\t19.190982081430604\n",
      "Using second variation (average of outputs produced by each set of weight matrices)\n",
      "Epoch 0: 1.2242708275720509\n",
      "Epoch 25: 0.0009397688663936056\n",
      "Epoch 50: 0.000493247299562073\n",
      "Epoch 75: 0.0003396662678097855\n",
      "Epoch 100: 0.00026062568623907756\n",
      "Epoch 125: 0.0002121282705785825\n",
      "Epoch 150: 0.00017922730601372026\n",
      "W1 size 325\n",
      "W2 size 6\n",
      "W3 size 3\n",
      "Using well-known algorithms: Logistic Regression, RandomForest and MLP\n"
     ]
    },
    {
     "name": "stderr",
     "output_type": "stream",
     "text": [
      "/usr/local/lib/python3.5/dist-packages/sklearn/metrics/classification.py:1135: UndefinedMetricWarning: F-score is ill-defined and being set to 0.0 in labels with no predicted samples.\n",
      "  'precision', 'predicted', average, warn_for)\n",
      "/usr/local/lib/python3.5/dist-packages/sklearn/neural_network/multilayer_perceptron.py:564: ConvergenceWarning: Stochastic Optimizer: Maximum iterations (200) reached and the optimization hasn't converged yet.\n",
      "  % self.max_iter, ConvergenceWarning)\n"
     ]
    },
    {
     "name": "stdout",
     "output_type": "stream",
     "text": [
      "Took: 117.81137681007385\n",
      "--------------------------------------------------\n",
      "En: 350\tTr: 170\n",
      "Using first variation (Regressor and Classifier with score vectors)\n",
      "epoch 0:\t21.19988685934207\n",
      "epoch 10:\t20.356808630382986\n",
      "epoch 20:\t20.062481408701824\n",
      "epoch 30:\t19.72349389748834\n",
      "epoch 40:\t19.459718502782483\n",
      "epoch 50:\t19.225976279201962\n",
      "Using second variation (average of outputs produced by each set of weight matrices)\n",
      "Epoch 0: 1.5356466203665704\n",
      "Epoch 25: 0.0009599692582768262\n",
      "Epoch 50: 0.0004653353733969604\n",
      "Epoch 75: 0.0003120877750690946\n",
      "Epoch 100: 0.00023625101873365068\n",
      "Epoch 125: 0.00019073132432507233\n",
      "Epoch 150: 0.00016027033449558505\n",
      "W1 size 340\n",
      "W2 size 6\n",
      "W3 size 3\n",
      "Using well-known algorithms: Logistic Regression, RandomForest and MLP\n"
     ]
    },
    {
     "name": "stderr",
     "output_type": "stream",
     "text": [
      "/usr/local/lib/python3.5/dist-packages/sklearn/metrics/classification.py:1135: UndefinedMetricWarning: F-score is ill-defined and being set to 0.0 in labels with no predicted samples.\n",
      "  'precision', 'predicted', average, warn_for)\n",
      "/usr/local/lib/python3.5/dist-packages/sklearn/neural_network/multilayer_perceptron.py:564: ConvergenceWarning: Stochastic Optimizer: Maximum iterations (200) reached and the optimization hasn't converged yet.\n",
      "  % self.max_iter, ConvergenceWarning)\n"
     ]
    },
    {
     "name": "stdout",
     "output_type": "stream",
     "text": [
      "Took: 135.66832280158997\n",
      "--------------------------------------------------\n",
      "En: 350\tTr: 212\n",
      "Using first variation (Regressor and Classifier with score vectors)\n",
      "epoch 0:\t21.451495910601263\n",
      "epoch 10:\t21.213169623943156\n",
      "epoch 20:\t20.798851665069318\n",
      "epoch 30:\t20.45373288915476\n",
      "epoch 40:\t20.163645085283804\n",
      "epoch 50:\t19.947291575989414\n",
      "Using second variation (average of outputs produced by each set of weight matrices)\n",
      "Epoch 0: 0.2703096040005015\n",
      "Epoch 25: 0.0004961853591725168\n",
      "Epoch 50: 0.0002642044951762683\n",
      "Epoch 75: 0.00018374013206143142\n",
      "Epoch 100: 0.00014203119229222442\n",
      "Epoch 125: 0.00011628104283542797\n",
      "Epoch 150: 9.871629651064272e-05\n",
      "W1 size 358\n",
      "W2 size 6\n",
      "W3 size 3\n",
      "Using well-known algorithms: Logistic Regression, RandomForest and MLP\n"
     ]
    },
    {
     "name": "stderr",
     "output_type": "stream",
     "text": [
      "/usr/local/lib/python3.5/dist-packages/sklearn/metrics/classification.py:1135: UndefinedMetricWarning: F-score is ill-defined and being set to 0.0 in labels with no predicted samples.\n",
      "  'precision', 'predicted', average, warn_for)\n",
      "/usr/local/lib/python3.5/dist-packages/sklearn/neural_network/multilayer_perceptron.py:564: ConvergenceWarning: Stochastic Optimizer: Maximum iterations (200) reached and the optimization hasn't converged yet.\n",
      "  % self.max_iter, ConvergenceWarning)\n"
     ]
    },
    {
     "name": "stdout",
     "output_type": "stream",
     "text": [
      "Took: 153.30478024482727\n",
      "--------------------------------------------------\n",
      "En: 350\tTr: 255\n",
      "Using first variation (Regressor and Classifier with score vectors)\n",
      "epoch 0:\t19.694134126802087\n",
      "epoch 10:\t19.434529724683077\n",
      "epoch 20:\t19.36294617008328\n",
      "epoch 30:\t19.205459862377207\n",
      "epoch 40:\t19.032092334737012\n",
      "epoch 50:\t18.843524484609237\n",
      "Using second variation (average of outputs produced by each set of weight matrices)\n",
      "Epoch 0: 0.06217422072534889\n",
      "Epoch 25: 0.00023700886646145793\n",
      "Epoch 50: 0.00013130647125347307\n",
      "Epoch 75: 9.297969366953055e-05\n",
      "Epoch 100: 7.261541062412802e-05\n",
      "Epoch 125: 5.982809413185426e-05\n",
      "Epoch 150: 5.100164466940979e-05\n",
      "W1 size 372\n",
      "W2 size 5\n",
      "W3 size 3\n",
      "Using well-known algorithms: Logistic Regression, RandomForest and MLP\n"
     ]
    },
    {
     "name": "stderr",
     "output_type": "stream",
     "text": [
      "/usr/local/lib/python3.5/dist-packages/sklearn/metrics/classification.py:1135: UndefinedMetricWarning: F-score is ill-defined and being set to 0.0 in labels with no predicted samples.\n",
      "  'precision', 'predicted', average, warn_for)\n"
     ]
    },
    {
     "name": "stdout",
     "output_type": "stream",
     "text": [
      "Took: 150.04242825508118\n",
      "--------------------------------------------------\n",
      "En: 350\tTr: 298\n",
      "Using first variation (Regressor and Classifier with score vectors)\n",
      "epoch 0:\t20.582043129734014\n",
      "epoch 10:\t20.413853388499273\n",
      "epoch 20:\t20.210642369118492\n",
      "epoch 30:\t20.070761910259694\n",
      "epoch 40:\t19.9253611373345\n",
      "epoch 50:\t19.79186748634033\n",
      "Using second variation (average of outputs produced by each set of weight matrices)\n",
      "Epoch 0: 0.06156443436827655\n",
      "Epoch 25: 0.0002618224515203321\n",
      "Epoch 50: 0.0001407075881121158\n",
      "Epoch 75: 9.74969720663911e-05\n",
      "Epoch 100: 7.511981316139011e-05\n",
      "Epoch 125: 6.138652528818336e-05\n",
      "Epoch 150: 5.207421230366987e-05\n",
      "W1 size 388\n",
      "W2 size 6\n",
      "W3 size 3\n",
      "Using well-known algorithms: Logistic Regression, RandomForest and MLP\n"
     ]
    },
    {
     "name": "stderr",
     "output_type": "stream",
     "text": [
      "/usr/local/lib/python3.5/dist-packages/sklearn/metrics/classification.py:1135: UndefinedMetricWarning: F-score is ill-defined and being set to 0.0 in labels with no predicted samples.\n",
      "  'precision', 'predicted', average, warn_for)\n"
     ]
    },
    {
     "name": "stdout",
     "output_type": "stream",
     "text": [
      "Took: 169.40076446533203\n",
      "--------------------------------------------------\n",
      "En: 350\tTr: 340\n",
      "Using first variation (Regressor and Classifier with score vectors)\n",
      "epoch 0:\t19.52725543373863\n",
      "epoch 10:\t19.428450397863788\n",
      "epoch 20:\t18.91579295546926\n",
      "epoch 30:\t18.43170610223382\n",
      "epoch 40:\t18.059276325602838\n",
      "epoch 50:\t17.74867763475689\n",
      "Using second variation (average of outputs produced by each set of weight matrices)\n",
      "Epoch 0: 0.29307758323756594\n",
      "Epoch 25: 0.0006962901240769227\n",
      "Epoch 50: 0.00035046811818116043\n",
      "Epoch 75: 0.00023806945848360537\n",
      "Epoch 100: 0.00018140215656151245\n",
      "Epoch 125: 0.00014701190054882933\n",
      "Epoch 150: 0.0001238296069264427\n",
      "W1 size 404\n",
      "W2 size 6\n",
      "W3 size 3\n",
      "Using well-known algorithms: Logistic Regression, RandomForest and MLP\n"
     ]
    },
    {
     "name": "stderr",
     "output_type": "stream",
     "text": [
      "/usr/local/lib/python3.5/dist-packages/sklearn/metrics/classification.py:1135: UndefinedMetricWarning: F-score is ill-defined and being set to 0.0 in labels with no predicted samples.\n",
      "  'precision', 'predicted', average, warn_for)\n",
      "/usr/local/lib/python3.5/dist-packages/sklearn/neural_network/multilayer_perceptron.py:564: ConvergenceWarning: Stochastic Optimizer: Maximum iterations (200) reached and the optimization hasn't converged yet.\n",
      "  % self.max_iter, ConvergenceWarning)\n"
     ]
    },
    {
     "name": "stdout",
     "output_type": "stream",
     "text": [
      "Took: 171.37089705467224\n",
      "--------------------------------------------------\n",
      "En: 350\tTr: 382\n",
      "Using first variation (Regressor and Classifier with score vectors)\n",
      "epoch 0:\t20.278614545606754\n",
      "epoch 10:\t19.735848960977034\n",
      "epoch 20:\t19.40296092574425\n",
      "epoch 30:\t19.028076134063042\n",
      "epoch 40:\t18.68188232732742\n",
      "epoch 50:\t18.382089345731032\n",
      "Using second variation (average of outputs produced by each set of weight matrices)\n",
      "Epoch 0: 0.5255058718329282\n",
      "Epoch 25: 0.0009048772468319753\n",
      "Epoch 50: 0.0003695053501869069\n",
      "Epoch 75: 0.00024182616384298768\n",
      "Epoch 100: 0.00018184084945488854\n",
      "Epoch 125: 0.00014649894997308176\n",
      "Epoch 150: 0.00012305189897203375\n",
      "W1 size 410\n",
      "W2 size 6\n",
      "W3 size 3\n",
      "Using well-known algorithms: Logistic Regression, RandomForest and MLP\n"
     ]
    },
    {
     "name": "stderr",
     "output_type": "stream",
     "text": [
      "/usr/local/lib/python3.5/dist-packages/sklearn/metrics/classification.py:1135: UndefinedMetricWarning: F-score is ill-defined and being set to 0.0 in labels with no predicted samples.\n",
      "  'precision', 'predicted', average, warn_for)\n",
      "/usr/local/lib/python3.5/dist-packages/sklearn/neural_network/multilayer_perceptron.py:564: ConvergenceWarning: Stochastic Optimizer: Maximum iterations (200) reached and the optimization hasn't converged yet.\n",
      "  % self.max_iter, ConvergenceWarning)\n"
     ]
    },
    {
     "name": "stdout",
     "output_type": "stream",
     "text": [
      "Took: 178.5362753868103\n",
      "--------------------------------------------------\n",
      "En: 350\tTr: 425\n",
      "Using first variation (Regressor and Classifier with score vectors)\n",
      "epoch 0:\t19.369509693636427\n",
      "epoch 10:\t19.14474040626642\n",
      "epoch 20:\t18.918341376368492\n",
      "epoch 30:\t18.7143907399108\n",
      "epoch 40:\t18.546959274757498\n",
      "epoch 50:\t18.349954708450575\n",
      "Using second variation (average of outputs produced by each set of weight matrices)\n",
      "Epoch 0: 0.4387284512640347\n",
      "Epoch 25: 0.0006420245119733915\n",
      "Epoch 50: 0.0003269324385669572\n",
      "Epoch 75: 0.000221287581515049\n",
      "Epoch 100: 0.00016801175567006648\n",
      "Epoch 125: 0.00013579600457627484\n",
      "Epoch 150: 0.0001141686442957001\n",
      "W1 size 430\n",
      "W2 size 6\n",
      "W3 size 3\n",
      "Using well-known algorithms: Logistic Regression, RandomForest and MLP\n"
     ]
    },
    {
     "name": "stderr",
     "output_type": "stream",
     "text": [
      "/usr/local/lib/python3.5/dist-packages/sklearn/metrics/classification.py:1135: UndefinedMetricWarning: F-score is ill-defined and being set to 0.0 in labels with no predicted samples.\n",
      "  'precision', 'predicted', average, warn_for)\n",
      "/usr/local/lib/python3.5/dist-packages/sklearn/neural_network/multilayer_perceptron.py:564: ConvergenceWarning: Stochastic Optimizer: Maximum iterations (200) reached and the optimization hasn't converged yet.\n",
      "  % self.max_iter, ConvergenceWarning)\n"
     ]
    },
    {
     "name": "stdout",
     "output_type": "stream",
     "text": [
      "Took: 189.21745085716248\n",
      "--------------------------------------------------\n",
      "En: 400\tTr: 42\n",
      "Using first variation (Regressor and Classifier with score vectors)\n",
      "epoch 0:\t19.16418855698307\n",
      "epoch 10:\t18.96085181621943\n",
      "epoch 20:\t18.553248933030403\n",
      "epoch 30:\t18.20936739686455\n",
      "epoch 40:\t17.928109713280907\n",
      "epoch 50:\t17.708413282173073\n",
      "Using second variation (average of outputs produced by each set of weight matrices)\n",
      "Epoch 0: 0.657369664353053\n",
      "Epoch 25: 0.0007789840365146276\n",
      "Epoch 50: 0.00040837174031778937\n",
      "Epoch 75: 0.00027972808153977263\n",
      "Epoch 100: 0.00021379415729085147\n",
      "Epoch 125: 0.00017353081243870147\n",
      "Epoch 150: 0.00014631069771328426\n",
      "W1 size 284\n",
      "W2 size 6\n",
      "W3 size 3\n",
      "Using well-known algorithms: Logistic Regression, RandomForest and MLP\n"
     ]
    },
    {
     "name": "stderr",
     "output_type": "stream",
     "text": [
      "/usr/local/lib/python3.5/dist-packages/sklearn/metrics/classification.py:1135: UndefinedMetricWarning: F-score is ill-defined and being set to 0.0 in labels with no predicted samples.\n",
      "  'precision', 'predicted', average, warn_for)\n"
     ]
    },
    {
     "name": "stdout",
     "output_type": "stream",
     "text": [
      "Took: 117.30836153030396\n",
      "--------------------------------------------------\n",
      "En: 400\tTr: 85\n",
      "Using first variation (Regressor and Classifier with score vectors)\n",
      "epoch 0:\t19.845260518612104\n",
      "epoch 10:\t19.614193403328844\n",
      "epoch 20:\t19.519366994717277\n",
      "epoch 30:\t19.39565451264582\n",
      "epoch 40:\t19.25783238382063\n",
      "epoch 50:\t19.155864628686277\n",
      "Using second variation (average of outputs produced by each set of weight matrices)\n",
      "Epoch 0: 0.2676956698988381\n",
      "Epoch 25: 0.0006915364290630374\n",
      "Epoch 50: 0.0003540655700071007\n",
      "Epoch 75: 0.0002408571678741507\n",
      "Epoch 100: 0.00018339249478672336\n",
      "Epoch 125: 0.00014846041203242944\n",
      "Epoch 150: 0.00012491511256959627\n",
      "W1 size 321\n",
      "W2 size 6\n",
      "W3 size 3\n",
      "Using well-known algorithms: Logistic Regression, RandomForest and MLP\n"
     ]
    },
    {
     "name": "stderr",
     "output_type": "stream",
     "text": [
      "/usr/local/lib/python3.5/dist-packages/sklearn/metrics/classification.py:1135: UndefinedMetricWarning: F-score is ill-defined and being set to 0.0 in labels with no predicted samples.\n",
      "  'precision', 'predicted', average, warn_for)\n"
     ]
    },
    {
     "name": "stdout",
     "output_type": "stream",
     "text": [
      "Took: 134.18486213684082\n",
      "--------------------------------------------------\n",
      "En: 400\tTr: 128\n",
      "Using first variation (Regressor and Classifier with score vectors)\n",
      "epoch 0:\t20.823968482074264\n",
      "epoch 10:\t20.56138740117503\n",
      "epoch 20:\t20.464038046564337\n",
      "epoch 30:\t20.26460909234882\n",
      "epoch 40:\t19.921815505675898\n",
      "epoch 50:\t19.53284505084459\n",
      "Using second variation (average of outputs produced by each set of weight matrices)\n",
      "Epoch 0: 0.35942496044389044\n",
      "Epoch 25: 0.000782197092347567\n",
      "Epoch 50: 0.0003861407228668584\n",
      "Epoch 75: 0.00025937024619634394\n",
      "Epoch 100: 0.00019629359764534456\n",
      "Epoch 125: 0.0001583701489110521\n",
      "Epoch 150: 0.00013298051174978704\n",
      "W1 size 335\n",
      "W2 size 6\n",
      "W3 size 3\n",
      "Using well-known algorithms: Logistic Regression, RandomForest and MLP\n"
     ]
    },
    {
     "name": "stderr",
     "output_type": "stream",
     "text": [
      "/usr/local/lib/python3.5/dist-packages/sklearn/metrics/classification.py:1135: UndefinedMetricWarning: F-score is ill-defined and being set to 0.0 in labels with no predicted samples.\n",
      "  'precision', 'predicted', average, warn_for)\n",
      "/usr/local/lib/python3.5/dist-packages/sklearn/neural_network/multilayer_perceptron.py:564: ConvergenceWarning: Stochastic Optimizer: Maximum iterations (200) reached and the optimization hasn't converged yet.\n",
      "  % self.max_iter, ConvergenceWarning)\n"
     ]
    },
    {
     "name": "stdout",
     "output_type": "stream",
     "text": [
      "Took: 138.01273322105408\n",
      "--------------------------------------------------\n",
      "En: 400\tTr: 170\n",
      "Using first variation (Regressor and Classifier with score vectors)\n",
      "epoch 0:\t26.17632824754783\n",
      "epoch 10:\t25.21184756219742\n",
      "epoch 20:\t24.77651374512325\n",
      "epoch 30:\t24.39561341870908\n",
      "epoch 40:\t24.066461509363837\n",
      "epoch 50:\t23.79648643943702\n",
      "Using second variation (average of outputs produced by each set of weight matrices)\n",
      "Epoch 0: 0.4658907785814166\n",
      "Epoch 25: 0.0006030979291933528\n",
      "Epoch 50: 0.00031463589167590034\n",
      "Epoch 75: 0.00021700471752248468\n",
      "Epoch 100: 0.00016704321444848845\n",
      "Epoch 125: 0.0001364240535944841\n",
      "Epoch 150: 0.00011562781990980946\n",
      "W1 size 367\n",
      "W2 size 6\n",
      "W3 size 3\n",
      "Using well-known algorithms: Logistic Regression, RandomForest and MLP\n"
     ]
    },
    {
     "name": "stderr",
     "output_type": "stream",
     "text": [
      "/usr/local/lib/python3.5/dist-packages/sklearn/metrics/classification.py:1135: UndefinedMetricWarning: F-score is ill-defined and being set to 0.0 in labels with no predicted samples.\n",
      "  'precision', 'predicted', average, warn_for)\n",
      "/usr/local/lib/python3.5/dist-packages/sklearn/neural_network/multilayer_perceptron.py:564: ConvergenceWarning: Stochastic Optimizer: Maximum iterations (200) reached and the optimization hasn't converged yet.\n",
      "  % self.max_iter, ConvergenceWarning)\n"
     ]
    },
    {
     "name": "stdout",
     "output_type": "stream",
     "text": [
      "Took: 152.7419409751892\n",
      "--------------------------------------------------\n",
      "En: 400\tTr: 212\n",
      "Using first variation (Regressor and Classifier with score vectors)\n",
      "epoch 0:\t19.782814969532485\n",
      "epoch 10:\t19.085280765614737\n",
      "epoch 20:\t18.618859338548567\n",
      "epoch 30:\t18.18938257740557\n",
      "epoch 40:\t17.86875970215054\n",
      "epoch 50:\t17.595070308484463\n",
      "Using second variation (average of outputs produced by each set of weight matrices)\n",
      "Epoch 0: 0.11507305764519436\n",
      "Epoch 25: 0.0004908943429309051\n",
      "Epoch 50: 0.00023482038533422146\n",
      "Epoch 75: 0.00015695217482607478\n",
      "Epoch 100: 0.00011885251392942416\n",
      "Epoch 125: 9.611838072956496e-05\n",
      "Epoch 150: 8.095537779182236e-05\n",
      "W1 size 371\n",
      "W2 size 6\n",
      "W3 size 3\n",
      "Using well-known algorithms: Logistic Regression, RandomForest and MLP\n"
     ]
    },
    {
     "name": "stderr",
     "output_type": "stream",
     "text": [
      "/usr/local/lib/python3.5/dist-packages/sklearn/metrics/classification.py:1135: UndefinedMetricWarning: F-score is ill-defined and being set to 0.0 in labels with no predicted samples.\n",
      "  'precision', 'predicted', average, warn_for)\n"
     ]
    },
    {
     "name": "stdout",
     "output_type": "stream",
     "text": [
      "Took: 160.14961886405945\n",
      "--------------------------------------------------\n",
      "En: 400\tTr: 255\n",
      "Using first variation (Regressor and Classifier with score vectors)\n",
      "epoch 0:\t20.235895884278346\n",
      "epoch 10:\t19.71265371764844\n",
      "epoch 20:\t19.618474481852946\n",
      "epoch 30:\t19.50557211808915\n",
      "epoch 40:\t19.37255782874483\n",
      "epoch 50:\t19.22135043415878\n",
      "Using second variation (average of outputs produced by each set of weight matrices)\n",
      "Epoch 0: 0.741782181071158\n",
      "Epoch 25: 0.0007629369848270648\n",
      "Epoch 50: 0.00038931944488644746\n",
      "Epoch 75: 0.00026433262212313327\n",
      "Epoch 100: 0.00020115456859969507\n",
      "Epoch 125: 0.00016285740809793362\n",
      "Epoch 150: 0.00013709525596152964\n",
      "W1 size 405\n",
      "W2 size 6\n",
      "W3 size 3\n",
      "Using well-known algorithms: Logistic Regression, RandomForest and MLP\n"
     ]
    },
    {
     "name": "stderr",
     "output_type": "stream",
     "text": [
      "/usr/local/lib/python3.5/dist-packages/sklearn/metrics/classification.py:1135: UndefinedMetricWarning: F-score is ill-defined and being set to 0.0 in labels with no predicted samples.\n",
      "  'precision', 'predicted', average, warn_for)\n"
     ]
    },
    {
     "name": "stdout",
     "output_type": "stream",
     "text": [
      "Took: 172.94616389274597\n",
      "--------------------------------------------------\n",
      "En: 400\tTr: 298\n",
      "Using first variation (Regressor and Classifier with score vectors)\n",
      "epoch 0:\t20.599952622878885\n",
      "epoch 10:\t20.190271978105766\n",
      "epoch 20:\t19.97070030627979\n",
      "epoch 30:\t19.695053466768144\n",
      "epoch 40:\t19.341461832520057\n",
      "epoch 50:\t19.117768008437938\n",
      "Using second variation (average of outputs produced by each set of weight matrices)\n",
      "Epoch 0: 0.3502776469445727\n",
      "Epoch 25: 0.0005133341700903413\n",
      "Epoch 50: 0.0002557927192492921\n",
      "Epoch 75: 0.00017483571795777415\n",
      "Epoch 100: 0.00013405145209331078\n",
      "Epoch 125: 0.00010919876692952682\n",
      "Epoch 150: 9.236762060083378e-05\n",
      "W1 size 412\n",
      "W2 size 6\n",
      "W3 size 3\n",
      "Using well-known algorithms: Logistic Regression, RandomForest and MLP\n"
     ]
    },
    {
     "name": "stderr",
     "output_type": "stream",
     "text": [
      "/usr/local/lib/python3.5/dist-packages/sklearn/metrics/classification.py:1135: UndefinedMetricWarning: F-score is ill-defined and being set to 0.0 in labels with no predicted samples.\n",
      "  'precision', 'predicted', average, warn_for)\n",
      "/usr/local/lib/python3.5/dist-packages/sklearn/neural_network/multilayer_perceptron.py:564: ConvergenceWarning: Stochastic Optimizer: Maximum iterations (200) reached and the optimization hasn't converged yet.\n",
      "  % self.max_iter, ConvergenceWarning)\n"
     ]
    },
    {
     "name": "stdout",
     "output_type": "stream",
     "text": [
      "Took: 177.86215567588806\n",
      "--------------------------------------------------\n",
      "En: 400\tTr: 340\n",
      "Using first variation (Regressor and Classifier with score vectors)\n",
      "epoch 0:\t30.560703789855154\n",
      "epoch 10:\t29.64947818308852\n",
      "epoch 20:\t28.672872629367845\n",
      "epoch 30:\t27.958167219035754\n",
      "epoch 40:\t27.35954447411964\n",
      "epoch 50:\t26.87739846820736\n",
      "Using second variation (average of outputs produced by each set of weight matrices)\n",
      "Epoch 0: 0.21122139189109523\n",
      "Epoch 25: 0.0005626317137068935\n",
      "Epoch 50: 0.0002671332317162665\n",
      "Epoch 75: 0.00018015074898181945\n",
      "Epoch 100: 0.0001373084841165105\n",
      "Epoch 125: 0.00011150341109721021\n",
      "Epoch 150: 9.415029519111905e-05\n",
      "W1 size 423\n",
      "W2 size 6\n",
      "W3 size 3\n",
      "Using well-known algorithms: Logistic Regression, RandomForest and MLP\n"
     ]
    },
    {
     "name": "stderr",
     "output_type": "stream",
     "text": [
      "/usr/local/lib/python3.5/dist-packages/sklearn/metrics/classification.py:1135: UndefinedMetricWarning: F-score is ill-defined and being set to 0.0 in labels with no predicted samples.\n",
      "  'precision', 'predicted', average, warn_for)\n"
     ]
    },
    {
     "name": "stdout",
     "output_type": "stream",
     "text": [
      "Took: 190.1437783241272\n",
      "--------------------------------------------------\n",
      "En: 400\tTr: 382\n",
      "Using first variation (Regressor and Classifier with score vectors)\n",
      "epoch 0:\t22.09516559534012\n",
      "epoch 10:\t21.28408256041857\n",
      "epoch 20:\t20.986979722978486\n",
      "epoch 30:\t20.71685565839241\n",
      "epoch 40:\t20.457890372901403\n",
      "epoch 50:\t20.221905096083656\n",
      "Using second variation (average of outputs produced by each set of weight matrices)\n",
      "Epoch 0: 0.2862148608927446\n",
      "Epoch 25: 0.000545475089038248\n",
      "Epoch 50: 0.0002805422957210257\n",
      "Epoch 75: 0.0001909521942972424\n",
      "Epoch 100: 0.00014547078582464085\n",
      "Epoch 125: 0.00011783561815909814\n",
      "Epoch 150: 9.921108076777086e-05\n",
      "W1 size 433\n",
      "W2 size 6\n",
      "W3 size 3\n",
      "Using well-known algorithms: Logistic Regression, RandomForest and MLP\n"
     ]
    },
    {
     "name": "stderr",
     "output_type": "stream",
     "text": [
      "/usr/local/lib/python3.5/dist-packages/sklearn/metrics/classification.py:1135: UndefinedMetricWarning: F-score is ill-defined and being set to 0.0 in labels with no predicted samples.\n",
      "  'precision', 'predicted', average, warn_for)\n",
      "/usr/local/lib/python3.5/dist-packages/sklearn/neural_network/multilayer_perceptron.py:564: ConvergenceWarning: Stochastic Optimizer: Maximum iterations (200) reached and the optimization hasn't converged yet.\n",
      "  % self.max_iter, ConvergenceWarning)\n"
     ]
    },
    {
     "name": "stdout",
     "output_type": "stream",
     "text": [
      "Took: 196.55429005622864\n",
      "--------------------------------------------------\n",
      "En: 400\tTr: 425\n",
      "Using first variation (Regressor and Classifier with score vectors)\n",
      "epoch 0:\t23.464686979922458\n",
      "epoch 10:\t23.01846759331991\n",
      "epoch 20:\t21.885475971525807\n",
      "epoch 30:\t20.824882766084936\n",
      "epoch 40:\t20.18870528984401\n",
      "epoch 50:\t19.739382163553437\n",
      "Using second variation (average of outputs produced by each set of weight matrices)\n",
      "Epoch 0: 0.17154892222532322\n",
      "Epoch 25: 0.00047685226116827423\n",
      "Epoch 50: 0.000245032517901033\n",
      "Epoch 75: 0.00016631970730088597\n",
      "Epoch 100: 0.0001264548447659825\n",
      "Epoch 125: 0.00010229424147310469\n",
      "Epoch 150: 8.604643712446473e-05\n",
      "W1 size 447\n",
      "W2 size 6\n",
      "W3 size 3\n",
      "Using well-known algorithms: Logistic Regression, RandomForest and MLP\n"
     ]
    },
    {
     "name": "stderr",
     "output_type": "stream",
     "text": [
      "/usr/local/lib/python3.5/dist-packages/sklearn/metrics/classification.py:1135: UndefinedMetricWarning: F-score is ill-defined and being set to 0.0 in labels with no predicted samples.\n",
      "  'precision', 'predicted', average, warn_for)\n"
     ]
    },
    {
     "name": "stdout",
     "output_type": "stream",
     "text": [
      "Took: 207.4667534828186\n",
      "--------------------------------------------------\n",
      "En: 450\tTr: 42\n",
      "Using first variation (Regressor and Classifier with score vectors)\n",
      "epoch 0:\t23.176378063694603\n",
      "epoch 10:\t23.08760519707712\n",
      "epoch 20:\t22.225463991769544\n",
      "epoch 30:\t21.55121645054365\n",
      "epoch 40:\t21.298888626274373\n",
      "epoch 50:\t21.189577683000117\n",
      "Using second variation (average of outputs produced by each set of weight matrices)\n",
      "Epoch 0: 0.32309223989762087\n",
      "Epoch 25: 0.0007320177382574573\n",
      "Epoch 50: 0.0003737904523632154\n",
      "Epoch 75: 0.0002534510911780866\n",
      "Epoch 100: 0.0001925138130839794\n",
      "Epoch 125: 0.00015555489918693126\n",
      "Epoch 150: 0.00013069515634367876\n",
      "W1 size 309\n",
      "W2 size 5\n",
      "W3 size 3\n",
      "Using well-known algorithms: Logistic Regression, RandomForest and MLP\n"
     ]
    },
    {
     "name": "stderr",
     "output_type": "stream",
     "text": [
      "/usr/local/lib/python3.5/dist-packages/sklearn/metrics/classification.py:1135: UndefinedMetricWarning: F-score is ill-defined and being set to 0.0 in labels with no predicted samples.\n",
      "  'precision', 'predicted', average, warn_for)\n"
     ]
    },
    {
     "name": "stdout",
     "output_type": "stream",
     "text": [
      "Took: 134.44029927253723\n",
      "--------------------------------------------------\n",
      "En: 450\tTr: 85\n",
      "Using first variation (Regressor and Classifier with score vectors)\n",
      "epoch 0:\t21.92794815583012\n",
      "epoch 10:\t21.576883229562767\n",
      "epoch 20:\t21.441458884807062\n",
      "epoch 30:\t21.084566114331466\n",
      "epoch 40:\t20.76122156920995\n",
      "epoch 50:\t20.53265581656056\n",
      "Using second variation (average of outputs produced by each set of weight matrices)\n",
      "Epoch 0: 0.7098158430891331\n",
      "Epoch 25: 0.0006115890324600295\n",
      "Epoch 50: 0.000306182617892533\n",
      "Epoch 75: 0.0002083291766971863\n",
      "Epoch 100: 0.00015902200245831958\n",
      "Epoch 125: 0.00012906111763199096\n",
      "Epoch 150: 0.00010884187647292531\n",
      "W1 size 339\n",
      "W2 size 5\n",
      "W3 size 3\n",
      "Using well-known algorithms: Logistic Regression, RandomForest and MLP\n"
     ]
    },
    {
     "name": "stderr",
     "output_type": "stream",
     "text": [
      "/usr/local/lib/python3.5/dist-packages/sklearn/metrics/classification.py:1135: UndefinedMetricWarning: F-score is ill-defined and being set to 0.0 in labels with no predicted samples.\n",
      "  'precision', 'predicted', average, warn_for)\n",
      "/usr/local/lib/python3.5/dist-packages/sklearn/neural_network/multilayer_perceptron.py:564: ConvergenceWarning: Stochastic Optimizer: Maximum iterations (200) reached and the optimization hasn't converged yet.\n",
      "  % self.max_iter, ConvergenceWarning)\n"
     ]
    },
    {
     "name": "stdout",
     "output_type": "stream",
     "text": [
      "Took: 136.8870973587036\n",
      "--------------------------------------------------\n",
      "En: 450\tTr: 128\n",
      "Using first variation (Regressor and Classifier with score vectors)\n",
      "epoch 0:\t22.50007961069382\n",
      "epoch 10:\t22.49900331474595\n",
      "epoch 20:\t22.231371219189885\n",
      "epoch 30:\t21.760200639326538\n",
      "epoch 40:\t21.28850051585416\n",
      "epoch 50:\t20.909201209432833\n",
      "Using second variation (average of outputs produced by each set of weight matrices)\n",
      "Epoch 0: 0.39565278216305855\n",
      "Epoch 25: 0.000915007508514486\n",
      "Epoch 50: 0.0004544034457772173\n",
      "Epoch 75: 0.00030733901671281517\n",
      "Epoch 100: 0.00023359171197927803\n",
      "Epoch 125: 0.00018897958191914545\n",
      "Epoch 150: 0.00015898768304087367\n",
      "W1 size 361\n",
      "W2 size 6\n",
      "W3 size 3\n",
      "Using well-known algorithms: Logistic Regression, RandomForest and MLP\n"
     ]
    },
    {
     "name": "stderr",
     "output_type": "stream",
     "text": [
      "/usr/local/lib/python3.5/dist-packages/sklearn/metrics/classification.py:1135: UndefinedMetricWarning: F-score is ill-defined and being set to 0.0 in labels with no predicted samples.\n",
      "  'precision', 'predicted', average, warn_for)\n",
      "/usr/local/lib/python3.5/dist-packages/sklearn/neural_network/multilayer_perceptron.py:564: ConvergenceWarning: Stochastic Optimizer: Maximum iterations (200) reached and the optimization hasn't converged yet.\n",
      "  % self.max_iter, ConvergenceWarning)\n"
     ]
    },
    {
     "name": "stdout",
     "output_type": "stream",
     "text": [
      "Took: 151.81116366386414\n",
      "--------------------------------------------------\n",
      "En: 450\tTr: 170\n",
      "Using first variation (Regressor and Classifier with score vectors)\n",
      "epoch 0:\t19.937480080339046\n",
      "epoch 10:\t19.47089183495469\n",
      "epoch 20:\t19.14784162877317\n",
      "epoch 30:\t18.823963777973734\n",
      "epoch 40:\t18.535907091645583\n",
      "epoch 50:\t18.321541468406274\n",
      "Using second variation (average of outputs produced by each set of weight matrices)\n",
      "Epoch 0: 0.758398608992359\n",
      "Epoch 25: 0.000740263507339298\n",
      "Epoch 50: 0.00037080936258256027\n",
      "Epoch 75: 0.00025152656170394406\n",
      "Epoch 100: 0.00019174228444551172\n",
      "Epoch 125: 0.00015556922268593836\n",
      "Epoch 150: 0.00013122523220835368\n",
      "W1 size 386\n",
      "W2 size 6\n",
      "W3 size 3\n",
      "Using well-known algorithms: Logistic Regression, RandomForest and MLP\n"
     ]
    },
    {
     "name": "stderr",
     "output_type": "stream",
     "text": [
      "/usr/local/lib/python3.5/dist-packages/sklearn/metrics/classification.py:1135: UndefinedMetricWarning: F-score is ill-defined and being set to 0.0 in labels with no predicted samples.\n",
      "  'precision', 'predicted', average, warn_for)\n"
     ]
    },
    {
     "name": "stdout",
     "output_type": "stream",
     "text": [
      "Took: 154.87277221679688\n",
      "--------------------------------------------------\n",
      "En: 450\tTr: 212\n",
      "Using first variation (Regressor and Classifier with score vectors)\n",
      "epoch 0:\t17.542522856807537\n",
      "epoch 10:\t17.578586588734222\n",
      "epoch 20:\t17.37062296546673\n",
      "epoch 30:\t17.170780877169012\n",
      "epoch 40:\t16.98264675106997\n",
      "epoch 50:\t16.81678511111775\n",
      "Using second variation (average of outputs produced by each set of weight matrices)\n",
      "Epoch 0: 0.5762983771569439\n",
      "Epoch 25: 0.0008471768906792656\n",
      "Epoch 50: 0.0003745669194944446\n",
      "Epoch 75: 0.00024645442843047844\n",
      "Epoch 100: 0.0001852143277701511\n",
      "Epoch 125: 0.0001489911529986211\n",
      "Epoch 150: 0.0001249483320020137\n",
      "W1 size 403\n",
      "W2 size 6\n",
      "W3 size 3\n",
      "Using well-known algorithms: Logistic Regression, RandomForest and MLP\n"
     ]
    },
    {
     "name": "stderr",
     "output_type": "stream",
     "text": [
      "/usr/local/lib/python3.5/dist-packages/sklearn/metrics/classification.py:1135: UndefinedMetricWarning: F-score is ill-defined and being set to 0.0 in labels with no predicted samples.\n",
      "  'precision', 'predicted', average, warn_for)\n"
     ]
    },
    {
     "name": "stdout",
     "output_type": "stream",
     "text": [
      "Took: 177.5318763256073\n",
      "--------------------------------------------------\n",
      "En: 450\tTr: 255\n",
      "Using first variation (Regressor and Classifier with score vectors)\n",
      "epoch 0:\t18.260157687644643\n",
      "epoch 10:\t18.036377458812186\n",
      "epoch 20:\t18.003643558356984\n",
      "epoch 30:\t17.941647334392727\n",
      "epoch 40:\t17.880120558960247\n",
      "epoch 50:\t17.82199365995392\n",
      "Using second variation (average of outputs produced by each set of weight matrices)\n",
      "Epoch 0: 0.45357227103437087\n",
      "Epoch 25: 0.000751368989334538\n",
      "Epoch 50: 0.00038439051385543886\n",
      "Epoch 75: 0.0002619001221518147\n",
      "Epoch 100: 0.00019973249521124394\n",
      "Epoch 125: 0.00016190675149645672\n",
      "Epoch 150: 0.00013638533199223727\n",
      "W1 size 419\n",
      "W2 size 6\n",
      "W3 size 3\n",
      "Using well-known algorithms: Logistic Regression, RandomForest and MLP\n"
     ]
    },
    {
     "name": "stderr",
     "output_type": "stream",
     "text": [
      "/usr/local/lib/python3.5/dist-packages/sklearn/metrics/classification.py:1135: UndefinedMetricWarning: F-score is ill-defined and being set to 0.0 in labels with no predicted samples.\n",
      "  'precision', 'predicted', average, warn_for)\n",
      "/usr/local/lib/python3.5/dist-packages/sklearn/neural_network/multilayer_perceptron.py:564: ConvergenceWarning: Stochastic Optimizer: Maximum iterations (200) reached and the optimization hasn't converged yet.\n",
      "  % self.max_iter, ConvergenceWarning)\n"
     ]
    },
    {
     "name": "stdout",
     "output_type": "stream",
     "text": [
      "Took: 183.32223415374756\n",
      "--------------------------------------------------\n",
      "En: 450\tTr: 298\n",
      "Using first variation (Regressor and Classifier with score vectors)\n",
      "epoch 0:\t19.814125979297852\n",
      "epoch 10:\t19.69423877355115\n",
      "epoch 20:\t19.583175896034497\n",
      "epoch 30:\t19.53694370835048\n",
      "epoch 40:\t19.492792534977323\n",
      "epoch 50:\t19.453005744654778\n",
      "Using second variation (average of outputs produced by each set of weight matrices)\n",
      "Epoch 0: 0.09733928285713256\n",
      "Epoch 25: 0.00039393003599148656\n",
      "Epoch 50: 0.00020240406495111317\n",
      "Epoch 75: 0.00013800500837185745\n",
      "Epoch 100: 0.00010535173439835151\n",
      "Epoch 125: 8.551251896833e-05\n",
      "Epoch 150: 7.21415804634453e-05\n",
      "W1 size 429\n",
      "W2 size 6\n",
      "W3 size 3\n",
      "Using well-known algorithms: Logistic Regression, RandomForest and MLP\n"
     ]
    },
    {
     "name": "stderr",
     "output_type": "stream",
     "text": [
      "/usr/local/lib/python3.5/dist-packages/sklearn/metrics/classification.py:1135: UndefinedMetricWarning: F-score is ill-defined and being set to 0.0 in labels with no predicted samples.\n",
      "  'precision', 'predicted', average, warn_for)\n",
      "/usr/local/lib/python3.5/dist-packages/sklearn/neural_network/multilayer_perceptron.py:564: ConvergenceWarning: Stochastic Optimizer: Maximum iterations (200) reached and the optimization hasn't converged yet.\n",
      "  % self.max_iter, ConvergenceWarning)\n"
     ]
    },
    {
     "name": "stdout",
     "output_type": "stream",
     "text": [
      "Took: 191.0116262435913\n",
      "--------------------------------------------------\n",
      "En: 450\tTr: 340\n",
      "Using first variation (Regressor and Classifier with score vectors)\n",
      "epoch 0:\t20.456251667374293\n",
      "epoch 10:\t20.389346785723067\n",
      "epoch 20:\t20.15488468132776\n",
      "epoch 30:\t19.9155786801287\n",
      "epoch 40:\t19.69709606402831\n",
      "epoch 50:\t19.50277671548141\n",
      "Using second variation (average of outputs produced by each set of weight matrices)\n",
      "Epoch 0: 0.42312513682169756\n",
      "Epoch 25: 0.0005248069593263684\n",
      "Epoch 50: 0.00027302360322445656\n",
      "Epoch 75: 0.00018714692272378872\n",
      "Epoch 100: 0.00014327902733925782\n",
      "Epoch 125: 0.00011649818411843292\n",
      "Epoch 150: 9.838252665998379e-05\n",
      "W1 size 446\n",
      "W2 size 6\n",
      "W3 size 3\n",
      "Using well-known algorithms: Logistic Regression, RandomForest and MLP\n"
     ]
    },
    {
     "name": "stderr",
     "output_type": "stream",
     "text": [
      "/usr/local/lib/python3.5/dist-packages/sklearn/metrics/classification.py:1135: UndefinedMetricWarning: F-score is ill-defined and being set to 0.0 in labels with no predicted samples.\n",
      "  'precision', 'predicted', average, warn_for)\n",
      "/usr/local/lib/python3.5/dist-packages/sklearn/neural_network/multilayer_perceptron.py:564: ConvergenceWarning: Stochastic Optimizer: Maximum iterations (200) reached and the optimization hasn't converged yet.\n",
      "  % self.max_iter, ConvergenceWarning)\n"
     ]
    },
    {
     "name": "stdout",
     "output_type": "stream",
     "text": [
      "Took: 210.84374809265137\n",
      "--------------------------------------------------\n",
      "En: 450\tTr: 382\n",
      "Using first variation (Regressor and Classifier with score vectors)\n",
      "epoch 0:\t19.85223177061009\n",
      "epoch 10:\t19.520916752658756\n",
      "epoch 20:\t19.44073522481882\n",
      "epoch 30:\t19.3943511460434\n",
      "epoch 40:\t19.366369801946792\n",
      "epoch 50:\t19.333707325521846\n",
      "Using second variation (average of outputs produced by each set of weight matrices)\n",
      "Epoch 0: 0.047721648382194656\n",
      "Epoch 25: 0.0002729761375612248\n",
      "Epoch 50: 0.0001410823126248167\n",
      "Epoch 75: 9.610349980451524e-05\n",
      "Epoch 100: 7.325585205261079e-05\n",
      "Epoch 125: 5.938217627670789e-05\n",
      "Epoch 150: 5.0044065895123915e-05\n",
      "W1 size 468\n",
      "W2 size 6\n",
      "W3 size 3\n",
      "Using well-known algorithms: Logistic Regression, RandomForest and MLP\n"
     ]
    },
    {
     "name": "stderr",
     "output_type": "stream",
     "text": [
      "/usr/local/lib/python3.5/dist-packages/sklearn/metrics/classification.py:1135: UndefinedMetricWarning: F-score is ill-defined and being set to 0.0 in labels with no predicted samples.\n",
      "  'precision', 'predicted', average, warn_for)\n"
     ]
    },
    {
     "name": "stdout",
     "output_type": "stream",
     "text": [
      "Took: 211.2291271686554\n",
      "--------------------------------------------------\n",
      "En: 450\tTr: 425\n",
      "Using first variation (Regressor and Classifier with score vectors)\n",
      "epoch 0:\t20.837479985036637\n",
      "epoch 10:\t20.284964706390465\n",
      "epoch 20:\t20.15538838373919\n",
      "epoch 30:\t20.02832863343347\n",
      "epoch 40:\t19.90885707057355\n",
      "epoch 50:\t19.799702176404622\n",
      "Using second variation (average of outputs produced by each set of weight matrices)\n",
      "Epoch 0: 0.4723612156527079\n",
      "Epoch 25: 0.0005879842366091615\n",
      "Epoch 50: 0.0002761751658806263\n",
      "Epoch 75: 0.0001837116680603523\n",
      "Epoch 100: 0.0001385697080091534\n",
      "Epoch 125: 0.00011161547860178546\n",
      "Epoch 150: 9.363145973067536e-05\n",
      "W1 size 463\n",
      "W2 size 6\n",
      "W3 size 3\n",
      "Using well-known algorithms: Logistic Regression, RandomForest and MLP\n"
     ]
    },
    {
     "name": "stderr",
     "output_type": "stream",
     "text": [
      "/usr/local/lib/python3.5/dist-packages/sklearn/metrics/classification.py:1135: UndefinedMetricWarning: F-score is ill-defined and being set to 0.0 in labels with no predicted samples.\n",
      "  'precision', 'predicted', average, warn_for)\n"
     ]
    },
    {
     "name": "stdout",
     "output_type": "stream",
     "text": [
      "Took: 226.716867685318\n",
      "--------------------------------------------------\n",
      "En: 500\tTr: 42\n",
      "Using first variation (Regressor and Classifier with score vectors)\n",
      "epoch 0:\t19.944774057453994\n",
      "epoch 10:\t19.623224736857733\n",
      "epoch 20:\t19.591972184199054\n",
      "epoch 30:\t19.318798941228096\n",
      "epoch 40:\t19.06616213898082\n",
      "epoch 50:\t18.80778569234181\n",
      "Using second variation (average of outputs produced by each set of weight matrices)\n",
      "Epoch 0: 0.30355465979595075\n",
      "Epoch 25: 0.000573159696753903\n",
      "Epoch 50: 0.00029976504581185595\n",
      "Epoch 75: 0.0002056824110688454\n",
      "Epoch 100: 0.00015753415614132063\n",
      "Epoch 125: 0.00012811420748818345\n",
      "Epoch 150: 0.00010821793207542345\n",
      "W1 size 328\n",
      "W2 size 5\n",
      "W3 size 3\n",
      "Using well-known algorithms: Logistic Regression, RandomForest and MLP\n"
     ]
    },
    {
     "name": "stderr",
     "output_type": "stream",
     "text": [
      "/usr/local/lib/python3.5/dist-packages/sklearn/metrics/classification.py:1135: UndefinedMetricWarning: F-score is ill-defined and being set to 0.0 in labels with no predicted samples.\n",
      "  'precision', 'predicted', average, warn_for)\n",
      "/usr/local/lib/python3.5/dist-packages/sklearn/neural_network/multilayer_perceptron.py:564: ConvergenceWarning: Stochastic Optimizer: Maximum iterations (200) reached and the optimization hasn't converged yet.\n",
      "  % self.max_iter, ConvergenceWarning)\n"
     ]
    },
    {
     "name": "stdout",
     "output_type": "stream",
     "text": [
      "Took: 139.15704894065857\n",
      "--------------------------------------------------\n",
      "En: 500\tTr: 85\n",
      "Using first variation (Regressor and Classifier with score vectors)\n",
      "epoch 0:\t19.043884902988083\n",
      "epoch 10:\t19.07147478316452\n",
      "epoch 20:\t18.771982963626453\n",
      "epoch 30:\t18.46964515873512\n",
      "epoch 40:\t18.21752751192373\n",
      "epoch 50:\t17.91738798437481\n",
      "Using second variation (average of outputs produced by each set of weight matrices)\n",
      "Epoch 0: 0.5802129689294359\n",
      "Epoch 25: 0.000453374598076781\n",
      "Epoch 50: 0.0002444606668129243\n",
      "Epoch 75: 0.0001710937988774426\n",
      "Epoch 100: 0.00013283660750061183\n",
      "Epoch 125: 0.0001091014197704661\n",
      "Epoch 150: 9.284521050605892e-05\n",
      "W1 size 353\n",
      "W2 size 5\n",
      "W3 size 3\n",
      "Using well-known algorithms: Logistic Regression, RandomForest and MLP\n"
     ]
    },
    {
     "name": "stderr",
     "output_type": "stream",
     "text": [
      "/usr/local/lib/python3.5/dist-packages/sklearn/metrics/classification.py:1135: UndefinedMetricWarning: F-score is ill-defined and being set to 0.0 in labels with no predicted samples.\n",
      "  'precision', 'predicted', average, warn_for)\n"
     ]
    },
    {
     "name": "stdout",
     "output_type": "stream",
     "text": [
      "Took: 160.3055214881897\n",
      "--------------------------------------------------\n",
      "En: 500\tTr: 128\n",
      "Using first variation (Regressor and Classifier with score vectors)\n",
      "epoch 0:\t18.943191861424385\n",
      "epoch 10:\t18.686961857430674\n",
      "epoch 20:\t18.573316256764276\n",
      "epoch 30:\t18.467707732022372\n",
      "epoch 40:\t18.343142895666325\n",
      "epoch 50:\t18.176848844325047\n",
      "Using second variation (average of outputs produced by each set of weight matrices)\n",
      "Epoch 0: 0.5101368914162475\n",
      "Epoch 25: 0.0009092106671619068\n",
      "Epoch 50: 0.00040652904850134425\n",
      "Epoch 75: 0.0002676948717495079\n",
      "Epoch 100: 0.00020115916546800618\n",
      "Epoch 125: 0.00016177764616461747\n",
      "Epoch 150: 0.0001356249569194299\n",
      "W1 size 387\n",
      "W2 size 6\n",
      "W3 size 3\n",
      "Using well-known algorithms: Logistic Regression, RandomForest and MLP\n"
     ]
    },
    {
     "name": "stderr",
     "output_type": "stream",
     "text": [
      "/usr/local/lib/python3.5/dist-packages/sklearn/metrics/classification.py:1135: UndefinedMetricWarning: F-score is ill-defined and being set to 0.0 in labels with no predicted samples.\n",
      "  'precision', 'predicted', average, warn_for)\n"
     ]
    },
    {
     "name": "stdout",
     "output_type": "stream",
     "text": [
      "Took: 172.99201130867004\n",
      "--------------------------------------------------\n",
      "En: 500\tTr: 170\n",
      "Using first variation (Regressor and Classifier with score vectors)\n",
      "epoch 0:\t21.192267936310515\n",
      "epoch 10:\t20.898953350114002\n",
      "epoch 20:\t20.379783139638615\n",
      "epoch 30:\t19.849287794796542\n",
      "epoch 40:\t19.388785393615965\n",
      "epoch 50:\t19.067603669062223\n",
      "Using second variation (average of outputs produced by each set of weight matrices)\n",
      "Epoch 0: 0.16682081355551479\n",
      "Epoch 25: 0.0004373245782832796\n",
      "Epoch 50: 0.00023237897933985375\n",
      "Epoch 75: 0.00016031429158574746\n",
      "Epoch 100: 0.00012311157672775406\n",
      "Epoch 125: 0.00010028063227180376\n",
      "Epoch 150: 8.479071880538977e-05\n",
      "W1 size 397\n",
      "W2 size 6\n",
      "W3 size 3\n",
      "Using well-known algorithms: Logistic Regression, RandomForest and MLP\n"
     ]
    },
    {
     "name": "stderr",
     "output_type": "stream",
     "text": [
      "/usr/local/lib/python3.5/dist-packages/sklearn/metrics/classification.py:1135: UndefinedMetricWarning: F-score is ill-defined and being set to 0.0 in labels with no predicted samples.\n",
      "  'precision', 'predicted', average, warn_for)\n",
      "/usr/local/lib/python3.5/dist-packages/sklearn/neural_network/multilayer_perceptron.py:564: ConvergenceWarning: Stochastic Optimizer: Maximum iterations (200) reached and the optimization hasn't converged yet.\n",
      "  % self.max_iter, ConvergenceWarning)\n"
     ]
    },
    {
     "name": "stdout",
     "output_type": "stream",
     "text": [
      "Took: 174.54991149902344\n",
      "--------------------------------------------------\n",
      "En: 500\tTr: 212\n",
      "Using first variation (Regressor and Classifier with score vectors)\n",
      "epoch 0:\t20.622216690655375\n",
      "epoch 10:\t20.510920292749343\n",
      "epoch 20:\t20.349933891159235\n",
      "epoch 30:\t20.162184399048865\n",
      "epoch 40:\t19.962095747225614\n",
      "epoch 50:\t19.741610703555043\n",
      "Using second variation (average of outputs produced by each set of weight matrices)\n",
      "Epoch 0: 0.5508138955240627\n",
      "Epoch 25: 0.0006110227852087156\n",
      "Epoch 50: 0.0003071344589164602\n",
      "Epoch 75: 0.00020882569671508937\n",
      "Epoch 100: 0.00015926295252641\n",
      "Epoch 125: 0.00012917075782369948\n",
      "Epoch 150: 0.00010887531704134777\n",
      "W1 size 418\n",
      "W2 size 6\n",
      "W3 size 3\n",
      "Using well-known algorithms: Logistic Regression, RandomForest and MLP\n"
     ]
    },
    {
     "name": "stderr",
     "output_type": "stream",
     "text": [
      "/usr/local/lib/python3.5/dist-packages/sklearn/metrics/classification.py:1135: UndefinedMetricWarning: F-score is ill-defined and being set to 0.0 in labels with no predicted samples.\n",
      "  'precision', 'predicted', average, warn_for)\n",
      "/usr/local/lib/python3.5/dist-packages/sklearn/neural_network/multilayer_perceptron.py:564: ConvergenceWarning: Stochastic Optimizer: Maximum iterations (200) reached and the optimization hasn't converged yet.\n",
      "  % self.max_iter, ConvergenceWarning)\n"
     ]
    },
    {
     "name": "stdout",
     "output_type": "stream",
     "text": [
      "Took: 179.84328389167786\n",
      "--------------------------------------------------\n",
      "En: 500\tTr: 255\n",
      "Using first variation (Regressor and Classifier with score vectors)\n",
      "epoch 0:\t21.910311341015603\n",
      "epoch 10:\t21.174357674133333\n",
      "epoch 20:\t20.67482305652965\n",
      "epoch 30:\t20.260896978875877\n",
      "epoch 40:\t19.954239191076653\n",
      "epoch 50:\t19.722752758439\n",
      "Using second variation (average of outputs produced by each set of weight matrices)\n",
      "Epoch 0: 0.254433396007669\n",
      "Epoch 25: 0.0005946575925535073\n",
      "Epoch 50: 0.00029722410529567974\n",
      "Epoch 75: 0.00020165541533244687\n",
      "Epoch 100: 0.0001536872160414383\n",
      "Epoch 125: 0.00012463489630261615\n",
      "Epoch 150: 0.00010507793076848149\n",
      "W1 size 432\n",
      "W2 size 6\n",
      "W3 size 3\n",
      "Using well-known algorithms: Logistic Regression, RandomForest and MLP\n"
     ]
    },
    {
     "name": "stderr",
     "output_type": "stream",
     "text": [
      "/usr/local/lib/python3.5/dist-packages/sklearn/metrics/classification.py:1135: UndefinedMetricWarning: F-score is ill-defined and being set to 0.0 in labels with no predicted samples.\n",
      "  'precision', 'predicted', average, warn_for)\n",
      "/usr/local/lib/python3.5/dist-packages/sklearn/neural_network/multilayer_perceptron.py:564: ConvergenceWarning: Stochastic Optimizer: Maximum iterations (200) reached and the optimization hasn't converged yet.\n",
      "  % self.max_iter, ConvergenceWarning)\n"
     ]
    },
    {
     "name": "stdout",
     "output_type": "stream",
     "text": [
      "Took: 183.89068174362183\n",
      "--------------------------------------------------\n",
      "En: 500\tTr: 298\n",
      "Using first variation (Regressor and Classifier with score vectors)\n",
      "epoch 0:\t20.449411309212127\n",
      "epoch 10:\t20.056201470738568\n",
      "epoch 20:\t19.70673243505026\n",
      "epoch 30:\t19.421505857122924\n",
      "epoch 40:\t19.183242923193763\n",
      "epoch 50:\t19.015085102337707\n",
      "Using second variation (average of outputs produced by each set of weight matrices)\n",
      "Epoch 0: 0.07472183443424878\n",
      "Epoch 25: 0.00040910247005207783\n",
      "Epoch 50: 0.00021104625712901513\n",
      "Epoch 75: 0.0001439459042574539\n",
      "Epoch 100: 0.00010974330696370558\n",
      "Epoch 125: 8.889264051045334e-05\n",
      "Epoch 150: 7.480858220040625e-05\n",
      "W1 size 452\n",
      "W2 size 6\n",
      "W3 size 3\n",
      "Using well-known algorithms: Logistic Regression, RandomForest and MLP\n"
     ]
    },
    {
     "name": "stderr",
     "output_type": "stream",
     "text": [
      "/usr/local/lib/python3.5/dist-packages/sklearn/metrics/classification.py:1135: UndefinedMetricWarning: F-score is ill-defined and being set to 0.0 in labels with no predicted samples.\n",
      "  'precision', 'predicted', average, warn_for)\n"
     ]
    },
    {
     "name": "stdout",
     "output_type": "stream",
     "text": [
      "Took: 192.71916031837463\n",
      "--------------------------------------------------\n",
      "En: 500\tTr: 340\n",
      "Using first variation (Regressor and Classifier with score vectors)\n",
      "epoch 0:\t24.138274708579207\n",
      "epoch 10:\t23.625501066372635\n",
      "epoch 20:\t23.238103455245902\n",
      "epoch 30:\t22.880483544707612\n",
      "epoch 40:\t22.59816663291134\n",
      "epoch 50:\t22.262427923970467\n",
      "Using second variation (average of outputs produced by each set of weight matrices)\n",
      "Epoch 0: 0.48457636023974693\n",
      "Epoch 25: 0.0007969717856575525\n",
      "Epoch 50: 0.00031492503624228616\n",
      "Epoch 75: 0.00020431426153721637\n",
      "Epoch 100: 0.00015303638294569954\n",
      "Epoch 125: 0.00012298594923686933\n",
      "Epoch 150: 0.00010309538677263946\n",
      "W1 size 463\n",
      "W2 size 6\n",
      "W3 size 3\n",
      "Using well-known algorithms: Logistic Regression, RandomForest and MLP\n"
     ]
    },
    {
     "name": "stderr",
     "output_type": "stream",
     "text": [
      "/usr/local/lib/python3.5/dist-packages/sklearn/metrics/classification.py:1135: UndefinedMetricWarning: F-score is ill-defined and being set to 0.0 in labels with no predicted samples.\n",
      "  'precision', 'predicted', average, warn_for)\n"
     ]
    },
    {
     "name": "stdout",
     "output_type": "stream",
     "text": [
      "Took: 209.38917565345764\n",
      "--------------------------------------------------\n",
      "En: 500\tTr: 382\n",
      "Using first variation (Regressor and Classifier with score vectors)\n",
      "epoch 0:\t19.719845727490974\n",
      "epoch 10:\t19.320689691244848\n",
      "epoch 20:\t19.03209149269354\n",
      "epoch 30:\t18.739260316635605\n",
      "epoch 40:\t18.413031294954788\n",
      "epoch 50:\t18.143759193632526\n",
      "Using second variation (average of outputs produced by each set of weight matrices)\n",
      "Epoch 0: 0.304686802226271\n",
      "Epoch 25: 0.0003432305778342685\n",
      "Epoch 50: 0.00018385040338440728\n",
      "Epoch 75: 0.00012664772151225697\n",
      "Epoch 100: 9.695527861522283e-05\n",
      "Epoch 125: 7.870601837814677e-05\n",
      "Epoch 150: 6.632888468052257e-05\n",
      "W1 size 473\n",
      "W2 size 6\n",
      "W3 size 3\n",
      "Using well-known algorithms: Logistic Regression, RandomForest and MLP\n"
     ]
    },
    {
     "name": "stderr",
     "output_type": "stream",
     "text": [
      "/usr/local/lib/python3.5/dist-packages/sklearn/metrics/classification.py:1135: UndefinedMetricWarning: F-score is ill-defined and being set to 0.0 in labels with no predicted samples.\n",
      "  'precision', 'predicted', average, warn_for)\n"
     ]
    },
    {
     "name": "stdout",
     "output_type": "stream",
     "text": [
      "Took: 233.84322881698608\n",
      "--------------------------------------------------\n",
      "En: 500\tTr: 425\n",
      "Using first variation (Regressor and Classifier with score vectors)\n",
      "epoch 0:\t20.415601593774113\n",
      "epoch 10:\t20.176899096379984\n",
      "epoch 20:\t19.91497524803913\n",
      "epoch 30:\t19.73435325182928\n",
      "epoch 40:\t19.588685070642267\n",
      "epoch 50:\t19.466115146914195\n",
      "Using second variation (average of outputs produced by each set of weight matrices)\n",
      "Epoch 0: 0.33409296077505946\n",
      "Epoch 25: 0.0005557524643278446\n",
      "Epoch 50: 0.0002814696849764834\n",
      "Epoch 75: 0.00019031503163314422\n",
      "Epoch 100: 0.00014437298408533688\n",
      "Epoch 125: 0.00011658674632050824\n",
      "Epoch 150: 9.791964096862287e-05\n",
      "W1 size 485\n",
      "W2 size 6\n",
      "W3 size 3\n",
      "Using well-known algorithms: Logistic Regression, RandomForest and MLP\n"
     ]
    },
    {
     "name": "stderr",
     "output_type": "stream",
     "text": [
      "/usr/local/lib/python3.5/dist-packages/sklearn/metrics/classification.py:1135: UndefinedMetricWarning: F-score is ill-defined and being set to 0.0 in labels with no predicted samples.\n",
      "  'precision', 'predicted', average, warn_for)\n"
     ]
    },
    {
     "name": "stdout",
     "output_type": "stream",
     "text": [
      "Took: 231.13006258010864\n",
      "--------------------------------------------------\n"
     ]
    },
    {
     "name": "stderr",
     "output_type": "stream",
     "text": [
      "/usr/local/lib/python3.5/dist-packages/sklearn/neural_network/multilayer_perceptron.py:564: ConvergenceWarning: Stochastic Optimizer: Maximum iterations (200) reached and the optimization hasn't converged yet.\n",
      "  % self.max_iter, ConvergenceWarning)\n"
     ]
    }
   ],
   "source": [
    "robustness_tri = robustness_test(df_tri, tronly_test_raw_tri)\n",
    "pickle.dump(robustness_tri, open(\"../results/robustness_tri.results\", \"wb\"))"
   ]
  },
  {
   "cell_type": "code",
   "execution_count": null,
   "metadata": {},
   "outputs": [],
   "source": [
    "# HOW TO CHEAT LIKE A PRO\n",
    "# \"\"\"\n",
    "# def test_selective(df_test, W1, W2, W3):\n",
    "#     reset_graph()\n",
    "#     x = tf.placeholder(tf.float32, [None, 300])\n",
    "#     y = tf.placeholder(tf.float32, [None, 10]) # 1-10 => 10 classes\n",
    "\n",
    "#     w1 = tf.placeholder(tf.float32, [300, 300])\n",
    "#     w2 = tf.placeholder(tf.float32, [300, 300])\n",
    "#     w3 = tf.placeholder(tf.float32, [300, 10])\n",
    "\n",
    "#     b1 = tf.Variable(tf.zeros([300]))\n",
    "#     b2 = tf.Variable(tf.zeros([300]))\n",
    "#     b3 = tf.Variable(tf.zeros([10]))\n",
    "\n",
    "#     l2 = tf.nn.sigmoid(tf.matmul(x, w1) + b1)\n",
    "#     l3 = tf.nn.sigmoid(tf.matmul(l2, w2) + b2)\n",
    "#     pred = tf.nn.softmax(tf.matmul(l3, w3) + b3)\n",
    "    \n",
    "#     correct_prediction = tf.equal(tf.argmax(pred, 1), tf.argmax(y, 1))\n",
    "#     instance_accuracy = tf.reduce_mean(tf.cast(correct_prediction, tf.float32))\n",
    "#     with tf.Session() as sess:\n",
    "#         sess.run(tf.global_variables_initializer())\n",
    "    \n",
    "#         # Testing the model\n",
    "#         LSMR_test = preprocess_data(df_test)\n",
    "#         X_test, y_test = get_test(LSMR_test)\n",
    "#         accuracy = 0.\n",
    "#         for i in range(len(X_test)):\n",
    "#             best_instance_accuracy = float(\"-inf\")\n",
    "#             for language, score, movie_id in W1:\n",
    "#                 w_1 = W1[(language, score, movie_id)]\n",
    "#                 w_2 = W2[(language, score)]\n",
    "#                 w_3 = W3[score]\n",
    "#                 a = instance_accuracy.eval({x: np.atleast_2d(X_test[i]), y: np.atleast_2d(y_test[i]),\n",
    "#                                    w1:w_1,\n",
    "#                                    w2:w_2,\n",
    "#                                    w3:w_3})\n",
    "#                 if a > best_instance_accuracy:\n",
    "#                     best_instance_accuracy = a\n",
    "#             accuracy += best_instance_accuracy\n",
    "\n",
    "#     return accuracy/len(X_test)\n",
    "# \"\"\""
   ]
  },
  {
   "cell_type": "markdown",
   "metadata": {},
   "source": [
    "# 3-layer NN > needs at least 3 days for training"
   ]
  },
  {
   "cell_type": "code",
   "execution_count": null,
   "metadata": {},
   "outputs": [],
   "source": [
    "# gpu is a must\n",
    "def train_deep(df_train, epochs=100, learning_rate=0.1, random_state=42):\n",
    "    LSMR_train = preprocess_data(df_train)\n",
    "    np.random.seed(random_state)\n",
    "    data_dict, L1, L2, L3 = get_data_dict(LSMR_train, get_L2and3=True)\n",
    "    init_weights = lambda layer, i, o: {k:2*np.random.random((i, o))-1 for k in layer}\n",
    "    W1 = init_weights(L1, 300, 300)  # (languge, score, movie_id)\n",
    "    W2 = init_weights(L2, 300, 300)  # (languge, score):\n",
    "    W3 = init_weights(L3, 300, 10)  # score:\n",
    "    \n",
    "    \n",
    "    reset_graph()\n",
    "    x = tf.placeholder(tf.float32, [None, 300])\n",
    "    y = tf.placeholder(tf.float32, [None, 10]) # 1-10 => 10 classes\n",
    "\n",
    "    w1 = tf.Variable(tf.zeros([300, 300]))\n",
    "    w2 = tf.Variable(tf.zeros([300, 300]))\n",
    "    w3 = tf.Variable(tf.zeros([300, 10]))\n",
    "\n",
    "    b1 = tf.Variable(tf.zeros([300]))\n",
    "    b2 = tf.Variable(tf.zeros([300]))\n",
    "    b3 = tf.Variable(tf.zeros([10]))\n",
    "\n",
    "    l2 = tf.nn.sigmoid(tf.matmul(x, w1) + b1)\n",
    "    l3 = tf.nn.sigmoid(tf.matmul(l2, w2) + b2)\n",
    "    pred = tf.nn.softmax(tf.matmul(l3, w3) + b3)\n",
    "\n",
    "\n",
    "    cost = tf.reduce_mean(-tf.reduce_sum(y*tf.log(pred), reduction_indices=1))\n",
    "    optimizer = tf.train.GradientDescentOptimizer(learning_rate).minimize(cost)\n",
    "    training_curve = dict()\n",
    "    with tf.device('/job:localhost/replica:0/task:0/device:GPU:0'):\n",
    "        with tf.Session(config=tf.ConfigProto(log_device_placement=True)) as sess:\n",
    "            sess.run(tf.global_variables_initializer())\n",
    "            for e in range(epochs+1):\n",
    "                start = time.time()\n",
    "                avg_cost = 0.\n",
    "                for _, row in LSMR_train.iterrows():\n",
    "                    score = row[\"Score\"]\n",
    "                    y_ = np.zeros(10)\n",
    "                    y_[score-1] = 1\n",
    "                    y_ = np.atleast_2d(y_)\n",
    "                    x_ = np.atleast_2d(row[\"rev_vec\"])\n",
    "                    w_1, w_2, w_3 , _, c = sess.run([w1, w2, w3, optimizer, cost], feed_dict={x: x_,y: y_})               \n",
    "                    avg_cost += c\n",
    "                avg_cost /= len(LSMR_train)\n",
    "                training_curve[e] = (avg_cost, time.time()-start)\n",
    "                if e%10==0:\n",
    "                    print(\"Epoch {}: {}\".format(e, avg_cost))\n",
    "\n",
    "    return w_1, w_2, w_3, training_curve"
   ]
  },
  {
   "cell_type": "code",
   "execution_count": null,
   "metadata": {},
   "outputs": [],
   "source": [
    "def test_deep(df_test, w_1, w_2, w_3):\n",
    "    reset_graph()\n",
    "    x = tf.placeholder(tf.float32, [None, 300])\n",
    "    y = tf.placeholder(tf.float32, [None, 10]) # 1-10 => 10 classes\n",
    "\n",
    "    w1 = tf.placeholder(tf.float32, [300, 300])\n",
    "    w2 = tf.placeholder(tf.float32, [300, 300])\n",
    "    w3 = tf.placeholder(tf.float32, [300, 10])\n",
    "\n",
    "    b1 = tf.Variable(tf.zeros([300]))\n",
    "    b2 = tf.Variable(tf.zeros([300]))\n",
    "    b3 = tf.Variable(tf.zeros([10]))\n",
    "\n",
    "    l2 = tf.nn.sigmoid(tf.matmul(x, w1) + b1)\n",
    "    l3 = tf.nn.sigmoid(tf.matmul(l2, w2) + b2)\n",
    "    pred = tf.nn.softmax(tf.matmul(l3, w3) + b3)\n",
    "    \n",
    "    correct_prediction = tf.equal(tf.argmax(pred, 1), tf.argmax(y, 1))\n",
    "    accuracy = tf.reduce_mean(tf.cast(correct_prediction, tf.float32))\n",
    "    \n",
    "    with tf.device('/job:localhost/replica:0/task:0/device:GPU:0'):\n",
    "        with tf.Session(config=tf.ConfigProto(log_device_placement=True)) as sess:\n",
    "            sess.run(tf.global_variables_initializer())\n",
    "\n",
    "            # Testing the model\n",
    "            LSMR_test = preprocess_data(df_test)\n",
    "            X_test, y_test = get_test(LSMR_test)\n",
    "            return accuracy.eval({x: X_test,\n",
    "                                  y: y_test,\n",
    "                                  w1:w_1,w2:w_2,\n",
    "                                  w3:w_3})"
   ]
  },
  {
   "cell_type": "code",
   "execution_count": null,
   "metadata": {},
   "outputs": [],
   "source": [
    "NUM_TRIALS = 1\n",
    "scores_incremental = dict()\n",
    "learning_curves = dict()\n",
    "for i in range(NUM_TRIALS):\n",
    "    scores_incremental[i] = dict()\n",
    "    learning_curves[i] = dict()\n",
    "    print(\"Trial:\\t{}\".format(i+1))\n",
    "    k = 0\n",
    "    skf = StratifiedKFold(n_splits=10, random_state=i)\n",
    "    for train_index, test_index in skf.split(df[\"Review\"], df[\"Language\"]):\n",
    "        start = time.time()\n",
    "        w1, w2, w3, learning_curve = train_deep(df.loc[train_index], random_state=i, epochs=10000)\n",
    "        s = test_deep(df.loc[test_index], w1, w2, w3)\n",
    "        k += 1\n",
    "        print(\"K:\\t{}\\nScore:\\t{}\".format(k, s))\n",
    "        print(\"took:\", time.time()-start)\n",
    "        scores_incremental[i][k] = s\n",
    "        learning_curves[i][k] = learning_curve\n",
    "    print(\"*\"*10)\n",
    "    try:\n",
    "        print(\"Trial {} avg score:\\t {}\".format(i+1, np.mean(list(scores_incremental[i].values()))))\n",
    "    except:\n",
    "        continue\n",
    "    print(\"-\"*30)"
   ]
  },
  {
   "cell_type": "code",
   "execution_count": null,
   "metadata": {},
   "outputs": [],
   "source": []
  }
 ],
 "metadata": {
  "kernelspec": {
   "display_name": "Python 3",
   "language": "python",
   "name": "python3"
  },
  "language_info": {
   "codemirror_mode": {
    "name": "ipython",
    "version": 3
   },
   "file_extension": ".py",
   "mimetype": "text/x-python",
   "name": "python",
   "nbconvert_exporter": "python",
   "pygments_lexer": "ipython3",
   "version": "3.5.2"
  }
 },
 "nbformat": 4,
 "nbformat_minor": 2
}
