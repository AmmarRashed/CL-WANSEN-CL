{
 "cells": [
  {
   "cell_type": "code",
   "execution_count": 1,
   "metadata": {},
   "outputs": [
    {
     "name": "stderr",
     "output_type": "stream",
     "text": [
      "/usr/local/lib/python3.5/dist-packages/h5py/__init__.py:36: FutureWarning: Conversion of the second argument of issubdtype from `float` to `np.floating` is deprecated. In future, it will be treated as `np.float64 == np.dtype(float).type`.\n",
      "  from ._conv import register_converters as _register_converters\n"
     ]
    }
   ],
   "source": [
    "import tensorflow as tf\n",
    "import pickle, pandas as pd, re, numpy as np, ast, warnings\n",
    "\n",
    "from joblib import Parallel, delayed\n",
    "\n",
    "import time\n",
    "from copy import deepcopy\n",
    "from collections import defaultdict, OrderedDict\n",
    "from itertools import chain, starmap\n",
    "from itertools import product\n",
    "import unicodedata\n",
    "from sklearn.linear_model import LinearRegression, LogisticRegression\n",
    "from sklearn.neural_network import MLPRegressor, MLPClassifier\n",
    "from sklearn.svm import SVR\n",
    "from sklearn.ensemble import RandomForestRegressor, RandomForestClassifier\n",
    "from sklearn.neighbors import KNeighborsClassifier\n",
    "from sklearn.metrics import f1_score, precision_score, accuracy_score, log_loss\n",
    "from sklearn.preprocessing import StandardScaler\n",
    "from sklearn.decomposition import PCA\n",
    "from sklearn.model_selection import StratifiedKFold\n",
    "from sklearn.pipeline import Pipeline\n",
    "\n",
    "from TurkishStemmer import TurkishStemmer\n",
    "warnings.filterwarnings(action='ignore', category=UserWarning, module='gensim')\n",
    "import gensim\n",
    "from textblob import TextBlob"
   ]
  },
  {
   "cell_type": "code",
   "execution_count": 2,
   "metadata": {},
   "outputs": [],
   "source": [
    "def reset_graph(seed=42):\n",
    "    tf.reset_default_graph()\n",
    "    tf.set_random_seed(seed)\n",
    "    np.random.seed(seed)\n",
    "    \n",
    "reset_graph()"
   ]
  },
  {
   "cell_type": "code",
   "execution_count": 3,
   "metadata": {},
   "outputs": [
    {
     "data": {
      "text/html": [
       "<div>\n",
       "<style scoped>\n",
       "    .dataframe tbody tr th:only-of-type {\n",
       "        vertical-align: middle;\n",
       "    }\n",
       "\n",
       "    .dataframe tbody tr th {\n",
       "        vertical-align: top;\n",
       "    }\n",
       "\n",
       "    .dataframe thead th {\n",
       "        text-align: right;\n",
       "    }\n",
       "</style>\n",
       "<table border=\"1\" class=\"dataframe\">\n",
       "  <thead>\n",
       "    <tr style=\"text-align: right;\">\n",
       "      <th></th>\n",
       "      <th>Language</th>\n",
       "      <th>Movie_ID</th>\n",
       "      <th>Review</th>\n",
       "      <th>Score</th>\n",
       "    </tr>\n",
       "  </thead>\n",
       "  <tbody>\n",
       "    <tr>\n",
       "      <th>0</th>\n",
       "      <td>en</td>\n",
       "      <td>-800777728</td>\n",
       "      <td>i love science fiction and i hate superheroes ...</td>\n",
       "      <td>9</td>\n",
       "    </tr>\n",
       "    <tr>\n",
       "      <th>1</th>\n",
       "      <td>en</td>\n",
       "      <td>-800777728</td>\n",
       "      <td>the movie is absolutely incredible all the per...</td>\n",
       "      <td>10</td>\n",
       "    </tr>\n",
       "    <tr>\n",
       "      <th>2</th>\n",
       "      <td>en</td>\n",
       "      <td>-1018312192</td>\n",
       "      <td>in a cinematic era dominated by reboots and mi...</td>\n",
       "      <td>8</td>\n",
       "    </tr>\n",
       "    <tr>\n",
       "      <th>3</th>\n",
       "      <td>en</td>\n",
       "      <td>-1018312192</td>\n",
       "      <td>movie review on rise of the planet of the apes...</td>\n",
       "      <td>4</td>\n",
       "    </tr>\n",
       "    <tr>\n",
       "      <th>4</th>\n",
       "      <td>en</td>\n",
       "      <td>-1018312192</td>\n",
       "      <td>during experiments to find a cure for alzheime...</td>\n",
       "      <td>7</td>\n",
       "    </tr>\n",
       "  </tbody>\n",
       "</table>\n",
       "</div>"
      ],
      "text/plain": [
       "  Language    Movie_ID                                             Review  \\\n",
       "0       en  -800777728  i love science fiction and i hate superheroes ...   \n",
       "1       en  -800777728  the movie is absolutely incredible all the per...   \n",
       "2       en -1018312192  in a cinematic era dominated by reboots and mi...   \n",
       "3       en -1018312192  movie review on rise of the planet of the apes...   \n",
       "4       en -1018312192  during experiments to find a cure for alzheime...   \n",
       "\n",
       "   Score  \n",
       "0      9  \n",
       "1     10  \n",
       "2      8  \n",
       "3      4  \n",
       "4      7  "
      ]
     },
     "execution_count": 3,
     "metadata": {},
     "output_type": "execute_result"
    }
   ],
   "source": [
    "df_full = pd.read_csv(\"../datasets/movie_data.csv\")\n",
    "df_full.head()"
   ]
  },
  {
   "cell_type": "code",
   "execution_count": 4,
   "metadata": {},
   "outputs": [
    {
     "data": {
      "text/html": [
       "<div>\n",
       "<style scoped>\n",
       "    .dataframe tbody tr th:only-of-type {\n",
       "        vertical-align: middle;\n",
       "    }\n",
       "\n",
       "    .dataframe tbody tr th {\n",
       "        vertical-align: top;\n",
       "    }\n",
       "\n",
       "    .dataframe thead th {\n",
       "        text-align: right;\n",
       "    }\n",
       "</style>\n",
       "<table border=\"1\" class=\"dataframe\">\n",
       "  <thead>\n",
       "    <tr style=\"text-align: right;\">\n",
       "      <th></th>\n",
       "      <th>Language</th>\n",
       "      <th>Movie_ID</th>\n",
       "      <th>Review</th>\n",
       "    </tr>\n",
       "    <tr>\n",
       "      <th>Score</th>\n",
       "      <th></th>\n",
       "      <th></th>\n",
       "      <th></th>\n",
       "    </tr>\n",
       "  </thead>\n",
       "  <tbody>\n",
       "    <tr>\n",
       "      <th>1</th>\n",
       "      <td>29</td>\n",
       "      <td>29</td>\n",
       "      <td>29</td>\n",
       "    </tr>\n",
       "    <tr>\n",
       "      <th>2</th>\n",
       "      <td>21</td>\n",
       "      <td>21</td>\n",
       "      <td>21</td>\n",
       "    </tr>\n",
       "    <tr>\n",
       "      <th>3</th>\n",
       "      <td>14</td>\n",
       "      <td>14</td>\n",
       "      <td>14</td>\n",
       "    </tr>\n",
       "    <tr>\n",
       "      <th>4</th>\n",
       "      <td>23</td>\n",
       "      <td>23</td>\n",
       "      <td>23</td>\n",
       "    </tr>\n",
       "    <tr>\n",
       "      <th>5</th>\n",
       "      <td>83</td>\n",
       "      <td>83</td>\n",
       "      <td>83</td>\n",
       "    </tr>\n",
       "    <tr>\n",
       "      <th>6</th>\n",
       "      <td>43</td>\n",
       "      <td>43</td>\n",
       "      <td>43</td>\n",
       "    </tr>\n",
       "    <tr>\n",
       "      <th>7</th>\n",
       "      <td>71</td>\n",
       "      <td>71</td>\n",
       "      <td>71</td>\n",
       "    </tr>\n",
       "    <tr>\n",
       "      <th>8</th>\n",
       "      <td>207</td>\n",
       "      <td>207</td>\n",
       "      <td>207</td>\n",
       "    </tr>\n",
       "    <tr>\n",
       "      <th>9</th>\n",
       "      <td>175</td>\n",
       "      <td>175</td>\n",
       "      <td>175</td>\n",
       "    </tr>\n",
       "    <tr>\n",
       "      <th>10</th>\n",
       "      <td>334</td>\n",
       "      <td>334</td>\n",
       "      <td>334</td>\n",
       "    </tr>\n",
       "  </tbody>\n",
       "</table>\n",
       "</div>"
      ],
      "text/plain": [
       "       Language  Movie_ID  Review\n",
       "Score                            \n",
       "1            29        29      29\n",
       "2            21        21      21\n",
       "3            14        14      14\n",
       "4            23        23      23\n",
       "5            83        83      83\n",
       "6            43        43      43\n",
       "7            71        71      71\n",
       "8           207       207     207\n",
       "9           175       175     175\n",
       "10          334       334     334"
      ]
     },
     "execution_count": 4,
     "metadata": {},
     "output_type": "execute_result"
    }
   ],
   "source": [
    "df_full.groupby(\"Score\").count()"
   ]
  },
  {
   "cell_type": "code",
   "execution_count": 5,
   "metadata": {},
   "outputs": [],
   "source": [
    "# en_vects = gensim.models.KeyedVectors.load_word2vec_format(r\"../../NLP_data/GoogleNews-vectors-negative300.bin\", binary=True)\n",
    "en_vects = gensim.models.KeyedVectors.load_word2vec_format(r\"../../NLP_data/wiki.en/wiki.en.vec\", binary=False)"
   ]
  },
  {
   "cell_type": "code",
   "execution_count": 6,
   "metadata": {},
   "outputs": [],
   "source": [
    "tr_vects = gensim.models.KeyedVectors.load_word2vec_format(r\"../../NLP_data/wiki.tr/wiki.tr.vec\", binary=False)"
   ]
  },
  {
   "cell_type": "code",
   "execution_count": 7,
   "metadata": {},
   "outputs": [],
   "source": [
    "turkish_stemmer = TurkishStemmer()\n",
    "def clean(text, language=\"en\", stem=True):\n",
    "    global turkish_stemmer\n",
    "    text = unicodedata.normalize('NFKD', text).encode('ascii', 'ignore').lower().decode(\"ascii\")\n",
    "    \n",
    "    if language == \"tr\":\n",
    "        if stem:\n",
    "            text= ' '.join([turkish_stemmer.stem(w) for w in text.split()])\n",
    "    text = re.sub(r\"[^A-Za-z0-9^,!.\\/'+-=]\", \" \", text)\n",
    "    text = re.sub(r'[0-9]', '#', text)\n",
    "    text = re.sub(r\",\", \" \", text)\n",
    "    text = re.sub(r\"\\.\", \" \", text)\n",
    "    text = re.sub(r\"!\", \" \", text)\n",
    "    text = re.sub(r\"\\/\", \" \", text)\n",
    "    text = re.sub(r\"\\^\", \" \", text)\n",
    "    text = re.sub(r\"\\+\", \" \", text)\n",
    "    text = re.sub(r\"\\-\", \" \", text)\n",
    "    text = re.sub(r\"\\=\", \" \", text)\n",
    "    text = re.sub(r\"'\", \" \", text)\n",
    "    text = re.sub(r\":\", \" \", text)\n",
    "    text = re.sub(r\"e(\\s)?-(\\s)?mail\", \"email\", text)\n",
    "\n",
    "    text = re.sub(r\"what's\", \"what is \", text)\n",
    "    text = re.sub(r\"\\'s\", \" \", text)\n",
    "    text = re.sub(r\"\\'ve\", \" have \", text)\n",
    "    text = re.sub(r\"can't\", \"cannot \", text)\n",
    "    text = re.sub(r\"n't\", \" not \", text)\n",
    "    text = re.sub(r\"i'm\", \"i am \", text)\n",
    "    text = re.sub(r\"\\'re\", \" are \", text)\n",
    "    text = re.sub(r\"\\'d\", \" would \", text)\n",
    "    text = re.sub(r\"\\'ll\", \" will \", text)\n",
    "    text = re.sub(r\" e g \", \" eg \", text)\n",
    "    text = re.sub(r\" b g \", \" bg \", text)\n",
    "    text = re.sub(r\" u s \", \" american \", text)\n",
    "    return TextBlob(text)\n"
   ]
  },
  {
   "cell_type": "code",
   "execution_count": 8,
   "metadata": {},
   "outputs": [],
   "source": [
    "VECTOR_SIZE = 300\n",
    "def vectorize(text, language):\n",
    "    global VECTOR_SIZE            \n",
    "    blob = clean(text, language)\n",
    "    vector = np.zeros(VECTOR_SIZE)\n",
    "    if len(blob.words) < 1:\n",
    "        return None\n",
    "\n",
    "    for word in blob.words:\n",
    "        try:\n",
    "            if language == \"en\":\n",
    "                vector += globals()[\"en_vects\"][word]\n",
    "            else:\n",
    "                vector += globals()[\"tr_vects\"][word]\n",
    "        except KeyError as e:\n",
    "#             warnings.warn(str(e))\n",
    "            continue\n",
    "    vector /= max(len(blob.words),1)\n",
    "    return vector"
   ]
  },
  {
   "cell_type": "code",
   "execution_count": 9,
   "metadata": {},
   "outputs": [],
   "source": [
    "def getvec(x):\n",
    "    lang, rev = x.split(\":::::\")\n",
    "    return vectorize(rev, lang)"
   ]
  },
  {
   "cell_type": "code",
   "execution_count": 10,
   "metadata": {},
   "outputs": [],
   "source": [
    "# LMSR\n",
    "def preprocess_data(df, language_column=\"Language\", review_column=\"Review\"):\n",
    "    LMSR_df = df.copy()\n",
    "    LMSR_df[\"lang_rev\"] = LMSR_df[[language_column, review_column]].apply(lambda x: x[0]+\":::::\"+x[1], axis=1)\n",
    "    LMSR_df[\"rev_vec\"] = LMSR_df[\"lang_rev\"].apply(lambda x:getvec(x))\n",
    "    LMSR_df.drop([\"lang_rev\", \"Review\"], axis=1, inplace=True)\n",
    "    return LMSR_df"
   ]
  },
  {
   "cell_type": "code",
   "execution_count": 11,
   "metadata": {},
   "outputs": [],
   "source": [
    "def distance_accuracy(y_true, y_predict):\n",
    "    res = 0\n",
    "    for i in range(len(y_true)):\n",
    "        res += abs(y_true[i]-y_predict[i])\n",
    "    return 1-res/(len(y_true)*len(set(y_true)))"
   ]
  },
  {
   "cell_type": "code",
   "execution_count": 12,
   "metadata": {},
   "outputs": [],
   "source": [
    "def get_XYy(LMSR):\n",
    "    X = np.zeros((len(LMSR), VECTOR_SIZE))\n",
    "    Y = np.zeros((len(LMSR), VECTOR_SIZE))\n",
    "    y = np.zeros((len(LMSR)))\n",
    "    i = 0\n",
    "    for rev in LMSR.iterrows():\n",
    "        score = rev[1][2]\n",
    "        rev_vec = rev[1][3]\n",
    "        score_vec = rev[1][4]\n",
    "\n",
    "        X[i] = rev_vec\n",
    "        Y[i] = score_vec\n",
    "        y[i] = score\n",
    "\n",
    "        i += 1\n",
    "    return X, Y, y"
   ]
  },
  {
   "cell_type": "code",
   "execution_count": 13,
   "metadata": {},
   "outputs": [],
   "source": [
    "def softmax(x):\n",
    "    \"\"\"Compute softmax values for each sets of scores in x.\"\"\"\n",
    "    e_x = np.exp(x - np.max(x))\n",
    "    return e_x / e_x.sum()"
   ]
  },
  {
   "cell_type": "code",
   "execution_count": 14,
   "metadata": {},
   "outputs": [],
   "source": [
    "def sigmoid(x, derive=False):\n",
    "    if derive:\n",
    "        return x*(1-x)\n",
    "    return 1/(1+np.exp(-x))"
   ]
  },
  {
   "cell_type": "code",
   "execution_count": 15,
   "metadata": {},
   "outputs": [],
   "source": [
    "def get_data_dict(df, get_L2and3=False):\n",
    "    data_dict = dict() #{language:{score: {movie_id: [rev1, rev2, ..., revn]}}}\n",
    "    L1 = dict()  # {(languge, score, movie_id): list of reviews with the same score with the same language}\n",
    "    L2 = dict()  # {(language, score): None}\n",
    "    L3 = dict()  # {score: None}\n",
    "    for _, row in df.iterrows():\n",
    "        lang = row[\"Language\"]\n",
    "        movie_id = row[\"Movie_ID\"]\n",
    "        score = row[\"Score\"]\n",
    "        review = row[\"rev_vec\"]\n",
    "\n",
    "        data_dict.setdefault(lang, {})\n",
    "        data_dict[lang].setdefault(score, {})\n",
    "        data_dict[lang][score].setdefault(movie_id, [])\n",
    "        data_dict[lang][score][movie_id].append(review)\n",
    "        \n",
    "        L1.setdefault((lang, score, movie_id), list())\n",
    "        L1[(lang, score, movie_id)].append(review)\n",
    "        if get_L2and3:    \n",
    "            L2[(lang, score)] = None\n",
    "            L3[score] = None\n",
    "    if get_L2and3:\n",
    "        return data_dict, L1, L2, L3\n",
    "    return data_dict, L1"
   ]
  },
  {
   "cell_type": "code",
   "execution_count": 16,
   "metadata": {},
   "outputs": [],
   "source": [
    "def get_L2(LSM_R, data_dict):\n",
    "    L2 = dict()  # {(language, score): list of movies vectors}\n",
    "    for language in data_dict:\n",
    "        for score in data_dict[language]:\n",
    "            for movie_id in data_dict[language][score]:\n",
    "                L2.setdefault((language, score), list())\n",
    "                L2[(language, score)].append(LSM_R[(language, score, movie_id)])\n",
    "    return L2"
   ]
  },
  {
   "cell_type": "code",
   "execution_count": 17,
   "metadata": {},
   "outputs": [],
   "source": [
    "def get_L3(LS_MR, data_dict):\n",
    "    L3 = dict()  # {score: vector of merged languages for that score}\n",
    "    for language in data_dict:\n",
    "        for score in data_dict[language]:\n",
    "            L3.setdefault(score, list())\n",
    "            L3[score].append(LS_MR[(language, score)])\n",
    "    return L3"
   ]
  },
  {
   "cell_type": "code",
   "execution_count": 18,
   "metadata": {},
   "outputs": [],
   "source": [
    "def merge(L, W):\n",
    "    merged = dict()  # {item: vector of merged subitems}\n",
    "    for i, item in enumerate(sorted(L)):\n",
    "        for subitem in L[item]:\n",
    "            merged.setdefault(item, [np.zeros(VECTOR_SIZE),0])\n",
    "            merged[item][0] += sigmoid(subitem.dot(W[i]))\n",
    "            merged[item][1] += 1\n",
    "    for item in merged:\n",
    "        merged[item] = merged[item][0]/ merged[item][1]\n",
    "    return merged"
   ]
  },
  {
   "cell_type": "code",
   "execution_count": 19,
   "metadata": {},
   "outputs": [],
   "source": [
    "def update_weights(L, delta, W, alpha=0.1):\n",
    "    for i, k in enumerate(sorted(L)):\n",
    "        for l in L[k]:\n",
    "            W[i] += l.T.dot(delta[i]) *alpha\n",
    "    return W"
   ]
  },
  {
   "cell_type": "code",
   "execution_count": 20,
   "metadata": {},
   "outputs": [],
   "source": [
    "def get_layer_error(delta, W):\n",
    "    error = 0\n",
    "    for i in range(len(delta)):\n",
    "        error += delta[i].dot(W[i].T)\n",
    "    return error/len(delta)"
   ]
  },
  {
   "cell_type": "code",
   "execution_count": 21,
   "metadata": {},
   "outputs": [],
   "source": [
    "def get_layer_delta(error, layer, size):\n",
    "    delta = np.zeros((size, VECTOR_SIZE))\n",
    "    j = 0\n",
    "    for i,k in enumerate(sorted(layer)):\n",
    "        for l in layer[k]:\n",
    "            delta[j] = error[i]*sigmoid(l, True)\n",
    "            j += 1\n",
    "    return delta"
   ]
  },
  {
   "cell_type": "markdown",
   "metadata": {},
   "source": [
    "## Training"
   ]
  },
  {
   "cell_type": "markdown",
   "metadata": {},
   "source": [
    "## Full-batch"
   ]
  },
  {
   "cell_type": "code",
   "execution_count": 22,
   "metadata": {},
   "outputs": [],
   "source": [
    "def get_score_vects(df, iterations=100, alpha=0.1, random_state=42, W1=None, W2=None, W3=None, W4=None):\n",
    "    LSMR = preprocess_data(df)\n",
    "    data_dict, L1 = get_data_dict(LSMR)\n",
    "    y = softmax(list(LSMR.Score))\n",
    "#     np.random.seed(random_state)\n",
    "    learning_curve = dict()\n",
    "    for i in range(iterations+1):\n",
    "        # forward propagation\n",
    "        if W1 is None:\n",
    "            W1 = 2*np.random.random((len(L1), 300, 300))-1\n",
    "\n",
    "        LSM_R = merge(L1, W1)\n",
    "        L2 = get_L2(LSM_R, data_dict)\n",
    "        if W2 is None:\n",
    "            W2 = 2*np.random.random((len(L2), 300, 300))-1\n",
    "\n",
    "        LS_MR = merge(L2, W2)\n",
    "        L3 = get_L3(LS_MR, data_dict)\n",
    "        if W3 is None:\n",
    "            W3 = 2*np.random.random((len(L3), 300, 300))-1\n",
    "\n",
    "        score_vectors_dict = merge(L3, W3)\n",
    "        l4 = sigmoid(np.array([v for k, v in sorted(score_vectors_dict.items())]))\n",
    "        if W4 is None:\n",
    "            W4 = 2*np.random.random((300, len(LSMR)))-1\n",
    "        \n",
    "        l5 = softmax(l4.dot(W4))  # predicted scores\n",
    "        \n",
    "        # Calculate the error\n",
    "        l5_error = np.mean(np.dot(np.log(l5), y))\n",
    "        \n",
    "        # Back propagation\n",
    "        l5_delta = l5_error * sigmoid(l5, True)\n",
    "        W4 += l4.T.dot(l5_delta)*alpha\n",
    "        \n",
    "        l4_error = l5_delta.dot(W4.T)\n",
    "        l4_delta = l4_error * sigmoid(l4, True)\n",
    "        \n",
    "        W3 = update_weights(L3, l4_delta, W3, alpha)\n",
    "        \n",
    "        l3_error = get_layer_error(l4_delta, W3)\n",
    "        l3_delta = get_layer_delta(l3_error, L3, len(L2))\n",
    "        \n",
    "        W2 = update_weights(L2, l3_delta, W2, alpha)\n",
    "        \n",
    "        l2_error = get_layer_error(l3_delta, W2)\n",
    "        l2_delta = get_layer_delta(l2_error, L2, len(LSMR))\n",
    "        \n",
    "        W1 = update_weights(L1, l2_delta, W1, alpha)\n",
    "        learning_curve[i] = l5_error\n",
    "        if i%10 == 0:\n",
    "            print(\"epoch {}:\\t{}\".format(i, np.abs(l5_error)))\n",
    "        if i%100 == 0:\n",
    "            alpha *= 0.9\n",
    "    return LSMR, score_vectors_dict, learning_curve"
   ]
  },
  {
   "cell_type": "code",
   "execution_count": 23,
   "metadata": {},
   "outputs": [],
   "source": [
    "def fit(LSMR, score_vect_dicts,random_state=42, regressor=MLPRegressor(), classifier=MLPClassifier()):\n",
    "    LSMR[\"score_vec\"] = LSMR[\"Score\"].apply(lambda x: score_vect_dicts[x] if x in score_vect_dicts else np.NaN)\n",
    "    LSMR.dropna(inplace=True)\n",
    "    \n",
    "    X, Y, y = get_XYy(LSMR)\n",
    "    \n",
    "    regressor.random_state = random_state\n",
    "    classifier.random_state = random_state\n",
    "        \n",
    "    regressor.fit(X, Y)\n",
    "    classifier.fit(Y, y)\n",
    "    return regressor, classifier"
   ]
  },
  {
   "cell_type": "code",
   "execution_count": 24,
   "metadata": {},
   "outputs": [],
   "source": [
    "def predict(LSMR, score_vect_dicts, regressor, classifier):\n",
    "    LSMR[\"score_vec\"] = LSMR[\"Score\"].apply(lambda x: score_vect_dicts[x] if x in score_vect_dicts else np.NaN)\n",
    "    LSMR.dropna(inplace=True)\n",
    "    \n",
    "    X, Y, y = get_XYy(LSMR)\n",
    "    \n",
    "    preds_score_vecs = regressor.predict(X)\n",
    "    pred_scores = classifier.predict(preds_score_vecs)\n",
    "    \n",
    "    return pred_scores, y"
   ]
  },
  {
   "cell_type": "code",
   "execution_count": 25,
   "metadata": {},
   "outputs": [],
   "source": [
    "def get_separate_test_indices(df,size=100):\n",
    "    tr_reviews = df[df.Language==\"tr\"]\n",
    "    classes = list(set(tr_reviews[\"Score\"]))\n",
    "    indices = []\n",
    "    for s in classes:\n",
    "        indices += list(np.random.choice(tr_reviews[tr_reviews.Score==s].index, int(size/len(classes))))\n",
    "    return indices"
   ]
  },
  {
   "cell_type": "code",
   "execution_count": 26,
   "metadata": {},
   "outputs": [
    {
     "data": {
      "text/plain": [
       "Language    0\n",
       "Movie_ID    0\n",
       "Score       0\n",
       "rev_vec     0\n",
       "dtype: int64"
      ]
     },
     "execution_count": 26,
     "metadata": {},
     "output_type": "execute_result"
    }
   ],
   "source": [
    "tr_test_indices = get_separate_test_indices(df_full)\n",
    "\n",
    "tronly_test_raw = df_full.loc[tr_test_indices]\n",
    "tronly_test = preprocess_data(tronly_test_raw)\n",
    "tronly_test[tronly_test.Language==\"en\"].count()"
   ]
  },
  {
   "cell_type": "code",
   "execution_count": 27,
   "metadata": {},
   "outputs": [
    {
     "data": {
      "text/html": [
       "<div>\n",
       "<style scoped>\n",
       "    .dataframe tbody tr th:only-of-type {\n",
       "        vertical-align: middle;\n",
       "    }\n",
       "\n",
       "    .dataframe tbody tr th {\n",
       "        vertical-align: top;\n",
       "    }\n",
       "\n",
       "    .dataframe thead th {\n",
       "        text-align: right;\n",
       "    }\n",
       "</style>\n",
       "<table border=\"1\" class=\"dataframe\">\n",
       "  <thead>\n",
       "    <tr style=\"text-align: right;\">\n",
       "      <th></th>\n",
       "      <th>Language</th>\n",
       "      <th>Movie_ID</th>\n",
       "      <th>Review</th>\n",
       "    </tr>\n",
       "    <tr>\n",
       "      <th>Score</th>\n",
       "      <th></th>\n",
       "      <th></th>\n",
       "      <th></th>\n",
       "    </tr>\n",
       "  </thead>\n",
       "  <tbody>\n",
       "    <tr>\n",
       "      <th>1</th>\n",
       "      <td>11</td>\n",
       "      <td>11</td>\n",
       "      <td>11</td>\n",
       "    </tr>\n",
       "    <tr>\n",
       "      <th>2</th>\n",
       "      <td>11</td>\n",
       "      <td>11</td>\n",
       "      <td>11</td>\n",
       "    </tr>\n",
       "    <tr>\n",
       "      <th>4</th>\n",
       "      <td>11</td>\n",
       "      <td>11</td>\n",
       "      <td>11</td>\n",
       "    </tr>\n",
       "    <tr>\n",
       "      <th>5</th>\n",
       "      <td>11</td>\n",
       "      <td>11</td>\n",
       "      <td>11</td>\n",
       "    </tr>\n",
       "    <tr>\n",
       "      <th>6</th>\n",
       "      <td>11</td>\n",
       "      <td>11</td>\n",
       "      <td>11</td>\n",
       "    </tr>\n",
       "    <tr>\n",
       "      <th>7</th>\n",
       "      <td>11</td>\n",
       "      <td>11</td>\n",
       "      <td>11</td>\n",
       "    </tr>\n",
       "    <tr>\n",
       "      <th>8</th>\n",
       "      <td>11</td>\n",
       "      <td>11</td>\n",
       "      <td>11</td>\n",
       "    </tr>\n",
       "    <tr>\n",
       "      <th>9</th>\n",
       "      <td>11</td>\n",
       "      <td>11</td>\n",
       "      <td>11</td>\n",
       "    </tr>\n",
       "    <tr>\n",
       "      <th>10</th>\n",
       "      <td>11</td>\n",
       "      <td>11</td>\n",
       "      <td>11</td>\n",
       "    </tr>\n",
       "  </tbody>\n",
       "</table>\n",
       "</div>"
      ],
      "text/plain": [
       "       Language  Movie_ID  Review\n",
       "Score                            \n",
       "1            11        11      11\n",
       "2            11        11      11\n",
       "4            11        11      11\n",
       "5            11        11      11\n",
       "6            11        11      11\n",
       "7            11        11      11\n",
       "8            11        11      11\n",
       "9            11        11      11\n",
       "10           11        11      11"
      ]
     },
     "execution_count": 27,
     "metadata": {},
     "output_type": "execute_result"
    }
   ],
   "source": [
    "tronly_test_raw.groupby(\"Score\").count()"
   ]
  },
  {
   "cell_type": "code",
   "execution_count": 28,
   "metadata": {},
   "outputs": [
    {
     "data": {
      "text/html": [
       "<div>\n",
       "<style scoped>\n",
       "    .dataframe tbody tr th:only-of-type {\n",
       "        vertical-align: middle;\n",
       "    }\n",
       "\n",
       "    .dataframe tbody tr th {\n",
       "        vertical-align: top;\n",
       "    }\n",
       "\n",
       "    .dataframe thead th {\n",
       "        text-align: right;\n",
       "    }\n",
       "</style>\n",
       "<table border=\"1\" class=\"dataframe\">\n",
       "  <thead>\n",
       "    <tr style=\"text-align: right;\">\n",
       "      <th></th>\n",
       "      <th>Language</th>\n",
       "      <th>Movie_ID</th>\n",
       "      <th>Review</th>\n",
       "    </tr>\n",
       "    <tr>\n",
       "      <th>Score</th>\n",
       "      <th></th>\n",
       "      <th></th>\n",
       "      <th></th>\n",
       "    </tr>\n",
       "  </thead>\n",
       "  <tbody>\n",
       "    <tr>\n",
       "      <th>1</th>\n",
       "      <td>24</td>\n",
       "      <td>24</td>\n",
       "      <td>24</td>\n",
       "    </tr>\n",
       "    <tr>\n",
       "      <th>2</th>\n",
       "      <td>15</td>\n",
       "      <td>15</td>\n",
       "      <td>15</td>\n",
       "    </tr>\n",
       "    <tr>\n",
       "      <th>3</th>\n",
       "      <td>14</td>\n",
       "      <td>14</td>\n",
       "      <td>14</td>\n",
       "    </tr>\n",
       "    <tr>\n",
       "      <th>4</th>\n",
       "      <td>18</td>\n",
       "      <td>18</td>\n",
       "      <td>18</td>\n",
       "    </tr>\n",
       "    <tr>\n",
       "      <th>5</th>\n",
       "      <td>73</td>\n",
       "      <td>73</td>\n",
       "      <td>73</td>\n",
       "    </tr>\n",
       "    <tr>\n",
       "      <th>6</th>\n",
       "      <td>35</td>\n",
       "      <td>35</td>\n",
       "      <td>35</td>\n",
       "    </tr>\n",
       "    <tr>\n",
       "      <th>7</th>\n",
       "      <td>61</td>\n",
       "      <td>61</td>\n",
       "      <td>61</td>\n",
       "    </tr>\n",
       "    <tr>\n",
       "      <th>8</th>\n",
       "      <td>197</td>\n",
       "      <td>197</td>\n",
       "      <td>197</td>\n",
       "    </tr>\n",
       "    <tr>\n",
       "      <th>9</th>\n",
       "      <td>165</td>\n",
       "      <td>165</td>\n",
       "      <td>165</td>\n",
       "    </tr>\n",
       "    <tr>\n",
       "      <th>10</th>\n",
       "      <td>323</td>\n",
       "      <td>323</td>\n",
       "      <td>323</td>\n",
       "    </tr>\n",
       "  </tbody>\n",
       "</table>\n",
       "</div>"
      ],
      "text/plain": [
       "       Language  Movie_ID  Review\n",
       "Score                            \n",
       "1            24        24      24\n",
       "2            15        15      15\n",
       "3            14        14      14\n",
       "4            18        18      18\n",
       "5            73        73      73\n",
       "6            35        35      35\n",
       "7            61        61      61\n",
       "8           197       197     197\n",
       "9           165       165     165\n",
       "10          323       323     323"
      ]
     },
     "execution_count": 28,
     "metadata": {},
     "output_type": "execute_result"
    }
   ],
   "source": [
    "df = df_full.drop(tr_test_indices)\n",
    "df.groupby(\"Score\").count()"
   ]
  },
  {
   "cell_type": "code",
   "execution_count": 29,
   "metadata": {},
   "outputs": [],
   "source": [
    "def eval_models(model, train, test, tronly, ytrain, ytest, ytronly, LL=False, predtrain=False):\n",
    "    \n",
    "    _ = time.time()\n",
    "    model.fit(train, ytrain)\n",
    "    trat = time.time()-_\n",
    "    \n",
    "    _ = time.time()\n",
    "    predtest= model.predict(test)\n",
    "    tet = time.time()-_\n",
    "    s_test = distance_accuracy(ytest, predtest)\n",
    "    f1_test = f1_score(ytest, predtest, average='weighted')\n",
    "    \n",
    "    _ = time.time()\n",
    "    predtronly = model.predict(tronly)\n",
    "    trt = time.time()-_\n",
    "    s_tr = distance_accuracy(ytronly, predtronly)\n",
    "    f1_tronly = f1_score(ytronly, predtronly, average='weighted')\n",
    "    \n",
    "    evals = OrderedDict()\n",
    "\n",
    "    evals[\"Test\"] = s_test\n",
    "    evals[\"Tr. Only\"] = s_tr\n",
    "    evals[\"Training Time\"] = trat\n",
    "    evals[\"Testing Time\"] = tet\n",
    "    evals[\"Tr.Test Time\"] = trt\n",
    "    evals[\"F1 Test\"] = f1_test\n",
    "    evals[\"F1 Tr. only\"] = f1_tronly\n",
    "    if LL:\n",
    "        evals[\"Test_LL\"] = np.NAN\n",
    "        evals[\"Tr. Only_LL\"] = np.NAN\n",
    "    if predtrain:\n",
    "        if LL:\n",
    "            evals[\"Train_LL\"] = np.NAN\n",
    "        _ = time.time()\n",
    "        predicted_train = model.predict(train)\n",
    "        predtra = time.time()-_\n",
    "        s_train = distance_accuracy(ytrain, predicted_train)\n",
    "        f1_train = f1_score(ytrain, predicted_train, average='weighted')\n",
    "        evals[\"F1 Train\"] = f1_train\n",
    "        evals[\"Train\"] = s_train\n",
    "        evals[\"Pred.Tra. Time\"] = predtra\n",
    "    return evals"
   ]
  },
  {
   "cell_type": "code",
   "execution_count": 30,
   "metadata": {},
   "outputs": [],
   "source": [
    "def get_total_average(scores_tables):\n",
    "#     scores_tables: {i_th trial:\n",
    "#                     {k_th fold:\n",
    "#                         {'Model': {'Test': 0.8090301003344482,\n",
    "#                                    'Train': 0.783361064891847,\n",
    "#                                    'Turkish only': 0.7414285714285714}}}\n",
    "    avgs = dict()\n",
    "    for trial in scores_tables:\n",
    "        for table in scores_tables[trial]:\n",
    "            for model in scores_tables[trial][table]:\n",
    "                avgs.setdefault(model, dict())\n",
    "                for metric, score in scores_tables[trial][table][model].items():\n",
    "                    avgs[model].setdefault(metric, list())\n",
    "                    avgs[model][metric].append(score)\n",
    "    for model in avgs:\n",
    "        for metric in avgs[model]:\n",
    "            avgs[model][metric] = np.mean(avgs[model][metric])\n",
    "    return pd.DataFrame(avgs)"
   ]
  },
  {
   "cell_type": "code",
   "execution_count": 31,
   "metadata": {},
   "outputs": [],
   "source": [
    "def get_trial_score(trial_scores_tables):\n",
    "#  trial_scores_tables: {k_th fold:\n",
    "#                             {'Model': {'Test': 0.8090301003344482,\n",
    "#                                        'Train': 0.783361064891847,\n",
    "#                                        'Turkish only': 0.7414285714285714}}}\n",
    "    avgs = dict()\n",
    "    for table in trial_scores_tables:\n",
    "        for model in trial_scores_tables[table]:\n",
    "            avgs.setdefault(model, dict())\n",
    "            for metric, score in trial_scores_tables[table][model].items():\n",
    "                avgs[model].setdefault(metric, list())\n",
    "                avgs[model][metric].append(score)\n",
    "    for model in avgs:\n",
    "        for metric in avgs[model]:\n",
    "            avgs[model][metric] = np.mean(avgs[model][metric])\n",
    "    return pd.DataFrame(avgs)"
   ]
  },
  {
   "cell_type": "code",
   "execution_count": 32,
   "metadata": {},
   "outputs": [],
   "source": [
    "def eval_selectivewaves_regclass(df_, tronly_test_raw, NUM_TRIALS=1, splits=10):  \n",
    "    df = df_.reset_index(drop=True)\n",
    "    learning_curves = dict()\n",
    "    scores_tables = OrderedDict()\n",
    "    tronly_test = preprocess_data(tronly_test_raw)\n",
    "    for i in range(NUM_TRIALS):\n",
    "        print(\"Trial:\\t{}\".format(i+1))\n",
    "        scores_tables[i] = OrderedDict()\n",
    "        learning_curves[i] = OrderedDict()\n",
    "        k = 0\n",
    "        skf = StratifiedKFold(n_splits=splits, random_state=i)\n",
    "        \n",
    "        for train_index, test_index in skf.split(df[\"Review\"], df[\"Language\"]):\n",
    "            print(\"K:\\t{}\".format(k+1))\n",
    "            scores_tables[i][k] = OrderedDict()\n",
    "            start = time.time()\n",
    "            LSMR, score_vect_dicts, training_curve = get_score_vects(\n",
    "                df.loc[train_index], random_state=i, alpha=1e-5, iterations=50)\n",
    "            regressor, classifier = fit(LSMR, score_vect_dicts, random_state=i)\n",
    "            trat = time.time()- start\n",
    "\n",
    "            test_data = preprocess_data(df.loc[test_index])\n",
    "            _ = time.time()\n",
    "            preds, true = predict(test_data, score_vect_dicts, regressor, classifier)\n",
    "            tet = time.time()-_\n",
    "\n",
    "            _ = time.time()\n",
    "            preds_train, true_train = predict(preprocess_data(df.loc[train_index]),\n",
    "                                              score_vect_dicts,\n",
    "                                              regressor, classifier)\n",
    "            predtra = time.time()-_\n",
    "\n",
    "            _ = time.time()\n",
    "            preds_tr, true_tr = predict(tronly_test, score_vect_dicts, regressor, classifier)\n",
    "            trt = time.time()-_\n",
    "\n",
    "            elapsed = time.time()-start\n",
    "\n",
    "            s = distance_accuracy(true, preds)\n",
    "            f1_test = f1_score(true, preds, average='weighted')\n",
    "\n",
    "            s_train = distance_accuracy(true_train, preds_train)\n",
    "            f1_train = f1_score(true_train, preds_train, average='weighted')\n",
    "\n",
    "            s_tr = distance_accuracy(true_tr, preds_tr)\n",
    "            f1_tronly = f1_test = f1_score(true_tr, preds_tr, average='weighted')        \n",
    "\n",
    "\n",
    "            lr = LogisticRegression(random_state=i)\n",
    "            mlp = MLPClassifier(random_state=i)\n",
    "            rf = RandomForestClassifier(random_state=i,n_jobs=-1)\n",
    "            train_mat = np.array(list(LSMR[\"rev_vec\"]))\n",
    "            test_mat = np.array(list(test_data[\"rev_vec\"]))\n",
    "            tronly_mat = np.array(list(tronly_test[\"rev_vec\"]))\n",
    "\n",
    "            evals = OrderedDict()\n",
    "            evals[\"Train\"] = s_train\n",
    "            evals[\"Test\"] = s\n",
    "            evals[\"Tr. Only\"] = s_tr\n",
    "            evals[\"Training Time\"] = trat\n",
    "            evals[\"Pred.Tra. Time\"] = predtra\n",
    "            evals[\"Testing Time\"] = tet\n",
    "            evals[\"Tr.Test Time\"] = trt\n",
    "            evals[\"F1 Test\"] = f1_test\n",
    "            evals[\"F1 Train\"] = f1_train\n",
    "            evals[\"F1 Tr. only\"] = f1_tronly\n",
    "            scores_tables[i][k][\"DeepSelect\"] = evals\n",
    "            scores_tables[i][k][\"MLP\"] = eval_models(\n",
    "                mlp, train_mat, test_mat, tronly_mat, true_train, true, true_tr)\n",
    "            scores_tables[i][k][\"Logistic Regression\"] = eval_models(\n",
    "                lr, train_mat, test_mat, tronly_mat, true_train, true, true_tr)\n",
    "            scores_tables[i][k][\"RandomForest\"] = eval_models(\n",
    "                rf, train_mat, test_mat, tronly_mat, true_train, true, true_tr)\n",
    "\n",
    "            print()\n",
    "            print(\"K:\\t{}\".format(k+1))\n",
    "            print(pd.DataFrame(scores_tables[i][k]))\n",
    "            print(\"\\nThis fold took:\", elapsed, \"seconds\\n\")\n",
    "            learning_curves[i][k] = training_curve\n",
    "            k += 1\n",
    "            print(\"*\"*10+\"\\n\")\n",
    "        print(\"Average scores for trial {}\".format(i))\n",
    "        print(get_trial_score(scores_tables[i]))\n",
    "        print(\"-\"*30)\n",
    "    print(\"%%\"*20)\n",
    "    print(\"Average of {} trials\".format(NUM_TRIALS))\n",
    "    print(get_total_average(scores_tables))\n",
    "    return scores_tables"
   ]
  },
  {
   "cell_type": "code",
   "execution_count": 33,
   "metadata": {
    "scrolled": true
   },
   "outputs": [
    {
     "name": "stdout",
     "output_type": "stream",
     "text": [
      "Trial:\t1\n",
      "K:\t1\n",
      "epoch 0:\t25.956314860342978\n",
      "epoch 10:\t25.409497985807565\n",
      "epoch 20:\t24.920203411155963\n",
      "epoch 30:\t24.631771262147012\n",
      "epoch 40:\t24.42629753865604\n",
      "epoch 50:\t24.266966276096248\n"
     ]
    },
    {
     "name": "stderr",
     "output_type": "stream",
     "text": [
      "/usr/local/lib/python3.5/dist-packages/sklearn/metrics/classification.py:1135: UndefinedMetricWarning: F-score is ill-defined and being set to 0.0 in labels with no predicted samples.\n",
      "  'precision', 'predicted', average, warn_for)\n",
      "/usr/local/lib/python3.5/dist-packages/sklearn/neural_network/multilayer_perceptron.py:564: ConvergenceWarning: Stochastic Optimizer: Maximum iterations (200) reached and the optimization hasn't converged yet.\n",
      "  % self.max_iter, ConvergenceWarning)\n",
      "/usr/local/lib/python3.5/dist-packages/sklearn/metrics/classification.py:1135: UndefinedMetricWarning: F-score is ill-defined and being set to 0.0 in labels with no predicted samples.\n",
      "  'precision', 'predicted', average, warn_for)\n",
      "/usr/local/lib/python3.5/dist-packages/sklearn/metrics/classification.py:1137: UndefinedMetricWarning: F-score is ill-defined and being set to 0.0 in labels with no true samples.\n",
      "  'recall', 'true', average, warn_for)\n"
     ]
    },
    {
     "name": "stdout",
     "output_type": "stream",
     "text": [
      "\n",
      "K:\t1\n",
      "                DeepSelect       MLP  Logistic Regression  RandomForest\n",
      "F1 Test           0.045606  0.208007             0.177592      0.266073\n",
      "F1 Tr. only       0.045606  0.063319             0.037101      0.045464\n",
      "F1 Train          0.273575       NaN                  NaN           NaN\n",
      "Pred.Tra. Time    1.741244       NaN                  NaN           NaN\n",
      "Test              0.796894  0.807646             0.802867      0.805257\n",
      "Testing Time      0.008798  0.000340             0.000133      0.103470\n",
      "Tr. Only          0.569024  0.625140             0.622896      0.638608\n",
      "Tr.Test Time      0.013528  0.000320             0.000103      0.105989\n",
      "Train             0.820072       NaN                  NaN           NaN\n",
      "Training Time    13.674850  1.327672             0.163316      0.109336\n",
      "\n",
      "This fold took: 15.64175534248352 seconds\n",
      "\n",
      "**********\n",
      "\n",
      "K:\t2\n",
      "epoch 0:\t23.029025491117427\n",
      "epoch 10:\t22.89758806705831\n",
      "epoch 20:\t22.515520809918996\n",
      "epoch 30:\t22.27455667965394\n",
      "epoch 40:\t22.0873479451234\n",
      "epoch 50:\t21.901529994032114\n"
     ]
    },
    {
     "name": "stderr",
     "output_type": "stream",
     "text": [
      "/usr/local/lib/python3.5/dist-packages/sklearn/metrics/classification.py:1135: UndefinedMetricWarning: F-score is ill-defined and being set to 0.0 in labels with no predicted samples.\n",
      "  'precision', 'predicted', average, warn_for)\n"
     ]
    },
    {
     "name": "stdout",
     "output_type": "stream",
     "text": [
      "\n",
      "K:\t2\n",
      "                DeepSelect       MLP  Logistic Regression  RandomForest\n",
      "F1 Test           0.022426  0.224415             0.194236      0.281373\n",
      "F1 Tr. only       0.022426  0.056124             0.021970      0.055350\n",
      "F1 Train          0.184528       NaN                  NaN           NaN\n",
      "Pred.Tra. Time    1.692556       NaN                  NaN           NaN\n",
      "Test              0.772043  0.803226             0.789247      0.789247\n",
      "Testing Time      0.008930  0.000314             0.000153      0.103081\n",
      "Tr. Only          0.531987  0.617284             0.602694      0.607183\n",
      "Tr.Test Time      0.013223  0.009504             0.000100      0.106475\n",
      "Train             0.810457       NaN                  NaN           NaN\n",
      "Training Time    14.958243  1.117959             0.175946      0.108122\n",
      "\n",
      "This fold took: 16.898865938186646 seconds\n",
      "\n",
      "**********\n",
      "\n",
      "K:\t3\n",
      "epoch 0:\t26.620948276040583\n",
      "epoch 10:\t26.28512284118945\n",
      "epoch 20:\t25.911411611659492\n",
      "epoch 30:\t25.65802572650343\n",
      "epoch 40:\t25.412288957464554\n",
      "epoch 50:\t25.18672151418607\n"
     ]
    },
    {
     "name": "stderr",
     "output_type": "stream",
     "text": [
      "/usr/local/lib/python3.5/dist-packages/sklearn/neural_network/multilayer_perceptron.py:564: ConvergenceWarning: Stochastic Optimizer: Maximum iterations (200) reached and the optimization hasn't converged yet.\n",
      "  % self.max_iter, ConvergenceWarning)\n",
      "/usr/local/lib/python3.5/dist-packages/sklearn/metrics/classification.py:1135: UndefinedMetricWarning: F-score is ill-defined and being set to 0.0 in labels with no predicted samples.\n",
      "  'precision', 'predicted', average, warn_for)\n",
      "/usr/local/lib/python3.5/dist-packages/sklearn/metrics/classification.py:1137: UndefinedMetricWarning: F-score is ill-defined and being set to 0.0 in labels with no true samples.\n",
      "  'recall', 'true', average, warn_for)\n"
     ]
    },
    {
     "name": "stdout",
     "output_type": "stream",
     "text": [
      "\n",
      "K:\t3\n",
      "                DeepSelect       MLP  Logistic Regression  RandomForest\n",
      "F1 Test           0.040572  0.246577             0.236406      0.222007\n",
      "F1 Tr. only       0.040572  0.057505             0.031061      0.049164\n",
      "F1 Train          0.258484       NaN                  NaN           NaN\n",
      "Pred.Tra. Time    1.827396       NaN                  NaN           NaN\n",
      "Test              0.798088  0.800478             0.800478      0.741935\n",
      "Testing Time      0.018569  0.000329             0.000146      0.105343\n",
      "Tr. Only          0.598204  0.616162             0.618406      0.629630\n",
      "Tr.Test Time      0.013140  0.000321             0.000102      0.105567\n",
      "Train             0.818750       NaN                  NaN           NaN\n",
      "Training Time    14.342377  1.193438             0.159586      0.108420\n",
      "\n",
      "This fold took: 16.471763610839844 seconds\n",
      "\n",
      "**********\n",
      "\n",
      "K:\t4\n",
      "epoch 0:\t20.625962185169776\n",
      "epoch 10:\t20.443266597864874\n",
      "epoch 20:\t20.36129058813218\n",
      "epoch 30:\t20.321396546345678\n",
      "epoch 40:\t20.253112539489546\n",
      "epoch 50:\t20.187402678868857\n"
     ]
    },
    {
     "name": "stderr",
     "output_type": "stream",
     "text": [
      "/usr/local/lib/python3.5/dist-packages/sklearn/neural_network/multilayer_perceptron.py:564: ConvergenceWarning: Stochastic Optimizer: Maximum iterations (200) reached and the optimization hasn't converged yet.\n",
      "  % self.max_iter, ConvergenceWarning)\n",
      "/usr/local/lib/python3.5/dist-packages/sklearn/metrics/classification.py:1135: UndefinedMetricWarning: F-score is ill-defined and being set to 0.0 in labels with no predicted samples.\n",
      "  'precision', 'predicted', average, warn_for)\n"
     ]
    },
    {
     "name": "stdout",
     "output_type": "stream",
     "text": [
      "\n",
      "K:\t4\n",
      "                DeepSelect       MLP  Logistic Regression  RandomForest\n",
      "F1 Test           0.040926  0.283208             0.292410      0.243260\n",
      "F1 Tr. only       0.040926  0.065353             0.029266      0.062518\n",
      "F1 Train          0.233257       NaN                  NaN           NaN\n",
      "Pred.Tra. Time    1.652399       NaN                  NaN           NaN\n",
      "Test              0.802151  0.804301             0.810753      0.811828\n",
      "Testing Time      0.008678  0.000343             0.000124      0.104985\n",
      "Tr. Only          0.555556  0.611672             0.606061      0.643098\n",
      "Tr.Test Time      0.013172  0.000320             0.000098      0.105904\n",
      "Train             0.816226       NaN                  NaN           NaN\n",
      "Training Time    13.275112  1.178346             0.159226      0.107936\n",
      "\n",
      "This fold took: 15.158293724060059 seconds\n",
      "\n",
      "**********\n",
      "\n",
      "K:\t5\n",
      "epoch 0:\t20.92118804556581\n",
      "epoch 10:\t20.739479004318902\n",
      "epoch 20:\t20.584490408358697\n",
      "epoch 30:\t20.485018055258596\n",
      "epoch 40:\t20.38662595913693\n",
      "epoch 50:\t20.29165680689175\n"
     ]
    },
    {
     "name": "stderr",
     "output_type": "stream",
     "text": [
      "/usr/local/lib/python3.5/dist-packages/sklearn/metrics/classification.py:1135: UndefinedMetricWarning: F-score is ill-defined and being set to 0.0 in labels with no predicted samples.\n",
      "  'precision', 'predicted', average, warn_for)\n",
      "/usr/local/lib/python3.5/dist-packages/sklearn/metrics/classification.py:1137: UndefinedMetricWarning: F-score is ill-defined and being set to 0.0 in labels with no true samples.\n",
      "  'recall', 'true', average, warn_for)\n"
     ]
    },
    {
     "name": "stdout",
     "output_type": "stream",
     "text": [
      "\n",
      "K:\t5\n",
      "                DeepSelect       MLP  Logistic Regression  RandomForest\n",
      "F1 Test           0.022447  0.310776             0.263813      0.238028\n",
      "F1 Tr. only       0.022447  0.058714             0.029818      0.092225\n",
      "F1 Train          0.228839       NaN                  NaN           NaN\n",
      "Pred.Tra. Time    1.671612       NaN                  NaN           NaN\n",
      "Test              0.798088  0.817204             0.813620      0.805257\n",
      "Testing Time      0.008570  0.000306             0.000126      0.105450\n",
      "Tr. Only          0.551066  0.627385             0.598204      0.618406\n",
      "Tr.Test Time      0.013097  0.000322             0.000100      0.105623\n",
      "Train             0.813221       NaN                  NaN           NaN\n",
      "Training Time    12.714927  0.741149             0.154887      0.107851\n",
      "\n",
      "This fold took: 14.614374160766602 seconds\n",
      "\n",
      "**********\n",
      "\n",
      "K:\t6\n",
      "epoch 0:\t23.290563674213953\n",
      "epoch 10:\t22.947889075934242\n",
      "epoch 20:\t22.73217105030908\n",
      "epoch 30:\t22.561536572877536\n",
      "epoch 40:\t22.348601395734345\n",
      "epoch 50:\t22.176436270498222\n"
     ]
    },
    {
     "name": "stderr",
     "output_type": "stream",
     "text": [
      "/usr/local/lib/python3.5/dist-packages/sklearn/neural_network/multilayer_perceptron.py:564: ConvergenceWarning: Stochastic Optimizer: Maximum iterations (200) reached and the optimization hasn't converged yet.\n",
      "  % self.max_iter, ConvergenceWarning)\n",
      "/usr/local/lib/python3.5/dist-packages/sklearn/metrics/classification.py:1135: UndefinedMetricWarning: F-score is ill-defined and being set to 0.0 in labels with no predicted samples.\n",
      "  'precision', 'predicted', average, warn_for)\n"
     ]
    },
    {
     "name": "stdout",
     "output_type": "stream",
     "text": [
      "\n",
      "K:\t6\n",
      "                DeepSelect       MLP  Logistic Regression  RandomForest\n",
      "F1 Test           0.031817  0.253430             0.219739      0.228253\n",
      "F1 Tr. only       0.031817  0.047004             0.017328      0.060058\n",
      "F1 Train          0.236285       NaN                  NaN           NaN\n",
      "Pred.Tra. Time    2.290791       NaN                  NaN           NaN\n",
      "Test              0.779348  0.790217             0.786957      0.773913\n",
      "Testing Time      0.008512  0.000335             0.000125      0.105495\n",
      "Tr. Only          0.566779  0.585859             0.610550      0.602694\n",
      "Tr.Test Time      0.013113  0.000321             0.000113      0.105725\n",
      "Train             0.816807       NaN                  NaN           NaN\n",
      "Training Time    12.976850  1.165518             0.154576      0.108040\n",
      "\n",
      "This fold took: 15.485724210739136 seconds\n",
      "\n",
      "**********\n",
      "\n",
      "K:\t7\n",
      "epoch 0:\t20.827942075541376\n",
      "epoch 10:\t20.59959943959522\n",
      "epoch 20:\t20.509169435135412\n",
      "epoch 30:\t20.403114465724915\n",
      "epoch 40:\t20.2668246012149\n",
      "epoch 50:\t20.144343371548665\n"
     ]
    },
    {
     "name": "stderr",
     "output_type": "stream",
     "text": [
      "/usr/local/lib/python3.5/dist-packages/sklearn/neural_network/multilayer_perceptron.py:564: ConvergenceWarning: Stochastic Optimizer: Maximum iterations (200) reached and the optimization hasn't converged yet.\n",
      "  % self.max_iter, ConvergenceWarning)\n",
      "/usr/local/lib/python3.5/dist-packages/sklearn/metrics/classification.py:1135: UndefinedMetricWarning: F-score is ill-defined and being set to 0.0 in labels with no predicted samples.\n",
      "  'precision', 'predicted', average, warn_for)\n",
      "/usr/local/lib/python3.5/dist-packages/sklearn/metrics/classification.py:1137: UndefinedMetricWarning: F-score is ill-defined and being set to 0.0 in labels with no true samples.\n",
      "  'recall', 'true', average, warn_for)\n"
     ]
    },
    {
     "name": "stdout",
     "output_type": "stream",
     "text": [
      "\n",
      "K:\t7\n",
      "                DeepSelect       MLP  Logistic Regression  RandomForest\n",
      "F1 Test           0.037738  0.258181             0.270479      0.265542\n",
      "F1 Tr. only       0.037738  0.047863             0.036995      0.085182\n",
      "F1 Train          0.232172       NaN                  NaN           NaN\n",
      "Pred.Tra. Time    1.681035       NaN                  NaN           NaN\n",
      "Test              0.803140  0.794686             0.816425      0.820048\n",
      "Testing Time      0.008773  0.000341             0.000123      0.102947\n",
      "Tr. Only          0.557800  0.591470             0.618406      0.654321\n",
      "Tr.Test Time      0.013190  0.000321             0.000100      0.105407\n",
      "Train             0.812005       NaN                  NaN           NaN\n",
      "Training Time    12.889619  1.182699             0.157635      0.108052\n",
      "\n",
      "This fold took: 14.783915996551514 seconds\n",
      "\n",
      "**********\n",
      "\n",
      "K:\t8\n",
      "epoch 0:\t22.897636425680286\n",
      "epoch 10:\t22.522172417266066\n",
      "epoch 20:\t22.472036404239027\n",
      "epoch 30:\t22.369239716941895\n",
      "epoch 40:\t22.261580151883646\n",
      "epoch 50:\t22.15524601657503\n"
     ]
    },
    {
     "name": "stderr",
     "output_type": "stream",
     "text": [
      "/usr/local/lib/python3.5/dist-packages/sklearn/neural_network/multilayer_perceptron.py:564: ConvergenceWarning: Stochastic Optimizer: Maximum iterations (200) reached and the optimization hasn't converged yet.\n",
      "  % self.max_iter, ConvergenceWarning)\n",
      "/usr/local/lib/python3.5/dist-packages/sklearn/metrics/classification.py:1135: UndefinedMetricWarning: F-score is ill-defined and being set to 0.0 in labels with no predicted samples.\n",
      "  'precision', 'predicted', average, warn_for)\n",
      "/usr/local/lib/python3.5/dist-packages/sklearn/metrics/classification.py:1137: UndefinedMetricWarning: F-score is ill-defined and being set to 0.0 in labels with no true samples.\n",
      "  'recall', 'true', average, warn_for)\n"
     ]
    },
    {
     "name": "stdout",
     "output_type": "stream",
     "text": [
      "\n",
      "K:\t8\n",
      "                DeepSelect       MLP  Logistic Regression  RandomForest\n",
      "F1 Test           0.022426  0.336217             0.299609      0.282909\n",
      "F1 Tr. only       0.022426  0.066138             0.038131      0.060414\n",
      "F1 Train          0.245408       NaN                  NaN           NaN\n",
      "Pred.Tra. Time    1.670716       NaN                  NaN           NaN\n",
      "Test              0.827446  0.836957             0.828804      0.815217\n",
      "Testing Time      0.008546  0.000333             0.000117      0.103177\n",
      "Tr. Only          0.676768  0.621773             0.618406      0.625140\n",
      "Tr.Test Time      0.014371  0.000324             0.000099      0.105569\n",
      "Train             0.818968       NaN                  NaN           NaN\n",
      "Training Time    13.084951  1.179182             0.157903      0.107798\n",
      "\n",
      "This fold took: 15.011292219161987 seconds\n",
      "\n",
      "**********\n",
      "\n",
      "K:\t9\n",
      "epoch 0:\t21.638610365346725\n",
      "epoch 10:\t21.543146670628808\n",
      "epoch 20:\t21.489015116446048\n",
      "epoch 30:\t21.421234592529665\n",
      "epoch 40:\t21.343800065099245\n",
      "epoch 50:\t21.279105897764822\n"
     ]
    },
    {
     "name": "stderr",
     "output_type": "stream",
     "text": [
      "/usr/local/lib/python3.5/dist-packages/sklearn/neural_network/multilayer_perceptron.py:564: ConvergenceWarning: Stochastic Optimizer: Maximum iterations (200) reached and the optimization hasn't converged yet.\n",
      "  % self.max_iter, ConvergenceWarning)\n",
      "/usr/local/lib/python3.5/dist-packages/sklearn/metrics/classification.py:1135: UndefinedMetricWarning: F-score is ill-defined and being set to 0.0 in labels with no predicted samples.\n",
      "  'precision', 'predicted', average, warn_for)\n"
     ]
    },
    {
     "name": "stdout",
     "output_type": "stream",
     "text": [
      "\n",
      "K:\t9\n",
      "                DeepSelect       MLP  Logistic Regression  RandomForest\n",
      "F1 Test           0.039434  0.235938             0.225843      0.221508\n",
      "F1 Tr. only       0.039434  0.051964             0.033898      0.040853\n",
      "F1 Train          0.244638       NaN                  NaN           NaN\n",
      "Pred.Tra. Time    1.678347       NaN                  NaN           NaN\n",
      "Test              0.771739  0.803261             0.783696      0.781522\n",
      "Testing Time      0.008607  0.000328             0.000149      0.104778\n",
      "Tr. Only          0.569024  0.625140             0.610550      0.626263\n",
      "Tr.Test Time      0.013131  0.000320             0.000106      0.105692\n",
      "Train             0.817407       NaN                  NaN           NaN\n",
      "Training Time    12.887814  1.312643             0.159272      0.107982\n",
      "\n",
      "This fold took: 14.780915260314941 seconds\n",
      "\n",
      "**********\n",
      "\n",
      "K:\t10\n",
      "epoch 0:\t25.817523598270167\n",
      "epoch 10:\t25.43769398884396\n",
      "epoch 20:\t25.059168437425832\n",
      "epoch 30:\t24.774787537323018\n",
      "epoch 40:\t24.514287058821974\n",
      "epoch 50:\t24.264410721917653\n"
     ]
    },
    {
     "name": "stderr",
     "output_type": "stream",
     "text": [
      "/usr/local/lib/python3.5/dist-packages/sklearn/neural_network/multilayer_perceptron.py:564: ConvergenceWarning: Stochastic Optimizer: Maximum iterations (200) reached and the optimization hasn't converged yet.\n",
      "  % self.max_iter, ConvergenceWarning)\n"
     ]
    },
    {
     "name": "stdout",
     "output_type": "stream",
     "text": [
      "\n",
      "K:\t10\n",
      "                DeepSelect       MLP  Logistic Regression  RandomForest\n",
      "F1 Test           0.048959  0.314952             0.335960      0.318354\n",
      "F1 Tr. only       0.048959  0.047873             0.051589      0.082336\n",
      "F1 Train          0.311672       NaN                  NaN           NaN\n",
      "Pred.Tra. Time    1.659523       NaN                  NaN           NaN\n",
      "Test              0.830918  0.830918             0.829710      0.812802\n",
      "Testing Time      0.008744  0.000327             0.000121      0.103295\n",
      "Tr. Only          0.643098  0.615039             0.617284      0.645342\n",
      "Tr.Test Time      0.013318  0.000323             0.000099      0.105645\n",
      "Train             0.834574       NaN                  NaN           NaN\n",
      "Training Time    13.212426  1.183108             0.154140      0.107457\n",
      "\n",
      "This fold took: 15.101628303527832 seconds\n",
      "\n",
      "**********\n",
      "\n",
      "Average scores for trial 0\n",
      "                DeepSelect  Logistic Regression       MLP  RandomForest\n",
      "F1 Test           0.035235             0.251609  0.267170      0.256731\n",
      "F1 Tr. only       0.035235             0.032716  0.056186      0.063356\n",
      "F1 Train          0.244886                  NaN       NaN           NaN\n",
      "Pred.Tra. Time    1.756562                  NaN       NaN           NaN\n",
      "Test              0.797985             0.806256  0.808889      0.795703\n",
      "Testing Time      0.009673             0.000132  0.000330      0.104202\n",
      "Tr. Only          0.581930             0.612346  0.613692      0.629068\n",
      "Tr.Test Time      0.013328             0.000102  0.001240      0.105760\n",
      "Train             0.817849                  NaN       NaN           NaN\n",
      "Training Time    13.401717             0.159649  1.158172      0.108099\n",
      "------------------------------\n",
      "%%%%%%%%%%%%%%%%%%%%%%%%%%%%%%%%%%%%%%%%\n",
      "Average of 1 trials\n",
      "                DeepSelect  Logistic Regression       MLP  RandomForest\n",
      "F1 Test           0.035235             0.251609  0.267170      0.256731\n",
      "F1 Tr. only       0.035235             0.032716  0.056186      0.063356\n",
      "F1 Train          0.244886                  NaN       NaN           NaN\n",
      "Pred.Tra. Time    1.756562                  NaN       NaN           NaN\n",
      "Test              0.797985             0.806256  0.808889      0.795703\n",
      "Testing Time      0.009673             0.000132  0.000330      0.104202\n",
      "Tr. Only          0.581930             0.612346  0.613692      0.629068\n",
      "Tr.Test Time      0.013328             0.000102  0.001240      0.105760\n",
      "Train             0.817849                  NaN       NaN           NaN\n",
      "Training Time    13.401717             0.159649  1.158172      0.108099\n"
     ]
    },
    {
     "name": "stderr",
     "output_type": "stream",
     "text": [
      "/usr/local/lib/python3.5/dist-packages/sklearn/metrics/classification.py:1135: UndefinedMetricWarning: F-score is ill-defined and being set to 0.0 in labels with no predicted samples.\n",
      "  'precision', 'predicted', average, warn_for)\n"
     ]
    }
   ],
   "source": [
    "scores_tables = eval_selectivewaves_regclass(df, tronly_test_raw)\n",
    "pickle.dump(scores_tables, open(\"../results/batch_no_tf_tables.results\", \"wb\"))"
   ]
  },
  {
   "cell_type": "markdown",
   "metadata": {},
   "source": [
    "## Using the full network for prediction\n",
    "### P.S. this variation supports online (incremental) training"
   ]
  },
  {
   "cell_type": "code",
   "execution_count": 34,
   "metadata": {},
   "outputs": [],
   "source": [
    "def reset_graph(seed=42):\n",
    "    tf.reset_default_graph()\n",
    "    tf.set_random_seed(seed)\n",
    "    np.random.seed(seed)"
   ]
  },
  {
   "cell_type": "code",
   "execution_count": 35,
   "metadata": {},
   "outputs": [],
   "source": [
    "def get_test(LSMR):\n",
    "    X = dict()\n",
    "    y = dict()\n",
    "    for _, row in LSMR.iterrows():\n",
    "        score = row[\"Score\"]\n",
    "        y_ = np.zeros(10)\n",
    "        y_[score-1] = 1\n",
    "        y[len(y)] = y_\n",
    "        X[len(X)] = row[\"rev_vec\"]\n",
    "    return np.array(list(X.values())), np.array(list(y.values()))"
   ]
  },
  {
   "cell_type": "code",
   "execution_count": 36,
   "metadata": {},
   "outputs": [],
   "source": [
    "def train_selective(df_train,epochs=10, learning_rate = 0.1, random_state=42, p_every=10):\n",
    "    classes = sorted(set(df_train[\"Score\"]))\n",
    "    n_classes = len(classes)\n",
    "    \n",
    "    LSMR_train = preprocess_data(df_train)\n",
    "    np.random.seed(random_state)\n",
    "    data_dict, L1, L2, L3 = get_data_dict(LSMR_train, get_L2and3=True)\n",
    "    init_weights = lambda layer, i, o: {k:2*np.random.random((i, o))-1 for k in layer}\n",
    "    W1 = init_weights(L1, 300, 300)  # (languge, score, movie_id)\n",
    "    W2 = init_weights(L2, 300, 300)  # (languge, score):\n",
    "    W3 = init_weights(L3, 300, n_classes)  # score:\n",
    "    \n",
    "    reset_graph()\n",
    "    x = tf.placeholder(tf.float32, [None, 300])\n",
    "    y = tf.placeholder(tf.float32, [None, n_classes]) # 1-10 => 10 classes\n",
    "\n",
    "    w1 = tf.placeholder(tf.float32, [300, 300])\n",
    "    w2 = tf.placeholder(tf.float32, [300, 300])\n",
    "    w3 = tf.placeholder(tf.float32, [300, n_classes])\n",
    "\n",
    "    b1 = tf.Variable(tf.zeros([300]))\n",
    "    b2 = tf.Variable(tf.zeros([300]))\n",
    "    b3 = tf.Variable(tf.zeros([n_classes]))\n",
    "\n",
    "    l2 = tf.nn.sigmoid(tf.matmul(x, w1) + b1)\n",
    "    l3 = tf.nn.sigmoid(tf.matmul(l2, w2) + b2)\n",
    "    logits = tf.matmul(l3, w3) + b3\n",
    "    pred = tf.nn.softmax(logits)\n",
    "\n",
    "#     cost = tf.reduce_mean(tf.nn.softmax_cross_entropy_with_logits(labels=classes, logits=logits))\n",
    "#     optimizer = tf.train.GradientDescentOptimizer(learning_rate).minimize(cost)\n",
    "    \n",
    "    \n",
    "    cost = tf.reduce_mean(-tf.reduce_sum(y*tf.log(pred), reduction_indices=1))\n",
    "    optimizer = tf.train.GradientDescentOptimizer(learning_rate).minimize(cost)\n",
    "    training_curve = dict()\n",
    "    with tf.device('/job:localhost/replica:0/task:0/device:GPU:0'):\n",
    "        with tf.Session(config=tf.ConfigProto(log_device_placement=True)) as sess:\n",
    "            sess.run(tf.global_variables_initializer())\n",
    "            for e in range(epochs+1):\n",
    "                avg_cost = 0.\n",
    "                for _, row in LSMR_train.iterrows():\n",
    "                    lang = row[\"Language\"]\n",
    "                    movie_id = row[\"Movie_ID\"]\n",
    "                    score = row[\"Score\"]\n",
    "                    y_ = {i:0 for i in classes}\n",
    "                    y_[score] = 1\n",
    "                    y_ = np.atleast_2d([y_[i] for i in classes])\n",
    "                    x_ = np.atleast_2d(row[\"rev_vec\"])\n",
    "                    w1_,w2_,w3_,_, c = sess.run([w1, w2, w3, optimizer, cost],\n",
    "                                             feed_dict={x: x_,\n",
    "                                                        y: y_,\n",
    "                                                        w1:W1[(lang, score, movie_id)],\n",
    "                                                        w2:W2[(lang, score)],\n",
    "                                                        w3:W3[score]})\n",
    "                    W1[(lang, score, movie_id)] = w1_\n",
    "                    W2[(lang, score)] = w2_\n",
    "                    W3[score] = w3_\n",
    "\n",
    "                    avg_cost += c\n",
    "                training_curve[e] = avg_cost\n",
    "                if e%10==0:\n",
    "                    learning_rate /= 10\n",
    "                if e%p_every==0:\n",
    "                    print(\"Epoch {}: {}\".format(e, avg_cost/len(LSMR_train)))\n",
    "    print(\"W1 size\",len(W1))\n",
    "    print(\"W2 size\",len(W2))\n",
    "    print(\"W3 size\",len(W3))\n",
    "    return W1, W2, W3, training_curve, classes"
   ]
  },
  {
   "cell_type": "code",
   "execution_count": 37,
   "metadata": {},
   "outputs": [],
   "source": [
    "def get_max_index(predicted_scores, classes):\n",
    "    probs = {c:0 for c in classes}\n",
    "    array = softmax(predicted_scores)\n",
    "    indx = None\n",
    "    max_ = float(\"-inf\")\n",
    "    for i, e in enumerate(array):\n",
    "        probs[predicted_scores[i]] = e\n",
    "        if e > max_:\n",
    "            max_ = e\n",
    "            indx = i\n",
    "    return predicted_scores[indx], [probs[k] for k in sorted(classes)]"
   ]
  },
  {
   "cell_type": "code",
   "execution_count": 38,
   "metadata": {},
   "outputs": [],
   "source": [
    "def predict_selective(df, W1, W2, W3, classes=list(range(1,11))):\n",
    "    LSMR = preprocess_data(df)\n",
    "    reset_graph()\n",
    "    n_classes = len(classes)\n",
    "    x = tf.placeholder(tf.float32, [None, 300])\n",
    "\n",
    "    w1 = tf.placeholder(tf.float32, [300, 300])\n",
    "    w2 = tf.placeholder(tf.float32, [300, 300])\n",
    "    w3 = tf.placeholder(tf.float32, [300, n_classes])\n",
    "\n",
    "    b1 = tf.Variable(tf.zeros([300]))\n",
    "    b2 = tf.Variable(tf.zeros([300]))\n",
    "    b3 = tf.Variable(tf.zeros([n_classes]))\n",
    "\n",
    "    l2 = tf.nn.sigmoid(tf.matmul(x, w1) + b1)\n",
    "    l3 = tf.nn.sigmoid(tf.matmul(l2, w2) + b2)\n",
    "    pred = tf.nn.softmax(tf.matmul(l3, w3) + b3)\n",
    "\n",
    "    \n",
    "    \n",
    "    \n",
    "    prediction = tf.argmax(pred, 1)\n",
    "    preds = np.zeros(len(LSMR))\n",
    "    probs = [None] * len(LSMR)\n",
    "    with tf.device('/job:localhost/replica:0/task:0/device:GPU:0'):\n",
    "        with tf.Session(config=tf.ConfigProto(log_device_placement=True)) as sess:\n",
    "            sess.run(tf.global_variables_initializer())\n",
    "            j = 0\n",
    "            for _, row in LSMR.iterrows():\n",
    "                v = row[\"rev_vec\"]\n",
    "                predicted_scores = np.zeros(len(W1))\n",
    "                for i, info in enumerate(W1):\n",
    "                    language, score, movie_id = info\n",
    "                    w_1 = W1[(language, score, movie_id)]\n",
    "                    w_2 = W2[(language, score)]\n",
    "                    w_3 = W3[score]\n",
    "\n",
    "                    predicted_scores[i] = prediction.eval({x: np.atleast_2d(v),\n",
    "                                                           w1:w_1,w2:w_2,w3:w_3})\n",
    "                predicted_score, probabilities = get_max_index(predicted_scores, classes)\n",
    "                preds[j] = predicted_score\n",
    "                probs[j] = probabilities\n",
    "                j+=1\n",
    "\n",
    "\n",
    "    return preds, np.array(list(LSMR.Score)), probs"
   ]
  },
  {
   "cell_type": "code",
   "execution_count": 39,
   "metadata": {},
   "outputs": [],
   "source": [
    "def eval_selectivewaves_nn(df_, tronly_test_raw, NUM_TRIALS=1, splits=10, iterations=150, alpha=0.1, p_every=25):  \n",
    "    df = df_.reset_index(drop=True)\n",
    "    learning_curves = OrderedDict()\n",
    "    scores_tables_nn = OrderedDict()\n",
    "    tronly_test = preprocess_data(tronly_test_raw)\n",
    "    for i in range(NUM_TRIALS):\n",
    "        print(\"Trial:\\t{}\".format(i+1))\n",
    "        learning_curves[i] = OrderedDict()\n",
    "        k = 0\n",
    "        skf = StratifiedKFold(n_splits=splits, random_state=i)\n",
    "        scores_tables_nn[i] = dict()\n",
    "        for train_index, test_index in skf.split(df[\"Review\"], df[\"Language\"]):\n",
    "            print(\"K: \\t{}\".format(k+1))\n",
    "            scores_tables_nn[i][k] = OrderedDict()\n",
    "            start = time.time()\n",
    "            # approx 3 epochs per second\n",
    "            LSMR = preprocess_data(df.loc[train_index])\n",
    "            W1, W2, W3, training_curve, classes = train_selective(\n",
    "                df.loc[train_index], epochs=iterations, p_every=p_every, learning_rate=alpha)\n",
    "            _ = time.time()\n",
    "            trat = _-start\n",
    "            print(\"Took: {} for training\".format(trat))\n",
    "#             true_train = np.array(list(LSMR.Score))\n",
    "            _ = time.time()\n",
    "            preds_train, true_train, probs = predict_selective(df.loc[train_index], W1, W2, W3, classes=classes)\n",
    "            ll_train = log_loss(true_train,probs, labels=classes)\n",
    "            predtra = time.time()-_\n",
    "            print(\"Took: {} for predicting {} training instances\".format(predtra, len(train_index)))\n",
    "\n",
    "            test_data = preprocess_data(df.loc[test_index])\n",
    "            _ = time.time()\n",
    "            preds, true, probs = predict_selective(df.loc[test_index], W1, W2, W3, classes=classes)\n",
    "            ll_test = log_loss(true,probs, labels=classes)\n",
    "            tet = time.time()-_\n",
    "            print(\"Took: {} for predicting {} test instances\".format(tet, len(test_index)))\n",
    "\n",
    "            _ = time.time()\n",
    "            preds_tr, true_tr, probs = predict_selective(tronly_test_raw, W1, W2, W3, classes=classes)\n",
    "            ll_tr = log_loss(true_tr,probs, labels=classes)\n",
    "            trt = time.time()-_\n",
    "            print(\"Took: {} for predicting {} Turkish test instances\".format(trt, len(tronly_test)))\n",
    "\n",
    "            elapsed = time.time()-start\n",
    "\n",
    "            s = distance_accuracy(true, preds)\n",
    "            s_train = distance_accuracy(true_train, preds_train)\n",
    "            s_tr = distance_accuracy(true_tr, preds_tr)\n",
    "\n",
    "            f1_test = f1_score(true, preds, average='weighted')\n",
    "            f1_train = f1_score(true_train, preds_train, average='weighted')\n",
    "            f1_tronly = f1_score(true_tr, preds_tr, average='weighted')\n",
    "\n",
    "            mlp = MLPClassifier(random_state=i)\n",
    "            lr = LogisticRegression(random_state=i)\n",
    "            rf = RandomForestClassifier(random_state=i,n_jobs=-1)\n",
    "            train_mat = np.array(list(LSMR[\"rev_vec\"]))\n",
    "            test_mat = np.array(list(test_data[\"rev_vec\"]))\n",
    "            tronly_mat = np.array(list(tronly_test[\"rev_vec\"]))\n",
    "\n",
    "            evals = OrderedDict()\n",
    "            evals[\"Train\"] = s_train\n",
    "            evals[\"Test\"] = s\n",
    "            evals[\"Tr. Only\"] = s_tr\n",
    "            evals[\"Training Time\"] = trat\n",
    "            evals[\"Pred.Tra. Time\"] = predtra\n",
    "            evals[\"Testing Time\"] = tet\n",
    "            evals[\"Tr.Test Time\"] = trt\n",
    "            evals[\"F1 Test\"] = f1_test\n",
    "            evals[\"F1 Train\"] = f1_train\n",
    "            evals[\"F1 Tr. only\"] = f1_tronly\n",
    "            evals[\"Train_LL\"] = ll_train\n",
    "            evals[\"Test_LL\"] = ll_test\n",
    "            evals[\"Tr. Only_LL\"] = ll_tr\n",
    "            scores_tables_nn[i][k][\"DeepSelect\"] = evals\n",
    "\n",
    "            scores_tables_nn[i][k][\"LogisticRegression\"] = eval_models(\n",
    "                lr, train_mat, test_mat, tronly_mat, ytrain=true_train, ytest=true, ytronly=true_tr, LL=True, predtrain=True)\n",
    "            scores_tables_nn[i][k][\"MLP\"] = eval_models(\n",
    "                mlp, train_mat, test_mat, tronly_mat, ytrain=true_train, ytest=true, ytronly=true_tr, LL=True, predtrain=True)\n",
    "            scores_tables_nn[i][k][\"RandomForest\"] = eval_models(\n",
    "                rf, train_mat, test_mat, tronly_mat, ytrain=true_train, ytest=true, ytronly=true_tr, LL=True, predtrain=True)\n",
    "\n",
    "            print()\n",
    "            print(pd.DataFrame(scores_tables_nn[i][k]))\n",
    "            print(\"took:\", elapsed, \"seconds\\n\")\n",
    "            learning_curves[i][k] = training_curve\n",
    "            k += 1\n",
    "            print(\"*\"*10+\"\\n\")\n",
    "        print(\"Average scores for trial {}\".format(i))\n",
    "        print(get_trial_score(scores_tables_nn[i]))\n",
    "        print(\"-\"*30)\n",
    "    print(\"%%\"*20)\n",
    "    print(\"Average of {} trials\".format(NUM_TRIALS))\n",
    "    print(get_total_average(scores_tables_nn))\n",
    "    return scores_tables_nn"
   ]
  },
  {
   "cell_type": "code",
   "execution_count": 40,
   "metadata": {
    "scrolled": true
   },
   "outputs": [
    {
     "name": "stdout",
     "output_type": "stream",
     "text": [
      "Trial:\t1\n",
      "K: \t1\n",
      "Epoch 0: 2.690288742985357\n",
      "Epoch 25: 0.007326026052529855\n",
      "Epoch 50: 0.002482170480378798\n",
      "Epoch 75: 0.0015829067094770448\n",
      "Epoch 100: 0.0011804284714557957\n",
      "Epoch 125: 0.0009484545561848634\n",
      "Epoch 150: 0.0007963821620897021\n",
      "W1 size 597\n",
      "W2 size 18\n",
      "W3 size 10\n",
      "Took: 154.26812624931335 for training\n",
      "Took: 573.7708678245544 for predicting 832 training instances\n",
      "Took: 64.65517807006836 for predicting 93 test instances\n",
      "Took: 65.00136494636536 for predicting 99 Turkish test instances\n"
     ]
    },
    {
     "name": "stderr",
     "output_type": "stream",
     "text": [
      "/usr/local/lib/python3.5/dist-packages/sklearn/metrics/classification.py:1135: UndefinedMetricWarning: F-score is ill-defined and being set to 0.0 in labels with no predicted samples.\n",
      "  'precision', 'predicted', average, warn_for)\n",
      "/usr/local/lib/python3.5/dist-packages/sklearn/neural_network/multilayer_perceptron.py:564: ConvergenceWarning: Stochastic Optimizer: Maximum iterations (200) reached and the optimization hasn't converged yet.\n",
      "  % self.max_iter, ConvergenceWarning)\n",
      "/usr/local/lib/python3.5/dist-packages/sklearn/metrics/classification.py:1135: UndefinedMetricWarning: F-score is ill-defined and being set to 0.0 in labels with no predicted samples.\n",
      "  'precision', 'predicted', average, warn_for)\n",
      "/usr/local/lib/python3.5/dist-packages/sklearn/metrics/classification.py:1137: UndefinedMetricWarning: F-score is ill-defined and being set to 0.0 in labels with no true samples.\n",
      "  'recall', 'true', average, warn_for)\n"
     ]
    },
    {
     "name": "stdout",
     "output_type": "stream",
     "text": [
      "\n",
      "                DeepSelect  LogisticRegression       MLP  RandomForest\n",
      "F1 Test           0.152959            0.177592  0.208007      0.266073\n",
      "F1 Tr. only       0.016037            0.037101  0.063319      0.045464\n",
      "F1 Train          0.105947            0.336000  0.523230      0.992788\n",
      "Pred.Tra. Time  573.770868            0.000599  0.001750      0.104814\n",
      "Test              0.835125            0.802867  0.807646      0.805257\n",
      "Test_LL          15.863970                 NaN       NaN           NaN\n",
      "Testing Time     64.655178            0.000149  0.000356      0.101969\n",
      "Tr. Only          0.671156            0.622896  0.625140      0.638608\n",
      "Tr. Only_LL      10.375418                 NaN       NaN           NaN\n",
      "Tr.Test Time     65.001365            0.000099  0.000323      0.104256\n",
      "Train             0.832933            0.834976  0.868630      0.998317\n",
      "Train_LL         16.151098                 NaN       NaN           NaN\n",
      "Training Time   154.268126            0.149654  1.412048      0.111719\n",
      "took: 857.8719899654388 seconds\n",
      "\n",
      "**********\n",
      "\n",
      "K: \t2\n",
      "Epoch 0: 1.64687905611477\n",
      "Epoch 25: 0.003336920693474901\n",
      "Epoch 50: 0.0015571126055167878\n",
      "Epoch 75: 0.0010442722046030738\n",
      "Epoch 100: 0.0007948608479395944\n",
      "Epoch 125: 0.0006459022954288582\n",
      "Epoch 150: 0.0005462770183887616\n",
      "W1 size 610\n",
      "W2 size 18\n",
      "W3 size 10\n",
      "Took: 154.89884686470032 for training\n",
      "Took: 584.2396376132965 for predicting 832 training instances\n",
      "Took: 64.50867557525635 for predicting 93 test instances\n",
      "Took: 66.29087781906128 for predicting 99 Turkish test instances\n"
     ]
    },
    {
     "name": "stderr",
     "output_type": "stream",
     "text": [
      "/usr/local/lib/python3.5/dist-packages/sklearn/metrics/classification.py:1135: UndefinedMetricWarning: F-score is ill-defined and being set to 0.0 in labels with no predicted samples.\n",
      "  'precision', 'predicted', average, warn_for)\n"
     ]
    },
    {
     "name": "stdout",
     "output_type": "stream",
     "text": [
      "\n",
      "                DeepSelect  LogisticRegression       MLP  RandomForest\n",
      "F1 Test           0.044803            0.194236  0.224415      0.281373\n",
      "F1 Tr. only       0.022222            0.021970  0.056124      0.055350\n",
      "F1 Train          0.055078            0.328084  0.537084      0.991578\n",
      "Pred.Tra. Time  584.239638            0.000595  0.001612      0.106108\n",
      "Test              0.809677            0.789247  0.803226      0.789247\n",
      "Test_LL          16.256406                 NaN       NaN           NaN\n",
      "Testing Time     64.508676            0.000136  0.000335      0.102211\n",
      "Tr. Only          0.617284            0.602694  0.617284      0.607183\n",
      "Tr. Only_LL       9.440916                 NaN       NaN           NaN\n",
      "Tr.Test Time     66.290878            0.000102  0.000337      0.105623\n",
      "Train             0.839784            0.837019  0.872115      0.997957\n",
      "Train_LL         17.539208                 NaN       NaN           NaN\n",
      "Training Time   154.898847            0.145544  1.373051      0.111227\n",
      "took: 870.174840927124 seconds\n",
      "\n",
      "**********\n",
      "\n",
      "K: \t3\n",
      "Epoch 0: 1.9132781349374446\n",
      "Epoch 25: 0.003144250279302054\n",
      "Epoch 50: 0.0015636888265056791\n",
      "Epoch 75: 0.0010618975961939143\n",
      "Epoch 100: 0.000811541344107658\n",
      "Epoch 125: 0.0006603207394503861\n",
      "Epoch 150: 0.0005585901743535485\n",
      "W1 size 617\n",
      "W2 size 18\n",
      "W3 size 10\n",
      "Took: 155.12500381469727 for training\n",
      "Took: 584.5381984710693 for predicting 832 training instances\n",
      "Took: 63.854838371276855 for predicting 93 test instances\n",
      "Took: 71.14355039596558 for predicting 99 Turkish test instances\n"
     ]
    },
    {
     "name": "stderr",
     "output_type": "stream",
     "text": [
      "/usr/local/lib/python3.5/dist-packages/sklearn/neural_network/multilayer_perceptron.py:564: ConvergenceWarning: Stochastic Optimizer: Maximum iterations (200) reached and the optimization hasn't converged yet.\n",
      "  % self.max_iter, ConvergenceWarning)\n",
      "/usr/local/lib/python3.5/dist-packages/sklearn/metrics/classification.py:1135: UndefinedMetricWarning: F-score is ill-defined and being set to 0.0 in labels with no predicted samples.\n",
      "  'precision', 'predicted', average, warn_for)\n",
      "/usr/local/lib/python3.5/dist-packages/sklearn/metrics/classification.py:1137: UndefinedMetricWarning: F-score is ill-defined and being set to 0.0 in labels with no true samples.\n",
      "  'recall', 'true', average, warn_for)\n"
     ]
    },
    {
     "name": "stdout",
     "output_type": "stream",
     "text": [
      "\n",
      "                DeepSelect  LogisticRegression       MLP  RandomForest\n",
      "F1 Test           0.124282            0.236406  0.246577      0.222007\n",
      "F1 Tr. only       0.034138            0.031061  0.057505      0.049164\n",
      "F1 Train          0.099520            0.335434  0.549116      0.991558\n",
      "Pred.Tra. Time  584.538198            0.000610  0.001606      0.105640\n",
      "Test              0.824373            0.800478  0.800478      0.741935\n",
      "Test_LL          14.300099                 NaN       NaN           NaN\n",
      "Testing Time     63.854838            0.000133  0.000355      0.102314\n",
      "Tr. Only          0.636364            0.618406  0.616162      0.629630\n",
      "Tr. Only_LL       8.700009                 NaN       NaN           NaN\n",
      "Tr.Test Time     71.143550            0.000100  0.000326      0.105806\n",
      "Train             0.832812            0.835337  0.879327      0.999038\n",
      "Train_LL         13.813010                 NaN       NaN           NaN\n",
      "Training Time   155.125004            0.154640  1.462832      0.113418\n",
      "took: 874.8434286117554 seconds\n",
      "\n",
      "**********\n",
      "\n",
      "K: \t4\n",
      "Epoch 0: 2.0359015455582883\n",
      "Epoch 25: 0.0043186250616145455\n",
      "Epoch 50: 0.002067015332351071\n",
      "Epoch 75: 0.0013839931431088774\n",
      "Epoch 100: 0.001049992824822586\n",
      "Epoch 125: 0.0008506488018958327\n",
      "Epoch 150: 0.0007176262009858957\n",
      "W1 size 613\n",
      "W2 size 18\n",
      "W3 size 10\n",
      "Took: 166.64147877693176 for training\n",
      "Took: 590.5495102405548 for predicting 832 training instances\n",
      "Took: 61.681246519088745 for predicting 93 test instances\n",
      "Took: 68.832106590271 for predicting 99 Turkish test instances\n"
     ]
    },
    {
     "name": "stderr",
     "output_type": "stream",
     "text": [
      "/usr/local/lib/python3.5/dist-packages/sklearn/neural_network/multilayer_perceptron.py:564: ConvergenceWarning: Stochastic Optimizer: Maximum iterations (200) reached and the optimization hasn't converged yet.\n",
      "  % self.max_iter, ConvergenceWarning)\n",
      "/usr/local/lib/python3.5/dist-packages/sklearn/metrics/classification.py:1135: UndefinedMetricWarning: F-score is ill-defined and being set to 0.0 in labels with no predicted samples.\n",
      "  'precision', 'predicted', average, warn_for)\n"
     ]
    },
    {
     "name": "stdout",
     "output_type": "stream",
     "text": [
      "\n",
      "                DeepSelect  LogisticRegression       MLP  RandomForest\n",
      "F1 Test           0.044803            0.292410  0.283208      0.243260\n",
      "F1 Tr. only       0.022222            0.029266  0.065353      0.062518\n",
      "F1 Train          0.055078            0.313622  0.552096      0.995199\n",
      "Pred.Tra. Time  590.549510            0.000570  0.001614      0.105884\n",
      "Test              0.822581            0.810753  0.804301      0.811828\n",
      "Test_LL          13.221182                 NaN       NaN           NaN\n",
      "Testing Time     61.681247            0.000130  0.000359      0.102463\n",
      "Tr. Only          0.617284            0.606061  0.611672      0.643098\n",
      "Tr. Only_LL       7.820086                 NaN       NaN           NaN\n",
      "Tr.Test Time     68.832107            0.000099  0.000326      0.105927\n",
      "Train             0.838341            0.833173  0.884014      0.998437\n",
      "Train_LL         12.483475                 NaN       NaN           NaN\n",
      "Training Time   166.641479            0.150961  1.443120      0.110809\n",
      "took: 887.8891310691833 seconds\n",
      "\n",
      "**********\n",
      "\n",
      "K: \t5\n",
      "Epoch 0: 2.1489432679876925\n",
      "Epoch 25: 0.003967358953612409\n",
      "Epoch 50: 0.001980931264331896\n",
      "Epoch 75: 0.001348672985034972\n",
      "Epoch 100: 0.0010323284761151528\n",
      "Epoch 125: 0.0008408255563243308\n",
      "Epoch 150: 0.0007117809047139101\n",
      "W1 size 604\n",
      "W2 size 18\n",
      "W3 size 10\n",
      "Took: 166.58436250686646 for training\n",
      "Took: 581.4918522834778 for predicting 832 training instances\n",
      "Took: 62.115315198898315 for predicting 93 test instances\n",
      "Took: 66.04269242286682 for predicting 99 Turkish test instances\n"
     ]
    },
    {
     "name": "stderr",
     "output_type": "stream",
     "text": [
      "/usr/local/lib/python3.5/dist-packages/sklearn/metrics/classification.py:1135: UndefinedMetricWarning: F-score is ill-defined and being set to 0.0 in labels with no predicted samples.\n",
      "  'precision', 'predicted', average, warn_for)\n",
      "/usr/local/lib/python3.5/dist-packages/sklearn/metrics/classification.py:1137: UndefinedMetricWarning: F-score is ill-defined and being set to 0.0 in labels with no true samples.\n",
      "  'recall', 'true', average, warn_for)\n"
     ]
    },
    {
     "name": "stdout",
     "output_type": "stream",
     "text": [
      "\n",
      "                DeepSelect  LogisticRegression       MLP  RandomForest\n",
      "F1 Test           0.020879            0.263813  0.310776      0.238028\n",
      "F1 Tr. only       0.022222            0.029818  0.058714      0.092225\n",
      "F1 Train          0.058513            0.323638  0.428931      0.986785\n",
      "Pred.Tra. Time  581.491852            0.000597  0.001594      0.105975\n",
      "Test              0.827957            0.813620  0.817204      0.805257\n",
      "Test_LL          13.124866                 NaN       NaN           NaN\n",
      "Testing Time     62.115315            0.000134  0.000347      0.102506\n",
      "Tr. Only          0.617284            0.598204  0.627385      0.618406\n",
      "Tr. Only_LL       7.100985                 NaN       NaN           NaN\n",
      "Tr.Test Time     66.042692            0.000102  0.000335      0.104939\n",
      "Train             0.835817            0.831611  0.847957      0.997837\n",
      "Train_LL         12.014298                 NaN       NaN           NaN\n",
      "Training Time   166.584363            0.142329  0.924485      0.110915\n",
      "took: 876.4249503612518 seconds\n",
      "\n",
      "**********\n",
      "\n",
      "K: \t6\n",
      "Epoch 0: 2.4977985984884774\n",
      "Epoch 25: 0.0035927600570392175\n",
      "Epoch 50: 0.0017899141051493715\n",
      "Epoch 75: 0.0012163088311789708\n",
      "Epoch 100: 0.0009294261350343746\n",
      "Epoch 125: 0.0007559225458133169\n",
      "Epoch 150: 0.0006391400865175901\n",
      "W1 size 602\n",
      "W2 size 18\n",
      "W3 size 10\n",
      "Took: 159.72345423698425 for training\n",
      "Took: 571.9253659248352 for predicting 833 training instances\n",
      "Took: 64.4284143447876 for predicting 92 test instances\n",
      "Took: 67.77523255348206 for predicting 99 Turkish test instances\n"
     ]
    },
    {
     "name": "stderr",
     "output_type": "stream",
     "text": [
      "/usr/local/lib/python3.5/dist-packages/sklearn/neural_network/multilayer_perceptron.py:564: ConvergenceWarning: Stochastic Optimizer: Maximum iterations (200) reached and the optimization hasn't converged yet.\n",
      "  % self.max_iter, ConvergenceWarning)\n",
      "/usr/local/lib/python3.5/dist-packages/sklearn/metrics/classification.py:1135: UndefinedMetricWarning: F-score is ill-defined and being set to 0.0 in labels with no predicted samples.\n",
      "  'precision', 'predicted', average, warn_for)\n"
     ]
    },
    {
     "name": "stdout",
     "output_type": "stream",
     "text": [
      "\n",
      "                DeepSelect  LogisticRegression       MLP  RandomForest\n",
      "F1 Test           0.045713            0.219739  0.253430      0.228253\n",
      "F1 Tr. only       0.022222            0.017328  0.047004      0.060058\n",
      "F1 Train          0.054956            0.327369  0.571990      0.995190\n",
      "Pred.Tra. Time  571.925366            0.000597  0.001616      0.105859\n",
      "Test              0.803261            0.786957  0.790217      0.773913\n",
      "Test_LL          11.873279                 NaN       NaN           NaN\n",
      "Testing Time     64.428414            0.000131  0.000354      0.102777\n",
      "Tr. Only          0.617284            0.610550  0.585859      0.602694\n",
      "Tr. Only_LL       7.018017                 NaN       NaN           NaN\n",
      "Tr.Test Time     67.775233            0.000102  0.000328      0.105806\n",
      "Train             0.840456            0.837815  0.884994      0.998800\n",
      "Train_LL         11.883646                 NaN       NaN           NaN\n",
      "Training Time   159.723454            0.146878  1.466408      0.110949\n",
      "took: 864.0141875743866 seconds\n",
      "\n",
      "**********\n",
      "\n",
      "K: \t7\n",
      "Epoch 0: 1.8192200288755458\n",
      "Epoch 25: 0.0030536181804656365\n",
      "Epoch 50: 0.0015256209105641322\n",
      "Epoch 75: 0.001035514821960332\n",
      "Epoch 100: 0.0007900167697255079\n",
      "Epoch 125: 0.0006415036830276052\n",
      "Epoch 150: 0.000541571281233758\n",
      "W1 size 617\n",
      "W2 size 18\n",
      "W3 size 10\n",
      "Took: 156.57585549354553 for training\n",
      "Took: 575.7972455024719 for predicting 833 training instances\n",
      "Took: 62.471617221832275 for predicting 92 test instances\n",
      "Took: 67.66972208023071 for predicting 99 Turkish test instances\n"
     ]
    },
    {
     "name": "stderr",
     "output_type": "stream",
     "text": [
      "/usr/local/lib/python3.5/dist-packages/sklearn/neural_network/multilayer_perceptron.py:564: ConvergenceWarning: Stochastic Optimizer: Maximum iterations (200) reached and the optimization hasn't converged yet.\n",
      "  % self.max_iter, ConvergenceWarning)\n",
      "/usr/local/lib/python3.5/dist-packages/sklearn/metrics/classification.py:1135: UndefinedMetricWarning: F-score is ill-defined and being set to 0.0 in labels with no predicted samples.\n",
      "  'precision', 'predicted', average, warn_for)\n",
      "/usr/local/lib/python3.5/dist-packages/sklearn/metrics/classification.py:1137: UndefinedMetricWarning: F-score is ill-defined and being set to 0.0 in labels with no true samples.\n",
      "  'recall', 'true', average, warn_for)\n"
     ]
    },
    {
     "name": "stdout",
     "output_type": "stream",
     "text": [
      "\n",
      "                DeepSelect  LogisticRegression       MLP  RandomForest\n",
      "F1 Test           0.070170            0.270479  0.258181      0.265542\n",
      "F1 Tr. only       0.052418            0.036995  0.047863      0.085182\n",
      "F1 Train          0.080606            0.326039  0.564169      0.996396\n",
      "Pred.Tra. Time  575.797246            0.000611  0.001638      0.105919\n",
      "Test              0.822464            0.816425  0.794686      0.820048\n",
      "Test_LL          15.708232                 NaN       NaN           NaN\n",
      "Testing Time     62.471617            0.000132  0.000350      0.105264\n",
      "Tr. Only          0.628507            0.618406  0.591470      0.654321\n",
      "Tr. Only_LL       7.887296                 NaN       NaN           NaN\n",
      "Tr.Test Time     67.669722            0.000105  0.000328      0.106127\n",
      "Train             0.828691            0.831573  0.880312      0.999400\n",
      "Train_LL         15.425723                 NaN       NaN           NaN\n",
      "Training Time   156.575855            0.153726  1.460648      0.111465\n",
      "took: 862.6789591312408 seconds\n",
      "\n",
      "**********\n",
      "\n",
      "K: \t8\n",
      "Epoch 0: 1.8495189048119975\n",
      "Epoch 25: 0.0033481328295375226\n",
      "Epoch 50: 0.001653230312562934\n",
      "Epoch 75: 0.001116498665758112\n",
      "Epoch 100: 0.0008498661148158177\n",
      "Epoch 125: 0.0006894721545299816\n",
      "Epoch 150: 0.0005819573990426621\n",
      "W1 size 608\n",
      "W2 size 18\n",
      "W3 size 10\n",
      "Took: 154.99028778076172 for training\n",
      "Took: 568.9038279056549 for predicting 833 training instances\n",
      "Took: 60.56649684906006 for predicting 92 test instances\n",
      "Took: 66.890207529068 for predicting 99 Turkish test instances\n"
     ]
    },
    {
     "name": "stderr",
     "output_type": "stream",
     "text": [
      "/usr/local/lib/python3.5/dist-packages/sklearn/neural_network/multilayer_perceptron.py:564: ConvergenceWarning: Stochastic Optimizer: Maximum iterations (200) reached and the optimization hasn't converged yet.\n",
      "  % self.max_iter, ConvergenceWarning)\n",
      "/usr/local/lib/python3.5/dist-packages/sklearn/metrics/classification.py:1135: UndefinedMetricWarning: F-score is ill-defined and being set to 0.0 in labels with no predicted samples.\n",
      "  'precision', 'predicted', average, warn_for)\n",
      "/usr/local/lib/python3.5/dist-packages/sklearn/metrics/classification.py:1137: UndefinedMetricWarning: F-score is ill-defined and being set to 0.0 in labels with no true samples.\n",
      "  'recall', 'true', average, warn_for)\n"
     ]
    },
    {
     "name": "stdout",
     "output_type": "stream",
     "text": [
      "\n",
      "                DeepSelect  LogisticRegression       MLP  RandomForest\n",
      "F1 Test           0.070701            0.299609  0.336217      0.282909\n",
      "F1 Tr. only       0.022426            0.038131  0.066138      0.060414\n",
      "F1 Train          0.052277            0.327120  0.560464      0.993998\n",
      "Pred.Tra. Time  568.903828            0.000632  0.001598      0.105837\n",
      "Test              0.846467            0.828804  0.836957      0.815217\n",
      "Test_LL          12.265711                 NaN       NaN           NaN\n",
      "Testing Time     60.566497            0.000130  0.000362      0.102539\n",
      "Tr. Only          0.618406            0.618406  0.621773      0.625140\n",
      "Tr. Only_LL       7.165211                 NaN       NaN           NaN\n",
      "Tr.Test Time     66.890208            0.000109  0.000320      0.105309\n",
      "Train             0.832293            0.830252  0.878752      0.999280\n",
      "Train_LL         12.402299                 NaN       NaN           NaN\n",
      "Training Time   154.990288            0.150764  1.450676      0.110868\n",
      "took: 851.5537469387054 seconds\n",
      "\n",
      "**********\n",
      "\n",
      "K: \t9\n",
      "Epoch 0: 1.671052761113346\n",
      "Epoch 25: 0.003901947272889178\n",
      "Epoch 50: 0.0018740956411305843\n",
      "Epoch 75: 0.0012569826723243327\n",
      "Epoch 100: 0.000954271257371659\n",
      "Epoch 125: 0.0007732195294463326\n",
      "Epoch 150: 0.0006522396300211284\n",
      "W1 size 608\n",
      "W2 size 18\n",
      "W3 size 10\n",
      "Took: 149.71115446090698 for training\n",
      "Took: 583.7248740196228 for predicting 833 training instances\n",
      "Took: 65.21570634841919 for predicting 92 test instances\n",
      "Took: 71.94164443016052 for predicting 99 Turkish test instances\n"
     ]
    },
    {
     "name": "stderr",
     "output_type": "stream",
     "text": [
      "/usr/local/lib/python3.5/dist-packages/sklearn/neural_network/multilayer_perceptron.py:564: ConvergenceWarning: Stochastic Optimizer: Maximum iterations (200) reached and the optimization hasn't converged yet.\n",
      "  % self.max_iter, ConvergenceWarning)\n",
      "/usr/local/lib/python3.5/dist-packages/sklearn/metrics/classification.py:1135: UndefinedMetricWarning: F-score is ill-defined and being set to 0.0 in labels with no predicted samples.\n",
      "  'precision', 'predicted', average, warn_for)\n"
     ]
    },
    {
     "name": "stdout",
     "output_type": "stream",
     "text": [
      "\n",
      "                DeepSelect  LogisticRegression       MLP  RandomForest\n",
      "F1 Test           0.045713            0.225843  0.235938      0.221508\n",
      "F1 Tr. only       0.022426            0.033898  0.051964      0.040853\n",
      "F1 Train          0.054956            0.325707  0.569586      0.995196\n",
      "Pred.Tra. Time  583.724874            0.000609  0.001634      0.105671\n",
      "Test              0.815217            0.783696  0.803261      0.781522\n",
      "Test_LL          10.935963                 NaN       NaN           NaN\n",
      "Testing Time     65.215706            0.000130  0.000352      0.105168\n",
      "Tr. Only          0.618406            0.610550  0.625140      0.626263\n",
      "Tr. Only_LL       7.157492                 NaN       NaN           NaN\n",
      "Tr.Test Time     71.941644            0.000101  0.000324      0.105802\n",
      "Train             0.839136            0.835654  0.882953      0.999160\n",
      "Train_LL         12.511720                 NaN       NaN           NaN\n",
      "Training Time   149.711154            0.139672  1.472392      0.111354\n",
      "took: 870.7828073501587 seconds\n",
      "\n",
      "**********\n",
      "\n",
      "K: \t10\n",
      "Epoch 0: 1.7386367068489454\n",
      "Epoch 25: 0.003489414747923356\n",
      "Epoch 50: 0.0017075862969389765\n",
      "Epoch 75: 0.0011565206413861454\n",
      "Epoch 100: 0.000883286280884381\n",
      "Epoch 125: 0.0007185948647509068\n",
      "Epoch 150: 0.0006078914018794345\n",
      "W1 size 608\n",
      "W2 size 18\n",
      "W3 size 10\n",
      "Took: 158.33102011680603 for training\n",
      "Took: 544.4931600093842 for predicting 833 training instances\n",
      "Took: 60.20120573043823 for predicting 92 test instances\n",
      "Took: 62.90503478050232 for predicting 99 Turkish test instances\n"
     ]
    },
    {
     "name": "stderr",
     "output_type": "stream",
     "text": [
      "/usr/local/lib/python3.5/dist-packages/sklearn/neural_network/multilayer_perceptron.py:564: ConvergenceWarning: Stochastic Optimizer: Maximum iterations (200) reached and the optimization hasn't converged yet.\n",
      "  % self.max_iter, ConvergenceWarning)\n",
      "/usr/local/lib/python3.5/dist-packages/sklearn/metrics/classification.py:1135: UndefinedMetricWarning: F-score is ill-defined and being set to 0.0 in labels with no predicted samples.\n",
      "  'precision', 'predicted', average, warn_for)\n"
     ]
    },
    {
     "name": "stdout",
     "output_type": "stream",
     "text": [
      "\n",
      "                DeepSelect  LogisticRegression       MLP  RandomForest\n",
      "F1 Test           0.034990            0.335960  0.314952      0.318354\n",
      "F1 Tr. only       0.022426            0.051589  0.047873      0.082336\n",
      "F1 Train          0.056317            0.325932  0.560700      0.992763\n",
      "Pred.Tra. Time  544.493160            0.000587  0.001603      0.105923\n",
      "Test              0.830918            0.829710  0.830918      0.812802\n",
      "Test_LL          14.815081                 NaN       NaN           NaN\n",
      "Testing Time     60.201206            0.000131  0.000351      0.102420\n",
      "Tr. Only          0.618406            0.617284  0.615039      0.645342\n",
      "Tr. Only_LL       7.166903                 NaN       NaN           NaN\n",
      "Tr.Test Time     62.905035            0.000102  0.000324      0.105090\n",
      "Train             0.835534            0.833133  0.880672      0.997839\n",
      "Train_LL         12.129567                 NaN       NaN           NaN\n",
      "Training Time   158.331020            0.147578  1.471889      0.110738\n",
      "took: 826.1084492206573 seconds\n",
      "\n",
      "**********\n",
      "\n",
      "Average scores for trial 0\n",
      "                DeepSelect  LogisticRegression       MLP  RandomForest\n",
      "F1 Test           0.065501            0.251609  0.267170      0.256731\n",
      "F1 Tr. only       0.025876            0.032716  0.056186      0.063356\n",
      "F1 Train          0.067325            0.326895  0.541737      0.993145\n",
      "Pred.Tra. Time  575.943454            0.000601  0.001627      0.105763\n",
      "Test              0.823804            0.806256  0.808889      0.795703\n",
      "Test_LL          13.836479                 NaN       NaN           NaN\n",
      "Testing Time     62.969869            0.000134  0.000352      0.102963\n",
      "Tr. Only          0.626038            0.612346  0.613692      0.629068\n",
      "Tr. Only_LL       7.983233                 NaN       NaN           NaN\n",
      "Tr.Test Time     67.449243            0.000102  0.000327      0.105469\n",
      "Train             0.835580            0.834054  0.875973      0.998606\n",
      "Train_LL         13.635404                 NaN       NaN           NaN\n",
      "Training Time   157.684959            0.148174  1.393755      0.111346\n",
      "------------------------------\n",
      "%%%%%%%%%%%%%%%%%%%%%%%%%%%%%%%%%%%%%%%%\n",
      "Average of 1 trials\n",
      "                DeepSelect  LogisticRegression       MLP  RandomForest\n",
      "F1 Test           0.065501            0.251609  0.267170      0.256731\n",
      "F1 Tr. only       0.025876            0.032716  0.056186      0.063356\n",
      "F1 Train          0.067325            0.326895  0.541737      0.993145\n",
      "Pred.Tra. Time  575.943454            0.000601  0.001627      0.105763\n",
      "Test              0.823804            0.806256  0.808889      0.795703\n",
      "Test_LL          13.836479                 NaN       NaN           NaN\n",
      "Testing Time     62.969869            0.000134  0.000352      0.102963\n",
      "Tr. Only          0.626038            0.612346  0.613692      0.629068\n",
      "Tr. Only_LL       7.983233                 NaN       NaN           NaN\n",
      "Tr.Test Time     67.449243            0.000102  0.000327      0.105469\n",
      "Train             0.835580            0.834054  0.875973      0.998606\n",
      "Train_LL         13.635404                 NaN       NaN           NaN\n",
      "Training Time   157.684959            0.148174  1.393755      0.111346\n"
     ]
    }
   ],
   "source": [
    "scores_tables_nn = eval_selectivewaves_nn(df, tronly_test_raw)\n",
    "pickle.dump(scores_tables_nn, open(\"../results/incremental_tf_tables.results\", \"wb\"))"
   ]
  },
  {
   "cell_type": "markdown",
   "metadata": {},
   "source": [
    "# Robustness test"
   ]
  },
  {
   "cell_type": "code",
   "execution_count": 41,
   "metadata": {},
   "outputs": [],
   "source": [
    "def f1_score_weighted(true, preds):\n",
    "    return f1_score(true, preds, average='weighted')"
   ]
  },
  {
   "cell_type": "code",
   "execution_count": 42,
   "metadata": {},
   "outputs": [],
   "source": [
    "DEFAULT_METRICES = {\"MAE-accuracy\":distance_accuracy, \"f1_score w.avg\":f1_score_weighted}\n",
    "\n",
    "def robustness_test(df_full, test, metrics=DEFAULT_METRICES, iterations_nn=150, iterations_regclass=50):\n",
    "    en_revs = df_full[df_full.Language==\"en\"]\n",
    "    tr_revs = df_full[df_full.Language==\"tr\"]\n",
    "    robustness = dict()  # {(num of en reviews, num of tr reviews): scores_dict}\n",
    "    for en_size in range(1,11):\n",
    "        for tr_size in range(1,11):\n",
    "            en_train = en_revs.sample(frac=en_size/10.0)\n",
    "            tr_train = tr_revs.sample(frac=tr_size/10.0)\n",
    "            start = time.time()\n",
    "            print(\"En: {}\\tTr: {}\".format(len(en_train),len(tr_train)))\n",
    "            train = pd.concat([en_train, tr_train]).reset_index(drop=True)\n",
    "            robustness_tables = dict()\n",
    "            print(\"Using first variation (Regressor and Classifier with score vectors)\")\n",
    "            LSMR, score_vect_dicts, training_curve = get_score_vects(\n",
    "                                            train, alpha=1e-5, iterations=iterations_regclass)\n",
    "            regressor, classifier = fit(LSMR, score_vect_dicts)\n",
    "            test_vecs = preprocess_data(test)\n",
    "            preds, true = predict(test_vecs, score_vect_dicts, regressor, classifier)\n",
    "            robustness_tables[\"DeepSelect (regclass)\"] = dict()\n",
    "            robustness_tables[\"DeepSelect\"] = dict()\n",
    "\n",
    "            print(\"Using second variation (average of outputs produced by each set of weight matrices)\")\n",
    "            W1, W2, W3, training_curve, classes = train_selective(train, epochs=iterations_nn, p_every=25)\n",
    "            preds_nn, true_nn, probs = predict_selective(test, W1, W2, W3, classes=classes)\n",
    "            ll = log_loss(true_nn,probs, labels=classes)\n",
    "            \n",
    "    #         f1_test_nn = f1_score(true_nn, preds_nn, average='weighted')\n",
    "        \n",
    "            for name, metric in metrics.items():\n",
    "                \n",
    "                s_regclass = metric(true, preds)\n",
    "                s_nn = metric(true_nn, preds_nn)\n",
    "    #         f1_test_regclass = f1_score(true, preds, average='weighted')\n",
    "                robustness_tables[\"DeepSelect (regclass)\"][name] = s_regclass\n",
    "                robustness_tables[\"DeepSelect\"][name] = s_nn\n",
    "            robustness_tables[\"DeepSelect (regclass)\"][\"log loss\"] = np.NAN\n",
    "            robustness_tables[\"DeepSelect\"][\"log loss\"] = ll\n",
    "\n",
    "            print(\"Using well-known algorithms: Logistic Regression, RandomForest and MLP\")\n",
    "            lr = LogisticRegression()\n",
    "            rf = RandomForestClassifier(n_jobs=-1)\n",
    "            mlp = MLPClassifier()\n",
    "\n",
    "            train_mat = np.array(list(LSMR[\"rev_vec\"]))\n",
    "            train_y = np.array(list(LSMR[\"Score\"]))\n",
    "            test_mat = np.array(list(test_vecs[\"rev_vec\"]))\n",
    "\n",
    "            for model_name, model in [(\"Logistic Regression\",lr),\n",
    "                                (\"RandomForest\", rf),\n",
    "                                (\"MLP\", mlp)]:\n",
    "                model.fit(train_mat, train_y)\n",
    "                robustness_tables.setdefault(model_name, dict())\n",
    "                robustness_tables[model_name][\"log loss\"] = np.NAN\n",
    "                for metric_name, metric in metrics.items():\n",
    "                    robustness_tables[model_name][metric_name] = metric(true, model.predict(test_mat))\n",
    "            robustness[(len(en_train),len(tr_train))] = robustness_tables\n",
    "            print(\"Took: {}\".format(time.time()-start))\n",
    "            print(\"-\"*50)\n",
    "    return robustness"
   ]
  },
  {
   "cell_type": "code",
   "execution_count": 43,
   "metadata": {
    "scrolled": true
   },
   "outputs": [
    {
     "name": "stdout",
     "output_type": "stream",
     "text": [
      "En: 50\tTr: 42\n",
      "Using first variation (Regressor and Classifier with score vectors)\n",
      "epoch 0:\t16.267722696640316\n",
      "epoch 10:\t16.166657687382198\n",
      "epoch 20:\t15.91901594557589\n",
      "epoch 30:\t15.757097117247282\n",
      "epoch 40:\t15.600673612089444\n",
      "epoch 50:\t15.469640209091201\n",
      "Using second variation (average of outputs produced by each set of weight matrices)\n",
      "Epoch 0: 4.985744052984797\n",
      "Epoch 25: 0.023468635569795126\n",
      "Epoch 50: 0.010023549591386922\n",
      "Epoch 75: 0.00660197866040745\n",
      "Epoch 100: 0.004982926288501789\n",
      "Epoch 125: 0.004028559759567468\n",
      "Epoch 150: 0.0033954617488673043\n",
      "W1 size 88\n",
      "W2 size 15\n",
      "W3 size 9\n"
     ]
    },
    {
     "name": "stderr",
     "output_type": "stream",
     "text": [
      "/usr/local/lib/python3.5/dist-packages/sklearn/metrics/classification.py:1135: UndefinedMetricWarning: F-score is ill-defined and being set to 0.0 in labels with no predicted samples.\n",
      "  'precision', 'predicted', average, warn_for)\n"
     ]
    },
    {
     "name": "stdout",
     "output_type": "stream",
     "text": [
      "Using well-known algorithms: Logistic Regression, RandomForest and MLP\n"
     ]
    },
    {
     "name": "stderr",
     "output_type": "stream",
     "text": [
      "/usr/local/lib/python3.5/dist-packages/sklearn/metrics/classification.py:1135: UndefinedMetricWarning: F-score is ill-defined and being set to 0.0 in labels with no predicted samples.\n",
      "  'precision', 'predicted', average, warn_for)\n",
      "/usr/local/lib/python3.5/dist-packages/sklearn/neural_network/multilayer_perceptron.py:564: ConvergenceWarning: Stochastic Optimizer: Maximum iterations (200) reached and the optimization hasn't converged yet.\n",
      "  % self.max_iter, ConvergenceWarning)\n"
     ]
    },
    {
     "name": "stdout",
     "output_type": "stream",
     "text": [
      "Took: 31.7564697265625\n",
      "--------------------------------------------------\n",
      "En: 50\tTr: 85\n",
      "Using first variation (Regressor and Classifier with score vectors)\n",
      "epoch 0:\t15.823679171482095\n",
      "epoch 10:\t15.764763163617554\n",
      "epoch 20:\t15.707874642460592\n",
      "epoch 30:\t15.65256044064624\n",
      "epoch 40:\t15.593302343038062\n",
      "epoch 50:\t15.537421301279347\n",
      "Using second variation (average of outputs produced by each set of weight matrices)\n",
      "Epoch 0: 7.084023774737768\n",
      "Epoch 25: 0.03917049839483634\n",
      "Epoch 50: 0.012840683277398865\n",
      "Epoch 75: 0.007969211340773823\n",
      "Epoch 100: 0.005846729402185668\n",
      "Epoch 125: 0.004646000576404832\n",
      "Epoch 150: 0.003869292773503764\n",
      "W1 size 127\n",
      "W2 size 18\n",
      "W3 size 10\n",
      "Using well-known algorithms: Logistic Regression, RandomForest and MLP\n"
     ]
    },
    {
     "name": "stderr",
     "output_type": "stream",
     "text": [
      "/usr/local/lib/python3.5/dist-packages/sklearn/metrics/classification.py:1135: UndefinedMetricWarning: F-score is ill-defined and being set to 0.0 in labels with no predicted samples.\n",
      "  'precision', 'predicted', average, warn_for)\n",
      "/usr/local/lib/python3.5/dist-packages/sklearn/neural_network/multilayer_perceptron.py:564: ConvergenceWarning: Stochastic Optimizer: Maximum iterations (200) reached and the optimization hasn't converged yet.\n",
      "  % self.max_iter, ConvergenceWarning)\n"
     ]
    },
    {
     "name": "stdout",
     "output_type": "stream",
     "text": [
      "Took: 39.65585255622864\n",
      "--------------------------------------------------\n",
      "En: 50\tTr: 128\n",
      "Using first variation (Regressor and Classifier with score vectors)\n",
      "epoch 0:\t20.267807615766912\n",
      "epoch 10:\t20.099285501880225\n",
      "epoch 20:\t19.96162323356397\n",
      "epoch 30:\t19.838776911918764\n",
      "epoch 40:\t19.717525998621117\n",
      "epoch 50:\t19.600921259812093\n",
      "Using second variation (average of outputs produced by each set of weight matrices)\n",
      "Epoch 0: 6.093106965782916\n",
      "Epoch 25: 0.0713135676998815\n",
      "Epoch 50: 0.01587723960746102\n",
      "Epoch 75: 0.009078987691765086\n",
      "Epoch 100: 0.006432566643921194\n",
      "Epoch 125: 0.005012484697541812\n",
      "Epoch 150: 0.004122584941639202\n",
      "W1 size 157\n",
      "W2 size 18\n",
      "W3 size 10\n",
      "Using well-known algorithms: Logistic Regression, RandomForest and MLP\n"
     ]
    },
    {
     "name": "stderr",
     "output_type": "stream",
     "text": [
      "/usr/local/lib/python3.5/dist-packages/sklearn/metrics/classification.py:1135: UndefinedMetricWarning: F-score is ill-defined and being set to 0.0 in labels with no predicted samples.\n",
      "  'precision', 'predicted', average, warn_for)\n",
      "/usr/local/lib/python3.5/dist-packages/sklearn/neural_network/multilayer_perceptron.py:564: ConvergenceWarning: Stochastic Optimizer: Maximum iterations (200) reached and the optimization hasn't converged yet.\n",
      "  % self.max_iter, ConvergenceWarning)\n"
     ]
    },
    {
     "name": "stdout",
     "output_type": "stream",
     "text": [
      "Took: 52.571425437927246\n",
      "--------------------------------------------------\n",
      "En: 50\tTr: 170\n",
      "Using first variation (Regressor and Classifier with score vectors)\n",
      "epoch 0:\t20.99078914554018\n",
      "epoch 10:\t20.89034180274942\n",
      "epoch 20:\t20.79318319236893\n",
      "epoch 30:\t20.681064876422877\n",
      "epoch 40:\t20.56389947548474\n",
      "epoch 50:\t20.445808541107308\n",
      "Using second variation (average of outputs produced by each set of weight matrices)\n",
      "Epoch 0: 7.578379260492594\n",
      "Epoch 25: 0.03167917709668638\n",
      "Epoch 50: 0.008479133692621458\n",
      "Epoch 75: 0.0052697561838323794\n",
      "Epoch 100: 0.0038896533831100236\n",
      "Epoch 125: 0.003108096535900338\n",
      "Epoch 150: 0.0026006706715406835\n",
      "W1 size 188\n",
      "W2 size 16\n",
      "W3 size 9\n",
      "Using well-known algorithms: Logistic Regression, RandomForest and MLP\n"
     ]
    },
    {
     "name": "stderr",
     "output_type": "stream",
     "text": [
      "/usr/local/lib/python3.5/dist-packages/sklearn/metrics/classification.py:1135: UndefinedMetricWarning: F-score is ill-defined and being set to 0.0 in labels with no predicted samples.\n",
      "  'precision', 'predicted', average, warn_for)\n"
     ]
    },
    {
     "name": "stdout",
     "output_type": "stream",
     "text": [
      "Took: 66.54803204536438\n",
      "--------------------------------------------------\n",
      "En: 50\tTr: 212\n",
      "Using first variation (Regressor and Classifier with score vectors)\n",
      "epoch 0:\t24.647943406496026\n",
      "epoch 10:\t24.231072655762322\n",
      "epoch 20:\t23.880487526016168\n",
      "epoch 30:\t23.56933028106775\n",
      "epoch 40:\t23.258618464346732\n",
      "epoch 50:\t22.96837228388418\n",
      "Using second variation (average of outputs produced by each set of weight matrices)\n",
      "Epoch 0: 4.061120982289584\n",
      "Epoch 25: 0.015510387168782096\n",
      "Epoch 50: 0.006362762274493573\n",
      "Epoch 75: 0.004101747549184056\n",
      "Epoch 100: 0.0030604390310773706\n",
      "Epoch 125: 0.0024564575589590644\n",
      "Epoch 150: 0.0020600386312482357\n",
      "W1 size 221\n",
      "W2 size 17\n",
      "W3 size 10\n",
      "Using well-known algorithms: Logistic Regression, RandomForest and MLP\n"
     ]
    },
    {
     "name": "stderr",
     "output_type": "stream",
     "text": [
      "/usr/local/lib/python3.5/dist-packages/sklearn/metrics/classification.py:1135: UndefinedMetricWarning: F-score is ill-defined and being set to 0.0 in labels with no predicted samples.\n",
      "  'precision', 'predicted', average, warn_for)\n",
      "/usr/local/lib/python3.5/dist-packages/sklearn/neural_network/multilayer_perceptron.py:564: ConvergenceWarning: Stochastic Optimizer: Maximum iterations (200) reached and the optimization hasn't converged yet.\n",
      "  % self.max_iter, ConvergenceWarning)\n"
     ]
    },
    {
     "name": "stdout",
     "output_type": "stream",
     "text": [
      "Took: 78.38246870040894\n",
      "--------------------------------------------------\n",
      "En: 50\tTr: 255\n",
      "Using first variation (Regressor and Classifier with score vectors)\n",
      "epoch 0:\t18.680518295646422\n",
      "epoch 10:\t18.573324351798824\n",
      "epoch 20:\t18.491810017574398\n",
      "epoch 30:\t18.430179382710783\n",
      "epoch 40:\t18.36336981986512\n",
      "epoch 50:\t18.293298827057473\n",
      "Using second variation (average of outputs produced by each set of weight matrices)\n",
      "Epoch 0: 6.173154012125069\n",
      "Epoch 25: 0.0461133202798785\n",
      "Epoch 50: 0.010523815840130483\n",
      "Epoch 75: 0.006006744337334611\n",
      "Epoch 100: 0.0042776188653623065\n",
      "Epoch 125: 0.0033478185141843897\n",
      "Epoch 150: 0.002762640889265834\n",
      "W1 size 236\n",
      "W2 size 16\n",
      "W3 size 10\n",
      "Using well-known algorithms: Logistic Regression, RandomForest and MLP\n"
     ]
    },
    {
     "name": "stderr",
     "output_type": "stream",
     "text": [
      "/usr/local/lib/python3.5/dist-packages/sklearn/metrics/classification.py:1135: UndefinedMetricWarning: F-score is ill-defined and being set to 0.0 in labels with no predicted samples.\n",
      "  'precision', 'predicted', average, warn_for)\n",
      "/usr/local/lib/python3.5/dist-packages/sklearn/neural_network/multilayer_perceptron.py:564: ConvergenceWarning: Stochastic Optimizer: Maximum iterations (200) reached and the optimization hasn't converged yet.\n",
      "  % self.max_iter, ConvergenceWarning)\n"
     ]
    },
    {
     "name": "stdout",
     "output_type": "stream",
     "text": [
      "Took: 88.21051692962646\n",
      "--------------------------------------------------\n",
      "En: 50\tTr: 298\n",
      "Using first variation (Regressor and Classifier with score vectors)\n",
      "epoch 0:\t20.30306408355255\n",
      "epoch 10:\t20.088879469704338\n",
      "epoch 20:\t19.987910839987414\n",
      "epoch 30:\t19.889046308911656\n",
      "epoch 40:\t19.801087986137734\n",
      "epoch 50:\t19.715010137368132\n",
      "Using second variation (average of outputs produced by each set of weight matrices)\n",
      "Epoch 0: 2.8129671757556522\n",
      "Epoch 25: 0.014445444575865794\n",
      "Epoch 50: 0.004511960719059579\n",
      "Epoch 75: 0.002750501639860136\n",
      "Epoch 100: 0.0019993229175667166\n",
      "Epoch 125: 0.0015799073838635173\n",
      "Epoch 150: 0.0013110130412288766\n",
      "W1 size 268\n",
      "W2 size 16\n",
      "W3 size 9\n",
      "Using well-known algorithms: Logistic Regression, RandomForest and MLP\n"
     ]
    },
    {
     "name": "stderr",
     "output_type": "stream",
     "text": [
      "/usr/local/lib/python3.5/dist-packages/sklearn/metrics/classification.py:1135: UndefinedMetricWarning: F-score is ill-defined and being set to 0.0 in labels with no predicted samples.\n",
      "  'precision', 'predicted', average, warn_for)\n",
      "/usr/local/lib/python3.5/dist-packages/sklearn/neural_network/multilayer_perceptron.py:564: ConvergenceWarning: Stochastic Optimizer: Maximum iterations (200) reached and the optimization hasn't converged yet.\n",
      "  % self.max_iter, ConvergenceWarning)\n"
     ]
    },
    {
     "name": "stdout",
     "output_type": "stream",
     "text": [
      "Took: 96.6668267250061\n",
      "--------------------------------------------------\n",
      "En: 50\tTr: 340\n",
      "Using first variation (Regressor and Classifier with score vectors)\n",
      "epoch 0:\t23.144601603593085\n",
      "epoch 10:\t22.77493411758237\n",
      "epoch 20:\t22.525656578844785\n",
      "epoch 30:\t22.287158673735913\n",
      "epoch 40:\t22.119723825576724\n",
      "epoch 50:\t22.00572589055913\n",
      "Using second variation (average of outputs produced by each set of weight matrices)\n",
      "Epoch 0: 3.2093092118316817\n",
      "Epoch 25: 0.011661268630763142\n",
      "Epoch 50: 0.004314737363562506\n",
      "Epoch 75: 0.002744345700484147\n",
      "Epoch 100: 0.0020316073079559606\n",
      "Epoch 125: 0.0016211212230278086\n",
      "Epoch 150: 0.001353081831995531\n",
      "W1 size 296\n",
      "W2 size 17\n",
      "W3 size 10\n",
      "Using well-known algorithms: Logistic Regression, RandomForest and MLP\n"
     ]
    },
    {
     "name": "stderr",
     "output_type": "stream",
     "text": [
      "/usr/local/lib/python3.5/dist-packages/sklearn/metrics/classification.py:1135: UndefinedMetricWarning: F-score is ill-defined and being set to 0.0 in labels with no predicted samples.\n",
      "  'precision', 'predicted', average, warn_for)\n",
      "/usr/local/lib/python3.5/dist-packages/sklearn/neural_network/multilayer_perceptron.py:564: ConvergenceWarning: Stochastic Optimizer: Maximum iterations (200) reached and the optimization hasn't converged yet.\n",
      "  % self.max_iter, ConvergenceWarning)\n"
     ]
    },
    {
     "name": "stdout",
     "output_type": "stream",
     "text": [
      "Took: 118.03435516357422\n",
      "--------------------------------------------------\n",
      "En: 50\tTr: 382\n",
      "Using first variation (Regressor and Classifier with score vectors)\n",
      "epoch 0:\t22.619094470052154\n",
      "epoch 10:\t22.37415125898251\n",
      "epoch 20:\t21.995360345752452\n",
      "epoch 30:\t21.666660645089102\n",
      "epoch 40:\t21.34518832236925\n",
      "epoch 50:\t21.041416515629876\n",
      "Using second variation (average of outputs produced by each set of weight matrices)\n",
      "Epoch 0: 3.898371978580582\n",
      "Epoch 25: 0.00907578372755535\n",
      "Epoch 50: 0.0040162755591266145\n",
      "Epoch 75: 0.002633532724330065\n",
      "Epoch 100: 0.0019754162454967065\n",
      "Epoch 125: 0.00158772978323264\n",
      "Epoch 150: 0.0013311239944987054\n",
      "W1 size 311\n",
      "W2 size 17\n",
      "W3 size 9\n",
      "Using well-known algorithms: Logistic Regression, RandomForest and MLP\n"
     ]
    },
    {
     "name": "stderr",
     "output_type": "stream",
     "text": [
      "/usr/local/lib/python3.5/dist-packages/sklearn/metrics/classification.py:1135: UndefinedMetricWarning: F-score is ill-defined and being set to 0.0 in labels with no predicted samples.\n",
      "  'precision', 'predicted', average, warn_for)\n",
      "/usr/local/lib/python3.5/dist-packages/sklearn/neural_network/multilayer_perceptron.py:564: ConvergenceWarning: Stochastic Optimizer: Maximum iterations (200) reached and the optimization hasn't converged yet.\n",
      "  % self.max_iter, ConvergenceWarning)\n"
     ]
    },
    {
     "name": "stdout",
     "output_type": "stream",
     "text": [
      "Took: 110.80623078346252\n",
      "--------------------------------------------------\n",
      "En: 50\tTr: 425\n",
      "Using first variation (Regressor and Classifier with score vectors)\n",
      "epoch 0:\t22.82884962214801\n",
      "epoch 10:\t22.588518253924413\n",
      "epoch 20:\t22.328836575489543\n",
      "epoch 30:\t22.086141608166862\n",
      "epoch 40:\t21.863256366679813\n",
      "epoch 50:\t21.652802875976537\n",
      "Using second variation (average of outputs produced by each set of weight matrices)\n",
      "Epoch 0: 3.165200918184953\n",
      "Epoch 25: 0.01491766557471369\n",
      "Epoch 50: 0.00447958201128478\n",
      "Epoch 75: 0.002811424948787721\n",
      "Epoch 100: 0.002084566903638401\n",
      "Epoch 125: 0.0016710461773355913\n",
      "Epoch 150: 0.001401899617733127\n",
      "W1 size 335\n",
      "W2 size 18\n",
      "W3 size 10\n",
      "Using well-known algorithms: Logistic Regression, RandomForest and MLP\n"
     ]
    },
    {
     "name": "stderr",
     "output_type": "stream",
     "text": [
      "/usr/local/lib/python3.5/dist-packages/sklearn/metrics/classification.py:1135: UndefinedMetricWarning: F-score is ill-defined and being set to 0.0 in labels with no predicted samples.\n",
      "  'precision', 'predicted', average, warn_for)\n",
      "/usr/local/lib/python3.5/dist-packages/sklearn/neural_network/multilayer_perceptron.py:564: ConvergenceWarning: Stochastic Optimizer: Maximum iterations (200) reached and the optimization hasn't converged yet.\n",
      "  % self.max_iter, ConvergenceWarning)\n"
     ]
    },
    {
     "name": "stdout",
     "output_type": "stream",
     "text": [
      "Took: 134.46656823158264\n",
      "--------------------------------------------------\n",
      "En: 100\tTr: 42\n",
      "Using first variation (Regressor and Classifier with score vectors)\n",
      "epoch 0:\t24.09880116692551\n",
      "epoch 10:\t23.797222653520656\n",
      "epoch 20:\t23.528849140985066\n",
      "epoch 30:\t23.284826449929866\n",
      "epoch 40:\t23.074279942540297\n",
      "epoch 50:\t22.854799206046245\n",
      "Using second variation (average of outputs produced by each set of weight matrices)\n",
      "Epoch 0: 8.119142231875768\n",
      "Epoch 25: 0.030683190668869556\n",
      "Epoch 50: 0.012100155040455538\n",
      "Epoch 75: 0.0077011466744063995\n",
      "Epoch 100: 0.00569964074696747\n",
      "Epoch 125: 0.004546664042081061\n",
      "Epoch 150: 0.0037936669927353573\n",
      "W1 size 135\n",
      "W2 size 18\n",
      "W3 size 10\n",
      "Using well-known algorithms: Logistic Regression, RandomForest and MLP\n"
     ]
    },
    {
     "name": "stderr",
     "output_type": "stream",
     "text": [
      "/usr/local/lib/python3.5/dist-packages/sklearn/metrics/classification.py:1135: UndefinedMetricWarning: F-score is ill-defined and being set to 0.0 in labels with no predicted samples.\n",
      "  'precision', 'predicted', average, warn_for)\n",
      "/usr/local/lib/python3.5/dist-packages/sklearn/neural_network/multilayer_perceptron.py:564: ConvergenceWarning: Stochastic Optimizer: Maximum iterations (200) reached and the optimization hasn't converged yet.\n",
      "  % self.max_iter, ConvergenceWarning)\n"
     ]
    },
    {
     "name": "stdout",
     "output_type": "stream",
     "text": [
      "Took: 44.41284441947937\n",
      "--------------------------------------------------\n",
      "En: 100\tTr: 85\n",
      "Using first variation (Regressor and Classifier with score vectors)\n",
      "epoch 0:\t19.954103533803345\n",
      "epoch 10:\t19.656172857066753\n",
      "epoch 20:\t19.45263008108193\n",
      "epoch 30:\t19.21017629304236\n",
      "epoch 40:\t18.998014858633084\n",
      "epoch 50:\t18.804600773459438\n",
      "Using second variation (average of outputs produced by each set of weight matrices)\n",
      "Epoch 0: 2.622469002817682\n",
      "Epoch 25: 0.023299276919617015\n",
      "Epoch 50: 0.006829421642573465\n",
      "Epoch 75: 0.004210302887652171\n",
      "Epoch 100: 0.003091620843655914\n",
      "Epoch 125: 0.002461898986707884\n",
      "Epoch 150: 0.0020549076491521634\n",
      "W1 size 173\n",
      "W2 size 16\n",
      "W3 size 9\n",
      "Using well-known algorithms: Logistic Regression, RandomForest and MLP\n"
     ]
    },
    {
     "name": "stderr",
     "output_type": "stream",
     "text": [
      "/usr/local/lib/python3.5/dist-packages/sklearn/metrics/classification.py:1135: UndefinedMetricWarning: F-score is ill-defined and being set to 0.0 in labels with no predicted samples.\n",
      "  'precision', 'predicted', average, warn_for)\n",
      "/usr/local/lib/python3.5/dist-packages/sklearn/neural_network/multilayer_perceptron.py:564: ConvergenceWarning: Stochastic Optimizer: Maximum iterations (200) reached and the optimization hasn't converged yet.\n",
      "  % self.max_iter, ConvergenceWarning)\n"
     ]
    },
    {
     "name": "stdout",
     "output_type": "stream",
     "text": [
      "Took: 57.00933051109314\n",
      "--------------------------------------------------\n",
      "En: 100\tTr: 128\n",
      "Using first variation (Regressor and Classifier with score vectors)\n",
      "epoch 0:\t23.205660951165484\n",
      "epoch 10:\t22.952957304046492\n",
      "epoch 20:\t22.716028910253534\n",
      "epoch 30:\t22.45551091375742\n",
      "epoch 40:\t22.209017838657402\n",
      "epoch 50:\t21.99227457169646\n",
      "Using second variation (average of outputs produced by each set of weight matrices)\n",
      "Epoch 0: 5.878388256659818\n",
      "Epoch 25: 0.056491721636572685\n",
      "Epoch 50: 0.01292057886172515\n",
      "Epoch 75: 0.0068933695263736355\n",
      "Epoch 100: 0.004827914652004121\n",
      "Epoch 125: 0.0037487083883658407\n",
      "Epoch 150: 0.0030787492041619608\n",
      "W1 size 200\n",
      "W2 size 18\n",
      "W3 size 10\n",
      "Using well-known algorithms: Logistic Regression, RandomForest and MLP\n"
     ]
    },
    {
     "name": "stderr",
     "output_type": "stream",
     "text": [
      "/usr/local/lib/python3.5/dist-packages/sklearn/metrics/classification.py:1135: UndefinedMetricWarning: F-score is ill-defined and being set to 0.0 in labels with no predicted samples.\n",
      "  'precision', 'predicted', average, warn_for)\n"
     ]
    },
    {
     "name": "stdout",
     "output_type": "stream",
     "text": [
      "Took: 71.80749297142029\n",
      "--------------------------------------------------\n",
      "En: 100\tTr: 170\n",
      "Using first variation (Regressor and Classifier with score vectors)\n",
      "epoch 0:\t19.25391957336185\n",
      "epoch 10:\t19.141700929862193\n",
      "epoch 20:\t19.040548980642107\n",
      "epoch 30:\t18.940429197048992\n",
      "epoch 40:\t18.855666266988802\n",
      "epoch 50:\t18.77465063194378\n",
      "Using second variation (average of outputs produced by each set of weight matrices)\n",
      "Epoch 0: 3.585510093861834\n",
      "Epoch 25: 0.011646054333614217\n",
      "Epoch 50: 0.005137390768788287\n",
      "Epoch 75: 0.0033804686358402487\n",
      "Epoch 100: 0.0025431397194310007\n",
      "Epoch 125: 0.0020486736265817635\n",
      "Epoch 150: 0.00172060550136145\n",
      "W1 size 234\n",
      "W2 size 17\n",
      "W3 size 10\n",
      "Using well-known algorithms: Logistic Regression, RandomForest and MLP\n"
     ]
    },
    {
     "name": "stderr",
     "output_type": "stream",
     "text": [
      "/usr/local/lib/python3.5/dist-packages/sklearn/metrics/classification.py:1135: UndefinedMetricWarning: F-score is ill-defined and being set to 0.0 in labels with no predicted samples.\n",
      "  'precision', 'predicted', average, warn_for)\n",
      "/usr/local/lib/python3.5/dist-packages/sklearn/neural_network/multilayer_perceptron.py:564: ConvergenceWarning: Stochastic Optimizer: Maximum iterations (200) reached and the optimization hasn't converged yet.\n",
      "  % self.max_iter, ConvergenceWarning)\n"
     ]
    },
    {
     "name": "stdout",
     "output_type": "stream",
     "text": [
      "Took: 75.17015886306763\n",
      "--------------------------------------------------\n",
      "En: 100\tTr: 212\n",
      "Using first variation (Regressor and Classifier with score vectors)\n",
      "epoch 0:\t20.710405380170716\n",
      "epoch 10:\t20.621900542328248\n",
      "epoch 20:\t20.463842780171472\n",
      "epoch 30:\t20.250931637246122\n",
      "epoch 40:\t20.04523828774923\n",
      "epoch 50:\t19.848599446308846\n",
      "Using second variation (average of outputs produced by each set of weight matrices)\n",
      "Epoch 0: 3.5991186041378334\n",
      "Epoch 25: 0.02748616615433537\n",
      "Epoch 50: 0.008175154505916628\n",
      "Epoch 75: 0.005008354177903129\n",
      "Epoch 100: 0.0036615602687782656\n",
      "Epoch 125: 0.00290558616823256\n",
      "Epoch 150: 0.0024181633022043714\n",
      "W1 size 263\n",
      "W2 size 18\n",
      "W3 size 10\n",
      "Using well-known algorithms: Logistic Regression, RandomForest and MLP\n"
     ]
    },
    {
     "name": "stderr",
     "output_type": "stream",
     "text": [
      "/usr/local/lib/python3.5/dist-packages/sklearn/metrics/classification.py:1135: UndefinedMetricWarning: F-score is ill-defined and being set to 0.0 in labels with no predicted samples.\n",
      "  'precision', 'predicted', average, warn_for)\n",
      "/usr/local/lib/python3.5/dist-packages/sklearn/neural_network/multilayer_perceptron.py:564: ConvergenceWarning: Stochastic Optimizer: Maximum iterations (200) reached and the optimization hasn't converged yet.\n",
      "  % self.max_iter, ConvergenceWarning)\n"
     ]
    },
    {
     "name": "stdout",
     "output_type": "stream",
     "text": [
      "Took: 90.97841882705688\n",
      "--------------------------------------------------\n",
      "En: 100\tTr: 255\n",
      "Using first variation (Regressor and Classifier with score vectors)\n",
      "epoch 0:\t20.53329531038418\n",
      "epoch 10:\t20.38065484850563\n",
      "epoch 20:\t20.22953288413299\n",
      "epoch 30:\t20.12402205082956\n",
      "epoch 40:\t20.038993611431025\n",
      "epoch 50:\t19.962946462828565\n",
      "Using second variation (average of outputs produced by each set of weight matrices)\n",
      "Epoch 0: 3.8066494212448956\n",
      "Epoch 25: 0.0122328950253651\n",
      "Epoch 50: 0.00471182860483216\n",
      "Epoch 75: 0.0030349176165791057\n",
      "Epoch 100: 0.002266569417500724\n",
      "Epoch 125: 0.0018203664827900622\n",
      "Epoch 150: 0.0015269529055281438\n",
      "W1 size 288\n",
      "W2 size 17\n",
      "W3 size 10\n",
      "Using well-known algorithms: Logistic Regression, RandomForest and MLP\n"
     ]
    },
    {
     "name": "stderr",
     "output_type": "stream",
     "text": [
      "/usr/local/lib/python3.5/dist-packages/sklearn/metrics/classification.py:1135: UndefinedMetricWarning: F-score is ill-defined and being set to 0.0 in labels with no predicted samples.\n",
      "  'precision', 'predicted', average, warn_for)\n",
      "/usr/local/lib/python3.5/dist-packages/sklearn/neural_network/multilayer_perceptron.py:564: ConvergenceWarning: Stochastic Optimizer: Maximum iterations (200) reached and the optimization hasn't converged yet.\n",
      "  % self.max_iter, ConvergenceWarning)\n"
     ]
    },
    {
     "name": "stdout",
     "output_type": "stream",
     "text": [
      "Took: 100.184396982193\n",
      "--------------------------------------------------\n",
      "En: 100\tTr: 298\n",
      "Using first variation (Regressor and Classifier with score vectors)\n",
      "epoch 0:\t22.40307981473673\n",
      "epoch 10:\t22.073163639584045\n",
      "epoch 20:\t21.707063212871006\n",
      "epoch 30:\t21.454889256026952\n",
      "epoch 40:\t21.207291124336237\n",
      "epoch 50:\t20.963480774021217\n",
      "Using second variation (average of outputs produced by each set of weight matrices)\n",
      "Epoch 0: 4.127791371790313\n",
      "Epoch 25: 0.008423940787499428\n",
      "Epoch 50: 0.003916304578324623\n",
      "Epoch 75: 0.002600052771834716\n",
      "Epoch 100: 0.0019624790545357236\n",
      "Epoch 125: 0.0015835952293043137\n",
      "Epoch 150: 0.0013314494429074806\n",
      "W1 size 311\n",
      "W2 size 17\n",
      "W3 size 10\n",
      "Using well-known algorithms: Logistic Regression, RandomForest and MLP\n"
     ]
    },
    {
     "name": "stderr",
     "output_type": "stream",
     "text": [
      "/usr/local/lib/python3.5/dist-packages/sklearn/metrics/classification.py:1135: UndefinedMetricWarning: F-score is ill-defined and being set to 0.0 in labels with no predicted samples.\n",
      "  'precision', 'predicted', average, warn_for)\n",
      "/usr/local/lib/python3.5/dist-packages/sklearn/neural_network/multilayer_perceptron.py:564: ConvergenceWarning: Stochastic Optimizer: Maximum iterations (200) reached and the optimization hasn't converged yet.\n",
      "  % self.max_iter, ConvergenceWarning)\n"
     ]
    },
    {
     "name": "stdout",
     "output_type": "stream",
     "text": [
      "Took: 117.22518038749695\n",
      "--------------------------------------------------\n",
      "En: 100\tTr: 340\n",
      "Using first variation (Regressor and Classifier with score vectors)\n",
      "epoch 0:\t24.07903340815802\n",
      "epoch 10:\t23.64074196466678\n",
      "epoch 20:\t23.325834053399312\n",
      "epoch 30:\t23.045151899184752\n",
      "epoch 40:\t22.786190170268828\n",
      "epoch 50:\t22.53908728206555\n",
      "Using second variation (average of outputs produced by each set of weight matrices)\n",
      "Epoch 0: 2.9630719550807707\n",
      "Epoch 25: 0.008553650809699966\n",
      "Epoch 50: 0.0035248827820164503\n",
      "Epoch 75: 0.0022701859520452027\n",
      "Epoch 100: 0.0016892059931033416\n",
      "Epoch 125: 0.001351650099464343\n",
      "Epoch 150: 0.0011300832235830297\n",
      "W1 size 340\n",
      "W2 size 18\n",
      "W3 size 10\n",
      "Using well-known algorithms: Logistic Regression, RandomForest and MLP\n"
     ]
    },
    {
     "name": "stderr",
     "output_type": "stream",
     "text": [
      "/usr/local/lib/python3.5/dist-packages/sklearn/metrics/classification.py:1135: UndefinedMetricWarning: F-score is ill-defined and being set to 0.0 in labels with no predicted samples.\n",
      "  'precision', 'predicted', average, warn_for)\n",
      "/usr/local/lib/python3.5/dist-packages/sklearn/neural_network/multilayer_perceptron.py:564: ConvergenceWarning: Stochastic Optimizer: Maximum iterations (200) reached and the optimization hasn't converged yet.\n",
      "  % self.max_iter, ConvergenceWarning)\n"
     ]
    },
    {
     "name": "stdout",
     "output_type": "stream",
     "text": [
      "Took: 124.81898522377014\n",
      "--------------------------------------------------\n",
      "En: 100\tTr: 382\n",
      "Using first variation (Regressor and Classifier with score vectors)\n",
      "epoch 0:\t20.866622326364734\n",
      "epoch 10:\t20.610736340309412\n",
      "epoch 20:\t20.38200761903456\n",
      "epoch 30:\t20.170417201145472\n",
      "epoch 40:\t19.98224654679707\n",
      "epoch 50:\t19.832303327998666\n",
      "Using second variation (average of outputs produced by each set of weight matrices)\n",
      "Epoch 0: 3.434237987522122\n",
      "Epoch 25: 0.008262906388455515\n",
      "Epoch 50: 0.0038024633391912904\n",
      "Epoch 75: 0.0025437708665588896\n",
      "Epoch 100: 0.0019351297811622703\n",
      "Epoch 125: 0.0015722953703886703\n",
      "Epoch 150: 0.0013297973441553403\n",
      "W1 size 357\n",
      "W2 size 18\n",
      "W3 size 10\n",
      "Using well-known algorithms: Logistic Regression, RandomForest and MLP\n"
     ]
    },
    {
     "name": "stderr",
     "output_type": "stream",
     "text": [
      "/usr/local/lib/python3.5/dist-packages/sklearn/metrics/classification.py:1135: UndefinedMetricWarning: F-score is ill-defined and being set to 0.0 in labels with no predicted samples.\n",
      "  'precision', 'predicted', average, warn_for)\n",
      "/usr/local/lib/python3.5/dist-packages/sklearn/neural_network/multilayer_perceptron.py:564: ConvergenceWarning: Stochastic Optimizer: Maximum iterations (200) reached and the optimization hasn't converged yet.\n",
      "  % self.max_iter, ConvergenceWarning)\n"
     ]
    },
    {
     "name": "stdout",
     "output_type": "stream",
     "text": [
      "Took: 142.88700222969055\n",
      "--------------------------------------------------\n",
      "En: 100\tTr: 425\n",
      "Using first variation (Regressor and Classifier with score vectors)\n",
      "epoch 0:\t20.626169663467962\n",
      "epoch 10:\t20.512026335509425\n",
      "epoch 20:\t20.4254868614776\n",
      "epoch 30:\t20.351876190626164\n",
      "epoch 40:\t20.283345289139042\n",
      "epoch 50:\t20.217522914955403\n",
      "Using second variation (average of outputs produced by each set of weight matrices)\n",
      "Epoch 0: 2.647436887797819\n",
      "Epoch 25: 0.005578014892100674\n",
      "Epoch 50: 0.0026501809136595424\n",
      "Epoch 75: 0.0017789928041083516\n",
      "Epoch 100: 0.0013533354148104796\n",
      "Epoch 125: 0.0010988416874837576\n",
      "Epoch 150: 0.0009286730170983522\n",
      "W1 size 384\n",
      "W2 size 17\n",
      "W3 size 10\n",
      "Using well-known algorithms: Logistic Regression, RandomForest and MLP\n"
     ]
    },
    {
     "name": "stderr",
     "output_type": "stream",
     "text": [
      "/usr/local/lib/python3.5/dist-packages/sklearn/metrics/classification.py:1135: UndefinedMetricWarning: F-score is ill-defined and being set to 0.0 in labels with no predicted samples.\n",
      "  'precision', 'predicted', average, warn_for)\n",
      "/usr/local/lib/python3.5/dist-packages/sklearn/neural_network/multilayer_perceptron.py:564: ConvergenceWarning: Stochastic Optimizer: Maximum iterations (200) reached and the optimization hasn't converged yet.\n",
      "  % self.max_iter, ConvergenceWarning)\n"
     ]
    },
    {
     "name": "stdout",
     "output_type": "stream",
     "text": [
      "Took: 154.21563720703125\n",
      "--------------------------------------------------\n",
      "En: 150\tTr: 42\n",
      "Using first variation (Regressor and Classifier with score vectors)\n",
      "epoch 0:\t19.649883716886237\n",
      "epoch 10:\t19.503238810572093\n",
      "epoch 20:\t19.39711644721985\n",
      "epoch 30:\t19.249497584618688\n",
      "epoch 40:\t19.082277221793525\n",
      "epoch 50:\t18.913982595834575\n",
      "Using second variation (average of outputs produced by each set of weight matrices)\n",
      "Epoch 0: 6.005330321267138\n",
      "Epoch 25: 0.020869556863146954\n",
      "Epoch 50: 0.008378783629732803\n",
      "Epoch 75: 0.005434262285651433\n",
      "Epoch 100: 0.004074254025998887\n",
      "Epoch 125: 0.0032813270471384235\n",
      "Epoch 150: 0.002758375972968944\n",
      "W1 size 177\n",
      "W2 size 16\n",
      "W3 size 10\n",
      "Using well-known algorithms: Logistic Regression, RandomForest and MLP\n"
     ]
    },
    {
     "name": "stderr",
     "output_type": "stream",
     "text": [
      "/usr/local/lib/python3.5/dist-packages/sklearn/metrics/classification.py:1135: UndefinedMetricWarning: F-score is ill-defined and being set to 0.0 in labels with no predicted samples.\n",
      "  'precision', 'predicted', average, warn_for)\n",
      "/usr/local/lib/python3.5/dist-packages/sklearn/neural_network/multilayer_perceptron.py:564: ConvergenceWarning: Stochastic Optimizer: Maximum iterations (200) reached and the optimization hasn't converged yet.\n",
      "  % self.max_iter, ConvergenceWarning)\n"
     ]
    },
    {
     "name": "stdout",
     "output_type": "stream",
     "text": [
      "Took: 60.98703742027283\n",
      "--------------------------------------------------\n",
      "En: 150\tTr: 85\n",
      "Using first variation (Regressor and Classifier with score vectors)\n",
      "epoch 0:\t18.865394388766028\n",
      "epoch 10:\t18.808935569053027\n",
      "epoch 20:\t18.772905002220035\n",
      "epoch 30:\t18.71285420667737\n",
      "epoch 40:\t18.646700089700836\n",
      "epoch 50:\t18.583617951933455\n",
      "Using second variation (average of outputs produced by each set of weight matrices)\n",
      "Epoch 0: 3.4477567327080325\n",
      "Epoch 25: 0.01004830375416331\n",
      "Epoch 50: 0.004675547536610314\n",
      "Epoch 75: 0.00310537430289114\n",
      "Epoch 100: 0.0023453231540891445\n",
      "Epoch 125: 0.001893971415797944\n",
      "Epoch 150: 0.0015937714073170064\n",
      "W1 size 212\n",
      "W2 size 18\n",
      "W3 size 10\n",
      "Using well-known algorithms: Logistic Regression, RandomForest and MLP\n"
     ]
    },
    {
     "name": "stderr",
     "output_type": "stream",
     "text": [
      "/usr/local/lib/python3.5/dist-packages/sklearn/metrics/classification.py:1135: UndefinedMetricWarning: F-score is ill-defined and being set to 0.0 in labels with no predicted samples.\n",
      "  'precision', 'predicted', average, warn_for)\n",
      "/usr/local/lib/python3.5/dist-packages/sklearn/neural_network/multilayer_perceptron.py:564: ConvergenceWarning: Stochastic Optimizer: Maximum iterations (200) reached and the optimization hasn't converged yet.\n",
      "  % self.max_iter, ConvergenceWarning)\n"
     ]
    },
    {
     "name": "stdout",
     "output_type": "stream",
     "text": [
      "Took: 69.80442976951599\n",
      "--------------------------------------------------\n",
      "En: 150\tTr: 128\n",
      "Using first variation (Regressor and Classifier with score vectors)\n",
      "epoch 0:\t20.883416962932003\n",
      "epoch 10:\t20.71696473634108\n",
      "epoch 20:\t20.580363871186947\n",
      "epoch 30:\t20.412132956349687\n",
      "epoch 40:\t20.27246585063824\n",
      "epoch 50:\t20.14742840236362\n",
      "Using second variation (average of outputs produced by each set of weight matrices)\n",
      "Epoch 0: 3.782632092414787\n",
      "Epoch 25: 0.011642283588241119\n",
      "Epoch 50: 0.004775619664054958\n",
      "Epoch 75: 0.0031535504646147804\n",
      "Epoch 100: 0.0023884376513356683\n",
      "Epoch 125: 0.0019361814124357723\n",
      "Epoch 150: 0.0016351849080313522\n",
      "W1 size 235\n",
      "W2 size 18\n",
      "W3 size 10\n",
      "Using well-known algorithms: Logistic Regression, RandomForest and MLP\n"
     ]
    },
    {
     "name": "stderr",
     "output_type": "stream",
     "text": [
      "/usr/local/lib/python3.5/dist-packages/sklearn/metrics/classification.py:1135: UndefinedMetricWarning: F-score is ill-defined and being set to 0.0 in labels with no predicted samples.\n",
      "  'precision', 'predicted', average, warn_for)\n",
      "/usr/local/lib/python3.5/dist-packages/sklearn/neural_network/multilayer_perceptron.py:564: ConvergenceWarning: Stochastic Optimizer: Maximum iterations (200) reached and the optimization hasn't converged yet.\n",
      "  % self.max_iter, ConvergenceWarning)\n"
     ]
    },
    {
     "name": "stdout",
     "output_type": "stream",
     "text": [
      "Took: 81.34507846832275\n",
      "--------------------------------------------------\n",
      "En: 150\tTr: 170\n",
      "Using first variation (Regressor and Classifier with score vectors)\n",
      "epoch 0:\t23.327857039150796\n",
      "epoch 10:\t23.039391187098026\n",
      "epoch 20:\t22.797319260888592\n",
      "epoch 30:\t22.556379222745953\n",
      "epoch 40:\t22.352569826159197\n",
      "epoch 50:\t22.111767380845983\n",
      "Using second variation (average of outputs produced by each set of weight matrices)\n",
      "Epoch 0: 4.1292879393016735\n",
      "Epoch 25: 0.03237795784515356\n",
      "Epoch 50: 0.007149250620236103\n",
      "Epoch 75: 0.0040032159808951915\n",
      "Epoch 100: 0.002884856430489435\n",
      "Epoch 125: 0.002282008640264621\n",
      "Epoch 150: 0.0018994004681744058\n",
      "W1 size 282\n",
      "W2 size 18\n",
      "W3 size 10\n",
      "Using well-known algorithms: Logistic Regression, RandomForest and MLP\n"
     ]
    },
    {
     "name": "stderr",
     "output_type": "stream",
     "text": [
      "/usr/local/lib/python3.5/dist-packages/sklearn/metrics/classification.py:1135: UndefinedMetricWarning: F-score is ill-defined and being set to 0.0 in labels with no predicted samples.\n",
      "  'precision', 'predicted', average, warn_for)\n",
      "/usr/local/lib/python3.5/dist-packages/sklearn/neural_network/multilayer_perceptron.py:564: ConvergenceWarning: Stochastic Optimizer: Maximum iterations (200) reached and the optimization hasn't converged yet.\n",
      "  % self.max_iter, ConvergenceWarning)\n"
     ]
    },
    {
     "name": "stdout",
     "output_type": "stream",
     "text": [
      "Took: 89.83279013633728\n",
      "--------------------------------------------------\n",
      "En: 150\tTr: 212\n",
      "Using first variation (Regressor and Classifier with score vectors)\n",
      "epoch 0:\t19.69406424494737\n",
      "epoch 10:\t19.600345306317333\n",
      "epoch 20:\t19.52533806104433\n",
      "epoch 30:\t19.439981890316123\n",
      "epoch 40:\t19.354190600798095\n",
      "epoch 50:\t19.279805967281455\n",
      "Using second variation (average of outputs produced by each set of weight matrices)\n",
      "Epoch 0: 4.008561255108914\n",
      "Epoch 25: 0.027832489382825887\n",
      "Epoch 50: 0.008484068763430913\n",
      "Epoch 75: 0.005274765337175097\n",
      "Epoch 100: 0.003914432302827822\n",
      "Epoch 125: 0.003143176647196041\n",
      "Epoch 150: 0.002640925605641589\n",
      "W1 size 303\n",
      "W2 size 18\n",
      "W3 size 10\n",
      "Using well-known algorithms: Logistic Regression, RandomForest and MLP\n"
     ]
    },
    {
     "name": "stderr",
     "output_type": "stream",
     "text": [
      "/usr/local/lib/python3.5/dist-packages/sklearn/metrics/classification.py:1135: UndefinedMetricWarning: F-score is ill-defined and being set to 0.0 in labels with no predicted samples.\n",
      "  'precision', 'predicted', average, warn_for)\n",
      "/usr/local/lib/python3.5/dist-packages/sklearn/neural_network/multilayer_perceptron.py:564: ConvergenceWarning: Stochastic Optimizer: Maximum iterations (200) reached and the optimization hasn't converged yet.\n",
      "  % self.max_iter, ConvergenceWarning)\n"
     ]
    },
    {
     "name": "stdout",
     "output_type": "stream",
     "text": [
      "Took: 99.34575462341309\n",
      "--------------------------------------------------\n",
      "En: 150\tTr: 255\n",
      "Using first variation (Regressor and Classifier with score vectors)\n",
      "epoch 0:\t23.98804956617248\n",
      "epoch 10:\t23.681848657546826\n",
      "epoch 20:\t23.382652460823458\n",
      "epoch 30:\t23.129546787761676\n",
      "epoch 40:\t22.858577243676834\n",
      "epoch 50:\t22.59003801920406\n",
      "Using second variation (average of outputs produced by each set of weight matrices)\n",
      "Epoch 0: 2.3384286257463605\n",
      "Epoch 25: 0.007987844358408606\n",
      "Epoch 50: 0.0034269213119701527\n",
      "Epoch 75: 0.0022246326297164034\n",
      "Epoch 100: 0.001660983342156686\n",
      "Epoch 125: 0.0013317801818954179\n",
      "Epoch 150: 0.0011150767929049756\n",
      "W1 size 333\n",
      "W2 size 18\n",
      "W3 size 10\n",
      "Using well-known algorithms: Logistic Regression, RandomForest and MLP\n"
     ]
    },
    {
     "name": "stderr",
     "output_type": "stream",
     "text": [
      "/usr/local/lib/python3.5/dist-packages/sklearn/metrics/classification.py:1135: UndefinedMetricWarning: F-score is ill-defined and being set to 0.0 in labels with no predicted samples.\n",
      "  'precision', 'predicted', average, warn_for)\n"
     ]
    },
    {
     "name": "stdout",
     "output_type": "stream",
     "text": [
      "Took: 115.12767601013184\n",
      "--------------------------------------------------\n",
      "En: 150\tTr: 298\n",
      "Using first variation (Regressor and Classifier with score vectors)\n",
      "epoch 0:\t22.185509903379703\n",
      "epoch 10:\t21.977018358482304\n",
      "epoch 20:\t21.706812786200935\n",
      "epoch 30:\t21.468986448718226\n",
      "epoch 40:\t21.214994007591287\n",
      "epoch 50:\t20.961506493928603\n"
     ]
    },
    {
     "name": "stderr",
     "output_type": "stream",
     "text": [
      "/usr/local/lib/python3.5/dist-packages/sklearn/neural_network/multilayer_perceptron.py:564: ConvergenceWarning: Stochastic Optimizer: Maximum iterations (200) reached and the optimization hasn't converged yet.\n",
      "  % self.max_iter, ConvergenceWarning)\n"
     ]
    },
    {
     "name": "stdout",
     "output_type": "stream",
     "text": [
      "Using second variation (average of outputs produced by each set of weight matrices)\n",
      "Epoch 0: 4.2489873529679505\n",
      "Epoch 25: 0.024705857229158874\n",
      "Epoch 50: 0.006780014920862649\n",
      "Epoch 75: 0.004067354740880903\n",
      "Epoch 100: 0.002956459388175046\n",
      "Epoch 125: 0.0023392368418504767\n",
      "Epoch 150: 0.0019432248774476437\n",
      "W1 size 349\n",
      "W2 size 18\n",
      "W3 size 10\n",
      "Using well-known algorithms: Logistic Regression, RandomForest and MLP\n"
     ]
    },
    {
     "name": "stderr",
     "output_type": "stream",
     "text": [
      "/usr/local/lib/python3.5/dist-packages/sklearn/metrics/classification.py:1135: UndefinedMetricWarning: F-score is ill-defined and being set to 0.0 in labels with no predicted samples.\n",
      "  'precision', 'predicted', average, warn_for)\n",
      "/usr/local/lib/python3.5/dist-packages/sklearn/neural_network/multilayer_perceptron.py:564: ConvergenceWarning: Stochastic Optimizer: Maximum iterations (200) reached and the optimization hasn't converged yet.\n",
      "  % self.max_iter, ConvergenceWarning)\n"
     ]
    },
    {
     "name": "stdout",
     "output_type": "stream",
     "text": [
      "Took: 127.3035671710968\n",
      "--------------------------------------------------\n",
      "En: 150\tTr: 340\n",
      "Using first variation (Regressor and Classifier with score vectors)\n",
      "epoch 0:\t23.37705934021999\n",
      "epoch 10:\t23.040742992161416\n",
      "epoch 20:\t22.74508499442208\n",
      "epoch 30:\t22.437204606535616\n",
      "epoch 40:\t22.146904371011527\n",
      "epoch 50:\t21.872608043510265\n",
      "Using second variation (average of outputs produced by each set of weight matrices)\n",
      "Epoch 0: 3.3968653580842347\n",
      "Epoch 25: 0.010482302435446176\n",
      "Epoch 50: 0.0041492793412498015\n",
      "Epoch 75: 0.0026529226652969\n",
      "Epoch 100: 0.0019688020884250455\n",
      "Epoch 125: 0.0015733940318921446\n",
      "Epoch 150: 0.00131460037762281\n",
      "W1 size 381\n",
      "W2 size 18\n",
      "W3 size 10\n",
      "Using well-known algorithms: Logistic Regression, RandomForest and MLP\n"
     ]
    },
    {
     "name": "stderr",
     "output_type": "stream",
     "text": [
      "/usr/local/lib/python3.5/dist-packages/sklearn/metrics/classification.py:1135: UndefinedMetricWarning: F-score is ill-defined and being set to 0.0 in labels with no predicted samples.\n",
      "  'precision', 'predicted', average, warn_for)\n",
      "/usr/local/lib/python3.5/dist-packages/sklearn/neural_network/multilayer_perceptron.py:564: ConvergenceWarning: Stochastic Optimizer: Maximum iterations (200) reached and the optimization hasn't converged yet.\n",
      "  % self.max_iter, ConvergenceWarning)\n"
     ]
    },
    {
     "name": "stdout",
     "output_type": "stream",
     "text": [
      "Took: 144.66939568519592\n",
      "--------------------------------------------------\n",
      "En: 150\tTr: 382\n",
      "Using first variation (Regressor and Classifier with score vectors)\n",
      "epoch 0:\t20.998231372955694\n",
      "epoch 10:\t20.875259973946857\n",
      "epoch 20:\t20.757702476057222\n",
      "epoch 30:\t20.641912624300918\n",
      "epoch 40:\t20.5269922620324\n",
      "epoch 50:\t20.41170525143047\n",
      "Using second variation (average of outputs produced by each set of weight matrices)\n",
      "Epoch 0: 1.7118906925508464\n",
      "Epoch 25: 0.004180391940264569\n",
      "Epoch 50: 0.001998176774670011\n",
      "Epoch 75: 0.0013320008452426468\n",
      "Epoch 100: 0.0010059339794835918\n",
      "Epoch 125: 0.0008115318268308083\n",
      "Epoch 150: 0.0006820452035753453\n",
      "W1 size 396\n",
      "W2 size 18\n",
      "W3 size 10\n",
      "Using well-known algorithms: Logistic Regression, RandomForest and MLP\n"
     ]
    },
    {
     "name": "stderr",
     "output_type": "stream",
     "text": [
      "/usr/local/lib/python3.5/dist-packages/sklearn/metrics/classification.py:1135: UndefinedMetricWarning: F-score is ill-defined and being set to 0.0 in labels with no predicted samples.\n",
      "  'precision', 'predicted', average, warn_for)\n",
      "/usr/local/lib/python3.5/dist-packages/sklearn/neural_network/multilayer_perceptron.py:564: ConvergenceWarning: Stochastic Optimizer: Maximum iterations (200) reached and the optimization hasn't converged yet.\n",
      "  % self.max_iter, ConvergenceWarning)\n"
     ]
    },
    {
     "name": "stdout",
     "output_type": "stream",
     "text": [
      "Took: 151.4055106639862\n",
      "--------------------------------------------------\n",
      "En: 150\tTr: 425\n",
      "Using first variation (Regressor and Classifier with score vectors)\n",
      "epoch 0:\t19.802096505101247\n",
      "epoch 10:\t19.747683846752928\n",
      "epoch 20:\t19.658532512947215\n",
      "epoch 30:\t19.571433711388575\n",
      "epoch 40:\t19.489780955031925\n",
      "epoch 50:\t19.413056561938888\n",
      "Using second variation (average of outputs produced by each set of weight matrices)\n",
      "Epoch 0: 3.072049654908948\n",
      "Epoch 25: 0.0077842380215929555\n",
      "Epoch 50: 0.003578355752254874\n",
      "Epoch 75: 0.002385850240324712\n",
      "Epoch 100: 0.0018084289169201424\n",
      "Epoch 125: 0.0014640790930285595\n",
      "Epoch 150: 0.001234027208825301\n",
      "W1 size 421\n",
      "W2 size 18\n",
      "W3 size 10\n",
      "Using well-known algorithms: Logistic Regression, RandomForest and MLP\n"
     ]
    },
    {
     "name": "stderr",
     "output_type": "stream",
     "text": [
      "/usr/local/lib/python3.5/dist-packages/sklearn/metrics/classification.py:1135: UndefinedMetricWarning: F-score is ill-defined and being set to 0.0 in labels with no predicted samples.\n",
      "  'precision', 'predicted', average, warn_for)\n",
      "/usr/local/lib/python3.5/dist-packages/sklearn/neural_network/multilayer_perceptron.py:564: ConvergenceWarning: Stochastic Optimizer: Maximum iterations (200) reached and the optimization hasn't converged yet.\n",
      "  % self.max_iter, ConvergenceWarning)\n"
     ]
    },
    {
     "name": "stdout",
     "output_type": "stream",
     "text": [
      "Took: 160.651296377182\n",
      "--------------------------------------------------\n",
      "En: 200\tTr: 42\n",
      "Using first variation (Regressor and Classifier with score vectors)\n",
      "epoch 0:\t18.850159841510052\n",
      "epoch 10:\t18.732799932114137\n",
      "epoch 20:\t18.603118776449293\n",
      "epoch 30:\t18.43547953793983\n",
      "epoch 40:\t18.29918262328559\n",
      "epoch 50:\t18.179631708527435\n",
      "Using second variation (average of outputs produced by each set of weight matrices)\n",
      "Epoch 0: 5.49617702703084\n",
      "Epoch 25: 0.01740864625890308\n",
      "Epoch 50: 0.006440783780036338\n",
      "Epoch 75: 0.004116968800434835\n",
      "Epoch 100: 0.003062088116814533\n",
      "Epoch 125: 0.002452128210662261\n",
      "Epoch 150: 0.002052190793797299\n",
      "W1 size 219\n",
      "W2 size 18\n",
      "W3 size 10\n",
      "Using well-known algorithms: Logistic Regression, RandomForest and MLP\n"
     ]
    },
    {
     "name": "stderr",
     "output_type": "stream",
     "text": [
      "/usr/local/lib/python3.5/dist-packages/sklearn/metrics/classification.py:1135: UndefinedMetricWarning: F-score is ill-defined and being set to 0.0 in labels with no predicted samples.\n",
      "  'precision', 'predicted', average, warn_for)\n"
     ]
    },
    {
     "name": "stdout",
     "output_type": "stream",
     "text": [
      "Took: 70.06378483772278\n",
      "--------------------------------------------------\n",
      "En: 200\tTr: 85\n",
      "Using first variation (Regressor and Classifier with score vectors)\n",
      "epoch 0:\t20.23466450005729\n",
      "epoch 10:\t20.07539994925902\n",
      "epoch 20:\t19.928764831763196\n",
      "epoch 30:\t19.820015159828973\n",
      "epoch 40:\t19.734181316809735\n",
      "epoch 50:\t19.654843350334186\n",
      "Using second variation (average of outputs produced by each set of weight matrices)\n",
      "Epoch 0: 4.925955135430099\n",
      "Epoch 25: 0.016955202670484587\n",
      "Epoch 50: 0.006918000196374283\n",
      "Epoch 75: 0.004458648221096857\n",
      "Epoch 100: 0.0033221051064142477\n",
      "Epoch 125: 0.0026610951608091182\n",
      "Epoch 150: 0.002226560462600789\n",
      "W1 size 252\n",
      "W2 size 18\n",
      "W3 size 10\n",
      "Using well-known algorithms: Logistic Regression, RandomForest and MLP\n"
     ]
    },
    {
     "name": "stderr",
     "output_type": "stream",
     "text": [
      "/usr/local/lib/python3.5/dist-packages/sklearn/metrics/classification.py:1135: UndefinedMetricWarning: F-score is ill-defined and being set to 0.0 in labels with no predicted samples.\n",
      "  'precision', 'predicted', average, warn_for)\n",
      "/usr/local/lib/python3.5/dist-packages/sklearn/neural_network/multilayer_perceptron.py:564: ConvergenceWarning: Stochastic Optimizer: Maximum iterations (200) reached and the optimization hasn't converged yet.\n",
      "  % self.max_iter, ConvergenceWarning)\n"
     ]
    },
    {
     "name": "stdout",
     "output_type": "stream",
     "text": [
      "Took: 82.58386039733887\n",
      "--------------------------------------------------\n",
      "En: 200\tTr: 128\n",
      "Using first variation (Regressor and Classifier with score vectors)\n",
      "epoch 0:\t20.965253025979695\n",
      "epoch 10:\t20.78114769315372\n",
      "epoch 20:\t20.45266212117182\n",
      "epoch 30:\t20.213369711745237\n",
      "epoch 40:\t20.005465536958532\n",
      "epoch 50:\t19.78405647803015\n",
      "Using second variation (average of outputs produced by each set of weight matrices)\n",
      "Epoch 0: 3.7945872174278277\n",
      "Epoch 25: 0.009065632466155332\n",
      "Epoch 50: 0.004275461433172584\n",
      "Epoch 75: 0.0028376618998745416\n",
      "Epoch 100: 0.0021372180016651495\n",
      "Epoch 125: 0.0017202126965941726\n",
      "Epoch 150: 0.0014425807707993954\n",
      "W1 size 293\n",
      "W2 size 16\n",
      "W3 size 10\n",
      "Using well-known algorithms: Logistic Regression, RandomForest and MLP\n"
     ]
    },
    {
     "name": "stderr",
     "output_type": "stream",
     "text": [
      "/usr/local/lib/python3.5/dist-packages/sklearn/metrics/classification.py:1135: UndefinedMetricWarning: F-score is ill-defined and being set to 0.0 in labels with no predicted samples.\n",
      "  'precision', 'predicted', average, warn_for)\n",
      "/usr/local/lib/python3.5/dist-packages/sklearn/neural_network/multilayer_perceptron.py:564: ConvergenceWarning: Stochastic Optimizer: Maximum iterations (200) reached and the optimization hasn't converged yet.\n",
      "  % self.max_iter, ConvergenceWarning)\n"
     ]
    },
    {
     "name": "stdout",
     "output_type": "stream",
     "text": [
      "Took: 98.82597422599792\n",
      "--------------------------------------------------\n",
      "En: 200\tTr: 170\n",
      "Using first variation (Regressor and Classifier with score vectors)\n",
      "epoch 0:\t23.13776879815656\n",
      "epoch 10:\t22.907679319340325\n",
      "epoch 20:\t22.534828963697883\n",
      "epoch 30:\t22.288570991892684\n",
      "epoch 40:\t22.037676240560536\n",
      "epoch 50:\t21.795560682155536\n",
      "Using second variation (average of outputs produced by each set of weight matrices)\n",
      "Epoch 0: 4.20372783505512\n",
      "Epoch 25: 0.010389447693051881\n",
      "Epoch 50: 0.0043819996844438325\n",
      "Epoch 75: 0.0028629653553885826\n",
      "Epoch 100: 0.002150915826640001\n",
      "Epoch 125: 0.0017335799935445672\n",
      "Epoch 150: 0.0014577498218374318\n",
      "W1 size 315\n",
      "W2 size 18\n",
      "W3 size 10\n",
      "Using well-known algorithms: Logistic Regression, RandomForest and MLP\n"
     ]
    },
    {
     "name": "stderr",
     "output_type": "stream",
     "text": [
      "/usr/local/lib/python3.5/dist-packages/sklearn/metrics/classification.py:1135: UndefinedMetricWarning: F-score is ill-defined and being set to 0.0 in labels with no predicted samples.\n",
      "  'precision', 'predicted', average, warn_for)\n",
      "/usr/local/lib/python3.5/dist-packages/sklearn/neural_network/multilayer_perceptron.py:564: ConvergenceWarning: Stochastic Optimizer: Maximum iterations (200) reached and the optimization hasn't converged yet.\n",
      "  % self.max_iter, ConvergenceWarning)\n"
     ]
    },
    {
     "name": "stdout",
     "output_type": "stream",
     "text": [
      "Took: 110.7064688205719\n",
      "--------------------------------------------------\n",
      "En: 200\tTr: 212\n",
      "Using first variation (Regressor and Classifier with score vectors)\n",
      "epoch 0:\t22.37593665225891\n",
      "epoch 10:\t22.144519875981654\n",
      "epoch 20:\t22.006807156241116\n",
      "epoch 30:\t21.918083699188387\n",
      "epoch 40:\t21.823804410405224\n",
      "epoch 50:\t21.71195464333182\n",
      "Using second variation (average of outputs produced by each set of weight matrices)\n",
      "Epoch 0: 4.652636155246804\n",
      "Epoch 25: 0.010360637980645147\n",
      "Epoch 50: 0.004286526904774663\n",
      "Epoch 75: 0.002772760232351525\n",
      "Epoch 100: 0.0020688527760604745\n",
      "Epoch 125: 0.0016581212250387385\n",
      "Epoch 150: 0.001387546924144738\n",
      "W1 size 352\n",
      "W2 size 18\n",
      "W3 size 10\n",
      "Using well-known algorithms: Logistic Regression, RandomForest and MLP\n"
     ]
    },
    {
     "name": "stderr",
     "output_type": "stream",
     "text": [
      "/usr/local/lib/python3.5/dist-packages/sklearn/metrics/classification.py:1135: UndefinedMetricWarning: F-score is ill-defined and being set to 0.0 in labels with no predicted samples.\n",
      "  'precision', 'predicted', average, warn_for)\n"
     ]
    },
    {
     "name": "stdout",
     "output_type": "stream",
     "text": [
      "Took: 119.707204580307\n",
      "--------------------------------------------------\n",
      "En: 200\tTr: 255\n",
      "Using first variation (Regressor and Classifier with score vectors)\n",
      "epoch 0:\t22.16440593686394\n",
      "epoch 10:\t21.902527171430428\n",
      "epoch 20:\t21.745106504575133\n",
      "epoch 30:\t21.583151941483127\n",
      "epoch 40:\t21.41075218173704\n",
      "epoch 50:\t21.25653797890331\n",
      "Using second variation (average of outputs produced by each set of weight matrices)\n",
      "Epoch 0: 3.881913296078654\n",
      "Epoch 25: 0.009294634724258954\n",
      "Epoch 50: 0.004242288991118475\n",
      "Epoch 75: 0.0028064270193214054\n",
      "Epoch 100: 0.0021163121321231323\n",
      "Epoch 125: 0.0017075430830466977\n",
      "Epoch 150: 0.001435949598140014\n",
      "W1 size 364\n",
      "W2 size 18\n",
      "W3 size 10\n",
      "Using well-known algorithms: Logistic Regression, RandomForest and MLP\n"
     ]
    },
    {
     "name": "stderr",
     "output_type": "stream",
     "text": [
      "/usr/local/lib/python3.5/dist-packages/sklearn/metrics/classification.py:1135: UndefinedMetricWarning: F-score is ill-defined and being set to 0.0 in labels with no predicted samples.\n",
      "  'precision', 'predicted', average, warn_for)\n"
     ]
    },
    {
     "name": "stdout",
     "output_type": "stream",
     "text": [
      "Took: 135.27139401435852\n",
      "--------------------------------------------------\n",
      "En: 200\tTr: 298\n",
      "Using first variation (Regressor and Classifier with score vectors)\n",
      "epoch 0:\t29.215992593000827\n",
      "epoch 10:\t28.85923166811919\n",
      "epoch 20:\t28.633567438423682\n",
      "epoch 30:\t28.312054925597828\n",
      "epoch 40:\t28.014256786515592\n",
      "epoch 50:\t27.75316526485671\n",
      "Using second variation (average of outputs produced by each set of weight matrices)\n",
      "Epoch 0: 2.3311596925343725\n",
      "Epoch 25: 0.005929192488202657\n",
      "Epoch 50: 0.002654046329650746\n",
      "Epoch 75: 0.0017404803266363063\n",
      "Epoch 100: 0.0013047157760970969\n",
      "Epoch 125: 0.0010479862422222738\n",
      "Epoch 150: 0.0008781344074041172\n",
      "W1 size 390\n",
      "W2 size 18\n",
      "W3 size 10\n",
      "Using well-known algorithms: Logistic Regression, RandomForest and MLP\n"
     ]
    },
    {
     "name": "stderr",
     "output_type": "stream",
     "text": [
      "/usr/local/lib/python3.5/dist-packages/sklearn/metrics/classification.py:1135: UndefinedMetricWarning: F-score is ill-defined and being set to 0.0 in labels with no predicted samples.\n",
      "  'precision', 'predicted', average, warn_for)\n",
      "/usr/local/lib/python3.5/dist-packages/sklearn/neural_network/multilayer_perceptron.py:564: ConvergenceWarning: Stochastic Optimizer: Maximum iterations (200) reached and the optimization hasn't converged yet.\n",
      "  % self.max_iter, ConvergenceWarning)\n"
     ]
    },
    {
     "name": "stdout",
     "output_type": "stream",
     "text": [
      "Took: 151.47569131851196\n",
      "--------------------------------------------------\n",
      "En: 200\tTr: 340\n",
      "Using first variation (Regressor and Classifier with score vectors)\n",
      "epoch 0:\t20.691337590891457\n",
      "epoch 10:\t20.493781692700697\n",
      "epoch 20:\t20.385215799337754\n",
      "epoch 30:\t20.229530243701618\n",
      "epoch 40:\t20.08910452962175\n",
      "epoch 50:\t19.97294726883486\n",
      "Using second variation (average of outputs produced by each set of weight matrices)\n",
      "Epoch 0: 2.604401996055562\n",
      "Epoch 25: 0.006920125933740766\n",
      "Epoch 50: 0.0031510338991709986\n",
      "Epoch 75: 0.0020834545658207962\n",
      "Epoch 100: 0.0015687718656068825\n",
      "Epoch 125: 0.001263482456305151\n",
      "Epoch 150: 0.0010605174186332955\n",
      "W1 size 423\n",
      "W2 size 18\n",
      "W3 size 10\n",
      "Using well-known algorithms: Logistic Regression, RandomForest and MLP\n"
     ]
    },
    {
     "name": "stderr",
     "output_type": "stream",
     "text": [
      "/usr/local/lib/python3.5/dist-packages/sklearn/metrics/classification.py:1135: UndefinedMetricWarning: F-score is ill-defined and being set to 0.0 in labels with no predicted samples.\n",
      "  'precision', 'predicted', average, warn_for)\n",
      "/usr/local/lib/python3.5/dist-packages/sklearn/neural_network/multilayer_perceptron.py:564: ConvergenceWarning: Stochastic Optimizer: Maximum iterations (200) reached and the optimization hasn't converged yet.\n",
      "  % self.max_iter, ConvergenceWarning)\n"
     ]
    },
    {
     "name": "stdout",
     "output_type": "stream",
     "text": [
      "Took: 163.50263953208923\n",
      "--------------------------------------------------\n",
      "En: 200\tTr: 382\n",
      "Using first variation (Regressor and Classifier with score vectors)\n",
      "epoch 0:\t20.930532793787332\n",
      "epoch 10:\t20.697140243195904\n",
      "epoch 20:\t20.565888345968585\n",
      "epoch 30:\t20.46999065262397\n",
      "epoch 40:\t20.390274067907345\n",
      "epoch 50:\t20.31986669958528\n",
      "Using second variation (average of outputs produced by each set of weight matrices)\n",
      "Epoch 0: 2.33686215915479\n",
      "Epoch 25: 0.007420687309089756\n",
      "Epoch 50: 0.002959571916911998\n",
      "Epoch 75: 0.00192579401780026\n",
      "Epoch 100: 0.0014454815035020042\n",
      "Epoch 125: 0.0011645304277869382\n",
      "Epoch 150: 0.0009789702909934086\n",
      "W1 size 436\n",
      "W2 size 18\n",
      "W3 size 10\n",
      "Using well-known algorithms: Logistic Regression, RandomForest and MLP\n"
     ]
    },
    {
     "name": "stderr",
     "output_type": "stream",
     "text": [
      "/usr/local/lib/python3.5/dist-packages/sklearn/metrics/classification.py:1135: UndefinedMetricWarning: F-score is ill-defined and being set to 0.0 in labels with no predicted samples.\n",
      "  'precision', 'predicted', average, warn_for)\n",
      "/usr/local/lib/python3.5/dist-packages/sklearn/neural_network/multilayer_perceptron.py:564: ConvergenceWarning: Stochastic Optimizer: Maximum iterations (200) reached and the optimization hasn't converged yet.\n",
      "  % self.max_iter, ConvergenceWarning)\n"
     ]
    },
    {
     "name": "stdout",
     "output_type": "stream",
     "text": [
      "Took: 175.08050346374512\n",
      "--------------------------------------------------\n",
      "En: 200\tTr: 425\n",
      "Using first variation (Regressor and Classifier with score vectors)\n",
      "epoch 0:\t24.099674495856995\n",
      "epoch 10:\t23.589831243249353\n",
      "epoch 20:\t23.231873207224204\n",
      "epoch 30:\t22.917399319834765\n",
      "epoch 40:\t22.624228858822246\n",
      "epoch 50:\t22.32740670005202\n",
      "Using second variation (average of outputs produced by each set of weight matrices)\n",
      "Epoch 0: 1.8615913060009992\n",
      "Epoch 25: 0.006817727735225299\n",
      "Epoch 50: 0.0028380744155054346\n",
      "Epoch 75: 0.0018401652736510642\n",
      "Epoch 100: 0.001377199510638502\n",
      "Epoch 125: 0.0011076146491220242\n",
      "Epoch 150: 0.0009302501319496287\n",
      "W1 size 464\n",
      "W2 size 18\n",
      "W3 size 10\n",
      "Using well-known algorithms: Logistic Regression, RandomForest and MLP\n"
     ]
    },
    {
     "name": "stderr",
     "output_type": "stream",
     "text": [
      "/usr/local/lib/python3.5/dist-packages/sklearn/metrics/classification.py:1135: UndefinedMetricWarning: F-score is ill-defined and being set to 0.0 in labels with no predicted samples.\n",
      "  'precision', 'predicted', average, warn_for)\n",
      "/usr/local/lib/python3.5/dist-packages/sklearn/neural_network/multilayer_perceptron.py:564: ConvergenceWarning: Stochastic Optimizer: Maximum iterations (200) reached and the optimization hasn't converged yet.\n",
      "  % self.max_iter, ConvergenceWarning)\n"
     ]
    },
    {
     "name": "stdout",
     "output_type": "stream",
     "text": [
      "Took: 187.86652660369873\n",
      "--------------------------------------------------\n",
      "En: 250\tTr: 42\n",
      "Using first variation (Regressor and Classifier with score vectors)\n",
      "epoch 0:\t24.896634859646223\n",
      "epoch 10:\t24.697943803498152\n",
      "epoch 20:\t24.47413305883041\n",
      "epoch 30:\t24.22388240706295\n",
      "epoch 40:\t24.008013533894918\n",
      "epoch 50:\t23.808846005196642\n",
      "Using second variation (average of outputs produced by each set of weight matrices)\n",
      "Epoch 0: 4.532806222261221\n",
      "Epoch 25: 0.011718164105350795\n",
      "Epoch 50: 0.005163075205952319\n",
      "Epoch 75: 0.0033850313171057355\n",
      "Epoch 100: 0.0025406973984904778\n",
      "Epoch 125: 0.0020439550298910775\n",
      "Epoch 150: 0.0017154741305892517\n",
      "W1 size 253\n",
      "W2 size 15\n",
      "W3 size 10\n",
      "Using well-known algorithms: Logistic Regression, RandomForest and MLP\n"
     ]
    },
    {
     "name": "stderr",
     "output_type": "stream",
     "text": [
      "/usr/local/lib/python3.5/dist-packages/sklearn/metrics/classification.py:1135: UndefinedMetricWarning: F-score is ill-defined and being set to 0.0 in labels with no predicted samples.\n",
      "  'precision', 'predicted', average, warn_for)\n",
      "/usr/local/lib/python3.5/dist-packages/sklearn/neural_network/multilayer_perceptron.py:564: ConvergenceWarning: Stochastic Optimizer: Maximum iterations (200) reached and the optimization hasn't converged yet.\n",
      "  % self.max_iter, ConvergenceWarning)\n"
     ]
    },
    {
     "name": "stdout",
     "output_type": "stream",
     "text": [
      "Took: 89.87330603599548\n",
      "--------------------------------------------------\n",
      "En: 250\tTr: 85\n",
      "Using first variation (Regressor and Classifier with score vectors)\n",
      "epoch 0:\t24.611297611585286\n",
      "epoch 10:\t24.269390147518216\n",
      "epoch 20:\t23.994555062789935\n",
      "epoch 30:\t23.6742889833337\n",
      "epoch 40:\t23.348925153019177\n",
      "epoch 50:\t23.053489731812668\n",
      "Using second variation (average of outputs produced by each set of weight matrices)\n",
      "Epoch 0: 5.4756082496185545\n",
      "Epoch 25: 0.01676214780586362\n",
      "Epoch 50: 0.0064031734763585835\n",
      "Epoch 75: 0.0041371953830036156\n",
      "Epoch 100: 0.003107971168490065\n",
      "Epoch 125: 0.0025113391181531683\n",
      "Epoch 150: 0.0021187370404961133\n",
      "W1 size 296\n",
      "W2 size 18\n",
      "W3 size 10\n",
      "Using well-known algorithms: Logistic Regression, RandomForest and MLP\n"
     ]
    },
    {
     "name": "stderr",
     "output_type": "stream",
     "text": [
      "/usr/local/lib/python3.5/dist-packages/sklearn/metrics/classification.py:1135: UndefinedMetricWarning: F-score is ill-defined and being set to 0.0 in labels with no predicted samples.\n",
      "  'precision', 'predicted', average, warn_for)\n",
      "/usr/local/lib/python3.5/dist-packages/sklearn/neural_network/multilayer_perceptron.py:564: ConvergenceWarning: Stochastic Optimizer: Maximum iterations (200) reached and the optimization hasn't converged yet.\n",
      "  % self.max_iter, ConvergenceWarning)\n"
     ]
    },
    {
     "name": "stdout",
     "output_type": "stream",
     "text": [
      "Took: 105.29214525222778\n",
      "--------------------------------------------------\n",
      "En: 250\tTr: 128\n",
      "Using first variation (Regressor and Classifier with score vectors)\n",
      "epoch 0:\t20.044591283410167\n",
      "epoch 10:\t19.93542239443463\n",
      "epoch 20:\t19.820783883491846\n",
      "epoch 30:\t19.730909071351668\n",
      "epoch 40:\t19.62067708488992\n",
      "epoch 50:\t19.496529274478352\n",
      "Using second variation (average of outputs produced by each set of weight matrices)\n",
      "Epoch 0: 2.9783559439175797\n",
      "Epoch 25: 0.009279517280231386\n",
      "Epoch 50: 0.0039285194031711615\n",
      "Epoch 75: 0.0025672245007140894\n",
      "Epoch 100: 0.001926773346930024\n",
      "Epoch 125: 0.0015509497273817625\n",
      "Epoch 150: 0.0013025704832956074\n",
      "W1 size 331\n",
      "W2 size 18\n",
      "W3 size 10\n",
      "Using well-known algorithms: Logistic Regression, RandomForest and MLP\n"
     ]
    },
    {
     "name": "stderr",
     "output_type": "stream",
     "text": [
      "/usr/local/lib/python3.5/dist-packages/sklearn/metrics/classification.py:1135: UndefinedMetricWarning: F-score is ill-defined and being set to 0.0 in labels with no predicted samples.\n",
      "  'precision', 'predicted', average, warn_for)\n",
      "/usr/local/lib/python3.5/dist-packages/sklearn/neural_network/multilayer_perceptron.py:564: ConvergenceWarning: Stochastic Optimizer: Maximum iterations (200) reached and the optimization hasn't converged yet.\n",
      "  % self.max_iter, ConvergenceWarning)\n"
     ]
    },
    {
     "name": "stdout",
     "output_type": "stream",
     "text": [
      "Took: 119.42299580574036\n",
      "--------------------------------------------------\n",
      "En: 250\tTr: 170\n",
      "Using first variation (Regressor and Classifier with score vectors)\n",
      "epoch 0:\t22.066203722455878\n",
      "epoch 10:\t21.94834976339382\n",
      "epoch 20:\t21.823217551436052\n",
      "epoch 30:\t21.717726558303113\n",
      "epoch 40:\t21.610751605684996\n",
      "epoch 50:\t21.501211272959363\n",
      "Using second variation (average of outputs produced by each set of weight matrices)\n",
      "Epoch 0: 3.094094725945901\n",
      "Epoch 25: 0.006332072775511864\n",
      "Epoch 50: 0.003055963005450818\n",
      "Epoch 75: 0.0020685624071530486\n",
      "Epoch 100: 0.0015821460242565403\n",
      "Epoch 125: 0.0012896289585855906\n",
      "Epoch 150: 0.0010931596671670243\n",
      "W1 size 360\n",
      "W2 size 17\n",
      "W3 size 10\n",
      "Using well-known algorithms: Logistic Regression, RandomForest and MLP\n"
     ]
    },
    {
     "name": "stderr",
     "output_type": "stream",
     "text": [
      "/usr/local/lib/python3.5/dist-packages/sklearn/metrics/classification.py:1135: UndefinedMetricWarning: F-score is ill-defined and being set to 0.0 in labels with no predicted samples.\n",
      "  'precision', 'predicted', average, warn_for)\n"
     ]
    },
    {
     "name": "stdout",
     "output_type": "stream",
     "text": [
      "Took: 131.47785711288452\n",
      "--------------------------------------------------\n",
      "En: 250\tTr: 212\n",
      "Using first variation (Regressor and Classifier with score vectors)\n",
      "epoch 0:\t20.446165487403768\n",
      "epoch 10:\t20.27653601570737\n",
      "epoch 20:\t20.135512588269485\n",
      "epoch 30:\t19.985843886192335\n",
      "epoch 40:\t19.848009962395004\n",
      "epoch 50:\t19.758533368948484\n",
      "Using second variation (average of outputs produced by each set of weight matrices)\n",
      "Epoch 0: 3.0764054891533386\n",
      "Epoch 25: 0.008977357281774758\n",
      "Epoch 50: 0.003763535573999451\n",
      "Epoch 75: 0.002485064172798655\n",
      "Epoch 100: 0.0018821033539608797\n",
      "Epoch 125: 0.0015263043189523138\n",
      "Epoch 150: 0.0012898025346455193\n",
      "W1 size 380\n",
      "W2 size 18\n",
      "W3 size 10\n",
      "Using well-known algorithms: Logistic Regression, RandomForest and MLP\n"
     ]
    },
    {
     "name": "stderr",
     "output_type": "stream",
     "text": [
      "/usr/local/lib/python3.5/dist-packages/sklearn/metrics/classification.py:1135: UndefinedMetricWarning: F-score is ill-defined and being set to 0.0 in labels with no predicted samples.\n",
      "  'precision', 'predicted', average, warn_for)\n",
      "/usr/local/lib/python3.5/dist-packages/sklearn/neural_network/multilayer_perceptron.py:564: ConvergenceWarning: Stochastic Optimizer: Maximum iterations (200) reached and the optimization hasn't converged yet.\n",
      "  % self.max_iter, ConvergenceWarning)\n"
     ]
    },
    {
     "name": "stdout",
     "output_type": "stream",
     "text": [
      "Took: 142.9429099559784\n",
      "--------------------------------------------------\n",
      "En: 250\tTr: 255\n",
      "Using first variation (Regressor and Classifier with score vectors)\n",
      "epoch 0:\t23.926246260942655\n",
      "epoch 10:\t23.53880305378977\n",
      "epoch 20:\t23.318215264630332\n",
      "epoch 30:\t23.067973966412563\n",
      "epoch 40:\t22.806543419773256\n",
      "epoch 50:\t22.572340121751903\n",
      "Using second variation (average of outputs produced by each set of weight matrices)\n",
      "Epoch 0: 2.4457311115512015\n",
      "Epoch 25: 0.009450877544945302\n",
      "Epoch 50: 0.00410327134988737\n",
      "Epoch 75: 0.0026690692850180123\n",
      "Epoch 100: 0.0019933238025603237\n",
      "Epoch 125: 0.001597400684051135\n",
      "Epoch 150: 0.001336244491758497\n",
      "W1 size 400\n",
      "W2 size 18\n",
      "W3 size 10\n",
      "Using well-known algorithms: Logistic Regression, RandomForest and MLP\n"
     ]
    },
    {
     "name": "stderr",
     "output_type": "stream",
     "text": [
      "/usr/local/lib/python3.5/dist-packages/sklearn/metrics/classification.py:1135: UndefinedMetricWarning: F-score is ill-defined and being set to 0.0 in labels with no predicted samples.\n",
      "  'precision', 'predicted', average, warn_for)\n",
      "/usr/local/lib/python3.5/dist-packages/sklearn/neural_network/multilayer_perceptron.py:564: ConvergenceWarning: Stochastic Optimizer: Maximum iterations (200) reached and the optimization hasn't converged yet.\n",
      "  % self.max_iter, ConvergenceWarning)\n"
     ]
    },
    {
     "name": "stdout",
     "output_type": "stream",
     "text": [
      "Took: 153.19122791290283\n",
      "--------------------------------------------------\n",
      "En: 250\tTr: 298\n",
      "Using first variation (Regressor and Classifier with score vectors)\n",
      "epoch 0:\t20.54870817355253\n",
      "epoch 10:\t20.365633067078427\n",
      "epoch 20:\t20.213907114552303\n",
      "epoch 30:\t20.08823128186712\n",
      "epoch 40:\t19.98333077936608\n",
      "epoch 50:\t19.89132842461257\n",
      "Using second variation (average of outputs produced by each set of weight matrices)\n",
      "Epoch 0: 2.9764232618426036\n",
      "Epoch 25: 0.006603092250013494\n",
      "Epoch 50: 0.003175272219137766\n",
      "Epoch 75: 0.0021249557566058648\n",
      "Epoch 100: 0.0016084181959327563\n",
      "Epoch 125: 0.0012992951436569537\n",
      "Epoch 150: 0.0010927996144207048\n",
      "W1 size 439\n",
      "W2 size 18\n",
      "W3 size 10\n",
      "Using well-known algorithms: Logistic Regression, RandomForest and MLP\n"
     ]
    },
    {
     "name": "stderr",
     "output_type": "stream",
     "text": [
      "/usr/local/lib/python3.5/dist-packages/sklearn/metrics/classification.py:1135: UndefinedMetricWarning: F-score is ill-defined and being set to 0.0 in labels with no predicted samples.\n",
      "  'precision', 'predicted', average, warn_for)\n",
      "/usr/local/lib/python3.5/dist-packages/sklearn/neural_network/multilayer_perceptron.py:564: ConvergenceWarning: Stochastic Optimizer: Maximum iterations (200) reached and the optimization hasn't converged yet.\n",
      "  % self.max_iter, ConvergenceWarning)\n"
     ]
    },
    {
     "name": "stdout",
     "output_type": "stream",
     "text": [
      "Took: 168.78157830238342\n",
      "--------------------------------------------------\n",
      "En: 250\tTr: 340\n",
      "Using first variation (Regressor and Classifier with score vectors)\n",
      "epoch 0:\t21.215906302336336\n",
      "epoch 10:\t21.039189843597175\n",
      "epoch 20:\t20.902514114163868\n",
      "epoch 30:\t20.769349777998013\n",
      "epoch 40:\t20.660264766330574\n",
      "epoch 50:\t20.555276973645157\n",
      "Using second variation (average of outputs produced by each set of weight matrices)\n",
      "Epoch 0: 2.30437585917679\n",
      "Epoch 25: 0.008363040382871667\n",
      "Epoch 50: 0.0028149425751859466\n",
      "Epoch 75: 0.0017520459993200298\n",
      "Epoch 100: 0.0012901802378799594\n",
      "Epoch 125: 0.0010293712475600827\n",
      "Epoch 150: 0.0008608208350224318\n",
      "W1 size 452\n",
      "W2 size 18\n",
      "W3 size 10\n",
      "Using well-known algorithms: Logistic Regression, RandomForest and MLP\n"
     ]
    },
    {
     "name": "stderr",
     "output_type": "stream",
     "text": [
      "/usr/local/lib/python3.5/dist-packages/sklearn/metrics/classification.py:1135: UndefinedMetricWarning: F-score is ill-defined and being set to 0.0 in labels with no predicted samples.\n",
      "  'precision', 'predicted', average, warn_for)\n",
      "/usr/local/lib/python3.5/dist-packages/sklearn/neural_network/multilayer_perceptron.py:564: ConvergenceWarning: Stochastic Optimizer: Maximum iterations (200) reached and the optimization hasn't converged yet.\n",
      "  % self.max_iter, ConvergenceWarning)\n"
     ]
    },
    {
     "name": "stdout",
     "output_type": "stream",
     "text": [
      "Took: 172.91916513442993\n",
      "--------------------------------------------------\n",
      "En: 250\tTr: 382\n",
      "Using first variation (Regressor and Classifier with score vectors)\n",
      "epoch 0:\t21.00499285006329\n",
      "epoch 10:\t20.936657290882952\n",
      "epoch 20:\t20.83045274607042\n",
      "epoch 30:\t20.745071611294712\n",
      "epoch 40:\t20.67685452866975\n",
      "epoch 50:\t20.612608364052054\n",
      "Using second variation (average of outputs produced by each set of weight matrices)\n",
      "Epoch 0: 3.548898443049421\n",
      "Epoch 25: 0.008130727637634824\n",
      "Epoch 50: 0.003627202671276492\n",
      "Epoch 75: 0.0023915231658795362\n",
      "Epoch 100: 0.0018000161647184737\n",
      "Epoch 125: 0.0014503442218168384\n",
      "Epoch 150: 0.0012184285833503118\n",
      "W1 size 485\n",
      "W2 size 18\n",
      "W3 size 10\n",
      "Using well-known algorithms: Logistic Regression, RandomForest and MLP\n"
     ]
    },
    {
     "name": "stderr",
     "output_type": "stream",
     "text": [
      "/usr/local/lib/python3.5/dist-packages/sklearn/metrics/classification.py:1135: UndefinedMetricWarning: F-score is ill-defined and being set to 0.0 in labels with no predicted samples.\n",
      "  'precision', 'predicted', average, warn_for)\n",
      "/usr/local/lib/python3.5/dist-packages/sklearn/neural_network/multilayer_perceptron.py:564: ConvergenceWarning: Stochastic Optimizer: Maximum iterations (200) reached and the optimization hasn't converged yet.\n",
      "  % self.max_iter, ConvergenceWarning)\n"
     ]
    },
    {
     "name": "stdout",
     "output_type": "stream",
     "text": [
      "Took: 179.01163172721863\n",
      "--------------------------------------------------\n",
      "En: 250\tTr: 425\n",
      "Using first variation (Regressor and Classifier with score vectors)\n",
      "epoch 0:\t21.501628287601953\n",
      "epoch 10:\t21.36478599635182\n",
      "epoch 20:\t21.226878677563498\n",
      "epoch 30:\t21.12406991336747\n",
      "epoch 40:\t21.004961788054914\n",
      "epoch 50:\t20.867514933690018\n",
      "Using second variation (average of outputs produced by each set of weight matrices)\n",
      "Epoch 0: 2.2301228015414214\n",
      "Epoch 25: 0.00602134672713865\n",
      "Epoch 50: 0.0029424181497415282\n",
      "Epoch 75: 0.001976920580230512\n",
      "Epoch 100: 0.0014982035168475882\n",
      "Epoch 125: 0.0012105542088834522\n",
      "Epoch 150: 0.0010180132905657677\n",
      "W1 size 496\n",
      "W2 size 18\n",
      "W3 size 10\n",
      "Using well-known algorithms: Logistic Regression, RandomForest and MLP\n"
     ]
    },
    {
     "name": "stderr",
     "output_type": "stream",
     "text": [
      "/usr/local/lib/python3.5/dist-packages/sklearn/metrics/classification.py:1135: UndefinedMetricWarning: F-score is ill-defined and being set to 0.0 in labels with no predicted samples.\n",
      "  'precision', 'predicted', average, warn_for)\n",
      "/usr/local/lib/python3.5/dist-packages/sklearn/neural_network/multilayer_perceptron.py:564: ConvergenceWarning: Stochastic Optimizer: Maximum iterations (200) reached and the optimization hasn't converged yet.\n",
      "  % self.max_iter, ConvergenceWarning)\n"
     ]
    },
    {
     "name": "stdout",
     "output_type": "stream",
     "text": [
      "Took: 195.13845944404602\n",
      "--------------------------------------------------\n",
      "En: 300\tTr: 42\n",
      "Using first variation (Regressor and Classifier with score vectors)\n",
      "epoch 0:\t20.52717971699951\n",
      "epoch 10:\t20.352660404156545\n",
      "epoch 20:\t20.100645831179357\n",
      "epoch 30:\t19.972750218014795\n",
      "epoch 40:\t19.89613302212404\n",
      "epoch 50:\t19.817194874064466\n",
      "Using second variation (average of outputs produced by each set of weight matrices)\n",
      "Epoch 0: 4.959764119330164\n",
      "Epoch 25: 0.013770188524046467\n",
      "Epoch 50: 0.006203351270138143\n",
      "Epoch 75: 0.0040978056703011795\n",
      "Epoch 100: 0.00309174170367883\n",
      "Epoch 125: 0.0024971044627148473\n",
      "Epoch 150: 0.0021022598785583537\n",
      "W1 size 298\n",
      "W2 size 16\n",
      "W3 size 10\n",
      "Using well-known algorithms: Logistic Regression, RandomForest and MLP\n"
     ]
    },
    {
     "name": "stderr",
     "output_type": "stream",
     "text": [
      "/usr/local/lib/python3.5/dist-packages/sklearn/metrics/classification.py:1135: UndefinedMetricWarning: F-score is ill-defined and being set to 0.0 in labels with no predicted samples.\n",
      "  'precision', 'predicted', average, warn_for)\n",
      "/usr/local/lib/python3.5/dist-packages/sklearn/neural_network/multilayer_perceptron.py:564: ConvergenceWarning: Stochastic Optimizer: Maximum iterations (200) reached and the optimization hasn't converged yet.\n",
      "  % self.max_iter, ConvergenceWarning)\n"
     ]
    },
    {
     "name": "stdout",
     "output_type": "stream",
     "text": [
      "Took: 99.3753125667572\n",
      "--------------------------------------------------\n",
      "En: 300\tTr: 85\n",
      "Using first variation (Regressor and Classifier with score vectors)\n",
      "epoch 0:\t19.546851113449552\n",
      "epoch 10:\t19.429103857591894\n",
      "epoch 20:\t19.313272566591895\n",
      "epoch 30:\t19.21439018835827\n",
      "epoch 40:\t19.12920096187445\n",
      "epoch 50:\t19.05532235386665\n",
      "Using second variation (average of outputs produced by each set of weight matrices)\n",
      "Epoch 0: 3.1260877843030297\n",
      "Epoch 25: 0.006359438803058045\n",
      "Epoch 50: 0.003137117647783235\n",
      "Epoch 75: 0.0021249789120204626\n",
      "Epoch 100: 0.0016218863435072946\n",
      "Epoch 125: 0.0013186177168860284\n",
      "Epoch 150: 0.001114865200165607\n",
      "W1 size 326\n",
      "W2 size 16\n",
      "W3 size 10\n",
      "Using well-known algorithms: Logistic Regression, RandomForest and MLP\n"
     ]
    },
    {
     "name": "stderr",
     "output_type": "stream",
     "text": [
      "/usr/local/lib/python3.5/dist-packages/sklearn/metrics/classification.py:1135: UndefinedMetricWarning: F-score is ill-defined and being set to 0.0 in labels with no predicted samples.\n",
      "  'precision', 'predicted', average, warn_for)\n",
      "/usr/local/lib/python3.5/dist-packages/sklearn/neural_network/multilayer_perceptron.py:564: ConvergenceWarning: Stochastic Optimizer: Maximum iterations (200) reached and the optimization hasn't converged yet.\n",
      "  % self.max_iter, ConvergenceWarning)\n"
     ]
    },
    {
     "name": "stdout",
     "output_type": "stream",
     "text": [
      "Took: 113.37610268592834\n",
      "--------------------------------------------------\n",
      "En: 300\tTr: 128\n",
      "Using first variation (Regressor and Classifier with score vectors)\n",
      "epoch 0:\t24.23519269493623\n",
      "epoch 10:\t23.505782637522586\n",
      "epoch 20:\t23.213389934668026\n",
      "epoch 30:\t22.93782935451947\n",
      "epoch 40:\t22.715386929005042\n",
      "epoch 50:\t22.491447128128804\n",
      "Using second variation (average of outputs produced by each set of weight matrices)\n",
      "Epoch 0: 3.467198554858263\n",
      "Epoch 25: 0.008971365197517732\n",
      "Epoch 50: 0.00377526704320932\n",
      "Epoch 75: 0.002470011409364692\n",
      "Epoch 100: 0.0018558815697908558\n",
      "Epoch 125: 0.0014950829274684532\n",
      "Epoch 150: 0.0012563461849031993\n",
      "W1 size 351\n",
      "W2 size 17\n",
      "W3 size 10\n",
      "Using well-known algorithms: Logistic Regression, RandomForest and MLP\n"
     ]
    },
    {
     "name": "stderr",
     "output_type": "stream",
     "text": [
      "/usr/local/lib/python3.5/dist-packages/sklearn/metrics/classification.py:1135: UndefinedMetricWarning: F-score is ill-defined and being set to 0.0 in labels with no predicted samples.\n",
      "  'precision', 'predicted', average, warn_for)\n",
      "/usr/local/lib/python3.5/dist-packages/sklearn/neural_network/multilayer_perceptron.py:564: ConvergenceWarning: Stochastic Optimizer: Maximum iterations (200) reached and the optimization hasn't converged yet.\n",
      "  % self.max_iter, ConvergenceWarning)\n"
     ]
    },
    {
     "name": "stdout",
     "output_type": "stream",
     "text": [
      "Took: 124.54277801513672\n",
      "--------------------------------------------------\n",
      "En: 300\tTr: 170\n",
      "Using first variation (Regressor and Classifier with score vectors)\n",
      "epoch 0:\t19.623894370515778\n",
      "epoch 10:\t19.61687608026802\n",
      "epoch 20:\t19.548639977840764\n",
      "epoch 30:\t19.467126000733376\n",
      "epoch 40:\t19.383107578965614\n",
      "epoch 50:\t19.28683399062507\n",
      "Using second variation (average of outputs produced by each set of weight matrices)\n",
      "Epoch 0: 6.32715777061871\n",
      "Epoch 25: 0.00921580723260125\n",
      "Epoch 50: 0.0040280713596825505\n",
      "Epoch 75: 0.0026317413144075798\n",
      "Epoch 100: 0.0019715650154151195\n",
      "Epoch 125: 0.00158404738819501\n",
      "Epoch 150: 0.001328075782648521\n",
      "W1 size 389\n",
      "W2 size 18\n",
      "W3 size 10\n",
      "Using well-known algorithms: Logistic Regression, RandomForest and MLP\n"
     ]
    },
    {
     "name": "stderr",
     "output_type": "stream",
     "text": [
      "/usr/local/lib/python3.5/dist-packages/sklearn/metrics/classification.py:1135: UndefinedMetricWarning: F-score is ill-defined and being set to 0.0 in labels with no predicted samples.\n",
      "  'precision', 'predicted', average, warn_for)\n",
      "/usr/local/lib/python3.5/dist-packages/sklearn/neural_network/multilayer_perceptron.py:564: ConvergenceWarning: Stochastic Optimizer: Maximum iterations (200) reached and the optimization hasn't converged yet.\n",
      "  % self.max_iter, ConvergenceWarning)\n"
     ]
    },
    {
     "name": "stdout",
     "output_type": "stream",
     "text": [
      "Took: 142.76607871055603\n",
      "--------------------------------------------------\n",
      "En: 300\tTr: 212\n",
      "Using first variation (Regressor and Classifier with score vectors)\n",
      "epoch 0:\t22.352081822748648\n",
      "epoch 10:\t22.072016601221566\n",
      "epoch 20:\t21.841587119550233\n",
      "epoch 30:\t21.625398426136165\n",
      "epoch 40:\t21.42325759646913\n",
      "epoch 50:\t21.211282995371082\n",
      "Using second variation (average of outputs produced by each set of weight matrices)\n",
      "Epoch 0: 3.6573405173447986\n",
      "Epoch 25: 0.0053454920731002\n",
      "Epoch 50: 0.0026413938286902194\n",
      "Epoch 75: 0.0017994031959689405\n",
      "Epoch 100: 0.0013796171803340807\n",
      "Epoch 125: 0.0011256057448622014\n",
      "Epoch 150: 0.0009543697995276768\n",
      "W1 size 414\n",
      "W2 size 18\n",
      "W3 size 10\n",
      "Using well-known algorithms: Logistic Regression, RandomForest and MLP\n"
     ]
    },
    {
     "name": "stderr",
     "output_type": "stream",
     "text": [
      "/usr/local/lib/python3.5/dist-packages/sklearn/metrics/classification.py:1135: UndefinedMetricWarning: F-score is ill-defined and being set to 0.0 in labels with no predicted samples.\n",
      "  'precision', 'predicted', average, warn_for)\n",
      "/usr/local/lib/python3.5/dist-packages/sklearn/neural_network/multilayer_perceptron.py:564: ConvergenceWarning: Stochastic Optimizer: Maximum iterations (200) reached and the optimization hasn't converged yet.\n",
      "  % self.max_iter, ConvergenceWarning)\n"
     ]
    },
    {
     "name": "stdout",
     "output_type": "stream",
     "text": [
      "Took: 147.83243608474731\n",
      "--------------------------------------------------\n",
      "En: 300\tTr: 255\n",
      "Using first variation (Regressor and Classifier with score vectors)\n",
      "epoch 0:\t22.876615989284385\n",
      "epoch 10:\t22.602557702307525\n",
      "epoch 20:\t22.303880196650667\n",
      "epoch 30:\t22.121538144382544\n",
      "epoch 40:\t21.95561609183587\n",
      "epoch 50:\t21.71002949175995\n",
      "Using second variation (average of outputs produced by each set of weight matrices)\n",
      "Epoch 0: 2.4189293341513647\n",
      "Epoch 25: 0.006157150989559613\n",
      "Epoch 50: 0.002875151886682006\n",
      "Epoch 75: 0.0019181514264297172\n",
      "Epoch 100: 0.001453592449609911\n",
      "Epoch 125: 0.0011770070824775353\n",
      "Epoch 150: 0.0009926357825993865\n",
      "W1 size 451\n",
      "W2 size 18\n",
      "W3 size 10\n",
      "Using well-known algorithms: Logistic Regression, RandomForest and MLP\n"
     ]
    },
    {
     "name": "stderr",
     "output_type": "stream",
     "text": [
      "/usr/local/lib/python3.5/dist-packages/sklearn/metrics/classification.py:1135: UndefinedMetricWarning: F-score is ill-defined and being set to 0.0 in labels with no predicted samples.\n",
      "  'precision', 'predicted', average, warn_for)\n",
      "/usr/local/lib/python3.5/dist-packages/sklearn/neural_network/multilayer_perceptron.py:564: ConvergenceWarning: Stochastic Optimizer: Maximum iterations (200) reached and the optimization hasn't converged yet.\n",
      "  % self.max_iter, ConvergenceWarning)\n"
     ]
    },
    {
     "name": "stdout",
     "output_type": "stream",
     "text": [
      "Took: 162.39283800125122\n",
      "--------------------------------------------------\n",
      "En: 300\tTr: 298\n",
      "Using first variation (Regressor and Classifier with score vectors)\n",
      "epoch 0:\t22.331614106697536\n",
      "epoch 10:\t22.150553674921465\n",
      "epoch 20:\t21.98177527379163\n",
      "epoch 30:\t21.787949309087445\n",
      "epoch 40:\t21.613191199647297\n",
      "epoch 50:\t21.46267307384132\n",
      "Using second variation (average of outputs produced by each set of weight matrices)\n",
      "Epoch 0: 4.423726037254761\n",
      "Epoch 25: 0.013890913179296645\n",
      "Epoch 50: 0.00515387360669638\n",
      "Epoch 75: 0.0032181364349989994\n",
      "Epoch 100: 0.0023599732376036334\n",
      "Epoch 125: 0.0018736080270347402\n",
      "Epoch 150: 0.0015595538336304095\n",
      "W1 size 475\n",
      "W2 size 18\n",
      "W3 size 10\n",
      "Using well-known algorithms: Logistic Regression, RandomForest and MLP\n"
     ]
    },
    {
     "name": "stderr",
     "output_type": "stream",
     "text": [
      "/usr/local/lib/python3.5/dist-packages/sklearn/metrics/classification.py:1135: UndefinedMetricWarning: F-score is ill-defined and being set to 0.0 in labels with no predicted samples.\n",
      "  'precision', 'predicted', average, warn_for)\n",
      "/usr/local/lib/python3.5/dist-packages/sklearn/neural_network/multilayer_perceptron.py:564: ConvergenceWarning: Stochastic Optimizer: Maximum iterations (200) reached and the optimization hasn't converged yet.\n",
      "  % self.max_iter, ConvergenceWarning)\n"
     ]
    },
    {
     "name": "stdout",
     "output_type": "stream",
     "text": [
      "Took: 180.04307508468628\n",
      "--------------------------------------------------\n",
      "En: 300\tTr: 340\n",
      "Using first variation (Regressor and Classifier with score vectors)\n",
      "epoch 0:\t25.876189154805076\n",
      "epoch 10:\t25.40422243436135\n",
      "epoch 20:\t25.105924856127416\n",
      "epoch 30:\t24.78249630623752\n",
      "epoch 40:\t24.43106640986732\n",
      "epoch 50:\t24.128344126868615\n",
      "Using second variation (average of outputs produced by each set of weight matrices)\n",
      "Epoch 0: 4.143735321799989\n",
      "Epoch 25: 0.013262275409239521\n",
      "Epoch 50: 0.004675429537894615\n",
      "Epoch 75: 0.0029636448896518176\n",
      "Epoch 100: 0.0021938165042918456\n",
      "Epoch 125: 0.0017513582498679624\n",
      "Epoch 150: 0.0014625960782339575\n",
      "W1 size 494\n",
      "W2 size 18\n",
      "W3 size 10\n",
      "Using well-known algorithms: Logistic Regression, RandomForest and MLP\n"
     ]
    },
    {
     "name": "stderr",
     "output_type": "stream",
     "text": [
      "/usr/local/lib/python3.5/dist-packages/sklearn/metrics/classification.py:1135: UndefinedMetricWarning: F-score is ill-defined and being set to 0.0 in labels with no predicted samples.\n",
      "  'precision', 'predicted', average, warn_for)\n",
      "/usr/local/lib/python3.5/dist-packages/sklearn/neural_network/multilayer_perceptron.py:564: ConvergenceWarning: Stochastic Optimizer: Maximum iterations (200) reached and the optimization hasn't converged yet.\n",
      "  % self.max_iter, ConvergenceWarning)\n"
     ]
    },
    {
     "name": "stdout",
     "output_type": "stream",
     "text": [
      "Took: 180.7146599292755\n",
      "--------------------------------------------------\n",
      "En: 300\tTr: 382\n",
      "Using first variation (Regressor and Classifier with score vectors)\n",
      "epoch 0:\t21.52145287588946\n",
      "epoch 10:\t21.354842867843214\n",
      "epoch 20:\t21.2202518342796\n",
      "epoch 30:\t21.064977625714604\n",
      "epoch 40:\t20.915865220028014\n",
      "epoch 50:\t20.792588073764357\n",
      "Using second variation (average of outputs produced by each set of weight matrices)\n",
      "Epoch 0: 3.3074689175715117\n",
      "Epoch 25: 0.00872977187115585\n",
      "Epoch 50: 0.00373382475592404\n",
      "Epoch 75: 0.002422293821983088\n",
      "Epoch 100: 0.0018058879506197374\n",
      "Epoch 125: 0.0014450228094821291\n",
      "Epoch 150: 0.001207122179219737\n",
      "W1 size 525\n",
      "W2 size 18\n",
      "W3 size 10\n",
      "Using well-known algorithms: Logistic Regression, RandomForest and MLP\n"
     ]
    },
    {
     "name": "stderr",
     "output_type": "stream",
     "text": [
      "/usr/local/lib/python3.5/dist-packages/sklearn/metrics/classification.py:1135: UndefinedMetricWarning: F-score is ill-defined and being set to 0.0 in labels with no predicted samples.\n",
      "  'precision', 'predicted', average, warn_for)\n",
      "/usr/local/lib/python3.5/dist-packages/sklearn/neural_network/multilayer_perceptron.py:564: ConvergenceWarning: Stochastic Optimizer: Maximum iterations (200) reached and the optimization hasn't converged yet.\n",
      "  % self.max_iter, ConvergenceWarning)\n"
     ]
    },
    {
     "name": "stdout",
     "output_type": "stream",
     "text": [
      "Took: 206.81248331069946\n",
      "--------------------------------------------------\n",
      "En: 300\tTr: 425\n",
      "Using first variation (Regressor and Classifier with score vectors)\n",
      "epoch 0:\t22.761638741765402\n",
      "epoch 10:\t22.624413795514933\n",
      "epoch 20:\t22.460785144823554\n",
      "epoch 30:\t22.297881034548958\n",
      "epoch 40:\t22.1574676444325\n",
      "epoch 50:\t22.017653128585998\n",
      "Using second variation (average of outputs produced by each set of weight matrices)\n",
      "Epoch 0: 2.9789280268693745\n",
      "Epoch 25: 0.005396392882670751\n",
      "Epoch 50: 0.0025435018185035476\n",
      "Epoch 75: 0.001706610039476063\n",
      "Epoch 100: 0.001298055480344554\n",
      "Epoch 125: 0.0010536839987203008\n",
      "Epoch 150: 0.0008901972524157522\n",
      "W1 size 547\n",
      "W2 size 18\n",
      "W3 size 10\n",
      "Using well-known algorithms: Logistic Regression, RandomForest and MLP\n"
     ]
    },
    {
     "name": "stderr",
     "output_type": "stream",
     "text": [
      "/usr/local/lib/python3.5/dist-packages/sklearn/metrics/classification.py:1135: UndefinedMetricWarning: F-score is ill-defined and being set to 0.0 in labels with no predicted samples.\n",
      "  'precision', 'predicted', average, warn_for)\n",
      "/usr/local/lib/python3.5/dist-packages/sklearn/neural_network/multilayer_perceptron.py:564: ConvergenceWarning: Stochastic Optimizer: Maximum iterations (200) reached and the optimization hasn't converged yet.\n",
      "  % self.max_iter, ConvergenceWarning)\n"
     ]
    },
    {
     "name": "stdout",
     "output_type": "stream",
     "text": [
      "Took: 210.03420042991638\n",
      "--------------------------------------------------\n",
      "En: 350\tTr: 42\n",
      "Using first variation (Regressor and Classifier with score vectors)\n",
      "epoch 0:\t24.780917974703407\n",
      "epoch 10:\t24.516348800539838\n",
      "epoch 20:\t24.31788243275317\n",
      "epoch 30:\t24.0916664762927\n",
      "epoch 40:\t23.878489880896396\n",
      "epoch 50:\t23.690692669558143\n",
      "Using second variation (average of outputs produced by each set of weight matrices)\n",
      "Epoch 0: 3.2854463176990234\n",
      "Epoch 25: 0.029555727753404426\n",
      "Epoch 50: 0.0062659333646001404\n",
      "Epoch 75: 0.0031758106337801974\n",
      "Epoch 100: 0.0022219761876515675\n",
      "Epoch 125: 0.0017302894755027748\n",
      "Epoch 150: 0.001425590422277414\n",
      "W1 size 325\n",
      "W2 size 17\n",
      "W3 size 10\n",
      "Using well-known algorithms: Logistic Regression, RandomForest and MLP\n"
     ]
    },
    {
     "name": "stderr",
     "output_type": "stream",
     "text": [
      "/usr/local/lib/python3.5/dist-packages/sklearn/metrics/classification.py:1135: UndefinedMetricWarning: F-score is ill-defined and being set to 0.0 in labels with no predicted samples.\n",
      "  'precision', 'predicted', average, warn_for)\n",
      "/usr/local/lib/python3.5/dist-packages/sklearn/neural_network/multilayer_perceptron.py:564: ConvergenceWarning: Stochastic Optimizer: Maximum iterations (200) reached and the optimization hasn't converged yet.\n",
      "  % self.max_iter, ConvergenceWarning)\n"
     ]
    },
    {
     "name": "stdout",
     "output_type": "stream",
     "text": [
      "Took: 111.6962513923645\n",
      "--------------------------------------------------\n",
      "En: 350\tTr: 85\n",
      "Using first variation (Regressor and Classifier with score vectors)\n",
      "epoch 0:\t23.678555702301413\n",
      "epoch 10:\t23.374522027135406\n",
      "epoch 20:\t23.133498252679885\n",
      "epoch 30:\t22.728898708057887\n",
      "epoch 40:\t22.45431014026989\n",
      "epoch 50:\t22.230950844988044\n",
      "Using second variation (average of outputs produced by each set of weight matrices)\n",
      "Epoch 0: 1.6640025066228796\n",
      "Epoch 25: 0.0044555921233691625\n",
      "Epoch 50: 0.001981337655693802\n",
      "Epoch 75: 0.0013087451987854658\n",
      "Epoch 100: 0.0009870723883963542\n",
      "Epoch 125: 0.0007967391156492747\n",
      "Epoch 150: 0.0006703122317942652\n",
      "W1 size 367\n",
      "W2 size 17\n",
      "W3 size 10\n",
      "Using well-known algorithms: Logistic Regression, RandomForest and MLP\n"
     ]
    },
    {
     "name": "stderr",
     "output_type": "stream",
     "text": [
      "/usr/local/lib/python3.5/dist-packages/sklearn/metrics/classification.py:1135: UndefinedMetricWarning: F-score is ill-defined and being set to 0.0 in labels with no predicted samples.\n",
      "  'precision', 'predicted', average, warn_for)\n",
      "/usr/local/lib/python3.5/dist-packages/sklearn/neural_network/multilayer_perceptron.py:564: ConvergenceWarning: Stochastic Optimizer: Maximum iterations (200) reached and the optimization hasn't converged yet.\n",
      "  % self.max_iter, ConvergenceWarning)\n"
     ]
    },
    {
     "name": "stdout",
     "output_type": "stream",
     "text": [
      "Took: 121.40261149406433\n",
      "--------------------------------------------------\n",
      "En: 350\tTr: 128\n",
      "Using first variation (Regressor and Classifier with score vectors)\n",
      "epoch 0:\t28.05606786795756\n",
      "epoch 10:\t27.650591284501445\n",
      "epoch 20:\t27.343583564019177\n",
      "epoch 30:\t26.95188253001761\n",
      "epoch 40:\t26.67640054692827\n",
      "epoch 50:\t26.44582954949624\n",
      "Using second variation (average of outputs produced by each set of weight matrices)\n",
      "Epoch 0: 4.758861158695059\n",
      "Epoch 25: 0.01633147332033948\n",
      "Epoch 50: 0.005747455278602143\n",
      "Epoch 75: 0.0036314512636468773\n",
      "Epoch 100: 0.002687435037531937\n",
      "Epoch 125: 0.002145993646484853\n",
      "Epoch 150: 0.001792833866556785\n",
      "W1 size 401\n",
      "W2 size 18\n",
      "W3 size 10\n",
      "Using well-known algorithms: Logistic Regression, RandomForest and MLP\n"
     ]
    },
    {
     "name": "stderr",
     "output_type": "stream",
     "text": [
      "/usr/local/lib/python3.5/dist-packages/sklearn/metrics/classification.py:1135: UndefinedMetricWarning: F-score is ill-defined and being set to 0.0 in labels with no predicted samples.\n",
      "  'precision', 'predicted', average, warn_for)\n",
      "/usr/local/lib/python3.5/dist-packages/sklearn/neural_network/multilayer_perceptron.py:564: ConvergenceWarning: Stochastic Optimizer: Maximum iterations (200) reached and the optimization hasn't converged yet.\n",
      "  % self.max_iter, ConvergenceWarning)\n"
     ]
    },
    {
     "name": "stdout",
     "output_type": "stream",
     "text": [
      "Took: 133.39694237709045\n",
      "--------------------------------------------------\n",
      "En: 350\tTr: 170\n",
      "Using first variation (Regressor and Classifier with score vectors)\n",
      "epoch 0:\t20.669315677371547\n",
      "epoch 10:\t20.563981412750156\n",
      "epoch 20:\t20.45483727046152\n",
      "epoch 30:\t20.349587208721527\n",
      "epoch 40:\t20.232048973513976\n",
      "epoch 50:\t20.125828614788418\n",
      "Using second variation (average of outputs produced by each set of weight matrices)\n",
      "Epoch 0: 4.254364423220717\n",
      "Epoch 25: 0.008537107929237045\n",
      "Epoch 50: 0.003783937630598216\n",
      "Epoch 75: 0.002490920969548573\n",
      "Epoch 100: 0.0018749559622995148\n",
      "Epoch 125: 0.001511333047730682\n",
      "Epoch 150: 0.0012700983631759209\n",
      "W1 size 446\n",
      "W2 size 18\n",
      "W3 size 10\n",
      "Using well-known algorithms: Logistic Regression, RandomForest and MLP\n"
     ]
    },
    {
     "name": "stderr",
     "output_type": "stream",
     "text": [
      "/usr/local/lib/python3.5/dist-packages/sklearn/metrics/classification.py:1135: UndefinedMetricWarning: F-score is ill-defined and being set to 0.0 in labels with no predicted samples.\n",
      "  'precision', 'predicted', average, warn_for)\n",
      "/usr/local/lib/python3.5/dist-packages/sklearn/neural_network/multilayer_perceptron.py:564: ConvergenceWarning: Stochastic Optimizer: Maximum iterations (200) reached and the optimization hasn't converged yet.\n",
      "  % self.max_iter, ConvergenceWarning)\n"
     ]
    },
    {
     "name": "stdout",
     "output_type": "stream",
     "text": [
      "Took: 157.9268820285797\n",
      "--------------------------------------------------\n",
      "En: 350\tTr: 212\n",
      "Using first variation (Regressor and Classifier with score vectors)\n",
      "epoch 0:\t23.010627098328932\n",
      "epoch 10:\t22.74136180997784\n",
      "epoch 20:\t22.454714130145554\n",
      "epoch 30:\t22.159927704779733\n",
      "epoch 40:\t21.898357004242193\n",
      "epoch 50:\t21.634853518114838\n",
      "Using second variation (average of outputs produced by each set of weight matrices)\n",
      "Epoch 0: 2.0429725131230625\n",
      "Epoch 25: 0.005429840706410825\n",
      "Epoch 50: 0.0027394152053971713\n",
      "Epoch 75: 0.001867705724500291\n",
      "Epoch 100: 0.00142914789783884\n",
      "Epoch 125: 0.0011631350851322487\n",
      "Epoch 150: 0.0009838056356085655\n",
      "W1 size 448\n",
      "W2 size 18\n",
      "W3 size 10\n",
      "Using well-known algorithms: Logistic Regression, RandomForest and MLP\n"
     ]
    },
    {
     "name": "stderr",
     "output_type": "stream",
     "text": [
      "/usr/local/lib/python3.5/dist-packages/sklearn/metrics/classification.py:1135: UndefinedMetricWarning: F-score is ill-defined and being set to 0.0 in labels with no predicted samples.\n",
      "  'precision', 'predicted', average, warn_for)\n",
      "/usr/local/lib/python3.5/dist-packages/sklearn/neural_network/multilayer_perceptron.py:564: ConvergenceWarning: Stochastic Optimizer: Maximum iterations (200) reached and the optimization hasn't converged yet.\n",
      "  % self.max_iter, ConvergenceWarning)\n"
     ]
    },
    {
     "name": "stdout",
     "output_type": "stream",
     "text": [
      "Took: 160.6961452960968\n",
      "--------------------------------------------------\n",
      "En: 350\tTr: 255\n",
      "Using first variation (Regressor and Classifier with score vectors)\n",
      "epoch 0:\t22.702526937292333\n",
      "epoch 10:\t22.476978914043233\n",
      "epoch 20:\t22.292251307376283\n",
      "epoch 30:\t22.16037179820696\n",
      "epoch 40:\t22.010717985658438\n",
      "epoch 50:\t21.864338745912956\n",
      "Using second variation (average of outputs produced by each set of weight matrices)\n",
      "Epoch 0: 3.098345050875903\n",
      "Epoch 25: 0.008074866225192748\n",
      "Epoch 50: 0.0034499526145222157\n",
      "Epoch 75: 0.0022625342994504628\n",
      "Epoch 100: 0.00170456301372286\n",
      "Epoch 125: 0.0013767942621085195\n",
      "Epoch 150: 0.001159742124060952\n",
      "W1 size 473\n",
      "W2 size 18\n",
      "W3 size 10\n",
      "Using well-known algorithms: Logistic Regression, RandomForest and MLP\n"
     ]
    },
    {
     "name": "stderr",
     "output_type": "stream",
     "text": [
      "/usr/local/lib/python3.5/dist-packages/sklearn/metrics/classification.py:1135: UndefinedMetricWarning: F-score is ill-defined and being set to 0.0 in labels with no predicted samples.\n",
      "  'precision', 'predicted', average, warn_for)\n"
     ]
    },
    {
     "name": "stdout",
     "output_type": "stream",
     "text": [
      "Took: 174.86090564727783\n",
      "--------------------------------------------------\n",
      "En: 350\tTr: 298\n",
      "Using first variation (Regressor and Classifier with score vectors)\n",
      "epoch 0:\t23.161031744038095\n",
      "epoch 10:\t23.016196156226602\n",
      "epoch 20:\t22.903883655614827\n",
      "epoch 30:\t22.77446847071593\n",
      "epoch 40:\t22.64083107728411\n",
      "epoch 50:\t22.51721672531132\n",
      "Using second variation (average of outputs produced by each set of weight matrices)\n",
      "Epoch 0: 2.0459719641193805\n",
      "Epoch 25: 0.004853888292117332\n",
      "Epoch 50: 0.002360623156756309\n",
      "Epoch 75: 0.0015926439594282885\n",
      "Epoch 100: 0.0012123107696325344\n",
      "Epoch 125: 0.0009833793437532682\n",
      "Epoch 150: 0.0008297553758830469\n",
      "W1 size 515\n",
      "W2 size 18\n",
      "W3 size 10\n",
      "Using well-known algorithms: Logistic Regression, RandomForest and MLP\n"
     ]
    },
    {
     "name": "stderr",
     "output_type": "stream",
     "text": [
      "/usr/local/lib/python3.5/dist-packages/sklearn/metrics/classification.py:1135: UndefinedMetricWarning: F-score is ill-defined and being set to 0.0 in labels with no predicted samples.\n",
      "  'precision', 'predicted', average, warn_for)\n",
      "/usr/local/lib/python3.5/dist-packages/sklearn/neural_network/multilayer_perceptron.py:564: ConvergenceWarning: Stochastic Optimizer: Maximum iterations (200) reached and the optimization hasn't converged yet.\n",
      "  % self.max_iter, ConvergenceWarning)\n"
     ]
    },
    {
     "name": "stdout",
     "output_type": "stream",
     "text": [
      "Took: 196.10312223434448\n",
      "--------------------------------------------------\n",
      "En: 350\tTr: 340\n",
      "Using first variation (Regressor and Classifier with score vectors)\n",
      "epoch 0:\t23.19733354111363\n",
      "epoch 10:\t23.100053564390823\n",
      "epoch 20:\t22.963509356917776\n",
      "epoch 30:\t22.82843499737716\n",
      "epoch 40:\t22.7382991540714\n",
      "epoch 50:\t22.644476859404545\n",
      "Using second variation (average of outputs produced by each set of weight matrices)\n",
      "Epoch 0: 2.8757656228000346\n",
      "Epoch 25: 0.012151737882578182\n",
      "Epoch 50: 0.004021250303532557\n",
      "Epoch 75: 0.002500313919974786\n",
      "Epoch 100: 0.0018409664319052473\n",
      "Epoch 125: 0.0014679119539225197\n",
      "Epoch 150: 0.001226210179192979\n",
      "W1 size 527\n",
      "W2 size 18\n",
      "W3 size 10\n",
      "Using well-known algorithms: Logistic Regression, RandomForest and MLP\n"
     ]
    },
    {
     "name": "stderr",
     "output_type": "stream",
     "text": [
      "/usr/local/lib/python3.5/dist-packages/sklearn/metrics/classification.py:1135: UndefinedMetricWarning: F-score is ill-defined and being set to 0.0 in labels with no predicted samples.\n",
      "  'precision', 'predicted', average, warn_for)\n",
      "/usr/local/lib/python3.5/dist-packages/sklearn/neural_network/multilayer_perceptron.py:564: ConvergenceWarning: Stochastic Optimizer: Maximum iterations (200) reached and the optimization hasn't converged yet.\n",
      "  % self.max_iter, ConvergenceWarning)\n"
     ]
    },
    {
     "name": "stdout",
     "output_type": "stream",
     "text": [
      "Took: 199.58466982841492\n",
      "--------------------------------------------------\n",
      "En: 350\tTr: 382\n",
      "Using first variation (Regressor and Classifier with score vectors)\n",
      "epoch 0:\t20.457031582855823\n",
      "epoch 10:\t20.27423532723229\n",
      "epoch 20:\t20.15106602843793\n",
      "epoch 30:\t20.01635850068548\n",
      "epoch 40:\t19.87547023508128\n",
      "epoch 50:\t19.739478069498407\n",
      "Using second variation (average of outputs produced by each set of weight matrices)\n",
      "Epoch 0: 3.104957480191864\n",
      "Epoch 25: 0.004322167091188074\n",
      "Epoch 50: 0.0020519566699299724\n",
      "Epoch 75: 0.0013672283734958437\n",
      "Epoch 100: 0.00103327727836121\n",
      "Epoch 125: 0.0008345089001298714\n",
      "Epoch 150: 0.0007022293716744771\n",
      "W1 size 564\n",
      "W2 size 18\n",
      "W3 size 10\n",
      "Using well-known algorithms: Logistic Regression, RandomForest and MLP\n"
     ]
    },
    {
     "name": "stderr",
     "output_type": "stream",
     "text": [
      "/usr/local/lib/python3.5/dist-packages/sklearn/metrics/classification.py:1135: UndefinedMetricWarning: F-score is ill-defined and being set to 0.0 in labels with no predicted samples.\n",
      "  'precision', 'predicted', average, warn_for)\n",
      "/usr/local/lib/python3.5/dist-packages/sklearn/neural_network/multilayer_perceptron.py:564: ConvergenceWarning: Stochastic Optimizer: Maximum iterations (200) reached and the optimization hasn't converged yet.\n",
      "  % self.max_iter, ConvergenceWarning)\n"
     ]
    },
    {
     "name": "stdout",
     "output_type": "stream",
     "text": [
      "Took: 211.4999659061432\n",
      "--------------------------------------------------\n",
      "En: 350\tTr: 425\n",
      "Using first variation (Regressor and Classifier with score vectors)\n",
      "epoch 0:\t21.956471374294335\n",
      "epoch 10:\t21.91914914780603\n",
      "epoch 20:\t21.838871177084883\n",
      "epoch 30:\t21.693424583689037\n",
      "epoch 40:\t21.558963116531594\n",
      "epoch 50:\t21.435036691702166\n",
      "Using second variation (average of outputs produced by each set of weight matrices)\n",
      "Epoch 0: 2.158627025776221\n",
      "Epoch 25: 0.003921163263872135\n",
      "Epoch 50: 0.001972994491448173\n",
      "Epoch 75: 0.001340468042482712\n",
      "Epoch 100: 0.001022924829655674\n",
      "Epoch 125: 0.0008307271582416323\n",
      "Epoch 150: 0.0007013900459494123\n",
      "W1 size 573\n",
      "W2 size 18\n",
      "W3 size 10\n",
      "Using well-known algorithms: Logistic Regression, RandomForest and MLP\n"
     ]
    },
    {
     "name": "stderr",
     "output_type": "stream",
     "text": [
      "/usr/local/lib/python3.5/dist-packages/sklearn/metrics/classification.py:1135: UndefinedMetricWarning: F-score is ill-defined and being set to 0.0 in labels with no predicted samples.\n",
      "  'precision', 'predicted', average, warn_for)\n",
      "/usr/local/lib/python3.5/dist-packages/sklearn/neural_network/multilayer_perceptron.py:564: ConvergenceWarning: Stochastic Optimizer: Maximum iterations (200) reached and the optimization hasn't converged yet.\n",
      "  % self.max_iter, ConvergenceWarning)\n"
     ]
    },
    {
     "name": "stdout",
     "output_type": "stream",
     "text": [
      "Took: 217.26800680160522\n",
      "--------------------------------------------------\n",
      "En: 400\tTr: 42\n",
      "Using first variation (Regressor and Classifier with score vectors)\n",
      "epoch 0:\t21.584745337387055\n",
      "epoch 10:\t21.442073520185218\n",
      "epoch 20:\t21.327176961137543\n",
      "epoch 30:\t21.23306182813039\n",
      "epoch 40:\t21.13668172121586\n",
      "epoch 50:\t21.046925480119256\n",
      "Using second variation (average of outputs produced by each set of weight matrices)\n",
      "Epoch 0: 4.529221207934603\n",
      "Epoch 25: 0.01577518720085505\n",
      "Epoch 50: 0.004238168151074017\n",
      "Epoch 75: 0.002565915442119149\n",
      "Epoch 100: 0.0018702813097895995\n",
      "Epoch 125: 0.0014835585285250523\n",
      "Epoch 150: 0.0012355205617989656\n",
      "W1 size 367\n",
      "W2 size 18\n",
      "W3 size 10\n",
      "Using well-known algorithms: Logistic Regression, RandomForest and MLP\n"
     ]
    },
    {
     "name": "stderr",
     "output_type": "stream",
     "text": [
      "/usr/local/lib/python3.5/dist-packages/sklearn/metrics/classification.py:1135: UndefinedMetricWarning: F-score is ill-defined and being set to 0.0 in labels with no predicted samples.\n",
      "  'precision', 'predicted', average, warn_for)\n",
      "/usr/local/lib/python3.5/dist-packages/sklearn/neural_network/multilayer_perceptron.py:564: ConvergenceWarning: Stochastic Optimizer: Maximum iterations (200) reached and the optimization hasn't converged yet.\n",
      "  % self.max_iter, ConvergenceWarning)\n"
     ]
    },
    {
     "name": "stdout",
     "output_type": "stream",
     "text": [
      "Took: 124.55022048950195\n",
      "--------------------------------------------------\n",
      "En: 400\tTr: 85\n",
      "Using first variation (Regressor and Classifier with score vectors)\n",
      "epoch 0:\t23.233330513084574\n",
      "epoch 10:\t22.949931535025758\n",
      "epoch 20:\t22.795580130860607\n",
      "epoch 30:\t22.51362853293362\n",
      "epoch 40:\t22.28197418709305\n",
      "epoch 50:\t22.09882717232178\n",
      "Using second variation (average of outputs produced by each set of weight matrices)\n",
      "Epoch 0: 2.1602671407782577\n",
      "Epoch 25: 0.004498908973399647\n",
      "Epoch 50: 0.0022409861368157106\n",
      "Epoch 75: 0.0015253414154182813\n",
      "Epoch 100: 0.0011667912520407784\n",
      "Epoch 125: 0.0009495924765286411\n",
      "Epoch 150: 0.0008032314167885148\n",
      "W1 size 411\n",
      "W2 size 17\n",
      "W3 size 10\n",
      "Using well-known algorithms: Logistic Regression, RandomForest and MLP\n"
     ]
    },
    {
     "name": "stderr",
     "output_type": "stream",
     "text": [
      "/usr/local/lib/python3.5/dist-packages/sklearn/metrics/classification.py:1135: UndefinedMetricWarning: F-score is ill-defined and being set to 0.0 in labels with no predicted samples.\n",
      "  'precision', 'predicted', average, warn_for)\n",
      "/usr/local/lib/python3.5/dist-packages/sklearn/neural_network/multilayer_perceptron.py:564: ConvergenceWarning: Stochastic Optimizer: Maximum iterations (200) reached and the optimization hasn't converged yet.\n",
      "  % self.max_iter, ConvergenceWarning)\n"
     ]
    },
    {
     "name": "stdout",
     "output_type": "stream",
     "text": [
      "Took: 141.20875477790833\n",
      "--------------------------------------------------\n",
      "En: 400\tTr: 128\n",
      "Using first variation (Regressor and Classifier with score vectors)\n",
      "epoch 0:\t20.617934475029507\n",
      "epoch 10:\t20.511901353041676\n",
      "epoch 20:\t20.39955679644586\n",
      "epoch 30:\t20.292120391621303\n",
      "epoch 40:\t20.19292523076684\n",
      "epoch 50:\t20.094281453324683\n",
      "Using second variation (average of outputs produced by each set of weight matrices)\n",
      "Epoch 0: 1.9036984166051214\n",
      "Epoch 25: 0.0049813078421641335\n",
      "Epoch 50: 0.002497951388256067\n",
      "Epoch 75: 0.0016946089737559914\n",
      "Epoch 100: 0.0012919946698130116\n",
      "Epoch 125: 0.001048537359281131\n",
      "Epoch 150: 0.0008847919563387566\n",
      "W1 size 431\n",
      "W2 size 17\n",
      "W3 size 10\n",
      "Using well-known algorithms: Logistic Regression, RandomForest and MLP\n"
     ]
    },
    {
     "name": "stderr",
     "output_type": "stream",
     "text": [
      "/usr/local/lib/python3.5/dist-packages/sklearn/metrics/classification.py:1135: UndefinedMetricWarning: F-score is ill-defined and being set to 0.0 in labels with no predicted samples.\n",
      "  'precision', 'predicted', average, warn_for)\n",
      "/usr/local/lib/python3.5/dist-packages/sklearn/neural_network/multilayer_perceptron.py:564: ConvergenceWarning: Stochastic Optimizer: Maximum iterations (200) reached and the optimization hasn't converged yet.\n",
      "  % self.max_iter, ConvergenceWarning)\n"
     ]
    },
    {
     "name": "stdout",
     "output_type": "stream",
     "text": [
      "Took: 154.14217042922974\n",
      "--------------------------------------------------\n",
      "En: 400\tTr: 170\n",
      "Using first variation (Regressor and Classifier with score vectors)\n",
      "epoch 0:\t22.38972300832716\n",
      "epoch 10:\t22.215563848738384\n",
      "epoch 20:\t22.08054047866068\n",
      "epoch 30:\t21.939352799239906\n",
      "epoch 40:\t21.796749257353287\n",
      "epoch 50:\t21.65992810613145\n",
      "Using second variation (average of outputs produced by each set of weight matrices)\n",
      "Epoch 0: 3.403901453118306\n",
      "Epoch 25: 0.007622585327356702\n",
      "Epoch 50: 0.003408333353132277\n",
      "Epoch 75: 0.002240421772745848\n",
      "Epoch 100: 0.0016840118771543338\n",
      "Epoch 125: 0.001356348299063121\n",
      "Epoch 150: 0.00113955377091062\n",
      "W1 size 473\n",
      "W2 size 18\n",
      "W3 size 10\n",
      "Using well-known algorithms: Logistic Regression, RandomForest and MLP\n"
     ]
    },
    {
     "name": "stderr",
     "output_type": "stream",
     "text": [
      "/usr/local/lib/python3.5/dist-packages/sklearn/metrics/classification.py:1135: UndefinedMetricWarning: F-score is ill-defined and being set to 0.0 in labels with no predicted samples.\n",
      "  'precision', 'predicted', average, warn_for)\n",
      "/usr/local/lib/python3.5/dist-packages/sklearn/neural_network/multilayer_perceptron.py:564: ConvergenceWarning: Stochastic Optimizer: Maximum iterations (200) reached and the optimization hasn't converged yet.\n",
      "  % self.max_iter, ConvergenceWarning)\n"
     ]
    },
    {
     "name": "stdout",
     "output_type": "stream",
     "text": [
      "Took: 174.0503499507904\n",
      "--------------------------------------------------\n",
      "En: 400\tTr: 212\n",
      "Using first variation (Regressor and Classifier with score vectors)\n",
      "epoch 0:\t23.385516465233547\n",
      "epoch 10:\t23.24231965276444\n",
      "epoch 20:\t23.081739238733153\n",
      "epoch 30:\t22.938832064680234\n",
      "epoch 40:\t22.74885633463601\n",
      "epoch 50:\t22.51976344076176\n",
      "Using second variation (average of outputs produced by each set of weight matrices)\n",
      "Epoch 0: 2.9379705982464714\n",
      "Epoch 25: 0.004364027273839452\n",
      "Epoch 50: 0.0021532454558173333\n",
      "Epoch 75: 0.0014597572383037451\n",
      "Epoch 100: 0.0011145799969187306\n",
      "Epoch 125: 0.0009062992304217808\n",
      "Epoch 150: 0.0007662872411658718\n",
      "W1 size 490\n",
      "W2 size 18\n",
      "W3 size 10\n",
      "Using well-known algorithms: Logistic Regression, RandomForest and MLP\n"
     ]
    },
    {
     "name": "stderr",
     "output_type": "stream",
     "text": [
      "/usr/local/lib/python3.5/dist-packages/sklearn/metrics/classification.py:1135: UndefinedMetricWarning: F-score is ill-defined and being set to 0.0 in labels with no predicted samples.\n",
      "  'precision', 'predicted', average, warn_for)\n"
     ]
    },
    {
     "name": "stdout",
     "output_type": "stream",
     "text": [
      "Took: 191.67197918891907\n",
      "--------------------------------------------------\n",
      "En: 400\tTr: 255\n",
      "Using first variation (Regressor and Classifier with score vectors)\n",
      "epoch 0:\t23.13963822678701\n",
      "epoch 10:\t22.813714797220264\n",
      "epoch 20:\t22.486923403095645\n",
      "epoch 30:\t22.113486922811894\n",
      "epoch 40:\t21.838097770053547\n",
      "epoch 50:\t21.602260164651362\n",
      "Using second variation (average of outputs produced by each set of weight matrices)\n",
      "Epoch 0: 2.619312871025155\n",
      "Epoch 25: 0.008226477231725406\n",
      "Epoch 50: 0.0035869157641435887\n",
      "Epoch 75: 0.002352732842510819\n",
      "Epoch 100: 0.0017678347834955452\n",
      "Epoch 125: 0.0014235881196460896\n",
      "Epoch 150: 0.001195730205863592\n",
      "W1 size 521\n",
      "W2 size 18\n",
      "W3 size 10\n",
      "Using well-known algorithms: Logistic Regression, RandomForest and MLP\n"
     ]
    },
    {
     "name": "stderr",
     "output_type": "stream",
     "text": [
      "/usr/local/lib/python3.5/dist-packages/sklearn/metrics/classification.py:1135: UndefinedMetricWarning: F-score is ill-defined and being set to 0.0 in labels with no predicted samples.\n",
      "  'precision', 'predicted', average, warn_for)\n",
      "/usr/local/lib/python3.5/dist-packages/sklearn/neural_network/multilayer_perceptron.py:564: ConvergenceWarning: Stochastic Optimizer: Maximum iterations (200) reached and the optimization hasn't converged yet.\n",
      "  % self.max_iter, ConvergenceWarning)\n"
     ]
    },
    {
     "name": "stdout",
     "output_type": "stream",
     "text": [
      "Took: 197.00548005104065\n",
      "--------------------------------------------------\n",
      "En: 400\tTr: 298\n",
      "Using first variation (Regressor and Classifier with score vectors)\n",
      "epoch 0:\t23.978648826290446\n",
      "epoch 10:\t23.37955012634433\n",
      "epoch 20:\t23.122880924705733\n",
      "epoch 30:\t22.94446314935697\n",
      "epoch 40:\t22.740476535743387\n",
      "epoch 50:\t22.554975258981322\n",
      "Using second variation (average of outputs produced by each set of weight matrices)\n",
      "Epoch 0: 1.6489967909682752\n",
      "Epoch 25: 0.0038929652791211264\n",
      "Epoch 50: 0.0020082684426344934\n",
      "Epoch 75: 0.0013818205844480585\n",
      "Epoch 100: 0.0010622674635882641\n",
      "Epoch 125: 0.0008667797187645325\n",
      "Epoch 150: 0.0007342217553150248\n",
      "W1 size 554\n",
      "W2 size 18\n",
      "W3 size 10\n",
      "Using well-known algorithms: Logistic Regression, RandomForest and MLP\n"
     ]
    },
    {
     "name": "stderr",
     "output_type": "stream",
     "text": [
      "/usr/local/lib/python3.5/dist-packages/sklearn/metrics/classification.py:1135: UndefinedMetricWarning: F-score is ill-defined and being set to 0.0 in labels with no predicted samples.\n",
      "  'precision', 'predicted', average, warn_for)\n",
      "/usr/local/lib/python3.5/dist-packages/sklearn/neural_network/multilayer_perceptron.py:564: ConvergenceWarning: Stochastic Optimizer: Maximum iterations (200) reached and the optimization hasn't converged yet.\n",
      "  % self.max_iter, ConvergenceWarning)\n"
     ]
    },
    {
     "name": "stdout",
     "output_type": "stream",
     "text": [
      "Took: 193.09608793258667\n",
      "--------------------------------------------------\n",
      "En: 400\tTr: 340\n",
      "Using first variation (Regressor and Classifier with score vectors)\n",
      "epoch 0:\t21.858544815635106\n",
      "epoch 10:\t21.69711670356533\n",
      "epoch 20:\t21.499931496760542\n",
      "epoch 30:\t21.32687521576639\n",
      "epoch 40:\t21.17554015633229\n",
      "epoch 50:\t21.03934261476593\n",
      "Using second variation (average of outputs produced by each set of weight matrices)\n",
      "Epoch 0: 2.731464275102059\n",
      "Epoch 25: 0.0046894168333746645\n",
      "Epoch 50: 0.002350983579292829\n",
      "Epoch 75: 0.0016017754826261378\n",
      "Epoch 100: 0.001226527299320193\n",
      "Epoch 125: 0.0009994058589549504\n",
      "Epoch 150: 0.0008464290553655012\n",
      "W1 size 568\n",
      "W2 size 18\n",
      "W3 size 10\n",
      "Using well-known algorithms: Logistic Regression, RandomForest and MLP\n"
     ]
    },
    {
     "name": "stderr",
     "output_type": "stream",
     "text": [
      "/usr/local/lib/python3.5/dist-packages/sklearn/metrics/classification.py:1135: UndefinedMetricWarning: F-score is ill-defined and being set to 0.0 in labels with no predicted samples.\n",
      "  'precision', 'predicted', average, warn_for)\n",
      "/usr/local/lib/python3.5/dist-packages/sklearn/neural_network/multilayer_perceptron.py:564: ConvergenceWarning: Stochastic Optimizer: Maximum iterations (200) reached and the optimization hasn't converged yet.\n",
      "  % self.max_iter, ConvergenceWarning)\n"
     ]
    },
    {
     "name": "stdout",
     "output_type": "stream",
     "text": [
      "Took: 208.57370352745056\n",
      "--------------------------------------------------\n",
      "En: 400\tTr: 382\n",
      "Using first variation (Regressor and Classifier with score vectors)\n",
      "epoch 0:\t23.756584356319216\n",
      "epoch 10:\t23.40042942470173\n",
      "epoch 20:\t23.258513812979686\n",
      "epoch 30:\t23.041424028334998\n",
      "epoch 40:\t22.84742007176336\n",
      "epoch 50:\t22.659059263785828\n",
      "Using second variation (average of outputs produced by each set of weight matrices)\n",
      "Epoch 0: 1.9553165923897806\n",
      "Epoch 25: 0.003466560956292447\n",
      "Epoch 50: 0.001704090448803843\n",
      "Epoch 75: 0.001157035170769008\n",
      "Epoch 100: 0.0008854708779158023\n",
      "Epoch 125: 0.0007216801013927259\n",
      "Epoch 150: 0.0006115269461412378\n",
      "W1 size 586\n",
      "W2 size 18\n",
      "W3 size 10\n",
      "Using well-known algorithms: Logistic Regression, RandomForest and MLP\n"
     ]
    },
    {
     "name": "stderr",
     "output_type": "stream",
     "text": [
      "/usr/local/lib/python3.5/dist-packages/sklearn/metrics/classification.py:1135: UndefinedMetricWarning: F-score is ill-defined and being set to 0.0 in labels with no predicted samples.\n",
      "  'precision', 'predicted', average, warn_for)\n",
      "/usr/local/lib/python3.5/dist-packages/sklearn/neural_network/multilayer_perceptron.py:564: ConvergenceWarning: Stochastic Optimizer: Maximum iterations (200) reached and the optimization hasn't converged yet.\n",
      "  % self.max_iter, ConvergenceWarning)\n"
     ]
    },
    {
     "name": "stdout",
     "output_type": "stream",
     "text": [
      "Took: 232.91597485542297\n",
      "--------------------------------------------------\n",
      "En: 400\tTr: 425\n",
      "Using first variation (Regressor and Classifier with score vectors)\n",
      "epoch 0:\t22.201042066894935\n",
      "epoch 10:\t22.063362088720236\n",
      "epoch 20:\t21.85117775390341\n",
      "epoch 30:\t21.637747009179183\n",
      "epoch 40:\t21.44583559331172\n",
      "epoch 50:\t21.292505998047528\n",
      "Using second variation (average of outputs produced by each set of weight matrices)\n",
      "Epoch 0: 2.950225150687201\n",
      "Epoch 25: 0.004702486502943209\n",
      "Epoch 50: 0.002290272997459562\n",
      "Epoch 75: 0.0015449461443616504\n",
      "Epoch 100: 0.0011761885540111949\n",
      "Epoch 125: 0.0009544513043552301\n",
      "Epoch 150: 0.0008057289717051693\n",
      "W1 size 611\n",
      "W2 size 18\n",
      "W3 size 10\n",
      "Using well-known algorithms: Logistic Regression, RandomForest and MLP\n"
     ]
    },
    {
     "name": "stderr",
     "output_type": "stream",
     "text": [
      "/usr/local/lib/python3.5/dist-packages/sklearn/metrics/classification.py:1135: UndefinedMetricWarning: F-score is ill-defined and being set to 0.0 in labels with no predicted samples.\n",
      "  'precision', 'predicted', average, warn_for)\n",
      "/usr/local/lib/python3.5/dist-packages/sklearn/neural_network/multilayer_perceptron.py:564: ConvergenceWarning: Stochastic Optimizer: Maximum iterations (200) reached and the optimization hasn't converged yet.\n",
      "  % self.max_iter, ConvergenceWarning)\n"
     ]
    },
    {
     "name": "stdout",
     "output_type": "stream",
     "text": [
      "Took: 247.93724870681763\n",
      "--------------------------------------------------\n",
      "En: 450\tTr: 42\n",
      "Using first variation (Regressor and Classifier with score vectors)\n",
      "epoch 0:\t19.547449120494697\n",
      "epoch 10:\t19.414287651838833\n",
      "epoch 20:\t19.30803981710653\n",
      "epoch 30:\t19.236778406268748\n",
      "epoch 40:\t19.180379715436736\n",
      "epoch 50:\t19.123370713071626\n",
      "Using second variation (average of outputs produced by each set of weight matrices)\n",
      "Epoch 0: 1.7466351416902968\n",
      "Epoch 25: 0.0036871374852744977\n",
      "Epoch 50: 0.001781271959554571\n",
      "Epoch 75: 0.0012068976511270437\n",
      "Epoch 100: 0.0009232838298121464\n",
      "Epoch 125: 0.0007525730678290904\n",
      "Epoch 150: 0.0006378985967109529\n",
      "W1 size 397\n",
      "W2 size 17\n",
      "W3 size 10\n",
      "Using well-known algorithms: Logistic Regression, RandomForest and MLP\n"
     ]
    },
    {
     "name": "stderr",
     "output_type": "stream",
     "text": [
      "/usr/local/lib/python3.5/dist-packages/sklearn/metrics/classification.py:1135: UndefinedMetricWarning: F-score is ill-defined and being set to 0.0 in labels with no predicted samples.\n",
      "  'precision', 'predicted', average, warn_for)\n",
      "/usr/local/lib/python3.5/dist-packages/sklearn/metrics/classification.py:1137: UndefinedMetricWarning: F-score is ill-defined and being set to 0.0 in labels with no true samples.\n",
      "  'recall', 'true', average, warn_for)\n",
      "/usr/local/lib/python3.5/dist-packages/sklearn/neural_network/multilayer_perceptron.py:564: ConvergenceWarning: Stochastic Optimizer: Maximum iterations (200) reached and the optimization hasn't converged yet.\n",
      "  % self.max_iter, ConvergenceWarning)\n"
     ]
    },
    {
     "name": "stdout",
     "output_type": "stream",
     "text": [
      "Took: 147.4646966457367\n",
      "--------------------------------------------------\n",
      "En: 450\tTr: 85\n",
      "Using first variation (Regressor and Classifier with score vectors)\n",
      "epoch 0:\t21.52710157274071\n",
      "epoch 10:\t21.34013596719462\n",
      "epoch 20:\t21.187753479585247\n",
      "epoch 30:\t21.059607806628698\n",
      "epoch 40:\t20.964017366176638\n",
      "epoch 50:\t20.87531417581274\n",
      "Using second variation (average of outputs produced by each set of weight matrices)\n",
      "Epoch 0: 4.087571028210838\n",
      "Epoch 25: 0.021402676095654286\n",
      "Epoch 50: 0.00524091120836746\n",
      "Epoch 75: 0.003111357358399044\n",
      "Epoch 100: 0.0022423494199085036\n",
      "Epoch 125: 0.0017644838841591158\n",
      "Epoch 150: 0.0014605421266993442\n",
      "W1 size 428\n",
      "W2 size 17\n",
      "W3 size 10\n",
      "Using well-known algorithms: Logistic Regression, RandomForest and MLP\n"
     ]
    },
    {
     "name": "stderr",
     "output_type": "stream",
     "text": [
      "/usr/local/lib/python3.5/dist-packages/sklearn/metrics/classification.py:1135: UndefinedMetricWarning: F-score is ill-defined and being set to 0.0 in labels with no predicted samples.\n",
      "  'precision', 'predicted', average, warn_for)\n",
      "/usr/local/lib/python3.5/dist-packages/sklearn/neural_network/multilayer_perceptron.py:564: ConvergenceWarning: Stochastic Optimizer: Maximum iterations (200) reached and the optimization hasn't converged yet.\n",
      "  % self.max_iter, ConvergenceWarning)\n"
     ]
    },
    {
     "name": "stdout",
     "output_type": "stream",
     "text": [
      "Took: 163.43531155586243\n",
      "--------------------------------------------------\n",
      "En: 450\tTr: 128\n",
      "Using first variation (Regressor and Classifier with score vectors)\n",
      "epoch 0:\t24.223224027988145\n",
      "epoch 10:\t23.90618506679008\n",
      "epoch 20:\t23.636546820085123\n",
      "epoch 30:\t23.42640538968854\n",
      "epoch 40:\t23.213204644896358\n",
      "epoch 50:\t23.01026033403268\n",
      "Using second variation (average of outputs produced by each set of weight matrices)\n",
      "Epoch 0: 1.8405189009579568\n",
      "Epoch 25: 0.004033696360903251\n",
      "Epoch 50: 0.0016499572610892388\n",
      "Epoch 75: 0.0010934235661571594\n",
      "Epoch 100: 0.0008320753670044197\n",
      "Epoch 125: 0.0006774453281307516\n",
      "Epoch 150: 0.0005742598646956013\n",
      "W1 size 469\n",
      "W2 size 18\n",
      "W3 size 10\n",
      "Using well-known algorithms: Logistic Regression, RandomForest and MLP\n"
     ]
    },
    {
     "name": "stderr",
     "output_type": "stream",
     "text": [
      "/usr/local/lib/python3.5/dist-packages/sklearn/metrics/classification.py:1135: UndefinedMetricWarning: F-score is ill-defined and being set to 0.0 in labels with no predicted samples.\n",
      "  'precision', 'predicted', average, warn_for)\n",
      "/usr/local/lib/python3.5/dist-packages/sklearn/neural_network/multilayer_perceptron.py:564: ConvergenceWarning: Stochastic Optimizer: Maximum iterations (200) reached and the optimization hasn't converged yet.\n",
      "  % self.max_iter, ConvergenceWarning)\n"
     ]
    },
    {
     "name": "stdout",
     "output_type": "stream",
     "text": [
      "Took: 170.29318404197693\n",
      "--------------------------------------------------\n",
      "En: 450\tTr: 170\n",
      "Using first variation (Regressor and Classifier with score vectors)\n",
      "epoch 0:\t20.20982429717598\n",
      "epoch 10:\t20.125705828913407\n",
      "epoch 20:\t20.061667149849278\n",
      "epoch 30:\t19.992580630150485\n",
      "epoch 40:\t19.925016796813374\n",
      "epoch 50:\t19.865440568072135\n",
      "Using second variation (average of outputs produced by each set of weight matrices)\n",
      "Epoch 0: 3.259176982062734\n",
      "Epoch 25: 0.0077308458820082694\n",
      "Epoch 50: 0.0035451366394084055\n",
      "Epoch 75: 0.0023603982499041318\n",
      "Epoch 100: 0.0017866505143150709\n",
      "Epoch 125: 0.0014450449125556662\n",
      "Epoch 150: 0.0012173252771337077\n",
      "W1 size 493\n",
      "W2 size 18\n",
      "W3 size 10\n",
      "Using well-known algorithms: Logistic Regression, RandomForest and MLP\n"
     ]
    },
    {
     "name": "stderr",
     "output_type": "stream",
     "text": [
      "/usr/local/lib/python3.5/dist-packages/sklearn/metrics/classification.py:1135: UndefinedMetricWarning: F-score is ill-defined and being set to 0.0 in labels with no predicted samples.\n",
      "  'precision', 'predicted', average, warn_for)\n"
     ]
    },
    {
     "name": "stdout",
     "output_type": "stream",
     "text": [
      "Took: 190.4299864768982\n",
      "--------------------------------------------------\n",
      "En: 450\tTr: 212\n",
      "Using first variation (Regressor and Classifier with score vectors)\n",
      "epoch 0:\t21.36060460582116\n",
      "epoch 10:\t21.109457816794517\n",
      "epoch 20:\t20.909068762361642\n",
      "epoch 30:\t20.773086583196886\n",
      "epoch 40:\t20.68950814598407\n",
      "epoch 50:\t20.602661850696666\n",
      "Using second variation (average of outputs produced by each set of weight matrices)\n",
      "Epoch 0: 3.7297664627626173\n",
      "Epoch 25: 0.004919751886337491\n",
      "Epoch 50: 0.002411178993920032\n",
      "Epoch 75: 0.001630241149732312\n",
      "Epoch 100: 0.0012430048656079707\n",
      "Epoch 125: 0.0010097336648594033\n",
      "Epoch 150: 0.000853018738054693\n",
      "W1 size 519\n",
      "W2 size 18\n",
      "W3 size 10\n",
      "Using well-known algorithms: Logistic Regression, RandomForest and MLP\n"
     ]
    },
    {
     "name": "stderr",
     "output_type": "stream",
     "text": [
      "/usr/local/lib/python3.5/dist-packages/sklearn/metrics/classification.py:1135: UndefinedMetricWarning: F-score is ill-defined and being set to 0.0 in labels with no predicted samples.\n",
      "  'precision', 'predicted', average, warn_for)\n",
      "/usr/local/lib/python3.5/dist-packages/sklearn/neural_network/multilayer_perceptron.py:564: ConvergenceWarning: Stochastic Optimizer: Maximum iterations (200) reached and the optimization hasn't converged yet.\n",
      "  % self.max_iter, ConvergenceWarning)\n"
     ]
    },
    {
     "name": "stdout",
     "output_type": "stream",
     "text": [
      "Took: 200.44284796714783\n",
      "--------------------------------------------------\n",
      "En: 450\tTr: 255\n",
      "Using first variation (Regressor and Classifier with score vectors)\n",
      "epoch 0:\t22.377641003016283\n",
      "epoch 10:\t22.216530034017175\n",
      "epoch 20:\t22.07089765977835\n",
      "epoch 30:\t21.928816972069367\n",
      "epoch 40:\t21.770850905204448\n",
      "epoch 50:\t21.622852852701094\n",
      "Using second variation (average of outputs produced by each set of weight matrices)\n",
      "Epoch 0: 3.9497375392277414\n",
      "Epoch 25: 0.007571910394050864\n",
      "Epoch 50: 0.002409073032360719\n",
      "Epoch 75: 0.0015512229726092229\n",
      "Epoch 100: 0.0011638609154522087\n",
      "Epoch 125: 0.0009386231823455156\n",
      "Epoch 150: 0.0007900365155197144\n",
      "W1 size 559\n",
      "W2 size 18\n",
      "W3 size 10\n",
      "Using well-known algorithms: Logistic Regression, RandomForest and MLP\n"
     ]
    },
    {
     "name": "stderr",
     "output_type": "stream",
     "text": [
      "/usr/local/lib/python3.5/dist-packages/sklearn/metrics/classification.py:1135: UndefinedMetricWarning: F-score is ill-defined and being set to 0.0 in labels with no predicted samples.\n",
      "  'precision', 'predicted', average, warn_for)\n",
      "/usr/local/lib/python3.5/dist-packages/sklearn/neural_network/multilayer_perceptron.py:564: ConvergenceWarning: Stochastic Optimizer: Maximum iterations (200) reached and the optimization hasn't converged yet.\n",
      "  % self.max_iter, ConvergenceWarning)\n"
     ]
    },
    {
     "name": "stdout",
     "output_type": "stream",
     "text": [
      "Took: 205.84503316879272\n",
      "--------------------------------------------------\n",
      "En: 450\tTr: 298\n",
      "Using first variation (Regressor and Classifier with score vectors)\n",
      "epoch 0:\t23.10919187064614\n",
      "epoch 10:\t22.779774039647542\n",
      "epoch 20:\t22.429577598764592\n",
      "epoch 30:\t22.227973564125087\n",
      "epoch 40:\t22.080154413573684\n",
      "epoch 50:\t21.921730631511842\n",
      "Using second variation (average of outputs produced by each set of weight matrices)\n",
      "Epoch 0: 1.8285878897958863\n",
      "Epoch 25: 0.003570603917253131\n",
      "Epoch 50: 0.0017373571253020874\n",
      "Epoch 75: 0.0011729391297236778\n",
      "Epoch 100: 0.000893579181872997\n",
      "Epoch 125: 0.0007254685916745407\n",
      "Epoch 150: 0.0006126211017481848\n",
      "W1 size 572\n",
      "W2 size 18\n",
      "W3 size 10\n",
      "Using well-known algorithms: Logistic Regression, RandomForest and MLP\n"
     ]
    },
    {
     "name": "stderr",
     "output_type": "stream",
     "text": [
      "/usr/local/lib/python3.5/dist-packages/sklearn/metrics/classification.py:1135: UndefinedMetricWarning: F-score is ill-defined and being set to 0.0 in labels with no predicted samples.\n",
      "  'precision', 'predicted', average, warn_for)\n",
      "/usr/local/lib/python3.5/dist-packages/sklearn/neural_network/multilayer_perceptron.py:564: ConvergenceWarning: Stochastic Optimizer: Maximum iterations (200) reached and the optimization hasn't converged yet.\n",
      "  % self.max_iter, ConvergenceWarning)\n"
     ]
    },
    {
     "name": "stdout",
     "output_type": "stream",
     "text": [
      "Took: 222.17445158958435\n",
      "--------------------------------------------------\n",
      "En: 450\tTr: 340\n",
      "Using first variation (Regressor and Classifier with score vectors)\n",
      "epoch 0:\t22.656117952876947\n",
      "epoch 10:\t22.48172387266056\n",
      "epoch 20:\t22.355008080624792\n",
      "epoch 30:\t22.19209852934335\n",
      "epoch 40:\t22.037459956454786\n",
      "epoch 50:\t21.90974524585821\n",
      "Using second variation (average of outputs produced by each set of weight matrices)\n",
      "Epoch 0: 2.2373589919709715\n",
      "Epoch 25: 0.00386504739797474\n",
      "Epoch 50: 0.0019194232475750125\n",
      "Epoch 75: 0.0012948828821167182\n",
      "Epoch 100: 0.0009836684316178901\n",
      "Epoch 125: 0.0007963675508417862\n",
      "Epoch 150: 0.000670895862768991\n",
      "W1 size 604\n",
      "W2 size 18\n",
      "W3 size 10\n",
      "Using well-known algorithms: Logistic Regression, RandomForest and MLP\n"
     ]
    },
    {
     "name": "stderr",
     "output_type": "stream",
     "text": [
      "/usr/local/lib/python3.5/dist-packages/sklearn/metrics/classification.py:1135: UndefinedMetricWarning: F-score is ill-defined and being set to 0.0 in labels with no predicted samples.\n",
      "  'precision', 'predicted', average, warn_for)\n",
      "/usr/local/lib/python3.5/dist-packages/sklearn/neural_network/multilayer_perceptron.py:564: ConvergenceWarning: Stochastic Optimizer: Maximum iterations (200) reached and the optimization hasn't converged yet.\n",
      "  % self.max_iter, ConvergenceWarning)\n"
     ]
    },
    {
     "name": "stdout",
     "output_type": "stream",
     "text": [
      "Took: 250.46323013305664\n",
      "--------------------------------------------------\n",
      "En: 450\tTr: 382\n",
      "Using first variation (Regressor and Classifier with score vectors)\n",
      "epoch 0:\t27.11462339118342\n",
      "epoch 10:\t26.74059846341292\n",
      "epoch 20:\t26.24451592038208\n",
      "epoch 30:\t25.818532640453792\n",
      "epoch 40:\t25.412827853614665\n",
      "epoch 50:\t25.06208184870101\n",
      "Using second variation (average of outputs produced by each set of weight matrices)\n",
      "Epoch 0: 3.0308555876712218\n",
      "Epoch 25: 0.005042952933096116\n",
      "Epoch 50: 0.0023907708649184398\n",
      "Epoch 75: 0.001614492449651813\n",
      "Epoch 100: 0.0012348317473780401\n",
      "Epoch 125: 0.0010071681404657529\n",
      "Epoch 150: 0.000854474176302219\n",
      "W1 size 631\n",
      "W2 size 18\n",
      "W3 size 10\n",
      "Using well-known algorithms: Logistic Regression, RandomForest and MLP\n"
     ]
    },
    {
     "name": "stderr",
     "output_type": "stream",
     "text": [
      "/usr/local/lib/python3.5/dist-packages/sklearn/metrics/classification.py:1135: UndefinedMetricWarning: F-score is ill-defined and being set to 0.0 in labels with no predicted samples.\n",
      "  'precision', 'predicted', average, warn_for)\n",
      "/usr/local/lib/python3.5/dist-packages/sklearn/neural_network/multilayer_perceptron.py:564: ConvergenceWarning: Stochastic Optimizer: Maximum iterations (200) reached and the optimization hasn't converged yet.\n",
      "  % self.max_iter, ConvergenceWarning)\n"
     ]
    },
    {
     "name": "stdout",
     "output_type": "stream",
     "text": [
      "Took: 241.7436363697052\n",
      "--------------------------------------------------\n",
      "En: 450\tTr: 425\n",
      "Using first variation (Regressor and Classifier with score vectors)\n",
      "epoch 0:\t29.96123084370932\n",
      "epoch 10:\t29.177883078887184\n",
      "epoch 20:\t28.648633934655503\n",
      "epoch 30:\t28.252158273151075\n",
      "epoch 40:\t27.84420470549037\n",
      "epoch 50:\t27.42278891641743\n",
      "Using second variation (average of outputs produced by each set of weight matrices)\n",
      "Epoch 0: 2.4027364698546547\n",
      "Epoch 25: 0.004415096327110291\n",
      "Epoch 50: 0.00206613686734363\n",
      "Epoch 75: 0.0013845561427982766\n",
      "Epoch 100: 0.0010527148309740174\n",
      "Epoch 125: 0.000854534322166111\n",
      "Epoch 150: 0.0007220682998398616\n",
      "W1 size 646\n",
      "W2 size 18\n",
      "W3 size 10\n",
      "Using well-known algorithms: Logistic Regression, RandomForest and MLP\n"
     ]
    },
    {
     "name": "stderr",
     "output_type": "stream",
     "text": [
      "/usr/local/lib/python3.5/dist-packages/sklearn/metrics/classification.py:1135: UndefinedMetricWarning: F-score is ill-defined and being set to 0.0 in labels with no predicted samples.\n",
      "  'precision', 'predicted', average, warn_for)\n",
      "/usr/local/lib/python3.5/dist-packages/sklearn/neural_network/multilayer_perceptron.py:564: ConvergenceWarning: Stochastic Optimizer: Maximum iterations (200) reached and the optimization hasn't converged yet.\n",
      "  % self.max_iter, ConvergenceWarning)\n"
     ]
    },
    {
     "name": "stdout",
     "output_type": "stream",
     "text": [
      "Took: 249.93228912353516\n",
      "--------------------------------------------------\n",
      "En: 500\tTr: 42\n",
      "Using first variation (Regressor and Classifier with score vectors)\n",
      "epoch 0:\t24.691179963396205\n",
      "epoch 10:\t24.504373280132192\n",
      "epoch 20:\t24.246808927424983\n",
      "epoch 30:\t23.8718489901505\n",
      "epoch 40:\t23.560548687234327\n",
      "epoch 50:\t23.302458171448997\n",
      "Using second variation (average of outputs produced by each set of weight matrices)\n",
      "Epoch 0: 2.3327661495120933\n",
      "Epoch 25: 0.005595348200389934\n",
      "Epoch 50: 0.0026473862096896873\n",
      "Epoch 75: 0.0017662414905599113\n",
      "Epoch 100: 0.0013364580492236393\n",
      "Epoch 125: 0.0010803155248513365\n",
      "Epoch 150: 0.000909618343700588\n",
      "W1 size 427\n",
      "W2 size 15\n",
      "W3 size 10\n",
      "Using well-known algorithms: Logistic Regression, RandomForest and MLP\n"
     ]
    },
    {
     "name": "stderr",
     "output_type": "stream",
     "text": [
      "/usr/local/lib/python3.5/dist-packages/sklearn/metrics/classification.py:1135: UndefinedMetricWarning: F-score is ill-defined and being set to 0.0 in labels with no predicted samples.\n",
      "  'precision', 'predicted', average, warn_for)\n",
      "/usr/local/lib/python3.5/dist-packages/sklearn/neural_network/multilayer_perceptron.py:564: ConvergenceWarning: Stochastic Optimizer: Maximum iterations (200) reached and the optimization hasn't converged yet.\n",
      "  % self.max_iter, ConvergenceWarning)\n"
     ]
    },
    {
     "name": "stdout",
     "output_type": "stream",
     "text": [
      "Took: 159.67580032348633\n",
      "--------------------------------------------------\n",
      "En: 500\tTr: 85\n",
      "Using first variation (Regressor and Classifier with score vectors)\n",
      "epoch 0:\t22.086197224863533\n",
      "epoch 10:\t21.840741364621064\n",
      "epoch 20:\t21.615066510672307\n",
      "epoch 30:\t21.47508697522766\n",
      "epoch 40:\t21.342038296510154\n",
      "epoch 50:\t21.214619602298505\n",
      "Using second variation (average of outputs produced by each set of weight matrices)\n",
      "Epoch 0: 4.274338222420591\n",
      "Epoch 25: 0.02841767219237242\n",
      "Epoch 50: 0.0053054759073207745\n",
      "Epoch 75: 0.003053431333839212\n",
      "Epoch 100: 0.0021981027051160163\n",
      "Epoch 125: 0.0017361542645043938\n",
      "Epoch 150: 0.0014436655824524639\n",
      "W1 size 465\n",
      "W2 size 18\n",
      "W3 size 10\n",
      "Using well-known algorithms: Logistic Regression, RandomForest and MLP\n"
     ]
    },
    {
     "name": "stderr",
     "output_type": "stream",
     "text": [
      "/usr/local/lib/python3.5/dist-packages/sklearn/metrics/classification.py:1135: UndefinedMetricWarning: F-score is ill-defined and being set to 0.0 in labels with no predicted samples.\n",
      "  'precision', 'predicted', average, warn_for)\n",
      "/usr/local/lib/python3.5/dist-packages/sklearn/neural_network/multilayer_perceptron.py:564: ConvergenceWarning: Stochastic Optimizer: Maximum iterations (200) reached and the optimization hasn't converged yet.\n",
      "  % self.max_iter, ConvergenceWarning)\n"
     ]
    },
    {
     "name": "stdout",
     "output_type": "stream",
     "text": [
      "Took: 181.96044182777405\n",
      "--------------------------------------------------\n",
      "En: 500\tTr: 128\n",
      "Using first variation (Regressor and Classifier with score vectors)\n",
      "epoch 0:\t20.736651837018904\n",
      "epoch 10:\t20.683669537273296\n",
      "epoch 20:\t20.250298041539946\n",
      "epoch 30:\t20.04550779779266\n",
      "epoch 40:\t19.924415564425395\n",
      "epoch 50:\t19.829191180801455\n",
      "Using second variation (average of outputs produced by each set of weight matrices)\n",
      "Epoch 0: 2.6095493896330852\n",
      "Epoch 25: 0.009916492591509769\n",
      "Epoch 50: 0.00281302800709408\n",
      "Epoch 75: 0.0017473973136971862\n",
      "Epoch 100: 0.0012884505904311293\n",
      "Epoch 125: 0.0010284507755874551\n",
      "Epoch 150: 0.0008596700531908582\n",
      "W1 size 499\n",
      "W2 size 18\n",
      "W3 size 10\n"
     ]
    },
    {
     "name": "stderr",
     "output_type": "stream",
     "text": [
      "/usr/local/lib/python3.5/dist-packages/sklearn/metrics/classification.py:1137: UndefinedMetricWarning: F-score is ill-defined and being set to 0.0 in labels with no true samples.\n",
      "  'recall', 'true', average, warn_for)\n"
     ]
    },
    {
     "name": "stdout",
     "output_type": "stream",
     "text": [
      "Using well-known algorithms: Logistic Regression, RandomForest and MLP\n"
     ]
    },
    {
     "name": "stderr",
     "output_type": "stream",
     "text": [
      "/usr/local/lib/python3.5/dist-packages/sklearn/metrics/classification.py:1135: UndefinedMetricWarning: F-score is ill-defined and being set to 0.0 in labels with no predicted samples.\n",
      "  'precision', 'predicted', average, warn_for)\n",
      "/usr/local/lib/python3.5/dist-packages/sklearn/neural_network/multilayer_perceptron.py:564: ConvergenceWarning: Stochastic Optimizer: Maximum iterations (200) reached and the optimization hasn't converged yet.\n",
      "  % self.max_iter, ConvergenceWarning)\n"
     ]
    },
    {
     "name": "stdout",
     "output_type": "stream",
     "text": [
      "Took: 194.04696917533875\n",
      "--------------------------------------------------\n",
      "En: 500\tTr: 170\n",
      "Using first variation (Regressor and Classifier with score vectors)\n",
      "epoch 0:\t23.498336132104544\n",
      "epoch 10:\t23.233466166866446\n",
      "epoch 20:\t23.12041133914946\n",
      "epoch 30:\t22.98058360571842\n",
      "epoch 40:\t22.857996611904703\n",
      "epoch 50:\t22.701730586753747\n",
      "Using second variation (average of outputs produced by each set of weight matrices)\n",
      "Epoch 0: 4.074866592431762\n",
      "Epoch 25: 0.013303865971974757\n",
      "Epoch 50: 0.003633374801212024\n",
      "Epoch 75: 0.0021427149001912067\n",
      "Epoch 100: 0.0015549962532482727\n",
      "Epoch 125: 0.0012328627292177642\n",
      "Epoch 150: 0.001027412426360519\n",
      "W1 size 530\n",
      "W2 size 18\n",
      "W3 size 10\n",
      "Using well-known algorithms: Logistic Regression, RandomForest and MLP\n"
     ]
    },
    {
     "name": "stderr",
     "output_type": "stream",
     "text": [
      "/usr/local/lib/python3.5/dist-packages/sklearn/metrics/classification.py:1135: UndefinedMetricWarning: F-score is ill-defined and being set to 0.0 in labels with no predicted samples.\n",
      "  'precision', 'predicted', average, warn_for)\n",
      "/usr/local/lib/python3.5/dist-packages/sklearn/neural_network/multilayer_perceptron.py:564: ConvergenceWarning: Stochastic Optimizer: Maximum iterations (200) reached and the optimization hasn't converged yet.\n",
      "  % self.max_iter, ConvergenceWarning)\n"
     ]
    },
    {
     "name": "stdout",
     "output_type": "stream",
     "text": [
      "Took: 190.48053216934204\n",
      "--------------------------------------------------\n",
      "En: 500\tTr: 212\n",
      "Using first variation (Regressor and Classifier with score vectors)\n",
      "epoch 0:\t21.478004849523966\n",
      "epoch 10:\t21.301686516500936\n",
      "epoch 20:\t21.13786563518885\n",
      "epoch 30:\t21.016012785766087\n",
      "epoch 40:\t20.898669529008572\n",
      "epoch 50:\t20.81566316400738\n",
      "Using second variation (average of outputs produced by each set of weight matrices)\n",
      "Epoch 0: 2.2289463284090054\n",
      "Epoch 25: 0.004668137972772525\n",
      "Epoch 50: 0.002298448752267414\n",
      "Epoch 75: 0.0015581014668969077\n",
      "Epoch 100: 0.0011897882981354887\n",
      "Epoch 125: 0.0009674909828384583\n",
      "Epoch 150: 0.0008179824855379424\n",
      "W1 size 561\n",
      "W2 size 18\n",
      "W3 size 10\n",
      "Using well-known algorithms: Logistic Regression, RandomForest and MLP\n"
     ]
    },
    {
     "name": "stderr",
     "output_type": "stream",
     "text": [
      "/usr/local/lib/python3.5/dist-packages/sklearn/metrics/classification.py:1135: UndefinedMetricWarning: F-score is ill-defined and being set to 0.0 in labels with no predicted samples.\n",
      "  'precision', 'predicted', average, warn_for)\n",
      "/usr/local/lib/python3.5/dist-packages/sklearn/neural_network/multilayer_perceptron.py:564: ConvergenceWarning: Stochastic Optimizer: Maximum iterations (200) reached and the optimization hasn't converged yet.\n",
      "  % self.max_iter, ConvergenceWarning)\n"
     ]
    },
    {
     "name": "stdout",
     "output_type": "stream",
     "text": [
      "Took: 224.09056210517883\n",
      "--------------------------------------------------\n",
      "En: 500\tTr: 255\n",
      "Using first variation (Regressor and Classifier with score vectors)\n",
      "epoch 0:\t28.84394600785192\n",
      "epoch 10:\t28.399681790633633\n",
      "epoch 20:\t27.737490566183915\n",
      "epoch 30:\t27.10507437302485\n",
      "epoch 40:\t26.52072981124025\n",
      "epoch 50:\t25.98157804509744\n",
      "Using second variation (average of outputs produced by each set of weight matrices)\n",
      "Epoch 0: 1.9798834579583673\n",
      "Epoch 25: 0.004088954296828087\n",
      "Epoch 50: 0.0019138628993328858\n",
      "Epoch 75: 0.0012744673887577214\n",
      "Epoch 100: 0.0009633412020543078\n",
      "Epoch 125: 0.000778055747365676\n",
      "Epoch 150: 0.0006546279148040334\n",
      "W1 size 586\n",
      "W2 size 18\n",
      "W3 size 10\n",
      "Using well-known algorithms: Logistic Regression, RandomForest and MLP\n"
     ]
    },
    {
     "name": "stderr",
     "output_type": "stream",
     "text": [
      "/usr/local/lib/python3.5/dist-packages/sklearn/metrics/classification.py:1135: UndefinedMetricWarning: F-score is ill-defined and being set to 0.0 in labels with no predicted samples.\n",
      "  'precision', 'predicted', average, warn_for)\n",
      "/usr/local/lib/python3.5/dist-packages/sklearn/neural_network/multilayer_perceptron.py:564: ConvergenceWarning: Stochastic Optimizer: Maximum iterations (200) reached and the optimization hasn't converged yet.\n",
      "  % self.max_iter, ConvergenceWarning)\n"
     ]
    },
    {
     "name": "stdout",
     "output_type": "stream",
     "text": [
      "Took: 230.02452993392944\n",
      "--------------------------------------------------\n",
      "En: 500\tTr: 298\n",
      "Using first variation (Regressor and Classifier with score vectors)\n",
      "epoch 0:\t23.431195739352127\n",
      "epoch 10:\t22.899024166614158\n",
      "epoch 20:\t22.55955152577332\n",
      "epoch 30:\t22.22907706695158\n",
      "epoch 40:\t21.98786451015361\n",
      "epoch 50:\t21.807321073733466\n",
      "Using second variation (average of outputs produced by each set of weight matrices)\n",
      "Epoch 0: 1.8170734668756428\n",
      "Epoch 25: 0.004043914323731156\n",
      "Epoch 50: 0.002007730943150824\n",
      "Epoch 75: 0.0013646301857151751\n",
      "Epoch 100: 0.001044120683288374\n",
      "Epoch 125: 0.000850583626379817\n",
      "Epoch 150: 0.0007204123145688731\n",
      "W1 size 616\n",
      "W2 size 18\n",
      "W3 size 10\n",
      "Using well-known algorithms: Logistic Regression, RandomForest and MLP\n"
     ]
    },
    {
     "name": "stderr",
     "output_type": "stream",
     "text": [
      "/usr/local/lib/python3.5/dist-packages/sklearn/metrics/classification.py:1135: UndefinedMetricWarning: F-score is ill-defined and being set to 0.0 in labels with no predicted samples.\n",
      "  'precision', 'predicted', average, warn_for)\n",
      "/usr/local/lib/python3.5/dist-packages/sklearn/neural_network/multilayer_perceptron.py:564: ConvergenceWarning: Stochastic Optimizer: Maximum iterations (200) reached and the optimization hasn't converged yet.\n",
      "  % self.max_iter, ConvergenceWarning)\n"
     ]
    },
    {
     "name": "stdout",
     "output_type": "stream",
     "text": [
      "Took: 232.98834609985352\n",
      "--------------------------------------------------\n",
      "En: 500\tTr: 340\n",
      "Using first variation (Regressor and Classifier with score vectors)\n",
      "epoch 0:\t21.76984627213189\n",
      "epoch 10:\t21.69890283680141\n",
      "epoch 20:\t21.595166386946175\n",
      "epoch 30:\t21.467118852844514\n",
      "epoch 40:\t21.350110314522293\n",
      "epoch 50:\t21.238933812204234\n",
      "Using second variation (average of outputs produced by each set of weight matrices)\n",
      "Epoch 0: 2.507636273993525\n",
      "Epoch 25: 0.004438680281936667\n",
      "Epoch 50: 0.0021920964462454422\n",
      "Epoch 75: 0.0014975030559903975\n",
      "Epoch 100: 0.0011508384328448378\n",
      "Epoch 125: 0.0009406804399366497\n",
      "Epoch 150: 0.0007987729978308116\n",
      "W1 size 641\n",
      "W2 size 18\n",
      "W3 size 10\n",
      "Using well-known algorithms: Logistic Regression, RandomForest and MLP\n"
     ]
    },
    {
     "name": "stderr",
     "output_type": "stream",
     "text": [
      "/usr/local/lib/python3.5/dist-packages/sklearn/metrics/classification.py:1135: UndefinedMetricWarning: F-score is ill-defined and being set to 0.0 in labels with no predicted samples.\n",
      "  'precision', 'predicted', average, warn_for)\n",
      "/usr/local/lib/python3.5/dist-packages/sklearn/neural_network/multilayer_perceptron.py:564: ConvergenceWarning: Stochastic Optimizer: Maximum iterations (200) reached and the optimization hasn't converged yet.\n",
      "  % self.max_iter, ConvergenceWarning)\n"
     ]
    },
    {
     "name": "stdout",
     "output_type": "stream",
     "text": [
      "Took: 228.5740261077881\n",
      "--------------------------------------------------\n",
      "En: 500\tTr: 382\n",
      "Using first variation (Regressor and Classifier with score vectors)\n",
      "epoch 0:\t21.253572671476206\n",
      "epoch 10:\t21.195479743429267\n",
      "epoch 20:\t21.088661378096884\n",
      "epoch 30:\t20.994089357160455\n",
      "epoch 40:\t20.933708169147856\n",
      "epoch 50:\t20.87601202950813\n",
      "Using second variation (average of outputs produced by each set of weight matrices)\n",
      "Epoch 0: 2.1389825170375754\n",
      "Epoch 25: 0.003813615958058831\n",
      "Epoch 50: 0.0018621763778172123\n",
      "Epoch 75: 0.0012514511629331572\n",
      "Epoch 100: 0.0009486909528071488\n",
      "Epoch 125: 0.0007668263424423952\n",
      "Epoch 150: 0.0006451128522362338\n",
      "W1 size 652\n",
      "W2 size 18\n",
      "W3 size 10\n",
      "Using well-known algorithms: Logistic Regression, RandomForest and MLP\n"
     ]
    },
    {
     "name": "stderr",
     "output_type": "stream",
     "text": [
      "/usr/local/lib/python3.5/dist-packages/sklearn/metrics/classification.py:1135: UndefinedMetricWarning: F-score is ill-defined and being set to 0.0 in labels with no predicted samples.\n",
      "  'precision', 'predicted', average, warn_for)\n",
      "/usr/local/lib/python3.5/dist-packages/sklearn/neural_network/multilayer_perceptron.py:564: ConvergenceWarning: Stochastic Optimizer: Maximum iterations (200) reached and the optimization hasn't converged yet.\n",
      "  % self.max_iter, ConvergenceWarning)\n"
     ]
    },
    {
     "name": "stdout",
     "output_type": "stream",
     "text": [
      "Took: 247.22057175636292\n",
      "--------------------------------------------------\n",
      "En: 500\tTr: 425\n",
      "Using first variation (Regressor and Classifier with score vectors)\n",
      "epoch 0:\t24.232132378668226\n",
      "epoch 10:\t23.85527773362982\n",
      "epoch 20:\t23.330518937618347\n",
      "epoch 30:\t22.997198813177363\n",
      "epoch 40:\t22.694737047970026\n",
      "epoch 50:\t22.43616833897214\n",
      "Using second variation (average of outputs produced by each set of weight matrices)\n",
      "Epoch 0: 1.7484809679874602\n",
      "Epoch 25: 0.004470524954066777\n",
      "Epoch 50: 0.0020445942309528175\n",
      "Epoch 75: 0.0013601829879409607\n",
      "Epoch 100: 0.0010305221883511976\n",
      "Epoch 125: 0.0008347183881057783\n",
      "Epoch 150: 0.0007042807350330805\n",
      "W1 size 675\n",
      "W2 size 18\n",
      "W3 size 10\n",
      "Using well-known algorithms: Logistic Regression, RandomForest and MLP\n"
     ]
    },
    {
     "name": "stderr",
     "output_type": "stream",
     "text": [
      "/usr/local/lib/python3.5/dist-packages/sklearn/metrics/classification.py:1135: UndefinedMetricWarning: F-score is ill-defined and being set to 0.0 in labels with no predicted samples.\n",
      "  'precision', 'predicted', average, warn_for)\n"
     ]
    },
    {
     "name": "stdout",
     "output_type": "stream",
     "text": [
      "Took: 272.48110246658325\n",
      "--------------------------------------------------\n"
     ]
    },
    {
     "name": "stderr",
     "output_type": "stream",
     "text": [
      "/usr/local/lib/python3.5/dist-packages/sklearn/neural_network/multilayer_perceptron.py:564: ConvergenceWarning: Stochastic Optimizer: Maximum iterations (200) reached and the optimization hasn't converged yet.\n",
      "  % self.max_iter, ConvergenceWarning)\n"
     ]
    }
   ],
   "source": [
    "robustness = robustness_test(df, tronly_test_raw)\n",
    "pickle.dump(robustness, open(\"../results/robustness.results\", \"wb\"))"
   ]
  },
  {
   "cell_type": "markdown",
   "metadata": {},
   "source": [
    "# grouping labels\n",
    "### label = 1   if review_score > 7\n",
    "### label = 0   if 7 >= review_score >= 4\n",
    "### label = -1  if review_score < 4"
   ]
  },
  {
   "cell_type": "code",
   "execution_count": 44,
   "metadata": {},
   "outputs": [],
   "source": [
    "def group_labels(x):\n",
    "    if x>7:\n",
    "        return 1\n",
    "    elif x>=4:\n",
    "        return 0\n",
    "    return -1"
   ]
  },
  {
   "cell_type": "code",
   "execution_count": 45,
   "metadata": {},
   "outputs": [
    {
     "data": {
      "text/html": [
       "<div>\n",
       "<style scoped>\n",
       "    .dataframe tbody tr th:only-of-type {\n",
       "        vertical-align: middle;\n",
       "    }\n",
       "\n",
       "    .dataframe tbody tr th {\n",
       "        vertical-align: top;\n",
       "    }\n",
       "\n",
       "    .dataframe thead th {\n",
       "        text-align: right;\n",
       "    }\n",
       "</style>\n",
       "<table border=\"1\" class=\"dataframe\">\n",
       "  <thead>\n",
       "    <tr style=\"text-align: right;\">\n",
       "      <th></th>\n",
       "      <th>Language</th>\n",
       "      <th>Movie_ID</th>\n",
       "      <th>Review</th>\n",
       "    </tr>\n",
       "    <tr>\n",
       "      <th>Score</th>\n",
       "      <th></th>\n",
       "      <th></th>\n",
       "      <th></th>\n",
       "    </tr>\n",
       "  </thead>\n",
       "  <tbody>\n",
       "    <tr>\n",
       "      <th>-1</th>\n",
       "      <td>64</td>\n",
       "      <td>64</td>\n",
       "      <td>64</td>\n",
       "    </tr>\n",
       "    <tr>\n",
       "      <th>0</th>\n",
       "      <td>220</td>\n",
       "      <td>220</td>\n",
       "      <td>220</td>\n",
       "    </tr>\n",
       "    <tr>\n",
       "      <th>1</th>\n",
       "      <td>716</td>\n",
       "      <td>716</td>\n",
       "      <td>716</td>\n",
       "    </tr>\n",
       "  </tbody>\n",
       "</table>\n",
       "</div>"
      ],
      "text/plain": [
       "       Language  Movie_ID  Review\n",
       "Score                            \n",
       "-1           64        64      64\n",
       " 0          220       220     220\n",
       " 1          716       716     716"
      ]
     },
     "execution_count": 45,
     "metadata": {},
     "output_type": "execute_result"
    }
   ],
   "source": [
    "df_full_tri = deepcopy(df_full)\n",
    "df_full_tri[\"Score\"] = df_full_tri.Score.apply(group_labels)\n",
    "df_full_tri.groupby(\"Score\").count()"
   ]
  },
  {
   "cell_type": "code",
   "execution_count": 46,
   "metadata": {},
   "outputs": [
    {
     "data": {
      "text/plain": [
       "Language    0\n",
       "Movie_ID    0\n",
       "Score       0\n",
       "rev_vec     0\n",
       "dtype: int64"
      ]
     },
     "execution_count": 46,
     "metadata": {},
     "output_type": "execute_result"
    }
   ],
   "source": [
    "tr_tri_test_indices = get_separate_test_indices(df_full_tri)\n",
    "\n",
    "tronly_test_raw_tri = df_full_tri.loc[tr_tri_test_indices]\n",
    "tronly_test_tri = preprocess_data(tronly_test_raw_tri)\n",
    "tronly_test_tri[tronly_test_tri.Language==\"en\"].count()"
   ]
  },
  {
   "cell_type": "code",
   "execution_count": 47,
   "metadata": {},
   "outputs": [
    {
     "data": {
      "text/html": [
       "<div>\n",
       "<style scoped>\n",
       "    .dataframe tbody tr th:only-of-type {\n",
       "        vertical-align: middle;\n",
       "    }\n",
       "\n",
       "    .dataframe tbody tr th {\n",
       "        vertical-align: top;\n",
       "    }\n",
       "\n",
       "    .dataframe thead th {\n",
       "        text-align: right;\n",
       "    }\n",
       "</style>\n",
       "<table border=\"1\" class=\"dataframe\">\n",
       "  <thead>\n",
       "    <tr style=\"text-align: right;\">\n",
       "      <th></th>\n",
       "      <th>Language</th>\n",
       "      <th>Movie_ID</th>\n",
       "      <th>Review</th>\n",
       "    </tr>\n",
       "    <tr>\n",
       "      <th>Score</th>\n",
       "      <th></th>\n",
       "      <th></th>\n",
       "      <th></th>\n",
       "    </tr>\n",
       "  </thead>\n",
       "  <tbody>\n",
       "    <tr>\n",
       "      <th>-1</th>\n",
       "      <td>46</td>\n",
       "      <td>46</td>\n",
       "      <td>46</td>\n",
       "    </tr>\n",
       "    <tr>\n",
       "      <th>0</th>\n",
       "      <td>190</td>\n",
       "      <td>190</td>\n",
       "      <td>190</td>\n",
       "    </tr>\n",
       "    <tr>\n",
       "      <th>1</th>\n",
       "      <td>685</td>\n",
       "      <td>685</td>\n",
       "      <td>685</td>\n",
       "    </tr>\n",
       "  </tbody>\n",
       "</table>\n",
       "</div>"
      ],
      "text/plain": [
       "       Language  Movie_ID  Review\n",
       "Score                            \n",
       "-1           46        46      46\n",
       " 0          190       190     190\n",
       " 1          685       685     685"
      ]
     },
     "execution_count": 47,
     "metadata": {},
     "output_type": "execute_result"
    }
   ],
   "source": [
    "df_tri = df_full_tri.drop(tr_tri_test_indices)\n",
    "df_tri.groupby(\"Score\").count()"
   ]
  },
  {
   "cell_type": "code",
   "execution_count": 48,
   "metadata": {
    "scrolled": true
   },
   "outputs": [
    {
     "name": "stdout",
     "output_type": "stream",
     "text": [
      "Trial:\t1\n",
      "K:\t1\n",
      "epoch 0:\t20.538489619837947\n",
      "epoch 10:\t20.272445196496356\n",
      "epoch 20:\t19.808824282668727\n",
      "epoch 30:\t19.289966135717094\n",
      "epoch 40:\t18.8088863702296\n",
      "epoch 50:\t18.438227153467817\n"
     ]
    },
    {
     "name": "stderr",
     "output_type": "stream",
     "text": [
      "/usr/local/lib/python3.5/dist-packages/sklearn/metrics/classification.py:1135: UndefinedMetricWarning: F-score is ill-defined and being set to 0.0 in labels with no predicted samples.\n",
      "  'precision', 'predicted', average, warn_for)\n",
      "/usr/local/lib/python3.5/dist-packages/sklearn/metrics/classification.py:1135: UndefinedMetricWarning: F-score is ill-defined and being set to 0.0 in labels with no predicted samples.\n",
      "  'precision', 'predicted', average, warn_for)\n"
     ]
    },
    {
     "name": "stdout",
     "output_type": "stream",
     "text": [
      "\n",
      "K:\t1\n",
      "                DeepSelect       MLP  Logistic Regression  RandomForest\n",
      "F1 Test           0.166667  0.700452             0.646481      0.698469\n",
      "F1 Tr. only       0.166667  0.220370             0.166667      0.215447\n",
      "F1 Train          0.633116       NaN                  NaN           NaN\n",
      "Pred.Tra. Time    1.619227       NaN                  NaN           NaN\n",
      "Test              0.913978  0.917563             0.913978      0.906810\n",
      "Testing Time      0.008567  0.000290             0.000149      0.103257\n",
      "Tr. Only          0.666667  0.680135             0.666667      0.680135\n",
      "Tr.Test Time      0.013484  0.000291             0.000125      0.105187\n",
      "Train             0.896135       NaN                  NaN           NaN\n",
      "Training Time    10.459429  0.805357             0.057503      0.110982\n",
      "\n",
      "This fold took: 12.293368339538574 seconds\n",
      "\n",
      "**********\n",
      "\n",
      "K:\t2\n",
      "epoch 0:\t24.06245892661973\n",
      "epoch 10:\t23.126117340118522\n",
      "epoch 20:\t22.394170277591453\n",
      "epoch 30:\t21.722613921309417\n",
      "epoch 40:\t21.046582144314556\n",
      "epoch 50:\t20.483087933325912\n"
     ]
    },
    {
     "name": "stderr",
     "output_type": "stream",
     "text": [
      "/usr/local/lib/python3.5/dist-packages/sklearn/metrics/classification.py:1135: UndefinedMetricWarning: F-score is ill-defined and being set to 0.0 in labels with no predicted samples.\n",
      "  'precision', 'predicted', average, warn_for)\n"
     ]
    },
    {
     "name": "stdout",
     "output_type": "stream",
     "text": [
      "\n",
      "K:\t2\n",
      "                DeepSelect       MLP  Logistic Regression  RandomForest\n",
      "F1 Test           0.166667  0.564221             0.514874      0.510322\n",
      "F1 Tr. only       0.166667  0.204000             0.166667      0.247387\n",
      "F1 Train          0.648143       NaN                  NaN           NaN\n",
      "Pred.Tra. Time    1.603802       NaN                  NaN           NaN\n",
      "Test              0.862319  0.873188             0.862319      0.840580\n",
      "Testing Time      0.008619  0.000279             0.000143      0.102432\n",
      "Tr. Only          0.666667  0.683502             0.666667      0.683502\n",
      "Tr.Test Time      0.013091  0.000287             0.000121      0.105765\n",
      "Train             0.901890       NaN                  NaN           NaN\n",
      "Training Time    10.620495  0.571227             0.052788      0.111038\n",
      "\n",
      "This fold took: 12.46405577659607 seconds\n",
      "\n",
      "**********\n",
      "\n",
      "K:\t3\n",
      "epoch 0:\t22.421463545066587\n",
      "epoch 10:\t22.340495128213423\n",
      "epoch 20:\t21.972054966939382\n",
      "epoch 30:\t21.730435652287213\n",
      "epoch 40:\t21.523029283044448\n",
      "epoch 50:\t21.347626648286184\n"
     ]
    },
    {
     "name": "stderr",
     "output_type": "stream",
     "text": [
      "/usr/local/lib/python3.5/dist-packages/sklearn/metrics/classification.py:1135: UndefinedMetricWarning: F-score is ill-defined and being set to 0.0 in labels with no predicted samples.\n",
      "  'precision', 'predicted', average, warn_for)\n"
     ]
    },
    {
     "name": "stdout",
     "output_type": "stream",
     "text": [
      "\n",
      "K:\t3\n",
      "                DeepSelect       MLP  Logistic Regression  RandomForest\n",
      "F1 Test           0.166667  0.647031             0.613754      0.629355\n",
      "F1 Tr. only       0.166667  0.215361             0.166667      0.215911\n",
      "F1 Train          0.636772       NaN                  NaN           NaN\n",
      "Pred.Tra. Time    1.619200       NaN                  NaN           NaN\n",
      "Test              0.891304  0.891304             0.891304      0.876812\n",
      "Testing Time      0.008472  0.000280             0.000141      0.102929\n",
      "Tr. Only          0.666667  0.670034             0.666667      0.686869\n",
      "Tr.Test Time      0.013097  0.000295             0.000121      0.104555\n",
      "Train             0.898673       NaN                  NaN           NaN\n",
      "Training Time    11.089092  0.761631             0.054112      0.111039\n",
      "\n",
      "This fold took: 12.917760133743286 seconds\n",
      "\n",
      "**********\n",
      "\n",
      "K:\t4\n",
      "epoch 0:\t32.20727599332056\n",
      "epoch 10:\t31.735994777129974\n",
      "epoch 20:\t30.60413349270365\n",
      "epoch 30:\t29.822793510154042\n",
      "epoch 40:\t29.341446419991286\n",
      "epoch 50:\t29.035917187845357\n"
     ]
    },
    {
     "name": "stderr",
     "output_type": "stream",
     "text": [
      "/usr/local/lib/python3.5/dist-packages/sklearn/metrics/classification.py:1135: UndefinedMetricWarning: F-score is ill-defined and being set to 0.0 in labels with no predicted samples.\n",
      "  'precision', 'predicted', average, warn_for)\n"
     ]
    },
    {
     "name": "stdout",
     "output_type": "stream",
     "text": [
      "\n",
      "K:\t4\n",
      "                DeepSelect       MLP  Logistic Regression  RandomForest\n",
      "F1 Test           0.166667  0.658816             0.628261      0.565547\n",
      "F1 Tr. only       0.166667  0.232397             0.166667      0.184013\n",
      "F1 Train          0.635152       NaN                  NaN           NaN\n",
      "Pred.Tra. Time    1.599719       NaN                  NaN           NaN\n",
      "Test              0.887681  0.891304             0.887681      0.844203\n",
      "Testing Time      0.008493  0.000278             0.000137      0.103132\n",
      "Tr. Only          0.666667  0.673401             0.666667      0.666667\n",
      "Tr.Test Time      0.013019  0.000288             0.000121      0.105632\n",
      "Train             0.899075       NaN                  NaN           NaN\n",
      "Training Time    10.474625  0.697730             0.052659      0.110940\n",
      "\n",
      "This fold took: 12.299926519393921 seconds\n",
      "\n",
      "**********\n",
      "\n",
      "K:\t5\n",
      "epoch 0:\t19.092023265456522\n",
      "epoch 10:\t18.65998719907206\n",
      "epoch 20:\t18.577175017695154\n",
      "epoch 30:\t18.502614859831287\n",
      "epoch 40:\t18.431829060631674\n",
      "epoch 50:\t18.363214436425608\n"
     ]
    },
    {
     "name": "stderr",
     "output_type": "stream",
     "text": [
      "/usr/local/lib/python3.5/dist-packages/sklearn/metrics/classification.py:1135: UndefinedMetricWarning: F-score is ill-defined and being set to 0.0 in labels with no predicted samples.\n",
      "  'precision', 'predicted', average, warn_for)\n"
     ]
    },
    {
     "name": "stdout",
     "output_type": "stream",
     "text": [
      "\n",
      "K:\t5\n",
      "                DeepSelect       MLP  Logistic Regression  RandomForest\n",
      "F1 Test           0.166667  0.669440             0.657542      0.641649\n",
      "F1 Tr. only       0.166667  0.202412             0.166667      0.173974\n",
      "F1 Train          0.631915       NaN                  NaN           NaN\n",
      "Pred.Tra. Time    1.613086       NaN                  NaN           NaN\n",
      "Test              0.905797  0.902174             0.905797      0.884058\n",
      "Testing Time      0.008538  0.000286             0.000143      0.105208\n",
      "Tr. Only          0.666667  0.670034             0.666667      0.673401\n",
      "Tr.Test Time      0.013087  0.000288             0.000120      0.105263\n",
      "Train             0.897065       NaN                  NaN           NaN\n",
      "Training Time    10.625172  0.625388             0.052992      0.111376\n",
      "\n",
      "This fold took: 12.457647800445557 seconds\n",
      "\n",
      "**********\n",
      "\n",
      "K:\t6\n",
      "epoch 0:\t20.641226218768107\n",
      "epoch 10:\t20.36816111547508\n",
      "epoch 20:\t20.318139800766147\n",
      "epoch 30:\t20.1872365391143\n",
      "epoch 40:\t20.07195147131867\n",
      "epoch 50:\t20.00253844762137\n"
     ]
    },
    {
     "name": "stderr",
     "output_type": "stream",
     "text": [
      "/usr/local/lib/python3.5/dist-packages/sklearn/metrics/classification.py:1135: UndefinedMetricWarning: F-score is ill-defined and being set to 0.0 in labels with no predicted samples.\n",
      "  'precision', 'predicted', average, warn_for)\n"
     ]
    },
    {
     "name": "stdout",
     "output_type": "stream",
     "text": [
      "\n",
      "K:\t6\n",
      "                DeepSelect       MLP  Logistic Regression  RandomForest\n",
      "F1 Test           0.166667  0.576794             0.556662      0.580451\n",
      "F1 Tr. only       0.166667  0.254782             0.166667      0.194739\n",
      "F1 Train          0.643263       NaN                  NaN           NaN\n",
      "Pred.Tra. Time    1.608557       NaN                  NaN           NaN\n",
      "Test              0.873188  0.865942             0.873188      0.862319\n",
      "Testing Time      0.008492  0.000286             0.000139      0.102537\n",
      "Tr. Only          0.666667  0.680135             0.666667      0.670034\n",
      "Tr.Test Time      0.013131  0.000290             0.000120      0.105154\n",
      "Train             0.900684       NaN                  NaN           NaN\n",
      "Training Time    10.672237  0.650600             0.052948      0.110982\n",
      "\n",
      "This fold took: 12.490660190582275 seconds\n",
      "\n",
      "**********\n",
      "\n",
      "K:\t7\n",
      "epoch 0:\t20.555511084485065\n",
      "epoch 10:\t20.155553159536357\n",
      "epoch 20:\t20.095202433804502\n",
      "epoch 30:\t20.00876741200811\n",
      "epoch 40:\t19.919589603001597\n",
      "epoch 50:\t19.805355898030584\n"
     ]
    },
    {
     "name": "stderr",
     "output_type": "stream",
     "text": [
      "/usr/local/lib/python3.5/dist-packages/sklearn/metrics/classification.py:1135: UndefinedMetricWarning: F-score is ill-defined and being set to 0.0 in labels with no predicted samples.\n",
      "  'precision', 'predicted', average, warn_for)\n"
     ]
    },
    {
     "name": "stdout",
     "output_type": "stream",
     "text": [
      "\n",
      "K:\t7\n",
      "                DeepSelect       MLP  Logistic Regression  RandomForest\n",
      "F1 Test           0.166667  0.737212             0.657542      0.697745\n",
      "F1 Tr. only       0.166667  0.215303             0.166667      0.237179\n",
      "F1 Train          0.631915       NaN                  NaN           NaN\n",
      "Pred.Tra. Time    1.564304       NaN                  NaN           NaN\n",
      "Test              0.909420  0.913043             0.909420      0.898551\n",
      "Testing Time      0.008498  0.000314             0.000142      0.105141\n",
      "Tr. Only          0.666667  0.673401             0.666667      0.676768\n",
      "Tr.Test Time      0.013071  0.000297             0.000119      0.105654\n",
      "Train             0.896663       NaN                  NaN           NaN\n",
      "Training Time    10.806979  0.922641             0.054740      0.111346\n",
      "\n",
      "This fold took: 12.626578569412231 seconds\n",
      "\n",
      "**********\n",
      "\n",
      "K:\t8\n",
      "epoch 0:\t22.132313059609146\n",
      "epoch 10:\t21.759848120717717\n",
      "epoch 20:\t21.561474942603017\n",
      "epoch 30:\t21.37804030449559\n",
      "epoch 40:\t21.199958928440527\n",
      "epoch 50:\t21.02066164313122\n"
     ]
    },
    {
     "name": "stderr",
     "output_type": "stream",
     "text": [
      "/usr/local/lib/python3.5/dist-packages/sklearn/metrics/classification.py:1135: UndefinedMetricWarning: F-score is ill-defined and being set to 0.0 in labels with no predicted samples.\n",
      "  'precision', 'predicted', average, warn_for)\n"
     ]
    },
    {
     "name": "stdout",
     "output_type": "stream",
     "text": [
      "\n",
      "K:\t8\n",
      "                DeepSelect       MLP  Logistic Regression  RandomForest\n",
      "F1 Test           0.166667  0.747412             0.747412      0.753261\n",
      "F1 Tr. only       0.166667  0.197494             0.166667      0.210744\n",
      "F1 Train          0.622230       NaN                  NaN           NaN\n",
      "Pred.Tra. Time    1.604991       NaN                  NaN           NaN\n",
      "Test              0.934783  0.934783             0.934783      0.913043\n",
      "Testing Time      0.008554  0.000310             0.000154      0.102764\n",
      "Tr. Only          0.666667  0.666667             0.666667      0.683502\n",
      "Tr.Test Time      0.013083  0.000299             0.000128      0.104789\n",
      "Train             0.893848       NaN                  NaN           NaN\n",
      "Training Time    10.556268  0.687005             0.054852      0.111000\n",
      "\n",
      "This fold took: 12.39683985710144 seconds\n",
      "\n",
      "**********\n",
      "\n",
      "K:\t9\n",
      "epoch 0:\t24.98479820306608\n",
      "epoch 10:\t24.195145633840458\n",
      "epoch 20:\t23.787044774293708\n",
      "epoch 30:\t23.39122889217084\n",
      "epoch 40:\t23.031547886274193\n",
      "epoch 50:\t22.66237927436292\n"
     ]
    },
    {
     "name": "stderr",
     "output_type": "stream",
     "text": [
      "/usr/local/lib/python3.5/dist-packages/sklearn/metrics/classification.py:1135: UndefinedMetricWarning: F-score is ill-defined and being set to 0.0 in labels with no predicted samples.\n",
      "  'precision', 'predicted', average, warn_for)\n"
     ]
    },
    {
     "name": "stdout",
     "output_type": "stream",
     "text": [
      "\n",
      "K:\t9\n",
      "                DeepSelect       MLP  Logistic Regression  RandomForest\n",
      "F1 Test           0.166667  0.633083             0.599340      0.629662\n",
      "F1 Tr. only       0.166667  0.231414             0.162850      0.236547\n",
      "F1 Train          0.638393       NaN                  NaN           NaN\n",
      "Pred.Tra. Time    1.639757       NaN                  NaN           NaN\n",
      "Test              0.873188  0.869565             0.873188      0.869565\n",
      "Testing Time      0.008374  0.000283             0.000137      0.103121\n",
      "Tr. Only          0.666667  0.686869             0.663300      0.670034\n",
      "Tr.Test Time      0.012987  0.000285             0.000118      0.104401\n",
      "Train             0.900684       NaN                  NaN           NaN\n",
      "Training Time    10.722197  0.611224             0.057265      0.110834\n",
      "\n",
      "This fold took: 12.568438291549683 seconds\n",
      "\n",
      "**********\n",
      "\n",
      "K:\t10\n",
      "epoch 0:\t22.737691061649286\n",
      "epoch 10:\t21.602237376699026\n",
      "epoch 20:\t21.12593481571624\n",
      "epoch 30:\t20.761058219374075\n",
      "epoch 40:\t20.457123533199407\n",
      "epoch 50:\t20.198883084429564\n",
      "\n",
      "K:\t10\n",
      "                DeepSelect       MLP  Logistic Regression  RandomForest\n",
      "F1 Test           0.166667  0.726820             0.732231      0.750148\n",
      "F1 Tr. only       0.166667  0.197494             0.166667      0.210000\n",
      "F1 Train          0.623842       NaN                  NaN           NaN\n",
      "Pred.Tra. Time    1.609116       NaN                  NaN           NaN\n",
      "Test              0.927536  0.923913             0.927536      0.905797\n",
      "Testing Time      0.008532  0.000293             0.000140      0.105170\n",
      "Tr. Only          0.666667  0.666667             0.666667      0.670034\n",
      "Tr.Test Time      0.013047  0.000281             0.000124      0.105376\n",
      "Train             0.894652       NaN                  NaN           NaN\n",
      "Training Time    10.671763  0.512228             0.059787      0.112073\n",
      "\n",
      "This fold took: 12.499074935913086 seconds\n",
      "\n",
      "**********\n",
      "\n",
      "Average scores for trial 0\n",
      "                DeepSelect  Logistic Regression       MLP  RandomForest\n",
      "F1 Test           0.166667             0.635410  0.666128      0.645661\n",
      "F1 Tr. only       0.166667             0.166285  0.217103      0.212594\n",
      "F1 Train          0.634474                  NaN       NaN           NaN\n",
      "Pred.Tra. Time    1.608176                  NaN       NaN           NaN\n",
      "Test              0.897920             0.897920  0.898278      0.880174\n",
      "Testing Time      0.008514             0.000143  0.000290      0.103569\n",
      "Tr. Only          0.666667             0.666330  0.675084      0.676094\n",
      "Tr.Test Time      0.013110             0.000122  0.000290      0.105178\n",
      "Train             0.897937                  NaN       NaN           NaN\n",
      "Training Time    10.669826             0.054965  0.684503      0.111161\n",
      "------------------------------\n",
      "%%%%%%%%%%%%%%%%%%%%%%%%%%%%%%%%%%%%%%%%\n",
      "Average of 1 trials\n",
      "                DeepSelect  Logistic Regression       MLP  RandomForest\n",
      "F1 Test           0.166667             0.635410  0.666128      0.645661\n",
      "F1 Tr. only       0.166667             0.166285  0.217103      0.212594\n",
      "F1 Train          0.634474                  NaN       NaN           NaN\n",
      "Pred.Tra. Time    1.608176                  NaN       NaN           NaN\n",
      "Test              0.897920             0.897920  0.898278      0.880174\n",
      "Testing Time      0.008514             0.000143  0.000290      0.103569\n",
      "Tr. Only          0.666667             0.666330  0.675084      0.676094\n",
      "Tr.Test Time      0.013110             0.000122  0.000290      0.105178\n",
      "Train             0.897937                  NaN       NaN           NaN\n",
      "Training Time    10.669826             0.054965  0.684503      0.111161\n"
     ]
    },
    {
     "name": "stderr",
     "output_type": "stream",
     "text": [
      "/usr/local/lib/python3.5/dist-packages/sklearn/metrics/classification.py:1135: UndefinedMetricWarning: F-score is ill-defined and being set to 0.0 in labels with no predicted samples.\n",
      "  'precision', 'predicted', average, warn_for)\n"
     ]
    }
   ],
   "source": [
    "scores_tables_tri = eval_selectivewaves_regclass(df_tri, tronly_test_raw_tri)\n",
    "pickle.dump(scores_tables_tri, open(\"../results/batch_no_tf_tables_tri.results\", \"wb\"))"
   ]
  },
  {
   "cell_type": "code",
   "execution_count": 49,
   "metadata": {
    "scrolled": true
   },
   "outputs": [
    {
     "name": "stdout",
     "output_type": "stream",
     "text": [
      "Trial:\t1\n",
      "K: \t1\n",
      "Epoch 0: 0.35734877016062083\n",
      "Epoch 25: 0.0004451962791145362\n",
      "Epoch 50: 0.00022306337773128263\n",
      "Epoch 75: 0.00015080205319309116\n",
      "Epoch 100: 0.0001144895737975395\n",
      "Epoch 125: 9.25208237180193e-05\n",
      "Epoch 150: 7.776170317611623e-05\n",
      "W1 size 424\n",
      "W2 size 6\n",
      "W3 size 3\n",
      "Took: 141.03040981292725 for training\n",
      "Took: 346.6736583709717 for predicting 828 training instances\n",
      "Took: 42.0619170665741 for predicting 93 test instances\n",
      "Took: 53.068485498428345 for predicting 99 Turkish test instances\n"
     ]
    },
    {
     "name": "stderr",
     "output_type": "stream",
     "text": [
      "/usr/local/lib/python3.5/dist-packages/sklearn/metrics/classification.py:1135: UndefinedMetricWarning: F-score is ill-defined and being set to 0.0 in labels with no predicted samples.\n",
      "  'precision', 'predicted', average, warn_for)\n",
      "/usr/local/lib/python3.5/dist-packages/sklearn/metrics/classification.py:1137: UndefinedMetricWarning: F-score is ill-defined and being set to 0.0 in labels with no true samples.\n",
      "  'recall', 'true', average, warn_for)\n",
      "/usr/local/lib/python3.5/dist-packages/sklearn/metrics/classification.py:1135: UndefinedMetricWarning: F-score is ill-defined and being set to 0.0 in labels with no predicted samples.\n",
      "  'precision', 'predicted', average, warn_for)\n"
     ]
    },
    {
     "name": "stdout",
     "output_type": "stream",
     "text": [
      "\n",
      "                DeepSelect  LogisticRegression       MLP  RandomForest\n",
      "F1 Test           0.000000            0.646481  0.700452      0.698469\n",
      "F1 Tr. only       0.000000            0.166667  0.220370      0.215447\n",
      "F1 Train          0.000000            0.635957  0.786394      0.990276\n",
      "Pred.Tra. Time  346.673658            0.000574  0.001324      0.105781\n",
      "Test              0.580645            0.913978  0.917563      0.906810\n",
      "Test_LL           0.858864                 NaN       NaN           NaN\n",
      "Testing Time     42.061917            0.000121  0.000286      0.101799\n",
      "Tr. Only          0.336700            0.666667  0.680135      0.680135\n",
      "Tr. Only_LL      10.229608                 NaN       NaN           NaN\n",
      "Tr.Test Time     53.068485            0.000100  0.000304      0.104379\n",
      "Train             0.562802            0.896538  0.927134      0.995974\n",
      "Train_LL          2.078182                 NaN       NaN           NaN\n",
      "Training Time   141.030410            0.050752  0.826314      0.110479\n",
      "took: 582.9963531494141 seconds\n",
      "\n",
      "**********\n",
      "\n",
      "K: \t2\n",
      "Epoch 0: 0.23046094678416823\n",
      "Epoch 25: 0.0005329076381236164\n",
      "Epoch 50: 0.0002684683660514572\n",
      "Epoch 75: 0.00018214941232791256\n",
      "Epoch 100: 0.00013867516627271993\n",
      "Epoch 125: 0.00011233281230805014\n",
      "Epoch 150: 9.461143459617427e-05\n",
      "W1 size 439\n",
      "W2 size 6\n",
      "W3 size 3\n",
      "Took: 141.34835577011108 for training\n",
      "Took: 386.7318103313446 for predicting 829 training instances\n",
      "Took: 43.07663536071777 for predicting 92 test instances\n",
      "Took: 44.76515293121338 for predicting 99 Turkish test instances\n"
     ]
    },
    {
     "name": "stderr",
     "output_type": "stream",
     "text": [
      "/usr/local/lib/python3.5/dist-packages/sklearn/metrics/classification.py:1137: UndefinedMetricWarning: F-score is ill-defined and being set to 0.0 in labels with no true samples.\n",
      "  'recall', 'true', average, warn_for)\n",
      "/usr/local/lib/python3.5/dist-packages/sklearn/metrics/classification.py:1135: UndefinedMetricWarning: F-score is ill-defined and being set to 0.0 in labels with no predicted samples.\n",
      "  'precision', 'predicted', average, warn_for)\n"
     ]
    },
    {
     "name": "stdout",
     "output_type": "stream",
     "text": [
      "\n",
      "                DeepSelect  LogisticRegression       MLP  RandomForest\n",
      "F1 Test           0.000000            0.514874  0.564221      0.510322\n",
      "F1 Tr. only       0.000000            0.166667  0.204000      0.247387\n",
      "F1 Train          0.000000            0.650987  0.746327      0.985427\n",
      "Pred.Tra. Time  386.731810            0.000531  0.001349      0.105767\n",
      "Test              0.528986            0.862319  0.873188      0.840580\n",
      "Test_LL           2.418275                 NaN       NaN           NaN\n",
      "Testing Time     43.076635            0.000118  0.000282      0.101550\n",
      "Tr. Only          0.333333            0.666667  0.683502      0.683502\n",
      "Tr. Only_LL      10.247117                 NaN       NaN           NaN\n",
      "Tr.Test Time     44.765153            0.000091  0.000294      0.103263\n",
      "Train             0.568556            0.902292  0.917973      0.994371\n",
      "Train_LL          1.859749                 NaN       NaN           NaN\n",
      "Training Time   141.348356            0.053180  0.636917      0.110731\n",
      "took: 616.1422772407532 seconds\n",
      "\n",
      "**********\n",
      "\n",
      "K: \t3\n",
      "Epoch 0: 0.16722723171134643\n",
      "Epoch 25: 0.0006174917871480842\n",
      "Epoch 50: 0.0002639448337365817\n",
      "Epoch 75: 0.00017165229725694286\n",
      "Epoch 100: 0.00012833474081760477\n",
      "Epoch 125: 0.00010298460312457478\n",
      "Epoch 150: 8.626911962336244e-05\n",
      "W1 size 446\n",
      "W2 size 6\n",
      "W3 size 3\n",
      "Took: 149.35379672050476 for training\n",
      "Took: 370.17138266563416 for predicting 829 training instances\n",
      "Took: 43.241909980773926 for predicting 92 test instances\n",
      "Took: 42.228177070617676 for predicting 99 Turkish test instances\n"
     ]
    },
    {
     "name": "stderr",
     "output_type": "stream",
     "text": [
      "/usr/local/lib/python3.5/dist-packages/sklearn/metrics/classification.py:1137: UndefinedMetricWarning: F-score is ill-defined and being set to 0.0 in labels with no true samples.\n",
      "  'recall', 'true', average, warn_for)\n",
      "/usr/local/lib/python3.5/dist-packages/sklearn/metrics/classification.py:1135: UndefinedMetricWarning: F-score is ill-defined and being set to 0.0 in labels with no predicted samples.\n",
      "  'precision', 'predicted', average, warn_for)\n"
     ]
    },
    {
     "name": "stdout",
     "output_type": "stream",
     "text": [
      "\n",
      "                DeepSelect  LogisticRegression       MLP  RandomForest\n",
      "F1 Test           0.000000            0.613754  0.647031      0.629355\n",
      "F1 Tr. only       0.000000            0.166667  0.215361      0.215911\n",
      "F1 Train          0.000000            0.636772  0.751659      0.995165\n",
      "Pred.Tra. Time  370.171383            0.000525  0.001316      0.105859\n",
      "Test              0.557971            0.891304  0.891304      0.876812\n",
      "Test_LL           2.027302                 NaN       NaN           NaN\n",
      "Testing Time     43.241910            0.000118  0.000281      0.102375\n",
      "Tr. Only          0.333333            0.666667  0.670034      0.686869\n",
      "Tr. Only_LL       9.827051                 NaN       NaN           NaN\n",
      "Tr.Test Time     42.228177            0.000095  0.000294      0.103799\n",
      "Train             0.565340            0.898673  0.919582      0.998392\n",
      "Train_LL          1.880194                 NaN       NaN           NaN\n",
      "Training Time   149.353797            0.042969  0.758115      0.110778\n",
      "took: 605.1791832447052 seconds\n",
      "\n",
      "**********\n",
      "\n",
      "K: \t4\n",
      "Epoch 0: 0.20162225281889526\n",
      "Epoch 25: 0.0003540295947224679\n",
      "Epoch 50: 0.00017825933871622637\n",
      "Epoch 75: 0.00012124296862235297\n",
      "Epoch 100: 9.252842368565255e-05\n",
      "Epoch 125: 7.511324467934936e-05\n",
      "Epoch 150: 6.33832030015372e-05\n",
      "W1 size 435\n",
      "W2 size 6\n",
      "W3 size 3\n",
      "Took: 159.20805311203003 for training\n",
      "Took: 358.9387514591217 for predicting 829 training instances\n",
      "Took: 43.542081117630005 for predicting 92 test instances\n",
      "Took: 39.395374059677124 for predicting 99 Turkish test instances\n"
     ]
    },
    {
     "name": "stderr",
     "output_type": "stream",
     "text": [
      "/usr/local/lib/python3.5/dist-packages/sklearn/metrics/classification.py:1137: UndefinedMetricWarning: F-score is ill-defined and being set to 0.0 in labels with no true samples.\n",
      "  'recall', 'true', average, warn_for)\n",
      "/usr/local/lib/python3.5/dist-packages/sklearn/metrics/classification.py:1135: UndefinedMetricWarning: F-score is ill-defined and being set to 0.0 in labels with no predicted samples.\n",
      "  'precision', 'predicted', average, warn_for)\n"
     ]
    },
    {
     "name": "stdout",
     "output_type": "stream",
     "text": [
      "\n",
      "                DeepSelect  LogisticRegression       MLP  RandomForest\n",
      "F1 Test           0.000000            0.628261  0.658816      0.565547\n",
      "F1 Tr. only       0.000000            0.166667  0.232397      0.184013\n",
      "F1 Train          0.000000            0.635152  0.784595      0.993963\n",
      "Pred.Tra. Time  358.938751            0.000578  0.001334      0.105740\n",
      "Test              0.554348            0.887681  0.891304      0.844203\n",
      "Test_LL           2.636807                 NaN       NaN           NaN\n",
      "Testing Time     43.542081            0.000117  0.000275      0.104886\n",
      "Tr. Only          0.333333            0.666667  0.673401      0.666667\n",
      "Tr. Only_LL      10.006923                 NaN       NaN           NaN\n",
      "Tr.Test Time     39.395374            0.000098  0.000286      0.105538\n",
      "Train             0.565742            0.899075  0.929232      0.997587\n",
      "Train_LL          1.844573                 NaN       NaN           NaN\n",
      "Training Time   159.208053            0.047743  0.702466      0.114906\n",
      "took: 601.2710082530975 seconds\n",
      "\n",
      "**********\n",
      "\n",
      "K: \t5\n",
      "Epoch 0: 0.23832789600197157\n",
      "Epoch 25: 0.0005370799426961756\n",
      "Epoch 50: 0.00027382169673673785\n",
      "Epoch 75: 0.00018590569050620182\n",
      "Epoch 100: 0.00014142332452314927\n",
      "Epoch 125: 0.00011443233566552807\n",
      "Epoch 150: 9.626382923446791e-05\n",
      "W1 size 431\n",
      "W2 size 6\n",
      "W3 size 3\n",
      "Took: 139.76625561714172 for training\n",
      "Took: 363.76288294792175 for predicting 829 training instances\n",
      "Took: 41.11204195022583 for predicting 92 test instances\n",
      "Took: 47.982030630111694 for predicting 99 Turkish test instances\n"
     ]
    },
    {
     "name": "stderr",
     "output_type": "stream",
     "text": [
      "/usr/local/lib/python3.5/dist-packages/sklearn/metrics/classification.py:1137: UndefinedMetricWarning: F-score is ill-defined and being set to 0.0 in labels with no true samples.\n",
      "  'recall', 'true', average, warn_for)\n",
      "/usr/local/lib/python3.5/dist-packages/sklearn/metrics/classification.py:1135: UndefinedMetricWarning: F-score is ill-defined and being set to 0.0 in labels with no predicted samples.\n",
      "  'precision', 'predicted', average, warn_for)\n"
     ]
    },
    {
     "name": "stdout",
     "output_type": "stream",
     "text": [
      "\n",
      "                DeepSelect  LogisticRegression       MLP  RandomForest\n",
      "F1 Test           0.000000            0.657542  0.669440      0.641649\n",
      "F1 Tr. only       0.000000            0.166667  0.202412      0.173974\n",
      "F1 Train          0.000000            0.634751  0.752703      0.991508\n",
      "Pred.Tra. Time  363.762883            0.000507  0.001330      0.105895\n",
      "Test              0.572464            0.905797  0.902174      0.884058\n",
      "Test_LL           1.730027                 NaN       NaN           NaN\n",
      "Testing Time     41.112042            0.000116  0.000285      0.102424\n",
      "Tr. Only          0.333333            0.666667  0.670034      0.673401\n",
      "Tr. Only_LL      10.009134                 NaN       NaN           NaN\n",
      "Tr.Test Time     47.982031            0.000090  0.000287      0.105030\n",
      "Train             0.563731            0.897467  0.919582      0.996783\n",
      "Train_LL          1.943514                 NaN       NaN           NaN\n",
      "Training Time   139.766256            0.046917  0.639742      0.110802\n",
      "took: 592.8165085315704 seconds\n",
      "\n",
      "**********\n",
      "\n",
      "K: \t6\n",
      "Epoch 0: 0.21440414270149516\n",
      "Epoch 25: 0.00047927219120041774\n",
      "Epoch 50: 0.000244512618762044\n",
      "Epoch 75: 0.000165942395437423\n",
      "Epoch 100: 0.00012614378316692744\n",
      "Epoch 125: 0.00010198737864714548\n",
      "Epoch 150: 8.572969192639322e-05\n",
      "W1 size 430\n",
      "W2 size 6\n",
      "W3 size 3\n",
      "Took: 150.72465252876282 for training\n",
      "Took: 347.5344409942627 for predicting 829 training instances\n",
      "Took: 44.598655462265015 for predicting 92 test instances\n",
      "Took: 47.45574975013733 for predicting 99 Turkish test instances\n"
     ]
    },
    {
     "name": "stderr",
     "output_type": "stream",
     "text": [
      "/usr/local/lib/python3.5/dist-packages/sklearn/metrics/classification.py:1137: UndefinedMetricWarning: F-score is ill-defined and being set to 0.0 in labels with no true samples.\n",
      "  'recall', 'true', average, warn_for)\n",
      "/usr/local/lib/python3.5/dist-packages/sklearn/metrics/classification.py:1135: UndefinedMetricWarning: F-score is ill-defined and being set to 0.0 in labels with no predicted samples.\n",
      "  'precision', 'predicted', average, warn_for)\n"
     ]
    },
    {
     "name": "stdout",
     "output_type": "stream",
     "text": [
      "\n",
      "                DeepSelect  LogisticRegression       MLP  RandomForest\n",
      "F1 Test           0.000000            0.556662  0.576794      0.580451\n",
      "F1 Tr. only       0.000000            0.166667  0.254782      0.194739\n",
      "F1 Train          0.000000            0.646105  0.742656      0.995153\n",
      "Pred.Tra. Time  347.534441            0.000601  0.001408      0.105970\n",
      "Test              0.539855            0.873188  0.865942      0.862319\n",
      "Test_LL           2.367712                 NaN       NaN           NaN\n",
      "Testing Time     44.598655            0.000121  0.000324      0.102117\n",
      "Tr. Only          0.333333            0.666667  0.680135      0.670034\n",
      "Tr. Only_LL       9.858556                 NaN       NaN           NaN\n",
      "Tr.Test Time     47.455750            0.000101  0.000297      0.104960\n",
      "Train             0.567350            0.901086  0.917169      0.998392\n",
      "Train_LL          1.849609                 NaN       NaN           NaN\n",
      "Training Time   150.724653            0.054392  0.837391      0.110889\n",
      "took: 590.4920217990875 seconds\n",
      "\n",
      "**********\n",
      "\n",
      "K: \t7\n",
      "Epoch 0: 0.34408574723224333\n",
      "Epoch 25: 0.0005095904141669264\n",
      "Epoch 50: 0.0002640221025770496\n",
      "Epoch 75: 0.00017994476108177518\n",
      "Epoch 100: 0.00013710328686773702\n",
      "Epoch 125: 0.00011102396165238358\n",
      "Epoch 150: 9.343425673977988e-05\n",
      "W1 size 444\n",
      "W2 size 6\n",
      "W3 size 3\n",
      "Took: 158.03202152252197 for training\n",
      "Took: 393.9982213973999 for predicting 829 training instances\n",
      "Took: 39.4697642326355 for predicting 92 test instances\n",
      "Took: 47.528098344802856 for predicting 99 Turkish test instances\n"
     ]
    },
    {
     "name": "stderr",
     "output_type": "stream",
     "text": [
      "/usr/local/lib/python3.5/dist-packages/sklearn/metrics/classification.py:1137: UndefinedMetricWarning: F-score is ill-defined and being set to 0.0 in labels with no true samples.\n",
      "  'recall', 'true', average, warn_for)\n",
      "/usr/local/lib/python3.5/dist-packages/sklearn/metrics/classification.py:1135: UndefinedMetricWarning: F-score is ill-defined and being set to 0.0 in labels with no predicted samples.\n",
      "  'precision', 'predicted', average, warn_for)\n"
     ]
    },
    {
     "name": "stdout",
     "output_type": "stream",
     "text": [
      "\n",
      "                DeepSelect  LogisticRegression       MLP  RandomForest\n",
      "F1 Test           0.000000            0.657542  0.737212      0.697745\n",
      "F1 Tr. only       0.000000            0.166667  0.215303      0.237179\n",
      "F1 Train          0.000000            0.634751  0.791988      0.992728\n",
      "Pred.Tra. Time  393.998221            0.000559  0.001351      0.105874\n",
      "Test              0.576087            0.909420  0.913043      0.898551\n",
      "Test_LL           1.451795                 NaN       NaN           NaN\n",
      "Testing Time     39.469764            0.000116  0.000292      0.104477\n",
      "Tr. Only          0.336700            0.666667  0.673401      0.676768\n",
      "Tr. Only_LL      10.161758                 NaN       NaN           NaN\n",
      "Tr.Test Time     47.528098            0.000096  0.000294      0.105626\n",
      "Train             0.563329            0.897065  0.929232      0.997185\n",
      "Train_LL          2.001744                 NaN       NaN           NaN\n",
      "Training Time   158.032022            0.048126  0.852426      0.110945\n",
      "took: 639.2433888912201 seconds\n",
      "\n",
      "**********\n",
      "\n",
      "K: \t8\n",
      "Epoch 0: 0.35620735859198477\n",
      "Epoch 25: 0.00045515395954906507\n",
      "Epoch 50: 0.00023325662730245018\n",
      "Epoch 75: 0.0001578553676343159\n",
      "Epoch 100: 0.00011966539522113667\n",
      "Epoch 125: 9.65298108981182e-05\n",
      "Epoch 150: 8.09884623238127e-05\n",
      "W1 size 436\n",
      "W2 size 6\n",
      "W3 size 3\n",
      "Took: 140.48492622375488 for training\n",
      "Took: 385.86968445777893 for predicting 829 training instances\n",
      "Took: 41.93580913543701 for predicting 92 test instances\n",
      "Took: 43.101306438446045 for predicting 99 Turkish test instances\n"
     ]
    },
    {
     "name": "stderr",
     "output_type": "stream",
     "text": [
      "/usr/local/lib/python3.5/dist-packages/sklearn/metrics/classification.py:1137: UndefinedMetricWarning: F-score is ill-defined and being set to 0.0 in labels with no true samples.\n",
      "  'recall', 'true', average, warn_for)\n",
      "/usr/local/lib/python3.5/dist-packages/sklearn/metrics/classification.py:1135: UndefinedMetricWarning: F-score is ill-defined and being set to 0.0 in labels with no predicted samples.\n",
      "  'precision', 'predicted', average, warn_for)\n"
     ]
    },
    {
     "name": "stdout",
     "output_type": "stream",
     "text": [
      "\n",
      "                DeepSelect  LogisticRegression       MLP  RandomForest\n",
      "F1 Test           0.000000            0.747412  0.747412      0.753261\n",
      "F1 Tr. only       0.000000            0.166667  0.197494      0.210744\n",
      "F1 Train          0.000000            0.625062  0.730212      0.986663\n",
      "Pred.Tra. Time  385.869684            0.000565  0.001375      0.105852\n",
      "Test              0.601449            0.934783  0.934783      0.913043\n",
      "Test_LL           3.767694                 NaN       NaN           NaN\n",
      "Testing Time     41.935809            0.000121  0.000346      0.102083\n",
      "Tr. Only          0.333333            0.666667  0.666667      0.683502\n",
      "Tr. Only_LL      11.687890                 NaN       NaN           NaN\n",
      "Tr.Test Time     43.101306            0.000111  0.000293      0.104710\n",
      "Train             0.560515            0.894250  0.913148      0.994773\n",
      "Train_LL          5.505954                 NaN       NaN           NaN\n",
      "Training Time   140.484926            0.050636  0.795479      0.110717\n",
      "took: 611.5899066925049 seconds\n",
      "\n",
      "**********\n",
      "\n",
      "K: \t9\n",
      "Epoch 0: 0.19723174086213116\n",
      "Epoch 25: 0.00034133798452954365\n",
      "Epoch 50: 0.0001717324664467702\n",
      "Epoch 75: 0.00011707219704586628\n",
      "Epoch 100: 8.951159471478977e-05\n",
      "Epoch 125: 7.276244882956784e-05\n",
      "Epoch 150: 6.14574699499273e-05\n",
      "W1 size 435\n",
      "W2 size 6\n",
      "W3 size 3\n",
      "Took: 141.09423327445984 for training\n",
      "Took: 388.7474637031555 for predicting 829 training instances\n",
      "Took: 40.38403630256653 for predicting 92 test instances\n",
      "Took: 45.20354413986206 for predicting 99 Turkish test instances\n"
     ]
    },
    {
     "name": "stderr",
     "output_type": "stream",
     "text": [
      "/usr/local/lib/python3.5/dist-packages/sklearn/metrics/classification.py:1137: UndefinedMetricWarning: F-score is ill-defined and being set to 0.0 in labels with no true samples.\n",
      "  'recall', 'true', average, warn_for)\n",
      "/usr/local/lib/python3.5/dist-packages/sklearn/metrics/classification.py:1135: UndefinedMetricWarning: F-score is ill-defined and being set to 0.0 in labels with no predicted samples.\n",
      "  'precision', 'predicted', average, warn_for)\n"
     ]
    },
    {
     "name": "stdout",
     "output_type": "stream",
     "text": [
      "\n",
      "                DeepSelect  LogisticRegression       MLP  RandomForest\n",
      "F1 Test           0.000000            0.599340  0.633083      0.629662\n",
      "F1 Tr. only       0.000000            0.162850  0.231414      0.236547\n",
      "F1 Train          0.000000            0.641233  0.770658      0.986654\n",
      "Pred.Tra. Time  388.747464            0.000517  0.001315      0.105988\n",
      "Test              0.539855            0.873188  0.869565      0.869565\n",
      "Test_LL           3.246181                 NaN       NaN           NaN\n",
      "Testing Time     40.384036            0.000112  0.000279      0.102529\n",
      "Tr. Only          0.333333            0.663300  0.686869      0.670034\n",
      "Tr. Only_LL      10.002139                 NaN       NaN           NaN\n",
      "Tr.Test Time     45.203544            0.000094  0.000288      0.105156\n",
      "Train             0.567350            0.901086  0.926417      0.995175\n",
      "Train_LL          1.775605                 NaN       NaN           NaN\n",
      "Training Time   141.094233            0.050245  0.605588      0.110667\n",
      "took: 615.5853488445282 seconds\n",
      "\n",
      "**********\n",
      "\n",
      "K: \t10\n",
      "Epoch 0: 0.2738441738495241\n",
      "Epoch 25: 0.0005081385315631676\n",
      "Epoch 50: 0.0002707304822448143\n",
      "Epoch 75: 0.0001875543184469891\n",
      "Epoch 100: 0.00014446221291805847\n",
      "Epoch 125: 0.0001179138876681125\n",
      "Epoch 150: 9.984494194709449e-05\n",
      "W1 size 440\n",
      "W2 size 6\n",
      "W3 size 3\n",
      "Took: 142.134019613266 for training\n",
      "Took: 370.6273949146271 for predicting 829 training instances\n",
      "Took: 42.83226704597473 for predicting 92 test instances\n",
      "Took: 47.37027335166931 for predicting 99 Turkish test instances\n"
     ]
    },
    {
     "name": "stderr",
     "output_type": "stream",
     "text": [
      "/usr/local/lib/python3.5/dist-packages/sklearn/metrics/classification.py:1137: UndefinedMetricWarning: F-score is ill-defined and being set to 0.0 in labels with no true samples.\n",
      "  'recall', 'true', average, warn_for)\n"
     ]
    },
    {
     "name": "stdout",
     "output_type": "stream",
     "text": [
      "\n",
      "                DeepSelect  LogisticRegression       MLP  RandomForest\n",
      "F1 Test           0.000000            0.732231  0.726820      0.750148\n",
      "F1 Tr. only       0.000000            0.166667  0.197494      0.210000\n",
      "F1 Train          0.000000            0.626674  0.707725      0.995155\n",
      "Pred.Tra. Time  370.627395            0.000611  0.001377      0.105844\n",
      "Test              0.594203            0.927536  0.923913      0.905797\n",
      "Test_LL           1.390441                 NaN       NaN           NaN\n",
      "Testing Time     42.832267            0.000126  0.000323      0.102154\n",
      "Tr. Only          0.333333            0.666667  0.666667      0.670034\n",
      "Tr. Only_LL      10.098119                 NaN       NaN           NaN\n",
      "Tr.Test Time     47.370273            0.000096  0.000292      0.103387\n",
      "Train             0.561319            0.895054  0.908323      0.998392\n",
      "Train_LL          1.996961                 NaN       NaN           NaN\n",
      "Training Time   142.134020            0.053468  0.653817      0.110772\n",
      "took: 603.1322200298309 seconds\n",
      "\n",
      "**********\n",
      "\n",
      "Average scores for trial 0\n",
      "                DeepSelect  LogisticRegression       MLP  RandomForest\n",
      "F1 Test           0.000000            0.635410  0.666128      0.645661\n",
      "F1 Tr. only       0.000000            0.166285  0.217103      0.212594\n",
      "F1 Train          0.000000            0.636744  0.756492      0.991269\n",
      "Pred.Tra. Time  371.305569            0.000557  0.001348      0.105857\n",
      "Test              0.564586            0.897920  0.898278      0.880174\n",
      "Test_LL           2.189510                 NaN       NaN           NaN\n",
      "Testing Time     42.225512            0.000119  0.000297      0.102639\n",
      "Tr. Only          0.334007            0.666330  0.675084      0.676094\n",
      "Tr. Only_LL      10.212830                 NaN       NaN           NaN\n",
      "Tr.Test Time     45.809819            0.000097  0.000293      0.104585\n",
      "Train             0.564603            0.898259  0.920779      0.996702\n",
      "Train_LL          2.273609                 NaN       NaN           NaN\n",
      "Training Time   146.317672            0.049843  0.730825      0.111169\n",
      "------------------------------\n",
      "%%%%%%%%%%%%%%%%%%%%%%%%%%%%%%%%%%%%%%%%\n",
      "Average of 1 trials\n",
      "                DeepSelect  LogisticRegression       MLP  RandomForest\n",
      "F1 Test           0.000000            0.635410  0.666128      0.645661\n",
      "F1 Tr. only       0.000000            0.166285  0.217103      0.212594\n",
      "F1 Train          0.000000            0.636744  0.756492      0.991269\n",
      "Pred.Tra. Time  371.305569            0.000557  0.001348      0.105857\n",
      "Test              0.564586            0.897920  0.898278      0.880174\n",
      "Test_LL           2.189510                 NaN       NaN           NaN\n",
      "Testing Time     42.225512            0.000119  0.000297      0.102639\n",
      "Tr. Only          0.334007            0.666330  0.675084      0.676094\n",
      "Tr. Only_LL      10.212830                 NaN       NaN           NaN\n",
      "Tr.Test Time     45.809819            0.000097  0.000293      0.104585\n",
      "Train             0.564603            0.898259  0.920779      0.996702\n",
      "Train_LL          2.273609                 NaN       NaN           NaN\n",
      "Training Time   146.317672            0.049843  0.730825      0.111169\n"
     ]
    },
    {
     "name": "stderr",
     "output_type": "stream",
     "text": [
      "/usr/local/lib/python3.5/dist-packages/sklearn/metrics/classification.py:1135: UndefinedMetricWarning: F-score is ill-defined and being set to 0.0 in labels with no predicted samples.\n",
      "  'precision', 'predicted', average, warn_for)\n"
     ]
    }
   ],
   "source": [
    "scores_tables_nn_tri = eval_selectivewaves_nn(df_tri, tronly_test_raw_tri)\n",
    "pickle.dump(scores_tables_nn_tri, open(\"../results/incremental_tf_tables_tri.results\", \"wb\"))"
   ]
  },
  {
   "cell_type": "code",
   "execution_count": 50,
   "metadata": {},
   "outputs": [
    {
     "name": "stdout",
     "output_type": "stream",
     "text": [
      "En: 50\tTr: 42\n",
      "Using first variation (Regressor and Classifier with score vectors)\n",
      "epoch 0:\t14.949534921245991\n",
      "epoch 10:\t14.6793504053211\n",
      "epoch 20:\t14.670642505600354\n",
      "epoch 30:\t14.635029167719361\n",
      "epoch 40:\t14.597342149597665\n",
      "epoch 50:\t14.542841179998378\n",
      "Using second variation (average of outputs produced by each set of weight matrices)\n",
      "Epoch 0: 0.6404799210147365\n",
      "Epoch 25: 0.0027961253870080823\n",
      "Epoch 50: 0.0013568684519695937\n",
      "Epoch 75: 0.0009022507081591189\n",
      "Epoch 100: 0.0006783327144871544\n",
      "Epoch 125: 0.0005447427360209027\n",
      "Epoch 150: 0.00045586070394143047\n",
      "W1 size 83\n",
      "W2 size 5\n",
      "W3 size 3\n"
     ]
    },
    {
     "name": "stderr",
     "output_type": "stream",
     "text": [
      "/usr/local/lib/python3.5/dist-packages/sklearn/metrics/classification.py:1135: UndefinedMetricWarning: F-score is ill-defined and being set to 0.0 in labels with no predicted samples.\n",
      "  'precision', 'predicted', average, warn_for)\n",
      "/usr/local/lib/python3.5/dist-packages/sklearn/metrics/classification.py:1137: UndefinedMetricWarning: F-score is ill-defined and being set to 0.0 in labels with no true samples.\n",
      "  'recall', 'true', average, warn_for)\n"
     ]
    },
    {
     "name": "stdout",
     "output_type": "stream",
     "text": [
      "Using well-known algorithms: Logistic Regression, RandomForest and MLP\n"
     ]
    },
    {
     "name": "stderr",
     "output_type": "stream",
     "text": [
      "/usr/local/lib/python3.5/dist-packages/sklearn/metrics/classification.py:1135: UndefinedMetricWarning: F-score is ill-defined and being set to 0.0 in labels with no predicted samples.\n",
      "  'precision', 'predicted', average, warn_for)\n",
      "/usr/local/lib/python3.5/dist-packages/sklearn/neural_network/multilayer_perceptron.py:564: ConvergenceWarning: Stochastic Optimizer: Maximum iterations (200) reached and the optimization hasn't converged yet.\n",
      "  % self.max_iter, ConvergenceWarning)\n"
     ]
    },
    {
     "name": "stdout",
     "output_type": "stream",
     "text": [
      "Took: 25.8076593875885\n",
      "--------------------------------------------------\n",
      "En: 50\tTr: 84\n",
      "Using first variation (Regressor and Classifier with score vectors)\n",
      "epoch 0:\t14.963396165694148\n",
      "epoch 10:\t15.019842034157643\n",
      "epoch 20:\t14.82529655088697\n",
      "epoch 30:\t14.508084762586572\n",
      "epoch 40:\t14.371647924072212\n",
      "epoch 50:\t14.310078234833492\n",
      "Using second variation (average of outputs produced by each set of weight matrices)\n",
      "Epoch 0: 3.9742341209331147\n",
      "Epoch 25: 0.0034157128887327146\n",
      "Epoch 50: 0.0017385819459557535\n",
      "Epoch 75: 0.0011885728711064727\n",
      "Epoch 100: 0.000910863663077363\n",
      "Epoch 125: 0.0007420449315392957\n",
      "Epoch 150: 0.0006280332803897575\n",
      "W1 size 111\n",
      "W2 size 5\n",
      "W3 size 3\n"
     ]
    },
    {
     "name": "stderr",
     "output_type": "stream",
     "text": [
      "/usr/local/lib/python3.5/dist-packages/sklearn/metrics/classification.py:1137: UndefinedMetricWarning: F-score is ill-defined and being set to 0.0 in labels with no true samples.\n",
      "  'recall', 'true', average, warn_for)\n"
     ]
    },
    {
     "name": "stdout",
     "output_type": "stream",
     "text": [
      "Using well-known algorithms: Logistic Regression, RandomForest and MLP\n"
     ]
    },
    {
     "name": "stderr",
     "output_type": "stream",
     "text": [
      "/usr/local/lib/python3.5/dist-packages/sklearn/metrics/classification.py:1135: UndefinedMetricWarning: F-score is ill-defined and being set to 0.0 in labels with no predicted samples.\n",
      "  'precision', 'predicted', average, warn_for)\n",
      "/usr/local/lib/python3.5/dist-packages/sklearn/neural_network/multilayer_perceptron.py:564: ConvergenceWarning: Stochastic Optimizer: Maximum iterations (200) reached and the optimization hasn't converged yet.\n",
      "  % self.max_iter, ConvergenceWarning)\n"
     ]
    },
    {
     "name": "stdout",
     "output_type": "stream",
     "text": [
      "Took: 37.2886426448822\n",
      "--------------------------------------------------\n",
      "En: 50\tTr: 126\n",
      "Using first variation (Regressor and Classifier with score vectors)\n",
      "epoch 0:\t19.578726723434716\n",
      "epoch 10:\t19.480937486059656\n",
      "epoch 20:\t19.34223237055248\n",
      "epoch 30:\t19.111820865421503\n",
      "epoch 40:\t19.044096969994623\n",
      "epoch 50:\t19.03060488081231\n",
      "Using second variation (average of outputs produced by each set of weight matrices)\n",
      "Epoch 0: 0.31379984448691156\n",
      "Epoch 25: 0.001056261594333676\n",
      "Epoch 50: 0.0005225020552934723\n",
      "Epoch 75: 0.0003495118355495531\n",
      "Epoch 100: 0.0002634573306978603\n",
      "Epoch 125: 0.00021182906377183806\n",
      "Epoch 150: 0.00017735265114960828\n",
      "W1 size 133\n",
      "W2 size 5\n",
      "W3 size 3\n"
     ]
    },
    {
     "name": "stderr",
     "output_type": "stream",
     "text": [
      "/usr/local/lib/python3.5/dist-packages/sklearn/metrics/classification.py:1137: UndefinedMetricWarning: F-score is ill-defined and being set to 0.0 in labels with no true samples.\n",
      "  'recall', 'true', average, warn_for)\n"
     ]
    },
    {
     "name": "stdout",
     "output_type": "stream",
     "text": [
      "Using well-known algorithms: Logistic Regression, RandomForest and MLP\n"
     ]
    },
    {
     "name": "stderr",
     "output_type": "stream",
     "text": [
      "/usr/local/lib/python3.5/dist-packages/sklearn/metrics/classification.py:1135: UndefinedMetricWarning: F-score is ill-defined and being set to 0.0 in labels with no predicted samples.\n",
      "  'precision', 'predicted', average, warn_for)\n",
      "/usr/local/lib/python3.5/dist-packages/sklearn/neural_network/multilayer_perceptron.py:564: ConvergenceWarning: Stochastic Optimizer: Maximum iterations (200) reached and the optimization hasn't converged yet.\n",
      "  % self.max_iter, ConvergenceWarning)\n"
     ]
    },
    {
     "name": "stdout",
     "output_type": "stream",
     "text": [
      "Took: 47.54765343666077\n",
      "--------------------------------------------------\n",
      "En: 50\tTr: 168\n",
      "Using first variation (Regressor and Classifier with score vectors)\n",
      "epoch 0:\t18.70153757818528\n",
      "epoch 10:\t18.501374382727562\n",
      "epoch 20:\t17.99777802263092\n",
      "epoch 30:\t17.551061678648583\n",
      "epoch 40:\t17.160421713196172\n",
      "epoch 50:\t16.768988494805043\n",
      "Using second variation (average of outputs produced by each set of weight matrices)\n",
      "Epoch 0: 0.48797109811624906\n",
      "Epoch 25: 0.0017671037057151518\n",
      "Epoch 50: 0.000865989580259817\n",
      "Epoch 75: 0.0005802665620006341\n",
      "Epoch 100: 0.00043857228969361564\n",
      "Epoch 125: 0.0003535525201508985\n",
      "Epoch 150: 0.0002967123536583979\n",
      "W1 size 147\n",
      "W2 size 6\n",
      "W3 size 3\n"
     ]
    },
    {
     "name": "stderr",
     "output_type": "stream",
     "text": [
      "/usr/local/lib/python3.5/dist-packages/sklearn/metrics/classification.py:1137: UndefinedMetricWarning: F-score is ill-defined and being set to 0.0 in labels with no true samples.\n",
      "  'recall', 'true', average, warn_for)\n"
     ]
    },
    {
     "name": "stdout",
     "output_type": "stream",
     "text": [
      "Using well-known algorithms: Logistic Regression, RandomForest and MLP\n"
     ]
    },
    {
     "name": "stderr",
     "output_type": "stream",
     "text": [
      "/usr/local/lib/python3.5/dist-packages/sklearn/metrics/classification.py:1135: UndefinedMetricWarning: F-score is ill-defined and being set to 0.0 in labels with no predicted samples.\n",
      "  'precision', 'predicted', average, warn_for)\n"
     ]
    },
    {
     "name": "stdout",
     "output_type": "stream",
     "text": [
      "Took: 56.27776646614075\n",
      "--------------------------------------------------\n",
      "En: 50\tTr: 210\n",
      "Using first variation (Regressor and Classifier with score vectors)\n",
      "epoch 0:\t18.19959666871713\n",
      "epoch 10:\t17.644754509162226\n",
      "epoch 20:\t17.139218774706105\n",
      "epoch 30:\t16.856081139295103\n",
      "epoch 40:\t16.71801068934532\n",
      "epoch 50:\t16.620569517920803\n",
      "Using second variation (average of outputs produced by each set of weight matrices)\n",
      "Epoch 0: 0.19486229965199853\n",
      "Epoch 25: 0.0003706330471490997\n",
      "Epoch 50: 0.00021116714349733894\n",
      "Epoch 75: 0.00015583782855968636\n",
      "Epoch 100: 0.00012650501642267586\n",
      "Epoch 125: 0.00010776264946168969\n",
      "Epoch 150: 9.44923641085893e-05\n",
      "W1 size 174\n",
      "W2 size 5\n",
      "W3 size 3\n"
     ]
    },
    {
     "name": "stderr",
     "output_type": "stream",
     "text": [
      "/usr/local/lib/python3.5/dist-packages/sklearn/metrics/classification.py:1137: UndefinedMetricWarning: F-score is ill-defined and being set to 0.0 in labels with no true samples.\n",
      "  'recall', 'true', average, warn_for)\n"
     ]
    },
    {
     "name": "stdout",
     "output_type": "stream",
     "text": [
      "Using well-known algorithms: Logistic Regression, RandomForest and MLP\n"
     ]
    },
    {
     "name": "stderr",
     "output_type": "stream",
     "text": [
      "/usr/local/lib/python3.5/dist-packages/sklearn/metrics/classification.py:1135: UndefinedMetricWarning: F-score is ill-defined and being set to 0.0 in labels with no predicted samples.\n",
      "  'precision', 'predicted', average, warn_for)\n"
     ]
    },
    {
     "name": "stdout",
     "output_type": "stream",
     "text": [
      "Took: 77.1989688873291\n",
      "--------------------------------------------------\n",
      "En: 50\tTr: 253\n",
      "Using first variation (Regressor and Classifier with score vectors)\n",
      "epoch 0:\t17.699559621574434\n",
      "epoch 10:\t17.475986248691616\n",
      "epoch 20:\t17.432726504374813\n",
      "epoch 30:\t17.35209902114843\n",
      "epoch 40:\t17.233845867935997\n",
      "epoch 50:\t17.18350697258926\n",
      "Using second variation (average of outputs produced by each set of weight matrices)\n",
      "Epoch 0: 0.4865340539502168\n",
      "Epoch 25: 0.0010232631747143868\n",
      "Epoch 50: 0.0004891958986831642\n",
      "Epoch 75: 0.0003286628642771888\n",
      "Epoch 100: 0.00024959880426159934\n",
      "Epoch 125: 0.00020214489692273557\n",
      "Epoch 150: 0.00017036019768507197\n",
      "W1 size 191\n",
      "W2 size 6\n",
      "W3 size 3\n"
     ]
    },
    {
     "name": "stderr",
     "output_type": "stream",
     "text": [
      "/usr/local/lib/python3.5/dist-packages/sklearn/metrics/classification.py:1137: UndefinedMetricWarning: F-score is ill-defined and being set to 0.0 in labels with no true samples.\n",
      "  'recall', 'true', average, warn_for)\n"
     ]
    },
    {
     "name": "stdout",
     "output_type": "stream",
     "text": [
      "Using well-known algorithms: Logistic Regression, RandomForest and MLP\n"
     ]
    },
    {
     "name": "stderr",
     "output_type": "stream",
     "text": [
      "/usr/local/lib/python3.5/dist-packages/sklearn/metrics/classification.py:1135: UndefinedMetricWarning: F-score is ill-defined and being set to 0.0 in labels with no predicted samples.\n",
      "  'precision', 'predicted', average, warn_for)\n",
      "/usr/local/lib/python3.5/dist-packages/sklearn/neural_network/multilayer_perceptron.py:564: ConvergenceWarning: Stochastic Optimizer: Maximum iterations (200) reached and the optimization hasn't converged yet.\n",
      "  % self.max_iter, ConvergenceWarning)\n"
     ]
    },
    {
     "name": "stdout",
     "output_type": "stream",
     "text": [
      "Took: 84.41069102287292\n",
      "--------------------------------------------------\n",
      "En: 50\tTr: 295\n",
      "Using first variation (Regressor and Classifier with score vectors)\n",
      "epoch 0:\t21.01488747627953\n",
      "epoch 10:\t20.676870668230404\n",
      "epoch 20:\t20.411184138439282\n",
      "epoch 30:\t20.209060340793975\n",
      "epoch 40:\t20.054868573951264\n",
      "epoch 50:\t19.89405697831511\n",
      "Using second variation (average of outputs produced by each set of weight matrices)\n",
      "Epoch 0: 0.6072105577167264\n",
      "Epoch 25: 0.0009224951724176194\n",
      "Epoch 50: 0.0004770102332345743\n",
      "Epoch 75: 0.0003259049826594847\n",
      "Epoch 100: 0.00024889585532455517\n",
      "Epoch 125: 0.00020194433308266737\n",
      "Epoch 150: 0.00017022757313780575\n",
      "W1 size 204\n",
      "W2 size 6\n",
      "W3 size 3\n"
     ]
    },
    {
     "name": "stderr",
     "output_type": "stream",
     "text": [
      "/usr/local/lib/python3.5/dist-packages/sklearn/metrics/classification.py:1137: UndefinedMetricWarning: F-score is ill-defined and being set to 0.0 in labels with no true samples.\n",
      "  'recall', 'true', average, warn_for)\n"
     ]
    },
    {
     "name": "stdout",
     "output_type": "stream",
     "text": [
      "Using well-known algorithms: Logistic Regression, RandomForest and MLP\n"
     ]
    },
    {
     "name": "stderr",
     "output_type": "stream",
     "text": [
      "/usr/local/lib/python3.5/dist-packages/sklearn/metrics/classification.py:1135: UndefinedMetricWarning: F-score is ill-defined and being set to 0.0 in labels with no predicted samples.\n",
      "  'precision', 'predicted', average, warn_for)\n",
      "/usr/local/lib/python3.5/dist-packages/sklearn/neural_network/multilayer_perceptron.py:564: ConvergenceWarning: Stochastic Optimizer: Maximum iterations (200) reached and the optimization hasn't converged yet.\n",
      "  % self.max_iter, ConvergenceWarning)\n"
     ]
    },
    {
     "name": "stdout",
     "output_type": "stream",
     "text": [
      "Took: 83.03702735900879\n",
      "--------------------------------------------------\n",
      "En: 50\tTr: 337\n",
      "Using first variation (Regressor and Classifier with score vectors)\n",
      "epoch 0:\t20.03903994483898\n",
      "epoch 10:\t19.980451112158377\n",
      "epoch 20:\t19.768110737046324\n",
      "epoch 30:\t19.58069178051939\n",
      "epoch 40:\t19.45383680171391\n",
      "epoch 50:\t19.289937099770707\n",
      "Using second variation (average of outputs produced by each set of weight matrices)\n",
      "Epoch 0: 0.7602388590288218\n",
      "Epoch 25: 0.0008655790758362433\n",
      "Epoch 50: 0.0004473912052555762\n",
      "Epoch 75: 0.0003061904070804828\n",
      "Epoch 100: 0.0002342237968286157\n",
      "Epoch 125: 0.00019032988653588847\n",
      "Epoch 150: 0.00016065703662086498\n",
      "W1 size 216\n",
      "W2 size 6\n",
      "W3 size 3\n"
     ]
    },
    {
     "name": "stderr",
     "output_type": "stream",
     "text": [
      "/usr/local/lib/python3.5/dist-packages/sklearn/metrics/classification.py:1137: UndefinedMetricWarning: F-score is ill-defined and being set to 0.0 in labels with no true samples.\n",
      "  'recall', 'true', average, warn_for)\n"
     ]
    },
    {
     "name": "stdout",
     "output_type": "stream",
     "text": [
      "Using well-known algorithms: Logistic Regression, RandomForest and MLP\n"
     ]
    },
    {
     "name": "stderr",
     "output_type": "stream",
     "text": [
      "/usr/local/lib/python3.5/dist-packages/sklearn/metrics/classification.py:1135: UndefinedMetricWarning: F-score is ill-defined and being set to 0.0 in labels with no predicted samples.\n",
      "  'precision', 'predicted', average, warn_for)\n",
      "/usr/local/lib/python3.5/dist-packages/sklearn/neural_network/multilayer_perceptron.py:564: ConvergenceWarning: Stochastic Optimizer: Maximum iterations (200) reached and the optimization hasn't converged yet.\n",
      "  % self.max_iter, ConvergenceWarning)\n"
     ]
    },
    {
     "name": "stdout",
     "output_type": "stream",
     "text": [
      "Took: 101.25629472732544\n",
      "--------------------------------------------------\n",
      "En: 50\tTr: 379\n",
      "Using first variation (Regressor and Classifier with score vectors)\n",
      "epoch 0:\t19.45526025615443\n",
      "epoch 10:\t19.25490092724263\n",
      "epoch 20:\t18.879131256519287\n",
      "epoch 30:\t18.676652916984374\n",
      "epoch 40:\t18.510757677469112\n",
      "epoch 50:\t18.359962244273458\n",
      "Using second variation (average of outputs produced by each set of weight matrices)\n",
      "Epoch 0: 0.7083031226989863\n",
      "Epoch 25: 0.000975140382348753\n",
      "Epoch 50: 0.00048749697095432315\n",
      "Epoch 75: 0.0003296198039018303\n",
      "Epoch 100: 0.0002505672801441285\n",
      "Epoch 125: 0.00020283197418080316\n",
      "Epoch 150: 0.00017078048773790756\n",
      "W1 size 225\n",
      "W2 size 6\n",
      "W3 size 3\n"
     ]
    },
    {
     "name": "stderr",
     "output_type": "stream",
     "text": [
      "/usr/local/lib/python3.5/dist-packages/sklearn/metrics/classification.py:1137: UndefinedMetricWarning: F-score is ill-defined and being set to 0.0 in labels with no true samples.\n",
      "  'recall', 'true', average, warn_for)\n"
     ]
    },
    {
     "name": "stdout",
     "output_type": "stream",
     "text": [
      "Using well-known algorithms: Logistic Regression, RandomForest and MLP\n"
     ]
    },
    {
     "name": "stderr",
     "output_type": "stream",
     "text": [
      "/usr/local/lib/python3.5/dist-packages/sklearn/metrics/classification.py:1135: UndefinedMetricWarning: F-score is ill-defined and being set to 0.0 in labels with no predicted samples.\n",
      "  'precision', 'predicted', average, warn_for)\n"
     ]
    },
    {
     "name": "stdout",
     "output_type": "stream",
     "text": [
      "Took: 103.58446741104126\n",
      "--------------------------------------------------\n",
      "En: 50\tTr: 421\n",
      "Using first variation (Regressor and Classifier with score vectors)\n",
      "epoch 0:\t21.433283772286803\n",
      "epoch 10:\t21.056721887898117\n",
      "epoch 20:\t20.683224061579327\n",
      "epoch 30:\t20.300711312328854\n",
      "epoch 40:\t19.832850338276515\n",
      "epoch 50:\t19.343450155701014\n",
      "Using second variation (average of outputs produced by each set of weight matrices)\n",
      "Epoch 0: 0.4779086229751659\n",
      "Epoch 25: 0.0008044339881304712\n",
      "Epoch 50: 0.00040668746553928055\n",
      "Epoch 75: 0.0002754675463750193\n",
      "Epoch 100: 0.0002094683909577308\n",
      "Epoch 125: 0.00016954426462647903\n",
      "Epoch 150: 0.00014272158319246112\n",
      "W1 size 239\n",
      "W2 size 6\n",
      "W3 size 3\n"
     ]
    },
    {
     "name": "stderr",
     "output_type": "stream",
     "text": [
      "/usr/local/lib/python3.5/dist-packages/sklearn/metrics/classification.py:1137: UndefinedMetricWarning: F-score is ill-defined and being set to 0.0 in labels with no true samples.\n",
      "  'recall', 'true', average, warn_for)\n"
     ]
    },
    {
     "name": "stdout",
     "output_type": "stream",
     "text": [
      "Using well-known algorithms: Logistic Regression, RandomForest and MLP\n"
     ]
    },
    {
     "name": "stderr",
     "output_type": "stream",
     "text": [
      "/usr/local/lib/python3.5/dist-packages/sklearn/metrics/classification.py:1135: UndefinedMetricWarning: F-score is ill-defined and being set to 0.0 in labels with no predicted samples.\n",
      "  'precision', 'predicted', average, warn_for)\n",
      "/usr/local/lib/python3.5/dist-packages/sklearn/neural_network/multilayer_perceptron.py:564: ConvergenceWarning: Stochastic Optimizer: Maximum iterations (200) reached and the optimization hasn't converged yet.\n",
      "  % self.max_iter, ConvergenceWarning)\n"
     ]
    },
    {
     "name": "stdout",
     "output_type": "stream",
     "text": [
      "Took: 123.011953830719\n",
      "--------------------------------------------------\n",
      "En: 100\tTr: 42\n",
      "Using first variation (Regressor and Classifier with score vectors)\n",
      "epoch 0:\t16.974822147605845\n",
      "epoch 10:\t16.949760997536842\n",
      "epoch 20:\t16.80666346692309\n",
      "epoch 30:\t16.648729544368013\n",
      "epoch 40:\t16.53561794853877\n",
      "epoch 50:\t16.458879687652544\n",
      "Using second variation (average of outputs produced by each set of weight matrices)\n",
      "Epoch 0: 1.0993147873577982\n",
      "Epoch 25: 0.00178744305270684\n",
      "Epoch 50: 0.0009037698387973151\n",
      "Epoch 75: 0.0006124321904650287\n",
      "Epoch 100: 0.00046589733713401\n",
      "Epoch 125: 0.0003772727385825352\n",
      "Epoch 150: 0.0003177199401947096\n",
      "W1 size 124\n",
      "W2 size 5\n",
      "W3 size 3\n"
     ]
    },
    {
     "name": "stderr",
     "output_type": "stream",
     "text": [
      "/usr/local/lib/python3.5/dist-packages/sklearn/metrics/classification.py:1137: UndefinedMetricWarning: F-score is ill-defined and being set to 0.0 in labels with no true samples.\n",
      "  'recall', 'true', average, warn_for)\n"
     ]
    },
    {
     "name": "stdout",
     "output_type": "stream",
     "text": [
      "Using well-known algorithms: Logistic Regression, RandomForest and MLP\n"
     ]
    },
    {
     "name": "stderr",
     "output_type": "stream",
     "text": [
      "/usr/local/lib/python3.5/dist-packages/sklearn/metrics/classification.py:1135: UndefinedMetricWarning: F-score is ill-defined and being set to 0.0 in labels with no predicted samples.\n",
      "  'precision', 'predicted', average, warn_for)\n",
      "/usr/local/lib/python3.5/dist-packages/sklearn/neural_network/multilayer_perceptron.py:564: ConvergenceWarning: Stochastic Optimizer: Maximum iterations (200) reached and the optimization hasn't converged yet.\n",
      "  % self.max_iter, ConvergenceWarning)\n"
     ]
    },
    {
     "name": "stdout",
     "output_type": "stream",
     "text": [
      "Took: 40.504718542099\n",
      "--------------------------------------------------\n",
      "En: 100\tTr: 84\n",
      "Using first variation (Regressor and Classifier with score vectors)\n",
      "epoch 0:\t15.905390481728547\n",
      "epoch 10:\t15.58786701639844\n",
      "epoch 20:\t15.472200493180628\n",
      "epoch 30:\t15.418668640340499\n",
      "epoch 40:\t15.308369276095704\n",
      "epoch 50:\t15.230786422817987\n",
      "Using second variation (average of outputs produced by each set of weight matrices)\n",
      "Epoch 0: 0.8773827768246896\n",
      "Epoch 25: 0.0017354140002259887\n",
      "Epoch 50: 0.0008804495788182813\n",
      "Epoch 75: 0.0005949574467168493\n",
      "Epoch 100: 0.00045115310513025355\n",
      "Epoch 125: 0.00036424530427094635\n",
      "Epoch 150: 0.0003059439707971425\n",
      "W1 size 147\n",
      "W2 size 6\n",
      "W3 size 3\n"
     ]
    },
    {
     "name": "stderr",
     "output_type": "stream",
     "text": [
      "/usr/local/lib/python3.5/dist-packages/sklearn/metrics/classification.py:1137: UndefinedMetricWarning: F-score is ill-defined and being set to 0.0 in labels with no true samples.\n",
      "  'recall', 'true', average, warn_for)\n"
     ]
    },
    {
     "name": "stdout",
     "output_type": "stream",
     "text": [
      "Using well-known algorithms: Logistic Regression, RandomForest and MLP\n"
     ]
    },
    {
     "name": "stderr",
     "output_type": "stream",
     "text": [
      "/usr/local/lib/python3.5/dist-packages/sklearn/metrics/classification.py:1135: UndefinedMetricWarning: F-score is ill-defined and being set to 0.0 in labels with no predicted samples.\n",
      "  'precision', 'predicted', average, warn_for)\n",
      "/usr/local/lib/python3.5/dist-packages/sklearn/neural_network/multilayer_perceptron.py:564: ConvergenceWarning: Stochastic Optimizer: Maximum iterations (200) reached and the optimization hasn't converged yet.\n",
      "  % self.max_iter, ConvergenceWarning)\n"
     ]
    },
    {
     "name": "stdout",
     "output_type": "stream",
     "text": [
      "Took: 51.96098732948303\n",
      "--------------------------------------------------\n",
      "En: 100\tTr: 126\n",
      "Using first variation (Regressor and Classifier with score vectors)\n",
      "epoch 0:\t18.729341447509157\n",
      "epoch 10:\t18.454312929977704\n",
      "epoch 20:\t18.246779805280458\n",
      "epoch 30:\t18.21391749196076\n",
      "epoch 40:\t18.132966906667264\n",
      "epoch 50:\t18.03043823490999\n",
      "Using second variation (average of outputs produced by each set of weight matrices)\n",
      "Epoch 0: 0.34575253753176194\n",
      "Epoch 25: 0.0010229985404803562\n",
      "Epoch 50: 0.0005428496556960826\n",
      "Epoch 75: 0.00037344148818555927\n",
      "Epoch 100: 0.0002860335348566071\n",
      "Epoch 125: 0.00023244626216590916\n",
      "Epoch 150: 0.000196138191954867\n",
      "W1 size 176\n",
      "W2 size 6\n",
      "W3 size 3\n"
     ]
    },
    {
     "name": "stderr",
     "output_type": "stream",
     "text": [
      "/usr/local/lib/python3.5/dist-packages/sklearn/metrics/classification.py:1137: UndefinedMetricWarning: F-score is ill-defined and being set to 0.0 in labels with no true samples.\n",
      "  'recall', 'true', average, warn_for)\n"
     ]
    },
    {
     "name": "stdout",
     "output_type": "stream",
     "text": [
      "Using well-known algorithms: Logistic Regression, RandomForest and MLP\n"
     ]
    },
    {
     "name": "stderr",
     "output_type": "stream",
     "text": [
      "/usr/local/lib/python3.5/dist-packages/sklearn/metrics/classification.py:1135: UndefinedMetricWarning: F-score is ill-defined and being set to 0.0 in labels with no predicted samples.\n",
      "  'precision', 'predicted', average, warn_for)\n"
     ]
    },
    {
     "name": "stdout",
     "output_type": "stream",
     "text": [
      "Took: 66.48095417022705\n",
      "--------------------------------------------------\n",
      "En: 100\tTr: 168\n",
      "Using first variation (Regressor and Classifier with score vectors)\n",
      "epoch 0:\t19.024037256372917\n",
      "epoch 10:\t18.83124101614321\n",
      "epoch 20:\t18.636115350839045\n",
      "epoch 30:\t18.433685606025445\n",
      "epoch 40:\t18.29555742406067\n",
      "epoch 50:\t18.187478154259612\n",
      "Using second variation (average of outputs produced by each set of weight matrices)\n",
      "Epoch 0: 0.2959160116753501\n",
      "Epoch 25: 0.001337148149788087\n",
      "Epoch 50: 0.000697385434640838\n",
      "Epoch 75: 0.0004776264784481373\n",
      "Epoch 100: 0.0003653391477033754\n",
      "Epoch 125: 0.00029684059312295015\n",
      "Epoch 150: 0.0002505452930688619\n",
      "W1 size 200\n",
      "W2 size 6\n",
      "W3 size 3\n"
     ]
    },
    {
     "name": "stderr",
     "output_type": "stream",
     "text": [
      "/usr/local/lib/python3.5/dist-packages/sklearn/metrics/classification.py:1137: UndefinedMetricWarning: F-score is ill-defined and being set to 0.0 in labels with no true samples.\n",
      "  'recall', 'true', average, warn_for)\n"
     ]
    },
    {
     "name": "stdout",
     "output_type": "stream",
     "text": [
      "Using well-known algorithms: Logistic Regression, RandomForest and MLP\n"
     ]
    },
    {
     "name": "stderr",
     "output_type": "stream",
     "text": [
      "/usr/local/lib/python3.5/dist-packages/sklearn/metrics/classification.py:1135: UndefinedMetricWarning: F-score is ill-defined and being set to 0.0 in labels with no predicted samples.\n",
      "  'precision', 'predicted', average, warn_for)\n"
     ]
    },
    {
     "name": "stdout",
     "output_type": "stream",
     "text": [
      "Took: 74.47955417633057\n",
      "--------------------------------------------------\n",
      "En: 100\tTr: 210\n",
      "Using first variation (Regressor and Classifier with score vectors)\n",
      "epoch 0:\t19.90564027655427\n",
      "epoch 10:\t19.593324481178527\n",
      "epoch 20:\t19.249069190297217\n",
      "epoch 30:\t18.98270745632621\n",
      "epoch 40:\t18.699646307924297\n",
      "epoch 50:\t18.404726203278678\n",
      "Using second variation (average of outputs produced by each set of weight matrices)\n",
      "Epoch 0: 0.5003299420585976\n",
      "Epoch 25: 0.000836753408867845\n",
      "Epoch 50: 0.0004616792055510781\n",
      "Epoch 75: 0.0003235340064131448\n",
      "Epoch 100: 0.0002505509328757178\n",
      "Epoch 125: 0.00020511831460973164\n",
      "Epoch 150: 0.0001739991413501688\n",
      "W1 size 205\n",
      "W2 size 6\n",
      "W3 size 3\n"
     ]
    },
    {
     "name": "stderr",
     "output_type": "stream",
     "text": [
      "/usr/local/lib/python3.5/dist-packages/sklearn/metrics/classification.py:1137: UndefinedMetricWarning: F-score is ill-defined and being set to 0.0 in labels with no true samples.\n",
      "  'recall', 'true', average, warn_for)\n"
     ]
    },
    {
     "name": "stdout",
     "output_type": "stream",
     "text": [
      "Using well-known algorithms: Logistic Regression, RandomForest and MLP\n"
     ]
    },
    {
     "name": "stderr",
     "output_type": "stream",
     "text": [
      "/usr/local/lib/python3.5/dist-packages/sklearn/metrics/classification.py:1135: UndefinedMetricWarning: F-score is ill-defined and being set to 0.0 in labels with no predicted samples.\n",
      "  'precision', 'predicted', average, warn_for)\n",
      "/usr/local/lib/python3.5/dist-packages/sklearn/neural_network/multilayer_perceptron.py:564: ConvergenceWarning: Stochastic Optimizer: Maximum iterations (200) reached and the optimization hasn't converged yet.\n",
      "  % self.max_iter, ConvergenceWarning)\n"
     ]
    },
    {
     "name": "stdout",
     "output_type": "stream",
     "text": [
      "Took: 91.92659449577332\n",
      "--------------------------------------------------\n",
      "En: 100\tTr: 253\n",
      "Using first variation (Regressor and Classifier with score vectors)\n",
      "epoch 0:\t18.419150354266222\n",
      "epoch 10:\t18.310797865461602\n",
      "epoch 20:\t18.188317508539413\n",
      "epoch 30:\t18.06395951079283\n",
      "epoch 40:\t17.93622897258822\n",
      "epoch 50:\t17.824768282449448\n",
      "Using second variation (average of outputs produced by each set of weight matrices)\n",
      "Epoch 0: 0.7805033485962195\n",
      "Epoch 25: 0.0011621134406458438\n",
      "Epoch 50: 0.0005758040030885903\n",
      "Epoch 75: 0.0003887906827691944\n",
      "Epoch 100: 0.00029533597560260074\n",
      "Epoch 125: 0.00023893617145124408\n",
      "Epoch 150: 0.00020105909298666336\n",
      "W1 size 225\n",
      "W2 size 6\n",
      "W3 size 3\n"
     ]
    },
    {
     "name": "stderr",
     "output_type": "stream",
     "text": [
      "/usr/local/lib/python3.5/dist-packages/sklearn/metrics/classification.py:1137: UndefinedMetricWarning: F-score is ill-defined and being set to 0.0 in labels with no true samples.\n",
      "  'recall', 'true', average, warn_for)\n"
     ]
    },
    {
     "name": "stdout",
     "output_type": "stream",
     "text": [
      "Using well-known algorithms: Logistic Regression, RandomForest and MLP\n"
     ]
    },
    {
     "name": "stderr",
     "output_type": "stream",
     "text": [
      "/usr/local/lib/python3.5/dist-packages/sklearn/metrics/classification.py:1135: UndefinedMetricWarning: F-score is ill-defined and being set to 0.0 in labels with no predicted samples.\n",
      "  'precision', 'predicted', average, warn_for)\n",
      "/usr/local/lib/python3.5/dist-packages/sklearn/neural_network/multilayer_perceptron.py:564: ConvergenceWarning: Stochastic Optimizer: Maximum iterations (200) reached and the optimization hasn't converged yet.\n",
      "  % self.max_iter, ConvergenceWarning)\n"
     ]
    },
    {
     "name": "stdout",
     "output_type": "stream",
     "text": [
      "Took: 90.59792423248291\n",
      "--------------------------------------------------\n",
      "En: 100\tTr: 295\n",
      "Using first variation (Regressor and Classifier with score vectors)\n",
      "epoch 0:\t22.01514975587629\n",
      "epoch 10:\t21.851892242721277\n",
      "epoch 20:\t21.6473084615093\n",
      "epoch 30:\t21.421060766028603\n",
      "epoch 40:\t21.194839635933814\n",
      "epoch 50:\t20.960795983698986\n",
      "Using second variation (average of outputs produced by each set of weight matrices)\n",
      "Epoch 0: 0.27492881223995747\n",
      "Epoch 25: 0.0009117967608274371\n",
      "Epoch 50: 0.00046894673968359235\n",
      "Epoch 75: 0.00031911783696232936\n",
      "Epoch 100: 0.00024308462684555424\n",
      "Epoch 125: 0.00019689356333298626\n",
      "Epoch 150: 0.00016577529299768864\n",
      "W1 size 247\n",
      "W2 size 6\n",
      "W3 size 3\n"
     ]
    },
    {
     "name": "stderr",
     "output_type": "stream",
     "text": [
      "/usr/local/lib/python3.5/dist-packages/sklearn/metrics/classification.py:1137: UndefinedMetricWarning: F-score is ill-defined and being set to 0.0 in labels with no true samples.\n",
      "  'recall', 'true', average, warn_for)\n"
     ]
    },
    {
     "name": "stdout",
     "output_type": "stream",
     "text": [
      "Using well-known algorithms: Logistic Regression, RandomForest and MLP\n"
     ]
    },
    {
     "name": "stderr",
     "output_type": "stream",
     "text": [
      "/usr/local/lib/python3.5/dist-packages/sklearn/metrics/classification.py:1135: UndefinedMetricWarning: F-score is ill-defined and being set to 0.0 in labels with no predicted samples.\n",
      "  'precision', 'predicted', average, warn_for)\n",
      "/usr/local/lib/python3.5/dist-packages/sklearn/neural_network/multilayer_perceptron.py:564: ConvergenceWarning: Stochastic Optimizer: Maximum iterations (200) reached and the optimization hasn't converged yet.\n",
      "  % self.max_iter, ConvergenceWarning)\n"
     ]
    },
    {
     "name": "stdout",
     "output_type": "stream",
     "text": [
      "Took: 102.91303014755249\n",
      "--------------------------------------------------\n",
      "En: 100\tTr: 337\n",
      "Using first variation (Regressor and Classifier with score vectors)\n",
      "epoch 0:\t23.38522824278775\n",
      "epoch 10:\t23.334597383731303\n",
      "epoch 20:\t23.08956658255822\n",
      "epoch 30:\t22.897665929698363\n",
      "epoch 40:\t22.748999431699456\n",
      "epoch 50:\t22.524847128774415\n",
      "Using second variation (average of outputs produced by each set of weight matrices)\n",
      "Epoch 0: 0.0548951869225357\n",
      "Epoch 25: 0.0005394525537871075\n",
      "Epoch 50: 0.0003000617052716698\n",
      "Epoch 75: 0.00021147250460839712\n",
      "Epoch 100: 0.00016443983443696378\n",
      "Epoch 125: 0.0001350613721801442\n",
      "Epoch 150: 0.00011488128325234854\n",
      "W1 size 263\n",
      "W2 size 6\n",
      "W3 size 3\n"
     ]
    },
    {
     "name": "stderr",
     "output_type": "stream",
     "text": [
      "/usr/local/lib/python3.5/dist-packages/sklearn/metrics/classification.py:1137: UndefinedMetricWarning: F-score is ill-defined and being set to 0.0 in labels with no true samples.\n",
      "  'recall', 'true', average, warn_for)\n"
     ]
    },
    {
     "name": "stdout",
     "output_type": "stream",
     "text": [
      "Using well-known algorithms: Logistic Regression, RandomForest and MLP\n"
     ]
    },
    {
     "name": "stderr",
     "output_type": "stream",
     "text": [
      "/usr/local/lib/python3.5/dist-packages/sklearn/metrics/classification.py:1135: UndefinedMetricWarning: F-score is ill-defined and being set to 0.0 in labels with no predicted samples.\n",
      "  'precision', 'predicted', average, warn_for)\n"
     ]
    },
    {
     "name": "stdout",
     "output_type": "stream",
     "text": [
      "Took: 116.63111138343811\n",
      "--------------------------------------------------\n",
      "En: 100\tTr: 379\n",
      "Using first variation (Regressor and Classifier with score vectors)\n",
      "epoch 0:\t17.730005524000866\n",
      "epoch 10:\t17.666124871375057\n",
      "epoch 20:\t17.472155082476878\n",
      "epoch 30:\t17.263122862522554\n",
      "epoch 40:\t17.092008714655705\n",
      "epoch 50:\t16.943043749176727\n",
      "Using second variation (average of outputs produced by each set of weight matrices)\n",
      "Epoch 0: 0.7399322839542369\n",
      "Epoch 25: 0.0010317049024442546\n",
      "Epoch 50: 0.0005087645649245045\n",
      "Epoch 75: 0.0003427786995221646\n",
      "Epoch 100: 0.00026012931348541\n",
      "Epoch 125: 0.0002103636297876521\n",
      "Epoch 150: 0.00017699511977289342\n",
      "W1 size 277\n",
      "W2 size 6\n",
      "W3 size 3\n"
     ]
    },
    {
     "name": "stderr",
     "output_type": "stream",
     "text": [
      "/usr/local/lib/python3.5/dist-packages/sklearn/metrics/classification.py:1137: UndefinedMetricWarning: F-score is ill-defined and being set to 0.0 in labels with no true samples.\n",
      "  'recall', 'true', average, warn_for)\n"
     ]
    },
    {
     "name": "stdout",
     "output_type": "stream",
     "text": [
      "Using well-known algorithms: Logistic Regression, RandomForest and MLP\n"
     ]
    },
    {
     "name": "stderr",
     "output_type": "stream",
     "text": [
      "/usr/local/lib/python3.5/dist-packages/sklearn/metrics/classification.py:1135: UndefinedMetricWarning: F-score is ill-defined and being set to 0.0 in labels with no predicted samples.\n",
      "  'precision', 'predicted', average, warn_for)\n",
      "/usr/local/lib/python3.5/dist-packages/sklearn/neural_network/multilayer_perceptron.py:564: ConvergenceWarning: Stochastic Optimizer: Maximum iterations (200) reached and the optimization hasn't converged yet.\n",
      "  % self.max_iter, ConvergenceWarning)\n"
     ]
    },
    {
     "name": "stdout",
     "output_type": "stream",
     "text": [
      "Took: 111.6929841041565\n",
      "--------------------------------------------------\n",
      "En: 100\tTr: 421\n",
      "Using first variation (Regressor and Classifier with score vectors)\n",
      "epoch 0:\t19.816543489469808\n",
      "epoch 10:\t19.571776059577836\n",
      "epoch 20:\t19.254367696900854\n",
      "epoch 30:\t19.12176561738963\n",
      "epoch 40:\t19.134589349921026\n",
      "epoch 50:\t18.92257955030409\n",
      "Using second variation (average of outputs produced by each set of weight matrices)\n",
      "Epoch 0: 0.38157208153612987\n",
      "Epoch 25: 0.0005411291660263706\n",
      "Epoch 50: 0.00029024794239560593\n",
      "Epoch 75: 0.0002018009007361128\n",
      "Epoch 100: 0.00015590050732469944\n",
      "Epoch 125: 0.00012759875224362975\n",
      "Epoch 150: 0.00010832440549064737\n",
      "W1 size 278\n",
      "W2 size 6\n",
      "W3 size 3\n"
     ]
    },
    {
     "name": "stderr",
     "output_type": "stream",
     "text": [
      "/usr/local/lib/python3.5/dist-packages/sklearn/metrics/classification.py:1137: UndefinedMetricWarning: F-score is ill-defined and being set to 0.0 in labels with no true samples.\n",
      "  'recall', 'true', average, warn_for)\n"
     ]
    },
    {
     "name": "stdout",
     "output_type": "stream",
     "text": [
      "Using well-known algorithms: Logistic Regression, RandomForest and MLP\n"
     ]
    },
    {
     "name": "stderr",
     "output_type": "stream",
     "text": [
      "/usr/local/lib/python3.5/dist-packages/sklearn/metrics/classification.py:1135: UndefinedMetricWarning: F-score is ill-defined and being set to 0.0 in labels with no predicted samples.\n",
      "  'precision', 'predicted', average, warn_for)\n",
      "/usr/local/lib/python3.5/dist-packages/sklearn/neural_network/multilayer_perceptron.py:564: ConvergenceWarning: Stochastic Optimizer: Maximum iterations (200) reached and the optimization hasn't converged yet.\n",
      "  % self.max_iter, ConvergenceWarning)\n"
     ]
    },
    {
     "name": "stdout",
     "output_type": "stream",
     "text": [
      "Took: 128.62092328071594\n",
      "--------------------------------------------------\n",
      "En: 150\tTr: 42\n",
      "Using first variation (Regressor and Classifier with score vectors)\n",
      "epoch 0:\t19.963826141212337\n",
      "epoch 10:\t19.674807707507473\n",
      "epoch 20:\t19.35535110556538\n",
      "epoch 30:\t19.12998447365621\n",
      "epoch 40:\t18.96538911917799\n",
      "epoch 50:\t18.792451209317985\n",
      "Using second variation (average of outputs produced by each set of weight matrices)\n",
      "Epoch 0: 0.3745150496011096\n",
      "Epoch 25: 0.0013022492734446889\n",
      "Epoch 50: 0.0006750685057647458\n",
      "Epoch 75: 0.0004644950338540769\n",
      "Epoch 100: 0.00035720996414452993\n",
      "Epoch 125: 0.0002916140207170533\n",
      "Epoch 150: 0.00024712740656207544\n",
      "W1 size 159\n",
      "W2 size 6\n",
      "W3 size 3\n"
     ]
    },
    {
     "name": "stderr",
     "output_type": "stream",
     "text": [
      "/usr/local/lib/python3.5/dist-packages/sklearn/metrics/classification.py:1137: UndefinedMetricWarning: F-score is ill-defined and being set to 0.0 in labels with no true samples.\n",
      "  'recall', 'true', average, warn_for)\n"
     ]
    },
    {
     "name": "stdout",
     "output_type": "stream",
     "text": [
      "Using well-known algorithms: Logistic Regression, RandomForest and MLP\n"
     ]
    },
    {
     "name": "stderr",
     "output_type": "stream",
     "text": [
      "/usr/local/lib/python3.5/dist-packages/sklearn/metrics/classification.py:1135: UndefinedMetricWarning: F-score is ill-defined and being set to 0.0 in labels with no predicted samples.\n",
      "  'precision', 'predicted', average, warn_for)\n"
     ]
    },
    {
     "name": "stdout",
     "output_type": "stream",
     "text": [
      "Took: 55.649595737457275\n",
      "--------------------------------------------------\n",
      "En: 150\tTr: 84\n",
      "Using first variation (Regressor and Classifier with score vectors)\n",
      "epoch 0:\t16.82888652972557\n",
      "epoch 10:\t16.580679142375832\n",
      "epoch 20:\t16.4221441875103\n",
      "epoch 30:\t16.287844097899647\n",
      "epoch 40:\t16.178142315431376\n",
      "epoch 50:\t16.0741275725245\n",
      "Using second variation (average of outputs produced by each set of weight matrices)\n",
      "Epoch 0: 0.29077304581244\n",
      "Epoch 25: 0.0008941111056891103\n",
      "Epoch 50: 0.00046697267231226235\n",
      "Epoch 75: 0.0003212231404718252\n",
      "Epoch 100: 0.00024671810851828745\n",
      "Epoch 125: 0.00020114083964583\n",
      "Epoch 150: 0.0001702265944849587\n",
      "W1 size 192\n",
      "W2 size 5\n",
      "W3 size 3\n"
     ]
    },
    {
     "name": "stderr",
     "output_type": "stream",
     "text": [
      "/usr/local/lib/python3.5/dist-packages/sklearn/metrics/classification.py:1137: UndefinedMetricWarning: F-score is ill-defined and being set to 0.0 in labels with no true samples.\n",
      "  'recall', 'true', average, warn_for)\n"
     ]
    },
    {
     "name": "stdout",
     "output_type": "stream",
     "text": [
      "Using well-known algorithms: Logistic Regression, RandomForest and MLP\n"
     ]
    },
    {
     "name": "stderr",
     "output_type": "stream",
     "text": [
      "/usr/local/lib/python3.5/dist-packages/sklearn/metrics/classification.py:1135: UndefinedMetricWarning: F-score is ill-defined and being set to 0.0 in labels with no predicted samples.\n",
      "  'precision', 'predicted', average, warn_for)\n"
     ]
    },
    {
     "name": "stdout",
     "output_type": "stream",
     "text": [
      "Took: 58.81767916679382\n",
      "--------------------------------------------------\n",
      "En: 150\tTr: 126\n",
      "Using first variation (Regressor and Classifier with score vectors)\n",
      "epoch 0:\t20.751260937027183\n",
      "epoch 10:\t20.11150931456135\n",
      "epoch 20:\t19.5343066690448\n",
      "epoch 30:\t19.059066671029857\n",
      "epoch 40:\t18.68312592057666\n",
      "epoch 50:\t18.407836574480967\n",
      "Using second variation (average of outputs produced by each set of weight matrices)\n",
      "Epoch 0: 0.6120192049324218\n",
      "Epoch 25: 0.001959524397087836\n",
      "Epoch 50: 0.0007927381487949608\n",
      "Epoch 75: 0.0005123921425558738\n",
      "Epoch 100: 0.00038260682054249253\n",
      "Epoch 125: 0.00030687899051738145\n",
      "Epoch 150: 0.0002569623899893547\n",
      "W1 size 209\n",
      "W2 size 6\n",
      "W3 size 3\n"
     ]
    },
    {
     "name": "stderr",
     "output_type": "stream",
     "text": [
      "/usr/local/lib/python3.5/dist-packages/sklearn/metrics/classification.py:1137: UndefinedMetricWarning: F-score is ill-defined and being set to 0.0 in labels with no true samples.\n",
      "  'recall', 'true', average, warn_for)\n"
     ]
    },
    {
     "name": "stdout",
     "output_type": "stream",
     "text": [
      "Using well-known algorithms: Logistic Regression, RandomForest and MLP\n"
     ]
    },
    {
     "name": "stderr",
     "output_type": "stream",
     "text": [
      "/usr/local/lib/python3.5/dist-packages/sklearn/metrics/classification.py:1135: UndefinedMetricWarning: F-score is ill-defined and being set to 0.0 in labels with no predicted samples.\n",
      "  'precision', 'predicted', average, warn_for)\n",
      "/usr/local/lib/python3.5/dist-packages/sklearn/neural_network/multilayer_perceptron.py:564: ConvergenceWarning: Stochastic Optimizer: Maximum iterations (200) reached and the optimization hasn't converged yet.\n",
      "  % self.max_iter, ConvergenceWarning)\n"
     ]
    },
    {
     "name": "stdout",
     "output_type": "stream",
     "text": [
      "Took: 81.44571995735168\n",
      "--------------------------------------------------\n",
      "En: 150\tTr: 168\n",
      "Using first variation (Regressor and Classifier with score vectors)\n",
      "epoch 0:\t20.16872785822655\n",
      "epoch 10:\t19.89803541156023\n",
      "epoch 20:\t19.29854062821073\n",
      "epoch 30:\t19.004352291689774\n",
      "epoch 40:\t18.784607595256528\n",
      "epoch 50:\t18.582652991422105\n",
      "Using second variation (average of outputs produced by each set of weight matrices)\n",
      "Epoch 0: 0.29908317169108156\n",
      "Epoch 25: 0.0018480442060189047\n",
      "Epoch 50: 0.0007680924726021962\n",
      "Epoch 75: 0.0004993087872273313\n",
      "Epoch 100: 0.00037385467920403597\n",
      "Epoch 125: 0.00030044261263371036\n",
      "Epoch 150: 0.0002519766505943024\n",
      "W1 size 224\n",
      "W2 size 6\n",
      "W3 size 3\n"
     ]
    },
    {
     "name": "stderr",
     "output_type": "stream",
     "text": [
      "/usr/local/lib/python3.5/dist-packages/sklearn/metrics/classification.py:1137: UndefinedMetricWarning: F-score is ill-defined and being set to 0.0 in labels with no true samples.\n",
      "  'recall', 'true', average, warn_for)\n"
     ]
    },
    {
     "name": "stdout",
     "output_type": "stream",
     "text": [
      "Using well-known algorithms: Logistic Regression, RandomForest and MLP\n"
     ]
    },
    {
     "name": "stderr",
     "output_type": "stream",
     "text": [
      "/usr/local/lib/python3.5/dist-packages/sklearn/metrics/classification.py:1135: UndefinedMetricWarning: F-score is ill-defined and being set to 0.0 in labels with no predicted samples.\n",
      "  'precision', 'predicted', average, warn_for)\n",
      "/usr/local/lib/python3.5/dist-packages/sklearn/neural_network/multilayer_perceptron.py:564: ConvergenceWarning: Stochastic Optimizer: Maximum iterations (200) reached and the optimization hasn't converged yet.\n",
      "  % self.max_iter, ConvergenceWarning)\n"
     ]
    },
    {
     "name": "stdout",
     "output_type": "stream",
     "text": [
      "Took: 86.95086717605591\n",
      "--------------------------------------------------\n",
      "En: 150\tTr: 210\n",
      "Using first variation (Regressor and Classifier with score vectors)\n",
      "epoch 0:\t21.760521129174013\n",
      "epoch 10:\t21.52315869136172\n",
      "epoch 20:\t21.32395204997574\n",
      "epoch 30:\t21.047655169007744\n",
      "epoch 40:\t20.761274968873384\n",
      "epoch 50:\t20.500953146057167\n",
      "Using second variation (average of outputs produced by each set of weight matrices)\n",
      "Epoch 0: 0.25717962738592365\n",
      "Epoch 25: 0.0008408594291382027\n",
      "Epoch 50: 0.00042840290302288665\n",
      "Epoch 75: 0.0002908239348719298\n",
      "Epoch 100: 0.00022142486414592117\n",
      "Epoch 125: 0.00017940072617056064\n",
      "Epoch 150: 0.0001511484456759465\n",
      "W1 size 240\n",
      "W2 size 6\n",
      "W3 size 3\n"
     ]
    },
    {
     "name": "stderr",
     "output_type": "stream",
     "text": [
      "/usr/local/lib/python3.5/dist-packages/sklearn/metrics/classification.py:1137: UndefinedMetricWarning: F-score is ill-defined and being set to 0.0 in labels with no true samples.\n",
      "  'recall', 'true', average, warn_for)\n"
     ]
    },
    {
     "name": "stdout",
     "output_type": "stream",
     "text": [
      "Using well-known algorithms: Logistic Regression, RandomForest and MLP\n"
     ]
    },
    {
     "name": "stderr",
     "output_type": "stream",
     "text": [
      "/usr/local/lib/python3.5/dist-packages/sklearn/metrics/classification.py:1135: UndefinedMetricWarning: F-score is ill-defined and being set to 0.0 in labels with no predicted samples.\n",
      "  'precision', 'predicted', average, warn_for)\n",
      "/usr/local/lib/python3.5/dist-packages/sklearn/neural_network/multilayer_perceptron.py:564: ConvergenceWarning: Stochastic Optimizer: Maximum iterations (200) reached and the optimization hasn't converged yet.\n",
      "  % self.max_iter, ConvergenceWarning)\n"
     ]
    },
    {
     "name": "stdout",
     "output_type": "stream",
     "text": [
      "Took: 97.2586100101471\n",
      "--------------------------------------------------\n",
      "En: 150\tTr: 253\n",
      "Using first variation (Regressor and Classifier with score vectors)\n",
      "epoch 0:\t19.730784198188687\n",
      "epoch 10:\t19.35605758451933\n",
      "epoch 20:\t19.200119551684573\n",
      "epoch 30:\t19.005221631153677\n",
      "epoch 40:\t18.84026690835785\n",
      "epoch 50:\t18.58801419777325\n",
      "Using second variation (average of outputs produced by each set of weight matrices)\n",
      "Epoch 0: 1.0010954116673263\n",
      "Epoch 25: 0.0013460064248160069\n",
      "Epoch 50: 0.0006635610973131902\n",
      "Epoch 75: 0.0004441821441192516\n",
      "Epoch 100: 0.0003350327935820336\n",
      "Epoch 125: 0.0002694846618110222\n",
      "Epoch 150: 0.00022568280228738128\n",
      "W1 size 256\n",
      "W2 size 6\n",
      "W3 size 3\n"
     ]
    },
    {
     "name": "stderr",
     "output_type": "stream",
     "text": [
      "/usr/local/lib/python3.5/dist-packages/sklearn/metrics/classification.py:1137: UndefinedMetricWarning: F-score is ill-defined and being set to 0.0 in labels with no true samples.\n",
      "  'recall', 'true', average, warn_for)\n"
     ]
    },
    {
     "name": "stdout",
     "output_type": "stream",
     "text": [
      "Using well-known algorithms: Logistic Regression, RandomForest and MLP\n"
     ]
    },
    {
     "name": "stderr",
     "output_type": "stream",
     "text": [
      "/usr/local/lib/python3.5/dist-packages/sklearn/metrics/classification.py:1135: UndefinedMetricWarning: F-score is ill-defined and being set to 0.0 in labels with no predicted samples.\n",
      "  'precision', 'predicted', average, warn_for)\n"
     ]
    },
    {
     "name": "stdout",
     "output_type": "stream",
     "text": [
      "Took: 106.6891450881958\n",
      "--------------------------------------------------\n",
      "En: 150\tTr: 295\n",
      "Using first variation (Regressor and Classifier with score vectors)\n",
      "epoch 0:\t18.72446193410264\n",
      "epoch 10:\t18.43607258857243\n",
      "epoch 20:\t18.20799275238663\n",
      "epoch 30:\t18.093024479153467\n",
      "epoch 40:\t18.057120772128275\n",
      "epoch 50:\t18.038196300118397\n",
      "Using second variation (average of outputs produced by each set of weight matrices)\n",
      "Epoch 0: 0.20767702899221505\n",
      "Epoch 25: 0.0008852315725826639\n",
      "Epoch 50: 0.00043570815888856716\n",
      "Epoch 75: 0.00029579815632375223\n",
      "Epoch 100: 0.00022592681289483935\n",
      "Epoch 125: 0.00018361312990858994\n",
      "Epoch 150: 0.00015509078707222205\n",
      "W1 size 289\n",
      "W2 size 6\n",
      "W3 size 3\n"
     ]
    },
    {
     "name": "stderr",
     "output_type": "stream",
     "text": [
      "/usr/local/lib/python3.5/dist-packages/sklearn/metrics/classification.py:1137: UndefinedMetricWarning: F-score is ill-defined and being set to 0.0 in labels with no true samples.\n",
      "  'recall', 'true', average, warn_for)\n"
     ]
    },
    {
     "name": "stdout",
     "output_type": "stream",
     "text": [
      "Using well-known algorithms: Logistic Regression, RandomForest and MLP\n"
     ]
    },
    {
     "name": "stderr",
     "output_type": "stream",
     "text": [
      "/usr/local/lib/python3.5/dist-packages/sklearn/metrics/classification.py:1135: UndefinedMetricWarning: F-score is ill-defined and being set to 0.0 in labels with no predicted samples.\n",
      "  'precision', 'predicted', average, warn_for)\n",
      "/usr/local/lib/python3.5/dist-packages/sklearn/neural_network/multilayer_perceptron.py:564: ConvergenceWarning: Stochastic Optimizer: Maximum iterations (200) reached and the optimization hasn't converged yet.\n",
      "  % self.max_iter, ConvergenceWarning)\n"
     ]
    },
    {
     "name": "stdout",
     "output_type": "stream",
     "text": [
      "Took: 114.55023121833801\n",
      "--------------------------------------------------\n",
      "En: 150\tTr: 337\n",
      "Using first variation (Regressor and Classifier with score vectors)\n",
      "epoch 0:\t21.443324195311238\n",
      "epoch 10:\t21.57057950462814\n",
      "epoch 20:\t21.335332743821365\n",
      "epoch 30:\t21.088218397497126\n",
      "epoch 40:\t20.89590904572986\n",
      "epoch 50:\t20.736160857893513\n",
      "Using second variation (average of outputs produced by each set of weight matrices)\n",
      "Epoch 0: 0.541215587328442\n",
      "Epoch 25: 0.0008062907824725894\n",
      "Epoch 50: 0.0004132119870800098\n",
      "Epoch 75: 0.0002809564171821223\n",
      "Epoch 100: 0.00021399044611970927\n",
      "Epoch 125: 0.00017335797349682107\n",
      "Epoch 150: 0.0001460012660002761\n",
      "W1 size 286\n",
      "W2 size 6\n",
      "W3 size 3\n"
     ]
    },
    {
     "name": "stderr",
     "output_type": "stream",
     "text": [
      "/usr/local/lib/python3.5/dist-packages/sklearn/metrics/classification.py:1137: UndefinedMetricWarning: F-score is ill-defined and being set to 0.0 in labels with no true samples.\n",
      "  'recall', 'true', average, warn_for)\n"
     ]
    },
    {
     "name": "stdout",
     "output_type": "stream",
     "text": [
      "Using well-known algorithms: Logistic Regression, RandomForest and MLP\n"
     ]
    },
    {
     "name": "stderr",
     "output_type": "stream",
     "text": [
      "/usr/local/lib/python3.5/dist-packages/sklearn/metrics/classification.py:1135: UndefinedMetricWarning: F-score is ill-defined and being set to 0.0 in labels with no predicted samples.\n",
      "  'precision', 'predicted', average, warn_for)\n",
      "/usr/local/lib/python3.5/dist-packages/sklearn/neural_network/multilayer_perceptron.py:564: ConvergenceWarning: Stochastic Optimizer: Maximum iterations (200) reached and the optimization hasn't converged yet.\n",
      "  % self.max_iter, ConvergenceWarning)\n"
     ]
    },
    {
     "name": "stdout",
     "output_type": "stream",
     "text": [
      "Took: 122.97395181655884\n",
      "--------------------------------------------------\n",
      "En: 150\tTr: 379\n",
      "Using first variation (Regressor and Classifier with score vectors)\n",
      "epoch 0:\t29.2263110681539\n",
      "epoch 10:\t28.09824262769166\n",
      "epoch 20:\t27.482577021954043\n",
      "epoch 30:\t27.02809600350084\n",
      "epoch 40:\t26.683675604266508\n",
      "epoch 50:\t26.42756399415966\n",
      "Using second variation (average of outputs produced by each set of weight matrices)\n",
      "Epoch 0: 0.6540952549641734\n",
      "Epoch 25: 0.0006185968097693282\n",
      "Epoch 50: 0.0003267196755903572\n",
      "Epoch 75: 0.00022605903481901255\n",
      "Epoch 100: 0.0001741771033139118\n",
      "Epoch 125: 0.0001422806895770411\n",
      "Epoch 150: 0.00012059867178915036\n",
      "W1 size 309\n",
      "W2 size 6\n",
      "W3 size 3\n"
     ]
    },
    {
     "name": "stderr",
     "output_type": "stream",
     "text": [
      "/usr/local/lib/python3.5/dist-packages/sklearn/metrics/classification.py:1137: UndefinedMetricWarning: F-score is ill-defined and being set to 0.0 in labels with no true samples.\n",
      "  'recall', 'true', average, warn_for)\n"
     ]
    },
    {
     "name": "stdout",
     "output_type": "stream",
     "text": [
      "Using well-known algorithms: Logistic Regression, RandomForest and MLP\n"
     ]
    },
    {
     "name": "stderr",
     "output_type": "stream",
     "text": [
      "/usr/local/lib/python3.5/dist-packages/sklearn/metrics/classification.py:1135: UndefinedMetricWarning: F-score is ill-defined and being set to 0.0 in labels with no predicted samples.\n",
      "  'precision', 'predicted', average, warn_for)\n",
      "/usr/local/lib/python3.5/dist-packages/sklearn/neural_network/multilayer_perceptron.py:564: ConvergenceWarning: Stochastic Optimizer: Maximum iterations (200) reached and the optimization hasn't converged yet.\n",
      "  % self.max_iter, ConvergenceWarning)\n"
     ]
    },
    {
     "name": "stdout",
     "output_type": "stream",
     "text": [
      "Took: 136.47936916351318\n",
      "--------------------------------------------------\n",
      "En: 150\tTr: 421\n",
      "Using first variation (Regressor and Classifier with score vectors)\n",
      "epoch 0:\t19.691969224837692\n",
      "epoch 10:\t19.31998262899317\n",
      "epoch 20:\t18.947128252799132\n",
      "epoch 30:\t18.55212280706387\n",
      "epoch 40:\t18.20691792645769\n",
      "epoch 50:\t17.881422782323853\n",
      "Using second variation (average of outputs produced by each set of weight matrices)\n",
      "Epoch 0: 0.4209368738801594\n",
      "Epoch 25: 0.0006939448675648208\n",
      "Epoch 50: 0.0003551255829977995\n",
      "Epoch 75: 0.0002406367696156994\n",
      "Epoch 100: 0.00018271707272389363\n",
      "Epoch 125: 0.00014762748346475467\n",
      "Epoch 150: 0.0001240512987254432\n",
      "W1 size 317\n",
      "W2 size 6\n",
      "W3 size 3\n"
     ]
    },
    {
     "name": "stderr",
     "output_type": "stream",
     "text": [
      "/usr/local/lib/python3.5/dist-packages/sklearn/metrics/classification.py:1137: UndefinedMetricWarning: F-score is ill-defined and being set to 0.0 in labels with no true samples.\n",
      "  'recall', 'true', average, warn_for)\n"
     ]
    },
    {
     "name": "stdout",
     "output_type": "stream",
     "text": [
      "Using well-known algorithms: Logistic Regression, RandomForest and MLP\n"
     ]
    },
    {
     "name": "stderr",
     "output_type": "stream",
     "text": [
      "/usr/local/lib/python3.5/dist-packages/sklearn/metrics/classification.py:1135: UndefinedMetricWarning: F-score is ill-defined and being set to 0.0 in labels with no predicted samples.\n",
      "  'precision', 'predicted', average, warn_for)\n",
      "/usr/local/lib/python3.5/dist-packages/sklearn/neural_network/multilayer_perceptron.py:564: ConvergenceWarning: Stochastic Optimizer: Maximum iterations (200) reached and the optimization hasn't converged yet.\n",
      "  % self.max_iter, ConvergenceWarning)\n"
     ]
    },
    {
     "name": "stdout",
     "output_type": "stream",
     "text": [
      "Took: 134.97340369224548\n",
      "--------------------------------------------------\n",
      "En: 200\tTr: 42\n",
      "Using first variation (Regressor and Classifier with score vectors)\n",
      "epoch 0:\t18.72837532274651\n",
      "epoch 10:\t18.575874759532315\n",
      "epoch 20:\t18.42142097202013\n",
      "epoch 30:\t18.227992359731882\n",
      "epoch 40:\t18.029663695053742\n",
      "epoch 50:\t17.84394537831444\n",
      "Using second variation (average of outputs produced by each set of weight matrices)\n",
      "Epoch 0: 0.4345247390581016\n",
      "Epoch 25: 0.0007963607250645539\n",
      "Epoch 50: 0.000417158620985039\n",
      "Epoch 75: 0.0002872526840955479\n",
      "Epoch 100: 0.00022073848998621957\n",
      "Epoch 125: 0.00018005388332060541\n",
      "Epoch 150: 0.00015248695425487658\n",
      "W1 size 194\n",
      "W2 size 5\n",
      "W3 size 3\n"
     ]
    },
    {
     "name": "stderr",
     "output_type": "stream",
     "text": [
      "/usr/local/lib/python3.5/dist-packages/sklearn/metrics/classification.py:1137: UndefinedMetricWarning: F-score is ill-defined and being set to 0.0 in labels with no true samples.\n",
      "  'recall', 'true', average, warn_for)\n"
     ]
    },
    {
     "name": "stdout",
     "output_type": "stream",
     "text": [
      "Using well-known algorithms: Logistic Regression, RandomForest and MLP\n"
     ]
    },
    {
     "name": "stderr",
     "output_type": "stream",
     "text": [
      "/usr/local/lib/python3.5/dist-packages/sklearn/metrics/classification.py:1135: UndefinedMetricWarning: F-score is ill-defined and being set to 0.0 in labels with no predicted samples.\n",
      "  'precision', 'predicted', average, warn_for)\n"
     ]
    },
    {
     "name": "stdout",
     "output_type": "stream",
     "text": [
      "Took: 64.78700065612793\n",
      "--------------------------------------------------\n",
      "En: 200\tTr: 84\n",
      "Using first variation (Regressor and Classifier with score vectors)\n",
      "epoch 0:\t22.00092200998257\n",
      "epoch 10:\t21.90076702550111\n",
      "epoch 20:\t21.666436629895813\n",
      "epoch 30:\t21.4100800645414\n",
      "epoch 40:\t20.976610852093447\n",
      "epoch 50:\t20.578361562012834\n",
      "Using second variation (average of outputs produced by each set of weight matrices)\n",
      "Epoch 0: 1.0503677956143609\n",
      "Epoch 25: 0.0013786445260794227\n",
      "Epoch 50: 0.0007032207460806211\n",
      "Epoch 75: 0.00047680985232029943\n",
      "Epoch 100: 0.00036227903207990657\n",
      "Epoch 125: 0.0002928442387159025\n",
      "Epoch 150: 0.0002461534212555024\n",
      "W1 size 217\n",
      "W2 size 6\n",
      "W3 size 3\n"
     ]
    },
    {
     "name": "stderr",
     "output_type": "stream",
     "text": [
      "/usr/local/lib/python3.5/dist-packages/sklearn/metrics/classification.py:1137: UndefinedMetricWarning: F-score is ill-defined and being set to 0.0 in labels with no true samples.\n",
      "  'recall', 'true', average, warn_for)\n"
     ]
    },
    {
     "name": "stdout",
     "output_type": "stream",
     "text": [
      "Using well-known algorithms: Logistic Regression, RandomForest and MLP\n"
     ]
    },
    {
     "name": "stderr",
     "output_type": "stream",
     "text": [
      "/usr/local/lib/python3.5/dist-packages/sklearn/metrics/classification.py:1135: UndefinedMetricWarning: F-score is ill-defined and being set to 0.0 in labels with no predicted samples.\n",
      "  'precision', 'predicted', average, warn_for)\n",
      "/usr/local/lib/python3.5/dist-packages/sklearn/neural_network/multilayer_perceptron.py:564: ConvergenceWarning: Stochastic Optimizer: Maximum iterations (200) reached and the optimization hasn't converged yet.\n",
      "  % self.max_iter, ConvergenceWarning)\n"
     ]
    },
    {
     "name": "stdout",
     "output_type": "stream",
     "text": [
      "Took: 83.75478196144104\n",
      "--------------------------------------------------\n",
      "En: 200\tTr: 126\n",
      "Using first variation (Regressor and Classifier with score vectors)\n",
      "epoch 0:\t18.091206192386707\n",
      "epoch 10:\t17.85370310469195\n",
      "epoch 20:\t17.69547662016404\n",
      "epoch 30:\t17.542901525050667\n",
      "epoch 40:\t17.321892828427977\n",
      "epoch 50:\t17.118089871408\n",
      "Using second variation (average of outputs produced by each set of weight matrices)\n",
      "Epoch 0: 0.7090253092451959\n",
      "Epoch 25: 0.0009015984290288213\n",
      "Epoch 50: 0.00045324392839368564\n",
      "Epoch 75: 0.00030798406101695264\n",
      "Epoch 100: 0.00023495158082817487\n",
      "Epoch 125: 0.00019069105669226795\n",
      "Epoch 150: 0.00016087846735135728\n",
      "W1 size 251\n",
      "W2 size 6\n",
      "W3 size 3\n"
     ]
    },
    {
     "name": "stderr",
     "output_type": "stream",
     "text": [
      "/usr/local/lib/python3.5/dist-packages/sklearn/metrics/classification.py:1137: UndefinedMetricWarning: F-score is ill-defined and being set to 0.0 in labels with no true samples.\n",
      "  'recall', 'true', average, warn_for)\n"
     ]
    },
    {
     "name": "stdout",
     "output_type": "stream",
     "text": [
      "Using well-known algorithms: Logistic Regression, RandomForest and MLP\n"
     ]
    },
    {
     "name": "stderr",
     "output_type": "stream",
     "text": [
      "/usr/local/lib/python3.5/dist-packages/sklearn/metrics/classification.py:1135: UndefinedMetricWarning: F-score is ill-defined and being set to 0.0 in labels with no predicted samples.\n",
      "  'precision', 'predicted', average, warn_for)\n",
      "/usr/local/lib/python3.5/dist-packages/sklearn/neural_network/multilayer_perceptron.py:564: ConvergenceWarning: Stochastic Optimizer: Maximum iterations (200) reached and the optimization hasn't converged yet.\n",
      "  % self.max_iter, ConvergenceWarning)\n"
     ]
    },
    {
     "name": "stdout",
     "output_type": "stream",
     "text": [
      "Took: 94.6638650894165\n",
      "--------------------------------------------------\n",
      "En: 200\tTr: 168\n",
      "Using first variation (Regressor and Classifier with score vectors)\n",
      "epoch 0:\t21.847259826944953\n",
      "epoch 10:\t21.17041641770652\n",
      "epoch 20:\t20.981693126682426\n",
      "epoch 30:\t20.819709418535886\n",
      "epoch 40:\t20.655567869809293\n",
      "epoch 50:\t20.4910217524948\n",
      "Using second variation (average of outputs produced by each set of weight matrices)\n",
      "Epoch 0: 1.6015754056255431\n",
      "Epoch 25: 0.0013628899560518078\n",
      "Epoch 50: 0.0006616233696838947\n",
      "Epoch 75: 0.0004426599623693097\n",
      "Epoch 100: 0.00033422017818223566\n",
      "Epoch 125: 0.00026915271314295006\n",
      "Epoch 150: 0.0002256590632850451\n",
      "W1 size 255\n",
      "W2 size 6\n",
      "W3 size 3\n"
     ]
    },
    {
     "name": "stderr",
     "output_type": "stream",
     "text": [
      "/usr/local/lib/python3.5/dist-packages/sklearn/metrics/classification.py:1137: UndefinedMetricWarning: F-score is ill-defined and being set to 0.0 in labels with no true samples.\n",
      "  'recall', 'true', average, warn_for)\n"
     ]
    },
    {
     "name": "stdout",
     "output_type": "stream",
     "text": [
      "Using well-known algorithms: Logistic Regression, RandomForest and MLP\n"
     ]
    },
    {
     "name": "stderr",
     "output_type": "stream",
     "text": [
      "/usr/local/lib/python3.5/dist-packages/sklearn/neural_network/multilayer_perceptron.py:564: ConvergenceWarning: Stochastic Optimizer: Maximum iterations (200) reached and the optimization hasn't converged yet.\n",
      "  % self.max_iter, ConvergenceWarning)\n",
      "/usr/local/lib/python3.5/dist-packages/sklearn/metrics/classification.py:1135: UndefinedMetricWarning: F-score is ill-defined and being set to 0.0 in labels with no predicted samples.\n",
      "  'precision', 'predicted', average, warn_for)\n"
     ]
    },
    {
     "name": "stdout",
     "output_type": "stream",
     "text": [
      "Took: 96.6297812461853\n",
      "--------------------------------------------------\n",
      "En: 200\tTr: 210\n",
      "Using first variation (Regressor and Classifier with score vectors)\n",
      "epoch 0:\t19.634746932319995\n",
      "epoch 10:\t19.2626580396817\n",
      "epoch 20:\t19.24693017623777\n",
      "epoch 30:\t19.105197853544997\n",
      "epoch 40:\t19.001889981944874\n",
      "epoch 50:\t18.925159564593415\n",
      "Using second variation (average of outputs produced by each set of weight matrices)\n",
      "Epoch 0: 0.46030181176668955\n",
      "Epoch 25: 0.0007228811402446892\n",
      "Epoch 50: 0.00036020168803929664\n",
      "Epoch 75: 0.000245048561644493\n",
      "Epoch 100: 0.00018747353116092344\n",
      "Epoch 125: 0.0001526134186391914\n",
      "Epoch 150: 0.00012911224206176228\n",
      "W1 size 278\n",
      "W2 size 6\n",
      "W3 size 3\n"
     ]
    },
    {
     "name": "stderr",
     "output_type": "stream",
     "text": [
      "/usr/local/lib/python3.5/dist-packages/sklearn/metrics/classification.py:1137: UndefinedMetricWarning: F-score is ill-defined and being set to 0.0 in labels with no true samples.\n",
      "  'recall', 'true', average, warn_for)\n"
     ]
    },
    {
     "name": "stdout",
     "output_type": "stream",
     "text": [
      "Using well-known algorithms: Logistic Regression, RandomForest and MLP\n"
     ]
    },
    {
     "name": "stderr",
     "output_type": "stream",
     "text": [
      "/usr/local/lib/python3.5/dist-packages/sklearn/metrics/classification.py:1135: UndefinedMetricWarning: F-score is ill-defined and being set to 0.0 in labels with no predicted samples.\n",
      "  'precision', 'predicted', average, warn_for)\n"
     ]
    },
    {
     "name": "stdout",
     "output_type": "stream",
     "text": [
      "Took: 115.73650765419006\n",
      "--------------------------------------------------\n",
      "En: 200\tTr: 253\n",
      "Using first variation (Regressor and Classifier with score vectors)\n",
      "epoch 0:\t17.639035317726144\n",
      "epoch 10:\t17.547237391147945\n",
      "epoch 20:\t17.50179014039901\n",
      "epoch 30:\t17.48728514708516\n",
      "epoch 40:\t17.434986735645833\n",
      "epoch 50:\t17.3776610239904\n",
      "Using second variation (average of outputs produced by each set of weight matrices)\n",
      "Epoch 0: 0.21915793139957662\n",
      "Epoch 25: 0.0006379998612226158\n",
      "Epoch 50: 0.00032798573474283817\n",
      "Epoch 75: 0.00022491687754418443\n",
      "Epoch 100: 0.00017235034530170866\n",
      "Epoch 125: 0.00014021338775903154\n",
      "Epoch 150: 0.00011843629951936482\n",
      "W1 size 294\n",
      "W2 size 6\n",
      "W3 size 3\n"
     ]
    },
    {
     "name": "stderr",
     "output_type": "stream",
     "text": [
      "/usr/local/lib/python3.5/dist-packages/sklearn/metrics/classification.py:1137: UndefinedMetricWarning: F-score is ill-defined and being set to 0.0 in labels with no true samples.\n",
      "  'recall', 'true', average, warn_for)\n"
     ]
    },
    {
     "name": "stdout",
     "output_type": "stream",
     "text": [
      "Using well-known algorithms: Logistic Regression, RandomForest and MLP\n"
     ]
    },
    {
     "name": "stderr",
     "output_type": "stream",
     "text": [
      "/usr/local/lib/python3.5/dist-packages/sklearn/metrics/classification.py:1135: UndefinedMetricWarning: F-score is ill-defined and being set to 0.0 in labels with no predicted samples.\n",
      "  'precision', 'predicted', average, warn_for)\n",
      "/usr/local/lib/python3.5/dist-packages/sklearn/neural_network/multilayer_perceptron.py:564: ConvergenceWarning: Stochastic Optimizer: Maximum iterations (200) reached and the optimization hasn't converged yet.\n",
      "  % self.max_iter, ConvergenceWarning)\n"
     ]
    },
    {
     "name": "stdout",
     "output_type": "stream",
     "text": [
      "Took: 120.68393325805664\n",
      "--------------------------------------------------\n",
      "En: 200\tTr: 295\n",
      "Using first variation (Regressor and Classifier with score vectors)\n",
      "epoch 0:\t20.39026966634751\n",
      "epoch 10:\t19.81977614554052\n",
      "epoch 20:\t19.55895133163428\n",
      "epoch 30:\t19.379988090733033\n",
      "epoch 40:\t19.2002054792804\n",
      "epoch 50:\t19.035041055670337\n",
      "Using second variation (average of outputs produced by each set of weight matrices)\n",
      "Epoch 0: 0.06662073151623057\n",
      "Epoch 25: 0.0005710529263008613\n",
      "Epoch 50: 0.0002987515060031035\n",
      "Epoch 75: 0.00020509865168009763\n",
      "Epoch 100: 0.00015711807406259453\n",
      "Epoch 125: 0.00012777263962816208\n",
      "Epoch 150: 0.00010789888260347593\n",
      "W1 size 307\n",
      "W2 size 6\n",
      "W3 size 3\n"
     ]
    },
    {
     "name": "stderr",
     "output_type": "stream",
     "text": [
      "/usr/local/lib/python3.5/dist-packages/sklearn/metrics/classification.py:1137: UndefinedMetricWarning: F-score is ill-defined and being set to 0.0 in labels with no true samples.\n",
      "  'recall', 'true', average, warn_for)\n"
     ]
    },
    {
     "name": "stdout",
     "output_type": "stream",
     "text": [
      "Using well-known algorithms: Logistic Regression, RandomForest and MLP\n"
     ]
    },
    {
     "name": "stderr",
     "output_type": "stream",
     "text": [
      "/usr/local/lib/python3.5/dist-packages/sklearn/metrics/classification.py:1135: UndefinedMetricWarning: F-score is ill-defined and being set to 0.0 in labels with no predicted samples.\n",
      "  'precision', 'predicted', average, warn_for)\n",
      "/usr/local/lib/python3.5/dist-packages/sklearn/neural_network/multilayer_perceptron.py:564: ConvergenceWarning: Stochastic Optimizer: Maximum iterations (200) reached and the optimization hasn't converged yet.\n",
      "  % self.max_iter, ConvergenceWarning)\n"
     ]
    },
    {
     "name": "stdout",
     "output_type": "stream",
     "text": [
      "Took: 122.60424065589905\n",
      "--------------------------------------------------\n",
      "En: 200\tTr: 337\n",
      "Using first variation (Regressor and Classifier with score vectors)\n",
      "epoch 0:\t19.218012112542333\n",
      "epoch 10:\t18.832796236461608\n",
      "epoch 20:\t18.48043043741769\n",
      "epoch 30:\t18.14023598777506\n",
      "epoch 40:\t17.83220275988621\n",
      "epoch 50:\t17.528687915122752\n",
      "Using second variation (average of outputs produced by each set of weight matrices)\n",
      "Epoch 0: 0.1345771608418876\n",
      "Epoch 25: 0.0005562204992080437\n",
      "Epoch 50: 0.0002913535070237111\n",
      "Epoch 75: 0.00019970940498324787\n",
      "Epoch 100: 0.0001527522550737686\n",
      "Epoch 125: 0.00012407129814519927\n",
      "Epoch 150: 0.00010467664863608195\n",
      "W1 size 320\n",
      "W2 size 6\n",
      "W3 size 3\n"
     ]
    },
    {
     "name": "stderr",
     "output_type": "stream",
     "text": [
      "/usr/local/lib/python3.5/dist-packages/sklearn/metrics/classification.py:1137: UndefinedMetricWarning: F-score is ill-defined and being set to 0.0 in labels with no true samples.\n",
      "  'recall', 'true', average, warn_for)\n"
     ]
    },
    {
     "name": "stdout",
     "output_type": "stream",
     "text": [
      "Using well-known algorithms: Logistic Regression, RandomForest and MLP\n"
     ]
    },
    {
     "name": "stderr",
     "output_type": "stream",
     "text": [
      "/usr/local/lib/python3.5/dist-packages/sklearn/metrics/classification.py:1135: UndefinedMetricWarning: F-score is ill-defined and being set to 0.0 in labels with no predicted samples.\n",
      "  'precision', 'predicted', average, warn_for)\n",
      "/usr/local/lib/python3.5/dist-packages/sklearn/neural_network/multilayer_perceptron.py:564: ConvergenceWarning: Stochastic Optimizer: Maximum iterations (200) reached and the optimization hasn't converged yet.\n",
      "  % self.max_iter, ConvergenceWarning)\n"
     ]
    },
    {
     "name": "stdout",
     "output_type": "stream",
     "text": [
      "Took: 133.13925647735596\n",
      "--------------------------------------------------\n",
      "En: 200\tTr: 379\n",
      "Using first variation (Regressor and Classifier with score vectors)\n",
      "epoch 0:\t19.721370708672335\n",
      "epoch 10:\t19.548783628137944\n",
      "epoch 20:\t19.412672367576963\n",
      "epoch 30:\t19.288780876927348\n",
      "epoch 40:\t19.189821228775\n",
      "epoch 50:\t19.093683017920636\n",
      "Using second variation (average of outputs produced by each set of weight matrices)\n",
      "Epoch 0: 0.28864615764405477\n",
      "Epoch 25: 0.0007075301514523169\n",
      "Epoch 50: 0.0003535274665656677\n",
      "Epoch 75: 0.00023766473885959032\n",
      "Epoch 100: 0.00017966777361140535\n",
      "Epoch 125: 0.00014473374759332714\n",
      "Epoch 150: 0.00012135005702016936\n",
      "W1 size 333\n",
      "W2 size 6\n",
      "W3 size 3\n"
     ]
    },
    {
     "name": "stderr",
     "output_type": "stream",
     "text": [
      "/usr/local/lib/python3.5/dist-packages/sklearn/metrics/classification.py:1137: UndefinedMetricWarning: F-score is ill-defined and being set to 0.0 in labels with no true samples.\n",
      "  'recall', 'true', average, warn_for)\n"
     ]
    },
    {
     "name": "stdout",
     "output_type": "stream",
     "text": [
      "Using well-known algorithms: Logistic Regression, RandomForest and MLP\n"
     ]
    },
    {
     "name": "stderr",
     "output_type": "stream",
     "text": [
      "/usr/local/lib/python3.5/dist-packages/sklearn/metrics/classification.py:1135: UndefinedMetricWarning: F-score is ill-defined and being set to 0.0 in labels with no predicted samples.\n",
      "  'precision', 'predicted', average, warn_for)\n",
      "/usr/local/lib/python3.5/dist-packages/sklearn/neural_network/multilayer_perceptron.py:564: ConvergenceWarning: Stochastic Optimizer: Maximum iterations (200) reached and the optimization hasn't converged yet.\n",
      "  % self.max_iter, ConvergenceWarning)\n"
     ]
    },
    {
     "name": "stdout",
     "output_type": "stream",
     "text": [
      "Took: 152.83476781845093\n",
      "--------------------------------------------------\n",
      "En: 200\tTr: 421\n",
      "Using first variation (Regressor and Classifier with score vectors)\n",
      "epoch 0:\t18.623137802510726\n",
      "epoch 10:\t18.171344064987704\n",
      "epoch 20:\t17.99957225694162\n",
      "epoch 30:\t17.848468861254997\n",
      "epoch 40:\t17.70286283293371\n",
      "epoch 50:\t17.54370539146969\n",
      "Using second variation (average of outputs produced by each set of weight matrices)\n",
      "Epoch 0: 0.33376636897606204\n",
      "Epoch 25: 0.0005656265611328718\n",
      "Epoch 50: 0.0002898007015686006\n",
      "Epoch 75: 0.00019627967316017785\n",
      "Epoch 100: 0.0001489264248131321\n",
      "Epoch 125: 0.00012023030872890979\n",
      "Epoch 150: 0.00010094729531407514\n",
      "W1 size 343\n",
      "W2 size 6\n",
      "W3 size 3\n"
     ]
    },
    {
     "name": "stderr",
     "output_type": "stream",
     "text": [
      "/usr/local/lib/python3.5/dist-packages/sklearn/metrics/classification.py:1137: UndefinedMetricWarning: F-score is ill-defined and being set to 0.0 in labels with no true samples.\n",
      "  'recall', 'true', average, warn_for)\n"
     ]
    },
    {
     "name": "stdout",
     "output_type": "stream",
     "text": [
      "Using well-known algorithms: Logistic Regression, RandomForest and MLP\n"
     ]
    },
    {
     "name": "stderr",
     "output_type": "stream",
     "text": [
      "/usr/local/lib/python3.5/dist-packages/sklearn/metrics/classification.py:1135: UndefinedMetricWarning: F-score is ill-defined and being set to 0.0 in labels with no predicted samples.\n",
      "  'precision', 'predicted', average, warn_for)\n"
     ]
    },
    {
     "name": "stdout",
     "output_type": "stream",
     "text": [
      "Took: 149.26080012321472\n",
      "--------------------------------------------------\n",
      "En: 250\tTr: 42\n",
      "Using first variation (Regressor and Classifier with score vectors)\n",
      "epoch 0:\t18.352001271499123\n",
      "epoch 10:\t18.192075989035803\n",
      "epoch 20:\t17.858317924137435\n",
      "epoch 30:\t17.53275817150751\n",
      "epoch 40:\t17.235638445367588\n",
      "epoch 50:\t16.95608812205869\n",
      "Using second variation (average of outputs produced by each set of weight matrices)\n",
      "Epoch 0: 1.7075170736307597\n",
      "Epoch 25: 0.0010433281786190558\n",
      "Epoch 50: 0.0005195419017833247\n",
      "Epoch 75: 0.00035189197172528385\n",
      "Epoch 100: 0.00026792279693709734\n",
      "Epoch 125: 0.00021716269297680134\n",
      "Epoch 150: 0.00018304267783152614\n",
      "W1 size 211\n",
      "W2 size 5\n",
      "W3 size 3\n"
     ]
    },
    {
     "name": "stderr",
     "output_type": "stream",
     "text": [
      "/usr/local/lib/python3.5/dist-packages/sklearn/metrics/classification.py:1137: UndefinedMetricWarning: F-score is ill-defined and being set to 0.0 in labels with no true samples.\n",
      "  'recall', 'true', average, warn_for)\n"
     ]
    },
    {
     "name": "stdout",
     "output_type": "stream",
     "text": [
      "Using well-known algorithms: Logistic Regression, RandomForest and MLP\n"
     ]
    },
    {
     "name": "stderr",
     "output_type": "stream",
     "text": [
      "/usr/local/lib/python3.5/dist-packages/sklearn/metrics/classification.py:1135: UndefinedMetricWarning: F-score is ill-defined and being set to 0.0 in labels with no predicted samples.\n",
      "  'precision', 'predicted', average, warn_for)\n",
      "/usr/local/lib/python3.5/dist-packages/sklearn/neural_network/multilayer_perceptron.py:564: ConvergenceWarning: Stochastic Optimizer: Maximum iterations (200) reached and the optimization hasn't converged yet.\n",
      "  % self.max_iter, ConvergenceWarning)\n"
     ]
    },
    {
     "name": "stdout",
     "output_type": "stream",
     "text": [
      "Took: 85.47798752784729\n",
      "--------------------------------------------------\n",
      "En: 250\tTr: 84\n",
      "Using first variation (Regressor and Classifier with score vectors)\n",
      "epoch 0:\t19.0449548101131\n",
      "epoch 10:\t18.62265275427944\n",
      "epoch 20:\t18.529707078929096\n",
      "epoch 30:\t18.444303671272266\n",
      "epoch 40:\t18.363485310139698\n",
      "epoch 50:\t18.287491369278502\n",
      "Using second variation (average of outputs produced by each set of weight matrices)\n",
      "Epoch 0: 0.6394734307533599\n",
      "Epoch 25: 0.0008259469395893493\n",
      "Epoch 50: 0.0004322098942327608\n",
      "Epoch 75: 0.00029969743727188567\n",
      "Epoch 100: 0.00023159393120906628\n",
      "Epoch 125: 0.0001896633954338639\n",
      "Epoch 150: 0.0001610806878736088\n",
      "W1 size 251\n",
      "W2 size 6\n",
      "W3 size 3\n"
     ]
    },
    {
     "name": "stderr",
     "output_type": "stream",
     "text": [
      "/usr/local/lib/python3.5/dist-packages/sklearn/metrics/classification.py:1137: UndefinedMetricWarning: F-score is ill-defined and being set to 0.0 in labels with no true samples.\n",
      "  'recall', 'true', average, warn_for)\n"
     ]
    },
    {
     "name": "stdout",
     "output_type": "stream",
     "text": [
      "Using well-known algorithms: Logistic Regression, RandomForest and MLP\n"
     ]
    },
    {
     "name": "stderr",
     "output_type": "stream",
     "text": [
      "/usr/local/lib/python3.5/dist-packages/sklearn/metrics/classification.py:1135: UndefinedMetricWarning: F-score is ill-defined and being set to 0.0 in labels with no predicted samples.\n",
      "  'precision', 'predicted', average, warn_for)\n",
      "/usr/local/lib/python3.5/dist-packages/sklearn/neural_network/multilayer_perceptron.py:564: ConvergenceWarning: Stochastic Optimizer: Maximum iterations (200) reached and the optimization hasn't converged yet.\n",
      "  % self.max_iter, ConvergenceWarning)\n"
     ]
    },
    {
     "name": "stdout",
     "output_type": "stream",
     "text": [
      "Took: 92.58606266975403\n",
      "--------------------------------------------------\n",
      "En: 250\tTr: 126\n",
      "Using first variation (Regressor and Classifier with score vectors)\n",
      "epoch 0:\t18.871060294439086\n",
      "epoch 10:\t18.597388769598\n",
      "epoch 20:\t18.205845404310924\n",
      "epoch 30:\t17.975499498540014\n",
      "epoch 40:\t17.85852279030038\n",
      "epoch 50:\t17.759371914815684\n",
      "Using second variation (average of outputs produced by each set of weight matrices)\n",
      "Epoch 0: 0.8707661801877293\n",
      "Epoch 25: 0.0011068497428326698\n",
      "Epoch 50: 0.0005723872916647791\n",
      "Epoch 75: 0.0003908286359508289\n",
      "Epoch 100: 0.0002983771309802926\n",
      "Epoch 125: 0.00024207592866450935\n",
      "Epoch 150: 0.0002040990968075999\n",
      "W1 size 270\n",
      "W2 size 6\n",
      "W3 size 3\n"
     ]
    },
    {
     "name": "stderr",
     "output_type": "stream",
     "text": [
      "/usr/local/lib/python3.5/dist-packages/sklearn/metrics/classification.py:1137: UndefinedMetricWarning: F-score is ill-defined and being set to 0.0 in labels with no true samples.\n",
      "  'recall', 'true', average, warn_for)\n"
     ]
    },
    {
     "name": "stdout",
     "output_type": "stream",
     "text": [
      "Using well-known algorithms: Logistic Regression, RandomForest and MLP\n"
     ]
    },
    {
     "name": "stderr",
     "output_type": "stream",
     "text": [
      "/usr/local/lib/python3.5/dist-packages/sklearn/metrics/classification.py:1135: UndefinedMetricWarning: F-score is ill-defined and being set to 0.0 in labels with no predicted samples.\n",
      "  'precision', 'predicted', average, warn_for)\n",
      "/usr/local/lib/python3.5/dist-packages/sklearn/neural_network/multilayer_perceptron.py:564: ConvergenceWarning: Stochastic Optimizer: Maximum iterations (200) reached and the optimization hasn't converged yet.\n",
      "  % self.max_iter, ConvergenceWarning)\n"
     ]
    },
    {
     "name": "stdout",
     "output_type": "stream",
     "text": [
      "Took: 103.55621242523193\n",
      "--------------------------------------------------\n",
      "En: 250\tTr: 168\n",
      "Using first variation (Regressor and Classifier with score vectors)\n",
      "epoch 0:\t21.466718459487264\n",
      "epoch 10:\t20.88264692041152\n",
      "epoch 20:\t19.896406099100172\n",
      "epoch 30:\t19.67502246834002\n",
      "epoch 40:\t19.48488765210598\n",
      "epoch 50:\t19.308519921765207\n",
      "Using second variation (average of outputs produced by each set of weight matrices)\n",
      "Epoch 0: 0.7836711894985594\n",
      "Epoch 25: 0.000940821040987194\n",
      "Epoch 50: 0.0004911060474557749\n",
      "Epoch 75: 0.0003365515908793135\n",
      "Epoch 100: 0.00025747547604914304\n",
      "Epoch 125: 0.0002091838106252568\n",
      "Epoch 150: 0.00017652123242301962\n",
      "W1 size 299\n",
      "W2 size 5\n",
      "W3 size 3\n"
     ]
    },
    {
     "name": "stderr",
     "output_type": "stream",
     "text": [
      "/usr/local/lib/python3.5/dist-packages/sklearn/metrics/classification.py:1137: UndefinedMetricWarning: F-score is ill-defined and being set to 0.0 in labels with no true samples.\n",
      "  'recall', 'true', average, warn_for)\n"
     ]
    },
    {
     "name": "stdout",
     "output_type": "stream",
     "text": [
      "Using well-known algorithms: Logistic Regression, RandomForest and MLP\n"
     ]
    },
    {
     "name": "stderr",
     "output_type": "stream",
     "text": [
      "/usr/local/lib/python3.5/dist-packages/sklearn/metrics/classification.py:1135: UndefinedMetricWarning: F-score is ill-defined and being set to 0.0 in labels with no predicted samples.\n",
      "  'precision', 'predicted', average, warn_for)\n"
     ]
    },
    {
     "name": "stdout",
     "output_type": "stream",
     "text": [
      "Took: 126.87940454483032\n",
      "--------------------------------------------------\n",
      "En: 250\tTr: 210\n",
      "Using first variation (Regressor and Classifier with score vectors)\n",
      "epoch 0:\t22.376659760754336\n",
      "epoch 10:\t22.376645415979898\n",
      "epoch 20:\t22.027115676121515\n",
      "epoch 30:\t21.435174632237388\n",
      "epoch 40:\t20.68379681952787\n",
      "epoch 50:\t20.09387388858232\n",
      "Using second variation (average of outputs produced by each set of weight matrices)\n",
      "Epoch 0: 0.8059365627582679\n",
      "Epoch 25: 0.0009193167139636486\n",
      "Epoch 50: 0.00045897227143504933\n",
      "Epoch 75: 0.0003105544545507739\n",
      "Epoch 100: 0.00023610397266981818\n",
      "Epoch 125: 0.00019109386860054285\n",
      "Epoch 150: 0.00016083565564445202\n",
      "W1 size 306\n",
      "W2 size 6\n",
      "W3 size 3\n"
     ]
    },
    {
     "name": "stderr",
     "output_type": "stream",
     "text": [
      "/usr/local/lib/python3.5/dist-packages/sklearn/metrics/classification.py:1137: UndefinedMetricWarning: F-score is ill-defined and being set to 0.0 in labels with no true samples.\n",
      "  'recall', 'true', average, warn_for)\n"
     ]
    },
    {
     "name": "stdout",
     "output_type": "stream",
     "text": [
      "Using well-known algorithms: Logistic Regression, RandomForest and MLP\n"
     ]
    },
    {
     "name": "stderr",
     "output_type": "stream",
     "text": [
      "/usr/local/lib/python3.5/dist-packages/sklearn/metrics/classification.py:1135: UndefinedMetricWarning: F-score is ill-defined and being set to 0.0 in labels with no predicted samples.\n",
      "  'precision', 'predicted', average, warn_for)\n",
      "/usr/local/lib/python3.5/dist-packages/sklearn/neural_network/multilayer_perceptron.py:564: ConvergenceWarning: Stochastic Optimizer: Maximum iterations (200) reached and the optimization hasn't converged yet.\n",
      "  % self.max_iter, ConvergenceWarning)\n"
     ]
    },
    {
     "name": "stdout",
     "output_type": "stream",
     "text": [
      "Took: 116.13313698768616\n",
      "--------------------------------------------------\n",
      "En: 250\tTr: 253\n",
      "Using first variation (Regressor and Classifier with score vectors)\n",
      "epoch 0:\t24.96049909860825\n",
      "epoch 10:\t24.415862668989945\n",
      "epoch 20:\t24.00762393707855\n",
      "epoch 30:\t23.776524680189706\n",
      "epoch 40:\t23.499443387273928\n",
      "epoch 50:\t23.167099306483934\n",
      "Using second variation (average of outputs produced by each set of weight matrices)\n",
      "Epoch 0: 0.5624491107720353\n",
      "Epoch 25: 0.0008613110384812089\n",
      "Epoch 50: 0.0004310483934610838\n",
      "Epoch 75: 0.00029189695059966527\n",
      "Epoch 100: 0.00022213627946203118\n",
      "Epoch 125: 0.00017996467762745435\n",
      "Epoch 150: 0.00015162644983711103\n",
      "W1 size 325\n",
      "W2 size 6\n",
      "W3 size 3\n"
     ]
    },
    {
     "name": "stderr",
     "output_type": "stream",
     "text": [
      "/usr/local/lib/python3.5/dist-packages/sklearn/metrics/classification.py:1137: UndefinedMetricWarning: F-score is ill-defined and being set to 0.0 in labels with no true samples.\n",
      "  'recall', 'true', average, warn_for)\n"
     ]
    },
    {
     "name": "stdout",
     "output_type": "stream",
     "text": [
      "Using well-known algorithms: Logistic Regression, RandomForest and MLP\n"
     ]
    },
    {
     "name": "stderr",
     "output_type": "stream",
     "text": [
      "/usr/local/lib/python3.5/dist-packages/sklearn/metrics/classification.py:1135: UndefinedMetricWarning: F-score is ill-defined and being set to 0.0 in labels with no predicted samples.\n",
      "  'precision', 'predicted', average, warn_for)\n",
      "/usr/local/lib/python3.5/dist-packages/sklearn/neural_network/multilayer_perceptron.py:564: ConvergenceWarning: Stochastic Optimizer: Maximum iterations (200) reached and the optimization hasn't converged yet.\n",
      "  % self.max_iter, ConvergenceWarning)\n"
     ]
    },
    {
     "name": "stdout",
     "output_type": "stream",
     "text": [
      "Took: 130.78812432289124\n",
      "--------------------------------------------------\n",
      "En: 250\tTr: 295\n",
      "Using first variation (Regressor and Classifier with score vectors)\n",
      "epoch 0:\t23.567264244436757\n",
      "epoch 10:\t23.26053159207038\n",
      "epoch 20:\t22.683826477607003\n",
      "epoch 30:\t22.19839736726932\n",
      "epoch 40:\t21.754771984879113\n",
      "epoch 50:\t21.33005425709884\n",
      "Using second variation (average of outputs produced by each set of weight matrices)\n",
      "Epoch 0: 0.10100542504764436\n",
      "Epoch 25: 0.00044138770964857613\n",
      "Epoch 50: 0.00023729291844356632\n",
      "Epoch 75: 0.0001657597195615896\n",
      "Epoch 100: 0.00012867970218436716\n",
      "Epoch 125: 0.00010575690995508383\n",
      "Epoch 150: 9.008711618884505e-05\n",
      "W1 size 319\n",
      "W2 size 6\n",
      "W3 size 3\n"
     ]
    },
    {
     "name": "stderr",
     "output_type": "stream",
     "text": [
      "/usr/local/lib/python3.5/dist-packages/sklearn/metrics/classification.py:1137: UndefinedMetricWarning: F-score is ill-defined and being set to 0.0 in labels with no true samples.\n",
      "  'recall', 'true', average, warn_for)\n"
     ]
    },
    {
     "name": "stdout",
     "output_type": "stream",
     "text": [
      "Using well-known algorithms: Logistic Regression, RandomForest and MLP\n"
     ]
    },
    {
     "name": "stderr",
     "output_type": "stream",
     "text": [
      "/usr/local/lib/python3.5/dist-packages/sklearn/metrics/classification.py:1135: UndefinedMetricWarning: F-score is ill-defined and being set to 0.0 in labels with no predicted samples.\n",
      "  'precision', 'predicted', average, warn_for)\n",
      "/usr/local/lib/python3.5/dist-packages/sklearn/neural_network/multilayer_perceptron.py:564: ConvergenceWarning: Stochastic Optimizer: Maximum iterations (200) reached and the optimization hasn't converged yet.\n",
      "  % self.max_iter, ConvergenceWarning)\n"
     ]
    },
    {
     "name": "stdout",
     "output_type": "stream",
     "text": [
      "Took: 134.73224592208862\n",
      "--------------------------------------------------\n",
      "En: 250\tTr: 337\n",
      "Using first variation (Regressor and Classifier with score vectors)\n",
      "epoch 0:\t21.893781630641513\n",
      "epoch 10:\t21.315030140019662\n",
      "epoch 20:\t21.00084871923525\n",
      "epoch 30:\t20.822089044490436\n",
      "epoch 40:\t20.66688705232546\n",
      "epoch 50:\t20.509096709996783\n",
      "Using second variation (average of outputs produced by each set of weight matrices)\n",
      "Epoch 0: 0.5386978500123392\n",
      "Epoch 25: 0.0006981631355088223\n",
      "Epoch 50: 0.00035773246726456405\n",
      "Epoch 75: 0.00024339177617140195\n",
      "Epoch 100: 0.00018546181096261227\n",
      "Epoch 125: 0.00015028324917787516\n",
      "Epoch 150: 0.00012658789917851848\n",
      "W1 size 346\n",
      "W2 size 6\n",
      "W3 size 3\n"
     ]
    },
    {
     "name": "stderr",
     "output_type": "stream",
     "text": [
      "/usr/local/lib/python3.5/dist-packages/sklearn/metrics/classification.py:1137: UndefinedMetricWarning: F-score is ill-defined and being set to 0.0 in labels with no true samples.\n",
      "  'recall', 'true', average, warn_for)\n"
     ]
    },
    {
     "name": "stdout",
     "output_type": "stream",
     "text": [
      "Using well-known algorithms: Logistic Regression, RandomForest and MLP\n"
     ]
    },
    {
     "name": "stderr",
     "output_type": "stream",
     "text": [
      "/usr/local/lib/python3.5/dist-packages/sklearn/metrics/classification.py:1135: UndefinedMetricWarning: F-score is ill-defined and being set to 0.0 in labels with no predicted samples.\n",
      "  'precision', 'predicted', average, warn_for)\n",
      "/usr/local/lib/python3.5/dist-packages/sklearn/neural_network/multilayer_perceptron.py:564: ConvergenceWarning: Stochastic Optimizer: Maximum iterations (200) reached and the optimization hasn't converged yet.\n",
      "  % self.max_iter, ConvergenceWarning)\n"
     ]
    },
    {
     "name": "stdout",
     "output_type": "stream",
     "text": [
      "Took: 147.21080088615417\n",
      "--------------------------------------------------\n",
      "En: 250\tTr: 379\n",
      "Using first variation (Regressor and Classifier with score vectors)\n",
      "epoch 0:\t19.45547235234197\n",
      "epoch 10:\t19.251888028298676\n",
      "epoch 20:\t18.88214984565109\n",
      "epoch 30:\t18.51818670709871\n",
      "epoch 40:\t18.103903017613966\n",
      "epoch 50:\t17.709546469478408\n",
      "Using second variation (average of outputs produced by each set of weight matrices)\n",
      "Epoch 0: 0.2665563039305747\n",
      "Epoch 25: 0.0004580972499420872\n",
      "Epoch 50: 0.00023852040550515134\n",
      "Epoch 75: 0.00016549329756094863\n",
      "Epoch 100: 0.0001279807440870329\n",
      "Epoch 125: 0.00010486809532884813\n",
      "Epoch 150: 8.909547354482912e-05\n",
      "W1 size 373\n",
      "W2 size 6\n",
      "W3 size 3\n"
     ]
    },
    {
     "name": "stderr",
     "output_type": "stream",
     "text": [
      "/usr/local/lib/python3.5/dist-packages/sklearn/metrics/classification.py:1137: UndefinedMetricWarning: F-score is ill-defined and being set to 0.0 in labels with no true samples.\n",
      "  'recall', 'true', average, warn_for)\n"
     ]
    },
    {
     "name": "stdout",
     "output_type": "stream",
     "text": [
      "Using well-known algorithms: Logistic Regression, RandomForest and MLP\n"
     ]
    },
    {
     "name": "stderr",
     "output_type": "stream",
     "text": [
      "/usr/local/lib/python3.5/dist-packages/sklearn/metrics/classification.py:1135: UndefinedMetricWarning: F-score is ill-defined and being set to 0.0 in labels with no predicted samples.\n",
      "  'precision', 'predicted', average, warn_for)\n"
     ]
    },
    {
     "name": "stdout",
     "output_type": "stream",
     "text": [
      "Took: 150.59010672569275\n",
      "--------------------------------------------------\n",
      "En: 250\tTr: 421\n",
      "Using first variation (Regressor and Classifier with score vectors)\n",
      "epoch 0:\t19.789663336798878\n",
      "epoch 10:\t19.591231153468268\n",
      "epoch 20:\t19.44405841688376\n",
      "epoch 30:\t19.30429297122219\n",
      "epoch 40:\t19.174867778545373\n",
      "epoch 50:\t19.055929006839367\n",
      "Using second variation (average of outputs produced by each set of weight matrices)\n",
      "Epoch 0: 0.23135814928747975\n",
      "Epoch 25: 0.00044379244801428646\n",
      "Epoch 50: 0.00023554093782029664\n",
      "Epoch 75: 0.0001630616749948528\n",
      "Epoch 100: 0.00012553576095250917\n",
      "Epoch 125: 0.00010242029081436545\n",
      "Epoch 150: 8.668894209102643e-05\n",
      "W1 size 373\n",
      "W2 size 6\n",
      "W3 size 3\n"
     ]
    },
    {
     "name": "stderr",
     "output_type": "stream",
     "text": [
      "/usr/local/lib/python3.5/dist-packages/sklearn/metrics/classification.py:1137: UndefinedMetricWarning: F-score is ill-defined and being set to 0.0 in labels with no true samples.\n",
      "  'recall', 'true', average, warn_for)\n"
     ]
    },
    {
     "name": "stdout",
     "output_type": "stream",
     "text": [
      "Using well-known algorithms: Logistic Regression, RandomForest and MLP\n"
     ]
    },
    {
     "name": "stderr",
     "output_type": "stream",
     "text": [
      "/usr/local/lib/python3.5/dist-packages/sklearn/metrics/classification.py:1135: UndefinedMetricWarning: F-score is ill-defined and being set to 0.0 in labels with no predicted samples.\n",
      "  'precision', 'predicted', average, warn_for)\n",
      "/usr/local/lib/python3.5/dist-packages/sklearn/neural_network/multilayer_perceptron.py:564: ConvergenceWarning: Stochastic Optimizer: Maximum iterations (200) reached and the optimization hasn't converged yet.\n",
      "  % self.max_iter, ConvergenceWarning)\n"
     ]
    },
    {
     "name": "stdout",
     "output_type": "stream",
     "text": [
      "Took: 157.6974093914032\n",
      "--------------------------------------------------\n",
      "En: 300\tTr: 42\n",
      "Using first variation (Regressor and Classifier with score vectors)\n",
      "epoch 0:\t22.166804441492236\n",
      "epoch 10:\t21.735026407633214\n",
      "epoch 20:\t21.54180900057391\n",
      "epoch 30:\t21.4198330694135\n",
      "epoch 40:\t21.316719643472535\n",
      "epoch 50:\t21.211655667562\n",
      "Using second variation (average of outputs produced by each set of weight matrices)\n",
      "Epoch 0: 0.10277639735816894\n",
      "Epoch 25: 0.0004775918610732206\n",
      "Epoch 50: 0.00025046113806269973\n",
      "Epoch 75: 0.0001724721238450624\n",
      "Epoch 100: 0.00013264292105539461\n",
      "Epoch 125: 0.00010832458946421603\n",
      "Epoch 150: 9.186008123852027e-05\n",
      "W1 size 246\n",
      "W2 size 5\n",
      "W3 size 3\n"
     ]
    },
    {
     "name": "stderr",
     "output_type": "stream",
     "text": [
      "/usr/local/lib/python3.5/dist-packages/sklearn/metrics/classification.py:1137: UndefinedMetricWarning: F-score is ill-defined and being set to 0.0 in labels with no true samples.\n",
      "  'recall', 'true', average, warn_for)\n"
     ]
    },
    {
     "name": "stdout",
     "output_type": "stream",
     "text": [
      "Using well-known algorithms: Logistic Regression, RandomForest and MLP\n"
     ]
    },
    {
     "name": "stderr",
     "output_type": "stream",
     "text": [
      "/usr/local/lib/python3.5/dist-packages/sklearn/metrics/classification.py:1135: UndefinedMetricWarning: F-score is ill-defined and being set to 0.0 in labels with no predicted samples.\n",
      "  'precision', 'predicted', average, warn_for)\n",
      "/usr/local/lib/python3.5/dist-packages/sklearn/neural_network/multilayer_perceptron.py:564: ConvergenceWarning: Stochastic Optimizer: Maximum iterations (200) reached and the optimization hasn't converged yet.\n",
      "  % self.max_iter, ConvergenceWarning)\n"
     ]
    },
    {
     "name": "stdout",
     "output_type": "stream",
     "text": [
      "Took: 88.64792037010193\n",
      "--------------------------------------------------\n",
      "En: 300\tTr: 84\n",
      "Using first variation (Regressor and Classifier with score vectors)\n",
      "epoch 0:\t25.552940170821188\n",
      "epoch 10:\t25.248762787278668\n",
      "epoch 20:\t25.012651926098954\n",
      "epoch 30:\t24.740072084718843\n",
      "epoch 40:\t24.547944033844402\n",
      "epoch 50:\t24.336138177763743\n",
      "Using second variation (average of outputs produced by each set of weight matrices)\n",
      "Epoch 0: 0.08916696298294628\n",
      "Epoch 25: 0.00035216629270976946\n",
      "Epoch 50: 0.00017786111615329206\n",
      "Epoch 75: 0.00011973923330125628\n",
      "Epoch 100: 9.056219692919291e-05\n",
      "Epoch 125: 7.298603605058555e-05\n",
      "Epoch 150: 6.122811890999873e-05\n",
      "W1 size 280\n",
      "W2 size 6\n",
      "W3 size 3\n"
     ]
    },
    {
     "name": "stderr",
     "output_type": "stream",
     "text": [
      "/usr/local/lib/python3.5/dist-packages/sklearn/metrics/classification.py:1137: UndefinedMetricWarning: F-score is ill-defined and being set to 0.0 in labels with no true samples.\n",
      "  'recall', 'true', average, warn_for)\n"
     ]
    },
    {
     "name": "stdout",
     "output_type": "stream",
     "text": [
      "Using well-known algorithms: Logistic Regression, RandomForest and MLP\n"
     ]
    },
    {
     "name": "stderr",
     "output_type": "stream",
     "text": [
      "/usr/local/lib/python3.5/dist-packages/sklearn/metrics/classification.py:1135: UndefinedMetricWarning: F-score is ill-defined and being set to 0.0 in labels with no predicted samples.\n",
      "  'precision', 'predicted', average, warn_for)\n",
      "/usr/local/lib/python3.5/dist-packages/sklearn/neural_network/multilayer_perceptron.py:564: ConvergenceWarning: Stochastic Optimizer: Maximum iterations (200) reached and the optimization hasn't converged yet.\n",
      "  % self.max_iter, ConvergenceWarning)\n"
     ]
    },
    {
     "name": "stdout",
     "output_type": "stream",
     "text": [
      "Took: 108.23196315765381\n",
      "--------------------------------------------------\n",
      "En: 300\tTr: 126\n",
      "Using first variation (Regressor and Classifier with score vectors)\n",
      "epoch 0:\t19.182642191123804\n",
      "epoch 10:\t18.74290338439285\n",
      "epoch 20:\t18.494929175718344\n",
      "epoch 30:\t18.238547552480526\n",
      "epoch 40:\t17.962772378675115\n",
      "epoch 50:\t17.6855262967559\n",
      "Using second variation (average of outputs produced by each set of weight matrices)\n",
      "Epoch 0: 0.14265235197106843\n",
      "Epoch 25: 0.0006173205530970449\n",
      "Epoch 50: 0.00032267881100714465\n",
      "Epoch 75: 0.00022176843294174597\n",
      "Epoch 100: 0.00017008106397893515\n",
      "Epoch 125: 0.0001384475961892785\n",
      "Epoch 150: 0.00011702224246001347\n",
      "W1 size 299\n",
      "W2 size 6\n",
      "W3 size 3\n"
     ]
    },
    {
     "name": "stderr",
     "output_type": "stream",
     "text": [
      "/usr/local/lib/python3.5/dist-packages/sklearn/metrics/classification.py:1137: UndefinedMetricWarning: F-score is ill-defined and being set to 0.0 in labels with no true samples.\n",
      "  'recall', 'true', average, warn_for)\n"
     ]
    },
    {
     "name": "stdout",
     "output_type": "stream",
     "text": [
      "Using well-known algorithms: Logistic Regression, RandomForest and MLP\n"
     ]
    },
    {
     "name": "stderr",
     "output_type": "stream",
     "text": [
      "/usr/local/lib/python3.5/dist-packages/sklearn/metrics/classification.py:1135: UndefinedMetricWarning: F-score is ill-defined and being set to 0.0 in labels with no predicted samples.\n",
      "  'precision', 'predicted', average, warn_for)\n"
     ]
    },
    {
     "name": "stdout",
     "output_type": "stream",
     "text": [
      "Took: 116.97153210639954\n",
      "--------------------------------------------------\n",
      "En: 300\tTr: 168\n",
      "Using first variation (Regressor and Classifier with score vectors)\n",
      "epoch 0:\t18.859380794753847\n",
      "epoch 10:\t18.46642199080153\n",
      "epoch 20:\t18.31333747305806\n",
      "epoch 30:\t18.21335583886076\n",
      "epoch 40:\t18.10405575770997\n",
      "epoch 50:\t18.010133435296797\n",
      "Using second variation (average of outputs produced by each set of weight matrices)\n",
      "Epoch 0: 0.4662036866445255\n",
      "Epoch 25: 0.0006522268077588933\n",
      "Epoch 50: 0.00033476977720929855\n",
      "Epoch 75: 0.00022884016940794574\n",
      "Epoch 100: 0.00017501326114303096\n",
      "Epoch 125: 0.00014220065747555188\n",
      "Epoch 150: 0.00012002104835102458\n",
      "W1 size 311\n",
      "W2 size 6\n",
      "W3 size 3\n"
     ]
    },
    {
     "name": "stderr",
     "output_type": "stream",
     "text": [
      "/usr/local/lib/python3.5/dist-packages/sklearn/metrics/classification.py:1137: UndefinedMetricWarning: F-score is ill-defined and being set to 0.0 in labels with no true samples.\n",
      "  'recall', 'true', average, warn_for)\n"
     ]
    },
    {
     "name": "stdout",
     "output_type": "stream",
     "text": [
      "Using well-known algorithms: Logistic Regression, RandomForest and MLP\n"
     ]
    },
    {
     "name": "stderr",
     "output_type": "stream",
     "text": [
      "/usr/local/lib/python3.5/dist-packages/sklearn/metrics/classification.py:1135: UndefinedMetricWarning: F-score is ill-defined and being set to 0.0 in labels with no predicted samples.\n",
      "  'precision', 'predicted', average, warn_for)\n"
     ]
    },
    {
     "name": "stdout",
     "output_type": "stream",
     "text": [
      "Took: 121.83806085586548\n",
      "--------------------------------------------------\n",
      "En: 300\tTr: 210\n",
      "Using first variation (Regressor and Classifier with score vectors)\n",
      "epoch 0:\t21.198494996194253\n",
      "epoch 10:\t21.396840789777333\n",
      "epoch 20:\t21.206795703551496\n",
      "epoch 30:\t21.024526362079076\n",
      "epoch 40:\t20.892716370111014\n",
      "epoch 50:\t20.76717343685362\n",
      "Using second variation (average of outputs produced by each set of weight matrices)\n",
      "Epoch 0: 1.2060576476887954\n",
      "Epoch 25: 0.0006869992171546329\n",
      "Epoch 50: 0.00033737878816853537\n",
      "Epoch 75: 0.00022958502645064203\n",
      "Epoch 100: 0.00017566042529990438\n",
      "Epoch 125: 0.0001429217146027737\n",
      "Epoch 150: 0.00012080768239863292\n",
      "W1 size 339\n",
      "W2 size 6\n",
      "W3 size 3\n"
     ]
    },
    {
     "name": "stderr",
     "output_type": "stream",
     "text": [
      "/usr/local/lib/python3.5/dist-packages/sklearn/metrics/classification.py:1137: UndefinedMetricWarning: F-score is ill-defined and being set to 0.0 in labels with no true samples.\n",
      "  'recall', 'true', average, warn_for)\n"
     ]
    },
    {
     "name": "stdout",
     "output_type": "stream",
     "text": [
      "Using well-known algorithms: Logistic Regression, RandomForest and MLP\n"
     ]
    },
    {
     "name": "stderr",
     "output_type": "stream",
     "text": [
      "/usr/local/lib/python3.5/dist-packages/sklearn/metrics/classification.py:1135: UndefinedMetricWarning: F-score is ill-defined and being set to 0.0 in labels with no predicted samples.\n",
      "  'precision', 'predicted', average, warn_for)\n",
      "/usr/local/lib/python3.5/dist-packages/sklearn/neural_network/multilayer_perceptron.py:564: ConvergenceWarning: Stochastic Optimizer: Maximum iterations (200) reached and the optimization hasn't converged yet.\n",
      "  % self.max_iter, ConvergenceWarning)\n"
     ]
    },
    {
     "name": "stdout",
     "output_type": "stream",
     "text": [
      "Took: 132.3143825531006\n",
      "--------------------------------------------------\n",
      "En: 300\tTr: 253\n",
      "Using first variation (Regressor and Classifier with score vectors)\n",
      "epoch 0:\t22.722247894586804\n",
      "epoch 10:\t22.312625015620227\n",
      "epoch 20:\t21.90747717769517\n",
      "epoch 30:\t21.43523189712344\n",
      "epoch 40:\t21.083344814761563\n",
      "epoch 50:\t20.809788415435136\n",
      "Using second variation (average of outputs produced by each set of weight matrices)\n",
      "Epoch 0: 0.17418641614191685\n",
      "Epoch 25: 0.0005714408819489508\n",
      "Epoch 50: 0.0002908986117041818\n",
      "Epoch 75: 0.00019619446058419571\n",
      "Epoch 100: 0.00014839346104979762\n",
      "Epoch 125: 0.00011950688776700286\n",
      "Epoch 150: 0.00010014183014314997\n",
      "W1 size 355\n",
      "W2 size 6\n",
      "W3 size 3\n"
     ]
    },
    {
     "name": "stderr",
     "output_type": "stream",
     "text": [
      "/usr/local/lib/python3.5/dist-packages/sklearn/metrics/classification.py:1137: UndefinedMetricWarning: F-score is ill-defined and being set to 0.0 in labels with no true samples.\n",
      "  'recall', 'true', average, warn_for)\n"
     ]
    },
    {
     "name": "stdout",
     "output_type": "stream",
     "text": [
      "Using well-known algorithms: Logistic Regression, RandomForest and MLP\n"
     ]
    },
    {
     "name": "stderr",
     "output_type": "stream",
     "text": [
      "/usr/local/lib/python3.5/dist-packages/sklearn/neural_network/multilayer_perceptron.py:564: ConvergenceWarning: Stochastic Optimizer: Maximum iterations (200) reached and the optimization hasn't converged yet.\n",
      "  % self.max_iter, ConvergenceWarning)\n",
      "/usr/local/lib/python3.5/dist-packages/sklearn/metrics/classification.py:1135: UndefinedMetricWarning: F-score is ill-defined and being set to 0.0 in labels with no predicted samples.\n",
      "  'precision', 'predicted', average, warn_for)\n"
     ]
    },
    {
     "name": "stdout",
     "output_type": "stream",
     "text": [
      "Took: 144.68856143951416\n",
      "--------------------------------------------------\n",
      "En: 300\tTr: 295\n",
      "Using first variation (Regressor and Classifier with score vectors)\n",
      "epoch 0:\t23.54142522261878\n",
      "epoch 10:\t23.82431908630578\n",
      "epoch 20:\t23.437310431228095\n",
      "epoch 30:\t23.232004471570264\n",
      "epoch 40:\t23.000438039687662\n",
      "epoch 50:\t22.712188730317155\n",
      "Using second variation (average of outputs produced by each set of weight matrices)\n",
      "Epoch 0: 0.1718109283345911\n",
      "Epoch 25: 0.0005506155898546576\n",
      "Epoch 50: 0.0002940254491546653\n",
      "Epoch 75: 0.00020345655454136015\n",
      "Epoch 100: 0.0001564769781868024\n",
      "Epoch 125: 0.00012754033250981888\n",
      "Epoch 150: 0.00010785563929001749\n",
      "W1 size 366\n",
      "W2 size 6\n",
      "W3 size 3\n"
     ]
    },
    {
     "name": "stderr",
     "output_type": "stream",
     "text": [
      "/usr/local/lib/python3.5/dist-packages/sklearn/metrics/classification.py:1137: UndefinedMetricWarning: F-score is ill-defined and being set to 0.0 in labels with no true samples.\n",
      "  'recall', 'true', average, warn_for)\n"
     ]
    },
    {
     "name": "stdout",
     "output_type": "stream",
     "text": [
      "Using well-known algorithms: Logistic Regression, RandomForest and MLP\n"
     ]
    },
    {
     "name": "stderr",
     "output_type": "stream",
     "text": [
      "/usr/local/lib/python3.5/dist-packages/sklearn/metrics/classification.py:1135: UndefinedMetricWarning: F-score is ill-defined and being set to 0.0 in labels with no predicted samples.\n",
      "  'precision', 'predicted', average, warn_for)\n",
      "/usr/local/lib/python3.5/dist-packages/sklearn/neural_network/multilayer_perceptron.py:564: ConvergenceWarning: Stochastic Optimizer: Maximum iterations (200) reached and the optimization hasn't converged yet.\n",
      "  % self.max_iter, ConvergenceWarning)\n"
     ]
    },
    {
     "name": "stdout",
     "output_type": "stream",
     "text": [
      "Took: 149.87123489379883\n",
      "--------------------------------------------------\n",
      "En: 300\tTr: 337\n",
      "Using first variation (Regressor and Classifier with score vectors)\n",
      "epoch 0:\t18.965261112392366\n",
      "epoch 10:\t18.65379215208645\n",
      "epoch 20:\t18.484348670773183\n",
      "epoch 30:\t18.199210081009653\n",
      "epoch 40:\t17.9599433787653\n",
      "epoch 50:\t17.785182601532096\n",
      "Using second variation (average of outputs produced by each set of weight matrices)\n",
      "Epoch 0: 0.24830515597805675\n",
      "Epoch 25: 0.0006189904866795645\n",
      "Epoch 50: 0.0003142884513308371\n",
      "Epoch 75: 0.00021233916528354176\n",
      "Epoch 100: 0.0001609566666870816\n",
      "Epoch 125: 0.00012989593910911837\n",
      "Epoch 150: 0.00010905145030036074\n",
      "W1 size 361\n",
      "W2 size 6\n",
      "W3 size 3\n"
     ]
    },
    {
     "name": "stderr",
     "output_type": "stream",
     "text": [
      "/usr/local/lib/python3.5/dist-packages/sklearn/metrics/classification.py:1137: UndefinedMetricWarning: F-score is ill-defined and being set to 0.0 in labels with no true samples.\n",
      "  'recall', 'true', average, warn_for)\n"
     ]
    },
    {
     "name": "stdout",
     "output_type": "stream",
     "text": [
      "Using well-known algorithms: Logistic Regression, RandomForest and MLP\n"
     ]
    },
    {
     "name": "stderr",
     "output_type": "stream",
     "text": [
      "/usr/local/lib/python3.5/dist-packages/sklearn/metrics/classification.py:1135: UndefinedMetricWarning: F-score is ill-defined and being set to 0.0 in labels with no predicted samples.\n",
      "  'precision', 'predicted', average, warn_for)\n"
     ]
    },
    {
     "name": "stdout",
     "output_type": "stream",
     "text": [
      "Took: 161.146301984787\n",
      "--------------------------------------------------\n",
      "En: 300\tTr: 379\n",
      "Using first variation (Regressor and Classifier with score vectors)\n",
      "epoch 0:\t22.03476740317252\n",
      "epoch 10:\t21.584569642419634\n",
      "epoch 20:\t21.2451894199889\n",
      "epoch 30:\t20.897511169950707\n",
      "epoch 40:\t20.603099598512035\n",
      "epoch 50:\t20.373258617412997\n",
      "Using second variation (average of outputs produced by each set of weight matrices)\n",
      "Epoch 0: 0.08396668288717005\n",
      "Epoch 25: 0.00042630732633888203\n",
      "Epoch 50: 0.00021377280201511907\n",
      "Epoch 75: 0.00014407750157699123\n",
      "Epoch 100: 0.00010919102444183823\n",
      "Epoch 125: 8.816687981672305e-05\n",
      "Epoch 150: 7.407806079493552e-05\n",
      "W1 size 389\n",
      "W2 size 6\n",
      "W3 size 3\n"
     ]
    },
    {
     "name": "stderr",
     "output_type": "stream",
     "text": [
      "/usr/local/lib/python3.5/dist-packages/sklearn/metrics/classification.py:1137: UndefinedMetricWarning: F-score is ill-defined and being set to 0.0 in labels with no true samples.\n",
      "  'recall', 'true', average, warn_for)\n"
     ]
    },
    {
     "name": "stdout",
     "output_type": "stream",
     "text": [
      "Using well-known algorithms: Logistic Regression, RandomForest and MLP\n"
     ]
    },
    {
     "name": "stderr",
     "output_type": "stream",
     "text": [
      "/usr/local/lib/python3.5/dist-packages/sklearn/metrics/classification.py:1135: UndefinedMetricWarning: F-score is ill-defined and being set to 0.0 in labels with no predicted samples.\n",
      "  'precision', 'predicted', average, warn_for)\n",
      "/usr/local/lib/python3.5/dist-packages/sklearn/neural_network/multilayer_perceptron.py:564: ConvergenceWarning: Stochastic Optimizer: Maximum iterations (200) reached and the optimization hasn't converged yet.\n",
      "  % self.max_iter, ConvergenceWarning)\n"
     ]
    },
    {
     "name": "stdout",
     "output_type": "stream",
     "text": [
      "Took: 173.0604555606842\n",
      "--------------------------------------------------\n",
      "En: 300\tTr: 421\n",
      "Using first variation (Regressor and Classifier with score vectors)\n",
      "epoch 0:\t21.0444184483286\n",
      "epoch 10:\t20.746934042508517\n",
      "epoch 20:\t20.526419464415227\n",
      "epoch 30:\t20.291481875092256\n",
      "epoch 40:\t20.06686824294562\n",
      "epoch 50:\t19.86342051613299\n",
      "Using second variation (average of outputs produced by each set of weight matrices)\n",
      "Epoch 0: 0.32207041981482737\n",
      "Epoch 25: 0.0006286710298740434\n",
      "Epoch 50: 0.0003264739848155952\n",
      "Epoch 75: 0.00022354505035423718\n",
      "Epoch 100: 0.0001710367546663507\n",
      "Epoch 125: 0.00013900958274429704\n",
      "Epoch 150: 0.00011736522269858575\n",
      "W1 size 405\n",
      "W2 size 6\n",
      "W3 size 3\n"
     ]
    },
    {
     "name": "stderr",
     "output_type": "stream",
     "text": [
      "/usr/local/lib/python3.5/dist-packages/sklearn/metrics/classification.py:1137: UndefinedMetricWarning: F-score is ill-defined and being set to 0.0 in labels with no true samples.\n",
      "  'recall', 'true', average, warn_for)\n"
     ]
    },
    {
     "name": "stdout",
     "output_type": "stream",
     "text": [
      "Using well-known algorithms: Logistic Regression, RandomForest and MLP\n"
     ]
    },
    {
     "name": "stderr",
     "output_type": "stream",
     "text": [
      "/usr/local/lib/python3.5/dist-packages/sklearn/metrics/classification.py:1135: UndefinedMetricWarning: F-score is ill-defined and being set to 0.0 in labels with no predicted samples.\n",
      "  'precision', 'predicted', average, warn_for)\n",
      "/usr/local/lib/python3.5/dist-packages/sklearn/neural_network/multilayer_perceptron.py:564: ConvergenceWarning: Stochastic Optimizer: Maximum iterations (200) reached and the optimization hasn't converged yet.\n",
      "  % self.max_iter, ConvergenceWarning)\n"
     ]
    },
    {
     "name": "stdout",
     "output_type": "stream",
     "text": [
      "Took: 177.25470972061157\n",
      "--------------------------------------------------\n",
      "En: 350\tTr: 42\n",
      "Using first variation (Regressor and Classifier with score vectors)\n",
      "epoch 0:\t17.62478348387298\n",
      "epoch 10:\t17.582197990324286\n",
      "epoch 20:\t17.327564660981057\n",
      "epoch 30:\t17.126508776054678\n",
      "epoch 40:\t16.948980023270483\n",
      "epoch 50:\t16.786890131274248\n",
      "Using second variation (average of outputs produced by each set of weight matrices)\n",
      "Epoch 0: 0.5438718964269262\n",
      "Epoch 25: 0.0005970100000045744\n",
      "Epoch 50: 0.0003165378975840852\n",
      "Epoch 75: 0.0002187286655436329\n",
      "Epoch 100: 0.00016831399499884564\n",
      "Epoch 125: 0.00013736928279618727\n",
      "Epoch 150: 0.00011636360016814222\n",
      "W1 size 266\n",
      "W2 size 5\n",
      "W3 size 3\n"
     ]
    },
    {
     "name": "stderr",
     "output_type": "stream",
     "text": [
      "/usr/local/lib/python3.5/dist-packages/sklearn/metrics/classification.py:1137: UndefinedMetricWarning: F-score is ill-defined and being set to 0.0 in labels with no true samples.\n",
      "  'recall', 'true', average, warn_for)\n"
     ]
    },
    {
     "name": "stdout",
     "output_type": "stream",
     "text": [
      "Using well-known algorithms: Logistic Regression, RandomForest and MLP\n"
     ]
    },
    {
     "name": "stderr",
     "output_type": "stream",
     "text": [
      "/usr/local/lib/python3.5/dist-packages/sklearn/metrics/classification.py:1135: UndefinedMetricWarning: F-score is ill-defined and being set to 0.0 in labels with no predicted samples.\n",
      "  'precision', 'predicted', average, warn_for)\n",
      "/usr/local/lib/python3.5/dist-packages/sklearn/neural_network/multilayer_perceptron.py:564: ConvergenceWarning: Stochastic Optimizer: Maximum iterations (200) reached and the optimization hasn't converged yet.\n",
      "  % self.max_iter, ConvergenceWarning)\n"
     ]
    },
    {
     "name": "stdout",
     "output_type": "stream",
     "text": [
      "Took: 105.75872111320496\n",
      "--------------------------------------------------\n",
      "En: 350\tTr: 84\n",
      "Using first variation (Regressor and Classifier with score vectors)\n",
      "epoch 0:\t23.25172806838226\n",
      "epoch 10:\t23.102402471356243\n",
      "epoch 20:\t22.32936463791644\n",
      "epoch 30:\t21.596724131097137\n",
      "epoch 40:\t20.81887029421276\n",
      "epoch 50:\t20.05960661544526\n",
      "Using second variation (average of outputs produced by each set of weight matrices)\n",
      "Epoch 0: 1.0756279051823683\n",
      "Epoch 25: 0.0012055911437278627\n",
      "Epoch 50: 0.0005696027667762921\n",
      "Epoch 75: 0.0003820410843774588\n",
      "Epoch 100: 0.0002897737028024075\n",
      "Epoch 125: 0.00023438701850373003\n",
      "Epoch 150: 0.00019727781063448533\n",
      "W1 size 300\n",
      "W2 size 6\n",
      "W3 size 3\n"
     ]
    },
    {
     "name": "stderr",
     "output_type": "stream",
     "text": [
      "/usr/local/lib/python3.5/dist-packages/sklearn/metrics/classification.py:1137: UndefinedMetricWarning: F-score is ill-defined and being set to 0.0 in labels with no true samples.\n",
      "  'recall', 'true', average, warn_for)\n"
     ]
    },
    {
     "name": "stdout",
     "output_type": "stream",
     "text": [
      "Using well-known algorithms: Logistic Regression, RandomForest and MLP\n"
     ]
    },
    {
     "name": "stderr",
     "output_type": "stream",
     "text": [
      "/usr/local/lib/python3.5/dist-packages/sklearn/metrics/classification.py:1135: UndefinedMetricWarning: F-score is ill-defined and being set to 0.0 in labels with no predicted samples.\n",
      "  'precision', 'predicted', average, warn_for)\n"
     ]
    },
    {
     "name": "stdout",
     "output_type": "stream",
     "text": [
      "Took: 125.40498971939087\n",
      "--------------------------------------------------\n",
      "En: 350\tTr: 126\n",
      "Using first variation (Regressor and Classifier with score vectors)\n",
      "epoch 0:\t17.317232521201685\n",
      "epoch 10:\t17.259870775553416\n",
      "epoch 20:\t17.084248307954134\n",
      "epoch 30:\t16.92527088559508\n",
      "epoch 40:\t16.80444522514374\n",
      "epoch 50:\t16.66740096865455\n",
      "Using second variation (average of outputs produced by each set of weight matrices)\n",
      "Epoch 0: 0.8251327517293053\n",
      "Epoch 25: 0.0010544124159780819\n",
      "Epoch 50: 0.0004998524199679497\n",
      "Epoch 75: 0.0003347753786987717\n",
      "Epoch 100: 0.0002536459940450436\n",
      "Epoch 125: 0.0002050110117510045\n",
      "Epoch 150: 0.00017247447114822822\n",
      "W1 size 314\n",
      "W2 size 6\n",
      "W3 size 3\n"
     ]
    },
    {
     "name": "stderr",
     "output_type": "stream",
     "text": [
      "/usr/local/lib/python3.5/dist-packages/sklearn/metrics/classification.py:1137: UndefinedMetricWarning: F-score is ill-defined and being set to 0.0 in labels with no true samples.\n",
      "  'recall', 'true', average, warn_for)\n"
     ]
    },
    {
     "name": "stdout",
     "output_type": "stream",
     "text": [
      "Using well-known algorithms: Logistic Regression, RandomForest and MLP\n"
     ]
    },
    {
     "name": "stderr",
     "output_type": "stream",
     "text": [
      "/usr/local/lib/python3.5/dist-packages/sklearn/metrics/classification.py:1135: UndefinedMetricWarning: F-score is ill-defined and being set to 0.0 in labels with no predicted samples.\n",
      "  'precision', 'predicted', average, warn_for)\n",
      "/usr/local/lib/python3.5/dist-packages/sklearn/neural_network/multilayer_perceptron.py:564: ConvergenceWarning: Stochastic Optimizer: Maximum iterations (200) reached and the optimization hasn't converged yet.\n",
      "  % self.max_iter, ConvergenceWarning)\n"
     ]
    },
    {
     "name": "stdout",
     "output_type": "stream",
     "text": [
      "Took: 134.8977870941162\n",
      "--------------------------------------------------\n",
      "En: 350\tTr: 168\n",
      "Using first variation (Regressor and Classifier with score vectors)\n",
      "epoch 0:\t20.85305767273228\n",
      "epoch 10:\t20.47197491849135\n",
      "epoch 20:\t20.255532735490558\n",
      "epoch 30:\t20.032729327326393\n",
      "epoch 40:\t19.804587343538582\n",
      "epoch 50:\t19.582196764436294\n",
      "Using second variation (average of outputs produced by each set of weight matrices)\n",
      "Epoch 0: 0.6430921709149271\n",
      "Epoch 25: 0.0012367192276544073\n",
      "Epoch 50: 0.0005616783989401179\n",
      "Epoch 75: 0.00036900636767261686\n",
      "Epoch 100: 0.00027615784241507093\n",
      "Epoch 125: 0.00022122441458379813\n",
      "Epoch 150: 0.00018482471688438862\n",
      "W1 size 342\n",
      "W2 size 6\n",
      "W3 size 3\n"
     ]
    },
    {
     "name": "stderr",
     "output_type": "stream",
     "text": [
      "/usr/local/lib/python3.5/dist-packages/sklearn/metrics/classification.py:1137: UndefinedMetricWarning: F-score is ill-defined and being set to 0.0 in labels with no true samples.\n",
      "  'recall', 'true', average, warn_for)\n"
     ]
    },
    {
     "name": "stdout",
     "output_type": "stream",
     "text": [
      "Using well-known algorithms: Logistic Regression, RandomForest and MLP\n"
     ]
    },
    {
     "name": "stderr",
     "output_type": "stream",
     "text": [
      "/usr/local/lib/python3.5/dist-packages/sklearn/metrics/classification.py:1135: UndefinedMetricWarning: F-score is ill-defined and being set to 0.0 in labels with no predicted samples.\n",
      "  'precision', 'predicted', average, warn_for)\n",
      "/usr/local/lib/python3.5/dist-packages/sklearn/neural_network/multilayer_perceptron.py:564: ConvergenceWarning: Stochastic Optimizer: Maximum iterations (200) reached and the optimization hasn't converged yet.\n",
      "  % self.max_iter, ConvergenceWarning)\n"
     ]
    },
    {
     "name": "stdout",
     "output_type": "stream",
     "text": [
      "Took: 137.74602818489075\n",
      "--------------------------------------------------\n",
      "En: 350\tTr: 210\n",
      "Using first variation (Regressor and Classifier with score vectors)\n",
      "epoch 0:\t19.76006704227105\n",
      "epoch 10:\t19.51599635971943\n",
      "epoch 20:\t19.318329863811595\n",
      "epoch 30:\t19.1765690559071\n",
      "epoch 40:\t19.046457155841797\n",
      "epoch 50:\t18.925982739133854\n",
      "Using second variation (average of outputs produced by each set of weight matrices)\n",
      "Epoch 0: 0.19155742494459987\n",
      "Epoch 25: 0.000572827173789595\n",
      "Epoch 50: 0.00028861204094324326\n",
      "Epoch 75: 0.00019404252583051626\n",
      "Epoch 100: 0.00014658342624611313\n",
      "Epoch 125: 0.00011798261457714533\n",
      "Epoch 150: 9.884186518692876e-05\n",
      "W1 size 362\n",
      "W2 size 6\n",
      "W3 size 3\n"
     ]
    },
    {
     "name": "stderr",
     "output_type": "stream",
     "text": [
      "/usr/local/lib/python3.5/dist-packages/sklearn/metrics/classification.py:1137: UndefinedMetricWarning: F-score is ill-defined and being set to 0.0 in labels with no true samples.\n",
      "  'recall', 'true', average, warn_for)\n"
     ]
    },
    {
     "name": "stdout",
     "output_type": "stream",
     "text": [
      "Using well-known algorithms: Logistic Regression, RandomForest and MLP\n"
     ]
    },
    {
     "name": "stderr",
     "output_type": "stream",
     "text": [
      "/usr/local/lib/python3.5/dist-packages/sklearn/metrics/classification.py:1135: UndefinedMetricWarning: F-score is ill-defined and being set to 0.0 in labels with no predicted samples.\n",
      "  'precision', 'predicted', average, warn_for)\n",
      "/usr/local/lib/python3.5/dist-packages/sklearn/neural_network/multilayer_perceptron.py:564: ConvergenceWarning: Stochastic Optimizer: Maximum iterations (200) reached and the optimization hasn't converged yet.\n",
      "  % self.max_iter, ConvergenceWarning)\n"
     ]
    },
    {
     "name": "stdout",
     "output_type": "stream",
     "text": [
      "Took: 141.6804006099701\n",
      "--------------------------------------------------\n",
      "En: 350\tTr: 253\n",
      "Using first variation (Regressor and Classifier with score vectors)\n",
      "epoch 0:\t18.84461733697522\n",
      "epoch 10:\t18.756035368880617\n",
      "epoch 20:\t18.748647440726927\n",
      "epoch 30:\t18.743437598113513\n",
      "epoch 40:\t18.693443172631664\n",
      "epoch 50:\t18.64780563130402\n",
      "Using second variation (average of outputs produced by each set of weight matrices)\n",
      "Epoch 0: 0.2709137654560821\n",
      "Epoch 25: 0.0007123665149236495\n",
      "Epoch 50: 0.0003647243065662449\n",
      "Epoch 75: 0.00024860405543192466\n",
      "Epoch 100: 0.00018964721412665955\n",
      "Epoch 125: 0.00015376452595924477\n",
      "Epoch 150: 0.00012954613789382645\n",
      "W1 size 381\n",
      "W2 size 6\n",
      "W3 size 3\n"
     ]
    },
    {
     "name": "stderr",
     "output_type": "stream",
     "text": [
      "/usr/local/lib/python3.5/dist-packages/sklearn/metrics/classification.py:1137: UndefinedMetricWarning: F-score is ill-defined and being set to 0.0 in labels with no true samples.\n",
      "  'recall', 'true', average, warn_for)\n"
     ]
    },
    {
     "name": "stdout",
     "output_type": "stream",
     "text": [
      "Using well-known algorithms: Logistic Regression, RandomForest and MLP\n"
     ]
    },
    {
     "name": "stderr",
     "output_type": "stream",
     "text": [
      "/usr/local/lib/python3.5/dist-packages/sklearn/metrics/classification.py:1135: UndefinedMetricWarning: F-score is ill-defined and being set to 0.0 in labels with no predicted samples.\n",
      "  'precision', 'predicted', average, warn_for)\n"
     ]
    },
    {
     "name": "stdout",
     "output_type": "stream",
     "text": [
      "Took: 160.0144305229187\n",
      "--------------------------------------------------\n",
      "En: 350\tTr: 295\n",
      "Using first variation (Regressor and Classifier with score vectors)\n",
      "epoch 0:\t22.71221256509092\n",
      "epoch 10:\t22.046493181516343\n",
      "epoch 20:\t21.86899415732097\n",
      "epoch 30:\t21.706288303300713\n",
      "epoch 40:\t21.552143917516776\n",
      "epoch 50:\t21.40653750993938\n",
      "Using second variation (average of outputs produced by each set of weight matrices)\n",
      "Epoch 0: 0.5755587930011347\n",
      "Epoch 25: 0.0006645705509411363\n",
      "Epoch 50: 0.00033238351351794014\n",
      "Epoch 75: 0.00022447229241990055\n",
      "Epoch 100: 0.00017041688656572765\n",
      "Epoch 125: 0.00013778875631539165\n",
      "Epoch 150: 0.00011589311711325328\n",
      "W1 size 387\n",
      "W2 size 6\n",
      "W3 size 3\n"
     ]
    },
    {
     "name": "stderr",
     "output_type": "stream",
     "text": [
      "/usr/local/lib/python3.5/dist-packages/sklearn/metrics/classification.py:1137: UndefinedMetricWarning: F-score is ill-defined and being set to 0.0 in labels with no true samples.\n",
      "  'recall', 'true', average, warn_for)\n"
     ]
    },
    {
     "name": "stdout",
     "output_type": "stream",
     "text": [
      "Using well-known algorithms: Logistic Regression, RandomForest and MLP\n"
     ]
    },
    {
     "name": "stderr",
     "output_type": "stream",
     "text": [
      "/usr/local/lib/python3.5/dist-packages/sklearn/metrics/classification.py:1135: UndefinedMetricWarning: F-score is ill-defined and being set to 0.0 in labels with no predicted samples.\n",
      "  'precision', 'predicted', average, warn_for)\n"
     ]
    },
    {
     "name": "stdout",
     "output_type": "stream",
     "text": [
      "Took: 168.94834113121033\n",
      "--------------------------------------------------\n",
      "En: 350\tTr: 337\n",
      "Using first variation (Regressor and Classifier with score vectors)\n",
      "epoch 0:\t20.378538013279755\n",
      "epoch 10:\t20.149192239074193\n",
      "epoch 20:\t19.573384631644075\n",
      "epoch 30:\t19.315530572029818\n",
      "epoch 40:\t19.14425159055239\n",
      "epoch 50:\t19.001237666785325\n",
      "Using second variation (average of outputs produced by each set of weight matrices)\n",
      "Epoch 0: 0.18853544114867105\n",
      "Epoch 25: 0.0004901716071839048\n",
      "Epoch 50: 0.0002516031243291414\n",
      "Epoch 75: 0.00017055568389725577\n",
      "Epoch 100: 0.00012948073350615015\n",
      "Epoch 125: 0.00010457797497683055\n",
      "Epoch 150: 8.783691620818578e-05\n",
      "W1 size 406\n",
      "W2 size 6\n",
      "W3 size 3\n"
     ]
    },
    {
     "name": "stderr",
     "output_type": "stream",
     "text": [
      "/usr/local/lib/python3.5/dist-packages/sklearn/metrics/classification.py:1137: UndefinedMetricWarning: F-score is ill-defined and being set to 0.0 in labels with no true samples.\n",
      "  'recall', 'true', average, warn_for)\n"
     ]
    },
    {
     "name": "stdout",
     "output_type": "stream",
     "text": [
      "Using well-known algorithms: Logistic Regression, RandomForest and MLP\n"
     ]
    },
    {
     "name": "stderr",
     "output_type": "stream",
     "text": [
      "/usr/local/lib/python3.5/dist-packages/sklearn/metrics/classification.py:1135: UndefinedMetricWarning: F-score is ill-defined and being set to 0.0 in labels with no predicted samples.\n",
      "  'precision', 'predicted', average, warn_for)\n",
      "/usr/local/lib/python3.5/dist-packages/sklearn/neural_network/multilayer_perceptron.py:564: ConvergenceWarning: Stochastic Optimizer: Maximum iterations (200) reached and the optimization hasn't converged yet.\n",
      "  % self.max_iter, ConvergenceWarning)\n"
     ]
    },
    {
     "name": "stdout",
     "output_type": "stream",
     "text": [
      "Took: 195.86360454559326\n",
      "--------------------------------------------------\n",
      "En: 350\tTr: 379\n",
      "Using first variation (Regressor and Classifier with score vectors)\n",
      "epoch 0:\t19.867672781858786\n",
      "epoch 10:\t19.457273570742842\n",
      "epoch 20:\t19.212657231141637\n",
      "epoch 30:\t19.08442781919645\n",
      "epoch 40:\t18.96132932796147\n",
      "epoch 50:\t18.85026208869604\n",
      "Using second variation (average of outputs produced by each set of weight matrices)\n",
      "Epoch 0: 0.4032147149149891\n",
      "Epoch 25: 0.0006841032767125401\n",
      "Epoch 50: 0.0003430287038912662\n",
      "Epoch 75: 0.00023326963114941065\n",
      "Epoch 100: 0.0001781812781439416\n",
      "Epoch 125: 0.00014480876389266425\n",
      "Epoch 150: 0.0001223261040190923\n",
      "W1 size 419\n",
      "W2 size 6\n",
      "W3 size 3\n"
     ]
    },
    {
     "name": "stderr",
     "output_type": "stream",
     "text": [
      "/usr/local/lib/python3.5/dist-packages/sklearn/metrics/classification.py:1137: UndefinedMetricWarning: F-score is ill-defined and being set to 0.0 in labels with no true samples.\n",
      "  'recall', 'true', average, warn_for)\n"
     ]
    },
    {
     "name": "stdout",
     "output_type": "stream",
     "text": [
      "Using well-known algorithms: Logistic Regression, RandomForest and MLP\n"
     ]
    },
    {
     "name": "stderr",
     "output_type": "stream",
     "text": [
      "/usr/local/lib/python3.5/dist-packages/sklearn/metrics/classification.py:1135: UndefinedMetricWarning: F-score is ill-defined and being set to 0.0 in labels with no predicted samples.\n",
      "  'precision', 'predicted', average, warn_for)\n"
     ]
    },
    {
     "name": "stdout",
     "output_type": "stream",
     "text": [
      "Took: 204.31058168411255\n",
      "--------------------------------------------------\n",
      "En: 350\tTr: 421\n",
      "Using first variation (Regressor and Classifier with score vectors)\n",
      "epoch 0:\t22.31035234582512\n",
      "epoch 10:\t22.267242969714925\n",
      "epoch 20:\t22.168596816518434\n",
      "epoch 30:\t22.047260136250117\n",
      "epoch 40:\t21.936436494776427\n",
      "epoch 50:\t21.83369318282593\n",
      "Using second variation (average of outputs produced by each set of weight matrices)\n",
      "Epoch 0: 0.5327666932140442\n",
      "Epoch 25: 0.0004736505693362797\n",
      "Epoch 50: 0.00024700388868372376\n",
      "Epoch 75: 0.0001688060812321981\n",
      "Epoch 100: 0.00012882016719855196\n",
      "Epoch 125: 0.00010443411250718794\n",
      "Epoch 150: 8.796716582275825e-05\n",
      "W1 size 428\n",
      "W2 size 6\n",
      "W3 size 3\n"
     ]
    },
    {
     "name": "stderr",
     "output_type": "stream",
     "text": [
      "/usr/local/lib/python3.5/dist-packages/sklearn/metrics/classification.py:1137: UndefinedMetricWarning: F-score is ill-defined and being set to 0.0 in labels with no true samples.\n",
      "  'recall', 'true', average, warn_for)\n"
     ]
    },
    {
     "name": "stdout",
     "output_type": "stream",
     "text": [
      "Using well-known algorithms: Logistic Regression, RandomForest and MLP\n"
     ]
    },
    {
     "name": "stderr",
     "output_type": "stream",
     "text": [
      "/usr/local/lib/python3.5/dist-packages/sklearn/metrics/classification.py:1135: UndefinedMetricWarning: F-score is ill-defined and being set to 0.0 in labels with no predicted samples.\n",
      "  'precision', 'predicted', average, warn_for)\n",
      "/usr/local/lib/python3.5/dist-packages/sklearn/neural_network/multilayer_perceptron.py:564: ConvergenceWarning: Stochastic Optimizer: Maximum iterations (200) reached and the optimization hasn't converged yet.\n",
      "  % self.max_iter, ConvergenceWarning)\n"
     ]
    },
    {
     "name": "stdout",
     "output_type": "stream",
     "text": [
      "Took: 201.3037166595459\n",
      "--------------------------------------------------\n",
      "En: 400\tTr: 42\n",
      "Using first variation (Regressor and Classifier with score vectors)\n",
      "epoch 0:\t22.724540164552252\n",
      "epoch 10:\t22.5834927776838\n",
      "epoch 20:\t22.24014772554764\n",
      "epoch 30:\t21.89518986779579\n",
      "epoch 40:\t21.59520714591856\n",
      "epoch 50:\t21.314777244827567\n",
      "Using second variation (average of outputs produced by each set of weight matrices)\n",
      "Epoch 0: 0.15332504081997225\n",
      "Epoch 25: 0.00047036139436425905\n",
      "Epoch 50: 0.0002424154053283911\n",
      "Epoch 75: 0.00016499668308976522\n",
      "Epoch 100: 0.0001256498941350103\n",
      "Epoch 125: 0.00010173413835040794\n",
      "Epoch 150: 8.561479028898139e-05\n",
      "W1 size 288\n",
      "W2 size 5\n",
      "W3 size 3\n"
     ]
    },
    {
     "name": "stderr",
     "output_type": "stream",
     "text": [
      "/usr/local/lib/python3.5/dist-packages/sklearn/metrics/classification.py:1137: UndefinedMetricWarning: F-score is ill-defined and being set to 0.0 in labels with no true samples.\n",
      "  'recall', 'true', average, warn_for)\n"
     ]
    },
    {
     "name": "stdout",
     "output_type": "stream",
     "text": [
      "Using well-known algorithms: Logistic Regression, RandomForest and MLP\n"
     ]
    },
    {
     "name": "stderr",
     "output_type": "stream",
     "text": [
      "/usr/local/lib/python3.5/dist-packages/sklearn/metrics/classification.py:1135: UndefinedMetricWarning: F-score is ill-defined and being set to 0.0 in labels with no predicted samples.\n",
      "  'precision', 'predicted', average, warn_for)\n"
     ]
    },
    {
     "name": "stdout",
     "output_type": "stream",
     "text": [
      "Took: 116.00054335594177\n",
      "--------------------------------------------------\n",
      "En: 400\tTr: 84\n",
      "Using first variation (Regressor and Classifier with score vectors)\n",
      "epoch 0:\t19.420384959156426\n",
      "epoch 10:\t19.21415632737057\n",
      "epoch 20:\t18.90520730955619\n",
      "epoch 30:\t18.550349962263457\n",
      "epoch 40:\t18.284989847234556\n",
      "epoch 50:\t18.004768841206268\n",
      "Using second variation (average of outputs produced by each set of weight matrices)\n",
      "Epoch 0: 0.646014519605049\n",
      "Epoch 25: 0.0009801546943113966\n",
      "Epoch 50: 0.0005059837688572561\n",
      "Epoch 75: 0.00034629917485356446\n",
      "Epoch 100: 0.00026509371567646253\n",
      "Epoch 125: 0.00021560979600298297\n",
      "Epoch 150: 0.00018217034291291556\n",
      "W1 size 314\n",
      "W2 size 5\n",
      "W3 size 3\n"
     ]
    },
    {
     "name": "stderr",
     "output_type": "stream",
     "text": [
      "/usr/local/lib/python3.5/dist-packages/sklearn/metrics/classification.py:1137: UndefinedMetricWarning: F-score is ill-defined and being set to 0.0 in labels with no true samples.\n",
      "  'recall', 'true', average, warn_for)\n"
     ]
    },
    {
     "name": "stdout",
     "output_type": "stream",
     "text": [
      "Using well-known algorithms: Logistic Regression, RandomForest and MLP\n"
     ]
    },
    {
     "name": "stderr",
     "output_type": "stream",
     "text": [
      "/usr/local/lib/python3.5/dist-packages/sklearn/metrics/classification.py:1135: UndefinedMetricWarning: F-score is ill-defined and being set to 0.0 in labels with no predicted samples.\n",
      "  'precision', 'predicted', average, warn_for)\n",
      "/usr/local/lib/python3.5/dist-packages/sklearn/neural_network/multilayer_perceptron.py:564: ConvergenceWarning: Stochastic Optimizer: Maximum iterations (200) reached and the optimization hasn't converged yet.\n",
      "  % self.max_iter, ConvergenceWarning)\n"
     ]
    },
    {
     "name": "stdout",
     "output_type": "stream",
     "text": [
      "Took: 122.90150904655457\n",
      "--------------------------------------------------\n",
      "En: 400\tTr: 126\n",
      "Using first variation (Regressor and Classifier with score vectors)\n",
      "epoch 0:\t21.187898602386614\n",
      "epoch 10:\t20.42707732193782\n",
      "epoch 20:\t19.988530555081855\n",
      "epoch 30:\t19.595036156419\n",
      "epoch 40:\t19.22810215245389\n",
      "epoch 50:\t18.903431129930368\n",
      "Using second variation (average of outputs produced by each set of weight matrices)\n",
      "Epoch 0: 0.6003218213883785\n",
      "Epoch 25: 0.0013791139538092334\n",
      "Epoch 50: 0.0005876387642588214\n",
      "Epoch 75: 0.00038592441127253854\n",
      "Epoch 100: 0.00029033259917034645\n",
      "Epoch 125: 0.0002339241626331455\n",
      "Epoch 150: 0.00019649932654923838\n",
      "W1 size 342\n",
      "W2 size 6\n",
      "W3 size 3\n"
     ]
    },
    {
     "name": "stderr",
     "output_type": "stream",
     "text": [
      "/usr/local/lib/python3.5/dist-packages/sklearn/metrics/classification.py:1137: UndefinedMetricWarning: F-score is ill-defined and being set to 0.0 in labels with no true samples.\n",
      "  'recall', 'true', average, warn_for)\n"
     ]
    },
    {
     "name": "stdout",
     "output_type": "stream",
     "text": [
      "Using well-known algorithms: Logistic Regression, RandomForest and MLP\n"
     ]
    },
    {
     "name": "stderr",
     "output_type": "stream",
     "text": [
      "/usr/local/lib/python3.5/dist-packages/sklearn/metrics/classification.py:1135: UndefinedMetricWarning: F-score is ill-defined and being set to 0.0 in labels with no predicted samples.\n",
      "  'precision', 'predicted', average, warn_for)\n",
      "/usr/local/lib/python3.5/dist-packages/sklearn/neural_network/multilayer_perceptron.py:564: ConvergenceWarning: Stochastic Optimizer: Maximum iterations (200) reached and the optimization hasn't converged yet.\n",
      "  % self.max_iter, ConvergenceWarning)\n"
     ]
    },
    {
     "name": "stdout",
     "output_type": "stream",
     "text": [
      "Took: 136.86120128631592\n",
      "--------------------------------------------------\n",
      "En: 400\tTr: 168\n",
      "Using first variation (Regressor and Classifier with score vectors)\n",
      "epoch 0:\t22.208395688169208\n",
      "epoch 10:\t21.89475811862682\n",
      "epoch 20:\t21.48223831247742\n",
      "epoch 30:\t21.37840590927981\n",
      "epoch 40:\t21.131988574801987\n",
      "epoch 50:\t21.100242378080985\n",
      "Using second variation (average of outputs produced by each set of weight matrices)\n",
      "Epoch 0: 0.5135644252548319\n",
      "Epoch 25: 0.0007040482924583363\n",
      "Epoch 50: 0.0003508094766174517\n",
      "Epoch 75: 0.00023588385813736254\n",
      "Epoch 100: 0.00017849668606488312\n",
      "Epoch 125: 0.0001439748203631082\n",
      "Epoch 150: 0.0001208754477010968\n",
      "W1 size 363\n",
      "W2 size 6\n",
      "W3 size 3\n"
     ]
    },
    {
     "name": "stderr",
     "output_type": "stream",
     "text": [
      "/usr/local/lib/python3.5/dist-packages/sklearn/metrics/classification.py:1137: UndefinedMetricWarning: F-score is ill-defined and being set to 0.0 in labels with no true samples.\n",
      "  'recall', 'true', average, warn_for)\n"
     ]
    },
    {
     "name": "stdout",
     "output_type": "stream",
     "text": [
      "Using well-known algorithms: Logistic Regression, RandomForest and MLP\n"
     ]
    },
    {
     "name": "stderr",
     "output_type": "stream",
     "text": [
      "/usr/local/lib/python3.5/dist-packages/sklearn/metrics/classification.py:1135: UndefinedMetricWarning: F-score is ill-defined and being set to 0.0 in labels with no predicted samples.\n",
      "  'precision', 'predicted', average, warn_for)\n",
      "/usr/local/lib/python3.5/dist-packages/sklearn/neural_network/multilayer_perceptron.py:564: ConvergenceWarning: Stochastic Optimizer: Maximum iterations (200) reached and the optimization hasn't converged yet.\n",
      "  % self.max_iter, ConvergenceWarning)\n"
     ]
    },
    {
     "name": "stdout",
     "output_type": "stream",
     "text": [
      "Took: 163.24210143089294\n",
      "--------------------------------------------------\n",
      "En: 400\tTr: 210\n",
      "Using first variation (Regressor and Classifier with score vectors)\n",
      "epoch 0:\t22.13874255768881\n",
      "epoch 10:\t22.175559760087925\n",
      "epoch 20:\t21.94508107267534\n",
      "epoch 30:\t21.706303096277498\n",
      "epoch 40:\t21.40823060494729\n",
      "epoch 50:\t21.05795641937419\n",
      "Using second variation (average of outputs produced by each set of weight matrices)\n",
      "Epoch 0: 0.3675585165408574\n",
      "Epoch 25: 0.00054715094456608\n",
      "Epoch 50: 0.0002935534199934631\n",
      "Epoch 75: 0.00020346812915528382\n",
      "Epoch 100: 0.00015661871323880043\n",
      "Epoch 125: 0.00012771991903052281\n",
      "Epoch 150: 0.00010804532186304201\n",
      "W1 size 390\n",
      "W2 size 6\n",
      "W3 size 3\n"
     ]
    },
    {
     "name": "stderr",
     "output_type": "stream",
     "text": [
      "/usr/local/lib/python3.5/dist-packages/sklearn/metrics/classification.py:1137: UndefinedMetricWarning: F-score is ill-defined and being set to 0.0 in labels with no true samples.\n",
      "  'recall', 'true', average, warn_for)\n"
     ]
    },
    {
     "name": "stdout",
     "output_type": "stream",
     "text": [
      "Using well-known algorithms: Logistic Regression, RandomForest and MLP\n"
     ]
    },
    {
     "name": "stderr",
     "output_type": "stream",
     "text": [
      "/usr/local/lib/python3.5/dist-packages/sklearn/metrics/classification.py:1135: UndefinedMetricWarning: F-score is ill-defined and being set to 0.0 in labels with no predicted samples.\n",
      "  'precision', 'predicted', average, warn_for)\n"
     ]
    },
    {
     "name": "stdout",
     "output_type": "stream",
     "text": [
      "Took: 154.56070804595947\n",
      "--------------------------------------------------\n",
      "En: 400\tTr: 253\n",
      "Using first variation (Regressor and Classifier with score vectors)\n",
      "epoch 0:\t19.911760899015537\n",
      "epoch 10:\t19.630317954367914\n",
      "epoch 20:\t19.37553078996184\n",
      "epoch 30:\t19.09496578921753\n",
      "epoch 40:\t18.882212653349345\n",
      "epoch 50:\t18.696864006969637\n",
      "Using second variation (average of outputs produced by each set of weight matrices)\n",
      "Epoch 0: 0.2337336860499169\n",
      "Epoch 25: 0.0005646553841173751\n",
      "Epoch 50: 0.0002900608209521301\n",
      "Epoch 75: 0.00019737619767975007\n",
      "Epoch 100: 0.00015039821504227703\n",
      "Epoch 125: 0.00012188378328906158\n",
      "Epoch 150: 0.00010268093731121729\n",
      "W1 size 402\n",
      "W2 size 6\n",
      "W3 size 3\n"
     ]
    },
    {
     "name": "stderr",
     "output_type": "stream",
     "text": [
      "/usr/local/lib/python3.5/dist-packages/sklearn/metrics/classification.py:1137: UndefinedMetricWarning: F-score is ill-defined and being set to 0.0 in labels with no true samples.\n",
      "  'recall', 'true', average, warn_for)\n"
     ]
    },
    {
     "name": "stdout",
     "output_type": "stream",
     "text": [
      "Using well-known algorithms: Logistic Regression, RandomForest and MLP\n"
     ]
    },
    {
     "name": "stderr",
     "output_type": "stream",
     "text": [
      "/usr/local/lib/python3.5/dist-packages/sklearn/metrics/classification.py:1135: UndefinedMetricWarning: F-score is ill-defined and being set to 0.0 in labels with no predicted samples.\n",
      "  'precision', 'predicted', average, warn_for)\n"
     ]
    },
    {
     "name": "stdout",
     "output_type": "stream",
     "text": [
      "Took: 164.7146143913269\n",
      "--------------------------------------------------\n",
      "En: 400\tTr: 295\n",
      "Using first variation (Regressor and Classifier with score vectors)\n",
      "epoch 0:\t20.160994206871713\n",
      "epoch 10:\t20.07248499720985\n",
      "epoch 20:\t19.835147963041496\n",
      "epoch 30:\t19.606256682895154\n",
      "epoch 40:\t19.365881383936387\n",
      "epoch 50:\t19.119306026865896\n",
      "Using second variation (average of outputs produced by each set of weight matrices)\n",
      "Epoch 0: 0.24388765228545448\n",
      "Epoch 25: 0.0004617464334866353\n",
      "Epoch 50: 0.00023822042771443728\n",
      "Epoch 75: 0.00016346099391189667\n",
      "Epoch 100: 0.00012537531648818968\n",
      "Epoch 125: 0.00010211681544689304\n",
      "Epoch 150: 8.63702749306123e-05\n",
      "W1 size 411\n",
      "W2 size 6\n",
      "W3 size 3\n"
     ]
    },
    {
     "name": "stderr",
     "output_type": "stream",
     "text": [
      "/usr/local/lib/python3.5/dist-packages/sklearn/metrics/classification.py:1137: UndefinedMetricWarning: F-score is ill-defined and being set to 0.0 in labels with no true samples.\n",
      "  'recall', 'true', average, warn_for)\n"
     ]
    },
    {
     "name": "stdout",
     "output_type": "stream",
     "text": [
      "Using well-known algorithms: Logistic Regression, RandomForest and MLP\n"
     ]
    },
    {
     "name": "stderr",
     "output_type": "stream",
     "text": [
      "/usr/local/lib/python3.5/dist-packages/sklearn/metrics/classification.py:1135: UndefinedMetricWarning: F-score is ill-defined and being set to 0.0 in labels with no predicted samples.\n",
      "  'precision', 'predicted', average, warn_for)\n",
      "/usr/local/lib/python3.5/dist-packages/sklearn/neural_network/multilayer_perceptron.py:564: ConvergenceWarning: Stochastic Optimizer: Maximum iterations (200) reached and the optimization hasn't converged yet.\n",
      "  % self.max_iter, ConvergenceWarning)\n"
     ]
    },
    {
     "name": "stdout",
     "output_type": "stream",
     "text": [
      "Took: 181.8749532699585\n",
      "--------------------------------------------------\n",
      "En: 400\tTr: 337\n",
      "Using first variation (Regressor and Classifier with score vectors)\n",
      "epoch 0:\t22.235024337230442\n",
      "epoch 10:\t21.532062563701714\n",
      "epoch 20:\t21.3458407204821\n",
      "epoch 30:\t21.160008512484676\n",
      "epoch 40:\t20.972734842821833\n",
      "epoch 50:\t20.79909168851499\n",
      "Using second variation (average of outputs produced by each set of weight matrices)\n",
      "Epoch 0: 1.052870545796918\n",
      "Epoch 25: 0.0008138845638550811\n",
      "Epoch 50: 0.00040375205032763047\n",
      "Epoch 75: 0.00027225918299855393\n",
      "Epoch 100: 0.00020657605709640576\n",
      "Epoch 125: 0.00016696651812247765\n",
      "Epoch 150: 0.00014039669419570013\n",
      "W1 size 426\n",
      "W2 size 6\n",
      "W3 size 3\n"
     ]
    },
    {
     "name": "stderr",
     "output_type": "stream",
     "text": [
      "/usr/local/lib/python3.5/dist-packages/sklearn/metrics/classification.py:1137: UndefinedMetricWarning: F-score is ill-defined and being set to 0.0 in labels with no true samples.\n",
      "  'recall', 'true', average, warn_for)\n"
     ]
    },
    {
     "name": "stdout",
     "output_type": "stream",
     "text": [
      "Using well-known algorithms: Logistic Regression, RandomForest and MLP\n"
     ]
    },
    {
     "name": "stderr",
     "output_type": "stream",
     "text": [
      "/usr/local/lib/python3.5/dist-packages/sklearn/metrics/classification.py:1135: UndefinedMetricWarning: F-score is ill-defined and being set to 0.0 in labels with no predicted samples.\n",
      "  'precision', 'predicted', average, warn_for)\n",
      "/usr/local/lib/python3.5/dist-packages/sklearn/neural_network/multilayer_perceptron.py:564: ConvergenceWarning: Stochastic Optimizer: Maximum iterations (200) reached and the optimization hasn't converged yet.\n",
      "  % self.max_iter, ConvergenceWarning)\n"
     ]
    },
    {
     "name": "stdout",
     "output_type": "stream",
     "text": [
      "Took: 200.4854211807251\n",
      "--------------------------------------------------\n",
      "En: 400\tTr: 379\n",
      "Using first variation (Regressor and Classifier with score vectors)\n",
      "epoch 0:\t22.42433519869277\n",
      "epoch 10:\t22.136723181651476\n",
      "epoch 20:\t21.95786465121311\n",
      "epoch 30:\t21.79833692140937\n",
      "epoch 40:\t21.65086800166579\n",
      "epoch 50:\t21.518514289434204\n",
      "Using second variation (average of outputs produced by each set of weight matrices)\n",
      "Epoch 0: 0.40355083845830564\n",
      "Epoch 25: 0.0005641808210721489\n",
      "Epoch 50: 0.0002810225021423904\n",
      "Epoch 75: 0.00018987681720621037\n",
      "Epoch 100: 0.00014427548734821736\n",
      "Epoch 125: 0.00011675336809453222\n",
      "Epoch 150: 9.827480641428832e-05\n",
      "W1 size 433\n",
      "W2 size 6\n",
      "W3 size 3\n"
     ]
    },
    {
     "name": "stderr",
     "output_type": "stream",
     "text": [
      "/usr/local/lib/python3.5/dist-packages/sklearn/metrics/classification.py:1137: UndefinedMetricWarning: F-score is ill-defined and being set to 0.0 in labels with no true samples.\n",
      "  'recall', 'true', average, warn_for)\n"
     ]
    },
    {
     "name": "stdout",
     "output_type": "stream",
     "text": [
      "Using well-known algorithms: Logistic Regression, RandomForest and MLP\n"
     ]
    },
    {
     "name": "stderr",
     "output_type": "stream",
     "text": [
      "/usr/local/lib/python3.5/dist-packages/sklearn/metrics/classification.py:1135: UndefinedMetricWarning: F-score is ill-defined and being set to 0.0 in labels with no predicted samples.\n",
      "  'precision', 'predicted', average, warn_for)\n",
      "/usr/local/lib/python3.5/dist-packages/sklearn/neural_network/multilayer_perceptron.py:564: ConvergenceWarning: Stochastic Optimizer: Maximum iterations (200) reached and the optimization hasn't converged yet.\n",
      "  % self.max_iter, ConvergenceWarning)\n"
     ]
    },
    {
     "name": "stdout",
     "output_type": "stream",
     "text": [
      "Took: 201.0968029499054\n",
      "--------------------------------------------------\n",
      "En: 400\tTr: 421\n",
      "Using first variation (Regressor and Classifier with score vectors)\n",
      "epoch 0:\t22.90747343830401\n",
      "epoch 10:\t22.77964421605432\n",
      "epoch 20:\t22.522236035115895\n",
      "epoch 30:\t22.319578355993865\n",
      "epoch 40:\t22.150254621259247\n",
      "epoch 50:\t21.9996338399267\n",
      "Using second variation (average of outputs produced by each set of weight matrices)\n",
      "Epoch 0: 0.3374333807293334\n",
      "Epoch 25: 0.0006613819811771541\n",
      "Epoch 50: 0.0003287697623522647\n",
      "Epoch 75: 0.00022266392046457436\n",
      "Epoch 100: 0.0001693913079379202\n",
      "Epoch 125: 0.00013714102805499902\n",
      "Epoch 150: 0.00011544221224283967\n",
      "W1 size 441\n",
      "W2 size 6\n",
      "W3 size 3\n"
     ]
    },
    {
     "name": "stderr",
     "output_type": "stream",
     "text": [
      "/usr/local/lib/python3.5/dist-packages/sklearn/metrics/classification.py:1137: UndefinedMetricWarning: F-score is ill-defined and being set to 0.0 in labels with no true samples.\n",
      "  'recall', 'true', average, warn_for)\n"
     ]
    },
    {
     "name": "stdout",
     "output_type": "stream",
     "text": [
      "Using well-known algorithms: Logistic Regression, RandomForest and MLP\n"
     ]
    },
    {
     "name": "stderr",
     "output_type": "stream",
     "text": [
      "/usr/local/lib/python3.5/dist-packages/sklearn/metrics/classification.py:1135: UndefinedMetricWarning: F-score is ill-defined and being set to 0.0 in labels with no predicted samples.\n",
      "  'precision', 'predicted', average, warn_for)\n"
     ]
    },
    {
     "name": "stdout",
     "output_type": "stream",
     "text": [
      "Took: 194.81688332557678\n",
      "--------------------------------------------------\n",
      "En: 450\tTr: 42\n",
      "Using first variation (Regressor and Classifier with score vectors)\n",
      "epoch 0:\t22.062692040209757\n",
      "epoch 10:\t22.045289231936312\n",
      "epoch 20:\t21.947365581363098\n",
      "epoch 30:\t21.76658497608766\n",
      "epoch 40:\t21.60415765066549\n",
      "epoch 50:\t21.45586003367532\n",
      "Using second variation (average of outputs produced by each set of weight matrices)\n",
      "Epoch 0: 0.6548129095286112\n",
      "Epoch 25: 0.0006041689157624164\n",
      "Epoch 50: 0.0003133535352671702\n",
      "Epoch 75: 0.00021388786196905191\n",
      "Epoch 100: 0.0001632398183688291\n",
      "Epoch 125: 0.00013241454864602775\n",
      "Epoch 150: 0.00011162853106765239\n",
      "W1 size 310\n",
      "W2 size 5\n",
      "W3 size 3\n"
     ]
    },
    {
     "name": "stderr",
     "output_type": "stream",
     "text": [
      "/usr/local/lib/python3.5/dist-packages/sklearn/metrics/classification.py:1137: UndefinedMetricWarning: F-score is ill-defined and being set to 0.0 in labels with no true samples.\n",
      "  'recall', 'true', average, warn_for)\n"
     ]
    },
    {
     "name": "stdout",
     "output_type": "stream",
     "text": [
      "Using well-known algorithms: Logistic Regression, RandomForest and MLP\n"
     ]
    },
    {
     "name": "stderr",
     "output_type": "stream",
     "text": [
      "/usr/local/lib/python3.5/dist-packages/sklearn/metrics/classification.py:1135: UndefinedMetricWarning: F-score is ill-defined and being set to 0.0 in labels with no predicted samples.\n",
      "  'precision', 'predicted', average, warn_for)\n"
     ]
    },
    {
     "name": "stdout",
     "output_type": "stream",
     "text": [
      "Took: 130.60184121131897\n",
      "--------------------------------------------------\n",
      "En: 450\tTr: 84\n",
      "Using first variation (Regressor and Classifier with score vectors)\n",
      "epoch 0:\t20.397710950886065\n",
      "epoch 10:\t20.086408012012615\n",
      "epoch 20:\t19.87490586041895\n",
      "epoch 30:\t19.696275578045647\n",
      "epoch 40:\t19.550455648785118\n",
      "epoch 50:\t19.418076464993135\n",
      "Using second variation (average of outputs produced by each set of weight matrices)\n",
      "Epoch 0: 0.7830718642668648\n",
      "Epoch 25: 0.0006683244026113569\n",
      "Epoch 50: 0.00035642817139539077\n",
      "Epoch 75: 0.0002463495799310876\n",
      "Epoch 100: 0.00018929538198534708\n",
      "Epoch 125: 0.00015417689893752247\n",
      "Epoch 150: 0.0001303013581340278\n",
      "W1 size 340\n",
      "W2 size 5\n",
      "W3 size 3\n"
     ]
    },
    {
     "name": "stderr",
     "output_type": "stream",
     "text": [
      "/usr/local/lib/python3.5/dist-packages/sklearn/metrics/classification.py:1137: UndefinedMetricWarning: F-score is ill-defined and being set to 0.0 in labels with no true samples.\n",
      "  'recall', 'true', average, warn_for)\n"
     ]
    },
    {
     "name": "stdout",
     "output_type": "stream",
     "text": [
      "Using well-known algorithms: Logistic Regression, RandomForest and MLP\n"
     ]
    },
    {
     "name": "stderr",
     "output_type": "stream",
     "text": [
      "/usr/local/lib/python3.5/dist-packages/sklearn/neural_network/multilayer_perceptron.py:564: ConvergenceWarning: Stochastic Optimizer: Maximum iterations (200) reached and the optimization hasn't converged yet.\n",
      "  % self.max_iter, ConvergenceWarning)\n",
      "/usr/local/lib/python3.5/dist-packages/sklearn/metrics/classification.py:1135: UndefinedMetricWarning: F-score is ill-defined and being set to 0.0 in labels with no predicted samples.\n",
      "  'precision', 'predicted', average, warn_for)\n"
     ]
    },
    {
     "name": "stdout",
     "output_type": "stream",
     "text": [
      "Took: 140.9324939250946\n",
      "--------------------------------------------------\n",
      "En: 450\tTr: 126\n",
      "Using first variation (Regressor and Classifier with score vectors)\n",
      "epoch 0:\t21.024907660756366\n",
      "epoch 10:\t20.411586866140834\n",
      "epoch 20:\t19.762450039283408\n",
      "epoch 30:\t19.16979062406501\n",
      "epoch 40:\t18.643239117943725\n",
      "epoch 50:\t18.223948178554384\n",
      "Using second variation (average of outputs produced by each set of weight matrices)\n",
      "Epoch 0: 0.06468047563052545\n",
      "Epoch 25: 0.0005094617100873419\n",
      "Epoch 50: 0.0002711701784727547\n",
      "Epoch 75: 0.00018626876465418127\n",
      "Epoch 100: 0.00014233567124106235\n",
      "Epoch 125: 0.00011538682733738505\n",
      "Epoch 150: 9.714261898110778e-05\n",
      "W1 size 364\n",
      "W2 size 6\n",
      "W3 size 3\n"
     ]
    },
    {
     "name": "stderr",
     "output_type": "stream",
     "text": [
      "/usr/local/lib/python3.5/dist-packages/sklearn/metrics/classification.py:1137: UndefinedMetricWarning: F-score is ill-defined and being set to 0.0 in labels with no true samples.\n",
      "  'recall', 'true', average, warn_for)\n"
     ]
    },
    {
     "name": "stdout",
     "output_type": "stream",
     "text": [
      "Using well-known algorithms: Logistic Regression, RandomForest and MLP\n"
     ]
    },
    {
     "name": "stderr",
     "output_type": "stream",
     "text": [
      "/usr/local/lib/python3.5/dist-packages/sklearn/metrics/classification.py:1135: UndefinedMetricWarning: F-score is ill-defined and being set to 0.0 in labels with no predicted samples.\n",
      "  'precision', 'predicted', average, warn_for)\n",
      "/usr/local/lib/python3.5/dist-packages/sklearn/neural_network/multilayer_perceptron.py:564: ConvergenceWarning: Stochastic Optimizer: Maximum iterations (200) reached and the optimization hasn't converged yet.\n",
      "  % self.max_iter, ConvergenceWarning)\n"
     ]
    },
    {
     "name": "stdout",
     "output_type": "stream",
     "text": [
      "Took: 141.1615183353424\n",
      "--------------------------------------------------\n",
      "En: 450\tTr: 168\n",
      "Using first variation (Regressor and Classifier with score vectors)\n",
      "epoch 0:\t24.879855919651963\n",
      "epoch 10:\t24.418188199093866\n",
      "epoch 20:\t24.189685664120493\n",
      "epoch 30:\t23.86789420885563\n",
      "epoch 40:\t23.528359956647062\n",
      "epoch 50:\t23.209038671457094\n",
      "Using second variation (average of outputs produced by each set of weight matrices)\n",
      "Epoch 0: 0.37260322497939674\n",
      "Epoch 25: 0.00045928708179334885\n",
      "Epoch 50: 0.00023982484044888627\n",
      "Epoch 75: 0.0001644144375139314\n",
      "Epoch 100: 0.0001257891300462665\n",
      "Epoch 125: 0.00010218704558134263\n",
      "Epoch 150: 8.621308459138733e-05\n",
      "W1 size 377\n",
      "W2 size 6\n",
      "W3 size 3\n"
     ]
    },
    {
     "name": "stderr",
     "output_type": "stream",
     "text": [
      "/usr/local/lib/python3.5/dist-packages/sklearn/metrics/classification.py:1137: UndefinedMetricWarning: F-score is ill-defined and being set to 0.0 in labels with no true samples.\n",
      "  'recall', 'true', average, warn_for)\n"
     ]
    },
    {
     "name": "stdout",
     "output_type": "stream",
     "text": [
      "Using well-known algorithms: Logistic Regression, RandomForest and MLP\n"
     ]
    },
    {
     "name": "stderr",
     "output_type": "stream",
     "text": [
      "/usr/local/lib/python3.5/dist-packages/sklearn/metrics/classification.py:1135: UndefinedMetricWarning: F-score is ill-defined and being set to 0.0 in labels with no predicted samples.\n",
      "  'precision', 'predicted', average, warn_for)\n"
     ]
    },
    {
     "name": "stdout",
     "output_type": "stream",
     "text": [
      "Took: 165.40802454948425\n",
      "--------------------------------------------------\n",
      "En: 450\tTr: 210\n",
      "Using first variation (Regressor and Classifier with score vectors)\n",
      "epoch 0:\t19.217939971425853\n",
      "epoch 10:\t18.955169714881972\n",
      "epoch 20:\t18.893954001065048\n",
      "epoch 30:\t18.810131707821125\n",
      "epoch 40:\t18.726284998559915\n",
      "epoch 50:\t18.637774025827387\n",
      "Using second variation (average of outputs produced by each set of weight matrices)\n",
      "Epoch 0: 0.6516625213020957\n",
      "Epoch 25: 0.0006424615875055586\n",
      "Epoch 50: 0.00033864474663674443\n",
      "Epoch 75: 0.0002325305591102475\n",
      "Epoch 100: 0.00017793802405389092\n",
      "Epoch 125: 0.00014452485623216876\n",
      "Epoch 150: 0.0001219012705214921\n",
      "W1 size 404\n",
      "W2 size 6\n",
      "W3 size 3\n"
     ]
    },
    {
     "name": "stderr",
     "output_type": "stream",
     "text": [
      "/usr/local/lib/python3.5/dist-packages/sklearn/metrics/classification.py:1137: UndefinedMetricWarning: F-score is ill-defined and being set to 0.0 in labels with no true samples.\n",
      "  'recall', 'true', average, warn_for)\n"
     ]
    },
    {
     "name": "stdout",
     "output_type": "stream",
     "text": [
      "Using well-known algorithms: Logistic Regression, RandomForest and MLP\n"
     ]
    },
    {
     "name": "stderr",
     "output_type": "stream",
     "text": [
      "/usr/local/lib/python3.5/dist-packages/sklearn/metrics/classification.py:1135: UndefinedMetricWarning: F-score is ill-defined and being set to 0.0 in labels with no predicted samples.\n",
      "  'precision', 'predicted', average, warn_for)\n"
     ]
    },
    {
     "name": "stdout",
     "output_type": "stream",
     "text": [
      "Took: 169.88085055351257\n",
      "--------------------------------------------------\n",
      "En: 450\tTr: 253\n",
      "Using first variation (Regressor and Classifier with score vectors)\n",
      "epoch 0:\t20.441509624787347\n",
      "epoch 10:\t20.20405242965379\n",
      "epoch 20:\t20.110421386583187\n",
      "epoch 30:\t20.072890859424877\n",
      "epoch 40:\t20.011896942942176\n",
      "epoch 50:\t19.95181171018299\n",
      "Using second variation (average of outputs produced by each set of weight matrices)\n",
      "Epoch 0: 0.28280101470303326\n",
      "Epoch 25: 0.0005844921707044962\n",
      "Epoch 50: 0.00030005045941240894\n",
      "Epoch 75: 0.0002050108706766784\n",
      "Epoch 100: 0.0001567844901142656\n",
      "Epoch 125: 0.00012742285865810344\n",
      "Epoch 150: 0.00010760170090204828\n",
      "W1 size 416\n",
      "W2 size 6\n",
      "W3 size 3\n"
     ]
    },
    {
     "name": "stderr",
     "output_type": "stream",
     "text": [
      "/usr/local/lib/python3.5/dist-packages/sklearn/metrics/classification.py:1137: UndefinedMetricWarning: F-score is ill-defined and being set to 0.0 in labels with no true samples.\n",
      "  'recall', 'true', average, warn_for)\n"
     ]
    },
    {
     "name": "stdout",
     "output_type": "stream",
     "text": [
      "Using well-known algorithms: Logistic Regression, RandomForest and MLP\n"
     ]
    },
    {
     "name": "stderr",
     "output_type": "stream",
     "text": [
      "/usr/local/lib/python3.5/dist-packages/sklearn/metrics/classification.py:1135: UndefinedMetricWarning: F-score is ill-defined and being set to 0.0 in labels with no predicted samples.\n",
      "  'precision', 'predicted', average, warn_for)\n"
     ]
    },
    {
     "name": "stdout",
     "output_type": "stream",
     "text": [
      "Took: 173.9100422859192\n",
      "--------------------------------------------------\n",
      "En: 450\tTr: 295\n",
      "Using first variation (Regressor and Classifier with score vectors)\n",
      "epoch 0:\t20.958222682738835\n",
      "epoch 10:\t20.66230565866685\n",
      "epoch 20:\t20.224735823453003\n",
      "epoch 30:\t19.89810536848721\n",
      "epoch 40:\t19.60793689328086\n",
      "epoch 50:\t19.370196024060693\n",
      "Using second variation (average of outputs produced by each set of weight matrices)\n",
      "Epoch 0: 0.2513345880975975\n",
      "Epoch 25: 0.0006173150251256149\n",
      "Epoch 50: 0.0003063515331681729\n",
      "Epoch 75: 0.00020632026858027\n",
      "Epoch 100: 0.00015636482602105278\n",
      "Epoch 125: 0.0001262603335980303\n",
      "Epoch 150: 0.00010607382751559561\n",
      "W1 size 416\n",
      "W2 size 6\n",
      "W3 size 3\n"
     ]
    },
    {
     "name": "stderr",
     "output_type": "stream",
     "text": [
      "/usr/local/lib/python3.5/dist-packages/sklearn/metrics/classification.py:1137: UndefinedMetricWarning: F-score is ill-defined and being set to 0.0 in labels with no true samples.\n",
      "  'recall', 'true', average, warn_for)\n"
     ]
    },
    {
     "name": "stdout",
     "output_type": "stream",
     "text": [
      "Using well-known algorithms: Logistic Regression, RandomForest and MLP\n"
     ]
    },
    {
     "name": "stderr",
     "output_type": "stream",
     "text": [
      "/usr/local/lib/python3.5/dist-packages/sklearn/metrics/classification.py:1135: UndefinedMetricWarning: F-score is ill-defined and being set to 0.0 in labels with no predicted samples.\n",
      "  'precision', 'predicted', average, warn_for)\n",
      "/usr/local/lib/python3.5/dist-packages/sklearn/neural_network/multilayer_perceptron.py:564: ConvergenceWarning: Stochastic Optimizer: Maximum iterations (200) reached and the optimization hasn't converged yet.\n",
      "  % self.max_iter, ConvergenceWarning)\n"
     ]
    },
    {
     "name": "stdout",
     "output_type": "stream",
     "text": [
      "Took: 180.79031252861023\n",
      "--------------------------------------------------\n",
      "En: 450\tTr: 337\n",
      "Using first variation (Regressor and Classifier with score vectors)\n",
      "epoch 0:\t21.788324084162156\n",
      "epoch 10:\t21.317704838981367\n",
      "epoch 20:\t21.077481273364185\n",
      "epoch 30:\t20.87181519540633\n",
      "epoch 40:\t20.712293911009102\n",
      "epoch 50:\t20.57543861076097\n",
      "Using second variation (average of outputs produced by each set of weight matrices)\n",
      "Epoch 0: 0.19788363178403812\n",
      "Epoch 25: 0.0005562204140633944\n",
      "Epoch 50: 0.000269498673868536\n",
      "Epoch 75: 0.00018180431133475229\n",
      "Epoch 100: 0.00013827917041115808\n",
      "Epoch 125: 0.00011202958475149318\n",
      "Epoch 150: 9.439339211334853e-05\n",
      "W1 size 447\n",
      "W2 size 6\n",
      "W3 size 3\n"
     ]
    },
    {
     "name": "stderr",
     "output_type": "stream",
     "text": [
      "/usr/local/lib/python3.5/dist-packages/sklearn/metrics/classification.py:1137: UndefinedMetricWarning: F-score is ill-defined and being set to 0.0 in labels with no true samples.\n",
      "  'recall', 'true', average, warn_for)\n"
     ]
    },
    {
     "name": "stdout",
     "output_type": "stream",
     "text": [
      "Using well-known algorithms: Logistic Regression, RandomForest and MLP\n"
     ]
    },
    {
     "name": "stderr",
     "output_type": "stream",
     "text": [
      "/usr/local/lib/python3.5/dist-packages/sklearn/metrics/classification.py:1135: UndefinedMetricWarning: F-score is ill-defined and being set to 0.0 in labels with no predicted samples.\n",
      "  'precision', 'predicted', average, warn_for)\n",
      "/usr/local/lib/python3.5/dist-packages/sklearn/neural_network/multilayer_perceptron.py:564: ConvergenceWarning: Stochastic Optimizer: Maximum iterations (200) reached and the optimization hasn't converged yet.\n",
      "  % self.max_iter, ConvergenceWarning)\n"
     ]
    },
    {
     "name": "stdout",
     "output_type": "stream",
     "text": [
      "Took: 190.6391363143921\n",
      "--------------------------------------------------\n",
      "En: 450\tTr: 379\n",
      "Using first variation (Regressor and Classifier with score vectors)\n",
      "epoch 0:\t20.653048301049097\n",
      "epoch 10:\t20.405857723781747\n",
      "epoch 20:\t20.104313766548376\n",
      "epoch 30:\t19.851602467517125\n",
      "epoch 40:\t19.599146336304084\n",
      "epoch 50:\t19.392569575715036\n",
      "Using second variation (average of outputs produced by each set of weight matrices)\n",
      "Epoch 0: 0.27194104212569276\n",
      "Epoch 25: 0.0004295890567479127\n",
      "Epoch 50: 0.0002218965351873385\n",
      "Epoch 75: 0.00015173791397492207\n",
      "Epoch 100: 0.00011608129722827746\n",
      "Epoch 125: 9.437282072831876e-05\n",
      "Epoch 150: 7.97164519277825e-05\n",
      "W1 size 460\n",
      "W2 size 6\n",
      "W3 size 3\n"
     ]
    },
    {
     "name": "stderr",
     "output_type": "stream",
     "text": [
      "/usr/local/lib/python3.5/dist-packages/sklearn/metrics/classification.py:1137: UndefinedMetricWarning: F-score is ill-defined and being set to 0.0 in labels with no true samples.\n",
      "  'recall', 'true', average, warn_for)\n"
     ]
    },
    {
     "name": "stdout",
     "output_type": "stream",
     "text": [
      "Using well-known algorithms: Logistic Regression, RandomForest and MLP\n"
     ]
    },
    {
     "name": "stderr",
     "output_type": "stream",
     "text": [
      "/usr/local/lib/python3.5/dist-packages/sklearn/metrics/classification.py:1135: UndefinedMetricWarning: F-score is ill-defined and being set to 0.0 in labels with no predicted samples.\n",
      "  'precision', 'predicted', average, warn_for)\n"
     ]
    },
    {
     "name": "stdout",
     "output_type": "stream",
     "text": [
      "Took: 206.65956735610962\n",
      "--------------------------------------------------\n",
      "En: 450\tTr: 421\n",
      "Using first variation (Regressor and Classifier with score vectors)\n",
      "epoch 0:\t21.233327906192397\n",
      "epoch 10:\t20.898178748888373\n",
      "epoch 20:\t20.562108051635757\n",
      "epoch 30:\t20.136781731309608\n",
      "epoch 40:\t19.582636234761576\n",
      "epoch 50:\t19.233529872567164\n",
      "Using second variation (average of outputs produced by each set of weight matrices)\n",
      "Epoch 0: 0.7127999738705161\n",
      "Epoch 25: 0.00043803776279916363\n",
      "Epoch 50: 0.00022182937575435053\n",
      "Epoch 75: 0.0001507753718852385\n",
      "Epoch 100: 0.00011506868735816079\n",
      "Epoch 125: 9.348022022133897e-05\n",
      "Epoch 150: 7.896647318973143e-05\n",
      "W1 size 464\n",
      "W2 size 6\n",
      "W3 size 3\n"
     ]
    },
    {
     "name": "stderr",
     "output_type": "stream",
     "text": [
      "/usr/local/lib/python3.5/dist-packages/sklearn/metrics/classification.py:1137: UndefinedMetricWarning: F-score is ill-defined and being set to 0.0 in labels with no true samples.\n",
      "  'recall', 'true', average, warn_for)\n"
     ]
    },
    {
     "name": "stdout",
     "output_type": "stream",
     "text": [
      "Using well-known algorithms: Logistic Regression, RandomForest and MLP\n"
     ]
    },
    {
     "name": "stderr",
     "output_type": "stream",
     "text": [
      "/usr/local/lib/python3.5/dist-packages/sklearn/metrics/classification.py:1135: UndefinedMetricWarning: F-score is ill-defined and being set to 0.0 in labels with no predicted samples.\n",
      "  'precision', 'predicted', average, warn_for)\n"
     ]
    },
    {
     "name": "stdout",
     "output_type": "stream",
     "text": [
      "Took: 201.12582397460938\n",
      "--------------------------------------------------\n",
      "En: 500\tTr: 42\n",
      "Using first variation (Regressor and Classifier with score vectors)\n",
      "epoch 0:\t19.99347404123385\n",
      "epoch 10:\t19.66468796809875\n",
      "epoch 20:\t19.53580576106226\n",
      "epoch 30:\t19.39961874461476\n",
      "epoch 40:\t19.28092119109144\n",
      "epoch 50:\t19.170281834236448\n",
      "Using second variation (average of outputs produced by each set of weight matrices)\n",
      "Epoch 0: 0.24214165221301434\n",
      "Epoch 25: 0.0007087894660588839\n",
      "Epoch 50: 0.00035169721816152486\n",
      "Epoch 75: 0.00023609317342894643\n",
      "Epoch 100: 0.00017844374073936432\n",
      "Epoch 125: 0.0001437867677254154\n",
      "Epoch 150: 0.00012059805740351127\n",
      "W1 size 322\n",
      "W2 size 5\n",
      "W3 size 3\n"
     ]
    },
    {
     "name": "stderr",
     "output_type": "stream",
     "text": [
      "/usr/local/lib/python3.5/dist-packages/sklearn/metrics/classification.py:1137: UndefinedMetricWarning: F-score is ill-defined and being set to 0.0 in labels with no true samples.\n",
      "  'recall', 'true', average, warn_for)\n"
     ]
    },
    {
     "name": "stdout",
     "output_type": "stream",
     "text": [
      "Using well-known algorithms: Logistic Regression, RandomForest and MLP\n"
     ]
    },
    {
     "name": "stderr",
     "output_type": "stream",
     "text": [
      "/usr/local/lib/python3.5/dist-packages/sklearn/metrics/classification.py:1135: UndefinedMetricWarning: F-score is ill-defined and being set to 0.0 in labels with no predicted samples.\n",
      "  'precision', 'predicted', average, warn_for)\n"
     ]
    },
    {
     "name": "stdout",
     "output_type": "stream",
     "text": [
      "Took: 144.6276707649231\n",
      "--------------------------------------------------\n",
      "En: 500\tTr: 84\n",
      "Using first variation (Regressor and Classifier with score vectors)\n",
      "epoch 0:\t21.7862539398524\n",
      "epoch 10:\t21.281171066841832\n",
      "epoch 20:\t21.136168248578187\n",
      "epoch 30:\t20.998662063504984\n",
      "epoch 40:\t20.87928571150425\n",
      "epoch 50:\t20.787158350732096\n",
      "Using second variation (average of outputs produced by each set of weight matrices)\n",
      "Epoch 0: 1.0011113126379407\n",
      "Epoch 25: 0.0007441492687048596\n",
      "Epoch 50: 0.0003836170764753615\n",
      "Epoch 75: 0.0002619674675998956\n",
      "Epoch 100: 0.00020015321524588097\n",
      "Epoch 125: 0.0001625476550534726\n",
      "Epoch 150: 0.0001371681798008366\n",
      "W1 size 357\n",
      "W2 size 5\n",
      "W3 size 3\n"
     ]
    },
    {
     "name": "stderr",
     "output_type": "stream",
     "text": [
      "/usr/local/lib/python3.5/dist-packages/sklearn/metrics/classification.py:1137: UndefinedMetricWarning: F-score is ill-defined and being set to 0.0 in labels with no true samples.\n",
      "  'recall', 'true', average, warn_for)\n"
     ]
    },
    {
     "name": "stdout",
     "output_type": "stream",
     "text": [
      "Using well-known algorithms: Logistic Regression, RandomForest and MLP\n"
     ]
    },
    {
     "name": "stderr",
     "output_type": "stream",
     "text": [
      "/usr/local/lib/python3.5/dist-packages/sklearn/metrics/classification.py:1135: UndefinedMetricWarning: F-score is ill-defined and being set to 0.0 in labels with no predicted samples.\n",
      "  'precision', 'predicted', average, warn_for)\n",
      "/usr/local/lib/python3.5/dist-packages/sklearn/neural_network/multilayer_perceptron.py:564: ConvergenceWarning: Stochastic Optimizer: Maximum iterations (200) reached and the optimization hasn't converged yet.\n",
      "  % self.max_iter, ConvergenceWarning)\n"
     ]
    },
    {
     "name": "stdout",
     "output_type": "stream",
     "text": [
      "Took: 148.58109331130981\n",
      "--------------------------------------------------\n",
      "En: 500\tTr: 126\n",
      "Using first variation (Regressor and Classifier with score vectors)\n",
      "epoch 0:\t20.780979773248408\n",
      "epoch 10:\t20.51338372395811\n",
      "epoch 20:\t20.250007785746465\n",
      "epoch 30:\t20.000258276115726\n",
      "epoch 40:\t19.78063549497327\n",
      "epoch 50:\t19.613772676970754\n",
      "Using second variation (average of outputs produced by each set of weight matrices)\n",
      "Epoch 0: 0.8217852128241162\n",
      "Epoch 25: 0.0007789302762935736\n",
      "Epoch 50: 0.000382078884537266\n",
      "Epoch 75: 0.00025841928798420817\n",
      "Epoch 100: 0.0001968052192387077\n",
      "Epoch 125: 0.0001596092618738297\n",
      "Epoch 150: 0.0001345968581146783\n",
      "W1 size 371\n",
      "W2 size 6\n",
      "W3 size 3\n"
     ]
    },
    {
     "name": "stderr",
     "output_type": "stream",
     "text": [
      "/usr/local/lib/python3.5/dist-packages/sklearn/metrics/classification.py:1137: UndefinedMetricWarning: F-score is ill-defined and being set to 0.0 in labels with no true samples.\n",
      "  'recall', 'true', average, warn_for)\n"
     ]
    },
    {
     "name": "stdout",
     "output_type": "stream",
     "text": [
      "Using well-known algorithms: Logistic Regression, RandomForest and MLP\n"
     ]
    },
    {
     "name": "stderr",
     "output_type": "stream",
     "text": [
      "/usr/local/lib/python3.5/dist-packages/sklearn/metrics/classification.py:1135: UndefinedMetricWarning: F-score is ill-defined and being set to 0.0 in labels with no predicted samples.\n",
      "  'precision', 'predicted', average, warn_for)\n"
     ]
    },
    {
     "name": "stdout",
     "output_type": "stream",
     "text": [
      "Took: 160.5426368713379\n",
      "--------------------------------------------------\n",
      "En: 500\tTr: 168\n",
      "Using first variation (Regressor and Classifier with score vectors)\n",
      "epoch 0:\t21.25986642453653\n",
      "epoch 10:\t20.64294587874223\n",
      "epoch 20:\t20.407911120260835\n",
      "epoch 30:\t20.255295021849154\n",
      "epoch 40:\t20.148343789411246\n",
      "epoch 50:\t20.056054859699948\n",
      "Using second variation (average of outputs produced by each set of weight matrices)\n",
      "Epoch 0: 0.4402026002787405\n",
      "Epoch 25: 0.00042200118322240315\n",
      "Epoch 50: 0.0002215478638650785\n",
      "Epoch 75: 0.00015223540666496008\n",
      "Epoch 100: 0.00011669083499471722\n",
      "Epoch 125: 9.495782001948442e-05\n",
      "Epoch 150: 8.024782748086595e-05\n",
      "W1 size 401\n",
      "W2 size 6\n",
      "W3 size 3\n"
     ]
    },
    {
     "name": "stderr",
     "output_type": "stream",
     "text": [
      "/usr/local/lib/python3.5/dist-packages/sklearn/metrics/classification.py:1137: UndefinedMetricWarning: F-score is ill-defined and being set to 0.0 in labels with no true samples.\n",
      "  'recall', 'true', average, warn_for)\n"
     ]
    },
    {
     "name": "stdout",
     "output_type": "stream",
     "text": [
      "Using well-known algorithms: Logistic Regression, RandomForest and MLP\n"
     ]
    },
    {
     "name": "stderr",
     "output_type": "stream",
     "text": [
      "/usr/local/lib/python3.5/dist-packages/sklearn/metrics/classification.py:1135: UndefinedMetricWarning: F-score is ill-defined and being set to 0.0 in labels with no predicted samples.\n",
      "  'precision', 'predicted', average, warn_for)\n"
     ]
    },
    {
     "name": "stdout",
     "output_type": "stream",
     "text": [
      "Took: 170.35831904411316\n",
      "--------------------------------------------------\n",
      "En: 500\tTr: 210\n",
      "Using first variation (Regressor and Classifier with score vectors)\n",
      "epoch 0:\t21.67730381013193\n",
      "epoch 10:\t21.27507602538745\n",
      "epoch 20:\t20.718159866982134\n",
      "epoch 30:\t20.327103468799077\n",
      "epoch 40:\t19.957726353631667\n",
      "epoch 50:\t19.592767281846804\n",
      "Using second variation (average of outputs produced by each set of weight matrices)\n",
      "Epoch 0: 0.22583507073019143\n",
      "Epoch 25: 0.0005843721181158646\n",
      "Epoch 50: 0.0002818738349896447\n",
      "Epoch 75: 0.00019080836624365456\n",
      "Epoch 100: 0.00014545787309600255\n",
      "Epoch 125: 0.00011801185877836863\n",
      "Epoch 150: 9.952547344448783e-05\n",
      "W1 size 411\n",
      "W2 size 6\n",
      "W3 size 3\n"
     ]
    },
    {
     "name": "stderr",
     "output_type": "stream",
     "text": [
      "/usr/local/lib/python3.5/dist-packages/sklearn/metrics/classification.py:1137: UndefinedMetricWarning: F-score is ill-defined and being set to 0.0 in labels with no true samples.\n",
      "  'recall', 'true', average, warn_for)\n"
     ]
    },
    {
     "name": "stdout",
     "output_type": "stream",
     "text": [
      "Using well-known algorithms: Logistic Regression, RandomForest and MLP\n"
     ]
    },
    {
     "name": "stderr",
     "output_type": "stream",
     "text": [
      "/usr/local/lib/python3.5/dist-packages/sklearn/metrics/classification.py:1135: UndefinedMetricWarning: F-score is ill-defined and being set to 0.0 in labels with no predicted samples.\n",
      "  'precision', 'predicted', average, warn_for)\n",
      "/usr/local/lib/python3.5/dist-packages/sklearn/neural_network/multilayer_perceptron.py:564: ConvergenceWarning: Stochastic Optimizer: Maximum iterations (200) reached and the optimization hasn't converged yet.\n",
      "  % self.max_iter, ConvergenceWarning)\n"
     ]
    },
    {
     "name": "stdout",
     "output_type": "stream",
     "text": [
      "Took: 190.3256163597107\n",
      "--------------------------------------------------\n",
      "En: 500\tTr: 253\n",
      "Using first variation (Regressor and Classifier with score vectors)\n",
      "epoch 0:\t22.029115104207037\n",
      "epoch 10:\t21.585869683013275\n",
      "epoch 20:\t21.221117525683123\n",
      "epoch 30:\t21.02309084294833\n",
      "epoch 40:\t20.861171731027273\n",
      "epoch 50:\t20.723830682072048\n",
      "Using second variation (average of outputs produced by each set of weight matrices)\n",
      "Epoch 0: 0.20501084076167653\n",
      "Epoch 25: 0.0004987903908072066\n",
      "Epoch 50: 0.00025704958125878413\n",
      "Epoch 75: 0.0001746724592478569\n",
      "Epoch 100: 0.00013282166142523967\n",
      "Epoch 125: 0.00010740412114107566\n",
      "Epoch 150: 9.029798508695747e-05\n",
      "W1 size 430\n",
      "W2 size 6\n",
      "W3 size 3\n"
     ]
    },
    {
     "name": "stderr",
     "output_type": "stream",
     "text": [
      "/usr/local/lib/python3.5/dist-packages/sklearn/metrics/classification.py:1137: UndefinedMetricWarning: F-score is ill-defined and being set to 0.0 in labels with no true samples.\n",
      "  'recall', 'true', average, warn_for)\n"
     ]
    },
    {
     "name": "stdout",
     "output_type": "stream",
     "text": [
      "Using well-known algorithms: Logistic Regression, RandomForest and MLP\n"
     ]
    },
    {
     "name": "stderr",
     "output_type": "stream",
     "text": [
      "/usr/local/lib/python3.5/dist-packages/sklearn/metrics/classification.py:1135: UndefinedMetricWarning: F-score is ill-defined and being set to 0.0 in labels with no predicted samples.\n",
      "  'precision', 'predicted', average, warn_for)\n",
      "/usr/local/lib/python3.5/dist-packages/sklearn/neural_network/multilayer_perceptron.py:564: ConvergenceWarning: Stochastic Optimizer: Maximum iterations (200) reached and the optimization hasn't converged yet.\n",
      "  % self.max_iter, ConvergenceWarning)\n"
     ]
    },
    {
     "name": "stdout",
     "output_type": "stream",
     "text": [
      "Took: 191.18447828292847\n",
      "--------------------------------------------------\n",
      "En: 500\tTr: 295\n",
      "Using first variation (Regressor and Classifier with score vectors)\n",
      "epoch 0:\t22.120101012727105\n",
      "epoch 10:\t21.688722864286245\n",
      "epoch 20:\t21.463611774609916\n",
      "epoch 30:\t21.203507323149438\n",
      "epoch 40:\t20.935064038400068\n",
      "epoch 50:\t20.655338442683327\n",
      "Using second variation (average of outputs produced by each set of weight matrices)\n",
      "Epoch 0: 0.3171128569412151\n",
      "Epoch 25: 0.0006134760605760545\n",
      "Epoch 50: 0.00029296478609781406\n",
      "Epoch 75: 0.00019532844213854877\n",
      "Epoch 100: 0.00014725489176144096\n",
      "Epoch 125: 0.0001184858392261372\n",
      "Epoch 150: 9.928445405154672e-05\n",
      "W1 size 443\n",
      "W2 size 6\n",
      "W3 size 3\n"
     ]
    },
    {
     "name": "stderr",
     "output_type": "stream",
     "text": [
      "/usr/local/lib/python3.5/dist-packages/sklearn/metrics/classification.py:1137: UndefinedMetricWarning: F-score is ill-defined and being set to 0.0 in labels with no true samples.\n",
      "  'recall', 'true', average, warn_for)\n"
     ]
    },
    {
     "name": "stdout",
     "output_type": "stream",
     "text": [
      "Using well-known algorithms: Logistic Regression, RandomForest and MLP\n"
     ]
    },
    {
     "name": "stderr",
     "output_type": "stream",
     "text": [
      "/usr/local/lib/python3.5/dist-packages/sklearn/metrics/classification.py:1135: UndefinedMetricWarning: F-score is ill-defined and being set to 0.0 in labels with no predicted samples.\n",
      "  'precision', 'predicted', average, warn_for)\n"
     ]
    },
    {
     "name": "stdout",
     "output_type": "stream",
     "text": [
      "Took: 195.93492460250854\n",
      "--------------------------------------------------\n",
      "En: 500\tTr: 337\n",
      "Using first variation (Regressor and Classifier with score vectors)\n",
      "epoch 0:\t22.03246630211719\n",
      "epoch 10:\t21.599336265221808\n",
      "epoch 20:\t21.25476392974184\n",
      "epoch 30:\t20.946378739141473\n",
      "epoch 40:\t20.833191459416366\n",
      "epoch 50:\t20.71262149349809\n",
      "Using second variation (average of outputs produced by each set of weight matrices)\n",
      "Epoch 0: 0.17635336637952176\n",
      "Epoch 25: 0.00043825055627238184\n",
      "Epoch 50: 0.00022160760651501916\n",
      "Epoch 75: 0.00014985158061076734\n",
      "Epoch 100: 0.00011373791893246197\n",
      "Epoch 125: 9.19019152653437e-05\n",
      "Epoch 150: 7.72416432840923e-05\n",
      "W1 size 462\n",
      "W2 size 6\n",
      "W3 size 3\n"
     ]
    },
    {
     "name": "stderr",
     "output_type": "stream",
     "text": [
      "/usr/local/lib/python3.5/dist-packages/sklearn/metrics/classification.py:1137: UndefinedMetricWarning: F-score is ill-defined and being set to 0.0 in labels with no true samples.\n",
      "  'recall', 'true', average, warn_for)\n"
     ]
    },
    {
     "name": "stdout",
     "output_type": "stream",
     "text": [
      "Using well-known algorithms: Logistic Regression, RandomForest and MLP\n"
     ]
    },
    {
     "name": "stderr",
     "output_type": "stream",
     "text": [
      "/usr/local/lib/python3.5/dist-packages/sklearn/metrics/classification.py:1135: UndefinedMetricWarning: F-score is ill-defined and being set to 0.0 in labels with no predicted samples.\n",
      "  'precision', 'predicted', average, warn_for)\n"
     ]
    },
    {
     "name": "stdout",
     "output_type": "stream",
     "text": [
      "Took: 223.59545350074768\n",
      "--------------------------------------------------\n",
      "En: 500\tTr: 379\n",
      "Using first variation (Regressor and Classifier with score vectors)\n",
      "epoch 0:\t21.031196121060884\n",
      "epoch 10:\t20.99871992465231\n",
      "epoch 20:\t20.870779584858813\n",
      "epoch 30:\t20.744792069175286\n",
      "epoch 40:\t20.620370873054345\n",
      "epoch 50:\t20.500830359767324\n",
      "Using second variation (average of outputs produced by each set of weight matrices)\n",
      "Epoch 0: 0.42225965045569275\n",
      "Epoch 25: 0.0005145914059738743\n",
      "Epoch 50: 0.0002448076295250311\n",
      "Epoch 75: 0.0001638876510145098\n",
      "Epoch 100: 0.00012411174966616722\n",
      "Epoch 125: 0.00010027931626749392\n",
      "Epoch 150: 8.434540073710444e-05\n",
      "W1 size 473\n",
      "W2 size 6\n",
      "W3 size 3\n"
     ]
    },
    {
     "name": "stderr",
     "output_type": "stream",
     "text": [
      "/usr/local/lib/python3.5/dist-packages/sklearn/metrics/classification.py:1137: UndefinedMetricWarning: F-score is ill-defined and being set to 0.0 in labels with no true samples.\n",
      "  'recall', 'true', average, warn_for)\n"
     ]
    },
    {
     "name": "stdout",
     "output_type": "stream",
     "text": [
      "Using well-known algorithms: Logistic Regression, RandomForest and MLP\n"
     ]
    },
    {
     "name": "stderr",
     "output_type": "stream",
     "text": [
      "/usr/local/lib/python3.5/dist-packages/sklearn/metrics/classification.py:1135: UndefinedMetricWarning: F-score is ill-defined and being set to 0.0 in labels with no predicted samples.\n",
      "  'precision', 'predicted', average, warn_for)\n"
     ]
    },
    {
     "name": "stdout",
     "output_type": "stream",
     "text": [
      "Took: 219.94159626960754\n",
      "--------------------------------------------------\n",
      "En: 500\tTr: 421\n",
      "Using first variation (Regressor and Classifier with score vectors)\n",
      "epoch 0:\t23.383967669043457\n",
      "epoch 10:\t22.871791292569615\n",
      "epoch 20:\t22.679387956374374\n",
      "epoch 30:\t22.518479956411554\n",
      "epoch 40:\t22.36602393466886\n",
      "epoch 50:\t22.221551946817858\n",
      "Using second variation (average of outputs produced by each set of weight matrices)\n",
      "Epoch 0: 0.13491919797851065\n",
      "Epoch 25: 0.0004189352907711657\n",
      "Epoch 50: 0.0002167046230694373\n",
      "Epoch 75: 0.00014752473662239275\n",
      "Epoch 100: 0.00011231189021324206\n",
      "Epoch 125: 9.090561288865264e-05\n",
      "Epoch 150: 7.64787307431177e-05\n",
      "W1 size 483\n",
      "W2 size 6\n",
      "W3 size 3\n"
     ]
    },
    {
     "name": "stderr",
     "output_type": "stream",
     "text": [
      "/usr/local/lib/python3.5/dist-packages/sklearn/metrics/classification.py:1137: UndefinedMetricWarning: F-score is ill-defined and being set to 0.0 in labels with no true samples.\n",
      "  'recall', 'true', average, warn_for)\n"
     ]
    },
    {
     "name": "stdout",
     "output_type": "stream",
     "text": [
      "Using well-known algorithms: Logistic Regression, RandomForest and MLP\n"
     ]
    },
    {
     "name": "stderr",
     "output_type": "stream",
     "text": [
      "/usr/local/lib/python3.5/dist-packages/sklearn/metrics/classification.py:1135: UndefinedMetricWarning: F-score is ill-defined and being set to 0.0 in labels with no predicted samples.\n",
      "  'precision', 'predicted', average, warn_for)\n"
     ]
    },
    {
     "name": "stdout",
     "output_type": "stream",
     "text": [
      "Took: 235.7970221042633\n",
      "--------------------------------------------------\n"
     ]
    }
   ],
   "source": [
    "robustness_tri = robustness_test(df_tri, tronly_test_raw_tri)\n",
    "pickle.dump(robustness_tri, open(\"../results/robustness_tri.results\", \"wb\"))"
   ]
  },
  {
   "cell_type": "code",
   "execution_count": null,
   "metadata": {},
   "outputs": [],
   "source": [
    "# HOW TO CHEAT LIKE A PRO\n",
    "# \"\"\"\n",
    "# def test_selective(df_test, W1, W2, W3):\n",
    "#     reset_graph()\n",
    "#     x = tf.placeholder(tf.float32, [None, 300])\n",
    "#     y = tf.placeholder(tf.float32, [None, 10]) # 1-10 => 10 classes\n",
    "\n",
    "#     w1 = tf.placeholder(tf.float32, [300, 300])\n",
    "#     w2 = tf.placeholder(tf.float32, [300, 300])\n",
    "#     w3 = tf.placeholder(tf.float32, [300, 10])\n",
    "\n",
    "#     b1 = tf.Variable(tf.zeros([300]))\n",
    "#     b2 = tf.Variable(tf.zeros([300]))\n",
    "#     b3 = tf.Variable(tf.zeros([10]))\n",
    "\n",
    "#     l2 = tf.nn.sigmoid(tf.matmul(x, w1) + b1)\n",
    "#     l3 = tf.nn.sigmoid(tf.matmul(l2, w2) + b2)\n",
    "#     pred = tf.nn.softmax(tf.matmul(l3, w3) + b3)\n",
    "    \n",
    "#     correct_prediction = tf.equal(tf.argmax(pred, 1), tf.argmax(y, 1))\n",
    "#     instance_accuracy = tf.reduce_mean(tf.cast(correct_prediction, tf.float32))\n",
    "#     with tf.Session() as sess:\n",
    "#         sess.run(tf.global_variables_initializer())\n",
    "    \n",
    "#         # Testing the model\n",
    "#         LSMR_test = preprocess_data(df_test)\n",
    "#         X_test, y_test = get_test(LSMR_test)\n",
    "#         accuracy = 0.\n",
    "#         for i in range(len(X_test)):\n",
    "#             best_instance_accuracy = float(\"-inf\")\n",
    "#             for language, score, movie_id in W1:\n",
    "#                 w_1 = W1[(language, score, movie_id)]\n",
    "#                 w_2 = W2[(language, score)]\n",
    "#                 w_3 = W3[score]\n",
    "#                 a = instance_accuracy.eval({x: np.atleast_2d(X_test[i]), y: np.atleast_2d(y_test[i]),\n",
    "#                                    w1:w_1,\n",
    "#                                    w2:w_2,\n",
    "#                                    w3:w_3})\n",
    "#                 if a > best_instance_accuracy:\n",
    "#                     best_instance_accuracy = a\n",
    "#             accuracy += best_instance_accuracy\n",
    "\n",
    "#     return accuracy/len(X_test)\n",
    "# \"\"\""
   ]
  },
  {
   "cell_type": "markdown",
   "metadata": {},
   "source": [
    "# 3-layer NN > needs at least 3 days for training"
   ]
  },
  {
   "cell_type": "code",
   "execution_count": null,
   "metadata": {},
   "outputs": [],
   "source": [
    "# gpu is a must\n",
    "def train_deep(df_train, epochs=100, learning_rate=0.1, random_state=42):\n",
    "    LSMR_train = preprocess_data(df_train)\n",
    "    np.random.seed(random_state)\n",
    "    data_dict, L1, L2, L3 = get_data_dict(LSMR_train, get_L2and3=True)\n",
    "    init_weights = lambda layer, i, o: {k:2*np.random.random((i, o))-1 for k in layer}\n",
    "    W1 = init_weights(L1, 300, 300)  # (languge, score, movie_id)\n",
    "    W2 = init_weights(L2, 300, 300)  # (languge, score):\n",
    "    W3 = init_weights(L3, 300, 10)  # score:\n",
    "    \n",
    "    \n",
    "    reset_graph()\n",
    "    x = tf.placeholder(tf.float32, [None, 300])\n",
    "    y = tf.placeholder(tf.float32, [None, 10]) # 1-10 => 10 classes\n",
    "\n",
    "    w1 = tf.Variable(tf.zeros([300, 300]))\n",
    "    w2 = tf.Variable(tf.zeros([300, 300]))\n",
    "    w3 = tf.Variable(tf.zeros([300, 10]))\n",
    "\n",
    "    b1 = tf.Variable(tf.zeros([300]))\n",
    "    b2 = tf.Variable(tf.zeros([300]))\n",
    "    b3 = tf.Variable(tf.zeros([10]))\n",
    "\n",
    "    l2 = tf.nn.sigmoid(tf.matmul(x, w1) + b1)\n",
    "    l3 = tf.nn.sigmoid(tf.matmul(l2, w2) + b2)\n",
    "    pred = tf.nn.softmax(tf.matmul(l3, w3) + b3)\n",
    "\n",
    "\n",
    "    cost = tf.reduce_mean(-tf.reduce_sum(y*tf.log(pred), reduction_indices=1))\n",
    "    optimizer = tf.train.GradientDescentOptimizer(learning_rate).minimize(cost)\n",
    "    training_curve = dict()\n",
    "    with tf.device('/job:localhost/replica:0/task:0/device:GPU:0'):\n",
    "        with tf.Session(config=tf.ConfigProto(log_device_placement=True)) as sess:\n",
    "            sess.run(tf.global_variables_initializer())\n",
    "            for e in range(epochs+1):\n",
    "                start = time.time()\n",
    "                avg_cost = 0.\n",
    "                for _, row in LSMR_train.iterrows():\n",
    "                    score = row[\"Score\"]\n",
    "                    y_ = np.zeros(10)\n",
    "                    y_[score-1] = 1\n",
    "                    y_ = np.atleast_2d(y_)\n",
    "                    x_ = np.atleast_2d(row[\"rev_vec\"])\n",
    "                    w_1, w_2, w_3 , _, c = sess.run([w1, w2, w3, optimizer, cost], feed_dict={x: x_,y: y_})               \n",
    "                    avg_cost += c\n",
    "                avg_cost /= len(LSMR_train)\n",
    "                training_curve[e] = (avg_cost, time.time()-start)\n",
    "                if e%10==0:\n",
    "                    print(\"Epoch {}: {}\".format(e, avg_cost))\n",
    "\n",
    "    return w_1, w_2, w_3, training_curve"
   ]
  },
  {
   "cell_type": "code",
   "execution_count": null,
   "metadata": {},
   "outputs": [],
   "source": [
    "def test_deep(df_test, w_1, w_2, w_3):\n",
    "    reset_graph()\n",
    "    x = tf.placeholder(tf.float32, [None, 300])\n",
    "    y = tf.placeholder(tf.float32, [None, 10]) # 1-10 => 10 classes\n",
    "\n",
    "    w1 = tf.placeholder(tf.float32, [300, 300])\n",
    "    w2 = tf.placeholder(tf.float32, [300, 300])\n",
    "    w3 = tf.placeholder(tf.float32, [300, 10])\n",
    "\n",
    "    b1 = tf.Variable(tf.zeros([300]))\n",
    "    b2 = tf.Variable(tf.zeros([300]))\n",
    "    b3 = tf.Variable(tf.zeros([10]))\n",
    "\n",
    "    l2 = tf.nn.sigmoid(tf.matmul(x, w1) + b1)\n",
    "    l3 = tf.nn.sigmoid(tf.matmul(l2, w2) + b2)\n",
    "    pred = tf.nn.softmax(tf.matmul(l3, w3) + b3)\n",
    "    \n",
    "    correct_prediction = tf.equal(tf.argmax(pred, 1), tf.argmax(y, 1))\n",
    "    accuracy = tf.reduce_mean(tf.cast(correct_prediction, tf.float32))\n",
    "    \n",
    "    with tf.device('/job:localhost/replica:0/task:0/device:GPU:0'):\n",
    "        with tf.Session(config=tf.ConfigProto(log_device_placement=True)) as sess:\n",
    "            sess.run(tf.global_variables_initializer())\n",
    "\n",
    "            # Testing the model\n",
    "            LSMR_test = preprocess_data(df_test)\n",
    "            X_test, y_test = get_test(LSMR_test)\n",
    "            return accuracy.eval({x: X_test,\n",
    "                                  y: y_test,\n",
    "                                  w1:w_1,w2:w_2,\n",
    "                                  w3:w_3})"
   ]
  },
  {
   "cell_type": "code",
   "execution_count": null,
   "metadata": {},
   "outputs": [],
   "source": [
    "NUM_TRIALS = 1\n",
    "scores_incremental = dict()\n",
    "learning_curves = dict()\n",
    "for i in range(NUM_TRIALS):\n",
    "    scores_incremental[i] = dict()\n",
    "    learning_curves[i] = dict()\n",
    "    print(\"Trial:\\t{}\".format(i+1))\n",
    "    k = 0\n",
    "    skf = StratifiedKFold(n_splits=10, random_state=i)\n",
    "    for train_index, test_index in skf.split(df[\"Review\"], df[\"Language\"]):\n",
    "        start = time.time()\n",
    "        w1, w2, w3, learning_curve = train_deep(df.loc[train_index], random_state=i, epochs=10000)\n",
    "        s = test_deep(df.loc[test_index], w1, w2, w3)\n",
    "        k += 1\n",
    "        print(\"K:\\t{}\\nScore:\\t{}\".format(k, s))\n",
    "        print(\"took:\", time.time()-start)\n",
    "        scores_incremental[i][k] = s\n",
    "        learning_curves[i][k] = learning_curve\n",
    "    print(\"*\"*10)\n",
    "    try:\n",
    "        print(\"Trial {} avg score:\\t {}\".format(i+1, np.mean(list(scores_incremental[i].values()))))\n",
    "    except:\n",
    "        continue\n",
    "    print(\"-\"*30)"
   ]
  },
  {
   "cell_type": "code",
   "execution_count": null,
   "metadata": {},
   "outputs": [],
   "source": []
  }
 ],
 "metadata": {
  "kernelspec": {
   "display_name": "Python 3",
   "language": "python",
   "name": "python3"
  },
  "language_info": {
   "codemirror_mode": {
    "name": "ipython",
    "version": 3
   },
   "file_extension": ".py",
   "mimetype": "text/x-python",
   "name": "python",
   "nbconvert_exporter": "python",
   "pygments_lexer": "ipython3",
   "version": "3.5.2"
  }
 },
 "nbformat": 4,
 "nbformat_minor": 2
}
