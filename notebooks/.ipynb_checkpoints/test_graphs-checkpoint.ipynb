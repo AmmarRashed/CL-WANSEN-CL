{
 "cells": [
  {
   "cell_type": "code",
   "execution_count": null,
   "metadata": {},
   "outputs": [],
   "source": [
    "import pickle\n",
    "%matplotlib inline\n",
    "import numpy as np\n",
    "from mpl_toolkits.mplot3d import Axes3D\n",
    "import matplotlib as mpl\n",
    "import matplotlib.pyplot as plt\n",
    "import pylab, re"
   ]
  },
  {
   "cell_type": "code",
   "execution_count": null,
   "metadata": {},
   "outputs": [],
   "source": [
    "robustness = pickle.load(open(\"../results/robustness.results\", \"rb\"))\n",
    "robustness.keys()"
   ]
  },
  {
   "cell_type": "code",
   "execution_count": null,
   "metadata": {},
   "outputs": [],
   "source": [
    "robustness[(450, 400)]"
   ]
  },
  {
   "cell_type": "code",
   "execution_count": null,
   "metadata": {},
   "outputs": [],
   "source": [
    "robustness[(450, 400)][\"DeepSelect\"]"
   ]
  },
  {
   "cell_type": "code",
   "execution_count": null,
   "metadata": {},
   "outputs": [],
   "source": [
    "parse_classification_report(robustness[(450, 400)][\"DeepSelect\"])"
   ]
  },
  {
   "cell_type": "code",
   "execution_count": null,
   "metadata": {},
   "outputs": [],
   "source": [
    "def plot_robustness(robustness, accuracy_metric=\"MAE\"):\n",
    "    models = list(robustness[list(robustness.keys())[0]].keys())\n",
    "    colors = ['#%06X' % np.random.randint(0, 0xFFFFFF) for i in range(len(models))]\n",
    "    colors = {models[i]:colors[i] for i in range(len(models))}\n",
    "\n",
    "\n",
    "    x = sorted(set([i[0] for i in robustness.keys()]))\n",
    "    y = sorted(set([i[1] for i in robustness.keys()]))\n",
    "    X, Y = np.meshgrid(x, y)\n",
    "\n",
    "    for model in models:\n",
    "        Z = np.array([[0. for i in range(len(x))] for j in range(len(y))])\n",
    "        for i, en in enumerate(x):\n",
    "            for j, tr in enumerate(y):\n",
    "                Z[i][j] = robustness[(en,tr)][model]\n",
    "\n",
    "        fig = pylab.figure(figsize=(12, 7))\n",
    "        ax = fig.gca(projection='3d')\n",
    "        ax.plot_surface(X, Y, Z, rstride=1, cstride=1, color=colors[model], alpha=0.7)\n",
    "        ax.set_title(model, y=1.1, fontsize=20)\n",
    "        ax.set_xlabel(\"Number of English Reviews\")\n",
    "        pylab.xlim([min(x), max(x)])\n",
    "        pylab.xticks(x)\n",
    "        ax.set_ylabel(\"Number of Turkish Reviews\")\n",
    "        ax.set_zlabel(accuracy_metric)\n",
    "        pylab.ylim([min(y), max(y)])\n",
    "        pylab.yticks(y)"
   ]
  },
  {
   "cell_type": "code",
   "execution_count": null,
   "metadata": {
    "scrolled": false
   },
   "outputs": [],
   "source": [
    "plot_robustness(robustness)"
   ]
  },
  {
   "cell_type": "markdown",
   "metadata": {},
   "source": [
    "# Using three labels instead of 10\n",
    "### label = 1   if review_score > 7\n",
    "### label = 0   if 7 >= review_score >= 4\n",
    "### label = -1  if review_score < 4"
   ]
  },
  {
   "cell_type": "code",
   "execution_count": null,
   "metadata": {},
   "outputs": [],
   "source": [
    "robustness_tri = pickle.load(open(\"../results/robustness_tri.results\", \"rb\"))\n",
    "robustness_tri.keys()"
   ]
  },
  {
   "cell_type": "code",
   "execution_count": null,
   "metadata": {
    "scrolled": false
   },
   "outputs": [],
   "source": [
    "plot_robustness(robustness_tri, accuracy_metric=\"accuracy\")"
   ]
  },
  {
   "cell_type": "code",
   "execution_count": null,
   "metadata": {},
   "outputs": [],
   "source": []
  }
 ],
 "metadata": {
  "kernelspec": {
   "display_name": "Python 3",
   "language": "python",
   "name": "python3"
  },
  "language_info": {
   "codemirror_mode": {
    "name": "ipython",
    "version": 3
   },
   "file_extension": ".py",
   "mimetype": "text/x-python",
   "name": "python",
   "nbconvert_exporter": "python",
   "pygments_lexer": "ipython3",
   "version": "3.5.2"
  }
 },
 "nbformat": 4,
 "nbformat_minor": 2
}
