{
 "cells": [
  {
   "cell_type": "code",
   "execution_count": 1,
   "metadata": {},
   "outputs": [
    {
     "name": "stderr",
     "output_type": "stream",
     "text": [
      "/usr/local/lib/python3.5/dist-packages/h5py/__init__.py:36: FutureWarning: Conversion of the second argument of issubdtype from `float` to `np.floating` is deprecated. In future, it will be treated as `np.float64 == np.dtype(float).type`.\n",
      "  from ._conv import register_converters as _register_converters\n"
     ]
    }
   ],
   "source": [
    "import tensorflow as tf\n",
    "import pickle, pandas as pd, re, numpy as np, ast, warnings\n",
    "\n",
    "from joblib import Parallel, delayed\n",
    "\n",
    "import time\n",
    "from copy import deepcopy\n",
    "from collections import defaultdict, OrderedDict\n",
    "from itertools import chain, starmap\n",
    "from itertools import product\n",
    "import unicodedata\n",
    "from sklearn.linear_model import LinearRegression, LogisticRegression\n",
    "from sklearn.neural_network import MLPRegressor, MLPClassifier\n",
    "from sklearn.svm import SVR\n",
    "from sklearn.ensemble import RandomForestRegressor, RandomForestClassifier\n",
    "from sklearn.neighbors import KNeighborsClassifier\n",
    "from sklearn.metrics import f1_score, precision_score, accuracy_score, log_loss\n",
    "from sklearn.preprocessing import StandardScaler\n",
    "from sklearn.decomposition import PCA\n",
    "from sklearn.model_selection import StratifiedKFold\n",
    "from sklearn.pipeline import Pipeline\n",
    "\n",
    "from TurkishStemmer import TurkishStemmer\n",
    "warnings.filterwarnings(action='ignore', category=UserWarning, module='gensim')\n",
    "import gensim\n",
    "from textblob import TextBlob"
   ]
  },
  {
   "cell_type": "code",
   "execution_count": 2,
   "metadata": {},
   "outputs": [],
   "source": [
    "def reset_graph(seed=42):\n",
    "    tf.reset_default_graph()\n",
    "    tf.set_random_seed(seed)\n",
    "    np.random.seed(seed)\n",
    "    \n",
    "reset_graph()"
   ]
  },
  {
   "cell_type": "code",
   "execution_count": 3,
   "metadata": {},
   "outputs": [
    {
     "data": {
      "text/html": [
       "<div>\n",
       "<style scoped>\n",
       "    .dataframe tbody tr th:only-of-type {\n",
       "        vertical-align: middle;\n",
       "    }\n",
       "\n",
       "    .dataframe tbody tr th {\n",
       "        vertical-align: top;\n",
       "    }\n",
       "\n",
       "    .dataframe thead th {\n",
       "        text-align: right;\n",
       "    }\n",
       "</style>\n",
       "<table border=\"1\" class=\"dataframe\">\n",
       "  <thead>\n",
       "    <tr style=\"text-align: right;\">\n",
       "      <th></th>\n",
       "      <th>Language</th>\n",
       "      <th>Movie_ID</th>\n",
       "      <th>Review</th>\n",
       "      <th>Score</th>\n",
       "    </tr>\n",
       "  </thead>\n",
       "  <tbody>\n",
       "    <tr>\n",
       "      <th>0</th>\n",
       "      <td>en</td>\n",
       "      <td>-800777728</td>\n",
       "      <td>i love science fiction and i hate superheroes ...</td>\n",
       "      <td>9</td>\n",
       "    </tr>\n",
       "    <tr>\n",
       "      <th>1</th>\n",
       "      <td>en</td>\n",
       "      <td>-800777728</td>\n",
       "      <td>the movie is absolutely incredible all the per...</td>\n",
       "      <td>10</td>\n",
       "    </tr>\n",
       "    <tr>\n",
       "      <th>2</th>\n",
       "      <td>en</td>\n",
       "      <td>-1018312192</td>\n",
       "      <td>in a cinematic era dominated by reboots and mi...</td>\n",
       "      <td>8</td>\n",
       "    </tr>\n",
       "    <tr>\n",
       "      <th>3</th>\n",
       "      <td>en</td>\n",
       "      <td>-1018312192</td>\n",
       "      <td>movie review on rise of the planet of the apes...</td>\n",
       "      <td>4</td>\n",
       "    </tr>\n",
       "    <tr>\n",
       "      <th>4</th>\n",
       "      <td>en</td>\n",
       "      <td>-1018312192</td>\n",
       "      <td>during experiments to find a cure for alzheime...</td>\n",
       "      <td>7</td>\n",
       "    </tr>\n",
       "  </tbody>\n",
       "</table>\n",
       "</div>"
      ],
      "text/plain": [
       "  Language    Movie_ID                                             Review  \\\n",
       "0       en  -800777728  i love science fiction and i hate superheroes ...   \n",
       "1       en  -800777728  the movie is absolutely incredible all the per...   \n",
       "2       en -1018312192  in a cinematic era dominated by reboots and mi...   \n",
       "3       en -1018312192  movie review on rise of the planet of the apes...   \n",
       "4       en -1018312192  during experiments to find a cure for alzheime...   \n",
       "\n",
       "   Score  \n",
       "0      9  \n",
       "1     10  \n",
       "2      8  \n",
       "3      4  \n",
       "4      7  "
      ]
     },
     "execution_count": 3,
     "metadata": {},
     "output_type": "execute_result"
    }
   ],
   "source": [
    "df_full = pd.read_csv(\"../datasets/movie_data.csv\")\n",
    "df_full.head()"
   ]
  },
  {
   "cell_type": "code",
   "execution_count": 4,
   "metadata": {},
   "outputs": [
    {
     "data": {
      "text/html": [
       "<div>\n",
       "<style scoped>\n",
       "    .dataframe tbody tr th:only-of-type {\n",
       "        vertical-align: middle;\n",
       "    }\n",
       "\n",
       "    .dataframe tbody tr th {\n",
       "        vertical-align: top;\n",
       "    }\n",
       "\n",
       "    .dataframe thead th {\n",
       "        text-align: right;\n",
       "    }\n",
       "</style>\n",
       "<table border=\"1\" class=\"dataframe\">\n",
       "  <thead>\n",
       "    <tr style=\"text-align: right;\">\n",
       "      <th></th>\n",
       "      <th>Language</th>\n",
       "      <th>Movie_ID</th>\n",
       "      <th>Review</th>\n",
       "    </tr>\n",
       "    <tr>\n",
       "      <th>Score</th>\n",
       "      <th></th>\n",
       "      <th></th>\n",
       "      <th></th>\n",
       "    </tr>\n",
       "  </thead>\n",
       "  <tbody>\n",
       "    <tr>\n",
       "      <th>1</th>\n",
       "      <td>29</td>\n",
       "      <td>29</td>\n",
       "      <td>29</td>\n",
       "    </tr>\n",
       "    <tr>\n",
       "      <th>2</th>\n",
       "      <td>21</td>\n",
       "      <td>21</td>\n",
       "      <td>21</td>\n",
       "    </tr>\n",
       "    <tr>\n",
       "      <th>3</th>\n",
       "      <td>14</td>\n",
       "      <td>14</td>\n",
       "      <td>14</td>\n",
       "    </tr>\n",
       "    <tr>\n",
       "      <th>4</th>\n",
       "      <td>23</td>\n",
       "      <td>23</td>\n",
       "      <td>23</td>\n",
       "    </tr>\n",
       "    <tr>\n",
       "      <th>5</th>\n",
       "      <td>83</td>\n",
       "      <td>83</td>\n",
       "      <td>83</td>\n",
       "    </tr>\n",
       "    <tr>\n",
       "      <th>6</th>\n",
       "      <td>43</td>\n",
       "      <td>43</td>\n",
       "      <td>43</td>\n",
       "    </tr>\n",
       "    <tr>\n",
       "      <th>7</th>\n",
       "      <td>71</td>\n",
       "      <td>71</td>\n",
       "      <td>71</td>\n",
       "    </tr>\n",
       "    <tr>\n",
       "      <th>8</th>\n",
       "      <td>207</td>\n",
       "      <td>207</td>\n",
       "      <td>207</td>\n",
       "    </tr>\n",
       "    <tr>\n",
       "      <th>9</th>\n",
       "      <td>175</td>\n",
       "      <td>175</td>\n",
       "      <td>175</td>\n",
       "    </tr>\n",
       "    <tr>\n",
       "      <th>10</th>\n",
       "      <td>334</td>\n",
       "      <td>334</td>\n",
       "      <td>334</td>\n",
       "    </tr>\n",
       "  </tbody>\n",
       "</table>\n",
       "</div>"
      ],
      "text/plain": [
       "       Language  Movie_ID  Review\n",
       "Score                            \n",
       "1            29        29      29\n",
       "2            21        21      21\n",
       "3            14        14      14\n",
       "4            23        23      23\n",
       "5            83        83      83\n",
       "6            43        43      43\n",
       "7            71        71      71\n",
       "8           207       207     207\n",
       "9           175       175     175\n",
       "10          334       334     334"
      ]
     },
     "execution_count": 4,
     "metadata": {},
     "output_type": "execute_result"
    }
   ],
   "source": [
    "df_full.groupby(\"Score\").count()"
   ]
  },
  {
   "cell_type": "code",
   "execution_count": 5,
   "metadata": {},
   "outputs": [],
   "source": [
    "en_vects = gensim.models.KeyedVectors.load_word2vec_format(r\"../../NLP_data/GoogleNews-vectors-negative300.bin\", binary=True)"
   ]
  },
  {
   "cell_type": "code",
   "execution_count": 6,
   "metadata": {},
   "outputs": [],
   "source": [
    "tr_vects = gensim.models.KeyedVectors.load_word2vec_format(r\"../../NLP_data/wiki.tr/wiki.tr.vec\", binary=False)"
   ]
  },
  {
   "cell_type": "code",
   "execution_count": 7,
   "metadata": {},
   "outputs": [],
   "source": [
    "turkish_stemmer = TurkishStemmer()\n",
    "def clean(text, language=\"en\", stem=True):\n",
    "    global turkish_stemmer\n",
    "    text = unicodedata.normalize('NFKD', text).encode('ascii', 'ignore').lower().decode(\"ascii\")\n",
    "    \n",
    "    if language == \"tr\":\n",
    "        if stem:\n",
    "            text= ' '.join([turkish_stemmer.stem(w) for w in text.split()])\n",
    "    text = re.sub(r\"[^A-Za-z0-9^,!.\\/'+-=]\", \" \", text)\n",
    "    text = re.sub(r'[0-9]', '#', text)\n",
    "    text = re.sub(r\",\", \" \", text)\n",
    "    text = re.sub(r\"\\.\", \" \", text)\n",
    "    text = re.sub(r\"!\", \" \", text)\n",
    "    text = re.sub(r\"\\/\", \" \", text)\n",
    "    text = re.sub(r\"\\^\", \" \", text)\n",
    "    text = re.sub(r\"\\+\", \" \", text)\n",
    "    text = re.sub(r\"\\-\", \" \", text)\n",
    "    text = re.sub(r\"\\=\", \" \", text)\n",
    "    text = re.sub(r\"'\", \" \", text)\n",
    "    text = re.sub(r\":\", \" \", text)\n",
    "    text = re.sub(r\"e(\\s)?-(\\s)?mail\", \"email\", text)\n",
    "\n",
    "    text = re.sub(r\"what's\", \"what is \", text)\n",
    "    text = re.sub(r\"\\'s\", \" \", text)\n",
    "    text = re.sub(r\"\\'ve\", \" have \", text)\n",
    "    text = re.sub(r\"can't\", \"cannot \", text)\n",
    "    text = re.sub(r\"n't\", \" not \", text)\n",
    "    text = re.sub(r\"i'm\", \"i am \", text)\n",
    "    text = re.sub(r\"\\'re\", \" are \", text)\n",
    "    text = re.sub(r\"\\'d\", \" would \", text)\n",
    "    text = re.sub(r\"\\'ll\", \" will \", text)\n",
    "    text = re.sub(r\" e g \", \" eg \", text)\n",
    "    text = re.sub(r\" b g \", \" bg \", text)\n",
    "    text = re.sub(r\" u s \", \" american \", text)\n",
    "    return TextBlob(text)\n"
   ]
  },
  {
   "cell_type": "code",
   "execution_count": 8,
   "metadata": {},
   "outputs": [],
   "source": [
    "VECTOR_SIZE = 300\n",
    "def vectorize(text, language):\n",
    "    global VECTOR_SIZE            \n",
    "    blob = clean(text, language)\n",
    "    vector = np.zeros(VECTOR_SIZE)\n",
    "    if len(blob.words) < 1:\n",
    "        return None\n",
    "\n",
    "    for word in blob.words:\n",
    "        try:\n",
    "            if language == \"en\":\n",
    "                vector += globals()[\"en_vects\"][word]\n",
    "            else:\n",
    "                vector += globals()[\"tr_vects\"][word]\n",
    "        except KeyError as e:\n",
    "#             warnings.warn(str(e))\n",
    "            continue\n",
    "    vector /= max(len(blob.words),1)\n",
    "    return vector"
   ]
  },
  {
   "cell_type": "code",
   "execution_count": 9,
   "metadata": {},
   "outputs": [],
   "source": [
    "def getvec(x):\n",
    "    lang, rev = x.split(\":::::\")\n",
    "    return vectorize(rev, lang)"
   ]
  },
  {
   "cell_type": "code",
   "execution_count": 10,
   "metadata": {},
   "outputs": [],
   "source": [
    "# LMSR\n",
    "def preprocess_data(df, language_column=\"Language\", review_column=\"Review\"):\n",
    "    LMSR_df = df.copy()\n",
    "    LMSR_df[\"lang_rev\"] = LMSR_df[[language_column, review_column]].apply(lambda x: x[0]+\":::::\"+x[1], axis=1)\n",
    "    LMSR_df[\"rev_vec\"] = LMSR_df[\"lang_rev\"].apply(lambda x:getvec(x))\n",
    "    LMSR_df.drop([\"lang_rev\", \"Review\"], axis=1, inplace=True)\n",
    "    return LMSR_df"
   ]
  },
  {
   "cell_type": "code",
   "execution_count": 11,
   "metadata": {},
   "outputs": [],
   "source": [
    "def distance_accuracy(y_true, y_predict):\n",
    "    res = 0\n",
    "    for i in range(len(y_true)):\n",
    "        res += abs(y_true[i]-y_predict[i])\n",
    "    return 1-res/(len(y_true)*len(set(y_true)))"
   ]
  },
  {
   "cell_type": "code",
   "execution_count": 12,
   "metadata": {},
   "outputs": [],
   "source": [
    "def get_XYy(LMSR):\n",
    "    X = np.zeros((len(LMSR), VECTOR_SIZE))\n",
    "    Y = np.zeros((len(LMSR), VECTOR_SIZE))\n",
    "    y = np.zeros((len(LMSR)))\n",
    "    i = 0\n",
    "    for rev in LMSR.iterrows():\n",
    "        score = rev[1][2]\n",
    "        rev_vec = rev[1][3]\n",
    "        score_vec = rev[1][4]\n",
    "\n",
    "        X[i] = rev_vec\n",
    "        Y[i] = score_vec\n",
    "        y[i] = score\n",
    "\n",
    "        i += 1\n",
    "    return X, Y, y"
   ]
  },
  {
   "cell_type": "code",
   "execution_count": 13,
   "metadata": {},
   "outputs": [],
   "source": [
    "def softmax(x):\n",
    "    \"\"\"Compute softmax values for each sets of scores in x.\"\"\"\n",
    "    e_x = np.exp(x - np.max(x))\n",
    "    return e_x / e_x.sum()"
   ]
  },
  {
   "cell_type": "code",
   "execution_count": 14,
   "metadata": {},
   "outputs": [],
   "source": [
    "def sigmoid(x, derive=False):\n",
    "    if derive:\n",
    "        return x*(1-x)\n",
    "    return 1/(1+np.exp(-x))"
   ]
  },
  {
   "cell_type": "code",
   "execution_count": 15,
   "metadata": {},
   "outputs": [],
   "source": [
    "def get_data_dict(df, get_L2and3=False):\n",
    "    data_dict = dict() #{language:{score: {movie_id: [rev1, rev2, ..., revn]}}}\n",
    "    L1 = dict()  # {(languge, score, movie_id): list of reviews with the same score with the same language}\n",
    "    L2 = dict()  # {(language, score): None}\n",
    "    L3 = dict()  # {score: None}\n",
    "    for _, row in df.iterrows():\n",
    "        lang = row[\"Language\"]\n",
    "        movie_id = row[\"Movie_ID\"]\n",
    "        score = row[\"Score\"]\n",
    "        review = row[\"rev_vec\"]\n",
    "\n",
    "        data_dict.setdefault(lang, {})\n",
    "        data_dict[lang].setdefault(score, {})\n",
    "        data_dict[lang][score].setdefault(movie_id, [])\n",
    "        data_dict[lang][score][movie_id].append(review)\n",
    "        \n",
    "        L1.setdefault((lang, score, movie_id), list())\n",
    "        L1[(lang, score, movie_id)].append(review)\n",
    "        if get_L2and3:    \n",
    "            L2[(lang, score)] = None\n",
    "            L3[score] = None\n",
    "    if get_L2and3:\n",
    "        return data_dict, L1, L2, L3\n",
    "    return data_dict, L1"
   ]
  },
  {
   "cell_type": "code",
   "execution_count": 16,
   "metadata": {},
   "outputs": [],
   "source": [
    "def get_L2(LSM_R, data_dict):\n",
    "    L2 = dict()  # {(language, score): list of movies vectors}\n",
    "    for language in data_dict:\n",
    "        for score in data_dict[language]:\n",
    "            for movie_id in data_dict[language][score]:\n",
    "                L2.setdefault((language, score), list())\n",
    "                L2[(language, score)].append(LSM_R[(language, score, movie_id)])\n",
    "    return L2"
   ]
  },
  {
   "cell_type": "code",
   "execution_count": 17,
   "metadata": {},
   "outputs": [],
   "source": [
    "def get_L3(LS_MR, data_dict):\n",
    "    L3 = dict()  # {score: vector of merged languages for that score}\n",
    "    for language in data_dict:\n",
    "        for score in data_dict[language]:\n",
    "            L3.setdefault(score, list())\n",
    "            L3[score].append(LS_MR[(language, score)])\n",
    "    return L3"
   ]
  },
  {
   "cell_type": "code",
   "execution_count": 18,
   "metadata": {},
   "outputs": [],
   "source": [
    "def merge(L, W):\n",
    "    merged = dict()  # {item: vector of merged subitems}\n",
    "    for i, item in enumerate(sorted(L)):\n",
    "        for subitem in L[item]:\n",
    "            merged.setdefault(item, [np.zeros(VECTOR_SIZE),0])\n",
    "            merged[item][0] += sigmoid(subitem.dot(W[i]))\n",
    "            merged[item][1] += 1\n",
    "    for item in merged:\n",
    "        merged[item] = merged[item][0]/ merged[item][1]\n",
    "    return merged"
   ]
  },
  {
   "cell_type": "code",
   "execution_count": 19,
   "metadata": {},
   "outputs": [],
   "source": [
    "def update_weights(L, delta, W, alpha=0.1):\n",
    "    for i, k in enumerate(sorted(L)):\n",
    "        for l in L[k]:\n",
    "            W[i] += l.T.dot(delta[i]) *alpha\n",
    "    return W"
   ]
  },
  {
   "cell_type": "code",
   "execution_count": 20,
   "metadata": {},
   "outputs": [],
   "source": [
    "def get_layer_error(delta, W):\n",
    "    error = 0\n",
    "    for i in range(len(delta)):\n",
    "        error += delta[i].dot(W[i].T)\n",
    "    return error/len(delta)"
   ]
  },
  {
   "cell_type": "code",
   "execution_count": 21,
   "metadata": {},
   "outputs": [],
   "source": [
    "def get_layer_delta(error, layer, size):\n",
    "    delta = np.zeros((size, VECTOR_SIZE))\n",
    "    j = 0\n",
    "    for i,k in enumerate(sorted(layer)):\n",
    "        for l in layer[k]:\n",
    "            delta[j] = error[i]*sigmoid(l, True)\n",
    "            j += 1\n",
    "    return delta"
   ]
  },
  {
   "cell_type": "markdown",
   "metadata": {},
   "source": [
    "## Training"
   ]
  },
  {
   "cell_type": "markdown",
   "metadata": {},
   "source": [
    "## Full-batch"
   ]
  },
  {
   "cell_type": "code",
   "execution_count": 22,
   "metadata": {},
   "outputs": [],
   "source": [
    "def get_score_vects(df, iterations=100, alpha=0.1, random_state=42, W1=None, W2=None, W3=None, W4=None):\n",
    "    LSMR = preprocess_data(df)\n",
    "    data_dict, L1 = get_data_dict(LSMR)\n",
    "    y = softmax(list(LSMR.Score))\n",
    "#     np.random.seed(random_state)\n",
    "    learning_curve = dict()\n",
    "    for i in range(iterations+1):\n",
    "        # forward propagation\n",
    "        if W1 is None:\n",
    "            W1 = 2*np.random.random((len(L1), 300, 300))-1\n",
    "\n",
    "        LSM_R = merge(L1, W1)\n",
    "        L2 = get_L2(LSM_R, data_dict)\n",
    "        if W2 is None:\n",
    "            W2 = 2*np.random.random((len(L2), 300, 300))-1\n",
    "\n",
    "        LS_MR = merge(L2, W2)\n",
    "        L3 = get_L3(LS_MR, data_dict)\n",
    "        if W3 is None:\n",
    "            W3 = 2*np.random.random((len(L3), 300, 300))-1\n",
    "\n",
    "        score_vectors_dict = merge(L3, W3)\n",
    "        l4 = sigmoid(np.array([v for k, v in sorted(score_vectors_dict.items())]))\n",
    "        if W4 is None:\n",
    "            W4 = 2*np.random.random((300, len(LSMR)))-1\n",
    "        \n",
    "        l5 = softmax(l4.dot(W4))  # predicted scores\n",
    "        \n",
    "        # Calculate the error\n",
    "        l5_error = np.mean(np.dot(np.log(l5), y))\n",
    "        \n",
    "        # Back propagation\n",
    "        l5_delta = l5_error * sigmoid(l5, True)\n",
    "        W4 += l4.T.dot(l5_delta)*alpha\n",
    "        \n",
    "        l4_error = l5_delta.dot(W4.T)\n",
    "        l4_delta = l4_error * sigmoid(l4, True)\n",
    "        \n",
    "        W3 = update_weights(L3, l4_delta, W3, alpha)\n",
    "        \n",
    "        l3_error = get_layer_error(l4_delta, W3)\n",
    "        l3_delta = get_layer_delta(l3_error, L3, len(L2))\n",
    "        \n",
    "        W2 = update_weights(L2, l3_delta, W2, alpha)\n",
    "        \n",
    "        l2_error = get_layer_error(l3_delta, W2)\n",
    "        l2_delta = get_layer_delta(l2_error, L2, len(LSMR))\n",
    "        \n",
    "        W1 = update_weights(L1, l2_delta, W1, alpha)\n",
    "        learning_curve[i] = l5_error\n",
    "        if i%10 == 0:\n",
    "            print(\"epoch {}:\\t{}\".format(i, np.abs(l5_error)))\n",
    "        if i%100 == 0:\n",
    "            alpha *= 0.9\n",
    "    return LSMR, score_vectors_dict, learning_curve"
   ]
  },
  {
   "cell_type": "code",
   "execution_count": 23,
   "metadata": {},
   "outputs": [],
   "source": [
    "def fit(LSMR, score_vect_dicts,random_state=42, regressor=MLPRegressor(), classifier=MLPClassifier()):\n",
    "    LSMR[\"score_vec\"] = LSMR[\"Score\"].apply(lambda x: score_vect_dicts[x] if x in score_vect_dicts else np.NaN)\n",
    "    LSMR.dropna(inplace=True)\n",
    "    \n",
    "    X, Y, y = get_XYy(LSMR)\n",
    "    \n",
    "    regressor.random_state = random_state\n",
    "    classifier.random_state = random_state\n",
    "        \n",
    "    regressor.fit(X, Y)\n",
    "    classifier.fit(Y, y)\n",
    "    return regressor, classifier"
   ]
  },
  {
   "cell_type": "code",
   "execution_count": 24,
   "metadata": {},
   "outputs": [],
   "source": [
    "def predict(LSMR, score_vect_dicts, regressor, classifier):\n",
    "    LSMR[\"score_vec\"] = LSMR[\"Score\"].apply(lambda x: score_vect_dicts[x] if x in score_vect_dicts else np.NaN)\n",
    "    LSMR.dropna(inplace=True)\n",
    "    \n",
    "    X, Y, y = get_XYy(LSMR)\n",
    "    \n",
    "    preds_score_vecs = regressor.predict(X)\n",
    "    pred_scores = classifier.predict(preds_score_vecs)\n",
    "    \n",
    "    return pred_scores, y"
   ]
  },
  {
   "cell_type": "code",
   "execution_count": 60,
   "metadata": {},
   "outputs": [],
   "source": [
    "def get_separate_test_indices(df,size=100):\n",
    "    tr_reviews = df[df.Language==\"tr\"]\n",
    "    classes = list(set(tr_reviews[\"Score\"]))\n",
    "    indices = []\n",
    "    for s in classes:\n",
    "        indices += list(np.random.choice(tr_reviews[tr_reviews.Score==s].index, int(size/len(classes))))\n",
    "    return indices"
   ]
  },
  {
   "cell_type": "code",
   "execution_count": 61,
   "metadata": {},
   "outputs": [
    {
     "data": {
      "text/plain": [
       "Language    0\n",
       "Movie_ID    0\n",
       "Score       0\n",
       "rev_vec     0\n",
       "dtype: int64"
      ]
     },
     "execution_count": 61,
     "metadata": {},
     "output_type": "execute_result"
    }
   ],
   "source": [
    "tr_test_indices = get_separate_test_indices(df_full)\n",
    "\n",
    "tronly_test_raw = df_full.loc[tr_test_indices]\n",
    "tronly_test = preprocess_data(tronly_test_raw)\n",
    "tronly_test[tronly_test.Language==\"en\"].count()"
   ]
  },
  {
   "cell_type": "code",
   "execution_count": 62,
   "metadata": {},
   "outputs": [
    {
     "data": {
      "text/html": [
       "<div>\n",
       "<style scoped>\n",
       "    .dataframe tbody tr th:only-of-type {\n",
       "        vertical-align: middle;\n",
       "    }\n",
       "\n",
       "    .dataframe tbody tr th {\n",
       "        vertical-align: top;\n",
       "    }\n",
       "\n",
       "    .dataframe thead th {\n",
       "        text-align: right;\n",
       "    }\n",
       "</style>\n",
       "<table border=\"1\" class=\"dataframe\">\n",
       "  <thead>\n",
       "    <tr style=\"text-align: right;\">\n",
       "      <th></th>\n",
       "      <th>Language</th>\n",
       "      <th>Movie_ID</th>\n",
       "      <th>Review</th>\n",
       "    </tr>\n",
       "    <tr>\n",
       "      <th>Score</th>\n",
       "      <th></th>\n",
       "      <th></th>\n",
       "      <th></th>\n",
       "    </tr>\n",
       "  </thead>\n",
       "  <tbody>\n",
       "    <tr>\n",
       "      <th>1</th>\n",
       "      <td>11</td>\n",
       "      <td>11</td>\n",
       "      <td>11</td>\n",
       "    </tr>\n",
       "    <tr>\n",
       "      <th>2</th>\n",
       "      <td>11</td>\n",
       "      <td>11</td>\n",
       "      <td>11</td>\n",
       "    </tr>\n",
       "    <tr>\n",
       "      <th>4</th>\n",
       "      <td>11</td>\n",
       "      <td>11</td>\n",
       "      <td>11</td>\n",
       "    </tr>\n",
       "    <tr>\n",
       "      <th>5</th>\n",
       "      <td>11</td>\n",
       "      <td>11</td>\n",
       "      <td>11</td>\n",
       "    </tr>\n",
       "    <tr>\n",
       "      <th>6</th>\n",
       "      <td>11</td>\n",
       "      <td>11</td>\n",
       "      <td>11</td>\n",
       "    </tr>\n",
       "    <tr>\n",
       "      <th>7</th>\n",
       "      <td>11</td>\n",
       "      <td>11</td>\n",
       "      <td>11</td>\n",
       "    </tr>\n",
       "    <tr>\n",
       "      <th>8</th>\n",
       "      <td>11</td>\n",
       "      <td>11</td>\n",
       "      <td>11</td>\n",
       "    </tr>\n",
       "    <tr>\n",
       "      <th>9</th>\n",
       "      <td>11</td>\n",
       "      <td>11</td>\n",
       "      <td>11</td>\n",
       "    </tr>\n",
       "    <tr>\n",
       "      <th>10</th>\n",
       "      <td>11</td>\n",
       "      <td>11</td>\n",
       "      <td>11</td>\n",
       "    </tr>\n",
       "  </tbody>\n",
       "</table>\n",
       "</div>"
      ],
      "text/plain": [
       "       Language  Movie_ID  Review\n",
       "Score                            \n",
       "1            11        11      11\n",
       "2            11        11      11\n",
       "4            11        11      11\n",
       "5            11        11      11\n",
       "6            11        11      11\n",
       "7            11        11      11\n",
       "8            11        11      11\n",
       "9            11        11      11\n",
       "10           11        11      11"
      ]
     },
     "execution_count": 62,
     "metadata": {},
     "output_type": "execute_result"
    }
   ],
   "source": [
    "tronly_test_raw.groupby(\"Score\").count()"
   ]
  },
  {
   "cell_type": "code",
   "execution_count": 63,
   "metadata": {},
   "outputs": [
    {
     "data": {
      "text/html": [
       "<div>\n",
       "<style scoped>\n",
       "    .dataframe tbody tr th:only-of-type {\n",
       "        vertical-align: middle;\n",
       "    }\n",
       "\n",
       "    .dataframe tbody tr th {\n",
       "        vertical-align: top;\n",
       "    }\n",
       "\n",
       "    .dataframe thead th {\n",
       "        text-align: right;\n",
       "    }\n",
       "</style>\n",
       "<table border=\"1\" class=\"dataframe\">\n",
       "  <thead>\n",
       "    <tr style=\"text-align: right;\">\n",
       "      <th></th>\n",
       "      <th>Language</th>\n",
       "      <th>Movie_ID</th>\n",
       "      <th>Review</th>\n",
       "    </tr>\n",
       "    <tr>\n",
       "      <th>Score</th>\n",
       "      <th></th>\n",
       "      <th></th>\n",
       "      <th></th>\n",
       "    </tr>\n",
       "  </thead>\n",
       "  <tbody>\n",
       "    <tr>\n",
       "      <th>1</th>\n",
       "      <td>22</td>\n",
       "      <td>22</td>\n",
       "      <td>22</td>\n",
       "    </tr>\n",
       "    <tr>\n",
       "      <th>2</th>\n",
       "      <td>13</td>\n",
       "      <td>13</td>\n",
       "      <td>13</td>\n",
       "    </tr>\n",
       "    <tr>\n",
       "      <th>3</th>\n",
       "      <td>14</td>\n",
       "      <td>14</td>\n",
       "      <td>14</td>\n",
       "    </tr>\n",
       "    <tr>\n",
       "      <th>4</th>\n",
       "      <td>19</td>\n",
       "      <td>19</td>\n",
       "      <td>19</td>\n",
       "    </tr>\n",
       "    <tr>\n",
       "      <th>5</th>\n",
       "      <td>72</td>\n",
       "      <td>72</td>\n",
       "      <td>72</td>\n",
       "    </tr>\n",
       "    <tr>\n",
       "      <th>6</th>\n",
       "      <td>34</td>\n",
       "      <td>34</td>\n",
       "      <td>34</td>\n",
       "    </tr>\n",
       "    <tr>\n",
       "      <th>7</th>\n",
       "      <td>63</td>\n",
       "      <td>63</td>\n",
       "      <td>63</td>\n",
       "    </tr>\n",
       "    <tr>\n",
       "      <th>8</th>\n",
       "      <td>197</td>\n",
       "      <td>197</td>\n",
       "      <td>197</td>\n",
       "    </tr>\n",
       "    <tr>\n",
       "      <th>9</th>\n",
       "      <td>164</td>\n",
       "      <td>164</td>\n",
       "      <td>164</td>\n",
       "    </tr>\n",
       "    <tr>\n",
       "      <th>10</th>\n",
       "      <td>323</td>\n",
       "      <td>323</td>\n",
       "      <td>323</td>\n",
       "    </tr>\n",
       "  </tbody>\n",
       "</table>\n",
       "</div>"
      ],
      "text/plain": [
       "       Language  Movie_ID  Review\n",
       "Score                            \n",
       "1            22        22      22\n",
       "2            13        13      13\n",
       "3            14        14      14\n",
       "4            19        19      19\n",
       "5            72        72      72\n",
       "6            34        34      34\n",
       "7            63        63      63\n",
       "8           197       197     197\n",
       "9           164       164     164\n",
       "10          323       323     323"
      ]
     },
     "execution_count": 63,
     "metadata": {},
     "output_type": "execute_result"
    }
   ],
   "source": [
    "df = df_full.drop(tr_test_indices)\n",
    "df.groupby(\"Score\").count()"
   ]
  },
  {
   "cell_type": "code",
   "execution_count": 232,
   "metadata": {},
   "outputs": [],
   "source": [
    "def eval_models(model, train, test, tronly, ytrain, ytest, ytronly, LL=False, predtrain=False):\n",
    "    \n",
    "    _ = time.time()\n",
    "    model.fit(train, ytrain)\n",
    "    trat = time.time()-_\n",
    "    \n",
    "    _ = time.time()\n",
    "    predtest= model.predict(test)\n",
    "    tet = time.time()-_\n",
    "    s_test = distance_accuracy(ytest, predtest)\n",
    "    f1_test = f1_score(ytest, predtest, average='weighted')\n",
    "    \n",
    "    _ = time.time()\n",
    "    predtronly = model.predict(tronly)\n",
    "    trt = time.time()-_\n",
    "    s_tr = distance_accuracy(ytronly, predtronly)\n",
    "    f1_tronly = f1_score(ytronly, predtronly, average='weighted')\n",
    "    \n",
    "    evals = OrderedDict()\n",
    "\n",
    "    evals[\"Test\"] = s_test\n",
    "    evals[\"Tr. Only\"] = s_tr\n",
    "    evals[\"Training Time\"] = trat\n",
    "    evals[\"Testing Time\"] = tet\n",
    "    evals[\"Tr.Test Time\"] = trt\n",
    "    evals[\"F1 Test\"] = f1_test\n",
    "    evals[\"F1 Tr. only\"] = f1_tronly\n",
    "    if LL:\n",
    "        evals[\"Test_LL\"] = np.NAN\n",
    "        evals[\"Tr. Only_LL\"] = np.NAN\n",
    "    if predtrain:\n",
    "        if LL:\n",
    "            evals[\"Train_LL\"] = np.NAN\n",
    "        _ = time.time()\n",
    "        predicted_train = model.predict(train)\n",
    "        predtra = time.time()-_\n",
    "        s_train = distance_accuracy(ytrain, predicted_train)\n",
    "        f1_train = f1_score(ytrain, predicted_train, average='weighted')\n",
    "        evals[\"F1 Train\"] = f1_train\n",
    "        evals[\"Train\"] = s_train\n",
    "        evals[\"Pred.Tra. Time\"] = predtra\n",
    "    return evals"
   ]
  },
  {
   "cell_type": "code",
   "execution_count": 203,
   "metadata": {},
   "outputs": [],
   "source": [
    "def get_total_average(scores_tables):\n",
    "#     scores_tables: {i_th trial:\n",
    "#                     {k_th fold:\n",
    "#                         {'Model': {'Test': 0.8090301003344482,\n",
    "#                                    'Train': 0.783361064891847,\n",
    "#                                    'Turkish only': 0.7414285714285714}}}\n",
    "    avgs = dict()\n",
    "    for trial in scores_tables:\n",
    "        for table in scores_tables[trial]:\n",
    "            for model in scores_tables[trial][table]:\n",
    "                avgs.setdefault(model, dict())\n",
    "                for metric, score in scores_tables[trial][table][model].items():\n",
    "                    avgs[model].setdefault(metric, list())\n",
    "                    avgs[model][metric].append(score)\n",
    "    for model in avgs:\n",
    "        for metric in avgs[model]:\n",
    "            avgs[model][metric] = np.mean(avgs[model][metric])\n",
    "    return pd.DataFrame(avgs)"
   ]
  },
  {
   "cell_type": "code",
   "execution_count": 204,
   "metadata": {},
   "outputs": [],
   "source": [
    "def get_trial_score(trial_scores_tables):\n",
    "#  trial_scores_tables: {k_th fold:\n",
    "#                             {'Model': {'Test': 0.8090301003344482,\n",
    "#                                        'Train': 0.783361064891847,\n",
    "#                                        'Turkish only': 0.7414285714285714}}}\n",
    "    avgs = dict()\n",
    "    for table in trial_scores_tables:\n",
    "        for model in trial_scores_tables[table]:\n",
    "            avgs.setdefault(model, dict())\n",
    "            for metric, score in trial_scores_tables[table][model].items():\n",
    "                avgs[model].setdefault(metric, list())\n",
    "                avgs[model][metric].append(score)\n",
    "    for model in avgs:\n",
    "        for metric in avgs[model]:\n",
    "            avgs[model][metric] = np.mean(avgs[model][metric])\n",
    "    return pd.DataFrame(avgs)"
   ]
  },
  {
   "cell_type": "code",
   "execution_count": 205,
   "metadata": {},
   "outputs": [],
   "source": [
    "def eval_selectivewaves_regclass(df_, tronly_test_raw, NUM_TRIALS=1, splits=10):  \n",
    "    df = df_.reset_index(drop=True)\n",
    "    learning_curves = dict()\n",
    "    scores_tables = OrderedDict()\n",
    "    tronly_test = preprocess_data(tronly_test_raw)\n",
    "    for i in range(NUM_TRIALS):\n",
    "        print(\"Trial:\\t{}\".format(i+1))\n",
    "        scores_tables[i] = OrderedDict()\n",
    "        learning_curves[i] = OrderedDict()\n",
    "        k = 0\n",
    "        skf = StratifiedKFold(n_splits=splits, random_state=i)\n",
    "        \n",
    "        for train_index, test_index in skf.split(df[\"Review\"], df[\"Language\"]):\n",
    "            print(\"K:\\t{}\".format(k+1))\n",
    "            scores_tables[i][k] = OrderedDict()\n",
    "            start = time.time()\n",
    "            LSMR, score_vect_dicts, training_curve = get_score_vects(\n",
    "                df.loc[train_index], random_state=i, alpha=1e-5, iterations=50)\n",
    "            regressor, classifier = fit(LSMR, score_vect_dicts, random_state=i)\n",
    "            trat = time.time()- start\n",
    "\n",
    "            test_data = preprocess_data(df.loc[test_index])\n",
    "            _ = time.time()\n",
    "            preds, true = predict(test_data, score_vect_dicts, regressor, classifier)\n",
    "            tet = time.time()-_\n",
    "\n",
    "            _ = time.time()\n",
    "            preds_train, true_train = predict(preprocess_data(df.loc[train_index]),\n",
    "                                              score_vect_dicts,\n",
    "                                              regressor, classifier)\n",
    "            predtra = time.time()-_\n",
    "\n",
    "            _ = time.time()\n",
    "            preds_tr, true_tr = predict(tronly_test, score_vect_dicts, regressor, classifier)\n",
    "            trt = time.time()-_\n",
    "\n",
    "            elapsed = time.time()-start\n",
    "\n",
    "            s = distance_accuracy(true, preds)\n",
    "            f1_test = f1_score(true, preds, average='weighted')\n",
    "\n",
    "            s_train = distance_accuracy(true_train, preds_train)\n",
    "            f1_train = f1_score(true_train, preds_train, average='weighted')\n",
    "\n",
    "            s_tr = distance_accuracy(true_tr, preds_tr)\n",
    "            f1_tronly = f1_test = f1_score(true_tr, preds_tr, average='weighted')        \n",
    "\n",
    "\n",
    "            lr = LogisticRegression(random_state=i)\n",
    "            mlp = MLPClassifier(random_state=i)\n",
    "            rf = RandomForestClassifier(random_state=i,n_jobs=-1)\n",
    "            train_mat = np.array(list(LSMR[\"rev_vec\"]))\n",
    "            test_mat = np.array(list(test_data[\"rev_vec\"]))\n",
    "            tronly_mat = np.array(list(tronly_test[\"rev_vec\"]))\n",
    "\n",
    "            evals = OrderedDict()\n",
    "            evals[\"Train\"] = s_train\n",
    "            evals[\"Test\"] = s\n",
    "            evals[\"Tr. Only\"] = s_tr\n",
    "            evals[\"Training Time\"] = trat\n",
    "            evals[\"Pred.Tra. Time\"] = predtra\n",
    "            evals[\"Testing Time\"] = tet\n",
    "            evals[\"Tr.Test Time\"] = trt\n",
    "            evals[\"F1 Test\"] = f1_test\n",
    "            evals[\"F1 Train\"] = f1_train\n",
    "            evals[\"F1 Tr. only\"] = f1_tronly\n",
    "            scores_tables[i][k][\"DeepSelect\"] = evals\n",
    "            scores_tables[i][k][\"MLP\"] = eval_models(\n",
    "                mlp, train_mat, test_mat, tronly_mat, true_train, true, true_tr)\n",
    "            scores_tables[i][k][\"Logistic Regression\"] = eval_models(\n",
    "                lr, train_mat, test_mat, tronly_mat, true_train, true, true_tr)\n",
    "            scores_tables[i][k][\"RandomForest\"] = eval_models(\n",
    "                rf, train_mat, test_mat, tronly_mat, true_train, true, true_tr)\n",
    "\n",
    "            print()\n",
    "            print(\"K:\\t{}\".format(k+1))\n",
    "            print(pd.DataFrame(scores_tables[i][k]))\n",
    "            print(\"\\nThis fold took:\", elapsed, \"seconds\\n\")\n",
    "            learning_curves[i][k] = training_curve\n",
    "            k += 1\n",
    "            print(\"*\"*10+\"\\n\")\n",
    "        print(\"Average scores for trial {}\".format(i))\n",
    "        print(get_trial_score(scores_tables[i]))\n",
    "        print(\"-\"*30)\n",
    "    print(\"%%\"*20)\n",
    "    print(\"Average of {} trials\".format(NUM_TRIALS))\n",
    "    print(get_total_average(scores_tables))\n",
    "    return scores_tables"
   ]
  },
  {
   "cell_type": "code",
   "execution_count": 98,
   "metadata": {
    "scrolled": true
   },
   "outputs": [
    {
     "name": "stdout",
     "output_type": "stream",
     "text": [
      "Trial:\t1\n",
      "K:\t1\n",
      "epoch 0:\t27.087478343729618\n",
      "epoch 10:\t26.57558277245665\n",
      "epoch 20:\t26.046982903887965\n",
      "epoch 30:\t25.591536124258603\n",
      "epoch 40:\t25.205334499737532\n",
      "epoch 50:\t24.836572533010006\n"
     ]
    },
    {
     "name": "stderr",
     "output_type": "stream",
     "text": [
      "/usr/local/lib/python3.5/dist-packages/sklearn/metrics/classification.py:1135: UndefinedMetricWarning: F-score is ill-defined and being set to 0.0 in labels with no predicted samples.\n",
      "  'precision', 'predicted', average, warn_for)\n",
      "/usr/local/lib/python3.5/dist-packages/sklearn/neural_network/multilayer_perceptron.py:564: ConvergenceWarning: Stochastic Optimizer: Maximum iterations (200) reached and the optimization hasn't converged yet.\n",
      "  % self.max_iter, ConvergenceWarning)\n",
      "/usr/local/lib/python3.5/dist-packages/sklearn/metrics/classification.py:1135: UndefinedMetricWarning: F-score is ill-defined and being set to 0.0 in labels with no predicted samples.\n",
      "  'precision', 'predicted', average, warn_for)\n"
     ]
    },
    {
     "name": "stdout",
     "output_type": "stream",
     "text": [
      "\n",
      "K:\t1\n",
      "                DeepSelect       MLP  Logistic Regression  RandomForest\n",
      "F1 Test           0.064553  0.187732             0.199164      0.252325\n",
      "F1 Tr. only       0.064553  0.089139             0.057121      0.097973\n",
      "F1 Train          0.389965  0.565241             0.347702      0.989119\n",
      "Pred.Tra. Time    1.924803  1.613086             0.158243      0.108836\n",
      "Test              0.799731  0.778226             0.793011      0.803763\n",
      "Testing Time      0.010773  0.000325             0.000103      0.104990\n",
      "Tr. Only          0.632997  0.643098             0.643098      0.635241\n",
      "Tr.Test Time      0.009949  0.000321             0.000098      0.102400\n",
      "Train             0.848188  0.878502             0.837681      0.996860\n",
      "Training Time    17.599797  0.001927             0.000732      0.102657\n",
      "\n",
      "This fold took: 19.793676614761353 seconds\n",
      "\n",
      "**********\n",
      "\n",
      "K:\t2\n",
      "epoch 0:\t25.19901591461401\n",
      "epoch 10:\t24.782849680988356\n",
      "epoch 20:\t24.55355017161575\n",
      "epoch 30:\t24.404704002828826\n",
      "epoch 40:\t24.27720230523009\n",
      "epoch 50:\t24.088656158641566\n"
     ]
    },
    {
     "name": "stderr",
     "output_type": "stream",
     "text": [
      "/usr/local/lib/python3.5/dist-packages/sklearn/neural_network/multilayer_perceptron.py:564: ConvergenceWarning: Stochastic Optimizer: Maximum iterations (200) reached and the optimization hasn't converged yet.\n",
      "  % self.max_iter, ConvergenceWarning)\n",
      "/usr/local/lib/python3.5/dist-packages/sklearn/metrics/classification.py:1135: UndefinedMetricWarning: F-score is ill-defined and being set to 0.0 in labels with no predicted samples.\n",
      "  'precision', 'predicted', average, warn_for)\n"
     ]
    },
    {
     "name": "stdout",
     "output_type": "stream",
     "text": [
      "\n",
      "K:\t2\n",
      "                DeepSelect       MLP  Logistic Regression  RandomForest\n",
      "F1 Test           0.022426  0.233954             0.230137      0.212696\n",
      "F1 Tr. only       0.022426  0.053324             0.059326      0.035308\n",
      "F1 Train          0.256932  0.556177             0.339311      0.985555\n",
      "Pred.Tra. Time    1.769623  1.586268             0.166189      0.108715\n",
      "Test              0.789130  0.795652             0.798913      0.792391\n",
      "Testing Time      0.009800  0.011693             0.000104      0.105778\n",
      "Tr. Only          0.676768  0.620651             0.632997      0.622896\n",
      "Tr.Test Time      0.013284  0.005169             0.000099      0.105454\n",
      "Train             0.829312  0.880217             0.841496      0.996984\n",
      "Training Time    15.942431  0.001550             0.000828      0.103501\n",
      "\n",
      "This fold took: 17.94920539855957 seconds\n",
      "\n",
      "**********\n",
      "\n",
      "K:\t3\n",
      "epoch 0:\t22.330001807262242\n",
      "epoch 10:\t22.138615499687234\n",
      "epoch 20:\t22.028359736816785\n",
      "epoch 30:\t21.93013722554206\n",
      "epoch 40:\t21.82146438695881\n",
      "epoch 50:\t21.717710157528188\n"
     ]
    },
    {
     "name": "stderr",
     "output_type": "stream",
     "text": [
      "/usr/local/lib/python3.5/dist-packages/sklearn/neural_network/multilayer_perceptron.py:564: ConvergenceWarning: Stochastic Optimizer: Maximum iterations (200) reached and the optimization hasn't converged yet.\n",
      "  % self.max_iter, ConvergenceWarning)\n",
      "/usr/local/lib/python3.5/dist-packages/sklearn/metrics/classification.py:1135: UndefinedMetricWarning: F-score is ill-defined and being set to 0.0 in labels with no predicted samples.\n",
      "  'precision', 'predicted', average, warn_for)\n",
      "/usr/local/lib/python3.5/dist-packages/sklearn/metrics/classification.py:1137: UndefinedMetricWarning: F-score is ill-defined and being set to 0.0 in labels with no true samples.\n",
      "  'recall', 'true', average, warn_for)\n"
     ]
    },
    {
     "name": "stdout",
     "output_type": "stream",
     "text": [
      "\n",
      "K:\t3\n",
      "                DeepSelect       MLP  Logistic Regression  RandomForest\n",
      "F1 Test           0.033921  0.255086             0.236901      0.219391\n",
      "F1 Tr. only       0.033921  0.047787             0.049390      0.046170\n",
      "F1 Train          0.266732  0.569112             0.342948      0.991520\n",
      "Pred.Tra. Time    1.701339  1.538854             0.166771      0.108189\n",
      "Test              0.792271  0.797101             0.799517      0.768116\n",
      "Testing Time      0.009159  0.000319             0.000103      0.105309\n",
      "Tr. Only          0.672278  0.620651             0.638608      0.612795\n",
      "Tr.Test Time      0.014197  0.000336             0.000100      0.105232\n",
      "Train             0.828106  0.884077             0.841255      0.997708\n",
      "Training Time    15.272297  0.001665             0.000693      0.103526\n",
      "\n",
      "This fold took: 17.214407444000244 seconds\n",
      "\n",
      "**********\n",
      "\n",
      "K:\t4\n",
      "epoch 0:\t22.660335244009577\n",
      "epoch 10:\t22.486980829719094\n",
      "epoch 20:\t22.367162349630203\n",
      "epoch 30:\t22.240629283516803\n",
      "epoch 40:\t22.106697973683527\n",
      "epoch 50:\t21.974656393529077\n"
     ]
    },
    {
     "name": "stderr",
     "output_type": "stream",
     "text": [
      "/usr/local/lib/python3.5/dist-packages/sklearn/neural_network/multilayer_perceptron.py:564: ConvergenceWarning: Stochastic Optimizer: Maximum iterations (200) reached and the optimization hasn't converged yet.\n",
      "  % self.max_iter, ConvergenceWarning)\n",
      "/usr/local/lib/python3.5/dist-packages/sklearn/metrics/classification.py:1135: UndefinedMetricWarning: F-score is ill-defined and being set to 0.0 in labels with no predicted samples.\n",
      "  'precision', 'predicted', average, warn_for)\n"
     ]
    },
    {
     "name": "stdout",
     "output_type": "stream",
     "text": [
      "\n",
      "K:\t4\n",
      "                DeepSelect       MLP  Logistic Regression  RandomForest\n",
      "F1 Test           0.022222  0.322938             0.287527      0.274840\n",
      "F1 Tr. only       0.022222  0.048648             0.052822      0.073684\n",
      "F1 Train          0.180231  0.554503             0.321647      0.990336\n",
      "Pred.Tra. Time    1.813806  2.250085             0.214734      0.111240\n",
      "Test              0.800000  0.811957             0.813043      0.808696\n",
      "Testing Time      0.008687  0.001763             0.000491      0.105166\n",
      "Tr. Only          0.530864  0.624018             0.631874      0.632997\n",
      "Tr.Test Time      0.013637  0.000693             0.000295      0.106205\n",
      "Train             0.810253  0.883957             0.837153      0.998432\n",
      "Training Time    14.635291  0.001961             0.000942      0.102633\n",
      "\n",
      "This fold took: 16.686681509017944 seconds\n",
      "\n",
      "**********\n",
      "\n",
      "K:\t5\n",
      "epoch 0:\t20.779378822902654\n",
      "epoch 10:\t20.687376614751606\n",
      "epoch 20:\t20.622708018907474\n",
      "epoch 30:\t20.558702715610856\n",
      "epoch 40:\t20.50021427175479\n",
      "epoch 50:\t20.455161635696996\n"
     ]
    },
    {
     "name": "stderr",
     "output_type": "stream",
     "text": [
      "/usr/local/lib/python3.5/dist-packages/sklearn/neural_network/multilayer_perceptron.py:564: ConvergenceWarning: Stochastic Optimizer: Maximum iterations (200) reached and the optimization hasn't converged yet.\n",
      "  % self.max_iter, ConvergenceWarning)\n",
      "/usr/local/lib/python3.5/dist-packages/sklearn/metrics/classification.py:1135: UndefinedMetricWarning: F-score is ill-defined and being set to 0.0 in labels with no predicted samples.\n",
      "  'precision', 'predicted', average, warn_for)\n"
     ]
    },
    {
     "name": "stdout",
     "output_type": "stream",
     "text": [
      "\n",
      "K:\t5\n",
      "                DeepSelect       MLP  Logistic Regression  RandomForest\n",
      "F1 Test           0.022222  0.286668             0.286096      0.277306\n",
      "F1 Tr. only       0.022222  0.061100             0.050159      0.059548\n",
      "F1 Train          0.243674  0.565846             0.333138      0.992753\n",
      "Pred.Tra. Time    1.868015  1.923463             0.162647      0.107533\n",
      "Test              0.845652  0.833696             0.829348      0.809783\n",
      "Testing Time      0.009642  0.000378             0.000098      0.105426\n",
      "Tr. Only          0.679012  0.625140             0.635241      0.619529\n",
      "Tr.Test Time      0.017078  0.000323             0.000149      0.105824\n",
      "Train             0.823281  0.881303             0.836912      0.998552\n",
      "Training Time    16.457831  0.001667             0.000725      0.103313\n",
      "\n",
      "This fold took: 18.583317279815674 seconds\n",
      "\n",
      "**********\n",
      "\n",
      "K:\t6\n",
      "epoch 0:\t22.545708560653303\n",
      "epoch 10:\t22.440596283361735\n",
      "epoch 20:\t22.286085032749703\n",
      "epoch 30:\t22.078044164084027\n",
      "epoch 40:\t21.896391843060993\n",
      "epoch 50:\t21.744998259789014\n"
     ]
    },
    {
     "name": "stderr",
     "output_type": "stream",
     "text": [
      "/usr/local/lib/python3.5/dist-packages/sklearn/neural_network/multilayer_perceptron.py:564: ConvergenceWarning: Stochastic Optimizer: Maximum iterations (200) reached and the optimization hasn't converged yet.\n",
      "  % self.max_iter, ConvergenceWarning)\n",
      "/usr/local/lib/python3.5/dist-packages/sklearn/metrics/classification.py:1135: UndefinedMetricWarning: F-score is ill-defined and being set to 0.0 in labels with no predicted samples.\n",
      "  'precision', 'predicted', average, warn_for)\n"
     ]
    },
    {
     "name": "stdout",
     "output_type": "stream",
     "text": [
      "\n",
      "K:\t6\n",
      "                DeepSelect       MLP  Logistic Regression  RandomForest\n",
      "F1 Test           0.022426  0.212784             0.196597      0.201451\n",
      "F1 Tr. only       0.022426  0.049444             0.059875      0.053826\n",
      "F1 Train          0.182408  0.575318             0.341919      0.993969\n",
      "Pred.Tra. Time    1.839589  1.834664             0.160069      0.107835\n",
      "Test              0.792391  0.794565             0.794565      0.797826\n",
      "Testing Time      0.008966  0.000313             0.000108      0.105962\n",
      "Tr. Only          0.533109  0.630752             0.649832      0.629630\n",
      "Tr.Test Time      0.009618  0.000319             0.000105      0.105453\n",
      "Train             0.811098  0.885887             0.842702      0.998794\n",
      "Training Time    15.177222  0.001568             0.000664      0.103557\n",
      "\n",
      "This fold took: 17.23774003982544 seconds\n",
      "\n",
      "**********\n",
      "\n",
      "K:\t7\n",
      "epoch 0:\t22.048712123516346\n",
      "epoch 10:\t21.591781104579205\n",
      "epoch 20:\t21.295544371514275\n",
      "epoch 30:\t21.113438080515053\n",
      "epoch 40:\t20.959703142500967\n",
      "epoch 50:\t20.80743468156657\n"
     ]
    },
    {
     "name": "stderr",
     "output_type": "stream",
     "text": [
      "/usr/local/lib/python3.5/dist-packages/sklearn/neural_network/multilayer_perceptron.py:564: ConvergenceWarning: Stochastic Optimizer: Maximum iterations (200) reached and the optimization hasn't converged yet.\n",
      "  % self.max_iter, ConvergenceWarning)\n",
      "/usr/local/lib/python3.5/dist-packages/sklearn/metrics/classification.py:1135: UndefinedMetricWarning: F-score is ill-defined and being set to 0.0 in labels with no predicted samples.\n",
      "  'precision', 'predicted', average, warn_for)\n",
      "/usr/local/lib/python3.5/dist-packages/sklearn/metrics/classification.py:1137: UndefinedMetricWarning: F-score is ill-defined and being set to 0.0 in labels with no true samples.\n",
      "  'recall', 'true', average, warn_for)\n"
     ]
    },
    {
     "name": "stdout",
     "output_type": "stream",
     "text": [
      "\n",
      "K:\t7\n",
      "                DeepSelect       MLP  Logistic Regression  RandomForest\n",
      "F1 Test           0.039897  0.262368             0.235837      0.232089\n",
      "F1 Tr. only       0.039897  0.054538             0.055396      0.054149\n",
      "F1 Train          0.287041  0.548646             0.338329      0.992730\n",
      "Pred.Tra. Time    1.736492  1.539321             0.159340      0.108561\n",
      "Test              0.816425  0.814010             0.806763      0.794686\n",
      "Testing Time      0.010225  0.000312             0.000100      0.105094\n",
      "Tr. Only          0.649832  0.637486             0.638608      0.621773\n",
      "Tr.Test Time      0.014008  0.000324             0.000116      0.102522\n",
      "Train             0.831242  0.878166             0.838118      0.997949\n",
      "Training Time    14.707741  0.001611             0.000691      0.105941\n",
      "\n",
      "This fold took: 16.709776878356934 seconds\n",
      "\n",
      "**********\n",
      "\n",
      "K:\t8\n",
      "epoch 0:\t21.7655843251263\n",
      "epoch 10:\t21.611170479763988\n",
      "epoch 20:\t21.50125787115503\n",
      "epoch 30:\t21.38991481144316\n",
      "epoch 40:\t21.28764917314116\n",
      "epoch 50:\t21.200889921888045\n"
     ]
    },
    {
     "name": "stderr",
     "output_type": "stream",
     "text": [
      "/usr/local/lib/python3.5/dist-packages/sklearn/neural_network/multilayer_perceptron.py:564: ConvergenceWarning: Stochastic Optimizer: Maximum iterations (200) reached and the optimization hasn't converged yet.\n",
      "  % self.max_iter, ConvergenceWarning)\n",
      "/usr/local/lib/python3.5/dist-packages/sklearn/metrics/classification.py:1135: UndefinedMetricWarning: F-score is ill-defined and being set to 0.0 in labels with no predicted samples.\n",
      "  'precision', 'predicted', average, warn_for)\n",
      "/usr/local/lib/python3.5/dist-packages/sklearn/metrics/classification.py:1137: UndefinedMetricWarning: F-score is ill-defined and being set to 0.0 in labels with no true samples.\n",
      "  'recall', 'true', average, warn_for)\n"
     ]
    },
    {
     "name": "stdout",
     "output_type": "stream",
     "text": [
      "\n",
      "K:\t8\n",
      "                DeepSelect       MLP  Logistic Regression  RandomForest\n",
      "F1 Test           0.049726  0.280187             0.288097      0.280072\n",
      "F1 Tr. only       0.049726  0.078271             0.061235      0.072251\n",
      "F1 Train          0.247743  0.555395             0.333347      0.990360\n",
      "Pred.Tra. Time    1.703305  1.388909             0.154752      0.107956\n",
      "Test              0.819293  0.828804             0.828804      0.802989\n",
      "Testing Time      0.009133  0.000485             0.000099      0.105214\n",
      "Tr. Only          0.578002  0.647587             0.646465      0.615039\n",
      "Tr.Test Time      0.013395  0.000318             0.000098      0.106031\n",
      "Train             0.812063  0.879011             0.834258      0.997949\n",
      "Training Time    14.325004  0.001900             0.000651      0.106191\n",
      "\n",
      "This fold took: 16.274826049804688 seconds\n",
      "\n",
      "**********\n",
      "\n",
      "K:\t9\n",
      "epoch 0:\t23.1435304458848\n",
      "epoch 10:\t22.911927464570994\n",
      "epoch 20:\t22.71662407123261\n",
      "epoch 30:\t22.578645247118054\n",
      "epoch 40:\t22.447276366001198\n",
      "epoch 50:\t22.33316675644151\n"
     ]
    },
    {
     "name": "stderr",
     "output_type": "stream",
     "text": [
      "/usr/local/lib/python3.5/dist-packages/sklearn/neural_network/multilayer_perceptron.py:564: ConvergenceWarning: Stochastic Optimizer: Maximum iterations (200) reached and the optimization hasn't converged yet.\n",
      "  % self.max_iter, ConvergenceWarning)\n",
      "/usr/local/lib/python3.5/dist-packages/sklearn/metrics/classification.py:1135: UndefinedMetricWarning: F-score is ill-defined and being set to 0.0 in labels with no predicted samples.\n",
      "  'precision', 'predicted', average, warn_for)\n"
     ]
    },
    {
     "name": "stdout",
     "output_type": "stream",
     "text": [
      "\n",
      "K:\t9\n",
      "                DeepSelect       MLP  Logistic Regression  RandomForest\n",
      "F1 Test           0.022676  0.271372             0.253842      0.277655\n",
      "F1 Tr. only       0.022676  0.054934             0.055009      0.081578\n",
      "F1 Train          0.283057  0.559113             0.337208      0.993977\n",
      "Pred.Tra. Time    1.722849  1.386627             0.156608      0.107368\n",
      "Test              0.796739  0.803261             0.801087      0.792391\n",
      "Testing Time      0.009026  0.000311             0.000104      0.105310\n",
      "Tr. Only          0.656566  0.643098             0.620651      0.629630\n",
      "Tr.Test Time      0.013260  0.000316             0.000100      0.106239\n",
      "Train             0.835344  0.881423             0.841616      0.998673\n",
      "Training Time    16.753690  0.001612             0.000794      0.103511\n",
      "\n",
      "This fold took: 18.688942909240723 seconds\n",
      "\n",
      "**********\n",
      "\n",
      "K:\t10\n",
      "epoch 0:\t21.08961796524249\n",
      "epoch 10:\t20.866882490994584\n",
      "epoch 20:\t20.69259781072043\n",
      "epoch 30:\t20.515820378903822\n",
      "epoch 40:\t20.357924899542503\n",
      "epoch 50:\t20.193102171471793\n",
      "\n",
      "K:\t10\n",
      "                DeepSelect       MLP  Logistic Regression  RandomForest\n",
      "F1 Test           0.022222  0.332993             0.305875      0.327193\n",
      "F1 Tr. only       0.022222  0.077188             0.054836      0.072809\n",
      "F1 Train          0.179541  0.528994             0.332507      0.995171\n",
      "Pred.Tra. Time    1.604660  1.024995             0.152930      0.107687\n",
      "Test              0.786685  0.798913             0.794837      0.790761\n",
      "Testing Time      0.008535  0.002809             0.000105      0.105059\n",
      "Tr. Only          0.530864  0.631874             0.631874      0.640853\n",
      "Tr.Test Time      0.013294  0.000334             0.000102      0.106139\n",
      "Train             0.807238  0.874306             0.836429      0.999397\n",
      "Training Time    13.643938  0.001582             0.000649      0.106018\n",
      "\n",
      "This fold took: 15.46940302848816 seconds\n",
      "\n",
      "**********\n",
      "\n",
      "Average scores for trial 0\n",
      "                DeepSelect  Logistic Regression       MLP  RandomForest\n",
      "F1 Test           0.032229             0.252007  0.264608      0.255502\n",
      "F1 Tr. only       0.032229             0.055517  0.061437      0.064730\n",
      "F1 Train          0.251733             0.336806  0.557834      0.991549\n",
      "Pred.Tra. Time    1.768448             0.165228  1.608627      0.108392\n",
      "Test              0.803832             0.805989  0.805618      0.796140\n",
      "Testing Time      0.009395             0.000141  0.001871      0.105331\n",
      "Tr. Only          0.614029             0.636925  0.632435      0.626038\n",
      "Tr.Test Time      0.013172             0.000126  0.000845      0.105150\n",
      "Train             0.823613             0.838762  0.880685      0.998130\n",
      "Training Time    15.451524             0.000737  0.001704      0.104085\n",
      "------------------------------\n",
      "%%%%%%%%%%%%%%%%%%%%%%%%%%%%%%%%%%%%%%%%\n",
      "Average of 1 trials\n",
      "                DeepSelect  Logistic Regression       MLP  RandomForest\n",
      "F1 Test           0.032229             0.252007  0.264608      0.255502\n",
      "F1 Tr. only       0.032229             0.055517  0.061437      0.064730\n",
      "F1 Train          0.251733             0.336806  0.557834      0.991549\n",
      "Pred.Tra. Time    1.768448             0.165228  1.608627      0.108392\n",
      "Test              0.803832             0.805989  0.805618      0.796140\n",
      "Testing Time      0.009395             0.000141  0.001871      0.105331\n",
      "Tr. Only          0.614029             0.636925  0.632435      0.626038\n",
      "Tr.Test Time      0.013172             0.000126  0.000845      0.105150\n",
      "Train             0.823613             0.838762  0.880685      0.998130\n",
      "Training Time    15.451524             0.000737  0.001704      0.104085\n"
     ]
    },
    {
     "name": "stderr",
     "output_type": "stream",
     "text": [
      "/usr/local/lib/python3.5/dist-packages/sklearn/metrics/classification.py:1135: UndefinedMetricWarning: F-score is ill-defined and being set to 0.0 in labels with no predicted samples.\n",
      "  'precision', 'predicted', average, warn_for)\n",
      "/usr/local/lib/python3.5/dist-packages/sklearn/metrics/classification.py:1137: UndefinedMetricWarning: F-score is ill-defined and being set to 0.0 in labels with no true samples.\n",
      "  'recall', 'true', average, warn_for)\n"
     ]
    }
   ],
   "source": [
    "scores_tables = eval_selectivewaves_regclass(df, tronly_test_raw)\n",
    "pickle.dump(scores_tables, open(\"../results/batch_no_tf_tables.results\", \"wb\"))"
   ]
  },
  {
   "cell_type": "markdown",
   "metadata": {},
   "source": [
    "## Using the full network for prediction\n",
    "### P.S. this variation supports online (incremental) training"
   ]
  },
  {
   "cell_type": "code",
   "execution_count": 99,
   "metadata": {},
   "outputs": [],
   "source": [
    "def reset_graph(seed=42):\n",
    "    tf.reset_default_graph()\n",
    "    tf.set_random_seed(seed)\n",
    "    np.random.seed(seed)"
   ]
  },
  {
   "cell_type": "code",
   "execution_count": 100,
   "metadata": {},
   "outputs": [],
   "source": [
    "def get_test(LSMR):\n",
    "    X = dict()\n",
    "    y = dict()\n",
    "    for _, row in LSMR.iterrows():\n",
    "        score = row[\"Score\"]\n",
    "        y_ = np.zeros(10)\n",
    "        y_[score-1] = 1\n",
    "        y[len(y)] = y_\n",
    "        X[len(X)] = row[\"rev_vec\"]\n",
    "    return np.array(list(X.values())), np.array(list(y.values()))"
   ]
  },
  {
   "cell_type": "code",
   "execution_count": 216,
   "metadata": {},
   "outputs": [],
   "source": [
    "def train_selective(df_train,epochs=10, learning_rate = 0.1, random_state=42, p_every=10):\n",
    "    classes = sorted(set(df_train[\"Score\"]))\n",
    "    n_classes = len(classes)\n",
    "    \n",
    "    LSMR_train = preprocess_data(df_train)\n",
    "    np.random.seed(random_state)\n",
    "    data_dict, L1, L2, L3 = get_data_dict(LSMR_train, get_L2and3=True)\n",
    "    init_weights = lambda layer, i, o: {k:2*np.random.random((i, o))-1 for k in layer}\n",
    "    W1 = init_weights(L1, 300, 300)  # (languge, score, movie_id)\n",
    "    W2 = init_weights(L2, 300, 300)  # (languge, score):\n",
    "    W3 = init_weights(L3, 300, n_classes)  # score:\n",
    "    \n",
    "    reset_graph()\n",
    "    x = tf.placeholder(tf.float32, [None, 300])\n",
    "    y = tf.placeholder(tf.float32, [None, n_classes]) # 1-10 => 10 classes\n",
    "\n",
    "    w1 = tf.placeholder(tf.float32, [300, 300])\n",
    "    w2 = tf.placeholder(tf.float32, [300, 300])\n",
    "    w3 = tf.placeholder(tf.float32, [300, n_classes])\n",
    "\n",
    "    b1 = tf.Variable(tf.zeros([300]))\n",
    "    b2 = tf.Variable(tf.zeros([300]))\n",
    "    b3 = tf.Variable(tf.zeros([n_classes]))\n",
    "\n",
    "    l2 = tf.nn.sigmoid(tf.matmul(x, w1) + b1)\n",
    "    l3 = tf.nn.sigmoid(tf.matmul(l2, w2) + b2)\n",
    "    logits = tf.matmul(l3, w3) + b3\n",
    "    pred = tf.nn.softmax(logits)\n",
    "\n",
    "#     cost = tf.reduce_mean(tf.nn.softmax_cross_entropy_with_logits(labels=classes, logits=logits))\n",
    "#     optimizer = tf.train.GradientDescentOptimizer(learning_rate).minimize(cost)\n",
    "    \n",
    "    \n",
    "    cost = tf.reduce_mean(-tf.reduce_sum(y*tf.log(pred), reduction_indices=1))\n",
    "    optimizer = tf.train.GradientDescentOptimizer(learning_rate).minimize(cost)\n",
    "    training_curve = dict()\n",
    "    with tf.device('/job:localhost/replica:0/task:0/device:GPU:0'):\n",
    "        with tf.Session(config=tf.ConfigProto(log_device_placement=True)) as sess:\n",
    "            sess.run(tf.global_variables_initializer())\n",
    "            for e in range(epochs+1):\n",
    "                avg_cost = 0.\n",
    "                for _, row in LSMR_train.iterrows():\n",
    "                    lang = row[\"Language\"]\n",
    "                    movie_id = row[\"Movie_ID\"]\n",
    "                    score = row[\"Score\"]\n",
    "                    y_ = {i:0 for i in classes}\n",
    "                    y_[score] = 1\n",
    "                    y_ = np.atleast_2d([y_[i] for i in classes])\n",
    "                    x_ = np.atleast_2d(row[\"rev_vec\"])\n",
    "                    w1_,w2_,w3_,_, c = sess.run([w1, w2, w3, optimizer, cost],\n",
    "                                             feed_dict={x: x_,\n",
    "                                                        y: y_,\n",
    "                                                        w1:W1[(lang, score, movie_id)],\n",
    "                                                        w2:W2[(lang, score)],\n",
    "                                                        w3:W3[score]})\n",
    "                    W1[(lang, score, movie_id)] = w1_\n",
    "                    W2[(lang, score)] = w2_\n",
    "                    W3[score] = w3_\n",
    "\n",
    "                    avg_cost += c\n",
    "                training_curve[e] = avg_cost\n",
    "                if e%10==0:\n",
    "                    learning_rate /= 10\n",
    "                if e%p_every==0:\n",
    "                    print(\"Epoch {}: {}\".format(e, avg_cost/len(LSMR_train)))\n",
    "    print(\"W1 size\",len(W1))\n",
    "    print(\"W2 size\",len(W2))\n",
    "    print(\"W3 size\",len(W3))\n",
    "    return W1, W2, W3, training_curve, classes"
   ]
  },
  {
   "cell_type": "code",
   "execution_count": 217,
   "metadata": {},
   "outputs": [],
   "source": [
    "def get_max_index(predicted_scores, classes):\n",
    "    probs = {c:0 for c in classes}\n",
    "    array = softmax(predicted_scores)\n",
    "    indx = None\n",
    "    max_ = float(\"-inf\")\n",
    "    for i, e in enumerate(array):\n",
    "        probs[predicted_scores[i]] = e\n",
    "        if e > max_:\n",
    "            max_ = e\n",
    "            indx = i\n",
    "    return predicted_scores[indx], [probs[k] for k in sorted(classes)]"
   ]
  },
  {
   "cell_type": "code",
   "execution_count": 218,
   "metadata": {},
   "outputs": [],
   "source": [
    "def predict_selective(df, W1, W2, W3, classes=list(range(1,11))):\n",
    "    LSMR = preprocess_data(df)\n",
    "    reset_graph()\n",
    "    n_classes = len(classes)\n",
    "    x = tf.placeholder(tf.float32, [None, 300])\n",
    "\n",
    "    w1 = tf.placeholder(tf.float32, [300, 300])\n",
    "    w2 = tf.placeholder(tf.float32, [300, 300])\n",
    "    w3 = tf.placeholder(tf.float32, [300, n_classes])\n",
    "\n",
    "    b1 = tf.Variable(tf.zeros([300]))\n",
    "    b2 = tf.Variable(tf.zeros([300]))\n",
    "    b3 = tf.Variable(tf.zeros([n_classes]))\n",
    "\n",
    "    l2 = tf.nn.sigmoid(tf.matmul(x, w1) + b1)\n",
    "    l3 = tf.nn.sigmoid(tf.matmul(l2, w2) + b2)\n",
    "    pred = tf.nn.softmax(tf.matmul(l3, w3) + b3)\n",
    "\n",
    "    \n",
    "    \n",
    "    \n",
    "    prediction = tf.argmax(pred, 1)\n",
    "    preds = np.zeros(len(LSMR))\n",
    "    probs = [None] * len(LSMR)\n",
    "    with tf.device('/job:localhost/replica:0/task:0/device:GPU:0'):\n",
    "        with tf.Session(config=tf.ConfigProto(log_device_placement=True)) as sess:\n",
    "            sess.run(tf.global_variables_initializer())\n",
    "            j = 0\n",
    "            for _, row in LSMR.iterrows():\n",
    "                v = row[\"rev_vec\"]\n",
    "                predicted_scores = np.zeros(len(W1))\n",
    "                for i, info in enumerate(W1):\n",
    "                    language, score, movie_id = info\n",
    "                    w_1 = W1[(language, score, movie_id)]\n",
    "                    w_2 = W2[(language, score)]\n",
    "                    w_3 = W3[score]\n",
    "\n",
    "                    predicted_scores[i] = prediction.eval({x: np.atleast_2d(v),\n",
    "                                                           w1:w_1,w2:w_2,w3:w_3})\n",
    "                predicted_score, probabilities = get_max_index(predicted_scores, classes)\n",
    "                preds[j] = predicted_score\n",
    "                probs[j] = probabilities\n",
    "                j+=1\n",
    "\n",
    "\n",
    "    return preds, np.array(list(LSMR.Score)), probs"
   ]
  },
  {
   "cell_type": "code",
   "execution_count": 226,
   "metadata": {},
   "outputs": [],
   "source": [
    "def eval_selectivewaves_nn(df_, tronly_test_raw, NUM_TRIALS=1, splits=10, iterations=150, alpha=0.1, p_every=25):  \n",
    "    df = df_.reset_index(drop=True)\n",
    "    learning_curves = OrderedDict()\n",
    "    scores_tables_nn = OrderedDict()\n",
    "    tronly_test = preprocess_data(tronly_test_raw)\n",
    "    for i in range(NUM_TRIALS):\n",
    "        print(\"Trial:\\t{}\".format(i+1))\n",
    "        learning_curves[i] = OrderedDict()\n",
    "        k = 0\n",
    "        skf = StratifiedKFold(n_splits=splits, random_state=i)\n",
    "        scores_tables_nn[i] = dict()\n",
    "        for train_index, test_index in skf.split(df[\"Review\"], df[\"Language\"]):\n",
    "            print(\"K: \\t{}\".format(k+1))\n",
    "            scores_tables_nn[i][k] = OrderedDict()\n",
    "            start = time.time()\n",
    "            # approx 3 epochs per second\n",
    "            LSMR = preprocess_data(df.loc[train_index])\n",
    "            W1, W2, W3, training_curve, classes = train_selective(\n",
    "                df.loc[train_index], epochs=iterations, p_every=p_every, learning_rate=alpha)\n",
    "            _ = time.time()\n",
    "            trat = _-start\n",
    "            print(\"Took: {} for training\".format(trat))\n",
    "#             true_train = np.array(list(LSMR.Score))\n",
    "            _ = time.time()\n",
    "            preds_train, true_train, probs = predict_selective(df.loc[train_index], W1, W2, W3, classes=classes)\n",
    "            ll_train = log_loss(true_train,probs, labels=classes)\n",
    "            predtra = time.time()-_\n",
    "            print(\"Took: {} for predicting {} training instances\".format(predtra, len(train_index)))\n",
    "\n",
    "            test_data = preprocess_data(df.loc[test_index])\n",
    "            _ = time.time()\n",
    "            preds, true, probs = predict_selective(df.loc[test_index], W1, W2, W3, classes=classes)\n",
    "            ll_test = log_loss(true,probs, labels=classes)\n",
    "            tet = time.time()-_\n",
    "            print(\"Took: {} for predicting {} test instances\".format(tet, len(test_index)))\n",
    "\n",
    "            _ = time.time()\n",
    "            preds_tr, true_tr, probs = predict_selective(tronly_test_raw, W1, W2, W3, classes=classes)\n",
    "            ll_tr = log_loss(true_tr,probs, labels=classes)\n",
    "            trt = time.time()-_\n",
    "            print(\"Took: {} for predicting {} Turkish test instances\".format(trt, len(tronly_test)))\n",
    "\n",
    "            elapsed = time.time()-start\n",
    "\n",
    "            s = distance_accuracy(true, preds)\n",
    "            s_train = distance_accuracy(true_train, preds_train)\n",
    "            s_tr = distance_accuracy(true_tr, preds_tr)\n",
    "\n",
    "            f1_test = f1_score(true, preds, average='weighted')\n",
    "            f1_train = f1_score(true_train, preds_train, average='weighted')\n",
    "            f1_tronly = f1_score(true_tr, preds_tr, average='weighted')\n",
    "\n",
    "            mlp = MLPClassifier(random_state=i)\n",
    "            lr = LogisticRegression(random_state=i)\n",
    "            rf = RandomForestClassifier(random_state=i,n_jobs=-1)\n",
    "            train_mat = np.array(list(LSMR[\"rev_vec\"]))\n",
    "            test_mat = np.array(list(test_data[\"rev_vec\"]))\n",
    "            tronly_mat = np.array(list(tronly_test[\"rev_vec\"]))\n",
    "\n",
    "            evals = OrderedDict()\n",
    "            evals[\"Train\"] = s_train\n",
    "            evals[\"Test\"] = s\n",
    "            evals[\"Tr. Only\"] = s_tr\n",
    "            evals[\"Training Time\"] = trat\n",
    "            evals[\"Pred.Tra. Time\"] = predtra\n",
    "            evals[\"Testing Time\"] = tet\n",
    "            evals[\"Tr.Test Time\"] = trt\n",
    "            evals[\"F1 Test\"] = f1_test\n",
    "            evals[\"F1 Train\"] = f1_train\n",
    "            evals[\"F1 Tr. only\"] = f1_tronly\n",
    "            evals[\"Train_LL\"] = ll_train\n",
    "            evals[\"Test_LL\"] = ll_test\n",
    "            evals[\"Tr. Only_LL\"] = ll_tr\n",
    "            scores_tables_nn[i][k][\"DeepSelect\"] = evals\n",
    "\n",
    "            scores_tables_nn[i][k][\"LogisticRegression\"] = eval_models(\n",
    "                lr, train_mat, test_mat, tronly_mat, ytrain=true_train, ytest=true, ytronly=true_tr, LL=True, predtrain=True)\n",
    "            scores_tables_nn[i][k][\"MLP\"] = eval_models(\n",
    "                mlp, train_mat, test_mat, tronly_mat, ytrain=true_train, ytest=true, ytronly=true_tr, LL=True, predtrain=True)\n",
    "            scores_tables_nn[i][k][\"RandomForest\"] = eval_models(\n",
    "                rf, train_mat, test_mat, tronly_mat, ytrain=true_train, ytest=true, ytronly=true_tr, LL=True, predtrain=True)\n",
    "\n",
    "            print()\n",
    "            print(pd.DataFrame(scores_tables_nn[i][k]))\n",
    "            print(\"took:\", elapsed, \"seconds\\n\")\n",
    "            learning_curves[i][k] = training_curve\n",
    "            k += 1\n",
    "            print(\"*\"*10+\"\\n\")\n",
    "        print(\"Average scores for trial {}\".format(i))\n",
    "        print(get_trial_score(scores_tables_nn[i]))\n",
    "        print(\"-\"*30)\n",
    "    print(\"%%\"*20)\n",
    "    print(\"Average of {} trials\".format(NUM_TRIALS))\n",
    "    print(get_total_average(scores_tables_nn))\n",
    "    return scores_tables_nn"
   ]
  },
  {
   "cell_type": "code",
   "execution_count": 233,
   "metadata": {
    "scrolled": true
   },
   "outputs": [
    {
     "name": "stdout",
     "output_type": "stream",
     "text": [
      "Trial:\t1\n",
      "K: \t1\n",
      "Epoch 0: 1.690964459888837\n",
      "Epoch 25: 0.01062340211847238\n",
      "Epoch 50: 0.0027972125442851945\n",
      "Epoch 75: 0.0016094642921393313\n",
      "Epoch 100: 0.0011625836473166977\n",
      "Epoch 125: 0.0009180902153019107\n",
      "Epoch 150: 0.0007621246894794889\n",
      "W1 size 588\n",
      "W2 size 19\n",
      "W3 size 10\n",
      "Took: 148.44721388816833 for training\n",
      "Took: 412.4607973098755 for predicting 828 training instances\n",
      "Took: 45.89663243293762 for predicting 93 test instances\n",
      "Took: 47.7384614944458 for predicting 99 Turkish test instances\n"
     ]
    },
    {
     "name": "stderr",
     "output_type": "stream",
     "text": [
      "/usr/local/lib/python3.5/dist-packages/sklearn/metrics/classification.py:1135: UndefinedMetricWarning: F-score is ill-defined and being set to 0.0 in labels with no predicted samples.\n",
      "  'precision', 'predicted', average, warn_for)\n",
      "/usr/local/lib/python3.5/dist-packages/sklearn/neural_network/multilayer_perceptron.py:564: ConvergenceWarning: Stochastic Optimizer: Maximum iterations (200) reached and the optimization hasn't converged yet.\n",
      "  % self.max_iter, ConvergenceWarning)\n",
      "/usr/local/lib/python3.5/dist-packages/sklearn/metrics/classification.py:1135: UndefinedMetricWarning: F-score is ill-defined and being set to 0.0 in labels with no predicted samples.\n",
      "  'precision', 'predicted', average, warn_for)\n"
     ]
    },
    {
     "name": "stdout",
     "output_type": "stream",
     "text": [
      "\n",
      "                DeepSelect  LogisticRegression       MLP  RandomForest\n",
      "F1 Test           0.105873            0.199164  0.187732      0.252325\n",
      "F1 Tr. only       0.022222            0.057121  0.089139      0.097973\n",
      "F1 Train          0.048908            0.347702  0.565241      0.989119\n",
      "Pred.Tra. Time  412.460797            0.000673  0.001591      0.105967\n",
      "Test              0.827957            0.793011  0.778226      0.803763\n",
      "Test_LL          10.541547                 NaN       NaN           NaN\n",
      "Testing Time     45.896632            0.000155  0.000544      0.101892\n",
      "Tr. Only          0.617284            0.643098  0.643098      0.635241\n",
      "Tr. Only_LL       7.226090                 NaN       NaN           NaN\n",
      "Tr.Test Time     47.738461            0.000102  0.000324      0.105297\n",
      "Train             0.836473            0.837681  0.878502      0.996860\n",
      "Train_LL         12.828454                 NaN       NaN           NaN\n",
      "Training Time   148.447214            0.159254  1.779774      0.144115\n",
      "took: 654.7159194946289 seconds\n",
      "\n",
      "**********\n",
      "\n",
      "K: \t2\n",
      "Epoch 0: 2.2327160535323296\n",
      "Epoch 25: 0.004761253691021613\n",
      "Epoch 50: 0.0021836246607672386\n",
      "Epoch 75: 0.0014425153605973316\n",
      "Epoch 100: 0.0010845527152302107\n",
      "Epoch 125: 0.000872173642287728\n",
      "Epoch 150: 0.0007310566889146736\n",
      "W1 size 603\n",
      "W2 size 19\n",
      "W3 size 10\n",
      "Took: 143.31220126152039 for training\n",
      "Took: 406.86936140060425 for predicting 829 training instances\n",
      "Took: 49.10238718986511 for predicting 92 test instances\n",
      "Took: 53.307729721069336 for predicting 99 Turkish test instances\n"
     ]
    },
    {
     "name": "stderr",
     "output_type": "stream",
     "text": [
      "/usr/local/lib/python3.5/dist-packages/sklearn/neural_network/multilayer_perceptron.py:564: ConvergenceWarning: Stochastic Optimizer: Maximum iterations (200) reached and the optimization hasn't converged yet.\n",
      "  % self.max_iter, ConvergenceWarning)\n",
      "/usr/local/lib/python3.5/dist-packages/sklearn/metrics/classification.py:1135: UndefinedMetricWarning: F-score is ill-defined and being set to 0.0 in labels with no predicted samples.\n",
      "  'precision', 'predicted', average, warn_for)\n"
     ]
    },
    {
     "name": "stdout",
     "output_type": "stream",
     "text": [
      "\n",
      "                DeepSelect  LogisticRegression       MLP  RandomForest\n",
      "F1 Test           0.046144            0.230137  0.233954      0.212696\n",
      "F1 Tr. only       0.022222            0.059326  0.053324      0.035308\n",
      "F1 Train          0.056831            0.339311  0.556177      0.985555\n",
      "Pred.Tra. Time  406.869361            0.000626  0.001581      0.105656\n",
      "Test              0.811957            0.798913  0.795652      0.792391\n",
      "Test_LL          12.465983                 NaN       NaN           NaN\n",
      "Testing Time     49.102387            0.000160  0.000347      0.102229\n",
      "Tr. Only          0.617284            0.632997  0.620651      0.622896\n",
      "Tr. Only_LL       7.204125                 NaN       NaN           NaN\n",
      "Tr.Test Time     53.307730            0.000106  0.000322      0.105429\n",
      "Train             0.841616            0.841496  0.880217      0.996984\n",
      "Train_LL         12.700493                 NaN       NaN           NaN\n",
      "Training Time   143.312201            0.141908  1.490702      0.111032\n",
      "took: 652.7829139232635 seconds\n",
      "\n",
      "**********\n",
      "\n",
      "K: \t3\n",
      "Epoch 0: 1.0144135982450713\n",
      "Epoch 25: 0.0035566252485580824\n",
      "Epoch 50: 0.0017148319803045437\n",
      "Epoch 75: 0.001159074649149926\n",
      "Epoch 100: 0.0008842281299013872\n",
      "Epoch 125: 0.0007187481125471728\n",
      "Epoch 150: 0.0006076313290560839\n",
      "W1 size 609\n",
      "W2 size 19\n",
      "W3 size 10\n",
      "Took: 141.30748629570007 for training\n",
      "Took: 443.9205062389374 for predicting 829 training instances\n",
      "Took: 50.34445548057556 for predicting 92 test instances\n",
      "Took: 48.73593044281006 for predicting 99 Turkish test instances\n"
     ]
    },
    {
     "name": "stderr",
     "output_type": "stream",
     "text": [
      "/usr/local/lib/python3.5/dist-packages/sklearn/neural_network/multilayer_perceptron.py:564: ConvergenceWarning: Stochastic Optimizer: Maximum iterations (200) reached and the optimization hasn't converged yet.\n",
      "  % self.max_iter, ConvergenceWarning)\n",
      "/usr/local/lib/python3.5/dist-packages/sklearn/metrics/classification.py:1135: UndefinedMetricWarning: F-score is ill-defined and being set to 0.0 in labels with no predicted samples.\n",
      "  'precision', 'predicted', average, warn_for)\n",
      "/usr/local/lib/python3.5/dist-packages/sklearn/metrics/classification.py:1137: UndefinedMetricWarning: F-score is ill-defined and being set to 0.0 in labels with no true samples.\n",
      "  'recall', 'true', average, warn_for)\n"
     ]
    },
    {
     "name": "stdout",
     "output_type": "stream",
     "text": [
      "\n",
      "                DeepSelect  LogisticRegression       MLP  RandomForest\n",
      "F1 Test           0.057639            0.236901  0.255086      0.219391\n",
      "F1 Tr. only       0.022222            0.049390  0.047787      0.046170\n",
      "F1 Train          0.053415            0.342948  0.569112      0.991520\n",
      "Pred.Tra. Time  443.920506            0.000720  0.001603      0.105193\n",
      "Test              0.814010            0.799517  0.797101      0.768116\n",
      "Test_LL          12.385663                 NaN       NaN           NaN\n",
      "Testing Time     50.344455            0.000170  0.000525      0.102794\n",
      "Tr. Only          0.617284            0.638608  0.620651      0.612795\n",
      "Tr. Only_LL       7.071186                 NaN       NaN           NaN\n",
      "Tr.Test Time     48.735930            0.000144  0.000325      0.104736\n",
      "Train             0.839807            0.841255  0.884077      0.997708\n",
      "Train_LL         12.091627                 NaN       NaN           NaN\n",
      "Training Time   141.307486            0.145316  1.268185      0.113432\n",
      "took: 684.514726638794 seconds\n",
      "\n",
      "**********\n",
      "\n",
      "K: \t4\n",
      "Epoch 0: 1.902833734835488\n",
      "Epoch 25: 0.0033036485128544292\n",
      "Epoch 50: 0.001660878623090864\n",
      "Epoch 75: 0.0011366904663198366\n",
      "Epoch 100: 0.0008725793615594953\n",
      "Epoch 125: 0.0007119162451526672\n",
      "Epoch 150: 0.0006032995617746978\n",
      "W1 size 607\n",
      "W2 size 19\n",
      "W3 size 10\n",
      "Took: 141.05482935905457 for training\n",
      "Took: 461.2145526409149 for predicting 829 training instances\n",
      "Took: 48.21579551696777 for predicting 92 test instances\n",
      "Took: 49.7027268409729 for predicting 99 Turkish test instances\n"
     ]
    },
    {
     "name": "stderr",
     "output_type": "stream",
     "text": [
      "/usr/local/lib/python3.5/dist-packages/sklearn/neural_network/multilayer_perceptron.py:564: ConvergenceWarning: Stochastic Optimizer: Maximum iterations (200) reached and the optimization hasn't converged yet.\n",
      "  % self.max_iter, ConvergenceWarning)\n",
      "/usr/local/lib/python3.5/dist-packages/sklearn/metrics/classification.py:1135: UndefinedMetricWarning: F-score is ill-defined and being set to 0.0 in labels with no predicted samples.\n",
      "  'precision', 'predicted', average, warn_for)\n"
     ]
    },
    {
     "name": "stdout",
     "output_type": "stream",
     "text": [
      "\n",
      "                DeepSelect  LogisticRegression       MLP  RandomForest\n",
      "F1 Test           0.040197            0.287527  0.322938      0.274840\n",
      "F1 Tr. only       0.022222            0.052822  0.048648      0.073684\n",
      "F1 Train          0.055503            0.321647  0.554503      0.990336\n",
      "Pred.Tra. Time  461.214553            0.000637  0.001616      0.104868\n",
      "Test              0.826087            0.813043  0.811957      0.808696\n",
      "Test_LL          12.968337                 NaN       NaN           NaN\n",
      "Testing Time     48.215796            0.000150  0.000541      0.102096\n",
      "Tr. Only          0.617284            0.631874  0.624018      0.632997\n",
      "Tr. Only_LL       7.141215                 NaN       NaN           NaN\n",
      "Tr.Test Time     49.702727            0.000103  0.000326      0.105873\n",
      "Train             0.840651            0.837153  0.883957      0.998432\n",
      "Train_LL         12.210807                 NaN       NaN           NaN\n",
      "Training Time   141.054829            0.150343  1.286349      0.126767\n",
      "took: 700.3765468597412 seconds\n",
      "\n",
      "**********\n",
      "\n",
      "K: \t5\n",
      "Epoch 0: 1.7997240946270916\n",
      "Epoch 25: 0.0032748859745815625\n",
      "Epoch 50: 0.001586518794524879\n",
      "Epoch 75: 0.001069701648543361\n",
      "Epoch 100: 0.0008144297514809714\n",
      "Epoch 125: 0.0006610204930737033\n",
      "Epoch 150: 0.0005581545778943948\n",
      "W1 size 596\n",
      "W2 size 18\n",
      "W3 size 10\n",
      "Took: 156.55636024475098 for training\n",
      "Took: 471.19777607917786 for predicting 829 training instances\n",
      "Took: 49.096271276474 for predicting 92 test instances\n",
      "Took: 58.881930351257324 for predicting 99 Turkish test instances\n"
     ]
    },
    {
     "name": "stderr",
     "output_type": "stream",
     "text": [
      "/usr/local/lib/python3.5/dist-packages/sklearn/neural_network/multilayer_perceptron.py:564: ConvergenceWarning: Stochastic Optimizer: Maximum iterations (200) reached and the optimization hasn't converged yet.\n",
      "  % self.max_iter, ConvergenceWarning)\n",
      "/usr/local/lib/python3.5/dist-packages/sklearn/metrics/classification.py:1135: UndefinedMetricWarning: F-score is ill-defined and being set to 0.0 in labels with no predicted samples.\n",
      "  'precision', 'predicted', average, warn_for)\n"
     ]
    },
    {
     "name": "stdout",
     "output_type": "stream",
     "text": [
      "\n",
      "                DeepSelect  LogisticRegression       MLP  RandomForest\n",
      "F1 Test           0.021313            0.286096  0.286668      0.277306\n",
      "F1 Tr. only       0.022222            0.050159  0.061100      0.059548\n",
      "F1 Train          0.058205            0.333138  0.565846      0.992753\n",
      "Pred.Tra. Time  471.197776            0.000697  0.001712      0.105737\n",
      "Test              0.836957            0.829348  0.833696      0.809783\n",
      "Test_LL          12.716700                 NaN       NaN           NaN\n",
      "Testing Time     49.096271            0.000145  0.000337      0.104928\n",
      "Tr. Only          0.617284            0.635241  0.625140      0.619529\n",
      "Tr. Only_LL       7.108082                 NaN       NaN           NaN\n",
      "Tr.Test Time     58.881930            0.000138  0.000328      0.105736\n",
      "Train             0.839324            0.836912  0.881303      0.998552\n",
      "Train_LL         12.095741                 NaN       NaN           NaN\n",
      "Training Time   156.556360            0.152734  1.237711      0.143222\n",
      "took: 735.927232503891 seconds\n",
      "\n",
      "**********\n",
      "\n",
      "K: \t6\n",
      "Epoch 0: 1.4225091364645126\n",
      "Epoch 25: 0.00441744461649458\n",
      "Epoch 50: 0.001946477158775171\n",
      "Epoch 75: 0.0012820300772084978\n",
      "Epoch 100: 0.0009658536083673059\n",
      "Epoch 125: 0.0007792343310423258\n",
      "Epoch 150: 0.0006554204879392887\n",
      "W1 size 597\n",
      "W2 size 19\n",
      "W3 size 10\n",
      "Took: 150.92327404022217 for training\n",
      "Took: 465.01691341400146 for predicting 829 training instances\n",
      "Took: 43.620712757110596 for predicting 92 test instances\n",
      "Took: 53.15904974937439 for predicting 99 Turkish test instances\n"
     ]
    },
    {
     "name": "stderr",
     "output_type": "stream",
     "text": [
      "/usr/local/lib/python3.5/dist-packages/sklearn/neural_network/multilayer_perceptron.py:564: ConvergenceWarning: Stochastic Optimizer: Maximum iterations (200) reached and the optimization hasn't converged yet.\n",
      "  % self.max_iter, ConvergenceWarning)\n",
      "/usr/local/lib/python3.5/dist-packages/sklearn/metrics/classification.py:1135: UndefinedMetricWarning: F-score is ill-defined and being set to 0.0 in labels with no predicted samples.\n",
      "  'precision', 'predicted', average, warn_for)\n"
     ]
    },
    {
     "name": "stdout",
     "output_type": "stream",
     "text": [
      "\n",
      "                DeepSelect  LogisticRegression       MLP  RandomForest\n",
      "F1 Test           0.064032            0.196597  0.212784      0.201451\n",
      "F1 Tr. only       0.022222            0.059875  0.049444      0.053826\n",
      "F1 Train          0.052799            0.341919  0.575318      0.993969\n",
      "Pred.Tra. Time  465.016913            0.000635  0.001577      0.105498\n",
      "Test              0.822826            0.794565  0.794565      0.797826\n",
      "Test_LL          12.389578                 NaN       NaN           NaN\n",
      "Testing Time     43.620713            0.000200  0.000490      0.101856\n",
      "Tr. Only          0.617284            0.649832  0.630752      0.629630\n",
      "Tr. Only_LL       7.133379                 NaN       NaN           NaN\n",
      "Tr.Test Time     53.159050            0.000173  0.000326      0.105429\n",
      "Train             0.841013            0.842702  0.885887      0.998794\n",
      "Train_LL         12.303520                 NaN       NaN           NaN\n",
      "Training Time   150.923274            0.153562  1.218494      0.110684\n",
      "took: 712.8918235301971 seconds\n",
      "\n",
      "**********\n",
      "\n",
      "K: \t7\n",
      "Epoch 0: 1.0107595902263908\n",
      "Epoch 25: 0.003727578973783801\n",
      "Epoch 50: 0.0016765248847129617\n",
      "Epoch 75: 0.0011130468859074435\n",
      "Epoch 100: 0.0008432507305405663\n",
      "Epoch 125: 0.0006835284916041352\n",
      "Epoch 150: 0.0005773253361864022\n",
      "W1 size 609\n",
      "W2 size 19\n",
      "W3 size 10\n",
      "Took: 152.2407786846161 for training\n",
      "Took: 477.4403839111328 for predicting 829 training instances\n",
      "Took: 52.58737874031067 for predicting 92 test instances\n",
      "Took: 57.520408153533936 for predicting 99 Turkish test instances\n"
     ]
    },
    {
     "name": "stderr",
     "output_type": "stream",
     "text": [
      "/usr/local/lib/python3.5/dist-packages/sklearn/neural_network/multilayer_perceptron.py:564: ConvergenceWarning: Stochastic Optimizer: Maximum iterations (200) reached and the optimization hasn't converged yet.\n",
      "  % self.max_iter, ConvergenceWarning)\n",
      "/usr/local/lib/python3.5/dist-packages/sklearn/metrics/classification.py:1135: UndefinedMetricWarning: F-score is ill-defined and being set to 0.0 in labels with no predicted samples.\n",
      "  'precision', 'predicted', average, warn_for)\n",
      "/usr/local/lib/python3.5/dist-packages/sklearn/metrics/classification.py:1137: UndefinedMetricWarning: F-score is ill-defined and being set to 0.0 in labels with no true samples.\n",
      "  'recall', 'true', average, warn_for)\n"
     ]
    },
    {
     "name": "stdout",
     "output_type": "stream",
     "text": [
      "\n",
      "                DeepSelect  LogisticRegression       MLP  RandomForest\n",
      "F1 Test           0.064032            0.235837  0.262368      0.232089\n",
      "F1 Tr. only       0.022222            0.055396  0.054538      0.054149\n",
      "F1 Train          0.052744            0.338329  0.548646      0.992730\n",
      "Pred.Tra. Time  477.440384            0.000653  0.001704      0.105558\n",
      "Test              0.833333            0.806763  0.814010      0.794686\n",
      "Test_LL          12.472735                 NaN       NaN           NaN\n",
      "Testing Time     52.587379            0.000145  0.000524      0.102044\n",
      "Tr. Only          0.617284            0.638608  0.637486      0.621773\n",
      "Tr. Only_LL       7.068488                 NaN       NaN           NaN\n",
      "Tr.Test Time     57.520408            0.000106  0.000339      0.104923\n",
      "Train             0.837877            0.838118  0.878166      0.997949\n",
      "Train_LL         12.062723                 NaN       NaN           NaN\n",
      "Training Time   152.240779            0.146327  1.263292      0.118853\n",
      "took: 740.005982875824 seconds\n",
      "\n",
      "**********\n",
      "\n",
      "K: \t8\n",
      "Epoch 0: 2.9857248737646\n",
      "Epoch 25: 0.014296823484480707\n",
      "Epoch 50: 0.0040562895836730156\n",
      "Epoch 75: 0.002283246202603603\n",
      "Epoch 100: 0.0016483757335216472\n",
      "Epoch 125: 0.0013052345527527255\n",
      "Epoch 150: 0.0010868973622846728\n",
      "W1 size 602\n",
      "W2 size 19\n",
      "W3 size 10\n",
      "Took: 151.08332347869873 for training\n",
      "Took: 465.77983927726746 for predicting 829 training instances\n",
      "Took: 51.14374756813049 for predicting 92 test instances\n",
      "Took: 59.67886710166931 for predicting 99 Turkish test instances\n"
     ]
    },
    {
     "name": "stderr",
     "output_type": "stream",
     "text": [
      "/usr/local/lib/python3.5/dist-packages/sklearn/neural_network/multilayer_perceptron.py:564: ConvergenceWarning: Stochastic Optimizer: Maximum iterations (200) reached and the optimization hasn't converged yet.\n",
      "  % self.max_iter, ConvergenceWarning)\n",
      "/usr/local/lib/python3.5/dist-packages/sklearn/metrics/classification.py:1135: UndefinedMetricWarning: F-score is ill-defined and being set to 0.0 in labels with no predicted samples.\n",
      "  'precision', 'predicted', average, warn_for)\n",
      "/usr/local/lib/python3.5/dist-packages/sklearn/metrics/classification.py:1137: UndefinedMetricWarning: F-score is ill-defined and being set to 0.0 in labels with no true samples.\n",
      "  'recall', 'true', average, warn_for)\n"
     ]
    },
    {
     "name": "stdout",
     "output_type": "stream",
     "text": [
      "\n",
      "                DeepSelect  LogisticRegression       MLP  RandomForest\n",
      "F1 Test           0.070701            0.288097  0.280187      0.280072\n",
      "F1 Tr. only       0.022222            0.061235  0.078271      0.072251\n",
      "F1 Train          0.052131            0.333347  0.555395      0.990360\n",
      "Pred.Tra. Time  465.779839            0.000618  0.001713      0.105831\n",
      "Test              0.849185            0.828804  0.828804      0.802989\n",
      "Test_LL          12.396946                 NaN       NaN           NaN\n",
      "Testing Time     51.143748            0.000171  0.000615      0.101856\n",
      "Tr. Only          0.617284            0.646465  0.647587      0.615039\n",
      "Tr. Only_LL       7.124363                 NaN       NaN           NaN\n",
      "Tr.Test Time     59.678867            0.000103  0.000353      0.104941\n",
      "Train             0.834741            0.834258  0.879011      0.997949\n",
      "Train_LL         12.232387                 NaN       NaN           NaN\n",
      "Training Time   151.083323            0.144717  1.980307      0.112504\n",
      "took: 727.8853273391724 seconds\n",
      "\n",
      "**********\n",
      "\n",
      "K: \t9\n",
      "Epoch 0: 1.7241323751330586\n",
      "Epoch 25: 0.0041977524510078395\n",
      "Epoch 50: 0.001846418081356523\n",
      "Epoch 75: 0.0012183940822313932\n",
      "Epoch 100: 0.0009190904280257913\n",
      "Epoch 125: 0.0007423195657661331\n",
      "Epoch 150: 0.0006250021976222481\n",
      "W1 size 599\n",
      "W2 size 19\n",
      "W3 size 10\n",
      "Took: 147.80428886413574 for training\n",
      "Took: 461.78076171875 for predicting 829 training instances\n",
      "Took: 54.80349111557007 for predicting 92 test instances\n",
      "Took: 53.07977771759033 for predicting 99 Turkish test instances\n"
     ]
    },
    {
     "name": "stderr",
     "output_type": "stream",
     "text": [
      "/usr/local/lib/python3.5/dist-packages/sklearn/neural_network/multilayer_perceptron.py:564: ConvergenceWarning: Stochastic Optimizer: Maximum iterations (200) reached and the optimization hasn't converged yet.\n",
      "  % self.max_iter, ConvergenceWarning)\n",
      "/usr/local/lib/python3.5/dist-packages/sklearn/metrics/classification.py:1135: UndefinedMetricWarning: F-score is ill-defined and being set to 0.0 in labels with no predicted samples.\n",
      "  'precision', 'predicted', average, warn_for)\n"
     ]
    },
    {
     "name": "stdout",
     "output_type": "stream",
     "text": [
      "\n",
      "                DeepSelect  LogisticRegression       MLP  RandomForest\n",
      "F1 Test           0.045713            0.253842  0.271372      0.277655\n",
      "F1 Tr. only       0.022222            0.055009  0.054934      0.081578\n",
      "F1 Train          0.054766            0.337208  0.559113      0.993977\n",
      "Pred.Tra. Time  461.780762            0.000739  0.001635      0.105773\n",
      "Test              0.820652            0.801087  0.803261      0.792391\n",
      "Test_LL          10.984515                 NaN       NaN           NaN\n",
      "Testing Time     54.803491            0.000222  0.000397      0.102280\n",
      "Tr. Only          0.617284            0.620651  0.643098      0.629630\n",
      "Tr. Only_LL       7.086265                 NaN       NaN           NaN\n",
      "Tr.Test Time     53.079778            0.000119  0.000339      0.105478\n",
      "Train             0.841134            0.841616  0.881423      0.998673\n",
      "Train_LL         12.256748                 NaN       NaN           NaN\n",
      "Training Time   147.804289            0.148943  1.494663      0.110694\n",
      "took: 717.6376886367798 seconds\n",
      "\n",
      "**********\n",
      "\n",
      "K: \t10\n",
      "Epoch 0: 2.9934713494448415\n",
      "Epoch 25: 0.012929302690850046\n",
      "Epoch 50: 0.0039583047849923135\n",
      "Epoch 75: 0.0022704970687587264\n",
      "Epoch 100: 0.0016337367041228336\n",
      "Epoch 125: 0.0012896061894629568\n",
      "Epoch 150: 0.0010714687567835084\n",
      "W1 size 602\n",
      "W2 size 19\n",
      "W3 size 10\n",
      "Took: 153.20847129821777 for training\n",
      "Took: 465.38518619537354 for predicting 829 training instances\n",
      "Took: 54.72070598602295 for predicting 92 test instances\n",
      "Took: 57.025617837905884 for predicting 99 Turkish test instances\n"
     ]
    },
    {
     "name": "stderr",
     "output_type": "stream",
     "text": [
      "/usr/local/lib/python3.5/dist-packages/sklearn/metrics/classification.py:1135: UndefinedMetricWarning: F-score is ill-defined and being set to 0.0 in labels with no predicted samples.\n",
      "  'precision', 'predicted', average, warn_for)\n",
      "/usr/local/lib/python3.5/dist-packages/sklearn/metrics/classification.py:1137: UndefinedMetricWarning: F-score is ill-defined and being set to 0.0 in labels with no true samples.\n",
      "  'recall', 'true', average, warn_for)\n"
     ]
    },
    {
     "name": "stdout",
     "output_type": "stream",
     "text": [
      "\n",
      "                DeepSelect  LogisticRegression       MLP  RandomForest\n",
      "F1 Test           0.040197            0.305875  0.332993      0.327193\n",
      "F1 Tr. only       0.022222            0.054836  0.077188      0.072809\n",
      "F1 Train          0.055503            0.332507  0.528994      0.995171\n",
      "Pred.Tra. Time  465.385186            0.000678  0.001666      0.105781\n",
      "Test              0.811141            0.794837  0.798913      0.790761\n",
      "Test_LL          13.651227                 NaN       NaN           NaN\n",
      "Testing Time     54.720706            0.000145  0.000374      0.101950\n",
      "Tr. Only          0.617284            0.631874  0.631874      0.640853\n",
      "Tr. Only_LL       7.125851                 NaN       NaN           NaN\n",
      "Tr.Test Time     57.025618            0.000121  0.000337      0.105563\n",
      "Train             0.838118            0.836429  0.874306      0.999397\n",
      "Train_LL         12.097566                 NaN       NaN           NaN\n",
      "Training Time   153.208471            0.146303  1.338109      0.134842\n",
      "took: 730.5266816616058 seconds\n",
      "\n",
      "**********\n",
      "\n",
      "Average scores for trial 0\n",
      "                DeepSelect  LogisticRegression       MLP  RandomForest\n",
      "F1 Test           0.055584            0.252007  0.264608      0.255502\n",
      "F1 Tr. only       0.022222            0.055517  0.061437      0.064730\n",
      "F1 Train          0.054081            0.336806  0.557834      0.991549\n",
      "Pred.Tra. Time  453.106608            0.000668  0.001640      0.105586\n",
      "Test              0.825410            0.805989  0.805618      0.796140\n",
      "Test_LL          12.297323                 NaN       NaN           NaN\n",
      "Testing Time     49.953158            0.000166  0.000470      0.102392\n",
      "Tr. Only          0.617284            0.636925  0.632435      0.626038\n",
      "Tr. Only_LL       7.128904                 NaN       NaN           NaN\n",
      "Tr.Test Time     53.883050            0.000121  0.000332      0.105341\n",
      "Train             0.839076            0.838762  0.880685      0.998130\n",
      "Train_LL         12.288007                 NaN       NaN           NaN\n",
      "Training Time   148.593823            0.148941  1.435759      0.122615\n",
      "------------------------------\n",
      "%%%%%%%%%%%%%%%%%%%%%%%%%%%%%%%%%%%%%%%%\n",
      "Average of 1 trials\n",
      "                DeepSelect  LogisticRegression       MLP  RandomForest\n",
      "F1 Test           0.055584            0.252007  0.264608      0.255502\n",
      "F1 Tr. only       0.022222            0.055517  0.061437      0.064730\n",
      "F1 Train          0.054081            0.336806  0.557834      0.991549\n",
      "Pred.Tra. Time  453.106608            0.000668  0.001640      0.105586\n",
      "Test              0.825410            0.805989  0.805618      0.796140\n",
      "Test_LL          12.297323                 NaN       NaN           NaN\n",
      "Testing Time     49.953158            0.000166  0.000470      0.102392\n",
      "Tr. Only          0.617284            0.636925  0.632435      0.626038\n",
      "Tr. Only_LL       7.128904                 NaN       NaN           NaN\n",
      "Tr.Test Time     53.883050            0.000121  0.000332      0.105341\n",
      "Train             0.839076            0.838762  0.880685      0.998130\n",
      "Train_LL         12.288007                 NaN       NaN           NaN\n",
      "Training Time   148.593823            0.148941  1.435759      0.122615\n"
     ]
    }
   ],
   "source": [
    "scores_tables_nn = eval_selectivewaves_nn(df, tronly_test_raw)\n",
    "pickle.dump(scores_tables_nn, open(\"../results/incremental_tf_tables.results\", \"wb\"))"
   ]
  },
  {
   "cell_type": "markdown",
   "metadata": {},
   "source": [
    "# Robustness test"
   ]
  },
  {
   "cell_type": "code",
   "execution_count": 108,
   "metadata": {},
   "outputs": [],
   "source": [
    "def f1_score_weighted(true, preds):\n",
    "    return f1_score(true, preds, average='weighted')"
   ]
  },
  {
   "cell_type": "code",
   "execution_count": 222,
   "metadata": {},
   "outputs": [],
   "source": [
    "DEFAULT_METRICES = {\"MAE-accuracy\":distance_accuracy, \"f1_score w.avg\":f1_score_weighted}\n",
    "\n",
    "def robustness_test(df_full, test, metrics=DEFAULT_METRICES, iterations_nn=150, iterations_regclass=50):\n",
    "    en_revs = df_full[df_full.Language==\"en\"]\n",
    "    tr_revs = df_full[df_full.Language==\"tr\"]\n",
    "    robustness = dict()  # {(num of en reviews, num of tr reviews): scores_dict}\n",
    "    for en_size in range(1,11):\n",
    "        for tr_size in range(1,11):\n",
    "            en_train = en_revs.sample(frac=en_size/10.0)\n",
    "            tr_train = tr_revs.sample(frac=tr_size/10.0)\n",
    "            start = time.time()\n",
    "            print(\"En: {}\\tTr: {}\".format(len(en_train),len(tr_train)))\n",
    "            train = pd.concat([en_train, tr_train]).reset_index(drop=True)\n",
    "            robustness_tables = dict()\n",
    "            print(\"Using first variation (Regressor and Classifier with score vectors)\")\n",
    "            LSMR, score_vect_dicts, training_curve = get_score_vects(\n",
    "                                            train, alpha=1e-5, iterations=iterations_regclass)\n",
    "            regressor, classifier = fit(LSMR, score_vect_dicts)\n",
    "            test_vecs = preprocess_data(test)\n",
    "            preds, true = predict(test_vecs, score_vect_dicts, regressor, classifier)\n",
    "            robustness_tables[\"DeepSelect (regclass)\"] = dict()\n",
    "            robustness_tables[\"DeepSelect\"] = dict()\n",
    "\n",
    "            print(\"Using second variation (average of outputs produced by each set of weight matrices)\")\n",
    "            W1, W2, W3, training_curve, classes = train_selective(train, epochs=iterations_nn, p_every=25)\n",
    "            preds_nn, true_nn, probs = predict_selective(test, W1, W2, W3, classes=classes)\n",
    "            ll = log_loss(true_nn,probs, labels=classes)\n",
    "            \n",
    "    #         f1_test_nn = f1_score(true_nn, preds_nn, average='weighted')\n",
    "        \n",
    "            for name, metric in metrics.items():\n",
    "                \n",
    "                s_regclass = metric(true, preds)\n",
    "                s_nn = metric(true_nn, preds_nn)\n",
    "    #         f1_test_regclass = f1_score(true, preds, average='weighted')\n",
    "                robustness_tables[\"DeepSelect (regclass)\"][name] = s_regclass\n",
    "                robustness_tables[\"DeepSelect\"][name] = s_nn\n",
    "            robustness_tables[\"DeepSelect (regclass)\"][\"log loss\"] = np.NAN\n",
    "            robustness_tables[\"DeepSelect\"][\"log loss\"] = ll\n",
    "\n",
    "            print(\"Using well-known algorithms: Logistic Regression, RandomForest and MLP\")\n",
    "            lr = LogisticRegression()\n",
    "            rf = RandomForestClassifier(n_jobs=-1)\n",
    "            mlp = MLPClassifier()\n",
    "\n",
    "            train_mat = np.array(list(LSMR[\"rev_vec\"]))\n",
    "            train_y = np.array(list(LSMR[\"Score\"]))\n",
    "            test_mat = np.array(list(test_vecs[\"rev_vec\"]))\n",
    "\n",
    "            for model_name, model in [(\"Logistic Regression\",lr),\n",
    "                                (\"RandomForest\", rf),\n",
    "                                (\"MLP\", mlp)]:\n",
    "                model.fit(train_mat, train_y)\n",
    "                robustness_tables.setdefault(model_name, dict())\n",
    "                robustness_tables[model_name][\"log loss\"] = np.NAN\n",
    "                for metric_name, metric in metrics.items():\n",
    "                    robustness_tables[model_name][metric_name] = metric(true, model.predict(test_mat))\n",
    "            robustness[(len(en_train),len(tr_train))] = robustness_tables\n",
    "            print(\"Took: {}\".format(time.time()-start))\n",
    "            print(\"-\"*50)\n",
    "    return robustness"
   ]
  },
  {
   "cell_type": "code",
   "execution_count": 112,
   "metadata": {
    "scrolled": true
   },
   "outputs": [
    {
     "name": "stdout",
     "output_type": "stream",
     "text": [
      "En: 50\tTr: 42\n",
      "Using first variation (Regressor and Classifier with score vectors)\n",
      "epoch 0:\t16.16214025578675\n",
      "epoch 10:\t16.111929013766158\n",
      "epoch 20:\t16.033517423309394\n",
      "epoch 30:\t15.96701407651971\n",
      "epoch 40:\t15.917165631766993\n",
      "epoch 50:\t15.872577424756678\n",
      "Using second variation (average of outputs produced by each set of weight matrices)\n",
      "Epoch 0: 7.056428817968876\n",
      "Epoch 25: 0.022035374260034903\n",
      "Epoch 50: 0.009983955117743038\n",
      "Epoch 75: 0.006561515400701113\n",
      "Epoch 100: 0.0049227987240892225\n",
      "Epoch 125: 0.0039557820361017584\n",
      "Epoch 150: 0.0033154513993414857\n"
     ]
    },
    {
     "name": "stderr",
     "output_type": "stream",
     "text": [
      "/usr/local/lib/python3.5/dist-packages/sklearn/metrics/classification.py:1135: UndefinedMetricWarning: F-score is ill-defined and being set to 0.0 in labels with no predicted samples.\n",
      "  'precision', 'predicted', average, warn_for)\n"
     ]
    },
    {
     "name": "stdout",
     "output_type": "stream",
     "text": [
      "Using well-known algorithms: Logistic Regression, RandomForest and MLP\n"
     ]
    },
    {
     "name": "stderr",
     "output_type": "stream",
     "text": [
      "/usr/local/lib/python3.5/dist-packages/sklearn/metrics/classification.py:1135: UndefinedMetricWarning: F-score is ill-defined and being set to 0.0 in labels with no predicted samples.\n",
      "  'precision', 'predicted', average, warn_for)\n",
      "/usr/local/lib/python3.5/dist-packages/sklearn/neural_network/multilayer_perceptron.py:564: ConvergenceWarning: Stochastic Optimizer: Maximum iterations (200) reached and the optimization hasn't converged yet.\n",
      "  % self.max_iter, ConvergenceWarning)\n"
     ]
    },
    {
     "name": "stdout",
     "output_type": "stream",
     "text": [
      "Took: 29.425021171569824\n",
      "--------------------------------------------------\n",
      "En: 50\tTr: 84\n",
      "Using first variation (Regressor and Classifier with score vectors)\n",
      "epoch 0:\t20.626597460985447\n",
      "epoch 10:\t20.506254884015398\n",
      "epoch 20:\t20.39389621861168\n",
      "epoch 30:\t20.28264915033963\n",
      "epoch 40:\t20.17534565658642\n",
      "epoch 50:\t20.073614064441486\n",
      "Using second variation (average of outputs produced by each set of weight matrices)\n",
      "Epoch 0: 5.608208764900468\n",
      "Epoch 25: 0.05821456690905472\n",
      "Epoch 50: 0.014138146270786975\n",
      "Epoch 75: 0.008361474881245504\n",
      "Epoch 100: 0.006002886781447984\n",
      "Epoch 125: 0.004709045632275028\n",
      "Epoch 150: 0.0038875601788908197\n",
      "Using well-known algorithms: Logistic Regression, RandomForest and MLP\n"
     ]
    },
    {
     "name": "stderr",
     "output_type": "stream",
     "text": [
      "/usr/local/lib/python3.5/dist-packages/sklearn/metrics/classification.py:1135: UndefinedMetricWarning: F-score is ill-defined and being set to 0.0 in labels with no predicted samples.\n",
      "  'precision', 'predicted', average, warn_for)\n",
      "/usr/local/lib/python3.5/dist-packages/sklearn/neural_network/multilayer_perceptron.py:564: ConvergenceWarning: Stochastic Optimizer: Maximum iterations (200) reached and the optimization hasn't converged yet.\n",
      "  % self.max_iter, ConvergenceWarning)\n"
     ]
    },
    {
     "name": "stdout",
     "output_type": "stream",
     "text": [
      "Took: 37.90580081939697\n",
      "--------------------------------------------------\n",
      "En: 50\tTr: 126\n",
      "Using first variation (Regressor and Classifier with score vectors)\n",
      "epoch 0:\t18.33574271698769\n",
      "epoch 10:\t18.230991254714947\n",
      "epoch 20:\t18.10478791660271\n",
      "epoch 30:\t17.964583664237082\n",
      "epoch 40:\t17.84607819816666\n",
      "epoch 50:\t17.744248601891798\n",
      "Using second variation (average of outputs produced by each set of weight matrices)\n",
      "Epoch 0: 7.577642690764068\n",
      "Epoch 25: 0.07044427960208437\n",
      "Epoch 50: 0.014872479035894705\n",
      "Epoch 75: 0.008266687842702358\n",
      "Epoch 100: 0.005832656096982641\n",
      "Epoch 125: 0.004542322010929018\n",
      "Epoch 150: 0.0037362941176239547\n",
      "Using well-known algorithms: Logistic Regression, RandomForest and MLP\n"
     ]
    },
    {
     "name": "stderr",
     "output_type": "stream",
     "text": [
      "/usr/local/lib/python3.5/dist-packages/sklearn/metrics/classification.py:1135: UndefinedMetricWarning: F-score is ill-defined and being set to 0.0 in labels with no predicted samples.\n",
      "  'precision', 'predicted', average, warn_for)\n",
      "/usr/local/lib/python3.5/dist-packages/sklearn/neural_network/multilayer_perceptron.py:564: ConvergenceWarning: Stochastic Optimizer: Maximum iterations (200) reached and the optimization hasn't converged yet.\n",
      "  % self.max_iter, ConvergenceWarning)\n"
     ]
    },
    {
     "name": "stdout",
     "output_type": "stream",
     "text": [
      "Took: 49.588834047317505\n",
      "--------------------------------------------------\n",
      "En: 50\tTr: 168\n",
      "Using first variation (Regressor and Classifier with score vectors)\n",
      "epoch 0:\t19.484863520543993\n",
      "epoch 10:\t19.39707861315943\n",
      "epoch 20:\t19.30186507569244\n",
      "epoch 30:\t19.1827286313328\n",
      "epoch 40:\t19.06053877467648\n",
      "epoch 50:\t18.94438576030668\n",
      "Using second variation (average of outputs produced by each set of weight matrices)\n",
      "Epoch 0: 4.970567185087012\n",
      "Epoch 25: 0.022772777100857046\n",
      "Epoch 50: 0.008091580533351347\n",
      "Epoch 75: 0.005119424021008562\n",
      "Epoch 100: 0.00380116792562597\n",
      "Epoch 125: 0.0030478241637560645\n",
      "Epoch 150: 0.002556953789264242\n",
      "Using well-known algorithms: Logistic Regression, RandomForest and MLP\n"
     ]
    },
    {
     "name": "stderr",
     "output_type": "stream",
     "text": [
      "/usr/local/lib/python3.5/dist-packages/sklearn/metrics/classification.py:1135: UndefinedMetricWarning: F-score is ill-defined and being set to 0.0 in labels with no predicted samples.\n",
      "  'precision', 'predicted', average, warn_for)\n"
     ]
    },
    {
     "name": "stdout",
     "output_type": "stream",
     "text": [
      "Took: 62.22925019264221\n",
      "--------------------------------------------------\n",
      "En: 50\tTr: 210\n",
      "Using first variation (Regressor and Classifier with score vectors)\n",
      "epoch 0:\t22.183285264179652\n",
      "epoch 10:\t21.79321902989952\n",
      "epoch 20:\t21.613260663872413\n",
      "epoch 30:\t21.455168263585403\n",
      "epoch 40:\t21.300889756741185\n",
      "epoch 50:\t21.161990092647812\n",
      "Using second variation (average of outputs produced by each set of weight matrices)\n",
      "Epoch 0: 5.435196733546931\n",
      "Epoch 25: 0.03333599627095531\n",
      "Epoch 50: 0.007935182277794823\n",
      "Epoch 75: 0.004536114863495081\n",
      "Epoch 100: 0.0032291206016846164\n",
      "Epoch 125: 0.00252479248635408\n",
      "Epoch 150: 0.002081361595033225\n",
      "Using well-known algorithms: Logistic Regression, RandomForest and MLP\n"
     ]
    },
    {
     "name": "stderr",
     "output_type": "stream",
     "text": [
      "/usr/local/lib/python3.5/dist-packages/sklearn/metrics/classification.py:1135: UndefinedMetricWarning: F-score is ill-defined and being set to 0.0 in labels with no predicted samples.\n",
      "  'precision', 'predicted', average, warn_for)\n",
      "/usr/local/lib/python3.5/dist-packages/sklearn/neural_network/multilayer_perceptron.py:564: ConvergenceWarning: Stochastic Optimizer: Maximum iterations (200) reached and the optimization hasn't converged yet.\n",
      "  % self.max_iter, ConvergenceWarning)\n"
     ]
    },
    {
     "name": "stdout",
     "output_type": "stream",
     "text": [
      "Took: 68.36704182624817\n",
      "--------------------------------------------------\n",
      "En: 50\tTr: 253\n",
      "Using first variation (Regressor and Classifier with score vectors)\n",
      "epoch 0:\t21.709469066998214\n",
      "epoch 10:\t21.52825290280327\n",
      "epoch 20:\t21.37326111674258\n",
      "epoch 30:\t21.197133730307073\n",
      "epoch 40:\t21.04636595591533\n",
      "epoch 50:\t20.895925768957568\n",
      "Using second variation (average of outputs produced by each set of weight matrices)\n",
      "Epoch 0: 4.5003230524619635\n",
      "Epoch 25: 0.013016510666127315\n",
      "Epoch 50: 0.005015855907243344\n",
      "Epoch 75: 0.00320274820020036\n",
      "Epoch 100: 0.002379738431727486\n",
      "Epoch 125: 0.0019053309819715312\n",
      "Epoch 150: 0.0015951678754632936\n",
      "Using well-known algorithms: Logistic Regression, RandomForest and MLP\n"
     ]
    },
    {
     "name": "stderr",
     "output_type": "stream",
     "text": [
      "/usr/local/lib/python3.5/dist-packages/sklearn/metrics/classification.py:1135: UndefinedMetricWarning: F-score is ill-defined and being set to 0.0 in labels with no predicted samples.\n",
      "  'precision', 'predicted', average, warn_for)\n",
      "/usr/local/lib/python3.5/dist-packages/sklearn/neural_network/multilayer_perceptron.py:564: ConvergenceWarning: Stochastic Optimizer: Maximum iterations (200) reached and the optimization hasn't converged yet.\n",
      "  % self.max_iter, ConvergenceWarning)\n"
     ]
    },
    {
     "name": "stdout",
     "output_type": "stream",
     "text": [
      "Took: 83.15148878097534\n",
      "--------------------------------------------------\n",
      "En: 50\tTr: 295\n",
      "Using first variation (Regressor and Classifier with score vectors)\n",
      "epoch 0:\t17.96465964166327\n",
      "epoch 10:\t17.950674398700887\n",
      "epoch 20:\t17.906124736636073\n",
      "epoch 30:\t17.862781643010507\n",
      "epoch 40:\t17.80911354632027\n",
      "epoch 50:\t17.76063764532448\n",
      "Using second variation (average of outputs produced by each set of weight matrices)\n",
      "Epoch 0: 2.779130028590621\n",
      "Epoch 25: 0.012812696690385247\n",
      "Epoch 50: 0.004822209174454142\n",
      "Epoch 75: 0.0030372704287783\n",
      "Epoch 100: 0.0022343761543898682\n",
      "Epoch 125: 0.0017744802234629915\n",
      "Epoch 150: 0.0014753690901797235\n",
      "Using well-known algorithms: Logistic Regression, RandomForest and MLP\n"
     ]
    },
    {
     "name": "stderr",
     "output_type": "stream",
     "text": [
      "/usr/local/lib/python3.5/dist-packages/sklearn/metrics/classification.py:1135: UndefinedMetricWarning: F-score is ill-defined and being set to 0.0 in labels with no predicted samples.\n",
      "  'precision', 'predicted', average, warn_for)\n",
      "/usr/local/lib/python3.5/dist-packages/sklearn/neural_network/multilayer_perceptron.py:564: ConvergenceWarning: Stochastic Optimizer: Maximum iterations (200) reached and the optimization hasn't converged yet.\n",
      "  % self.max_iter, ConvergenceWarning)\n"
     ]
    },
    {
     "name": "stdout",
     "output_type": "stream",
     "text": [
      "Took: 93.22192549705505\n",
      "--------------------------------------------------\n",
      "En: 50\tTr: 337\n",
      "Using first variation (Regressor and Classifier with score vectors)\n",
      "epoch 0:\t22.417019620161124\n",
      "epoch 10:\t22.255681947459976\n",
      "epoch 20:\t22.09380868246985\n",
      "epoch 30:\t21.963925309642416\n",
      "epoch 40:\t21.862203700356893\n",
      "epoch 50:\t21.75921689910253\n",
      "Using second variation (average of outputs produced by each set of weight matrices)\n",
      "Epoch 0: 2.3192953012348974\n",
      "Epoch 25: 0.008300431394940836\n",
      "Epoch 50: 0.0037048451845592212\n",
      "Epoch 75: 0.0024474916996373823\n",
      "Epoch 100: 0.001847724613877457\n",
      "Epoch 125: 0.0014935458906391048\n",
      "Epoch 150: 0.0012585761744391178\n",
      "Using well-known algorithms: Logistic Regression, RandomForest and MLP\n"
     ]
    },
    {
     "name": "stderr",
     "output_type": "stream",
     "text": [
      "/usr/local/lib/python3.5/dist-packages/sklearn/metrics/classification.py:1135: UndefinedMetricWarning: F-score is ill-defined and being set to 0.0 in labels with no predicted samples.\n",
      "  'precision', 'predicted', average, warn_for)\n",
      "/usr/local/lib/python3.5/dist-packages/sklearn/neural_network/multilayer_perceptron.py:564: ConvergenceWarning: Stochastic Optimizer: Maximum iterations (200) reached and the optimization hasn't converged yet.\n",
      "  % self.max_iter, ConvergenceWarning)\n"
     ]
    },
    {
     "name": "stdout",
     "output_type": "stream",
     "text": [
      "Took: 108.6996808052063\n",
      "--------------------------------------------------\n",
      "En: 50\tTr: 379\n",
      "Using first variation (Regressor and Classifier with score vectors)\n",
      "epoch 0:\t27.978066113206772\n",
      "epoch 10:\t27.271879287365966\n",
      "epoch 20:\t26.818870703188633\n",
      "epoch 30:\t26.40440298091344\n",
      "epoch 40:\t26.047789975531536\n",
      "epoch 50:\t25.711899709965394\n",
      "Using second variation (average of outputs produced by each set of weight matrices)\n",
      "Epoch 0: 2.6379036802857803\n",
      "Epoch 25: 0.01622396867521851\n",
      "Epoch 50: 0.004829085004934894\n",
      "Epoch 75: 0.0029109779539004304\n",
      "Epoch 100: 0.0021041171192434185\n",
      "Epoch 125: 0.0016562307444255282\n",
      "Epoch 150: 0.0013701285963651849\n",
      "Using well-known algorithms: Logistic Regression, RandomForest and MLP\n"
     ]
    },
    {
     "name": "stderr",
     "output_type": "stream",
     "text": [
      "/usr/local/lib/python3.5/dist-packages/sklearn/metrics/classification.py:1135: UndefinedMetricWarning: F-score is ill-defined and being set to 0.0 in labels with no predicted samples.\n",
      "  'precision', 'predicted', average, warn_for)\n",
      "/usr/local/lib/python3.5/dist-packages/sklearn/neural_network/multilayer_perceptron.py:564: ConvergenceWarning: Stochastic Optimizer: Maximum iterations (200) reached and the optimization hasn't converged yet.\n",
      "  % self.max_iter, ConvergenceWarning)\n"
     ]
    },
    {
     "name": "stdout",
     "output_type": "stream",
     "text": [
      "Took: 109.38552975654602\n",
      "--------------------------------------------------\n",
      "En: 50\tTr: 421\n",
      "Using first variation (Regressor and Classifier with score vectors)\n",
      "epoch 0:\t21.43732734547169\n",
      "epoch 10:\t21.23899777312912\n",
      "epoch 20:\t21.01374674326525\n",
      "epoch 30:\t20.80889347774812\n",
      "epoch 40:\t20.621755713869213\n",
      "epoch 50:\t20.44811108798367\n",
      "Using second variation (average of outputs produced by each set of weight matrices)\n",
      "Epoch 0: 2.6905921476700683\n",
      "Epoch 25: 0.022056344003894588\n",
      "Epoch 50: 0.00571195719867258\n",
      "Epoch 75: 0.002987568903045455\n",
      "Epoch 100: 0.0020957118872849756\n",
      "Epoch 125: 0.001636747088987971\n",
      "Epoch 150: 0.0013525368254790687\n",
      "Using well-known algorithms: Logistic Regression, RandomForest and MLP\n"
     ]
    },
    {
     "name": "stderr",
     "output_type": "stream",
     "text": [
      "/usr/local/lib/python3.5/dist-packages/sklearn/metrics/classification.py:1135: UndefinedMetricWarning: F-score is ill-defined and being set to 0.0 in labels with no predicted samples.\n",
      "  'precision', 'predicted', average, warn_for)\n",
      "/usr/local/lib/python3.5/dist-packages/sklearn/neural_network/multilayer_perceptron.py:564: ConvergenceWarning: Stochastic Optimizer: Maximum iterations (200) reached and the optimization hasn't converged yet.\n",
      "  % self.max_iter, ConvergenceWarning)\n"
     ]
    },
    {
     "name": "stdout",
     "output_type": "stream",
     "text": [
      "Took: 122.4136004447937\n",
      "--------------------------------------------------\n",
      "En: 100\tTr: 42\n",
      "Using first variation (Regressor and Classifier with score vectors)\n",
      "epoch 0:\t18.465234727917455\n",
      "epoch 10:\t18.384097850983046\n",
      "epoch 20:\t18.274562750628593\n",
      "epoch 30:\t18.205426776796426\n",
      "epoch 40:\t18.100940315106545\n",
      "epoch 50:\t17.993157513401655\n",
      "Using second variation (average of outputs produced by each set of weight matrices)\n",
      "Epoch 0: 6.069529826455091\n",
      "Epoch 25: 0.018258800937115332\n",
      "Epoch 50: 0.007932345952981514\n",
      "Epoch 75: 0.005182603363465833\n",
      "Epoch 100: 0.0038882025899920976\n",
      "Epoch 125: 0.0031294069969820633\n",
      "Epoch 150: 0.002628345608569925\n",
      "Using well-known algorithms: Logistic Regression, RandomForest and MLP\n"
     ]
    },
    {
     "name": "stderr",
     "output_type": "stream",
     "text": [
      "/usr/local/lib/python3.5/dist-packages/sklearn/metrics/classification.py:1135: UndefinedMetricWarning: F-score is ill-defined and being set to 0.0 in labels with no predicted samples.\n",
      "  'precision', 'predicted', average, warn_for)\n",
      "/usr/local/lib/python3.5/dist-packages/sklearn/neural_network/multilayer_perceptron.py:564: ConvergenceWarning: Stochastic Optimizer: Maximum iterations (200) reached and the optimization hasn't converged yet.\n",
      "  % self.max_iter, ConvergenceWarning)\n"
     ]
    },
    {
     "name": "stdout",
     "output_type": "stream",
     "text": [
      "Took: 38.83457279205322\n",
      "--------------------------------------------------\n",
      "En: 100\tTr: 84\n",
      "Using first variation (Regressor and Classifier with score vectors)\n",
      "epoch 0:\t21.088183899021907\n",
      "epoch 10:\t20.842764971907307\n",
      "epoch 20:\t20.58708061684333\n",
      "epoch 30:\t20.317231824351566\n",
      "epoch 40:\t20.069925581651493\n",
      "epoch 50:\t19.8485378090361\n",
      "Using second variation (average of outputs produced by each set of weight matrices)\n",
      "Epoch 0: 4.821772173749354\n",
      "Epoch 25: 0.015436503480170517\n",
      "Epoch 50: 0.006536002491434461\n",
      "Epoch 75: 0.004231485256061796\n",
      "Epoch 100: 0.0031575463594047224\n",
      "Epoch 125: 0.0025318398195175932\n",
      "Epoch 150: 0.002120502783151447\n",
      "Using well-known algorithms: Logistic Regression, RandomForest and MLP\n"
     ]
    },
    {
     "name": "stderr",
     "output_type": "stream",
     "text": [
      "/usr/local/lib/python3.5/dist-packages/sklearn/metrics/classification.py:1135: UndefinedMetricWarning: F-score is ill-defined and being set to 0.0 in labels with no predicted samples.\n",
      "  'precision', 'predicted', average, warn_for)\n",
      "/usr/local/lib/python3.5/dist-packages/sklearn/neural_network/multilayer_perceptron.py:564: ConvergenceWarning: Stochastic Optimizer: Maximum iterations (200) reached and the optimization hasn't converged yet.\n",
      "  % self.max_iter, ConvergenceWarning)\n"
     ]
    },
    {
     "name": "stdout",
     "output_type": "stream",
     "text": [
      "Took: 53.57244634628296\n",
      "--------------------------------------------------\n",
      "En: 100\tTr: 126\n",
      "Using first variation (Regressor and Classifier with score vectors)\n",
      "epoch 0:\t17.60211960643887\n",
      "epoch 10:\t17.571986339634506\n",
      "epoch 20:\t17.533876209804138\n",
      "epoch 30:\t17.47852789174167\n",
      "epoch 40:\t17.417612964631267\n",
      "epoch 50:\t17.337896425520704\n",
      "Using second variation (average of outputs produced by each set of weight matrices)\n",
      "Epoch 0: 6.225788994310181\n",
      "Epoch 25: 0.032495980431421816\n",
      "Epoch 50: 0.008368517632086766\n",
      "Epoch 75: 0.004997439585429321\n",
      "Epoch 100: 0.003625863380475755\n",
      "Epoch 125: 0.002866026447734948\n",
      "Epoch 150: 0.0023794692459033645\n",
      "Using well-known algorithms: Logistic Regression, RandomForest and MLP\n"
     ]
    },
    {
     "name": "stderr",
     "output_type": "stream",
     "text": [
      "/usr/local/lib/python3.5/dist-packages/sklearn/metrics/classification.py:1135: UndefinedMetricWarning: F-score is ill-defined and being set to 0.0 in labels with no predicted samples.\n",
      "  'precision', 'predicted', average, warn_for)\n"
     ]
    },
    {
     "name": "stdout",
     "output_type": "stream",
     "text": [
      "Took: 67.47388219833374\n",
      "--------------------------------------------------\n",
      "En: 100\tTr: 168\n",
      "Using first variation (Regressor and Classifier with score vectors)\n",
      "epoch 0:\t19.567049118325958\n",
      "epoch 10:\t19.45585992657068\n",
      "epoch 20:\t19.347371123559462\n",
      "epoch 30:\t19.256445452195504\n",
      "epoch 40:\t19.173735058611705\n",
      "epoch 50:\t19.0947752568435\n",
      "Using second variation (average of outputs produced by each set of weight matrices)\n",
      "Epoch 0: 3.5446329338949996\n",
      "Epoch 25: 0.04090047088356465\n",
      "Epoch 50: 0.008302241666034393\n",
      "Epoch 75: 0.004411548619287676\n",
      "Epoch 100: 0.00305825261766853\n",
      "Epoch 125: 0.002358992641537434\n",
      "Epoch 150: 0.001929143537032008\n",
      "Using well-known algorithms: Logistic Regression, RandomForest and MLP\n"
     ]
    },
    {
     "name": "stderr",
     "output_type": "stream",
     "text": [
      "/usr/local/lib/python3.5/dist-packages/sklearn/metrics/classification.py:1135: UndefinedMetricWarning: F-score is ill-defined and being set to 0.0 in labels with no predicted samples.\n",
      "  'precision', 'predicted', average, warn_for)\n",
      "/usr/local/lib/python3.5/dist-packages/sklearn/neural_network/multilayer_perceptron.py:564: ConvergenceWarning: Stochastic Optimizer: Maximum iterations (200) reached and the optimization hasn't converged yet.\n",
      "  % self.max_iter, ConvergenceWarning)\n"
     ]
    },
    {
     "name": "stdout",
     "output_type": "stream",
     "text": [
      "Took: 76.54594397544861\n",
      "--------------------------------------------------\n",
      "En: 100\tTr: 210\n",
      "Using first variation (Regressor and Classifier with score vectors)\n",
      "epoch 0:\t21.925538585026864\n",
      "epoch 10:\t21.67741326520499\n",
      "epoch 20:\t21.474595970598756\n",
      "epoch 30:\t21.302679036235894\n",
      "epoch 40:\t21.133639559383496\n",
      "epoch 50:\t20.968016913275008\n",
      "Using second variation (average of outputs produced by each set of weight matrices)\n",
      "Epoch 0: 4.397979413281498\n",
      "Epoch 25: 0.014160378872052647\n",
      "Epoch 50: 0.006352179245456477\n",
      "Epoch 75: 0.004220856120772506\n",
      "Epoch 100: 0.003202270702170227\n",
      "Epoch 125: 0.0025982683776265406\n",
      "Epoch 150: 0.0021956027711865084\n",
      "Using well-known algorithms: Logistic Regression, RandomForest and MLP\n"
     ]
    },
    {
     "name": "stderr",
     "output_type": "stream",
     "text": [
      "/usr/local/lib/python3.5/dist-packages/sklearn/metrics/classification.py:1135: UndefinedMetricWarning: F-score is ill-defined and being set to 0.0 in labels with no predicted samples.\n",
      "  'precision', 'predicted', average, warn_for)\n",
      "/usr/local/lib/python3.5/dist-packages/sklearn/neural_network/multilayer_perceptron.py:564: ConvergenceWarning: Stochastic Optimizer: Maximum iterations (200) reached and the optimization hasn't converged yet.\n",
      "  % self.max_iter, ConvergenceWarning)\n"
     ]
    },
    {
     "name": "stdout",
     "output_type": "stream",
     "text": [
      "Took: 90.22135257720947\n",
      "--------------------------------------------------\n",
      "En: 100\tTr: 253\n",
      "Using first variation (Regressor and Classifier with score vectors)\n",
      "epoch 0:\t23.47912610959761\n",
      "epoch 10:\t23.24149027369841\n",
      "epoch 20:\t23.02394855443963\n",
      "epoch 30:\t22.76897571399861\n",
      "epoch 40:\t22.568876600678152\n",
      "epoch 50:\t22.388107475330763\n",
      "Using second variation (average of outputs produced by each set of weight matrices)\n",
      "Epoch 0: 3.1614826498564597\n",
      "Epoch 25: 0.014486419440689947\n",
      "Epoch 50: 0.004850715053229097\n",
      "Epoch 75: 0.0030813882807894334\n",
      "Epoch 100: 0.002286037206178685\n",
      "Epoch 125: 0.0018283532278690437\n",
      "Epoch 150: 0.0015291266917110036\n",
      "Using well-known algorithms: Logistic Regression, RandomForest and MLP\n"
     ]
    },
    {
     "name": "stderr",
     "output_type": "stream",
     "text": [
      "/usr/local/lib/python3.5/dist-packages/sklearn/metrics/classification.py:1135: UndefinedMetricWarning: F-score is ill-defined and being set to 0.0 in labels with no predicted samples.\n",
      "  'precision', 'predicted', average, warn_for)\n",
      "/usr/local/lib/python3.5/dist-packages/sklearn/neural_network/multilayer_perceptron.py:564: ConvergenceWarning: Stochastic Optimizer: Maximum iterations (200) reached and the optimization hasn't converged yet.\n",
      "  % self.max_iter, ConvergenceWarning)\n"
     ]
    },
    {
     "name": "stdout",
     "output_type": "stream",
     "text": [
      "Took: 95.9957127571106\n",
      "--------------------------------------------------\n",
      "En: 100\tTr: 295\n",
      "Using first variation (Regressor and Classifier with score vectors)\n",
      "epoch 0:\t19.003671911201714\n",
      "epoch 10:\t18.967823532432657\n",
      "epoch 20:\t18.91676546913346\n",
      "epoch 30:\t18.84282007314703\n",
      "epoch 40:\t18.776083614255022\n",
      "epoch 50:\t18.704178800955393\n",
      "Using second variation (average of outputs produced by each set of weight matrices)\n",
      "Epoch 0: 1.979467154233823\n",
      "Epoch 25: 0.007838635016157206\n",
      "Epoch 50: 0.0036382123534722957\n",
      "Epoch 75: 0.0024277926371234593\n",
      "Epoch 100: 0.0018414357865806409\n",
      "Epoch 125: 0.001492166476086218\n",
      "Epoch 150: 0.001259068495241674\n",
      "Using well-known algorithms: Logistic Regression, RandomForest and MLP\n"
     ]
    },
    {
     "name": "stderr",
     "output_type": "stream",
     "text": [
      "/usr/local/lib/python3.5/dist-packages/sklearn/metrics/classification.py:1135: UndefinedMetricWarning: F-score is ill-defined and being set to 0.0 in labels with no predicted samples.\n",
      "  'precision', 'predicted', average, warn_for)\n",
      "/usr/local/lib/python3.5/dist-packages/sklearn/neural_network/multilayer_perceptron.py:564: ConvergenceWarning: Stochastic Optimizer: Maximum iterations (200) reached and the optimization hasn't converged yet.\n",
      "  % self.max_iter, ConvergenceWarning)\n"
     ]
    },
    {
     "name": "stdout",
     "output_type": "stream",
     "text": [
      "Took: 103.31662368774414\n",
      "--------------------------------------------------\n",
      "En: 100\tTr: 337\n",
      "Using first variation (Regressor and Classifier with score vectors)\n",
      "epoch 0:\t22.02567316450645\n",
      "epoch 10:\t21.82875161266592\n",
      "epoch 20:\t21.677660763290753\n",
      "epoch 30:\t21.57089529168911\n",
      "epoch 40:\t21.40877072545927\n",
      "epoch 50:\t21.249071483229688\n",
      "Using second variation (average of outputs produced by each set of weight matrices)\n",
      "Epoch 0: 2.790059889188704\n",
      "Epoch 25: 0.011190064096264803\n",
      "Epoch 50: 0.004880486196886576\n",
      "Epoch 75: 0.0031777151176614004\n",
      "Epoch 100: 0.0023766293607096374\n",
      "Epoch 125: 0.0019083058377651605\n",
      "Epoch 150: 0.001599906481781426\n",
      "Using well-known algorithms: Logistic Regression, RandomForest and MLP\n"
     ]
    },
    {
     "name": "stderr",
     "output_type": "stream",
     "text": [
      "/usr/local/lib/python3.5/dist-packages/sklearn/metrics/classification.py:1135: UndefinedMetricWarning: F-score is ill-defined and being set to 0.0 in labels with no predicted samples.\n",
      "  'precision', 'predicted', average, warn_for)\n",
      "/usr/local/lib/python3.5/dist-packages/sklearn/neural_network/multilayer_perceptron.py:564: ConvergenceWarning: Stochastic Optimizer: Maximum iterations (200) reached and the optimization hasn't converged yet.\n",
      "  % self.max_iter, ConvergenceWarning)\n"
     ]
    },
    {
     "name": "stdout",
     "output_type": "stream",
     "text": [
      "Took: 119.4978199005127\n",
      "--------------------------------------------------\n",
      "En: 100\tTr: 379\n",
      "Using first variation (Regressor and Classifier with score vectors)\n",
      "epoch 0:\t21.151008487661684\n",
      "epoch 10:\t21.027775407117073\n",
      "epoch 20:\t20.918789846772135\n",
      "epoch 30:\t20.773592697697275\n",
      "epoch 40:\t20.616305759520507\n",
      "epoch 50:\t20.472971918262672\n",
      "Using second variation (average of outputs produced by each set of weight matrices)\n",
      "Epoch 0: 2.9697085369331595\n",
      "Epoch 25: 0.007810475753327725\n",
      "Epoch 50: 0.0036259753898698773\n",
      "Epoch 75: 0.0024122517921005967\n",
      "Epoch 100: 0.0018251381084122354\n",
      "Epoch 125: 0.0014761164307879493\n",
      "Epoch 150: 0.0012436287308718475\n",
      "Using well-known algorithms: Logistic Regression, RandomForest and MLP\n"
     ]
    },
    {
     "name": "stderr",
     "output_type": "stream",
     "text": [
      "/usr/local/lib/python3.5/dist-packages/sklearn/metrics/classification.py:1135: UndefinedMetricWarning: F-score is ill-defined and being set to 0.0 in labels with no predicted samples.\n",
      "  'precision', 'predicted', average, warn_for)\n",
      "/usr/local/lib/python3.5/dist-packages/sklearn/neural_network/multilayer_perceptron.py:564: ConvergenceWarning: Stochastic Optimizer: Maximum iterations (200) reached and the optimization hasn't converged yet.\n",
      "  % self.max_iter, ConvergenceWarning)\n"
     ]
    },
    {
     "name": "stdout",
     "output_type": "stream",
     "text": [
      "Took: 126.9956922531128\n",
      "--------------------------------------------------\n",
      "En: 100\tTr: 421\n",
      "Using first variation (Regressor and Classifier with score vectors)\n",
      "epoch 0:\t22.450648066536882\n",
      "epoch 10:\t22.26757131184373\n",
      "epoch 20:\t22.095912263483136\n",
      "epoch 30:\t21.97310046042068\n",
      "epoch 40:\t21.8489463856822\n",
      "epoch 50:\t21.742463292373046\n",
      "Using second variation (average of outputs produced by each set of weight matrices)\n",
      "Epoch 0: 2.178374097096556\n",
      "Epoch 25: 0.004881288047779182\n",
      "Epoch 50: 0.0024726534941450088\n",
      "Epoch 75: 0.0016912620053888957\n",
      "Epoch 100: 0.0012977801150131645\n",
      "Epoch 125: 0.0010588330951589247\n",
      "Epoch 150: 0.0008975160305730117\n",
      "Using well-known algorithms: Logistic Regression, RandomForest and MLP\n"
     ]
    },
    {
     "name": "stderr",
     "output_type": "stream",
     "text": [
      "/usr/local/lib/python3.5/dist-packages/sklearn/metrics/classification.py:1135: UndefinedMetricWarning: F-score is ill-defined and being set to 0.0 in labels with no predicted samples.\n",
      "  'precision', 'predicted', average, warn_for)\n",
      "/usr/local/lib/python3.5/dist-packages/sklearn/neural_network/multilayer_perceptron.py:564: ConvergenceWarning: Stochastic Optimizer: Maximum iterations (200) reached and the optimization hasn't converged yet.\n",
      "  % self.max_iter, ConvergenceWarning)\n"
     ]
    },
    {
     "name": "stdout",
     "output_type": "stream",
     "text": [
      "Took: 137.89893794059753\n",
      "--------------------------------------------------\n",
      "En: 150\tTr: 42\n",
      "Using first variation (Regressor and Classifier with score vectors)\n",
      "epoch 0:\t19.418260511232223\n",
      "epoch 10:\t19.2578296640687\n",
      "epoch 20:\t19.113072160401455\n",
      "epoch 30:\t19.0212993727097\n",
      "epoch 40:\t18.9629512246802\n",
      "epoch 50:\t18.901282890457757\n",
      "Using second variation (average of outputs produced by each set of weight matrices)\n",
      "Epoch 0: 4.25152720065186\n",
      "Epoch 25: 0.016041314766312098\n",
      "Epoch 50: 0.005992667095133204\n",
      "Epoch 75: 0.0038304320570432537\n",
      "Epoch 100: 0.002849792596284336\n",
      "Epoch 125: 0.0022835695176487056\n",
      "Epoch 150: 0.0019126798778472676\n",
      "Using well-known algorithms: Logistic Regression, RandomForest and MLP\n"
     ]
    },
    {
     "name": "stderr",
     "output_type": "stream",
     "text": [
      "/usr/local/lib/python3.5/dist-packages/sklearn/metrics/classification.py:1135: UndefinedMetricWarning: F-score is ill-defined and being set to 0.0 in labels with no predicted samples.\n",
      "  'precision', 'predicted', average, warn_for)\n",
      "/usr/local/lib/python3.5/dist-packages/sklearn/neural_network/multilayer_perceptron.py:564: ConvergenceWarning: Stochastic Optimizer: Maximum iterations (200) reached and the optimization hasn't converged yet.\n",
      "  % self.max_iter, ConvergenceWarning)\n"
     ]
    },
    {
     "name": "stdout",
     "output_type": "stream",
     "text": [
      "Took: 60.75319218635559\n",
      "--------------------------------------------------\n",
      "En: 150\tTr: 84\n",
      "Using first variation (Regressor and Classifier with score vectors)\n",
      "epoch 0:\t18.00727269538898\n",
      "epoch 10:\t17.942019016876113\n",
      "epoch 20:\t17.878560827331448\n",
      "epoch 30:\t17.81651080660618\n",
      "epoch 40:\t17.75071195723552\n",
      "epoch 50:\t17.6868777667243\n",
      "Using second variation (average of outputs produced by each set of weight matrices)\n",
      "Epoch 0: 5.214183254318056\n",
      "Epoch 25: 0.021457908596939655\n",
      "Epoch 50: 0.008179267816470971\n",
      "Epoch 75: 0.005218702278819979\n",
      "Epoch 100: 0.003879183517391088\n",
      "Epoch 125: 0.0031077341131256027\n",
      "Epoch 150: 0.002603450795865108\n",
      "Using well-known algorithms: Logistic Regression, RandomForest and MLP\n"
     ]
    },
    {
     "name": "stderr",
     "output_type": "stream",
     "text": [
      "/usr/local/lib/python3.5/dist-packages/sklearn/metrics/classification.py:1135: UndefinedMetricWarning: F-score is ill-defined and being set to 0.0 in labels with no predicted samples.\n",
      "  'precision', 'predicted', average, warn_for)\n",
      "/usr/local/lib/python3.5/dist-packages/sklearn/neural_network/multilayer_perceptron.py:564: ConvergenceWarning: Stochastic Optimizer: Maximum iterations (200) reached and the optimization hasn't converged yet.\n",
      "  % self.max_iter, ConvergenceWarning)\n"
     ]
    },
    {
     "name": "stdout",
     "output_type": "stream",
     "text": [
      "Took: 66.69789814949036\n",
      "--------------------------------------------------\n",
      "En: 150\tTr: 126\n",
      "Using first variation (Regressor and Classifier with score vectors)\n",
      "epoch 0:\t22.664970066553916\n",
      "epoch 10:\t22.2706528185074\n",
      "epoch 20:\t21.796347751657088\n",
      "epoch 30:\t21.52999055799902\n",
      "epoch 40:\t21.279916625509063\n",
      "epoch 50:\t21.061682346463975\n",
      "Using second variation (average of outputs produced by each set of weight matrices)\n",
      "Epoch 0: 3.233255407605822\n",
      "Epoch 25: 0.007148677924491316\n",
      "Epoch 50: 0.0036468452441214927\n",
      "Epoch 75: 0.0025074136637960914\n",
      "Epoch 100: 0.001930652660989572\n",
      "Epoch 125: 0.001578794221437466\n",
      "Epoch 150: 0.0013403503848330959\n",
      "Using well-known algorithms: Logistic Regression, RandomForest and MLP\n"
     ]
    },
    {
     "name": "stderr",
     "output_type": "stream",
     "text": [
      "/usr/local/lib/python3.5/dist-packages/sklearn/metrics/classification.py:1135: UndefinedMetricWarning: F-score is ill-defined and being set to 0.0 in labels with no predicted samples.\n",
      "  'precision', 'predicted', average, warn_for)\n",
      "/usr/local/lib/python3.5/dist-packages/sklearn/neural_network/multilayer_perceptron.py:564: ConvergenceWarning: Stochastic Optimizer: Maximum iterations (200) reached and the optimization hasn't converged yet.\n",
      "  % self.max_iter, ConvergenceWarning)\n"
     ]
    },
    {
     "name": "stdout",
     "output_type": "stream",
     "text": [
      "Took: 81.79825258255005\n",
      "--------------------------------------------------\n",
      "En: 150\tTr: 168\n",
      "Using first variation (Regressor and Classifier with score vectors)\n",
      "epoch 0:\t21.408803303305323\n",
      "epoch 10:\t21.24278935346424\n",
      "epoch 20:\t21.02862588277267\n",
      "epoch 30:\t20.83997589550804\n",
      "epoch 40:\t20.680765187541056\n",
      "epoch 50:\t20.50745518190734\n",
      "Using second variation (average of outputs produced by each set of weight matrices)\n",
      "Epoch 0: 5.175244602072162\n",
      "Epoch 25: 0.0164183390574947\n",
      "Epoch 50: 0.0057284863350085275\n",
      "Epoch 75: 0.0036249055633254057\n",
      "Epoch 100: 0.002678703229939527\n",
      "Epoch 125: 0.0021341199895571336\n",
      "Epoch 150: 0.0017783116939215048\n",
      "Using well-known algorithms: Logistic Regression, RandomForest and MLP\n"
     ]
    },
    {
     "name": "stderr",
     "output_type": "stream",
     "text": [
      "/usr/local/lib/python3.5/dist-packages/sklearn/metrics/classification.py:1135: UndefinedMetricWarning: F-score is ill-defined and being set to 0.0 in labels with no predicted samples.\n",
      "  'precision', 'predicted', average, warn_for)\n",
      "/usr/local/lib/python3.5/dist-packages/sklearn/neural_network/multilayer_perceptron.py:564: ConvergenceWarning: Stochastic Optimizer: Maximum iterations (200) reached and the optimization hasn't converged yet.\n",
      "  % self.max_iter, ConvergenceWarning)\n"
     ]
    },
    {
     "name": "stdout",
     "output_type": "stream",
     "text": [
      "Took: 87.02882146835327\n",
      "--------------------------------------------------\n",
      "En: 150\tTr: 210\n",
      "Using first variation (Regressor and Classifier with score vectors)\n",
      "epoch 0:\t22.051521774584184\n",
      "epoch 10:\t21.947841892980986\n",
      "epoch 20:\t21.687491080573487\n",
      "epoch 30:\t21.481886597784587\n",
      "epoch 40:\t21.21960797756512\n",
      "epoch 50:\t20.982963728349635\n",
      "Using second variation (average of outputs produced by each set of weight matrices)\n",
      "Epoch 0: 1.6831141250985682\n",
      "Epoch 25: 0.012865638957293868\n",
      "Epoch 50: 0.003348153188323345\n",
      "Epoch 75: 0.0020421225548501653\n",
      "Epoch 100: 0.0014942720828375715\n",
      "Epoch 125: 0.0011883954441662089\n",
      "Epoch 150: 0.0009916785993968663\n",
      "Using well-known algorithms: Logistic Regression, RandomForest and MLP\n"
     ]
    },
    {
     "name": "stderr",
     "output_type": "stream",
     "text": [
      "/usr/local/lib/python3.5/dist-packages/sklearn/metrics/classification.py:1135: UndefinedMetricWarning: F-score is ill-defined and being set to 0.0 in labels with no predicted samples.\n",
      "  'precision', 'predicted', average, warn_for)\n",
      "/usr/local/lib/python3.5/dist-packages/sklearn/neural_network/multilayer_perceptron.py:564: ConvergenceWarning: Stochastic Optimizer: Maximum iterations (200) reached and the optimization hasn't converged yet.\n",
      "  % self.max_iter, ConvergenceWarning)\n"
     ]
    },
    {
     "name": "stdout",
     "output_type": "stream",
     "text": [
      "Took: 106.15731835365295\n",
      "--------------------------------------------------\n",
      "En: 150\tTr: 253\n",
      "Using first variation (Regressor and Classifier with score vectors)\n",
      "epoch 0:\t23.757297726381715\n",
      "epoch 10:\t23.57965755453788\n",
      "epoch 20:\t23.481108380087505\n",
      "epoch 30:\t23.362403862510057\n",
      "epoch 40:\t23.213800789483397\n",
      "epoch 50:\t23.034042903099127\n",
      "Using second variation (average of outputs produced by each set of weight matrices)\n",
      "Epoch 0: 2.8798865490282766\n",
      "Epoch 25: 0.009185896563303235\n",
      "Epoch 50: 0.0033535957934520103\n",
      "Epoch 75: 0.0021340626298648074\n",
      "Epoch 100: 0.0015847908083881726\n",
      "Epoch 125: 0.0012686945208800807\n",
      "Epoch 150: 0.0010620650032788835\n",
      "Using well-known algorithms: Logistic Regression, RandomForest and MLP\n"
     ]
    },
    {
     "name": "stderr",
     "output_type": "stream",
     "text": [
      "/usr/local/lib/python3.5/dist-packages/sklearn/metrics/classification.py:1135: UndefinedMetricWarning: F-score is ill-defined and being set to 0.0 in labels with no predicted samples.\n",
      "  'precision', 'predicted', average, warn_for)\n"
     ]
    },
    {
     "name": "stdout",
     "output_type": "stream",
     "text": [
      "Took: 110.73283624649048\n",
      "--------------------------------------------------\n",
      "En: 150\tTr: 295\n",
      "Using first variation (Regressor and Classifier with score vectors)\n",
      "epoch 0:\t20.82832433563999\n",
      "epoch 10:\t20.595138294950473\n",
      "epoch 20:\t20.39421799171345\n",
      "epoch 30:\t20.166826231519963\n",
      "epoch 40:\t19.963361447544933\n",
      "epoch 50:\t19.784675734473964\n",
      "Using second variation (average of outputs produced by each set of weight matrices)\n",
      "Epoch 0: 2.163103996351791\n",
      "Epoch 25: 0.007986303711315609\n",
      "Epoch 50: 0.0033188187976295747\n",
      "Epoch 75: 0.0021925935724150833\n",
      "Epoch 100: 0.0016592469589887626\n",
      "Epoch 125: 0.0013439090280022877\n",
      "Epoch 150: 0.0011340686879128788\n",
      "Using well-known algorithms: Logistic Regression, RandomForest and MLP\n"
     ]
    },
    {
     "name": "stderr",
     "output_type": "stream",
     "text": [
      "/usr/local/lib/python3.5/dist-packages/sklearn/metrics/classification.py:1135: UndefinedMetricWarning: F-score is ill-defined and being set to 0.0 in labels with no predicted samples.\n",
      "  'precision', 'predicted', average, warn_for)\n",
      "/usr/local/lib/python3.5/dist-packages/sklearn/neural_network/multilayer_perceptron.py:564: ConvergenceWarning: Stochastic Optimizer: Maximum iterations (200) reached and the optimization hasn't converged yet.\n",
      "  % self.max_iter, ConvergenceWarning)\n"
     ]
    },
    {
     "name": "stdout",
     "output_type": "stream",
     "text": [
      "Took: 126.29222679138184\n",
      "--------------------------------------------------\n",
      "En: 150\tTr: 337\n",
      "Using first variation (Regressor and Classifier with score vectors)\n",
      "epoch 0:\t20.878191648392573\n",
      "epoch 10:\t20.73255861944774\n",
      "epoch 20:\t20.576575463969967\n",
      "epoch 30:\t20.46410133549815\n",
      "epoch 40:\t20.35395238431649\n",
      "epoch 50:\t20.22615220169348\n",
      "Using second variation (average of outputs produced by each set of weight matrices)\n",
      "Epoch 0: 3.307755308988397\n",
      "Epoch 25: 0.010934352975472126\n",
      "Epoch 50: 0.004757165270494332\n",
      "Epoch 75: 0.003134101984172569\n",
      "Epoch 100: 0.0023682853527504993\n",
      "Epoch 125: 0.0019176709008441983\n",
      "Epoch 150: 0.0016189270019590712\n",
      "Using well-known algorithms: Logistic Regression, RandomForest and MLP\n"
     ]
    },
    {
     "name": "stderr",
     "output_type": "stream",
     "text": [
      "/usr/local/lib/python3.5/dist-packages/sklearn/metrics/classification.py:1135: UndefinedMetricWarning: F-score is ill-defined and being set to 0.0 in labels with no predicted samples.\n",
      "  'precision', 'predicted', average, warn_for)\n",
      "/usr/local/lib/python3.5/dist-packages/sklearn/neural_network/multilayer_perceptron.py:564: ConvergenceWarning: Stochastic Optimizer: Maximum iterations (200) reached and the optimization hasn't converged yet.\n",
      "  % self.max_iter, ConvergenceWarning)\n"
     ]
    },
    {
     "name": "stdout",
     "output_type": "stream",
     "text": [
      "Took: 128.86642146110535\n",
      "--------------------------------------------------\n",
      "En: 150\tTr: 379\n",
      "Using first variation (Regressor and Classifier with score vectors)\n",
      "epoch 0:\t19.765549728709537\n",
      "epoch 10:\t19.70069660596925\n",
      "epoch 20:\t19.607998403659867\n",
      "epoch 30:\t19.494855570399867\n",
      "epoch 40:\t19.399908767761985\n",
      "epoch 50:\t19.322339998684942\n",
      "Using second variation (average of outputs produced by each set of weight matrices)\n",
      "Epoch 0: 1.8241594211716343\n",
      "Epoch 25: 0.005680727853584937\n",
      "Epoch 50: 0.0027438314150372645\n",
      "Epoch 75: 0.0018386138046262565\n",
      "Epoch 100: 0.0013924454797383282\n",
      "Epoch 125: 0.001125213181896093\n",
      "Epoch 150: 0.0009466552197382572\n",
      "Using well-known algorithms: Logistic Regression, RandomForest and MLP\n"
     ]
    },
    {
     "name": "stderr",
     "output_type": "stream",
     "text": [
      "/usr/local/lib/python3.5/dist-packages/sklearn/metrics/classification.py:1135: UndefinedMetricWarning: F-score is ill-defined and being set to 0.0 in labels with no predicted samples.\n",
      "  'precision', 'predicted', average, warn_for)\n",
      "/usr/local/lib/python3.5/dist-packages/sklearn/neural_network/multilayer_perceptron.py:564: ConvergenceWarning: Stochastic Optimizer: Maximum iterations (200) reached and the optimization hasn't converged yet.\n",
      "  % self.max_iter, ConvergenceWarning)\n"
     ]
    },
    {
     "name": "stdout",
     "output_type": "stream",
     "text": [
      "Took: 138.59507656097412\n",
      "--------------------------------------------------\n",
      "En: 150\tTr: 421\n",
      "Using first variation (Regressor and Classifier with score vectors)\n",
      "epoch 0:\t22.11392543935836\n",
      "epoch 10:\t21.87713789068176\n",
      "epoch 20:\t21.6873746138479\n",
      "epoch 30:\t21.583992382707166\n",
      "epoch 40:\t21.519729740194546\n",
      "epoch 50:\t21.438034197318636\n",
      "Using second variation (average of outputs produced by each set of weight matrices)\n",
      "Epoch 0: 1.8997883894136336\n",
      "Epoch 25: 0.0064398250939864815\n",
      "Epoch 50: 0.002566386052724809\n",
      "Epoch 75: 0.001675043197141984\n",
      "Epoch 100: 0.0012563066866483521\n",
      "Epoch 125: 0.0010105873303475237\n",
      "Epoch 150: 0.0008481724274746176\n",
      "Using well-known algorithms: Logistic Regression, RandomForest and MLP\n"
     ]
    },
    {
     "name": "stderr",
     "output_type": "stream",
     "text": [
      "/usr/local/lib/python3.5/dist-packages/sklearn/metrics/classification.py:1135: UndefinedMetricWarning: F-score is ill-defined and being set to 0.0 in labels with no predicted samples.\n",
      "  'precision', 'predicted', average, warn_for)\n",
      "/usr/local/lib/python3.5/dist-packages/sklearn/neural_network/multilayer_perceptron.py:564: ConvergenceWarning: Stochastic Optimizer: Maximum iterations (200) reached and the optimization hasn't converged yet.\n",
      "  % self.max_iter, ConvergenceWarning)\n"
     ]
    },
    {
     "name": "stdout",
     "output_type": "stream",
     "text": [
      "Took: 156.23942160606384\n",
      "--------------------------------------------------\n",
      "En: 200\tTr: 42\n",
      "Using first variation (Regressor and Classifier with score vectors)\n",
      "epoch 0:\t22.878896182078098\n",
      "epoch 10:\t22.620772530312014\n",
      "epoch 20:\t22.326898930776846\n",
      "epoch 30:\t22.029752127265127\n",
      "epoch 40:\t21.749834144745332\n",
      "epoch 50:\t21.508690739065067\n",
      "Using second variation (average of outputs produced by each set of weight matrices)\n",
      "Epoch 0: 4.7123858206905425\n",
      "Epoch 25: 0.030695240949900518\n",
      "Epoch 50: 0.007713157076992983\n",
      "Epoch 75: 0.004727700259636098\n",
      "Epoch 100: 0.0034670859997750687\n",
      "Epoch 125: 0.0027580833507291264\n",
      "Epoch 150: 0.0022999734432559765\n",
      "Using well-known algorithms: Logistic Regression, RandomForest and MLP\n"
     ]
    },
    {
     "name": "stderr",
     "output_type": "stream",
     "text": [
      "/usr/local/lib/python3.5/dist-packages/sklearn/metrics/classification.py:1135: UndefinedMetricWarning: F-score is ill-defined and being set to 0.0 in labels with no predicted samples.\n",
      "  'precision', 'predicted', average, warn_for)\n",
      "/usr/local/lib/python3.5/dist-packages/sklearn/neural_network/multilayer_perceptron.py:564: ConvergenceWarning: Stochastic Optimizer: Maximum iterations (200) reached and the optimization hasn't converged yet.\n",
      "  % self.max_iter, ConvergenceWarning)\n"
     ]
    },
    {
     "name": "stdout",
     "output_type": "stream",
     "text": [
      "Took: 67.95846128463745\n",
      "--------------------------------------------------\n",
      "En: 200\tTr: 84\n",
      "Using first variation (Regressor and Classifier with score vectors)\n",
      "epoch 0:\t22.022189742206415\n",
      "epoch 10:\t21.82893396503643\n",
      "epoch 20:\t21.57810650175816\n",
      "epoch 30:\t21.359173122661865\n",
      "epoch 40:\t21.179060236177367\n",
      "epoch 50:\t21.021079117616427\n",
      "Using second variation (average of outputs produced by each set of weight matrices)\n",
      "Epoch 0: 5.153529557376497\n",
      "Epoch 25: 0.045747812468706295\n",
      "Epoch 50: 0.010474672227686565\n",
      "Epoch 75: 0.005285252540011162\n",
      "Epoch 100: 0.003640520157591669\n",
      "Epoch 125: 0.0028057134536286603\n",
      "Epoch 150: 0.002295561867299712\n",
      "Using well-known algorithms: Logistic Regression, RandomForest and MLP\n"
     ]
    },
    {
     "name": "stderr",
     "output_type": "stream",
     "text": [
      "/usr/local/lib/python3.5/dist-packages/sklearn/metrics/classification.py:1135: UndefinedMetricWarning: F-score is ill-defined and being set to 0.0 in labels with no predicted samples.\n",
      "  'precision', 'predicted', average, warn_for)\n",
      "/usr/local/lib/python3.5/dist-packages/sklearn/neural_network/multilayer_perceptron.py:564: ConvergenceWarning: Stochastic Optimizer: Maximum iterations (200) reached and the optimization hasn't converged yet.\n",
      "  % self.max_iter, ConvergenceWarning)\n"
     ]
    },
    {
     "name": "stdout",
     "output_type": "stream",
     "text": [
      "Took: 80.00560307502747\n",
      "--------------------------------------------------\n",
      "En: 200\tTr: 126\n",
      "Using first variation (Regressor and Classifier with score vectors)\n",
      "epoch 0:\t21.172379960890247\n",
      "epoch 10:\t20.935721403364045\n",
      "epoch 20:\t20.74251306217039\n",
      "epoch 30:\t20.562660851334872\n",
      "epoch 40:\t20.375677764462075\n",
      "epoch 50:\t20.2041607114593\n",
      "Using second variation (average of outputs produced by each set of weight matrices)\n",
      "Epoch 0: 4.764771278096617\n",
      "Epoch 25: 0.008294733961807606\n",
      "Epoch 50: 0.004034320227021643\n",
      "Epoch 75: 0.0027306098737967742\n",
      "Epoch 100: 0.0020872477643278345\n",
      "Epoch 125: 0.001700536844013175\n",
      "Epoch 150: 0.001441041664559584\n",
      "Using well-known algorithms: Logistic Regression, RandomForest and MLP\n"
     ]
    },
    {
     "name": "stderr",
     "output_type": "stream",
     "text": [
      "/usr/local/lib/python3.5/dist-packages/sklearn/metrics/classification.py:1135: UndefinedMetricWarning: F-score is ill-defined and being set to 0.0 in labels with no predicted samples.\n",
      "  'precision', 'predicted', average, warn_for)\n",
      "/usr/local/lib/python3.5/dist-packages/sklearn/neural_network/multilayer_perceptron.py:564: ConvergenceWarning: Stochastic Optimizer: Maximum iterations (200) reached and the optimization hasn't converged yet.\n",
      "  % self.max_iter, ConvergenceWarning)\n"
     ]
    },
    {
     "name": "stdout",
     "output_type": "stream",
     "text": [
      "Took: 97.45725321769714\n",
      "--------------------------------------------------\n",
      "En: 200\tTr: 168\n",
      "Using first variation (Regressor and Classifier with score vectors)\n",
      "epoch 0:\t19.756108971463583\n",
      "epoch 10:\t19.640213628645228\n",
      "epoch 20:\t19.547110569718022\n",
      "epoch 30:\t19.469402453366904\n",
      "epoch 40:\t19.408242939509933\n",
      "epoch 50:\t19.34629089978395\n",
      "Using second variation (average of outputs produced by each set of weight matrices)\n",
      "Epoch 0: 2.6717797115343074\n",
      "Epoch 25: 0.013941818725885716\n",
      "Epoch 50: 0.004451033063214313\n",
      "Epoch 75: 0.0028122880196875762\n",
      "Epoch 100: 0.0020889441412523606\n",
      "Epoch 125: 0.001674627049234306\n",
      "Epoch 150: 0.0014039902629842454\n",
      "Using well-known algorithms: Logistic Regression, RandomForest and MLP\n"
     ]
    },
    {
     "name": "stderr",
     "output_type": "stream",
     "text": [
      "/usr/local/lib/python3.5/dist-packages/sklearn/metrics/classification.py:1135: UndefinedMetricWarning: F-score is ill-defined and being set to 0.0 in labels with no predicted samples.\n",
      "  'precision', 'predicted', average, warn_for)\n",
      "/usr/local/lib/python3.5/dist-packages/sklearn/neural_network/multilayer_perceptron.py:564: ConvergenceWarning: Stochastic Optimizer: Maximum iterations (200) reached and the optimization hasn't converged yet.\n",
      "  % self.max_iter, ConvergenceWarning)\n"
     ]
    },
    {
     "name": "stdout",
     "output_type": "stream",
     "text": [
      "Took: 110.42782473564148\n",
      "--------------------------------------------------\n",
      "En: 200\tTr: 210\n",
      "Using first variation (Regressor and Classifier with score vectors)\n",
      "epoch 0:\t21.81583527957078\n",
      "epoch 10:\t21.748816014280177\n",
      "epoch 20:\t21.603384416775857\n",
      "epoch 30:\t21.429587372019224\n",
      "epoch 40:\t21.268640442671227\n",
      "epoch 50:\t21.127333940957104\n",
      "Using second variation (average of outputs produced by each set of weight matrices)\n",
      "Epoch 0: 3.488057721733138\n",
      "Epoch 25: 0.008604579540236492\n",
      "Epoch 50: 0.003988491121813808\n",
      "Epoch 75: 0.002673011017094149\n",
      "Epoch 100: 0.002034635775185253\n",
      "Epoch 125: 0.0016534484431796536\n",
      "Epoch 150: 0.0013984633984655832\n",
      "Using well-known algorithms: Logistic Regression, RandomForest and MLP\n"
     ]
    },
    {
     "name": "stderr",
     "output_type": "stream",
     "text": [
      "/usr/local/lib/python3.5/dist-packages/sklearn/metrics/classification.py:1135: UndefinedMetricWarning: F-score is ill-defined and being set to 0.0 in labels with no predicted samples.\n",
      "  'precision', 'predicted', average, warn_for)\n"
     ]
    },
    {
     "name": "stdout",
     "output_type": "stream",
     "text": [
      "Took: 115.87623190879822\n",
      "--------------------------------------------------\n",
      "En: 200\tTr: 253\n",
      "Using first variation (Regressor and Classifier with score vectors)\n",
      "epoch 0:\t19.959148016791325\n",
      "epoch 10:\t19.813322831627545\n",
      "epoch 20:\t19.725252052822707\n",
      "epoch 30:\t19.705923570216815\n",
      "epoch 40:\t19.642891937982302\n",
      "epoch 50:\t19.52520061310573\n",
      "Using second variation (average of outputs produced by each set of weight matrices)\n",
      "Epoch 0: 3.4882663885076646\n",
      "Epoch 25: 0.009219758700486693\n",
      "Epoch 50: 0.004033850202667974\n",
      "Epoch 75: 0.002650265232111896\n",
      "Epoch 100: 0.001993705197265846\n",
      "Epoch 125: 0.0016067320766187771\n",
      "Epoch 150: 0.001350302391526979\n",
      "Using well-known algorithms: Logistic Regression, RandomForest and MLP\n"
     ]
    },
    {
     "name": "stderr",
     "output_type": "stream",
     "text": [
      "/usr/local/lib/python3.5/dist-packages/sklearn/metrics/classification.py:1135: UndefinedMetricWarning: F-score is ill-defined and being set to 0.0 in labels with no predicted samples.\n",
      "  'precision', 'predicted', average, warn_for)\n",
      "/usr/local/lib/python3.5/dist-packages/sklearn/neural_network/multilayer_perceptron.py:564: ConvergenceWarning: Stochastic Optimizer: Maximum iterations (200) reached and the optimization hasn't converged yet.\n",
      "  % self.max_iter, ConvergenceWarning)\n"
     ]
    },
    {
     "name": "stdout",
     "output_type": "stream",
     "text": [
      "Took: 129.11463809013367\n",
      "--------------------------------------------------\n",
      "En: 200\tTr: 295\n",
      "Using first variation (Regressor and Classifier with score vectors)\n",
      "epoch 0:\t20.933899691185722\n",
      "epoch 10:\t20.822942671218353\n",
      "epoch 20:\t20.676625434869738\n",
      "epoch 30:\t20.57589869844085\n",
      "epoch 40:\t20.473941290690078\n",
      "epoch 50:\t20.36262242254647\n",
      "Using second variation (average of outputs produced by each set of weight matrices)\n",
      "Epoch 0: 1.9296729427120245\n",
      "Epoch 25: 0.007328386473862664\n",
      "Epoch 50: 0.00275223786162025\n",
      "Epoch 75: 0.001766002052921416\n",
      "Epoch 100: 0.0013173758046142359\n",
      "Epoch 125: 0.0010576649452315626\n",
      "Epoch 150: 0.0008871920834456023\n",
      "Using well-known algorithms: Logistic Regression, RandomForest and MLP\n"
     ]
    },
    {
     "name": "stderr",
     "output_type": "stream",
     "text": [
      "/usr/local/lib/python3.5/dist-packages/sklearn/metrics/classification.py:1135: UndefinedMetricWarning: F-score is ill-defined and being set to 0.0 in labels with no predicted samples.\n",
      "  'precision', 'predicted', average, warn_for)\n",
      "/usr/local/lib/python3.5/dist-packages/sklearn/neural_network/multilayer_perceptron.py:564: ConvergenceWarning: Stochastic Optimizer: Maximum iterations (200) reached and the optimization hasn't converged yet.\n",
      "  % self.max_iter, ConvergenceWarning)\n"
     ]
    },
    {
     "name": "stdout",
     "output_type": "stream",
     "text": [
      "Took: 140.39256262779236\n",
      "--------------------------------------------------\n",
      "En: 200\tTr: 337\n",
      "Using first variation (Regressor and Classifier with score vectors)\n",
      "epoch 0:\t22.130404837049298\n",
      "epoch 10:\t21.850533217584225\n",
      "epoch 20:\t21.690014789649954\n",
      "epoch 30:\t21.591390597221306\n",
      "epoch 40:\t21.4371808689661\n",
      "epoch 50:\t21.27030579512108\n",
      "Using second variation (average of outputs produced by each set of weight matrices)\n",
      "Epoch 0: 2.418337667228038\n",
      "Epoch 25: 0.010063867473017594\n",
      "Epoch 50: 0.0036450730461689814\n",
      "Epoch 75: 0.002322503004792252\n",
      "Epoch 100: 0.001724240942684568\n",
      "Epoch 125: 0.001380146568387277\n",
      "Epoch 150: 0.0011555585837993963\n",
      "Using well-known algorithms: Logistic Regression, RandomForest and MLP\n"
     ]
    },
    {
     "name": "stderr",
     "output_type": "stream",
     "text": [
      "/usr/local/lib/python3.5/dist-packages/sklearn/metrics/classification.py:1135: UndefinedMetricWarning: F-score is ill-defined and being set to 0.0 in labels with no predicted samples.\n",
      "  'precision', 'predicted', average, warn_for)\n",
      "/usr/local/lib/python3.5/dist-packages/sklearn/neural_network/multilayer_perceptron.py:564: ConvergenceWarning: Stochastic Optimizer: Maximum iterations (200) reached and the optimization hasn't converged yet.\n",
      "  % self.max_iter, ConvergenceWarning)\n"
     ]
    },
    {
     "name": "stdout",
     "output_type": "stream",
     "text": [
      "Took: 149.01143598556519\n",
      "--------------------------------------------------\n",
      "En: 200\tTr: 379\n",
      "Using first variation (Regressor and Classifier with score vectors)\n",
      "epoch 0:\t20.706817368297408\n",
      "epoch 10:\t20.6668534576002\n",
      "epoch 20:\t20.596215480513237\n",
      "epoch 30:\t20.49160227517281\n",
      "epoch 40:\t20.397909603610433\n",
      "epoch 50:\t20.326800475811588\n",
      "Using second variation (average of outputs produced by each set of weight matrices)\n",
      "Epoch 0: 3.9956788466459674\n",
      "Epoch 25: 0.01319720290931653\n",
      "Epoch 50: 0.004400222684824772\n",
      "Epoch 75: 0.0028017330154072673\n",
      "Epoch 100: 0.0020873268095358225\n",
      "Epoch 125: 0.001675774846121868\n",
      "Epoch 150: 0.0014062024957513567\n",
      "Using well-known algorithms: Logistic Regression, RandomForest and MLP\n"
     ]
    },
    {
     "name": "stderr",
     "output_type": "stream",
     "text": [
      "/usr/local/lib/python3.5/dist-packages/sklearn/metrics/classification.py:1135: UndefinedMetricWarning: F-score is ill-defined and being set to 0.0 in labels with no predicted samples.\n",
      "  'precision', 'predicted', average, warn_for)\n",
      "/usr/local/lib/python3.5/dist-packages/sklearn/neural_network/multilayer_perceptron.py:564: ConvergenceWarning: Stochastic Optimizer: Maximum iterations (200) reached and the optimization hasn't converged yet.\n",
      "  % self.max_iter, ConvergenceWarning)\n"
     ]
    },
    {
     "name": "stdout",
     "output_type": "stream",
     "text": [
      "Took: 161.17582488059998\n",
      "--------------------------------------------------\n",
      "En: 200\tTr: 421\n",
      "Using first variation (Regressor and Classifier with score vectors)\n",
      "epoch 0:\t20.007202143008147\n",
      "epoch 10:\t19.89667000406672\n",
      "epoch 20:\t19.790520271547486\n",
      "epoch 30:\t19.68088914993753\n",
      "epoch 40:\t19.576813160669687\n",
      "epoch 50:\t19.492474342629013\n",
      "Using second variation (average of outputs produced by each set of weight matrices)\n",
      "Epoch 0: 1.8317053115971043\n",
      "Epoch 25: 0.004240089774890988\n",
      "Epoch 50: 0.0021127572743055776\n",
      "Epoch 75: 0.001428519087112905\n",
      "Epoch 100: 0.0010860537800295867\n",
      "Epoch 125: 0.0008792226502737614\n",
      "Epoch 150: 0.0007402842881430005\n",
      "Using well-known algorithms: Logistic Regression, RandomForest and MLP\n"
     ]
    },
    {
     "name": "stderr",
     "output_type": "stream",
     "text": [
      "/usr/local/lib/python3.5/dist-packages/sklearn/metrics/classification.py:1135: UndefinedMetricWarning: F-score is ill-defined and being set to 0.0 in labels with no predicted samples.\n",
      "  'precision', 'predicted', average, warn_for)\n"
     ]
    },
    {
     "name": "stdout",
     "output_type": "stream",
     "text": [
      "Took: 160.7701177597046\n",
      "--------------------------------------------------\n",
      "En: 250\tTr: 42\n",
      "Using first variation (Regressor and Classifier with score vectors)\n",
      "epoch 0:\t18.77552810531679\n",
      "epoch 10:\t18.718779784826744\n",
      "epoch 20:\t18.67875893121832\n",
      "epoch 30:\t18.645102177825905\n",
      "epoch 40:\t18.593123911091713\n",
      "epoch 50:\t18.530980956758604\n",
      "Using second variation (average of outputs produced by each set of weight matrices)\n",
      "Epoch 0: 2.3152351776427746\n",
      "Epoch 25: 0.004811552188991225\n",
      "Epoch 50: 0.002466051546748173\n",
      "Epoch 75: 0.0016948546110399255\n",
      "Epoch 100: 0.001303757804459895\n",
      "Epoch 125: 0.0010652658344359643\n",
      "Epoch 150: 0.0009038328027829004\n",
      "Using well-known algorithms: Logistic Regression, RandomForest and MLP\n"
     ]
    },
    {
     "name": "stderr",
     "output_type": "stream",
     "text": [
      "/usr/local/lib/python3.5/dist-packages/sklearn/metrics/classification.py:1135: UndefinedMetricWarning: F-score is ill-defined and being set to 0.0 in labels with no predicted samples.\n",
      "  'precision', 'predicted', average, warn_for)\n",
      "/usr/local/lib/python3.5/dist-packages/sklearn/neural_network/multilayer_perceptron.py:564: ConvergenceWarning: Stochastic Optimizer: Maximum iterations (200) reached and the optimization hasn't converged yet.\n",
      "  % self.max_iter, ConvergenceWarning)\n"
     ]
    },
    {
     "name": "stdout",
     "output_type": "stream",
     "text": [
      "Took: 85.208078622818\n",
      "--------------------------------------------------\n",
      "En: 250\tTr: 84\n",
      "Using first variation (Regressor and Classifier with score vectors)\n",
      "epoch 0:\t18.72704077922052\n",
      "epoch 10:\t18.642917889879605\n",
      "epoch 20:\t18.566943968933668\n",
      "epoch 30:\t18.49453251621564\n",
      "epoch 40:\t18.42471258019716\n",
      "epoch 50:\t18.355972565025656\n",
      "Using second variation (average of outputs produced by each set of weight matrices)\n",
      "Epoch 0: 2.5719967519637534\n",
      "Epoch 25: 0.02138988043118511\n",
      "Epoch 50: 0.005983890988272016\n",
      "Epoch 75: 0.0036719210358091506\n",
      "Epoch 100: 0.0026923846996817313\n",
      "Epoch 125: 0.0021429739518914618\n",
      "Epoch 150: 0.0017887810335329693\n",
      "Using well-known algorithms: Logistic Regression, RandomForest and MLP\n"
     ]
    },
    {
     "name": "stderr",
     "output_type": "stream",
     "text": [
      "/usr/local/lib/python3.5/dist-packages/sklearn/metrics/classification.py:1135: UndefinedMetricWarning: F-score is ill-defined and being set to 0.0 in labels with no predicted samples.\n",
      "  'precision', 'predicted', average, warn_for)\n",
      "/usr/local/lib/python3.5/dist-packages/sklearn/neural_network/multilayer_perceptron.py:564: ConvergenceWarning: Stochastic Optimizer: Maximum iterations (200) reached and the optimization hasn't converged yet.\n",
      "  % self.max_iter, ConvergenceWarning)\n"
     ]
    },
    {
     "name": "stdout",
     "output_type": "stream",
     "text": [
      "Took: 91.42448663711548\n",
      "--------------------------------------------------\n",
      "En: 250\tTr: 126\n",
      "Using first variation (Regressor and Classifier with score vectors)\n",
      "epoch 0:\t21.306094291081003\n",
      "epoch 10:\t21.19334084823376\n",
      "epoch 20:\t21.065301858623968\n",
      "epoch 30:\t20.87332190036763\n",
      "epoch 40:\t20.75750735903201\n",
      "epoch 50:\t20.6766012777566\n",
      "Using second variation (average of outputs produced by each set of weight matrices)\n",
      "Epoch 0: 3.1382701176528807\n",
      "Epoch 25: 0.007787709844645643\n",
      "Epoch 50: 0.0038266102488527867\n",
      "Epoch 75: 0.0026003074090173404\n",
      "Epoch 100: 0.001991152862577816\n",
      "Epoch 125: 0.0016233626993078982\n",
      "Epoch 150: 0.0013757892854109946\n",
      "Using well-known algorithms: Logistic Regression, RandomForest and MLP\n"
     ]
    },
    {
     "name": "stderr",
     "output_type": "stream",
     "text": [
      "/usr/local/lib/python3.5/dist-packages/sklearn/metrics/classification.py:1135: UndefinedMetricWarning: F-score is ill-defined and being set to 0.0 in labels with no predicted samples.\n",
      "  'precision', 'predicted', average, warn_for)\n",
      "/usr/local/lib/python3.5/dist-packages/sklearn/neural_network/multilayer_perceptron.py:564: ConvergenceWarning: Stochastic Optimizer: Maximum iterations (200) reached and the optimization hasn't converged yet.\n",
      "  % self.max_iter, ConvergenceWarning)\n"
     ]
    },
    {
     "name": "stdout",
     "output_type": "stream",
     "text": [
      "Took: 109.41899299621582\n",
      "--------------------------------------------------\n",
      "En: 250\tTr: 168\n",
      "Using first variation (Regressor and Classifier with score vectors)\n",
      "epoch 0:\t22.179095385965976\n",
      "epoch 10:\t21.955281156109976\n",
      "epoch 20:\t21.77659640808384\n",
      "epoch 30:\t21.667719447439133\n",
      "epoch 40:\t21.580560854982103\n",
      "epoch 50:\t21.49728199211126\n",
      "Using second variation (average of outputs produced by each set of weight matrices)\n",
      "Epoch 0: 2.590001376320479\n",
      "Epoch 25: 0.009277415890342975\n",
      "Epoch 50: 0.003160219903975303\n",
      "Epoch 75: 0.0020254362504654104\n",
      "Epoch 100: 0.0015180430621639927\n",
      "Epoch 125: 0.0012255494222403868\n",
      "Epoch 150: 0.0010335635879539006\n",
      "Using well-known algorithms: Logistic Regression, RandomForest and MLP\n"
     ]
    },
    {
     "name": "stderr",
     "output_type": "stream",
     "text": [
      "/usr/local/lib/python3.5/dist-packages/sklearn/metrics/classification.py:1135: UndefinedMetricWarning: F-score is ill-defined and being set to 0.0 in labels with no predicted samples.\n",
      "  'precision', 'predicted', average, warn_for)\n"
     ]
    },
    {
     "name": "stdout",
     "output_type": "stream",
     "text": [
      "Took: 120.3272476196289\n",
      "--------------------------------------------------\n",
      "En: 250\tTr: 210\n",
      "Using first variation (Regressor and Classifier with score vectors)\n",
      "epoch 0:\t19.119473689161815\n",
      "epoch 10:\t19.03423854168842\n",
      "epoch 20:\t18.92920659843499\n",
      "epoch 30:\t18.85694515770279\n",
      "epoch 40:\t18.77865661360112\n",
      "epoch 50:\t18.701765571079676\n",
      "Using second variation (average of outputs produced by each set of weight matrices)\n",
      "Epoch 0: 1.9440856207337793\n",
      "Epoch 25: 0.015805580091484504\n",
      "Epoch 50: 0.0037379874457867425\n",
      "Epoch 75: 0.0022299669326228434\n",
      "Epoch 100: 0.0016143505115859052\n",
      "Epoch 125: 0.0012746594130765147\n",
      "Epoch 150: 0.0010578323318819857\n",
      "Using well-known algorithms: Logistic Regression, RandomForest and MLP\n"
     ]
    },
    {
     "name": "stderr",
     "output_type": "stream",
     "text": [
      "/usr/local/lib/python3.5/dist-packages/sklearn/metrics/classification.py:1135: UndefinedMetricWarning: F-score is ill-defined and being set to 0.0 in labels with no predicted samples.\n",
      "  'precision', 'predicted', average, warn_for)\n",
      "/usr/local/lib/python3.5/dist-packages/sklearn/neural_network/multilayer_perceptron.py:564: ConvergenceWarning: Stochastic Optimizer: Maximum iterations (200) reached and the optimization hasn't converged yet.\n",
      "  % self.max_iter, ConvergenceWarning)\n"
     ]
    },
    {
     "name": "stdout",
     "output_type": "stream",
     "text": [
      "Took: 129.85105156898499\n",
      "--------------------------------------------------\n",
      "En: 250\tTr: 253\n",
      "Using first variation (Regressor and Classifier with score vectors)\n",
      "epoch 0:\t22.212138942957818\n",
      "epoch 10:\t21.956973840503053\n",
      "epoch 20:\t21.791699148257578\n",
      "epoch 30:\t21.664632810842328\n",
      "epoch 40:\t21.555785193753103\n",
      "epoch 50:\t21.463292861839886\n",
      "Using second variation (average of outputs produced by each set of weight matrices)\n",
      "Epoch 0: 1.9096827777205403\n",
      "Epoch 25: 0.005729858884180627\n",
      "Epoch 50: 0.002527498114024752\n",
      "Epoch 75: 0.0016660004064808164\n",
      "Epoch 100: 0.001256874155859504\n",
      "Epoch 125: 0.0010156783596761579\n",
      "Epoch 150: 0.0008557455244614678\n",
      "Using well-known algorithms: Logistic Regression, RandomForest and MLP\n"
     ]
    },
    {
     "name": "stderr",
     "output_type": "stream",
     "text": [
      "/usr/local/lib/python3.5/dist-packages/sklearn/metrics/classification.py:1135: UndefinedMetricWarning: F-score is ill-defined and being set to 0.0 in labels with no predicted samples.\n",
      "  'precision', 'predicted', average, warn_for)\n",
      "/usr/local/lib/python3.5/dist-packages/sklearn/neural_network/multilayer_perceptron.py:564: ConvergenceWarning: Stochastic Optimizer: Maximum iterations (200) reached and the optimization hasn't converged yet.\n",
      "  % self.max_iter, ConvergenceWarning)\n"
     ]
    },
    {
     "name": "stdout",
     "output_type": "stream",
     "text": [
      "Took: 143.13081645965576\n",
      "--------------------------------------------------\n",
      "En: 250\tTr: 295\n",
      "Using first variation (Regressor and Classifier with score vectors)\n",
      "epoch 0:\t21.727409464342106\n",
      "epoch 10:\t21.51410161201724\n",
      "epoch 20:\t21.373082282845676\n",
      "epoch 30:\t21.264306456501597\n",
      "epoch 40:\t21.13582320448895\n",
      "epoch 50:\t20.997731117455174\n",
      "Using second variation (average of outputs produced by each set of weight matrices)\n",
      "Epoch 0: 2.814371396243957\n",
      "Epoch 25: 0.006143223118425098\n",
      "Epoch 50: 0.0027218760746847625\n",
      "Epoch 75: 0.001795044046389298\n",
      "Epoch 100: 0.0013529936172825094\n",
      "Epoch 125: 0.001091936135399406\n",
      "Epoch 150: 0.0009187316659474639\n",
      "Using well-known algorithms: Logistic Regression, RandomForest and MLP\n"
     ]
    },
    {
     "name": "stderr",
     "output_type": "stream",
     "text": [
      "/usr/local/lib/python3.5/dist-packages/sklearn/metrics/classification.py:1135: UndefinedMetricWarning: F-score is ill-defined and being set to 0.0 in labels with no predicted samples.\n",
      "  'precision', 'predicted', average, warn_for)\n",
      "/usr/local/lib/python3.5/dist-packages/sklearn/neural_network/multilayer_perceptron.py:564: ConvergenceWarning: Stochastic Optimizer: Maximum iterations (200) reached and the optimization hasn't converged yet.\n",
      "  % self.max_iter, ConvergenceWarning)\n"
     ]
    },
    {
     "name": "stdout",
     "output_type": "stream",
     "text": [
      "Took: 153.40529012680054\n",
      "--------------------------------------------------\n",
      "En: 250\tTr: 337\n",
      "Using first variation (Regressor and Classifier with score vectors)\n",
      "epoch 0:\t21.651769138334892\n",
      "epoch 10:\t21.523805483523166\n",
      "epoch 20:\t21.4062465409155\n",
      "epoch 30:\t21.31822381323741\n",
      "epoch 40:\t21.240159933882108\n",
      "epoch 50:\t21.159033439318964\n",
      "Using second variation (average of outputs produced by each set of weight matrices)\n",
      "Epoch 0: 1.9219539648193016\n",
      "Epoch 25: 0.005026253418006386\n",
      "Epoch 50: 0.0024705587915618043\n",
      "Epoch 75: 0.0016775139947082104\n",
      "Epoch 100: 0.0012835690372563083\n",
      "Epoch 125: 0.0010457250757269292\n",
      "Epoch 150: 0.000885606509811679\n",
      "Using well-known algorithms: Logistic Regression, RandomForest and MLP\n"
     ]
    },
    {
     "name": "stderr",
     "output_type": "stream",
     "text": [
      "/usr/local/lib/python3.5/dist-packages/sklearn/metrics/classification.py:1135: UndefinedMetricWarning: F-score is ill-defined and being set to 0.0 in labels with no predicted samples.\n",
      "  'precision', 'predicted', average, warn_for)\n",
      "/usr/local/lib/python3.5/dist-packages/sklearn/neural_network/multilayer_perceptron.py:564: ConvergenceWarning: Stochastic Optimizer: Maximum iterations (200) reached and the optimization hasn't converged yet.\n",
      "  % self.max_iter, ConvergenceWarning)\n"
     ]
    },
    {
     "name": "stdout",
     "output_type": "stream",
     "text": [
      "Took: 163.50816559791565\n",
      "--------------------------------------------------\n",
      "En: 250\tTr: 379\n",
      "Using first variation (Regressor and Classifier with score vectors)\n",
      "epoch 0:\t21.47921428204791\n",
      "epoch 10:\t21.270520465890087\n",
      "epoch 20:\t21.10216351187853\n",
      "epoch 30:\t20.925252026071266\n",
      "epoch 40:\t20.743545613242212\n",
      "epoch 50:\t20.555436858222727\n",
      "Using second variation (average of outputs produced by each set of weight matrices)\n",
      "Epoch 0: 3.663379975978598\n",
      "Epoch 25: 0.020196810955449413\n",
      "Epoch 50: 0.005493194515330882\n",
      "Epoch 75: 0.003258870870914378\n",
      "Epoch 100: 0.0023751940712463835\n",
      "Epoch 125: 0.0018906936355534889\n",
      "Epoch 150: 0.0015811161047726337\n",
      "Using well-known algorithms: Logistic Regression, RandomForest and MLP\n"
     ]
    },
    {
     "name": "stderr",
     "output_type": "stream",
     "text": [
      "/usr/local/lib/python3.5/dist-packages/sklearn/metrics/classification.py:1135: UndefinedMetricWarning: F-score is ill-defined and being set to 0.0 in labels with no predicted samples.\n",
      "  'precision', 'predicted', average, warn_for)\n",
      "/usr/local/lib/python3.5/dist-packages/sklearn/neural_network/multilayer_perceptron.py:564: ConvergenceWarning: Stochastic Optimizer: Maximum iterations (200) reached and the optimization hasn't converged yet.\n",
      "  % self.max_iter, ConvergenceWarning)\n"
     ]
    },
    {
     "name": "stdout",
     "output_type": "stream",
     "text": [
      "Took: 178.29708218574524\n",
      "--------------------------------------------------\n",
      "En: 250\tTr: 421\n",
      "Using first variation (Regressor and Classifier with score vectors)\n",
      "epoch 0:\t22.135730152764385\n",
      "epoch 10:\t21.890814739847446\n",
      "epoch 20:\t21.669580746360626\n",
      "epoch 30:\t21.48855753053433\n",
      "epoch 40:\t21.320012742399598\n",
      "epoch 50:\t21.164933963842802\n",
      "Using second variation (average of outputs produced by each set of weight matrices)\n",
      "Epoch 0: 2.4064477111974205\n",
      "Epoch 25: 0.014192814695047507\n",
      "Epoch 50: 0.002621828297490091\n",
      "Epoch 75: 0.0015541457226051028\n",
      "Epoch 100: 0.0011321626738596444\n",
      "Epoch 125: 0.0008997457822731416\n",
      "Epoch 150: 0.0007509981570764119\n",
      "Using well-known algorithms: Logistic Regression, RandomForest and MLP\n"
     ]
    },
    {
     "name": "stderr",
     "output_type": "stream",
     "text": [
      "/usr/local/lib/python3.5/dist-packages/sklearn/metrics/classification.py:1135: UndefinedMetricWarning: F-score is ill-defined and being set to 0.0 in labels with no predicted samples.\n",
      "  'precision', 'predicted', average, warn_for)\n",
      "/usr/local/lib/python3.5/dist-packages/sklearn/neural_network/multilayer_perceptron.py:564: ConvergenceWarning: Stochastic Optimizer: Maximum iterations (200) reached and the optimization hasn't converged yet.\n",
      "  % self.max_iter, ConvergenceWarning)\n"
     ]
    },
    {
     "name": "stdout",
     "output_type": "stream",
     "text": [
      "Took: 184.5156488418579\n",
      "--------------------------------------------------\n",
      "En: 300\tTr: 42\n",
      "Using first variation (Regressor and Classifier with score vectors)\n",
      "epoch 0:\t23.313925948388032\n",
      "epoch 10:\t22.819117296098973\n",
      "epoch 20:\t22.474977956028205\n",
      "epoch 30:\t22.18442636406602\n",
      "epoch 40:\t21.9880644648274\n",
      "epoch 50:\t21.800911154891836\n",
      "Using second variation (average of outputs produced by each set of weight matrices)\n",
      "Epoch 0: 4.335117336999821\n",
      "Epoch 25: 0.009835697351253024\n",
      "Epoch 50: 0.004514499550509089\n",
      "Epoch 75: 0.0029967812198632153\n",
      "Epoch 100: 0.002265839926824103\n",
      "Epoch 125: 0.0018323686383782895\n",
      "Epoch 150: 0.001544062196811418\n",
      "Using well-known algorithms: Logistic Regression, RandomForest and MLP\n"
     ]
    },
    {
     "name": "stderr",
     "output_type": "stream",
     "text": [
      "/usr/local/lib/python3.5/dist-packages/sklearn/metrics/classification.py:1135: UndefinedMetricWarning: F-score is ill-defined and being set to 0.0 in labels with no predicted samples.\n",
      "  'precision', 'predicted', average, warn_for)\n",
      "/usr/local/lib/python3.5/dist-packages/sklearn/neural_network/multilayer_perceptron.py:564: ConvergenceWarning: Stochastic Optimizer: Maximum iterations (200) reached and the optimization hasn't converged yet.\n",
      "  % self.max_iter, ConvergenceWarning)\n"
     ]
    },
    {
     "name": "stdout",
     "output_type": "stream",
     "text": [
      "Took: 97.67498064041138\n",
      "--------------------------------------------------\n",
      "En: 300\tTr: 84\n",
      "Using first variation (Regressor and Classifier with score vectors)\n",
      "epoch 0:\t22.57741104602896\n",
      "epoch 10:\t22.47250991282355\n",
      "epoch 20:\t22.347342604967213\n",
      "epoch 30:\t22.23163950884355\n",
      "epoch 40:\t22.106983467395867\n",
      "epoch 50:\t21.97977637676696\n",
      "Using second variation (average of outputs produced by each set of weight matrices)\n",
      "Epoch 0: 3.1509063960141552\n",
      "Epoch 25: 0.013920415569027492\n",
      "Epoch 50: 0.005189929305989456\n",
      "Epoch 75: 0.0033073225485260593\n",
      "Epoch 100: 0.002456647958140934\n",
      "Epoch 125: 0.001965640436094892\n",
      "Epoch 150: 0.0016439954337042668\n",
      "Using well-known algorithms: Logistic Regression, RandomForest and MLP\n"
     ]
    },
    {
     "name": "stderr",
     "output_type": "stream",
     "text": [
      "/usr/local/lib/python3.5/dist-packages/sklearn/metrics/classification.py:1135: UndefinedMetricWarning: F-score is ill-defined and being set to 0.0 in labels with no predicted samples.\n",
      "  'precision', 'predicted', average, warn_for)\n",
      "/usr/local/lib/python3.5/dist-packages/sklearn/neural_network/multilayer_perceptron.py:564: ConvergenceWarning: Stochastic Optimizer: Maximum iterations (200) reached and the optimization hasn't converged yet.\n",
      "  % self.max_iter, ConvergenceWarning)\n"
     ]
    },
    {
     "name": "stdout",
     "output_type": "stream",
     "text": [
      "Took: 108.865478515625\n",
      "--------------------------------------------------\n",
      "En: 300\tTr: 126\n",
      "Using first variation (Regressor and Classifier with score vectors)\n",
      "epoch 0:\t22.29931845546771\n",
      "epoch 10:\t22.035833434830238\n",
      "epoch 20:\t21.91440434070858\n",
      "epoch 30:\t21.809111068968974\n",
      "epoch 40:\t21.711676323577613\n",
      "epoch 50:\t21.58386925188583\n",
      "Using second variation (average of outputs produced by each set of weight matrices)\n",
      "Epoch 0: 3.497146950740689\n",
      "Epoch 25: 0.008562343247607278\n",
      "Epoch 50: 0.003924018605616531\n",
      "Epoch 75: 0.0026222161726211215\n",
      "Epoch 100: 0.0019949973640180406\n",
      "Epoch 125: 0.0016219526688951939\n",
      "Epoch 150: 0.0013730316386654693\n",
      "Using well-known algorithms: Logistic Regression, RandomForest and MLP\n"
     ]
    },
    {
     "name": "stderr",
     "output_type": "stream",
     "text": [
      "/usr/local/lib/python3.5/dist-packages/sklearn/metrics/classification.py:1135: UndefinedMetricWarning: F-score is ill-defined and being set to 0.0 in labels with no predicted samples.\n",
      "  'precision', 'predicted', average, warn_for)\n",
      "/usr/local/lib/python3.5/dist-packages/sklearn/neural_network/multilayer_perceptron.py:564: ConvergenceWarning: Stochastic Optimizer: Maximum iterations (200) reached and the optimization hasn't converged yet.\n",
      "  % self.max_iter, ConvergenceWarning)\n"
     ]
    },
    {
     "name": "stdout",
     "output_type": "stream",
     "text": [
      "Took: 112.205570936203\n",
      "--------------------------------------------------\n",
      "En: 300\tTr: 168\n",
      "Using first variation (Regressor and Classifier with score vectors)\n",
      "epoch 0:\t22.971277153288906\n",
      "epoch 10:\t22.704918382108854\n",
      "epoch 20:\t22.365836187647652\n",
      "epoch 30:\t22.05793349293568\n",
      "epoch 40:\t21.81657051027887\n",
      "epoch 50:\t21.597333857101113\n",
      "Using second variation (average of outputs produced by each set of weight matrices)\n",
      "Epoch 0: 2.3009183882167523\n",
      "Epoch 25: 0.013985413392751922\n",
      "Epoch 50: 0.003489735578799694\n",
      "Epoch 75: 0.002127778707887395\n",
      "Epoch 100: 0.0015619765494572129\n",
      "Epoch 125: 0.001245283719600043\n",
      "Epoch 150: 0.0010409391780410277\n",
      "Using well-known algorithms: Logistic Regression, RandomForest and MLP\n"
     ]
    },
    {
     "name": "stderr",
     "output_type": "stream",
     "text": [
      "/usr/local/lib/python3.5/dist-packages/sklearn/metrics/classification.py:1135: UndefinedMetricWarning: F-score is ill-defined and being set to 0.0 in labels with no predicted samples.\n",
      "  'precision', 'predicted', average, warn_for)\n",
      "/usr/local/lib/python3.5/dist-packages/sklearn/neural_network/multilayer_perceptron.py:564: ConvergenceWarning: Stochastic Optimizer: Maximum iterations (200) reached and the optimization hasn't converged yet.\n",
      "  % self.max_iter, ConvergenceWarning)\n"
     ]
    },
    {
     "name": "stdout",
     "output_type": "stream",
     "text": [
      "Took: 124.0944766998291\n",
      "--------------------------------------------------\n",
      "En: 300\tTr: 210\n",
      "Using first variation (Regressor and Classifier with score vectors)\n",
      "epoch 0:\t23.457413586806304\n",
      "epoch 10:\t23.127765242625024\n",
      "epoch 20:\t22.990634390030806\n",
      "epoch 30:\t22.814306022876355\n",
      "epoch 40:\t22.63644955581947\n",
      "epoch 50:\t22.414627020522055\n",
      "Using second variation (average of outputs produced by each set of weight matrices)\n",
      "Epoch 0: 3.1995450554555966\n",
      "Epoch 25: 0.0063510341701684785\n",
      "Epoch 50: 0.0032069474224044824\n",
      "Epoch 75: 0.0021903000917059307\n",
      "Epoch 100: 0.0016787640471487546\n",
      "Epoch 125: 0.0013681304775780196\n",
      "Epoch 150: 0.0011583603082318834\n",
      "Using well-known algorithms: Logistic Regression, RandomForest and MLP\n"
     ]
    },
    {
     "name": "stderr",
     "output_type": "stream",
     "text": [
      "/usr/local/lib/python3.5/dist-packages/sklearn/metrics/classification.py:1135: UndefinedMetricWarning: F-score is ill-defined and being set to 0.0 in labels with no predicted samples.\n",
      "  'precision', 'predicted', average, warn_for)\n",
      "/usr/local/lib/python3.5/dist-packages/sklearn/neural_network/multilayer_perceptron.py:564: ConvergenceWarning: Stochastic Optimizer: Maximum iterations (200) reached and the optimization hasn't converged yet.\n",
      "  % self.max_iter, ConvergenceWarning)\n"
     ]
    },
    {
     "name": "stdout",
     "output_type": "stream",
     "text": [
      "Took: 142.30382251739502\n",
      "--------------------------------------------------\n",
      "En: 300\tTr: 253\n",
      "Using first variation (Regressor and Classifier with score vectors)\n",
      "epoch 0:\t19.967182901692816\n",
      "epoch 10:\t19.82015397174506\n",
      "epoch 20:\t19.729990859466636\n",
      "epoch 30:\t19.65449049381513\n",
      "epoch 40:\t19.588567375291333\n",
      "epoch 50:\t19.529964229527472\n",
      "Using second variation (average of outputs produced by each set of weight matrices)\n",
      "Epoch 0: 1.5178135908006956\n",
      "Epoch 25: 0.005011081230003078\n",
      "Epoch 50: 0.002066365137275795\n",
      "Epoch 75: 0.0013563702777870362\n",
      "Epoch 100: 0.0010239000134878453\n",
      "Epoch 125: 0.0008284568588709269\n",
      "Epoch 150: 0.000698802946794405\n",
      "Using well-known algorithms: Logistic Regression, RandomForest and MLP\n"
     ]
    },
    {
     "name": "stderr",
     "output_type": "stream",
     "text": [
      "/usr/local/lib/python3.5/dist-packages/sklearn/metrics/classification.py:1135: UndefinedMetricWarning: F-score is ill-defined and being set to 0.0 in labels with no predicted samples.\n",
      "  'precision', 'predicted', average, warn_for)\n",
      "/usr/local/lib/python3.5/dist-packages/sklearn/neural_network/multilayer_perceptron.py:564: ConvergenceWarning: Stochastic Optimizer: Maximum iterations (200) reached and the optimization hasn't converged yet.\n",
      "  % self.max_iter, ConvergenceWarning)\n"
     ]
    },
    {
     "name": "stdout",
     "output_type": "stream",
     "text": [
      "Took: 155.8930332660675\n",
      "--------------------------------------------------\n",
      "En: 300\tTr: 295\n",
      "Using first variation (Regressor and Classifier with score vectors)\n",
      "epoch 0:\t25.582116341838443\n",
      "epoch 10:\t25.260409850468655\n",
      "epoch 20:\t25.039238867810816\n",
      "epoch 30:\t24.820035384005415\n",
      "epoch 40:\t24.58111972108175\n",
      "epoch 50:\t24.362606132232287\n",
      "Using second variation (average of outputs produced by each set of weight matrices)\n",
      "Epoch 0: 1.8820768891115833\n",
      "Epoch 25: 0.00565346479891458\n",
      "Epoch 50: 0.0024381277817158323\n",
      "Epoch 75: 0.0016080549968951546\n",
      "Epoch 100: 0.0012147905846360977\n",
      "Epoch 125: 0.0009828299125953035\n",
      "Epoch 150: 0.000828889749034724\n",
      "Using well-known algorithms: Logistic Regression, RandomForest and MLP\n"
     ]
    },
    {
     "name": "stderr",
     "output_type": "stream",
     "text": [
      "/usr/local/lib/python3.5/dist-packages/sklearn/metrics/classification.py:1135: UndefinedMetricWarning: F-score is ill-defined and being set to 0.0 in labels with no predicted samples.\n",
      "  'precision', 'predicted', average, warn_for)\n",
      "/usr/local/lib/python3.5/dist-packages/sklearn/neural_network/multilayer_perceptron.py:564: ConvergenceWarning: Stochastic Optimizer: Maximum iterations (200) reached and the optimization hasn't converged yet.\n",
      "  % self.max_iter, ConvergenceWarning)\n"
     ]
    },
    {
     "name": "stdout",
     "output_type": "stream",
     "text": [
      "Took: 160.21456623077393\n",
      "--------------------------------------------------\n",
      "En: 300\tTr: 337\n",
      "Using first variation (Regressor and Classifier with score vectors)\n",
      "epoch 0:\t23.518885167981914\n",
      "epoch 10:\t23.178483661428196\n",
      "epoch 20:\t23.080801543073477\n",
      "epoch 30:\t22.87542228176008\n",
      "epoch 40:\t22.666079115528134\n",
      "epoch 50:\t22.48850799557111\n",
      "Using second variation (average of outputs produced by each set of weight matrices)\n",
      "Epoch 0: 1.775390967863066\n",
      "Epoch 25: 0.004128834301319998\n",
      "Epoch 50: 0.0019377976350588046\n",
      "Epoch 75: 0.0013010050754492662\n",
      "Epoch 100: 0.00099052567268201\n",
      "Epoch 125: 0.0008047934081942214\n",
      "Epoch 150: 0.0006804501817065368\n",
      "Using well-known algorithms: Logistic Regression, RandomForest and MLP\n"
     ]
    },
    {
     "name": "stderr",
     "output_type": "stream",
     "text": [
      "/usr/local/lib/python3.5/dist-packages/sklearn/metrics/classification.py:1135: UndefinedMetricWarning: F-score is ill-defined and being set to 0.0 in labels with no predicted samples.\n",
      "  'precision', 'predicted', average, warn_for)\n",
      "/usr/local/lib/python3.5/dist-packages/sklearn/neural_network/multilayer_perceptron.py:564: ConvergenceWarning: Stochastic Optimizer: Maximum iterations (200) reached and the optimization hasn't converged yet.\n",
      "  % self.max_iter, ConvergenceWarning)\n"
     ]
    },
    {
     "name": "stdout",
     "output_type": "stream",
     "text": [
      "Took: 170.731041431427\n",
      "--------------------------------------------------\n",
      "En: 300\tTr: 379\n",
      "Using first variation (Regressor and Classifier with score vectors)\n",
      "epoch 0:\t22.55775912450644\n",
      "epoch 10:\t22.26690627878797\n",
      "epoch 20:\t22.11000982476625\n",
      "epoch 30:\t21.97006189769093\n",
      "epoch 40:\t21.842274402815548\n",
      "epoch 50:\t21.706371428951265\n",
      "Using second variation (average of outputs produced by each set of weight matrices)\n",
      "Epoch 0: 3.479679655782741\n",
      "Epoch 25: 0.01691919669446479\n",
      "Epoch 50: 0.004333280907284306\n",
      "Epoch 75: 0.002638456721788537\n",
      "Epoch 100: 0.0019440723710959064\n",
      "Epoch 125: 0.0015561037437877676\n",
      "Epoch 150: 0.001305595378012028\n",
      "Using well-known algorithms: Logistic Regression, RandomForest and MLP\n"
     ]
    },
    {
     "name": "stderr",
     "output_type": "stream",
     "text": [
      "/usr/local/lib/python3.5/dist-packages/sklearn/metrics/classification.py:1135: UndefinedMetricWarning: F-score is ill-defined and being set to 0.0 in labels with no predicted samples.\n",
      "  'precision', 'predicted', average, warn_for)\n",
      "/usr/local/lib/python3.5/dist-packages/sklearn/neural_network/multilayer_perceptron.py:564: ConvergenceWarning: Stochastic Optimizer: Maximum iterations (200) reached and the optimization hasn't converged yet.\n",
      "  % self.max_iter, ConvergenceWarning)\n"
     ]
    },
    {
     "name": "stdout",
     "output_type": "stream",
     "text": [
      "Took: 177.62409734725952\n",
      "--------------------------------------------------\n",
      "En: 300\tTr: 421\n",
      "Using first variation (Regressor and Classifier with score vectors)\n",
      "epoch 0:\t20.94206312657537\n",
      "epoch 10:\t20.78537276745918\n",
      "epoch 20:\t20.704571298379427\n",
      "epoch 30:\t20.60310200826485\n",
      "epoch 40:\t20.506890423388747\n",
      "epoch 50:\t20.42429013246859\n",
      "Using second variation (average of outputs produced by each set of weight matrices)\n",
      "Epoch 0: 2.828024835405532\n",
      "Epoch 25: 0.0101051510125908\n",
      "Epoch 50: 0.003161538614424463\n",
      "Epoch 75: 0.0019383987335616934\n",
      "Epoch 100: 0.0014098590150325781\n",
      "Epoch 125: 0.001112632156205451\n",
      "Epoch 150: 0.0009213728163936262\n",
      "Using well-known algorithms: Logistic Regression, RandomForest and MLP\n"
     ]
    },
    {
     "name": "stderr",
     "output_type": "stream",
     "text": [
      "/usr/local/lib/python3.5/dist-packages/sklearn/metrics/classification.py:1135: UndefinedMetricWarning: F-score is ill-defined and being set to 0.0 in labels with no predicted samples.\n",
      "  'precision', 'predicted', average, warn_for)\n",
      "/usr/local/lib/python3.5/dist-packages/sklearn/neural_network/multilayer_perceptron.py:564: ConvergenceWarning: Stochastic Optimizer: Maximum iterations (200) reached and the optimization hasn't converged yet.\n",
      "  % self.max_iter, ConvergenceWarning)\n"
     ]
    },
    {
     "name": "stdout",
     "output_type": "stream",
     "text": [
      "Took: 190.44520378112793\n",
      "--------------------------------------------------\n",
      "En: 350\tTr: 42\n",
      "Using first variation (Regressor and Classifier with score vectors)\n",
      "epoch 0:\t21.73451814470814\n",
      "epoch 10:\t21.648566955357545\n",
      "epoch 20:\t21.53504768210313\n",
      "epoch 30:\t21.39513166818181\n",
      "epoch 40:\t21.2837859658518\n",
      "epoch 50:\t21.193068328578327\n",
      "Using second variation (average of outputs produced by each set of weight matrices)\n",
      "Epoch 0: 3.1302855493128416\n",
      "Epoch 25: 0.027933728036352513\n",
      "Epoch 50: 0.0067566670239808\n",
      "Epoch 75: 0.0035699042446000876\n",
      "Epoch 100: 0.0024777686185606567\n",
      "Epoch 125: 0.0019128678022103226\n",
      "Epoch 150: 0.0015653439607641135\n",
      "Using well-known algorithms: Logistic Regression, RandomForest and MLP\n"
     ]
    },
    {
     "name": "stderr",
     "output_type": "stream",
     "text": [
      "/usr/local/lib/python3.5/dist-packages/sklearn/metrics/classification.py:1135: UndefinedMetricWarning: F-score is ill-defined and being set to 0.0 in labels with no predicted samples.\n",
      "  'precision', 'predicted', average, warn_for)\n",
      "/usr/local/lib/python3.5/dist-packages/sklearn/neural_network/multilayer_perceptron.py:564: ConvergenceWarning: Stochastic Optimizer: Maximum iterations (200) reached and the optimization hasn't converged yet.\n",
      "  % self.max_iter, ConvergenceWarning)\n"
     ]
    },
    {
     "name": "stdout",
     "output_type": "stream",
     "text": [
      "Took: 109.09434604644775\n",
      "--------------------------------------------------\n",
      "En: 350\tTr: 84\n",
      "Using first variation (Regressor and Classifier with score vectors)\n",
      "epoch 0:\t20.273289800734375\n",
      "epoch 10:\t20.064309081579633\n",
      "epoch 20:\t19.878944924829405\n",
      "epoch 30:\t19.77310206871366\n",
      "epoch 40:\t19.62641793684579\n",
      "epoch 50:\t19.487986640149515\n",
      "Using second variation (average of outputs produced by each set of weight matrices)\n",
      "Epoch 0: 2.6799535539584913\n",
      "Epoch 25: 0.007565441873622203\n",
      "Epoch 50: 0.003425968117413663\n",
      "Epoch 75: 0.0022737172532009526\n",
      "Epoch 100: 0.001721512709068541\n",
      "Epoch 125: 0.001394474509565387\n",
      "Epoch 150: 0.0011769509875625458\n",
      "Using well-known algorithms: Logistic Regression, RandomForest and MLP\n"
     ]
    },
    {
     "name": "stderr",
     "output_type": "stream",
     "text": [
      "/usr/local/lib/python3.5/dist-packages/sklearn/metrics/classification.py:1135: UndefinedMetricWarning: F-score is ill-defined and being set to 0.0 in labels with no predicted samples.\n",
      "  'precision', 'predicted', average, warn_for)\n"
     ]
    },
    {
     "name": "stdout",
     "output_type": "stream",
     "text": [
      "Took: 131.40885639190674\n",
      "--------------------------------------------------\n",
      "En: 350\tTr: 126\n",
      "Using first variation (Regressor and Classifier with score vectors)\n",
      "epoch 0:\t23.703754475000967\n",
      "epoch 10:\t23.49377268346148\n",
      "epoch 20:\t23.241766548083962\n",
      "epoch 30:\t23.017212424808974\n",
      "epoch 40:\t22.80960391406645\n",
      "epoch 50:\t22.620296334421052\n",
      "Using second variation (average of outputs produced by each set of weight matrices)\n",
      "Epoch 0: 2.208412305848752\n",
      "Epoch 25: 0.01009693580506394\n",
      "Epoch 50: 0.0029290511868952642\n",
      "Epoch 75: 0.0018161735192810768\n",
      "Epoch 100: 0.0013363405444430222\n",
      "Epoch 125: 0.001064840914442097\n",
      "Epoch 150: 0.0008889355064444057\n",
      "Using well-known algorithms: Logistic Regression, RandomForest and MLP\n"
     ]
    },
    {
     "name": "stderr",
     "output_type": "stream",
     "text": [
      "/usr/local/lib/python3.5/dist-packages/sklearn/metrics/classification.py:1135: UndefinedMetricWarning: F-score is ill-defined and being set to 0.0 in labels with no predicted samples.\n",
      "  'precision', 'predicted', average, warn_for)\n",
      "/usr/local/lib/python3.5/dist-packages/sklearn/neural_network/multilayer_perceptron.py:564: ConvergenceWarning: Stochastic Optimizer: Maximum iterations (200) reached and the optimization hasn't converged yet.\n",
      "  % self.max_iter, ConvergenceWarning)\n"
     ]
    },
    {
     "name": "stdout",
     "output_type": "stream",
     "text": [
      "Took: 135.64446806907654\n",
      "--------------------------------------------------\n",
      "En: 350\tTr: 168\n",
      "Using first variation (Regressor and Classifier with score vectors)\n",
      "epoch 0:\t20.919323949659933\n",
      "epoch 10:\t20.773554689624802\n",
      "epoch 20:\t20.648736941542897\n",
      "epoch 30:\t20.552483595093243\n",
      "epoch 40:\t20.450860924034885\n",
      "epoch 50:\t20.371491049222225\n",
      "Using second variation (average of outputs produced by each set of weight matrices)\n",
      "Epoch 0: 2.61838806527083\n",
      "Epoch 25: 0.013849950676244957\n",
      "Epoch 50: 0.004234333768706584\n",
      "Epoch 75: 0.002641924413581568\n",
      "Epoch 100: 0.0019460136939787615\n",
      "Epoch 125: 0.001551349177725328\n",
      "Epoch 150: 0.0012955348598357407\n",
      "Using well-known algorithms: Logistic Regression, RandomForest and MLP\n"
     ]
    },
    {
     "name": "stderr",
     "output_type": "stream",
     "text": [
      "/usr/local/lib/python3.5/dist-packages/sklearn/metrics/classification.py:1135: UndefinedMetricWarning: F-score is ill-defined and being set to 0.0 in labels with no predicted samples.\n",
      "  'precision', 'predicted', average, warn_for)\n",
      "/usr/local/lib/python3.5/dist-packages/sklearn/neural_network/multilayer_perceptron.py:564: ConvergenceWarning: Stochastic Optimizer: Maximum iterations (200) reached and the optimization hasn't converged yet.\n",
      "  % self.max_iter, ConvergenceWarning)\n"
     ]
    },
    {
     "name": "stdout",
     "output_type": "stream",
     "text": [
      "Took: 150.14663004875183\n",
      "--------------------------------------------------\n",
      "En: 350\tTr: 210\n",
      "Using first variation (Regressor and Classifier with score vectors)\n",
      "epoch 0:\t22.91784844910516\n",
      "epoch 10:\t22.628663604949896\n",
      "epoch 20:\t22.395278367966824\n",
      "epoch 30:\t22.20440097313055\n",
      "epoch 40:\t22.012062262673208\n",
      "epoch 50:\t21.811782695017776\n",
      "Using second variation (average of outputs produced by each set of weight matrices)\n",
      "Epoch 0: 5.534536571001809\n",
      "Epoch 25: 0.007828012131061055\n",
      "Epoch 50: 0.003867520508283308\n",
      "Epoch 75: 0.002645393757898416\n",
      "Epoch 100: 0.0020360194575082297\n",
      "Epoch 125: 0.0016666708489221297\n",
      "Epoch 150: 0.001417185326081543\n",
      "Using well-known algorithms: Logistic Regression, RandomForest and MLP\n"
     ]
    },
    {
     "name": "stderr",
     "output_type": "stream",
     "text": [
      "/usr/local/lib/python3.5/dist-packages/sklearn/metrics/classification.py:1135: UndefinedMetricWarning: F-score is ill-defined and being set to 0.0 in labels with no predicted samples.\n",
      "  'precision', 'predicted', average, warn_for)\n",
      "/usr/local/lib/python3.5/dist-packages/sklearn/neural_network/multilayer_perceptron.py:564: ConvergenceWarning: Stochastic Optimizer: Maximum iterations (200) reached and the optimization hasn't converged yet.\n",
      "  % self.max_iter, ConvergenceWarning)\n"
     ]
    },
    {
     "name": "stdout",
     "output_type": "stream",
     "text": [
      "Took: 151.72873377799988\n",
      "--------------------------------------------------\n",
      "En: 350\tTr: 253\n",
      "Using first variation (Regressor and Classifier with score vectors)\n",
      "epoch 0:\t22.07934361299421\n",
      "epoch 10:\t21.94593045401302\n",
      "epoch 20:\t21.833312921590355\n",
      "epoch 30:\t21.720859086826046\n",
      "epoch 40:\t21.63166003806543\n",
      "epoch 50:\t21.548102326949902\n",
      "Using second variation (average of outputs produced by each set of weight matrices)\n",
      "Epoch 0: 2.6662592866351864\n",
      "Epoch 25: 0.012734012018320596\n",
      "Epoch 50: 0.004307503789119743\n",
      "Epoch 75: 0.0027156760696531875\n",
      "Epoch 100: 0.002010008527478387\n",
      "Epoch 125: 0.0016063273499356818\n",
      "Epoch 150: 0.0013432578491708628\n",
      "Using well-known algorithms: Logistic Regression, RandomForest and MLP\n"
     ]
    },
    {
     "name": "stderr",
     "output_type": "stream",
     "text": [
      "/usr/local/lib/python3.5/dist-packages/sklearn/metrics/classification.py:1135: UndefinedMetricWarning: F-score is ill-defined and being set to 0.0 in labels with no predicted samples.\n",
      "  'precision', 'predicted', average, warn_for)\n"
     ]
    },
    {
     "name": "stdout",
     "output_type": "stream",
     "text": [
      "Took: 162.13934779167175\n",
      "--------------------------------------------------\n",
      "En: 350\tTr: 295\n",
      "Using first variation (Regressor and Classifier with score vectors)\n",
      "epoch 0:\t27.60349810606376\n",
      "epoch 10:\t27.234107312819884\n",
      "epoch 20:\t26.861374389363515\n",
      "epoch 30:\t26.560508923154224\n",
      "epoch 40:\t26.249757967963966\n",
      "epoch 50:\t25.92905497055695\n",
      "Using second variation (average of outputs produced by each set of weight matrices)\n",
      "Epoch 0: 2.419531465895463\n",
      "Epoch 25: 0.007747315610890837\n",
      "Epoch 50: 0.0033529363893580392\n",
      "Epoch 75: 0.002184459268173827\n",
      "Epoch 100: 0.0016357458296171843\n",
      "Epoch 125: 0.0013147877614754235\n",
      "Epoch 150: 0.001103181702559377\n",
      "Using well-known algorithms: Logistic Regression, RandomForest and MLP\n"
     ]
    },
    {
     "name": "stderr",
     "output_type": "stream",
     "text": [
      "/usr/local/lib/python3.5/dist-packages/sklearn/metrics/classification.py:1135: UndefinedMetricWarning: F-score is ill-defined and being set to 0.0 in labels with no predicted samples.\n",
      "  'precision', 'predicted', average, warn_for)\n",
      "/usr/local/lib/python3.5/dist-packages/sklearn/neural_network/multilayer_perceptron.py:564: ConvergenceWarning: Stochastic Optimizer: Maximum iterations (200) reached and the optimization hasn't converged yet.\n",
      "  % self.max_iter, ConvergenceWarning)\n"
     ]
    },
    {
     "name": "stdout",
     "output_type": "stream",
     "text": [
      "Took: 171.02489686012268\n",
      "--------------------------------------------------\n",
      "En: 350\tTr: 337\n",
      "Using first variation (Regressor and Classifier with score vectors)\n",
      "epoch 0:\t23.65824913361639\n",
      "epoch 10:\t23.331191825452528\n",
      "epoch 20:\t23.09539714749985\n",
      "epoch 30:\t22.905084723817133\n",
      "epoch 40:\t22.70416200349422\n",
      "epoch 50:\t22.48058292219536\n",
      "Using second variation (average of outputs produced by each set of weight matrices)\n",
      "Epoch 0: 2.0910157747257148\n",
      "Epoch 25: 0.00844124929253479\n",
      "Epoch 50: 0.003034895715996763\n",
      "Epoch 75: 0.0019134050717158166\n",
      "Epoch 100: 0.0014168159844798196\n",
      "Epoch 125: 0.001133568021099757\n",
      "Epoch 150: 0.000949360304391515\n",
      "Using well-known algorithms: Logistic Regression, RandomForest and MLP\n"
     ]
    },
    {
     "name": "stderr",
     "output_type": "stream",
     "text": [
      "/usr/local/lib/python3.5/dist-packages/sklearn/metrics/classification.py:1135: UndefinedMetricWarning: F-score is ill-defined and being set to 0.0 in labels with no predicted samples.\n",
      "  'precision', 'predicted', average, warn_for)\n",
      "/usr/local/lib/python3.5/dist-packages/sklearn/neural_network/multilayer_perceptron.py:564: ConvergenceWarning: Stochastic Optimizer: Maximum iterations (200) reached and the optimization hasn't converged yet.\n",
      "  % self.max_iter, ConvergenceWarning)\n"
     ]
    },
    {
     "name": "stdout",
     "output_type": "stream",
     "text": [
      "Took: 187.77190566062927\n",
      "--------------------------------------------------\n",
      "En: 350\tTr: 379\n",
      "Using first variation (Regressor and Classifier with score vectors)\n",
      "epoch 0:\t22.598923400666823\n",
      "epoch 10:\t22.429616635768976\n",
      "epoch 20:\t22.30324712390248\n",
      "epoch 30:\t22.22539040619151\n",
      "epoch 40:\t22.15524605747379\n",
      "epoch 50:\t22.054070680232194\n",
      "Using second variation (average of outputs produced by each set of weight matrices)\n",
      "Epoch 0: 1.6737156319686506\n",
      "Epoch 25: 0.0029792617392796522\n",
      "Epoch 50: 0.0015728925824791188\n",
      "Epoch 75: 0.0010895148948291795\n",
      "Epoch 100: 0.0008407113354097052\n",
      "Epoch 125: 0.0006878590053028817\n",
      "Epoch 150: 0.0005839482200455982\n",
      "Using well-known algorithms: Logistic Regression, RandomForest and MLP\n"
     ]
    },
    {
     "name": "stderr",
     "output_type": "stream",
     "text": [
      "/usr/local/lib/python3.5/dist-packages/sklearn/metrics/classification.py:1135: UndefinedMetricWarning: F-score is ill-defined and being set to 0.0 in labels with no predicted samples.\n",
      "  'precision', 'predicted', average, warn_for)\n",
      "/usr/local/lib/python3.5/dist-packages/sklearn/neural_network/multilayer_perceptron.py:564: ConvergenceWarning: Stochastic Optimizer: Maximum iterations (200) reached and the optimization hasn't converged yet.\n",
      "  % self.max_iter, ConvergenceWarning)\n"
     ]
    },
    {
     "name": "stdout",
     "output_type": "stream",
     "text": [
      "Took: 191.0512819290161\n",
      "--------------------------------------------------\n",
      "En: 350\tTr: 421\n",
      "Using first variation (Regressor and Classifier with score vectors)\n",
      "epoch 0:\t24.18080608232177\n",
      "epoch 10:\t23.99748922924352\n",
      "epoch 20:\t23.560558188528393\n",
      "epoch 30:\t23.16205987524205\n",
      "epoch 40:\t22.922729003305708\n",
      "epoch 50:\t22.70681169036933\n",
      "Using second variation (average of outputs produced by each set of weight matrices)\n",
      "Epoch 0: 1.4595290748982754\n",
      "Epoch 25: 0.003899130021875559\n",
      "Epoch 50: 0.0018590423919124474\n",
      "Epoch 75: 0.0012475478533854366\n",
      "Epoch 100: 0.0009470997388258497\n",
      "Epoch 125: 0.0007668960877626499\n",
      "Epoch 150: 0.0006461849858059148\n",
      "Using well-known algorithms: Logistic Regression, RandomForest and MLP\n"
     ]
    },
    {
     "name": "stderr",
     "output_type": "stream",
     "text": [
      "/usr/local/lib/python3.5/dist-packages/sklearn/metrics/classification.py:1135: UndefinedMetricWarning: F-score is ill-defined and being set to 0.0 in labels with no predicted samples.\n",
      "  'precision', 'predicted', average, warn_for)\n",
      "/usr/local/lib/python3.5/dist-packages/sklearn/neural_network/multilayer_perceptron.py:564: ConvergenceWarning: Stochastic Optimizer: Maximum iterations (200) reached and the optimization hasn't converged yet.\n",
      "  % self.max_iter, ConvergenceWarning)\n"
     ]
    },
    {
     "name": "stdout",
     "output_type": "stream",
     "text": [
      "Took: 200.01076912879944\n",
      "--------------------------------------------------\n",
      "En: 400\tTr: 42\n",
      "Using first variation (Regressor and Classifier with score vectors)\n",
      "epoch 0:\t19.231735704346\n",
      "epoch 10:\t19.106378667324776\n",
      "epoch 20:\t18.992495510583325\n",
      "epoch 30:\t18.87688694861613\n",
      "epoch 40:\t18.782512355035514\n",
      "epoch 50:\t18.67064696285581\n",
      "Using second variation (average of outputs produced by each set of weight matrices)\n",
      "Epoch 0: 2.4614083518310457\n",
      "Epoch 25: 0.00407446300544906\n",
      "Epoch 50: 0.002067182369424963\n",
      "Epoch 75: 0.0014139070139294766\n",
      "Epoch 100: 0.001083375827240194\n",
      "Epoch 125: 0.000882019392357749\n",
      "Epoch 150: 0.0007458408754081579\n",
      "Using well-known algorithms: Logistic Regression, RandomForest and MLP\n"
     ]
    },
    {
     "name": "stderr",
     "output_type": "stream",
     "text": [
      "/usr/local/lib/python3.5/dist-packages/sklearn/metrics/classification.py:1135: UndefinedMetricWarning: F-score is ill-defined and being set to 0.0 in labels with no predicted samples.\n",
      "  'precision', 'predicted', average, warn_for)\n",
      "/usr/local/lib/python3.5/dist-packages/sklearn/neural_network/multilayer_perceptron.py:564: ConvergenceWarning: Stochastic Optimizer: Maximum iterations (200) reached and the optimization hasn't converged yet.\n",
      "  % self.max_iter, ConvergenceWarning)\n"
     ]
    },
    {
     "name": "stdout",
     "output_type": "stream",
     "text": [
      "Took: 119.52459406852722\n",
      "--------------------------------------------------\n",
      "En: 400\tTr: 84\n",
      "Using first variation (Regressor and Classifier with score vectors)\n",
      "epoch 0:\t22.611025902110306\n",
      "epoch 10:\t22.454804584763707\n",
      "epoch 20:\t22.31945953925138\n",
      "epoch 30:\t22.229251339532045\n",
      "epoch 40:\t22.110958043456833\n",
      "epoch 50:\t21.963721958634384\n",
      "Using second variation (average of outputs produced by each set of weight matrices)\n",
      "Epoch 0: 1.7347969823770781\n",
      "Epoch 25: 0.007189716329255758\n",
      "Epoch 50: 0.0027625904051208727\n",
      "Epoch 75: 0.00179197724769494\n",
      "Epoch 100: 0.0013436068582409048\n",
      "Epoch 125: 0.0010816646383505558\n",
      "Epoch 150: 0.0009086386048021599\n",
      "Using well-known algorithms: Logistic Regression, RandomForest and MLP\n"
     ]
    },
    {
     "name": "stderr",
     "output_type": "stream",
     "text": [
      "/usr/local/lib/python3.5/dist-packages/sklearn/metrics/classification.py:1135: UndefinedMetricWarning: F-score is ill-defined and being set to 0.0 in labels with no predicted samples.\n",
      "  'precision', 'predicted', average, warn_for)\n",
      "/usr/local/lib/python3.5/dist-packages/sklearn/neural_network/multilayer_perceptron.py:564: ConvergenceWarning: Stochastic Optimizer: Maximum iterations (200) reached and the optimization hasn't converged yet.\n",
      "  % self.max_iter, ConvergenceWarning)\n"
     ]
    },
    {
     "name": "stdout",
     "output_type": "stream",
     "text": [
      "Took: 134.26258850097656\n",
      "--------------------------------------------------\n",
      "En: 400\tTr: 126\n",
      "Using first variation (Regressor and Classifier with score vectors)\n",
      "epoch 0:\t22.41044091371511\n",
      "epoch 10:\t22.107295325838315\n",
      "epoch 20:\t21.89723087786198\n",
      "epoch 30:\t21.711994825259545\n",
      "epoch 40:\t21.55288381422053\n",
      "epoch 50:\t21.392537533751184\n",
      "Using second variation (average of outputs produced by each set of weight matrices)\n",
      "Epoch 0: 2.7428436009775488\n",
      "Epoch 25: 0.00668399769143908\n",
      "Epoch 50: 0.0029285110919246202\n",
      "Epoch 75: 0.0019452032530372764\n",
      "Epoch 100: 0.001476015199447843\n",
      "Epoch 125: 0.001197865540612724\n",
      "Epoch 150: 0.0010125298181001268\n",
      "Using well-known algorithms: Logistic Regression, RandomForest and MLP\n"
     ]
    },
    {
     "name": "stderr",
     "output_type": "stream",
     "text": [
      "/usr/local/lib/python3.5/dist-packages/sklearn/metrics/classification.py:1135: UndefinedMetricWarning: F-score is ill-defined and being set to 0.0 in labels with no predicted samples.\n",
      "  'precision', 'predicted', average, warn_for)\n",
      "/usr/local/lib/python3.5/dist-packages/sklearn/neural_network/multilayer_perceptron.py:564: ConvergenceWarning: Stochastic Optimizer: Maximum iterations (200) reached and the optimization hasn't converged yet.\n",
      "  % self.max_iter, ConvergenceWarning)\n"
     ]
    },
    {
     "name": "stdout",
     "output_type": "stream",
     "text": [
      "Took: 140.72066807746887\n",
      "--------------------------------------------------\n",
      "En: 400\tTr: 168\n",
      "Using first variation (Regressor and Classifier with score vectors)\n",
      "epoch 0:\t23.22769014968013\n",
      "epoch 10:\t22.99691354942191\n",
      "epoch 20:\t22.83713826246773\n",
      "epoch 30:\t22.72744757511579\n",
      "epoch 40:\t22.588760224501065\n",
      "epoch 50:\t22.48320465894214\n",
      "Using second variation (average of outputs produced by each set of weight matrices)\n",
      "Epoch 0: 1.7052577237278534\n",
      "Epoch 25: 0.004338178264203993\n",
      "Epoch 50: 0.001829517367745336\n",
      "Epoch 75: 0.0011956843736772977\n",
      "Epoch 100: 0.0008962696482980268\n",
      "Epoch 125: 0.0007201911047402086\n",
      "Epoch 150: 0.0006037405106410597\n",
      "Using well-known algorithms: Logistic Regression, RandomForest and MLP\n"
     ]
    },
    {
     "name": "stderr",
     "output_type": "stream",
     "text": [
      "/usr/local/lib/python3.5/dist-packages/sklearn/metrics/classification.py:1135: UndefinedMetricWarning: F-score is ill-defined and being set to 0.0 in labels with no predicted samples.\n",
      "  'precision', 'predicted', average, warn_for)\n",
      "/usr/local/lib/python3.5/dist-packages/sklearn/neural_network/multilayer_perceptron.py:564: ConvergenceWarning: Stochastic Optimizer: Maximum iterations (200) reached and the optimization hasn't converged yet.\n",
      "  % self.max_iter, ConvergenceWarning)\n"
     ]
    },
    {
     "name": "stdout",
     "output_type": "stream",
     "text": [
      "Took: 155.26429986953735\n",
      "--------------------------------------------------\n",
      "En: 400\tTr: 210\n",
      "Using first variation (Regressor and Classifier with score vectors)\n",
      "epoch 0:\t22.514675383489795\n",
      "epoch 10:\t22.275177511613602\n",
      "epoch 20:\t22.12278607620631\n",
      "epoch 30:\t21.96481702105879\n",
      "epoch 40:\t21.815801378464847\n",
      "epoch 50:\t21.668313784549078\n",
      "Using second variation (average of outputs produced by each set of weight matrices)\n",
      "Epoch 0: 2.8437017905952877\n",
      "Epoch 25: 0.03152715841618739\n",
      "Epoch 50: 0.009306552631066745\n",
      "Epoch 75: 0.0033279718257920306\n",
      "Epoch 100: 0.0021305917437258195\n",
      "Epoch 125: 0.0016098540532039642\n",
      "Epoch 150: 0.001310523657836905\n",
      "Using well-known algorithms: Logistic Regression, RandomForest and MLP\n"
     ]
    },
    {
     "name": "stderr",
     "output_type": "stream",
     "text": [
      "/usr/local/lib/python3.5/dist-packages/sklearn/metrics/classification.py:1135: UndefinedMetricWarning: F-score is ill-defined and being set to 0.0 in labels with no predicted samples.\n",
      "  'precision', 'predicted', average, warn_for)\n"
     ]
    },
    {
     "name": "stdout",
     "output_type": "stream",
     "text": [
      "Took: 171.50785374641418\n",
      "--------------------------------------------------\n",
      "En: 400\tTr: 253\n",
      "Using first variation (Regressor and Classifier with score vectors)\n",
      "epoch 0:\t21.95924122043555\n",
      "epoch 10:\t21.895593864209832\n",
      "epoch 20:\t21.727461511762435\n",
      "epoch 30:\t21.536699888727583\n",
      "epoch 40:\t21.370491667188613\n",
      "epoch 50:\t21.233466649540354\n",
      "Using second variation (average of outputs produced by each set of weight matrices)\n",
      "Epoch 0: 4.363252093161351\n",
      "Epoch 25: 0.007071535841906019\n",
      "Epoch 50: 0.003529877243881424\n",
      "Epoch 75: 0.0024262541977429727\n",
      "Epoch 100: 0.0018720614510726774\n",
      "Epoch 125: 0.0015344400824278427\n",
      "Epoch 150: 0.0013054757935847827\n",
      "Using well-known algorithms: Logistic Regression, RandomForest and MLP\n"
     ]
    },
    {
     "name": "stderr",
     "output_type": "stream",
     "text": [
      "/usr/local/lib/python3.5/dist-packages/sklearn/metrics/classification.py:1135: UndefinedMetricWarning: F-score is ill-defined and being set to 0.0 in labels with no predicted samples.\n",
      "  'precision', 'predicted', average, warn_for)\n",
      "/usr/local/lib/python3.5/dist-packages/sklearn/neural_network/multilayer_perceptron.py:564: ConvergenceWarning: Stochastic Optimizer: Maximum iterations (200) reached and the optimization hasn't converged yet.\n",
      "  % self.max_iter, ConvergenceWarning)\n"
     ]
    },
    {
     "name": "stdout",
     "output_type": "stream",
     "text": [
      "Took: 179.65651440620422\n",
      "--------------------------------------------------\n",
      "En: 400\tTr: 295\n",
      "Using first variation (Regressor and Classifier with score vectors)\n",
      "epoch 0:\t21.875460337006103\n",
      "epoch 10:\t21.668620639874433\n",
      "epoch 20:\t21.390774008006296\n",
      "epoch 30:\t21.115938107721167\n",
      "epoch 40:\t20.90309369163429\n",
      "epoch 50:\t20.704636105576665\n",
      "Using second variation (average of outputs produced by each set of weight matrices)\n",
      "Epoch 0: 2.0009075564626695\n",
      "Epoch 25: 0.007309758205730527\n",
      "Epoch 50: 0.0027411532211817267\n",
      "Epoch 75: 0.0017723770535188143\n",
      "Epoch 100: 0.0013275663134891965\n",
      "Epoch 125: 0.001068889055564508\n",
      "Epoch 150: 0.0008986501988168067\n",
      "Using well-known algorithms: Logistic Regression, RandomForest and MLP\n"
     ]
    },
    {
     "name": "stderr",
     "output_type": "stream",
     "text": [
      "/usr/local/lib/python3.5/dist-packages/sklearn/metrics/classification.py:1135: UndefinedMetricWarning: F-score is ill-defined and being set to 0.0 in labels with no predicted samples.\n",
      "  'precision', 'predicted', average, warn_for)\n",
      "/usr/local/lib/python3.5/dist-packages/sklearn/neural_network/multilayer_perceptron.py:564: ConvergenceWarning: Stochastic Optimizer: Maximum iterations (200) reached and the optimization hasn't converged yet.\n",
      "  % self.max_iter, ConvergenceWarning)\n"
     ]
    },
    {
     "name": "stdout",
     "output_type": "stream",
     "text": [
      "Took: 181.92933416366577\n",
      "--------------------------------------------------\n",
      "En: 400\tTr: 337\n",
      "Using first variation (Regressor and Classifier with score vectors)\n",
      "epoch 0:\t23.448115882124338\n",
      "epoch 10:\t23.249325886139808\n",
      "epoch 20:\t23.045326533664362\n",
      "epoch 30:\t22.877386679137565\n",
      "epoch 40:\t22.706767045673466\n",
      "epoch 50:\t22.54291545777121\n",
      "Using second variation (average of outputs produced by each set of weight matrices)\n",
      "Epoch 0: 3.01787691931785\n",
      "Epoch 25: 0.007920519718456658\n",
      "Epoch 50: 0.002709566411891042\n",
      "Epoch 75: 0.0017340330361318545\n",
      "Epoch 100: 0.0012952140652263307\n",
      "Epoch 125: 0.0010416312174770506\n",
      "Epoch 150: 0.0008751051807128785\n",
      "Using well-known algorithms: Logistic Regression, RandomForest and MLP\n"
     ]
    },
    {
     "name": "stderr",
     "output_type": "stream",
     "text": [
      "/usr/local/lib/python3.5/dist-packages/sklearn/metrics/classification.py:1135: UndefinedMetricWarning: F-score is ill-defined and being set to 0.0 in labels with no predicted samples.\n",
      "  'precision', 'predicted', average, warn_for)\n",
      "/usr/local/lib/python3.5/dist-packages/sklearn/neural_network/multilayer_perceptron.py:564: ConvergenceWarning: Stochastic Optimizer: Maximum iterations (200) reached and the optimization hasn't converged yet.\n",
      "  % self.max_iter, ConvergenceWarning)\n"
     ]
    },
    {
     "name": "stdout",
     "output_type": "stream",
     "text": [
      "Took: 194.9001123905182\n",
      "--------------------------------------------------\n",
      "En: 400\tTr: 379\n",
      "Using first variation (Regressor and Classifier with score vectors)\n",
      "epoch 0:\t24.37683863737436\n",
      "epoch 10:\t24.127910497089605\n",
      "epoch 20:\t23.800074939887754\n",
      "epoch 30:\t23.51365417478208\n",
      "epoch 40:\t23.27897053399812\n",
      "epoch 50:\t23.07965587731437\n",
      "Using second variation (average of outputs produced by each set of weight matrices)\n",
      "Epoch 0: 1.7527033092599185\n",
      "Epoch 25: 0.004388506123548919\n",
      "Epoch 50: 0.0020472054252157214\n",
      "Epoch 75: 0.0013652118564276836\n",
      "Epoch 100: 0.0010328694933862657\n",
      "Epoch 125: 0.0008344848322045887\n",
      "Epoch 150: 0.0007020343996339847\n",
      "Using well-known algorithms: Logistic Regression, RandomForest and MLP\n"
     ]
    },
    {
     "name": "stderr",
     "output_type": "stream",
     "text": [
      "/usr/local/lib/python3.5/dist-packages/sklearn/metrics/classification.py:1135: UndefinedMetricWarning: F-score is ill-defined and being set to 0.0 in labels with no predicted samples.\n",
      "  'precision', 'predicted', average, warn_for)\n",
      "/usr/local/lib/python3.5/dist-packages/sklearn/neural_network/multilayer_perceptron.py:564: ConvergenceWarning: Stochastic Optimizer: Maximum iterations (200) reached and the optimization hasn't converged yet.\n",
      "  % self.max_iter, ConvergenceWarning)\n"
     ]
    },
    {
     "name": "stdout",
     "output_type": "stream",
     "text": [
      "Took: 203.15918946266174\n",
      "--------------------------------------------------\n",
      "En: 400\tTr: 421\n",
      "Using first variation (Regressor and Classifier with score vectors)\n",
      "epoch 0:\t23.727858536278674\n",
      "epoch 10:\t23.549523162027015\n",
      "epoch 20:\t23.27754443138071\n",
      "epoch 30:\t23.003904110621594\n",
      "epoch 40:\t22.759025729518736\n",
      "epoch 50:\t22.497068495573416\n",
      "Using second variation (average of outputs produced by each set of weight matrices)\n",
      "Epoch 0: 1.9581713006592896\n",
      "Epoch 25: 0.004588702398765301\n",
      "Epoch 50: 0.0022449085027261167\n",
      "Epoch 75: 0.0015226515166164695\n",
      "Epoch 100: 0.0011641316619463106\n",
      "Epoch 125: 0.0009478401992554632\n",
      "Epoch 150: 0.0008023689544780919\n",
      "Using well-known algorithms: Logistic Regression, RandomForest and MLP\n"
     ]
    },
    {
     "name": "stderr",
     "output_type": "stream",
     "text": [
      "/usr/local/lib/python3.5/dist-packages/sklearn/metrics/classification.py:1135: UndefinedMetricWarning: F-score is ill-defined and being set to 0.0 in labels with no predicted samples.\n",
      "  'precision', 'predicted', average, warn_for)\n",
      "/usr/local/lib/python3.5/dist-packages/sklearn/neural_network/multilayer_perceptron.py:564: ConvergenceWarning: Stochastic Optimizer: Maximum iterations (200) reached and the optimization hasn't converged yet.\n",
      "  % self.max_iter, ConvergenceWarning)\n"
     ]
    },
    {
     "name": "stdout",
     "output_type": "stream",
     "text": [
      "Took: 220.92470026016235\n",
      "--------------------------------------------------\n",
      "En: 450\tTr: 42\n",
      "Using first variation (Regressor and Classifier with score vectors)\n",
      "epoch 0:\t21.745153680387443\n",
      "epoch 10:\t21.517913233075465\n",
      "epoch 20:\t21.29448682171442\n",
      "epoch 30:\t21.168583127602957\n",
      "epoch 40:\t21.067131217435325\n",
      "epoch 50:\t20.979890499597936\n",
      "Using second variation (average of outputs produced by each set of weight matrices)\n",
      "Epoch 0: 2.8266716146471578\n",
      "Epoch 25: 0.003628584314607381\n",
      "Epoch 50: 0.0018713243405476148\n",
      "Epoch 75: 0.001285933260488691\n",
      "Epoch 100: 0.0009889681609376744\n",
      "Epoch 125: 0.0008080356844025451\n",
      "Epoch 150: 0.0006856794386250131\n",
      "Using well-known algorithms: Logistic Regression, RandomForest and MLP\n"
     ]
    },
    {
     "name": "stderr",
     "output_type": "stream",
     "text": [
      "/usr/local/lib/python3.5/dist-packages/sklearn/metrics/classification.py:1135: UndefinedMetricWarning: F-score is ill-defined and being set to 0.0 in labels with no predicted samples.\n",
      "  'precision', 'predicted', average, warn_for)\n",
      "/usr/local/lib/python3.5/dist-packages/sklearn/neural_network/multilayer_perceptron.py:564: ConvergenceWarning: Stochastic Optimizer: Maximum iterations (200) reached and the optimization hasn't converged yet.\n",
      "  % self.max_iter, ConvergenceWarning)\n"
     ]
    },
    {
     "name": "stdout",
     "output_type": "stream",
     "text": [
      "Took: 137.40839910507202\n",
      "--------------------------------------------------\n",
      "En: 450\tTr: 84\n",
      "Using first variation (Regressor and Classifier with score vectors)\n",
      "epoch 0:\t20.161992497873058\n",
      "epoch 10:\t19.804113207304113\n",
      "epoch 20:\t19.680946555408248\n",
      "epoch 30:\t19.568725329715676\n",
      "epoch 40:\t19.468129033451767\n",
      "epoch 50:\t19.374109940400082\n",
      "Using second variation (average of outputs produced by each set of weight matrices)\n",
      "Epoch 0: 1.8258089813593887\n",
      "Epoch 25: 0.004095816841482984\n",
      "Epoch 50: 0.0020721816954102587\n",
      "Epoch 75: 0.0014127657565928217\n",
      "Epoch 100: 0.0010807032185472932\n",
      "Epoch 125: 0.0008792369596018232\n",
      "Epoch 150: 0.000743386149255617\n",
      "Using well-known algorithms: Logistic Regression, RandomForest and MLP\n"
     ]
    },
    {
     "name": "stderr",
     "output_type": "stream",
     "text": [
      "/usr/local/lib/python3.5/dist-packages/sklearn/metrics/classification.py:1135: UndefinedMetricWarning: F-score is ill-defined and being set to 0.0 in labels with no predicted samples.\n",
      "  'precision', 'predicted', average, warn_for)\n",
      "/usr/local/lib/python3.5/dist-packages/sklearn/neural_network/multilayer_perceptron.py:564: ConvergenceWarning: Stochastic Optimizer: Maximum iterations (200) reached and the optimization hasn't converged yet.\n",
      "  % self.max_iter, ConvergenceWarning)\n"
     ]
    },
    {
     "name": "stdout",
     "output_type": "stream",
     "text": [
      "Took: 141.96837544441223\n",
      "--------------------------------------------------\n",
      "En: 450\tTr: 126\n",
      "Using first variation (Regressor and Classifier with score vectors)\n",
      "epoch 0:\t22.25698298054097\n",
      "epoch 10:\t21.925809169527547\n",
      "epoch 20:\t21.670232514427102\n",
      "epoch 30:\t21.491490883934443\n",
      "epoch 40:\t21.346842432547206\n",
      "epoch 50:\t21.21150416755764\n",
      "Using second variation (average of outputs produced by each set of weight matrices)\n",
      "Epoch 0: 3.5130328786716642\n",
      "Epoch 25: 0.011891661658170152\n",
      "Epoch 50: 0.0042602608173230765\n",
      "Epoch 75: 0.00270496233659085\n",
      "Epoch 100: 0.002012025035189898\n",
      "Epoch 125: 0.0016151529490089603\n",
      "Epoch 150: 0.0013562475190309125\n",
      "Using well-known algorithms: Logistic Regression, RandomForest and MLP\n"
     ]
    },
    {
     "name": "stderr",
     "output_type": "stream",
     "text": [
      "/usr/local/lib/python3.5/dist-packages/sklearn/metrics/classification.py:1135: UndefinedMetricWarning: F-score is ill-defined and being set to 0.0 in labels with no predicted samples.\n",
      "  'precision', 'predicted', average, warn_for)\n",
      "/usr/local/lib/python3.5/dist-packages/sklearn/neural_network/multilayer_perceptron.py:564: ConvergenceWarning: Stochastic Optimizer: Maximum iterations (200) reached and the optimization hasn't converged yet.\n",
      "  % self.max_iter, ConvergenceWarning)\n"
     ]
    },
    {
     "name": "stdout",
     "output_type": "stream",
     "text": [
      "Took: 158.39717626571655\n",
      "--------------------------------------------------\n",
      "En: 450\tTr: 168\n",
      "Using first variation (Regressor and Classifier with score vectors)\n",
      "epoch 0:\t22.43920670772684\n",
      "epoch 10:\t22.246441697136433\n",
      "epoch 20:\t22.081227657686988\n",
      "epoch 30:\t21.95577922543203\n",
      "epoch 40:\t21.854547388620272\n",
      "epoch 50:\t21.751304511003376\n",
      "Using second variation (average of outputs produced by each set of weight matrices)\n",
      "Epoch 0: 2.7944936542489653\n",
      "Epoch 25: 0.007587120882205327\n",
      "Epoch 50: 0.0033201341921144127\n",
      "Epoch 75: 0.0021798121112494113\n",
      "Epoch 100: 0.001640582737366187\n",
      "Epoch 125: 0.0013231904283090463\n",
      "Epoch 150: 0.0011128450770473322\n",
      "Using well-known algorithms: Logistic Regression, RandomForest and MLP\n"
     ]
    },
    {
     "name": "stderr",
     "output_type": "stream",
     "text": [
      "/usr/local/lib/python3.5/dist-packages/sklearn/metrics/classification.py:1135: UndefinedMetricWarning: F-score is ill-defined and being set to 0.0 in labels with no predicted samples.\n",
      "  'precision', 'predicted', average, warn_for)\n",
      "/usr/local/lib/python3.5/dist-packages/sklearn/neural_network/multilayer_perceptron.py:564: ConvergenceWarning: Stochastic Optimizer: Maximum iterations (200) reached and the optimization hasn't converged yet.\n",
      "  % self.max_iter, ConvergenceWarning)\n"
     ]
    },
    {
     "name": "stdout",
     "output_type": "stream",
     "text": [
      "Took: 169.17357301712036\n",
      "--------------------------------------------------\n",
      "En: 450\tTr: 210\n",
      "Using first variation (Regressor and Classifier with score vectors)\n",
      "epoch 0:\t19.523714521664743\n",
      "epoch 10:\t19.45553348998161\n",
      "epoch 20:\t19.38619869290481\n",
      "epoch 30:\t19.327078366419403\n",
      "epoch 40:\t19.274467010218896\n",
      "epoch 50:\t19.220915379661463\n",
      "Using second variation (average of outputs produced by each set of weight matrices)\n",
      "Epoch 0: 2.5924338372866864\n",
      "Epoch 25: 0.00790016549485527\n",
      "Epoch 50: 0.002975674656558126\n",
      "Epoch 75: 0.0019110163791820566\n",
      "Epoch 100: 0.0014242258383123127\n",
      "Epoch 125: 0.0011421714181858189\n",
      "Epoch 150: 0.0009571329607162873\n",
      "Using well-known algorithms: Logistic Regression, RandomForest and MLP\n"
     ]
    },
    {
     "name": "stderr",
     "output_type": "stream",
     "text": [
      "/usr/local/lib/python3.5/dist-packages/sklearn/metrics/classification.py:1135: UndefinedMetricWarning: F-score is ill-defined and being set to 0.0 in labels with no predicted samples.\n",
      "  'precision', 'predicted', average, warn_for)\n",
      "/usr/local/lib/python3.5/dist-packages/sklearn/neural_network/multilayer_perceptron.py:564: ConvergenceWarning: Stochastic Optimizer: Maximum iterations (200) reached and the optimization hasn't converged yet.\n",
      "  % self.max_iter, ConvergenceWarning)\n"
     ]
    },
    {
     "name": "stdout",
     "output_type": "stream",
     "text": [
      "Took: 182.08465051651\n",
      "--------------------------------------------------\n",
      "En: 450\tTr: 253\n",
      "Using first variation (Regressor and Classifier with score vectors)\n",
      "epoch 0:\t22.158068939711665\n",
      "epoch 10:\t22.027259190497084\n",
      "epoch 20:\t21.84886937006186\n",
      "epoch 30:\t21.655083661604927\n",
      "epoch 40:\t21.48471298265533\n",
      "epoch 50:\t21.320835685893673\n",
      "Using second variation (average of outputs produced by each set of weight matrices)\n",
      "Epoch 0: 1.994921558374078\n",
      "Epoch 25: 0.011246421182235926\n",
      "Epoch 50: 0.0028151649078791315\n",
      "Epoch 75: 0.0017364403655588218\n",
      "Epoch 100: 0.0012876252910097512\n",
      "Epoch 125: 0.001034596422793914\n",
      "Epoch 150: 0.0008700346188500477\n",
      "Using well-known algorithms: Logistic Regression, RandomForest and MLP\n"
     ]
    },
    {
     "name": "stderr",
     "output_type": "stream",
     "text": [
      "/usr/local/lib/python3.5/dist-packages/sklearn/metrics/classification.py:1135: UndefinedMetricWarning: F-score is ill-defined and being set to 0.0 in labels with no predicted samples.\n",
      "  'precision', 'predicted', average, warn_for)\n",
      "/usr/local/lib/python3.5/dist-packages/sklearn/neural_network/multilayer_perceptron.py:564: ConvergenceWarning: Stochastic Optimizer: Maximum iterations (200) reached and the optimization hasn't converged yet.\n",
      "  % self.max_iter, ConvergenceWarning)\n"
     ]
    },
    {
     "name": "stdout",
     "output_type": "stream",
     "text": [
      "Took: 193.82786297798157\n",
      "--------------------------------------------------\n",
      "En: 450\tTr: 295\n",
      "Using first variation (Regressor and Classifier with score vectors)\n",
      "epoch 0:\t23.926858317749343\n",
      "epoch 10:\t23.79331022268903\n",
      "epoch 20:\t23.506889734869862\n",
      "epoch 30:\t23.290468126571636\n",
      "epoch 40:\t23.11768945725218\n",
      "epoch 50:\t22.958334155518493\n",
      "Using second variation (average of outputs produced by each set of weight matrices)\n",
      "Epoch 0: 0.9226607760462245\n",
      "Epoch 25: 0.0036285527765722698\n",
      "Epoch 50: 0.001736469148390874\n",
      "Epoch 75: 0.0011743004707955266\n",
      "Epoch 100: 0.0008973025837908357\n",
      "Epoch 125: 0.0007307383561926149\n",
      "Epoch 150: 0.0006189124086671122\n",
      "Using well-known algorithms: Logistic Regression, RandomForest and MLP\n"
     ]
    },
    {
     "name": "stderr",
     "output_type": "stream",
     "text": [
      "/usr/local/lib/python3.5/dist-packages/sklearn/metrics/classification.py:1135: UndefinedMetricWarning: F-score is ill-defined and being set to 0.0 in labels with no predicted samples.\n",
      "  'precision', 'predicted', average, warn_for)\n",
      "/usr/local/lib/python3.5/dist-packages/sklearn/neural_network/multilayer_perceptron.py:564: ConvergenceWarning: Stochastic Optimizer: Maximum iterations (200) reached and the optimization hasn't converged yet.\n",
      "  % self.max_iter, ConvergenceWarning)\n"
     ]
    },
    {
     "name": "stdout",
     "output_type": "stream",
     "text": [
      "Took: 190.6018669605255\n",
      "--------------------------------------------------\n",
      "En: 450\tTr: 337\n",
      "Using first variation (Regressor and Classifier with score vectors)\n",
      "epoch 0:\t25.784830945790333\n",
      "epoch 10:\t24.935200075785357\n",
      "epoch 20:\t24.643967407133967\n",
      "epoch 30:\t24.342375290306798\n",
      "epoch 40:\t24.0967890628626\n",
      "epoch 50:\t23.87418146413485\n",
      "Using second variation (average of outputs produced by each set of weight matrices)\n",
      "Epoch 0: 2.195085793976886\n",
      "Epoch 25: 0.0040853633553505206\n",
      "Epoch 50: 0.0019023254842143677\n",
      "Epoch 75: 0.001295203972317884\n",
      "Epoch 100: 0.0009970692205365536\n",
      "Epoch 125: 0.0008171283617160591\n",
      "Epoch 150: 0.000695720321188848\n",
      "Using well-known algorithms: Logistic Regression, RandomForest and MLP\n"
     ]
    },
    {
     "name": "stderr",
     "output_type": "stream",
     "text": [
      "/usr/local/lib/python3.5/dist-packages/sklearn/metrics/classification.py:1135: UndefinedMetricWarning: F-score is ill-defined and being set to 0.0 in labels with no predicted samples.\n",
      "  'precision', 'predicted', average, warn_for)\n",
      "/usr/local/lib/python3.5/dist-packages/sklearn/neural_network/multilayer_perceptron.py:564: ConvergenceWarning: Stochastic Optimizer: Maximum iterations (200) reached and the optimization hasn't converged yet.\n",
      "  % self.max_iter, ConvergenceWarning)\n"
     ]
    },
    {
     "name": "stdout",
     "output_type": "stream",
     "text": [
      "Took: 196.02705907821655\n",
      "--------------------------------------------------\n",
      "En: 450\tTr: 379\n",
      "Using first variation (Regressor and Classifier with score vectors)\n",
      "epoch 0:\t21.25418026403147\n",
      "epoch 10:\t21.016797116481893\n",
      "epoch 20:\t20.885364373780003\n",
      "epoch 30:\t20.754419272123275\n",
      "epoch 40:\t20.61153277462714\n",
      "epoch 50:\t20.47540017370568\n",
      "Using second variation (average of outputs produced by each set of weight matrices)\n",
      "Epoch 0: 1.1442776596945325\n",
      "Epoch 25: 0.011566456337326307\n",
      "Epoch 50: 0.002520979050564823\n",
      "Epoch 75: 0.0014139607361986618\n",
      "Epoch 100: 0.0010062351309869826\n",
      "Epoch 125: 0.0007896477537600875\n",
      "Epoch 150: 0.0006540852149512824\n",
      "Using well-known algorithms: Logistic Regression, RandomForest and MLP\n"
     ]
    },
    {
     "name": "stderr",
     "output_type": "stream",
     "text": [
      "/usr/local/lib/python3.5/dist-packages/sklearn/metrics/classification.py:1135: UndefinedMetricWarning: F-score is ill-defined and being set to 0.0 in labels with no predicted samples.\n",
      "  'precision', 'predicted', average, warn_for)\n",
      "/usr/local/lib/python3.5/dist-packages/sklearn/neural_network/multilayer_perceptron.py:564: ConvergenceWarning: Stochastic Optimizer: Maximum iterations (200) reached and the optimization hasn't converged yet.\n",
      "  % self.max_iter, ConvergenceWarning)\n"
     ]
    },
    {
     "name": "stdout",
     "output_type": "stream",
     "text": [
      "Took: 208.22851157188416\n",
      "--------------------------------------------------\n",
      "En: 450\tTr: 421\n",
      "Using first variation (Regressor and Classifier with score vectors)\n",
      "epoch 0:\t23.694637390177085\n",
      "epoch 10:\t23.409022803340527\n",
      "epoch 20:\t23.114785549946745\n",
      "epoch 30:\t22.809641138443556\n",
      "epoch 40:\t22.600156074536624\n",
      "epoch 50:\t22.45041618821213\n",
      "Using second variation (average of outputs produced by each set of weight matrices)\n",
      "Epoch 0: 2.0438107787019617\n",
      "Epoch 25: 0.0040124934942357355\n",
      "Epoch 50: 0.0020700249643477663\n",
      "Epoch 75: 0.001422578357212476\n",
      "Epoch 100: 0.0010941985898045275\n",
      "Epoch 125: 0.000894146575535171\n",
      "Epoch 150: 0.0007588349353470031\n",
      "Using well-known algorithms: Logistic Regression, RandomForest and MLP\n"
     ]
    },
    {
     "name": "stderr",
     "output_type": "stream",
     "text": [
      "/usr/local/lib/python3.5/dist-packages/sklearn/metrics/classification.py:1135: UndefinedMetricWarning: F-score is ill-defined and being set to 0.0 in labels with no predicted samples.\n",
      "  'precision', 'predicted', average, warn_for)\n",
      "/usr/local/lib/python3.5/dist-packages/sklearn/neural_network/multilayer_perceptron.py:564: ConvergenceWarning: Stochastic Optimizer: Maximum iterations (200) reached and the optimization hasn't converged yet.\n",
      "  % self.max_iter, ConvergenceWarning)\n"
     ]
    },
    {
     "name": "stdout",
     "output_type": "stream",
     "text": [
      "Took: 235.88746190071106\n",
      "--------------------------------------------------\n",
      "En: 500\tTr: 42\n",
      "Using first variation (Regressor and Classifier with score vectors)\n",
      "epoch 0:\t21.086100802129486\n",
      "epoch 10:\t20.88297896749619\n",
      "epoch 20:\t20.7962793148882\n",
      "epoch 30:\t20.711270842499072\n",
      "epoch 40:\t20.558580740773046\n",
      "epoch 50:\t20.388564635504014\n",
      "Using second variation (average of outputs produced by each set of weight matrices)\n",
      "Epoch 0: 1.6378071026471048\n",
      "Epoch 25: 0.003608166407757783\n",
      "Epoch 50: 0.001803742847700574\n",
      "Epoch 75: 0.0012328183893192727\n",
      "Epoch 100: 0.0009462828404669404\n",
      "Epoch 125: 0.000772246722402413\n",
      "Epoch 150: 0.0006546455999762747\n",
      "Using well-known algorithms: Logistic Regression, RandomForest and MLP\n"
     ]
    },
    {
     "name": "stderr",
     "output_type": "stream",
     "text": [
      "/usr/local/lib/python3.5/dist-packages/sklearn/metrics/classification.py:1135: UndefinedMetricWarning: F-score is ill-defined and being set to 0.0 in labels with no predicted samples.\n",
      "  'precision', 'predicted', average, warn_for)\n",
      "/usr/local/lib/python3.5/dist-packages/sklearn/neural_network/multilayer_perceptron.py:564: ConvergenceWarning: Stochastic Optimizer: Maximum iterations (200) reached and the optimization hasn't converged yet.\n",
      "  % self.max_iter, ConvergenceWarning)\n"
     ]
    },
    {
     "name": "stdout",
     "output_type": "stream",
     "text": [
      "Took: 146.65610814094543\n",
      "--------------------------------------------------\n",
      "En: 500\tTr: 84\n",
      "Using first variation (Regressor and Classifier with score vectors)\n",
      "epoch 0:\t20.620452109649676\n",
      "epoch 10:\t20.334283234902554\n",
      "epoch 20:\t20.14674828756067\n",
      "epoch 30:\t20.10721453271787\n",
      "epoch 40:\t20.000576409278445\n",
      "epoch 50:\t19.91655579405896\n",
      "Using second variation (average of outputs produced by each set of weight matrices)\n",
      "Epoch 0: 2.1002714489566716\n",
      "Epoch 25: 0.003975654887812796\n",
      "Epoch 50: 0.0020669370466736203\n",
      "Epoch 75: 0.0014241728891018482\n",
      "Epoch 100: 0.0010959459966226846\n",
      "Epoch 125: 0.0008950886504428364\n",
      "Epoch 150: 0.0007588367134677318\n",
      "Using well-known algorithms: Logistic Regression, RandomForest and MLP\n"
     ]
    },
    {
     "name": "stderr",
     "output_type": "stream",
     "text": [
      "/usr/local/lib/python3.5/dist-packages/sklearn/metrics/classification.py:1135: UndefinedMetricWarning: F-score is ill-defined and being set to 0.0 in labels with no predicted samples.\n",
      "  'precision', 'predicted', average, warn_for)\n",
      "/usr/local/lib/python3.5/dist-packages/sklearn/neural_network/multilayer_perceptron.py:564: ConvergenceWarning: Stochastic Optimizer: Maximum iterations (200) reached and the optimization hasn't converged yet.\n",
      "  % self.max_iter, ConvergenceWarning)\n"
     ]
    },
    {
     "name": "stdout",
     "output_type": "stream",
     "text": [
      "Took: 161.00927424430847\n",
      "--------------------------------------------------\n",
      "En: 500\tTr: 126\n",
      "Using first variation (Regressor and Classifier with score vectors)\n",
      "epoch 0:\t21.594074297133943\n",
      "epoch 10:\t21.467165480089136\n",
      "epoch 20:\t21.313545630697764\n",
      "epoch 30:\t21.19601613110985\n",
      "epoch 40:\t21.073875720167646\n",
      "epoch 50:\t20.950400189686597\n",
      "Using second variation (average of outputs produced by each set of weight matrices)\n",
      "Epoch 0: 2.15608590941669\n",
      "Epoch 25: 0.0039791000741604896\n",
      "Epoch 50: 0.0019267134763923442\n",
      "Epoch 75: 0.001301131260287985\n",
      "Epoch 100: 0.0009920681656708234\n",
      "Epoch 125: 0.0008061912562707497\n",
      "Epoch 150: 0.0006814542159233248\n",
      "Using well-known algorithms: Logistic Regression, RandomForest and MLP\n"
     ]
    },
    {
     "name": "stderr",
     "output_type": "stream",
     "text": [
      "/usr/local/lib/python3.5/dist-packages/sklearn/metrics/classification.py:1135: UndefinedMetricWarning: F-score is ill-defined and being set to 0.0 in labels with no predicted samples.\n",
      "  'precision', 'predicted', average, warn_for)\n",
      "/usr/local/lib/python3.5/dist-packages/sklearn/metrics/classification.py:1137: UndefinedMetricWarning: F-score is ill-defined and being set to 0.0 in labels with no true samples.\n",
      "  'recall', 'true', average, warn_for)\n",
      "/usr/local/lib/python3.5/dist-packages/sklearn/neural_network/multilayer_perceptron.py:564: ConvergenceWarning: Stochastic Optimizer: Maximum iterations (200) reached and the optimization hasn't converged yet.\n",
      "  % self.max_iter, ConvergenceWarning)\n"
     ]
    },
    {
     "name": "stdout",
     "output_type": "stream",
     "text": [
      "Took: 181.20767545700073\n",
      "--------------------------------------------------\n",
      "En: 500\tTr: 168\n",
      "Using first variation (Regressor and Classifier with score vectors)\n",
      "epoch 0:\t26.310866642234053\n",
      "epoch 10:\t25.907762737019404\n",
      "epoch 20:\t25.75524097914039\n",
      "epoch 30:\t25.614110621372458\n",
      "epoch 40:\t25.430793407161097\n",
      "epoch 50:\t25.224832335687573\n",
      "Using second variation (average of outputs produced by each set of weight matrices)\n",
      "Epoch 0: 3.718770209403254\n",
      "Epoch 25: 0.005355105226054074\n",
      "Epoch 50: 0.0026187481191843566\n",
      "Epoch 75: 0.0017735383141247233\n",
      "Epoch 100: 0.0013547173448475683\n",
      "Epoch 125: 0.0011023792222910013\n",
      "Epoch 150: 0.0009328043258530621\n",
      "Using well-known algorithms: Logistic Regression, RandomForest and MLP\n"
     ]
    },
    {
     "name": "stderr",
     "output_type": "stream",
     "text": [
      "/usr/local/lib/python3.5/dist-packages/sklearn/metrics/classification.py:1135: UndefinedMetricWarning: F-score is ill-defined and being set to 0.0 in labels with no predicted samples.\n",
      "  'precision', 'predicted', average, warn_for)\n",
      "/usr/local/lib/python3.5/dist-packages/sklearn/neural_network/multilayer_perceptron.py:564: ConvergenceWarning: Stochastic Optimizer: Maximum iterations (200) reached and the optimization hasn't converged yet.\n",
      "  % self.max_iter, ConvergenceWarning)\n"
     ]
    },
    {
     "name": "stdout",
     "output_type": "stream",
     "text": [
      "Took: 194.46621990203857\n",
      "--------------------------------------------------\n",
      "En: 500\tTr: 210\n",
      "Using first variation (Regressor and Classifier with score vectors)\n",
      "epoch 0:\t22.130272688512424\n",
      "epoch 10:\t21.97836477793718\n",
      "epoch 20:\t21.896236865679988\n",
      "epoch 30:\t21.872420969246996\n",
      "epoch 40:\t21.7272689210668\n",
      "epoch 50:\t21.642090777130225\n",
      "Using second variation (average of outputs produced by each set of weight matrices)\n",
      "Epoch 0: 1.0724534548262814\n",
      "Epoch 25: 0.0035826021357373795\n",
      "Epoch 50: 0.001651639407088758\n",
      "Epoch 75: 0.001097942908286938\n",
      "Epoch 100: 0.0008297071689623767\n",
      "Epoch 125: 0.0006702468208407283\n",
      "Epoch 150: 0.000564102155072427\n",
      "Using well-known algorithms: Logistic Regression, RandomForest and MLP\n"
     ]
    },
    {
     "name": "stderr",
     "output_type": "stream",
     "text": [
      "/usr/local/lib/python3.5/dist-packages/sklearn/metrics/classification.py:1135: UndefinedMetricWarning: F-score is ill-defined and being set to 0.0 in labels with no predicted samples.\n",
      "  'precision', 'predicted', average, warn_for)\n",
      "/usr/local/lib/python3.5/dist-packages/sklearn/neural_network/multilayer_perceptron.py:564: ConvergenceWarning: Stochastic Optimizer: Maximum iterations (200) reached and the optimization hasn't converged yet.\n",
      "  % self.max_iter, ConvergenceWarning)\n"
     ]
    },
    {
     "name": "stdout",
     "output_type": "stream",
     "text": [
      "Took: 211.51256656646729\n",
      "--------------------------------------------------\n",
      "En: 500\tTr: 253\n",
      "Using first variation (Regressor and Classifier with score vectors)\n",
      "epoch 0:\t20.37748428875762\n",
      "epoch 10:\t20.234611132192303\n",
      "epoch 20:\t20.126802110489436\n",
      "epoch 30:\t20.06016501361872\n",
      "epoch 40:\t19.993874989512285\n",
      "epoch 50:\t19.91540371155545\n",
      "Using second variation (average of outputs produced by each set of weight matrices)\n",
      "Epoch 0: 1.8654533915896185\n",
      "Epoch 25: 0.0033665874857835266\n",
      "Epoch 50: 0.0016805341343721165\n",
      "Epoch 75: 0.001140369068978143\n",
      "Epoch 100: 0.0008700898182502569\n",
      "Epoch 125: 0.0007066923067213793\n",
      "Epoch 150: 0.0005967903952682537\n",
      "Using well-known algorithms: Logistic Regression, RandomForest and MLP\n"
     ]
    },
    {
     "name": "stderr",
     "output_type": "stream",
     "text": [
      "/usr/local/lib/python3.5/dist-packages/sklearn/metrics/classification.py:1135: UndefinedMetricWarning: F-score is ill-defined and being set to 0.0 in labels with no predicted samples.\n",
      "  'precision', 'predicted', average, warn_for)\n",
      "/usr/local/lib/python3.5/dist-packages/sklearn/neural_network/multilayer_perceptron.py:564: ConvergenceWarning: Stochastic Optimizer: Maximum iterations (200) reached and the optimization hasn't converged yet.\n",
      "  % self.max_iter, ConvergenceWarning)\n"
     ]
    },
    {
     "name": "stdout",
     "output_type": "stream",
     "text": [
      "Took: 223.615784406662\n",
      "--------------------------------------------------\n",
      "En: 500\tTr: 295\n",
      "Using first variation (Regressor and Classifier with score vectors)\n",
      "epoch 0:\t23.896704256365403\n",
      "epoch 10:\t23.620190813969433\n",
      "epoch 20:\t23.35084985311648\n",
      "epoch 30:\t23.159843696780978\n",
      "epoch 40:\t22.965018756653766\n",
      "epoch 50:\t22.767297750050783\n",
      "Using second variation (average of outputs produced by each set of weight matrices)\n",
      "Epoch 0: 1.0299816118554408\n",
      "Epoch 25: 0.004189705423226703\n",
      "Epoch 50: 0.0018857198519885118\n",
      "Epoch 75: 0.0012436569667999746\n",
      "Epoch 100: 0.0009354945201517464\n",
      "Epoch 125: 0.0007532871540818414\n",
      "Epoch 150: 0.0006324535166566638\n",
      "Using well-known algorithms: Logistic Regression, RandomForest and MLP\n"
     ]
    },
    {
     "name": "stderr",
     "output_type": "stream",
     "text": [
      "/usr/local/lib/python3.5/dist-packages/sklearn/metrics/classification.py:1135: UndefinedMetricWarning: F-score is ill-defined and being set to 0.0 in labels with no predicted samples.\n",
      "  'precision', 'predicted', average, warn_for)\n",
      "/usr/local/lib/python3.5/dist-packages/sklearn/neural_network/multilayer_perceptron.py:564: ConvergenceWarning: Stochastic Optimizer: Maximum iterations (200) reached and the optimization hasn't converged yet.\n",
      "  % self.max_iter, ConvergenceWarning)\n"
     ]
    },
    {
     "name": "stdout",
     "output_type": "stream",
     "text": [
      "Took: 221.32285165786743\n",
      "--------------------------------------------------\n",
      "En: 500\tTr: 337\n",
      "Using first variation (Regressor and Classifier with score vectors)\n",
      "epoch 0:\t23.293153021012927\n",
      "epoch 10:\t23.028753313354816\n",
      "epoch 20:\t22.82384621426831\n",
      "epoch 30:\t22.649112663397055\n",
      "epoch 40:\t22.482659522986605\n",
      "epoch 50:\t22.309751775848753\n",
      "Using second variation (average of outputs produced by each set of weight matrices)\n",
      "Epoch 0: 1.4894258846454538\n",
      "Epoch 25: 0.0035767642555058696\n",
      "Epoch 50: 0.0018167276944339047\n",
      "Epoch 75: 0.0012521935068535368\n",
      "Epoch 100: 0.0009671997594108604\n",
      "Epoch 125: 0.0007933438289646304\n",
      "Epoch 150: 0.0006754165950487522\n",
      "Using well-known algorithms: Logistic Regression, RandomForest and MLP\n"
     ]
    },
    {
     "name": "stderr",
     "output_type": "stream",
     "text": [
      "/usr/local/lib/python3.5/dist-packages/sklearn/metrics/classification.py:1135: UndefinedMetricWarning: F-score is ill-defined and being set to 0.0 in labels with no predicted samples.\n",
      "  'precision', 'predicted', average, warn_for)\n",
      "/usr/local/lib/python3.5/dist-packages/sklearn/neural_network/multilayer_perceptron.py:564: ConvergenceWarning: Stochastic Optimizer: Maximum iterations (200) reached and the optimization hasn't converged yet.\n",
      "  % self.max_iter, ConvergenceWarning)\n"
     ]
    },
    {
     "name": "stdout",
     "output_type": "stream",
     "text": [
      "Took: 244.63416123390198\n",
      "--------------------------------------------------\n",
      "En: 500\tTr: 379\n",
      "Using first variation (Regressor and Classifier with score vectors)\n",
      "epoch 0:\t21.67959344523892\n",
      "epoch 10:\t21.427107613608918\n",
      "epoch 20:\t21.312107457997286\n",
      "epoch 30:\t21.22173212357429\n",
      "epoch 40:\t21.16858303749529\n",
      "epoch 50:\t21.084005953048326\n",
      "Using second variation (average of outputs produced by each set of weight matrices)\n",
      "Epoch 0: 2.081452033175596\n",
      "Epoch 25: 0.0042817122444631164\n",
      "Epoch 50: 0.0021407697580845234\n",
      "Epoch 75: 0.0014647270351982652\n",
      "Epoch 100: 0.0011257121348197596\n",
      "Epoch 125: 0.0009198217012881282\n",
      "Epoch 150: 0.0007806417118847851\n",
      "Using well-known algorithms: Logistic Regression, RandomForest and MLP\n"
     ]
    },
    {
     "name": "stderr",
     "output_type": "stream",
     "text": [
      "/usr/local/lib/python3.5/dist-packages/sklearn/metrics/classification.py:1135: UndefinedMetricWarning: F-score is ill-defined and being set to 0.0 in labels with no predicted samples.\n",
      "  'precision', 'predicted', average, warn_for)\n",
      "/usr/local/lib/python3.5/dist-packages/sklearn/neural_network/multilayer_perceptron.py:564: ConvergenceWarning: Stochastic Optimizer: Maximum iterations (200) reached and the optimization hasn't converged yet.\n",
      "  % self.max_iter, ConvergenceWarning)\n"
     ]
    },
    {
     "name": "stdout",
     "output_type": "stream",
     "text": [
      "Took: 253.33083987236023\n",
      "--------------------------------------------------\n",
      "En: 500\tTr: 421\n",
      "Using first variation (Regressor and Classifier with score vectors)\n",
      "epoch 0:\t23.265780520111786\n",
      "epoch 10:\t22.966522638733363\n",
      "epoch 20:\t22.750663699379373\n",
      "epoch 30:\t22.555301412770174\n",
      "epoch 40:\t22.385140844972806\n",
      "epoch 50:\t22.228637286119913\n",
      "Using second variation (average of outputs produced by each set of weight matrices)\n",
      "Epoch 0: 1.6882746880114516\n",
      "Epoch 25: 0.008514598274258182\n",
      "Epoch 50: 0.0024493747350401466\n",
      "Epoch 75: 0.0013883159054374561\n",
      "Epoch 100: 0.00098618992089173\n",
      "Epoch 125: 0.0007700134486349704\n",
      "Epoch 150: 0.0006340185141618625\n",
      "Using well-known algorithms: Logistic Regression, RandomForest and MLP\n"
     ]
    },
    {
     "name": "stderr",
     "output_type": "stream",
     "text": [
      "/usr/local/lib/python3.5/dist-packages/sklearn/metrics/classification.py:1135: UndefinedMetricWarning: F-score is ill-defined and being set to 0.0 in labels with no predicted samples.\n",
      "  'precision', 'predicted', average, warn_for)\n"
     ]
    },
    {
     "name": "stdout",
     "output_type": "stream",
     "text": [
      "Took: 245.67016983032227\n",
      "--------------------------------------------------\n"
     ]
    },
    {
     "name": "stderr",
     "output_type": "stream",
     "text": [
      "/usr/local/lib/python3.5/dist-packages/sklearn/neural_network/multilayer_perceptron.py:564: ConvergenceWarning: Stochastic Optimizer: Maximum iterations (200) reached and the optimization hasn't converged yet.\n",
      "  % self.max_iter, ConvergenceWarning)\n"
     ]
    }
   ],
   "source": [
    "robustness = robustness_test(df, tronly_test_raw)\n",
    "pickle.dump(robustness, open(\"../results/robustness.results\", \"wb\"))"
   ]
  },
  {
   "cell_type": "markdown",
   "metadata": {},
   "source": [
    "# grouping labels\n",
    "### label = 1   if review_score > 7\n",
    "### label = 0   if 7 >= review_score >= 4\n",
    "### label = -1  if review_score < 4"
   ]
  },
  {
   "cell_type": "code",
   "execution_count": 161,
   "metadata": {},
   "outputs": [],
   "source": [
    "def group_labels(x):\n",
    "    if x>7:\n",
    "        return 1\n",
    "    elif x>=4:\n",
    "        return 0\n",
    "    return -1"
   ]
  },
  {
   "cell_type": "code",
   "execution_count": 162,
   "metadata": {},
   "outputs": [
    {
     "data": {
      "text/html": [
       "<div>\n",
       "<style scoped>\n",
       "    .dataframe tbody tr th:only-of-type {\n",
       "        vertical-align: middle;\n",
       "    }\n",
       "\n",
       "    .dataframe tbody tr th {\n",
       "        vertical-align: top;\n",
       "    }\n",
       "\n",
       "    .dataframe thead th {\n",
       "        text-align: right;\n",
       "    }\n",
       "</style>\n",
       "<table border=\"1\" class=\"dataframe\">\n",
       "  <thead>\n",
       "    <tr style=\"text-align: right;\">\n",
       "      <th></th>\n",
       "      <th>Language</th>\n",
       "      <th>Movie_ID</th>\n",
       "      <th>Review</th>\n",
       "    </tr>\n",
       "    <tr>\n",
       "      <th>Score</th>\n",
       "      <th></th>\n",
       "      <th></th>\n",
       "      <th></th>\n",
       "    </tr>\n",
       "  </thead>\n",
       "  <tbody>\n",
       "    <tr>\n",
       "      <th>-1</th>\n",
       "      <td>64</td>\n",
       "      <td>64</td>\n",
       "      <td>64</td>\n",
       "    </tr>\n",
       "    <tr>\n",
       "      <th>0</th>\n",
       "      <td>220</td>\n",
       "      <td>220</td>\n",
       "      <td>220</td>\n",
       "    </tr>\n",
       "    <tr>\n",
       "      <th>1</th>\n",
       "      <td>716</td>\n",
       "      <td>716</td>\n",
       "      <td>716</td>\n",
       "    </tr>\n",
       "  </tbody>\n",
       "</table>\n",
       "</div>"
      ],
      "text/plain": [
       "       Language  Movie_ID  Review\n",
       "Score                            \n",
       "-1           64        64      64\n",
       " 0          220       220     220\n",
       " 1          716       716     716"
      ]
     },
     "execution_count": 162,
     "metadata": {},
     "output_type": "execute_result"
    }
   ],
   "source": [
    "df_full_tri = deepcopy(df_full)\n",
    "df_full_tri[\"Score\"] = df_full_tri.Score.apply(group_labels)\n",
    "df_full_tri.groupby(\"Score\").count()"
   ]
  },
  {
   "cell_type": "code",
   "execution_count": 163,
   "metadata": {},
   "outputs": [
    {
     "data": {
      "text/plain": [
       "Language    0\n",
       "Movie_ID    0\n",
       "Score       0\n",
       "rev_vec     0\n",
       "dtype: int64"
      ]
     },
     "execution_count": 163,
     "metadata": {},
     "output_type": "execute_result"
    }
   ],
   "source": [
    "tr_tri_test_indices = get_separate_test_indices(df_full_tri)\n",
    "\n",
    "tronly_test_raw_tri = df_full_tri.loc[tr_tri_test_indices]\n",
    "tronly_test_tri = preprocess_data(tronly_test_raw_tri)\n",
    "tronly_test_tri[tronly_test_tri.Language==\"en\"].count()"
   ]
  },
  {
   "cell_type": "code",
   "execution_count": 164,
   "metadata": {},
   "outputs": [
    {
     "data": {
      "text/html": [
       "<div>\n",
       "<style scoped>\n",
       "    .dataframe tbody tr th:only-of-type {\n",
       "        vertical-align: middle;\n",
       "    }\n",
       "\n",
       "    .dataframe tbody tr th {\n",
       "        vertical-align: top;\n",
       "    }\n",
       "\n",
       "    .dataframe thead th {\n",
       "        text-align: right;\n",
       "    }\n",
       "</style>\n",
       "<table border=\"1\" class=\"dataframe\">\n",
       "  <thead>\n",
       "    <tr style=\"text-align: right;\">\n",
       "      <th></th>\n",
       "      <th>Language</th>\n",
       "      <th>Movie_ID</th>\n",
       "      <th>Review</th>\n",
       "    </tr>\n",
       "    <tr>\n",
       "      <th>Score</th>\n",
       "      <th></th>\n",
       "      <th></th>\n",
       "      <th></th>\n",
       "    </tr>\n",
       "  </thead>\n",
       "  <tbody>\n",
       "    <tr>\n",
       "      <th>-1</th>\n",
       "      <td>47</td>\n",
       "      <td>47</td>\n",
       "      <td>47</td>\n",
       "    </tr>\n",
       "    <tr>\n",
       "      <th>0</th>\n",
       "      <td>192</td>\n",
       "      <td>192</td>\n",
       "      <td>192</td>\n",
       "    </tr>\n",
       "    <tr>\n",
       "      <th>1</th>\n",
       "      <td>683</td>\n",
       "      <td>683</td>\n",
       "      <td>683</td>\n",
       "    </tr>\n",
       "  </tbody>\n",
       "</table>\n",
       "</div>"
      ],
      "text/plain": [
       "       Language  Movie_ID  Review\n",
       "Score                            \n",
       "-1           47        47      47\n",
       " 0          192       192     192\n",
       " 1          683       683     683"
      ]
     },
     "execution_count": 164,
     "metadata": {},
     "output_type": "execute_result"
    }
   ],
   "source": [
    "df_tri = df_full_tri.drop(tr_tri_test_indices)\n",
    "df_tri.groupby(\"Score\").count()"
   ]
  },
  {
   "cell_type": "code",
   "execution_count": 117,
   "metadata": {
    "scrolled": true
   },
   "outputs": [
    {
     "name": "stdout",
     "output_type": "stream",
     "text": [
      "Trial:\t1\n",
      "K:\t1\n",
      "epoch 0:\t22.936336931209713\n",
      "epoch 10:\t23.078613645154178\n",
      "epoch 20:\t22.958781129938234\n",
      "epoch 30:\t22.836696634256274\n",
      "epoch 40:\t22.719323573880516\n",
      "epoch 50:\t22.606666754444664\n"
     ]
    },
    {
     "name": "stderr",
     "output_type": "stream",
     "text": [
      "/usr/local/lib/python3.5/dist-packages/sklearn/metrics/classification.py:1135: UndefinedMetricWarning: F-score is ill-defined and being set to 0.0 in labels with no predicted samples.\n",
      "  'precision', 'predicted', average, warn_for)\n",
      "/usr/local/lib/python3.5/dist-packages/sklearn/metrics/classification.py:1135: UndefinedMetricWarning: F-score is ill-defined and being set to 0.0 in labels with no predicted samples.\n",
      "  'precision', 'predicted', average, warn_for)\n"
     ]
    },
    {
     "name": "stdout",
     "output_type": "stream",
     "text": [
      "\n",
      "K:\t1\n",
      "                DeepSelect       MLP  Logistic Regression  RandomForest\n",
      "F1 Test           0.166667  0.703290             0.646481      0.685277\n",
      "F1 Tr. only       0.166667  0.246133             0.187547      0.239488\n",
      "F1 Train          0.629103  0.831974             0.631934      0.989114\n",
      "Pred.Tra. Time    1.580238  1.262647             0.054641      0.111169\n",
      "Test              0.910394  0.910394             0.910394      0.906810\n",
      "Testing Time      0.008634  0.000292             0.000126      0.105158\n",
      "Tr. Only          0.666667  0.696970             0.670034      0.676768\n",
      "Tr.Test Time      0.013511  0.000293             0.000124      0.105922\n",
      "Train             0.894378  0.942570             0.894779      0.995984\n",
      "Training Time    10.777735  0.001437             0.000683      0.106041\n",
      "\n",
      "This fold took: 12.569423913955688 seconds\n",
      "\n",
      "**********\n",
      "\n",
      "K:\t2\n",
      "epoch 0:\t22.502337542248583\n",
      "epoch 10:\t22.316128548699904\n",
      "epoch 20:\t22.2218707375343\n",
      "epoch 30:\t22.024503701725433\n",
      "epoch 40:\t21.854827424839268\n",
      "epoch 50:\t21.649769822987025\n"
     ]
    },
    {
     "name": "stderr",
     "output_type": "stream",
     "text": [
      "/usr/local/lib/python3.5/dist-packages/sklearn/metrics/classification.py:1135: UndefinedMetricWarning: F-score is ill-defined and being set to 0.0 in labels with no predicted samples.\n",
      "  'precision', 'predicted', average, warn_for)\n"
     ]
    },
    {
     "name": "stdout",
     "output_type": "stream",
     "text": [
      "\n",
      "K:\t2\n",
      "                DeepSelect       MLP  Logistic Regression  RandomForest\n",
      "F1 Test           0.166667  0.563848             0.519620      0.581826\n",
      "F1 Tr. only       0.166667  0.221375             0.162850      0.247387\n",
      "F1 Train          0.643669  0.762401             0.646507      0.992739\n",
      "Pred.Tra. Time    1.814959  0.760005             0.053201      0.110842\n",
      "Test              0.856631  0.867384             0.856631      0.860215\n",
      "Testing Time      0.008484  0.000292             0.000124      0.105154\n",
      "Tr. Only          0.666667  0.693603             0.663300      0.683502\n",
      "Tr.Test Time      0.013696  0.000293             0.000126      0.105128\n",
      "Train             0.900402  0.921687             0.900803      0.997590\n",
      "Training Time    10.712398  0.001408             0.000689      0.103191\n",
      "\n",
      "This fold took: 12.75432276725769 seconds\n",
      "\n",
      "**********\n",
      "\n",
      "K:\t3\n",
      "epoch 0:\t20.829381375995336\n",
      "epoch 10:\t20.337402636265413\n",
      "epoch 20:\t20.031938075962632\n",
      "epoch 30:\t19.82738020661237\n",
      "epoch 40:\t19.65961185229024\n",
      "epoch 50:\t19.509983022299313\n"
     ]
    },
    {
     "name": "stderr",
     "output_type": "stream",
     "text": [
      "/usr/local/lib/python3.5/dist-packages/sklearn/metrics/classification.py:1135: UndefinedMetricWarning: F-score is ill-defined and being set to 0.0 in labels with no predicted samples.\n",
      "  'precision', 'predicted', average, warn_for)\n"
     ]
    },
    {
     "name": "stdout",
     "output_type": "stream",
     "text": [
      "\n",
      "K:\t3\n",
      "                DeepSelect       MLP  Logistic Regression  RandomForest\n",
      "F1 Test           0.166667  0.657031             0.656426      0.634815\n",
      "F1 Tr. only       0.166667  0.231481             0.166667      0.169042\n",
      "F1 Train          0.630717  0.817469             0.630717      0.996374\n",
      "Pred.Tra. Time    1.585124  1.035974             0.051126      0.110801\n",
      "Test              0.899642  0.899642             0.903226      0.881720\n",
      "Testing Time      0.009399  0.000293             0.000125      0.105004\n",
      "Tr. Only          0.666667  0.693603             0.666667      0.656566\n",
      "Tr.Test Time      0.013118  0.000295             0.000126      0.105094\n",
      "Train             0.895582  0.936948             0.895582      0.998795\n",
      "Training Time    11.105186  0.001328             0.000713      0.103613\n",
      "\n",
      "This fold took: 12.914814710617065 seconds\n",
      "\n",
      "**********\n",
      "\n",
      "K:\t4\n",
      "epoch 0:\t19.929477611143227\n",
      "epoch 10:\t20.00709899162793\n",
      "epoch 20:\t19.960463321026015\n",
      "epoch 30:\t19.915070503591107\n",
      "epoch 40:\t19.892911342895886\n",
      "epoch 50:\t19.8417528879279\n"
     ]
    },
    {
     "name": "stderr",
     "output_type": "stream",
     "text": [
      "/usr/local/lib/python3.5/dist-packages/sklearn/metrics/classification.py:1135: UndefinedMetricWarning: F-score is ill-defined and being set to 0.0 in labels with no predicted samples.\n",
      "  'precision', 'predicted', average, warn_for)\n"
     ]
    },
    {
     "name": "stdout",
     "output_type": "stream",
     "text": [
      "\n",
      "K:\t4\n",
      "                DeepSelect       MLP  Logistic Regression  RandomForest\n",
      "F1 Test           0.166667  0.654383             0.642857      0.634443\n",
      "F1 Tr. only       0.166667  0.216253             0.162850      0.205943\n",
      "F1 Train          0.629522  0.740867             0.632351      0.997593\n",
      "Pred.Tra. Time    1.564279  0.681372             0.054710      0.110694\n",
      "Test              0.891304  0.887681             0.891304      0.880435\n",
      "Testing Time      0.008464  0.000284             0.000122      0.103924\n",
      "Tr. Only          0.666667  0.690236             0.663300      0.683502\n",
      "Tr.Test Time      0.013065  0.000286             0.000124      0.105350\n",
      "Train             0.896510  0.917369             0.896911      0.999198\n",
      "Training Time    10.950946  0.001368             0.000693      0.102711\n",
      "\n",
      "This fold took: 12.733349800109863 seconds\n",
      "\n",
      "**********\n",
      "\n",
      "K:\t5\n",
      "epoch 0:\t23.44380220072731\n",
      "epoch 10:\t23.41607893526238\n",
      "epoch 20:\t23.31083046252769\n",
      "epoch 30:\t23.155313133655977\n",
      "epoch 40:\t22.937582074503357\n",
      "epoch 50:\t22.767685050533263\n"
     ]
    },
    {
     "name": "stderr",
     "output_type": "stream",
     "text": [
      "/usr/local/lib/python3.5/dist-packages/sklearn/metrics/classification.py:1135: UndefinedMetricWarning: F-score is ill-defined and being set to 0.0 in labels with no predicted samples.\n",
      "  'precision', 'predicted', average, warn_for)\n"
     ]
    },
    {
     "name": "stdout",
     "output_type": "stream",
     "text": [
      "\n",
      "K:\t5\n",
      "                DeepSelect       MLP  Logistic Regression  RandomForest\n",
      "F1 Test           0.166667  0.601403             0.613754      0.568452\n",
      "F1 Tr. only       0.166667  0.205234             0.162850      0.251852\n",
      "F1 Train          0.632748  0.791164             0.635578      0.991558\n",
      "Pred.Tra. Time    1.579111  0.980806             0.050525      0.111064\n",
      "Test              0.891304  0.880435             0.891304      0.855072\n",
      "Testing Time      0.008386  0.000287             0.000124      0.105193\n",
      "Tr. Only          0.666667  0.676768             0.663300      0.700337\n",
      "Tr.Test Time      0.013075  0.000288             0.000128      0.105353\n",
      "Train             0.896510  0.928600             0.896911      0.996791\n",
      "Training Time    10.690708  0.001362             0.000657      0.105999\n",
      "\n",
      "This fold took: 12.49046277999878 seconds\n",
      "\n",
      "**********\n",
      "\n",
      "K:\t6\n",
      "epoch 0:\t21.27739458637119\n",
      "epoch 10:\t20.99183480481923\n",
      "epoch 20:\t20.391942713023493\n",
      "epoch 30:\t19.8934845095143\n",
      "epoch 40:\t19.424668362526628\n",
      "epoch 50:\t18.970683459976005\n"
     ]
    },
    {
     "name": "stderr",
     "output_type": "stream",
     "text": [
      "/usr/local/lib/python3.5/dist-packages/sklearn/metrics/classification.py:1135: UndefinedMetricWarning: F-score is ill-defined and being set to 0.0 in labels with no predicted samples.\n",
      "  'precision', 'predicted', average, warn_for)\n"
     ]
    },
    {
     "name": "stdout",
     "output_type": "stream",
     "text": [
      "\n",
      "K:\t6\n",
      "                DeepSelect       MLP  Logistic Regression  RandomForest\n",
      "F1 Test           0.166667  0.647364             0.599340      0.621885\n",
      "F1 Tr. only       0.166667  0.200745             0.183150      0.246918\n",
      "F1 Train          0.634363  0.792357             0.637193      0.993969\n",
      "Pred.Tra. Time    1.631958  0.940494             0.052844      0.111159\n",
      "Test              0.884058  0.880435             0.884058      0.873188\n",
      "Testing Time      0.008545  0.000283             0.000122      0.105259\n",
      "Tr. Only          0.666667  0.680135             0.666667      0.686869\n",
      "Tr.Test Time      0.013007  0.000294             0.000124      0.105095\n",
      "Train             0.897312  0.929001             0.897714      0.997593\n",
      "Training Time    10.846557  0.001365             0.000690      0.106066\n",
      "\n",
      "This fold took: 12.679969072341919 seconds\n",
      "\n",
      "**********\n",
      "\n",
      "K:\t7\n",
      "epoch 0:\t25.728388814333453\n",
      "epoch 10:\t24.496996171742893\n",
      "epoch 20:\t24.103299103656397\n",
      "epoch 30:\t23.63473469008675\n",
      "epoch 40:\t23.19176061057834\n",
      "epoch 50:\t22.816074332975422\n"
     ]
    },
    {
     "name": "stderr",
     "output_type": "stream",
     "text": [
      "/usr/local/lib/python3.5/dist-packages/sklearn/metrics/classification.py:1135: UndefinedMetricWarning: F-score is ill-defined and being set to 0.0 in labels with no predicted samples.\n",
      "  'precision', 'predicted', average, warn_for)\n"
     ]
    },
    {
     "name": "stdout",
     "output_type": "stream",
     "text": [
      "\n",
      "K:\t7\n",
      "                DeepSelect       MLP  Logistic Regression  RandomForest\n",
      "F1 Test           0.166667  0.688877             0.642857      0.686425\n",
      "F1 Tr. only       0.166667  0.211111             0.187547      0.240385\n",
      "F1 Train          0.629522  0.795883             0.632350      0.996386\n",
      "Pred.Tra. Time    1.533884  0.938007             0.054215      0.110791\n",
      "Test              0.905797  0.905797             0.905797      0.909420\n",
      "Testing Time      0.008487  0.000291             0.000124      0.105182\n",
      "Tr. Only          0.666667  0.686869             0.670034      0.696970\n",
      "Tr.Test Time      0.013141  0.000294             0.000124      0.105176\n",
      "Train             0.894906  0.929803             0.895307      0.998797\n",
      "Training Time    10.624866  0.001364             0.000662      0.103652\n",
      "\n",
      "This fold took: 12.413987874984741 seconds\n",
      "\n",
      "**********\n",
      "\n",
      "K:\t8\n",
      "epoch 0:\t23.239116584575253\n",
      "epoch 10:\t23.579247644252273\n",
      "epoch 20:\t23.100941718571146\n",
      "epoch 30:\t22.551102296985082\n",
      "epoch 40:\t22.04739213725331\n",
      "epoch 50:\t21.67663038943151\n"
     ]
    },
    {
     "name": "stderr",
     "output_type": "stream",
     "text": [
      "/usr/local/lib/python3.5/dist-packages/sklearn/metrics/classification.py:1135: UndefinedMetricWarning: F-score is ill-defined and being set to 0.0 in labels with no predicted samples.\n",
      "  'precision', 'predicted', average, warn_for)\n"
     ]
    },
    {
     "name": "stdout",
     "output_type": "stream",
     "text": [
      "\n",
      "K:\t8\n",
      "                DeepSelect       MLP  Logistic Regression  RandomForest\n",
      "F1 Test           0.166667  0.758029             0.762670      0.751643\n",
      "F1 Tr. only       0.166667  0.225895             0.183150      0.163912\n",
      "F1 Train          0.616662  0.802598             0.619485      0.996386\n",
      "Pred.Tra. Time    1.594989  0.945525             0.050484      0.111117\n",
      "Test              0.938406  0.920290             0.938406      0.923913\n",
      "Testing Time      0.008300  0.000291             0.000120      0.105270\n",
      "Tr. Only          0.666667  0.683502             0.666667      0.663300\n",
      "Tr.Test Time      0.013069  0.000291             0.000123      0.105779\n",
      "Train             0.891296  0.931408             0.891697      0.998797\n",
      "Training Time    10.732935  0.001331             0.000684      0.106162\n",
      "\n",
      "This fold took: 12.556363821029663 seconds\n",
      "\n",
      "**********\n",
      "\n",
      "K:\t9\n",
      "epoch 0:\t20.662780358138182\n",
      "epoch 10:\t20.484602748713254\n",
      "epoch 20:\t20.364619577050664\n",
      "epoch 30:\t20.2314754826056\n",
      "epoch 40:\t20.118476153322465\n",
      "epoch 50:\t20.02180502486214\n"
     ]
    },
    {
     "name": "stderr",
     "output_type": "stream",
     "text": [
      "/usr/local/lib/python3.5/dist-packages/sklearn/metrics/classification.py:1135: UndefinedMetricWarning: F-score is ill-defined and being set to 0.0 in labels with no predicted samples.\n",
      "  'precision', 'predicted', average, warn_for)\n"
     ]
    },
    {
     "name": "stdout",
     "output_type": "stream",
     "text": [
      "\n",
      "K:\t9\n",
      "                DeepSelect       MLP  Logistic Regression  RandomForest\n",
      "F1 Test           0.166667  0.606206             0.565498      0.557423\n",
      "F1 Tr. only       0.166667  0.280580             0.162850      0.202412\n",
      "F1 Train          0.637595  0.846404             0.640428      0.993977\n",
      "Pred.Tra. Time    1.628215  1.192812             0.054575      0.111171\n",
      "Test              0.865942  0.862319             0.862319      0.851449\n",
      "Testing Time      0.008475  0.000296             0.000120      0.105234\n",
      "Tr. Only          0.666667  0.703704             0.663300      0.670034\n",
      "Tr.Test Time      0.013042  0.000292             0.000125      0.105973\n",
      "Train             0.899318  0.947453             0.899719      0.997994\n",
      "Training Time    10.646667  0.001423             0.000647      0.106062\n",
      "\n",
      "This fold took: 12.478623390197754 seconds\n",
      "\n",
      "**********\n",
      "\n",
      "K:\t10\n",
      "epoch 0:\t20.95191803805518\n",
      "epoch 10:\t20.588971857585474\n",
      "epoch 20:\t20.363820373135823\n",
      "epoch 30:\t20.17272059332595\n",
      "epoch 40:\t20.018845487597275\n",
      "epoch 50:\t19.8757918578209\n",
      "\n",
      "K:\t10\n",
      "                DeepSelect       MLP  Logistic Regression  RandomForest\n",
      "F1 Test           0.166667  0.729318             0.687169      0.669194\n",
      "F1 Tr. only       0.166667  0.220579             0.166667      0.254782\n",
      "F1 Train          0.624691  0.815876             0.627517      0.992759\n",
      "Pred.Tra. Time    1.570172  1.022452             0.053469      0.110767\n",
      "Test              0.916667  0.920290             0.916667      0.884058\n",
      "Testing Time      0.008331  0.000290             0.000122      0.105176\n",
      "Tr. Only          0.666667  0.686869             0.666667      0.680135\n",
      "Tr.Test Time      0.015032  0.000293             0.000125      0.105309\n",
      "Train             0.893702  0.934216             0.894103      0.997192\n",
      "Training Time    10.880501  0.001427             0.000701      0.103377\n",
      "\n",
      "This fold took: 12.669218063354492 seconds\n",
      "\n",
      "**********\n",
      "\n",
      "Average scores for trial 0\n",
      "                DeepSelect  Logistic Regression       MLP  RandomForest\n",
      "F1 Test           0.166667             0.633667  0.660975      0.639138\n",
      "F1 Tr. only       0.166667             0.172613  0.225939      0.222212\n",
      "F1 Train          0.630859             0.633406  0.799699      0.994086\n",
      "Pred.Tra. Time    1.608293             0.052979  0.976009      0.110957\n",
      "Test              0.896014             0.896011  0.893467      0.882628\n",
      "Testing Time      0.008550             0.000123  0.000290      0.105055\n",
      "Tr. Only          0.666667             0.665993  0.689226      0.679798\n",
      "Tr.Test Time      0.013376             0.000125  0.000292      0.105418\n",
      "Train             0.895992             0.896353  0.931905      0.997873\n",
      "Training Time    10.796850             0.000682  0.001381      0.104687\n",
      "------------------------------\n",
      "%%%%%%%%%%%%%%%%%%%%%%%%%%%%%%%%%%%%%%%%\n",
      "Average of 1 trials\n",
      "                DeepSelect  Logistic Regression       MLP  RandomForest\n",
      "F1 Test           0.166667             0.633667  0.660975      0.639138\n",
      "F1 Tr. only       0.166667             0.172613  0.225939      0.222212\n",
      "F1 Train          0.630859             0.633406  0.799699      0.994086\n",
      "Pred.Tra. Time    1.608293             0.052979  0.976009      0.110957\n",
      "Test              0.896014             0.896011  0.893467      0.882628\n",
      "Testing Time      0.008550             0.000123  0.000290      0.105055\n",
      "Tr. Only          0.666667             0.665993  0.689226      0.679798\n",
      "Tr.Test Time      0.013376             0.000125  0.000292      0.105418\n",
      "Train             0.895992             0.896353  0.931905      0.997873\n",
      "Training Time    10.796850             0.000682  0.001381      0.104687\n"
     ]
    },
    {
     "name": "stderr",
     "output_type": "stream",
     "text": [
      "/usr/local/lib/python3.5/dist-packages/sklearn/metrics/classification.py:1135: UndefinedMetricWarning: F-score is ill-defined and being set to 0.0 in labels with no predicted samples.\n",
      "  'precision', 'predicted', average, warn_for)\n"
     ]
    }
   ],
   "source": [
    "scores_tables_tri = eval_selectivewaves_regclass(df_tri, tronly_test_raw_tri)\n",
    "pickle.dump(scores_tables_tri, open(\"../results/batch_no_tf_tables_tri.results\", \"wb\"))"
   ]
  },
  {
   "cell_type": "code",
   "execution_count": 124,
   "metadata": {},
   "outputs": [
    {
     "name": "stdout",
     "output_type": "stream",
     "text": [
      "Trial:\t1\n",
      "K: \t1\n",
      "Epoch 0: 0.28072113833845036\n",
      "Epoch 25: 0.00038186645831767046\n",
      "Epoch 50: 0.00020485301775494922\n",
      "Epoch 75: 0.00014177591513705656\n",
      "Epoch 100: 0.00010894961932635454\n",
      "Epoch 125: 8.87160665386721e-05\n",
      "Epoch 150: 7.495163620116827e-05\n",
      "Took: 141.4846637248993 for training\n",
      "Took: 331.2418580055237 for predicting 830 training instances\n",
      "Took: 37.62711691856384 for predicting 93 test instances\n",
      "Took: 45.67571544647217 for predicting 99 Turkish test instances\n"
     ]
    },
    {
     "name": "stderr",
     "output_type": "stream",
     "text": [
      "/usr/local/lib/python3.5/dist-packages/sklearn/metrics/classification.py:1135: UndefinedMetricWarning: F-score is ill-defined and being set to 0.0 in labels with no predicted samples.\n",
      "  'precision', 'predicted', average, warn_for)\n",
      "/usr/local/lib/python3.5/dist-packages/sklearn/metrics/classification.py:1137: UndefinedMetricWarning: F-score is ill-defined and being set to 0.0 in labels with no true samples.\n",
      "  'recall', 'true', average, warn_for)\n",
      "/usr/local/lib/python3.5/dist-packages/sklearn/metrics/classification.py:1135: UndefinedMetricWarning: F-score is ill-defined and being set to 0.0 in labels with no predicted samples.\n",
      "  'precision', 'predicted', average, warn_for)\n"
     ]
    },
    {
     "name": "stdout",
     "output_type": "stream",
     "text": [
      "\n",
      "                DeepSelect  LogisticRegression       MLP  RandomForest\n",
      "F1 Test           0.000000            0.646481  0.703290      0.685277\n",
      "F1 Tr. only       0.000000            0.187547  0.246133      0.239488\n",
      "F1 Train          0.000000            0.631934  0.831974      0.989114\n",
      "Pred.Tra. Time  331.241858            0.048902  1.160496      0.126779\n",
      "Test              0.577061            0.910394  0.910394      0.906810\n",
      "Test_LL           1.135341                 NaN       NaN           NaN\n",
      "Testing Time     37.627117            0.000097  0.000329      0.105414\n",
      "Tr. Only          0.333333            0.670034  0.696970      0.676768\n",
      "Tr. Only_LL       9.883215                 NaN       NaN           NaN\n",
      "Tr.Test Time     45.675715            0.000122  0.000301      0.105042\n",
      "Train             0.561044            0.894779  0.942570      0.995984\n",
      "Train_LL          2.087202                 NaN       NaN           NaN\n",
      "Training Time   141.484664            0.000633  0.001352      0.103339\n",
      "took: 556.2044103145599 seconds\n",
      "\n",
      "**********\n",
      "\n",
      "K: \t2\n",
      "Epoch 0: 0.07518959922886691\n",
      "Epoch 25: 0.00030248452409571734\n",
      "Epoch 50: 0.0001640317305119604\n",
      "Epoch 75: 0.00011456353734982132\n",
      "Epoch 100: 8.871459643669245e-05\n",
      "Epoch 125: 7.269722091180426e-05\n",
      "Epoch 150: 6.174964911032275e-05\n",
      "Took: 146.38785338401794 for training\n",
      "Took: 354.17437171936035 for predicting 830 training instances\n",
      "Took: 42.726577281951904 for predicting 93 test instances\n",
      "Took: 36.47718667984009 for predicting 99 Turkish test instances\n"
     ]
    },
    {
     "name": "stderr",
     "output_type": "stream",
     "text": [
      "/usr/local/lib/python3.5/dist-packages/sklearn/metrics/classification.py:1137: UndefinedMetricWarning: F-score is ill-defined and being set to 0.0 in labels with no true samples.\n",
      "  'recall', 'true', average, warn_for)\n",
      "/usr/local/lib/python3.5/dist-packages/sklearn/metrics/classification.py:1135: UndefinedMetricWarning: F-score is ill-defined and being set to 0.0 in labels with no predicted samples.\n",
      "  'precision', 'predicted', average, warn_for)\n"
     ]
    },
    {
     "name": "stdout",
     "output_type": "stream",
     "text": [
      "\n",
      "                DeepSelect  LogisticRegression       MLP  RandomForest\n",
      "F1 Test           0.000000            0.519620  0.563848      0.581826\n",
      "F1 Tr. only       0.000000            0.162850  0.221375      0.247387\n",
      "F1 Train          0.000000            0.646507  0.762401      0.992739\n",
      "Pred.Tra. Time  354.174372            0.053123  0.807652      0.126586\n",
      "Test              0.523297            0.856631  0.867384      0.860215\n",
      "Test_LL           3.011990                 NaN       NaN           NaN\n",
      "Testing Time     42.726577            0.000095  0.000314      0.105289\n",
      "Tr. Only          0.336700            0.663300  0.693603      0.683502\n",
      "Tr. Only_LL      10.080462                 NaN       NaN           NaN\n",
      "Tr.Test Time     36.477187            0.000093  0.000294      0.104974\n",
      "Train             0.567068            0.900803  0.921687      0.997590\n",
      "Train_LL          1.915997                 NaN       NaN           NaN\n",
      "Training Time   146.387853            0.000613  0.001368      0.102760\n",
      "took: 579.962639093399 seconds\n",
      "\n",
      "**********\n",
      "\n",
      "K: \t3\n",
      "Epoch 0: 0.09743631103858334\n",
      "Epoch 25: 0.0002982569971052326\n",
      "Epoch 50: 0.00015255506618139665\n",
      "Epoch 75: 0.00010372553914109004\n",
      "Epoch 100: 7.904758269000785e-05\n",
      "Epoch 125: 6.408552616089805e-05\n",
      "Epoch 150: 5.402199363130128e-05\n",
      "Took: 146.27949142456055 for training\n",
      "Took: 382.2413537502289 for predicting 830 training instances\n",
      "Took: 38.098978996276855 for predicting 93 test instances\n",
      "Took: 43.99901270866394 for predicting 99 Turkish test instances\n"
     ]
    },
    {
     "name": "stderr",
     "output_type": "stream",
     "text": [
      "/usr/local/lib/python3.5/dist-packages/sklearn/metrics/classification.py:1137: UndefinedMetricWarning: F-score is ill-defined and being set to 0.0 in labels with no true samples.\n",
      "  'recall', 'true', average, warn_for)\n",
      "/usr/local/lib/python3.5/dist-packages/sklearn/metrics/classification.py:1135: UndefinedMetricWarning: F-score is ill-defined and being set to 0.0 in labels with no predicted samples.\n",
      "  'precision', 'predicted', average, warn_for)\n"
     ]
    },
    {
     "name": "stdout",
     "output_type": "stream",
     "text": [
      "\n",
      "                DeepSelect  LogisticRegression       MLP  RandomForest\n",
      "F1 Test           0.000000            0.656426  0.657031      0.634815\n",
      "F1 Tr. only       0.000000            0.166667  0.231481      0.169042\n",
      "F1 Train          0.000000            0.630717  0.817469      0.996374\n",
      "Pred.Tra. Time  382.241354            0.053205  1.144936      0.110990\n",
      "Test              0.566308            0.903226  0.899642      0.881720\n",
      "Test_LL           1.734247                 NaN       NaN           NaN\n",
      "Testing Time     38.098979            0.000097  0.000306      0.104833\n",
      "Tr. Only          0.333333            0.666667  0.693603      0.656566\n",
      "Tr. Only_LL       9.991444                 NaN       NaN           NaN\n",
      "Tr.Test Time     43.999013            0.000098  0.000291      0.105062\n",
      "Train             0.562249            0.895582  0.936948      0.998795\n",
      "Train_LL          2.038471                 NaN       NaN           NaN\n",
      "Training Time   146.279491            0.000662  0.001374      0.105921\n",
      "took: 610.8187124729156 seconds\n",
      "\n",
      "**********\n",
      "\n",
      "K: \t4\n",
      "Epoch 0: 0.40815838386463255\n",
      "Epoch 25: 0.0005216725746429055\n",
      "Epoch 50: 0.00026525319687843946\n",
      "Epoch 75: 0.00017914135904339415\n",
      "Epoch 100: 0.00013569823055768396\n",
      "Epoch 125: 0.00010944204633006144\n",
      "Epoch 150: 9.182572015892305e-05\n",
      "Took: 149.20155334472656 for training\n",
      "Took: 364.5647449493408 for predicting 831 training instances\n",
      "Took: 41.04326105117798 for predicting 92 test instances\n",
      "Took: 44.08628988265991 for predicting 99 Turkish test instances\n"
     ]
    },
    {
     "name": "stderr",
     "output_type": "stream",
     "text": [
      "/usr/local/lib/python3.5/dist-packages/sklearn/metrics/classification.py:1137: UndefinedMetricWarning: F-score is ill-defined and being set to 0.0 in labels with no true samples.\n",
      "  'recall', 'true', average, warn_for)\n",
      "/usr/local/lib/python3.5/dist-packages/sklearn/metrics/classification.py:1135: UndefinedMetricWarning: F-score is ill-defined and being set to 0.0 in labels with no predicted samples.\n",
      "  'precision', 'predicted', average, warn_for)\n"
     ]
    },
    {
     "name": "stdout",
     "output_type": "stream",
     "text": [
      "\n",
      "                DeepSelect  LogisticRegression       MLP  RandomForest\n",
      "F1 Test           0.000000            0.642857  0.654383      0.634443\n",
      "F1 Tr. only       0.000000            0.162850  0.216253      0.205943\n",
      "F1 Train          0.000000            0.632351  0.740867      0.997593\n",
      "Pred.Tra. Time  364.564745            0.050891  0.680300      0.110661\n",
      "Test              0.557971            0.891304  0.887681      0.880435\n",
      "Test_LL           2.652274                 NaN       NaN           NaN\n",
      "Testing Time     41.043261            0.000111  0.000287      0.104833\n",
      "Tr. Only          0.333333            0.663300  0.690236      0.683502\n",
      "Tr. Only_LL      10.138844                 NaN       NaN           NaN\n",
      "Tr.Test Time     44.086290            0.000095  0.000290      0.104752\n",
      "Train             0.563177            0.896911  0.917369      0.999198\n",
      "Train_LL          1.960952                 NaN       NaN           NaN\n",
      "Training Time   149.201553            0.000685  0.001342      0.103103\n",
      "took: 599.0962533950806 seconds\n",
      "\n",
      "**********\n",
      "\n",
      "K: \t5\n",
      "Epoch 0: 0.28254951000864775\n",
      "Epoch 25: 0.00045021569472053166\n",
      "Epoch 50: 0.00023362261232948592\n",
      "Epoch 75: 0.00015902784771216986\n",
      "Epoch 100: 0.00012097407658416707\n",
      "Epoch 125: 9.781739916453795e-05\n",
      "Epoch 150: 8.221277602543687e-05\n",
      "Took: 145.1766438484192 for training\n",
      "Took: 346.75608110427856 for predicting 831 training instances\n",
      "Took: 38.40025782585144 for predicting 92 test instances\n",
      "Took: 39.75860786437988 for predicting 99 Turkish test instances\n"
     ]
    },
    {
     "name": "stderr",
     "output_type": "stream",
     "text": [
      "/usr/local/lib/python3.5/dist-packages/sklearn/metrics/classification.py:1137: UndefinedMetricWarning: F-score is ill-defined and being set to 0.0 in labels with no true samples.\n",
      "  'recall', 'true', average, warn_for)\n",
      "/usr/local/lib/python3.5/dist-packages/sklearn/metrics/classification.py:1135: UndefinedMetricWarning: F-score is ill-defined and being set to 0.0 in labels with no predicted samples.\n",
      "  'precision', 'predicted', average, warn_for)\n"
     ]
    },
    {
     "name": "stdout",
     "output_type": "stream",
     "text": [
      "\n",
      "                DeepSelect  LogisticRegression       MLP  RandomForest\n",
      "F1 Test           0.000000            0.613754  0.601403      0.568452\n",
      "F1 Tr. only       0.000000            0.162850  0.205234      0.251852\n",
      "F1 Train          0.000000            0.635578  0.791164      0.991558\n",
      "Pred.Tra. Time  346.756081            0.045959  1.004849      0.110755\n",
      "Test              0.557971            0.891304  0.880435      0.855072\n",
      "Test_LL           2.037812                 NaN       NaN           NaN\n",
      "Testing Time     38.400258            0.000112  0.000283      0.104922\n",
      "Tr. Only          0.333333            0.663300  0.676768      0.700337\n",
      "Tr. Only_LL       9.881695                 NaN       NaN           NaN\n",
      "Tr.Test Time     39.758608            0.000097  0.000286      0.105622\n",
      "Train             0.563177            0.896911  0.928600      0.996791\n",
      "Train_LL          1.986597                 NaN       NaN           NaN\n",
      "Training Time   145.176644            0.000642  0.001354      0.102905\n",
      "took: 570.2765471935272 seconds\n",
      "\n",
      "**********\n",
      "\n",
      "K: \t6\n",
      "Epoch 0: 0.22546053849706132\n",
      "Epoch 25: 0.00038722409114882544\n",
      "Epoch 50: 0.0002047682643652408\n",
      "Epoch 75: 0.0001410289724189711\n",
      "Epoch 100: 0.0001082022559766179\n",
      "Epoch 125: 8.808766207662387e-05\n",
      "Epoch 150: 7.445151155166135e-05\n",
      "Took: 138.5662248134613 for training\n",
      "Took: 351.44907093048096 for predicting 831 training instances\n",
      "Took: 35.40145182609558 for predicting 92 test instances\n",
      "Took: 42.683321714401245 for predicting 99 Turkish test instances\n"
     ]
    },
    {
     "name": "stderr",
     "output_type": "stream",
     "text": [
      "/usr/local/lib/python3.5/dist-packages/sklearn/metrics/classification.py:1137: UndefinedMetricWarning: F-score is ill-defined and being set to 0.0 in labels with no true samples.\n",
      "  'recall', 'true', average, warn_for)\n",
      "/usr/local/lib/python3.5/dist-packages/sklearn/metrics/classification.py:1135: UndefinedMetricWarning: F-score is ill-defined and being set to 0.0 in labels with no predicted samples.\n",
      "  'precision', 'predicted', average, warn_for)\n"
     ]
    },
    {
     "name": "stdout",
     "output_type": "stream",
     "text": [
      "\n",
      "                DeepSelect  LogisticRegression       MLP  RandomForest\n",
      "F1 Test           0.000000            0.599340  0.647364      0.621885\n",
      "F1 Tr. only       0.000000            0.183150  0.200745      0.246918\n",
      "F1 Train          0.000000            0.637193  0.792357      0.993969\n",
      "Pred.Tra. Time  351.449071            0.055880  0.951134      0.110607\n",
      "Test              0.550725            0.884058  0.880435      0.873188\n",
      "Test_LL           2.342547                 NaN       NaN           NaN\n",
      "Testing Time     35.401452            0.000096  0.000289      0.104938\n",
      "Tr. Only          0.333333            0.666667  0.680135      0.686869\n",
      "Tr. Only_LL       9.915108                 NaN       NaN           NaN\n",
      "Tr.Test Time     42.683322            0.000097  0.000298      0.104840\n",
      "Train             0.563979            0.897714  0.929001      0.997593\n",
      "Train_LL          1.955367                 NaN       NaN           NaN\n",
      "Training Time   138.566225            0.000575  0.001383      0.102435\n",
      "took: 568.2698764801025 seconds\n",
      "\n",
      "**********\n",
      "\n",
      "K: \t7\n",
      "Epoch 0: 0.051939097962536984\n",
      "Epoch 25: 0.0003236632372372699\n",
      "Epoch 50: 0.00016924525269376226\n",
      "Epoch 75: 0.00011584291197320378\n",
      "Epoch 100: 8.851704337783832e-05\n",
      "Epoch 125: 7.184531080816539e-05\n",
      "Epoch 150: 6.0587915026316146e-05\n",
      "Took: 148.26278495788574 for training\n",
      "Took: 348.53956413269043 for predicting 831 training instances\n",
      "Took: 42.36288070678711 for predicting 92 test instances\n",
      "Took: 39.21532654762268 for predicting 99 Turkish test instances\n"
     ]
    },
    {
     "name": "stderr",
     "output_type": "stream",
     "text": [
      "/usr/local/lib/python3.5/dist-packages/sklearn/metrics/classification.py:1137: UndefinedMetricWarning: F-score is ill-defined and being set to 0.0 in labels with no true samples.\n",
      "  'recall', 'true', average, warn_for)\n",
      "/usr/local/lib/python3.5/dist-packages/sklearn/metrics/classification.py:1135: UndefinedMetricWarning: F-score is ill-defined and being set to 0.0 in labels with no predicted samples.\n",
      "  'precision', 'predicted', average, warn_for)\n"
     ]
    },
    {
     "name": "stdout",
     "output_type": "stream",
     "text": [
      "\n",
      "                DeepSelect  LogisticRegression       MLP  RandomForest\n",
      "F1 Test           0.000000            0.642857  0.688877      0.686425\n",
      "F1 Tr. only       0.000000            0.187547  0.211111      0.240385\n",
      "F1 Train          0.000000            0.632350  0.795883      0.996386\n",
      "Pred.Tra. Time  348.539564            0.051130  0.953418      0.110948\n",
      "Test              0.572464            0.905797  0.905797      0.909420\n",
      "Test_LL           1.448405                 NaN       NaN           NaN\n",
      "Testing Time     42.362881            0.000105  0.000288      0.104849\n",
      "Tr. Only          0.333333            0.670034  0.686869      0.696970\n",
      "Tr. Only_LL      10.063680                 NaN       NaN           NaN\n",
      "Tr.Test Time     39.215327            0.000094  0.000289      0.105457\n",
      "Train             0.561572            0.895307  0.929803      0.998797\n",
      "Train_LL          2.076674                 NaN       NaN           NaN\n",
      "Training Time   148.262785            0.000566  0.001394      0.105634\n",
      "took: 578.5924506187439 seconds\n",
      "\n",
      "**********\n",
      "\n",
      "K: \t8\n",
      "Epoch 0: 0.10383271643357572\n",
      "Epoch 25: 0.0003477562217438537\n",
      "Epoch 50: 0.00017887831702212352\n",
      "Epoch 75: 0.0001212634588725935\n",
      "Epoch 100: 9.205835757407967e-05\n",
      "Epoch 125: 7.435957102442814e-05\n",
      "Epoch 150: 6.246950917679421e-05\n",
      "Took: 143.97692036628723 for training\n",
      "Took: 367.6818060874939 for predicting 831 training instances\n",
      "Took: 39.32281994819641 for predicting 92 test instances\n",
      "Took: 37.070210456848145 for predicting 99 Turkish test instances\n"
     ]
    },
    {
     "name": "stderr",
     "output_type": "stream",
     "text": [
      "/usr/local/lib/python3.5/dist-packages/sklearn/metrics/classification.py:1137: UndefinedMetricWarning: F-score is ill-defined and being set to 0.0 in labels with no true samples.\n",
      "  'recall', 'true', average, warn_for)\n",
      "/usr/local/lib/python3.5/dist-packages/sklearn/metrics/classification.py:1135: UndefinedMetricWarning: F-score is ill-defined and being set to 0.0 in labels with no predicted samples.\n",
      "  'precision', 'predicted', average, warn_for)\n"
     ]
    },
    {
     "name": "stdout",
     "output_type": "stream",
     "text": [
      "\n",
      "                DeepSelect  LogisticRegression       MLP  RandomForest\n",
      "F1 Test           0.000000            0.762670  0.758029      0.751643\n",
      "F1 Tr. only       0.000000            0.183150  0.225895      0.163912\n",
      "F1 Train          0.000000            0.619485  0.802598      0.996386\n",
      "Pred.Tra. Time  367.681806            0.045843  1.001174      0.110919\n",
      "Test              0.605072            0.938406  0.920290      0.923913\n",
      "Test_LL           1.054517                 NaN       NaN           NaN\n",
      "Testing Time     39.322820            0.000097  0.000288      0.104447\n",
      "Tr. Only          0.333333            0.666667  0.683502      0.663300\n",
      "Tr. Only_LL       9.840801                 NaN       NaN           NaN\n",
      "Tr.Test Time     37.070210            0.000102  0.000287      0.105567\n",
      "Train             0.557962            0.891697  0.931408      0.998797\n",
      "Train_LL          2.087574                 NaN       NaN           NaN\n",
      "Training Time   143.976920            0.000628  0.001444      0.105391\n",
      "took: 588.2386841773987 seconds\n",
      "\n",
      "**********\n",
      "\n",
      "K: \t9\n",
      "Epoch 0: 0.40257241322024817\n",
      "Epoch 25: 0.0005875572836784456\n",
      "Epoch 50: 0.0003020803326196444\n",
      "Epoch 75: 0.00020568884291115013\n",
      "Epoch 100: 0.00015679000263868988\n",
      "Epoch 125: 0.00012708682175325038\n",
      "Epoch 150: 0.00010707387013926333\n",
      "Took: 139.33188700675964 for training\n",
      "Took: 357.2582941055298 for predicting 831 training instances\n",
      "Took: 42.01313805580139 for predicting 92 test instances\n",
      "Took: 41.03742432594299 for predicting 99 Turkish test instances\n"
     ]
    },
    {
     "name": "stderr",
     "output_type": "stream",
     "text": [
      "/usr/local/lib/python3.5/dist-packages/sklearn/metrics/classification.py:1137: UndefinedMetricWarning: F-score is ill-defined and being set to 0.0 in labels with no true samples.\n",
      "  'recall', 'true', average, warn_for)\n",
      "/usr/local/lib/python3.5/dist-packages/sklearn/metrics/classification.py:1135: UndefinedMetricWarning: F-score is ill-defined and being set to 0.0 in labels with no predicted samples.\n",
      "  'precision', 'predicted', average, warn_for)\n"
     ]
    },
    {
     "name": "stdout",
     "output_type": "stream",
     "text": [
      "\n",
      "                DeepSelect  LogisticRegression       MLP  RandomForest\n",
      "F1 Test           0.300085            0.565498  0.606206      0.557423\n",
      "F1 Tr. only       0.000000            0.162850  0.280580      0.202412\n",
      "F1 Train          0.392678            0.640428  0.846404      0.993977\n",
      "Pred.Tra. Time  357.258294            0.044138  1.122279      0.110796\n",
      "Test              0.670290            0.862319  0.862319      0.851449\n",
      "Test_LL           3.324678                 NaN       NaN           NaN\n",
      "Testing Time     42.013138            0.000095  0.000291      0.104472\n",
      "Tr. Only          0.336700            0.663300  0.703704      0.670034\n",
      "Tr. Only_LL      10.179548                 NaN       NaN           NaN\n",
      "Tr.Test Time     41.037424            0.000099  0.000285      0.105638\n",
      "Train             0.721219            0.899719  0.947453      0.997994\n",
      "Train_LL          1.899030                 NaN       NaN           NaN\n",
      "Training Time   139.331887            0.000536  0.001354      0.102487\n",
      "took: 579.7972407341003 seconds\n",
      "\n",
      "**********\n",
      "\n",
      "K: \t10\n",
      "Epoch 0: 0.3889704093751988\n",
      "Epoch 25: 0.0005776443946767569\n",
      "Epoch 50: 0.0002894296712513778\n",
      "Epoch 75: 0.00019513116949114575\n",
      "Epoch 100: 0.00014787812185569667\n",
      "Epoch 125: 0.0001193852372221313\n",
      "Epoch 150: 0.00010028748864566005\n",
      "Took: 140.71750140190125 for training\n",
      "Took: 360.6732680797577 for predicting 831 training instances\n",
      "Took: 35.86992287635803 for predicting 92 test instances\n",
      "Took: 38.183247804641724 for predicting 99 Turkish test instances\n"
     ]
    },
    {
     "name": "stderr",
     "output_type": "stream",
     "text": [
      "/usr/local/lib/python3.5/dist-packages/sklearn/metrics/classification.py:1137: UndefinedMetricWarning: F-score is ill-defined and being set to 0.0 in labels with no true samples.\n",
      "  'recall', 'true', average, warn_for)\n"
     ]
    },
    {
     "name": "stdout",
     "output_type": "stream",
     "text": [
      "\n",
      "                DeepSelect  LogisticRegression       MLP  RandomForest\n",
      "F1 Test           0.000000            0.687169  0.729318      0.669194\n",
      "F1 Tr. only       0.000000            0.166667  0.220579      0.254782\n",
      "F1 Train          0.000000            0.627517  0.815876      0.992759\n",
      "Pred.Tra. Time  360.673268            0.051123  0.934448      0.110875\n",
      "Test              0.583333            0.916667  0.920290      0.884058\n",
      "Test_LL           1.396584                 NaN       NaN           NaN\n",
      "Testing Time     35.869923            0.000104  0.000319      0.104990\n",
      "Tr. Only          0.333333            0.666667  0.686869      0.680135\n",
      "Tr. Only_LL       9.840825                 NaN       NaN           NaN\n",
      "Tr.Test Time     38.183248            0.000105  0.000315      0.105059\n",
      "Train             0.560369            0.894103  0.934216      0.997192\n",
      "Train_LL          2.046992                 NaN       NaN           NaN\n",
      "Training Time   140.717501            0.000561  0.001580      0.105607\n",
      "took: 575.6374361515045 seconds\n",
      "\n",
      "**********\n",
      "\n",
      "Average scores for trial 0\n",
      "                DeepSelect  LogisticRegression       MLP  RandomForest\n",
      "F1 Test           0.030009            0.633667  0.660975      0.639138\n",
      "F1 Tr. only       0.000000            0.172613  0.225939      0.222212\n",
      "F1 Train          0.039268            0.633406  0.799699      0.994086\n",
      "Pred.Tra. Time  356.458041            0.050019  0.976069      0.113992\n",
      "Test              0.576449            0.896011  0.893467      0.882628\n",
      "Test_LL           2.013840                 NaN       NaN           NaN\n",
      "Testing Time     39.286641            0.000101  0.000299      0.104899\n",
      "Tr. Only          0.334007            0.665993  0.689226      0.679798\n",
      "Tr. Only_LL       9.981562                 NaN       NaN           NaN\n",
      "Tr.Test Time     40.818634            0.000100  0.000294      0.105201\n",
      "Train             0.578182            0.896353  0.931905      0.997873\n",
      "Train_LL          2.005486                 NaN       NaN           NaN\n",
      "Training Time   143.938552            0.000610  0.001394      0.103958\n",
      "------------------------------\n",
      "%%%%%%%%%%%%%%%%%%%%%%%%%%%%%%%%%%%%%%%%\n",
      "Average of 1 trials\n",
      "                DeepSelect  LogisticRegression       MLP  RandomForest\n",
      "F1 Test           0.030009            0.633667  0.660975      0.639138\n",
      "F1 Tr. only       0.000000            0.172613  0.225939      0.222212\n",
      "F1 Train          0.039268            0.633406  0.799699      0.994086\n",
      "Pred.Tra. Time  356.458041            0.050019  0.976069      0.113992\n",
      "Test              0.576449            0.896011  0.893467      0.882628\n",
      "Test_LL           2.013840                 NaN       NaN           NaN\n",
      "Testing Time     39.286641            0.000101  0.000299      0.104899\n",
      "Tr. Only          0.334007            0.665993  0.689226      0.679798\n",
      "Tr. Only_LL       9.981562                 NaN       NaN           NaN\n",
      "Tr.Test Time     40.818634            0.000100  0.000294      0.105201\n",
      "Train             0.578182            0.896353  0.931905      0.997873\n",
      "Train_LL          2.005486                 NaN       NaN           NaN\n",
      "Training Time   143.938552            0.000610  0.001394      0.103958\n"
     ]
    },
    {
     "name": "stderr",
     "output_type": "stream",
     "text": [
      "/usr/local/lib/python3.5/dist-packages/sklearn/metrics/classification.py:1135: UndefinedMetricWarning: F-score is ill-defined and being set to 0.0 in labels with no predicted samples.\n",
      "  'precision', 'predicted', average, warn_for)\n"
     ]
    }
   ],
   "source": [
    "scores_tables_nn_tri = eval_selectivewaves_nn(df_tri, tronly_test_raw_tri)\n",
    "pickle.dump(scores_tables_nn_tri, open(\"../results/incremental_tf_tables_tri.results\", \"wb\"))"
   ]
  },
  {
   "cell_type": "code",
   "execution_count": 234,
   "metadata": {},
   "outputs": [
    {
     "name": "stdout",
     "output_type": "stream",
     "text": [
      "En: 50\tTr: 42\n",
      "Using first variation (Regressor and Classifier with score vectors)\n",
      "epoch 0:\t16.132868979886112\n",
      "epoch 10:\t16.03108636985438\n",
      "epoch 20:\t15.834248752891959\n",
      "epoch 30:\t15.669447353683355\n",
      "epoch 40:\t15.527291443100244\n",
      "epoch 50:\t15.415641292313476\n",
      "Using second variation (average of outputs produced by each set of weight matrices)\n",
      "Epoch 0: 5.277846891643054\n",
      "Epoch 25: 0.002852904590187924\n",
      "Epoch 50: 0.001472933405300805\n",
      "Epoch 75: 0.0010099522693225351\n",
      "Epoch 100: 0.0007743114402495745\n",
      "Epoch 125: 0.0006305506805512219\n",
      "Epoch 150: 0.000533297414676781\n",
      "W1 size 85\n",
      "W2 size 6\n",
      "W3 size 3\n"
     ]
    },
    {
     "name": "stderr",
     "output_type": "stream",
     "text": [
      "/usr/local/lib/python3.5/dist-packages/sklearn/metrics/classification.py:1135: UndefinedMetricWarning: F-score is ill-defined and being set to 0.0 in labels with no predicted samples.\n",
      "  'precision', 'predicted', average, warn_for)\n",
      "/usr/local/lib/python3.5/dist-packages/sklearn/metrics/classification.py:1137: UndefinedMetricWarning: F-score is ill-defined and being set to 0.0 in labels with no true samples.\n",
      "  'recall', 'true', average, warn_for)\n"
     ]
    },
    {
     "name": "stdout",
     "output_type": "stream",
     "text": [
      "Using well-known algorithms: Logistic Regression, RandomForest and MLP\n"
     ]
    },
    {
     "name": "stderr",
     "output_type": "stream",
     "text": [
      "/usr/local/lib/python3.5/dist-packages/sklearn/neural_network/multilayer_perceptron.py:564: ConvergenceWarning: Stochastic Optimizer: Maximum iterations (200) reached and the optimization hasn't converged yet.\n",
      "  % self.max_iter, ConvergenceWarning)\n",
      "/usr/local/lib/python3.5/dist-packages/sklearn/metrics/classification.py:1135: UndefinedMetricWarning: F-score is ill-defined and being set to 0.0 in labels with no predicted samples.\n",
      "  'precision', 'predicted', average, warn_for)\n"
     ]
    },
    {
     "name": "stdout",
     "output_type": "stream",
     "text": [
      "Took: 28.087043046951294\n",
      "--------------------------------------------------\n",
      "En: 50\tTr: 84\n",
      "Using first variation (Regressor and Classifier with score vectors)\n",
      "epoch 0:\t23.793800760363222\n",
      "epoch 10:\t23.3630744403808\n",
      "epoch 20:\t23.03267228930709\n",
      "epoch 30:\t22.83466582277227\n",
      "epoch 40:\t22.567400069012464\n",
      "epoch 50:\t22.288607910744986\n",
      "Using second variation (average of outputs produced by each set of weight matrices)\n",
      "Epoch 0: 1.3501209143972241\n",
      "Epoch 25: 0.0031258158724611677\n",
      "Epoch 50: 0.0014205130679607438\n",
      "Epoch 75: 0.0009390675022213647\n",
      "Epoch 100: 0.0007070440979166913\n",
      "Epoch 125: 0.0005694254258697183\n",
      "Epoch 150: 0.0004779539988304018\n",
      "W1 size 106\n",
      "W2 size 6\n",
      "W3 size 3\n"
     ]
    },
    {
     "name": "stderr",
     "output_type": "stream",
     "text": [
      "/usr/local/lib/python3.5/dist-packages/sklearn/metrics/classification.py:1137: UndefinedMetricWarning: F-score is ill-defined and being set to 0.0 in labels with no true samples.\n",
      "  'recall', 'true', average, warn_for)\n"
     ]
    },
    {
     "name": "stdout",
     "output_type": "stream",
     "text": [
      "Using well-known algorithms: Logistic Regression, RandomForest and MLP\n"
     ]
    },
    {
     "name": "stderr",
     "output_type": "stream",
     "text": [
      "/usr/local/lib/python3.5/dist-packages/sklearn/metrics/classification.py:1135: UndefinedMetricWarning: F-score is ill-defined and being set to 0.0 in labels with no predicted samples.\n",
      "  'precision', 'predicted', average, warn_for)\n",
      "/usr/local/lib/python3.5/dist-packages/sklearn/neural_network/multilayer_perceptron.py:564: ConvergenceWarning: Stochastic Optimizer: Maximum iterations (200) reached and the optimization hasn't converged yet.\n",
      "  % self.max_iter, ConvergenceWarning)\n"
     ]
    },
    {
     "name": "stdout",
     "output_type": "stream",
     "text": [
      "Took: 35.44508099555969\n",
      "--------------------------------------------------\n",
      "En: 50\tTr: 127\n",
      "Using first variation (Regressor and Classifier with score vectors)\n",
      "epoch 0:\t17.795833107176275\n",
      "epoch 10:\t17.66308589591871\n",
      "epoch 20:\t17.538994536469904\n",
      "epoch 30:\t17.399241971058373\n",
      "epoch 40:\t17.253939325725288\n",
      "epoch 50:\t17.139587611940104\n",
      "Using second variation (average of outputs produced by each set of weight matrices)\n",
      "Epoch 0: 0.6294619061254363\n",
      "Epoch 25: 0.0015747157965893615\n",
      "Epoch 50: 0.0008007619717666092\n",
      "Epoch 75: 0.0005441776351128635\n",
      "Epoch 100: 0.0004140214662253883\n",
      "Epoch 125: 0.00033487441427612635\n",
      "Epoch 150: 0.0002815002759133629\n",
      "W1 size 139\n",
      "W2 size 6\n",
      "W3 size 3\n"
     ]
    },
    {
     "name": "stderr",
     "output_type": "stream",
     "text": [
      "/usr/local/lib/python3.5/dist-packages/sklearn/metrics/classification.py:1137: UndefinedMetricWarning: F-score is ill-defined and being set to 0.0 in labels with no true samples.\n",
      "  'recall', 'true', average, warn_for)\n"
     ]
    },
    {
     "name": "stdout",
     "output_type": "stream",
     "text": [
      "Using well-known algorithms: Logistic Regression, RandomForest and MLP\n"
     ]
    },
    {
     "name": "stderr",
     "output_type": "stream",
     "text": [
      "/usr/local/lib/python3.5/dist-packages/sklearn/metrics/classification.py:1135: UndefinedMetricWarning: F-score is ill-defined and being set to 0.0 in labels with no predicted samples.\n",
      "  'precision', 'predicted', average, warn_for)\n",
      "/usr/local/lib/python3.5/dist-packages/sklearn/neural_network/multilayer_perceptron.py:564: ConvergenceWarning: Stochastic Optimizer: Maximum iterations (200) reached and the optimization hasn't converged yet.\n",
      "  % self.max_iter, ConvergenceWarning)\n"
     ]
    },
    {
     "name": "stdout",
     "output_type": "stream",
     "text": [
      "Took: 48.755401849746704\n",
      "--------------------------------------------------\n",
      "En: 50\tTr: 169\n",
      "Using first variation (Regressor and Classifier with score vectors)\n",
      "epoch 0:\t20.111143823655976\n",
      "epoch 10:\t19.934966690157456\n",
      "epoch 20:\t19.766041259902007\n",
      "epoch 30:\t19.65982546166466\n",
      "epoch 40:\t19.55664118237213\n",
      "epoch 50:\t19.446811844215407\n",
      "Using second variation (average of outputs produced by each set of weight matrices)\n",
      "Epoch 0: 2.5076462287207053\n",
      "Epoch 25: 0.001532806461837369\n",
      "Epoch 50: 0.0007803075206918254\n",
      "Epoch 75: 0.0005283151342728025\n",
      "Epoch 100: 0.00040127922942683413\n",
      "Epoch 125: 0.0003244520245195654\n",
      "Epoch 150: 0.00027286255278015603\n",
      "W1 size 164\n",
      "W2 size 5\n",
      "W3 size 3\n"
     ]
    },
    {
     "name": "stderr",
     "output_type": "stream",
     "text": [
      "/usr/local/lib/python3.5/dist-packages/sklearn/metrics/classification.py:1137: UndefinedMetricWarning: F-score is ill-defined and being set to 0.0 in labels with no true samples.\n",
      "  'recall', 'true', average, warn_for)\n"
     ]
    },
    {
     "name": "stdout",
     "output_type": "stream",
     "text": [
      "Using well-known algorithms: Logistic Regression, RandomForest and MLP\n"
     ]
    },
    {
     "name": "stderr",
     "output_type": "stream",
     "text": [
      "/usr/local/lib/python3.5/dist-packages/sklearn/metrics/classification.py:1135: UndefinedMetricWarning: F-score is ill-defined and being set to 0.0 in labels with no predicted samples.\n",
      "  'precision', 'predicted', average, warn_for)\n"
     ]
    },
    {
     "name": "stdout",
     "output_type": "stream",
     "text": [
      "Took: 62.3922278881073\n",
      "--------------------------------------------------\n",
      "En: 50\tTr: 211\n",
      "Using first variation (Regressor and Classifier with score vectors)\n",
      "epoch 0:\t28.278041845677294\n",
      "epoch 10:\t27.349404389033428\n",
      "epoch 20:\t26.84113426876537\n",
      "epoch 30:\t26.366801278454904\n",
      "epoch 40:\t25.985621270931016\n",
      "epoch 50:\t25.66874645432439\n",
      "Using second variation (average of outputs produced by each set of weight matrices)\n",
      "Epoch 0: 0.6680715406688595\n",
      "Epoch 25: 0.0013335568416572702\n",
      "Epoch 50: 0.0006720950370652996\n",
      "Epoch 75: 0.000454581844989783\n",
      "Epoch 100: 0.00034532975090578033\n",
      "Epoch 125: 0.00027930645488233725\n",
      "Epoch 150: 0.00023496571563632216\n",
      "W1 size 184\n",
      "W2 size 6\n",
      "W3 size 3\n"
     ]
    },
    {
     "name": "stderr",
     "output_type": "stream",
     "text": [
      "/usr/local/lib/python3.5/dist-packages/sklearn/metrics/classification.py:1137: UndefinedMetricWarning: F-score is ill-defined and being set to 0.0 in labels with no true samples.\n",
      "  'recall', 'true', average, warn_for)\n"
     ]
    },
    {
     "name": "stdout",
     "output_type": "stream",
     "text": [
      "Using well-known algorithms: Logistic Regression, RandomForest and MLP\n"
     ]
    },
    {
     "name": "stderr",
     "output_type": "stream",
     "text": [
      "/usr/local/lib/python3.5/dist-packages/sklearn/metrics/classification.py:1135: UndefinedMetricWarning: F-score is ill-defined and being set to 0.0 in labels with no predicted samples.\n",
      "  'precision', 'predicted', average, warn_for)\n",
      "/usr/local/lib/python3.5/dist-packages/sklearn/neural_network/multilayer_perceptron.py:564: ConvergenceWarning: Stochastic Optimizer: Maximum iterations (200) reached and the optimization hasn't converged yet.\n",
      "  % self.max_iter, ConvergenceWarning)\n"
     ]
    },
    {
     "name": "stdout",
     "output_type": "stream",
     "text": [
      "Took: 63.66795039176941\n",
      "--------------------------------------------------\n",
      "En: 50\tTr: 253\n",
      "Using first variation (Regressor and Classifier with score vectors)\n",
      "epoch 0:\t20.650786404048088\n",
      "epoch 10:\t20.31321542467685\n",
      "epoch 20:\t20.09757135011584\n",
      "epoch 30:\t19.93877748796341\n",
      "epoch 40:\t19.792094983617982\n",
      "epoch 50:\t19.64818098454535\n",
      "Using second variation (average of outputs produced by each set of weight matrices)\n",
      "Epoch 0: 1.0869702047443917\n",
      "Epoch 25: 0.0014103902227199318\n",
      "Epoch 50: 0.0006820623321903755\n",
      "Epoch 75: 0.0004536366773247938\n",
      "Epoch 100: 0.00034123621338853256\n",
      "Epoch 125: 0.0002741614983135992\n",
      "Epoch 150: 0.00022950631035993592\n",
      "W1 size 202\n",
      "W2 size 6\n",
      "W3 size 3\n"
     ]
    },
    {
     "name": "stderr",
     "output_type": "stream",
     "text": [
      "/usr/local/lib/python3.5/dist-packages/sklearn/metrics/classification.py:1137: UndefinedMetricWarning: F-score is ill-defined and being set to 0.0 in labels with no true samples.\n",
      "  'recall', 'true', average, warn_for)\n"
     ]
    },
    {
     "name": "stdout",
     "output_type": "stream",
     "text": [
      "Using well-known algorithms: Logistic Regression, RandomForest and MLP\n"
     ]
    },
    {
     "name": "stderr",
     "output_type": "stream",
     "text": [
      "/usr/local/lib/python3.5/dist-packages/sklearn/metrics/classification.py:1135: UndefinedMetricWarning: F-score is ill-defined and being set to 0.0 in labels with no predicted samples.\n",
      "  'precision', 'predicted', average, warn_for)\n",
      "/usr/local/lib/python3.5/dist-packages/sklearn/neural_network/multilayer_perceptron.py:564: ConvergenceWarning: Stochastic Optimizer: Maximum iterations (200) reached and the optimization hasn't converged yet.\n",
      "  % self.max_iter, ConvergenceWarning)\n"
     ]
    },
    {
     "name": "stdout",
     "output_type": "stream",
     "text": [
      "Took: 71.88238406181335\n",
      "--------------------------------------------------\n",
      "En: 50\tTr: 295\n",
      "Using first variation (Regressor and Classifier with score vectors)\n",
      "epoch 0:\t19.034312907473673\n",
      "epoch 10:\t18.886143699519284\n",
      "epoch 20:\t18.73155206881094\n",
      "epoch 30:\t18.591358047017653\n",
      "epoch 40:\t18.465812952009227\n",
      "epoch 50:\t18.35243160487359\n",
      "Using second variation (average of outputs produced by each set of weight matrices)\n",
      "Epoch 0: 0.7384744726210137\n",
      "Epoch 25: 0.0010507527975549243\n",
      "Epoch 50: 0.0005473693426276862\n",
      "Epoch 75: 0.0003759168237668637\n",
      "Epoch 100: 0.00028802677287694185\n",
      "Epoch 125: 0.00023423301270085722\n",
      "Epoch 150: 0.00019779088147721676\n",
      "W1 size 208\n",
      "W2 size 6\n",
      "W3 size 3\n"
     ]
    },
    {
     "name": "stderr",
     "output_type": "stream",
     "text": [
      "/usr/local/lib/python3.5/dist-packages/sklearn/metrics/classification.py:1137: UndefinedMetricWarning: F-score is ill-defined and being set to 0.0 in labels with no true samples.\n",
      "  'recall', 'true', average, warn_for)\n"
     ]
    },
    {
     "name": "stdout",
     "output_type": "stream",
     "text": [
      "Using well-known algorithms: Logistic Regression, RandomForest and MLP\n"
     ]
    },
    {
     "name": "stderr",
     "output_type": "stream",
     "text": [
      "/usr/local/lib/python3.5/dist-packages/sklearn/metrics/classification.py:1135: UndefinedMetricWarning: F-score is ill-defined and being set to 0.0 in labels with no predicted samples.\n",
      "  'precision', 'predicted', average, warn_for)\n",
      "/usr/local/lib/python3.5/dist-packages/sklearn/neural_network/multilayer_perceptron.py:564: ConvergenceWarning: Stochastic Optimizer: Maximum iterations (200) reached and the optimization hasn't converged yet.\n",
      "  % self.max_iter, ConvergenceWarning)\n"
     ]
    },
    {
     "name": "stdout",
     "output_type": "stream",
     "text": [
      "Took: 88.17045879364014\n",
      "--------------------------------------------------\n",
      "En: 50\tTr: 338\n",
      "Using first variation (Regressor and Classifier with score vectors)\n",
      "epoch 0:\t21.72030577389617\n",
      "epoch 10:\t21.460537435636326\n",
      "epoch 20:\t21.14285973494465\n",
      "epoch 30:\t20.760247981873487\n",
      "epoch 40:\t20.41592198124867\n",
      "epoch 50:\t20.106424420866748\n",
      "Using second variation (average of outputs produced by each set of weight matrices)\n",
      "Epoch 0: 0.23911916334781133\n",
      "Epoch 25: 0.0007527663912893415\n",
      "Epoch 50: 0.0003954653343559814\n",
      "Epoch 75: 0.000271693741659692\n",
      "Epoch 100: 0.000208202298742827\n",
      "Epoch 125: 0.00016937255422771395\n",
      "Epoch 150: 0.00014308496369875662\n",
      "W1 size 221\n",
      "W2 size 6\n",
      "W3 size 3\n"
     ]
    },
    {
     "name": "stderr",
     "output_type": "stream",
     "text": [
      "/usr/local/lib/python3.5/dist-packages/sklearn/metrics/classification.py:1137: UndefinedMetricWarning: F-score is ill-defined and being set to 0.0 in labels with no true samples.\n",
      "  'recall', 'true', average, warn_for)\n"
     ]
    },
    {
     "name": "stdout",
     "output_type": "stream",
     "text": [
      "Using well-known algorithms: Logistic Regression, RandomForest and MLP\n"
     ]
    },
    {
     "name": "stderr",
     "output_type": "stream",
     "text": [
      "/usr/local/lib/python3.5/dist-packages/sklearn/metrics/classification.py:1135: UndefinedMetricWarning: F-score is ill-defined and being set to 0.0 in labels with no predicted samples.\n",
      "  'precision', 'predicted', average, warn_for)\n",
      "/usr/local/lib/python3.5/dist-packages/sklearn/neural_network/multilayer_perceptron.py:564: ConvergenceWarning: Stochastic Optimizer: Maximum iterations (200) reached and the optimization hasn't converged yet.\n",
      "  % self.max_iter, ConvergenceWarning)\n"
     ]
    },
    {
     "name": "stdout",
     "output_type": "stream",
     "text": [
      "Took: 90.27709484100342\n",
      "--------------------------------------------------\n",
      "En: 50\tTr: 380\n",
      "Using first variation (Regressor and Classifier with score vectors)\n",
      "epoch 0:\t22.57746717335674\n",
      "epoch 10:\t22.110006352971514\n",
      "epoch 20:\t21.793095395337406\n",
      "epoch 30:\t21.226889948122636\n",
      "epoch 40:\t20.600162610414024\n",
      "epoch 50:\t20.081879569757422\n",
      "Using second variation (average of outputs produced by each set of weight matrices)\n",
      "Epoch 0: 0.33411774530756866\n",
      "Epoch 25: 0.0007350515855898126\n",
      "Epoch 50: 0.0003814795631222053\n",
      "Epoch 75: 0.00026113937120303383\n",
      "Epoch 100: 0.00019980001514914044\n",
      "Epoch 125: 0.00016240649709422362\n",
      "Epoch 150: 0.0001371356952351765\n",
      "W1 size 234\n",
      "W2 size 6\n",
      "W3 size 3\n"
     ]
    },
    {
     "name": "stderr",
     "output_type": "stream",
     "text": [
      "/usr/local/lib/python3.5/dist-packages/sklearn/metrics/classification.py:1137: UndefinedMetricWarning: F-score is ill-defined and being set to 0.0 in labels with no true samples.\n",
      "  'recall', 'true', average, warn_for)\n"
     ]
    },
    {
     "name": "stdout",
     "output_type": "stream",
     "text": [
      "Using well-known algorithms: Logistic Regression, RandomForest and MLP\n"
     ]
    },
    {
     "name": "stderr",
     "output_type": "stream",
     "text": [
      "/usr/local/lib/python3.5/dist-packages/sklearn/metrics/classification.py:1135: UndefinedMetricWarning: F-score is ill-defined and being set to 0.0 in labels with no predicted samples.\n",
      "  'precision', 'predicted', average, warn_for)\n"
     ]
    },
    {
     "name": "stdout",
     "output_type": "stream",
     "text": [
      "Took: 101.36212658882141\n",
      "--------------------------------------------------\n",
      "En: 50\tTr: 422\n",
      "Using first variation (Regressor and Classifier with score vectors)\n",
      "epoch 0:\t22.61630152720706\n",
      "epoch 10:\t22.208400268888397\n",
      "epoch 20:\t21.893443456360956\n",
      "epoch 30:\t21.595792816204906\n",
      "epoch 40:\t21.328048637870836\n",
      "epoch 50:\t21.08342980583895\n",
      "Using second variation (average of outputs produced by each set of weight matrices)\n",
      "Epoch 0: 0.21525449152366571\n",
      "Epoch 25: 0.0005144948977844118\n",
      "Epoch 50: 0.00026448933993832187\n",
      "Epoch 75: 0.0001801668169314222\n",
      "Epoch 100: 0.0001373985228939781\n",
      "Epoch 125: 0.00011141377707837334\n",
      "Epoch 150: 9.390255663857961e-05\n",
      "W1 size 245\n",
      "W2 size 6\n",
      "W3 size 3\n"
     ]
    },
    {
     "name": "stderr",
     "output_type": "stream",
     "text": [
      "/usr/local/lib/python3.5/dist-packages/sklearn/metrics/classification.py:1137: UndefinedMetricWarning: F-score is ill-defined and being set to 0.0 in labels with no true samples.\n",
      "  'recall', 'true', average, warn_for)\n"
     ]
    },
    {
     "name": "stdout",
     "output_type": "stream",
     "text": [
      "Using well-known algorithms: Logistic Regression, RandomForest and MLP\n"
     ]
    },
    {
     "name": "stderr",
     "output_type": "stream",
     "text": [
      "/usr/local/lib/python3.5/dist-packages/sklearn/metrics/classification.py:1135: UndefinedMetricWarning: F-score is ill-defined and being set to 0.0 in labels with no predicted samples.\n",
      "  'precision', 'predicted', average, warn_for)\n"
     ]
    },
    {
     "name": "stdout",
     "output_type": "stream",
     "text": [
      "Took: 114.66261601448059\n",
      "--------------------------------------------------\n",
      "En: 100\tTr: 42\n",
      "Using first variation (Regressor and Classifier with score vectors)\n",
      "epoch 0:\t15.413303453044959\n",
      "epoch 10:\t15.721054288288705\n",
      "epoch 20:\t15.681938420665873\n",
      "epoch 30:\t15.61693923670874\n",
      "epoch 40:\t15.510714475322715\n",
      "epoch 50:\t15.401181620267488\n",
      "Using second variation (average of outputs produced by each set of weight matrices)\n",
      "Epoch 0: 1.0336054129724621\n",
      "Epoch 25: 0.0017248068585155431\n",
      "Epoch 50: 0.0009326730907534358\n",
      "Epoch 75: 0.0006511029470095284\n",
      "Epoch 100: 0.0005042083445472676\n",
      "Epoch 125: 0.00041327598338079634\n",
      "Epoch 150: 0.00035113454848701814\n",
      "W1 size 120\n",
      "W2 size 5\n",
      "W3 size 3\n"
     ]
    },
    {
     "name": "stderr",
     "output_type": "stream",
     "text": [
      "/usr/local/lib/python3.5/dist-packages/sklearn/metrics/classification.py:1137: UndefinedMetricWarning: F-score is ill-defined and being set to 0.0 in labels with no true samples.\n",
      "  'recall', 'true', average, warn_for)\n"
     ]
    },
    {
     "name": "stdout",
     "output_type": "stream",
     "text": [
      "Using well-known algorithms: Logistic Regression, RandomForest and MLP\n"
     ]
    },
    {
     "name": "stderr",
     "output_type": "stream",
     "text": [
      "/usr/local/lib/python3.5/dist-packages/sklearn/metrics/classification.py:1135: UndefinedMetricWarning: F-score is ill-defined and being set to 0.0 in labels with no predicted samples.\n",
      "  'precision', 'predicted', average, warn_for)\n",
      "/usr/local/lib/python3.5/dist-packages/sklearn/neural_network/multilayer_perceptron.py:564: ConvergenceWarning: Stochastic Optimizer: Maximum iterations (200) reached and the optimization hasn't converged yet.\n",
      "  % self.max_iter, ConvergenceWarning)\n"
     ]
    },
    {
     "name": "stdout",
     "output_type": "stream",
     "text": [
      "Took: 41.330971240997314\n",
      "--------------------------------------------------\n",
      "En: 100\tTr: 84\n",
      "Using first variation (Regressor and Classifier with score vectors)\n",
      "epoch 0:\t15.731274867656031\n",
      "epoch 10:\t15.686725416382108\n",
      "epoch 20:\t15.626436569652846\n",
      "epoch 30:\t15.53346612529989\n",
      "epoch 40:\t15.467106229181633\n",
      "epoch 50:\t15.38245857841803\n",
      "Using second variation (average of outputs produced by each set of weight matrices)\n",
      "Epoch 0: 0.045265495993417636\n",
      "Epoch 25: 0.0008048060100543785\n",
      "Epoch 50: 0.00041104261014894257\n",
      "Epoch 75: 0.0002769144846327543\n",
      "Epoch 100: 0.00020916256819772505\n",
      "Epoch 125: 0.00016824478313876736\n",
      "Epoch 150: 0.00014082898666515885\n",
      "W1 size 148\n",
      "W2 size 5\n",
      "W3 size 3\n"
     ]
    },
    {
     "name": "stderr",
     "output_type": "stream",
     "text": [
      "/usr/local/lib/python3.5/dist-packages/sklearn/metrics/classification.py:1137: UndefinedMetricWarning: F-score is ill-defined and being set to 0.0 in labels with no true samples.\n",
      "  'recall', 'true', average, warn_for)\n"
     ]
    },
    {
     "name": "stdout",
     "output_type": "stream",
     "text": [
      "Using well-known algorithms: Logistic Regression, RandomForest and MLP\n"
     ]
    },
    {
     "name": "stderr",
     "output_type": "stream",
     "text": [
      "/usr/local/lib/python3.5/dist-packages/sklearn/metrics/classification.py:1135: UndefinedMetricWarning: F-score is ill-defined and being set to 0.0 in labels with no predicted samples.\n",
      "  'precision', 'predicted', average, warn_for)\n",
      "/usr/local/lib/python3.5/dist-packages/sklearn/neural_network/multilayer_perceptron.py:564: ConvergenceWarning: Stochastic Optimizer: Maximum iterations (200) reached and the optimization hasn't converged yet.\n",
      "  % self.max_iter, ConvergenceWarning)\n"
     ]
    },
    {
     "name": "stdout",
     "output_type": "stream",
     "text": [
      "Took: 49.41591453552246\n",
      "--------------------------------------------------\n",
      "En: 100\tTr: 127\n",
      "Using first variation (Regressor and Classifier with score vectors)\n",
      "epoch 0:\t17.453032828249146\n",
      "epoch 10:\t17.022864686263226\n",
      "epoch 20:\t16.751721328990907\n",
      "epoch 30:\t16.65614187512939\n",
      "epoch 40:\t16.554930035753035\n",
      "epoch 50:\t16.452138167221108\n",
      "Using second variation (average of outputs produced by each set of weight matrices)\n",
      "Epoch 0: 0.8483673998131706\n",
      "Epoch 25: 0.001096102334614227\n",
      "Epoch 50: 0.0005639918420462535\n",
      "Epoch 75: 0.00038448163525912763\n",
      "Epoch 100: 0.00029315330549145466\n",
      "Epoch 125: 0.0002375507518617207\n",
      "Epoch 150: 0.0002000304494517857\n",
      "W1 size 181\n",
      "W2 size 6\n",
      "W3 size 3\n"
     ]
    },
    {
     "name": "stderr",
     "output_type": "stream",
     "text": [
      "/usr/local/lib/python3.5/dist-packages/sklearn/metrics/classification.py:1137: UndefinedMetricWarning: F-score is ill-defined and being set to 0.0 in labels with no true samples.\n",
      "  'recall', 'true', average, warn_for)\n"
     ]
    },
    {
     "name": "stdout",
     "output_type": "stream",
     "text": [
      "Using well-known algorithms: Logistic Regression, RandomForest and MLP\n"
     ]
    },
    {
     "name": "stderr",
     "output_type": "stream",
     "text": [
      "/usr/local/lib/python3.5/dist-packages/sklearn/metrics/classification.py:1135: UndefinedMetricWarning: F-score is ill-defined and being set to 0.0 in labels with no predicted samples.\n",
      "  'precision', 'predicted', average, warn_for)\n"
     ]
    },
    {
     "name": "stdout",
     "output_type": "stream",
     "text": [
      "Took: 60.86230278015137\n",
      "--------------------------------------------------\n",
      "En: 100\tTr: 169\n",
      "Using first variation (Regressor and Classifier with score vectors)\n",
      "epoch 0:\t20.509897788162917\n",
      "epoch 10:\t19.97410577569374\n",
      "epoch 20:\t19.833084970698195\n",
      "epoch 30:\t19.752212856547352\n",
      "epoch 40:\t19.663292640875827\n",
      "epoch 50:\t19.549732263287172\n",
      "Using second variation (average of outputs produced by each set of weight matrices)\n",
      "Epoch 0: 1.215195795967949\n",
      "Epoch 25: 0.0015193217479499601\n",
      "Epoch 50: 0.0007248397262556445\n",
      "Epoch 75: 0.0004802705194102477\n",
      "Epoch 100: 0.00036055333640359926\n",
      "Epoch 125: 0.000289313012799368\n",
      "Epoch 150: 0.00024197523815939847\n",
      "W1 size 202\n",
      "W2 size 6\n",
      "W3 size 3\n"
     ]
    },
    {
     "name": "stderr",
     "output_type": "stream",
     "text": [
      "/usr/local/lib/python3.5/dist-packages/sklearn/metrics/classification.py:1137: UndefinedMetricWarning: F-score is ill-defined and being set to 0.0 in labels with no true samples.\n",
      "  'recall', 'true', average, warn_for)\n"
     ]
    },
    {
     "name": "stdout",
     "output_type": "stream",
     "text": [
      "Using well-known algorithms: Logistic Regression, RandomForest and MLP\n"
     ]
    },
    {
     "name": "stderr",
     "output_type": "stream",
     "text": [
      "/usr/local/lib/python3.5/dist-packages/sklearn/metrics/classification.py:1135: UndefinedMetricWarning: F-score is ill-defined and being set to 0.0 in labels with no predicted samples.\n",
      "  'precision', 'predicted', average, warn_for)\n",
      "/usr/local/lib/python3.5/dist-packages/sklearn/neural_network/multilayer_perceptron.py:564: ConvergenceWarning: Stochastic Optimizer: Maximum iterations (200) reached and the optimization hasn't converged yet.\n",
      "  % self.max_iter, ConvergenceWarning)\n"
     ]
    },
    {
     "name": "stdout",
     "output_type": "stream",
     "text": [
      "Took: 74.21114563941956\n",
      "--------------------------------------------------\n",
      "En: 100\tTr: 211\n",
      "Using first variation (Regressor and Classifier with score vectors)\n",
      "epoch 0:\t21.90147691272489\n",
      "epoch 10:\t21.7473530191613\n",
      "epoch 20:\t21.58103721533494\n",
      "epoch 30:\t21.59083814425298\n",
      "epoch 40:\t21.506231619773843\n",
      "epoch 50:\t21.376718932899532\n",
      "Using second variation (average of outputs produced by each set of weight matrices)\n",
      "Epoch 0: 0.4313592844031225\n",
      "Epoch 25: 0.0008875685703958644\n",
      "Epoch 50: 0.00046500823260754725\n",
      "Epoch 75: 0.00031944020401997994\n",
      "Epoch 100: 0.00024460335598292844\n",
      "Epoch 125: 0.00019874582538538489\n",
      "Epoch 150: 0.0001676673194768606\n",
      "W1 size 214\n",
      "W2 size 6\n",
      "W3 size 3\n"
     ]
    },
    {
     "name": "stderr",
     "output_type": "stream",
     "text": [
      "/usr/local/lib/python3.5/dist-packages/sklearn/metrics/classification.py:1137: UndefinedMetricWarning: F-score is ill-defined and being set to 0.0 in labels with no true samples.\n",
      "  'recall', 'true', average, warn_for)\n"
     ]
    },
    {
     "name": "stdout",
     "output_type": "stream",
     "text": [
      "Using well-known algorithms: Logistic Regression, RandomForest and MLP\n"
     ]
    },
    {
     "name": "stderr",
     "output_type": "stream",
     "text": [
      "/usr/local/lib/python3.5/dist-packages/sklearn/metrics/classification.py:1135: UndefinedMetricWarning: F-score is ill-defined and being set to 0.0 in labels with no predicted samples.\n",
      "  'precision', 'predicted', average, warn_for)\n",
      "/usr/local/lib/python3.5/dist-packages/sklearn/neural_network/multilayer_perceptron.py:564: ConvergenceWarning: Stochastic Optimizer: Maximum iterations (200) reached and the optimization hasn't converged yet.\n",
      "  % self.max_iter, ConvergenceWarning)\n"
     ]
    },
    {
     "name": "stdout",
     "output_type": "stream",
     "text": [
      "Took: 79.42158198356628\n",
      "--------------------------------------------------\n",
      "En: 100\tTr: 253\n",
      "Using first variation (Regressor and Classifier with score vectors)\n",
      "epoch 0:\t19.94263720118658\n",
      "epoch 10:\t19.668578204460633\n",
      "epoch 20:\t19.481799516677825\n",
      "epoch 30:\t19.33151311832874\n",
      "epoch 40:\t19.111769420530376\n",
      "epoch 50:\t19.01361000098568\n",
      "Using second variation (average of outputs produced by each set of weight matrices)\n",
      "Epoch 0: 0.22306343939171022\n",
      "Epoch 25: 0.00095821608822101\n",
      "Epoch 50: 0.0004810902685495413\n",
      "Epoch 75: 0.0003268227502150028\n",
      "Epoch 100: 0.0002492942249618004\n",
      "Epoch 125: 0.00020232475679014694\n",
      "Epoch 150: 0.00017068649836391844\n",
      "W1 size 231\n",
      "W2 size 6\n",
      "W3 size 3\n"
     ]
    },
    {
     "name": "stderr",
     "output_type": "stream",
     "text": [
      "/usr/local/lib/python3.5/dist-packages/sklearn/metrics/classification.py:1137: UndefinedMetricWarning: F-score is ill-defined and being set to 0.0 in labels with no true samples.\n",
      "  'recall', 'true', average, warn_for)\n"
     ]
    },
    {
     "name": "stdout",
     "output_type": "stream",
     "text": [
      "Using well-known algorithms: Logistic Regression, RandomForest and MLP\n"
     ]
    },
    {
     "name": "stderr",
     "output_type": "stream",
     "text": [
      "/usr/local/lib/python3.5/dist-packages/sklearn/metrics/classification.py:1135: UndefinedMetricWarning: F-score is ill-defined and being set to 0.0 in labels with no predicted samples.\n",
      "  'precision', 'predicted', average, warn_for)\n",
      "/usr/local/lib/python3.5/dist-packages/sklearn/neural_network/multilayer_perceptron.py:564: ConvergenceWarning: Stochastic Optimizer: Maximum iterations (200) reached and the optimization hasn't converged yet.\n",
      "  % self.max_iter, ConvergenceWarning)\n"
     ]
    },
    {
     "name": "stdout",
     "output_type": "stream",
     "text": [
      "Took: 91.15576457977295\n",
      "--------------------------------------------------\n",
      "En: 100\tTr: 295\n",
      "Using first variation (Regressor and Classifier with score vectors)\n",
      "epoch 0:\t20.31907450157983\n",
      "epoch 10:\t20.26751909886831\n",
      "epoch 20:\t20.10890813565952\n",
      "epoch 30:\t19.93170244542915\n",
      "epoch 40:\t19.749761984949487\n",
      "epoch 50:\t19.592171093620262\n",
      "Using second variation (average of outputs produced by each set of weight matrices)\n",
      "Epoch 0: 0.880438258829633\n",
      "Epoch 25: 0.0009091622906177685\n",
      "Epoch 50: 0.00047136743367232184\n",
      "Epoch 75: 0.00032217927115231205\n",
      "Epoch 100: 0.00024619496036859225\n",
      "Epoch 125: 0.00019992202117801074\n",
      "Epoch 150: 0.00016869022143190462\n",
      "W1 size 249\n",
      "W2 size 6\n",
      "W3 size 3\n"
     ]
    },
    {
     "name": "stderr",
     "output_type": "stream",
     "text": [
      "/usr/local/lib/python3.5/dist-packages/sklearn/metrics/classification.py:1137: UndefinedMetricWarning: F-score is ill-defined and being set to 0.0 in labels with no true samples.\n",
      "  'recall', 'true', average, warn_for)\n"
     ]
    },
    {
     "name": "stdout",
     "output_type": "stream",
     "text": [
      "Using well-known algorithms: Logistic Regression, RandomForest and MLP\n"
     ]
    },
    {
     "name": "stderr",
     "output_type": "stream",
     "text": [
      "/usr/local/lib/python3.5/dist-packages/sklearn/metrics/classification.py:1135: UndefinedMetricWarning: F-score is ill-defined and being set to 0.0 in labels with no predicted samples.\n",
      "  'precision', 'predicted', average, warn_for)\n",
      "/usr/local/lib/python3.5/dist-packages/sklearn/neural_network/multilayer_perceptron.py:564: ConvergenceWarning: Stochastic Optimizer: Maximum iterations (200) reached and the optimization hasn't converged yet.\n",
      "  % self.max_iter, ConvergenceWarning)\n"
     ]
    },
    {
     "name": "stdout",
     "output_type": "stream",
     "text": [
      "Took: 93.61020851135254\n",
      "--------------------------------------------------\n",
      "En: 100\tTr: 338\n",
      "Using first variation (Regressor and Classifier with score vectors)\n",
      "epoch 0:\t18.41561667671256\n",
      "epoch 10:\t18.286924425319025\n",
      "epoch 20:\t18.08183807647008\n",
      "epoch 30:\t18.008052251290348\n",
      "epoch 40:\t17.947089405936236\n",
      "epoch 50:\t17.877448020892373\n",
      "Using second variation (average of outputs produced by each set of weight matrices)\n",
      "Epoch 0: 0.4503153018160211\n",
      "Epoch 25: 0.0008737810820096453\n",
      "Epoch 50: 0.0004079000469235192\n",
      "Epoch 75: 0.00027140277489522255\n",
      "Epoch 100: 0.00020494774429244146\n",
      "Epoch 125: 0.0001653391758019073\n",
      "Epoch 150: 0.00013893704813168795\n",
      "W1 size 265\n",
      "W2 size 6\n",
      "W3 size 3\n"
     ]
    },
    {
     "name": "stderr",
     "output_type": "stream",
     "text": [
      "/usr/local/lib/python3.5/dist-packages/sklearn/metrics/classification.py:1137: UndefinedMetricWarning: F-score is ill-defined and being set to 0.0 in labels with no true samples.\n",
      "  'recall', 'true', average, warn_for)\n"
     ]
    },
    {
     "name": "stdout",
     "output_type": "stream",
     "text": [
      "Using well-known algorithms: Logistic Regression, RandomForest and MLP\n"
     ]
    },
    {
     "name": "stderr",
     "output_type": "stream",
     "text": [
      "/usr/local/lib/python3.5/dist-packages/sklearn/metrics/classification.py:1135: UndefinedMetricWarning: F-score is ill-defined and being set to 0.0 in labels with no predicted samples.\n",
      "  'precision', 'predicted', average, warn_for)\n"
     ]
    },
    {
     "name": "stdout",
     "output_type": "stream",
     "text": [
      "Took: 105.91629815101624\n",
      "--------------------------------------------------\n",
      "En: 100\tTr: 380\n",
      "Using first variation (Regressor and Classifier with score vectors)\n",
      "epoch 0:\t20.794170654622608\n",
      "epoch 10:\t20.384710427290553\n",
      "epoch 20:\t20.126561253131495\n",
      "epoch 30:\t19.89423636407611\n",
      "epoch 40:\t19.679912807509115\n",
      "epoch 50:\t19.472349952328553\n",
      "Using second variation (average of outputs produced by each set of weight matrices)\n",
      "Epoch 0: 0.3546306317216969\n",
      "Epoch 25: 0.0008290997194385715\n",
      "Epoch 50: 0.0004307843971935732\n",
      "Epoch 75: 0.0002946332331771551\n",
      "Epoch 100: 0.00022512725608730594\n",
      "Epoch 125: 0.0001827390621859178\n",
      "Epoch 150: 0.00015411056465814237\n",
      "W1 size 275\n",
      "W2 size 6\n",
      "W3 size 3\n"
     ]
    },
    {
     "name": "stderr",
     "output_type": "stream",
     "text": [
      "/usr/local/lib/python3.5/dist-packages/sklearn/metrics/classification.py:1137: UndefinedMetricWarning: F-score is ill-defined and being set to 0.0 in labels with no true samples.\n",
      "  'recall', 'true', average, warn_for)\n"
     ]
    },
    {
     "name": "stdout",
     "output_type": "stream",
     "text": [
      "Using well-known algorithms: Logistic Regression, RandomForest and MLP\n"
     ]
    },
    {
     "name": "stderr",
     "output_type": "stream",
     "text": [
      "/usr/local/lib/python3.5/dist-packages/sklearn/metrics/classification.py:1135: UndefinedMetricWarning: F-score is ill-defined and being set to 0.0 in labels with no predicted samples.\n",
      "  'precision', 'predicted', average, warn_for)\n"
     ]
    },
    {
     "name": "stdout",
     "output_type": "stream",
     "text": [
      "Took: 115.3526406288147\n",
      "--------------------------------------------------\n",
      "En: 100\tTr: 422\n",
      "Using first variation (Regressor and Classifier with score vectors)\n",
      "epoch 0:\t18.510759616974653\n",
      "epoch 10:\t18.131014906378695\n",
      "epoch 20:\t17.951141935869998\n",
      "epoch 30:\t17.81955781714782\n",
      "epoch 40:\t17.715878432291806\n",
      "epoch 50:\t17.622478557018173\n",
      "Using second variation (average of outputs produced by each set of weight matrices)\n",
      "Epoch 0: 0.7014260420754069\n",
      "Epoch 25: 0.0009124087082167179\n",
      "Epoch 50: 0.0004381943090742812\n",
      "Epoch 75: 0.00029001884806814426\n",
      "Epoch 100: 0.00021736607096159422\n",
      "Epoch 125: 0.0001741391938473315\n",
      "Epoch 150: 0.00014544117407407965\n",
      "W1 size 284\n",
      "W2 size 6\n",
      "W3 size 3\n"
     ]
    },
    {
     "name": "stderr",
     "output_type": "stream",
     "text": [
      "/usr/local/lib/python3.5/dist-packages/sklearn/metrics/classification.py:1137: UndefinedMetricWarning: F-score is ill-defined and being set to 0.0 in labels with no true samples.\n",
      "  'recall', 'true', average, warn_for)\n"
     ]
    },
    {
     "name": "stdout",
     "output_type": "stream",
     "text": [
      "Using well-known algorithms: Logistic Regression, RandomForest and MLP\n"
     ]
    },
    {
     "name": "stderr",
     "output_type": "stream",
     "text": [
      "/usr/local/lib/python3.5/dist-packages/sklearn/metrics/classification.py:1135: UndefinedMetricWarning: F-score is ill-defined and being set to 0.0 in labels with no predicted samples.\n",
      "  'precision', 'predicted', average, warn_for)\n",
      "/usr/local/lib/python3.5/dist-packages/sklearn/neural_network/multilayer_perceptron.py:564: ConvergenceWarning: Stochastic Optimizer: Maximum iterations (200) reached and the optimization hasn't converged yet.\n",
      "  % self.max_iter, ConvergenceWarning)\n"
     ]
    },
    {
     "name": "stdout",
     "output_type": "stream",
     "text": [
      "Took: 119.34810304641724\n",
      "--------------------------------------------------\n",
      "En: 150\tTr: 42\n",
      "Using first variation (Regressor and Classifier with score vectors)\n",
      "epoch 0:\t20.144273592871482\n",
      "epoch 10:\t19.67972059123124\n",
      "epoch 20:\t19.265671608961085\n",
      "epoch 30:\t19.120069854535853\n",
      "epoch 40:\t19.06429081591367\n",
      "epoch 50:\t19.027232856047107\n",
      "Using second variation (average of outputs produced by each set of weight matrices)\n",
      "Epoch 0: 0.7430897113270779\n",
      "Epoch 25: 0.0011014201776546884\n",
      "Epoch 50: 0.0005701607412322099\n",
      "Epoch 75: 0.00039391989443930225\n",
      "Epoch 100: 0.0003038749813922455\n",
      "Epoch 125: 0.00024865554664188494\n",
      "Epoch 150: 0.00021112504843993443\n",
      "W1 size 157\n",
      "W2 size 5\n",
      "W3 size 3\n"
     ]
    },
    {
     "name": "stderr",
     "output_type": "stream",
     "text": [
      "/usr/local/lib/python3.5/dist-packages/sklearn/metrics/classification.py:1137: UndefinedMetricWarning: F-score is ill-defined and being set to 0.0 in labels with no true samples.\n",
      "  'recall', 'true', average, warn_for)\n"
     ]
    },
    {
     "name": "stdout",
     "output_type": "stream",
     "text": [
      "Using well-known algorithms: Logistic Regression, RandomForest and MLP\n"
     ]
    },
    {
     "name": "stderr",
     "output_type": "stream",
     "text": [
      "/usr/local/lib/python3.5/dist-packages/sklearn/metrics/classification.py:1135: UndefinedMetricWarning: F-score is ill-defined and being set to 0.0 in labels with no predicted samples.\n",
      "  'precision', 'predicted', average, warn_for)\n",
      "/usr/local/lib/python3.5/dist-packages/sklearn/neural_network/multilayer_perceptron.py:564: ConvergenceWarning: Stochastic Optimizer: Maximum iterations (200) reached and the optimization hasn't converged yet.\n",
      "  % self.max_iter, ConvergenceWarning)\n"
     ]
    },
    {
     "name": "stdout",
     "output_type": "stream",
     "text": [
      "Took: 53.09254693984985\n",
      "--------------------------------------------------\n",
      "En: 150\tTr: 84\n",
      "Using first variation (Regressor and Classifier with score vectors)\n",
      "epoch 0:\t18.36762621478151\n",
      "epoch 10:\t17.76906965956981\n",
      "epoch 20:\t17.72945638610555\n",
      "epoch 30:\t17.788392834627043\n",
      "epoch 40:\t17.763415268997296\n",
      "epoch 50:\t17.751289288760265\n",
      "Using second variation (average of outputs produced by each set of weight matrices)\n",
      "Epoch 0: 0.1336234907650541\n",
      "Epoch 25: 0.00048204743596619824\n",
      "Epoch 50: 0.0002580175206921985\n",
      "Epoch 75: 0.00017862106609817764\n",
      "Epoch 100: 0.00013773521476271585\n",
      "Epoch 125: 0.0001127334949567785\n",
      "Epoch 150: 9.580988829029874e-05\n",
      "W1 size 189\n",
      "W2 size 5\n",
      "W3 size 3\n"
     ]
    },
    {
     "name": "stderr",
     "output_type": "stream",
     "text": [
      "/usr/local/lib/python3.5/dist-packages/sklearn/metrics/classification.py:1137: UndefinedMetricWarning: F-score is ill-defined and being set to 0.0 in labels with no true samples.\n",
      "  'recall', 'true', average, warn_for)\n"
     ]
    },
    {
     "name": "stdout",
     "output_type": "stream",
     "text": [
      "Using well-known algorithms: Logistic Regression, RandomForest and MLP\n"
     ]
    },
    {
     "name": "stderr",
     "output_type": "stream",
     "text": [
      "/usr/local/lib/python3.5/dist-packages/sklearn/metrics/classification.py:1135: UndefinedMetricWarning: F-score is ill-defined and being set to 0.0 in labels with no predicted samples.\n",
      "  'precision', 'predicted', average, warn_for)\n"
     ]
    },
    {
     "name": "stdout",
     "output_type": "stream",
     "text": [
      "Took: 64.02020645141602\n",
      "--------------------------------------------------\n",
      "En: 150\tTr: 127\n",
      "Using first variation (Regressor and Classifier with score vectors)\n",
      "epoch 0:\t16.927529695178414\n",
      "epoch 10:\t16.581793171586117\n",
      "epoch 20:\t16.42879734035063\n",
      "epoch 30:\t16.26356709426331\n",
      "epoch 40:\t16.136502010584717\n",
      "epoch 50:\t16.044856743226216\n",
      "Using second variation (average of outputs produced by each set of weight matrices)\n",
      "Epoch 0: 0.5746508821720707\n",
      "Epoch 25: 0.001000817281819973\n",
      "Epoch 50: 0.0005321536644858547\n",
      "Epoch 75: 0.0003671584652987913\n",
      "Epoch 100: 0.00028172994166787875\n",
      "Epoch 125: 0.0002291969858612876\n",
      "Epoch 150: 0.00019349915514525875\n",
      "W1 size 215\n",
      "W2 size 6\n",
      "W3 size 3\n"
     ]
    },
    {
     "name": "stderr",
     "output_type": "stream",
     "text": [
      "/usr/local/lib/python3.5/dist-packages/sklearn/metrics/classification.py:1137: UndefinedMetricWarning: F-score is ill-defined and being set to 0.0 in labels with no true samples.\n",
      "  'recall', 'true', average, warn_for)\n"
     ]
    },
    {
     "name": "stdout",
     "output_type": "stream",
     "text": [
      "Using well-known algorithms: Logistic Regression, RandomForest and MLP\n"
     ]
    },
    {
     "name": "stderr",
     "output_type": "stream",
     "text": [
      "/usr/local/lib/python3.5/dist-packages/sklearn/metrics/classification.py:1135: UndefinedMetricWarning: F-score is ill-defined and being set to 0.0 in labels with no predicted samples.\n",
      "  'precision', 'predicted', average, warn_for)\n",
      "/usr/local/lib/python3.5/dist-packages/sklearn/neural_network/multilayer_perceptron.py:564: ConvergenceWarning: Stochastic Optimizer: Maximum iterations (200) reached and the optimization hasn't converged yet.\n",
      "  % self.max_iter, ConvergenceWarning)\n"
     ]
    },
    {
     "name": "stdout",
     "output_type": "stream",
     "text": [
      "Took: 73.47066617012024\n",
      "--------------------------------------------------\n",
      "En: 150\tTr: 169\n",
      "Using first variation (Regressor and Classifier with score vectors)\n",
      "epoch 0:\t24.06838767901057\n",
      "epoch 10:\t23.843430591928243\n",
      "epoch 20:\t22.999946205481805\n",
      "epoch 30:\t22.198077341253406\n",
      "epoch 40:\t21.361310070334465\n",
      "epoch 50:\t20.360239267812226\n",
      "Using second variation (average of outputs produced by each set of weight matrices)\n",
      "Epoch 0: 0.8408509591898347\n",
      "Epoch 25: 0.0009797505038462036\n",
      "Epoch 50: 0.0004927563671066545\n",
      "Epoch 75: 0.0003327074463397076\n",
      "Epoch 100: 0.00025238666326840635\n",
      "Epoch 125: 0.0002038873799905799\n",
      "Epoch 150: 0.00017135070202046259\n",
      "W1 size 243\n",
      "W2 size 6\n",
      "W3 size 3\n"
     ]
    },
    {
     "name": "stderr",
     "output_type": "stream",
     "text": [
      "/usr/local/lib/python3.5/dist-packages/sklearn/metrics/classification.py:1137: UndefinedMetricWarning: F-score is ill-defined and being set to 0.0 in labels with no true samples.\n",
      "  'recall', 'true', average, warn_for)\n"
     ]
    },
    {
     "name": "stdout",
     "output_type": "stream",
     "text": [
      "Using well-known algorithms: Logistic Regression, RandomForest and MLP\n"
     ]
    },
    {
     "name": "stderr",
     "output_type": "stream",
     "text": [
      "/usr/local/lib/python3.5/dist-packages/sklearn/metrics/classification.py:1135: UndefinedMetricWarning: F-score is ill-defined and being set to 0.0 in labels with no predicted samples.\n",
      "  'precision', 'predicted', average, warn_for)\n",
      "/usr/local/lib/python3.5/dist-packages/sklearn/neural_network/multilayer_perceptron.py:564: ConvergenceWarning: Stochastic Optimizer: Maximum iterations (200) reached and the optimization hasn't converged yet.\n",
      "  % self.max_iter, ConvergenceWarning)\n"
     ]
    },
    {
     "name": "stdout",
     "output_type": "stream",
     "text": [
      "Took: 90.16402220726013\n",
      "--------------------------------------------------\n",
      "En: 150\tTr: 211\n",
      "Using first variation (Regressor and Classifier with score vectors)\n",
      "epoch 0:\t19.41283960753282\n",
      "epoch 10:\t19.43200389386972\n",
      "epoch 20:\t19.318064381701937\n",
      "epoch 30:\t19.216963319740714\n",
      "epoch 40:\t19.11378116525617\n",
      "epoch 50:\t19.011293475104278\n",
      "Using second variation (average of outputs produced by each set of weight matrices)\n",
      "Epoch 0: 0.6875366679169418\n",
      "Epoch 25: 0.0016111414405492262\n",
      "Epoch 50: 0.0006438935730754818\n",
      "Epoch 75: 0.00040906158010911635\n",
      "Epoch 100: 0.00030179049459406885\n",
      "Epoch 125: 0.00023999928158217507\n",
      "Epoch 150: 0.00019969054222459284\n",
      "W1 size 242\n",
      "W2 size 6\n",
      "W3 size 3\n"
     ]
    },
    {
     "name": "stderr",
     "output_type": "stream",
     "text": [
      "/usr/local/lib/python3.5/dist-packages/sklearn/metrics/classification.py:1137: UndefinedMetricWarning: F-score is ill-defined and being set to 0.0 in labels with no true samples.\n",
      "  'recall', 'true', average, warn_for)\n"
     ]
    },
    {
     "name": "stdout",
     "output_type": "stream",
     "text": [
      "Using well-known algorithms: Logistic Regression, RandomForest and MLP\n"
     ]
    },
    {
     "name": "stderr",
     "output_type": "stream",
     "text": [
      "/usr/local/lib/python3.5/dist-packages/sklearn/metrics/classification.py:1135: UndefinedMetricWarning: F-score is ill-defined and being set to 0.0 in labels with no predicted samples.\n",
      "  'precision', 'predicted', average, warn_for)\n",
      "/usr/local/lib/python3.5/dist-packages/sklearn/neural_network/multilayer_perceptron.py:564: ConvergenceWarning: Stochastic Optimizer: Maximum iterations (200) reached and the optimization hasn't converged yet.\n",
      "  % self.max_iter, ConvergenceWarning)\n"
     ]
    },
    {
     "name": "stdout",
     "output_type": "stream",
     "text": [
      "Took: 89.815438747406\n",
      "--------------------------------------------------\n",
      "En: 150\tTr: 253\n",
      "Using first variation (Regressor and Classifier with score vectors)\n",
      "epoch 0:\t23.775465960695367\n",
      "epoch 10:\t22.90030357217989\n",
      "epoch 20:\t22.496741431974726\n",
      "epoch 30:\t21.985178376678345\n",
      "epoch 40:\t21.399983016440075\n",
      "epoch 50:\t20.822064517234935\n",
      "Using second variation (average of outputs produced by each set of weight matrices)\n",
      "Epoch 0: 0.27393134326662083\n",
      "Epoch 25: 0.0004975736419136429\n",
      "Epoch 50: 0.00025507076444539304\n",
      "Epoch 75: 0.00017418343556144472\n",
      "Epoch 100: 0.00013330305915451983\n",
      "Epoch 125: 0.00010849629661062285\n",
      "Epoch 150: 9.177312509656888e-05\n",
      "W1 size 269\n",
      "W2 size 6\n",
      "W3 size 3\n"
     ]
    },
    {
     "name": "stderr",
     "output_type": "stream",
     "text": [
      "/usr/local/lib/python3.5/dist-packages/sklearn/metrics/classification.py:1137: UndefinedMetricWarning: F-score is ill-defined and being set to 0.0 in labels with no true samples.\n",
      "  'recall', 'true', average, warn_for)\n"
     ]
    },
    {
     "name": "stdout",
     "output_type": "stream",
     "text": [
      "Using well-known algorithms: Logistic Regression, RandomForest and MLP\n"
     ]
    },
    {
     "name": "stderr",
     "output_type": "stream",
     "text": [
      "/usr/local/lib/python3.5/dist-packages/sklearn/metrics/classification.py:1135: UndefinedMetricWarning: F-score is ill-defined and being set to 0.0 in labels with no predicted samples.\n",
      "  'precision', 'predicted', average, warn_for)\n"
     ]
    },
    {
     "name": "stdout",
     "output_type": "stream",
     "text": [
      "Took: 101.88794255256653\n",
      "--------------------------------------------------\n",
      "En: 150\tTr: 295\n",
      "Using first variation (Regressor and Classifier with score vectors)\n",
      "epoch 0:\t18.937579645970345\n",
      "epoch 10:\t18.851074955519625\n",
      "epoch 20:\t18.66225384928579\n",
      "epoch 30:\t18.47995146059895\n",
      "epoch 40:\t18.352068909021977\n",
      "epoch 50:\t18.27496069694762\n",
      "Using second variation (average of outputs produced by each set of weight matrices)\n",
      "Epoch 0: 0.8306276582715094\n",
      "Epoch 25: 0.001032280929669199\n",
      "Epoch 50: 0.0005110358511869111\n",
      "Epoch 75: 0.0003428030504468925\n",
      "Epoch 100: 0.0002590601237548544\n",
      "Epoch 125: 0.00020875482534320913\n",
      "Epoch 150: 0.00017512448173554251\n",
      "W1 size 284\n",
      "W2 size 6\n",
      "W3 size 3\n"
     ]
    },
    {
     "name": "stderr",
     "output_type": "stream",
     "text": [
      "/usr/local/lib/python3.5/dist-packages/sklearn/metrics/classification.py:1137: UndefinedMetricWarning: F-score is ill-defined and being set to 0.0 in labels with no true samples.\n",
      "  'recall', 'true', average, warn_for)\n"
     ]
    },
    {
     "name": "stdout",
     "output_type": "stream",
     "text": [
      "Using well-known algorithms: Logistic Regression, RandomForest and MLP\n"
     ]
    },
    {
     "name": "stderr",
     "output_type": "stream",
     "text": [
      "/usr/local/lib/python3.5/dist-packages/sklearn/metrics/classification.py:1135: UndefinedMetricWarning: F-score is ill-defined and being set to 0.0 in labels with no predicted samples.\n",
      "  'precision', 'predicted', average, warn_for)\n",
      "/usr/local/lib/python3.5/dist-packages/sklearn/neural_network/multilayer_perceptron.py:564: ConvergenceWarning: Stochastic Optimizer: Maximum iterations (200) reached and the optimization hasn't converged yet.\n",
      "  % self.max_iter, ConvergenceWarning)\n"
     ]
    },
    {
     "name": "stdout",
     "output_type": "stream",
     "text": [
      "Took: 123.80717062950134\n",
      "--------------------------------------------------\n",
      "En: 150\tTr: 338\n",
      "Using first variation (Regressor and Classifier with score vectors)\n",
      "epoch 0:\t23.122998799159575\n",
      "epoch 10:\t22.79926249924021\n",
      "epoch 20:\t22.186750400345275\n",
      "epoch 30:\t21.550078266023252\n",
      "epoch 40:\t21.001778084946732\n",
      "epoch 50:\t20.536252985983396\n",
      "Using second variation (average of outputs produced by each set of weight matrices)\n",
      "Epoch 0: 0.7367082785738507\n",
      "Epoch 25: 0.0005447329627594027\n",
      "Epoch 50: 0.0002825265135434843\n",
      "Epoch 75: 0.00019309609431696688\n",
      "Epoch 100: 0.0001475769345346554\n",
      "Epoch 125: 0.0001198665501515822\n",
      "Epoch 150: 0.00010116317309183387\n",
      "W1 size 296\n",
      "W2 size 6\n",
      "W3 size 3\n"
     ]
    },
    {
     "name": "stderr",
     "output_type": "stream",
     "text": [
      "/usr/local/lib/python3.5/dist-packages/sklearn/metrics/classification.py:1137: UndefinedMetricWarning: F-score is ill-defined and being set to 0.0 in labels with no true samples.\n",
      "  'recall', 'true', average, warn_for)\n"
     ]
    },
    {
     "name": "stdout",
     "output_type": "stream",
     "text": [
      "Using well-known algorithms: Logistic Regression, RandomForest and MLP\n"
     ]
    },
    {
     "name": "stderr",
     "output_type": "stream",
     "text": [
      "/usr/local/lib/python3.5/dist-packages/sklearn/metrics/classification.py:1135: UndefinedMetricWarning: F-score is ill-defined and being set to 0.0 in labels with no predicted samples.\n",
      "  'precision', 'predicted', average, warn_for)\n",
      "/usr/local/lib/python3.5/dist-packages/sklearn/neural_network/multilayer_perceptron.py:564: ConvergenceWarning: Stochastic Optimizer: Maximum iterations (200) reached and the optimization hasn't converged yet.\n",
      "  % self.max_iter, ConvergenceWarning)\n"
     ]
    },
    {
     "name": "stdout",
     "output_type": "stream",
     "text": [
      "Took: 124.44434356689453\n",
      "--------------------------------------------------\n",
      "En: 150\tTr: 380\n",
      "Using first variation (Regressor and Classifier with score vectors)\n",
      "epoch 0:\t23.346157734917465\n",
      "epoch 10:\t22.790738731580888\n",
      "epoch 20:\t22.331783898440907\n",
      "epoch 30:\t22.0936113473721\n",
      "epoch 40:\t21.824573104564763\n",
      "epoch 50:\t21.54094994316013\n",
      "Using second variation (average of outputs produced by each set of weight matrices)\n",
      "Epoch 0: 0.6016113055429362\n",
      "Epoch 25: 0.0009045640922316121\n",
      "Epoch 50: 0.00045135258236715913\n",
      "Epoch 75: 0.0003038458956282584\n",
      "Epoch 100: 0.0002301070367264912\n",
      "Epoch 125: 0.0001856946189431489\n",
      "Epoch 150: 0.00015595090165887533\n",
      "W1 size 308\n",
      "W2 size 6\n",
      "W3 size 3\n"
     ]
    },
    {
     "name": "stderr",
     "output_type": "stream",
     "text": [
      "/usr/local/lib/python3.5/dist-packages/sklearn/metrics/classification.py:1137: UndefinedMetricWarning: F-score is ill-defined and being set to 0.0 in labels with no true samples.\n",
      "  'recall', 'true', average, warn_for)\n"
     ]
    },
    {
     "name": "stdout",
     "output_type": "stream",
     "text": [
      "Using well-known algorithms: Logistic Regression, RandomForest and MLP\n"
     ]
    },
    {
     "name": "stderr",
     "output_type": "stream",
     "text": [
      "/usr/local/lib/python3.5/dist-packages/sklearn/metrics/classification.py:1135: UndefinedMetricWarning: F-score is ill-defined and being set to 0.0 in labels with no predicted samples.\n",
      "  'precision', 'predicted', average, warn_for)\n",
      "/usr/local/lib/python3.5/dist-packages/sklearn/neural_network/multilayer_perceptron.py:564: ConvergenceWarning: Stochastic Optimizer: Maximum iterations (200) reached and the optimization hasn't converged yet.\n",
      "  % self.max_iter, ConvergenceWarning)\n"
     ]
    },
    {
     "name": "stdout",
     "output_type": "stream",
     "text": [
      "Took: 134.2533655166626\n",
      "--------------------------------------------------\n",
      "En: 150\tTr: 422\n",
      "Using first variation (Regressor and Classifier with score vectors)\n",
      "epoch 0:\t18.067072433970157\n",
      "epoch 10:\t17.724447242675765\n",
      "epoch 20:\t17.576440543004438\n",
      "epoch 30:\t17.49582357608989\n",
      "epoch 40:\t17.423906763904274\n",
      "epoch 50:\t17.365399911250393\n",
      "Using second variation (average of outputs produced by each set of weight matrices)\n",
      "Epoch 0: 0.26989484528292257\n",
      "Epoch 25: 0.0006516368866390517\n",
      "Epoch 50: 0.0003342606868599624\n",
      "Epoch 75: 0.00022747552277298138\n",
      "Epoch 100: 0.00017332360006118596\n",
      "Epoch 125: 0.00014042515145797473\n",
      "Epoch 150: 0.00011826367285309643\n",
      "W1 size 321\n",
      "W2 size 6\n",
      "W3 size 3\n"
     ]
    },
    {
     "name": "stderr",
     "output_type": "stream",
     "text": [
      "/usr/local/lib/python3.5/dist-packages/sklearn/metrics/classification.py:1137: UndefinedMetricWarning: F-score is ill-defined and being set to 0.0 in labels with no true samples.\n",
      "  'recall', 'true', average, warn_for)\n"
     ]
    },
    {
     "name": "stdout",
     "output_type": "stream",
     "text": [
      "Using well-known algorithms: Logistic Regression, RandomForest and MLP\n"
     ]
    },
    {
     "name": "stderr",
     "output_type": "stream",
     "text": [
      "/usr/local/lib/python3.5/dist-packages/sklearn/metrics/classification.py:1135: UndefinedMetricWarning: F-score is ill-defined and being set to 0.0 in labels with no predicted samples.\n",
      "  'precision', 'predicted', average, warn_for)\n",
      "/usr/local/lib/python3.5/dist-packages/sklearn/neural_network/multilayer_perceptron.py:564: ConvergenceWarning: Stochastic Optimizer: Maximum iterations (200) reached and the optimization hasn't converged yet.\n",
      "  % self.max_iter, ConvergenceWarning)\n"
     ]
    },
    {
     "name": "stdout",
     "output_type": "stream",
     "text": [
      "Took: 142.56077408790588\n",
      "--------------------------------------------------\n",
      "En: 200\tTr: 42\n",
      "Using first variation (Regressor and Classifier with score vectors)\n",
      "epoch 0:\t18.587589248966825\n",
      "epoch 10:\t18.551617559080245\n",
      "epoch 20:\t18.11102629793849\n",
      "epoch 30:\t17.633469244160295\n",
      "epoch 40:\t17.190148958692927\n",
      "epoch 50:\t16.817355932147983\n",
      "Using second variation (average of outputs produced by each set of weight matrices)\n",
      "Epoch 0: 0.421338037972302\n",
      "Epoch 25: 0.0011626568272563962\n",
      "Epoch 50: 0.0005894024788017211\n",
      "Epoch 75: 0.00039956198785606013\n",
      "Epoch 100: 0.00030389285217007766\n",
      "Epoch 125: 0.00024596201508304675\n",
      "Epoch 150: 0.0002069911013806438\n",
      "W1 size 194\n",
      "W2 size 6\n",
      "W3 size 3\n"
     ]
    },
    {
     "name": "stderr",
     "output_type": "stream",
     "text": [
      "/usr/local/lib/python3.5/dist-packages/sklearn/metrics/classification.py:1137: UndefinedMetricWarning: F-score is ill-defined and being set to 0.0 in labels with no true samples.\n",
      "  'recall', 'true', average, warn_for)\n"
     ]
    },
    {
     "name": "stdout",
     "output_type": "stream",
     "text": [
      "Using well-known algorithms: Logistic Regression, RandomForest and MLP\n"
     ]
    },
    {
     "name": "stderr",
     "output_type": "stream",
     "text": [
      "/usr/local/lib/python3.5/dist-packages/sklearn/metrics/classification.py:1135: UndefinedMetricWarning: F-score is ill-defined and being set to 0.0 in labels with no predicted samples.\n",
      "  'precision', 'predicted', average, warn_for)\n"
     ]
    },
    {
     "name": "stdout",
     "output_type": "stream",
     "text": [
      "Took: 68.72391057014465\n",
      "--------------------------------------------------\n",
      "En: 200\tTr: 84\n",
      "Using first variation (Regressor and Classifier with score vectors)\n",
      "epoch 0:\t21.7130259064197\n",
      "epoch 10:\t21.386625453516956\n",
      "epoch 20:\t20.902963426695376\n",
      "epoch 30:\t20.446690384535014\n",
      "epoch 40:\t20.02186180420009\n",
      "epoch 50:\t19.66749998590837\n",
      "Using second variation (average of outputs produced by each set of weight matrices)\n",
      "Epoch 0: 1.442862283869077\n",
      "Epoch 25: 0.001575812701881048\n",
      "Epoch 50: 0.0007460943672130807\n",
      "Epoch 75: 0.000499106021072418\n",
      "Epoch 100: 0.0003780483169112564\n",
      "Epoch 125: 0.0003056486184789765\n",
      "Epoch 150: 0.0002572733544575001\n",
      "W1 size 228\n",
      "W2 size 6\n",
      "W3 size 3\n"
     ]
    },
    {
     "name": "stderr",
     "output_type": "stream",
     "text": [
      "/usr/local/lib/python3.5/dist-packages/sklearn/metrics/classification.py:1137: UndefinedMetricWarning: F-score is ill-defined and being set to 0.0 in labels with no true samples.\n",
      "  'recall', 'true', average, warn_for)\n"
     ]
    },
    {
     "name": "stdout",
     "output_type": "stream",
     "text": [
      "Using well-known algorithms: Logistic Regression, RandomForest and MLP\n"
     ]
    },
    {
     "name": "stderr",
     "output_type": "stream",
     "text": [
      "/usr/local/lib/python3.5/dist-packages/sklearn/metrics/classification.py:1135: UndefinedMetricWarning: F-score is ill-defined and being set to 0.0 in labels with no predicted samples.\n",
      "  'precision', 'predicted', average, warn_for)\n",
      "/usr/local/lib/python3.5/dist-packages/sklearn/neural_network/multilayer_perceptron.py:564: ConvergenceWarning: Stochastic Optimizer: Maximum iterations (200) reached and the optimization hasn't converged yet.\n",
      "  % self.max_iter, ConvergenceWarning)\n"
     ]
    },
    {
     "name": "stdout",
     "output_type": "stream",
     "text": [
      "Took: 80.3720223903656\n",
      "--------------------------------------------------\n",
      "En: 200\tTr: 127\n",
      "Using first variation (Regressor and Classifier with score vectors)\n",
      "epoch 0:\t19.731522030153098\n",
      "epoch 10:\t19.32362849920656\n",
      "epoch 20:\t18.864808084407937\n",
      "epoch 30:\t18.382190237521687\n",
      "epoch 40:\t17.95741132330308\n",
      "epoch 50:\t17.58583622138804\n",
      "Using second variation (average of outputs produced by each set of weight matrices)\n",
      "Epoch 0: 0.21856385407138557\n",
      "Epoch 25: 0.0007202546934027883\n",
      "Epoch 50: 0.00033909747245485124\n",
      "Epoch 75: 0.00022608907138283864\n",
      "Epoch 100: 0.00017085009326364383\n",
      "Epoch 125: 0.00013788993180144786\n",
      "Epoch 150: 0.00011591501078548538\n",
      "W1 size 254\n",
      "W2 size 6\n",
      "W3 size 3\n"
     ]
    },
    {
     "name": "stderr",
     "output_type": "stream",
     "text": [
      "/usr/local/lib/python3.5/dist-packages/sklearn/metrics/classification.py:1137: UndefinedMetricWarning: F-score is ill-defined and being set to 0.0 in labels with no true samples.\n",
      "  'recall', 'true', average, warn_for)\n"
     ]
    },
    {
     "name": "stdout",
     "output_type": "stream",
     "text": [
      "Using well-known algorithms: Logistic Regression, RandomForest and MLP\n"
     ]
    },
    {
     "name": "stderr",
     "output_type": "stream",
     "text": [
      "/usr/local/lib/python3.5/dist-packages/sklearn/metrics/classification.py:1135: UndefinedMetricWarning: F-score is ill-defined and being set to 0.0 in labels with no predicted samples.\n",
      "  'precision', 'predicted', average, warn_for)\n",
      "/usr/local/lib/python3.5/dist-packages/sklearn/neural_network/multilayer_perceptron.py:564: ConvergenceWarning: Stochastic Optimizer: Maximum iterations (200) reached and the optimization hasn't converged yet.\n",
      "  % self.max_iter, ConvergenceWarning)\n"
     ]
    },
    {
     "name": "stdout",
     "output_type": "stream",
     "text": [
      "Took: 94.36127829551697\n",
      "--------------------------------------------------\n",
      "En: 200\tTr: 169\n",
      "Using first variation (Regressor and Classifier with score vectors)\n",
      "epoch 0:\t19.310362732343858\n",
      "epoch 10:\t19.29944130335143\n",
      "epoch 20:\t19.137086350788113\n",
      "epoch 30:\t18.965053967633583\n",
      "epoch 40:\t18.786303543816135\n",
      "epoch 50:\t18.605856468172963\n",
      "Using second variation (average of outputs produced by each set of weight matrices)\n",
      "Epoch 0: 1.2519773997449286\n",
      "Epoch 25: 0.0012790972988000096\n",
      "Epoch 50: 0.000537650956923423\n",
      "Epoch 75: 0.0003475486285717034\n",
      "Epoch 100: 0.0002587014021593836\n",
      "Epoch 125: 0.00020686030593238593\n",
      "Epoch 150: 0.000172766900132068\n",
      "W1 size 255\n",
      "W2 size 6\n",
      "W3 size 3\n"
     ]
    },
    {
     "name": "stderr",
     "output_type": "stream",
     "text": [
      "/usr/local/lib/python3.5/dist-packages/sklearn/metrics/classification.py:1137: UndefinedMetricWarning: F-score is ill-defined and being set to 0.0 in labels with no true samples.\n",
      "  'recall', 'true', average, warn_for)\n"
     ]
    },
    {
     "name": "stdout",
     "output_type": "stream",
     "text": [
      "Using well-known algorithms: Logistic Regression, RandomForest and MLP\n"
     ]
    },
    {
     "name": "stderr",
     "output_type": "stream",
     "text": [
      "/usr/local/lib/python3.5/dist-packages/sklearn/metrics/classification.py:1135: UndefinedMetricWarning: F-score is ill-defined and being set to 0.0 in labels with no predicted samples.\n",
      "  'precision', 'predicted', average, warn_for)\n",
      "/usr/local/lib/python3.5/dist-packages/sklearn/neural_network/multilayer_perceptron.py:564: ConvergenceWarning: Stochastic Optimizer: Maximum iterations (200) reached and the optimization hasn't converged yet.\n",
      "  % self.max_iter, ConvergenceWarning)\n"
     ]
    },
    {
     "name": "stdout",
     "output_type": "stream",
     "text": [
      "Took: 94.50124049186707\n",
      "--------------------------------------------------\n",
      "En: 200\tTr: 211\n",
      "Using first variation (Regressor and Classifier with score vectors)\n",
      "epoch 0:\t18.300625478126268\n",
      "epoch 10:\t17.913974995729365\n",
      "epoch 20:\t17.817873824454406\n",
      "epoch 30:\t17.755459575692345\n",
      "epoch 40:\t17.704075959336997\n",
      "epoch 50:\t17.670269949005704\n",
      "Using second variation (average of outputs produced by each set of weight matrices)\n",
      "Epoch 0: 0.6281996578590863\n",
      "Epoch 25: 0.0019978607582977845\n",
      "Epoch 50: 0.0005431994549420377\n",
      "Epoch 75: 0.00033173064019505585\n",
      "Epoch 100: 0.00024232960538030944\n",
      "Epoch 125: 0.0001922040721694746\n",
      "Epoch 150: 0.0001598740305955138\n",
      "W1 size 285\n",
      "W2 size 6\n",
      "W3 size 3\n"
     ]
    },
    {
     "name": "stderr",
     "output_type": "stream",
     "text": [
      "/usr/local/lib/python3.5/dist-packages/sklearn/metrics/classification.py:1137: UndefinedMetricWarning: F-score is ill-defined and being set to 0.0 in labels with no true samples.\n",
      "  'recall', 'true', average, warn_for)\n"
     ]
    },
    {
     "name": "stdout",
     "output_type": "stream",
     "text": [
      "Using well-known algorithms: Logistic Regression, RandomForest and MLP\n"
     ]
    },
    {
     "name": "stderr",
     "output_type": "stream",
     "text": [
      "/usr/local/lib/python3.5/dist-packages/sklearn/metrics/classification.py:1135: UndefinedMetricWarning: F-score is ill-defined and being set to 0.0 in labels with no predicted samples.\n",
      "  'precision', 'predicted', average, warn_for)\n"
     ]
    },
    {
     "name": "stdout",
     "output_type": "stream",
     "text": [
      "Took: 109.28064107894897\n",
      "--------------------------------------------------\n",
      "En: 200\tTr: 253\n",
      "Using first variation (Regressor and Classifier with score vectors)\n",
      "epoch 0:\t18.881775591861416\n",
      "epoch 10:\t18.897191077505862\n",
      "epoch 20:\t18.659767561955803\n",
      "epoch 30:\t18.45426583920032\n",
      "epoch 40:\t18.289987869835098\n",
      "epoch 50:\t18.150412613929753\n",
      "Using second variation (average of outputs produced by each set of weight matrices)\n",
      "Epoch 0: 0.1341392077199297\n",
      "Epoch 25: 0.0006994248525947387\n",
      "Epoch 50: 0.00035561248207162865\n",
      "Epoch 75: 0.00024167657423848675\n",
      "Epoch 100: 0.00018414359304724044\n",
      "Epoch 125: 0.0001492365343663048\n",
      "Epoch 150: 0.0001257265033564457\n",
      "W1 size 291\n",
      "W2 size 6\n",
      "W3 size 3\n"
     ]
    },
    {
     "name": "stderr",
     "output_type": "stream",
     "text": [
      "/usr/local/lib/python3.5/dist-packages/sklearn/metrics/classification.py:1137: UndefinedMetricWarning: F-score is ill-defined and being set to 0.0 in labels with no true samples.\n",
      "  'recall', 'true', average, warn_for)\n"
     ]
    },
    {
     "name": "stdout",
     "output_type": "stream",
     "text": [
      "Using well-known algorithms: Logistic Regression, RandomForest and MLP\n"
     ]
    },
    {
     "name": "stderr",
     "output_type": "stream",
     "text": [
      "/usr/local/lib/python3.5/dist-packages/sklearn/metrics/classification.py:1135: UndefinedMetricWarning: F-score is ill-defined and being set to 0.0 in labels with no predicted samples.\n",
      "  'precision', 'predicted', average, warn_for)\n",
      "/usr/local/lib/python3.5/dist-packages/sklearn/neural_network/multilayer_perceptron.py:564: ConvergenceWarning: Stochastic Optimizer: Maximum iterations (200) reached and the optimization hasn't converged yet.\n",
      "  % self.max_iter, ConvergenceWarning)\n"
     ]
    },
    {
     "name": "stdout",
     "output_type": "stream",
     "text": [
      "Took: 108.61572289466858\n",
      "--------------------------------------------------\n",
      "En: 200\tTr: 295\n",
      "Using first variation (Regressor and Classifier with score vectors)\n",
      "epoch 0:\t23.347804757276407\n",
      "epoch 10:\t23.81478662276302\n",
      "epoch 20:\t23.030829106475426\n",
      "epoch 30:\t21.726907262987513\n",
      "epoch 40:\t20.842852989419452\n",
      "epoch 50:\t20.319748184087057\n",
      "Using second variation (average of outputs produced by each set of weight matrices)\n",
      "Epoch 0: 0.19720395588000683\n",
      "Epoch 25: 0.0006412059901543554\n",
      "Epoch 50: 0.0003270419761333134\n",
      "Epoch 75: 0.000221130286602124\n",
      "Epoch 100: 0.00016763619432380337\n",
      "Epoch 125: 0.00013526814350184235\n",
      "Epoch 150: 0.00011353524729816978\n",
      "W1 size 317\n",
      "W2 size 6\n",
      "W3 size 3\n"
     ]
    },
    {
     "name": "stderr",
     "output_type": "stream",
     "text": [
      "/usr/local/lib/python3.5/dist-packages/sklearn/metrics/classification.py:1137: UndefinedMetricWarning: F-score is ill-defined and being set to 0.0 in labels with no true samples.\n",
      "  'recall', 'true', average, warn_for)\n"
     ]
    },
    {
     "name": "stdout",
     "output_type": "stream",
     "text": [
      "Using well-known algorithms: Logistic Regression, RandomForest and MLP\n"
     ]
    },
    {
     "name": "stderr",
     "output_type": "stream",
     "text": [
      "/usr/local/lib/python3.5/dist-packages/sklearn/metrics/classification.py:1135: UndefinedMetricWarning: F-score is ill-defined and being set to 0.0 in labels with no predicted samples.\n",
      "  'precision', 'predicted', average, warn_for)\n",
      "/usr/local/lib/python3.5/dist-packages/sklearn/neural_network/multilayer_perceptron.py:564: ConvergenceWarning: Stochastic Optimizer: Maximum iterations (200) reached and the optimization hasn't converged yet.\n",
      "  % self.max_iter, ConvergenceWarning)\n"
     ]
    },
    {
     "name": "stdout",
     "output_type": "stream",
     "text": [
      "Took: 127.18373370170593\n",
      "--------------------------------------------------\n",
      "En: 200\tTr: 338\n",
      "Using first variation (Regressor and Classifier with score vectors)\n",
      "epoch 0:\t19.8753081545763\n",
      "epoch 10:\t19.551571460439767\n",
      "epoch 20:\t19.416000652896056\n",
      "epoch 30:\t19.291919479646605\n",
      "epoch 40:\t19.181891662760247\n",
      "epoch 50:\t19.082201544400007\n",
      "Using second variation (average of outputs produced by each set of weight matrices)\n",
      "Epoch 0: 0.5742206385649875\n",
      "Epoch 25: 0.0008560688859687046\n",
      "Epoch 50: 0.0004376788606982165\n",
      "Epoch 75: 0.0002984727535092734\n",
      "Epoch 100: 0.00022789634519387105\n",
      "Epoch 125: 0.00018496805048099374\n",
      "Epoch 150: 0.0001559999114462479\n",
      "W1 size 325\n",
      "W2 size 6\n",
      "W3 size 3\n"
     ]
    },
    {
     "name": "stderr",
     "output_type": "stream",
     "text": [
      "/usr/local/lib/python3.5/dist-packages/sklearn/metrics/classification.py:1137: UndefinedMetricWarning: F-score is ill-defined and being set to 0.0 in labels with no true samples.\n",
      "  'recall', 'true', average, warn_for)\n"
     ]
    },
    {
     "name": "stdout",
     "output_type": "stream",
     "text": [
      "Using well-known algorithms: Logistic Regression, RandomForest and MLP\n"
     ]
    },
    {
     "name": "stderr",
     "output_type": "stream",
     "text": [
      "/usr/local/lib/python3.5/dist-packages/sklearn/metrics/classification.py:1135: UndefinedMetricWarning: F-score is ill-defined and being set to 0.0 in labels with no predicted samples.\n",
      "  'precision', 'predicted', average, warn_for)\n",
      "/usr/local/lib/python3.5/dist-packages/sklearn/neural_network/multilayer_perceptron.py:564: ConvergenceWarning: Stochastic Optimizer: Maximum iterations (200) reached and the optimization hasn't converged yet.\n",
      "  % self.max_iter, ConvergenceWarning)\n"
     ]
    },
    {
     "name": "stdout",
     "output_type": "stream",
     "text": [
      "Took: 138.04510498046875\n",
      "--------------------------------------------------\n",
      "En: 200\tTr: 380\n",
      "Using first variation (Regressor and Classifier with score vectors)\n",
      "epoch 0:\t19.718750002491614\n",
      "epoch 10:\t19.51467549325154\n",
      "epoch 20:\t19.430931097605736\n",
      "epoch 30:\t19.351412388699668\n",
      "epoch 40:\t19.27432447767806\n",
      "epoch 50:\t19.191788463211306\n",
      "Using second variation (average of outputs produced by each set of weight matrices)\n",
      "Epoch 0: 0.17000529388851118\n",
      "Epoch 25: 0.0005164510098367714\n",
      "Epoch 50: 0.0002602353640205465\n",
      "Epoch 75: 0.00017603050396248994\n",
      "Epoch 100: 0.00013365856878147335\n",
      "Epoch 125: 0.00010802263668604292\n",
      "Epoch 150: 9.079909698793496e-05\n",
      "W1 size 334\n",
      "W2 size 6\n",
      "W3 size 3\n"
     ]
    },
    {
     "name": "stderr",
     "output_type": "stream",
     "text": [
      "/usr/local/lib/python3.5/dist-packages/sklearn/metrics/classification.py:1137: UndefinedMetricWarning: F-score is ill-defined and being set to 0.0 in labels with no true samples.\n",
      "  'recall', 'true', average, warn_for)\n"
     ]
    },
    {
     "name": "stdout",
     "output_type": "stream",
     "text": [
      "Using well-known algorithms: Logistic Regression, RandomForest and MLP\n"
     ]
    },
    {
     "name": "stderr",
     "output_type": "stream",
     "text": [
      "/usr/local/lib/python3.5/dist-packages/sklearn/metrics/classification.py:1135: UndefinedMetricWarning: F-score is ill-defined and being set to 0.0 in labels with no predicted samples.\n",
      "  'precision', 'predicted', average, warn_for)\n",
      "/usr/local/lib/python3.5/dist-packages/sklearn/neural_network/multilayer_perceptron.py:564: ConvergenceWarning: Stochastic Optimizer: Maximum iterations (200) reached and the optimization hasn't converged yet.\n",
      "  % self.max_iter, ConvergenceWarning)\n"
     ]
    },
    {
     "name": "stdout",
     "output_type": "stream",
     "text": [
      "Took: 145.85715293884277\n",
      "--------------------------------------------------\n",
      "En: 200\tTr: 422\n",
      "Using first variation (Regressor and Classifier with score vectors)\n",
      "epoch 0:\t23.50933509671361\n",
      "epoch 10:\t23.169194731609\n",
      "epoch 20:\t23.02576097227303\n",
      "epoch 30:\t22.79422534602503\n",
      "epoch 40:\t22.529575674331586\n",
      "epoch 50:\t22.25761624965264\n",
      "Using second variation (average of outputs produced by each set of weight matrices)\n",
      "Epoch 0: 1.2965729596032611\n",
      "Epoch 25: 0.0005600918076912945\n",
      "Epoch 50: 0.00028484369534631553\n",
      "Epoch 75: 0.00019485302921868876\n",
      "Epoch 100: 0.00014949592727560182\n",
      "Epoch 125: 0.00012192963728540316\n",
      "Epoch 150: 0.00010329616389764264\n",
      "W1 size 349\n",
      "W2 size 6\n",
      "W3 size 3\n"
     ]
    },
    {
     "name": "stderr",
     "output_type": "stream",
     "text": [
      "/usr/local/lib/python3.5/dist-packages/sklearn/metrics/classification.py:1137: UndefinedMetricWarning: F-score is ill-defined and being set to 0.0 in labels with no true samples.\n",
      "  'recall', 'true', average, warn_for)\n"
     ]
    },
    {
     "name": "stdout",
     "output_type": "stream",
     "text": [
      "Using well-known algorithms: Logistic Regression, RandomForest and MLP\n"
     ]
    },
    {
     "name": "stderr",
     "output_type": "stream",
     "text": [
      "/usr/local/lib/python3.5/dist-packages/sklearn/metrics/classification.py:1135: UndefinedMetricWarning: F-score is ill-defined and being set to 0.0 in labels with no predicted samples.\n",
      "  'precision', 'predicted', average, warn_for)\n"
     ]
    },
    {
     "name": "stdout",
     "output_type": "stream",
     "text": [
      "Took: 150.77620100975037\n",
      "--------------------------------------------------\n",
      "En: 250\tTr: 42\n",
      "Using first variation (Regressor and Classifier with score vectors)\n",
      "epoch 0:\t18.76161369275724\n",
      "epoch 10:\t18.60733058044269\n",
      "epoch 20:\t18.27193823951324\n",
      "epoch 30:\t17.967016849549115\n",
      "epoch 40:\t17.62030306836748\n",
      "epoch 50:\t17.291930909704444\n",
      "Using second variation (average of outputs produced by each set of weight matrices)\n",
      "Epoch 0: 0.5621738923059576\n",
      "Epoch 25: 0.0009548921222805603\n",
      "Epoch 50: 0.0004867565448514036\n",
      "Epoch 75: 0.00033086280171100457\n",
      "Epoch 100: 0.0002519711302594425\n",
      "Epoch 125: 0.00020410244305319586\n",
      "Epoch 150: 0.00017186680136232197\n",
      "W1 size 219\n",
      "W2 size 6\n",
      "W3 size 3\n"
     ]
    },
    {
     "name": "stderr",
     "output_type": "stream",
     "text": [
      "/usr/local/lib/python3.5/dist-packages/sklearn/metrics/classification.py:1137: UndefinedMetricWarning: F-score is ill-defined and being set to 0.0 in labels with no true samples.\n",
      "  'recall', 'true', average, warn_for)\n"
     ]
    },
    {
     "name": "stdout",
     "output_type": "stream",
     "text": [
      "Using well-known algorithms: Logistic Regression, RandomForest and MLP\n"
     ]
    },
    {
     "name": "stderr",
     "output_type": "stream",
     "text": [
      "/usr/local/lib/python3.5/dist-packages/sklearn/metrics/classification.py:1135: UndefinedMetricWarning: F-score is ill-defined and being set to 0.0 in labels with no predicted samples.\n",
      "  'precision', 'predicted', average, warn_for)\n",
      "/usr/local/lib/python3.5/dist-packages/sklearn/neural_network/multilayer_perceptron.py:564: ConvergenceWarning: Stochastic Optimizer: Maximum iterations (200) reached and the optimization hasn't converged yet.\n",
      "  % self.max_iter, ConvergenceWarning)\n"
     ]
    },
    {
     "name": "stdout",
     "output_type": "stream",
     "text": [
      "Took: 76.89518237113953\n",
      "--------------------------------------------------\n",
      "En: 250\tTr: 84\n",
      "Using first variation (Regressor and Classifier with score vectors)\n",
      "epoch 0:\t20.241904287695366\n",
      "epoch 10:\t20.335481076978848\n",
      "epoch 20:\t20.235929239005312\n",
      "epoch 30:\t20.15648669290262\n",
      "epoch 40:\t20.08924159774909\n",
      "epoch 50:\t20.03109525338289\n",
      "Using second variation (average of outputs produced by each set of weight matrices)\n",
      "Epoch 0: 0.4421134830056158\n",
      "Epoch 25: 0.0009056810699156742\n",
      "Epoch 50: 0.0004815453209281956\n",
      "Epoch 75: 0.0003329812750875309\n",
      "Epoch 100: 0.0002561088794910366\n",
      "Epoch 125: 0.0002088035436023108\n",
      "Epoch 150: 0.00017663527670544747\n",
      "W1 size 250\n",
      "W2 size 6\n",
      "W3 size 3\n"
     ]
    },
    {
     "name": "stderr",
     "output_type": "stream",
     "text": [
      "/usr/local/lib/python3.5/dist-packages/sklearn/metrics/classification.py:1137: UndefinedMetricWarning: F-score is ill-defined and being set to 0.0 in labels with no true samples.\n",
      "  'recall', 'true', average, warn_for)\n"
     ]
    },
    {
     "name": "stdout",
     "output_type": "stream",
     "text": [
      "Using well-known algorithms: Logistic Regression, RandomForest and MLP\n"
     ]
    },
    {
     "name": "stderr",
     "output_type": "stream",
     "text": [
      "/usr/local/lib/python3.5/dist-packages/sklearn/metrics/classification.py:1135: UndefinedMetricWarning: F-score is ill-defined and being set to 0.0 in labels with no predicted samples.\n",
      "  'precision', 'predicted', average, warn_for)\n",
      "/usr/local/lib/python3.5/dist-packages/sklearn/neural_network/multilayer_perceptron.py:564: ConvergenceWarning: Stochastic Optimizer: Maximum iterations (200) reached and the optimization hasn't converged yet.\n",
      "  % self.max_iter, ConvergenceWarning)\n"
     ]
    },
    {
     "name": "stdout",
     "output_type": "stream",
     "text": [
      "Took: 86.89519715309143\n",
      "--------------------------------------------------\n",
      "En: 250\tTr: 127\n",
      "Using first variation (Regressor and Classifier with score vectors)\n",
      "epoch 0:\t21.634916045149883\n",
      "epoch 10:\t21.4198455404226\n",
      "epoch 20:\t20.919755952976377\n",
      "epoch 30:\t20.182952105911568\n",
      "epoch 40:\t19.552063298642334\n",
      "epoch 50:\t19.037324619526988\n",
      "Using second variation (average of outputs produced by each set of weight matrices)\n",
      "Epoch 0: 0.05176894827065357\n",
      "Epoch 25: 0.0004949164715451786\n",
      "Epoch 50: 0.0002599318227395698\n",
      "Epoch 75: 0.00017855124478162893\n",
      "Epoch 100: 0.0001368292697550329\n",
      "Epoch 125: 0.00011131022482455158\n",
      "Epoch 150: 9.403344816115231e-05\n",
      "W1 size 263\n",
      "W2 size 6\n",
      "W3 size 3\n"
     ]
    },
    {
     "name": "stderr",
     "output_type": "stream",
     "text": [
      "/usr/local/lib/python3.5/dist-packages/sklearn/metrics/classification.py:1137: UndefinedMetricWarning: F-score is ill-defined and being set to 0.0 in labels with no true samples.\n",
      "  'recall', 'true', average, warn_for)\n"
     ]
    },
    {
     "name": "stdout",
     "output_type": "stream",
     "text": [
      "Using well-known algorithms: Logistic Regression, RandomForest and MLP\n"
     ]
    },
    {
     "name": "stderr",
     "output_type": "stream",
     "text": [
      "/usr/local/lib/python3.5/dist-packages/sklearn/metrics/classification.py:1135: UndefinedMetricWarning: F-score is ill-defined and being set to 0.0 in labels with no predicted samples.\n",
      "  'precision', 'predicted', average, warn_for)\n",
      "/usr/local/lib/python3.5/dist-packages/sklearn/neural_network/multilayer_perceptron.py:564: ConvergenceWarning: Stochastic Optimizer: Maximum iterations (200) reached and the optimization hasn't converged yet.\n",
      "  % self.max_iter, ConvergenceWarning)\n"
     ]
    },
    {
     "name": "stdout",
     "output_type": "stream",
     "text": [
      "Took: 97.18978261947632\n",
      "--------------------------------------------------\n",
      "En: 250\tTr: 169\n",
      "Using first variation (Regressor and Classifier with score vectors)\n",
      "epoch 0:\t18.056519057210323\n",
      "epoch 10:\t17.69811405603266\n",
      "epoch 20:\t17.582659332015307\n",
      "epoch 30:\t17.50739047500743\n",
      "epoch 40:\t17.44587154180007\n",
      "epoch 50:\t17.37961629115512\n",
      "Using second variation (average of outputs produced by each set of weight matrices)\n",
      "Epoch 0: 0.8382981642390537\n",
      "Epoch 25: 0.0010994173162177736\n",
      "Epoch 50: 0.0005436524716306607\n",
      "Epoch 75: 0.00036616891949162633\n",
      "Epoch 100: 0.0002776046529318723\n",
      "Epoch 125: 0.0002242317871426328\n",
      "Epoch 150: 0.00018843691343157316\n",
      "W1 size 293\n",
      "W2 size 6\n",
      "W3 size 3\n"
     ]
    },
    {
     "name": "stderr",
     "output_type": "stream",
     "text": [
      "/usr/local/lib/python3.5/dist-packages/sklearn/metrics/classification.py:1137: UndefinedMetricWarning: F-score is ill-defined and being set to 0.0 in labels with no true samples.\n",
      "  'recall', 'true', average, warn_for)\n"
     ]
    },
    {
     "name": "stdout",
     "output_type": "stream",
     "text": [
      "Using well-known algorithms: Logistic Regression, RandomForest and MLP\n"
     ]
    },
    {
     "name": "stderr",
     "output_type": "stream",
     "text": [
      "/usr/local/lib/python3.5/dist-packages/sklearn/metrics/classification.py:1135: UndefinedMetricWarning: F-score is ill-defined and being set to 0.0 in labels with no predicted samples.\n",
      "  'precision', 'predicted', average, warn_for)\n"
     ]
    },
    {
     "name": "stdout",
     "output_type": "stream",
     "text": [
      "Took: 103.29119634628296\n",
      "--------------------------------------------------\n",
      "En: 250\tTr: 211\n",
      "Using first variation (Regressor and Classifier with score vectors)\n",
      "epoch 0:\t19.459292058055087\n",
      "epoch 10:\t19.4164924048173\n",
      "epoch 20:\t19.344461228315254\n",
      "epoch 30:\t19.24631534499196\n",
      "epoch 40:\t19.153811598198335\n",
      "epoch 50:\t19.057945807348087\n",
      "Using second variation (average of outputs produced by each set of weight matrices)\n",
      "Epoch 0: 1.1863287247764212\n",
      "Epoch 25: 0.0012950964005788758\n",
      "Epoch 50: 0.0006008932331126501\n",
      "Epoch 75: 0.0003999323529293278\n",
      "Epoch 100: 0.00030241483873441654\n",
      "Epoch 125: 0.0002443347606352474\n",
      "Epoch 150: 0.000205617343982715\n",
      "W1 size 314\n",
      "W2 size 6\n",
      "W3 size 3\n"
     ]
    },
    {
     "name": "stderr",
     "output_type": "stream",
     "text": [
      "/usr/local/lib/python3.5/dist-packages/sklearn/metrics/classification.py:1137: UndefinedMetricWarning: F-score is ill-defined and being set to 0.0 in labels with no true samples.\n",
      "  'recall', 'true', average, warn_for)\n"
     ]
    },
    {
     "name": "stdout",
     "output_type": "stream",
     "text": [
      "Using well-known algorithms: Logistic Regression, RandomForest and MLP\n"
     ]
    },
    {
     "name": "stderr",
     "output_type": "stream",
     "text": [
      "/usr/local/lib/python3.5/dist-packages/sklearn/metrics/classification.py:1135: UndefinedMetricWarning: F-score is ill-defined and being set to 0.0 in labels with no predicted samples.\n",
      "  'precision', 'predicted', average, warn_for)\n",
      "/usr/local/lib/python3.5/dist-packages/sklearn/neural_network/multilayer_perceptron.py:564: ConvergenceWarning: Stochastic Optimizer: Maximum iterations (200) reached and the optimization hasn't converged yet.\n",
      "  % self.max_iter, ConvergenceWarning)\n"
     ]
    },
    {
     "name": "stdout",
     "output_type": "stream",
     "text": [
      "Took: 115.47539687156677\n",
      "--------------------------------------------------\n",
      "En: 250\tTr: 253\n",
      "Using first variation (Regressor and Classifier with score vectors)\n",
      "epoch 0:\t22.817188832422705\n",
      "epoch 10:\t22.096630228655567\n",
      "epoch 20:\t21.82543691225138\n",
      "epoch 30:\t21.537293385977524\n",
      "epoch 40:\t21.26705352677315\n",
      "epoch 50:\t21.02504264507215\n",
      "Using second variation (average of outputs produced by each set of weight matrices)\n",
      "Epoch 0: 0.8570345997607536\n",
      "Epoch 25: 0.0006359121753027347\n",
      "Epoch 50: 0.000335038481462953\n",
      "Epoch 75: 0.00023115773198144118\n",
      "Epoch 100: 0.00017777086599905974\n",
      "Epoch 125: 0.0001450340726071315\n",
      "Epoch 150: 0.000122808089544031\n",
      "W1 size 330\n",
      "W2 size 5\n",
      "W3 size 3\n"
     ]
    },
    {
     "name": "stderr",
     "output_type": "stream",
     "text": [
      "/usr/local/lib/python3.5/dist-packages/sklearn/metrics/classification.py:1137: UndefinedMetricWarning: F-score is ill-defined and being set to 0.0 in labels with no true samples.\n",
      "  'recall', 'true', average, warn_for)\n"
     ]
    },
    {
     "name": "stdout",
     "output_type": "stream",
     "text": [
      "Using well-known algorithms: Logistic Regression, RandomForest and MLP\n"
     ]
    },
    {
     "name": "stderr",
     "output_type": "stream",
     "text": [
      "/usr/local/lib/python3.5/dist-packages/sklearn/metrics/classification.py:1135: UndefinedMetricWarning: F-score is ill-defined and being set to 0.0 in labels with no predicted samples.\n",
      "  'precision', 'predicted', average, warn_for)\n",
      "/usr/local/lib/python3.5/dist-packages/sklearn/neural_network/multilayer_perceptron.py:564: ConvergenceWarning: Stochastic Optimizer: Maximum iterations (200) reached and the optimization hasn't converged yet.\n",
      "  % self.max_iter, ConvergenceWarning)\n"
     ]
    },
    {
     "name": "stdout",
     "output_type": "stream",
     "text": [
      "Took: 131.5593388080597\n",
      "--------------------------------------------------\n",
      "En: 250\tTr: 295\n",
      "Using first variation (Regressor and Classifier with score vectors)\n",
      "epoch 0:\t20.59215106706966\n",
      "epoch 10:\t20.16683221476329\n",
      "epoch 20:\t19.51156972887055\n",
      "epoch 30:\t18.960606354579284\n",
      "epoch 40:\t18.434136205077966\n",
      "epoch 50:\t17.971830273682542\n",
      "Using second variation (average of outputs produced by each set of weight matrices)\n",
      "Epoch 0: 0.8012551665776659\n",
      "Epoch 25: 0.0006820325096361803\n",
      "Epoch 50: 0.00036046058061985265\n",
      "Epoch 75: 0.000248578116381386\n",
      "Epoch 100: 0.00019088432262418407\n",
      "Epoch 125: 0.00015544887216968105\n",
      "Epoch 150: 0.00013139343713347847\n",
      "W1 size 329\n",
      "W2 size 6\n",
      "W3 size 3\n"
     ]
    },
    {
     "name": "stderr",
     "output_type": "stream",
     "text": [
      "/usr/local/lib/python3.5/dist-packages/sklearn/metrics/classification.py:1137: UndefinedMetricWarning: F-score is ill-defined and being set to 0.0 in labels with no true samples.\n",
      "  'recall', 'true', average, warn_for)\n"
     ]
    },
    {
     "name": "stdout",
     "output_type": "stream",
     "text": [
      "Using well-known algorithms: Logistic Regression, RandomForest and MLP\n"
     ]
    },
    {
     "name": "stderr",
     "output_type": "stream",
     "text": [
      "/usr/local/lib/python3.5/dist-packages/sklearn/metrics/classification.py:1135: UndefinedMetricWarning: F-score is ill-defined and being set to 0.0 in labels with no predicted samples.\n",
      "  'precision', 'predicted', average, warn_for)\n",
      "/usr/local/lib/python3.5/dist-packages/sklearn/neural_network/multilayer_perceptron.py:564: ConvergenceWarning: Stochastic Optimizer: Maximum iterations (200) reached and the optimization hasn't converged yet.\n",
      "  % self.max_iter, ConvergenceWarning)\n"
     ]
    },
    {
     "name": "stdout",
     "output_type": "stream",
     "text": [
      "Took: 145.61782479286194\n",
      "--------------------------------------------------\n",
      "En: 250\tTr: 338\n",
      "Using first variation (Regressor and Classifier with score vectors)\n",
      "epoch 0:\t22.0577967927899\n",
      "epoch 10:\t21.744982830565586\n",
      "epoch 20:\t21.144023274542388\n",
      "epoch 30:\t20.502018918447693\n",
      "epoch 40:\t19.953865196050284\n",
      "epoch 50:\t19.482230395866015\n",
      "Using second variation (average of outputs produced by each set of weight matrices)\n",
      "Epoch 0: 0.07430646803352313\n",
      "Epoch 25: 0.00027326880745206855\n",
      "Epoch 50: 0.00014385403066054738\n",
      "Epoch 75: 9.836365321032411e-05\n",
      "Epoch 100: 7.50190229493477e-05\n",
      "Epoch 125: 6.0774113520967784e-05\n",
      "Epoch 150: 5.11623819527509e-05\n",
      "W1 size 354\n",
      "W2 size 6\n",
      "W3 size 3\n"
     ]
    },
    {
     "name": "stderr",
     "output_type": "stream",
     "text": [
      "/usr/local/lib/python3.5/dist-packages/sklearn/metrics/classification.py:1137: UndefinedMetricWarning: F-score is ill-defined and being set to 0.0 in labels with no true samples.\n",
      "  'recall', 'true', average, warn_for)\n"
     ]
    },
    {
     "name": "stdout",
     "output_type": "stream",
     "text": [
      "Using well-known algorithms: Logistic Regression, RandomForest and MLP\n"
     ]
    },
    {
     "name": "stderr",
     "output_type": "stream",
     "text": [
      "/usr/local/lib/python3.5/dist-packages/sklearn/metrics/classification.py:1135: UndefinedMetricWarning: F-score is ill-defined and being set to 0.0 in labels with no predicted samples.\n",
      "  'precision', 'predicted', average, warn_for)\n",
      "/usr/local/lib/python3.5/dist-packages/sklearn/neural_network/multilayer_perceptron.py:564: ConvergenceWarning: Stochastic Optimizer: Maximum iterations (200) reached and the optimization hasn't converged yet.\n",
      "  % self.max_iter, ConvergenceWarning)\n"
     ]
    },
    {
     "name": "stdout",
     "output_type": "stream",
     "text": [
      "Took: 151.3849756717682\n",
      "--------------------------------------------------\n",
      "En: 250\tTr: 380\n",
      "Using first variation (Regressor and Classifier with score vectors)\n",
      "epoch 0:\t22.729908293319614\n",
      "epoch 10:\t22.20607259833763\n",
      "epoch 20:\t21.802621425752392\n",
      "epoch 30:\t21.502366052157868\n",
      "epoch 40:\t21.2559952892662\n",
      "epoch 50:\t21.02240251804822\n",
      "Using second variation (average of outputs produced by each set of weight matrices)\n",
      "Epoch 0: 0.907262552208508\n",
      "Epoch 25: 0.0007774094160097889\n",
      "Epoch 50: 0.0003697081180075341\n",
      "Epoch 75: 0.00024418986686448933\n",
      "Epoch 100: 0.000182846168843862\n",
      "Epoch 125: 0.00014639128704758487\n",
      "Epoch 150: 0.0001221975565981449\n",
      "W1 size 367\n",
      "W2 size 6\n",
      "W3 size 3\n"
     ]
    },
    {
     "name": "stderr",
     "output_type": "stream",
     "text": [
      "/usr/local/lib/python3.5/dist-packages/sklearn/metrics/classification.py:1137: UndefinedMetricWarning: F-score is ill-defined and being set to 0.0 in labels with no true samples.\n",
      "  'recall', 'true', average, warn_for)\n"
     ]
    },
    {
     "name": "stdout",
     "output_type": "stream",
     "text": [
      "Using well-known algorithms: Logistic Regression, RandomForest and MLP\n"
     ]
    },
    {
     "name": "stderr",
     "output_type": "stream",
     "text": [
      "/usr/local/lib/python3.5/dist-packages/sklearn/metrics/classification.py:1135: UndefinedMetricWarning: F-score is ill-defined and being set to 0.0 in labels with no predicted samples.\n",
      "  'precision', 'predicted', average, warn_for)\n"
     ]
    },
    {
     "name": "stdout",
     "output_type": "stream",
     "text": [
      "Took: 153.8397777080536\n",
      "--------------------------------------------------\n",
      "En: 250\tTr: 422\n",
      "Using first variation (Regressor and Classifier with score vectors)\n",
      "epoch 0:\t21.589021754237052\n",
      "epoch 10:\t21.26883351441728\n",
      "epoch 20:\t20.853999891595564\n",
      "epoch 30:\t20.607296577593193\n",
      "epoch 40:\t20.459559176466012\n",
      "epoch 50:\t20.35777500078633\n",
      "Using second variation (average of outputs produced by each set of weight matrices)\n",
      "Epoch 0: 0.1570754329681626\n",
      "Epoch 25: 0.0004277915388251169\n",
      "Epoch 50: 0.00022733491865556927\n",
      "Epoch 75: 0.00015740297246026272\n",
      "Epoch 100: 0.00012124089562494587\n",
      "Epoch 125: 9.898150627646054e-05\n",
      "Epoch 150: 8.383815052884611e-05\n",
      "W1 size 377\n",
      "W2 size 6\n",
      "W3 size 3\n"
     ]
    },
    {
     "name": "stderr",
     "output_type": "stream",
     "text": [
      "/usr/local/lib/python3.5/dist-packages/sklearn/metrics/classification.py:1137: UndefinedMetricWarning: F-score is ill-defined and being set to 0.0 in labels with no true samples.\n",
      "  'recall', 'true', average, warn_for)\n"
     ]
    },
    {
     "name": "stdout",
     "output_type": "stream",
     "text": [
      "Using well-known algorithms: Logistic Regression, RandomForest and MLP\n"
     ]
    },
    {
     "name": "stderr",
     "output_type": "stream",
     "text": [
      "/usr/local/lib/python3.5/dist-packages/sklearn/metrics/classification.py:1135: UndefinedMetricWarning: F-score is ill-defined and being set to 0.0 in labels with no predicted samples.\n",
      "  'precision', 'predicted', average, warn_for)\n"
     ]
    },
    {
     "name": "stdout",
     "output_type": "stream",
     "text": [
      "Took: 168.9225537776947\n",
      "--------------------------------------------------\n",
      "En: 300\tTr: 42\n",
      "Using first variation (Regressor and Classifier with score vectors)\n",
      "epoch 0:\t16.81345113428802\n",
      "epoch 10:\t16.39492755320831\n",
      "epoch 20:\t16.333301253126837\n",
      "epoch 30:\t16.25748480049025\n",
      "epoch 40:\t16.188238398655923\n",
      "epoch 50:\t16.12460529500709\n",
      "Using second variation (average of outputs produced by each set of weight matrices)\n",
      "Epoch 0: 0.2564085147157079\n",
      "Epoch 25: 0.0006947422370291743\n",
      "Epoch 50: 0.000364985763628831\n",
      "Epoch 75: 0.00025017647484632726\n",
      "Epoch 100: 0.00019125518672892308\n",
      "Epoch 125: 0.00015525154030319224\n",
      "Epoch 150: 0.00013089769235469912\n",
      "W1 size 241\n",
      "W2 size 6\n",
      "W3 size 3\n"
     ]
    },
    {
     "name": "stderr",
     "output_type": "stream",
     "text": [
      "/usr/local/lib/python3.5/dist-packages/sklearn/metrics/classification.py:1137: UndefinedMetricWarning: F-score is ill-defined and being set to 0.0 in labels with no true samples.\n",
      "  'recall', 'true', average, warn_for)\n"
     ]
    },
    {
     "name": "stdout",
     "output_type": "stream",
     "text": [
      "Using well-known algorithms: Logistic Regression, RandomForest and MLP\n"
     ]
    },
    {
     "name": "stderr",
     "output_type": "stream",
     "text": [
      "/usr/local/lib/python3.5/dist-packages/sklearn/metrics/classification.py:1135: UndefinedMetricWarning: F-score is ill-defined and being set to 0.0 in labels with no predicted samples.\n",
      "  'precision', 'predicted', average, warn_for)\n",
      "/usr/local/lib/python3.5/dist-packages/sklearn/neural_network/multilayer_perceptron.py:564: ConvergenceWarning: Stochastic Optimizer: Maximum iterations (200) reached and the optimization hasn't converged yet.\n",
      "  % self.max_iter, ConvergenceWarning)\n"
     ]
    },
    {
     "name": "stdout",
     "output_type": "stream",
     "text": [
      "Took: 91.14165711402893\n",
      "--------------------------------------------------\n",
      "En: 300\tTr: 84\n",
      "Using first variation (Regressor and Classifier with score vectors)\n",
      "epoch 0:\t19.374349337043782\n",
      "epoch 10:\t19.501529280692484\n",
      "epoch 20:\t19.907578469797027\n",
      "epoch 30:\t19.775745319362347\n",
      "epoch 40:\t19.606758286540597\n",
      "epoch 50:\t19.491179763226828\n",
      "Using second variation (average of outputs produced by each set of weight matrices)\n",
      "Epoch 0: 0.5911666922579192\n",
      "Epoch 25: 0.0007012404151922613\n",
      "Epoch 50: 0.0003560009662400739\n",
      "Epoch 75: 0.00024031797504187047\n",
      "Epoch 100: 0.0001819530355631945\n",
      "Epoch 125: 0.0001466615766524404\n",
      "Epoch 150: 0.00012298348402906\n",
      "W1 size 285\n",
      "W2 size 5\n",
      "W3 size 3\n"
     ]
    },
    {
     "name": "stderr",
     "output_type": "stream",
     "text": [
      "/usr/local/lib/python3.5/dist-packages/sklearn/metrics/classification.py:1137: UndefinedMetricWarning: F-score is ill-defined and being set to 0.0 in labels with no true samples.\n",
      "  'recall', 'true', average, warn_for)\n"
     ]
    },
    {
     "name": "stdout",
     "output_type": "stream",
     "text": [
      "Using well-known algorithms: Logistic Regression, RandomForest and MLP\n"
     ]
    },
    {
     "name": "stderr",
     "output_type": "stream",
     "text": [
      "/usr/local/lib/python3.5/dist-packages/sklearn/metrics/classification.py:1135: UndefinedMetricWarning: F-score is ill-defined and being set to 0.0 in labels with no predicted samples.\n",
      "  'precision', 'predicted', average, warn_for)\n",
      "/usr/local/lib/python3.5/dist-packages/sklearn/neural_network/multilayer_perceptron.py:564: ConvergenceWarning: Stochastic Optimizer: Maximum iterations (200) reached and the optimization hasn't converged yet.\n",
      "  % self.max_iter, ConvergenceWarning)\n"
     ]
    },
    {
     "name": "stdout",
     "output_type": "stream",
     "text": [
      "Took: 106.13760256767273\n",
      "--------------------------------------------------\n",
      "En: 300\tTr: 127\n",
      "Using first variation (Regressor and Classifier with score vectors)\n",
      "epoch 0:\t19.439011158274955\n",
      "epoch 10:\t19.06068283936658\n",
      "epoch 20:\t18.922439934215568\n",
      "epoch 30:\t18.826611282315127\n",
      "epoch 40:\t18.737771900265546\n",
      "epoch 50:\t18.649159106185238\n",
      "Using second variation (average of outputs produced by each set of weight matrices)\n",
      "Epoch 0: 0.15933410557123917\n",
      "Epoch 25: 0.0005627087548342573\n",
      "Epoch 50: 0.00029839936041640237\n",
      "Epoch 75: 0.00020761200074535344\n",
      "Epoch 100: 0.00016077907414168815\n",
      "Epoch 125: 0.0001318990007908922\n",
      "Epoch 150: 0.00011219846864397439\n",
      "W1 size 301\n",
      "W2 size 6\n",
      "W3 size 3\n"
     ]
    },
    {
     "name": "stderr",
     "output_type": "stream",
     "text": [
      "/usr/local/lib/python3.5/dist-packages/sklearn/metrics/classification.py:1137: UndefinedMetricWarning: F-score is ill-defined and being set to 0.0 in labels with no true samples.\n",
      "  'recall', 'true', average, warn_for)\n"
     ]
    },
    {
     "name": "stdout",
     "output_type": "stream",
     "text": [
      "Using well-known algorithms: Logistic Regression, RandomForest and MLP\n"
     ]
    },
    {
     "name": "stderr",
     "output_type": "stream",
     "text": [
      "/usr/local/lib/python3.5/dist-packages/sklearn/metrics/classification.py:1135: UndefinedMetricWarning: F-score is ill-defined and being set to 0.0 in labels with no predicted samples.\n",
      "  'precision', 'predicted', average, warn_for)\n"
     ]
    },
    {
     "name": "stdout",
     "output_type": "stream",
     "text": [
      "Took: 108.47608399391174\n",
      "--------------------------------------------------\n",
      "En: 300\tTr: 169\n",
      "Using first variation (Regressor and Classifier with score vectors)\n",
      "epoch 0:\t20.707492265953217\n",
      "epoch 10:\t20.46309447427865\n",
      "epoch 20:\t19.985570142042885\n",
      "epoch 30:\t19.613226444657215\n",
      "epoch 40:\t19.276537173412457\n",
      "epoch 50:\t18.981036289336405\n",
      "Using second variation (average of outputs produced by each set of weight matrices)\n",
      "Epoch 0: 0.1718205070398827\n",
      "Epoch 25: 0.00048711386037010487\n",
      "Epoch 50: 0.0002615741324779883\n",
      "Epoch 75: 0.00018311189676339663\n",
      "Epoch 100: 0.00014233945808033815\n",
      "Epoch 125: 0.00011704151905796034\n",
      "Epoch 150: 9.96798162330365e-05\n",
      "W1 size 317\n",
      "W2 size 6\n",
      "W3 size 3\n"
     ]
    },
    {
     "name": "stderr",
     "output_type": "stream",
     "text": [
      "/usr/local/lib/python3.5/dist-packages/sklearn/metrics/classification.py:1137: UndefinedMetricWarning: F-score is ill-defined and being set to 0.0 in labels with no true samples.\n",
      "  'recall', 'true', average, warn_for)\n"
     ]
    },
    {
     "name": "stdout",
     "output_type": "stream",
     "text": [
      "Using well-known algorithms: Logistic Regression, RandomForest and MLP\n"
     ]
    },
    {
     "name": "stderr",
     "output_type": "stream",
     "text": [
      "/usr/local/lib/python3.5/dist-packages/sklearn/metrics/classification.py:1135: UndefinedMetricWarning: F-score is ill-defined and being set to 0.0 in labels with no predicted samples.\n",
      "  'precision', 'predicted', average, warn_for)\n",
      "/usr/local/lib/python3.5/dist-packages/sklearn/neural_network/multilayer_perceptron.py:564: ConvergenceWarning: Stochastic Optimizer: Maximum iterations (200) reached and the optimization hasn't converged yet.\n",
      "  % self.max_iter, ConvergenceWarning)\n"
     ]
    },
    {
     "name": "stdout",
     "output_type": "stream",
     "text": [
      "Took: 119.47952556610107\n",
      "--------------------------------------------------\n",
      "En: 300\tTr: 211\n",
      "Using first variation (Regressor and Classifier with score vectors)\n",
      "epoch 0:\t19.20423842466469\n",
      "epoch 10:\t19.146628743875553\n",
      "epoch 20:\t18.983249715940122\n",
      "epoch 30:\t18.822964266235648\n",
      "epoch 40:\t18.680764164996344\n",
      "epoch 50:\t18.550244116852202\n",
      "Using second variation (average of outputs produced by each set of weight matrices)\n",
      "Epoch 0: 0.15627704056901326\n",
      "Epoch 25: 0.0005898221811505759\n",
      "Epoch 50: 0.00029661060080834095\n",
      "Epoch 75: 0.00020114636707758006\n",
      "Epoch 100: 0.0001531230880800983\n",
      "Epoch 125: 0.00012404409561286666\n",
      "Epoch 150: 0.00010447217255549875\n",
      "W1 size 334\n",
      "W2 size 6\n",
      "W3 size 3\n"
     ]
    },
    {
     "name": "stderr",
     "output_type": "stream",
     "text": [
      "/usr/local/lib/python3.5/dist-packages/sklearn/metrics/classification.py:1137: UndefinedMetricWarning: F-score is ill-defined and being set to 0.0 in labels with no true samples.\n",
      "  'recall', 'true', average, warn_for)\n"
     ]
    },
    {
     "name": "stdout",
     "output_type": "stream",
     "text": [
      "Using well-known algorithms: Logistic Regression, RandomForest and MLP\n"
     ]
    },
    {
     "name": "stderr",
     "output_type": "stream",
     "text": [
      "/usr/local/lib/python3.5/dist-packages/sklearn/metrics/classification.py:1135: UndefinedMetricWarning: F-score is ill-defined and being set to 0.0 in labels with no predicted samples.\n",
      "  'precision', 'predicted', average, warn_for)\n",
      "/usr/local/lib/python3.5/dist-packages/sklearn/neural_network/multilayer_perceptron.py:564: ConvergenceWarning: Stochastic Optimizer: Maximum iterations (200) reached and the optimization hasn't converged yet.\n",
      "  % self.max_iter, ConvergenceWarning)\n"
     ]
    },
    {
     "name": "stdout",
     "output_type": "stream",
     "text": [
      "Took: 132.0122365951538\n",
      "--------------------------------------------------\n",
      "En: 300\tTr: 253\n",
      "Using first variation (Regressor and Classifier with score vectors)\n",
      "epoch 0:\t22.984961939846027\n",
      "epoch 10:\t22.293216476208716\n",
      "epoch 20:\t21.689477516100453\n",
      "epoch 30:\t21.26509351607179\n",
      "epoch 40:\t20.788629135508845\n",
      "epoch 50:\t20.405703175331926\n",
      "Using second variation (average of outputs produced by each set of weight matrices)\n",
      "Epoch 0: 0.18761238256127868\n",
      "Epoch 25: 0.0004634279216942367\n",
      "Epoch 50: 0.0002412192855967309\n",
      "Epoch 75: 0.00016640750170587369\n",
      "Epoch 100: 0.00012821071370247637\n",
      "Epoch 125: 0.00010484837270285809\n",
      "Epoch 150: 8.901325018263737e-05\n",
      "W1 size 345\n",
      "W2 size 6\n",
      "W3 size 3\n"
     ]
    },
    {
     "name": "stderr",
     "output_type": "stream",
     "text": [
      "/usr/local/lib/python3.5/dist-packages/sklearn/metrics/classification.py:1137: UndefinedMetricWarning: F-score is ill-defined and being set to 0.0 in labels with no true samples.\n",
      "  'recall', 'true', average, warn_for)\n"
     ]
    },
    {
     "name": "stdout",
     "output_type": "stream",
     "text": [
      "Using well-known algorithms: Logistic Regression, RandomForest and MLP\n"
     ]
    },
    {
     "name": "stderr",
     "output_type": "stream",
     "text": [
      "/usr/local/lib/python3.5/dist-packages/sklearn/metrics/classification.py:1135: UndefinedMetricWarning: F-score is ill-defined and being set to 0.0 in labels with no predicted samples.\n",
      "  'precision', 'predicted', average, warn_for)\n",
      "/usr/local/lib/python3.5/dist-packages/sklearn/neural_network/multilayer_perceptron.py:564: ConvergenceWarning: Stochastic Optimizer: Maximum iterations (200) reached and the optimization hasn't converged yet.\n",
      "  % self.max_iter, ConvergenceWarning)\n"
     ]
    },
    {
     "name": "stdout",
     "output_type": "stream",
     "text": [
      "Took: 132.7583363056183\n",
      "--------------------------------------------------\n",
      "En: 300\tTr: 295\n",
      "Using first variation (Regressor and Classifier with score vectors)\n",
      "epoch 0:\t19.557598533183555\n",
      "epoch 10:\t19.457773319666444\n",
      "epoch 20:\t19.330636121016827\n",
      "epoch 30:\t19.234832155176477\n",
      "epoch 40:\t19.088049810776074\n",
      "epoch 50:\t18.94273845489027\n",
      "Using second variation (average of outputs produced by each set of weight matrices)\n",
      "Epoch 0: 0.6119022574908072\n",
      "Epoch 25: 0.0008008125431830269\n",
      "Epoch 50: 0.00039414390023540733\n",
      "Epoch 75: 0.00026598543923339433\n",
      "Epoch 100: 0.00020227210302353423\n",
      "Epoch 125: 0.0001638930435131742\n",
      "Epoch 150: 0.00013813816444737978\n",
      "W1 size 371\n",
      "W2 size 6\n",
      "W3 size 3\n"
     ]
    },
    {
     "name": "stderr",
     "output_type": "stream",
     "text": [
      "/usr/local/lib/python3.5/dist-packages/sklearn/metrics/classification.py:1137: UndefinedMetricWarning: F-score is ill-defined and being set to 0.0 in labels with no true samples.\n",
      "  'recall', 'true', average, warn_for)\n"
     ]
    },
    {
     "name": "stdout",
     "output_type": "stream",
     "text": [
      "Using well-known algorithms: Logistic Regression, RandomForest and MLP\n"
     ]
    },
    {
     "name": "stderr",
     "output_type": "stream",
     "text": [
      "/usr/local/lib/python3.5/dist-packages/sklearn/metrics/classification.py:1135: UndefinedMetricWarning: F-score is ill-defined and being set to 0.0 in labels with no predicted samples.\n",
      "  'precision', 'predicted', average, warn_for)\n",
      "/usr/local/lib/python3.5/dist-packages/sklearn/neural_network/multilayer_perceptron.py:564: ConvergenceWarning: Stochastic Optimizer: Maximum iterations (200) reached and the optimization hasn't converged yet.\n",
      "  % self.max_iter, ConvergenceWarning)\n"
     ]
    },
    {
     "name": "stdout",
     "output_type": "stream",
     "text": [
      "Took: 145.82531785964966\n",
      "--------------------------------------------------\n",
      "En: 300\tTr: 338\n",
      "Using first variation (Regressor and Classifier with score vectors)\n",
      "epoch 0:\t19.818882481104566\n",
      "epoch 10:\t19.740288214582545\n",
      "epoch 20:\t19.59548707816636\n",
      "epoch 30:\t19.47558856156797\n",
      "epoch 40:\t19.352440893882427\n",
      "epoch 50:\t19.256387463752468\n",
      "Using second variation (average of outputs produced by each set of weight matrices)\n",
      "Epoch 0: 0.25522857023082357\n",
      "Epoch 25: 0.0005065977634417567\n",
      "Epoch 50: 0.00025396164376358674\n",
      "Epoch 75: 0.00017134786517050457\n",
      "Epoch 100: 0.00013001610824617374\n",
      "Epoch 125: 0.00010509841051244214\n",
      "Epoch 150: 8.840094446342977e-05\n",
      "W1 size 361\n",
      "W2 size 6\n",
      "W3 size 3\n"
     ]
    },
    {
     "name": "stderr",
     "output_type": "stream",
     "text": [
      "/usr/local/lib/python3.5/dist-packages/sklearn/metrics/classification.py:1137: UndefinedMetricWarning: F-score is ill-defined and being set to 0.0 in labels with no true samples.\n",
      "  'recall', 'true', average, warn_for)\n"
     ]
    },
    {
     "name": "stdout",
     "output_type": "stream",
     "text": [
      "Using well-known algorithms: Logistic Regression, RandomForest and MLP\n"
     ]
    },
    {
     "name": "stderr",
     "output_type": "stream",
     "text": [
      "/usr/local/lib/python3.5/dist-packages/sklearn/metrics/classification.py:1135: UndefinedMetricWarning: F-score is ill-defined and being set to 0.0 in labels with no predicted samples.\n",
      "  'precision', 'predicted', average, warn_for)\n",
      "/usr/local/lib/python3.5/dist-packages/sklearn/neural_network/multilayer_perceptron.py:564: ConvergenceWarning: Stochastic Optimizer: Maximum iterations (200) reached and the optimization hasn't converged yet.\n",
      "  % self.max_iter, ConvergenceWarning)\n"
     ]
    },
    {
     "name": "stdout",
     "output_type": "stream",
     "text": [
      "Took: 149.03763818740845\n",
      "--------------------------------------------------\n",
      "En: 300\tTr: 380\n",
      "Using first variation (Regressor and Classifier with score vectors)\n",
      "epoch 0:\t20.8537963842829\n",
      "epoch 10:\t20.50121382434093\n",
      "epoch 20:\t20.324655312681383\n",
      "epoch 30:\t19.931188750621864\n",
      "epoch 40:\t19.775795282013195\n",
      "epoch 50:\t19.605547244728616\n",
      "Using second variation (average of outputs produced by each set of weight matrices)\n",
      "Epoch 0: 0.34035681660481515\n",
      "Epoch 25: 0.0005918317086143327\n",
      "Epoch 50: 0.00030868276430990623\n",
      "Epoch 75: 0.00021092166519913745\n",
      "Epoch 100: 0.0001609398475682448\n",
      "Epoch 125: 0.000130456240415915\n",
      "Epoch 150: 0.00010987731374818565\n",
      "W1 size 391\n",
      "W2 size 6\n",
      "W3 size 3\n"
     ]
    },
    {
     "name": "stderr",
     "output_type": "stream",
     "text": [
      "/usr/local/lib/python3.5/dist-packages/sklearn/metrics/classification.py:1137: UndefinedMetricWarning: F-score is ill-defined and being set to 0.0 in labels with no true samples.\n",
      "  'recall', 'true', average, warn_for)\n"
     ]
    },
    {
     "name": "stdout",
     "output_type": "stream",
     "text": [
      "Using well-known algorithms: Logistic Regression, RandomForest and MLP\n"
     ]
    },
    {
     "name": "stderr",
     "output_type": "stream",
     "text": [
      "/usr/local/lib/python3.5/dist-packages/sklearn/metrics/classification.py:1135: UndefinedMetricWarning: F-score is ill-defined and being set to 0.0 in labels with no predicted samples.\n",
      "  'precision', 'predicted', average, warn_for)\n",
      "/usr/local/lib/python3.5/dist-packages/sklearn/neural_network/multilayer_perceptron.py:564: ConvergenceWarning: Stochastic Optimizer: Maximum iterations (200) reached and the optimization hasn't converged yet.\n",
      "  % self.max_iter, ConvergenceWarning)\n"
     ]
    },
    {
     "name": "stdout",
     "output_type": "stream",
     "text": [
      "Took: 180.71367764472961\n",
      "--------------------------------------------------\n",
      "En: 300\tTr: 422\n",
      "Using first variation (Regressor and Classifier with score vectors)\n",
      "epoch 0:\t24.361394203390734\n",
      "epoch 10:\t24.33458334401966\n",
      "epoch 20:\t24.22644887191335\n",
      "epoch 30:\t24.02246017344306\n",
      "epoch 40:\t23.72505848603132\n",
      "epoch 50:\t23.47260809879703\n",
      "Using second variation (average of outputs produced by each set of weight matrices)\n",
      "Epoch 0: 0.12392628065538114\n",
      "Epoch 25: 0.0004470303077058834\n",
      "Epoch 50: 0.00023120600355428455\n",
      "Epoch 75: 0.0001573028239753842\n",
      "Epoch 100: 0.00011972234032805491\n",
      "Epoch 125: 9.688991493724982e-05\n",
      "Epoch 150: 8.151576622728645e-05\n",
      "W1 size 402\n",
      "W2 size 6\n",
      "W3 size 3\n"
     ]
    },
    {
     "name": "stderr",
     "output_type": "stream",
     "text": [
      "/usr/local/lib/python3.5/dist-packages/sklearn/metrics/classification.py:1137: UndefinedMetricWarning: F-score is ill-defined and being set to 0.0 in labels with no true samples.\n",
      "  'recall', 'true', average, warn_for)\n"
     ]
    },
    {
     "name": "stdout",
     "output_type": "stream",
     "text": [
      "Using well-known algorithms: Logistic Regression, RandomForest and MLP\n"
     ]
    },
    {
     "name": "stderr",
     "output_type": "stream",
     "text": [
      "/usr/local/lib/python3.5/dist-packages/sklearn/metrics/classification.py:1135: UndefinedMetricWarning: F-score is ill-defined and being set to 0.0 in labels with no predicted samples.\n",
      "  'precision', 'predicted', average, warn_for)\n"
     ]
    },
    {
     "name": "stdout",
     "output_type": "stream",
     "text": [
      "Took: 183.55110049247742\n",
      "--------------------------------------------------\n",
      "En: 350\tTr: 42\n",
      "Using first variation (Regressor and Classifier with score vectors)\n",
      "epoch 0:\t17.648687907101106\n",
      "epoch 10:\t17.46113844578316\n",
      "epoch 20:\t17.266181862824894\n",
      "epoch 30:\t17.093387963568105\n",
      "epoch 40:\t16.95844630766389\n",
      "epoch 50:\t16.855981358135356\n",
      "Using second variation (average of outputs produced by each set of weight matrices)\n",
      "Epoch 0: 0.2722389527369679\n",
      "Epoch 25: 0.0009682701179096572\n",
      "Epoch 50: 0.0004845969220566786\n",
      "Epoch 75: 0.00032720170796444705\n",
      "Epoch 100: 0.00024836012108293013\n",
      "Epoch 125: 0.00020077275851920195\n",
      "Epoch 150: 0.00016884974608696472\n",
      "W1 size 275\n",
      "W2 size 6\n",
      "W3 size 3\n"
     ]
    },
    {
     "name": "stderr",
     "output_type": "stream",
     "text": [
      "/usr/local/lib/python3.5/dist-packages/sklearn/metrics/classification.py:1137: UndefinedMetricWarning: F-score is ill-defined and being set to 0.0 in labels with no true samples.\n",
      "  'recall', 'true', average, warn_for)\n"
     ]
    },
    {
     "name": "stdout",
     "output_type": "stream",
     "text": [
      "Using well-known algorithms: Logistic Regression, RandomForest and MLP\n"
     ]
    },
    {
     "name": "stderr",
     "output_type": "stream",
     "text": [
      "/usr/local/lib/python3.5/dist-packages/sklearn/neural_network/multilayer_perceptron.py:564: ConvergenceWarning: Stochastic Optimizer: Maximum iterations (200) reached and the optimization hasn't converged yet.\n",
      "  % self.max_iter, ConvergenceWarning)\n"
     ]
    },
    {
     "name": "stdout",
     "output_type": "stream",
     "text": [
      "Took: 102.02393984794617\n",
      "--------------------------------------------------\n",
      "En: 350\tTr: 84\n",
      "Using first variation (Regressor and Classifier with score vectors)\n",
      "epoch 0:\t21.717344342900038\n",
      "epoch 10:\t21.336469264057754\n",
      "epoch 20:\t20.966557384414447\n",
      "epoch 30:\t20.68188436940368\n",
      "epoch 40:\t20.402503575529412\n",
      "epoch 50:\t20.140270416475875\n",
      "Using second variation (average of outputs produced by each set of weight matrices)\n",
      "Epoch 0: 0.7896533899827622\n",
      "Epoch 25: 0.0010684065695324035\n",
      "Epoch 50: 0.000528390413214996\n",
      "Epoch 75: 0.0003557719070278756\n",
      "Epoch 100: 0.00026957139089119596\n",
      "Epoch 125: 0.00021761140628707214\n",
      "Epoch 150: 0.00018276595719806068\n",
      "W1 size 300\n",
      "W2 size 6\n",
      "W3 size 3\n"
     ]
    },
    {
     "name": "stderr",
     "output_type": "stream",
     "text": [
      "/usr/local/lib/python3.5/dist-packages/sklearn/metrics/classification.py:1135: UndefinedMetricWarning: F-score is ill-defined and being set to 0.0 in labels with no predicted samples.\n",
      "  'precision', 'predicted', average, warn_for)\n",
      "/usr/local/lib/python3.5/dist-packages/sklearn/metrics/classification.py:1137: UndefinedMetricWarning: F-score is ill-defined and being set to 0.0 in labels with no true samples.\n",
      "  'recall', 'true', average, warn_for)\n"
     ]
    },
    {
     "name": "stdout",
     "output_type": "stream",
     "text": [
      "Using well-known algorithms: Logistic Regression, RandomForest and MLP\n",
      "Took: 116.78325724601746\n",
      "--------------------------------------------------\n",
      "En: 350\tTr: 127\n",
      "Using first variation (Regressor and Classifier with score vectors)\n",
      "epoch 0:\t19.695154468594204\n",
      "epoch 10:\t19.245431230520563\n",
      "epoch 20:\t19.133535131979908\n",
      "epoch 30:\t19.037901501092854\n",
      "epoch 40:\t18.922827725833923\n",
      "epoch 50:\t18.783524976240862\n",
      "Using second variation (average of outputs produced by each set of weight matrices)\n",
      "Epoch 0: 0.3517368230249717\n",
      "Epoch 25: 0.0006399899156649368\n",
      "Epoch 50: 0.00033045509577836956\n",
      "Epoch 75: 0.0002247433716680489\n",
      "Epoch 100: 0.00017098644677798397\n",
      "Epoch 125: 0.00013832016651882755\n",
      "Epoch 150: 0.0001163228748314262\n",
      "W1 size 316\n",
      "W2 size 6\n",
      "W3 size 3\n"
     ]
    },
    {
     "name": "stderr",
     "output_type": "stream",
     "text": [
      "/usr/local/lib/python3.5/dist-packages/sklearn/metrics/classification.py:1135: UndefinedMetricWarning: F-score is ill-defined and being set to 0.0 in labels with no predicted samples.\n",
      "  'precision', 'predicted', average, warn_for)\n",
      "/usr/local/lib/python3.5/dist-packages/sklearn/metrics/classification.py:1137: UndefinedMetricWarning: F-score is ill-defined and being set to 0.0 in labels with no true samples.\n",
      "  'recall', 'true', average, warn_for)\n"
     ]
    },
    {
     "name": "stdout",
     "output_type": "stream",
     "text": [
      "Using well-known algorithms: Logistic Regression, RandomForest and MLP\n"
     ]
    },
    {
     "name": "stderr",
     "output_type": "stream",
     "text": [
      "/usr/local/lib/python3.5/dist-packages/sklearn/metrics/classification.py:1135: UndefinedMetricWarning: F-score is ill-defined and being set to 0.0 in labels with no predicted samples.\n",
      "  'precision', 'predicted', average, warn_for)\n",
      "/usr/local/lib/python3.5/dist-packages/sklearn/neural_network/multilayer_perceptron.py:564: ConvergenceWarning: Stochastic Optimizer: Maximum iterations (200) reached and the optimization hasn't converged yet.\n",
      "  % self.max_iter, ConvergenceWarning)\n"
     ]
    },
    {
     "name": "stdout",
     "output_type": "stream",
     "text": [
      "Took: 120.6965479850769\n",
      "--------------------------------------------------\n",
      "En: 350\tTr: 169\n",
      "Using first variation (Regressor and Classifier with score vectors)\n",
      "epoch 0:\t20.365612801234807\n",
      "epoch 10:\t20.13897079650312\n",
      "epoch 20:\t19.942570766353956\n",
      "epoch 30:\t19.805307957061636\n",
      "epoch 40:\t19.6291322698934\n",
      "epoch 50:\t19.448933391401905\n",
      "Using second variation (average of outputs produced by each set of weight matrices)\n",
      "Epoch 0: 0.17852727339354635\n",
      "Epoch 25: 0.0004964226464063204\n",
      "Epoch 50: 0.00025457589752582286\n",
      "Epoch 75: 0.00017369412334183223\n",
      "Epoch 100: 0.00013279649089962677\n",
      "Epoch 125: 0.00010798814054558084\n",
      "Epoch 150: 9.126983338324553e-05\n",
      "W1 size 345\n",
      "W2 size 6\n",
      "W3 size 3\n"
     ]
    },
    {
     "name": "stderr",
     "output_type": "stream",
     "text": [
      "/usr/local/lib/python3.5/dist-packages/sklearn/metrics/classification.py:1137: UndefinedMetricWarning: F-score is ill-defined and being set to 0.0 in labels with no true samples.\n",
      "  'recall', 'true', average, warn_for)\n"
     ]
    },
    {
     "name": "stdout",
     "output_type": "stream",
     "text": [
      "Using well-known algorithms: Logistic Regression, RandomForest and MLP\n"
     ]
    },
    {
     "name": "stderr",
     "output_type": "stream",
     "text": [
      "/usr/local/lib/python3.5/dist-packages/sklearn/metrics/classification.py:1135: UndefinedMetricWarning: F-score is ill-defined and being set to 0.0 in labels with no predicted samples.\n",
      "  'precision', 'predicted', average, warn_for)\n",
      "/usr/local/lib/python3.5/dist-packages/sklearn/neural_network/multilayer_perceptron.py:564: ConvergenceWarning: Stochastic Optimizer: Maximum iterations (200) reached and the optimization hasn't converged yet.\n",
      "  % self.max_iter, ConvergenceWarning)\n"
     ]
    },
    {
     "name": "stdout",
     "output_type": "stream",
     "text": [
      "Took: 131.98448300361633\n",
      "--------------------------------------------------\n",
      "En: 350\tTr: 211\n",
      "Using first variation (Regressor and Classifier with score vectors)\n",
      "epoch 0:\t19.489902310032395\n",
      "epoch 10:\t19.075707490614043\n",
      "epoch 20:\t18.9946022415325\n",
      "epoch 30:\t18.919265434787025\n",
      "epoch 40:\t18.8814800574392\n",
      "epoch 50:\t18.84196555455667\n",
      "Using second variation (average of outputs produced by each set of weight matrices)\n",
      "Epoch 0: 0.5429886096056293\n",
      "Epoch 25: 0.0010507349849804316\n",
      "Epoch 50: 0.0004361361449711685\n",
      "Epoch 75: 0.0002837881214443533\n",
      "Epoch 100: 0.00021276088273139342\n",
      "Epoch 125: 0.00017114166812281053\n",
      "Epoch 150: 0.00014361043486117787\n",
      "W1 size 365\n",
      "W2 size 6\n",
      "W3 size 3\n"
     ]
    },
    {
     "name": "stderr",
     "output_type": "stream",
     "text": [
      "/usr/local/lib/python3.5/dist-packages/sklearn/metrics/classification.py:1137: UndefinedMetricWarning: F-score is ill-defined and being set to 0.0 in labels with no true samples.\n",
      "  'recall', 'true', average, warn_for)\n"
     ]
    },
    {
     "name": "stdout",
     "output_type": "stream",
     "text": [
      "Using well-known algorithms: Logistic Regression, RandomForest and MLP\n"
     ]
    },
    {
     "name": "stderr",
     "output_type": "stream",
     "text": [
      "/usr/local/lib/python3.5/dist-packages/sklearn/metrics/classification.py:1135: UndefinedMetricWarning: F-score is ill-defined and being set to 0.0 in labels with no predicted samples.\n",
      "  'precision', 'predicted', average, warn_for)\n",
      "/usr/local/lib/python3.5/dist-packages/sklearn/neural_network/multilayer_perceptron.py:564: ConvergenceWarning: Stochastic Optimizer: Maximum iterations (200) reached and the optimization hasn't converged yet.\n",
      "  % self.max_iter, ConvergenceWarning)\n"
     ]
    },
    {
     "name": "stdout",
     "output_type": "stream",
     "text": [
      "Took: 143.85009860992432\n",
      "--------------------------------------------------\n",
      "En: 350\tTr: 253\n",
      "Using first variation (Regressor and Classifier with score vectors)\n",
      "epoch 0:\t19.59691309140362\n",
      "epoch 10:\t19.317408010761\n",
      "epoch 20:\t18.82753372156687\n",
      "epoch 30:\t18.61413835734967\n",
      "epoch 40:\t18.41741976459012\n",
      "epoch 50:\t18.222899268590393\n",
      "Using second variation (average of outputs produced by each set of weight matrices)\n",
      "Epoch 0: 0.296359615421505\n",
      "Epoch 25: 0.0006643290110739224\n",
      "Epoch 50: 0.0003298535850347598\n",
      "Epoch 75: 0.0002217708990455011\n",
      "Epoch 100: 0.00016782057909155122\n",
      "Epoch 125: 0.0001353363703080527\n",
      "Epoch 150: 0.00011357949949153954\n",
      "W1 size 384\n",
      "W2 size 6\n",
      "W3 size 3\n"
     ]
    },
    {
     "name": "stderr",
     "output_type": "stream",
     "text": [
      "/usr/local/lib/python3.5/dist-packages/sklearn/metrics/classification.py:1137: UndefinedMetricWarning: F-score is ill-defined and being set to 0.0 in labels with no true samples.\n",
      "  'recall', 'true', average, warn_for)\n"
     ]
    },
    {
     "name": "stdout",
     "output_type": "stream",
     "text": [
      "Using well-known algorithms: Logistic Regression, RandomForest and MLP\n"
     ]
    },
    {
     "name": "stderr",
     "output_type": "stream",
     "text": [
      "/usr/local/lib/python3.5/dist-packages/sklearn/metrics/classification.py:1135: UndefinedMetricWarning: F-score is ill-defined and being set to 0.0 in labels with no predicted samples.\n",
      "  'precision', 'predicted', average, warn_for)\n"
     ]
    },
    {
     "name": "stdout",
     "output_type": "stream",
     "text": [
      "Took: 145.5075511932373\n",
      "--------------------------------------------------\n",
      "En: 350\tTr: 295\n",
      "Using first variation (Regressor and Classifier with score vectors)\n",
      "epoch 0:\t19.230255273771892\n",
      "epoch 10:\t19.012532459621436\n",
      "epoch 20:\t18.709984851869525\n",
      "epoch 30:\t18.53368824110919\n",
      "epoch 40:\t18.388167995004753\n",
      "epoch 50:\t18.230261704641634\n",
      "Using second variation (average of outputs produced by each set of weight matrices)\n",
      "Epoch 0: 0.6671315437155526\n",
      "Epoch 25: 0.0006765445917800646\n",
      "Epoch 50: 0.00034454524823782887\n",
      "Epoch 75: 0.0002337930749008557\n",
      "Epoch 100: 0.00017787398555638945\n",
      "Epoch 125: 0.0001439945070644811\n",
      "Epoch 150: 0.00012121211584779889\n",
      "W1 size 388\n",
      "W2 size 6\n",
      "W3 size 3\n"
     ]
    },
    {
     "name": "stderr",
     "output_type": "stream",
     "text": [
      "/usr/local/lib/python3.5/dist-packages/sklearn/metrics/classification.py:1137: UndefinedMetricWarning: F-score is ill-defined and being set to 0.0 in labels with no true samples.\n",
      "  'recall', 'true', average, warn_for)\n"
     ]
    },
    {
     "name": "stdout",
     "output_type": "stream",
     "text": [
      "Using well-known algorithms: Logistic Regression, RandomForest and MLP\n"
     ]
    },
    {
     "name": "stderr",
     "output_type": "stream",
     "text": [
      "/usr/local/lib/python3.5/dist-packages/sklearn/metrics/classification.py:1135: UndefinedMetricWarning: F-score is ill-defined and being set to 0.0 in labels with no predicted samples.\n",
      "  'precision', 'predicted', average, warn_for)\n",
      "/usr/local/lib/python3.5/dist-packages/sklearn/neural_network/multilayer_perceptron.py:564: ConvergenceWarning: Stochastic Optimizer: Maximum iterations (200) reached and the optimization hasn't converged yet.\n",
      "  % self.max_iter, ConvergenceWarning)\n"
     ]
    },
    {
     "name": "stdout",
     "output_type": "stream",
     "text": [
      "Took: 151.54548382759094\n",
      "--------------------------------------------------\n",
      "En: 350\tTr: 338\n",
      "Using first variation (Regressor and Classifier with score vectors)\n",
      "epoch 0:\t25.128771990474608\n",
      "epoch 10:\t24.454418967751142\n",
      "epoch 20:\t24.274018909053712\n",
      "epoch 30:\t24.175150362872795\n",
      "epoch 40:\t24.117973596679274\n",
      "epoch 50:\t24.021417518614033\n",
      "Using second variation (average of outputs produced by each set of weight matrices)\n",
      "Epoch 0: 0.4800958686039744\n",
      "Epoch 25: 0.000510738699724444\n",
      "Epoch 50: 0.0002666829656187581\n",
      "Epoch 75: 0.0001828671095891672\n",
      "Epoch 100: 0.00014005140178119637\n",
      "Epoch 125: 0.00011392657695237797\n",
      "Epoch 150: 9.62666406248799e-05\n",
      "W1 size 418\n",
      "W2 size 6\n",
      "W3 size 3\n"
     ]
    },
    {
     "name": "stderr",
     "output_type": "stream",
     "text": [
      "/usr/local/lib/python3.5/dist-packages/sklearn/metrics/classification.py:1137: UndefinedMetricWarning: F-score is ill-defined and being set to 0.0 in labels with no true samples.\n",
      "  'recall', 'true', average, warn_for)\n"
     ]
    },
    {
     "name": "stdout",
     "output_type": "stream",
     "text": [
      "Using well-known algorithms: Logistic Regression, RandomForest and MLP\n"
     ]
    },
    {
     "name": "stderr",
     "output_type": "stream",
     "text": [
      "/usr/local/lib/python3.5/dist-packages/sklearn/metrics/classification.py:1135: UndefinedMetricWarning: F-score is ill-defined and being set to 0.0 in labels with no predicted samples.\n",
      "  'precision', 'predicted', average, warn_for)\n",
      "/usr/local/lib/python3.5/dist-packages/sklearn/neural_network/multilayer_perceptron.py:564: ConvergenceWarning: Stochastic Optimizer: Maximum iterations (200) reached and the optimization hasn't converged yet.\n",
      "  % self.max_iter, ConvergenceWarning)\n"
     ]
    },
    {
     "name": "stdout",
     "output_type": "stream",
     "text": [
      "Took: 162.82446575164795\n",
      "--------------------------------------------------\n",
      "En: 350\tTr: 380\n",
      "Using first variation (Regressor and Classifier with score vectors)\n",
      "epoch 0:\t23.474332977425238\n",
      "epoch 10:\t22.97703885586347\n",
      "epoch 20:\t22.561010157920844\n",
      "epoch 30:\t22.15317796351452\n",
      "epoch 40:\t21.773571309789123\n",
      "epoch 50:\t21.436801294451516\n",
      "Using second variation (average of outputs produced by each set of weight matrices)\n",
      "Epoch 0: 0.586425389738884\n",
      "Epoch 25: 0.0005873443224028154\n",
      "Epoch 50: 0.00030067624519604933\n",
      "Epoch 75: 0.00020452179389701385\n",
      "Epoch 100: 0.0001558697639235793\n",
      "Epoch 125: 0.00012634894802333795\n",
      "Epoch 150: 0.00010646961722007724\n",
      "W1 size 413\n",
      "W2 size 6\n",
      "W3 size 3\n"
     ]
    },
    {
     "name": "stderr",
     "output_type": "stream",
     "text": [
      "/usr/local/lib/python3.5/dist-packages/sklearn/metrics/classification.py:1137: UndefinedMetricWarning: F-score is ill-defined and being set to 0.0 in labels with no true samples.\n",
      "  'recall', 'true', average, warn_for)\n"
     ]
    },
    {
     "name": "stdout",
     "output_type": "stream",
     "text": [
      "Using well-known algorithms: Logistic Regression, RandomForest and MLP\n"
     ]
    },
    {
     "name": "stderr",
     "output_type": "stream",
     "text": [
      "/usr/local/lib/python3.5/dist-packages/sklearn/metrics/classification.py:1135: UndefinedMetricWarning: F-score is ill-defined and being set to 0.0 in labels with no predicted samples.\n",
      "  'precision', 'predicted', average, warn_for)\n",
      "/usr/local/lib/python3.5/dist-packages/sklearn/neural_network/multilayer_perceptron.py:564: ConvergenceWarning: Stochastic Optimizer: Maximum iterations (200) reached and the optimization hasn't converged yet.\n",
      "  % self.max_iter, ConvergenceWarning)\n"
     ]
    },
    {
     "name": "stdout",
     "output_type": "stream",
     "text": [
      "Took: 178.7112853527069\n",
      "--------------------------------------------------\n",
      "En: 350\tTr: 422\n",
      "Using first variation (Regressor and Classifier with score vectors)\n",
      "epoch 0:\t24.52995318271445\n",
      "epoch 10:\t23.979323865441796\n",
      "epoch 20:\t23.609038132840464\n",
      "epoch 30:\t23.185696696630924\n",
      "epoch 40:\t22.73339308618542\n",
      "epoch 50:\t22.314832577891327\n",
      "Using second variation (average of outputs produced by each set of weight matrices)\n",
      "Epoch 0: 0.5815636077620566\n",
      "Epoch 25: 0.0006235571785596851\n",
      "Epoch 50: 0.0003214651900367685\n",
      "Epoch 75: 0.00021891060714470718\n",
      "Epoch 100: 0.00016678073804215669\n",
      "Epoch 125: 0.00013508359644496005\n",
      "Epoch 150: 0.00011372250822070937\n",
      "W1 size 427\n",
      "W2 size 6\n",
      "W3 size 3\n"
     ]
    },
    {
     "name": "stderr",
     "output_type": "stream",
     "text": [
      "/usr/local/lib/python3.5/dist-packages/sklearn/metrics/classification.py:1137: UndefinedMetricWarning: F-score is ill-defined and being set to 0.0 in labels with no true samples.\n",
      "  'recall', 'true', average, warn_for)\n"
     ]
    },
    {
     "name": "stdout",
     "output_type": "stream",
     "text": [
      "Using well-known algorithms: Logistic Regression, RandomForest and MLP\n"
     ]
    },
    {
     "name": "stderr",
     "output_type": "stream",
     "text": [
      "/usr/local/lib/python3.5/dist-packages/sklearn/metrics/classification.py:1135: UndefinedMetricWarning: F-score is ill-defined and being set to 0.0 in labels with no predicted samples.\n",
      "  'precision', 'predicted', average, warn_for)\n",
      "/usr/local/lib/python3.5/dist-packages/sklearn/neural_network/multilayer_perceptron.py:564: ConvergenceWarning: Stochastic Optimizer: Maximum iterations (200) reached and the optimization hasn't converged yet.\n",
      "  % self.max_iter, ConvergenceWarning)\n"
     ]
    },
    {
     "name": "stdout",
     "output_type": "stream",
     "text": [
      "Took: 188.58504629135132\n",
      "--------------------------------------------------\n",
      "En: 400\tTr: 42\n",
      "Using first variation (Regressor and Classifier with score vectors)\n",
      "epoch 0:\t22.801011431975382\n",
      "epoch 10:\t22.46383176870005\n",
      "epoch 20:\t22.135111404567084\n",
      "epoch 30:\t21.939291881837576\n",
      "epoch 40:\t21.66336085555115\n",
      "epoch 50:\t21.368181707518506\n",
      "Using second variation (average of outputs produced by each set of weight matrices)\n",
      "Epoch 0: 0.1558023069566259\n",
      "Epoch 25: 0.000512985391645539\n",
      "Epoch 50: 0.00026156923657260386\n",
      "Epoch 75: 0.00017669654189237267\n",
      "Epoch 100: 0.00013384774932801886\n",
      "Epoch 125: 0.00010794469133377287\n",
      "Epoch 150: 9.056231000998266e-05\n",
      "W1 size 288\n",
      "W2 size 5\n",
      "W3 size 3\n"
     ]
    },
    {
     "name": "stderr",
     "output_type": "stream",
     "text": [
      "/usr/local/lib/python3.5/dist-packages/sklearn/metrics/classification.py:1137: UndefinedMetricWarning: F-score is ill-defined and being set to 0.0 in labels with no true samples.\n",
      "  'recall', 'true', average, warn_for)\n"
     ]
    },
    {
     "name": "stdout",
     "output_type": "stream",
     "text": [
      "Using well-known algorithms: Logistic Regression, RandomForest and MLP\n"
     ]
    },
    {
     "name": "stderr",
     "output_type": "stream",
     "text": [
      "/usr/local/lib/python3.5/dist-packages/sklearn/neural_network/multilayer_perceptron.py:564: ConvergenceWarning: Stochastic Optimizer: Maximum iterations (200) reached and the optimization hasn't converged yet.\n",
      "  % self.max_iter, ConvergenceWarning)\n",
      "/usr/local/lib/python3.5/dist-packages/sklearn/metrics/classification.py:1135: UndefinedMetricWarning: F-score is ill-defined and being set to 0.0 in labels with no predicted samples.\n",
      "  'precision', 'predicted', average, warn_for)\n"
     ]
    },
    {
     "name": "stdout",
     "output_type": "stream",
     "text": [
      "Took: 108.22544360160828\n",
      "--------------------------------------------------\n",
      "En: 400\tTr: 84\n",
      "Using first variation (Regressor and Classifier with score vectors)\n",
      "epoch 0:\t18.333663724538372\n",
      "epoch 10:\t18.15462312028527\n",
      "epoch 20:\t18.004536235908635\n",
      "epoch 30:\t17.790405142269595\n",
      "epoch 40:\t17.619892760230893\n",
      "epoch 50:\t17.478169805189207\n",
      "Using second variation (average of outputs produced by each set of weight matrices)\n",
      "Epoch 0: 0.11025396162470442\n",
      "Epoch 25: 0.0004063868763255118\n",
      "Epoch 50: 0.0002077759820075304\n",
      "Epoch 75: 0.00014116669980177504\n",
      "Epoch 100: 0.00010745748786448431\n",
      "Epoch 125: 8.700072930317577e-05\n",
      "Epoch 150: 7.322981577940289e-05\n",
      "W1 size 320\n",
      "W2 size 5\n",
      "W3 size 3\n"
     ]
    },
    {
     "name": "stderr",
     "output_type": "stream",
     "text": [
      "/usr/local/lib/python3.5/dist-packages/sklearn/metrics/classification.py:1137: UndefinedMetricWarning: F-score is ill-defined and being set to 0.0 in labels with no true samples.\n",
      "  'recall', 'true', average, warn_for)\n"
     ]
    },
    {
     "name": "stdout",
     "output_type": "stream",
     "text": [
      "Using well-known algorithms: Logistic Regression, RandomForest and MLP\n"
     ]
    },
    {
     "name": "stderr",
     "output_type": "stream",
     "text": [
      "/usr/local/lib/python3.5/dist-packages/sklearn/metrics/classification.py:1135: UndefinedMetricWarning: F-score is ill-defined and being set to 0.0 in labels with no predicted samples.\n",
      "  'precision', 'predicted', average, warn_for)\n",
      "/usr/local/lib/python3.5/dist-packages/sklearn/neural_network/multilayer_perceptron.py:564: ConvergenceWarning: Stochastic Optimizer: Maximum iterations (200) reached and the optimization hasn't converged yet.\n",
      "  % self.max_iter, ConvergenceWarning)\n"
     ]
    },
    {
     "name": "stdout",
     "output_type": "stream",
     "text": [
      "Took: 127.70779395103455\n",
      "--------------------------------------------------\n",
      "En: 400\tTr: 127\n",
      "Using first variation (Regressor and Classifier with score vectors)\n",
      "epoch 0:\t18.33783946048838\n",
      "epoch 10:\t18.57617244238803\n",
      "epoch 20:\t18.201202710813252\n",
      "epoch 30:\t17.87122484095427\n",
      "epoch 40:\t17.62951809480917\n",
      "epoch 50:\t17.465477257793605\n",
      "Using second variation (average of outputs produced by each set of weight matrices)\n",
      "Epoch 0: 0.9681901900289954\n",
      "Epoch 25: 0.0008657548809005753\n",
      "Epoch 50: 0.0004169632171932418\n",
      "Epoch 75: 0.0002802030154740306\n",
      "Epoch 100: 0.00021257734738148158\n",
      "Epoch 125: 0.000171930052757152\n",
      "Epoch 150: 0.00014470082043123838\n",
      "W1 size 346\n",
      "W2 size 6\n",
      "W3 size 3\n"
     ]
    },
    {
     "name": "stderr",
     "output_type": "stream",
     "text": [
      "/usr/local/lib/python3.5/dist-packages/sklearn/metrics/classification.py:1137: UndefinedMetricWarning: F-score is ill-defined and being set to 0.0 in labels with no true samples.\n",
      "  'recall', 'true', average, warn_for)\n"
     ]
    },
    {
     "name": "stdout",
     "output_type": "stream",
     "text": [
      "Using well-known algorithms: Logistic Regression, RandomForest and MLP\n"
     ]
    },
    {
     "name": "stderr",
     "output_type": "stream",
     "text": [
      "/usr/local/lib/python3.5/dist-packages/sklearn/metrics/classification.py:1135: UndefinedMetricWarning: F-score is ill-defined and being set to 0.0 in labels with no predicted samples.\n",
      "  'precision', 'predicted', average, warn_for)\n",
      "/usr/local/lib/python3.5/dist-packages/sklearn/neural_network/multilayer_perceptron.py:564: ConvergenceWarning: Stochastic Optimizer: Maximum iterations (200) reached and the optimization hasn't converged yet.\n",
      "  % self.max_iter, ConvergenceWarning)\n"
     ]
    },
    {
     "name": "stdout",
     "output_type": "stream",
     "text": [
      "Took: 158.90412616729736\n",
      "--------------------------------------------------\n",
      "En: 400\tTr: 169\n",
      "Using first variation (Regressor and Classifier with score vectors)\n",
      "epoch 0:\t20.98894600076103\n",
      "epoch 10:\t20.721524366390362\n",
      "epoch 20:\t20.48275664072038\n",
      "epoch 30:\t20.067310658400277\n",
      "epoch 40:\t19.773363013535132\n",
      "epoch 50:\t19.566151795140534\n",
      "Using second variation (average of outputs produced by each set of weight matrices)\n",
      "Epoch 0: 0.15843275291051276\n",
      "Epoch 25: 0.0006077111751993616\n",
      "Epoch 50: 0.000310207337161903\n",
      "Epoch 75: 0.0002112518110608846\n",
      "Epoch 100: 0.00016113409625445987\n",
      "Epoch 125: 0.00013067189580350246\n",
      "Epoch 150: 0.00011012855352168386\n",
      "W1 size 380\n",
      "W2 size 6\n",
      "W3 size 3\n"
     ]
    },
    {
     "name": "stderr",
     "output_type": "stream",
     "text": [
      "/usr/local/lib/python3.5/dist-packages/sklearn/metrics/classification.py:1137: UndefinedMetricWarning: F-score is ill-defined and being set to 0.0 in labels with no true samples.\n",
      "  'recall', 'true', average, warn_for)\n"
     ]
    },
    {
     "name": "stdout",
     "output_type": "stream",
     "text": [
      "Using well-known algorithms: Logistic Regression, RandomForest and MLP\n"
     ]
    },
    {
     "name": "stderr",
     "output_type": "stream",
     "text": [
      "/usr/local/lib/python3.5/dist-packages/sklearn/metrics/classification.py:1135: UndefinedMetricWarning: F-score is ill-defined and being set to 0.0 in labels with no predicted samples.\n",
      "  'precision', 'predicted', average, warn_for)\n",
      "/usr/local/lib/python3.5/dist-packages/sklearn/neural_network/multilayer_perceptron.py:564: ConvergenceWarning: Stochastic Optimizer: Maximum iterations (200) reached and the optimization hasn't converged yet.\n",
      "  % self.max_iter, ConvergenceWarning)\n"
     ]
    },
    {
     "name": "stdout",
     "output_type": "stream",
     "text": [
      "Took: 178.4338505268097\n",
      "--------------------------------------------------\n",
      "En: 400\tTr: 211\n",
      "Using first variation (Regressor and Classifier with score vectors)\n",
      "epoch 0:\t24.120059889564256\n",
      "epoch 10:\t23.195326790864357\n",
      "epoch 20:\t22.58383692128295\n",
      "epoch 30:\t22.129377406003186\n",
      "epoch 40:\t21.83626504217438\n",
      "epoch 50:\t21.556722063617737\n",
      "Using second variation (average of outputs produced by each set of weight matrices)\n",
      "Epoch 0: 0.32860570613819007\n",
      "Epoch 25: 0.0006108590424477056\n",
      "Epoch 50: 0.0003215566477832409\n",
      "Epoch 75: 0.00022090035486895432\n",
      "Epoch 100: 0.0001691030444057174\n",
      "Epoch 125: 0.00013737064111280322\n",
      "Epoch 150: 0.00011587232655673187\n",
      "W1 size 379\n",
      "W2 size 6\n",
      "W3 size 3\n"
     ]
    },
    {
     "name": "stderr",
     "output_type": "stream",
     "text": [
      "/usr/local/lib/python3.5/dist-packages/sklearn/metrics/classification.py:1137: UndefinedMetricWarning: F-score is ill-defined and being set to 0.0 in labels with no true samples.\n",
      "  'recall', 'true', average, warn_for)\n"
     ]
    },
    {
     "name": "stdout",
     "output_type": "stream",
     "text": [
      "Using well-known algorithms: Logistic Regression, RandomForest and MLP\n"
     ]
    },
    {
     "name": "stderr",
     "output_type": "stream",
     "text": [
      "/usr/local/lib/python3.5/dist-packages/sklearn/metrics/classification.py:1135: UndefinedMetricWarning: F-score is ill-defined and being set to 0.0 in labels with no predicted samples.\n",
      "  'precision', 'predicted', average, warn_for)\n"
     ]
    },
    {
     "name": "stdout",
     "output_type": "stream",
     "text": [
      "Took: 162.18897914886475\n",
      "--------------------------------------------------\n",
      "En: 400\tTr: 253\n",
      "Using first variation (Regressor and Classifier with score vectors)\n",
      "epoch 0:\t22.203945255084488\n",
      "epoch 10:\t21.690373959315902\n",
      "epoch 20:\t21.30608383670518\n",
      "epoch 30:\t20.91339591941893\n",
      "epoch 40:\t20.359004084671955\n",
      "epoch 50:\t19.763626368347484\n",
      "Using second variation (average of outputs produced by each set of weight matrices)\n",
      "Epoch 0: 0.23341557907887772\n",
      "Epoch 25: 0.0003904702028307838\n",
      "Epoch 50: 0.0002019910114481728\n",
      "Epoch 75: 0.00013792949390627063\n",
      "Epoch 100: 0.0001053885204831226\n",
      "Epoch 125: 8.560834527973044e-05\n",
      "Epoch 150: 7.227277574451125e-05\n",
      "W1 size 410\n",
      "W2 size 6\n",
      "W3 size 3\n"
     ]
    },
    {
     "name": "stderr",
     "output_type": "stream",
     "text": [
      "/usr/local/lib/python3.5/dist-packages/sklearn/metrics/classification.py:1137: UndefinedMetricWarning: F-score is ill-defined and being set to 0.0 in labels with no true samples.\n",
      "  'recall', 'true', average, warn_for)\n"
     ]
    },
    {
     "name": "stdout",
     "output_type": "stream",
     "text": [
      "Using well-known algorithms: Logistic Regression, RandomForest and MLP\n"
     ]
    },
    {
     "name": "stderr",
     "output_type": "stream",
     "text": [
      "/usr/local/lib/python3.5/dist-packages/sklearn/metrics/classification.py:1135: UndefinedMetricWarning: F-score is ill-defined and being set to 0.0 in labels with no predicted samples.\n",
      "  'precision', 'predicted', average, warn_for)\n",
      "/usr/local/lib/python3.5/dist-packages/sklearn/neural_network/multilayer_perceptron.py:564: ConvergenceWarning: Stochastic Optimizer: Maximum iterations (200) reached and the optimization hasn't converged yet.\n",
      "  % self.max_iter, ConvergenceWarning)\n"
     ]
    },
    {
     "name": "stdout",
     "output_type": "stream",
     "text": [
      "Took: 160.83196187019348\n",
      "--------------------------------------------------\n",
      "En: 400\tTr: 295\n",
      "Using first variation (Regressor and Classifier with score vectors)\n",
      "epoch 0:\t23.023140647689214\n",
      "epoch 10:\t22.88317241694824\n",
      "epoch 20:\t22.420949937506563\n",
      "epoch 30:\t22.08897495249154\n",
      "epoch 40:\t21.82227775732096\n",
      "epoch 50:\t21.564814576568647\n",
      "Using second variation (average of outputs produced by each set of weight matrices)\n",
      "Epoch 0: 0.4803947461086344\n",
      "Epoch 25: 0.0004387083057439882\n",
      "Epoch 50: 0.00022967255883971777\n",
      "Epoch 75: 0.00015821382284239726\n",
      "Epoch 100: 0.00012153639978475976\n",
      "Epoch 125: 9.906465135519667e-05\n",
      "Epoch 150: 8.383350387652394e-05\n",
      "W1 size 415\n",
      "W2 size 6\n",
      "W3 size 3\n"
     ]
    },
    {
     "name": "stderr",
     "output_type": "stream",
     "text": [
      "/usr/local/lib/python3.5/dist-packages/sklearn/metrics/classification.py:1137: UndefinedMetricWarning: F-score is ill-defined and being set to 0.0 in labels with no true samples.\n",
      "  'recall', 'true', average, warn_for)\n"
     ]
    },
    {
     "name": "stdout",
     "output_type": "stream",
     "text": [
      "Using well-known algorithms: Logistic Regression, RandomForest and MLP\n"
     ]
    },
    {
     "name": "stderr",
     "output_type": "stream",
     "text": [
      "/usr/local/lib/python3.5/dist-packages/sklearn/metrics/classification.py:1135: UndefinedMetricWarning: F-score is ill-defined and being set to 0.0 in labels with no predicted samples.\n",
      "  'precision', 'predicted', average, warn_for)\n",
      "/usr/local/lib/python3.5/dist-packages/sklearn/neural_network/multilayer_perceptron.py:564: ConvergenceWarning: Stochastic Optimizer: Maximum iterations (200) reached and the optimization hasn't converged yet.\n",
      "  % self.max_iter, ConvergenceWarning)\n"
     ]
    },
    {
     "name": "stdout",
     "output_type": "stream",
     "text": [
      "Took: 178.81970357894897\n",
      "--------------------------------------------------\n",
      "En: 400\tTr: 338\n",
      "Using first variation (Regressor and Classifier with score vectors)\n",
      "epoch 0:\t20.948258434147146\n",
      "epoch 10:\t20.450091241391934\n",
      "epoch 20:\t19.916693808147475\n",
      "epoch 30:\t19.437144274790104\n",
      "epoch 40:\t18.925783860556695\n",
      "epoch 50:\t18.490727353259853\n",
      "Using second variation (average of outputs produced by each set of weight matrices)\n",
      "Epoch 0: 0.13312448486157533\n",
      "Epoch 25: 0.0004710982478808524\n",
      "Epoch 50: 0.00023696481564426878\n",
      "Epoch 75: 0.0001599207456274429\n",
      "Epoch 100: 0.00012121544877176909\n",
      "Epoch 125: 9.78387857936121e-05\n",
      "Epoch 150: 8.215759465823358e-05\n",
      "W1 size 430\n",
      "W2 size 6\n",
      "W3 size 3\n"
     ]
    },
    {
     "name": "stderr",
     "output_type": "stream",
     "text": [
      "/usr/local/lib/python3.5/dist-packages/sklearn/metrics/classification.py:1137: UndefinedMetricWarning: F-score is ill-defined and being set to 0.0 in labels with no true samples.\n",
      "  'recall', 'true', average, warn_for)\n"
     ]
    },
    {
     "name": "stdout",
     "output_type": "stream",
     "text": [
      "Using well-known algorithms: Logistic Regression, RandomForest and MLP\n"
     ]
    },
    {
     "name": "stderr",
     "output_type": "stream",
     "text": [
      "/usr/local/lib/python3.5/dist-packages/sklearn/metrics/classification.py:1135: UndefinedMetricWarning: F-score is ill-defined and being set to 0.0 in labels with no predicted samples.\n",
      "  'precision', 'predicted', average, warn_for)\n",
      "/usr/local/lib/python3.5/dist-packages/sklearn/neural_network/multilayer_perceptron.py:564: ConvergenceWarning: Stochastic Optimizer: Maximum iterations (200) reached and the optimization hasn't converged yet.\n",
      "  % self.max_iter, ConvergenceWarning)\n"
     ]
    },
    {
     "name": "stdout",
     "output_type": "stream",
     "text": [
      "Took: 179.058673620224\n",
      "--------------------------------------------------\n",
      "En: 400\tTr: 380\n",
      "Using first variation (Regressor and Classifier with score vectors)\n",
      "epoch 0:\t20.390750684903054\n",
      "epoch 10:\t19.961481763535904\n",
      "epoch 20:\t19.758978103925415\n",
      "epoch 30:\t19.541656667165018\n",
      "epoch 40:\t19.247919979763825\n",
      "epoch 50:\t18.931680962255644\n",
      "Using second variation (average of outputs produced by each set of weight matrices)\n",
      "Epoch 0: 0.2527852721909059\n",
      "Epoch 25: 0.000644213455546878\n",
      "Epoch 50: 0.00030412165566972156\n",
      "Epoch 75: 0.00020184547143629335\n",
      "Epoch 100: 0.00015201188548593847\n",
      "Epoch 125: 0.0001223671986885222\n",
      "Epoch 150: 0.0001026548173634012\n",
      "W1 size 433\n",
      "W2 size 6\n",
      "W3 size 3\n"
     ]
    },
    {
     "name": "stderr",
     "output_type": "stream",
     "text": [
      "/usr/local/lib/python3.5/dist-packages/sklearn/metrics/classification.py:1137: UndefinedMetricWarning: F-score is ill-defined and being set to 0.0 in labels with no true samples.\n",
      "  'recall', 'true', average, warn_for)\n"
     ]
    },
    {
     "name": "stdout",
     "output_type": "stream",
     "text": [
      "Using well-known algorithms: Logistic Regression, RandomForest and MLP\n"
     ]
    },
    {
     "name": "stderr",
     "output_type": "stream",
     "text": [
      "/usr/local/lib/python3.5/dist-packages/sklearn/metrics/classification.py:1135: UndefinedMetricWarning: F-score is ill-defined and being set to 0.0 in labels with no predicted samples.\n",
      "  'precision', 'predicted', average, warn_for)\n",
      "/usr/local/lib/python3.5/dist-packages/sklearn/neural_network/multilayer_perceptron.py:564: ConvergenceWarning: Stochastic Optimizer: Maximum iterations (200) reached and the optimization hasn't converged yet.\n",
      "  % self.max_iter, ConvergenceWarning)\n"
     ]
    },
    {
     "name": "stdout",
     "output_type": "stream",
     "text": [
      "Took: 190.02120566368103\n",
      "--------------------------------------------------\n",
      "En: 400\tTr: 422\n",
      "Using first variation (Regressor and Classifier with score vectors)\n",
      "epoch 0:\t21.6601076755497\n",
      "epoch 10:\t21.330322973177132\n",
      "epoch 20:\t20.65528162089002\n",
      "epoch 30:\t20.066297492854066\n",
      "epoch 40:\t19.556179982364643\n",
      "epoch 50:\t19.15500589355461\n",
      "Using second variation (average of outputs produced by each set of weight matrices)\n",
      "Epoch 0: 0.07828769940266674\n",
      "Epoch 25: 0.0003727303618415879\n",
      "Epoch 50: 0.00019240536329749561\n",
      "Epoch 75: 0.00013092980744478172\n",
      "Epoch 100: 9.969328305536954e-05\n",
      "Epoch 125: 8.071349489524052e-05\n",
      "Epoch 150: 6.793739147983524e-05\n",
      "W1 size 450\n",
      "W2 size 6\n",
      "W3 size 3\n"
     ]
    },
    {
     "name": "stderr",
     "output_type": "stream",
     "text": [
      "/usr/local/lib/python3.5/dist-packages/sklearn/metrics/classification.py:1137: UndefinedMetricWarning: F-score is ill-defined and being set to 0.0 in labels with no true samples.\n",
      "  'recall', 'true', average, warn_for)\n"
     ]
    },
    {
     "name": "stdout",
     "output_type": "stream",
     "text": [
      "Using well-known algorithms: Logistic Regression, RandomForest and MLP\n"
     ]
    },
    {
     "name": "stderr",
     "output_type": "stream",
     "text": [
      "/usr/local/lib/python3.5/dist-packages/sklearn/metrics/classification.py:1135: UndefinedMetricWarning: F-score is ill-defined and being set to 0.0 in labels with no predicted samples.\n",
      "  'precision', 'predicted', average, warn_for)\n"
     ]
    },
    {
     "name": "stdout",
     "output_type": "stream",
     "text": [
      "Took: 200.23244786262512\n",
      "--------------------------------------------------\n",
      "En: 450\tTr: 42\n",
      "Using first variation (Regressor and Classifier with score vectors)\n",
      "epoch 0:\t26.865872466821074\n",
      "epoch 10:\t26.62582742188162\n",
      "epoch 20:\t26.370354011766086\n",
      "epoch 30:\t26.146472524079694\n",
      "epoch 40:\t25.939127686266954\n",
      "epoch 50:\t25.7424708338402\n",
      "Using second variation (average of outputs produced by each set of weight matrices)\n",
      "Epoch 0: 0.3050274066205737\n",
      "Epoch 25: 0.0005456630450520314\n",
      "Epoch 50: 0.00028036645629279423\n",
      "Epoch 75: 0.00019126261870861333\n",
      "Epoch 100: 0.0001460268544572607\n",
      "Epoch 125: 0.00011851018581857944\n",
      "Epoch 150: 9.994486917759752e-05\n",
      "W1 size 307\n",
      "W2 size 5\n",
      "W3 size 3\n"
     ]
    },
    {
     "name": "stderr",
     "output_type": "stream",
     "text": [
      "/usr/local/lib/python3.5/dist-packages/sklearn/metrics/classification.py:1137: UndefinedMetricWarning: F-score is ill-defined and being set to 0.0 in labels with no true samples.\n",
      "  'recall', 'true', average, warn_for)\n"
     ]
    },
    {
     "name": "stdout",
     "output_type": "stream",
     "text": [
      "Using well-known algorithms: Logistic Regression, RandomForest and MLP\n"
     ]
    },
    {
     "name": "stderr",
     "output_type": "stream",
     "text": [
      "/usr/local/lib/python3.5/dist-packages/sklearn/metrics/classification.py:1135: UndefinedMetricWarning: F-score is ill-defined and being set to 0.0 in labels with no predicted samples.\n",
      "  'precision', 'predicted', average, warn_for)\n",
      "/usr/local/lib/python3.5/dist-packages/sklearn/neural_network/multilayer_perceptron.py:564: ConvergenceWarning: Stochastic Optimizer: Maximum iterations (200) reached and the optimization hasn't converged yet.\n",
      "  % self.max_iter, ConvergenceWarning)\n"
     ]
    },
    {
     "name": "stdout",
     "output_type": "stream",
     "text": [
      "Took: 125.96435618400574\n",
      "--------------------------------------------------\n",
      "En: 450\tTr: 84\n",
      "Using first variation (Regressor and Classifier with score vectors)\n",
      "epoch 0:\t22.004491122342557\n",
      "epoch 10:\t22.729575099857453\n",
      "epoch 20:\t22.73737548944202\n",
      "epoch 30:\t22.702624349611067\n",
      "epoch 40:\t22.640419592688662\n",
      "epoch 50:\t22.48355640549978\n",
      "Using second variation (average of outputs produced by each set of weight matrices)\n",
      "Epoch 0: 0.17393536960190176\n",
      "Epoch 25: 0.0005959318883488678\n",
      "Epoch 50: 0.0003055376585024518\n",
      "Epoch 75: 0.00020666014786775613\n",
      "Epoch 100: 0.00015658599297278095\n",
      "Epoch 125: 0.00012626609541537985\n",
      "Epoch 150: 0.00010590793361030555\n",
      "W1 size 331\n",
      "W2 size 6\n",
      "W3 size 3\n"
     ]
    },
    {
     "name": "stderr",
     "output_type": "stream",
     "text": [
      "/usr/local/lib/python3.5/dist-packages/sklearn/metrics/classification.py:1137: UndefinedMetricWarning: F-score is ill-defined and being set to 0.0 in labels with no true samples.\n",
      "  'recall', 'true', average, warn_for)\n"
     ]
    },
    {
     "name": "stdout",
     "output_type": "stream",
     "text": [
      "Using well-known algorithms: Logistic Regression, RandomForest and MLP\n"
     ]
    },
    {
     "name": "stderr",
     "output_type": "stream",
     "text": [
      "/usr/local/lib/python3.5/dist-packages/sklearn/metrics/classification.py:1135: UndefinedMetricWarning: F-score is ill-defined and being set to 0.0 in labels with no predicted samples.\n",
      "  'precision', 'predicted', average, warn_for)\n",
      "/usr/local/lib/python3.5/dist-packages/sklearn/neural_network/multilayer_perceptron.py:564: ConvergenceWarning: Stochastic Optimizer: Maximum iterations (200) reached and the optimization hasn't converged yet.\n",
      "  % self.max_iter, ConvergenceWarning)\n"
     ]
    },
    {
     "name": "stdout",
     "output_type": "stream",
     "text": [
      "Took: 131.05669975280762\n",
      "--------------------------------------------------\n",
      "En: 450\tTr: 127\n",
      "Using first variation (Regressor and Classifier with score vectors)\n",
      "epoch 0:\t19.594115014817756\n",
      "epoch 10:\t19.271537971587364\n",
      "epoch 20:\t19.11227014525626\n",
      "epoch 30:\t19.024860383671985\n",
      "epoch 40:\t18.562019712417765\n",
      "epoch 50:\t18.08715867656493\n",
      "Using second variation (average of outputs produced by each set of weight matrices)\n",
      "Epoch 0: 0.28970330833987906\n",
      "Epoch 25: 0.0007414634555959805\n",
      "Epoch 50: 0.00033016647060600405\n",
      "Epoch 75: 0.00021591179560834898\n",
      "Epoch 100: 0.00016148017183590906\n",
      "Epoch 125: 0.00012944253109388294\n",
      "Epoch 150: 0.00010827240805640481\n",
      "W1 size 363\n",
      "W2 size 6\n",
      "W3 size 3\n"
     ]
    },
    {
     "name": "stderr",
     "output_type": "stream",
     "text": [
      "/usr/local/lib/python3.5/dist-packages/sklearn/metrics/classification.py:1137: UndefinedMetricWarning: F-score is ill-defined and being set to 0.0 in labels with no true samples.\n",
      "  'recall', 'true', average, warn_for)\n"
     ]
    },
    {
     "name": "stdout",
     "output_type": "stream",
     "text": [
      "Using well-known algorithms: Logistic Regression, RandomForest and MLP\n"
     ]
    },
    {
     "name": "stderr",
     "output_type": "stream",
     "text": [
      "/usr/local/lib/python3.5/dist-packages/sklearn/metrics/classification.py:1135: UndefinedMetricWarning: F-score is ill-defined and being set to 0.0 in labels with no predicted samples.\n",
      "  'precision', 'predicted', average, warn_for)\n",
      "/usr/local/lib/python3.5/dist-packages/sklearn/neural_network/multilayer_perceptron.py:564: ConvergenceWarning: Stochastic Optimizer: Maximum iterations (200) reached and the optimization hasn't converged yet.\n",
      "  % self.max_iter, ConvergenceWarning)\n"
     ]
    },
    {
     "name": "stdout",
     "output_type": "stream",
     "text": [
      "Took: 143.593816280365\n",
      "--------------------------------------------------\n",
      "En: 450\tTr: 169\n",
      "Using first variation (Regressor and Classifier with score vectors)\n",
      "epoch 0:\t22.279232232701943\n",
      "epoch 10:\t21.530002035102598\n",
      "epoch 20:\t21.297822496508925\n",
      "epoch 30:\t21.16656144619371\n",
      "epoch 40:\t21.043885605830074\n",
      "epoch 50:\t20.910303573525074\n",
      "Using second variation (average of outputs produced by each set of weight matrices)\n",
      "Epoch 0: 0.30802680941819016\n",
      "Epoch 25: 0.0004393208874916542\n",
      "Epoch 50: 0.00023060967697326653\n",
      "Epoch 75: 0.00015844785637357078\n",
      "Epoch 100: 0.00012149563958151888\n",
      "Epoch 125: 9.891437581174936e-05\n",
      "Epoch 150: 8.363013044949804e-05\n",
      "W1 size 380\n",
      "W2 size 5\n",
      "W3 size 3\n"
     ]
    },
    {
     "name": "stderr",
     "output_type": "stream",
     "text": [
      "/usr/local/lib/python3.5/dist-packages/sklearn/metrics/classification.py:1137: UndefinedMetricWarning: F-score is ill-defined and being set to 0.0 in labels with no true samples.\n",
      "  'recall', 'true', average, warn_for)\n"
     ]
    },
    {
     "name": "stdout",
     "output_type": "stream",
     "text": [
      "Using well-known algorithms: Logistic Regression, RandomForest and MLP\n"
     ]
    },
    {
     "name": "stderr",
     "output_type": "stream",
     "text": [
      "/usr/local/lib/python3.5/dist-packages/sklearn/metrics/classification.py:1135: UndefinedMetricWarning: F-score is ill-defined and being set to 0.0 in labels with no predicted samples.\n",
      "  'precision', 'predicted', average, warn_for)\n"
     ]
    },
    {
     "name": "stdout",
     "output_type": "stream",
     "text": [
      "Took: 161.0457901954651\n",
      "--------------------------------------------------\n",
      "En: 450\tTr: 211\n",
      "Using first variation (Regressor and Classifier with score vectors)\n",
      "epoch 0:\t19.90115450433576\n",
      "epoch 10:\t20.193099080931947\n",
      "epoch 20:\t20.129471041861425\n",
      "epoch 30:\t20.054335734342015\n",
      "epoch 40:\t19.985078698177443\n",
      "epoch 50:\t19.918722763535502\n",
      "Using second variation (average of outputs produced by each set of weight matrices)\n",
      "Epoch 0: 0.2584340539914752\n",
      "Epoch 25: 0.000511650608053564\n",
      "Epoch 50: 0.0002614798565731658\n",
      "Epoch 75: 0.0001777041987947702\n",
      "Epoch 100: 0.0001352858377274613\n",
      "Epoch 125: 0.00010953529872070591\n",
      "Epoch 150: 9.219847727031753e-05\n",
      "W1 size 407\n",
      "W2 size 6\n",
      "W3 size 3\n"
     ]
    },
    {
     "name": "stderr",
     "output_type": "stream",
     "text": [
      "/usr/local/lib/python3.5/dist-packages/sklearn/metrics/classification.py:1137: UndefinedMetricWarning: F-score is ill-defined and being set to 0.0 in labels with no true samples.\n",
      "  'recall', 'true', average, warn_for)\n"
     ]
    },
    {
     "name": "stdout",
     "output_type": "stream",
     "text": [
      "Using well-known algorithms: Logistic Regression, RandomForest and MLP\n"
     ]
    },
    {
     "name": "stderr",
     "output_type": "stream",
     "text": [
      "/usr/local/lib/python3.5/dist-packages/sklearn/metrics/classification.py:1135: UndefinedMetricWarning: F-score is ill-defined and being set to 0.0 in labels with no predicted samples.\n",
      "  'precision', 'predicted', average, warn_for)\n",
      "/usr/local/lib/python3.5/dist-packages/sklearn/neural_network/multilayer_perceptron.py:564: ConvergenceWarning: Stochastic Optimizer: Maximum iterations (200) reached and the optimization hasn't converged yet.\n",
      "  % self.max_iter, ConvergenceWarning)\n"
     ]
    },
    {
     "name": "stdout",
     "output_type": "stream",
     "text": [
      "Took: 170.32103633880615\n",
      "--------------------------------------------------\n",
      "En: 450\tTr: 253\n",
      "Using first variation (Regressor and Classifier with score vectors)\n",
      "epoch 0:\t19.069064691948373\n",
      "epoch 10:\t18.915895082532664\n",
      "epoch 20:\t18.85900422469663\n",
      "epoch 30:\t18.75913876748517\n",
      "epoch 40:\t18.652745815593033\n",
      "epoch 50:\t18.546469313825295\n",
      "Using second variation (average of outputs produced by each set of weight matrices)\n",
      "Epoch 0: 0.5275608099296812\n",
      "Epoch 25: 0.0005555104363632494\n",
      "Epoch 50: 0.00029104602657390463\n",
      "Epoch 75: 0.00019961825399200875\n",
      "Epoch 100: 0.00015281200822855252\n",
      "Epoch 125: 0.00012423816307146474\n",
      "Epoch 150: 0.00010491570962380222\n",
      "W1 size 418\n",
      "W2 size 6\n",
      "W3 size 3\n"
     ]
    },
    {
     "name": "stderr",
     "output_type": "stream",
     "text": [
      "/usr/local/lib/python3.5/dist-packages/sklearn/metrics/classification.py:1137: UndefinedMetricWarning: F-score is ill-defined and being set to 0.0 in labels with no true samples.\n",
      "  'recall', 'true', average, warn_for)\n"
     ]
    },
    {
     "name": "stdout",
     "output_type": "stream",
     "text": [
      "Using well-known algorithms: Logistic Regression, RandomForest and MLP\n"
     ]
    },
    {
     "name": "stderr",
     "output_type": "stream",
     "text": [
      "/usr/local/lib/python3.5/dist-packages/sklearn/metrics/classification.py:1135: UndefinedMetricWarning: F-score is ill-defined and being set to 0.0 in labels with no predicted samples.\n",
      "  'precision', 'predicted', average, warn_for)\n",
      "/usr/local/lib/python3.5/dist-packages/sklearn/neural_network/multilayer_perceptron.py:564: ConvergenceWarning: Stochastic Optimizer: Maximum iterations (200) reached and the optimization hasn't converged yet.\n",
      "  % self.max_iter, ConvergenceWarning)\n"
     ]
    },
    {
     "name": "stdout",
     "output_type": "stream",
     "text": [
      "Took: 175.02879309654236\n",
      "--------------------------------------------------\n",
      "En: 450\tTr: 295\n",
      "Using first variation (Regressor and Classifier with score vectors)\n",
      "epoch 0:\t24.3715033205759\n",
      "epoch 10:\t23.895530727248488\n",
      "epoch 20:\t23.272879447452897\n",
      "epoch 30:\t22.662371086116725\n",
      "epoch 40:\t22.177926312966857\n",
      "epoch 50:\t21.72729476873621\n",
      "Using second variation (average of outputs produced by each set of weight matrices)\n",
      "Epoch 0: 0.11485877110074756\n",
      "Epoch 25: 0.0004397163271051458\n",
      "Epoch 50: 0.0002244674981265831\n",
      "Epoch 75: 0.00015236743076700075\n",
      "Epoch 100: 0.00011592003783630084\n",
      "Epoch 125: 9.381504143664874e-05\n",
      "Epoch 150: 7.893575685090197e-05\n",
      "W1 size 438\n",
      "W2 size 6\n",
      "W3 size 3\n"
     ]
    },
    {
     "name": "stderr",
     "output_type": "stream",
     "text": [
      "/usr/local/lib/python3.5/dist-packages/sklearn/metrics/classification.py:1137: UndefinedMetricWarning: F-score is ill-defined and being set to 0.0 in labels with no true samples.\n",
      "  'recall', 'true', average, warn_for)\n"
     ]
    },
    {
     "name": "stdout",
     "output_type": "stream",
     "text": [
      "Using well-known algorithms: Logistic Regression, RandomForest and MLP\n"
     ]
    },
    {
     "name": "stderr",
     "output_type": "stream",
     "text": [
      "/usr/local/lib/python3.5/dist-packages/sklearn/metrics/classification.py:1135: UndefinedMetricWarning: F-score is ill-defined and being set to 0.0 in labels with no predicted samples.\n",
      "  'precision', 'predicted', average, warn_for)\n",
      "/usr/local/lib/python3.5/dist-packages/sklearn/neural_network/multilayer_perceptron.py:564: ConvergenceWarning: Stochastic Optimizer: Maximum iterations (200) reached and the optimization hasn't converged yet.\n",
      "  % self.max_iter, ConvergenceWarning)\n"
     ]
    },
    {
     "name": "stdout",
     "output_type": "stream",
     "text": [
      "Took: 210.38766741752625\n",
      "--------------------------------------------------\n",
      "En: 450\tTr: 338\n",
      "Using first variation (Regressor and Classifier with score vectors)\n",
      "epoch 0:\t18.919484938105118\n",
      "epoch 10:\t19.28555807224158\n",
      "epoch 20:\t19.005924254982617\n",
      "epoch 30:\t18.751369476151698\n",
      "epoch 40:\t18.51848797968962\n",
      "epoch 50:\t18.32072509810375\n",
      "Using second variation (average of outputs produced by each set of weight matrices)\n",
      "Epoch 0: 0.10371962915417361\n",
      "Epoch 25: 0.00037199992234516826\n",
      "Epoch 50: 0.00019634836700119807\n",
      "Epoch 75: 0.00013489632450614696\n",
      "Epoch 100: 0.0001032695076095348\n",
      "Epoch 125: 8.390321943435275e-05\n",
      "Epoch 150: 7.078801397919611e-05\n",
      "W1 size 445\n",
      "W2 size 6\n",
      "W3 size 3\n"
     ]
    },
    {
     "name": "stderr",
     "output_type": "stream",
     "text": [
      "/usr/local/lib/python3.5/dist-packages/sklearn/metrics/classification.py:1137: UndefinedMetricWarning: F-score is ill-defined and being set to 0.0 in labels with no true samples.\n",
      "  'recall', 'true', average, warn_for)\n"
     ]
    },
    {
     "name": "stdout",
     "output_type": "stream",
     "text": [
      "Using well-known algorithms: Logistic Regression, RandomForest and MLP\n"
     ]
    },
    {
     "name": "stderr",
     "output_type": "stream",
     "text": [
      "/usr/local/lib/python3.5/dist-packages/sklearn/metrics/classification.py:1135: UndefinedMetricWarning: F-score is ill-defined and being set to 0.0 in labels with no predicted samples.\n",
      "  'precision', 'predicted', average, warn_for)\n",
      "/usr/local/lib/python3.5/dist-packages/sklearn/neural_network/multilayer_perceptron.py:564: ConvergenceWarning: Stochastic Optimizer: Maximum iterations (200) reached and the optimization hasn't converged yet.\n",
      "  % self.max_iter, ConvergenceWarning)\n"
     ]
    },
    {
     "name": "stdout",
     "output_type": "stream",
     "text": [
      "Took: 190.69823360443115\n",
      "--------------------------------------------------\n",
      "En: 450\tTr: 380\n",
      "Using first variation (Regressor and Classifier with score vectors)\n",
      "epoch 0:\t26.197183884851558\n",
      "epoch 10:\t25.81307837548964\n",
      "epoch 20:\t25.589528137811925\n",
      "epoch 30:\t25.40263210681198\n",
      "epoch 40:\t25.225490300987076\n",
      "epoch 50:\t25.07115238081521\n",
      "Using second variation (average of outputs produced by each set of weight matrices)\n",
      "Epoch 0: 0.10571585885406415\n",
      "Epoch 25: 0.00028698661097801203\n",
      "Epoch 50: 0.00014582280602737737\n",
      "Epoch 75: 9.897251355090955e-05\n",
      "Epoch 100: 7.532519634566942e-05\n",
      "Epoch 125: 6.099497034766837e-05\n",
      "Epoch 150: 5.13575063226381e-05\n",
      "W1 size 455\n",
      "W2 size 6\n",
      "W3 size 3\n"
     ]
    },
    {
     "name": "stderr",
     "output_type": "stream",
     "text": [
      "/usr/local/lib/python3.5/dist-packages/sklearn/metrics/classification.py:1137: UndefinedMetricWarning: F-score is ill-defined and being set to 0.0 in labels with no true samples.\n",
      "  'recall', 'true', average, warn_for)\n"
     ]
    },
    {
     "name": "stdout",
     "output_type": "stream",
     "text": [
      "Using well-known algorithms: Logistic Regression, RandomForest and MLP\n"
     ]
    },
    {
     "name": "stderr",
     "output_type": "stream",
     "text": [
      "/usr/local/lib/python3.5/dist-packages/sklearn/metrics/classification.py:1135: UndefinedMetricWarning: F-score is ill-defined and being set to 0.0 in labels with no predicted samples.\n",
      "  'precision', 'predicted', average, warn_for)\n",
      "/usr/local/lib/python3.5/dist-packages/sklearn/neural_network/multilayer_perceptron.py:564: ConvergenceWarning: Stochastic Optimizer: Maximum iterations (200) reached and the optimization hasn't converged yet.\n",
      "  % self.max_iter, ConvergenceWarning)\n"
     ]
    },
    {
     "name": "stdout",
     "output_type": "stream",
     "text": [
      "Took: 216.03901267051697\n",
      "--------------------------------------------------\n",
      "En: 450\tTr: 422\n",
      "Using first variation (Regressor and Classifier with score vectors)\n",
      "epoch 0:\t21.606563198607603\n",
      "epoch 10:\t21.48035620638495\n",
      "epoch 20:\t21.379973345614715\n",
      "epoch 30:\t21.295630084115448\n",
      "epoch 40:\t21.219249195774957\n",
      "epoch 50:\t21.147992989043942\n",
      "Using second variation (average of outputs produced by each set of weight matrices)\n",
      "Epoch 0: 0.3032070672010797\n",
      "Epoch 25: 0.0003152702907970307\n",
      "Epoch 50: 0.00016578307737583956\n",
      "Epoch 75: 0.00011384480764942954\n",
      "Epoch 100: 8.721957099956694e-05\n",
      "Epoch 125: 7.095131913418599e-05\n",
      "Epoch 150: 5.994693880185921e-05\n",
      "W1 size 466\n",
      "W2 size 6\n",
      "W3 size 3\n"
     ]
    },
    {
     "name": "stderr",
     "output_type": "stream",
     "text": [
      "/usr/local/lib/python3.5/dist-packages/sklearn/metrics/classification.py:1137: UndefinedMetricWarning: F-score is ill-defined and being set to 0.0 in labels with no true samples.\n",
      "  'recall', 'true', average, warn_for)\n"
     ]
    },
    {
     "name": "stdout",
     "output_type": "stream",
     "text": [
      "Using well-known algorithms: Logistic Regression, RandomForest and MLP\n"
     ]
    },
    {
     "name": "stderr",
     "output_type": "stream",
     "text": [
      "/usr/local/lib/python3.5/dist-packages/sklearn/metrics/classification.py:1135: UndefinedMetricWarning: F-score is ill-defined and being set to 0.0 in labels with no predicted samples.\n",
      "  'precision', 'predicted', average, warn_for)\n",
      "/usr/local/lib/python3.5/dist-packages/sklearn/neural_network/multilayer_perceptron.py:564: ConvergenceWarning: Stochastic Optimizer: Maximum iterations (200) reached and the optimization hasn't converged yet.\n",
      "  % self.max_iter, ConvergenceWarning)\n"
     ]
    },
    {
     "name": "stdout",
     "output_type": "stream",
     "text": [
      "Took: 215.69434142112732\n",
      "--------------------------------------------------\n",
      "En: 500\tTr: 42\n",
      "Using first variation (Regressor and Classifier with score vectors)\n",
      "epoch 0:\t20.352149627491556\n",
      "epoch 10:\t19.555588703441146\n",
      "epoch 20:\t19.228606787110852\n",
      "epoch 30:\t18.85393100719121\n",
      "epoch 40:\t18.52685665669368\n",
      "epoch 50:\t18.223886497921793\n",
      "Using second variation (average of outputs produced by each set of weight matrices)\n",
      "Epoch 0: 0.3761650343075118\n",
      "Epoch 25: 0.00041472828051418827\n",
      "Epoch 50: 0.00021214929320379226\n",
      "Epoch 75: 0.00014377244295446994\n",
      "Epoch 100: 0.00010920797396643134\n",
      "Epoch 125: 8.82800929985007e-05\n",
      "Epoch 150: 7.421621850423751e-05\n",
      "W1 size 327\n",
      "W2 size 5\n",
      "W3 size 3\n"
     ]
    },
    {
     "name": "stderr",
     "output_type": "stream",
     "text": [
      "/usr/local/lib/python3.5/dist-packages/sklearn/metrics/classification.py:1137: UndefinedMetricWarning: F-score is ill-defined and being set to 0.0 in labels with no true samples.\n",
      "  'recall', 'true', average, warn_for)\n"
     ]
    },
    {
     "name": "stdout",
     "output_type": "stream",
     "text": [
      "Using well-known algorithms: Logistic Regression, RandomForest and MLP\n"
     ]
    },
    {
     "name": "stderr",
     "output_type": "stream",
     "text": [
      "/usr/local/lib/python3.5/dist-packages/sklearn/metrics/classification.py:1135: UndefinedMetricWarning: F-score is ill-defined and being set to 0.0 in labels with no predicted samples.\n",
      "  'precision', 'predicted', average, warn_for)\n",
      "/usr/local/lib/python3.5/dist-packages/sklearn/neural_network/multilayer_perceptron.py:564: ConvergenceWarning: Stochastic Optimizer: Maximum iterations (200) reached and the optimization hasn't converged yet.\n",
      "  % self.max_iter, ConvergenceWarning)\n"
     ]
    },
    {
     "name": "stdout",
     "output_type": "stream",
     "text": [
      "Took: 133.52606678009033\n",
      "--------------------------------------------------\n",
      "En: 500\tTr: 84\n",
      "Using first variation (Regressor and Classifier with score vectors)\n",
      "epoch 0:\t20.691803409678126\n",
      "epoch 10:\t20.136418601806184\n",
      "epoch 20:\t19.904183185942873\n",
      "epoch 30:\t19.716269156760045\n",
      "epoch 40:\t19.52503051987658\n",
      "epoch 50:\t19.309017191742335\n",
      "Using second variation (average of outputs produced by each set of weight matrices)\n",
      "Epoch 0: 0.25665029659563665\n",
      "Epoch 25: 0.0004905063261088494\n",
      "Epoch 50: 0.00025105666410632765\n",
      "Epoch 75: 0.00017124719134895488\n",
      "Epoch 100: 0.00013080113732375588\n",
      "Epoch 125: 0.0001062059937962888\n",
      "Epoch 150: 8.96101574349755e-05\n",
      "W1 size 361\n",
      "W2 size 6\n",
      "W3 size 3\n"
     ]
    },
    {
     "name": "stderr",
     "output_type": "stream",
     "text": [
      "/usr/local/lib/python3.5/dist-packages/sklearn/metrics/classification.py:1137: UndefinedMetricWarning: F-score is ill-defined and being set to 0.0 in labels with no true samples.\n",
      "  'recall', 'true', average, warn_for)\n"
     ]
    },
    {
     "name": "stdout",
     "output_type": "stream",
     "text": [
      "Using well-known algorithms: Logistic Regression, RandomForest and MLP\n"
     ]
    },
    {
     "name": "stderr",
     "output_type": "stream",
     "text": [
      "/usr/local/lib/python3.5/dist-packages/sklearn/metrics/classification.py:1135: UndefinedMetricWarning: F-score is ill-defined and being set to 0.0 in labels with no predicted samples.\n",
      "  'precision', 'predicted', average, warn_for)\n",
      "/usr/local/lib/python3.5/dist-packages/sklearn/neural_network/multilayer_perceptron.py:564: ConvergenceWarning: Stochastic Optimizer: Maximum iterations (200) reached and the optimization hasn't converged yet.\n",
      "  % self.max_iter, ConvergenceWarning)\n"
     ]
    },
    {
     "name": "stdout",
     "output_type": "stream",
     "text": [
      "Took: 145.9303195476532\n",
      "--------------------------------------------------\n",
      "En: 500\tTr: 127\n",
      "Using first variation (Regressor and Classifier with score vectors)\n",
      "epoch 0:\t20.958997988897533\n",
      "epoch 10:\t20.98131648198051\n",
      "epoch 20:\t20.852204675097838\n",
      "epoch 30:\t20.780649651799422\n",
      "epoch 40:\t20.725646707782122\n",
      "epoch 50:\t20.657020036699716\n",
      "Using second variation (average of outputs produced by each set of weight matrices)\n",
      "Epoch 0: 0.35392535641488887\n",
      "Epoch 25: 0.0002602822780076576\n",
      "Epoch 50: 0.00014305039198003408\n",
      "Epoch 75: 0.00010100619789851503\n",
      "Epoch 100: 7.876543444635454e-05\n",
      "Epoch 125: 6.485381770503271e-05\n",
      "Epoch 150: 5.528141260298347e-05\n",
      "W1 size 378\n",
      "W2 size 6\n",
      "W3 size 3\n"
     ]
    },
    {
     "name": "stderr",
     "output_type": "stream",
     "text": [
      "/usr/local/lib/python3.5/dist-packages/sklearn/metrics/classification.py:1137: UndefinedMetricWarning: F-score is ill-defined and being set to 0.0 in labels with no true samples.\n",
      "  'recall', 'true', average, warn_for)\n"
     ]
    },
    {
     "name": "stdout",
     "output_type": "stream",
     "text": [
      "Using well-known algorithms: Logistic Regression, RandomForest and MLP\n"
     ]
    },
    {
     "name": "stderr",
     "output_type": "stream",
     "text": [
      "/usr/local/lib/python3.5/dist-packages/sklearn/metrics/classification.py:1135: UndefinedMetricWarning: F-score is ill-defined and being set to 0.0 in labels with no predicted samples.\n",
      "  'precision', 'predicted', average, warn_for)\n"
     ]
    },
    {
     "name": "stdout",
     "output_type": "stream",
     "text": [
      "Took: 167.3712501525879\n",
      "--------------------------------------------------\n",
      "En: 500\tTr: 169\n",
      "Using first variation (Regressor and Classifier with score vectors)\n",
      "epoch 0:\t19.534003696025266\n",
      "epoch 10:\t19.36066131344765\n",
      "epoch 20:\t19.268206732863817\n",
      "epoch 30:\t19.154355464028882\n",
      "epoch 40:\t19.062139561092682\n",
      "epoch 50:\t18.955769639336335\n",
      "Using second variation (average of outputs produced by each set of weight matrices)\n",
      "Epoch 0: 0.24028991376855685\n",
      "Epoch 25: 0.0004146316356321948\n",
      "Epoch 50: 0.00021625997696200763\n",
      "Epoch 75: 0.00014822131707259483\n",
      "Epoch 100: 0.00011345397213236583\n",
      "Epoch 125: 9.223144881763627e-05\n",
      "Epoch 150: 7.788589967127206e-05\n",
      "W1 size 412\n",
      "W2 size 6\n",
      "W3 size 3\n"
     ]
    },
    {
     "name": "stderr",
     "output_type": "stream",
     "text": [
      "/usr/local/lib/python3.5/dist-packages/sklearn/metrics/classification.py:1137: UndefinedMetricWarning: F-score is ill-defined and being set to 0.0 in labels with no true samples.\n",
      "  'recall', 'true', average, warn_for)\n"
     ]
    },
    {
     "name": "stdout",
     "output_type": "stream",
     "text": [
      "Using well-known algorithms: Logistic Regression, RandomForest and MLP\n"
     ]
    },
    {
     "name": "stderr",
     "output_type": "stream",
     "text": [
      "/usr/local/lib/python3.5/dist-packages/sklearn/metrics/classification.py:1135: UndefinedMetricWarning: F-score is ill-defined and being set to 0.0 in labels with no predicted samples.\n",
      "  'precision', 'predicted', average, warn_for)\n",
      "/usr/local/lib/python3.5/dist-packages/sklearn/neural_network/multilayer_perceptron.py:564: ConvergenceWarning: Stochastic Optimizer: Maximum iterations (200) reached and the optimization hasn't converged yet.\n",
      "  % self.max_iter, ConvergenceWarning)\n"
     ]
    },
    {
     "name": "stdout",
     "output_type": "stream",
     "text": [
      "Took: 167.59050488471985\n",
      "--------------------------------------------------\n",
      "En: 500\tTr: 211\n",
      "Using first variation (Regressor and Classifier with score vectors)\n",
      "epoch 0:\t20.792566889340154\n",
      "epoch 10:\t20.339970070715164\n",
      "epoch 20:\t20.142017246121444\n",
      "epoch 30:\t20.021765534250537\n",
      "epoch 40:\t19.938089892419825\n",
      "epoch 50:\t19.872180693977015\n",
      "Using second variation (average of outputs produced by each set of weight matrices)\n",
      "Epoch 0: 0.2560786816693698\n",
      "Epoch 25: 0.0004767723116346288\n",
      "Epoch 50: 0.0002456956410710267\n",
      "Epoch 75: 0.00016683373810949805\n",
      "Epoch 100: 0.00012679336002135725\n",
      "Epoch 125: 0.00010250003363627947\n",
      "Epoch 150: 8.615825675934706e-05\n",
      "W1 size 419\n",
      "W2 size 6\n",
      "W3 size 3\n"
     ]
    },
    {
     "name": "stderr",
     "output_type": "stream",
     "text": [
      "/usr/local/lib/python3.5/dist-packages/sklearn/metrics/classification.py:1137: UndefinedMetricWarning: F-score is ill-defined and being set to 0.0 in labels with no true samples.\n",
      "  'recall', 'true', average, warn_for)\n"
     ]
    },
    {
     "name": "stdout",
     "output_type": "stream",
     "text": [
      "Using well-known algorithms: Logistic Regression, RandomForest and MLP\n"
     ]
    },
    {
     "name": "stderr",
     "output_type": "stream",
     "text": [
      "/usr/local/lib/python3.5/dist-packages/sklearn/metrics/classification.py:1135: UndefinedMetricWarning: F-score is ill-defined and being set to 0.0 in labels with no predicted samples.\n",
      "  'precision', 'predicted', average, warn_for)\n",
      "/usr/local/lib/python3.5/dist-packages/sklearn/neural_network/multilayer_perceptron.py:564: ConvergenceWarning: Stochastic Optimizer: Maximum iterations (200) reached and the optimization hasn't converged yet.\n",
      "  % self.max_iter, ConvergenceWarning)\n"
     ]
    },
    {
     "name": "stdout",
     "output_type": "stream",
     "text": [
      "Took: 169.60603594779968\n",
      "--------------------------------------------------\n",
      "En: 500\tTr: 253\n",
      "Using first variation (Regressor and Classifier with score vectors)\n",
      "epoch 0:\t19.84394730874143\n",
      "epoch 10:\t19.65946081320399\n",
      "epoch 20:\t19.415605207819628\n",
      "epoch 30:\t19.18094267218787\n",
      "epoch 40:\t18.967337159273487\n",
      "epoch 50:\t18.842368395054926\n",
      "Using second variation (average of outputs produced by each set of weight matrices)\n",
      "Epoch 0: 0.12962018827377278\n",
      "Epoch 25: 0.00034621328608201637\n",
      "Epoch 50: 0.000181130610041195\n",
      "Epoch 75: 0.00012460382216148065\n",
      "Epoch 100: 9.55490878024168e-05\n",
      "Epoch 125: 7.771925614412392e-05\n",
      "Epoch 150: 6.561669215066098e-05\n",
      "W1 size 434\n",
      "W2 size 6\n",
      "W3 size 3\n"
     ]
    },
    {
     "name": "stderr",
     "output_type": "stream",
     "text": [
      "/usr/local/lib/python3.5/dist-packages/sklearn/metrics/classification.py:1137: UndefinedMetricWarning: F-score is ill-defined and being set to 0.0 in labels with no true samples.\n",
      "  'recall', 'true', average, warn_for)\n"
     ]
    },
    {
     "name": "stdout",
     "output_type": "stream",
     "text": [
      "Using well-known algorithms: Logistic Regression, RandomForest and MLP\n"
     ]
    },
    {
     "name": "stderr",
     "output_type": "stream",
     "text": [
      "/usr/local/lib/python3.5/dist-packages/sklearn/metrics/classification.py:1135: UndefinedMetricWarning: F-score is ill-defined and being set to 0.0 in labels with no predicted samples.\n",
      "  'precision', 'predicted', average, warn_for)\n",
      "/usr/local/lib/python3.5/dist-packages/sklearn/neural_network/multilayer_perceptron.py:564: ConvergenceWarning: Stochastic Optimizer: Maximum iterations (200) reached and the optimization hasn't converged yet.\n",
      "  % self.max_iter, ConvergenceWarning)\n"
     ]
    },
    {
     "name": "stdout",
     "output_type": "stream",
     "text": [
      "Took: 179.10565781593323\n",
      "--------------------------------------------------\n",
      "En: 500\tTr: 295\n",
      "Using first variation (Regressor and Classifier with score vectors)\n",
      "epoch 0:\t22.734760131935488\n",
      "epoch 10:\t22.29190553397957\n",
      "epoch 20:\t22.15922375717912\n",
      "epoch 30:\t22.03165495952136\n",
      "epoch 40:\t21.93550654112781\n",
      "epoch 50:\t21.873899714232895\n",
      "Using second variation (average of outputs produced by each set of weight matrices)\n",
      "Epoch 0: 0.10434976869522915\n",
      "Epoch 25: 0.0002949162455131171\n",
      "Epoch 50: 0.00014678002965177903\n",
      "Epoch 75: 9.926184845664634e-05\n",
      "Epoch 100: 7.546531212917756e-05\n",
      "Epoch 125: 6.109133447201505e-05\n",
      "Epoch 150: 5.143698051375658e-05\n",
      "W1 size 455\n",
      "W2 size 6\n",
      "W3 size 3\n"
     ]
    },
    {
     "name": "stderr",
     "output_type": "stream",
     "text": [
      "/usr/local/lib/python3.5/dist-packages/sklearn/metrics/classification.py:1137: UndefinedMetricWarning: F-score is ill-defined and being set to 0.0 in labels with no true samples.\n",
      "  'recall', 'true', average, warn_for)\n"
     ]
    },
    {
     "name": "stdout",
     "output_type": "stream",
     "text": [
      "Using well-known algorithms: Logistic Regression, RandomForest and MLP\n"
     ]
    },
    {
     "name": "stderr",
     "output_type": "stream",
     "text": [
      "/usr/local/lib/python3.5/dist-packages/sklearn/metrics/classification.py:1135: UndefinedMetricWarning: F-score is ill-defined and being set to 0.0 in labels with no predicted samples.\n",
      "  'precision', 'predicted', average, warn_for)\n",
      "/usr/local/lib/python3.5/dist-packages/sklearn/neural_network/multilayer_perceptron.py:564: ConvergenceWarning: Stochastic Optimizer: Maximum iterations (200) reached and the optimization hasn't converged yet.\n",
      "  % self.max_iter, ConvergenceWarning)\n"
     ]
    },
    {
     "name": "stdout",
     "output_type": "stream",
     "text": [
      "Took: 194.73919892311096\n",
      "--------------------------------------------------\n",
      "En: 500\tTr: 338\n",
      "Using first variation (Regressor and Classifier with score vectors)\n",
      "epoch 0:\t22.21512199244143\n",
      "epoch 10:\t22.19311289730174\n",
      "epoch 20:\t22.252294925041568\n",
      "epoch 30:\t22.152909361304093\n",
      "epoch 40:\t22.047279824113346\n",
      "epoch 50:\t21.941386519465045\n",
      "Using second variation (average of outputs produced by each set of weight matrices)\n",
      "Epoch 0: 0.29657118927785886\n",
      "Epoch 25: 0.0003265122484211627\n",
      "Epoch 50: 0.00017417796555592265\n",
      "Epoch 75: 0.00012061758473817714\n",
      "Epoch 100: 9.297741060062211e-05\n",
      "Epoch 125: 7.600746897234165e-05\n",
      "Epoch 150: 6.448457111505477e-05\n",
      "W1 size 466\n",
      "W2 size 6\n",
      "W3 size 3\n"
     ]
    },
    {
     "name": "stderr",
     "output_type": "stream",
     "text": [
      "/usr/local/lib/python3.5/dist-packages/sklearn/metrics/classification.py:1137: UndefinedMetricWarning: F-score is ill-defined and being set to 0.0 in labels with no true samples.\n",
      "  'recall', 'true', average, warn_for)\n"
     ]
    },
    {
     "name": "stdout",
     "output_type": "stream",
     "text": [
      "Using well-known algorithms: Logistic Regression, RandomForest and MLP\n"
     ]
    },
    {
     "name": "stderr",
     "output_type": "stream",
     "text": [
      "/usr/local/lib/python3.5/dist-packages/sklearn/metrics/classification.py:1135: UndefinedMetricWarning: F-score is ill-defined and being set to 0.0 in labels with no predicted samples.\n",
      "  'precision', 'predicted', average, warn_for)\n",
      "/usr/local/lib/python3.5/dist-packages/sklearn/neural_network/multilayer_perceptron.py:564: ConvergenceWarning: Stochastic Optimizer: Maximum iterations (200) reached and the optimization hasn't converged yet.\n",
      "  % self.max_iter, ConvergenceWarning)\n"
     ]
    },
    {
     "name": "stdout",
     "output_type": "stream",
     "text": [
      "Took: 204.63944697380066\n",
      "--------------------------------------------------\n",
      "En: 500\tTr: 380\n",
      "Using first variation (Regressor and Classifier with score vectors)\n",
      "epoch 0:\t25.08180268252599\n",
      "epoch 10:\t24.665767040838677\n",
      "epoch 20:\t24.307576566824896\n",
      "epoch 30:\t23.93842575710035\n",
      "epoch 40:\t23.59141644095077\n",
      "epoch 50:\t23.315524779636736\n",
      "Using second variation (average of outputs produced by each set of weight matrices)\n",
      "Epoch 0: 0.41213754883653914\n",
      "Epoch 25: 0.00039138236239695865\n",
      "Epoch 50: 0.0002024536817725772\n",
      "Epoch 75: 0.0001380907243058131\n",
      "Epoch 100: 0.00010541766176831144\n",
      "Epoch 125: 8.557930515923251e-05\n",
      "Epoch 150: 7.223055263481307e-05\n",
      "W1 size 475\n",
      "W2 size 6\n",
      "W3 size 3\n"
     ]
    },
    {
     "name": "stderr",
     "output_type": "stream",
     "text": [
      "/usr/local/lib/python3.5/dist-packages/sklearn/metrics/classification.py:1137: UndefinedMetricWarning: F-score is ill-defined and being set to 0.0 in labels with no true samples.\n",
      "  'recall', 'true', average, warn_for)\n"
     ]
    },
    {
     "name": "stdout",
     "output_type": "stream",
     "text": [
      "Using well-known algorithms: Logistic Regression, RandomForest and MLP\n"
     ]
    },
    {
     "name": "stderr",
     "output_type": "stream",
     "text": [
      "/usr/local/lib/python3.5/dist-packages/sklearn/metrics/classification.py:1135: UndefinedMetricWarning: F-score is ill-defined and being set to 0.0 in labels with no predicted samples.\n",
      "  'precision', 'predicted', average, warn_for)\n",
      "/usr/local/lib/python3.5/dist-packages/sklearn/neural_network/multilayer_perceptron.py:564: ConvergenceWarning: Stochastic Optimizer: Maximum iterations (200) reached and the optimization hasn't converged yet.\n",
      "  % self.max_iter, ConvergenceWarning)\n"
     ]
    },
    {
     "name": "stdout",
     "output_type": "stream",
     "text": [
      "Took: 230.0296061038971\n",
      "--------------------------------------------------\n",
      "En: 500\tTr: 422\n",
      "Using first variation (Regressor and Classifier with score vectors)\n",
      "epoch 0:\t27.39200691512482\n",
      "epoch 10:\t27.16839772153587\n",
      "epoch 20:\t27.04829108057056\n",
      "epoch 30:\t26.894248068384304\n",
      "epoch 40:\t26.726854637126618\n",
      "epoch 50:\t26.55963785820566\n",
      "Using second variation (average of outputs produced by each set of weight matrices)\n",
      "Epoch 0: 0.047101801303673516\n",
      "Epoch 25: 0.00019555911643070578\n",
      "Epoch 50: 0.00010199585562988154\n",
      "Epoch 75: 7.009595975100482e-05\n",
      "Epoch 100: 5.391684224333517e-05\n",
      "Epoch 125: 4.408453848255359e-05\n",
      "Epoch 150: 3.744982887393341e-05\n",
      "W1 size 487\n",
      "W2 size 6\n",
      "W3 size 3\n"
     ]
    },
    {
     "name": "stderr",
     "output_type": "stream",
     "text": [
      "/usr/local/lib/python3.5/dist-packages/sklearn/metrics/classification.py:1137: UndefinedMetricWarning: F-score is ill-defined and being set to 0.0 in labels with no true samples.\n",
      "  'recall', 'true', average, warn_for)\n"
     ]
    },
    {
     "name": "stdout",
     "output_type": "stream",
     "text": [
      "Using well-known algorithms: Logistic Regression, RandomForest and MLP\n"
     ]
    },
    {
     "name": "stderr",
     "output_type": "stream",
     "text": [
      "/usr/local/lib/python3.5/dist-packages/sklearn/metrics/classification.py:1135: UndefinedMetricWarning: F-score is ill-defined and being set to 0.0 in labels with no predicted samples.\n",
      "  'precision', 'predicted', average, warn_for)\n"
     ]
    },
    {
     "name": "stdout",
     "output_type": "stream",
     "text": [
      "Took: 231.95277643203735\n",
      "--------------------------------------------------\n"
     ]
    }
   ],
   "source": [
    "robustness_tri = robustness_test(df_tri, tronly_test_raw_tri)\n",
    "pickle.dump(robustness_tri, open(\"../results/robustness_tri.results\", \"wb\"))"
   ]
  },
  {
   "cell_type": "code",
   "execution_count": null,
   "metadata": {},
   "outputs": [],
   "source": [
    "# HOW TO CHEAT LIKE A PRO\n",
    "# \"\"\"\n",
    "# def test_selective(df_test, W1, W2, W3):\n",
    "#     reset_graph()\n",
    "#     x = tf.placeholder(tf.float32, [None, 300])\n",
    "#     y = tf.placeholder(tf.float32, [None, 10]) # 1-10 => 10 classes\n",
    "\n",
    "#     w1 = tf.placeholder(tf.float32, [300, 300])\n",
    "#     w2 = tf.placeholder(tf.float32, [300, 300])\n",
    "#     w3 = tf.placeholder(tf.float32, [300, 10])\n",
    "\n",
    "#     b1 = tf.Variable(tf.zeros([300]))\n",
    "#     b2 = tf.Variable(tf.zeros([300]))\n",
    "#     b3 = tf.Variable(tf.zeros([10]))\n",
    "\n",
    "#     l2 = tf.nn.sigmoid(tf.matmul(x, w1) + b1)\n",
    "#     l3 = tf.nn.sigmoid(tf.matmul(l2, w2) + b2)\n",
    "#     pred = tf.nn.softmax(tf.matmul(l3, w3) + b3)\n",
    "    \n",
    "#     correct_prediction = tf.equal(tf.argmax(pred, 1), tf.argmax(y, 1))\n",
    "#     instance_accuracy = tf.reduce_mean(tf.cast(correct_prediction, tf.float32))\n",
    "#     with tf.Session() as sess:\n",
    "#         sess.run(tf.global_variables_initializer())\n",
    "    \n",
    "#         # Testing the model\n",
    "#         LSMR_test = preprocess_data(df_test)\n",
    "#         X_test, y_test = get_test(LSMR_test)\n",
    "#         accuracy = 0.\n",
    "#         for i in range(len(X_test)):\n",
    "#             best_instance_accuracy = float(\"-inf\")\n",
    "#             for language, score, movie_id in W1:\n",
    "#                 w_1 = W1[(language, score, movie_id)]\n",
    "#                 w_2 = W2[(language, score)]\n",
    "#                 w_3 = W3[score]\n",
    "#                 a = instance_accuracy.eval({x: np.atleast_2d(X_test[i]), y: np.atleast_2d(y_test[i]),\n",
    "#                                    w1:w_1,\n",
    "#                                    w2:w_2,\n",
    "#                                    w3:w_3})\n",
    "#                 if a > best_instance_accuracy:\n",
    "#                     best_instance_accuracy = a\n",
    "#             accuracy += best_instance_accuracy\n",
    "\n",
    "#     return accuracy/len(X_test)\n",
    "# \"\"\""
   ]
  },
  {
   "cell_type": "markdown",
   "metadata": {},
   "source": [
    "# 3-layer NN > needs at least 3 days for training"
   ]
  },
  {
   "cell_type": "code",
   "execution_count": null,
   "metadata": {},
   "outputs": [],
   "source": [
    "# gpu is a must\n",
    "def train_deep(df_train, epochs=100, learning_rate=0.1, random_state=42):\n",
    "    LSMR_train = preprocess_data(df_train)\n",
    "    np.random.seed(random_state)\n",
    "    data_dict, L1, L2, L3 = get_data_dict(LSMR_train, get_L2and3=True)\n",
    "    init_weights = lambda layer, i, o: {k:2*np.random.random((i, o))-1 for k in layer}\n",
    "    W1 = init_weights(L1, 300, 300)  # (languge, score, movie_id)\n",
    "    W2 = init_weights(L2, 300, 300)  # (languge, score):\n",
    "    W3 = init_weights(L3, 300, 10)  # score:\n",
    "    \n",
    "    \n",
    "    reset_graph()\n",
    "    x = tf.placeholder(tf.float32, [None, 300])\n",
    "    y = tf.placeholder(tf.float32, [None, 10]) # 1-10 => 10 classes\n",
    "\n",
    "    w1 = tf.Variable(tf.zeros([300, 300]))\n",
    "    w2 = tf.Variable(tf.zeros([300, 300]))\n",
    "    w3 = tf.Variable(tf.zeros([300, 10]))\n",
    "\n",
    "    b1 = tf.Variable(tf.zeros([300]))\n",
    "    b2 = tf.Variable(tf.zeros([300]))\n",
    "    b3 = tf.Variable(tf.zeros([10]))\n",
    "\n",
    "    l2 = tf.nn.sigmoid(tf.matmul(x, w1) + b1)\n",
    "    l3 = tf.nn.sigmoid(tf.matmul(l2, w2) + b2)\n",
    "    pred = tf.nn.softmax(tf.matmul(l3, w3) + b3)\n",
    "\n",
    "\n",
    "    cost = tf.reduce_mean(-tf.reduce_sum(y*tf.log(pred), reduction_indices=1))\n",
    "    optimizer = tf.train.GradientDescentOptimizer(learning_rate).minimize(cost)\n",
    "    training_curve = dict()\n",
    "    with tf.device('/job:localhost/replica:0/task:0/device:GPU:0'):\n",
    "        with tf.Session(config=tf.ConfigProto(log_device_placement=True)) as sess:\n",
    "            sess.run(tf.global_variables_initializer())\n",
    "            for e in range(epochs+1):\n",
    "                start = time.time()\n",
    "                avg_cost = 0.\n",
    "                for _, row in LSMR_train.iterrows():\n",
    "                    score = row[\"Score\"]\n",
    "                    y_ = np.zeros(10)\n",
    "                    y_[score-1] = 1\n",
    "                    y_ = np.atleast_2d(y_)\n",
    "                    x_ = np.atleast_2d(row[\"rev_vec\"])\n",
    "                    w_1, w_2, w_3 , _, c = sess.run([w1, w2, w3, optimizer, cost], feed_dict={x: x_,y: y_})               \n",
    "                    avg_cost += c\n",
    "                avg_cost /= len(LSMR_train)\n",
    "                training_curve[e] = (avg_cost, time.time()-start)\n",
    "                if e%10==0:\n",
    "                    print(\"Epoch {}: {}\".format(e, avg_cost))\n",
    "\n",
    "    return w_1, w_2, w_3, training_curve"
   ]
  },
  {
   "cell_type": "code",
   "execution_count": null,
   "metadata": {},
   "outputs": [],
   "source": [
    "def test_deep(df_test, w_1, w_2, w_3):\n",
    "    reset_graph()\n",
    "    x = tf.placeholder(tf.float32, [None, 300])\n",
    "    y = tf.placeholder(tf.float32, [None, 10]) # 1-10 => 10 classes\n",
    "\n",
    "    w1 = tf.placeholder(tf.float32, [300, 300])\n",
    "    w2 = tf.placeholder(tf.float32, [300, 300])\n",
    "    w3 = tf.placeholder(tf.float32, [300, 10])\n",
    "\n",
    "    b1 = tf.Variable(tf.zeros([300]))\n",
    "    b2 = tf.Variable(tf.zeros([300]))\n",
    "    b3 = tf.Variable(tf.zeros([10]))\n",
    "\n",
    "    l2 = tf.nn.sigmoid(tf.matmul(x, w1) + b1)\n",
    "    l3 = tf.nn.sigmoid(tf.matmul(l2, w2) + b2)\n",
    "    pred = tf.nn.softmax(tf.matmul(l3, w3) + b3)\n",
    "    \n",
    "    correct_prediction = tf.equal(tf.argmax(pred, 1), tf.argmax(y, 1))\n",
    "    accuracy = tf.reduce_mean(tf.cast(correct_prediction, tf.float32))\n",
    "    \n",
    "    with tf.device('/job:localhost/replica:0/task:0/device:GPU:0'):\n",
    "        with tf.Session(config=tf.ConfigProto(log_device_placement=True)) as sess:\n",
    "            sess.run(tf.global_variables_initializer())\n",
    "\n",
    "            # Testing the model\n",
    "            LSMR_test = preprocess_data(df_test)\n",
    "            X_test, y_test = get_test(LSMR_test)\n",
    "            return accuracy.eval({x: X_test,\n",
    "                                  y: y_test,\n",
    "                                  w1:w_1,w2:w_2,\n",
    "                                  w3:w_3})"
   ]
  },
  {
   "cell_type": "code",
   "execution_count": null,
   "metadata": {},
   "outputs": [],
   "source": [
    "NUM_TRIALS = 1\n",
    "scores_incremental = dict()\n",
    "learning_curves = dict()\n",
    "for i in range(NUM_TRIALS):\n",
    "    scores_incremental[i] = dict()\n",
    "    learning_curves[i] = dict()\n",
    "    print(\"Trial:\\t{}\".format(i+1))\n",
    "    k = 0\n",
    "    skf = StratifiedKFold(n_splits=10, random_state=i)\n",
    "    for train_index, test_index in skf.split(df[\"Review\"], df[\"Language\"]):\n",
    "        start = time.time()\n",
    "        w1, w2, w3, learning_curve = train_deep(df.loc[train_index], random_state=i, epochs=10000)\n",
    "        s = test_deep(df.loc[test_index], w1, w2, w3)\n",
    "        k += 1\n",
    "        print(\"K:\\t{}\\nScore:\\t{}\".format(k, s))\n",
    "        print(\"took:\", time.time()-start)\n",
    "        scores_incremental[i][k] = s\n",
    "        learning_curves[i][k] = learning_curve\n",
    "    print(\"*\"*10)\n",
    "    try:\n",
    "        print(\"Trial {} avg score:\\t {}\".format(i+1, np.mean(list(scores_incremental[i].values()))))\n",
    "    except:\n",
    "        continue\n",
    "    print(\"-\"*30)"
   ]
  },
  {
   "cell_type": "code",
   "execution_count": null,
   "metadata": {},
   "outputs": [],
   "source": []
  }
 ],
 "metadata": {
  "kernelspec": {
   "display_name": "Python 3",
   "language": "python",
   "name": "python3"
  },
  "language_info": {
   "codemirror_mode": {
    "name": "ipython",
    "version": 3
   },
   "file_extension": ".py",
   "mimetype": "text/x-python",
   "name": "python",
   "nbconvert_exporter": "python",
   "pygments_lexer": "ipython3",
   "version": "3.5.2"
  }
 },
 "nbformat": 4,
 "nbformat_minor": 2
}
