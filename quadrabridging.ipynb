{
 "cells": [
  {
   "cell_type": "code",
   "execution_count": 13,
   "metadata": {},
   "outputs": [],
   "source": [
    "import warnings, numpy as np, re, json, pandas as pd, pickle, unicodedata, textblob\n",
    "from IPython.core.debugger import Tracer\n",
    "# try:\n",
    "#     import gnumpy as gpu\n",
    "# except ModuleNotFoundError:\n",
    "#     pass\n",
    "from TurkishStemmer import TurkishStemmer\n",
    "warnings.filterwarnings(action='ignore', category=UserWarning, module='gensim')\n",
    "import gensim, math\n",
    "from gensim.models import doc2vec\n",
    "from textblob import TextBlob\n",
    "from sklearn.feature_extraction.text import CountVectorizer\n",
    "from sklearn.ensemble import RandomForestClassifier\n",
    "# from KaggleWord2VecUtility import KaggleWord2VecUtility"
   ]
  },
  {
   "cell_type": "code",
   "execution_count": 2,
   "metadata": {},
   "outputs": [
    {
     "data": {
      "text/html": [
       "<div>\n",
       "<style scoped>\n",
       "    .dataframe tbody tr th:only-of-type {\n",
       "        vertical-align: middle;\n",
       "    }\n",
       "\n",
       "    .dataframe tbody tr th {\n",
       "        vertical-align: top;\n",
       "    }\n",
       "\n",
       "    .dataframe thead th {\n",
       "        text-align: right;\n",
       "    }\n",
       "</style>\n",
       "<table border=\"1\" class=\"dataframe\">\n",
       "  <thead>\n",
       "    <tr style=\"text-align: right;\">\n",
       "      <th></th>\n",
       "      <th>Language</th>\n",
       "      <th>Movie_ID</th>\n",
       "      <th>Review</th>\n",
       "      <th>Score</th>\n",
       "    </tr>\n",
       "  </thead>\n",
       "  <tbody>\n",
       "    <tr>\n",
       "      <th>0</th>\n",
       "      <td>en</td>\n",
       "      <td>-800777728</td>\n",
       "      <td>i love science fiction and i hate superheroes ...</td>\n",
       "      <td>9</td>\n",
       "    </tr>\n",
       "    <tr>\n",
       "      <th>1</th>\n",
       "      <td>en</td>\n",
       "      <td>-800777728</td>\n",
       "      <td>the movie is absolutely incredible all the per...</td>\n",
       "      <td>10</td>\n",
       "    </tr>\n",
       "    <tr>\n",
       "      <th>2</th>\n",
       "      <td>en</td>\n",
       "      <td>-1018312192</td>\n",
       "      <td>in a cinematic era dominated by reboots and mi...</td>\n",
       "      <td>8</td>\n",
       "    </tr>\n",
       "    <tr>\n",
       "      <th>3</th>\n",
       "      <td>en</td>\n",
       "      <td>-1018312192</td>\n",
       "      <td>movie review on rise of the planet of the apes...</td>\n",
       "      <td>4</td>\n",
       "    </tr>\n",
       "    <tr>\n",
       "      <th>4</th>\n",
       "      <td>en</td>\n",
       "      <td>-1018312192</td>\n",
       "      <td>during experiments to find a cure for alzheime...</td>\n",
       "      <td>7</td>\n",
       "    </tr>\n",
       "  </tbody>\n",
       "</table>\n",
       "</div>"
      ],
      "text/plain": [
       "<div>\n",
       "<style scoped>\n",
       "    .dataframe tbody tr th:only-of-type {\n",
       "        vertical-align: middle;\n",
       "    }\n",
       "\n",
       "    .dataframe tbody tr th {\n",
       "        vertical-align: top;\n",
       "    }\n",
       "\n",
       "    .dataframe thead th {\n",
       "        text-align: right;\n",
       "    }\n",
       "</style>\n",
       "<table border=\"1\" class=\"dataframe\">\n",
       "  <thead>\n",
       "    <tr style=\"text-align: right;\">\n",
       "      <th></th>\n",
       "      <th>Language</th>\n",
       "      <th>Movie_ID</th>\n",
       "      <th>Review</th>\n",
       "      <th>Score</th>\n",
       "    </tr>\n",
       "  </thead>\n",
       "  <tbody>\n",
       "    <tr>\n",
       "      <th>0</th>\n",
       "      <td>en</td>\n",
       "      <td>-800777728</td>\n",
       "      <td>i love science fiction and i hate superheroes ...</td>\n",
       "      <td>9</td>\n",
       "    </tr>\n",
       "    <tr>\n",
       "      <th>1</th>\n",
       "      <td>en</td>\n",
       "      <td>-800777728</td>\n",
       "      <td>the movie is absolutely incredible all the per...</td>\n",
       "      <td>10</td>\n",
       "    </tr>\n",
       "    <tr>\n",
       "      <th>2</th>\n",
       "      <td>en</td>\n",
       "      <td>-1018312192</td>\n",
       "      <td>in a cinematic era dominated by reboots and mi...</td>\n",
       "      <td>8</td>\n",
       "    </tr>\n",
       "    <tr>\n",
       "      <th>3</th>\n",
       "      <td>en</td>\n",
       "      <td>-1018312192</td>\n",
       "      <td>movie review on rise of the planet of the apes...</td>\n",
       "      <td>4</td>\n",
       "    </tr>\n",
       "    <tr>\n",
       "      <th>4</th>\n",
       "      <td>en</td>\n",
       "      <td>-1018312192</td>\n",
       "      <td>during experiments to find a cure for alzheime...</td>\n",
       "      <td>7</td>\n",
       "    </tr>\n",
       "  </tbody>\n",
       "</table>\n",
       "</div>"
      ]
     },
     "execution_count": 2,
     "metadata": {},
     "output_type": "execute_result"
    }
   ],
   "source": [
    "df = pd.read_csv(\"datasets/movie_data.csv\")\n",
    "df.head(5)"
   ]
  },
  {
   "cell_type": "code",
   "execution_count": 2,
   "metadata": {},
   "outputs": [],
   "source": [
    "d = {\"tr\":\"tr2en\", \"en\":\"en2tr\"}\n",
    "en2tr = dict()\n",
    "tr2en = dict()"
   ]
  },
  {
   "cell_type": "code",
   "execution_count": 4,
   "metadata": {},
   "outputs": [],
   "source": [
    "en_vects = gensim.models.KeyedVectors.load_word2vec_format(r\"../NLP_data/GoogleNews-vectors-negative300.bin\", binary=True)"
   ]
  },
  {
   "cell_type": "code",
   "execution_count": 5,
   "metadata": {},
   "outputs": [],
   "source": [
    "tr_vects = gensim.models.KeyedVectors.load_word2vec_format(r\"../NLP_data/wiki.tr/wiki.tr.vec\", binary=False)"
   ]
  },
  {
   "cell_type": "code",
   "execution_count": 6,
   "metadata": {},
   "outputs": [],
   "source": [
    "def learn_translation_matrix(X,Y, iterations=5000, alpha=0.0001, alpha_change_rate=0.8):\n",
    "    W = np.random.random((300, 300))\n",
    "    for i in range(iterations+1):\n",
    "        gradient = np.zeros(300)\n",
    "        for score in range(len(X)):\n",
    "            error = X[score].dot(W) - Y[score]\n",
    "            gradient += alpha * np.gradient(error)\n",
    "        W += gradient\n",
    "        if i == 2000:\n",
    "            alpha /= 100\n",
    "\n",
    "        if i%1000 == 0:\n",
    "            alpha *= alpha_change_rate\n",
    "            print(\"Mikolov distance: {}\".format(mikolov(X, Y, W)))\n",
    "    return W"
   ]
  },
  {
   "cell_type": "code",
   "execution_count": 7,
   "metadata": {},
   "outputs": [],
   "source": [
    "turkish_stemmer = TurkishStemmer()\n",
    "def clean(text, language=\"en\", stem=True):\n",
    "    global turkish_stemmer\n",
    "    text = unicodedata.normalize('NFKD', text).encode('ascii', 'ignore').lower().decode(\"ascii\")\n",
    "    \n",
    "    if language == \"tr\":\n",
    "        if stem:\n",
    "            text= ' '.join([turkish_stemmer.stem(w) for w in text.split()])\n",
    "    text = re.sub(r\"[^A-Za-z0-9^,!.\\/'+-=]\", \" \", text)\n",
    "    text = re.sub(r'[0-9]', '#', text)\n",
    "    text = re.sub(r\",\", \" \", text)\n",
    "    text = re.sub(r\"\\.\", \" \", text)\n",
    "    text = re.sub(r\"!\", \" \", text)\n",
    "    text = re.sub(r\"\\/\", \" \", text)\n",
    "    text = re.sub(r\"\\^\", \" \", text)\n",
    "    text = re.sub(r\"\\+\", \" \", text)\n",
    "    text = re.sub(r\"\\-\", \" \", text)\n",
    "    text = re.sub(r\"\\=\", \" \", text)\n",
    "    text = re.sub(r\"'\", \" \", text)\n",
    "    text = re.sub(r\":\", \" \", text)\n",
    "    text = re.sub(r\"e(\\s)?-(\\s)?mail\", \"email\", text)\n",
    "\n",
    "    text = re.sub(r\"what's\", \"what is \", text)\n",
    "    text = re.sub(r\"\\'s\", \" \", text)\n",
    "    text = re.sub(r\"\\'ve\", \" have \", text)\n",
    "    text = re.sub(r\"can't\", \"cannot \", text)\n",
    "    text = re.sub(r\"n't\", \" not \", text)\n",
    "    text = re.sub(r\"i'm\", \"i am \", text)\n",
    "    text = re.sub(r\"\\'re\", \" are \", text)\n",
    "    text = re.sub(r\"\\'d\", \" would \", text)\n",
    "    text = re.sub(r\"\\'ll\", \" will \", text)\n",
    "    text = re.sub(r\" e g \", \" eg \", text)\n",
    "    text = re.sub(r\" b g \", \" bg \", text)\n",
    "    text = re.sub(r\" u s \", \" american \", text)\n",
    "    return TextBlob(text)\n"
   ]
  },
  {
   "cell_type": "code",
   "execution_count": 8,
   "metadata": {},
   "outputs": [],
   "source": [
    "# def record_translations():\n",
    "#     for lang in data_dict:\n",
    "#         for score in data_dict[lang]:\n",
    "#             for movie in data_dict[lang][score]:\n",
    "#                 for review in data_dict[lang][score][movie]:\n",
    "#                     try:\n",
    "#                         blob = clean(review)\n",
    "#                         if review in globals()[d[lang]]:\n",
    "#                             ent = globals()[d[lang]][review]\n",
    "#                         else:\n",
    "#                             ent = str(blob.translate(to=d[lang][-2:]))\n",
    "#                             globals()[d[lang]][review] = ent\n",
    "#                     except:\n",
    "#                         continue"
   ]
  },
  {
   "cell_type": "code",
   "execution_count": 9,
   "metadata": {},
   "outputs": [],
   "source": [
    "# record_translations()\n",
    "# pickle.dump(en2tr, open(\"datasets/en2tr\",\"wb\"))\n",
    "# pickle.dump(tr2en, open(\"datasets/tr2en\",\"wb\"))"
   ]
  },
  {
   "cell_type": "code",
   "execution_count": 10,
   "metadata": {},
   "outputs": [],
   "source": [
    "en2tr = pickle.load(open(\"datasets/en2tr\",\"rb\"))\n",
    "tr2en = pickle.load(open(\"datasets/tr2en\",\"rb\"))"
   ]
  },
  {
   "cell_type": "code",
   "execution_count": 11,
   "metadata": {},
   "outputs": [],
   "source": [
    "VECTOR_SIZE = 300\n",
    "def vectorize(text, language, translate=False):\n",
    "    global VECTOR_SIZE, en2tr, tr2en\n",
    "    if translate:\n",
    "        if language==\"tr\":\n",
    "            try:\n",
    "                text = en2tr[text]\n",
    "            except KeyError:\n",
    "                try:\n",
    "                    translated = str(TextBlob(text).translate(to=language))\n",
    "                except:\n",
    "                    warnings.warn(\"Can't translate invalid English Review.\"+text[:10]+\"...\")\n",
    "                    return None\n",
    "                en2tr[text] = translated\n",
    "                tr2en[translated] = text\n",
    "                text = translated\n",
    "        else:\n",
    "            try:\n",
    "                text = tr2en[text]\n",
    "            except KeyError:\n",
    "                try:\n",
    "                    translated = str(TextBlob(text).translate(to=language))\n",
    "                except:\n",
    "                    warnings.warn(\"Can't translate invalid Turkish Review.\"+text[:10]+\"...\")\n",
    "                    return None\n",
    "                tr2en[text] = translated\n",
    "                en2tr[translated] = text\n",
    "                text = translated\n",
    "                \n",
    "    blob = clean(text, language)\n",
    "    vector = np.zeros(VECTOR_SIZE)\n",
    "    if len(blob.words) < 1:\n",
    "        return None\n",
    "\n",
    "    for word in blob.words:\n",
    "        try:\n",
    "            if language == \"en\":\n",
    "                vector += globals()[\"en_vects\"][word]\n",
    "            else:\n",
    "                vector += globals()[\"tr_vects\"][word]\n",
    "        except KeyError:\n",
    "            continue\n",
    "    vector /= len(blob.words)\n",
    "    return vector"
   ]
  },
  {
   "cell_type": "code",
   "execution_count": 12,
   "metadata": {},
   "outputs": [],
   "source": [
    "def get_X_size(data_dict, lang):\n",
    "    res = 0\n",
    "    for score in data_dict[lang]:\n",
    "        for movie in data_dict[lang][score]:\n",
    "                for tr_rev in data_dict[lang][score][movie]:\n",
    "                    res +=1\n",
    "    return res\n",
    "\n",
    "def get_X2_size(data_dict):\n",
    "    res = 0\n",
    "    for score in data_dict[\"tr\"]:\n",
    "        for movie in data_dict[\"tr\"][score]:\n",
    "            try:\n",
    "                for en_rev in data_dict[\"en\"][score][movie]:\n",
    "                    res += 1\n",
    "            except KeyError:  ## there are no english review for that movie with the same score\n",
    "                continue\n",
    "    return res"
   ]
  },
  {
   "cell_type": "code",
   "execution_count": 39,
   "metadata": {},
   "outputs": [],
   "source": [
    "def fit(df, train_index):\n",
    "    data_dict = dict() #{language:{score: {movie_id: [rev1, rev2, ..., revn]}}}\n",
    "    for i in train_index:\n",
    "        row = df.loc[i]\n",
    "        lang = row[0]\n",
    "        movie_id = row[1]\n",
    "        review = row[2]\n",
    "        score = row[3]\n",
    "\n",
    "        data_dict.setdefault(lang, {})\n",
    "        data_dict[lang].setdefault(score, {})\n",
    "        data_dict[lang][score].setdefault(movie_id, [])\n",
    "        data_dict[lang][score][movie_id].append(review)\n",
    "        \n",
    "    X1_size = get_X_size(data_dict, \"tr\")\n",
    "    X1 = np.zeros((X1_size, 300))\n",
    "    Y1 = np.zeros((X1_size, 300))\n",
    "\n",
    "    # X1 = list()\n",
    "    # Y1 = list()\n",
    "\n",
    "    X2_size = get_X2_size(data_dict)\n",
    "    X2 = np.zeros((X2_size, 300))\n",
    "    Y2 = np.zeros((X2_size, 300))\n",
    "    \n",
    "    # X2 = list()\n",
    "    # Y2 = list()\n",
    "    \n",
    "    X3_size = get_X_size(data_dict, \"en\")\n",
    "    X3= np.zeros((X3_size, 300))\n",
    "    Y3 =np.zeros((X3_size, 300))\n",
    "    # X3 = list()\n",
    "    # Y3 = list()\n",
    "    \n",
    "    y3 = np.zeros(X3_size)\n",
    "\n",
    "    \n",
    "#     print(np.array(X1).shape, np.array(Y1).shape)\n",
    "#     print(np.array(X2).shape, np.array(Y2).shape)\n",
    "#     print(np.array(X3).shape, np.array(Y3).shape, np.array(y3).shape)\n",
    "    \n",
    "    i = 0\n",
    "    j = 0\n",
    "    k = 0\n",
    "    for lang in data_dict:\n",
    "        for score in data_dict[lang]:\n",
    "            for movie in data_dict[lang][score]:\n",
    "                if lang == \"tr\":\n",
    "                    # First Layer\n",
    "                    for tr_rev in data_dict[lang][score][movie]:\n",
    "                            y_ = vectorize(tr_rev, language=\"en\", translate=True)\n",
    "                            if y_ is None:\n",
    "                                continue\n",
    "                            X1[i] = np.array(vectorize(tr_rev, language=\"tr\"))\n",
    "                            Y1[i] = np.array(y_)\n",
    "                            i += 1 \n",
    "                        \n",
    "                    # Second Layer\n",
    "                    try:\n",
    "                        for en_rev in data_dict[\"en\"][score][movie]:\n",
    "                            y_ = vectorize(en_rev, language=\"tr\", translate=True)\n",
    "                            if y_ is None:\n",
    "                                continue\n",
    "                            X2[j] = np.array(vectorize(en_rev, language=\"en\"))\n",
    "                            Y2[j] = np.array(y_)\n",
    "                            j += 1\n",
    "                    except KeyError:  # there are no english review for that movie with the same score\n",
    "                        continue\n",
    "                else:\n",
    "                    # Third Layer\n",
    "                    for en_rev in data_dict[lang][score][movie]:\n",
    "                        x_ = vectorize(en_rev, language=\"tr\", translate=True)\n",
    "                        if x_ is None:\n",
    "                            continue\n",
    "                        X3[k] = np.array(x_)\n",
    "                        Y3[k] = np.array(vectorize(en_rev, language=\"en\"))\n",
    "                        y3[k] = score\n",
    "                        k += 1\n",
    "    \n",
    "    # X1 = np.array(X1)\n",
    "    # Y1 = np.array(Y1)\n",
    "    # \n",
    "    # X2 = np.array(X2)\n",
    "    # Y2 = np.array(Y2)\n",
    "    # \n",
    "    # X3 = np.array(X2)\n",
    "    # Y3 = np.array(Y2)\n",
    "    # y3 = np.array(y3)\n",
    "    \n",
    "    print(X1.shape, Y1.shape)\n",
    "    print(X2.shape, Y2.shape)\n",
    "    print(X3.shape, Y3.shape, y3.shape)\n",
    "    print(\"-\"*50)\n",
    "    W1 = MLPRegressor(random_state=42)\n",
    "    W1.fit(X1, Y1)\n",
    "    \n",
    "    W2 = MLPRegressor(random_state=42)\n",
    "    W2.fit(X2, Y2)\n",
    "    \n",
    "    W3 = MLPRegressor(random_state=42)\n",
    "    W3.fit(X3, Y3)\n",
    "    \n",
    "    W4 = MLPClassifier(random_state=42)\n",
    "    W4.fit(Y3, y3)\n",
    "    return W1, W2, W3, W4"
   ]
  },
  {
   "cell_type": "code",
   "execution_count": 40,
   "metadata": {},
   "outputs": [],
   "source": [
    "def predict(df, test_index, W1, W2, W3, W4):\n",
    "    X = np.zeros((len(test_index), 300))\n",
    "    y = np.zeros(len(test_index))\n",
    "    for i in range(len(test_index)):\n",
    "        row = df.loc[test_index[i]]\n",
    "        review = row[2]\n",
    "        score = row[3]\n",
    "        lang = row[0]\n",
    "        X[i] = vectorize(review, lang)\n",
    "        y[i] = score\n",
    "        \n",
    "    X = np.array(X)\n",
    "    y = np.array(y)\n",
    "    \n",
    "    l1 =W1.predict(X)\n",
    "    l2 = W2.predict(l1)\n",
    "    l3 = W3.predict(l2)\n",
    "    pred_scores = W4.predict(l3)\n",
    "    return pred_scores, y\n",
    "        "
   ]
  },
  {
   "cell_type": "code",
   "execution_count": 41,
   "metadata": {},
   "outputs": [],
   "source": [
    "def distance_accuracy(y_true, y_predict):\n",
    "    res = 0\n",
    "    for i in range(len(y_true)):\n",
    "        res += abs(y_true[i]-y_predict[i])\n",
    "    return 1-res/(len(y_true)*len(set(y_true)))"
   ]
  },
  {
   "cell_type": "code",
   "execution_count": 42,
   "metadata": {},
   "outputs": [],
   "source": [
    "from sklearn.neural_network import MLPRegressor, MLPClassifier\n",
    "from sklearn.model_selection import StratifiedKFold\n",
    "skf = StratifiedKFold(n_splits=10)\n",
    "X = df[\"Review\"]\n",
    "y = df[\"Language\"]"
   ]
  },
  {
   "cell_type": "code",
   "execution_count": 45,
   "metadata": {},
   "outputs": [
    {
     "name": "stderr",
     "output_type": "stream",
     "text": [
      "/usr/local/lib/python3.5/dist-packages/ipykernel_launcher.py:24: UserWarning: Can't translate invalid Turkish Review.puan a r a...\n/usr/local/lib/python3.5/dist-packages/ipykernel_launcher.py:24: UserWarning: Can't translate invalid Turkish Review. ok e lenc...\n"
     ]
    },
    {
     "name": "stderr",
     "output_type": "stream",
     "text": [
      "/usr/local/lib/python3.5/dist-packages/ipykernel_launcher.py:24: UserWarning: Can't translate invalid Turkish Review.film g zel...\n"
     ]
    },
    {
     "name": "stderr",
     "output_type": "stream",
     "text": [
      "/usr/local/lib/python3.5/dist-packages/ipykernel_launcher.py:24: UserWarning: Can't translate invalid Turkish Review.tam bir g ...\n"
     ]
    },
    {
     "name": "stderr",
     "output_type": "stream",
     "text": [
      "/usr/local/lib/python3.5/dist-packages/ipykernel_launcher.py:24: UserWarning: Can't translate invalid Turkish Review.michael ke...\n"
     ]
    },
    {
     "name": "stderr",
     "output_type": "stream",
     "text": [
      "/usr/local/lib/python3.5/dist-packages/ipykernel_launcher.py:24: UserWarning: Can't translate invalid Turkish Review.m kemmmmmm...\n"
     ]
    },
    {
     "name": "stdout",
     "output_type": "stream",
     "text": [
      "(450, 300) (450, 300)\n(134, 300) (134, 300)\n(450, 300) (450, 300) (450,)\n--------------------------------------------------\n"
     ]
    },
    {
     "name": "stderr",
     "output_type": "stream",
     "text": [
      "/usr/local/lib/python3.5/dist-packages/sklearn/neural_network/multilayer_perceptron.py:564: ConvergenceWarning: Stochastic Optimizer: Maximum iterations (200) reached and the optimization hasn't converged yet.\n  % self.max_iter, ConvergenceWarning)\n"
     ]
    },
    {
     "name": "stderr",
     "output_type": "stream",
     "text": [
      "/usr/local/lib/python3.5/dist-packages/ipykernel_launcher.py:24: UserWarning: Can't translate invalid Turkish Review.her eyiyle...\n"
     ]
    },
    {
     "name": "stderr",
     "output_type": "stream",
     "text": [
      "/usr/local/lib/python3.5/dist-packages/ipykernel_launcher.py:24: UserWarning: Can't translate invalid Turkish Review.no i m you...\n"
     ]
    },
    {
     "name": "stdout",
     "output_type": "stream",
     "text": [
      "(450, 300) (450, 300)\n(137, 300) (137, 300)\n(450, 300) (450, 300) (450,)\n--------------------------------------------------\n"
     ]
    },
    {
     "name": "stdout",
     "output_type": "stream",
     "text": [
      "(450, 300) (450, 300)\n(131, 300) (131, 300)\n(450, 300) (450, 300) (450,)\n--------------------------------------------------\n"
     ]
    },
    {
     "name": "stdout",
     "output_type": "stream",
     "text": [
      "(450, 300) (450, 300)\n(126, 300) (126, 300)\n(450, 300) (450, 300) (450,)\n--------------------------------------------------\n"
     ]
    },
    {
     "name": "stdout",
     "output_type": "stream",
     "text": [
      "(450, 300) (450, 300)\n(130, 300) (130, 300)\n(450, 300) (450, 300) (450,)\n--------------------------------------------------\n"
     ]
    },
    {
     "name": "stdout",
     "output_type": "stream",
     "text": [
      "(450, 300) (450, 300)\n(128, 300) (128, 300)\n(450, 300) (450, 300) (450,)\n--------------------------------------------------\n"
     ]
    },
    {
     "name": "stdout",
     "output_type": "stream",
     "text": [
      "(450, 300) (450, 300)\n(127, 300) (127, 300)\n(450, 300) (450, 300) (450,)\n--------------------------------------------------\n"
     ]
    },
    {
     "name": "stdout",
     "output_type": "stream",
     "text": [
      "(450, 300) (450, 300)\n(125, 300) (125, 300)\n(450, 300) (450, 300) (450,)\n--------------------------------------------------\n"
     ]
    },
    {
     "name": "stdout",
     "output_type": "stream",
     "text": [
      "(450, 300) (450, 300)\n(128, 300) (128, 300)\n(450, 300) (450, 300) (450,)\n--------------------------------------------------\n"
     ]
    },
    {
     "name": "stdout",
     "output_type": "stream",
     "text": [
      "(450, 300) (450, 300)\n(135, 300) (135, 300)\n(450, 300) (450, 300) (450,)\n--------------------------------------------------\n"
     ]
    }
   ],
   "source": [
    "score_dict = {\"distance_accuracy\":0}\n",
    "for train_index, test_index in skf.split(X, y):\n",
    "    W1, W2, W3, W4 = fit(df, train_index)\n",
    "    preds, true = predict(df, test_index, W1, W2, W3, W4)\n",
    "    s = distance_accuracy(true, preds)\n",
    "    score_dict[\"distance_accuracy\"] += s\n",
    "    print(s)\n",
    "for metric in score_dict:\n",
    "    score_dict[metric] /= 10.0"
   ]
  },
  {
   "cell_type": "code",
   "execution_count": 46,
   "metadata": {},
   "outputs": [
    {
     "data": {
      "text/plain": [
       "{'distance_accuracy': 0.78164166666666657}"
      ]
     },
     "execution_count": 46,
     "metadata": {},
     "output_type": "execute_result"
    }
   ],
   "source": [
    "score_dict"
   ]
  },
  {
   "cell_type": "code",
   "execution_count": null,
   "metadata": {},
   "outputs": [],
   "source": []
  }
 ],
 "metadata": {
  "kernelspec": {
   "display_name": "Python 3",
   "language": "python",
   "name": "python3"
  },
  "language_info": {
   "codemirror_mode": {
    "name": "ipython",
    "version": 3
   },
   "file_extension": ".py",
   "mimetype": "text/x-python",
   "name": "python",
   "nbconvert_exporter": "python",
   "pygments_lexer": "ipython3",
   "version": "3.5.2"
  }
 },
 "nbformat": 4,
 "nbformat_minor": 2
}
