{
 "cells": [
  {
   "cell_type": "markdown",
   "metadata": {},
   "source": [
    "## Merging reviews of the same movies, scores and language"
   ]
  },
  {
   "cell_type": "code",
   "execution_count": 46,
   "metadata": {},
   "outputs": [],
   "source": [
    "import pandas as pd, numpy as np, ast, re"
   ]
  },
  {
   "cell_type": "code",
   "execution_count": 53,
   "metadata": {},
   "outputs": [],
   "source": [
    "def parse_np_array(array_string):\n",
    "    pattern = r'''# Match (mandatory) whitespace between...\n",
    "              (?<=\\]) # ] and\n",
    "              \\s+\n",
    "              (?= \\[) # [, or\n",
    "              |\n",
    "              (?<=[^\\[\\]\\s]) \n",
    "              \\s+\n",
    "              (?= [^\\[\\]\\s]) # two non-bracket non-whitespace characters\n",
    "           '''\n",
    "    fixed_string = re.sub(pattern, ',', array_string, flags=re.VERBOSE)\n",
    "    return np.array(ast.literal_eval(fixed_string))"
   ]
  },
  {
   "cell_type": "code",
   "execution_count": 54,
   "metadata": {},
   "outputs": [
    {
     "data": {
      "text/html": [
       "<div>\n",
       "<style scoped>\n",
       "    .dataframe tbody tr th:only-of-type {\n",
       "        vertical-align: middle;\n",
       "    }\n",
       "\n",
       "    .dataframe tbody tr th {\n",
       "        vertical-align: top;\n",
       "    }\n",
       "\n",
       "    .dataframe thead th {\n",
       "        text-align: right;\n",
       "    }\n",
       "</style>\n",
       "<table border=\"1\" class=\"dataframe\">\n",
       "  <thead>\n",
       "    <tr style=\"text-align: right;\">\n",
       "      <th></th>\n",
       "      <th>Language</th>\n",
       "      <th>Movie_ID</th>\n",
       "      <th>Score</th>\n",
       "      <th>rev_vec</th>\n",
       "    </tr>\n",
       "  </thead>\n",
       "  <tbody>\n",
       "    <tr>\n",
       "      <th>0</th>\n",
       "      <td>en</td>\n",
       "      <td>-800777728</td>\n",
       "      <td>9</td>\n",
       "      <td>[0.0263540316, 0.045894552, 0.0318471752, 0.08...</td>\n",
       "    </tr>\n",
       "    <tr>\n",
       "      <th>1</th>\n",
       "      <td>en</td>\n",
       "      <td>-800777728</td>\n",
       "      <td>10</td>\n",
       "      <td>[0.04662874, 0.02495674, 0.03526414, 0.0948760...</td>\n",
       "    </tr>\n",
       "    <tr>\n",
       "      <th>2</th>\n",
       "      <td>en</td>\n",
       "      <td>-1018312192</td>\n",
       "      <td>8</td>\n",
       "      <td>[0.06351074, 0.03757826, 0.03429701, 0.0898604...</td>\n",
       "    </tr>\n",
       "    <tr>\n",
       "      <th>3</th>\n",
       "      <td>en</td>\n",
       "      <td>-1018312192</td>\n",
       "      <td>4</td>\n",
       "      <td>[0.03319103, 0.02236041, 0.01599475, 0.1140876...</td>\n",
       "    </tr>\n",
       "    <tr>\n",
       "      <th>4</th>\n",
       "      <td>en</td>\n",
       "      <td>-1018312192</td>\n",
       "      <td>7</td>\n",
       "      <td>[0.01939954, 0.04645675, 0.03356002, 0.1049862...</td>\n",
       "    </tr>\n",
       "  </tbody>\n",
       "</table>\n",
       "</div>"
      ],
      "text/plain": [
       "  Language    Movie_ID  Score  \\\n",
       "0       en  -800777728      9   \n",
       "1       en  -800777728     10   \n",
       "2       en -1018312192      8   \n",
       "3       en -1018312192      4   \n",
       "4       en -1018312192      7   \n",
       "\n",
       "                                             rev_vec  \n",
       "0  [0.0263540316, 0.045894552, 0.0318471752, 0.08...  \n",
       "1  [0.04662874, 0.02495674, 0.03526414, 0.0948760...  \n",
       "2  [0.06351074, 0.03757826, 0.03429701, 0.0898604...  \n",
       "3  [0.03319103, 0.02236041, 0.01599475, 0.1140876...  \n",
       "4  [0.01939954, 0.04645675, 0.03356002, 0.1049862...  "
      ]
     },
     "execution_count": 54,
     "metadata": {},
     "output_type": "execute_result"
    }
   ],
   "source": [
    "LMSR_df = pd.read_csv(\"datasets/vectorized_movie_data.csv\")\n",
    "LMSR_df[\"rev_vec\"] = LMSR_df[\"rev_vec\"].apply(lambda x: parse_np_array(x) if type(x) == str and \"[\" in x else None)\n",
    "LMSR_df.head(5)"
   ]
  },
  {
   "cell_type": "code",
   "execution_count": 103,
   "metadata": {},
   "outputs": [],
   "source": [
    "def merging_function(frame):\n",
    "    return np.mean(frame[\"rev_vec\"])"
   ]
  },
  {
   "cell_type": "code",
   "execution_count": 130,
   "metadata": {},
   "outputs": [
    {
     "data": {
      "text/html": [
       "<div>\n",
       "<style scoped>\n",
       "    .dataframe tbody tr th:only-of-type {\n",
       "        vertical-align: middle;\n",
       "    }\n",
       "\n",
       "    .dataframe tbody tr th {\n",
       "        vertical-align: top;\n",
       "    }\n",
       "\n",
       "    .dataframe thead th {\n",
       "        text-align: right;\n",
       "    }\n",
       "</style>\n",
       "<table border=\"1\" class=\"dataframe\">\n",
       "  <thead>\n",
       "    <tr style=\"text-align: right;\">\n",
       "      <th></th>\n",
       "      <th></th>\n",
       "      <th></th>\n",
       "      <th>0</th>\n",
       "    </tr>\n",
       "    <tr>\n",
       "      <th>Movie_ID</th>\n",
       "      <th>Language</th>\n",
       "      <th>Score</th>\n",
       "      <th></th>\n",
       "    </tr>\n",
       "  </thead>\n",
       "  <tbody>\n",
       "    <tr>\n",
       "      <th rowspan=\"4\" valign=\"top\">-2144779484</th>\n",
       "      <th rowspan=\"2\" valign=\"top\">en</th>\n",
       "      <th>4</th>\n",
       "      <td>[0.07401991, 0.04054779, 0.03553367, 0.0709018...</td>\n",
       "    </tr>\n",
       "    <tr>\n",
       "      <th>9</th>\n",
       "      <td>[0.06254335065, 0.0319293781, 0.03085142015, 0...</td>\n",
       "    </tr>\n",
       "    <tr>\n",
       "      <th rowspan=\"2\" valign=\"top\">tr</th>\n",
       "      <th>7</th>\n",
       "      <td>[-0.04627872, -0.12108444, 0.12996513, 0.05660...</td>\n",
       "    </tr>\n",
       "    <tr>\n",
       "      <th>9</th>\n",
       "      <td>[-0.02786085, -0.07367174, 0.07948475, 0.03482...</td>\n",
       "    </tr>\n",
       "    <tr>\n",
       "      <th>-2104441082</th>\n",
       "      <th>en</th>\n",
       "      <th>10</th>\n",
       "      <td>[0.0295819733, 0.0301975626, 0.0101355836, 0.0...</td>\n",
       "    </tr>\n",
       "  </tbody>\n",
       "</table>\n",
       "</div>"
      ],
      "text/plain": [
       "                                                                            0\n",
       "Movie_ID    Language Score                                                   \n",
       "-2144779484 en       4      [0.07401991, 0.04054779, 0.03553367, 0.0709018...\n",
       "                     9      [0.06254335065, 0.0319293781, 0.03085142015, 0...\n",
       "            tr       7      [-0.04627872, -0.12108444, 0.12996513, 0.05660...\n",
       "                     9      [-0.02786085, -0.07367174, 0.07948475, 0.03482...\n",
       "-2104441082 en       10     [0.0295819733, 0.0301975626, 0.0101355836, 0.0..."
      ]
     },
     "execution_count": 130,
     "metadata": {},
     "output_type": "execute_result"
    }
   ],
   "source": [
    "LMS_r = LMSR_df.copy()\n",
    "# LMS_r = LMS_r.groupby([\"Movie_ID\",\"Language\",\"Score\"])\n",
    "LMS_r = LMS_r.groupby([\"Movie_ID\",\"Language\",\"Score\"], as_index=False).apply(merging_function)\n",
    "LMS_r.to_frame().head(5)"
   ]
  },
  {
   "cell_type": "code",
   "execution_count": 131,
   "metadata": {},
   "outputs": [
    {
     "data": {
      "text/html": [
       "<div>\n",
       "<style scoped>\n",
       "    .dataframe tbody tr th:only-of-type {\n",
       "        vertical-align: middle;\n",
       "    }\n",
       "\n",
       "    .dataframe tbody tr th {\n",
       "        vertical-align: top;\n",
       "    }\n",
       "\n",
       "    .dataframe thead th {\n",
       "        text-align: right;\n",
       "    }\n",
       "</style>\n",
       "<table border=\"1\" class=\"dataframe\">\n",
       "  <thead>\n",
       "    <tr style=\"text-align: right;\">\n",
       "      <th></th>\n",
       "      <th>Movie_ID</th>\n",
       "      <th>Language</th>\n",
       "      <th>Score</th>\n",
       "      <th>merged_reviews_vector</th>\n",
       "    </tr>\n",
       "  </thead>\n",
       "  <tbody>\n",
       "    <tr>\n",
       "      <th>0</th>\n",
       "      <td>-2144779484</td>\n",
       "      <td>en</td>\n",
       "      <td>4</td>\n",
       "      <td>[0.07401991, 0.04054779, 0.03553367, 0.0709018...</td>\n",
       "    </tr>\n",
       "    <tr>\n",
       "      <th>1</th>\n",
       "      <td>-2144779484</td>\n",
       "      <td>en</td>\n",
       "      <td>9</td>\n",
       "      <td>[0.06254335065, 0.0319293781, 0.03085142015, 0...</td>\n",
       "    </tr>\n",
       "    <tr>\n",
       "      <th>2</th>\n",
       "      <td>-2144779484</td>\n",
       "      <td>tr</td>\n",
       "      <td>7</td>\n",
       "      <td>[-0.04627872, -0.12108444, 0.12996513, 0.05660...</td>\n",
       "    </tr>\n",
       "    <tr>\n",
       "      <th>3</th>\n",
       "      <td>-2144779484</td>\n",
       "      <td>tr</td>\n",
       "      <td>9</td>\n",
       "      <td>[-0.02786085, -0.07367174, 0.07948475, 0.03482...</td>\n",
       "    </tr>\n",
       "    <tr>\n",
       "      <th>4</th>\n",
       "      <td>-2104441082</td>\n",
       "      <td>en</td>\n",
       "      <td>10</td>\n",
       "      <td>[0.0295819733, 0.0301975626, 0.0101355836, 0.0...</td>\n",
       "    </tr>\n",
       "  </tbody>\n",
       "</table>\n",
       "</div>"
      ],
      "text/plain": [
       "     Movie_ID Language  Score  \\\n",
       "0 -2144779484       en      4   \n",
       "1 -2144779484       en      9   \n",
       "2 -2144779484       tr      7   \n",
       "3 -2144779484       tr      9   \n",
       "4 -2104441082       en     10   \n",
       "\n",
       "                               merged_reviews_vector  \n",
       "0  [0.07401991, 0.04054779, 0.03553367, 0.0709018...  \n",
       "1  [0.06254335065, 0.0319293781, 0.03085142015, 0...  \n",
       "2  [-0.04627872, -0.12108444, 0.12996513, 0.05660...  \n",
       "3  [-0.02786085, -0.07367174, 0.07948475, 0.03482...  \n",
       "4  [0.0295819733, 0.0301975626, 0.0101355836, 0.0...  "
      ]
     },
     "execution_count": 131,
     "metadata": {},
     "output_type": "execute_result"
    }
   ],
   "source": [
    "LMS_r_df = LMS_r.reset_index().rename({0:\"merged_reviews_vector\"}, axis=1)\n",
    "LMS_r_df.head(5)"
   ]
  },
  {
   "cell_type": "code",
   "execution_count": 132,
   "metadata": {},
   "outputs": [],
   "source": [
    "LMS_r_df.to_csv(\"datasets/LMS_r_merged_reviews_per_movie_language_score.csv\", index=False)"
   ]
  },
  {
   "cell_type": "code",
   "execution_count": null,
   "metadata": {},
   "outputs": [],
   "source": []
  }
 ],
 "metadata": {
  "kernelspec": {
   "display_name": "Python 3",
   "language": "python",
   "name": "python3"
  },
  "language_info": {
   "codemirror_mode": {
    "name": "ipython",
    "version": 3
   },
   "file_extension": ".py",
   "mimetype": "text/x-python",
   "name": "python",
   "nbconvert_exporter": "python",
   "pygments_lexer": "ipython3",
   "version": "3.6.3"
  }
 },
 "nbformat": 4,
 "nbformat_minor": 2
}
